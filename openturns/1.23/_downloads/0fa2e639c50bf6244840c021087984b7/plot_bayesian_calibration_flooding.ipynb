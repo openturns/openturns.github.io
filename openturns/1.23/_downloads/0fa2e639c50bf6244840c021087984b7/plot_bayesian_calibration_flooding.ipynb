{
  "cells": [
    {
      "cell_type": "markdown",
      "metadata": {},
      "source": [
        "\n# Bayesian calibration of the flooding model\n"
      ]
    },
    {
      "cell_type": "markdown",
      "metadata": {},
      "source": [
        "## Abstract\n\nThe goal of this example is to present the Bayesian calibration of the\n`flooding model<use-case-flood-model>`.\nWe use the :class:`~openturns.RandomWalkMetropolisHastings` and\n:class:`~openturns.Gibbs` classes\nand simulate a sample of the posterior distribution using\n`metropolis_hastings`.\n\n"
      ]
    },
    {
      "cell_type": "markdown",
      "metadata": {},
      "source": [
        "## Parameters to calibrate\n\nThe vector of parameters to calibrate is:\n\n\\begin{align}\\vect{\\theta} = (K_s,Z_v,Z_m).\\end{align}\n\n\nThe variables to calibrate are $(K_s,Z_v,Z_m)$ and are set to the following values:\n\n\\begin{align}K_s = 30, \\qquad Z_v = 50, \\qquad Z_m = 55.\\end{align}\n\n\n## Observations\n\nIn this section, we describe the statistical model associated with the $n$ observations.\nThe errors of the water heights are associated with a gaussian distribution with a zero mean and a standard variation equal to:\n\n\\begin{align}\\sigma=0.1.\\end{align}\n\n\nTherefore, the observed water heights are:\n\n\\begin{align}H_i = G(Q_i,K_s,Z_v,Z_m) + \\epsilon_i\\end{align}\n\n\nfor $i=1,...,n$ where\n\n\\begin{align}\\epsilon \\sim \\mathcal{N}(0,\\sigma^2)\\end{align}\n\n\nand we make the hypothesis that the observation errors are independent.\nWe consider a sample size equal to:\n\n\\begin{align}n=20.\\end{align}\n\n\nThe observations are the couples $\\{(Q_i,H_i)\\}_{i=1,...,n}$,\ni.e. each observation is a couple made of the flowrate and the corresponding river height.\n\n## Variables\n\n- $Q$ : Input. Observed.\n- $K_s$, $Z_v$, $Z_m$ : Input. Calibrated.\n- $H$: Output. Observed.\n\n## Analysis\n\nIn the description of the `flooding model<use-case-flood-model>`, we see that only one parameter\ncan be identified.\nHence, calibrating this model requires some regularization.\nIn this example, we use Bayesian methods as a way to regularize the model.\n\n"
      ]
    },
    {
      "cell_type": "markdown",
      "metadata": {},
      "source": [
        "## Generate the observations\n\n"
      ]
    },
    {
      "cell_type": "code",
      "execution_count": null,
      "metadata": {
        "collapsed": false
      },
      "outputs": [],
      "source": [
        "import pylab as pl\nfrom openturns.usecases import flood_model\nimport openturns.viewer as viewer\nimport numpy as np\nimport openturns as ot\n\not.Log.Show(ot.Log.NONE)"
      ]
    },
    {
      "cell_type": "markdown",
      "metadata": {},
      "source": [
        "A basic implementation of the probabilistic model is available in the usecases module :\n\n"
      ]
    },
    {
      "cell_type": "code",
      "execution_count": null,
      "metadata": {
        "collapsed": false
      },
      "outputs": [],
      "source": [
        "fm = flood_model.FloodModel()"
      ]
    },
    {
      "cell_type": "markdown",
      "metadata": {},
      "source": [
        "We define the model $g$ which has 4 inputs and one output H.\n\nThe nonlinear least squares does not take into account for bounds in the parameters.\nTherefore, we ensure that the output is computed whatever the inputs.\nThe model fails into two situations:\n\n* if $K_s<0$,\n* if $Z_v-Z_m<0$.\n\nIn these cases, we return an infinite number.\n\n"
      ]
    },
    {
      "cell_type": "code",
      "execution_count": null,
      "metadata": {
        "collapsed": false
      },
      "outputs": [],
      "source": [
        "def functionFlooding(X):\n    L = 5.0e3\n    B = 300.0\n    Q, K_s, Z_v, Z_m = X\n    alpha = (Z_m - Z_v) / L\n    if alpha < 0.0 or K_s <= 0.0:\n        H = np.inf\n    else:\n        H = (Q / (K_s * B * np.sqrt(alpha))) ** (3.0 / 5.0)\n    return [H]"
      ]
    },
    {
      "cell_type": "code",
      "execution_count": null,
      "metadata": {
        "collapsed": false
      },
      "outputs": [],
      "source": [
        "g = ot.PythonFunction(4, 1, functionFlooding)\ng = ot.MemoizeFunction(g)\ng.setOutputDescription([\"H (m)\"])"
      ]
    },
    {
      "cell_type": "markdown",
      "metadata": {},
      "source": [
        "We load the input distribution for $Q$.\n\n"
      ]
    },
    {
      "cell_type": "code",
      "execution_count": null,
      "metadata": {
        "collapsed": false
      },
      "outputs": [],
      "source": [
        "Q = fm.Q"
      ]
    },
    {
      "cell_type": "markdown",
      "metadata": {},
      "source": [
        "Set the parameters to be calibrated.\n\n"
      ]
    },
    {
      "cell_type": "code",
      "execution_count": null,
      "metadata": {
        "collapsed": false
      },
      "outputs": [],
      "source": [
        "K_s = ot.Dirac(30.0)\nZ_v = ot.Dirac(50.0)\nZ_m = ot.Dirac(55.0)\nK_s.setDescription([\"Ks (m^(1/3)/s)\"])\nZ_v.setDescription([\"Zv (m)\"])\nZ_m.setDescription([\"Zm (m)\"])"
      ]
    },
    {
      "cell_type": "markdown",
      "metadata": {},
      "source": [
        "We create the joint input distribution.\n\n"
      ]
    },
    {
      "cell_type": "code",
      "execution_count": null,
      "metadata": {
        "collapsed": false
      },
      "outputs": [],
      "source": [
        "inputRandomVector = ot.JointDistribution([Q, K_s, Z_v, Z_m])"
      ]
    },
    {
      "cell_type": "markdown",
      "metadata": {},
      "source": [
        "Create a Monte-Carlo sample of the output $H$.\n\n"
      ]
    },
    {
      "cell_type": "code",
      "execution_count": null,
      "metadata": {
        "collapsed": false
      },
      "outputs": [],
      "source": [
        "nbobs = 20\ninputSample = inputRandomVector.getSample(nbobs)\noutputH = g(inputSample)"
      ]
    },
    {
      "cell_type": "markdown",
      "metadata": {},
      "source": [
        "Generate the observation noise and add it to the output of the model.\n\n"
      ]
    },
    {
      "cell_type": "code",
      "execution_count": null,
      "metadata": {
        "collapsed": false
      },
      "outputs": [],
      "source": [
        "sigmaObservationNoiseH = 0.1  # (m)\nnoiseH = ot.Normal(0.0, sigmaObservationNoiseH)\not.RandomGenerator.SetSeed(0)\nsampleNoiseH = noiseH.getSample(nbobs)\nHobs = outputH + sampleNoiseH"
      ]
    },
    {
      "cell_type": "markdown",
      "metadata": {},
      "source": [
        "Plot the Y observations versus the X observations.\n\n"
      ]
    },
    {
      "cell_type": "code",
      "execution_count": null,
      "metadata": {
        "collapsed": false
      },
      "outputs": [],
      "source": [
        "Qobs = inputSample[:, 0]"
      ]
    },
    {
      "cell_type": "code",
      "execution_count": null,
      "metadata": {
        "collapsed": false
      },
      "outputs": [],
      "source": [
        "graph = ot.Graph(\"Observations\", \"Q (m3/s)\", \"H (m)\", True)\ncloud = ot.Cloud(Qobs, Hobs)\ngraph.add(cloud)\nview = viewer.View(graph)"
      ]
    },
    {
      "cell_type": "markdown",
      "metadata": {},
      "source": [
        "## Setting the calibration parameters\n\n"
      ]
    },
    {
      "cell_type": "markdown",
      "metadata": {},
      "source": [
        "Define the parametric model $\\vect z = f_Q(\\vect\\theta)$ that associates each observation\n$Q$ and value of the parameters $\\vect \\theta = (K_s, Z_v, Z_m)$\nto the parameters of the distribution of the corresponding observation:\nhere $\\vect z=(\\mu, \\sigma)$ with $\\mu = G(Q, K_s, Z_v, Z_m)$\nand $\\sigma = 0.5$.\n\n"
      ]
    },
    {
      "cell_type": "code",
      "execution_count": null,
      "metadata": {
        "collapsed": false
      },
      "outputs": [],
      "source": [
        "def fullModelPy(X):\n    Q, K_s, Z_v, Z_m = X\n    mu = g(X)[0]\n    sigma = 0.5  # (m^2) The standard deviation of the observation error.\n    return [mu, sigma]\n\n\nfullModel = ot.PythonFunction(4, 2, fullModelPy)\nlinkFunction = ot.ParametricFunction(fullModel, [0], [np.nan])\nprint(linkFunction)"
      ]
    },
    {
      "cell_type": "markdown",
      "metadata": {},
      "source": [
        "Define the value of the reference values of the $\\vect\\theta$ parameter.\nIn the Bayesian framework, this is called the mean of the *prior* Gaussian distribution. In the data assimilation framework, this is called the *background*.\n\n"
      ]
    },
    {
      "cell_type": "code",
      "execution_count": null,
      "metadata": {
        "collapsed": false
      },
      "outputs": [],
      "source": [
        "KsInitial = 20.0\nZvInitial = 49.0\nZmInitial = 51.0\nparameterPriorMean = [KsInitial, ZvInitial, ZmInitial]\nparamDim = len(parameterPriorMean)"
      ]
    },
    {
      "cell_type": "markdown",
      "metadata": {},
      "source": [
        "Define the covariance matrix of the parameters $\\vect\\theta$ to calibrate.\n\n"
      ]
    },
    {
      "cell_type": "code",
      "execution_count": null,
      "metadata": {
        "collapsed": false
      },
      "outputs": [],
      "source": [
        "sigmaKs = 5.0\nsigmaZv = 1.0\nsigmaZm = 1.0"
      ]
    },
    {
      "cell_type": "code",
      "execution_count": null,
      "metadata": {
        "collapsed": false
      },
      "outputs": [],
      "source": [
        "parameterPriorCovariance = ot.CovarianceMatrix(paramDim)\nparameterPriorCovariance[0, 0] = sigmaKs**2\nparameterPriorCovariance[1, 1] = sigmaZv**2\nparameterPriorCovariance[2, 2] = sigmaZm**2"
      ]
    },
    {
      "cell_type": "markdown",
      "metadata": {},
      "source": [
        "Define the prior distribution $\\pi(\\vect\\theta)$ of the parameter $\\vect\\theta$\n\n"
      ]
    },
    {
      "cell_type": "code",
      "execution_count": null,
      "metadata": {
        "collapsed": false
      },
      "outputs": [],
      "source": [
        "prior = ot.Normal(parameterPriorMean, parameterPriorCovariance)\nprior.setDescription([\"Ks\", \"Zv\", \"Zm\"])"
      ]
    },
    {
      "cell_type": "markdown",
      "metadata": {},
      "source": [
        "Define the distribution of observations $\\vect{y} | \\vect{z}$ conditional on model predictions.\n\nNote that its parameter dimension is the one of $\\vect{z}$, so the model must be adjusted accordingly.\nIn other words, the input argument of the `setParameter` method of the conditional distribution must be equal to the dimension of the output of the `model`.\nHence, we do not have to set the actual parameters: only the type of distribution is used.\n\n"
      ]
    },
    {
      "cell_type": "code",
      "execution_count": null,
      "metadata": {
        "collapsed": false
      },
      "outputs": [],
      "source": [
        "conditional = ot.Normal()"
      ]
    },
    {
      "cell_type": "markdown",
      "metadata": {},
      "source": [
        "The proposed steps for $K_s$ $Z_v$ and $Z_m$\nwill all follow uniform distributions,\nbut with different supports.\n\n"
      ]
    },
    {
      "cell_type": "code",
      "execution_count": null,
      "metadata": {
        "collapsed": false
      },
      "outputs": [],
      "source": [
        "proposal = [ot.Uniform(-5.0, 5.0), ot.Uniform(-1.0, 1.0), ot.Uniform(-1.0, 1.0)]"
      ]
    },
    {
      "cell_type": "markdown",
      "metadata": {},
      "source": [
        "## Build a Gibbs sampler\n\n"
      ]
    },
    {
      "cell_type": "code",
      "execution_count": null,
      "metadata": {
        "collapsed": false
      },
      "outputs": [],
      "source": [
        "initialState = parameterPriorMean\nmh_coll = [\n    ot.RandomWalkMetropolisHastings(prior, initialState, proposal[i], [i])\n    for i in range(paramDim)\n]\nfor mh in mh_coll:\n    mh.setLikelihood(conditional, Hobs, linkFunction, Qobs)\nsampler = ot.Gibbs(mh_coll)"
      ]
    },
    {
      "cell_type": "markdown",
      "metadata": {},
      "source": [
        "Generate a sample from the posterior distribution of $\\vect \\theta$.\n\n"
      ]
    },
    {
      "cell_type": "code",
      "execution_count": null,
      "metadata": {
        "collapsed": false
      },
      "outputs": [],
      "source": [
        "sampleSize = 1000\nsample = sampler.getSample(sampleSize)"
      ]
    },
    {
      "cell_type": "markdown",
      "metadata": {},
      "source": [
        "Look at the acceptance rates of the random walk Metropolis-Hastings samplers.\n\n"
      ]
    },
    {
      "cell_type": "code",
      "execution_count": null,
      "metadata": {
        "collapsed": false
      },
      "outputs": [],
      "source": [
        "[mh.getAcceptanceRate() for mh in sampler.getMetropolisHastingsCollection()]"
      ]
    },
    {
      "cell_type": "markdown",
      "metadata": {},
      "source": [
        "Build the distribution of the posterior by kernel smoothing.\n\n"
      ]
    },
    {
      "cell_type": "code",
      "execution_count": null,
      "metadata": {
        "collapsed": false
      },
      "outputs": [],
      "source": [
        "kernel = ot.KernelSmoothing()\nposterior = kernel.build(sample)"
      ]
    },
    {
      "cell_type": "markdown",
      "metadata": {},
      "source": [
        "Display prior vs posterior for each parameter.\n\n"
      ]
    },
    {
      "cell_type": "code",
      "execution_count": null,
      "metadata": {
        "collapsed": false
      },
      "outputs": [],
      "source": [
        "def plot_bayesian_prior_vs_posterior_pdf(prior, posterior):\n    \"\"\"\n    Plot the prior and posterior distribution of a Bayesian calibration\n\n    Parameters\n    ----------\n    prior : ot.Distribution(dimension)\n        The prior.\n    posterior : ot.Distribution(dimension)\n        The posterior.\n\n    Return\n    ------\n    grid : ot.GridLayout(1, dimension)\n        The prior and posterior PDF for each marginal.\n    \"\"\"\n    palette = ot.Drawable.BuildDefaultPalette(2)\n    paramDim = prior.getDimension()\n    grid = ot.GridLayout(1, paramDim)\n    parameterNames = prior.getDescription()\n    for parameter_index in range(paramDim):\n        graph = ot.Graph(\"\", parameterNames[parameter_index], \"PDF\", True)\n        # Prior\n        curve = prior.getMarginal(parameter_index).drawPDF().getDrawable(0)\n        curve.setLineStyle(\n            ot.ResourceMap.GetAsString(\"CalibrationResult-PriorLineStyle\")\n        )\n        curve.setLegend(\"Prior\")\n        graph.add(curve)\n        # Posterior\n        curve = posterior.getMarginal(parameter_index).drawPDF().getDrawable(0)\n        curve.setLineStyle(\n            ot.ResourceMap.GetAsString(\"CalibrationResult-PosteriorLineStyle\")\n        )\n        curve.setLegend(\"Posterior\")\n        graph.add(curve)\n        #\n        if parameter_index < paramDim - 1:\n            graph.setLegends([\"\"])\n        if parameter_index > 0:\n            graph.setYTitle(\"\")\n        graph.setColors(palette)\n        graph.setLegendPosition(\"upper right\")\n        grid.setGraph(0, parameter_index, graph)\n    grid.setTitle(\"Bayesian calibration\")\n    return grid"
      ]
    },
    {
      "cell_type": "markdown",
      "metadata": {},
      "source": [
        "sphinx_gallery_thumbnail_number = 2\n\n"
      ]
    },
    {
      "cell_type": "code",
      "execution_count": null,
      "metadata": {
        "collapsed": false
      },
      "outputs": [],
      "source": [
        "grid = plot_bayesian_prior_vs_posterior_pdf(prior, posterior)\nviewer.View(\n    grid,\n    figure_kw={\"figsize\": (8.0, 3.0)},\n    legend_kw={\"bbox_to_anchor\": (1.0, 1.0), \"loc\": \"upper left\"},\n)\npl.subplots_adjust(right=0.8, bottom=0.2, wspace=0.3)"
      ]
    }
  ],
  "metadata": {
    "kernelspec": {
      "display_name": "Python 3",
      "language": "python",
      "name": "python3"
    },
    "language_info": {
      "codemirror_mode": {
        "name": "ipython",
        "version": 3
      },
      "file_extension": ".py",
      "mimetype": "text/x-python",
      "name": "python",
      "nbconvert_exporter": "python",
      "pygments_lexer": "ipython3",
      "version": "3.12.3"
    }
  },
  "nbformat": 4,
  "nbformat_minor": 0
}