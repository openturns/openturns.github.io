{
  "cells": [
    {
      "cell_type": "markdown",
      "metadata": {},
      "source": [
        "\n# Create a process sample from a sample\n"
      ]
    },
    {
      "cell_type": "code",
      "execution_count": null,
      "metadata": {
        "collapsed": false
      },
      "outputs": [],
      "source": [
        "# sphinx_gallery_thumbnail_number = 3"
      ]
    },
    {
      "cell_type": "markdown",
      "metadata": {},
      "source": [
        "In this example, a :class:`~openturns.ProcessSample` is created from data.\nThe purpose is to illustrate how to create a :class:`~openturns.ProcessSample` from an already available sample of a field.\nIn addition, the computation of statistics of the process sample is presented.\nThe :class:`~openturns.ProcessSample` is defined over a :class:`~openturns.Mesh`.\n\nFor this example, the realizations of a stochastic process are obtained using the Chaboche model.\nA detailed explanation of this mechanical law is presented `here <use-case-chaboche>`.\nIn this example, the model is defined such that:\n$\\sigma=g(\\vect{X},\\epsilon)$\nwith $\\vect{X}=[R,C,\\gamma]^T$ a vector of random variables and\n\n- the strain $\\epsilon\\in[0.,0.07]$\n- the stress $\\sigma$\n\n\n"
      ]
    },
    {
      "cell_type": "code",
      "execution_count": null,
      "metadata": {
        "collapsed": false
      },
      "outputs": [],
      "source": [
        "import openturns as ot\nimport openturns.viewer as viewer\nfrom openturns.usecases import chaboche_model\n\not.Log.Show(ot.Log.NONE)"
      ]
    },
    {
      "cell_type": "markdown",
      "metadata": {},
      "source": [
        "## Define the model and the mesh\n\n"
      ]
    },
    {
      "cell_type": "markdown",
      "metadata": {},
      "source": [
        "First, the Chaboche model is loaded.\n\n"
      ]
    },
    {
      "cell_type": "code",
      "execution_count": null,
      "metadata": {
        "collapsed": false
      },
      "outputs": [],
      "source": [
        "cm = chaboche_model.ChabocheModel()"
      ]
    },
    {
      "cell_type": "markdown",
      "metadata": {},
      "source": [
        "Then, a mesh using a :class:`~openturns.RegularGrid` is defined for the strain $\\epsilon\\in[0.,0.07]$ with $N=100$ vertices.\n\n"
      ]
    },
    {
      "cell_type": "code",
      "execution_count": null,
      "metadata": {
        "collapsed": false
      },
      "outputs": [],
      "source": [
        "N = 100\nmesh = ot.RegularGrid(cm.strainMin, (cm.strainMax - cm.strainMin) / N, N)\nvertices = mesh.getVertices()"
      ]
    },
    {
      "cell_type": "markdown",
      "metadata": {},
      "source": [
        "## Generate one sample of the field\n\n"
      ]
    },
    {
      "cell_type": "markdown",
      "metadata": {},
      "source": [
        "One sample of the field is obtained by evaluating the Chaboche model on the mesh vertices\nfor one specific realization of the input vector $\\vect{X}_0=[700\\times 10^6,2500\\times 10^6,8.]^T$.\n\n"
      ]
    },
    {
      "cell_type": "code",
      "execution_count": null,
      "metadata": {
        "collapsed": false
      },
      "outputs": [],
      "source": [
        "R = 700e6\nC = 2500e6\ngamma = 8.0\nX0 = [R, C, gamma]\nX_indices = [1, 2, 3]\nf = ot.ParametricFunction(cm.model, X_indices, X0)\nY = f(vertices)"
      ]
    },
    {
      "cell_type": "markdown",
      "metadata": {},
      "source": [
        "Let's visualize this sample of the field.\n\n"
      ]
    },
    {
      "cell_type": "code",
      "execution_count": null,
      "metadata": {
        "collapsed": false
      },
      "outputs": [],
      "source": [
        "graph = ot.Graph(\n    \"One realization of the stochastic process\", \"Strain\", \"Stress (Pa)\", True, \"\"\n)\ncurve = ot.Curve(vertices, Y)\ngraph.add(curve)\nview = viewer.View(graph)"
      ]
    },
    {
      "cell_type": "markdown",
      "metadata": {},
      "source": [
        "The distribution of the input vector $\\vect{X}$ is defined.\n\n"
      ]
    },
    {
      "cell_type": "code",
      "execution_count": null,
      "metadata": {
        "collapsed": false
      },
      "outputs": [],
      "source": [
        "X_distribution = ot.JointDistribution([cm.R, cm.C, cm.Gamma])"
      ]
    },
    {
      "cell_type": "markdown",
      "metadata": {},
      "source": [
        "## Generate different samples of the field\n\n"
      ]
    },
    {
      "cell_type": "markdown",
      "metadata": {},
      "source": [
        "50 samples of the input vector $\\vect{X}$ are generated.\n\n"
      ]
    },
    {
      "cell_type": "code",
      "execution_count": null,
      "metadata": {
        "collapsed": false
      },
      "outputs": [],
      "source": [
        "n_samples = 50\nX_samples = X_distribution.getSample(n_samples)"
      ]
    },
    {
      "cell_type": "markdown",
      "metadata": {},
      "source": [
        "The Chaboche model is evaluated for each of the input vector samples.\n\n"
      ]
    },
    {
      "cell_type": "code",
      "execution_count": null,
      "metadata": {
        "collapsed": false
      },
      "outputs": [],
      "source": [
        "Y_list = []\nfor i in range(n_samples):\n    f = ot.ParametricFunction(cm.model, X_indices, X_samples[i, :])\n    Y = f(vertices)\n    Y_list.append(Y)"
      ]
    },
    {
      "cell_type": "markdown",
      "metadata": {},
      "source": [
        "Let's visualize the 50 resulting samples of the field.\n\n"
      ]
    },
    {
      "cell_type": "code",
      "execution_count": null,
      "metadata": {
        "collapsed": false
      },
      "outputs": [],
      "source": [
        "graph = ot.Graph(\n    \"Realizations of the stochastic process\", \"Strain\", \"Stress (Pa)\", True, \"\"\n)\nfor i in range(n_samples):\n    curve = ot.Curve(vertices, Y_list[i])\n    curve.setColor(\"blue\")\n    graph.add(curve)\nview = viewer.View(graph)"
      ]
    },
    {
      "cell_type": "markdown",
      "metadata": {},
      "source": [
        "## Creation of the process sample\n\n"
      ]
    },
    {
      "cell_type": "markdown",
      "metadata": {},
      "source": [
        "It is possible to create a :class:`~openturns.ProcessSample` from the obtained field samples.\nFor that, each obtained sample is added to the :class:`~openturns.ProcessSample` using the :class:`~openturns.Field` structure.\nWhen the :class:`~openturns.ProcessSample` is created, by default a process sample with a value of 0.\nfor all the vertices is stored so it is important to remove it.\n\n"
      ]
    },
    {
      "cell_type": "code",
      "execution_count": null,
      "metadata": {
        "collapsed": false
      },
      "outputs": [],
      "source": [
        "process_sample = ot.ProcessSample(mesh, n_samples, 1)\nprocess_sample.clear()\nfor i in range(n_samples):\n    process_sample.add(ot.Field(mesh, Y_list[i]))"
      ]
    },
    {
      "cell_type": "markdown",
      "metadata": {},
      "source": [
        "It is then possible to compute different statistics on the :class:`~openturns.ProcessSample` such as the mean, median, variance, ...\n\n"
      ]
    },
    {
      "cell_type": "code",
      "execution_count": null,
      "metadata": {
        "collapsed": false
      },
      "outputs": [],
      "source": [
        "process_sample_mean = process_sample.computeMean()\nprocess_sample_median = process_sample.computeMedian()\nprocess_sample_variance = process_sample.computeVariance()"
      ]
    },
    {
      "cell_type": "markdown",
      "metadata": {},
      "source": [
        "Let's visualize the mean of the process sample.\n\n"
      ]
    },
    {
      "cell_type": "code",
      "execution_count": null,
      "metadata": {
        "collapsed": false
      },
      "outputs": [],
      "source": [
        "graph = ot.Graph(\n    \"Sample process mean and realizations\", \"Strain\", \"Stress (Pa)\", True, \"\"\n)\nfor i in range(n_samples):\n    if i == 0:\n        label = \"process samples\"\n    else:\n        label = \"\"\n    curve = ot.Curve(vertices, Y_list[i], label)\n    curve.setColor(\"blue\")\n    graph.add(curve)\n\ncurve = ot.Curve(vertices, process_sample_mean, \"process sample mean\")\ncurve.setColor(\"red\")\ngraph.add(curve)\ngraph.setLegendPosition(\"topleft\")\nview = viewer.View(graph)"
      ]
    },
    {
      "cell_type": "markdown",
      "metadata": {},
      "source": [
        "Display all figures\n\n"
      ]
    },
    {
      "cell_type": "code",
      "execution_count": null,
      "metadata": {
        "collapsed": false
      },
      "outputs": [],
      "source": [
        "viewer.View.ShowAll()"
      ]
    }
  ],
  "metadata": {
    "kernelspec": {
      "display_name": "Python 3",
      "language": "python",
      "name": "python3"
    },
    "language_info": {
      "codemirror_mode": {
        "name": "ipython",
        "version": 3
      },
      "file_extension": ".py",
      "mimetype": "text/x-python",
      "name": "python",
      "nbconvert_exporter": "python",
      "pygments_lexer": "ipython3",
      "version": "3.12.7"
    }
  },
  "nbformat": 4,
  "nbformat_minor": 0
}