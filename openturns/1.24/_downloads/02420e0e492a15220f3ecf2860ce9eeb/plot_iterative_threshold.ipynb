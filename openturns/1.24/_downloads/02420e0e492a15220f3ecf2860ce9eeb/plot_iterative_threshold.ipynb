{
  "cells": [
    {
      "cell_type": "markdown",
      "metadata": {},
      "source": [
        "\n# Estimate threshold exceedance iteratively\n"
      ]
    },
    {
      "cell_type": "markdown",
      "metadata": {},
      "source": [
        "In this example, we use the :class:`~openturns.IterativeThresholdExceedance`\nclass to count the number of threshold exceedances.\n\n"
      ]
    },
    {
      "cell_type": "code",
      "execution_count": null,
      "metadata": {
        "collapsed": false
      },
      "outputs": [],
      "source": [
        "import openturns as ot\nimport openturns.viewer as otv"
      ]
    },
    {
      "cell_type": "markdown",
      "metadata": {},
      "source": [
        "We first create a one-dimensional Gaussian random variable to generate data.\n\n"
      ]
    },
    {
      "cell_type": "code",
      "execution_count": null,
      "metadata": {
        "collapsed": false
      },
      "outputs": [],
      "source": [
        "dim = 1\ndistNormal = ot.Normal(dim)"
      ]
    },
    {
      "cell_type": "markdown",
      "metadata": {},
      "source": [
        "Let us consider a threshold value of 1.0. Each data value higher than 1.0 is\ncounted as one exceedance. The counter used by the\n:class:`~openturns.IterativeThresholdExceedance` class is updated iteratively.\n\n"
      ]
    },
    {
      "cell_type": "code",
      "execution_count": null,
      "metadata": {
        "collapsed": false
      },
      "outputs": [],
      "source": [
        "threshold = 1.0\nalgo = ot.IterativeThresholdExceedance(dim, ot.Greater(), threshold)"
      ]
    },
    {
      "cell_type": "markdown",
      "metadata": {},
      "source": [
        "A simple computation shows that the probability of the data being higher than $1$ is $0.1587$ (with 4 significant digits).\n\n"
      ]
    },
    {
      "cell_type": "code",
      "execution_count": null,
      "metadata": {
        "collapsed": false
      },
      "outputs": [],
      "source": [
        "distribution = ot.Normal()\nexactProbability = distribution.computeComplementaryCDF(threshold)\nprint(\"Exact probability: \", exactProbability)"
      ]
    },
    {
      "cell_type": "markdown",
      "metadata": {},
      "source": [
        "We can now perform the simulations.\nIn our case most of the data fall below the specified threshold value so\nthe number of exceedances should be low.\n\n"
      ]
    },
    {
      "cell_type": "markdown",
      "metadata": {},
      "source": [
        "We first increment the object one :class:`~openturns.Point` at a time.\nAt any given step the current number of exceedance is obtained with\nthe :meth:`~openturns.IterativeThresholdExceedance.getThresholdExceedance()` method.\n\n"
      ]
    },
    {
      "cell_type": "code",
      "execution_count": null,
      "metadata": {
        "collapsed": false
      },
      "outputs": [],
      "source": [
        "size = 5000\nexceedanceNumbers = ot.Sample()\nprobabilityEstimateSample = ot.Sample()\nfor i in range(size):\n    point = distNormal.getRealization()\n    algo.increment(point)\n    numberOfExceedances = algo.getThresholdExceedance()[0]\n    exceedanceNumbers.add([numberOfExceedances])\n    probabilityEstimate = numberOfExceedances / algo.getIterationNumber()\n    probabilityEstimateSample.add([probabilityEstimate])"
      ]
    },
    {
      "cell_type": "markdown",
      "metadata": {},
      "source": [
        "We display the evolution of the number of exceedances.\n\n"
      ]
    },
    {
      "cell_type": "code",
      "execution_count": null,
      "metadata": {
        "collapsed": false
      },
      "outputs": [],
      "source": [
        "curve = ot.Curve(exceedanceNumbers)\ncurve.setLegend(\"number of exceedance\")\n#\ngraph = ot.Graph(\n    \"Evolution of the number of exceedances\",\n    \"iteration nb\",\n    \"number of exceedances\",\n    True,\n)\ngraph.add(curve)\ngraph.setLegends([\"number of exceedances\"])\ngraph.setLegendPosition(\"lower right\")\nview = otv.View(graph)"
      ]
    },
    {
      "cell_type": "markdown",
      "metadata": {},
      "source": [
        "The following plot shows that the probability of exceeding the threshold converges.\n\n"
      ]
    },
    {
      "cell_type": "code",
      "execution_count": null,
      "metadata": {
        "collapsed": false
      },
      "outputs": [],
      "source": [
        "iterationSample = ot.Sample.BuildFromPoint(range(1, size + 1))\ncurve = ot.Curve(iterationSample, probabilityEstimateSample)\ncurve.setLegend(\"Prob. of exceeding the threshold\")\n#\nexactCurve = ot.Curve([1, size], [exactProbability, exactProbability])\nexactCurve.setLegend(\"Exact\")\n#\ngraph = ot.Graph(\n    \"Evolution of the sample probability\",\n    \"iteration nb\",\n    \"estimate of the probability\",\n    True,\n)\ngraph.add(curve)\ngraph.add(exactCurve)\ngraph.setLegendPosition(\"upper left\")\ngraph.setLogScale(ot.GraphImplementation.LOGX)\nview = otv.View(graph)"
      ]
    },
    {
      "cell_type": "markdown",
      "metadata": {},
      "source": [
        "We can also increment with a :class:`~openturns.Sample`.\n\n"
      ]
    },
    {
      "cell_type": "code",
      "execution_count": null,
      "metadata": {
        "collapsed": false
      },
      "outputs": [],
      "source": [
        "sample = distNormal.getSample(size)\nalgo.increment(sample)\nnumberOfExceedances = algo.getThresholdExceedance()[0]\nprint(\"Number of exceedance: \", numberOfExceedances)\n\n# The empirical probability is close to the exact value.\nnumberOfExceedances = algo.getThresholdExceedance()[0]\nprobabilityEstimate = numberOfExceedances / algo.getIterationNumber()\nprint(\"Empirical exceedance prb: \", probabilityEstimate)\n\notv.View.ShowAll()"
      ]
    }
  ],
  "metadata": {
    "kernelspec": {
      "display_name": "Python 3",
      "language": "python",
      "name": "python3"
    },
    "language_info": {
      "codemirror_mode": {
        "name": "ipython",
        "version": 3
      },
      "file_extension": ".py",
      "mimetype": "text/x-python",
      "name": "python",
      "nbconvert_exporter": "python",
      "pygments_lexer": "ipython3",
      "version": "3.12.7"
    }
  },
  "nbformat": 4,
  "nbformat_minor": 0
}