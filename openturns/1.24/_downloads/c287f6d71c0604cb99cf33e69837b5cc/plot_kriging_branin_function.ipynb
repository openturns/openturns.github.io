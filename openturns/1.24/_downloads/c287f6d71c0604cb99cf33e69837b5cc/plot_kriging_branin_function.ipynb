{
  "cells": [
    {
      "cell_type": "markdown",
      "metadata": {},
      "source": [
        "\n# Kriging: metamodel of the Branin-Hoo function\n"
      ]
    },
    {
      "cell_type": "markdown",
      "metadata": {},
      "source": [
        "As a popular use case in optimization we briefly present the construction of a metamodel\nof the Branin (also referred to as Branin-Hoo) function.\n\n\n"
      ]
    },
    {
      "cell_type": "code",
      "execution_count": null,
      "metadata": {
        "collapsed": false
      },
      "outputs": [],
      "source": [
        "from numpy import sqrt\nimport openturns as ot\nimport openturns.viewer as otv\nfrom openturns.usecases import branin_function\nfrom matplotlib import pylab as plt"
      ]
    },
    {
      "cell_type": "markdown",
      "metadata": {},
      "source": [
        "We load the Branin-Hoo model from the usecases module and use the model (stored in `objectiveFunction`)\n\n"
      ]
    },
    {
      "cell_type": "code",
      "execution_count": null,
      "metadata": {
        "collapsed": false
      },
      "outputs": [],
      "source": [
        "bm = branin_function.BraninModel()\nmodel = bm.objectiveFunction"
      ]
    },
    {
      "cell_type": "markdown",
      "metadata": {},
      "source": [
        "We shall represent this 2-d function with isolines. We set the number of isolines to a maximum of 10\nthanks to the following `ResourceMap` key :\n\n"
      ]
    },
    {
      "cell_type": "code",
      "execution_count": null,
      "metadata": {
        "collapsed": false
      },
      "outputs": [],
      "source": [
        "ot.ResourceMap.SetAsUnsignedInteger(\"Contour-DefaultLevelsNumber\", 10)\ngraphBasic = model.draw([0.0, 0.0], [1.0, 1.0], [100] * 2)\nview = otv.View(graphBasic)"
      ]
    },
    {
      "cell_type": "markdown",
      "metadata": {},
      "source": [
        "We get the values of all isolines :\n\n"
      ]
    },
    {
      "cell_type": "code",
      "execution_count": null,
      "metadata": {
        "collapsed": false
      },
      "outputs": [],
      "source": [
        "levels = graphBasic.getDrawables()[0].getLevels()\n\n# # %%\n# # We now build fancy isolines :\n\n# # Build a range of colors\n# ot.ResourceMap.SetAsUnsignedInteger(\"Drawable-DefaultPalettePhase\", len(levels))\n# palette = ot.Drawable.BuildDefaultPalette(len(levels))\n\ngraphFineTune = ot.Graph(\"The exact Branin model\", r\"$x_1$\", r\"$x_2$\", True, \"\")\ngraphFineTune.setDrawables([graphBasic.getDrawable(0)])\n# graphFineTune.setLegendPosition(\"\")  # Remove the legend"
      ]
    },
    {
      "cell_type": "markdown",
      "metadata": {},
      "source": [
        "We also represent the three minima of the Branin function with orange diamonds :\n\n"
      ]
    },
    {
      "cell_type": "code",
      "execution_count": null,
      "metadata": {
        "collapsed": false
      },
      "outputs": [],
      "source": [
        "sample1 = ot.Sample([bm.xexact1, bm.xexact2, bm.xexact3])\ncloud1 = ot.Cloud(sample1, \"orange\", \"diamond\", \"First Cloud\")\ngraphFineTune.add(cloud1)\n# Draw the graph with the palette assigned to the contour\nview = otv.View(graphFineTune)\n\n#\n# The values of the exact model at these points are :\nprint(bm.objectiveFunction(sample1))"
      ]
    },
    {
      "cell_type": "markdown",
      "metadata": {},
      "source": [
        "The Branin function has a global minimum attained at three different points. We shall build a\nmetamodel of this function that presents the same behaviour.\n\n"
      ]
    },
    {
      "cell_type": "markdown",
      "metadata": {},
      "source": [
        "## Definition of the Kriging metamodel\n\nWe use the :class:`~openturns.KrigingAlgorithm` class to perform the Kriging analysis.\nWe first generate a design of experiments with LHS and store the input training points in `xdata`\n\n"
      ]
    },
    {
      "cell_type": "code",
      "execution_count": null,
      "metadata": {
        "collapsed": false
      },
      "outputs": [],
      "source": [
        "experiment = ot.LHSExperiment(\n    ot.JointDistribution([ot.Uniform(0.0, 1.0), ot.Uniform(0.0, 1.0)]),\n    28,\n    False,\n    True,\n)\nxdata = experiment.generate()"
      ]
    },
    {
      "cell_type": "markdown",
      "metadata": {},
      "source": [
        "We also get the output training values :\n\n"
      ]
    },
    {
      "cell_type": "code",
      "execution_count": null,
      "metadata": {
        "collapsed": false
      },
      "outputs": [],
      "source": [
        "ydata = bm.objectiveFunction(xdata)"
      ]
    },
    {
      "cell_type": "markdown",
      "metadata": {},
      "source": [
        "This use case is defined in dimension 2 and we use a constant basis for the trend estimation :\n\n"
      ]
    },
    {
      "cell_type": "code",
      "execution_count": null,
      "metadata": {
        "collapsed": false
      },
      "outputs": [],
      "source": [
        "dimension = bm.dim\nbasis = ot.ConstantBasisFactory(dimension).build()"
      ]
    },
    {
      "cell_type": "markdown",
      "metadata": {},
      "source": [
        "We choose a squared exponential covariance model in dimension 2 :\n\n"
      ]
    },
    {
      "cell_type": "code",
      "execution_count": null,
      "metadata": {
        "collapsed": false
      },
      "outputs": [],
      "source": [
        "covarianceModel = ot.SquaredExponential([0.1] * dimension, [1.0])"
      ]
    },
    {
      "cell_type": "markdown",
      "metadata": {},
      "source": [
        "We have all the components to build a Kriging algorithm and run it :\n\n"
      ]
    },
    {
      "cell_type": "code",
      "execution_count": null,
      "metadata": {
        "collapsed": false
      },
      "outputs": [],
      "source": [
        "algo = ot.KrigingAlgorithm(xdata, ydata, covarianceModel, basis)\nalgo.run()"
      ]
    },
    {
      "cell_type": "markdown",
      "metadata": {},
      "source": [
        "We get the result of the Kriging analysis with :\n\n"
      ]
    },
    {
      "cell_type": "code",
      "execution_count": null,
      "metadata": {
        "collapsed": false
      },
      "outputs": [],
      "source": [
        "result = algo.getResult()"
      ]
    },
    {
      "cell_type": "markdown",
      "metadata": {},
      "source": [
        "## Metamodel visualization\n\nWe draw the Kriging metamodel of the Branin function. It is the mean of the random process.\n\n"
      ]
    },
    {
      "cell_type": "code",
      "execution_count": null,
      "metadata": {
        "collapsed": false
      },
      "outputs": [],
      "source": [
        "metamodel = result.getMetaModel()\n\n\ngraphBasic = metamodel.draw([0.0, 0.0], [1.0, 1.0], [100] * 2)\n# Take the first drawable as the only contour with multiple levels\ncontours = graphBasic.getDrawable(0).getImplementation()\ncontours.setColorBarPosition(\"\")  # Hide the color bar\ncontours.setDrawLabels(True)  # Draw the labels\nlevels = contours.getLevels()\n\n# Build a range of colors\not.ResourceMap.SetAsUnsignedInteger(\"Drawable-DefaultPalettePhase\", len(levels))\npalette = ot.Drawable.BuildDefaultPalette(len(levels))\n\ngraphFineTune = ot.Graph(\"Branin metamodel (mean)\", r\"$x_1$\", r\"$x_2$\", True, \"\")\ngraphFineTune.setDrawables([contours])\ngraphFineTune.setLegendPosition(\"\")"
      ]
    },
    {
      "cell_type": "markdown",
      "metadata": {},
      "source": [
        "We also represent the location of the minima of the Branin function :\n\n"
      ]
    },
    {
      "cell_type": "code",
      "execution_count": null,
      "metadata": {
        "collapsed": false
      },
      "outputs": [],
      "source": [
        "sample1 = ot.Sample([bm.xexact1, bm.xexact2, bm.xexact3])\ncloud1 = ot.Cloud(sample1, \"orange\", \"diamond\", \"First Cloud\")\ngraphFineTune.add(cloud1)\nview = otv.View(graphFineTune)"
      ]
    },
    {
      "cell_type": "markdown",
      "metadata": {},
      "source": [
        "We evaluate the metamodel at the minima locations :\n\n"
      ]
    },
    {
      "cell_type": "code",
      "execution_count": null,
      "metadata": {
        "collapsed": false
      },
      "outputs": [],
      "source": [
        "print(metamodel(sample1))"
      ]
    },
    {
      "cell_type": "markdown",
      "metadata": {},
      "source": [
        "Graphically, both the metamodel and the exact function look the same. The metamodel also has three\nbasins around the minima and the value of the metamodel at each minimum location is comparable to\nthe exact value of -0.979476. We have roughly two correct digits for each isoline.\n\n"
      ]
    },
    {
      "cell_type": "markdown",
      "metadata": {},
      "source": [
        "## Standard deviation\n\nWe finally take a look at the standard deviation in the $[0,1] \\times [0,1]$ domain. It may be\nseen as a measure of the error of the metamodel.\n\n"
      ]
    },
    {
      "cell_type": "markdown",
      "metadata": {},
      "source": [
        "We discretize the domain with 22 points (`N` inside points and 2 endpoints) :\n\n"
      ]
    },
    {
      "cell_type": "code",
      "execution_count": null,
      "metadata": {
        "collapsed": false
      },
      "outputs": [],
      "source": [
        "N = 20\ninputData = ot.Box([N, N]).generate()"
      ]
    },
    {
      "cell_type": "markdown",
      "metadata": {},
      "source": [
        "We compute the conditional variance of the model and take the square root to get the deviation :\n\n"
      ]
    },
    {
      "cell_type": "code",
      "execution_count": null,
      "metadata": {
        "collapsed": false
      },
      "outputs": [],
      "source": [
        "condCov = result.getConditionalMarginalVariance(inputData, 0)\ncondCovSd = sqrt(condCov)"
      ]
    },
    {
      "cell_type": "markdown",
      "metadata": {},
      "source": [
        "As we have previously done we build contours with the following levels ans labels :\n\n"
      ]
    },
    {
      "cell_type": "code",
      "execution_count": null,
      "metadata": {
        "collapsed": false
      },
      "outputs": [],
      "source": [
        "levels = [0.01, 0.025, 0.050, 0.075, 0.1, 0.125, 0.150, 0.175]\ncontour = ot.Contour(N + 2, N + 2, condCovSd)\ncontour.setLevels(levels)\ngraphFineTune = ot.Graph(\"Standard deviation\", r\"$x_1$\", r\"$x_2$\", True, \"\")\ngraphFineTune.setDrawables([contour])\ngraphFineTune.setLegendPosition(\"\")"
      ]
    },
    {
      "cell_type": "markdown",
      "metadata": {},
      "source": [
        "We superimpose the training sample :\n\n"
      ]
    },
    {
      "cell_type": "code",
      "execution_count": null,
      "metadata": {
        "collapsed": false
      },
      "outputs": [],
      "source": [
        "cloud = ot.Cloud(xdata)\ncloud.setPointStyle(\"fcircle\")\ncloud.setColor(\"red\")\ngraphFineTune.add(cloud)\nview = otv.View(graphFineTune)"
      ]
    },
    {
      "cell_type": "markdown",
      "metadata": {},
      "source": [
        "We observe that the standard deviation is small in the center of the domain where we have enough\ndata to learn the model.\nWe can print the value of the variance at the first 5 training points (they all behave similarly) :\n\n"
      ]
    },
    {
      "cell_type": "code",
      "execution_count": null,
      "metadata": {
        "collapsed": false
      },
      "outputs": [],
      "source": [
        "print(result.getConditionalMarginalVariance(xdata, 0)[0:5])"
      ]
    },
    {
      "cell_type": "markdown",
      "metadata": {},
      "source": [
        "These values are nearly zero which is expected as the Kriging interpolates data. The value being\nknown it is not random anymore and the variance ought to be zero.\n\n"
      ]
    },
    {
      "cell_type": "markdown",
      "metadata": {},
      "source": [
        "Display all figures\n\n"
      ]
    },
    {
      "cell_type": "code",
      "execution_count": null,
      "metadata": {
        "collapsed": false
      },
      "outputs": [],
      "source": [
        "plt.show()"
      ]
    },
    {
      "cell_type": "markdown",
      "metadata": {},
      "source": [
        "Reset default settings\n\n"
      ]
    },
    {
      "cell_type": "code",
      "execution_count": null,
      "metadata": {
        "collapsed": false
      },
      "outputs": [],
      "source": [
        "ot.ResourceMap.Reload()"
      ]
    }
  ],
  "metadata": {
    "kernelspec": {
      "display_name": "Python 3",
      "language": "python",
      "name": "python3"
    },
    "language_info": {
      "codemirror_mode": {
        "name": "ipython",
        "version": 3
      },
      "file_extension": ".py",
      "mimetype": "text/x-python",
      "name": "python",
      "nbconvert_exporter": "python",
      "pygments_lexer": "ipython3",
      "version": "3.12.7"
    }
  },
  "nbformat": 4,
  "nbformat_minor": 0
}