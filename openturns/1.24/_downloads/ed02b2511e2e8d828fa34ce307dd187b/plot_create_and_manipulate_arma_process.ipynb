{
  "cells": [
    {
      "cell_type": "markdown",
      "metadata": {},
      "source": [
        "\n# Create and manipulate an ARMA process\n"
      ]
    },
    {
      "cell_type": "markdown",
      "metadata": {},
      "source": [
        "In this example we first create an ARMA process and then manipulate it.\n\n\n"
      ]
    },
    {
      "cell_type": "code",
      "execution_count": null,
      "metadata": {
        "collapsed": false
      },
      "outputs": [],
      "source": [
        "import openturns as ot\nimport openturns.viewer as viewer\nfrom matplotlib import pylab as plt\n\not.Log.Show(ot.Log.NONE)"
      ]
    },
    {
      "cell_type": "markdown",
      "metadata": {},
      "source": [
        "## Create an ARMA process\n\nIn this example we are going to build an ARMA process defined by its linear recurrence coefficients.\n\nThe creation of an ARMA model requires the data of the AR and MA\ncoefficients which are:\n\n-  a list of scalars in the unidmensional case :\n   $(a_1, \\dots, a_p)$ for the AR-coefficients and\n   $(b_1, \\dots, b_q)$ for the MA-coefficients\n\n-  a list of square matrix\n   $(\\mat{A}_{\\, 1}, \\dots, \\mat{A}{\\, _p})$ for the\n   AR-coefficients and\n   $(\\mat{B}_{\\, 1}\\, \\dots, \\mat{B}_{\\, q})$ for the\n   MA-coefficients\n\nIt also requires the definition of a white noise\n$\\vect{\\varepsilon}$ that contains the same time grid as the\none of the process.\nThe current state of an ARMA model is characterized by its last\n$p$ values and the last $q$ values of its white noise. It\nis possible to get that state thanks to the methods `getState`.\nIt is possible to create an ARMA with a specific current state. That\nspecific current state is taken into account to generate possible\nfutures but not to generate realizations (in order to respect the\nstationarity property of the model).\nAt the creation step, we check whether the process\n$ARMA(p,q)$ is stationnary.\nWhen the process is not stationary, the user is warned by a message.\n\n"
      ]
    },
    {
      "cell_type": "markdown",
      "metadata": {},
      "source": [
        "We build the 1-d ARMA process defined by:\n\n\\begin{align}X_{0,t} + 0.4 X_{0,t-1} + 0.3 X_{0,t-2} + 0.2 X_{0,t-3} + 0.1 X_{0,t-4} = E_{0,t} + 0.4 E_{0,t-1} + 0.3 E_{0,t-2}\\end{align}\n\nwhere the white noise $E_t$ is defined by $E_t \\approx \\mathrm{Triangular}(a = -1, m = 0, b = 1)$.\n\n\n"
      ]
    },
    {
      "cell_type": "markdown",
      "metadata": {},
      "source": [
        "The definition of the recurrence coefficients ARMA (4,2) is simple:\n\n"
      ]
    },
    {
      "cell_type": "code",
      "execution_count": null,
      "metadata": {
        "collapsed": false
      },
      "outputs": [],
      "source": [
        "myARCoef = ot.ARMACoefficients([0.4, 0.3, 0.2, 0.1])\nmyMACoef = ot.ARMACoefficients([0.4, 0.3])"
      ]
    },
    {
      "cell_type": "markdown",
      "metadata": {},
      "source": [
        "We build a regular time discretization of the interval [0,1] with 10 time steps.\nWe also set up the white noise distribution of the recurrence relation :\n\n"
      ]
    },
    {
      "cell_type": "code",
      "execution_count": null,
      "metadata": {
        "collapsed": false
      },
      "outputs": [],
      "source": [
        "myTimeGrid = ot.RegularGrid(0.0, 0.1, 10)\nmyWhiteNoise = ot.WhiteNoise(ot.Triangular(-1.0, 0.0, 1.0), myTimeGrid)"
      ]
    },
    {
      "cell_type": "markdown",
      "metadata": {},
      "source": [
        "We are now ready to create the ARMA-process :\n\n"
      ]
    },
    {
      "cell_type": "code",
      "execution_count": null,
      "metadata": {
        "collapsed": false
      },
      "outputs": [],
      "source": [
        "process = ot.ARMA(myARCoef, myMACoef, myWhiteNoise)\nprint(process)"
      ]
    },
    {
      "cell_type": "markdown",
      "metadata": {},
      "source": [
        "## ARMA process manipulation\n\nIn this paragraph we shall expose some of the services exposed by an $ARMA(p,q)$ object, namely :\n\n-  its AR and MA coefficients thanks to the methods `getARCoefficients`,\n   `getMACoefficients`,\n\n-  its white noise thanks to the method `getWhiteNoise`, that contains\n   the time grid of the process,\n\n-  its current state, that is its last $p$ values and the last\n   $q$ values of its white noise, thanks to the method `getState`,\n\n-  a realization thanks to the method `getRealization` or a sample of realizations thanks to the method `getSample`,\n\n-  a possible future of the model, which is a possible extension of\n   the current state on the next $n_{prol}$ instants, thanks to\n   the method `getFuture`.\n\n-  $n$ possible futures of the model, which correspond to\n   $n$ possible prolongations of the current state on the next\n   $n_{prol}$ instants, thanks to the method\n   `getFuture` ($n_{prol}$, $n$).\n\n\n"
      ]
    },
    {
      "cell_type": "markdown",
      "metadata": {},
      "source": [
        "First we get the coefficients AR and MA of the recurrence :\n\n"
      ]
    },
    {
      "cell_type": "code",
      "execution_count": null,
      "metadata": {
        "collapsed": false
      },
      "outputs": [],
      "source": [
        "print(\"AR coeff = \", process.getARCoefficients())\nprint(\"MA coeff = \", process.getMACoefficients())"
      ]
    },
    {
      "cell_type": "markdown",
      "metadata": {},
      "source": [
        "We check that the white noise is the one we have previously defined :\n\n"
      ]
    },
    {
      "cell_type": "code",
      "execution_count": null,
      "metadata": {
        "collapsed": false
      },
      "outputs": [],
      "source": [
        "myWhiteNoise = process.getWhiteNoise()\nprint(myWhiteNoise)"
      ]
    },
    {
      "cell_type": "markdown",
      "metadata": {},
      "source": [
        "We generate a possible time series realization :\n\n"
      ]
    },
    {
      "cell_type": "code",
      "execution_count": null,
      "metadata": {
        "collapsed": false
      },
      "outputs": [],
      "source": [
        "ts = process.getRealization()\nts.setName(\"ARMA realization\")"
      ]
    },
    {
      "cell_type": "markdown",
      "metadata": {},
      "source": [
        "We draw this time series by specifying the wanted marginal index (only 0 is available here).\n\n"
      ]
    },
    {
      "cell_type": "code",
      "execution_count": null,
      "metadata": {
        "collapsed": false
      },
      "outputs": [],
      "source": [
        "graph0 = ts.drawMarginal(0)\ngraph0.setTitle(\"One ARMA realization\")\ngraph0.setXTitle(\"t\")\ngraph0.setYTitle(r\"$X_t$\")\nview = viewer.View(graph0)"
      ]
    },
    {
      "cell_type": "markdown",
      "metadata": {},
      "source": [
        "Generate a k time series\nk = 5\nmyProcessSample = process.getSample(k)\n\n"
      ]
    },
    {
      "cell_type": "code",
      "execution_count": null,
      "metadata": {
        "collapsed": false
      },
      "outputs": [],
      "source": [
        "# Then get the current state of the ARMA\n# armaState = process.getState()\n# print(\"armaState = \")\n# print(armaState)"
      ]
    },
    {
      "cell_type": "markdown",
      "metadata": {},
      "source": [
        "We draw a sample of size 6 : it is six different time series.\n\n"
      ]
    },
    {
      "cell_type": "code",
      "execution_count": null,
      "metadata": {
        "collapsed": false
      },
      "outputs": [],
      "source": [
        "size = 6\nsample = process.getSample(size)\ngraph = sample.drawMarginal(0)\ngraph.setTitle(\"Six realizations of the ARMA process\")\ngraph.setXTitle(\"t\")\ngraph.setYTitle(r\"$X_t$\")\nview = viewer.View(graph)\n# plt.show()\n\n# We can obtain the current state of the ARMA process :\narmaState = process.getState()\nprint(\"ARMA state : \")\nprint(armaState)"
      ]
    },
    {
      "cell_type": "markdown",
      "metadata": {},
      "source": [
        "Note that if we use the process in the meantime and ask for the current state again, it will be different.\n\n"
      ]
    },
    {
      "cell_type": "code",
      "execution_count": null,
      "metadata": {
        "collapsed": false
      },
      "outputs": [],
      "source": [
        "ts = process.getRealization()\narmaState = process.getState()\nprint(\"ARMA state : \")\nprint(armaState)\n\n\n# From the aforementioned `armaState`, we can get the last values of :math:`X_t` and the last values\n# of the white noise :math:`E_t`.\nmyLastValues = armaState.getX()\nprint(myLastValues)\nmyLastEpsilonValues = armaState.getEpsilon()\nprint(myLastEpsilonValues)"
      ]
    },
    {
      "cell_type": "markdown",
      "metadata": {},
      "source": [
        "We have access to the number of iterations before getting a stationary state with\n\n"
      ]
    },
    {
      "cell_type": "code",
      "execution_count": null,
      "metadata": {
        "collapsed": false
      },
      "outputs": [],
      "source": [
        "Ntherm = process.getNThermalization()\nprint(\"ThermalValue : %d\" % Ntherm)"
      ]
    },
    {
      "cell_type": "markdown",
      "metadata": {},
      "source": [
        "This may be important to evaluate it with another precision epsilon :\n\n"
      ]
    },
    {
      "cell_type": "code",
      "execution_count": null,
      "metadata": {
        "collapsed": false
      },
      "outputs": [],
      "source": [
        "epsilon = 1e-8\nnewThermalValue = process.computeNThermalization(epsilon)\nprint(\"newThermalValue : %d\" % newThermalValue)\nprocess.setNThermalization(newThermalValue)"
      ]
    },
    {
      "cell_type": "markdown",
      "metadata": {},
      "source": [
        "An important feature of an ARMA process is the future prediction from its current state over the next  `Nit` instants, say `Nit=20`.\n\n"
      ]
    },
    {
      "cell_type": "code",
      "execution_count": null,
      "metadata": {
        "collapsed": false
      },
      "outputs": [],
      "source": [
        "Nit = 21"
      ]
    },
    {
      "cell_type": "markdown",
      "metadata": {},
      "source": [
        "First we specify a current state `armaState` and build the corresponding ARMA process `arma` :\n\n"
      ]
    },
    {
      "cell_type": "code",
      "execution_count": null,
      "metadata": {
        "collapsed": false
      },
      "outputs": [],
      "source": [
        "arma = ot.ARMA(myARCoef, myMACoef, myWhiteNoise, armaState)\n\n# Then, we generate a possible future. The last instant was :math:`t=0.9` so the future starts at\n# :math:`t=1.0`. We represent the ARMA process with a solid line and its possible future as a dashed\n# curve.\nfuture = arma.getFuture(Nit)\ngraph = future.drawMarginal(0)\ncurve = graph.getDrawable(0)\ncurve.setLineStyle(\"dashed\")\ngraph0.add(curve)\ngraph0.setTitle(\"One ARMA realization and a possible future\")\nview = viewer.View(graph0)"
      ]
    },
    {
      "cell_type": "markdown",
      "metadata": {},
      "source": [
        "It is of course possible to generate `N` different possible futures over the `Nit` next instants.\n\n"
      ]
    },
    {
      "cell_type": "code",
      "execution_count": null,
      "metadata": {
        "collapsed": false
      },
      "outputs": [],
      "source": [
        "N = 6\npossibleFuture_N = arma.getFuture(Nit, N)\npossibleFuture_N.setName(\"Possible futures\")"
      ]
    },
    {
      "cell_type": "markdown",
      "metadata": {},
      "source": [
        "Here we only show the future.\n\n"
      ]
    },
    {
      "cell_type": "code",
      "execution_count": null,
      "metadata": {
        "collapsed": false
      },
      "outputs": [],
      "source": [
        "graph = possibleFuture_N.drawMarginal(0)\ngraph.setTitle(\"Six possible futures of the ARMA process\")\ngraph.setXTitle(\"t\")\ngraph.setYTitle(r\"$X_t$\")\nview = viewer.View(graph)"
      ]
    },
    {
      "cell_type": "markdown",
      "metadata": {},
      "source": [
        "Display all figures\n\n"
      ]
    },
    {
      "cell_type": "code",
      "execution_count": null,
      "metadata": {
        "collapsed": false
      },
      "outputs": [],
      "source": [
        "plt.show()"
      ]
    }
  ],
  "metadata": {
    "kernelspec": {
      "display_name": "Python 3",
      "language": "python",
      "name": "python3"
    },
    "language_info": {
      "codemirror_mode": {
        "name": "ipython",
        "version": 3
      },
      "file_extension": ".py",
      "mimetype": "text/x-python",
      "name": "python",
      "nbconvert_exporter": "python",
      "pygments_lexer": "ipython3",
      "version": "3.12.7"
    }
  },
  "nbformat": 4,
  "nbformat_minor": 0
}