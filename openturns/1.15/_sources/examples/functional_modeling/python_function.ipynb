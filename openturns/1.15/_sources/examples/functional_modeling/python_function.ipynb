{
 "cells": [
  {
   "cell_type": "markdown",
   "metadata": {},
   "source": [
    "# Create a Python function"
   ]
  },
  {
   "cell_type": "markdown",
   "metadata": {},
   "source": [
    "In this example we are going to create a Function object (ie usable in the OpenTURNS context) from a pure Python function.\n",
    "\n",
    "The pure Python function to wrap must accept a sequence of floats and return a sequence of float.\n",
    "\n",
    "$$ f(x) = [x_0+x_1+x_2, (x_1-1)*e^{x_0} * x_2]$$"
   ]
  },
  {
   "cell_type": "code",
   "execution_count": 1,
   "metadata": {},
   "outputs": [],
   "source": [
    "from __future__ import print_function\n",
    "import openturns as ot\n",
    "import math as m"
   ]
  },
  {
   "cell_type": "code",
   "execution_count": 2,
   "metadata": {},
   "outputs": [],
   "source": [
    "# define a pure Python function from R^3 to R^2\n",
    "def regularFunc(X):\n",
    "    x0, x1, x2 = X\n",
    "    y0 = x0 + x1 + x2\n",
    "    y1 = (x1 - 1.0) * m.exp(x0) * x2\n",
    "    return [y0, y1]"
   ]
  },
  {
   "cell_type": "code",
   "execution_count": 3,
   "metadata": {},
   "outputs": [],
   "source": [
    "# create a Function object from a regular Python function\n",
    "function = ot.PythonFunction(3, 2, regularFunc)"
   ]
  },
  {
   "cell_type": "code",
   "execution_count": 4,
   "metadata": {},
   "outputs": [
    {
     "name": "stdout",
     "output_type": "stream",
     "text": [
      "x= [1.0, 2.0, 3.0] f(x)= [6,8.15485]\n"
     ]
    }
   ],
   "source": [
    "# evaluate the function on a Point\n",
    "x = [1.0, 2.0, 3.0]\n",
    "print('x=', x, 'f(x)=', function(x))"
   ]
  },
  {
   "cell_type": "code",
   "execution_count": 5,
   "metadata": {},
   "outputs": [
    {
     "name": "stdout",
     "output_type": "stream",
     "text": [
      "xs= [[1.0, 2.0, 3.0], [4.0, 5.0, 6.0]] \n",
      "f(xs)=     [ y0         y1         ]\n",
      "0 : [    6          8.15485 ]\n",
      "1 : [   15       1310.36    ]\n"
     ]
    }
   ],
   "source": [
    "# evaluate the function on a Sample\n",
    "xs = [[1.0, 2.0, 3.0], [4.0, 5.0, 6.0]]\n",
    "print('xs=', xs, '\\nf(xs)=', function(xs))"
   ]
  },
  {
   "cell_type": "code",
   "execution_count": 6,
   "metadata": {},
   "outputs": [
    {
     "data": {
      "text/html": [
       "<p>[[ 1       8.15485 ]<br>\n",
       " [ 1       8.15485 ]<br>\n",
       " [ 1       2.71828 ]]</p>"
      ],
      "text/plain": [
       "class=Matrix implementation=class=MatrixImplementation name=Unnamed rows=3 columns=2 values=[1,1,1,8.15485,8.15485,2.71828]"
      ]
     },
     "execution_count": 6,
     "metadata": {},
     "output_type": "execute_result"
    }
   ],
   "source": [
    "# now we can use the Function object services such as the gradient\n",
    "function.gradient(x)"
   ]
  },
  {
   "cell_type": "markdown",
   "metadata": {},
   "source": [
    "## Performance issues\n",
    "\n",
    "When this function is used internally to evaluate a Sample, it loops over its points.  This requires many memory allocations; moreover this loop is done in Python, it may thus be slow if Sample is large.\n",
    "We can define a function to operate on a Sample, and return a Sample.\n",
    "\n",
    "For maximum performance, argument is in fact not a Sample, but a wrapper object which contains a pointer to data.  When using Numpy arrays without copies and loops, performance is similar to C code, but Python definition is somewhat convoluted; please refer to Numpy documentation to learn how to efficiently define such functions."
   ]
  },
  {
   "cell_type": "code",
   "execution_count": 7,
   "metadata": {},
   "outputs": [],
   "source": [
    "# define the same function on a Sample\n",
    "import numpy as np\n",
    "def regularFuncSample(X):\n",
    "    # Create a numpy array with the contents of X without copy\n",
    "    xarray = np.array(X, copy=False)\n",
    "    # Get columns as vectors, there is also no copy\n",
    "    x0, x1, x2 = xarray.T\n",
    "    # Allocate a numpy array to store result\n",
    "    y = np.zeros((len(X), 2))\n",
    "    y[:,0] = x0 + x1 + x2\n",
    "    y[:,1] = (x1 - 1.0) * np.exp(x0) * x2\n",
    "    return y"
   ]
  },
  {
   "cell_type": "code",
   "execution_count": 8,
   "metadata": {},
   "outputs": [],
   "source": [
    "# create a Function object from a regular Python function\n",
    "functionSample = ot.PythonFunction(3, 2, func_sample=regularFuncSample)"
   ]
  },
  {
   "cell_type": "code",
   "execution_count": 9,
   "metadata": {},
   "outputs": [
    {
     "name": "stdout",
     "output_type": "stream",
     "text": [
      "xs= [[1.0, 2.0, 3.0], [4.0, 5.0, 6.0]] \n",
      "f(xs)=     [ y0         y1         ]\n",
      "0 : [    6          8.15485 ]\n",
      "1 : [   15       1310.36    ]\n"
     ]
    }
   ],
   "source": [
    "# evaluate the function on a Sample\n",
    "print('xs=', xs, '\\nf(xs)=', functionSample(xs))"
   ]
  },
  {
   "cell_type": "code",
   "execution_count": 10,
   "metadata": {},
   "outputs": [
    {
     "name": "stdout",
     "output_type": "stream",
     "text": [
      "x= [1.0, 2.0, 3.0] f(x)= [6,8.15485]\n"
     ]
    }
   ],
   "source": [
    "# evaluate the function on a Point\n",
    "print('x=', x, 'f(x)=', functionSample(x))"
   ]
  },
  {
   "cell_type": "markdown",
   "metadata": {},
   "source": [
    "The most efficient solution is to provide evaluations both on Point and Sample.  This requires two Python function definitions, but if your code takes a lot of time, you should consider this option."
   ]
  },
  {
   "cell_type": "code",
   "execution_count": 11,
   "metadata": {},
   "outputs": [],
   "source": [
    "functionFast = ot.PythonFunction(3, 2, func=regularFunc, func_sample=regularFuncSample)"
   ]
  }
 ],
 "metadata": {
  "kernelspec": {
   "display_name": "Python 3",
   "language": "python",
   "name": "python3"
  },
  "language_info": {
   "codemirror_mode": {
    "name": "ipython",
    "version": 3
   },
   "file_extension": ".py",
   "mimetype": "text/x-python",
   "name": "python",
   "nbconvert_exporter": "python",
   "pygments_lexer": "ipython3",
   "version": "3.5.2"
  }
 },
 "nbformat": 4,
 "nbformat_minor": 1
}
