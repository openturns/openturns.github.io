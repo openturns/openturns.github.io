{
 "cells": [
  {
   "cell_type": "markdown",
   "metadata": {},
   "source": [
    "# Kriging the cantilever beam model\n"
   ]
  },
  {
   "cell_type": "markdown",
   "metadata": {},
   "source": [
    "In this example, we create a kriging metamodel of the cantilever beam. We use a squared exponential covariance model for the kriging. In order to estimate the hyper-parameters, we use a design of experiments which size is 20. "
   ]
  },
  {
   "cell_type": "markdown",
   "metadata": {},
   "source": [
    "We consider a cantilever beam defined by its Young’s modulus $E$, its length $L$ and its section modulus $I$. One end of the cantilever beam is built in a wall and we apply a concentrated bending load $F$ at the other end of the beam, resulting in a deviation $Y$. \n",
    "\n",
    "<img src=\"beam.png\" width=\"200\">\n",
    "\n",
    "**Inputs**\n",
    "\n",
    "* $E$ : Young modulus (Pa), Beta($\\alpha = 0.9$, $\\beta = 2.27$, a = $2.5\\times 10^7$, $b = 5\\times 10^7$)\n",
    "* $F$ : Loading (N), Lognormal($\\mu_F=30 \\times 10^3$, $\\sigma_F=9\\times 10^3$, shift=$15\\times 10^3$)\n",
    "* $L$ : Length of beam (cm), Uniform(min=250.0, max= 260.0)\n",
    "* $I$ : Moment of inertia (cm^4), Beta($\\alpha = 2.5$, $\\beta = 1.5$, a = 310, b = 450).\n",
    "\n",
    "In the previous table $\\mu_F=E(F)$ and $\\sigma_F=\\sqrt{V(F)}$ are the mean and the standard deviation of $F$.\n",
    "\n",
    "We assume that the random variables E, F, L and I are dependent and associated with a gaussian copula which correlation matrix is :\n",
    "$$\n",
    "R = \n",
    "\\begin{pmatrix}\n",
    "1 & 0 & 0 & 0 \\\\\n",
    "0 & 1 & 0 & 0 \\\\\n",
    "0 & 0 & 1 & -0.2 \\\\\n",
    "0 & 0 & -0.2 & 1\n",
    "\\end{pmatrix}\n",
    "$$\n",
    "\n",
    "In other words, we consider that the variables L and I are negatively correlated : when the length L increases, the moment of intertia I decreases.\n",
    "\n",
    "**Output**\n",
    "\n",
    "The vertical displacement at free end of the cantilever beam is:\n",
    "$$\n",
    "Y  = \\dfrac{F\\, L^3}{3 \\, E \\, I}\n",
    "$$\n"
   ]
  },
  {
   "cell_type": "markdown",
   "metadata": {},
   "source": [
    "## Definition of the model"
   ]
  },
  {
   "cell_type": "code",
   "execution_count": 1,
   "metadata": {},
   "outputs": [],
   "source": [
    "import openturns as ot"
   ]
  },
  {
   "cell_type": "markdown",
   "metadata": {},
   "source": [
    "We define the symbolic function which evaluates the output Y depending on the inputs E, F, L and I."
   ]
  },
  {
   "cell_type": "code",
   "execution_count": 2,
   "metadata": {},
   "outputs": [],
   "source": [
    "model = ot.SymbolicFunction([\"E\", \"F\", \"L\", \"I\"], [\"F*L^3/(3*E*I)\"])"
   ]
  },
  {
   "cell_type": "markdown",
   "metadata": {},
   "source": [
    "Then we define the distribution of the input random vector. "
   ]
  },
  {
   "cell_type": "code",
   "execution_count": 3,
   "metadata": {},
   "outputs": [],
   "source": [
    "# Young's modulus E\n",
    "E = ot.Beta(0.9, 2.27, 2.5e7, 5.0e7) # in N/m^2\n",
    "E.setDescription(\"E\")\n",
    "# Load F\n",
    "F = ot.LogNormal() # in N\n",
    "F.setParameter(ot.LogNormalMuSigma()([30.e3, 9e3, 15.e3]))\n",
    "F.setDescription(\"F\")\n",
    "# Length L\n",
    "L = ot.Uniform(250., 260.) # in cm\n",
    "L.setDescription(\"L\")\n",
    "# Moment of inertia I\n",
    "I = ot.Beta(2.5, 1.5, 310, 450) # in cm^4\n",
    "I.setDescription(\"I\")"
   ]
  },
  {
   "cell_type": "markdown",
   "metadata": {},
   "source": [
    "Finally, we define the dependency using a `NormalCopula`."
   ]
  },
  {
   "cell_type": "code",
   "execution_count": 4,
   "metadata": {},
   "outputs": [],
   "source": [
    "dim = 4 # number of inputs\n",
    "R = ot.CorrelationMatrix(dim)\n",
    "R[2, 3] = -0.2 \n",
    "myCopula = ot.NormalCopula(ot.NormalCopula.GetCorrelationFromSpearmanCorrelation(R))\n",
    "myDistribution = ot.ComposedDistribution([E, F, L, I], myCopula)"
   ]
  },
  {
   "cell_type": "markdown",
   "metadata": {},
   "source": [
    "## Create the design of experiments"
   ]
  },
  {
   "cell_type": "markdown",
   "metadata": {},
   "source": [
    "We consider a simple Monte-Carlo sampling as a design of experiments. This is why we generate an input sample using the `getSample` method of the distribution. Then we evaluate the output using the `model` function."
   ]
  },
  {
   "cell_type": "code",
   "execution_count": 5,
   "metadata": {},
   "outputs": [],
   "source": [
    "sampleSize_train = 20\n",
    "X_train = myDistribution.getSample(sampleSize_train)\n",
    "Y_train = model(X_train)"
   ]
  },
  {
   "cell_type": "markdown",
   "metadata": {},
   "source": [
    "The following figure presents the distribution of the vertical deviations Y on the training sample. We observe that the large deviations occur less often. "
   ]
  },
  {
   "cell_type": "code",
   "execution_count": 6,
   "metadata": {},
   "outputs": [
    {
     "data": {
      "image/png": "[encoded data removed]",
      "text/plain": [
       "class=Graph name=y0 PDF implementation=class=GraphImplementation name=y0 PDF title=Distribution of the vertical deviation xTitle=Vertical deviation (cm) yTitle=PDF axes=ON grid=ON legendposition=topright legendFontSize=1 drawables=[class=Drawable name=Unnamed implementation=class=Curve name=Unnamed derived from class=DrawableImplementation name=Unnamed legend= data=class=Sample name=Unnamed implementation=class=SampleImplementation name=Unnamed size=20 dimension=2 data=[[4.78606,0],[6.44746,0],[6.44746,0],[6.44746,0.0752378],[9.77025,0.0752378],[9.77025,0],[9.77025,0],[9.77025,0.135428],[13.093,0.135428],[13.093,0],[13.093,0],[13.093,0.0451427],[16.4158,0.0451427],[16.4158,0],[16.4158,0],[16.4158,0.0451427],[19.7386,0.0451427],[19.7386,0],[19.7386,0],[21.4,0]] color=red fillStyle=solid lineStyle=solid pointStyle=none lineWidth=2]"
      ]
     },
     "execution_count": 6,
     "metadata": {},
     "output_type": "execute_result"
    }
   ],
   "source": [
    "histo = ot.HistogramFactory().build(Y_train).drawPDF()\n",
    "histo.setXTitle(\"Vertical deviation (cm)\")\n",
    "histo.setTitle(\"Distribution of the vertical deviation\")\n",
    "histo.setLegends([\"\"])\n",
    "histo"
   ]
  },
  {
   "cell_type": "markdown",
   "metadata": {},
   "source": [
    "## Create the metamodel"
   ]
  },
  {
   "cell_type": "markdown",
   "metadata": {},
   "source": [
    "In order to create the kriging metamodel, we first select a constant trend with the `ConstantBasisFactory` class. Then we use a squared exponential covariance model. Finally, we use the `KrigingAlgorithm` class to create the kriging metamodel, taking the training sample, the covariance model and the trend basis as input arguments. "
   ]
  },
  {
   "cell_type": "code",
   "execution_count": 7,
   "metadata": {},
   "outputs": [],
   "source": [
    "dimension = myDistribution.getDimension()\n",
    "basis = ot.ConstantBasisFactory(dimension).build()\n",
    "covarianceModel = ot.SquaredExponential([1.]*dimension, [1.0])\n",
    "algo = ot.KrigingAlgorithm(X_train, Y_train, covarianceModel, basis)\n",
    "algo.run()\n",
    "result = algo.getResult()\n",
    "krigingMetamodel = result.getMetaModel()"
   ]
  },
  {
   "cell_type": "markdown",
   "metadata": {},
   "source": [
    "The `run` method has optimized the hyperparameters of the metamodel. \n",
    "\n",
    "We can then print the constant trend of the metamodel, which have been estimated using the least squares method."
   ]
  },
  {
   "cell_type": "code",
   "execution_count": 8,
   "metadata": {
    "scrolled": true
   },
   "outputs": [
    {
     "data": {
      "text/plain": [
       "[class=Point name=Unnamed dimension=1 values=[18.7495]]"
      ]
     },
     "execution_count": 8,
     "metadata": {},
     "output_type": "execute_result"
    }
   ],
   "source": [
    "result.getTrendCoefficients()"
   ]
  },
  {
   "cell_type": "markdown",
   "metadata": {},
   "source": [
    "We can also print the hyperparameters of the covariance model, which have been estimated by maximizing the likelihood. "
   ]
  },
  {
   "cell_type": "code",
   "execution_count": 9,
   "metadata": {},
   "outputs": [
    {
     "data": {
      "text/html": [
       "<p>SquaredExponential(scale=[5.49182,5.18332,7.19611,6.86906], amplitude=[8.37795])</p>"
      ],
      "text/plain": [
       "class=SquaredExponential scale=class=Point name=Unnamed dimension=4 values=[5.49182,5.18332,7.19611,6.86906] amplitude=class=Point name=Unnamed dimension=1 values=[8.37795]"
      ]
     },
     "execution_count": 9,
     "metadata": {},
     "output_type": "execute_result"
    }
   ],
   "source": [
    "result.getCovarianceModel()"
   ]
  },
  {
   "cell_type": "markdown",
   "metadata": {},
   "source": [
    "## Validate the metamodel"
   ]
  },
  {
   "cell_type": "markdown",
   "metadata": {},
   "source": [
    "We finally want to validate the kriging metamodel. This is why we generate a validation sample which size is equal to 100 and we evaluate the output of the model on this sample."
   ]
  },
  {
   "cell_type": "code",
   "execution_count": 10,
   "metadata": {},
   "outputs": [],
   "source": [
    "sampleSize_test = 100\n",
    "X_test = myDistribution.getSample(sampleSize_test)\n",
    "Y_test = model(X_test)"
   ]
  },
  {
   "cell_type": "markdown",
   "metadata": {},
   "source": [
    "The `MetaModelValidation` classe makes the validation easy. To create it, we use the validation samples and the metamodel. "
   ]
  },
  {
   "cell_type": "code",
   "execution_count": 11,
   "metadata": {},
   "outputs": [],
   "source": [
    "val = ot.MetaModelValidation(X_test, Y_test, krigingMetamodel)"
   ]
  },
  {
   "cell_type": "markdown",
   "metadata": {},
   "source": [
    "The `computePredictivityFactor` computes the Q2 factor. "
   ]
  },
  {
   "cell_type": "code",
   "execution_count": 12,
   "metadata": {
    "scrolled": true
   },
   "outputs": [
    {
     "data": {
      "text/plain": [
       "0.9645762691321285"
      ]
     },
     "execution_count": 12,
     "metadata": {},
     "output_type": "execute_result"
    }
   ],
   "source": [
    "Q2 = val.computePredictivityFactor()\n",
    "Q2"
   ]
  },
  {
   "cell_type": "markdown",
   "metadata": {},
   "source": [
    "Since the Q2 is larger than 95%, we can say that the quality is acceptable. "
   ]
  },
  {
   "cell_type": "markdown",
   "metadata": {},
   "source": [
    "The residuals are the difference between the model and the metamodel. "
   ]
  },
  {
   "cell_type": "code",
   "execution_count": 13,
   "metadata": {},
   "outputs": [
    {
     "data": {
      "image/png": "[encoded data removed]",
      "text/plain": [
       "class=Graph name=y0 PDF implementation=class=GraphImplementation name=y0 PDF title=y0 PDF xTitle=y0 yTitle=PDF axes=ON grid=ON legendposition=topright legendFontSize=1 drawables=[class=Drawable name=Unnamed implementation=class=Curve name=Unnamed derived from class=DrawableImplementation name=Unnamed legend=y0 PDF data=class=Sample name=Unnamed implementation=class=SampleImplementation name=Unnamed size=84 dimension=2 data=[[-1.35718,0],[-1.18847,0],[-1.18847,0],[-1.18847,0.0592715],[-0.851039,0.0592715],[-0.851039,0],[-0.851039,0],[-0.851039,0.296357],[-0.513608,0.296357],[-0.513608,0],[-0.513608,0],[-0.513608,0.711258],[-0.176178,0.711258],[-0.176178,0],[-0.176178,0],[-0.176178,0.859437],[0.161252,0.859437],[0.161252,0],[0.161252,0],[0.161252,0.533443],[0.498683,0.533443],[0.498683,0],[0.498683,0],[0.498683,0.20745],[0.836113,0.20745],[0.836113,0],[0.836113,0],[0.836113,0.0296357],[1.17354,0.0296357],[1.17354,0],[1.17354,0],[1.17354,0.177814],[1.51097,0.177814],[1.51097,0],[1.51097,0],[1.51097,0],[1.8484,0],[1.8484,0],[1.8484,0],[1.8484,0.0296357],[2.18583,0.0296357],[2.18583,0],[2.18583,0],[2.18583,0],[2.52327,0],[2.52327,0],[2.52327,0],[2.52327,0.0296357],[2.8607,0.0296357],[2.8607,0],[2.8607,0],[2.8607,0],[3.19813,0],[3.19813,0],[3.19813,0],[3.19813,0],[3.53556,0],[3.53556,0],[3.53556,0],[3.53556,0],[3.87299,0],[3.87299,0],[3.87299,0],[3.87299,0],[4.21042,0],[4.21042,0],[4.21042,0],[4.21042,0],[4.54785,0],[4.54785,0],[4.54785,0],[4.54785,0],[4.88528,0],[4.88528,0],[4.88528,0],[4.88528,0],[5.22271,0],[5.22271,0],[5.22271,0],[5.22271,0.0296357],[5.56014,0.0296357],[5.56014,0],[5.56014,0],[5.72885,0]] color=red fillStyle=solid lineStyle=solid pointStyle=none lineWidth=2]"
      ]
     },
     "execution_count": 13,
     "metadata": {},
     "output_type": "execute_result"
    }
   ],
   "source": [
    "r = val.getResidualSample()\n",
    "ot.HistogramFactory().build(r).drawPDF()"
   ]
  },
  {
   "cell_type": "markdown",
   "metadata": {},
   "source": [
    "We observe that the negative residuals occur with nearly the same frequency of the positive residuals: this is a first   sign of good quality. Furthermore, the residuals are most of the times contained in the [-1,1] interval, which is a sign of quality given the amplitude of the output (approximately from 5 to 25 cm)."
   ]
  },
  {
   "cell_type": "markdown",
   "metadata": {},
   "source": [
    "The `drawValidation` method allows to compare the observed outputs and the metamodel outputs."
   ]
  },
  {
   "cell_type": "code",
   "execution_count": 14,
   "metadata": {
    "scrolled": false
   },
   "outputs": [
    {
     "data": {
      "image/png": "[encoded data removed]",
      "text/plain": [
       "class=Graph name=Metamodel validation - Q2 = 96.4576 % implementation=class=GraphImplementation name=Metamodel validation - Q2 = 96.4576 % title=Q2 = 96.46% xTitle=model yTitle=metamodel axes=ON grid=ON legendposition= legendFontSize=1 drawables=[class=Drawable name=Unnamed implementation=class=Curve name=Unnamed derived from class=DrawableImplementation name=Unnamed legend= data=class=Sample name=Unnamed implementation=class=SampleImplementation name=Unnamed size=100 dimension=2 data=[[18.9637,18.9637],[18.4266,18.4266],[12.4574,12.4574],[9.35337,9.35337],[23.5276,23.5276],[14.6881,14.6881],[10.8993,10.8993],[17.3202,17.3202],[13.124,13.124],[14.4594,14.4594],[19.0121,19.0121],[10.9044,10.9044],[7.79454,7.79454],[15.3926,15.3926],[17.196,17.196],[22.4681,22.4681],[15.5265,15.5265],[14.9112,14.9112],[10.9349,10.9349],[14.4331,14.4331],[11.6763,11.6763],[10.8445,10.8445],[11.9298,11.9298],[11.6314,11.6314],[11.2452,11.2452],[10.2933,10.2933],[12.81,12.81],[8.5531,8.5531],[32.1686,32.1686],[14.8121,14.8121],[7.47261,7.47261],[14.8385,14.8385],[14.2407,14.2407],[7.07299,7.07299],[13.6907,13.6907],[9.67528,9.67528],[9.76907,9.76907],[16.0004,16.0004],[18.9972,18.9972],[13.1422,13.1422],[15.9038,15.9038],[12.2654,12.2654],[13.9537,13.9537],[11.1325,11.1325],[11.2641,11.2641],[17.935,17.935],[13.8596,13.8596],[11.226,11.226],[10.3749,10.3749],[9.42233,9.42233],[16.1319,16.1319],[13.3959,13.3959],[19.7809,19.7809],[7.39198,7.39198],[13.398,13.398],[13.2067,13.2067],[26.4918,26.4918],[13.5297,13.5297],[9.38728,9.38728],[14.2865,14.2865],[7.50437,7.50437],[14.6451,14.6451],[19.8755,19.8755],[7.73987,7.73987],[11.7472,11.7472],[9.58097,9.58097],[12.443,12.443],[14.017,14.017],[13.8499,13.8499],[9.45199,9.45199],[21.4336,21.4336],[17.4192,17.4192],[9.49446,9.49446],[13.5813,13.5813],[17.9763,17.9763],[7.774,7.774],[22.6226,22.6226],[19.422,19.422],[17.2323,17.2323],[12.0847,12.0847],[13.1492,13.1492],[13.2664,13.2664],[14.4288,14.4288],[10.2733,10.2733],[13.6326,13.6326],[14.7114,14.7114],[11.0175,11.0175],[11.9627,11.9627],[9.62296,9.62296],[10.1771,10.1771],[13.5779,13.5779],[19.148,19.148],[19.4871,19.4871],[15.11,15.11],[17.0435,17.0435],[15.0004,15.0004],[9.45082,9.45082],[12.5497,12.5497],[5.67151,5.67151],[7.27744,7.27744]] color=blue fillStyle=solid lineStyle=solid pointStyle=none lineWidth=1,class=Drawable name=Unnamed implementation=class=Cloud name=Unnamed derived from class=DrawableImplementation name=Unnamed legend= data=class=Sample name=Unnamed implementation=class=SampleImplementation name=Unnamed size=100 dimension=2 data=[[18.9637,18.3887],[18.4266,17.7908],[12.4574,12.4377],[9.35337,9.68549],[23.5276,22.3244],[14.6881,14.6936],[10.8993,11.6053],[17.3202,17.1881],[13.124,13.4873],[14.4594,14.8714],[19.0121,17.6561],[10.9044,11.5097],[7.79454,8.20759],[15.3926,14.5758],[17.196,17.0585],[22.4681,20.4278],[15.5265,15.5322],[14.9112,14.7832],[10.9349,10.8548],[14.4331,14.4545],[11.6763,12.1149],[10.8445,11.1105],[11.9298,11.7735],[11.6314,11.566],[11.2452,11.2196],[10.2933,10.2848],[12.81,13.0122],[8.5531,8.5844],[32.1686,26.6085],[14.8121,14.6489],[7.47261,7.82056],[14.8385,14.9878],[14.2407,13.7309],[7.07299,7.95894],[13.6907,13.2498],[9.67528,9.64188],[9.76907,10.2687],[16.0004,15.8219],[18.9972,17.6359],[13.1422,13.3309],[15.9038,15.4123],[12.2654,12.2352],[13.9537,14.3788],[11.1325,11.3428],[11.2641,11.5256],[17.935,16.5971],[13.8596,14.0116],[11.226,11.1957],[10.3749,10.9596],[9.42233,10.1994],[16.1319,16.2368],[13.3959,13.5742],[19.7809,19.4561],[7.39198,8.1176],[13.398,13.0998],[13.2067,13.5449],[26.4918,23.6685],[13.5297,13.0434],[9.38728,9.37128],[14.2865,14.5092],[7.50437,7.7053],[14.6451,14.9149],[19.8755,19.3379],[7.73987,7.51419],[11.7472,12.1386],[9.58097,9.2739],[12.443,13.2492],[14.017,13.9813],[13.8499,13.7046],[9.45199,9.37999],[21.4336,20.2492],[17.4192,17.834],[9.49446,9.25201],[13.5813,14.2374],[17.9763,17.3311],[7.774,7.5854],[22.6226,21.6922],[19.422,18.8911],[17.2323,17.1749],[12.0847,12.664],[13.1492,12.8729],[13.2664,13.3665],[14.4288,14.5623],[10.2733,10.3786],[13.6326,13.962],[14.7114,15.1248],[11.0175,10.6196],[11.9627,11.8869],[9.62296,10.031],[10.1771,10.3627],[13.5779,14.1236],[19.148,17.6751],[19.4871,19.1234],[15.11,15.9392],[17.0435,16.8166],[15.0004,14.6208],[9.45082,9.4846],[12.5497,12.2407],[5.67151,6.85998],[7.27744,7.02712]] color=red fillStyle=solid lineStyle=solid pointStyle=plus lineWidth=1]"
      ]
     },
     "execution_count": 14,
     "metadata": {},
     "output_type": "execute_result"
    }
   ],
   "source": [
    "graph = val.drawValidation()\n",
    "graph.setLegends([\"\"])\n",
    "graph.setTitle(\"Q2 = %.2f%%\" % (100*Q2))\n",
    "graph"
   ]
  },
  {
   "cell_type": "markdown",
   "metadata": {},
   "source": [
    "We observe that the metamodel predictions are close to the model outputs, since most red points are close to the diagonal. However, when we consider extreme deviations (i.e. less than 10 or larger than 20), then the quality is less obvious.\n",
    "\n",
    "Given that the kriging metamodel quality is sensitive to the design of experiments, it might be interesting to consider a Latin Hypercube Sampling (LHS) design to further improve the predictions quality."
   ]
  }
 ],
 "metadata": {
  "kernelspec": {
   "display_name": "Python 3",
   "language": "python",
   "name": "python3"
  },
  "language_info": {
   "codemirror_mode": {
    "name": "ipython",
    "version": 3
   },
   "file_extension": ".py",
   "mimetype": "text/x-python",
   "name": "python",
   "nbconvert_exporter": "python",
   "pygments_lexer": "ipython3",
   "version": "3.7.3"
  }
 },
 "nbformat": 4,
 "nbformat_minor": 2
}
