{
 "cells": [
  {
   "cell_type": "markdown",
   "metadata": {},
   "source": [
    "# Polynomial chaos over database"
   ]
  },
  {
   "cell_type": "markdown",
   "metadata": {},
   "source": [
    "In this example we are going to create a global approximation of a model response using functional chaos over a design of experiment.\n",
    "\n",
    "You will need to specify the distribution of the input parameters.\n",
    "If not known, statistical inference can be used to select a possible candidate, and fitting tests can validate such an hypothesis."
   ]
  },
  {
   "cell_type": "code",
   "execution_count": 1,
   "metadata": {
    "collapsed": true
   },
   "outputs": [],
   "source": [
    "from __future__ import print_function\n",
    "import openturns as ot"
   ]
  },
  {
   "cell_type": "code",
   "execution_count": 2,
   "metadata": {
    "collapsed": true
   },
   "outputs": [],
   "source": [
    "# Create a function R^n --> R^p\n",
    "# For example R^4 --> R\n",
    "myModel = ot.SymbolicFunction(['x1', 'x2', 'x3', 'x4'], ['1+x1*x2 + 2*x3^2+x4^4'])\n",
    "\n",
    "# Create a distribution of dimension n\n",
    "# for example n=3 with indpendent components\n",
    "distribution = ot.ComposedDistribution(\n",
    "    [ot.Normal(), ot.Uniform(), ot.Gamma(2.75, 1.0), ot.Beta(2.5, 1.0, -1.0, 2.0)])"
   ]
  },
  {
   "cell_type": "code",
   "execution_count": 3,
   "metadata": {
    "collapsed": true
   },
   "outputs": [],
   "source": [
    "# Prepare the input/output samples\n",
    "sampleSize = 250\n",
    "X = distribution.getSample(sampleSize)\n",
    "Y = myModel(X)\n",
    "dimension = X.getDimension()"
   ]
  },
  {
   "cell_type": "code",
   "execution_count": 4,
   "metadata": {
    "collapsed": true
   },
   "outputs": [],
   "source": [
    "# build the orthogonal basis\n",
    "coll = [ot.StandardDistributionPolynomialFactory(distribution.getMarginal(i)) for i in range(dimension)]\n",
    "enumerateFunction = ot.LinearEnumerateFunction(dimension)\n",
    "productBasis = ot.OrthogonalProductPolynomialFactory(coll, enumerateFunction)"
   ]
  },
  {
   "cell_type": "code",
   "execution_count": 5,
   "metadata": {
    "collapsed": true
   },
   "outputs": [],
   "source": [
    "# create the algorithm\n",
    "degree = 6\n",
    "adaptiveStrategy = ot.FixedStrategy(\n",
    "    productBasis, enumerateFunction.getStrataCumulatedCardinal(degree))\n",
    "projectionStrategy = ot.LeastSquaresStrategy()\n",
    "algo = ot.FunctionalChaosAlgorithm(X, Y, distribution, adaptiveStrategy, projectionStrategy)\n",
    "algo.run()"
   ]
  },
  {
   "cell_type": "code",
   "execution_count": 6,
   "metadata": {},
   "outputs": [
    {
     "data": {
      "text/html": [
       "<p>[5.45188e-14]<br>\n",
       "</p>"
      ],
      "text/plain": [
       "class=Point name=Unnamed dimension=1 values=[5.45188e-14]"
      ]
     },
     "execution_count": 6,
     "metadata": {},
     "output_type": "execute_result"
    }
   ],
   "source": [
    "# get the metamodel function\n",
    "result = algo.getResult()\n",
    "metamodel = result.getMetaModel()"
   ]
  },
  {
   "cell_type": "code",
   "execution_count": null,
   "metadata": {
    "collapsed": true
   },
   "outputs": [],
   "source": [
    "# Print residuals\n",
    "result.getResiduals()"
   ]
  }
 ],
 "metadata": {
  "kernelspec": {
   "display_name": "Python 3",
   "language": "python",
   "name": "python3"
  },
  "language_info": {
   "codemirror_mode": {
    "name": "ipython",
    "version": 3
   },
   "file_extension": ".py",
   "mimetype": "text/x-python",
   "name": "python",
   "nbconvert_exporter": "python",
   "pygments_lexer": "ipython3",
   "version": "3.5.2"
  }
 },
 "nbformat": 4,
 "nbformat_minor": 1
}
