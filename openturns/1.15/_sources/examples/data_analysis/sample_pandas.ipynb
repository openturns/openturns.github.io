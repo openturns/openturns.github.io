{
 "cells": [
  {
   "cell_type": "markdown",
   "metadata": {},
   "source": [
    "# Interaction with Pandas"
   ]
  },
  {
   "cell_type": "markdown",
   "metadata": {},
   "source": [
    "In this example we are going to explore interaction with Pandas data analysis tool."
   ]
  },
  {
   "cell_type": "code",
   "execution_count": 1,
   "metadata": {},
   "outputs": [],
   "source": [
    "from __future__ import print_function\n",
    "import openturns as ot\n",
    "import pandas as pd"
   ]
  },
  {
   "cell_type": "code",
   "execution_count": 2,
   "metadata": {},
   "outputs": [],
   "source": [
    "# create a sample from a 3-d gaussian distribution\n",
    "sample = ot.Normal(3).getSample(10)"
   ]
  },
  {
   "cell_type": "code",
   "execution_count": 3,
   "metadata": {},
   "outputs": [
    {
     "data": {
      "text/html": [
       "<div>\n",
       "<style scoped>\n",
       "    .dataframe tbody tr th:only-of-type {\n",
       "        vertical-align: middle;\n",
       "    }\n",
       "\n",
       "    .dataframe tbody tr th {\n",
       "        vertical-align: top;\n",
       "    }\n",
       "\n",
       "    .dataframe thead th {\n",
       "        text-align: right;\n",
       "    }\n",
       "</style>\n",
       "<table border=\"1\" class=\"dataframe\">\n",
       "  <thead>\n",
       "    <tr style=\"text-align: right;\">\n",
       "      <th></th>\n",
       "      <th>X0</th>\n",
       "      <th>X1</th>\n",
       "      <th>X2</th>\n",
       "    </tr>\n",
       "  </thead>\n",
       "  <tbody>\n",
       "    <tr>\n",
       "      <th>count</th>\n",
       "      <td>10.000000</td>\n",
       "      <td>10.000000</td>\n",
       "      <td>10.000000</td>\n",
       "    </tr>\n",
       "    <tr>\n",
       "      <th>mean</th>\n",
       "      <td>0.201254</td>\n",
       "      <td>-0.341580</td>\n",
       "      <td>-0.143151</td>\n",
       "    </tr>\n",
       "    <tr>\n",
       "      <th>std</th>\n",
       "      <td>1.122471</td>\n",
       "      <td>1.126257</td>\n",
       "      <td>0.678845</td>\n",
       "    </tr>\n",
       "    <tr>\n",
       "      <th>min</th>\n",
       "      <td>-2.290062</td>\n",
       "      <td>-2.181385</td>\n",
       "      <td>-1.311781</td>\n",
       "    </tr>\n",
       "    <tr>\n",
       "      <th>25%</th>\n",
       "      <td>-0.288951</td>\n",
       "      <td>-1.209149</td>\n",
       "      <td>-0.695591</td>\n",
       "    </tr>\n",
       "    <tr>\n",
       "      <th>50%</th>\n",
       "      <td>0.459701</td>\n",
       "      <td>-0.298012</td>\n",
       "      <td>0.060783</td>\n",
       "    </tr>\n",
       "    <tr>\n",
       "      <th>75%</th>\n",
       "      <td>0.746917</td>\n",
       "      <td>0.351669</td>\n",
       "      <td>0.343263</td>\n",
       "    </tr>\n",
       "    <tr>\n",
       "      <th>max</th>\n",
       "      <td>1.782359</td>\n",
       "      <td>1.437249</td>\n",
       "      <td>0.810668</td>\n",
       "    </tr>\n",
       "  </tbody>\n",
       "</table>\n",
       "</div>"
      ],
      "text/plain": [
       "              X0         X1         X2\n",
       "count  10.000000  10.000000  10.000000\n",
       "mean    0.201254  -0.341580  -0.143151\n",
       "std     1.122471   1.126257   0.678845\n",
       "min    -2.290062  -2.181385  -1.311781\n",
       "25%    -0.288951  -1.209149  -0.695591\n",
       "50%     0.459701  -0.298012   0.060783\n",
       "75%     0.746917   0.351669   0.343263\n",
       "max     1.782359   1.437249   0.810668"
      ]
     },
     "execution_count": 3,
     "metadata": {},
     "output_type": "execute_result"
    }
   ],
   "source": [
    "# Create a DataFrame from a Sample\n",
    "df = pd.DataFrame.from_records(sample, columns=sample.getDescription())\n",
    "df.describe()"
   ]
  },
  {
   "cell_type": "code",
   "execution_count": 4,
   "metadata": {},
   "outputs": [
    {
     "data": {
      "text/html": [
       "<TABLE><TR><TD></TD><TH>X0</TH><TH>X1</TH><TH>X2</TH></TR>\n",
       "<TR><TD>0</TD><TD>0.6082016512187646</TD><TD>-1.2661731022166567</TD><TD>-0.43826561996041397</TD></TR>\n",
       "<TR><TD>1</TD><TD>1.2054782008285756</TD><TD>-2.1813852346165143</TD><TD>0.3500420865302907</TD></TR>\n",
       "<TR><TD>2</TD><TD>-0.3550070491856397</TD><TD>1.437249310140903</TD><TD>0.8106679824694837</TD></TR>\n",
       "<TR><TD>3</TD><TD>0.79315601145977</TD><TD>-0.4705255986325704</TD><TD>0.26101793529769673</TD></TR>\n",
       "<TR><TD>4</TD><TD>-2.2900619818700854</TD><TD>-1.2828852904549808</TD><TD>-1.311781115463341</TD></TR>\n",
       "<TR><TD>5</TD><TD>-0.09078382658049489</TD><TD>0.9957932259165571</TD><TD>-0.13945281896393122</TD></TR>\n",
       "<TR><TD>6</TD><TD>-0.5602056000378475</TD><TD>0.4454896972990519</TD><TD>0.32292503034661274</TD></TR>\n",
       "<TR><TD>7</TD><TD>0.44578529818450985</TD><TD>-1.0380765948630941</TD><TD>-0.8567122780208447</TD></TR>\n",
       "<TR><TD>8</TD><TD>0.4736169171884015</TD><TD>-0.12549774541256004</TD><TD>0.35141776801611424</TD></TR>\n",
       "<TR><TD>9</TD><TD>1.7823586399387168</TD><TD>0.070207359297043</TD><TD>-0.7813664602347197</TD></TR>\n",
       "</TABLE>"
      ],
      "text/plain": [
       "class=Sample name=Unnamed implementation=class=SampleImplementation name=Unnamed size=10 dimension=3 description=[X0,X1,X2] data=[[0.608202,-1.26617,-0.438266],[1.20548,-2.18139,0.350042],[-0.355007,1.43725,0.810668],[0.793156,-0.470526,0.261018],[-2.29006,-1.28289,-1.31178],[-0.0907838,0.995793,-0.139453],[-0.560206,0.44549,0.322925],[0.445785,-1.03808,-0.856712],[0.473617,-0.125498,0.351418],[1.78236,0.0702074,-0.781366]]"
      ]
     },
     "execution_count": 4,
     "metadata": {},
     "output_type": "execute_result"
    }
   ],
   "source": [
    "# Create a Sample from a DataFrame\n",
    "sample2 = ot.Sample(df.values)\n",
    "sample2.setDescription(df.columns)\n",
    "sample2"
   ]
  }
 ],
 "metadata": {
  "kernelspec": {
   "display_name": "Python 3",
   "language": "python",
   "name": "python3"
  },
  "language_info": {
   "codemirror_mode": {
    "name": "ipython",
    "version": 3
   },
   "file_extension": ".py",
   "mimetype": "text/x-python",
   "name": "python",
   "nbconvert_exporter": "python",
   "pygments_lexer": "ipython3",
   "version": "3.6.9"
  }
 },
 "nbformat": 4,
 "nbformat_minor": 1
}
