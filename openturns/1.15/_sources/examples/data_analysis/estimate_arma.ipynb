{
 "cells": [
  {
   "cell_type": "markdown",
   "metadata": {},
   "source": [
    "# Estimate a scalar ARMA process"
   ]
  },
  {
   "cell_type": "markdown",
   "metadata": {},
   "source": [
    "The objective here is to estimate an ARMA model from a scalar stationary\n",
    "time series using the Whittle estimator and a centered normal white\n",
    "noise.\n",
    "\n",
    "The data can be a unique time series or several time series collected in\n",
    "a process sample.\n",
    "\n",
    "If the user specifies the order $(p,q)$, OpenTURNS fits a model\n",
    "$ARMA(p,q)$ to the data by estimating the coefficients\n",
    "$(a_1, \\dots, a_p), (b_1, \\dots, b_q)$ and the variance $\\sigma$ of the\n",
    "white noise.\n",
    "\n",
    "If the User specifies a range of orders $(p,q) \\in Ind_p \\times Ind_q$,\n",
    "where $Ind_p = [p_1, p_2]$ and $Ind_q = [q_1, q_2]$, We find the *best*\n",
    "model $ARMA(p,q)$ that fits to the data and estimates the corresponding\n",
    "coefficients.\n",
    "\n",
    "We proceed as follows:\n",
    "\n",
    "-   the object *WhittleFactory* is created with either a specified order\n",
    "    $(p,q)$ or a range $Ind_p \\times Ind_q$. By default, the Welch\n",
    "    estimator (object *Welch*) is used with its default parameters.\n",
    "-   for each order $(p,q)$, the estimation of the parameters is done by\n",
    "    maximizing the reduced equation of the Whittle likelihood function\n",
    "    (\\[lik2\\]), thanks to the method *build* of the object\n",
    "    *WhittleFactory*. This method applies to a time series or a process\n",
    "    sample. If the user wants to get the quantified criteria\n",
    "    $AIC_c, AIC$ and *BIC* of the model $ARMA(p,q)$, he has to specify\n",
    "    it by giving a *Point* of size 0 (*Point()*) as input parameter of\n",
    "    the method *build*.\n",
    "-   the output of the estimation is, in all the cases, one unique ARMA:\n",
    "    the ARMA with the specified order or the optimal one with respect to\n",
    "    the $AIC_c$ criterion.\n",
    "-   in the case of a range $Ind_p \\times Ind_q$, the user can get all\n",
    "    the estimated models thanks to the method *getHistory* of the object\n",
    "    *WhittleFactory*. If the *build* has been parameterized by a *Point*\n",
    "    of size 0, the user also has access to all the quantified criteria.\n",
    "    \n",
    "The synthetic data is generated using the following 1-d ARMA process:\n",
    "\n",
    "$$X_{0,t} + 0.4 X_{0,t-1} + 0.3 X_{0,t-2} + 0.2 X_{0,t-3} + 0.1 X_{0,t-4} = E_{0,t} + 0.4 E_{0,t-1} + 0.3 E_{0,t-2}$$\n",
    "\n",
    "with the noise $E$ defined as:\n",
    "\n",
    "$$E \\sim Triangular(-1, 0, 1)$$"
   ]
  },
  {
   "cell_type": "code",
   "execution_count": 5,
   "metadata": {},
   "outputs": [],
   "source": [
    "from __future__ import print_function\n",
    "import openturns as ot\n",
    "import matplotlib.pyplot as plt\n",
    "ot.RandomGenerator.SetSeed(0)"
   ]
  },
  {
   "cell_type": "code",
   "execution_count": 6,
   "metadata": {},
   "outputs": [],
   "source": [
    "# Create an arma process\n",
    "\n",
    "tMin = 0.0\n",
    "n = 1000\n",
    "timeStep = 0.1\n",
    "myTimeGrid = ot.RegularGrid(tMin, timeStep, n)\n",
    "\n",
    "myWhiteNoise = ot.WhiteNoise(ot.Triangular(-1.0, 0.0, 1.0), myTimeGrid)\n",
    "myARCoef = ot.ARMACoefficients([0.4, 0.3, 0.2, 0.1])\n",
    "myMACoef = ot.ARMACoefficients([0.4, 0.3])\n",
    "arma = ot.ARMA(myARCoef, myMACoef, myWhiteNoise)\n",
    "\n",
    "tseries = ot.TimeSeries(arma.getRealization())\n",
    "\n",
    "# Create a sample of N time series from the process\n",
    "N = 100\n",
    "sample = arma.getSample(N)"
   ]
  },
  {
   "cell_type": "code",
   "execution_count": 7,
   "metadata": {},
   "outputs": [
    {
     "name": "stdout",
     "output_type": "stream",
     "text": [
      "Default spectral model factory =  class=WelchFactory window = class=FilteringWindows implementation=class=Hamming blockNumber = 1 overlap = 0\n",
      "New spectral model factory =  class=WelchFactory window = class=FilteringWindows implementation=class=Hanning blockNumber = 4 overlap = 0\n",
      "AICc= 771.8917262722518 AIC= 770.9344613149868 BIC= 824.530853637219\n"
     ]
    },
    {
     "data": {
      "text/html": [
       "<p>ARMA(X_{0,t} - 0.214424 X_{0,t-1} + 0.432622 X_{0,t-2} + 0.203859 X_{0,t-3} + 0.0512422 X_{0,t-4} = E_{0,t} - 0.194383 E_{0,t-1} + 0.461067 E_{0,t-2}, E_t ~ Normal(mu = 0, sigma = 0.406619))</p>"
      ],
      "text/plain": [
       "class= ARMA timeGrid=class=RegularGrid name=Unnamed start=0 step=0.1 n=1000 coefficients AR=class=ARMACoefficients, shift=0, value=class=SquareMatrix dimension=1 implementation=class=MatrixImplementation name=Unnamed rows=1 columns=1 values=[-0.214424], shift=1, value=class=SquareMatrix dimension=1 implementation=class=MatrixImplementation name=Unnamed rows=1 columns=1 values=[0.432622], shift=2, value=class=SquareMatrix dimension=1 implementation=class=MatrixImplementation name=Unnamed rows=1 columns=1 values=[0.203859], shift=3, value=class=SquareMatrix dimension=1 implementation=class=MatrixImplementation name=Unnamed rows=1 columns=1 values=[0.0512422] coefficients MA=class=ARMACoefficients, shift=0, value=class=SquareMatrix dimension=1 implementation=class=MatrixImplementation name=Unnamed rows=1 columns=1 values=[-0.194383], shift=1, value=class=SquareMatrix dimension=1 implementation=class=MatrixImplementation name=Unnamed rows=1 columns=1 values=[0.461067] noiseDistribution= class=Normal name=Normal dimension=1 mean=class=Point name=Unnamed dimension=1 values=[0] sigma=class=Point name=Unnamed dimension=1 values=[0.406619] correlationMatrix=class=CorrelationMatrix dimension=1 implementation=class=MatrixImplementation name=Unnamed rows=1 columns=1 values=[1] state= class= ARMAState x= class=Sample name=Unnamed implementation=class=SampleImplementation name=Unnamed size=4 dimension=1 data=[[0.209012],[-0.0891703],[-0.0382131],[-0.0505299]] epsilon= class=Sample name=Unnamed implementation=class=SampleImplementation name=Unnamed size=2 dimension=1 data=[[-0.15274],[-0.0417566]]"
      ]
     },
     "execution_count": 7,
     "metadata": {},
     "output_type": "execute_result"
    }
   ],
   "source": [
    "# CASE 1 : we specify a (p,q) order\n",
    "\n",
    "# Specify the order (p,q)\n",
    "p = 4\n",
    "q = 2\n",
    "\n",
    "# Create the estimator\n",
    "factory = ot.WhittleFactory(p, q)\n",
    "print(\"Default spectral model factory = \", factory.getSpectralModelFactory())\n",
    "\n",
    "# To set the spectral model factory\n",
    "# For example, set WelchFactory as SpectralModelFactory\n",
    "# with the Hanning filtering window\n",
    "# The Welch estimator splits the time series in four blocs without overlap\n",
    "myFilteringWindow = ot.Hanning()\n",
    "mySpectralFactory = ot.WelchFactory(myFilteringWindow, 4, 0)\n",
    "factory.setSpectralModelFactory(mySpectralFactory)\n",
    "print(\"New spectral model factory = \", factory.getSpectralModelFactory())\n",
    "\n",
    "# Estimate the ARMA model from a time series\n",
    "# To get the quantified AICc, AIC and BIC criteria\n",
    "arma42, criterion = factory.buildWithCriteria(tseries)\n",
    "AICc, AIC, BIC = criterion[0:3]\n",
    "print('AICc=', AICc, 'AIC=', AIC, 'BIC=', BIC)\n",
    "arma42"
   ]
  },
  {
   "cell_type": "code",
   "execution_count": 8,
   "metadata": {},
   "outputs": [
    {
     "name": "stdout",
     "output_type": "stream",
     "text": [
      "AICc= 4443.4456045627585 AIC= 4443.217962286336 BIC= 4516.222475664246\n"
     ]
    },
    {
     "data": {
      "text/html": [
       "<p>ARMA(X_{0,t} + 0.382771 X_{0,t-1} + 0.185752 X_{0,t-2} = E_{0,t} + 0.385312 E_{0,t-1} + 0.192682 E_{0,t-2} - 0.191497 E_{0,t-3} - 0.102842 E_{0,t-4}, E_t ~ Normal(mu = 0, sigma = 0.409595))</p>"
      ],
      "text/plain": [
       "class= ARMA timeGrid=class=RegularGrid name=Unnamed start=0 step=0.1 n=1000 coefficients AR=class=ARMACoefficients, shift=0, value=class=SquareMatrix dimension=1 implementation=class=MatrixImplementation name=Unnamed rows=1 columns=1 values=[0.382771], shift=1, value=class=SquareMatrix dimension=1 implementation=class=MatrixImplementation name=Unnamed rows=1 columns=1 values=[0.185752] coefficients MA=class=ARMACoefficients, shift=0, value=class=SquareMatrix dimension=1 implementation=class=MatrixImplementation name=Unnamed rows=1 columns=1 values=[0.385312], shift=1, value=class=SquareMatrix dimension=1 implementation=class=MatrixImplementation name=Unnamed rows=1 columns=1 values=[0.192682], shift=2, value=class=SquareMatrix dimension=1 implementation=class=MatrixImplementation name=Unnamed rows=1 columns=1 values=[-0.191497], shift=3, value=class=SquareMatrix dimension=1 implementation=class=MatrixImplementation name=Unnamed rows=1 columns=1 values=[-0.102842] noiseDistribution= class=Normal name=Normal dimension=1 mean=class=Point name=Unnamed dimension=1 values=[0] sigma=class=Point name=Unnamed dimension=1 values=[0.409595] correlationMatrix=class=CorrelationMatrix dimension=1 implementation=class=MatrixImplementation name=Unnamed rows=1 columns=1 values=[1] state= class= ARMAState x= class=Sample name=Unnamed implementation=class=SampleImplementation name=Unnamed size=2 dimension=1 data=[[0.14499],[-0.41704]] epsilon= class=Sample name=Unnamed implementation=class=SampleImplementation name=Unnamed size=4 dimension=1 data=[[0.146594],[-0.264889],[0.238654],[-0.368263]]"
      ]
     },
     "execution_count": 8,
     "metadata": {},
     "output_type": "execute_result"
    }
   ],
   "source": [
    "# CASE 2 : we specify a range of (p,q) orders\n",
    "###################################\n",
    "\n",
    "# Range for p\n",
    "pIndices = [1, 2, 4]\n",
    "# Range for q = [4,5,6]\n",
    "qIndices = [4, 5, 6]\n",
    "\n",
    "# Build a Whittle factory with default SpectralModelFactory (WelchFactory)\n",
    "# this time using ranges of order p and q\n",
    "factory_range = ot.WhittleFactory(pIndices, qIndices)\n",
    "\n",
    "# Estimate the arma model from a process sample\n",
    "arma_range, criterion = factory_range.buildWithCriteria(sample)\n",
    "AICc, AIC, BIC = criterion[0:3]\n",
    "print('AICc=', AICc, 'AIC=', AIC, 'BIC=', BIC)\n",
    "arma_range"
   ]
  },
  {
   "cell_type": "code",
   "execution_count": 9,
   "metadata": {},
   "outputs": [
    {
     "data": {
      "text/html": [
       "<p>WhiteNoise(Normal(mu = 0, sigma = 0.409595))</p>"
      ],
      "text/plain": [
       "class=WhiteNoise distribution=class=Normal name=Normal dimension=1 mean=class=Point name=Unnamed dimension=1 values=[0] sigma=class=Point name=Unnamed dimension=1 values=[0.409595] correlationMatrix=class=CorrelationMatrix dimension=1 implementation=class=MatrixImplementation name=Unnamed rows=1 columns=1 values=[1]"
      ]
     },
     "execution_count": 9,
     "metadata": {},
     "output_type": "execute_result"
    }
   ],
   "source": [
    "# Results exploitation\n",
    "\n",
    "# Get the white noise of the (best) estimated arma\n",
    "arma_range.getWhiteNoise()"
   ]
  }
 ],
 "metadata": {
  "kernelspec": {
   "display_name": "Python 3",
   "language": "python",
   "name": "python3"
  },
  "language_info": {
   "codemirror_mode": {
    "name": "ipython",
    "version": 3
   },
   "file_extension": ".py",
   "mimetype": "text/x-python",
   "name": "python",
   "nbconvert_exporter": "python",
   "pygments_lexer": "ipython3",
   "version": "3.6.5"
  }
 },
 "nbformat": 4,
 "nbformat_minor": 1
}
