{
 "cells": [
  {
   "cell_type": "markdown",
   "metadata": {},
   "source": [
    "# Value function"
   ]
  },
  {
   "cell_type": "markdown",
   "metadata": {},
   "source": [
    "A value function\n",
    "$f_{value}: \\mathcal{D} \\times \\mathbb{R}^d \\rightarrow \\mathcal{D} \\times \\mathbb{R}^q$ is a\n",
    "particular field function that lets invariant the mesh of a field\n",
    "and defined by a function $g : \\mathbb{R}^d  \\rightarrow \\mathbb{R}^q$ such that:\n",
    "\n",
    "$$\\begin{aligned} f_{value}(\\underline{t}, \\underline{x})=(\\underline{t}, g(\\underline{x}))\\end{aligned}$$\n",
    "\n",
    "Let’s note that the input dimension of $f_{value}$ still designs the\n",
    "dimension of $\\underline{x}$ : $d$. Its output dimension is equal to $q$.\n",
    "\n",
    "The creation of the *ValueFunction* object requires the\n",
    "function $g$ and the integer $n$: the dimension of the\n",
    "vertices of the mesh $\\mathcal{M}$. This data is required for tests on the\n",
    "compatibility of dimension when a composite process is created using the\n",
    "spatial function.\n",
    "\n",
    "\n",
    "The use case illustrates the creation of a spatial (field) function\n",
    "from the function $g: \\mathbb{R}^2  \\rightarrow \\mathbb{R}^2$ such as :\n",
    "$$\\begin{aligned}\n",
    "  g(\\underline{x})=(x_1^2, x_1+x_2)\\end{aligned}$$"
   ]
  },
  {
   "cell_type": "code",
   "execution_count": 1,
   "metadata": {},
   "outputs": [],
   "source": [
    "from __future__ import print_function\n",
    "import openturns as ot\n",
    "import math as m"
   ]
  },
  {
   "cell_type": "code",
   "execution_count": 2,
   "metadata": {},
   "outputs": [],
   "source": [
    "# Create a mesh\n",
    "N = 100\n",
    "mesh = ot.RegularGrid(0.0, 1.0, N)"
   ]
  },
  {
   "cell_type": "code",
   "execution_count": 3,
   "metadata": {},
   "outputs": [],
   "source": [
    "# Create the function that acts the values of the mesh\n",
    "g = ot.SymbolicFunction(['x1', 'x2'],  ['x1^2', 'x1+x2'])"
   ]
  },
  {
   "cell_type": "code",
   "execution_count": 4,
   "metadata": {},
   "outputs": [],
   "source": [
    "# Create the field function\n",
    "f = ot.ValueFunction(g, mesh)"
   ]
  },
  {
   "cell_type": "code",
   "execution_count": 5,
   "metadata": {},
   "outputs": [
    {
     "data": {
      "text/html": [
       "<TABLE><TR><TD></TD><TH>X0</TH><TH>X1</TH><TH>y0</TH><TH>y1</TH></TR>\n",
       "<TR><TD>0</TD><TD>0.6082016512187646</TD><TD>-1.2661731022166567</TD><TD>0.3699092485452318</TD><TD>-0.6579714509978921</TD></TR>\n",
       "<TR><TD>1</TD><TD>-0.43826561996041397</TD><TD>1.2054782008285756</TD><TD>0.192076753639286</TD><TD>0.7672125808681616</TD></TR>\n",
       "<TR><TD>2</TD><TD>-2.1813852346165143</TD><TD>0.3500420865302907</TD><TD>4.758441541802945</TD><TD>-1.8313431480862237</TD></TR>\n",
       "<TR><TD>3</TD><TD>-0.3550070491856397</TD><TD>1.437249310140903</TD><TD>0.1260300049714952</TD><TD>1.0822422609552633</TD></TR>\n",
       "<TR><TD>4</TD><TD>0.8106679824694837</TD><TD>0.79315601145977</TD><TD>0.6571825778011431</TD><TD>1.6038239939292538</TD></TR>\n",
       "</TABLE>"
      ],
      "text/plain": [
       "class=Sample name=Unnamed implementation=class=SampleImplementation name=Unnamed size=5 dimension=4 description=[X0,X1,y0,y1] data=[[0.608202,-1.26617,0.369909,-0.657971],[-0.438266,1.20548,0.192077,0.767213],[-2.18139,0.350042,4.75844,-1.83134],[-0.355007,1.43725,0.12603,1.08224],[0.810668,0.793156,0.657183,1.60382]]"
      ]
     },
     "execution_count": 5,
     "metadata": {},
     "output_type": "execute_result"
    }
   ],
   "source": [
    "# Evaluate f\n",
    "inF = ot.Normal(2).getSample(N)\n",
    "outF = f(inF)\n",
    "\n",
    "# print input/output at first mesh nodes\n",
    "xy = inF\n",
    "xy.stack(outF)\n",
    "xy[:5]"
   ]
  }
 ],
 "metadata": {
  "kernelspec": {
   "display_name": "Python 3",
   "language": "python",
   "name": "python3"
  },
  "language_info": {
   "codemirror_mode": {
    "name": "ipython",
    "version": 3
   },
   "file_extension": ".py",
   "mimetype": "text/x-python",
   "name": "python",
   "nbconvert_exporter": "python",
   "pygments_lexer": "ipython3",
   "version": "3.6.5"
  }
 },
 "nbformat": 4,
 "nbformat_minor": 1
}
