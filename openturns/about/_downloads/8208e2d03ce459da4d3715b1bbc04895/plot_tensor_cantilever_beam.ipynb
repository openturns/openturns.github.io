{
  "cells": [
    {
      "cell_type": "code",
      "execution_count": null,
      "metadata": {
        "collapsed": false
      },
      "outputs": [],
      "source": [
        "%matplotlib inline"
      ]
    },
    {
      "cell_type": "markdown",
      "metadata": {},
      "source": [
        "\n# Tensor approximation of the cantilever beam model\n"
      ]
    },
    {
      "cell_type": "markdown",
      "metadata": {},
      "source": [
        "In this example, we create a low-rank approximation in the canonical tensor format of the cantilever beam.\n\nIn order to fit the hyper-parameters of the approximation, we use a design of experiments which size is 10000.\n\n"
      ]
    },
    {
      "cell_type": "markdown",
      "metadata": {},
      "source": [
        "We consider a cantilever beam defined by its Young\u2019s modulus $E$, its length $L$ and its section modulus $I$. One end of the cantilever beam is built in a wall and we apply a concentrated bending load $F$ at the other end of the beam, resulting in a deviation $Y$.\n\n.. figure:: ../../_static/beam.png\n   :align: center\n   :width: 25%\n\n   The beam geometry\n\n**Inputs**\n\n* $E$ : Young modulus (Pa), Beta(r = 0.9, t = 3.5, a = $2.5\\times 10^7$, $b = 5\\times 10^7$)\n* $F$ : Loading (N), Lognormal($\\mu_F=30 \\times 10^3$, $\\sigma_F=9\\times 10^3$, shift= $15 \\times 10^3$)\n* $L$ : Length of beam (cm), Uniform(min=250.0, max= 260.0)\n* $I$ : Moment of inertia (cm^4), Beta(r = 2.5, t = 4.0, a = 310, b = 450).\n\nIn the previous table $\\mu_F=E(F)$ and $\\sigma_F=\\sqrt{V(F)}$ are the mean and the standard deviation of $F$.\n\nWe assume that the random variables E, F, L and I are dependent and associated with a gaussian copula which correlation matrix is :\n\n\\begin{align}R = \\begin{pmatrix}\n         1 & 0 & 0 & 0 \\\\\n         0 & 1 & 0 & 0 \\\\\n         0 & 0 & 1 & -0.2 \\\\\n         0 & 0 & -0.2 & 1\n       \\end{pmatrix}\\end{align}\n\n\nIn other words, we consider that the variables L and I are negatively correlated : when the length L increases, the moment of intertia I decreases.\n\n**Output**\n\nThe vertical displacement at free end of the cantilever beam is:\n\n\\begin{align}Y  = \\dfrac{F\\, L^3}{3 \\, E \\, I}\\end{align}\n\n\n\n"
      ]
    },
    {
      "cell_type": "markdown",
      "metadata": {},
      "source": [
        "## Definition of the model\n\n"
      ]
    },
    {
      "cell_type": "code",
      "execution_count": null,
      "metadata": {
        "collapsed": false
      },
      "outputs": [],
      "source": [
        "import openturns as ot\nimport openturns.viewer as viewer\nfrom matplotlib import pylab as plt\not.Log.Show(ot.Log.NONE)"
      ]
    },
    {
      "cell_type": "markdown",
      "metadata": {},
      "source": [
        "We define the symbolic function which evaluates the output Y depending on the inputs E, F, L and I.\n\n"
      ]
    },
    {
      "cell_type": "code",
      "execution_count": null,
      "metadata": {
        "collapsed": false
      },
      "outputs": [],
      "source": [
        "model = ot.SymbolicFunction([\"E\", \"F\", \"L\", \"I\"], [\"F*L^3/(3*E*I)\"])"
      ]
    },
    {
      "cell_type": "markdown",
      "metadata": {},
      "source": [
        "Then we define the distribution of the input random vector.\n\n"
      ]
    },
    {
      "cell_type": "markdown",
      "metadata": {},
      "source": [
        "Young's modulus E\n\n"
      ]
    },
    {
      "cell_type": "code",
      "execution_count": null,
      "metadata": {
        "collapsed": false
      },
      "outputs": [],
      "source": [
        "E = ot.Beta(0.9, 3.5, 2.5e7, 5.0e7)  # in N/m^2\nE.setDescription(\"E\")\n# Load F\nF = ot.LogNormal()  # in N\nF.setParameter(ot.LogNormalMuSigma()([30.e3, 9e3, 15.e3]))\nF.setDescription(\"F\")\n# Length L\nL = ot.Uniform(250., 260.)  # in cm\nL.setDescription(\"L\")\n# Moment of inertia I\nI = ot.Beta(2.5, 4, 310, 450)  # in cm^4\nI.setDescription(\"I\")"
      ]
    },
    {
      "cell_type": "markdown",
      "metadata": {},
      "source": [
        "Finally, we define the dependency using a `NormalCopula`.\n\n"
      ]
    },
    {
      "cell_type": "code",
      "execution_count": null,
      "metadata": {
        "collapsed": false
      },
      "outputs": [],
      "source": [
        "myDistribution = ot.ComposedDistribution([E, F, L, I])"
      ]
    },
    {
      "cell_type": "markdown",
      "metadata": {},
      "source": [
        "## Create the design of experiments\n\n"
      ]
    },
    {
      "cell_type": "markdown",
      "metadata": {},
      "source": [
        "We consider a simple Monte-Carlo sampling as a design of experiments. This is why we generate an input sample using the `getSample` method of the distribution. Then we evaluate the output using the `model` function.\n\n"
      ]
    },
    {
      "cell_type": "code",
      "execution_count": null,
      "metadata": {
        "collapsed": false
      },
      "outputs": [],
      "source": [
        "sampleSize_train = 10000\nX_train = myDistribution.getSample(sampleSize_train)\nY_train = model(X_train)"
      ]
    },
    {
      "cell_type": "markdown",
      "metadata": {},
      "source": [
        "The following figure presents the distribution of the vertical deviations Y on the training sample. We observe that the large deviations occur less often.\n\n"
      ]
    },
    {
      "cell_type": "code",
      "execution_count": null,
      "metadata": {
        "collapsed": false
      },
      "outputs": [],
      "source": [
        "histo = ot.HistogramFactory().build(Y_train).drawPDF()\nhisto.setXTitle(\"Vertical deviation (cm)\")\nhisto.setTitle(\"Distribution of the vertical deviation\")\nhisto.setLegends([\"\"])\nview = viewer.View(histo)"
      ]
    },
    {
      "cell_type": "markdown",
      "metadata": {},
      "source": [
        "## Create the metamodel\n\n"
      ]
    },
    {
      "cell_type": "markdown",
      "metadata": {},
      "source": [
        "We recall that the metamodel writes as:\n\n\\begin{align}f(X_1, \\dots, X_d) = \\sum_{i=1}^m \\prod_{j=1}^d v_j^{(i)} (x_j), \\forall x \\in \\mathbb{R}^d\\end{align}\n\nwith:\n\n\\begin{align}v_j^{(i)} (x_j) = \\sum_{k=1}^{n_j} \\beta_{j,k}^{(i)} \\phi_{j,k} (x_j)\\end{align}\n\nWe should define :\n\n - The family of univariate functions $\\phi_j$. We choose the orthogonal basis with respect to the marginal distribution measures.\n - The maximal rank $m$. Here value is set to 5\n - The marginal degrees $n_j$. Here we set the degrees to [4, 15, 3, 2]\n\n\n"
      ]
    },
    {
      "cell_type": "code",
      "execution_count": null,
      "metadata": {
        "collapsed": false
      },
      "outputs": [],
      "source": [
        "factoryCollection = [ot.OrthogonalUniVariatePolynomialFunctionFactory(\n    ot.StandardDistributionPolynomialFactory(_)) for _ in [E, F, L, I]]\nfunctionFactory = ot.OrthogonalProductFunctionFactory(factoryCollection)\nnk = [4, 15, 3, 2]\nmaxRank = 1"
      ]
    },
    {
      "cell_type": "markdown",
      "metadata": {},
      "source": [
        "Finally we might launch the algorithm:\n\n"
      ]
    },
    {
      "cell_type": "code",
      "execution_count": null,
      "metadata": {
        "collapsed": false
      },
      "outputs": [],
      "source": [
        "algo = ot.TensorApproximationAlgorithm(\n    X_train, Y_train, myDistribution, functionFactory, nk, maxRank)\nalgo.run()\nresult = algo.getResult()\nmetamodel = result.getMetaModel()"
      ]
    },
    {
      "cell_type": "markdown",
      "metadata": {},
      "source": [
        "The `run` method has optimized the hyperparameters of the metamodel ($\\beta$ coefficients).\n\nWe can then print the coefficients which have been estimated using a double loop.\n\n"
      ]
    },
    {
      "cell_type": "code",
      "execution_count": null,
      "metadata": {
        "collapsed": false
      },
      "outputs": [],
      "source": [
        "tensor = result.getTensor()\nfor j in range(myDistribution.getDimension()):\n    print(\"j =\", j)\n    for i in range(maxRank):\n        for k in range(nk[j]):\n            print(tensor.getCoefficients(i, j)[k])"
      ]
    },
    {
      "cell_type": "markdown",
      "metadata": {},
      "source": [
        "## Validate the metamodel\n\n"
      ]
    },
    {
      "cell_type": "markdown",
      "metadata": {},
      "source": [
        "We finally want to validate the kriging metamodel. This is why we generate a validation sample which size is equal to 100 and we evaluate the output of the model on this sample.\n\n"
      ]
    },
    {
      "cell_type": "code",
      "execution_count": null,
      "metadata": {
        "collapsed": false
      },
      "outputs": [],
      "source": [
        "sampleSize_test = 200\nX_test = myDistribution.getSample(sampleSize_test)\nY_test = model(X_test)"
      ]
    },
    {
      "cell_type": "markdown",
      "metadata": {},
      "source": [
        "The `MetaModelValidation` classe makes the validation easy. To create it, we use the validation samples and the metamodel.\n\n"
      ]
    },
    {
      "cell_type": "code",
      "execution_count": null,
      "metadata": {
        "collapsed": false
      },
      "outputs": [],
      "source": [
        "val = ot.MetaModelValidation(X_test, Y_test, metamodel)"
      ]
    },
    {
      "cell_type": "markdown",
      "metadata": {},
      "source": [
        "The `computePredictivityFactor` computes the Q2 factor.\n\n"
      ]
    },
    {
      "cell_type": "code",
      "execution_count": null,
      "metadata": {
        "collapsed": false
      },
      "outputs": [],
      "source": [
        "Q2 = val.computePredictivityFactor()[0]\nQ2"
      ]
    },
    {
      "cell_type": "markdown",
      "metadata": {},
      "source": [
        "Since the Q2 is larger than 95%, we can say that the quality is acceptable.\n\n"
      ]
    },
    {
      "cell_type": "markdown",
      "metadata": {},
      "source": [
        "The residuals are the difference between the model and the metamodel.\n\n"
      ]
    },
    {
      "cell_type": "code",
      "execution_count": null,
      "metadata": {
        "collapsed": false
      },
      "outputs": [],
      "source": [
        "r = val.getResidualSample()\ngraph = ot.HistogramFactory().build(r).drawPDF()\nview = viewer.View(graph)"
      ]
    },
    {
      "cell_type": "markdown",
      "metadata": {},
      "source": [
        "We observe that the negative residuals occur with nearly the same frequency of the positive residuals: this is a first   sign of good quality. Furthermore, the residuals are most of the times contained in the [-1,1] interval, which is a sign of quality given the amplitude of the output (approximately from 5 to 25 cm).\n\n"
      ]
    },
    {
      "cell_type": "markdown",
      "metadata": {},
      "source": [
        "The `drawValidation` method allows one to compare the observed outputs and the metamodel outputs.\n\n"
      ]
    },
    {
      "cell_type": "code",
      "execution_count": null,
      "metadata": {
        "collapsed": false
      },
      "outputs": [],
      "source": [
        "graph = val.drawValidation()\ngraph.setTitle(\"Q2 = %.2f%%\" % (100*Q2))\nview = viewer.View(graph)\n\nplt.show()"
      ]
    },
    {
      "cell_type": "markdown",
      "metadata": {},
      "source": [
        "We observe that the metamodel predictions are close to the model outputs, since most red points are close to the diagonal. However, when we consider extreme deviations (i.e. less than 10 or larger than 20), then the quality is less obvious.\n\nGiven that the kriging metamodel quality is sensitive to the design of experiments, it might be interesting to consider a Latin Hypercube Sampling (LHS) design to further improve the predictions quality.\n\n"
      ]
    }
  ],
  "metadata": {
    "kernelspec": {
      "display_name": "Python 3",
      "language": "python",
      "name": "python3"
    },
    "language_info": {
      "codemirror_mode": {
        "name": "ipython",
        "version": 3
      },
      "file_extension": ".py",
      "mimetype": "text/x-python",
      "name": "python",
      "nbconvert_exporter": "python",
      "pygments_lexer": "ipython3",
      "version": "3.10.4"
    }
  },
  "nbformat": 4,
  "nbformat_minor": 0
}