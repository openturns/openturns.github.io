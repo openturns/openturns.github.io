{
 "cells": [
  {
   "cell_type": "markdown",
   "metadata": {},
   "source": [
    "# Save/load a study"
   ]
  },
  {
   "cell_type": "markdown",
   "metadata": {},
   "source": [
    "The objective of this example is to demonstrate how to save the structures created within a script session to disk in order to be able to load them in a future session.\n",
    "\n",
    "There are several possible ways to achieve this:\n",
    "\n",
    "- with the standard pickle module\n",
    "- with openturns's Study"
   ]
  },
  {
   "cell_type": "code",
   "execution_count": 1,
   "metadata": {
    "collapsed": true
   },
   "outputs": [],
   "source": [
    "from __future__ import print_function\n",
    "import openturns as ot\n",
    "import os\n",
    "import pickle"
   ]
  },
  {
   "cell_type": "code",
   "execution_count": 2,
   "metadata": {
    "collapsed": true
   },
   "outputs": [],
   "source": [
    "# create objects to save\n",
    "distribution = ot.Normal(4.0, 3.0)\n",
    "function = ot.SymbolicFunction(['x1', 'x2'], ['x1 + x2'])"
   ]
  },
  {
   "cell_type": "markdown",
   "metadata": {},
   "source": [
    "**With the pickle module**\n",
    "\n",
    "The objects are retrieved in the same order they are stored."
   ]
  },
  {
   "cell_type": "code",
   "execution_count": 3,
   "metadata": {
    "collapsed": true
   },
   "outputs": [],
   "source": [
    "# save objects\n",
    "with open('study.pkl', 'wb') as f:\n",
    "    pickle.dump(distribution, f)\n",
    "    pickle.dump(function, f)"
   ]
  },
  {
   "cell_type": "code",
   "execution_count": 4,
   "metadata": {},
   "outputs": [
    {
     "data": {
      "text/plain": [
       "('Normal(mu = 4, sigma = 3)', '[x1,x2]->[x1 + x2]')"
      ]
     },
     "execution_count": 4,
     "metadata": {},
     "output_type": "execute_result"
    }
   ],
   "source": [
    "# load saved objects\n",
    "with open('study.pkl', 'rb') as f:\n",
    "    loaded_distribution = pickle.load(f)\n",
    "    loaded_function = pickle.load(f)\n",
    "str(loaded_distribution), str(loaded_function)"
   ]
  },
  {
   "cell_type": "markdown",
   "metadata": {},
   "source": [
    "**With OpenTURNS' Study**\n",
    "\n",
    "In order to be able to manipulate the objects contained in a Study, it is necessary to:\n",
    "\n",
    "- create the same empty structure in the new study,\n",
    "- fill this new empty structure with the content of the loaded structure, identified with its name or its id.\n",
    "\n",
    "Each object is identified whether with:\n",
    "\n",
    "- its name: it is useful to give names to the objects we want to save. If no name has been given by the user, we can use the name by default. The name of each object saved can be checked in the file.XML created or by printing the study in the python interface (with the command print).\n",
    "- its id number : this id number is unique for each object. It is useful to distinguish objects of same type which names are identical, equal to the default name given ('Unnamed'). This id number may be checked by printing the study loaded in the python interface (with the command print): be careful, this print operation must be performed after having loaded the study (the id number may be different from the one indicated in the file.XML associated to the study)."
   ]
  },
  {
   "cell_type": "code",
   "execution_count": 5,
   "metadata": {
    "collapsed": true
   },
   "outputs": [],
   "source": [
    "# Create a Study Object\n",
    "study = ot.Study()"
   ]
  },
  {
   "cell_type": "code",
   "execution_count": 6,
   "metadata": {
    "collapsed": true
   },
   "outputs": [],
   "source": [
    "# Associate it to an XML file\n",
    "fileName = 'study.xml'\n",
    "study.setStorageManager(ot.XMLStorageManager(fileName))"
   ]
  },
  {
   "cell_type": "code",
   "execution_count": 7,
   "metadata": {
    "collapsed": true
   },
   "outputs": [],
   "source": [
    "# Add an object to the study; at this point it is not written to disk yet\n",
    "study.add('distribution', distribution)\n",
    "study.add('function', function)"
   ]
  },
  {
   "cell_type": "code",
   "execution_count": 8,
   "metadata": {
    "collapsed": true
   },
   "outputs": [],
   "source": [
    "# Save the study; this writes into the file\n",
    "study.save()"
   ]
  },
  {
   "cell_type": "code",
   "execution_count": 9,
   "metadata": {
    "collapsed": true
   },
   "outputs": [],
   "source": [
    "# Create a new study associated to the same file\n",
    "study = ot.Study()\n",
    "study.setStorageManager(ot.XMLStorageManager(fileName))"
   ]
  },
  {
   "cell_type": "code",
   "execution_count": 10,
   "metadata": {
    "collapsed": true
   },
   "outputs": [],
   "source": [
    "# Load the file and all its objects\n",
    "study.load()"
   ]
  },
  {
   "cell_type": "code",
   "execution_count": 11,
   "metadata": {},
   "outputs": [
    {
     "name": "stdout",
     "output_type": "stream",
     "text": [
      "Study =    649 => Normal\n",
      "         Normal(mu = 4, sigma = 3)\n",
      "  913 => FunctionImplementation\n",
      "         [x1,x2]->[x1 + x2]\n",
      "  'distribution' is aliased to 649\n",
      "  'function' is aliased to 913\n"
     ]
    }
   ],
   "source": [
    "# Check the content of the myStudy\n",
    "print(\"Study = \" , study)"
   ]
  },
  {
   "cell_type": "code",
   "execution_count": 12,
   "metadata": {},
   "outputs": [
    {
     "data": {
      "text/plain": [
       "'distribution;function'"
      ]
     },
     "execution_count": 12,
     "metadata": {},
     "output_type": "execute_result"
    }
   ],
   "source": [
    "# List names of stored objects\n",
    "study.printLabels()"
   ]
  },
  {
   "cell_type": "code",
   "execution_count": 13,
   "metadata": {},
   "outputs": [
    {
     "data": {
      "text/plain": [
       "True"
      ]
     },
     "execution_count": 13,
     "metadata": {},
     "output_type": "execute_result"
    }
   ],
   "source": [
    "# Check our 'distribution' labelled object was loaded\n",
    "study.hasObject('distribution')"
   ]
  },
  {
   "cell_type": "code",
   "execution_count": 14,
   "metadata": {},
   "outputs": [
    {
     "data": {
      "text/plain": [
       "('Normal(mu = 4, sigma = 3)', '[x1,x2]->[x1 + x2]')"
      ]
     },
     "execution_count": 14,
     "metadata": {},
     "output_type": "execute_result"
    }
   ],
   "source": [
    "# Load the objects; we must create a void object of the desired type (or parent type)\n",
    "distributionLoaded = ot.Normal()\n",
    "functionLoaded = ot.Function()\n",
    "study.fillObject('distribution', loaded_distribution)\n",
    "study.fillObject('function', loaded_function)\n",
    "str(loaded_distribution), str(loaded_function)"
   ]
  }
 ],
 "metadata": {
  "kernelspec": {
   "display_name": "Python 3",
   "language": "python",
   "name": "python3"
  },
  "language_info": {
   "codemirror_mode": {
    "name": "ipython",
    "version": 3
   },
   "file_extension": ".py",
   "mimetype": "text/x-python",
   "name": "python",
   "nbconvert_exporter": "python",
   "pygments_lexer": "ipython3",
   "version": "3.5.2"
  }
 },
 "nbformat": 4,
 "nbformat_minor": 1
}
