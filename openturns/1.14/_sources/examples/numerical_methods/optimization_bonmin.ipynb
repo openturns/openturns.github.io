{
 "cells": [
  {
   "cell_type": "markdown",
   "metadata": {},
   "source": [
    "# Optimization using bonmin"
   ]
  },
  {
   "cell_type": "markdown",
   "metadata": {},
   "source": [
    "In this example we are going to explore mixed-integer non linear problems optimization using OpenTURNS' [bonmin](https://www.coin-or.org/Bonmin/index.html) interface."
   ]
  },
  {
   "cell_type": "code",
   "execution_count": 1,
   "metadata": {},
   "outputs": [],
   "source": [
    "from __future__ import print_function\n",
    "import openturns as ot"
   ]
  },
  {
   "cell_type": "code",
   "execution_count": 2,
   "metadata": {},
   "outputs": [
    {
     "name": "stdout",
     "output_type": "stream",
     "text": [
      "B-BB\n",
      "B-OA\n",
      "B-QG\n",
      "B-Hyb\n",
      "B-iFP\n"
     ]
    }
   ],
   "source": [
    "# List available algorithms\n",
    "for algo in ot.Bonmin.GetAlgorithmNames():\n",
    "    print(algo)"
   ]
  },
  {
   "cell_type": "markdown",
   "metadata": {},
   "source": [
    "Details and references on bonmin algorithms are available [here](https://projects.coin-or.org/Bonmin)."
   ]
  },
  {
   "cell_type": "markdown",
   "metadata": {},
   "source": [
    "### Setting up and solving a simple problem\n",
    "\n",
    "The following example will demonstrate the use of bonmin \"BB\" algorithm to solve the following problem:\n",
    "\n",
    "$$ \\min - x_0 - x_1 - x_2 $$\n",
    "    \n",
    "such that:\n",
    "    \n",
    "$$\\begin{array}{l}\n",
    "(x_1 - \\frac{1}{2})^2 + (x_2 - \\frac{1}{2})^2 \\leq \\frac{1}{4} \\\\\n",
    "x_0 - x_1 \\leq 0 \\\\\n",
    "x_0 + x_2 + x_3 \\leq 2\\\\\n",
    "x_0 \\in \\{0,1\\}^n\\\\\n",
    "(x_1, x_2) \\in \\mathbb{R}^2\\\\\n",
    "x_3 \\in \\mathbb{N}\n",
    "\\end{array} $$\n",
    "\n",
    "The theoretical minimum is reached for $x = [1,1,0.5,0]$. At this point, the objective function value is $-2.5$\n",
    "\n",
    "N.B.: OpenTURNS requires equality and inequality constraints to be stated as $g(x) = 0$ and $h(x) \\geq 0$, respectively. Thus the inequalities above will have to be restated to match this requirement:\n",
    "\n",
    "$$\\begin{array}{l}\n",
    "-(x_1 - \\frac{1}{2})^2 - (x_2 - \\frac{1}{2})^2 + \\frac{1}{4} \\geq 0\\\\\n",
    "-x_0 + x_1 \\geq 0 \\\\\n",
    "-x_0 - x_2 - x_3 + 2 \\geq 0\\\\\n",
    "\\end{array} $$"
   ]
  },
  {
   "cell_type": "code",
   "execution_count": 9,
   "metadata": {
    "scrolled": true
   },
   "outputs": [],
   "source": [
    "# Definition of objective function\n",
    "objectiveFunction = ot.SymbolicFunction(['x0','x1','x2','x3'], ['-x0 -x1 -x2'])\n",
    "\n",
    "# Definition of variables bounds\n",
    "bounds = ot.Interval([0,0,0,0],[1,1e99,1e99,5],[True,True,True,True],[True,False,False,True])\n",
    "\n",
    "# Definition of constraints\n",
    "# Constraints in OpenTURNS are defined as g(x) = 0 and h(x) >= 0\n",
    "#    No equality constraint -> nothing to do\n",
    "#    Inequality constraints:\n",
    "h = ot.SymbolicFunction(['x0','x1','x2','x3'], ['-(x1-0.5)^2 - (x2-0.5)^2 + 0.25', 'x1 - x0', '-x0 - x2 - x3 + 2'])\n",
    "    \n",
    "# Definition of variables types\n",
    "variablesType = [ot.OptimizationProblemImplementation.BINARY,ot.OptimizationProblemImplementation.CONTINUOUS,ot.OptimizationProblemImplementation.CONTINUOUS,ot.OptimizationProblemImplementation.INTEGER]\n",
    "\n",
    "# Setting up Bonmin problem\n",
    "problem = ot.OptimizationProblem(objectiveFunction)\n",
    "problem.setBounds(bounds)\n",
    "problem.setVariablesType(variablesType)\n",
    "problem.setInequalityConstraint(h)\n",
    "\n",
    "bonminAlgorithm = ot.Bonmin(problem,'B-BB')\n",
    "bonminAlgorithm.setMaximumEvaluationNumber(10000)\n",
    "bonminAlgorithm.setMaximumIterationNumber(1000)\n",
    "bonminAlgorithm.setStartingPoint([0,0,0,0])\n",
    "\n",
    "ot.ResourceMap.SetAsString('Bonmin-mu_oracle','loqo')\n",
    "ot.ResourceMap.SetAsScalar('Bonmin-bonmin.time_limit',5)"
   ]
  },
  {
   "cell_type": "code",
   "execution_count": 10,
   "metadata": {},
   "outputs": [
    {
     "name": "stdout",
     "output_type": "stream",
     "text": [
      " -- Optimal point = [1,1,0.500141,0]\n",
      " -- Optimal value = [-2.50014]\n",
      " -- Evaluation number = 147\n"
     ]
    }
   ],
   "source": [
    "# Running the solver\n",
    "bonminAlgorithm.run()\n",
    "\n",
    "# Retrieving the results\n",
    "result = bonminAlgorithm.getResult()\n",
    "print(\" -- Optimal point = \" + result.getOptimalPoint().__str__())\n",
    "print(\" -- Optimal value = \" + result.getOptimalValue().__str__())\n",
    "print(\" -- Evaluation number = \" + result.getInputSample().getSize().__str__())\n"
   ]
  }
 ],
 "metadata": {
  "kernelspec": {
   "display_name": "Python 3",
   "language": "python",
   "name": "python3"
  },
  "language_info": {
   "codemirror_mode": {
    "name": "ipython",
    "version": 3
   },
   "file_extension": ".py",
   "mimetype": "text/x-python",
   "name": "python",
   "nbconvert_exporter": "python",
   "pygments_lexer": "ipython3",
   "version": "3.6.8"
  }
 },
 "nbformat": 4,
 "nbformat_minor": 1
}
