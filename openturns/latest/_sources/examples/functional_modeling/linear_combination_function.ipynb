{
 "cells": [
  {
   "cell_type": "markdown",
   "metadata": {},
   "source": [
    "# Create a linear combination of functions"
   ]
  },
  {
   "cell_type": "markdown",
   "metadata": {},
   "source": [
    "In this example we are going to build a linear combination of several functions.\n",
    "\n",
    "$$f = \\sum \\alpha_i f_i$$\n",
    "\n",
    "Here\n",
    "\n",
    "$$f_1(x) = [x_1^2+x_2,x_1+x_2+x_3]$$\n",
    "\n",
    "\n",
    "$$f_2(x) = [x_1 + 2 * x_2 + x_3,x_1+x_2+x_3]$$\n",
    "\n",
    "with coefficients\n",
    "\n",
    "$$a_1 = 2, a_2 = 4$$"
   ]
  },
  {
   "cell_type": "code",
   "execution_count": 1,
   "metadata": {},
   "outputs": [],
   "source": [
    "from __future__ import print_function\n",
    "import openturns as ot\n",
    "import math as m"
   ]
  },
  {
   "cell_type": "code",
   "execution_count": 2,
   "metadata": {},
   "outputs": [],
   "source": [
    "# assume a list of functions to combine\n",
    "functions = list()\n",
    "functions.append(ot.SymbolicFunction(['x1', 'x2', 'x3'],\n",
    "                                     ['x1^2 + x2', 'x1 + x2 + x3']))\n",
    "functions.append(ot.SymbolicFunction(['x1', 'x2', 'x3'],\n",
    "                                     ['x1 + 2 * x2 + x3', 'x1 + x2 - x3']))"
   ]
  },
  {
   "cell_type": "code",
   "execution_count": 3,
   "metadata": {},
   "outputs": [],
   "source": [
    "# create the combination function\n",
    "coefficients = [2.0, 4.0]\n",
    "function = ot.LinearCombinationFunction(functions, coefficients)"
   ]
  },
  {
   "cell_type": "code",
   "execution_count": 4,
   "metadata": {},
   "outputs": [
    {
     "name": "stdout",
     "output_type": "stream",
     "text": [
      "x= [1.0, 2.0, 3.0] y= [38,12]\n"
     ]
    }
   ],
   "source": [
    "# evaluate the function\n",
    "x = [1.0, 2.0, 3.0]\n",
    "y = function(x)\n",
    "print('x=', x, 'y=', y)"
   ]
  }
 ],
 "metadata": {
  "kernelspec": {
   "display_name": "Python 3",
   "language": "python",
   "name": "python3"
  },
  "language_info": {
   "codemirror_mode": {
    "name": "ipython",
    "version": 3
   },
   "file_extension": ".py",
   "mimetype": "text/x-python",
   "name": "python",
   "nbconvert_exporter": "python",
   "pygments_lexer": "ipython3",
   "version": "3.5.2"
  }
 },
 "nbformat": 4,
 "nbformat_minor": 1
}
