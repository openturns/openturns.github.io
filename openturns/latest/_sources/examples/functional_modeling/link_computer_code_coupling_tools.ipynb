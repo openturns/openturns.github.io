{
 "cells": [
  {
   "cell_type": "markdown",
   "metadata": {},
   "source": [
    "# Link to a computer code with coupling tools"
   ]
  },
  {
   "cell_type": "markdown",
   "metadata": {},
   "source": [
    "In this example we show how to use the `coupling_tools` module, which allows to create a function from a computer code based on text file exchanges. We show the main features of the module on a simple example and focus on the `replace` and `get` functions."
   ]
  },
  {
   "cell_type": "markdown",
   "metadata": {},
   "source": [
    "## Introduction\n",
    "\n",
    "The `coupling_tools` module is useful when the external computer code reads (on input) and write (on output) text files. \n",
    "\n",
    "<img src=\"link_computer_code.svg\" width=\"600px\">\n",
    "\n",
    "The main features of the `coupling_tools` module are:\n",
    "\n",
    "* `replace`: writes a file based on a file template, by replacing tokens with values,\n",
    "* `execute`: executes an external computer code,\n",
    "* `get` (and `get_line_col`): reads values from a file.\n",
    "\n",
    "Moreover, the `coupling_tools` module can be useful outside the library, for example to evaluate a design of experiments on a cluster. \n",
    "\n",
    "There are several advantages over basic Python scripting while using the module.\n",
    "\n",
    "* It is much simpler than using regular expressions. \n",
    "* Skipping lines, columns or text blocks is allowed.\n",
    "\n",
    "It is easy to use if the input or output files are based on structured text files. With a little more Python scripting, it is even possible to parallelize it."
   ]
  },
  {
   "cell_type": "markdown",
   "metadata": {},
   "source": [
    "## Example\n",
    "\n",
    "We have the computer code in the `external_program.py` script:\n",
    "\n",
    "* it reads the `\"input.txt\"` file,\n",
    "* evaluates the output,\n",
    "* writes the `\"output.txt\"` file.\n",
    "\n",
    "The command line to evaluate the code is: \n",
    "```\n",
    "python external_program.py input.py\n",
    "```"
   ]
  },
  {
   "cell_type": "code",
   "execution_count": 1,
   "metadata": {},
   "outputs": [],
   "source": [
    "import openturns as ot\n",
    "import openturns.coupling_tools as ct\n",
    "import sys"
   ]
  },
  {
   "cell_type": "markdown",
   "metadata": {},
   "source": [
    "The following is the content `external_program.py` script."
   ]
  },
  {
   "cell_type": "code",
   "execution_count": 2,
   "metadata": {},
   "outputs": [],
   "source": [
    "code = '''\n",
    "# -*- coding: utf-8 -*-\n",
    "\n",
    "# 1. Get input\n",
    "import sys\n",
    "inFile = sys.argv[1]\n",
    "exec(open(inFile).read())\n",
    " \n",
    "# 2. Compute\n",
    "Y0 = X0 + X1 + X2\n",
    "Y1 = X0 + X1 * X2\n",
    " \n",
    "# 3. Write output\n",
    "f = open(\"output.txt\", \"w\")\n",
    "f.write(\"Y0=%.17e\\\\n\" % (Y0))\n",
    "f.write(\"Y1=%.17e\\\\n\" % (Y1))\n",
    "f.close()\n",
    "'''"
   ]
  },
  {
   "cell_type": "code",
   "execution_count": 3,
   "metadata": {},
   "outputs": [],
   "source": [
    "f = open(\"external_program.py\", \"w\")\n",
    "f.write(code)\n",
    "f.close()"
   ]
  },
  {
   "cell_type": "markdown",
   "metadata": {},
   "source": [
    "Let us see the content of the `input.txt` file: the content is in Python format, so that reading the file is easier. "
   ]
  },
  {
   "cell_type": "code",
   "execution_count": 4,
   "metadata": {},
   "outputs": [],
   "source": [
    "content = '''\n",
    "X0=1.2\n",
    "X1=45\n",
    "X2=91.8\n",
    "'''"
   ]
  },
  {
   "cell_type": "code",
   "execution_count": 5,
   "metadata": {},
   "outputs": [],
   "source": [
    "f = open(\"input.txt\", \"w\")\n",
    "f.write(content)\n",
    "f.close()"
   ]
  },
  {
   "cell_type": "markdown",
   "metadata": {},
   "source": [
    "The content of the `output.txt` file has a simple format."
   ]
  },
  {
   "cell_type": "code",
   "execution_count": 6,
   "metadata": {},
   "outputs": [],
   "source": [
    "content = '''\n",
    "Y0=1.38e+02\n",
    "Y1=4.1322e+03\n",
    "'''"
   ]
  },
  {
   "cell_type": "code",
   "execution_count": 7,
   "metadata": {},
   "outputs": [],
   "source": [
    "f = open(\"output.txt\", \"w\")\n",
    "f.write(content)\n",
    "f.close()"
   ]
  },
  {
   "cell_type": "markdown",
   "metadata": {},
   "source": [
    "The `input_template.py` file is a template which will be used to generate the actual file `\"input.txt\"`. "
   ]
  },
  {
   "cell_type": "code",
   "execution_count": 8,
   "metadata": {},
   "outputs": [],
   "source": [
    "content = '''\n",
    "X0=@X0\n",
    "X1=@X1\n",
    "X2=@X2\n",
    "'''"
   ]
  },
  {
   "cell_type": "code",
   "execution_count": 9,
   "metadata": {},
   "outputs": [],
   "source": [
    "f = open(\"input_template.txt\", \"w\")\n",
    "f.write(content)\n",
    "f.close()"
   ]
  },
  {
   "cell_type": "markdown",
   "metadata": {},
   "source": [
    "The simulator is implemented this way: \n",
    "\n",
    "* we first use the `replace` function in order to generate the actual input file, \n",
    "* then we evaluate the external computer code with a system command with the `execute` function,\n",
    "* and we read the output file with the `get` function."
   ]
  },
  {
   "cell_type": "code",
   "execution_count": 10,
   "metadata": {},
   "outputs": [],
   "source": [
    "def mySimulator ( X ):\n",
    "    # 1. Create input file\n",
    "    infile =\"input_template.txt\"\n",
    "    outfile = \"input.txt\"\n",
    "    tokens =[\"@X0\",\"@X1\",\"@X2\"]\n",
    "    ct.replace (infile , outfile ,tokens ,X)\n",
    "    # 2. Compute\n",
    "    program = sys.executable + \" external_program.py\"\n",
    "    cmd = program +\" \"+ outfile\n",
    "    ct.execute (cmd)\n",
    "    # 3. Parse output file\n",
    "    Y = ct.get (\"output.txt\", tokens =[\"Y0=\",\"Y1=\"])\n",
    "    return Y"
   ]
  },
  {
   "cell_type": "markdown",
   "metadata": {},
   "source": [
    "In order to create the function, we simply use the `PythonFunction` class."
   ]
  },
  {
   "cell_type": "code",
   "execution_count": 11,
   "metadata": {},
   "outputs": [],
   "source": [
    "myWrapper = ot.PythonFunction (3 ,2 , mySimulator )"
   ]
  },
  {
   "cell_type": "markdown",
   "metadata": {},
   "source": [
    "We can check that this function can be evaluated."
   ]
  },
  {
   "cell_type": "code",
   "execution_count": 12,
   "metadata": {},
   "outputs": [
    {
     "data": {
      "text/html": [
       "<p>[138,4132.2]</p>"
      ],
      "text/plain": [
       "class=Point name=Unnamed dimension=2 values=[138,4132.2]"
      ]
     },
     "execution_count": 12,
     "metadata": {},
     "output_type": "execute_result"
    }
   ],
   "source": [
    "X = [1.2 , 45, 91.8]\n",
    "Y = myWrapper(X)\n",
    "Y"
   ]
  },
  {
   "cell_type": "markdown",
   "metadata": {},
   "source": [
    "## Write the input file with the replace function\n",
    "\n",
    "The simplest calling sequence is:\n",
    "\n",
    "```\n",
    "replace (infile , outfile , tokens , values )\n",
    "```\n",
    "\n",
    "where\n",
    "\n",
    "* `infile`: a string, the (template) file to read, \n",
    "* `outfile`: a string, the file to write.\n",
    "* `tokens` a list of N items, the regular expressions to find, \n",
    "* `values` a list of N items (strings, floats, etc...), the values to replace."
   ]
  },
  {
   "cell_type": "code",
   "execution_count": 13,
   "metadata": {},
   "outputs": [],
   "source": [
    "X = [1.2 , 45, 91.8]\n",
    "infile =\"input_template.txt\"\n",
    "outfile =\"input.txt\"\n",
    "tokens =[\"@X0\", \"@X1\", \"@X2\"]\n",
    "ct.replace (infile , outfile , tokens , X)"
   ]
  },
  {
   "cell_type": "markdown",
   "metadata": {},
   "source": [
    "To see the change, let us look at the `input.txt` file."
   ]
  },
  {
   "cell_type": "code",
   "execution_count": 14,
   "metadata": {},
   "outputs": [
    {
     "name": "stdout",
     "output_type": "stream",
     "text": [
      "\n",
      "X0=1.2\n",
      "X1=45\n",
      "X2=91.8\n",
      "\n"
     ]
    }
   ],
   "source": [
    "f = open(\"input.txt\", \"r\") \n",
    "print(f.read())"
   ]
  },
  {
   "cell_type": "markdown",
   "metadata": {},
   "source": [
    "## Read the output with the get function\n",
    "\n",
    "The simplest calling sequence is:\n",
    "\n",
    "```\n",
    "# Get a list of values\n",
    "Y= get ( filename , tokens = None , skip_tokens = None , \\\n",
    "skip_lines = None , skip_cols = None )\n",
    "# Get a single value\n",
    "Y= get_value ( filename , token = None , skip_token = 0, \\\n",
    "skip_line = 0, skip_col = 0)\n",
    "```\n",
    "\n",
    "where\n",
    "\n",
    "* `filename`: string, the file to read,  \n",
    "* `tokens`: list of N items, the regular expression to search, \n",
    "* `skip_tokens`: list of N items, the number of tokens to ignore before reading the value, \n",
    "* `skip_lines`: list of N items, the number of rows to ignore before reading the value, \n",
    "* `skip_cols`: list of N items, the number of columns to ignore before reading the value, \n",
    "* `Y`: list of N floats (for `get`) or a float (for `get_value`)."
   ]
  },
  {
   "cell_type": "markdown",
   "metadata": {},
   "source": [
    "Consider for example the following file."
   ]
  },
  {
   "cell_type": "code",
   "execution_count": 15,
   "metadata": {},
   "outputs": [],
   "source": [
    "content = '''\n",
    "1 2 3 04 5 6\n",
    "7 8 9 10\n",
    "11 12 13 14\n",
    "'''"
   ]
  },
  {
   "cell_type": "code",
   "execution_count": 16,
   "metadata": {},
   "outputs": [],
   "source": [
    "f = open(\"results.txt\", \"w\")\n",
    "f.write(content)\n",
    "f.close()"
   ]
  },
  {
   "cell_type": "markdown",
   "metadata": {},
   "source": [
    "We want to read the number `9`."
   ]
  },
  {
   "cell_type": "code",
   "execution_count": 17,
   "metadata": {
    "scrolled": true
   },
   "outputs": [
    {
     "data": {
      "text/plain": [
       "3.0"
      ]
     },
     "execution_count": 17,
     "metadata": {},
     "output_type": "execute_result"
    }
   ],
   "source": [
    "Y = ct.get_value (\"results.txt\" , skip_line = 1, skip_col = 2)\n",
    "Y"
   ]
  }
 ],
 "metadata": {
  "kernelspec": {
   "display_name": "Python 3",
   "language": "python",
   "name": "python3"
  },
  "language_info": {
   "codemirror_mode": {
    "name": "ipython",
    "version": 3
   },
   "file_extension": ".py",
   "mimetype": "text/x-python",
   "name": "python",
   "nbconvert_exporter": "python",
   "pygments_lexer": "ipython3",
   "version": "3.7.4"
  }
 },
 "nbformat": 4,
 "nbformat_minor": 2
}
