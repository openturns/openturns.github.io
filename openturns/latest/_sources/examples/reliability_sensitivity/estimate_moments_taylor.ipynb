{
 "cells": [
  {
   "cell_type": "markdown",
   "metadata": {},
   "source": [
    "# Estimate moments from Taylor expansions"
   ]
  },
  {
   "cell_type": "markdown",
   "metadata": {},
   "source": [
    "In this example we are going to estimate mean and standard deviation of an output variable of interest thanks to the Taylor variance decomposition method of order 1 or 2."
   ]
  },
  {
   "cell_type": "code",
   "execution_count": 1,
   "metadata": {},
   "outputs": [],
   "source": [
    "from __future__ import print_function\n",
    "import openturns as ot"
   ]
  },
  {
   "cell_type": "code",
   "execution_count": 2,
   "metadata": {},
   "outputs": [],
   "source": [
    "# Create a composite random vector\n",
    "ot.RandomGenerator.SetSeed(0)\n",
    "input_names = ['x1', 'x2', 'x3', 'x4']\n",
    "myFunc = ot.SymbolicFunction(input_names,\n",
    "    ['cos(x2*x2+x4)/(x1*x1+1+x3^4)'])\n",
    "R = ot.CorrelationMatrix(4)\n",
    "for i in range(4):\n",
    "    R[i, i - 1] = 0.25\n",
    "distribution = ot.Normal([0.2]*4, [0.1, 0.2, 0.3, 0.4], R)\n",
    "distribution.setDescription(input_names)\n",
    "# We create a distribution-based RandomVector\n",
    "X = ot.RandomVector(distribution)\n",
    "# We create a composite RandomVector Y from X and myFunc\n",
    "Y = ot.CompositeRandomVector(myFunc, X)"
   ]
  },
  {
   "cell_type": "code",
   "execution_count": 3,
   "metadata": {},
   "outputs": [],
   "source": [
    "# We create a Taylor expansion method to approximate moments\n",
    "taylor = ot.TaylorExpansionMoments(Y)"
   ]
  },
  {
   "cell_type": "code",
   "execution_count": 4,
   "metadata": {},
   "outputs": [
    {
     "name": "stdout",
     "output_type": "stream",
     "text": [
      "[0.932544]\n"
     ]
    }
   ],
   "source": [
    "# get 1st order mean\n",
    "print(taylor.getMeanFirstOrder())"
   ]
  },
  {
   "cell_type": "code",
   "execution_count": 5,
   "metadata": {},
   "outputs": [
    {
     "name": "stdout",
     "output_type": "stream",
     "text": [
      "[0.820295]\n"
     ]
    }
   ],
   "source": [
    "# get 2nd order mean\n",
    "print(taylor.getMeanSecondOrder())"
   ]
  },
  {
   "cell_type": "code",
   "execution_count": 6,
   "metadata": {},
   "outputs": [
    {
     "name": "stdout",
     "output_type": "stream",
     "text": [
      "[[ 0.0124546 ]]\n"
     ]
    }
   ],
   "source": [
    "# get covariance\n",
    "print(taylor.getCovariance())"
   ]
  },
  {
   "cell_type": "code",
   "execution_count": 7,
   "metadata": {},
   "outputs": [
    {
     "data": {
      "text/html": [
       "<p>[x1 : 0.181718, x2 : 0.0430356, x3 : 0.0248297, x4 : 0.750417]</p>"
      ],
      "text/plain": [
       "class=PointWithDescription name=Unnamed dimension=4 description=[x1,x2,x3,x4] values=[0.181718,0.0430356,0.0248297,0.750417]"
      ]
     },
     "execution_count": 7,
     "metadata": {},
     "output_type": "execute_result"
    }
   ],
   "source": [
    "# draw importance factors\n",
    "taylor.getImportanceFactors()"
   ]
  },
  {
   "cell_type": "code",
   "execution_count": 8,
   "metadata": {},
   "outputs": [
    {
     "data": {
      "image/png": "[encoded data removed]",
      "text/plain": [
       "class=Graph name=Unnamed implementation=class=GraphImplementation name=Unnamed title=Importance Factors from Taylor expansions - y0 xTitle= yTitle= axes=OFF grid=OFF legendposition= legendFontSize=1 drawables=[class=Drawable name=Unnamed implementation=class=Pie name=Unnamed labels=[x1 : 18.2%,x2 : 4.3%,x3 : 2.5%,x4 : 75.0%] radius=1 center=class=Point name=Unnamed dimension=2 values=[0,0] color palette=[#ff0000,#ccff00,#00ff66,#0066ff] derived from class=DrawableImplementation name=Unnamed legend= data=class=Sample name=Unnamed implementation=class=SampleImplementation name=Unnamed size=4 dimension=1 data=[[0.181718],[0.0430356],[0.0248297],[0.750417]] color=blue fillStyle=solid lineStyle=solid pointStyle=plus lineWidth=1]"
      ]
     },
     "execution_count": 8,
     "metadata": {},
     "output_type": "execute_result"
    }
   ],
   "source": [
    "# draw importance factors\n",
    "taylor.drawImportanceFactors()"
   ]
  },
  {
   "cell_type": "code",
   "execution_count": 9,
   "metadata": {},
   "outputs": [
    {
     "data": {
      "text/html": [
       "<p>[0.932544]</p>"
      ],
      "text/plain": [
       "class=Point name=Unnamed dimension=1 values=[0.932544]"
      ]
     },
     "execution_count": 9,
     "metadata": {},
     "output_type": "execute_result"
    }
   ],
   "source": [
    "# Get the value of the output at the mean point\n",
    "taylor.getValueAtMean()"
   ]
  },
  {
   "cell_type": "code",
   "execution_count": 10,
   "metadata": {},
   "outputs": [
    {
     "data": {
      "text/html": [
       "<p>[[ -0.35812   ]<br>\n",
       " [ -0.0912837 ]<br>\n",
       " [ -0.0286496 ]<br>\n",
       " [ -0.228209  ]]</p>"
      ],
      "text/plain": [
       "class=Matrix implementation=class=MatrixImplementation name=Unnamed rows=4 columns=1 values=[-0.35812,-0.0912837,-0.0286496,-0.228209]"
      ]
     },
     "execution_count": 10,
     "metadata": {},
     "output_type": "execute_result"
    }
   ],
   "source": [
    "# Get the gradient value of the output at the mean point\n",
    "taylor.getGradientAtMean()"
   ]
  },
  {
   "cell_type": "code",
   "execution_count": 11,
   "metadata": {},
   "outputs": [
    {
     "data": {
      "text/html": [
       "<p>sheet #0<br>\n",
       "[[ -1.51555     0.0350552   0.0220043   0.0876379  ]<br>\n",
       " [  0.0350552  -0.605625    0.00280441 -0.373018   ]<br>\n",
       " [  0.0220043   0.00280441 -0.427983    0.00701103 ]<br>\n",
       " [  0.0876379  -0.373018    0.00701103 -0.932544   ]]</p>"
      ],
      "text/plain": [
       "class=SymmetricTensor implementation=class=TensorImplementation name=Unnamed rows=4 columns=4 sheets=1 values=[-1.51555,0.0350552,0.0220043,0.0876379,0,-0.605625,0.00280441,-0.373018,0,0,-0.427983,0.00701103,0,0,0,-0.932544]"
      ]
     },
     "execution_count": 11,
     "metadata": {},
     "output_type": "execute_result"
    }
   ],
   "source": [
    "# Get the hessian value of the output at the mean point\n",
    "taylor.getHessianAtMean()"
   ]
  }
 ],
 "metadata": {
  "kernelspec": {
   "display_name": "Python 3",
   "language": "python",
   "name": "python3"
  },
  "language_info": {
   "codemirror_mode": {
    "name": "ipython",
    "version": 3
   },
   "file_extension": ".py",
   "mimetype": "text/x-python",
   "name": "python",
   "nbconvert_exporter": "python",
   "pygments_lexer": "ipython3",
   "version": "3.7.4"
  }
 },
 "nbformat": 4,
 "nbformat_minor": 1
}
