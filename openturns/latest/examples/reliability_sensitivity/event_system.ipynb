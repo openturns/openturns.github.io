{
 "cells": [
  {
   "cell_type": "markdown",
   "metadata": {},
   "source": [
    "# System events: unions or intersections of events"
   ]
  },
  {
   "cell_type": "markdown",
   "metadata": {},
   "source": [
    "This example illustrates system events, which are defined as unions or intersections of other events. We will show how to estimate their probability both with Monte-Carlo sampling (using the class `ProbabilitySimulationAlgorithm`) and with a first order approximation (using the class `SystemFORM`).\n",
    "\n",
    "**Intersection**\n",
    "\n",
    "The event defined as the intersection of several events is realized when all sub-events occurs:\n",
    "\n",
    "$$E_{sys} = \\bigcap_{i=1}^N E_i$$\n",
    "\n",
    "**Union**\n",
    "\n",
    "The event defined as the union of several events is realized when at least one sub-event occurs:\n",
    "\n",
    "$$E_{sys} = \\bigcup_{i=1}^N E_i$$"
   ]
  },
  {
   "cell_type": "code",
   "execution_count": 1,
   "metadata": {},
   "outputs": [],
   "source": [
    "from __future__ import print_function\n",
    "import openturns as ot"
   ]
  },
  {
   "cell_type": "markdown",
   "metadata": {},
   "source": [
    "For system events, we always have to use the same root cause. "
   ]
  },
  {
   "cell_type": "code",
   "execution_count": 2,
   "metadata": {},
   "outputs": [],
   "source": [
    "dim = 2\n",
    "distribution = ot.Normal(dim)\n",
    "X = ot.RandomVector(distribution)"
   ]
  },
  {
   "cell_type": "markdown",
   "metadata": {},
   "source": [
    "Define some basic events E1, E2 and E3. "
   ]
  },
  {
   "cell_type": "code",
   "execution_count": 3,
   "metadata": {},
   "outputs": [],
   "source": [
    "f1 = ot.SymbolicFunction(['x0', 'x1'], ['x0'])\n",
    "f2 = ot.SymbolicFunction(['x0', 'x1'], ['x1'])\n",
    "f3 = ot.SymbolicFunction(['x0', 'x1'], ['x0+x1'])\n",
    "\n",
    "Y1 = ot.CompositeRandomVector(f1, X)\n",
    "Y2 = ot.CompositeRandomVector(f2, X)\n",
    "Y3 = ot.CompositeRandomVector(f3, X)\n",
    "\n",
    "e1 = ot.ThresholdEvent(Y1, ot.Less(), 0.0)  # E1 <=> x0<0\n",
    "e2 = ot.ThresholdEvent(Y2, ot.Greater(), 0.0) # E2 <=> x1>0\n",
    "e3 = ot.ThresholdEvent(Y3, ot.Greater(), 0.0) # E3 <=> x0+x1>0"
   ]
  },
  {
   "cell_type": "markdown",
   "metadata": {},
   "source": [
    "Define the intersection E3=E1 AND E2. "
   ]
  },
  {
   "cell_type": "code",
   "execution_count": 4,
   "metadata": {},
   "outputs": [],
   "source": [
    "e4 = ot.IntersectionEvent([e1, e2])"
   ]
  },
  {
   "cell_type": "markdown",
   "metadata": {},
   "source": [
    "Approximate probability of that event: $\\approx 1/4$. "
   ]
  },
  {
   "cell_type": "code",
   "execution_count": 5,
   "metadata": {},
   "outputs": [
    {
     "data": {
      "text/html": [
       "<p>[0.2455]</p>"
      ],
      "text/plain": [
       "class=Point name=Unnamed dimension=1 values=[0.2455]"
      ]
     },
     "execution_count": 5,
     "metadata": {},
     "output_type": "execute_result"
    }
   ],
   "source": [
    "e4.getSample(10000).computeMean()"
   ]
  },
  {
   "cell_type": "markdown",
   "metadata": {},
   "source": [
    "Define the union E4=E1 OR E2. "
   ]
  },
  {
   "cell_type": "code",
   "execution_count": 6,
   "metadata": {},
   "outputs": [],
   "source": [
    "e5 = ot.UnionEvent([e1, e2])"
   ]
  },
  {
   "cell_type": "markdown",
   "metadata": {},
   "source": [
    "Approximate probability of that event: $\\approx ~3/4$. "
   ]
  },
  {
   "cell_type": "code",
   "execution_count": 7,
   "metadata": {},
   "outputs": [
    {
     "data": {
      "text/html": [
       "<p>[0.7533]</p>"
      ],
      "text/plain": [
       "class=Point name=Unnamed dimension=1 values=[0.7533]"
      ]
     },
     "execution_count": 7,
     "metadata": {},
     "output_type": "execute_result"
    }
   ],
   "source": [
    "e5.getSample(10000).computeMean()"
   ]
  },
  {
   "cell_type": "markdown",
   "metadata": {},
   "source": [
    "It supports recursion: define E7=E1 OR (E1 AND E3). "
   ]
  },
  {
   "cell_type": "code",
   "execution_count": 8,
   "metadata": {},
   "outputs": [
    {
     "name": "stdout",
     "output_type": "stream",
     "text": [
      "True\n"
     ]
    }
   ],
   "source": [
    "e7 = ot.UnionEvent([e1, ot.IntersectionEvent([e2, e3])])\n",
    "print(e3.isComposite())"
   ]
  },
  {
   "cell_type": "markdown",
   "metadata": {},
   "source": [
    "## With Monte-Carlo algorithm"
   ]
  },
  {
   "cell_type": "markdown",
   "metadata": {},
   "source": [
    "Of course, we can use simulation algorithms. "
   ]
  },
  {
   "cell_type": "code",
   "execution_count": 9,
   "metadata": {},
   "outputs": [
    {
     "data": {
      "text/plain": [
       "0.751199999999999"
      ]
     },
     "execution_count": 9,
     "metadata": {},
     "output_type": "execute_result"
    }
   ],
   "source": [
    "experiment = ot.MonteCarloExperiment()\n",
    "algo = ot.ProbabilitySimulationAlgorithm(e7, experiment)\n",
    "algo.setMaximumOuterSampling(2500)\n",
    "algo.setBlockSize(4)\n",
    "algo.setMaximumCoefficientOfVariation(-1.0)\n",
    "algo.run()\n",
    "result = algo.getResult()\n",
    "result.getProbabilityEstimate()"
   ]
  },
  {
   "cell_type": "markdown",
   "metadata": {},
   "source": [
    "## SystemFORM\n",
    "\n",
    "`SystemFORM` is an approximation method suitable for system events.\n",
    "\n",
    "The event must be in its disjunctive normal form (union of intersections, or a single intersection)."
   ]
  },
  {
   "cell_type": "code",
   "execution_count": 10,
   "metadata": {},
   "outputs": [],
   "source": [
    "# root cause\n",
    "dim = 5\n",
    "mean = [200.0] * dim\n",
    "mean[-1] = 60\n",
    "mean[-2] = 60\n",
    "sigma = [30.0] * dim\n",
    "sigma[-1] = 15.0\n",
    "R = ot.CorrelationMatrix(dim)\n",
    "for i in range(dim):\n",
    "    for j in range(i):\n",
    "        R[i, j] = 0.5\n",
    "dist = ot.Normal(mean, sigma, R)"
   ]
  },
  {
   "cell_type": "code",
   "execution_count": 11,
   "metadata": {},
   "outputs": [],
   "source": [
    "# leaf events\n",
    "X = ot.RandomVector(dist)\n",
    "inputs = ['M1', 'M2', 'M3', 'M4', 'M5']\n",
    "e0 = ot.ThresholdEvent(ot.CompositeRandomVector(ot.SymbolicFunction(inputs, ['M1-M2+M4']), X), ot.Less(), 0.0)\n",
    "e1 = ot.ThresholdEvent(ot.CompositeRandomVector(ot.SymbolicFunction(inputs, ['M2+2*M3-M4']), X), ot.Less(), 0.0)\n",
    "e2 = ot.ThresholdEvent(ot.CompositeRandomVector(ot.SymbolicFunction(inputs, ['2*M3-2*M4-M5']), X), ot.Less(), 0.0)\n",
    "e3 = ot.ThresholdEvent(ot.CompositeRandomVector(ot.SymbolicFunction(inputs, ['-(M1+M2+M4+M5-5*10.0)']), X), ot.Less(), 0.0)\n",
    "e4 = ot.ThresholdEvent(ot.CompositeRandomVector(ot.SymbolicFunction(inputs, ['-(M2+2*M3+M4-5*40.0)']), X), ot.Less(), 0.0)"
   ]
  },
  {
   "cell_type": "code",
   "execution_count": 12,
   "metadata": {},
   "outputs": [],
   "source": [
    "# system event in DNF form (union of intersections)\n",
    "event = ot.UnionEvent([ot.IntersectionEvent([e0, e3, e4]), ot.IntersectionEvent([e2, e3, e4])])"
   ]
  },
  {
   "cell_type": "code",
   "execution_count": 13,
   "metadata": {},
   "outputs": [
    {
     "data": {
      "text/html": [
       "<p>[0.0821]</p>"
      ],
      "text/plain": [
       "class=Point name=Unnamed dimension=1 values=[0.0821]"
      ]
     },
     "execution_count": 13,
     "metadata": {},
     "output_type": "execute_result"
    }
   ],
   "source": [
    "# compute probability with basic sampling\n",
    "event.getSample(10000).computeMean()"
   ]
  },
  {
   "cell_type": "markdown",
   "metadata": {},
   "source": [
    "Run systemFORM."
   ]
  },
  {
   "cell_type": "code",
   "execution_count": 14,
   "metadata": {},
   "outputs": [
    {
     "data": {
      "text/plain": [
       "0.07883551213326333"
      ]
     },
     "execution_count": 14,
     "metadata": {},
     "output_type": "execute_result"
    }
   ],
   "source": [
    "solver = ot.AbdoRackwitz()\n",
    "solver.setMaximumIterationNumber(1000)\n",
    "solver.setMaximumAbsoluteError(1.0e-3)\n",
    "solver.setMaximumRelativeError(1.0e-3)\n",
    "solver.setMaximumResidualError(1.0e-3)\n",
    "solver.setMaximumConstraintError(1.0e-3)\n",
    "\n",
    "algo = ot.SystemFORM(solver, event, mean)\n",
    "algo.run()\n",
    "result = algo.getResult()\n",
    "result.getEventProbability()"
   ]
  }
 ],
 "metadata": {
  "kernelspec": {
   "display_name": "Python 3",
   "language": "python",
   "name": "python3"
  },
  "language_info": {
   "codemirror_mode": {
    "name": "ipython",
    "version": 3
   },
   "file_extension": ".py",
   "mimetype": "text/x-python",
   "name": "python",
   "nbconvert_exporter": "python",
   "pygments_lexer": "ipython3",
   "version": "3.7.4"
  }
 },
 "nbformat": 4,
 "nbformat_minor": 1
}
