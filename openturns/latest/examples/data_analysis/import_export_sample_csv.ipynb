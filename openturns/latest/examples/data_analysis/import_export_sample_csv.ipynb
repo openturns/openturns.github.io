{
 "cells": [
  {
   "cell_type": "markdown",
   "metadata": {},
   "source": [
    "# Import / export a sample via a CSV file"
   ]
  },
  {
   "cell_type": "markdown",
   "metadata": {},
   "source": [
    "In this example we are going to import and export a data sample from/to a CSV file."
   ]
  },
  {
   "cell_type": "code",
   "execution_count": 4,
   "metadata": {},
   "outputs": [],
   "source": [
    "from __future__ import print_function\n",
    "import openturns as ot"
   ]
  },
  {
   "cell_type": "code",
   "execution_count": 5,
   "metadata": {
    "collapsed": true
   },
   "outputs": [],
   "source": [
    "# create a sample from a 2-d gaussian distribution\n",
    "sample = ot.Normal(2).getSample(5)\n",
    "sample.setDescription(['u1', 'u2'])"
   ]
  },
  {
   "cell_type": "code",
   "execution_count": 6,
   "metadata": {},
   "outputs": [],
   "source": [
    "# write a CSV file\n",
    "# warning the default separator is ';'\n",
    "sample.exportToCSVFile('sample.csv', ',')"
   ]
  },
  {
   "cell_type": "code",
   "execution_count": 7,
   "metadata": {},
   "outputs": [
    {
     "name": "stdout",
     "output_type": "stream",
     "text": [
      "\"u1\",\"u2\"\n",
      "6.0820165121876457e-01,-1.2661731022166567e+00\n",
      "-4.3826561996041397e-01,1.2054782008285756e+00\n",
      "-2.1813852346165143e+00,3.5004208653029067e-01\n",
      "-3.5500704918563969e-01,1.4372493101409030e+00\n",
      "8.1066798246948368e-01,7.9315601145976999e-01\n"
     ]
    }
   ],
   "source": [
    "# print the content of the written file\n",
    "with open('sample.csv', 'r') as f:\n",
    "    for line in f.readlines():\n",
    "        print(line, end='')"
   ]
  },
  {
   "cell_type": "code",
   "execution_count": 8,
   "metadata": {},
   "outputs": [
    {
     "name": "stdout",
     "output_type": "stream",
     "text": [
      "    [ u1        u2        ]\n",
      "0 : [  0.608202 -1.26617  ]\n",
      "1 : [ -0.438266  1.20548  ]\n",
      "2 : [ -2.18139   0.350042 ]\n",
      "3 : [ -0.355007  1.43725  ]\n",
      "4 : [  0.810668  0.793156 ]\n"
     ]
    }
   ],
   "source": [
    "# read the previous CSV file\n",
    "sample = ot.Sample.ImportFromCSVFile('sample.csv', ',')\n",
    "print(sample)"
   ]
  }
 ],
 "metadata": {
  "kernelspec": {
   "display_name": "Python 3",
   "language": "python",
   "name": "python3"
  },
  "language_info": {
   "codemirror_mode": {
    "name": "ipython",
    "version": 3
   },
   "file_extension": ".py",
   "mimetype": "text/x-python",
   "name": "python",
   "nbconvert_exporter": "python",
   "pygments_lexer": "ipython3",
   "version": "3.5.2"
  }
 },
 "nbformat": 4,
 "nbformat_minor": 1
}
