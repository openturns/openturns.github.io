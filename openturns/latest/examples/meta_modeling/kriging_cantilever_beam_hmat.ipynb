{
 "cells": [
  {
   "cell_type": "markdown",
   "metadata": {},
   "source": [
    "# Kriging the cantilever beam model using HMAT\n"
   ]
  },
  {
   "cell_type": "markdown",
   "metadata": {},
   "source": [
    "In this example, we create a kriging metamodel of the cantilever beam. We use a squared exponential covariance model for the kriging. In order to estimate the hyper-parameters, we use a design of experiments which size is 100.\n"
   ]
  },
  {
   "cell_type": "markdown",
   "metadata": {},
   "source": [
    "We consider a cantilever beam defined by its Young’s modulus $E$, its length $L$ and its section modulus $I$. One end is built in a wall and we apply a concentrated bending load $F$ at the other end of the beam, resulting in a vertical deviation $Y$.\n",
    "\n",
    "<img src=\"beam.png\" width=\"200\">\n",
    "\n",
    "**Inputs**\n",
    "\n",
    "* $E$ : Young modulus (Pa), Beta($\\alpha = 0.9$, $\\beta = 2.27$, a = $2.5\\times 10^7$, $b = 5\\times 10^7$)\n",
    "* $F$ : Loading (N), Lognormal($\\mu_F=30 \\times 10^3$, $\\sigma_F=9\\times 10^3$, shift=$15\\times 10^3$)\n",
    "* $L$ : Length of beam (cm), Uniform(min=250.0, max= 260.0)\n",
    "* $I$ : Moment of inertia (cm^4), Beta($\\alpha = 2.5$, $\\beta = 1.5$, a = 310, b = 450).\n",
    "\n",
    "In the previous table $\\mu_F=E(F)$ and $\\sigma_F=\\sqrt{V(F)}$ are the mean and the standard deviation of $F$.\n",
    "\n",
    "We assume that the random variables E, F, L and I are dependent and associated with a gaussian copula which correlation matrix is :\n",
    "$$\n",
    "R = \n",
    "\\begin{pmatrix}\n",
    "1 & 0 & 0 & 0 \\\\\n",
    "0 & 1 & 0 & 0 \\\\\n",
    "0 & 0 & 1 & -0.2 \\\\\n",
    "0 & 0 & -0.2 & 1\n",
    "\\end{pmatrix}\n",
    "$$\n",
    "\n",
    "In other words, we consider that the variables L and I are negatively correlated : when the length L increases, the moment of intertia I decreases.\n",
    "\n",
    "**Output**\n",
    "\n",
    "The vertical displacement at free end of the cantilever beam is:\n",
    "$$\n",
    "Y  = \\dfrac{F\\, L^3}{3 \\, E \\, I}\n",
    "$$\n"
   ]
  },
  {
   "cell_type": "markdown",
   "metadata": {},
   "source": [
    "## Definition of the model"
   ]
  },
  {
   "cell_type": "code",
   "execution_count": 1,
   "metadata": {},
   "outputs": [],
   "source": [
    "import openturns as ot"
   ]
  },
  {
   "cell_type": "markdown",
   "metadata": {},
   "source": [
    "We define the symbolic function which evaluates the output Y depending on the inputs E, F, L and I."
   ]
  },
  {
   "cell_type": "code",
   "execution_count": 2,
   "metadata": {},
   "outputs": [],
   "source": [
    "model = ot.SymbolicFunction([\"E\", \"F\", \"L\", \"I\"], [\"F*L^3/(3*E*I)\"])"
   ]
  },
  {
   "cell_type": "markdown",
   "metadata": {},
   "source": [
    "Then we define the distribution of the input random vector. "
   ]
  },
  {
   "cell_type": "code",
   "execution_count": 3,
   "metadata": {},
   "outputs": [],
   "source": [
    "# Young's modulus E\n",
    "E = ot.Beta(0.9, 2.27, 2.5e7, 5.0e7) # in N/m^2\n",
    "E.setDescription(\"E\")\n",
    "# Load F\n",
    "F = ot.LogNormal() # in N\n",
    "F.setParameter(ot.LogNormalMuSigma()([30.e3, 9e3, 15.e3]))\n",
    "F.setDescription(\"F\")\n",
    "# Length L\n",
    "L = ot.Uniform(250., 260.) # in cm\n",
    "L.setDescription(\"L\")\n",
    "# Moment of inertia I\n",
    "I = ot.Beta(2.5, 1.5, 310, 450) # in cm^4\n",
    "I.setDescription(\"I\")"
   ]
  },
  {
   "cell_type": "markdown",
   "metadata": {},
   "source": [
    "Finally, we define the dependency using a `NormalCopula`."
   ]
  },
  {
   "cell_type": "code",
   "execution_count": 4,
   "metadata": {},
   "outputs": [],
   "source": [
    "dimension = 4 # number of inputs\n",
    "R = ot.CorrelationMatrix(dimension)\n",
    "R[2, 3] = -0.2 \n",
    "myCopula = ot.NormalCopula(ot.NormalCopula.GetCorrelationFromSpearmanCorrelation(R))\n",
    "myDistribution = ot.ComposedDistribution([E, F, L, I], myCopula)"
   ]
  },
  {
   "cell_type": "markdown",
   "metadata": {},
   "source": [
    "## Create the design of experiments"
   ]
  },
  {
   "cell_type": "markdown",
   "metadata": {},
   "source": [
    "We consider a simple Monte-Carlo sampling as a design of experiments. This is why we generate an input sample using the `getSample` method of the distribution. Then we evaluate the output using the `model` function."
   ]
  },
  {
   "cell_type": "code",
   "execution_count": 5,
   "metadata": {},
   "outputs": [],
   "source": [
    "sampleSize_train = 100\n",
    "X_train = myDistribution.getSample(sampleSize_train)\n",
    "Y_train = model(X_train)"
   ]
  },
  {
   "cell_type": "markdown",
   "metadata": {},
   "source": [
    "The following figure presents the distribution of the vertical deviations Y on the training sample. We observe that the large deviations occur less often. "
   ]
  },
  {
   "cell_type": "code",
   "execution_count": 6,
   "metadata": {},
   "outputs": [
    {
     "data": {
      "image/png": "[encoded data removed]",
      "text/plain": [
       "class=Graph name=y0 PDF implementation=class=GraphImplementation name=y0 PDF title=Distribution of the vertical deviation xTitle=Vertical deviation (cm) yTitle=PDF axes=ON grid=ON legendposition=topright legendFontSize=1 drawables=[class=Drawable name=Unnamed implementation=class=Curve name=Unnamed derived from class=DrawableImplementation name=Unnamed legend= data=class=Sample name=Unnamed implementation=class=SampleImplementation name=Unnamed size=40 dimension=2 data=[[6.24647,0],[7.78228,0],[7.78228,0],[7.78228,0.042323],[10.8539,0.042323],[10.8539,0],[10.8539,0],[10.8539,0.0976685],[13.9255,0.0976685],[13.9255,0],[13.9255,0],[13.9255,0.0879016],[16.9971,0.0879016],[16.9971,0],[16.9971,0],[16.9971,0.0390674],[20.0687,0.0390674],[20.0687,0],[20.0687,0],[20.0687,0.0358118],[23.1404,0.0358118],[23.1404,0],[23.1404,0],[23.1404,0.0130225],[26.212,0.0130225],[26.212,0],[26.212,0],[26.212,0.00325562],[29.2836,0.00325562],[29.2836,0],[29.2836,0],[29.2836,0.00325562],[32.3552,0.00325562],[32.3552,0],[32.3552,0],[32.3552,0.00325562],[35.4268,0.00325562],[35.4268,0],[35.4268,0],[36.9626,0]] color=red fillStyle=solid lineStyle=solid pointStyle=none lineWidth=2]"
      ]
     },
     "execution_count": 6,
     "metadata": {},
     "output_type": "execute_result"
    }
   ],
   "source": [
    "histo = ot.HistogramFactory().build(Y_train).drawPDF()\n",
    "histo.setXTitle(\"Vertical deviation (cm)\")\n",
    "histo.setTitle(\"Distribution of the vertical deviation\")\n",
    "histo.setLegends([\"\"])\n",
    "histo"
   ]
  },
  {
   "cell_type": "markdown",
   "metadata": {},
   "source": [
    "## Create the metamodel"
   ]
  },
  {
   "cell_type": "markdown",
   "metadata": {},
   "source": [
    "In order to create the kriging metamodel, we first select a constant trend with the `ConstantBasisFactory` class. Then we use a squared exponential covariance model. "
   ]
  },
  {
   "cell_type": "code",
   "execution_count": 7,
   "metadata": {},
   "outputs": [],
   "source": [
    "basis = ot.ConstantBasisFactory(dimension).build()\n",
    "covarianceModel = ot.SquaredExponential([1.]*dimension, [1.0])"
   ]
  },
  {
   "cell_type": "markdown",
   "metadata": {},
   "source": [
    "We rely on `H-Matrix` approximation for accelerating the evaluation.\n",
    "We change default parameters (compression, recompression) to higher values. The model is less accurate but very fast to build & evaluate.  "
   ]
  },
  {
   "cell_type": "code",
   "execution_count": 8,
   "metadata": {},
   "outputs": [],
   "source": [
    "ot.ResourceMap.SetAsString(\"KrigingAlgorithm-LinearAlgebra\",  \"HMAT\")\n",
    "ot.ResourceMap.SetAsScalar(\"HMatrix-AssemblyEpsilon\",  1e-3)\n",
    "ot.ResourceMap.SetAsScalar( \"HMatrix-RecompressionEpsilon\",  1e-4)"
   ]
  },
  {
   "cell_type": "markdown",
   "metadata": {},
   "source": [
    "Finally, we use the `KrigingAlgorithm` class to create the kriging metamodel, taking the training sample, the covariance model and the trend basis as input arguments. "
   ]
  },
  {
   "cell_type": "code",
   "execution_count": 9,
   "metadata": {},
   "outputs": [],
   "source": [
    "algo = ot.KrigingAlgorithm(X_train, Y_train, covarianceModel, basis)\n",
    "algo.run()\n",
    "result = algo.getResult()\n",
    "krigingMetamodel = result.getMetaModel()"
   ]
  },
  {
   "cell_type": "markdown",
   "metadata": {},
   "source": [
    "The `run` method has optimized the hyperparameters of the metamodel. \n",
    "\n",
    "We can then print the constant trend of the metamodel, which have been estimated using the least squares method."
   ]
  },
  {
   "cell_type": "code",
   "execution_count": 10,
   "metadata": {
    "scrolled": true
   },
   "outputs": [
    {
     "data": {
      "text/plain": [
       "[class=Point name=Unnamed dimension=1 values=[17.5685]]"
      ]
     },
     "execution_count": 10,
     "metadata": {},
     "output_type": "execute_result"
    }
   ],
   "source": [
    "result.getTrendCoefficients()"
   ]
  },
  {
   "cell_type": "markdown",
   "metadata": {},
   "source": [
    "We can also print the hyperparameters of the covariance model, which have been estimated by maximizing the likelihood. "
   ]
  },
  {
   "cell_type": "code",
   "execution_count": 11,
   "metadata": {},
   "outputs": [
    {
     "data": {
      "text/html": [
       "<p>SquaredExponential(scale=[1.39955,1.4925,6.18574,3.56027], amplitude=[2.30964])</p>"
      ],
      "text/plain": [
       "class=SquaredExponential scale=class=Point name=Unnamed dimension=4 values=[1.39955,1.4925,6.18574,3.56027] amplitude=class=Point name=Unnamed dimension=1 values=[2.30964]"
      ]
     },
     "execution_count": 11,
     "metadata": {},
     "output_type": "execute_result"
    }
   ],
   "source": [
    "result.getCovarianceModel()"
   ]
  },
  {
   "cell_type": "markdown",
   "metadata": {},
   "source": [
    "## Validate the metamodel"
   ]
  },
  {
   "cell_type": "markdown",
   "metadata": {},
   "source": [
    "We finally want to validate the kriging metamodel. This is why we generate a validation sample which size is equal to 100 and we evaluate the output of the model on this sample."
   ]
  },
  {
   "cell_type": "code",
   "execution_count": 12,
   "metadata": {},
   "outputs": [],
   "source": [
    "sampleSize_test = 100\n",
    "X_test = myDistribution.getSample(sampleSize_test)\n",
    "Y_test = model(X_test)"
   ]
  },
  {
   "cell_type": "markdown",
   "metadata": {},
   "source": [
    "The `MetaModelValidation` classe makes the validation easy. To create it, we use the validation samples and the metamodel. "
   ]
  },
  {
   "cell_type": "code",
   "execution_count": 13,
   "metadata": {},
   "outputs": [],
   "source": [
    "val = ot.MetaModelValidation(X_test, Y_test, krigingMetamodel)"
   ]
  },
  {
   "cell_type": "markdown",
   "metadata": {},
   "source": [
    "The `computePredictivityFactor` computes the Q2 factor. "
   ]
  },
  {
   "cell_type": "code",
   "execution_count": 14,
   "metadata": {
    "scrolled": true
   },
   "outputs": [
    {
     "data": {
      "text/plain": [
       "0.9870858569377771"
      ]
     },
     "execution_count": 14,
     "metadata": {},
     "output_type": "execute_result"
    }
   ],
   "source": [
    "Q2 = val.computePredictivityFactor()\n",
    "Q2"
   ]
  },
  {
   "cell_type": "markdown",
   "metadata": {},
   "source": [
    "Since the Q2 is larger than 95%, we can say that the quality is acceptable. "
   ]
  },
  {
   "cell_type": "markdown",
   "metadata": {},
   "source": [
    "The residuals are the difference between the model and the metamodel. "
   ]
  },
  {
   "cell_type": "code",
   "execution_count": 15,
   "metadata": {},
   "outputs": [
    {
     "data": {
      "image/png": "[encoded data removed]",
      "text/plain": [
       "class=Graph name=y0 PDF implementation=class=GraphImplementation name=y0 PDF title=y0 PDF xTitle=y0 yTitle=PDF axes=ON grid=ON legendposition=topright legendFontSize=1 drawables=[class=Drawable name=Unnamed implementation=class=Curve name=Unnamed derived from class=DrawableImplementation name=Unnamed legend=y0 PDF data=class=Sample name=Unnamed implementation=class=SampleImplementation name=Unnamed size=136 dimension=2 data=[[-3.23233,0],[-3.16494,0],[-3.16494,0],[-3.16494,0.0742018],[-3.03017,0.0742018],[-3.03017,0],[-3.03017,0],[-3.03017,0],[-2.89541,0],[-2.89541,0],[-2.89541,0],[-2.89541,0],[-2.76064,0],[-2.76064,0],[-2.76064,0],[-2.76064,0],[-2.62587,0],[-2.62587,0],[-2.62587,0],[-2.62587,0],[-2.4911,0],[-2.4911,0],[-2.4911,0],[-2.4911,0],[-2.35634,0],[-2.35634,0],[-2.35634,0],[-2.35634,0],[-2.22157,0],[-2.22157,0],[-2.22157,0],[-2.22157,0],[-2.0868,0],[-2.0868,0],[-2.0868,0],[-2.0868,0],[-1.95203,0],[-1.95203,0],[-1.95203,0],[-1.95203,0],[-1.81726,0],[-1.81726,0],[-1.81726,0],[-1.81726,0],[-1.6825,0],[-1.6825,0],[-1.6825,0],[-1.6825,0],[-1.54773,0],[-1.54773,0],[-1.54773,0],[-1.54773,0],[-1.41296,0],[-1.41296,0],[-1.41296,0],[-1.41296,0],[-1.27819,0],[-1.27819,0],[-1.27819,0],[-1.27819,0],[-1.14343,0],[-1.14343,0],[-1.14343,0],[-1.14343,0],[-1.00866,0],[-1.00866,0],[-1.00866,0],[-1.00866,0.148404],[-0.873891,0.148404],[-0.873891,0],[-0.873891,0],[-0.873891,0.222605],[-0.739124,0.222605],[-0.739124,0],[-0.739124,0],[-0.739124,0.148404],[-0.604356,0.148404],[-0.604356,0],[-0.604356,0],[-0.604356,0.148404],[-0.469588,0.148404],[-0.469588,0],[-0.469588,0],[-0.469588,0.0742018],[-0.334821,0.0742018],[-0.334821,0],[-0.334821,0],[-0.334821,0.296807],[-0.200053,0.296807],[-0.200053,0],[-0.200053,0],[-0.200053,1.26143],[-0.0652855,1.26143],[-0.0652855,0],[-0.0652855,0],[-0.0652855,2.22605],[0.0694822,2.22605],[0.0694822,0],[0.0694822,0],[0.0694822,1.70664],[0.20425,1.70664],[0.20425,0],[0.20425,0],[0.20425,0.519413],[0.339017,0.519413],[0.339017,0],[0.339017,0],[0.339017,0.296807],[0.473785,0.296807],[0.473785,0],[0.473785,0],[0.473785,0],[0.608553,0],[0.608553,0],[0.608553,0],[0.608553,0.222605],[0.74332,0.222605],[0.74332,0],[0.74332,0],[0.74332,0],[0.878088,0],[0.878088,0],[0.878088,0],[0.878088,0],[1.01286,0],[1.01286,0],[1.01286,0],[1.01286,0],[1.14762,0],[1.14762,0],[1.14762,0],[1.14762,0.0742018],[1.28239,0.0742018],[1.28239,0],[1.28239,0],[1.34977,0]] color=red fillStyle=solid lineStyle=solid pointStyle=none lineWidth=2]"
      ]
     },
     "execution_count": 15,
     "metadata": {},
     "output_type": "execute_result"
    }
   ],
   "source": [
    "r = val.getResidualSample()\n",
    "ot.HistogramFactory().build(r).drawPDF()"
   ]
  },
  {
   "cell_type": "markdown",
   "metadata": {},
   "source": [
    "We observe that the negative residuals occur with nearly the same frequency of the positive residuals: this is a first   sign of good quality. Furthermore, the residuals are most of the times contained in the [-1,1] interval, which is a sign of quality given the amplitude of the output (approximately from 5 to 25 cm)."
   ]
  },
  {
   "cell_type": "markdown",
   "metadata": {},
   "source": [
    "The `drawValidation` method allows to compare the observed outputs and the metamodel outputs."
   ]
  },
  {
   "cell_type": "code",
   "execution_count": 16,
   "metadata": {},
   "outputs": [
    {
     "data": {
      "image/png": "[encoded data removed]",
      "text/plain": [
       "class=Graph name=Metamodel validation implementation=class=GraphImplementation name=Metamodel validation title=Q2 = 98.71% xTitle=model yTitle=metamodel axes=ON grid=ON legendposition=bottomright legendFontSize=1 drawables=[class=Drawable name=Unnamed implementation=class=Curve name=Unnamed derived from class=DrawableImplementation name=Unnamed legend= data=class=Sample name=Unnamed implementation=class=SampleImplementation name=Unnamed size=100 dimension=2 data=[[14.7054,14.7054],[15.789,15.789],[17.3245,17.3245],[12.2866,12.2866],[16.0886,16.0886],[17.0943,17.0943],[13.2101,13.2101],[13.8155,13.8155],[11.4096,11.4096],[12.0345,12.0345],[16.2947,16.2947],[20.5047,20.5047],[21.1645,21.1645],[16.1259,16.1259],[20.1314,20.1314],[16.4803,16.4803],[10.8846,10.8846],[14.0858,14.0858],[6.80291,6.80291],[8.9245,8.9245],[20.5371,20.5371],[22.0658,22.0658],[11.3113,11.3113],[7.54808,7.54808],[7.78376,7.78376],[10.7697,10.7697],[23.5561,23.5561],[13.7207,13.7207],[13.7528,13.7528],[20.516,20.516],[11.6599,11.6599],[13.854,13.854],[18.3544,18.3544],[18.0258,18.0258],[16.994,16.994],[13.2242,13.2242],[15.3671,15.3671],[14.1748,14.1748],[10.0671,10.0671],[9.15668,9.15668],[12.5186,12.5186],[15.4211,15.4211],[14.7625,14.7625],[10.3961,10.3961],[11.3771,11.3771],[14.5435,14.5435],[10.3598,10.3598],[17.3034,17.3034],[21.2524,21.2524],[18.3782,18.3782],[10.7705,10.7705],[15.2435,15.2435],[11.7005,11.7005],[24.2229,24.2229],[11.2684,11.2684],[10.2532,10.2532],[10.7897,10.7897],[12.1076,12.1076],[15.6466,15.6466],[9.9585,9.9585],[12.2366,12.2366],[26.3399,26.3399],[18.2929,18.2929],[17.8123,17.8123],[13.8445,13.8445],[14.8539,14.8539],[23.3698,23.3698],[16.3531,16.3531],[11.0635,11.0635],[22.074,22.074],[17.051,17.051],[13.9186,13.9186],[9.17493,9.17493],[13.8959,13.8959],[12.5278,12.5278],[12.53,12.53],[11.9653,11.9653],[11.0356,11.0356],[15.1682,15.1682],[9.05629,9.05629],[13.2664,13.2664],[11.8479,11.8479],[12.5198,12.5198],[15.9199,15.9199],[13.1216,13.1216],[15.9131,15.9131],[16.0313,16.0313],[13.232,13.232],[11.8153,11.8153],[22.1168,22.1168],[17.7463,17.7463],[11.9546,11.9546],[14.6144,14.6144],[16.2465,16.2465],[13.4724,13.4724],[12.6882,12.6882],[11.785,11.785],[20.2084,20.2084],[13.072,13.072],[14.585,14.585]] color=blue fillStyle=solid lineStyle=solid pointStyle=none lineWidth=1,class=Drawable name=Unnamed implementation=class=Cloud name=Unnamed derived from class=DrawableImplementation name=Unnamed legend= data=class=Sample name=Unnamed implementation=class=SampleImplementation name=Unnamed size=100 dimension=2 data=[[14.7054,14.7811],[15.789,15.7869],[17.3245,17.3264],[12.2866,12.1304],[16.0886,15.8938],[17.0943,17.2407],[13.2101,14.0899],[13.8155,13.6824],[11.4096,11.2782],[12.0345,11.9815],[16.2947,16.3377],[20.5047,20.175],[21.1645,20.7248],[16.1259,15.9091],[20.1314,20.2822],[16.4803,16.3948],[10.8846,10.8597],[14.0858,14.0111],[6.80291,9.96786],[8.9245,8.89938],[20.5371,20.6209],[22.0658,21.3555],[11.3113,11.0624],[7.54808,8.45351],[7.78376,8.58044],[10.7697,10.7903],[23.5561,23.4054],[13.7207,13.6121],[13.7528,13.652],[20.516,20.6856],[11.6599,11.631],[13.854,13.805],[18.3544,18.4828],[18.0258,17.3168],[16.994,16.6866],[13.2242,13.0743],[15.3671,15.3159],[14.1748,14.23],[10.0671,9.89328],[9.15668,9.15195],[12.5186,12.3875],[15.4211,15.3653],[14.7625,14.7589],[10.3961,10.5361],[11.3771,12.0177],[14.5435,14.5789],[10.3598,10.3427],[17.3034,17.2772],[21.2524,21.0122],[18.3782,18.0021],[10.7705,10.414],[15.2435,15.3035],[11.7005,12.3579],[24.2229,24.7588],[11.2684,11.2786],[10.2532,10.2869],[10.7897,10.5245],[12.1076,12.1405],[15.6466,15.5374],[9.9585,10.028],[12.2366,12.3526],[26.3399,25.0575],[18.2929,18.4161],[17.8123,17.6486],[13.8445,13.7546],[14.8539,14.922],[23.3698,24.1316],[16.3531,16.5418],[11.0635,11.8715],[22.074,22.2717],[17.051,16.9688],[13.9186,13.8675],[9.17493,9.20449],[13.8959,13.9365],[12.5278,12.3308],[12.53,13.0475],[11.9653,11.707],[11.0356,10.6209],[15.1682,15.1578],[9.05629,9.15605],[13.2664,13.196],[11.8479,11.6835],[12.5198,12.5284],[15.9199,16.0106],[13.1216,13.3659],[15.9131,15.8024],[16.0313,16.1536],[13.232,13.0852],[11.8153,12.0443],[22.1168,22.33],[17.7463,17.6181],[11.9546,12.3203],[14.6144,14.8325],[16.2465,16.3704],[13.4724,13.4391],[12.6882,12.7147],[11.785,11.7915],[20.2084,19.5507],[13.072,12.9911],[14.585,14.5478]] color=red fillStyle=solid lineStyle=solid pointStyle=plus lineWidth=1]"
      ]
     },
     "execution_count": 16,
     "metadata": {},
     "output_type": "execute_result"
    }
   ],
   "source": [
    "graph = val.drawValidation()\n",
    "graph.setLegends([\"\"])\n",
    "graph.setTitle(\"Q2 = %.2f%%\" % (100*Q2))\n",
    "graph"
   ]
  },
  {
   "cell_type": "markdown",
   "metadata": {},
   "source": [
    "We observe that the metamodel predictions are close to the model outputs, since most red points are close to the diagonal. However, when we consider extreme deviations (i.e. less than 10 or larger than 20), then the quality is less obvious.\n",
    "\n",
    "Given that the kriging metamodel quality is sensitive to the design of experiments, it might be interesting to consider a Latin Hypercube Sampling (LHS) design to further improve the predictions quality."
   ]
  }
 ],
 "metadata": {
  "kernelspec": {
   "display_name": "Python 3",
   "language": "python",
   "name": "python3"
  },
  "language_info": {
   "codemirror_mode": {
    "name": "ipython",
    "version": 3
   },
   "file_extension": ".py",
   "mimetype": "text/x-python",
   "name": "python",
   "nbconvert_exporter": "python",
   "pygments_lexer": "ipython3",
   "version": "3.7.3"
  }
 },
 "nbformat": 4,
 "nbformat_minor": 4
}
