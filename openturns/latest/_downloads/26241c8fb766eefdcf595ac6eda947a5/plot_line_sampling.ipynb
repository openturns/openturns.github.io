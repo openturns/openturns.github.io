{
  "cells": [
    {
      "cell_type": "markdown",
      "metadata": {},
      "source": [
        "\n# Estimate a probability using Line Sampling\n"
      ]
    },
    {
      "cell_type": "markdown",
      "metadata": {},
      "source": [
        "In this example, we estimate the probability that the output of a function exceeds a given threshold with the Line Sampling method.\n\n"
      ]
    },
    {
      "cell_type": "code",
      "execution_count": null,
      "metadata": {
        "collapsed": false
      },
      "outputs": [],
      "source": [
        "import openturns as ot\nimport openturns.experimental as otexp\nimport openturns.viewer as otv\nimport matplotlib.pyplot as plt"
      ]
    },
    {
      "cell_type": "markdown",
      "metadata": {},
      "source": [
        "## Define the limit state function and the random vector\n\n"
      ]
    },
    {
      "cell_type": "code",
      "execution_count": null,
      "metadata": {
        "collapsed": false
      },
      "outputs": [],
      "source": [
        "dim = 2\ng_twoBranch = ot.SymbolicFunction(\n    [\"x1\", \"x2\"],\n    [\n        \"min(4 + 0.1 * (x1 - x2)^2 - (x1 + x2) / sqrt(2), 4 + 0.1 * (x1 - x2)^2 + (x1 + x2) / sqrt(2))\"\n    ],\n)\nX = ot.RandomVector(ot.Normal(dim))"
      ]
    },
    {
      "cell_type": "markdown",
      "metadata": {},
      "source": [
        "## Define the event\n\n"
      ]
    },
    {
      "cell_type": "code",
      "execution_count": null,
      "metadata": {
        "collapsed": false
      },
      "outputs": [],
      "source": [
        "Y_twoBranch = ot.CompositeRandomVector(g_twoBranch, X)\nthreshold = 1.5\nevent_twoBranch = ot.ThresholdEvent(Y_twoBranch, ot.Less(), threshold)"
      ]
    },
    {
      "cell_type": "markdown",
      "metadata": {},
      "source": [
        "## Run FORM approximation\n\n"
      ]
    },
    {
      "cell_type": "code",
      "execution_count": null,
      "metadata": {
        "collapsed": false
      },
      "outputs": [],
      "source": [
        "optimAlgo = ot.Cobyla()\noptimAlgo.setStartingPoint(X.getMean())\nalgo = ot.FORM(optimAlgo, event_twoBranch)\nalgo.run()\nresultFORM = algo.getResult()"
      ]
    },
    {
      "cell_type": "markdown",
      "metadata": {},
      "source": [
        "## Run Line Sampling\n\n"
      ]
    },
    {
      "cell_type": "markdown",
      "metadata": {},
      "source": [
        "The design point will define the initial important direction\n\n"
      ]
    },
    {
      "cell_type": "code",
      "execution_count": null,
      "metadata": {
        "collapsed": false
      },
      "outputs": [],
      "source": [
        "alpha_twoBranch = resultFORM.getStandardSpaceDesignPoint()"
      ]
    },
    {
      "cell_type": "markdown",
      "metadata": {},
      "source": [
        "Define the root solver\n\n"
      ]
    },
    {
      "cell_type": "code",
      "execution_count": null,
      "metadata": {
        "collapsed": false
      },
      "outputs": [],
      "source": [
        "solver = ot.Brent(1e-3, 1e-3, 1e-3, 5)\nrootStrategy = ot.MediumSafe(solver)"
      ]
    },
    {
      "cell_type": "markdown",
      "metadata": {},
      "source": [
        "Create the algorithm\n\n"
      ]
    },
    {
      "cell_type": "code",
      "execution_count": null,
      "metadata": {
        "collapsed": false
      },
      "outputs": [],
      "source": [
        "algo = otexp.LineSampling(event_twoBranch, alpha_twoBranch, rootStrategy)\nalgo.setMaximumOuterSampling(1000)\nalgo.setMaximumCoefficientOfVariation(5e-2)\n# disable adaptive important direction to make plots easier to interpret\nalgo.setAdaptiveImportantDirection(False)"
      ]
    },
    {
      "cell_type": "markdown",
      "metadata": {},
      "source": [
        "Save the important direction history, and especially all root points\n\n"
      ]
    },
    {
      "cell_type": "code",
      "execution_count": null,
      "metadata": {
        "collapsed": false
      },
      "outputs": [],
      "source": [
        "algo.setStoreHistory(True)"
      ]
    },
    {
      "cell_type": "markdown",
      "metadata": {},
      "source": [
        "Run the simulation\n\n"
      ]
    },
    {
      "cell_type": "code",
      "execution_count": null,
      "metadata": {
        "collapsed": false
      },
      "outputs": [],
      "source": [
        "algo.run()\nresult = algo.getResult()\nprint(result)"
      ]
    },
    {
      "cell_type": "markdown",
      "metadata": {},
      "source": [
        "Retrieve important directions\n\n"
      ]
    },
    {
      "cell_type": "code",
      "execution_count": null,
      "metadata": {
        "collapsed": false
      },
      "outputs": [],
      "source": [
        "alphas = algo.getAlphaHistory()"
      ]
    },
    {
      "cell_type": "markdown",
      "metadata": {},
      "source": [
        "Retrieve root points and root values\n\n"
      ]
    },
    {
      "cell_type": "code",
      "execution_count": null,
      "metadata": {
        "collapsed": false
      },
      "outputs": [],
      "source": [
        "rootPoints = algo.getRootPointsHistory()\nrootValues = algo.getRootValuesHistory()"
      ]
    },
    {
      "cell_type": "code",
      "execution_count": null,
      "metadata": {
        "collapsed": false
      },
      "outputs": [],
      "source": [
        "def drawLines(algo, n=10):\n    \"\"\"Draw sampling lines and the corresponding roots.\"\"\"\n    rootPoints = algo.getRootPointsHistory()\n    alphas = algo.getAlphaHistory()\n    n = min(n, len(rootPoints))\n    for i in range(n):\n        # there can be several roots per sample\n        n_roots = len(rootPoints[i])\n        alpha = alphas[i]\n        for j in range(n_roots):\n            if i + j == 0:\n                print(f\"n_roots={n_roots}\")\n            dp = rootPoints[i][j]\n            # project design point on the hyperplane orthogonal to alpha to get origin point\n            uPoint = dp\n            uDot = uPoint.dot(alpha)\n            uPoint = uPoint - alpha * uDot\n            # draw segment origin -> design point\n            plt.plot(\n                (uPoint[0], dp[0]),\n                (uPoint[1], dp[1]),\n                color=\"blue\",\n                linestyle=\"--\",\n                linewidth=0.75,\n            )\n            # draw origin\n            plt.plot(uPoint[0], uPoint[1], \"ro\", markersize=3)\n            # draw design point\n            plt.plot(dp[0], dp[1], \"bo\", markersize=3, zorder=3)"
      ]
    },
    {
      "cell_type": "code",
      "execution_count": null,
      "metadata": {
        "collapsed": false
      },
      "outputs": [],
      "source": [
        "def drawLSDesign(algo):\n    \"\"\"Draw sampling lines, roots, and the limit state function.\"\"\"\n    dmin = [-4.0] * 2\n    dmax = [4.0] * 2\n    graph1 = g_twoBranch.draw(dmin, dmax)\n    contour_g = graph1.getDrawable(0).getImplementation()\n    contour_g.setColorBarPosition(\"\")\n    contour_g.setColorMap(\"gray\")\n    graph1.setDrawable(contour_g, 0)\n    view1 = otv.View(graph1, square_axes=True)\n    # now draw the the limit state on same figure\n    graph2 = g_twoBranch.draw(dmin, dmax)\n    contour_g = graph2.getDrawable(0).getImplementation()\n    contour_g.setLevels([threshold])\n    contour_g.setColor(\"red\")\n    graph2.setDrawable(contour_g, 0)\n    plt.axline([-1, 1], [1, -1], linestyle=\"dotted\", color=\"gray\")\n    drawLines(algo)\n    graph2.setTitle(\"Line Sampling\")\n    _ = otv.View(graph2, figure=view1.getFigure())"
      ]
    },
    {
      "cell_type": "markdown",
      "metadata": {},
      "source": [
        "Plot the limit state, a few design points and their origin\n\n"
      ]
    },
    {
      "cell_type": "code",
      "execution_count": null,
      "metadata": {
        "collapsed": false
      },
      "outputs": [],
      "source": [
        "drawLSDesign(algo)"
      ]
    },
    {
      "cell_type": "markdown",
      "metadata": {},
      "source": [
        "Now we disable the opposite direction search to try to save function evaluations.\nThis practice is incorrect in this case, however, as the algorithm misses half the probability of the event.\n\n"
      ]
    },
    {
      "cell_type": "code",
      "execution_count": null,
      "metadata": {
        "collapsed": false
      },
      "outputs": [],
      "source": [
        "ot.RandomGenerator.SetSeed(0)\nalgo.setSearchOppositeDirection(False)\nalgo.run()\nresult = algo.getResult()\nprint(result)"
      ]
    },
    {
      "cell_type": "markdown",
      "metadata": {},
      "source": [
        "We plot the limit state, a few design points and their origin.\nThis time we see each origin sample point in the orthogonal hyperplane yields only one design point.\n\n"
      ]
    },
    {
      "cell_type": "code",
      "execution_count": null,
      "metadata": {
        "collapsed": false
      },
      "outputs": [],
      "source": [
        "drawLSDesign(algo)"
      ]
    },
    {
      "cell_type": "markdown",
      "metadata": {},
      "source": [
        "Now re-enable adaptive important direction search\n\n"
      ]
    },
    {
      "cell_type": "code",
      "execution_count": null,
      "metadata": {
        "collapsed": false
      },
      "outputs": [],
      "source": [
        "ot.RandomGenerator.SetSeed(0)\nalgo.setAdaptiveImportantDirection(True)\nalgo.setSearchOppositeDirection(True)\nalgo.run()\nresult = algo.getResult()\nprint(result)"
      ]
    },
    {
      "cell_type": "markdown",
      "metadata": {},
      "source": [
        "Inspect important directions (without duplicates from history)\n\n"
      ]
    },
    {
      "cell_type": "code",
      "execution_count": null,
      "metadata": {
        "collapsed": false
      },
      "outputs": [],
      "source": [
        "unique_alphas = ot.Sample(0, dim)\nfor alpha in algo.getAlphaHistory():\n    if len(unique_alphas) == 0 or alpha != unique_alphas[-1]:\n        unique_alphas.add(alpha)\nprint(\"unique alphas:\")\nprint(unique_alphas)"
      ]
    },
    {
      "cell_type": "code",
      "execution_count": null,
      "metadata": {
        "collapsed": false
      },
      "outputs": [],
      "source": [
        "otv.View.ShowAll()"
      ]
    }
  ],
  "metadata": {
    "kernelspec": {
      "display_name": "Python 3",
      "language": "python",
      "name": "python3"
    },
    "language_info": {
      "codemirror_mode": {
        "name": "ipython",
        "version": 3
      },
      "file_extension": ".py",
      "mimetype": "text/x-python",
      "name": "python",
      "nbconvert_exporter": "python",
      "pygments_lexer": "ipython3",
      "version": "3.13.3"
    }
  },
  "nbformat": 4,
  "nbformat_minor": 0
}