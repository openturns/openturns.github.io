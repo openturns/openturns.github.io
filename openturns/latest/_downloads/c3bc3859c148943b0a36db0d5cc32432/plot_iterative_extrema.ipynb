{
  "cells": [
    {
      "cell_type": "markdown",
      "metadata": {},
      "source": [
        "\n# Estimate extrema iteratively\n"
      ]
    },
    {
      "cell_type": "markdown",
      "metadata": {},
      "source": [
        "In this example, we compute extrema iteratively.\n\n"
      ]
    },
    {
      "cell_type": "code",
      "execution_count": null,
      "metadata": {
        "collapsed": false
      },
      "outputs": [],
      "source": [
        "import openturns as ot\nimport openturns.viewer as otv"
      ]
    },
    {
      "cell_type": "markdown",
      "metadata": {},
      "source": [
        "We first create a one-dimensional Uniform random variable to generate data.\n\n"
      ]
    },
    {
      "cell_type": "code",
      "execution_count": null,
      "metadata": {
        "collapsed": false
      },
      "outputs": [],
      "source": [
        "dim = 1\ndistNormal = ot.Uniform()"
      ]
    },
    {
      "cell_type": "markdown",
      "metadata": {},
      "source": [
        "The :class:`~openturns.IterativeExtrema` class needs the dimension of the sample\n(here 1):\n\n"
      ]
    },
    {
      "cell_type": "code",
      "execution_count": null,
      "metadata": {
        "collapsed": false
      },
      "outputs": [],
      "source": [
        "iterExtrema = ot.IterativeExtrema(dim)"
      ]
    },
    {
      "cell_type": "markdown",
      "metadata": {},
      "source": [
        "We can now perform the simulations.\nIn our case most of the data should be in the [-3,3] interval.\nConsequently with few samples the expected minimum should be around -3\nand the expected maximum should be around 3.\nWe first increment the object with one :class:`~openturns.Point` at a time.\nAt any given step the current minimum is obtained thanks to\nthe :meth:`~openturns.IterativeExtrema.getMin` method, the current maximum\nwith the :meth:`~openturns.IterativeExtrema.getMax` method and the\ncurrent number of iterations is given by the\n:meth:`~openturns.IterativeMoments.getIterationNumber` method.\n\n"
      ]
    },
    {
      "cell_type": "code",
      "execution_count": null,
      "metadata": {
        "collapsed": false
      },
      "outputs": [],
      "source": [
        "size = 2000\nminEvolution = ot.Sample()\nmaxEvolution = ot.Sample()\nfor i in range(size):\n    point = distNormal.getRealization()\n    iterExtrema.increment(point)\n    minEvolution.add(iterExtrema.getMin())\n    maxEvolution.add(iterExtrema.getMax())"
      ]
    },
    {
      "cell_type": "markdown",
      "metadata": {},
      "source": [
        "We display the evolution of the minimum (in blue) and the maximum (orange).\n\n"
      ]
    },
    {
      "cell_type": "code",
      "execution_count": null,
      "metadata": {
        "collapsed": false
      },
      "outputs": [],
      "source": [
        "iterationSample = ot.Sample.BuildFromPoint(range(1, size + 1))\npalette = ot.Drawable().BuildDefaultPalette(2)\n#\ncurveMin = ot.Curve(iterationSample, minEvolution)\ncurveMin.setColor(palette[0])\ncurveMin.setLegend(\"min.\")\n#\ncurveMax = ot.Curve(iterationSample, maxEvolution)\ncurveMax.setColor(palette[1])\ncurveMax.setLegend(\"max.\")\n#\ngraph = ot.Graph(\"Evolution of the min/max\", \"iteration nb\", \"min/max\", True)\ngraph.add(curveMin)\ngraph.add(curveMax)\ngraph.setLegendPosition(\"topleft\")\ngraph.setLogScale(ot.GraphImplementation.LOGX)\nview = otv.View(graph)"
      ]
    },
    {
      "cell_type": "markdown",
      "metadata": {},
      "source": [
        "We can also increment with a :class:`~openturns.Sample`.\n\n"
      ]
    },
    {
      "cell_type": "code",
      "execution_count": null,
      "metadata": {
        "collapsed": false
      },
      "outputs": [],
      "source": [
        "sample = distNormal.getSample(size)\niterExtrema.increment(sample)"
      ]
    },
    {
      "cell_type": "markdown",
      "metadata": {},
      "source": [
        "We print the total number of iterations and the extrema.\n\n"
      ]
    },
    {
      "cell_type": "code",
      "execution_count": null,
      "metadata": {
        "collapsed": false
      },
      "outputs": [],
      "source": [
        "print(\"Total number of iterations: \" + str(iterExtrema.getIterationNumber()))\nprint(\"Minimum: \", iterExtrema.getMin())\nprint(\"Maximum: \", iterExtrema.getMax())\n\notv.View.ShowAll()"
      ]
    }
  ],
  "metadata": {
    "kernelspec": {
      "display_name": "Python 3",
      "language": "python",
      "name": "python3"
    },
    "language_info": {
      "codemirror_mode": {
        "name": "ipython",
        "version": 3
      },
      "file_extension": ".py",
      "mimetype": "text/x-python",
      "name": "python",
      "nbconvert_exporter": "python",
      "pygments_lexer": "ipython3",
      "version": "3.11.3"
    }
  },
  "nbformat": 4,
  "nbformat_minor": 0
}