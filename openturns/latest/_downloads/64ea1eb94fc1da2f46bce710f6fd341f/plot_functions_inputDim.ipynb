{
  "cells": [
    {
      "cell_type": "markdown",
      "metadata": {},
      "source": [
        "\n# Increase the input dimension of a function\n"
      ]
    },
    {
      "cell_type": "markdown",
      "metadata": {},
      "source": [
        "## Description\n\nWe want to build a function $f : \\mathbb{R}^d \\mapsto \\mathbb{R}$ from\n*p* functions $f_i: \\mathbb{R} \\mapsto \\mathbb{R}$.\n\nWe can do that:\n\n- Case 1: using the tensor product of the functions $f_i$,\n- Case 2: by addition of the functions $f_i$.\n\nWe need to implement both basic steps:\n\n- Step 1: creation of the projection function: $\\pi_i : (x_1, \\dots, x_d) \\mapsto x_i$,\n- Step 2: creation of the composed function: $g_i = f_i \\circ \\pi_i : (x_1, \\dots, x_d) \\mapsto f_i(x_i)$.\n\n"
      ]
    },
    {
      "cell_type": "markdown",
      "metadata": {},
      "source": [
        "## Step 1: Creation of the  projection function\n\nThe projection function is defined by:\n\n\\begin{align}\\pi_i : (x_1, \\dots, x_d) \\mapsto x_i\\end{align}\n\nWe can do that using:\n\n- a :class:`~openturns.SymbolicFunction` class,\n- a :class:`~openturns.LinearFunction` class.\n\n"
      ]
    },
    {
      "cell_type": "markdown",
      "metadata": {},
      "source": [
        "**Method 1**: We use the :class:`~openturns.SymbolicFunction` class.\n\n"
      ]
    },
    {
      "cell_type": "code",
      "execution_count": null,
      "metadata": {
        "collapsed": false
      },
      "outputs": [],
      "source": [
        "import openturns as ot\n\n\ndef buidProjSymbolic(p, i):\n    # R^p --> R\n    # (x1, ..., xp) --> xi\n    inputVar = ot.Description.BuildDefault(p, 'x')\n    return ot.SymbolicFunction(inputVar, [inputVar[i]])\n\n\nd = 2\nall_projections = [buidProjSymbolic(d, i) for i in range(d)]\nprint('Input dimension = ', all_projections[0].getInputDimension(), 'Output dimension = ', all_projections[0].getOutputDimension())"
      ]
    },
    {
      "cell_type": "markdown",
      "metadata": {},
      "source": [
        "**Method 2**: We use the :class:`~openturns.LinearFunction` class.\n\nThe function $\\pi_i(\\vect{x}) = \\mat{A}\\left(\\vect{x}-\\vect{c}\\right) + \\vect{b}$.\n\n"
      ]
    },
    {
      "cell_type": "code",
      "execution_count": null,
      "metadata": {
        "collapsed": false
      },
      "outputs": [],
      "source": [
        "def buildProjLinear(d, i):\n    # R^d --> R\n    # (x1, ..., xd) --> xi\n    matA = ot.Matrix(1, d)\n    matA[0, i] = 1.0\n    cVect = [0.0] * d\n    bVect = [0.0]\n    return ot.LinearFunction(cVect, bVect, matA)\n\n\nall_projections = [buildProjLinear(d, i) for i in range(d)]"
      ]
    },
    {
      "cell_type": "markdown",
      "metadata": {},
      "source": [
        "## Step 2: Creation of the  composed function\n\nThe composed function is defined by: $g_i = f_i \\circ \\pi_i$ defined by:\n\n\\begin{align}g_i: (x_1, \\dots, x_d) \\mapsto f_i(x_i)\\end{align}\n\nWe use the :class:`~openturns.ComposedFunction` class.\n\n"
      ]
    },
    {
      "cell_type": "code",
      "execution_count": null,
      "metadata": {
        "collapsed": false
      },
      "outputs": [],
      "source": [
        "f1 = ot.SymbolicFunction(['x1'], ['x1^2'])\nf2 = ot.SymbolicFunction(['x2'], ['3*x2'])\nfi_list = [f1, f2]\nall_g = [ot.ComposedFunction(f, proj) for (f, proj) in zip(fi_list, all_projections)]\nprint(all_g[0].getInputDimension(), all_g[0].getOutputDimension())"
      ]
    },
    {
      "cell_type": "markdown",
      "metadata": {},
      "source": [
        "## Case 1: Tensor product\n\nWe want to build the function $f : \\mathbb{R}^d \\mapsto \\mathbb{R}$ defined by:\n\n\\begin{align}f: (x_1, \\dots, x_d) \\mapsto \\prod_{i=1}^d f_i(x_i)\\end{align}\n\nAs the operator $*$ can only be applied to functions sharing the same input space, we need to\nuse the projection function $\\pi_i$ and the functions $g_i$ all defined on $\\mathbb{R}^d$.\n\n"
      ]
    },
    {
      "cell_type": "code",
      "execution_count": null,
      "metadata": {
        "collapsed": false
      },
      "outputs": [],
      "source": [
        "def tensorProduct(factors):\n    prod = factors[0]\n    for i in range(1, len(factors)):\n        prod = prod * factors[i]\n    return prod\n\n\nf = tensorProduct(all_g)\nprint('input dimension =', f.getInputDimension())\nprint('output dimension =', f.getOutputDimension())\nprint('f([1.0, 2.0]) = ', f([1.0, 2.0]))"
      ]
    },
    {
      "cell_type": "markdown",
      "metadata": {},
      "source": [
        "## Case 2: Sum\n\nWe want to build the function $f : \\mathbb{R}^d \\mapsto \\mathbb{R}$ defined by:\n\n\\begin{align}f: (x_1, \\dots, x_d) \\mapsto \\sum_{i=1}^d f_i(x_i)\\end{align}\n\nWe use the :class:`~openturns.LinearCombinationFunction` class.\n\n"
      ]
    },
    {
      "cell_type": "code",
      "execution_count": null,
      "metadata": {
        "collapsed": false
      },
      "outputs": [],
      "source": [
        "coef = [1.0, 1.0]\nf = ot.LinearCombinationFunction(all_g, [1.0] * len(all_g))\nprint('input dimension =', f.getInputDimension())\nprint('output dimension =', f.getOutputDimension())"
      ]
    }
  ],
  "metadata": {
    "kernelspec": {
      "display_name": "Python 3",
      "language": "python",
      "name": "python3"
    },
    "language_info": {
      "codemirror_mode": {
        "name": "ipython",
        "version": 3
      },
      "file_extension": ".py",
      "mimetype": "text/x-python",
      "name": "python",
      "nbconvert_exporter": "python",
      "pygments_lexer": "ipython3",
      "version": "3.11.3"
    }
  },
  "nbformat": 4,
  "nbformat_minor": 0
}