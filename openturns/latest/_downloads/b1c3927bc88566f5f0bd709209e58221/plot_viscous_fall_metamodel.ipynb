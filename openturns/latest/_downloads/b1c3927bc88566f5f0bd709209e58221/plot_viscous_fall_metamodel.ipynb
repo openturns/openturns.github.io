{
  "cells": [
    {
      "cell_type": "markdown",
      "metadata": {},
      "source": [
        "\n# Viscous free fall: metamodel of a field function\n"
      ]
    },
    {
      "cell_type": "markdown",
      "metadata": {},
      "source": [
        "In this example, we present how to create the metamodel of a field function.\nThis examples considers the `free fall model <use-case-viscous-fall>`.\nWe create the metamodel automatically using :class:`openturns.experimental.PointToFieldFunctionalChaosAlgorithm`\nand then also with a manual approach:\nWe first compute the Karhunen-Lo\u00e8ve decomposition of a sample of trajectories.\nThen we create a create a polynomial chaos which takes the inputs and returns\nthe KL decomposition modes as outputs.\nFinally, we create a metamodel by\ncombining the KL decomposition and the polynomial chaos.\n\n"
      ]
    },
    {
      "cell_type": "markdown",
      "metadata": {},
      "source": [
        "## Define the model\n\n"
      ]
    },
    {
      "cell_type": "code",
      "execution_count": null,
      "metadata": {
        "collapsed": false
      },
      "outputs": [],
      "source": [
        "import openturns as ot\nimport openturns.experimental as otexp\nimport openturns.viewer as otv\nfrom openturns.usecases import viscous_free_fall\n\not.Log.Show(ot.Log.NONE)"
      ]
    },
    {
      "cell_type": "markdown",
      "metadata": {},
      "source": [
        "Load the viscous free fall example.\n\n"
      ]
    },
    {
      "cell_type": "code",
      "execution_count": null,
      "metadata": {
        "collapsed": false
      },
      "outputs": [],
      "source": [
        "vff = viscous_free_fall.ViscousFreeFall()\ndistribution = vff.distribution\nmodel = vff.model"
      ]
    },
    {
      "cell_type": "markdown",
      "metadata": {},
      "source": [
        "Generate a training sample.\n\n"
      ]
    },
    {
      "cell_type": "code",
      "execution_count": null,
      "metadata": {
        "collapsed": false
      },
      "outputs": [],
      "source": [
        "size = 2000\not.RandomGenerator.SetSeed(0)\ninputSample = distribution.getSample(size)\noutputSample = model(inputSample)"
      ]
    },
    {
      "cell_type": "markdown",
      "metadata": {},
      "source": [
        "Compute the global metamodel\n\n"
      ]
    },
    {
      "cell_type": "code",
      "execution_count": null,
      "metadata": {
        "collapsed": false
      },
      "outputs": [],
      "source": [
        "algo = otexp.PointToFieldFunctionalChaosAlgorithm(\n    inputSample, outputSample, distribution\n)\nalgo.run()\nresult = algo.getResult()\nmetaModel = result.getPointToFieldMetaModel()"
      ]
    },
    {
      "cell_type": "markdown",
      "metadata": {},
      "source": [
        "## Validate the metamodel\n\n"
      ]
    },
    {
      "cell_type": "markdown",
      "metadata": {},
      "source": [
        "Create a validation sample.\n\n"
      ]
    },
    {
      "cell_type": "code",
      "execution_count": null,
      "metadata": {
        "collapsed": false
      },
      "outputs": [],
      "source": [
        "size = 10\nvalidationInputSample = distribution.getSample(size)\nvalidationOutputSample = model(validationInputSample)"
      ]
    },
    {
      "cell_type": "code",
      "execution_count": null,
      "metadata": {
        "collapsed": false
      },
      "outputs": [],
      "source": [
        "graph = validationOutputSample.drawMarginal(0)\ngraph.setColors([\"red\"])\ngraph2 = metaModel(validationInputSample).drawMarginal(0)\ngraph2.setColors([\"blue\"])\ngraph.add(graph2)\ngraph.setTitle(\"Model/metamodel comparison\")\ngraph.setXTitle(r\"$t$\")\ngraph.setYTitle(r\"$z$\")\nview = otv.View(graph)"
      ]
    },
    {
      "cell_type": "markdown",
      "metadata": {},
      "source": [
        "We see that the blue trajectories (i.e. the metamodel) are close to the red\ntrajectories (i.e. the validation sample).\nThis shows that the metamodel is quite accurate.\nHowever, we observe that the trajectory singularity that occurs when the object\ntouches the ground (i.e. when $z$ is equal to zero), makes the metamodel less accurate.\n\n"
      ]
    },
    {
      "cell_type": "markdown",
      "metadata": {},
      "source": [
        "## Sensitivity analysis\n\n"
      ]
    },
    {
      "cell_type": "markdown",
      "metadata": {},
      "source": [
        "Compute the sensitivity indices\n\n"
      ]
    },
    {
      "cell_type": "code",
      "execution_count": null,
      "metadata": {
        "collapsed": false
      },
      "outputs": [],
      "source": [
        "sensitivity = otexp.FieldFunctionalChaosSobolIndices(result)\ns1 = sensitivity.getFirstOrderIndices()\nst = sensitivity.getTotalOrderIndices()"
      ]
    },
    {
      "cell_type": "markdown",
      "metadata": {},
      "source": [
        "We can notice that `v0` and `m` are the most influencial parameters\nand that there are almost no interactions (total indices being close to first order indices)\n\n"
      ]
    },
    {
      "cell_type": "code",
      "execution_count": null,
      "metadata": {
        "collapsed": false
      },
      "outputs": [],
      "source": [
        "print(s1, st)"
      ]
    },
    {
      "cell_type": "markdown",
      "metadata": {},
      "source": [
        "Draw the sensitivity indices\n\n"
      ]
    },
    {
      "cell_type": "code",
      "execution_count": null,
      "metadata": {
        "collapsed": false
      },
      "outputs": [],
      "source": [
        "graph = sensitivity.draw()\nview = otv.View(graph)"
      ]
    },
    {
      "cell_type": "markdown",
      "metadata": {},
      "source": [
        "## Manual approach\n\n"
      ]
    },
    {
      "cell_type": "markdown",
      "metadata": {},
      "source": [
        "Step 1: compute the KL decomposition of the output\n\n"
      ]
    },
    {
      "cell_type": "code",
      "execution_count": null,
      "metadata": {
        "collapsed": false
      },
      "outputs": [],
      "source": [
        "algo = ot.KarhunenLoeveSVDAlgorithm(outputSample, 1.0e-6)\nalgo.run()\nklResult = algo.getResult()\nscaledModes = klResult.getScaledModesAsProcessSample()"
      ]
    },
    {
      "cell_type": "code",
      "execution_count": null,
      "metadata": {
        "collapsed": false
      },
      "outputs": [],
      "source": [
        "graph = scaledModes.drawMarginal(0)\ngraph.setTitle(\"KL modes\")\ngraph.setXTitle(r\"$t$\")\ngraph.setYTitle(r\"$z$\")\nview = otv.View(graph)"
      ]
    },
    {
      "cell_type": "markdown",
      "metadata": {},
      "source": [
        "We create the lifting function which takes coefficients of the K.-L. modes as inputs and returns the trajectories.\n\n"
      ]
    },
    {
      "cell_type": "code",
      "execution_count": null,
      "metadata": {
        "collapsed": false
      },
      "outputs": [],
      "source": [
        "klLiftingFunction = ot.KarhunenLoeveLifting(klResult)"
      ]
    },
    {
      "cell_type": "markdown",
      "metadata": {},
      "source": [
        "The `project` method computes the projection of the output sample (i.e. the trajectories) onto the K.-L. modes.\n\n"
      ]
    },
    {
      "cell_type": "code",
      "execution_count": null,
      "metadata": {
        "collapsed": false
      },
      "outputs": [],
      "source": [
        "outputSampleChaos = klResult.project(outputSample)"
      ]
    },
    {
      "cell_type": "markdown",
      "metadata": {},
      "source": [
        "step 2: compute the metamodel of the KL modes\n\n"
      ]
    },
    {
      "cell_type": "code",
      "execution_count": null,
      "metadata": {
        "collapsed": false
      },
      "outputs": [],
      "source": [
        "# We create a polynomial chaos metamodel which takes the input sample and returns the K.-L. modes.\nalgo = ot.FunctionalChaosAlgorithm(inputSample, outputSampleChaos, distribution)\nalgo.run()\nchaosMetamodel = algo.getResult().getMetaModel()"
      ]
    },
    {
      "cell_type": "markdown",
      "metadata": {},
      "source": [
        "The final metamodel is a composition of the KL lifting function and the polynomial chaos metamodel.\nWe combine these two functions using the :class:`~openturns.PointToFieldConnection` class.\n\n"
      ]
    },
    {
      "cell_type": "code",
      "execution_count": null,
      "metadata": {
        "collapsed": false
      },
      "outputs": [],
      "source": [
        "metaModel = ot.PointToFieldConnection(klLiftingFunction, chaosMetamodel)"
      ]
    },
    {
      "cell_type": "markdown",
      "metadata": {},
      "source": [
        "Reset ResourceMap\n\n"
      ]
    },
    {
      "cell_type": "code",
      "execution_count": null,
      "metadata": {
        "collapsed": false
      },
      "outputs": [],
      "source": [
        "ot.ResourceMap.Reload()"
      ]
    },
    {
      "cell_type": "code",
      "execution_count": null,
      "metadata": {
        "collapsed": false
      },
      "outputs": [],
      "source": [
        "otv.View.ShowAll()"
      ]
    }
  ],
  "metadata": {
    "kernelspec": {
      "display_name": "Python 3",
      "language": "python",
      "name": "python3"
    },
    "language_info": {
      "codemirror_mode": {
        "name": "ipython",
        "version": 3
      },
      "file_extension": ".py",
      "mimetype": "text/x-python",
      "name": "python",
      "nbconvert_exporter": "python",
      "pygments_lexer": "ipython3",
      "version": "3.12.3"
    }
  },
  "nbformat": 4,
  "nbformat_minor": 0
}