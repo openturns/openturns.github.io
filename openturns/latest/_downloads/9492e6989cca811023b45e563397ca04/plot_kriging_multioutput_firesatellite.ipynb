{
  "cells": [
    {
      "cell_type": "markdown",
      "metadata": {},
      "source": [
        "\n# Example of multi output Gaussian Process Regression on the fire satellite model\n"
      ]
    },
    {
      "cell_type": "markdown",
      "metadata": {},
      "source": [
        "This example aims to illustrate Gaussian Process Fitter (Kriging) metamodel with several outputs on the fire satellite model.\n\n"
      ]
    },
    {
      "cell_type": "markdown",
      "metadata": {},
      "source": [
        "## Loading of the model\nThis model involves 9 input variables and 3 output variables.\nWe load the `Fire satellite use case<use-case-fire-satellite>`.\n\n"
      ]
    },
    {
      "cell_type": "code",
      "execution_count": null,
      "metadata": {
        "collapsed": false
      },
      "outputs": [],
      "source": [
        "import openturns as ot\nfrom openturns.usecases.fire_satellite import FireSatelliteModel\nfrom openturns.viewer import View\nimport openturns.experimental as otexp\n\n\nm = FireSatelliteModel()"
      ]
    },
    {
      "cell_type": "markdown",
      "metadata": {},
      "source": [
        "We define the function that evaluates the outputs depending on the inputs.\n\n"
      ]
    },
    {
      "cell_type": "code",
      "execution_count": null,
      "metadata": {
        "collapsed": false
      },
      "outputs": [],
      "source": [
        "model = m.model"
      ]
    },
    {
      "cell_type": "markdown",
      "metadata": {},
      "source": [
        "We also define the distribution of input variables to build the training and test sets.\n\n"
      ]
    },
    {
      "cell_type": "code",
      "execution_count": null,
      "metadata": {
        "collapsed": false
      },
      "outputs": [],
      "source": [
        "inputDistribution = m.inputDistribution"
      ]
    },
    {
      "cell_type": "markdown",
      "metadata": {},
      "source": [
        "## Generation of data\nWe now generate the input and output training sets as 10 times the dimension of the input vector.\n\n"
      ]
    },
    {
      "cell_type": "code",
      "execution_count": null,
      "metadata": {
        "collapsed": false
      },
      "outputs": [],
      "source": [
        "experiment = ot.LHSExperiment(inputDistribution, 10 * m.dim)\ninputTrainingSet = experiment.generate()\noutputTrainingSet = model(inputTrainingSet)\n\nprint(\"Lower and upper bounds of inputTrainingSet:\")\nprint(inputTrainingSet.getMin(), inputTrainingSet.getMax())"
      ]
    },
    {
      "cell_type": "markdown",
      "metadata": {},
      "source": [
        "## Creation of metamodel\nWe choose to use a constant trend.\n\n"
      ]
    },
    {
      "cell_type": "code",
      "execution_count": null,
      "metadata": {
        "collapsed": false
      },
      "outputs": [],
      "source": [
        "linear_basis = ot.LinearBasisFactory(m.dim).build()\nbasis = ot.Basis(\n    [\n        ot.AggregatedFunction([linear_basis.build(k)] * 3)\n        for k in range(linear_basis.getSize())\n    ]\n)"
      ]
    },
    {
      "cell_type": "markdown",
      "metadata": {},
      "source": [
        "We would like to have separate covariance models for the three outputs.\nTo do so, we use the :class:`~openturns.TensorizedCovarianceModel`.\nFor the purpose of illustration, we consider :class:`~openturns.MaternModel` for the first and third outputs, and :class:`~openturns.SquaredExponential` for the second output.\n\n"
      ]
    },
    {
      "cell_type": "code",
      "execution_count": null,
      "metadata": {
        "collapsed": false
      },
      "outputs": [],
      "source": [
        "myCov1 = ot.MaternModel([1.0] * m.dim, 2.5)\nmyCov2 = ot.SquaredExponential([1.0] * m.dim)\nmyCov3 = ot.MaternModel([1.0] * m.dim, 2.5)\n\ncovarianceModel = ot.TensorizedCovarianceModel([myCov1, myCov2, myCov3])"
      ]
    },
    {
      "cell_type": "markdown",
      "metadata": {},
      "source": [
        "The scaling of the data is really important when dealing with GP fitter,\nespecially considering the domain definition of the input variables (the\naltitude varies in order of $10^7$ whereas the drag coefficient is around 1).\nWe thus define appropriate bounds for the training algorithm based on the\ndomain definition of each variable.\n\n"
      ]
    },
    {
      "cell_type": "code",
      "execution_count": null,
      "metadata": {
        "collapsed": false
      },
      "outputs": [],
      "source": [
        "scaleOptimizationBounds = ot.Interval(\n    [1.0e6, 1.0e3, 1.0e3, 1.0, 0.1, 0.1, 0.1, 0.1, 0.1, 0.1, 0.1, 0.1],\n    [2.0e7, 2.0e3, 2.0e3, 1e2, 10.0, 10.0, 10.0, 10.0, 10.0, 10.0, 10.0, 10.0],\n)"
      ]
    },
    {
      "cell_type": "markdown",
      "metadata": {},
      "source": [
        "We can now define the scaled version of with GP fitter model.\nFirst, we need to initialize the covariance model's parameters in accordance with the optimization bounds.\n\n"
      ]
    },
    {
      "cell_type": "code",
      "execution_count": null,
      "metadata": {
        "collapsed": false
      },
      "outputs": [],
      "source": [
        "covarianceModelParameters = (\n    0.5\n    * (\n        scaleOptimizationBounds.getUpperBound()\n        - scaleOptimizationBounds.getLowerBound()\n    )\n    + scaleOptimizationBounds.getLowerBound()\n)\ncovarianceModel.setParameter(covarianceModelParameters)\nfitter_algo = otexp.GaussianProcessFitter(\n    inputTrainingSet, outputTrainingSet, covarianceModel, basis\n)\nfitter_algo.setOptimizationBounds(scaleOptimizationBounds)\nfitter_algo.setOptimizeParameters(True)"
      ]
    },
    {
      "cell_type": "markdown",
      "metadata": {},
      "source": [
        "We run the algorithm and get the metamodel.\n\n"
      ]
    },
    {
      "cell_type": "code",
      "execution_count": null,
      "metadata": {
        "collapsed": false
      },
      "outputs": [],
      "source": [
        "fitter_algo.run()\nfitter_result = fitter_algo.getResult()\ngpr_algo = otexp.GaussianProcessRegression(fitter_result)\ngpr_algo.run()\ngpr_result = gpr_algo.getResult()\n\ngprMetamodel = gpr_result.getMetaModel()"
      ]
    },
    {
      "cell_type": "markdown",
      "metadata": {},
      "source": [
        "## Validation of metamodel\nTo validate the metamodel, we create a validation set of size equal to 50 times the input vector dimension to evaluate the functions.\n\n"
      ]
    },
    {
      "cell_type": "code",
      "execution_count": null,
      "metadata": {
        "collapsed": false
      },
      "outputs": [],
      "source": [
        "ot.RandomGenerator.SetSeed(1)\nexperimentTest = ot.LHSExperiment(inputDistribution, 50 * m.dim)\ninputTestSet = experimentTest.generate()\noutputTestSet = model(inputTestSet)"
      ]
    },
    {
      "cell_type": "markdown",
      "metadata": {},
      "source": [
        "Then, we use the :class:`~openturns.MetaModelValidation` class to validate the metamodel.\n\n"
      ]
    },
    {
      "cell_type": "code",
      "execution_count": null,
      "metadata": {
        "collapsed": false
      },
      "outputs": [],
      "source": [
        "metamodelPredictions = gprMetamodel(inputTestSet)\nval = ot.MetaModelValidation(outputTestSet, metamodelPredictions)\n\nr2Score = val.computeR2Score()\n\nlabel = [\"Total torque\", \"Total power\", \"Solar array area\"]\n\nfor i in range(3):\n    graph = val.drawValidation().getGraph(0, i)\n    graph.setLegends([\"\"])\n    graph.setLegends([\"R2 = %.2f%%\" % (100 * r2Score[i]), \"\"])\n    graph.setLegendPosition(\"upper left\")\n    graph.setXTitle(\"Exact function\")\n    graph.setYTitle(\"Metamodel prediction\")\n    graph.setTitle(label[i])\n    View(graph)"
      ]
    }
  ],
  "metadata": {
    "kernelspec": {
      "display_name": "Python 3",
      "language": "python",
      "name": "python3"
    },
    "language_info": {
      "codemirror_mode": {
        "name": "ipython",
        "version": 3
      },
      "file_extension": ".py",
      "mimetype": "text/x-python",
      "name": "python",
      "nbconvert_exporter": "python",
      "pygments_lexer": "ipython3",
      "version": "3.13.3"
    }
  },
  "nbformat": 4,
  "nbformat_minor": 0
}