{
  "cells": [
    {
      "cell_type": "markdown",
      "metadata": {},
      "source": [
        "\n# Create a linear least squares model\n"
      ]
    },
    {
      "cell_type": "markdown",
      "metadata": {},
      "source": [
        "In this example we are going to create a global approximation of a model\nresponse based on a linear function using the :class:`~openturns.LinearLeastSquares` class.\n\nWe consider the function $h : \\Rset^2 \\rightarrow \\Rset^2$ is defined by:\n\n\\begin{align}\\vect{h}(x_1, x_2) = \\Tr{\\left(\\cos(x_1 + x_2), (x_2 + 1) e^{x_1 - 2 x_2} \\right)}\\end{align}\n\nfor any $\\vect{x} \\in \\Rset^2$.\nSince the output is a dimension 2 vector, the model has vector\ncoefficients.\nWe use the linear model:\n\n\\begin{align}\\vect{y} \\, \\approx \\, \\widehat{\\vect{h}}(\\vect{x}) \\,\n    = \\, \\sum_{k=0}^2 \\; \\vect{a}_k \\; \\psi_k(\\vect{x})\\end{align}\n\n\nfor any $\\vect{x} \\in \\Rset^2$ where $\\left\\{\\vect{a}_k \\in \\Rset^2\\right\\}_{k = 0,..., 2}$\nare the vector coefficients and $\\left\\{\\psi_k : \\Rset^2 \\rightarrow \\Rset\\right\\}_{k = 0, ..., 2}$\nare the basis functions.\nThis implies that each marginal output $\\widehat{h}_i(\\vect{x})$\nis approximated by the linear model:\n\n\\begin{align}\\widehat{h}_i(\\vect{x}) \\,\n    = \\, \\sum_{k=0}^2 \\; a_{ki} \\; \\psi_k(\\vect{x})\\end{align}\n\nfor any $\\vect{x} \\in \\Rset^2$ and any $i = 1, 2$\nwhere $a_{ki}$ is the $k$-th coefficient of the $i$-th output\nmarginal:\n\n\\begin{align}\\vect{a}_k = \\begin{pmatrix}a_{k1} \\\\ a_{k2} \\end{pmatrix}\\end{align}\n\nfor $k = 0, 1, 2$.\nWe consider the basis functions:\n\n\\begin{align}\\psi_0(\\vect{x}) & = 1 \\\\\n     \\psi_1(\\vect{x}) & = x_1 \\\\\n     \\psi_2(\\vect{x}) & = x_2 \\\\\\end{align}\n\nfor any $\\vect{x} \\in \\Rset^2$.\n\n"
      ]
    },
    {
      "cell_type": "code",
      "execution_count": null,
      "metadata": {
        "collapsed": false
      },
      "outputs": [],
      "source": [
        "import openturns as ot\nimport openturns.viewer as viewer\n\not.Log.Show(ot.Log.NONE)"
      ]
    },
    {
      "cell_type": "markdown",
      "metadata": {},
      "source": [
        "## Define the model\n\n"
      ]
    },
    {
      "cell_type": "markdown",
      "metadata": {},
      "source": [
        "Prepare an input sample.\nEach point is a pair of coordinates $(x_1, x_2)$.\n\n"
      ]
    },
    {
      "cell_type": "code",
      "execution_count": null,
      "metadata": {
        "collapsed": false
      },
      "outputs": [],
      "source": [
        "inputTrain = [[0.5, 0.5], [-0.5, -0.5], [-0.5, 0.5], [0.5, -0.5]]\ninputTrain += [[0.25, 0.25], [-0.25, -0.25], [-0.25, 0.25], [0.25, -0.25]]\ninputTrain = ot.Sample(inputTrain)\ninputTrain.setDescription([\"x1\", \"x2\"])\ninputTrain"
      ]
    },
    {
      "cell_type": "markdown",
      "metadata": {},
      "source": [
        "Compute the output sample from the input sample and a function.\n\n"
      ]
    },
    {
      "cell_type": "code",
      "execution_count": null,
      "metadata": {
        "collapsed": false
      },
      "outputs": [],
      "source": [
        "formulas = [\"cos(x1 + x2)\", \"(x2 + 1) * exp(x1 - 2 * x2)\"]\nmodel = ot.SymbolicFunction([\"x1\", \"x2\"], formulas)\nmodel.setOutputDescription([\"y1\", \"y2\"])\noutputTrain = model(inputTrain)\noutputTrain"
      ]
    },
    {
      "cell_type": "markdown",
      "metadata": {},
      "source": [
        "## Linear least squares\n\n"
      ]
    },
    {
      "cell_type": "markdown",
      "metadata": {},
      "source": [
        "Create a linear least squares model.\n\n"
      ]
    },
    {
      "cell_type": "code",
      "execution_count": null,
      "metadata": {
        "collapsed": false
      },
      "outputs": [],
      "source": [
        "algo = ot.LinearLeastSquares(inputTrain, outputTrain)\nalgo.run()"
      ]
    },
    {
      "cell_type": "markdown",
      "metadata": {},
      "source": [
        "Get the linear term.\n\n"
      ]
    },
    {
      "cell_type": "code",
      "execution_count": null,
      "metadata": {
        "collapsed": false
      },
      "outputs": [],
      "source": [
        "algo.getLinear()"
      ]
    },
    {
      "cell_type": "markdown",
      "metadata": {},
      "source": [
        "Get the constant term.\n\n"
      ]
    },
    {
      "cell_type": "code",
      "execution_count": null,
      "metadata": {
        "collapsed": false
      },
      "outputs": [],
      "source": [
        "algo.getConstant()"
      ]
    },
    {
      "cell_type": "markdown",
      "metadata": {},
      "source": [
        "Get the metamodel.\n\n"
      ]
    },
    {
      "cell_type": "code",
      "execution_count": null,
      "metadata": {
        "collapsed": false
      },
      "outputs": [],
      "source": [
        "responseSurface = algo.getMetaModel()"
      ]
    },
    {
      "cell_type": "markdown",
      "metadata": {},
      "source": [
        "Plot the second output of our model with $x_1=0.5$.\n\n"
      ]
    },
    {
      "cell_type": "code",
      "execution_count": null,
      "metadata": {
        "collapsed": false
      },
      "outputs": [],
      "source": [
        "graph = ot.ParametricFunction(model, [0], [0.5]).getMarginal(1).draw(-0.5, 0.5)\ngraph.setLegends([\"Model\"])\ncurve = (\n    ot.ParametricFunction(responseSurface, [0], [0.5])\n    .getMarginal(1)\n    .draw(-0.5, 0.5)\n    .getDrawable(0)\n)\ncurve.setLineStyle(\"dashed\")\ncurve.setLegend(\"Linear L.S.\")\ngraph.add(curve)\ngraph.setLegendPosition(\"upper right\")\nview = viewer.View(graph)"
      ]
    },
    {
      "cell_type": "code",
      "execution_count": null,
      "metadata": {
        "collapsed": false
      },
      "outputs": [],
      "source": [
        "view.ShowAll()"
      ]
    }
  ],
  "metadata": {
    "kernelspec": {
      "display_name": "Python 3",
      "language": "python",
      "name": "python3"
    },
    "language_info": {
      "codemirror_mode": {
        "name": "ipython",
        "version": 3
      },
      "file_extension": ".py",
      "mimetype": "text/x-python",
      "name": "python",
      "nbconvert_exporter": "python",
      "pygments_lexer": "ipython3",
      "version": "3.12.7"
    }
  },
  "nbformat": 4,
  "nbformat_minor": 0
}