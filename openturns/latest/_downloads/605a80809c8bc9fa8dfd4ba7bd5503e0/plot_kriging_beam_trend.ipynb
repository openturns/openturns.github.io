{
  "cells": [
    {
      "cell_type": "code",
      "execution_count": null,
      "metadata": {
        "collapsed": false
      },
      "outputs": [],
      "source": [
        "%matplotlib inline"
      ]
    },
    {
      "cell_type": "markdown",
      "metadata": {},
      "source": [
        "\n# Configuring the trend in Kriging\n"
      ]
    },
    {
      "cell_type": "markdown",
      "metadata": {},
      "source": [
        "The goal of this example is to show how to configure the trend in a Kriging metamodel. This is why this example focuses on the three available trends:\n\n* `ConstantBasisFactory`,\n* `LinearBasisFactory`,\n* `QuadraticBasisFactory`.\n\nFor this purpose, we use the `cantilever beam <use-case-cantilever-beam>` example.\n\n"
      ]
    },
    {
      "cell_type": "markdown",
      "metadata": {},
      "source": [
        "## Definition of the model\n\n"
      ]
    },
    {
      "cell_type": "code",
      "execution_count": null,
      "metadata": {
        "collapsed": false
      },
      "outputs": [],
      "source": [
        "import openturns as ot\not.RandomGenerator.SetSeed(0)\nimport openturns.viewer as viewer\nfrom matplotlib import pylab as plt\not.Log.Show(ot.Log.NONE)"
      ]
    },
    {
      "cell_type": "markdown",
      "metadata": {},
      "source": [
        "We load the use case :\n\n"
      ]
    },
    {
      "cell_type": "code",
      "execution_count": null,
      "metadata": {
        "collapsed": false
      },
      "outputs": [],
      "source": [
        "from openturns.usecases import cantilever_beam as cantilever_beam\ncb = cantilever_beam.CantileverBeam()"
      ]
    },
    {
      "cell_type": "markdown",
      "metadata": {},
      "source": [
        "We define the function which evaluates the output depending on the inputs.\n\n"
      ]
    },
    {
      "cell_type": "code",
      "execution_count": null,
      "metadata": {
        "collapsed": false
      },
      "outputs": [],
      "source": [
        "model = cb.model"
      ]
    },
    {
      "cell_type": "markdown",
      "metadata": {},
      "source": [
        "Then we define the distribution of the input random vector. \n\n"
      ]
    },
    {
      "cell_type": "code",
      "execution_count": null,
      "metadata": {
        "collapsed": false
      },
      "outputs": [],
      "source": [
        "dimension = cb.dim # number of inputs\nmyDistribution = cb.distribution"
      ]
    },
    {
      "cell_type": "markdown",
      "metadata": {},
      "source": [
        "We use a transformation because data contain very large values.\n\n"
      ]
    },
    {
      "cell_type": "code",
      "execution_count": null,
      "metadata": {
        "collapsed": false
      },
      "outputs": [],
      "source": [
        "transformation = myDistribution.getIsoProbabilisticTransformation()"
      ]
    },
    {
      "cell_type": "markdown",
      "metadata": {},
      "source": [
        "## Create the design of experiments\n\n"
      ]
    },
    {
      "cell_type": "markdown",
      "metadata": {},
      "source": [
        "We consider a simple Monte-Carlo sampling as a design of experiments. This is why we generate an input sample using the `getSample` method of the distribution. Then we evaluate the output using the `model` function.\n\n"
      ]
    },
    {
      "cell_type": "code",
      "execution_count": null,
      "metadata": {
        "collapsed": false
      },
      "outputs": [],
      "source": [
        "sampleSize_train = 20\nX_train = myDistribution.getSample(sampleSize_train)\nY_train = model(X_train)"
      ]
    },
    {
      "cell_type": "markdown",
      "metadata": {},
      "source": [
        "## Create the metamodel\n\n"
      ]
    },
    {
      "cell_type": "markdown",
      "metadata": {},
      "source": [
        "In order to create the kriging metamodel, we first select a constant trend with the `ConstantBasisFactory` class. Then we use a squared exponential covariance model. Finally, we use the `KrigingAlgorithm` class to create the kriging metamodel, taking the training sample, the covariance model and the trend basis as input arguments. \n\n"
      ]
    },
    {
      "cell_type": "code",
      "execution_count": null,
      "metadata": {
        "collapsed": false
      },
      "outputs": [],
      "source": [
        "covarianceModel = ot.SquaredExponential([1.]*dimension, [1.0])"
      ]
    },
    {
      "cell_type": "code",
      "execution_count": null,
      "metadata": {
        "collapsed": false
      },
      "outputs": [],
      "source": [
        "basis = ot.ConstantBasisFactory(dimension).build()\nalgo = ot.KrigingAlgorithm(transformation(X_train), Y_train, covarianceModel, basis)\nalgo.run()\nresult = algo.getResult()\nkrigingWithConstantTrend = result.getMetaModel()"
      ]
    },
    {
      "cell_type": "markdown",
      "metadata": {},
      "source": [
        "The `getTrendCoefficients` method returns the coefficients of the trend.\n\n"
      ]
    },
    {
      "cell_type": "code",
      "execution_count": null,
      "metadata": {
        "collapsed": false
      },
      "outputs": [],
      "source": [
        "result.getTrendCoefficients()"
      ]
    },
    {
      "cell_type": "markdown",
      "metadata": {},
      "source": [
        "The constant trend always has only one coefficient (if there is one single output).\n\n"
      ]
    },
    {
      "cell_type": "code",
      "execution_count": null,
      "metadata": {
        "collapsed": false
      },
      "outputs": [],
      "source": [
        "result.getCovarianceModel()"
      ]
    },
    {
      "cell_type": "markdown",
      "metadata": {},
      "source": [
        "The `SquaredExponential` model has one amplitude coefficient and 4 scale coefficients. This is because this covariance model is anisotropic : each of the 4 input variables is associated with its own scale coefficient. \n\n"
      ]
    },
    {
      "cell_type": "markdown",
      "metadata": {},
      "source": [
        "## Setting the trend\n\n"
      ]
    },
    {
      "cell_type": "code",
      "execution_count": null,
      "metadata": {
        "collapsed": false
      },
      "outputs": [],
      "source": [
        "basis = ot.LinearBasisFactory(dimension).build()\nalgo = ot.KrigingAlgorithm(transformation(X_train), Y_train, covarianceModel, basis)\nalgo.run()\nresult = algo.getResult()\nkrigingWithLinearTrend = result.getMetaModel()\nresult.getTrendCoefficients()"
      ]
    },
    {
      "cell_type": "markdown",
      "metadata": {},
      "source": [
        "The number of coefficients in the linear and quadratic trends depends on the number of inputs, which is \nequal to \n\n\\begin{align}dim = 4\\end{align}\n\n\nin the cantilever beam case.\n\nWe observe that the number of coefficients in the trend is 5, which corresponds to:\n\n* 1 coefficient for the constant part,\n* dim=4 coefficients for the linear part.\n\n"
      ]
    },
    {
      "cell_type": "code",
      "execution_count": null,
      "metadata": {
        "collapsed": false
      },
      "outputs": [],
      "source": [
        "basis = ot.QuadraticBasisFactory(dimension).build()\nalgo = ot.KrigingAlgorithm(transformation(X_train), Y_train, covarianceModel, basis)\nalgo.run()\nresult = algo.getResult()\nkrigingWithQuadraticTrend = result.getMetaModel()\nresult.getTrendCoefficients()"
      ]
    },
    {
      "cell_type": "markdown",
      "metadata": {},
      "source": [
        "This time, the trend has 15 coefficients:\n\n* 1 coefficient for the constant part,\n* 4 coefficients for the linear part,\n* 10 coefficients for the quadratic part.\n\nThis is because the number of coefficients in the quadratic part has \n\n\\begin{align}\\frac{dim (dim+1)}{2}=\\frac{4\\times 5}{2}=10\\end{align}\n\n\ncoefficients, associated with the symmetric matrix of the quadratic function. \n\n"
      ]
    },
    {
      "cell_type": "markdown",
      "metadata": {},
      "source": [
        "## Validate the metamodel\n\n"
      ]
    },
    {
      "cell_type": "markdown",
      "metadata": {},
      "source": [
        "We finally want to validate the kriging metamodel. This is why we generate a validation sample which size is equal to 100 and we evaluate the output of the model on this sample.\n\n"
      ]
    },
    {
      "cell_type": "code",
      "execution_count": null,
      "metadata": {
        "collapsed": false
      },
      "outputs": [],
      "source": [
        "sampleSize_test = 100\nX_test = myDistribution.getSample(sampleSize_test)\nY_test = model(X_test)"
      ]
    },
    {
      "cell_type": "code",
      "execution_count": null,
      "metadata": {
        "collapsed": false
      },
      "outputs": [],
      "source": [
        "def drawMetaModelValidation(X_test, Y_test, krigingMetamodel, title):\n    val = ot.MetaModelValidation(X_test, Y_test, krigingMetamodel)\n    Q2 = val.computePredictivityFactor()[0]\n    graph = val.drawValidation().getGraph(0, 0)\n    graph.setLegends([\"\"])\n    graph.setLegends([\"%s, Q2 = %.2f%%\" % (title, 100*Q2),\"\"])\n    graph.setLegendPosition(\"topleft\")\n    return graph"
      ]
    },
    {
      "cell_type": "code",
      "execution_count": null,
      "metadata": {
        "collapsed": false
      },
      "outputs": [],
      "source": [
        "import pylab as pl\nfrom openturns.viewer import View"
      ]
    },
    {
      "cell_type": "code",
      "execution_count": null,
      "metadata": {
        "collapsed": false
      },
      "outputs": [],
      "source": [
        "fig = pl.figure(figsize=(12, 4))\nax1 = fig.add_subplot(1, 3, 1)\ngraphConstant = drawMetaModelValidation(transformation(X_test), Y_test, krigingWithConstantTrend, \"Constant\")\n_ = View(graphConstant, figure=fig, axes=[ax1])\nax2 = fig.add_subplot(1, 3, 2)\ngraphLinear = drawMetaModelValidation(transformation(X_test), Y_test, krigingWithLinearTrend, \"Linear\")\n_ = View(graphLinear, figure=fig, axes=[ax2])\nax3 = fig.add_subplot(1, 3, 3)\ngraphQuadratic = drawMetaModelValidation(transformation(X_test), Y_test, krigingWithQuadraticTrend, \"Quadratic\")\n_ = View(graphQuadratic, figure=fig, axes=[ax3])\n_ = fig.suptitle(\"Different trends\")\nplt.show()"
      ]
    },
    {
      "cell_type": "markdown",
      "metadata": {},
      "source": [
        "We observe that the three trends perform very well in this case. The more the trend has coefficients, the more the kriging metamodel has flexibility to adjust to the training sample. This does not mean, however, that the trend coefficients will provide a good fit for the validation sample. \n\nThe number of parameters in each kriging metamodel is the following:\n\n* the constant trend kriging has 6 coefficients to estimate: 5 coefficients for the covariance matrix and 1 coefficient for the trend,\n* the linear trend kriging has 10 coefficients to estimate: 5 coefficients for the covariance matrix and 5 coefficients for the trend,\n* the quadratic trend kriging has 20 coefficients to estimate: 5 coefficients for the covariance matrix and 15 coefficients for the trend.\n\nIn the cantilever beam example, fitting the metamodel with a training sample which size is only equal to 20 is made much easier because the function to approximate is almost linear.\n\n"
      ]
    }
  ],
  "metadata": {
    "kernelspec": {
      "display_name": "Python 3",
      "language": "python",
      "name": "python3"
    },
    "language_info": {
      "codemirror_mode": {
        "name": "ipython",
        "version": 3
      },
      "file_extension": ".py",
      "mimetype": "text/x-python",
      "name": "python",
      "nbconvert_exporter": "python",
      "pygments_lexer": "ipython3",
      "version": "3.8.6"
    }
  },
  "nbformat": 4,
  "nbformat_minor": 0
}