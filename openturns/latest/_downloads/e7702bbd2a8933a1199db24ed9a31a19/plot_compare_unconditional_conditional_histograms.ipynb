{
  "cells": [
    {
      "cell_type": "code",
      "execution_count": null,
      "metadata": {
        "collapsed": false
      },
      "outputs": [],
      "source": [
        "%matplotlib inline"
      ]
    },
    {
      "cell_type": "markdown",
      "metadata": {},
      "source": [
        "\n# Compare unconditional and conditional histograms\n"
      ]
    },
    {
      "cell_type": "markdown",
      "metadata": {},
      "source": [
        "In this example, we compare unconditional and conditional histograms for a simulation. We consider the flooding model. Let $g$ be a function which takes four inputs $Q$, $K_s$, $Z_v$ and $Z_m$ and returns one output $H$. \n\nWe first consider the (unconditional) distribution of the input $Q$. \n\nLet $t$ be a given threshold on the output $H$: we consider the event $H>t$. Then we consider the conditional distribution of the input $Q$ given that $H>t$ : $Q|H>t$. \n\nIf these two distributions are significantly different, we conclude that the input $Q$ has an impact on the event $H>t$. \n\nIn order to approximate the distribution of the output $H$, we perform a Monte-Carlo simulation with size 500. The threshold $t$ is chosen as the 90% quantile of the empirical distribution of $H$. In this example, the distribution is aproximated by its empirical histogram (but this could be done with another distribution approximation as well, such as kernel smoothing for example).\n\n"
      ]
    },
    {
      "cell_type": "code",
      "execution_count": null,
      "metadata": {
        "collapsed": false
      },
      "outputs": [],
      "source": [
        "import openturns as ot\nimport openturns.viewer as viewer\nfrom matplotlib import pylab as plt\not.Log.Show(ot.Log.NONE)"
      ]
    },
    {
      "cell_type": "markdown",
      "metadata": {},
      "source": [
        "Create the marginal distributions of the parameters.\n\n"
      ]
    },
    {
      "cell_type": "code",
      "execution_count": null,
      "metadata": {
        "collapsed": false
      },
      "outputs": [],
      "source": [
        "dist_Q = ot.TruncatedDistribution(ot.Gumbel(558., 1013.), 0, ot.TruncatedDistribution.LOWER)\ndist_Ks = ot.TruncatedDistribution(ot.Normal(30.0, 7.5), 0, ot.TruncatedDistribution.LOWER)\ndist_Zv = ot.Uniform(49.0, 51.0)\ndist_Zm = ot.Uniform(54.0, 56.0)\nmarginals = [dist_Q, dist_Ks, dist_Zv, dist_Zm]"
      ]
    },
    {
      "cell_type": "markdown",
      "metadata": {},
      "source": [
        "Create the joint probability distribution.\n\n"
      ]
    },
    {
      "cell_type": "code",
      "execution_count": null,
      "metadata": {
        "collapsed": false
      },
      "outputs": [],
      "source": [
        "distribution = ot.ComposedDistribution(marginals)\ndistribution.setDescription(['Q', 'Ks', 'Zv', 'Zm'])"
      ]
    },
    {
      "cell_type": "markdown",
      "metadata": {},
      "source": [
        "Create the model.\n\n"
      ]
    },
    {
      "cell_type": "code",
      "execution_count": null,
      "metadata": {
        "collapsed": false
      },
      "outputs": [],
      "source": [
        "model = ot.SymbolicFunction(['Q', 'Ks', 'Zv', 'Zm'],\n                            ['(Q/(Ks*300.*sqrt((Zm-Zv)/5000)))^(3.0/5.0)'])"
      ]
    },
    {
      "cell_type": "markdown",
      "metadata": {},
      "source": [
        "Create a sample.\n\n"
      ]
    },
    {
      "cell_type": "code",
      "execution_count": null,
      "metadata": {
        "collapsed": false
      },
      "outputs": [],
      "source": [
        "size = 500\ninputSample = distribution.getSample(size)\noutputSample = model(inputSample)"
      ]
    },
    {
      "cell_type": "markdown",
      "metadata": {},
      "source": [
        "Merge the input and output samples into a single sample.\n\n"
      ]
    },
    {
      "cell_type": "code",
      "execution_count": null,
      "metadata": {
        "collapsed": false
      },
      "outputs": [],
      "source": [
        "sample = ot.Sample(size,5)\nsample[:,0:4] = inputSample\nsample[:,4] = outputSample\nsample[0:5,:]"
      ]
    },
    {
      "cell_type": "markdown",
      "metadata": {},
      "source": [
        "Extract the first column of `inputSample` into the sample of the flowrates $Q$.\n\n"
      ]
    },
    {
      "cell_type": "code",
      "execution_count": null,
      "metadata": {
        "collapsed": false
      },
      "outputs": [],
      "source": [
        "sampleQ = inputSample[:,0]"
      ]
    },
    {
      "cell_type": "code",
      "execution_count": null,
      "metadata": {
        "collapsed": false
      },
      "outputs": [],
      "source": [
        "import numpy as np\n\ndef computeConditionnedSample(sample, alpha = 0.9, criteriaComponent = None, selectedComponent = 0):\n    '''\n    Return values from the selectedComponent-th component of the sample. \n    Selects the values according to the alpha-level quantile of \n    the criteriaComponent-th component of the sample.\n    '''\n    dim = sample.getDimension()\n    if criteriaComponent is None:\n        criteriaComponent = dim - 1\n    sortedSample = sample.sortAccordingToAComponent(criteriaComponent)   \n    quantiles = sortedSample.computeQuantilePerComponent(alpha)\n    quantileValue = quantiles[criteriaComponent]\n    sortedSampleCriteria = sortedSample[:,criteriaComponent]\n    indices = np.where(np.array(sortedSampleCriteria.asPoint())>quantileValue)[0]\n    conditionnedSortedSample = sortedSample[int(indices[0]):,selectedComponent]\n    return conditionnedSortedSample"
      ]
    },
    {
      "cell_type": "markdown",
      "metadata": {},
      "source": [
        "Create an histogram for the unconditional flowrates.\n\n"
      ]
    },
    {
      "cell_type": "code",
      "execution_count": null,
      "metadata": {
        "collapsed": false
      },
      "outputs": [],
      "source": [
        "numberOfBins = 10\nhistogram = ot.HistogramFactory().buildAsHistogram(sampleQ,numberOfBins)"
      ]
    },
    {
      "cell_type": "markdown",
      "metadata": {},
      "source": [
        "Extract the sub-sample of the input flowrates Q which leads to large values of the output H.\n\n"
      ]
    },
    {
      "cell_type": "code",
      "execution_count": null,
      "metadata": {
        "collapsed": false
      },
      "outputs": [],
      "source": [
        "alpha = 0.9\ncriteriaComponent = 4\nselectedComponent = 0\nconditionnedSampleQ = computeConditionnedSample(sample,alpha,criteriaComponent,selectedComponent)"
      ]
    },
    {
      "cell_type": "markdown",
      "metadata": {},
      "source": [
        "## We could as well use:\nconditionnedHistogram = ot.HistogramFactory().buildAsHistogram(conditionnedSampleQ)\n```\nbut this creates an histogram with new classes, corresponding \nto `conditionnedSampleQ`.\nWe want to use exactly the same classes as the full sample, \nso that the two histograms match.\n\n"
      ]
    },
    {
      "cell_type": "code",
      "execution_count": null,
      "metadata": {
        "collapsed": false
      },
      "outputs": [],
      "source": [
        "first = histogram.getFirst()\nwidth = histogram.getWidth()\nconditionnedHistogram = ot.HistogramFactory().buildAsHistogram(conditionnedSampleQ,first,width)"
      ]
    },
    {
      "cell_type": "markdown",
      "metadata": {},
      "source": [
        "Then creates a graphics with the unconditional and the conditional histograms.\n\n"
      ]
    },
    {
      "cell_type": "code",
      "execution_count": null,
      "metadata": {
        "collapsed": false
      },
      "outputs": [],
      "source": [
        "graph = histogram.drawPDF()\ngraph.setLegends([\"Q\"])\n#\ngraphConditionnalQ = conditionnedHistogram.drawPDF()\ngraphConditionnalQ.setColors([\"blue\"])\ngraphConditionnalQ.setLegends([\"Q|H>H_%s\" % (alpha)])\ngraph.add(graphConditionnalQ)\nview = viewer.View(graph)\n\nplt.show()"
      ]
    },
    {
      "cell_type": "markdown",
      "metadata": {},
      "source": [
        "We see that the two histograms are very different. The high values of the input $Q$ seem to often lead to a high value of the output $H$. \n\nWe could explore this situation further by comparing the unconditional distribution of $Q$ (which is known in this case) with the conditonal distribution of $Q|H>t$, estimated by kernel smoothing. This would have the advantage of accuracy, since the kernel smoothing is a more accurate approximation of a distribution than the histogram. \n\n"
      ]
    }
  ],
  "metadata": {
    "kernelspec": {
      "display_name": "Python 3",
      "language": "python",
      "name": "python3"
    },
    "language_info": {
      "codemirror_mode": {
        "name": "ipython",
        "version": 3
      },
      "file_extension": ".py",
      "mimetype": "text/x-python",
      "name": "python",
      "nbconvert_exporter": "python",
      "pygments_lexer": "ipython3",
      "version": "3.8.6"
    }
  },
  "nbformat": 4,
  "nbformat_minor": 0
}