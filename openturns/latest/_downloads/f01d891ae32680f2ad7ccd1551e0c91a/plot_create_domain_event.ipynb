{
  "cells": [
    {
      "cell_type": "code",
      "execution_count": null,
      "metadata": {
        "collapsed": false
      },
      "outputs": [],
      "source": [
        "%matplotlib inline"
      ]
    },
    {
      "cell_type": "markdown",
      "metadata": {},
      "source": [
        "\n# Create a domain event\n"
      ]
    },
    {
      "cell_type": "markdown",
      "metadata": {},
      "source": [
        "## Abstract\n\nWe present in this example the creation and the use of a :class:`~openturns.DomainEvent` through a\nsimple Monte-Carlo estimator.\n\n\n"
      ]
    },
    {
      "cell_type": "code",
      "execution_count": null,
      "metadata": {
        "collapsed": false
      },
      "outputs": [],
      "source": [
        "import openturns as ot\nimport openturns.viewer as otv\nfrom matplotlib import pylab as plt"
      ]
    },
    {
      "cell_type": "markdown",
      "metadata": {},
      "source": [
        "We consider a standard unit Gaussian bivariate random vector $\\vect{X} = (X_1,X_2)$ with\nindependent marginals.\n\n"
      ]
    },
    {
      "cell_type": "code",
      "execution_count": null,
      "metadata": {
        "collapsed": false
      },
      "outputs": [],
      "source": [
        "dim = 2\ndistX = ot.Normal(dim)"
      ]
    },
    {
      "cell_type": "markdown",
      "metadata": {},
      "source": [
        "We define a model $f$ which maps a vector of $\\mathbb{R}^2$ to another vector of $\\mathbb{R}^2$\n\n\\begin{align}f : (x_1, x_2) \\mapsto (x_1 + x_2, 2x_1)\\end{align}\n\n\n\n"
      ]
    },
    {
      "cell_type": "code",
      "execution_count": null,
      "metadata": {
        "collapsed": false
      },
      "outputs": [],
      "source": [
        "f = ot.SymbolicFunction(['x1', 'x2'], ['x1+x2', '2*x1'])"
      ]
    },
    {
      "cell_type": "markdown",
      "metadata": {},
      "source": [
        "We build a :class:`~openturns.RandomVector` out of the input distribution and\na :class:`~openturns.CompositeRandomVector` by using the model.\n\n"
      ]
    },
    {
      "cell_type": "code",
      "execution_count": null,
      "metadata": {
        "collapsed": false
      },
      "outputs": [],
      "source": [
        "vecX = ot.RandomVector(distX)\nvecY = ot.CompositeRandomVector(f, vecX)"
      ]
    },
    {
      "cell_type": "markdown",
      "metadata": {},
      "source": [
        "## Definition and vizualisation of a domain event\n\n\n"
      ]
    },
    {
      "cell_type": "markdown",
      "metadata": {},
      "source": [
        "We define for each marginals of the output random vector `vecY` a domain of interest, say $[0,1] \\times [0,1]$\n\n"
      ]
    },
    {
      "cell_type": "code",
      "execution_count": null,
      "metadata": {
        "collapsed": false
      },
      "outputs": [],
      "source": [
        "domain = ot.Interval([0.0, 0.0], [1.0, 1.0])"
      ]
    },
    {
      "cell_type": "markdown",
      "metadata": {},
      "source": [
        "The :class:`~openturns.DomainEvent` is then built from the output random vector `vecY` and the `domain` :\n\n"
      ]
    },
    {
      "cell_type": "code",
      "execution_count": null,
      "metadata": {
        "collapsed": false
      },
      "outputs": [],
      "source": [
        "event = ot.DomainEvent(vecY, domain)"
      ]
    },
    {
      "cell_type": "markdown",
      "metadata": {},
      "source": [
        "This domain is\n\n\\begin{align}\\mathcal{D} = \\{ \\vect{x}=(x_1, x_2) \\in \\mathbb{R}^2 \\; | \\; x_1+x_2 \\in [0,1] \\; \\mathrm{and} \\; 2x_1 \\in [0,1] \\}.\\end{align}\n\n\n\n"
      ]
    },
    {
      "cell_type": "markdown",
      "metadata": {},
      "source": [
        "We plot both marginals of the model and the domain of interest for each marginal using contour curves.\n\n\n"
      ]
    },
    {
      "cell_type": "markdown",
      "metadata": {},
      "source": [
        "We  represent the first marginal of `vecY`.\n\n"
      ]
    },
    {
      "cell_type": "code",
      "execution_count": null,
      "metadata": {
        "collapsed": false
      },
      "outputs": [],
      "source": [
        "ot.ResourceMap.SetAsUnsignedInteger(\"Contour-DefaultLevelsNumber\", 7)\ngraphModel0 = f.draw(0, 1, 0, [0.0, 0.0], [-5.0, -5.0], [5.0, 5.0])\ngraphModel0.setXTitle(r'$x_1$')\ngraphModel0.setYTitle(r'$x_2$')\ngraphModel0.setTitle(r'Isolines of the model : $Y = f(X)$, first marginal')"
      ]
    },
    {
      "cell_type": "markdown",
      "metadata": {},
      "source": [
        "We represent the second marginal of `vecY`.\n\n"
      ]
    },
    {
      "cell_type": "code",
      "execution_count": null,
      "metadata": {
        "collapsed": false
      },
      "outputs": [],
      "source": [
        "graphModel1 = f.draw(0, 1, 1, [0.0, 0.0], [-5.0, -5.0], [5.0, 5.0])\ngraphModel1.setXTitle(r'$x_1$')\ngraphModel1.setYTitle(r'$x_2$')\ngraphModel1.setTitle(r'Isolines of the model : $Y = f(X)$, second marginal')"
      ]
    },
    {
      "cell_type": "markdown",
      "metadata": {},
      "source": [
        "We shall now represent the curves delimiting the domain of interest :\n\n\n"
      ]
    },
    {
      "cell_type": "code",
      "execution_count": null,
      "metadata": {
        "collapsed": false
      },
      "outputs": [],
      "source": [
        "nx, ny = 15, 15\nxx = ot.Box([nx], ot.Interval([-5.0], [5.0])).generate()\nyy = ot.Box([ny], ot.Interval([-5.0], [5.0])).generate()\ninputData = ot.Box([nx, ny], ot.Interval([-5.0, -5.0], [5.0, 5.0])).generate()\noutputData = f(inputData)"
      ]
    },
    {
      "cell_type": "markdown",
      "metadata": {},
      "source": [
        "The contour line associated with the 0.0 value for the first marginal.\n\n"
      ]
    },
    {
      "cell_type": "code",
      "execution_count": null,
      "metadata": {
        "collapsed": false
      },
      "outputs": [],
      "source": [
        "mycontour0 = ot.Contour(xx, yy, outputData.getMarginal(0), [0.0], [\"0.0\"])\nmycontour0.setColor(\"black\")\nmycontour0.setLineStyle(\"dashed\")\ngraphModel0.add(mycontour0)"
      ]
    },
    {
      "cell_type": "markdown",
      "metadata": {},
      "source": [
        "The contour line associated with the 1.0 value for the first marginal.\n\n"
      ]
    },
    {
      "cell_type": "code",
      "execution_count": null,
      "metadata": {
        "collapsed": false
      },
      "outputs": [],
      "source": [
        "mycontour1 = ot.Contour(xx, yy, outputData.getMarginal(0), [1.0], [\"1.0\"])\nmycontour1.setColor(\"black\")\nmycontour1.setLineStyle(\"dashed\")\ngraphModel0.add(mycontour1)\nview = otv.View(graphModel0)"
      ]
    },
    {
      "cell_type": "markdown",
      "metadata": {},
      "source": [
        "The contour line associated with the 0.0 value for the second marginal.\n\n"
      ]
    },
    {
      "cell_type": "code",
      "execution_count": null,
      "metadata": {
        "collapsed": false
      },
      "outputs": [],
      "source": [
        "mycontour2 = ot.Contour(xx, yy, outputData.getMarginal(1), [0.0], [\"0.0\"])\nmycontour2.setColor(\"black\")\nmycontour2.setLineStyle(\"dashed\")\ngraphModel1.add(mycontour2)"
      ]
    },
    {
      "cell_type": "markdown",
      "metadata": {},
      "source": [
        "The contour line associated with the 1.0 value for the second marginal.\n\n"
      ]
    },
    {
      "cell_type": "code",
      "execution_count": null,
      "metadata": {
        "collapsed": false
      },
      "outputs": [],
      "source": [
        "mycontour3 = ot.Contour(xx, yy, outputData.getMarginal(1), [1.0], [\"1.0\"])\nmycontour3.setColor(\"black\")\nmycontour3.setLineStyle(\"dashed\")\ngraphModel1.add(mycontour3)\nview = otv.View(graphModel1)"
      ]
    },
    {
      "cell_type": "markdown",
      "metadata": {},
      "source": [
        "For each marginal the domain of interest is the area between the two black dashed curves.\nThe domain event $\\mathcal{D}$ is the intersection of these two areas.\nHere the intersection of both events is a parallelogram with the following\nvertices :\n\n"
      ]
    },
    {
      "cell_type": "code",
      "execution_count": null,
      "metadata": {
        "collapsed": false
      },
      "outputs": [],
      "source": [
        "data = [[0.0, 0.0], [0.5, -0.5], [0.5, 0.5], [0.0, 1.0], [0.0, 0.0]]"
      ]
    },
    {
      "cell_type": "markdown",
      "metadata": {},
      "source": [
        "We create a polygon from these vertices with the :class:`~openturns.Polygon`\nclass : that is our domain event.\n\n"
      ]
    },
    {
      "cell_type": "code",
      "execution_count": null,
      "metadata": {
        "collapsed": false
      },
      "outputs": [],
      "source": [
        "myGraph = ot.Graph('Domain event', r'$x_1$', r'$x_2$', True, '', 1.0)\nmyPolygon = ot.Polygon(data)\nmyPolygon.setColor('darkgray')\nmyPolygon.setEdgeColor('darkgray')\nmyGraph.add(myPolygon)\n\n# Some annotation\ntexts = [\n    r'$\\mathcal{D} = \\{ \\mathbf{x}=(x_1, x_2) \\in \\mathbb{R}^2 \\; | \\; x_1+x_2 \\in [0,1] \\; \\mathrm{and} \\; 2x_1 \\in [0,1] \\}$']\n\nmyText = ot.Text([0.25], [0.0], texts)\nmyText.setTextSize(1)\nmyGraph.add(myText)\nview = otv.View(myGraph)"
      ]
    },
    {
      "cell_type": "markdown",
      "metadata": {},
      "source": [
        "## An example\n\nConsider the integral\n\n\\begin{align}P_f = \\int_{\\mathcal{D}} \\mathbf{1}_{\\mathcal{D}}(\\vect{x}) f_{X_1,X_2}(\\vect{x}) d \\vect{x}\\end{align}\n\nwhere ${\\mathcal{D}}$ is the previous domain event, $\\mathbf{1}_{\\mathcal{D}}$ is the indicator function on the domain and $f_{X_1,X_2}$ is the probability density function of the input variable.\n\n"
      ]
    },
    {
      "cell_type": "markdown",
      "metadata": {},
      "source": [
        "We observe the integration domain ${\\mathcal{D}}$ superimposed on the 2D-PDF.\n\n"
      ]
    },
    {
      "cell_type": "code",
      "execution_count": null,
      "metadata": {
        "collapsed": false
      },
      "outputs": [],
      "source": [
        "graphPDF = distX.drawPDF([-5.0, -5.0], [5.0, 5.0])\ngraphPDF.setXTitle(r'$x_1$')\ngraphPDF.setYTitle(r'$x_2$')\ngraphPDF.setTitle(r'Isolines of the 2D-PDF')\ngraphPDF.add(myPolygon)\nview = otv.View(graphPDF)"
      ]
    },
    {
      "cell_type": "markdown",
      "metadata": {},
      "source": [
        "We shall use a basic Monte Carlo algorithm using the domain event to estimate the probability.\n\n\n"
      ]
    },
    {
      "cell_type": "code",
      "execution_count": null,
      "metadata": {
        "collapsed": false
      },
      "outputs": [],
      "source": [
        "algoMC = ot.ProbabilitySimulationAlgorithm(event)\nalgoMC.setMaximumOuterSampling(1000)\nalgoMC.setBlockSize(100)\nalgoMC.setMaximumCoefficientOfVariation(0.02)\nalgoMC.run()\nprint(\"Pf = %.4f\" % algoMC.getResult().getProbabilityEstimate())"
      ]
    },
    {
      "cell_type": "markdown",
      "metadata": {},
      "source": [
        "We draw the convergence history :\n\n"
      ]
    },
    {
      "cell_type": "code",
      "execution_count": null,
      "metadata": {
        "collapsed": false
      },
      "outputs": [],
      "source": [
        "graphConvergence = algoMC.drawProbabilityConvergence()\nview = otv.View(graphConvergence)"
      ]
    },
    {
      "cell_type": "markdown",
      "metadata": {},
      "source": [
        "We can use the :meth:`~openturns.DomainEvent.getSample` method of the event to estimate the probability $P_f$.\nThis method draws realizations of the underlying random input vector `vecX` and returns `True` if the corresponding output random vector is in the domain event.\nThen the ratio between the number of realizations in the domain and the total of realizations is a rough estimate of the probability $P_f$ which we compare with the previous Monte-Carlo estimator.\n\n"
      ]
    },
    {
      "cell_type": "code",
      "execution_count": null,
      "metadata": {
        "collapsed": false
      },
      "outputs": [],
      "source": [
        "N = 30000\nsamples = event.getSample(N)\nprint(\"Basic estimator : %.4f\" % (sum(samples)[0] / N))"
      ]
    },
    {
      "cell_type": "markdown",
      "metadata": {},
      "source": [
        "Display all figures\n\n"
      ]
    },
    {
      "cell_type": "code",
      "execution_count": null,
      "metadata": {
        "collapsed": false
      },
      "outputs": [],
      "source": [
        "plt.show()"
      ]
    }
  ],
  "metadata": {
    "kernelspec": {
      "display_name": "Python 3",
      "language": "python",
      "name": "python3"
    },
    "language_info": {
      "codemirror_mode": {
        "name": "ipython",
        "version": 3
      },
      "file_extension": ".py",
      "mimetype": "text/x-python",
      "name": "python",
      "nbconvert_exporter": "python",
      "pygments_lexer": "ipython3",
      "version": "3.10.4"
    }
  },
  "nbformat": 4,
  "nbformat_minor": 0
}