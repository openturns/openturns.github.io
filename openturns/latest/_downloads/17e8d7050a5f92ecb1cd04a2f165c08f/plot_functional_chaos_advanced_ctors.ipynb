{
  "cells": [
    {
      "cell_type": "code",
      "execution_count": null,
      "metadata": {
        "collapsed": false
      },
      "outputs": [],
      "source": [
        "%matplotlib inline"
      ]
    },
    {
      "cell_type": "markdown",
      "metadata": {},
      "source": [
        "\n# Advanced polynomial chaos construction\n"
      ]
    },
    {
      "cell_type": "markdown",
      "metadata": {},
      "source": [
        "In this example we are going to expose advanced elements in the construction of a polynomial chaos algorithm:\n\n- construction of the multivariate orthonormal basis,\n- truncature strategy of the multivariate orthonormal basis,\n- evaluation strategy of the approximation coefficients.\n\n"
      ]
    },
    {
      "cell_type": "markdown",
      "metadata": {},
      "source": [
        "In this example, we consider the following function $\\mathbb{R}^4 \\rightarrow \\mathbb{R}$:\n\n\\begin{align}g(\\mathbf{x}) = 1+x_1 x_2 + 2 x_3^2+x_4^4\\end{align}\n\n\nfor any $x_1,x_2,x_3,x_4\\in\\mathbb{R}$.\n\nWe assume that the inputs have normal, uniform, gamma and beta distributions :\n\n\\begin{align}X_1 \\sim \\mathcal{N}(0,1), \\qquad X_2 \\sim \\mathcal{U}(-1,1), \\qquad X_3 \\sim \\mathcal{G}(2.75,1), \\qquad X_4 \\sim \\mathcal{B}(2.5,1,-1,2),\\end{align}\n\n\nand $X_1$, $X_2$, $X_3$ and $X_4$ are independent.\n\n"
      ]
    },
    {
      "cell_type": "markdown",
      "metadata": {},
      "source": [
        "## Define the model and the input distribution\n\n"
      ]
    },
    {
      "cell_type": "code",
      "execution_count": null,
      "metadata": {
        "collapsed": false
      },
      "outputs": [],
      "source": [
        "from __future__ import print_function\nimport openturns as ot\nimport openturns.viewer as viewer\nfrom matplotlib import pylab as plt\not.Log.Show(ot.Log.NONE)"
      ]
    },
    {
      "cell_type": "code",
      "execution_count": null,
      "metadata": {
        "collapsed": false
      },
      "outputs": [],
      "source": [
        "model = ot.SymbolicFunction(['x1', 'x2', 'x3', 'x4'], ['1+x1*x2 + 2*x3^2+x4^4'])"
      ]
    },
    {
      "cell_type": "markdown",
      "metadata": {},
      "source": [
        "Create a distribution of dimension 4.\n\n"
      ]
    },
    {
      "cell_type": "code",
      "execution_count": null,
      "metadata": {
        "collapsed": false
      },
      "outputs": [],
      "source": [
        "distribution = ot.ComposedDistribution([ot.Normal(), ot.Uniform(), ot.Gamma(2.75, 1.0), ot.Beta(2.5, 1.0, -1.0, 2.0)])"
      ]
    },
    {
      "cell_type": "code",
      "execution_count": null,
      "metadata": {
        "collapsed": false
      },
      "outputs": [],
      "source": [
        "inputDimension = distribution.getDimension()\ninputDimension"
      ]
    },
    {
      "cell_type": "markdown",
      "metadata": {},
      "source": [
        "## STEP 1: Construction of the multivariate orthonormal basis\n\n"
      ]
    },
    {
      "cell_type": "markdown",
      "metadata": {},
      "source": [
        "Create the univariate polynomial family collection which regroups the polynomial families for each direction. \n\n"
      ]
    },
    {
      "cell_type": "code",
      "execution_count": null,
      "metadata": {
        "collapsed": false
      },
      "outputs": [],
      "source": [
        "polyColl = ot.PolynomialFamilyCollection(inputDimension)"
      ]
    },
    {
      "cell_type": "markdown",
      "metadata": {},
      "source": [
        "We could use the Krawtchouk and Charlier families (for discrete distributions).\n\n"
      ]
    },
    {
      "cell_type": "code",
      "execution_count": null,
      "metadata": {
        "collapsed": false
      },
      "outputs": [],
      "source": [
        "polyColl[0] = ot.KrawtchoukFactory()\npolyColl[1] = ot.CharlierFactory()"
      ]
    },
    {
      "cell_type": "markdown",
      "metadata": {},
      "source": [
        "We could also use the automatic selection of the polynomial which corresponds to the distribution: this is done with the `StandardDistributionPolynomialFactory` class.\n\n"
      ]
    },
    {
      "cell_type": "code",
      "execution_count": null,
      "metadata": {
        "collapsed": false
      },
      "outputs": [],
      "source": [
        "for i in range(inputDimension):\n    marginal = distribution.getMarginal(i)\n    polyColl[i] = ot.StandardDistributionPolynomialFactory(marginal)"
      ]
    },
    {
      "cell_type": "markdown",
      "metadata": {},
      "source": [
        "In our specific case, we use specific polynomial factories. \n\n"
      ]
    },
    {
      "cell_type": "code",
      "execution_count": null,
      "metadata": {
        "collapsed": false
      },
      "outputs": [],
      "source": [
        "polyColl[0] = ot.HermiteFactory()\npolyColl[1] = ot.LegendreFactory()\npolyColl[2] = ot.LaguerreFactory(2.75)\n# Parameter for the Jacobi factory : 'Probabilty' encoded with 1\npolyColl[3] = ot.JacobiFactory(2.5, 3.5, 1)"
      ]
    },
    {
      "cell_type": "markdown",
      "metadata": {},
      "source": [
        "Create the enumeration function.\n\n"
      ]
    },
    {
      "cell_type": "markdown",
      "metadata": {},
      "source": [
        "The first possibility is to use the `LinearEnumerateFunction`.\n\n"
      ]
    },
    {
      "cell_type": "code",
      "execution_count": null,
      "metadata": {
        "collapsed": false
      },
      "outputs": [],
      "source": [
        "enumerateFunction = ot.LinearEnumerateFunction(inputDimension)"
      ]
    },
    {
      "cell_type": "markdown",
      "metadata": {},
      "source": [
        "Another possibility is to use the `HyperbolicAnisotropicEnumerateFunction`, which gives less weight to interactions. \n\n"
      ]
    },
    {
      "cell_type": "code",
      "execution_count": null,
      "metadata": {
        "collapsed": false
      },
      "outputs": [],
      "source": [
        "q = 0.4\nenumerateFunction_1 = ot.HyperbolicAnisotropicEnumerateFunction(inputDimension, q)"
      ]
    },
    {
      "cell_type": "markdown",
      "metadata": {},
      "source": [
        "Create the multivariate orthonormal basis which is the the cartesian product of the univariate basis. \n\n"
      ]
    },
    {
      "cell_type": "code",
      "execution_count": null,
      "metadata": {
        "collapsed": false
      },
      "outputs": [],
      "source": [
        "multivariateBasis = ot.OrthogonalProductPolynomialFactory(polyColl, enumerateFunction)"
      ]
    },
    {
      "cell_type": "markdown",
      "metadata": {},
      "source": [
        "Ask how many polynomials have total degrees equal to k=5. \n\n"
      ]
    },
    {
      "cell_type": "code",
      "execution_count": null,
      "metadata": {
        "collapsed": false
      },
      "outputs": [],
      "source": [
        "k = 5\nenumerateFunction.getStrataCardinal(k)"
      ]
    },
    {
      "cell_type": "markdown",
      "metadata": {},
      "source": [
        "Ask how many polynomials have degrees lower or equal to k=5.\n\n"
      ]
    },
    {
      "cell_type": "code",
      "execution_count": null,
      "metadata": {
        "collapsed": false
      },
      "outputs": [],
      "source": [
        "enumerateFunction.getStrataCumulatedCardinal(k)"
      ]
    },
    {
      "cell_type": "markdown",
      "metadata": {},
      "source": [
        "Give the k-th term of the multivariate basis. To calculate its degree, add the integers. \n\n"
      ]
    },
    {
      "cell_type": "code",
      "execution_count": null,
      "metadata": {
        "collapsed": false
      },
      "outputs": [],
      "source": [
        "k = 5\nenumerateFunction(k)"
      ]
    },
    {
      "cell_type": "markdown",
      "metadata": {},
      "source": [
        "Build a term of the basis as a Function. Generally, we do not need to construct manually any term, all terms are constructed automatically by a strategy of construction of the basis.\n\n"
      ]
    },
    {
      "cell_type": "code",
      "execution_count": null,
      "metadata": {
        "collapsed": false
      },
      "outputs": [],
      "source": [
        "i = 5\nPsi_i = multivariateBasis.build(i)\nPsi_i"
      ]
    },
    {
      "cell_type": "markdown",
      "metadata": {},
      "source": [
        "Get the measure mu associated to the multivariate basis.\n\n"
      ]
    },
    {
      "cell_type": "code",
      "execution_count": null,
      "metadata": {
        "collapsed": false
      },
      "outputs": [],
      "source": [
        "distributionMu = multivariateBasis.getMeasure()\ndistributionMu"
      ]
    },
    {
      "cell_type": "markdown",
      "metadata": {},
      "source": [
        "## STEP 2: Truncature strategy of the multivariate orthonormal basis\n\n"
      ]
    },
    {
      "cell_type": "markdown",
      "metadata": {},
      "source": [
        "FixedStrategy : all the polynomials af degree lower or equal to 2 which corresponds to the 15 first ones. \n\n"
      ]
    },
    {
      "cell_type": "code",
      "execution_count": null,
      "metadata": {
        "collapsed": false
      },
      "outputs": [],
      "source": [
        "p = 15\ntruncatureBasisStrategy = ot.FixedStrategy(multivariateBasis, p)"
      ]
    },
    {
      "cell_type": "markdown",
      "metadata": {},
      "source": [
        "SequentialStrategy : among the maximumCardinalBasis = 100 first polynomials of the multivariate basis those verfying the convergence criterion. \n\n"
      ]
    },
    {
      "cell_type": "code",
      "execution_count": null,
      "metadata": {
        "collapsed": false
      },
      "outputs": [],
      "source": [
        "maximumCardinalBasis = 100\ntruncatureBasisStrategy_1 = ot.SequentialStrategy(\n    multivariateBasis, maximumCardinalBasis)"
      ]
    },
    {
      "cell_type": "markdown",
      "metadata": {},
      "source": [
        "CleaningStrategy : among the maximumConsideredTerms = 500 first polynomials, those which have the mostSignificant = 50 most significant contributions with significance criterion significanceFactor equal to $10^{-4}$\nThe `True` boolean indicates if we are interested in the online monitoring of the current basis update (removed or added coefficients). \n\n"
      ]
    },
    {
      "cell_type": "code",
      "execution_count": null,
      "metadata": {
        "collapsed": false
      },
      "outputs": [],
      "source": [
        "maximumConsideredTerms = 500\nmostSignificant = 50\nsignificanceFactor = 1.0e-4\ntruncatureBasisStrategy_2 = ot.CleaningStrategy(\n    multivariateBasis, maximumConsideredTerms, mostSignificant, significanceFactor, True)"
      ]
    },
    {
      "cell_type": "markdown",
      "metadata": {},
      "source": [
        "## STEP 3: Evaluation strategy of the approximation coefficients\n\n"
      ]
    },
    {
      "cell_type": "markdown",
      "metadata": {},
      "source": [
        "The technique illustrated is the Least Squares technique where the points come from an design of experiments. Here : the Monte Carlo sampling technique.\n\n"
      ]
    },
    {
      "cell_type": "code",
      "execution_count": null,
      "metadata": {
        "collapsed": false
      },
      "outputs": [],
      "source": [
        "sampleSize = 100\nevaluationCoeffStrategy = ot.LeastSquaresStrategy(\n    ot.MonteCarloExperiment(sampleSize))"
      ]
    },
    {
      "cell_type": "markdown",
      "metadata": {},
      "source": [
        "You can specify the approximation algorithm. This is the algorithm that generates a sequence of basis using Least Angle Regression. \n\n"
      ]
    },
    {
      "cell_type": "code",
      "execution_count": null,
      "metadata": {
        "collapsed": false
      },
      "outputs": [],
      "source": [
        "basisSequenceFactory = ot.LARS()"
      ]
    },
    {
      "cell_type": "markdown",
      "metadata": {},
      "source": [
        "This algorithm estimates the empirical error on each sub-basis using Leave One Out strategy. \n\n"
      ]
    },
    {
      "cell_type": "code",
      "execution_count": null,
      "metadata": {
        "collapsed": false
      },
      "outputs": [],
      "source": [
        "fittingAlgorithm = ot.CorrectedLeaveOneOut()\n# Finally the metamodel selection algorithm embbeded in LeastSquaresStrategy\napproximationAlgorithm = ot.LeastSquaresMetaModelSelectionFactory(\n    basisSequenceFactory, fittingAlgorithm)\nevaluationCoeffStrategy_2 = ot.LeastSquaresStrategy(\n    ot.MonteCarloExperiment(sampleSize), approximationAlgorithm)"
      ]
    },
    {
      "cell_type": "markdown",
      "metadata": {},
      "source": [
        "Try integration.\n\n"
      ]
    },
    {
      "cell_type": "code",
      "execution_count": null,
      "metadata": {
        "collapsed": false
      },
      "outputs": [],
      "source": [
        "marginalDegrees = [2] * inputDimension\nevaluationCoeffStrategy_3 = ot.IntegrationStrategy(\n    ot.GaussProductExperiment(distributionMu, marginalDegrees))"
      ]
    },
    {
      "cell_type": "markdown",
      "metadata": {},
      "source": [
        "## STEP 4: Creation of the Functional Chaos Algorithm\n\nThe `FunctionalChaosAlgorithm` class combines \n\n* the model : `model`\n* the distribution of the input random vector : `distribution`\n* the truncature strategy of the multivariate basis\n* and the evaluation strategy of the coefficients\n\n"
      ]
    },
    {
      "cell_type": "code",
      "execution_count": null,
      "metadata": {
        "collapsed": false
      },
      "outputs": [],
      "source": [
        "polynomialChaosAlgorithm = ot.FunctionalChaosAlgorithm(\n    model, distribution, truncatureBasisStrategy, evaluationCoeffStrategy)"
      ]
    }
  ],
  "metadata": {
    "kernelspec": {
      "display_name": "Python 3",
      "language": "python",
      "name": "python3"
    },
    "language_info": {
      "codemirror_mode": {
        "name": "ipython",
        "version": 3
      },
      "file_extension": ".py",
      "mimetype": "text/x-python",
      "name": "python",
      "nbconvert_exporter": "python",
      "pygments_lexer": "ipython3",
      "version": "3.9.5"
    }
  },
  "nbformat": 4,
  "nbformat_minor": 0
}