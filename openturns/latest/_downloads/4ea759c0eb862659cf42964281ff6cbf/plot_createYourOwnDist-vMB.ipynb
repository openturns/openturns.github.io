{
  "cells": [
    {
      "cell_type": "code",
      "execution_count": null,
      "metadata": {
        "collapsed": false
      },
      "outputs": [],
      "source": [
        "%matplotlib inline"
      ]
    },
    {
      "cell_type": "markdown",
      "metadata": {},
      "source": [
        "\n# Create your own distribution given its quantile function\n"
      ]
    },
    {
      "cell_type": "markdown",
      "metadata": {},
      "source": [
        "We want to create a distribution which cumulated distribution (cdf) is denoted by $F$ when the quantile function $F^{-1}$ is known. In order to implement this, we use the `CompositeDistribution <http://openturns.github.io/openturns/latest/user_manual/_generated/openturns.CompositeDistribution.html#openturns.CompositeDistribution>`_ class.\n\n"
      ]
    },
    {
      "cell_type": "code",
      "execution_count": null,
      "metadata": {
        "collapsed": false
      },
      "outputs": [],
      "source": [
        "#\n# We know that the random variable :math:`X` is distributed according to :math:`F` if and only if :math:`U=F(X)` is distributed according to the uniform distribution in the :math:`[0,1]` interval, i.e. :math:`U=F(X) \\sim \\mathcal{U}(0,1)`. Hence, if :math:`U \\sim  \\mathcal{U}(0,1)` then :math:`X=F^{-1}(U)` is distributed according to :math:`F`.\n#\n# In this example, we want to create a distribution which cdf :math:`F: \\mathbb{R} \\rightarrow [0,1] ` writes, with :math:`\\rho > 1`:\n#\n# .. math::\n#    F(x) = 1-e^{-\\rho^x} \\quad \\forall x  \\in \\mathbb{R}.\n# \n#\n# The quantile function is :math:`F^{-1} : u \\rightarrow [0,1]` and writes: \n#\n# .. math::\n#    F^{-1}(u) = \\dfrac{\\log \\left[ - \\log (1-u) \\right] }{\\log(\\rho)} \\quad \\forall u  \\in [0,1]\n# \n#\n# Since :math:`U \\sim \\mathcal{U}(0,1)`, then :math:`(1-U)\\sim\\mathcal{U}(0,1)`. This is why we can simplify the expression and define the function :math:`G` such as: \n#\n# .. math::\n#    G(u) = \\dfrac{\\log \\left[ - \\log u \\right] }{\\log(\\rho)} \\quad \\forall u  \\in [0,1].\n# \n#\n# Then :math:`G(U)` is distributed according to the :math:`F` distribution."
      ]
    },
    {
      "cell_type": "markdown",
      "metadata": {},
      "source": [
        "First, we import the useful librairies and we create the symbolic function $G$.\n\n"
      ]
    },
    {
      "cell_type": "code",
      "execution_count": null,
      "metadata": {
        "collapsed": false
      },
      "outputs": [],
      "source": [
        "import openturns as ot\nfrom openturns.viewer import View"
      ]
    },
    {
      "cell_type": "markdown",
      "metadata": {},
      "source": [
        "Then, we create the $G$ function with $\\rho = 2.0$. To do this, we create a function which takes both $y$ and $\\rho$ as inputs and returns $G(u)$. Then the `g` function is defined as a `ParametricFunction` with a fixed value of $\\rho$.\n\n"
      ]
    },
    {
      "cell_type": "code",
      "execution_count": null,
      "metadata": {
        "collapsed": false
      },
      "outputs": [],
      "source": [
        "gWithParameter = ot.SymbolicFunction([\"u\", \"rho\"], [\"log(-log(u)) / log(rho)\"])\nrho = 2.0\ng = ot.ParametricFunction(gWithParameter, [1], [rho])"
      ]
    },
    {
      "cell_type": "markdown",
      "metadata": {},
      "source": [
        "We define the distribution distF as the image through $G$ of the Uniform(0,1) distribution: \n\n"
      ]
    },
    {
      "cell_type": "code",
      "execution_count": null,
      "metadata": {
        "collapsed": false
      },
      "outputs": [],
      "source": [
        "distF = ot.CompositeDistribution(g, ot.Uniform(0.0, 1.0))"
      ]
    },
    {
      "cell_type": "markdown",
      "metadata": {},
      "source": [
        "Now, we can draw its pdf, cdf, sample it,...\n\n"
      ]
    },
    {
      "cell_type": "code",
      "execution_count": null,
      "metadata": {
        "collapsed": false
      },
      "outputs": [],
      "source": [
        "g = distF.drawPDF()\ng.setTitle(\"A distribution based on the quantile function.\")\ng.setLegendPosition(\"\")\nview = View(g)\nview.ShowAll()"
      ]
    }
  ],
  "metadata": {
    "kernelspec": {
      "display_name": "Python 3",
      "language": "python",
      "name": "python3"
    },
    "language_info": {
      "codemirror_mode": {
        "name": "ipython",
        "version": 3
      },
      "file_extension": ".py",
      "mimetype": "text/x-python",
      "name": "python",
      "nbconvert_exporter": "python",
      "pygments_lexer": "ipython3",
      "version": "3.8.6"
    }
  },
  "nbformat": 4,
  "nbformat_minor": 0
}