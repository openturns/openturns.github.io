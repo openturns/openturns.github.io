{
  "cells": [
    {
      "cell_type": "markdown",
      "metadata": {},
      "source": [
        "\n# Create a mixture of distributions\n"
      ]
    },
    {
      "cell_type": "markdown",
      "metadata": {},
      "source": [
        "## Introduction\n\nIn this example, we show how to build a distribution which is a Mixture from a collection of\ndistributions of the same dimension $d \\geq 1$. We denote by $\\inputRV$\nthe random vector with such a distribution.\n\nLet $(\\cL_1, \\dots, \\cL_N)$ a collection of distributions and $(\\alpha_1, \\dots,\n\\alpha_N)$ a collection of positive weights such that $\\sum_{i=1}^N \\alpha_i = 1$.\nLet $\\inputRV_i$ be a random vector whose distribution is $\\cL_i$.\n\nIn the case where all the $\\cL_i$ have a probability density function $\\mu_i$,\nthen the mixture has a probability density function $\\inputMeasure$ defined by:\n\n\\begin{align}\\inputMeasure(\\vect{x}) =  \\sum_{i=1}^N \\alpha_i \\mu_i(\\vect{x})\\end{align}\n\nIn the case where all the $\\cL_i$ are discrete, then the mixture is discrete and its\nprobability distribution function is defined by:\n\n\\begin{align}\\Prob{\\inputRV = \\vect{x}} =  \\sum_{i=1}^N \\alpha_i \\Prob{\\vect{X}_i = \\vect{x}}\\end{align}\n\nIn the case where some of the $\\cL_i$  have a probability density function and\nthe other ones are discrete, then the mixture is not discrete and does not have a\nprobability density function. Its cumulated distribution function is defined by:\n\n\\begin{align}F_\\inputRV(\\vect{x}) =  \\sum_{i=1}^N \\alpha_i F_{\\vect{X}_i}(\\vect{x})\\end{align}\n\nWe illustrate the following particular cases:\n\n- Case 1a: Mixture of continuous distributions,\n- Case 1b: Mixture of copulas,\n- Case 1c: Mixture of a Histogram and a Generalized Pareto Distribution,\n- Case 2: Mixture of discrete distributions,\n- Case 3: Mixture of discrete and continuous distributions.\n\n"
      ]
    },
    {
      "cell_type": "code",
      "execution_count": null,
      "metadata": {
        "collapsed": false
      },
      "outputs": [],
      "source": [
        "import openturns as ot\nimport openturns.viewer as otv"
      ]
    },
    {
      "cell_type": "markdown",
      "metadata": {},
      "source": [
        "## Case 1a: Mixture of continuous distributions\nIn this case, we build the mixture of the following continuous distributions:\n\n- a :class:`~openturns.Triangular`,\n- a :class:`~openturns.Normal`,\n- a :class:`~openturns.Uniform`.\n\nThe weigths are automatically normalized.\n\n"
      ]
    },
    {
      "cell_type": "markdown",
      "metadata": {},
      "source": [
        "We define the collection of distributions and the associated weights.\n\n"
      ]
    },
    {
      "cell_type": "code",
      "execution_count": null,
      "metadata": {
        "collapsed": false
      },
      "outputs": [],
      "source": [
        "distributions = [\n    ot.Triangular(1.0, 2.0, 4.0),\n    ot.Normal(-1.0, 1.0),\n    ot.Uniform(5.0, 6.0),\n]\nweights = [0.4, 1.0, 0.2]"
      ]
    },
    {
      "cell_type": "markdown",
      "metadata": {},
      "source": [
        "We create the mixture.\n\n"
      ]
    },
    {
      "cell_type": "code",
      "execution_count": null,
      "metadata": {
        "collapsed": false
      },
      "outputs": [],
      "source": [
        "distribution = ot.Mixture(distributions, weights)\nprint(distribution)"
      ]
    },
    {
      "cell_type": "markdown",
      "metadata": {},
      "source": [
        "We can draw the probability density function.\n\n"
      ]
    },
    {
      "cell_type": "code",
      "execution_count": null,
      "metadata": {
        "collapsed": false
      },
      "outputs": [],
      "source": [
        "graph = distribution.drawPDF()\ngraph.setTitle(\"Mixture of Triangular, Normal, Uniform\")\ngraph.setXTitle(\"x\")\ngraph.setLegendPosition(\"\")\nview = otv.View(graph)"
      ]
    },
    {
      "cell_type": "markdown",
      "metadata": {},
      "source": [
        "We can draw the cumulated distribution function.\n\n"
      ]
    },
    {
      "cell_type": "code",
      "execution_count": null,
      "metadata": {
        "collapsed": false
      },
      "outputs": [],
      "source": [
        "graph = distribution.drawCDF()\ngraph.setTitle(\"Mixture of Triangular, Normal, Uniform\")\ngraph.setXTitle(\"x\")\ngraph.setLegendPosition(\"\")\nview = otv.View(graph)"
      ]
    },
    {
      "cell_type": "markdown",
      "metadata": {},
      "source": [
        "## Case 1b: Mixture of copulas\nIn this case, we build the mixture of the following copulas:\n\n- a :class:`~openturns.GumbelCopula`,\n- a :class:`~openturns.ClaytonCopula`.\n\n"
      ]
    },
    {
      "cell_type": "markdown",
      "metadata": {},
      "source": [
        "We define the collection of copulas and the associated weights.\n\n"
      ]
    },
    {
      "cell_type": "code",
      "execution_count": null,
      "metadata": {
        "collapsed": false
      },
      "outputs": [],
      "source": [
        "copulas = [ot.GumbelCopula(4.5), ot.ClaytonCopula(2.3)]\nweights = [0.2, 0.8]"
      ]
    },
    {
      "cell_type": "markdown",
      "metadata": {},
      "source": [
        "We create a mixture of copulas.\n\n"
      ]
    },
    {
      "cell_type": "code",
      "execution_count": null,
      "metadata": {
        "collapsed": false
      },
      "outputs": [],
      "source": [
        "distribution = ot.Mixture(copulas, weights)\nprint(distribution)"
      ]
    },
    {
      "cell_type": "markdown",
      "metadata": {},
      "source": [
        "We can draw the probability density function.\n\n"
      ]
    },
    {
      "cell_type": "code",
      "execution_count": null,
      "metadata": {
        "collapsed": false
      },
      "outputs": [],
      "source": [
        "graph = distribution.drawPDF()\ngraph.setTitle(\"Mixture of Gumbel copula, Clayton copula\")\ngraph.setXTitle(r\"$x_0$\")\ngraph.setYTitle(r\"$x_1$\")\ngraph.setLegendPosition(\"\")\nview = otv.View(graph)"
      ]
    },
    {
      "cell_type": "markdown",
      "metadata": {},
      "source": [
        "We can draw the cumulated distribution function.\n\n"
      ]
    },
    {
      "cell_type": "code",
      "execution_count": null,
      "metadata": {
        "collapsed": false
      },
      "outputs": [],
      "source": [
        "graph = distribution.drawCDF()\ngraph.setTitle(\"Mixture of Gumbel copula, Clayton copula\")\ngraph.setXTitle(r\"$x_0$\")\ngraph.setYTitle(r\"$x_1$\")\nview = otv.View(graph)"
      ]
    },
    {
      "cell_type": "markdown",
      "metadata": {},
      "source": [
        "## Case 1c: Mixture of a Histogram and a Generalized Pareto Distribution\nWe want to create the scalar distribution of $X$ such that:\n\n\\begin{align}X|X \\leq x_0 & \\sim \\mathcal{L}_1 \\\\\n   X|X \\geq x_0 & \\sim \\mathcal{L}_2\\end{align}\n\nwhere:\n\n- $\\mathcal{L}_1$ is a Histogram,\n- $\\mathcal{L}_2$ is a Generalized Pareto distribution (GPD),\n- $x_0$ is a quantile of high level of $X$.\n\nLet us define:\n\n\\begin{align}w = \\Prob{X \\leq x_0}\\end{align}\n\nWe assume that we only have a sample from $X$.\n\n"
      ]
    },
    {
      "cell_type": "markdown",
      "metadata": {},
      "source": [
        "In this example, we consider a Normal distribution with zero mean and unit variance.\nWe generate a sample of size $n$.\n\n"
      ]
    },
    {
      "cell_type": "code",
      "execution_count": null,
      "metadata": {
        "collapsed": false
      },
      "outputs": [],
      "source": [
        "n = 5000\nX_dist = ot.Normal()\nsample_X = X_dist.getSample(n)"
      ]
    },
    {
      "cell_type": "markdown",
      "metadata": {},
      "source": [
        "We build the whole histogram from the sample.\n\n"
      ]
    },
    {
      "cell_type": "code",
      "execution_count": null,
      "metadata": {
        "collapsed": false
      },
      "outputs": [],
      "source": [
        "hist_dist = ot.HistogramFactory().build(sample_X)\ng_hist = hist_dist.drawPDF()\ng_hist.setTitle(r\"Empirical distribution of $X$\")\ng_hist.setXTitle(\"x\")\ng_hist.setYTitle(\"pdf\")\ng_hist.setLegends([\"histogram\"])\nview = otv.View(g_hist)"
      ]
    },
    {
      "cell_type": "markdown",
      "metadata": {},
      "source": [
        "We estimate the extreme empirical quantile of level 0.95.\n\n"
      ]
    },
    {
      "cell_type": "code",
      "execution_count": null,
      "metadata": {
        "collapsed": false
      },
      "outputs": [],
      "source": [
        "w = 0.95\nx0 = hist_dist.computeQuantile(w)[0]"
      ]
    },
    {
      "cell_type": "markdown",
      "metadata": {},
      "source": [
        "We start by truncating the initial histogram on the interval $]-\\infty, x_0]$.\nWe visualize it!\n\n"
      ]
    },
    {
      "cell_type": "code",
      "execution_count": null,
      "metadata": {
        "collapsed": false
      },
      "outputs": [],
      "source": [
        "hist_trunc = ot.TruncatedDistribution(hist_dist, x0, ot.TruncatedDistribution.UPPER)\ng_hist_trunc = hist_trunc.drawPDF()\ng_hist_trunc.setTitle(r\"Empirical distribution of $X|X \\leq $\" + \"%.3g\" % (x0))\ng_hist_trunc.setXTitle(\"x\")\ng_hist_trunc.setYTitle(\"pdf\")\ng_hist_trunc.setLegends([\"truncated histogram\"])\nview = otv.View(g_hist_trunc)"
      ]
    },
    {
      "cell_type": "markdown",
      "metadata": {},
      "source": [
        "Then we model $X|X \\geq x_0$ by a Generalized Pareto distribution (GPD). We start by\nextracting from the sample all the values greater than $x_0$ to build the upper\nsample. We get about $n(1-w)$ points.\n\n"
      ]
    },
    {
      "cell_type": "code",
      "execution_count": null,
      "metadata": {
        "collapsed": false
      },
      "outputs": [],
      "source": [
        "sample_X_upper = ot.Sample(0, 1)\nfor i in range(len(sample_X)):\n    if sample_X[i, 0] > x0:\n        sample_X_upper.add(sample_X[i])\n\nprint(\"Excess number = \", sample_X_upper.getSize())\nprint(\"n(1-w) = \", int(n * (1 - w)))"
      ]
    },
    {
      "cell_type": "markdown",
      "metadata": {},
      "source": [
        "Then we fit a GPD parameterized by $(\\sigma, \\xi, x_0)$: the\nthreshold is fixed to $x_0$.\nWe use the estimator that maximizes the likelihood.\nTo solve the optimisation problem faster, we start by estimating the 3 parameters\n$(\\sigma, \\xi, u)$ from the upper sample. Then we fix the threshold to $u = x_0$\nand we estimate the remaining parameters $(\\sigma, \\xi)$ using the previous values of\n$(\\sigma, \\xi)$ as a starting point to the optimization problem.\nWe visualize the pdf of the GPD.\n\n"
      ]
    },
    {
      "cell_type": "code",
      "execution_count": null,
      "metadata": {
        "collapsed": false
      },
      "outputs": [],
      "source": [
        "gpd_first = ot.GeneralizedParetoFactory().build(sample_X_upper)\nmlFact = ot.MaximumLikelihoodFactory(gpd_first)\n\n# we fix the threshold to :math:`x_0`.\nmlFact.setKnownParameter([x0], [2])\ngpd_estimated = mlFact.build(sample_X_upper)\nprint(\"estimated gpd = \", gpd_estimated)\n\ng_gpd = gpd_estimated.drawPDF()\ng_gpd.setTitle(r\"Distribution of $X|X \\geq $\" + \"%.3g\" % (x0))\ng_gpd.setXTitle(\"x\")\ng_gpd.setYTitle(\"pdf\")\ng_gpd.setLegends([\"GPd\"])\nview = otv.View(g_gpd)"
      ]
    },
    {
      "cell_type": "markdown",
      "metadata": {},
      "source": [
        "Then we can create the mixture using the truncated Histogram distribution below $x_0$\nand the GPD over $x_0$ weighted by $w$ and $(1-w)$.\n\n"
      ]
    },
    {
      "cell_type": "code",
      "execution_count": null,
      "metadata": {
        "collapsed": false
      },
      "outputs": [],
      "source": [
        "mixt_dist = ot.Mixture([hist_trunc, gpd_estimated], [w, 1 - w])\ng_hist.add(mixt_dist.drawPDF())\n\nord_Max = max(hist_dist.getImplementation().getHeight())\nline = ot.Curve([x0, x0], [0.0, ord_Max])\nline.setColor(\"red\")\nline.setLineStyle(\"dashed\")\ng_hist.add(line)\n\ndraw_ref = X_dist.drawPDF().getDrawable(0)\ndraw_ref.setLineStyle(\"dashed\")\ng_hist.add(draw_ref)\n\ng_hist.setLegends([\"histogram\", \"mixture\", \"\", \"exact dist\"])\ng_hist.setTitle(r\"Distribution of $X$: Mixture\")\n\nview = otv.View(g_hist)\n\n# We draw here only the mixture distribution to make the comparison easier.\ng_mixt = mixt_dist.drawPDF()\ng_mixt.setTitle(r\"Mixture distribution of $X$\")\ng_mixt.setXTitle(\"x\")\ng_mixt.setYTitle(\"pdf\")\ng_mixt.setLegendPosition(\"\")\nview = otv.View(g_mixt)"
      ]
    },
    {
      "cell_type": "markdown",
      "metadata": {},
      "source": [
        "## Case 2: Mixture of discrete distributions\nIn this case, we build the mixture of the following distributions:\n\n- a :class:`~openturns.Poisson`,\n- a :class:`~openturns.Geometric`.\n\nThe weigths are automatically normalized.\n\n"
      ]
    },
    {
      "cell_type": "markdown",
      "metadata": {},
      "source": [
        "We define the collection of distributions and the associated weights.\n\n"
      ]
    },
    {
      "cell_type": "code",
      "execution_count": null,
      "metadata": {
        "collapsed": false
      },
      "outputs": [],
      "source": [
        "distributions = [ot.Poisson(1.2), ot.Geometric(0.7)]\nweights = [0.4, 1.0]"
      ]
    },
    {
      "cell_type": "markdown",
      "metadata": {},
      "source": [
        "We create the mixture.\n\n"
      ]
    },
    {
      "cell_type": "code",
      "execution_count": null,
      "metadata": {
        "collapsed": false
      },
      "outputs": [],
      "source": [
        "distribution = ot.Mixture(distributions, weights)\nprint(distribution)"
      ]
    },
    {
      "cell_type": "markdown",
      "metadata": {},
      "source": [
        "We can draw the probability distribution function.\n\n"
      ]
    },
    {
      "cell_type": "code",
      "execution_count": null,
      "metadata": {
        "collapsed": false
      },
      "outputs": [],
      "source": [
        "graph = distribution.drawPDF()\ngraph.setTitle(\"Mixture of Poisson, Geometric\")\ngraph.setXTitle(\"x\")\ngraph.setLegendPosition(\"\")\nview = otv.View(graph)"
      ]
    },
    {
      "cell_type": "markdown",
      "metadata": {},
      "source": [
        "We can draw the cumulated distribution function.\n\n"
      ]
    },
    {
      "cell_type": "code",
      "execution_count": null,
      "metadata": {
        "collapsed": false
      },
      "outputs": [],
      "source": [
        "graph = distribution.drawCDF()\ngraph.setTitle(\"Mixture of Poisson, Geometric\")\ngraph.setXTitle(\"x\")\ngraph.setLegendPosition(\"\")\nview = otv.View(graph)"
      ]
    },
    {
      "cell_type": "markdown",
      "metadata": {},
      "source": [
        "## Case Case 3: Mixture of discrete and continuous distributions\nIn this case, we build the mixture of the following distributions:\n\n- a :class:`~openturns.Normal`,\n- a :class:`~openturns.Poisson`.\n\nThe resulting distribution is not continuous nor discrete. It not possible to\ndraw the pdf...\n\n"
      ]
    },
    {
      "cell_type": "markdown",
      "metadata": {},
      "source": [
        "We define the collection of distributions and the associated weights.\n\n"
      ]
    },
    {
      "cell_type": "code",
      "execution_count": null,
      "metadata": {
        "collapsed": false
      },
      "outputs": [],
      "source": [
        "distributions = [ot.Normal(), ot.Poisson(0.7)]\nweights = [0.4, 1.0]"
      ]
    },
    {
      "cell_type": "markdown",
      "metadata": {},
      "source": [
        "We create the mixture.\n\n"
      ]
    },
    {
      "cell_type": "code",
      "execution_count": null,
      "metadata": {
        "collapsed": false
      },
      "outputs": [],
      "source": [
        "distribution = ot.Mixture(distributions, weights)\nprint(distribution)"
      ]
    },
    {
      "cell_type": "markdown",
      "metadata": {},
      "source": [
        "We cannot draw the probability distribution function as it is not defined.\nBut, we can draw the cumulated distribution function.\n\n"
      ]
    },
    {
      "cell_type": "code",
      "execution_count": null,
      "metadata": {
        "collapsed": false
      },
      "outputs": [],
      "source": [
        "graph = distribution.drawCDF()\ngraph.setTitle(\"Mixture of Normal, Poisson\")\ngraph.setXTitle(\"x\")\ngraph.setLegendPosition(\"\")\nview = otv.View(graph)"
      ]
    },
    {
      "cell_type": "markdown",
      "metadata": {},
      "source": [
        "Reset ResourceMap\n\n"
      ]
    },
    {
      "cell_type": "code",
      "execution_count": null,
      "metadata": {
        "collapsed": false
      },
      "outputs": [],
      "source": [
        "ot.ResourceMap.Reload()"
      ]
    },
    {
      "cell_type": "markdown",
      "metadata": {},
      "source": [
        "Show all the graphs.\n\n"
      ]
    },
    {
      "cell_type": "code",
      "execution_count": null,
      "metadata": {
        "collapsed": false
      },
      "outputs": [],
      "source": [
        "view.ShowAll()"
      ]
    }
  ],
  "metadata": {
    "kernelspec": {
      "display_name": "Python 3",
      "language": "python",
      "name": "python3"
    },
    "language_info": {
      "codemirror_mode": {
        "name": "ipython",
        "version": 3
      },
      "file_extension": ".py",
      "mimetype": "text/x-python",
      "name": "python",
      "nbconvert_exporter": "python",
      "pygments_lexer": "ipython3",
      "version": "3.12.7"
    }
  },
  "nbformat": 4,
  "nbformat_minor": 0
}