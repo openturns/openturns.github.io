{
  "cells": [
    {
      "cell_type": "code",
      "execution_count": null,
      "metadata": {
        "collapsed": false
      },
      "outputs": [],
      "source": [
        "%matplotlib inline"
      ]
    },
    {
      "cell_type": "markdown",
      "metadata": {},
      "source": [
        "\n# Optimization using dlib\n"
      ]
    },
    {
      "cell_type": "markdown",
      "metadata": {},
      "source": [
        "In this example we are going to explore optimization using OpenTURNS' `dlib <http://dlib.net/>`_ interface.\n\n"
      ]
    },
    {
      "cell_type": "code",
      "execution_count": null,
      "metadata": {
        "collapsed": false
      },
      "outputs": [],
      "source": [
        "import numpy as np\nimport openturns as ot\nimport openturns.viewer as viewer\nfrom matplotlib import pylab as plt\not.Log.Show(ot.Log.NONE)"
      ]
    },
    {
      "cell_type": "markdown",
      "metadata": {},
      "source": [
        "List available algorithms\n\n"
      ]
    },
    {
      "cell_type": "code",
      "execution_count": null,
      "metadata": {
        "collapsed": false
      },
      "outputs": [],
      "source": [
        "for algo in ot.Dlib.GetAlgorithmNames():\n    print(algo)"
      ]
    },
    {
      "cell_type": "markdown",
      "metadata": {},
      "source": [
        "More details on dlib algorithms are available `here <http://dlib.net/optimization.html>`_ .\n\n"
      ]
    },
    {
      "cell_type": "markdown",
      "metadata": {},
      "source": [
        "## Solving an unconstrained problem with conjugate gradient algorithm\n\nThe following example will demonstrate the use of dlib conjugate gradient algorithm to find the minimum of `Rosenbrock function <https://en.wikipedia.org/wiki/Rosenbrock_function>`_. The optimal point can be computed analytically, and its value is [1.0, 1.0].\n\n"
      ]
    },
    {
      "cell_type": "markdown",
      "metadata": {},
      "source": [
        "Define the problem based on Rosebrock function\n\n"
      ]
    },
    {
      "cell_type": "code",
      "execution_count": null,
      "metadata": {
        "collapsed": false
      },
      "outputs": [],
      "source": [
        "rosenbrock = ot.SymbolicFunction(['x1', 'x2'], ['(1-x1)^2+(x2-x1^2)^2'])\nproblem = ot.OptimizationProblem(rosenbrock)"
      ]
    },
    {
      "cell_type": "markdown",
      "metadata": {},
      "source": [
        "The optimization algorithm is instantiated from the problem to solve and the name of the algorithm\n\n"
      ]
    },
    {
      "cell_type": "code",
      "execution_count": null,
      "metadata": {
        "collapsed": false
      },
      "outputs": [],
      "source": [
        "algo = ot.Dlib(problem, 'cg')\nprint(\"Dlib algorithm, type \", algo.getAlgorithmName())\nprint(\"Maximum iteration number: \", algo.getMaximumIterationNumber())\nprint(\"Maximum evaluation number: \", algo.getMaximumEvaluationNumber())\nprint(\"Maximum absolute error: \", algo.getMaximumAbsoluteError())\nprint(\"Maximum relative error: \", algo.getMaximumRelativeError())\nprint(\"Maximum residual error: \", algo.getMaximumResidualError())\nprint(\"Maximum constraint error: \", algo.getMaximumConstraintError())"
      ]
    },
    {
      "cell_type": "markdown",
      "metadata": {},
      "source": [
        "When using conjugate gradient, BFGS/LBFGS, Newton, least squares or trust region methods, optimization proceeds until one of the following criteria is met:\n\n- the errors (absolute, relative, residual, constraint) are all below the limits set by the user ;\n- the process reaches the maximum number of iterations or function evaluations.\n\n"
      ]
    },
    {
      "cell_type": "markdown",
      "metadata": {},
      "source": [
        "Adjust number of iterations/evaluations\n\n"
      ]
    },
    {
      "cell_type": "code",
      "execution_count": null,
      "metadata": {
        "collapsed": false
      },
      "outputs": [],
      "source": [
        "algo.setMaximumIterationNumber(1000)\nalgo.setMaximumEvaluationNumber(10000)\nalgo.setMaximumAbsoluteError(1e-3)\nalgo.setMaximumRelativeError(1e-3)\nalgo.setMaximumResidualError(1e-3)"
      ]
    },
    {
      "cell_type": "markdown",
      "metadata": {},
      "source": [
        "Solve the problem\n\n"
      ]
    },
    {
      "cell_type": "code",
      "execution_count": null,
      "metadata": {
        "collapsed": false
      },
      "outputs": [],
      "source": [
        "startingPoint = [1.5, 0.5]\nalgo.setStartingPoint(startingPoint)\n\nalgo.run()"
      ]
    },
    {
      "cell_type": "markdown",
      "metadata": {},
      "source": [
        "Retrieve results\n\n"
      ]
    },
    {
      "cell_type": "code",
      "execution_count": null,
      "metadata": {
        "collapsed": false
      },
      "outputs": [],
      "source": [
        "result = algo.getResult()\nprint('x^ = ', result.getOptimalPoint())\nprint(\"f(x^) = \", result.getOptimalValue())\nprint(\"Iteration number: \", result.getIterationNumber())\nprint(\"Evaluation number: \", result.getEvaluationNumber())\nprint(\"Absolute error: \", result.getAbsoluteError())\nprint(\"Relative error: \", result.getRelativeError())\nprint(\"Residual error: \", result.getResidualError())\nprint(\"Constraint error: \", result.getConstraintError())"
      ]
    },
    {
      "cell_type": "markdown",
      "metadata": {},
      "source": [
        "## Solving problem with bounds, using LBFGS strategy\n\nIn the following example, the input variables will be bounded so the function global optimal point is not included in the search interval.\n\nThe problem will be solved using LBFGS strategy, which allows the user to limit the amount of memory used by the optimization process.\n\n"
      ]
    },
    {
      "cell_type": "markdown",
      "metadata": {},
      "source": [
        "Define the bounds and the problem\n\n"
      ]
    },
    {
      "cell_type": "code",
      "execution_count": null,
      "metadata": {
        "collapsed": false
      },
      "outputs": [],
      "source": [
        "bounds = ot.Interval([0.0, 0.0], [0.8, 2.0])\nboundedProblem = ot.OptimizationProblem(\n    rosenbrock, ot.Function(), ot.Function(), bounds)"
      ]
    },
    {
      "cell_type": "markdown",
      "metadata": {},
      "source": [
        "Define the Dlib algorithm\n\n"
      ]
    },
    {
      "cell_type": "code",
      "execution_count": null,
      "metadata": {
        "collapsed": false
      },
      "outputs": [],
      "source": [
        "boundedAlgo = ot.Dlib(boundedProblem, \"lbfgs\")\nboundedAlgo.setMaxSize(15)  # Default value for LBFGS' maxSize parameter is 10\n\nstartingPoint = [0.5, 1.5]\nboundedAlgo.setStartingPoint(startingPoint)\n\nboundedAlgo.run()"
      ]
    },
    {
      "cell_type": "markdown",
      "metadata": {},
      "source": [
        "Retrieve results\n\n"
      ]
    },
    {
      "cell_type": "code",
      "execution_count": null,
      "metadata": {
        "collapsed": false
      },
      "outputs": [],
      "source": [
        "result = boundedAlgo.getResult()\nprint('x^ = ', result.getOptimalPoint())\nprint(\"f(x^) = \", result.getOptimalValue())\nprint(\"Iteration number: \", result.getIterationNumber())\nprint(\"Evaluation number: \", result.getEvaluationNumber())\nprint(\"Absolute error: \", result.getAbsoluteError())\nprint(\"Relative error: \", result.getRelativeError())\nprint(\"Residual error: \", result.getResidualError())\nprint(\"Constraint error: \", result.getConstraintError())"
      ]
    },
    {
      "cell_type": "markdown",
      "metadata": {},
      "source": [
        "**Remark:**\nThe bounds defined for input variables are always strictly respected when using dlib algorithms. Consequently, the constraint error is always 0.\n\n"
      ]
    },
    {
      "cell_type": "markdown",
      "metadata": {},
      "source": [
        "Draw optimal value history\n\n"
      ]
    },
    {
      "cell_type": "code",
      "execution_count": null,
      "metadata": {
        "collapsed": false
      },
      "outputs": [],
      "source": [
        "graph = result.drawOptimalValueHistory()\nview = viewer.View(graph)"
      ]
    },
    {
      "cell_type": "markdown",
      "metadata": {},
      "source": [
        "## Solving least squares problem\n\nIn least squares problem, the user provides the residual function to minimize. Here the underlying OptimizationProblem is defined as a LeastSquaresProblem.\n\ndlib least squares algorithms use the same stop criteria as CG, BFGS/LBFGS and Newton algorithms. However, optimization will stop earlier if no significant improvement can be achieved during the process.\n\n"
      ]
    },
    {
      "cell_type": "markdown",
      "metadata": {},
      "source": [
        "Define residual function\n\n"
      ]
    },
    {
      "cell_type": "code",
      "execution_count": null,
      "metadata": {
        "collapsed": false
      },
      "outputs": [],
      "source": [
        "n = 3\nm = 20\nx = [[0.5 + 0.1*i] for i in range(m)]\n\nmodel = ot.SymbolicFunction(['a', 'b', 'c', 'x'], ['a + b * exp(-c *x^2)'])\np_ref = [2.8, 1.2, 0.5]  # Reference a, b, c\nmodelx = ot.ParametricFunction(model, [0, 1, 2], p_ref)\n\n# Generate reference sample (with normal noise)\ny = np.multiply(modelx(x), np.random.normal(1.0, 0.05, m))\n\n\ndef residualFunction(params):\n    modelx = ot.ParametricFunction(model, [0, 1, 2], params)\n    return [modelx(x[i])[0] - y[i, 0] for i in range(m)]"
      ]
    },
    {
      "cell_type": "markdown",
      "metadata": {},
      "source": [
        "Definition of residual as ot.PythonFunction and optimization problem\n\n"
      ]
    },
    {
      "cell_type": "code",
      "execution_count": null,
      "metadata": {
        "collapsed": false
      },
      "outputs": [],
      "source": [
        "residual = ot.PythonFunction(n, m, residualFunction)\nlsqProblem = ot.LeastSquaresProblem(residual)"
      ]
    },
    {
      "cell_type": "markdown",
      "metadata": {},
      "source": [
        "Definition of Dlib solver, setting starting point\n\n"
      ]
    },
    {
      "cell_type": "code",
      "execution_count": null,
      "metadata": {
        "collapsed": false
      },
      "outputs": [],
      "source": [
        "lsqAlgo = ot.Dlib(lsqProblem, \"least_squares\")\nlsqAlgo.setStartingPoint([0.0, 0.0, 0.0])\n\nlsqAlgo.run()"
      ]
    },
    {
      "cell_type": "markdown",
      "metadata": {},
      "source": [
        "Retrieve results\n\n"
      ]
    },
    {
      "cell_type": "code",
      "execution_count": null,
      "metadata": {
        "collapsed": false
      },
      "outputs": [],
      "source": [
        "result = lsqAlgo.getResult()\nprint('x^ = ', result.getOptimalPoint())\nprint(\"f(x^) = \", result.getOptimalValue())\nprint(\"Iteration number: \", result.getIterationNumber())\nprint(\"Evaluation number: \", result.getEvaluationNumber())\nprint(\"Absolute error: \", result.getAbsoluteError())\nprint(\"Relative error: \", result.getRelativeError())\nprint(\"Residual error: \", result.getResidualError())\nprint(\"Constraint error: \", result.getConstraintError())"
      ]
    },
    {
      "cell_type": "markdown",
      "metadata": {},
      "source": [
        "Draw errors history\n\n"
      ]
    },
    {
      "cell_type": "code",
      "execution_count": null,
      "metadata": {
        "collapsed": false
      },
      "outputs": [],
      "source": [
        "graph = result.drawErrorHistory()\nview = viewer.View(graph)"
      ]
    },
    {
      "cell_type": "markdown",
      "metadata": {},
      "source": [
        "Draw optimal value history\n\n"
      ]
    },
    {
      "cell_type": "code",
      "execution_count": null,
      "metadata": {
        "collapsed": false
      },
      "outputs": [],
      "source": [
        "graph = result.drawOptimalValueHistory()\nview = viewer.View(graph)\n\nplt.show()"
      ]
    }
  ],
  "metadata": {
    "kernelspec": {
      "display_name": "Python 3",
      "language": "python",
      "name": "python3"
    },
    "language_info": {
      "codemirror_mode": {
        "name": "ipython",
        "version": 3
      },
      "file_extension": ".py",
      "mimetype": "text/x-python",
      "name": "python",
      "nbconvert_exporter": "python",
      "pygments_lexer": "ipython3",
      "version": "3.10.4"
    }
  },
  "nbformat": 4,
  "nbformat_minor": 0
}