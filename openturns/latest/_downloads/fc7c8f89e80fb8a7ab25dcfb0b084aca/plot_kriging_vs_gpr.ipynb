{
  "cells": [
    {
      "cell_type": "markdown",
      "metadata": {},
      "source": [
        "\n# Gaussian Process Regression vs KrigingAlgorithm\n"
      ]
    },
    {
      "cell_type": "markdown",
      "metadata": {},
      "source": [
        "The goal of this example is to highlight the main changes between the old API involving `KrigingAlgorithm` and the new one.\n\nIt assumes a basic knowledge of Gaussian Process Regression.\nFor that purpose, we create a Gaussian Process Regression surrogate model for a function which has scalar real inputs and outputs.\nWe select a very simple example.\n\n"
      ]
    },
    {
      "cell_type": "markdown",
      "metadata": {},
      "source": [
        "## Introduction\n\nWe consider the sine function:\n\n\\begin{align}y = x \\sin(x)\\end{align}\n\n\nfor any $x\\in[0,12]$.\n\nWe want to create a surrogate of this function. This is why we create a sample of $n$ observations of the function:\n\n\\begin{align}y_i=x_i \\sin(x_i)\\end{align}\n\nWe are going to consider a Gaussian Process Regression with:\n\n* a constant trend,\n* a Matern covariance model.\n\n"
      ]
    },
    {
      "cell_type": "code",
      "execution_count": null,
      "metadata": {
        "collapsed": false
      },
      "outputs": [],
      "source": [
        "import openturns as ot\nfrom openturns import viewer\nfrom matplotlib import pyplot as plt\nimport openturns.experimental as otexp"
      ]
    },
    {
      "cell_type": "markdown",
      "metadata": {},
      "source": [
        "First let us introduce some useful function.\nIn order to observe the function and the location of the points in the input design of experiments, we define `plot_1d_data`.\n\n"
      ]
    },
    {
      "cell_type": "code",
      "execution_count": null,
      "metadata": {
        "collapsed": false
      },
      "outputs": [],
      "source": [
        "def plot_1d_data(x_data, y_data, type=\"Curve\", legend=None, color=None, linestyle=None):\n    \"\"\"Plot the data (x_data,y_data) as a Cloud/Curve\"\"\"\n    if type == \"Curve\":\n        graphF = ot.Curve(x_data, y_data)\n    else:\n        graphF = ot.Cloud(x_data, y_data)\n    if legend is not None:\n        graphF.setLegend(legend)\n    if color is not None:\n        graphF.setColor(color)\n    if linestyle is not None:\n        graphF.setLineStyle(linestyle)\n    return graphF\n\n\ndef computeQuantileAlpha(alpha):\n    \"\"\"\n    Compute bilateral confidence interval of level 1-alpha of a gaussian distribution.\n    \"\"\"\n    bilateralCI = ot.Normal().computeBilateralConfidenceInterval(1 - alpha)\n    return bilateralCI.getUpperBound()[0]\n\n\ndef computeBoundsConfidenceInterval(y_test_hat, quantileAlpha, conditionalSigma):\n    \"\"\"\n    Compute the 1-alpha confidence interval bounds.\n    \"\"\"\n    dataLower = [\n        [y_test_hat[i, 0] - quantileAlpha * conditionalSigma[i, 0]]\n        for i in range(n_test)\n    ]\n    dataUpper = [\n        [y_test_hat[i, 0] + quantileAlpha * conditionalSigma[i, 0]]\n        for i in range(n_test)\n    ]\n    dataLower = ot.Sample(dataLower)\n    dataUpper = ot.Sample(dataUpper)\n    return dataLower, dataUpper"
      ]
    },
    {
      "cell_type": "code",
      "execution_count": null,
      "metadata": {
        "collapsed": false
      },
      "outputs": [],
      "source": [
        "g = ot.SymbolicFunction([\"x\"], [\"x * sin(x)\"])"
      ]
    },
    {
      "cell_type": "code",
      "execution_count": null,
      "metadata": {
        "collapsed": false
      },
      "outputs": [],
      "source": [
        "xmin = 0.0\nxmax = 12.0\nn_train = 20\nstep = (xmax - 1 - xmin) / (n_train - 1.0)\nx_train = ot.RegularGrid(xmin + 0.2, step, n_train).getVertices()\ny_train = g(x_train)\nn_train = x_train.getSize()"
      ]
    },
    {
      "cell_type": "markdown",
      "metadata": {},
      "source": [
        "In order to compare the function and its metamodel, we use a test (i.e. validation) design of experiments made of a regular grid of 100 points from 0 to 12.\nThen we convert this grid into a :class:`~openturns.Sample` and we compute the outputs of the function on this sample.\n\n"
      ]
    },
    {
      "cell_type": "code",
      "execution_count": null,
      "metadata": {
        "collapsed": false
      },
      "outputs": [],
      "source": [
        "n_test = 100\nstep = (xmax - xmin) / (n_test - 1)\nmyRegularGrid = ot.RegularGrid(xmin, step, n_test)\nx_test = myRegularGrid.getVertices()\ny_test = g(x_test)"
      ]
    },
    {
      "cell_type": "markdown",
      "metadata": {},
      "source": [
        "We plot the true function (continuous dashed curve) and train data (cloud points) on the same figure.\n\n"
      ]
    },
    {
      "cell_type": "code",
      "execution_count": null,
      "metadata": {
        "collapsed": false
      },
      "outputs": [],
      "source": [
        "graph = ot.Graph(\"Function of interest\", \"\", \"\", True, \"\")\ngraph.add(\n    plot_1d_data(x_test, y_test, legend=\"Exact\", color=\"black\", linestyle=\"dashed\")\n)\ngraph.add(\n    plot_1d_data(x_train, y_train, type=\"Cloud\", legend=\"Train points\", color=\"red\")\n)\ngraph.setAxes(True)\ngraph.setXTitle(\"X\")\ngraph.setYTitle(\"Y\")\ngraph.setLegendPosition(\"upper right\")\nview = viewer.View(graph)"
      ]
    },
    {
      "cell_type": "markdown",
      "metadata": {},
      "source": [
        "We use the :class:`~openturns.ConstantBasisFactory` class to define the trend and the :class:`~openturns.MaternModel` class to define the covariance model.\nThis Mat\u00e9rn model is based on the regularity parameter $\\nu=3/2$.\n\n"
      ]
    },
    {
      "cell_type": "code",
      "execution_count": null,
      "metadata": {
        "collapsed": false
      },
      "outputs": [],
      "source": [
        "dimension = 1\nbasis = ot.ConstantBasisFactory(dimension).build()\ncovarianceModel = ot.MaternModel([1.0] * dimension, 1.5)"
      ]
    },
    {
      "cell_type": "markdown",
      "metadata": {},
      "source": [
        "In the following, we use the `KrigingAlgorithm` class to fit the Gaussian Process Regression model (aka Kriging).\n\n"
      ]
    },
    {
      "cell_type": "code",
      "execution_count": null,
      "metadata": {
        "collapsed": false
      },
      "outputs": [],
      "source": [
        "kriging_algo = ot.KrigingAlgorithm(x_train, y_train, covarianceModel, basis)\nkriging_algo.run()\nkriging_result = kriging_algo.getResult()\nkrigingMM = kriging_result.getMetaModel()"
      ]
    },
    {
      "cell_type": "markdown",
      "metadata": {},
      "source": [
        "We observe that the `scale` and `amplitude` hyper-parameters have been optimized by the `run` method.\nThe default optimization method (used here) is the :class:`~openturns.TNC`\nWith the new API, the :class:`~openturns.experimental.GaussianProcessFitter` class  is used to fit the\ngaussian process and :class:`~openturns.experimental.GaussianProcessRegression` to get the conditioned model.\n\n"
      ]
    },
    {
      "cell_type": "code",
      "execution_count": null,
      "metadata": {
        "collapsed": false
      },
      "outputs": [],
      "source": [
        "fitter_algo = otexp.GaussianProcessFitter(x_train, y_train, covarianceModel, basis)\nfitter_algo.run()\nfitter_result = fitter_algo.getResult()\ngpr_algo = otexp.GaussianProcessRegression(fitter_result)\ngpr_algo.run()\ngpr_result = gpr_algo.getResult()\ngprMetamodel = gpr_result.getMetaModel()"
      ]
    },
    {
      "cell_type": "markdown",
      "metadata": {},
      "source": [
        "We observe that the `scale` and `amplitude` hyper-parameters have been optimized by the :meth:`~openturns.experimental.GaussianProcessFitter.run` method.\nThe default optimization method (used here) is the :class:`~openturns.Cobyla`, which is different from the old API.\nThen we get the metamodel with `getMetaModel` for evaluating the outputs of the metamodel on the test design of experiments.\n\n"
      ]
    },
    {
      "cell_type": "markdown",
      "metadata": {},
      "source": [
        "Now we plot Gaussian process Regression output, in addition to the previous plots\n\n"
      ]
    },
    {
      "cell_type": "code",
      "execution_count": null,
      "metadata": {
        "collapsed": false
      },
      "outputs": [],
      "source": [
        "graph = ot.Graph(\"Comparison data vs GP models\", \"\", \"\", True, \"\")\ngraph.add(plot_1d_data(x_test, y_test, legend=\"Exact\", color=\"black\"))\ngraph.add(plot_1d_data(x_train, y_train, type=\"Cloud\", legend=\"Data\", color=\"red\"))\ngraph.add(\n    plot_1d_data(\n        x_test, krigingMM(x_test), legend=\"Kriging\", color=\"blue\", linestyle=\"dashed\"\n    )\n)\ngraph.add(\n    plot_1d_data(\n        x_test, gprMetamodel(x_test), legend=\"GPR\", color=\"green\", linestyle=\"dotdash\"\n    )\n)\ngraph.setAxes(True)\ngraph.setXTitle(\"X\")\ngraph.setYTitle(\"Y\")\ngraph.setLegendPosition(\"upper right\")\nview = viewer.View(graph)"
      ]
    },
    {
      "cell_type": "markdown",
      "metadata": {},
      "source": [
        "We see that the Gaussian process regression estimated with both classes is interpolating.\nThis is what is meant by *conditioning* a Gaussian process.\nWe see that, when the sine function has a strong curvature between two points which are separated by a large distance (e.g. between $x=4$ and $x=6$),\nthen the Gaussian regression is not close to the function $g$.\nHowever, when the training points are close (e.g. between $x=11$ and $x=11.5$) or when the function is nearly linear\n(e.g. between $x=8$ and $x=11$),\nthen the gaussian process regression is quite accurate.\n\n"
      ]
    },
    {
      "cell_type": "markdown",
      "metadata": {},
      "source": [
        "## Activating nugget factor\nBoth APIs allow one to estimate the model with an active nugget factor thanks to the :meth:`~openturns.CovarianceModel.activateNuggetFactor`,\ne.g. the parameter is estimated within the optimization process.\n\n\n"
      ]
    },
    {
      "cell_type": "code",
      "execution_count": null,
      "metadata": {
        "collapsed": false
      },
      "outputs": [],
      "source": [
        "covarianceModel.activateNuggetFactor(True)\not.RandomGenerator.SetSeed(1235)\nepsilon = ot.Normal(0, 1.5).getSample(y_train.getSize())"
      ]
    },
    {
      "cell_type": "code",
      "execution_count": null,
      "metadata": {
        "collapsed": false
      },
      "outputs": [],
      "source": [
        "kriging_algo_wnf = ot.KrigingAlgorithm(\n    x_train, y_train + epsilon, covarianceModel, basis\n)\nkriging_algo_wnf.setOptimizationAlgorithm(ot.NLopt(\"GN_DIRECT\"))\nkriging_algo_wnf.run()\nkriging_result_wnf = kriging_algo_wnf.getResult()\nkrigingMM_wnf = kriging_result_wnf.getMetaModel()\nprint(\n    f\"Nugget factor estimated with Kriging class = {kriging_result_wnf.getCovarianceModel().getNuggetFactor()}\"\n)"
      ]
    },
    {
      "cell_type": "code",
      "execution_count": null,
      "metadata": {
        "collapsed": false
      },
      "outputs": [],
      "source": [
        "fitter_algo_wnf = otexp.GaussianProcessFitter(\n    x_train, y_train + epsilon, covarianceModel, basis\n)\nfitter_algo_wnf.setOptimizationAlgorithm(ot.NLopt(\"GN_DIRECT\"))\nfitter_algo_wnf.run()\nfitter_result_wnf = fitter_algo_wnf.getResult()\ngpr_algo_wnf = otexp.GaussianProcessRegression(fitter_result_wnf)\ngpr_algo_wnf.run()\ngpr_result_wnf = gpr_algo_wnf.getResult()\ngprMetamodel_wnf = gpr_result_wnf.getMetaModel()\nprint(\n    f\"Nugget factor estimated with GPR class = {gpr_result_wnf.getCovarianceModel().getNuggetFactor()}\"\n)"
      ]
    },
    {
      "cell_type": "markdown",
      "metadata": {},
      "source": [
        "We plot the test and train data\n\n"
      ]
    },
    {
      "cell_type": "code",
      "execution_count": null,
      "metadata": {
        "collapsed": false
      },
      "outputs": [],
      "source": [
        "graph = ot.Graph(\"test and train with noisy data\", \"\", \"\", True, \"\")\ngraph.add(plot_1d_data(x_test, y_test, legend=\"Exact\", color=\"black\"))\ngraph.add(\n    plot_1d_data(\n        x_train, y_train + epsilon, type=\"Cloud\", legend=\"Noisy data\", color=\"red\"\n    )\n)\ngraph.add(\n    plot_1d_data(\n        x_test,\n        krigingMM_wnf(x_test),\n        legend=\"Kriging\",\n        color=\"blue\",\n        linestyle=\"dashed\",\n    )\n)\ngraph.add(\n    plot_1d_data(\n        x_test,\n        gprMetamodel_wnf(x_test),\n        legend=\"GPR\",\n        color=\"green\",\n        linestyle=\"dotdash\",\n    )\n)\ngraph.setAxes(True)\ngraph.setAxes(True)\ngraph.setXTitle(\"X\")\ngraph.setYTitle(\"Y\")\ngraph.setLegendPosition(\"upper right\")\nview = viewer.View(graph)"
      ]
    },
    {
      "cell_type": "markdown",
      "metadata": {},
      "source": [
        "## Compute confidence bounds\n\n"
      ]
    },
    {
      "cell_type": "markdown",
      "metadata": {},
      "source": [
        "In order to assess the quality of the surrogate model, we can estimate the variance and compute a 95% confidence interval\nassociated with the conditioned Gaussian process.\nWe begin by defining the `alpha` variable containing the complementary of the confidence level than we want to compute.\nThen we compute the quantile of the Gaussian distribution corresponding to `1-alpha/2`. Therefore, the confidence interval is:\n\n\\begin{align}P\\in\\left(X\\in\\left[q_{\\alpha/2},q_{1-\\alpha/2}\\right]\\right)=1-\\alpha.\\end{align}\n\n\n\n"
      ]
    },
    {
      "cell_type": "code",
      "execution_count": null,
      "metadata": {
        "collapsed": false
      },
      "outputs": [],
      "source": [
        "alpha = 0.05\nquantileAlpha = computeQuantileAlpha(alpha)\nprint(\"alpha=%f\" % (alpha))\nprint(\"Quantile alpha=%f\" % (quantileAlpha))"
      ]
    },
    {
      "cell_type": "markdown",
      "metadata": {},
      "source": [
        "In order to compute the regression error, we can consider the conditional variance.\nWithin the old API, the `KrigingResult.getConditionalMarginalVariance` method returns the marginal variance `marVar`\nevaluated at each points in the given sample.\nThen we can apply the sqrt function to get the standard deviation.\nNotice that some coefficients in the diagonal are very close to zero and\nnonpositive, which might lead to an exception when applying the sqrt function.\nThis is why we add an epsilon on the diagonal, which prevents this issue.\n\n"
      ]
    },
    {
      "cell_type": "code",
      "execution_count": null,
      "metadata": {
        "collapsed": false
      },
      "outputs": [],
      "source": [
        "sqrt = ot.SymbolicFunction([\"x\"], [\"sqrt(x)\"])\nepsilon = ot.Sample(n_test, [1.0e-8])\nconditional_variance_kriging = (\n    kriging_result.getConditionalMarginalVariance(x_test) + epsilon\n)\nconditional_sigma_kriging = sqrt(conditional_variance_kriging)"
      ]
    },
    {
      "cell_type": "markdown",
      "metadata": {},
      "source": [
        "Within the new API, the :meth:`~openturns.experimental.GaussianProcessConditionalCovariance.getConditionalMarginalVariance` applies\nand returns the marginal variance `marVar`\nSince this is a variance, we use the square root in order to compute the\nstandard deviation.\nNotice also that :meth:`~openturns.experimental.GaussianProcessConditionalCovariance.getConditionalCovariance` is similar to\n`KrigingResult.getConditionalCovariance`, and :meth:`~openturns.experimental.GaussianProcessConditionalCovariance.getDiagonalCovarianceCollection`\nhas a \"twin\" method `KrigingResult.getConditionalMarginalCovariance`.,\n\n"
      ]
    },
    {
      "cell_type": "code",
      "execution_count": null,
      "metadata": {
        "collapsed": false
      },
      "outputs": [],
      "source": [
        "gccc = otexp.GaussianProcessConditionalCovariance(gpr_result)\nconditional_variance_gpr = gccc.getConditionalMarginalVariance(x_test)\nconditional_sigma_gpr = sqrt(conditional_variance_gpr)"
      ]
    },
    {
      "cell_type": "markdown",
      "metadata": {},
      "source": [
        "Let us compute the same conditional standard deviation when accounting for the noise.\n\n"
      ]
    },
    {
      "cell_type": "code",
      "execution_count": null,
      "metadata": {
        "collapsed": false
      },
      "outputs": [],
      "source": [
        "conditional_variance_kriging_wnf = (\n    kriging_result_wnf.getConditionalMarginalVariance(x_test) + epsilon\n)\nconditional_sigma_kriging_wnf = sqrt(conditional_variance_kriging_wnf)\n\ngccc_wnf = otexp.GaussianProcessConditionalCovariance(gpr_result_wnf)\nconditional_variance_gpr_wnf = gccc_wnf.getConditionalMarginalVariance(x_test) + epsilon\nconditional_sigma_gpr_wnf = sqrt(conditional_variance_gpr_wnf)"
      ]
    },
    {
      "cell_type": "markdown",
      "metadata": {},
      "source": [
        "The following figure presents the conditional standard deviation depending on $x$.\n\n"
      ]
    },
    {
      "cell_type": "code",
      "execution_count": null,
      "metadata": {
        "collapsed": false
      },
      "outputs": [],
      "source": [
        "graph = ot.Graph(\n    \"Conditional standard deviation\", \"x\", \"Conditional standard deviation\", True, \"\"\n)\ncurve = ot.Curve(x_test, conditional_sigma_kriging)\ngraph.add(curve)\ncurve = ot.Curve(x_test, conditional_sigma_gpr)\ngraph.add(curve)\ngraph.setColors([\"blue\", \"red\"])\ngraph.setLegends([\"kriging\", \"GPR\"])\ngraph.setLegendPosition(\"upper right\")\nview = viewer.View(graph)"
      ]
    },
    {
      "cell_type": "markdown",
      "metadata": {},
      "source": [
        "Select the green colors using HSV values (for the confidence interval)\n\n"
      ]
    },
    {
      "cell_type": "code",
      "execution_count": null,
      "metadata": {
        "collapsed": false
      },
      "outputs": [],
      "source": [
        "mycolors = [120, 1.0, 1.0]"
      ]
    },
    {
      "cell_type": "markdown",
      "metadata": {},
      "source": [
        "We are ready to display all the previous information and the three confidence intervals we want.\nFirst let us evaluate the different confidence bounds\n\n"
      ]
    },
    {
      "cell_type": "code",
      "execution_count": null,
      "metadata": {
        "collapsed": false
      },
      "outputs": [],
      "source": [
        "ci_lower_bound_km, ci_upper_bound_km = computeBoundsConfidenceInterval(\n    krigingMM(x_test), quantileAlpha, conditional_sigma_kriging\n)\nci_lower_bound_km_noise, ci_upper_bound_km_noise = computeBoundsConfidenceInterval(\n    krigingMM_wnf(x_test), quantileAlpha, conditional_sigma_kriging_wnf\n)\nci_lower_bound_gpr, ci_upper_bound_gpr = computeBoundsConfidenceInterval(\n    gprMetamodel(x_test), quantileAlpha, conditional_sigma_gpr\n)\nci_lower_bound_gpr_noise, ci_upper_bound_gpr_noise = computeBoundsConfidenceInterval(\n    gprMetamodel_wnf(x_test), quantileAlpha, conditional_sigma_gpr_wnf\n)"
      ]
    },
    {
      "cell_type": "markdown",
      "metadata": {},
      "source": [
        "Now we loop over the different models\n\n"
      ]
    },
    {
      "cell_type": "code",
      "execution_count": null,
      "metadata": {
        "collapsed": false
      },
      "outputs": [],
      "source": [
        "grid_layout = ot.GridLayout(2, 2)\ngrid_layout.setTitle(\"Confidence interval with various models\")\ngraph = ot.Graph(\"Kriging API\", \"x\", \"y\", True, \"\")\nboundsPoly = ot.Polygon.FillBetween(x_test, ci_lower_bound_km, ci_upper_bound_km)\nboundsPoly.setColor(ot.Drawable.ConvertFromHSV(mycolors[0], mycolors[1], mycolors[2]))\nboundsPoly.setLegend(\" %d%% bounds\" % ((1.0 - alpha) * 100))\ngraph.add(boundsPoly)\ngraph.add(\n    plot_1d_data(x_test, y_test, legend=\"Exact\", color=\"black\", linestyle=\"dashed\")\n)\ngraph.add(plot_1d_data(x_train, y_train, type=\"Cloud\", legend=\"Data\", color=\"red\"))\ngraph.add(plot_1d_data(x_test, krigingMM(x_test), legend=\"Kriging\", color=\"blue\"))\n\ngraph.setAxes(True)\ngraph.setXTitle(\"X\")\ngraph.setYTitle(\"Y\")\ngraph.setLegendPosition(\"upper right\")\ngrid_layout.setGraph(0, 0, graph)"
      ]
    },
    {
      "cell_type": "markdown",
      "metadata": {},
      "source": [
        "Gaussian Process Regression\n\n"
      ]
    },
    {
      "cell_type": "code",
      "execution_count": null,
      "metadata": {
        "collapsed": false
      },
      "outputs": [],
      "source": [
        "graph = ot.Graph(\"GPR API\", \"x\", \"y\", True, \"\")\nboundsPoly = ot.Polygon.FillBetween(x_test, ci_lower_bound_gpr, ci_upper_bound_gpr)\nboundsPoly.setColor(ot.Drawable.ConvertFromHSV(mycolors[0], mycolors[1], mycolors[2]))\nboundsPoly.setLegend(\" %d%% bounds\" % ((1.0 - alpha) * 100))\ngraph.add(boundsPoly)\ngraph.add(\n    plot_1d_data(x_test, y_test, legend=\"Exact\", color=\"black\", linestyle=\"dashed\")\n)\ngraph.add(plot_1d_data(x_train, y_train, type=\"Cloud\", legend=\"Data\", color=\"red\"))\ngraph.add(plot_1d_data(x_test, gprMetamodel(x_test), legend=\"GPR\", color=\"blue\"))\n\ngraph.setAxes(True)\ngraph.setXTitle(\"X\")\ngraph.setYTitle(\"Y\")\ngraph.setLegendPosition(\"upper right\")\ngrid_layout.setGraph(0, 1, graph)"
      ]
    },
    {
      "cell_type": "markdown",
      "metadata": {},
      "source": [
        "Kriging with noise (old API)\n\n"
      ]
    },
    {
      "cell_type": "code",
      "execution_count": null,
      "metadata": {
        "collapsed": false
      },
      "outputs": [],
      "source": [
        "graph = ot.Graph(\"Kriging API\", \"x\", \"y\", True, \"\")\nboundsPoly = ot.Polygon.FillBetween(\n    x_test, ci_lower_bound_km_noise, ci_upper_bound_km_noise\n)\nboundsPoly.setColor(ot.Drawable.ConvertFromHSV(mycolors[0], mycolors[1], mycolors[2]))\nboundsPoly.setLegend(\" %d%% bounds\" % ((1.0 - alpha) * 100))\ngraph.add(boundsPoly)\ngraph.add(plot_1d_data(x_test, y_test, legend=\"Exact\", color=\"black\"))\ngraph.add(plot_1d_data(x_train, y_train, type=\"Cloud\", legend=\"Data\", color=\"red\"))\ngraph.add(\n    plot_1d_data(\n        x_test,\n        krigingMM_wnf(x_test),\n        legend=\"Kriging + noise\",\n        color=\"blue\",\n        linestyle=\"dashed\",\n    )\n)\n\ngraph.setAxes(True)\ngraph.setXTitle(\"X\")\ngraph.setYTitle(\"Y\")\ngraph.setLegendPosition(\"upper right\")\ngrid_layout.setGraph(1, 0, graph)"
      ]
    },
    {
      "cell_type": "markdown",
      "metadata": {},
      "source": [
        "Gaussian Process Regression with noise\n\n"
      ]
    },
    {
      "cell_type": "code",
      "execution_count": null,
      "metadata": {
        "collapsed": false
      },
      "outputs": [],
      "source": [
        "graph = ot.Graph(\"GPR API\", \"x\", \"y\", True, \"\")\nboundsPoly = ot.Polygon.FillBetween(\n    x_test, ci_lower_bound_gpr_noise, ci_upper_bound_gpr_noise\n)\nboundsPoly.setColor(ot.Drawable.ConvertFromHSV(mycolors[0], mycolors[1], mycolors[2]))\nboundsPoly.setLegend(\" %d%% bounds\" % ((1.0 - alpha) * 100))\ngraph.add(boundsPoly)\ngraph.add(\n    plot_1d_data(x_test, y_test, legend=\"Exact\", color=\"black\", linestyle=\"dashed\")\n)\ngraph.add(plot_1d_data(x_train, y_train, type=\"Cloud\", legend=\"Data\", color=\"red\"))\ngraph.add(\n    plot_1d_data(x_test, gprMetamodel_wnf(x_test), legend=\"GPR + noise\", color=\"blue\")\n)\n\ngraph.setAxes(True)\ngraph.setXTitle(\"X\")\ngraph.setYTitle(\"Y\")\ngraph.setLegendPosition(\"upper right\")\ngrid_layout.setGraph(1, 1, graph)\n\nview = viewer.View(grid_layout)"
      ]
    },
    {
      "cell_type": "markdown",
      "metadata": {},
      "source": [
        "We see that the confidence intervals are small in the regions where two\nconsecutive training points are close to each other.\nWith noisy data, the confidence interval become bigger.\n\n"
      ]
    },
    {
      "cell_type": "markdown",
      "metadata": {},
      "source": [
        "## Gaussian Process Regression with fixed trend\n\n"
      ]
    },
    {
      "cell_type": "markdown",
      "metadata": {},
      "source": [
        "The new Gaussian Process Regression allows one to estimate a conditioned Gaussian process regression\nif covariance models are fixed and with a given trend function. Here after how it applies for our use-case.\nFirst we set the known parameters (covariance, trend)\n\n"
      ]
    },
    {
      "cell_type": "code",
      "execution_count": null,
      "metadata": {
        "collapsed": false
      },
      "outputs": [],
      "source": [
        "scale = [4.51669]\namplitude = [8.648]\ncovariance_opt = ot.MaternModel(scale, amplitude, 1.5)\ntrend_function = ot.SymbolicFunction(\"x\", \"-3.1710410094572903\")"
      ]
    },
    {
      "cell_type": "markdown",
      "metadata": {},
      "source": [
        "Then we define the Gaussian Process Regression relying on these parameters:\n\n"
      ]
    },
    {
      "cell_type": "code",
      "execution_count": null,
      "metadata": {
        "collapsed": false
      },
      "outputs": [],
      "source": [
        "gpr_algo_noopt = otexp.GaussianProcessRegression(\n    x_train, y_train, covariance_opt, trend_function\n)\ngpr_algo_noopt.run()\ngpr_result_no_opt = gpr_algo_noopt.getResult()\ngpr_nopt_Metamodel = gpr_result_no_opt.getMetaModel()"
      ]
    },
    {
      "cell_type": "markdown",
      "metadata": {},
      "source": [
        "Plot the function\n\n"
      ]
    },
    {
      "cell_type": "code",
      "execution_count": null,
      "metadata": {
        "collapsed": false
      },
      "outputs": [],
      "source": [
        "graph = ot.Graph(\"GPR with known trend\", \"\", \"\", True, \"\")\ngraph.add(\n    plot_1d_data(x_test, y_test, legend=\"Exact\", color=\"black\", linestyle=\"dashed\")\n)\ngraph.add(plot_1d_data(x_train, y_train, type=\"Cloud\", legend=\"Data\", color=\"red\"))\ngraph.add(plot_1d_data(x_test, gpr_nopt_Metamodel(x_test), legend=\"GPR\", color=\"green\"))\ngraph.setAxes(True)\ngraph.setXTitle(\"X\")\ngraph.setYTitle(\"Y\")\ngraph.setLegendPosition(\"upper right\")\nview = viewer.View(graph)"
      ]
    },
    {
      "cell_type": "markdown",
      "metadata": {},
      "source": [
        "The given GPR matches with the data as expected !\n\n"
      ]
    },
    {
      "cell_type": "markdown",
      "metadata": {},
      "source": [
        "## Gaussian Process Regression with heteroscedastic noise\n\n"
      ]
    },
    {
      "cell_type": "markdown",
      "metadata": {},
      "source": [
        "The objective is to estimate a Gaussian process regression accounting for a noise (known noise).\nUnfortunately the feature is unavailable with the new API. The objective is to have it in the next releases\nusing different ways.\nThe only workaround until now is to rely on the old API. Here an example of how using such a feature.\n\n"
      ]
    },
    {
      "cell_type": "code",
      "execution_count": null,
      "metadata": {
        "collapsed": false
      },
      "outputs": [],
      "source": [
        "noise = ot.Uniform(0, 0.5).getSample(y_train.getSize())\nkriging_algo_hsn = ot.KrigingAlgorithm(x_train, y_train, covarianceModel, basis)\nkriging_algo_hsn.setNoise(noise.asPoint())\nkriging_algo_hsn.run()\nkriging_result_hsn = kriging_algo_hsn.getResult()\nkrigingMM_hsn = kriging_result_hsn.getMetaModel()"
      ]
    },
    {
      "cell_type": "markdown",
      "metadata": {},
      "source": [
        "Plot the result\n\n"
      ]
    },
    {
      "cell_type": "code",
      "execution_count": null,
      "metadata": {
        "collapsed": false
      },
      "outputs": [],
      "source": [
        "graph = ot.Graph(\"Kriging with known noise\", \"\", \"\", True, \"\")\ngraph.add(\n    plot_1d_data(x_test, y_test, legend=\"Exact\", color=\"black\", linestyle=\"dashed\")\n)\ngraph.add(plot_1d_data(x_train, y_train, type=\"Cloud\", legend=\"Data\", color=\"red\"))\ngraph.add(\n    plot_1d_data(x_test, krigingMM_hsn(x_test), legend=\"Kriging+noise\", color=\"green\")\n)\ngraph.setAxes(True)\ngraph.setXTitle(\"X\")\ngraph.setYTitle(\"Y\")\ngraph.setLegendPosition(\"upper right\")\nview = viewer.View(graph)"
      ]
    },
    {
      "cell_type": "markdown",
      "metadata": {},
      "source": [
        "The result is slightly different from the previous ones. We take into account that each output `y_train` is potentially \"random\".\n\n"
      ]
    },
    {
      "cell_type": "markdown",
      "metadata": {},
      "source": [
        "### Summary of features\n\n"
      ]
    },
    {
      "cell_type": "markdown",
      "metadata": {},
      "source": [
        "We illustrated some the features of both old/new API, making a comparison in terms of usage and result.\nWe can summarize the main differences hereafter (old API / new API):\n\n* Default optimization solver : :class:`~openturns.TNC`/:class:`~openturns.Cobyla`\n* Conditional covariance : `KrigingResult.getConditionalCovariance`/ :meth:`~openturns.experimental.GaussianProcessConditionalCovariance.getConditionalCovariance`\n* Known trend : no / yes (see : :class:`~openturns.experimental.GaussianProcessRegression` )\n* Nugget factor : yes / yes\n* Heteroscedastic noise : `KrigingAlgorithm.setNoise` / no\n* Fit the model : `KrigingAlgorithm.run` / :meth:`~openturns.experimental.GaussianProcessFitter.run` + :meth:`~openturns.experimental.GaussianProcessRegression.run`\n\n"
      ]
    },
    {
      "cell_type": "code",
      "execution_count": null,
      "metadata": {
        "collapsed": false
      },
      "outputs": [],
      "source": [
        "plt.show()"
      ]
    }
  ],
  "metadata": {
    "kernelspec": {
      "display_name": "Python 3",
      "language": "python",
      "name": "python3"
    },
    "language_info": {
      "codemirror_mode": {
        "name": "ipython",
        "version": 3
      },
      "file_extension": ".py",
      "mimetype": "text/x-python",
      "name": "python",
      "nbconvert_exporter": "python",
      "pygments_lexer": "ipython3",
      "version": "3.13.3"
    }
  },
  "nbformat": 4,
  "nbformat_minor": 0
}