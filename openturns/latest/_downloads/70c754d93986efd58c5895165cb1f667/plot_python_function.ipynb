{
  "cells": [
    {
      "cell_type": "code",
      "execution_count": null,
      "metadata": {
        "collapsed": false
      },
      "outputs": [],
      "source": [
        "%matplotlib inline"
      ]
    },
    {
      "cell_type": "markdown",
      "metadata": {},
      "source": [
        "\n# Create a Python function\n"
      ]
    },
    {
      "cell_type": "markdown",
      "metadata": {},
      "source": [
        "In this example we are going to create a Function object (ie usable in the OpenTURNS context) from a pure Python function.\n\nThe pure Python function to wrap must accept a sequence of floats and return a sequence of float.\n\n\\begin{align}f(x) = [x_0+x_1+x_2, (x_1-1)*e^{x_0} * x_2]\\end{align}\n\n\n"
      ]
    },
    {
      "cell_type": "code",
      "execution_count": null,
      "metadata": {
        "collapsed": false
      },
      "outputs": [],
      "source": [
        "import numpy as np\nimport openturns as ot\nimport math as m\n\not.Log.Show(ot.Log.NONE)"
      ]
    },
    {
      "cell_type": "markdown",
      "metadata": {},
      "source": [
        "define a pure Python function from R^3 to R^2\n\n"
      ]
    },
    {
      "cell_type": "code",
      "execution_count": null,
      "metadata": {
        "collapsed": false
      },
      "outputs": [],
      "source": [
        "def regularFunc(X):\n    x0, x1, x2 = X\n    y0 = x0 + x1 + x2\n    y1 = (x1 - 1.0) * m.exp(x0) * x2\n    return [y0, y1]"
      ]
    },
    {
      "cell_type": "markdown",
      "metadata": {},
      "source": [
        "create a Function object from a regular Python function\n\n"
      ]
    },
    {
      "cell_type": "code",
      "execution_count": null,
      "metadata": {
        "collapsed": false
      },
      "outputs": [],
      "source": [
        "function = ot.PythonFunction(3, 2, regularFunc)"
      ]
    },
    {
      "cell_type": "markdown",
      "metadata": {},
      "source": [
        "evaluate the function on a Point\n\n"
      ]
    },
    {
      "cell_type": "code",
      "execution_count": null,
      "metadata": {
        "collapsed": false
      },
      "outputs": [],
      "source": [
        "x = [1.0, 2.0, 3.0]\nprint(\"x=\", x, \"f(x)=\", function(x))"
      ]
    },
    {
      "cell_type": "markdown",
      "metadata": {},
      "source": [
        "evaluate the function on a Sample\n\n"
      ]
    },
    {
      "cell_type": "code",
      "execution_count": null,
      "metadata": {
        "collapsed": false
      },
      "outputs": [],
      "source": [
        "xs = [[1.0, 2.0, 3.0], [4.0, 5.0, 6.0]]\nprint(\"xs=\", xs, \"\\nf(xs)=\", function(xs))"
      ]
    },
    {
      "cell_type": "markdown",
      "metadata": {},
      "source": [
        "now we can use the Function object services such as the gradient\n\n"
      ]
    },
    {
      "cell_type": "code",
      "execution_count": null,
      "metadata": {
        "collapsed": false
      },
      "outputs": [],
      "source": [
        "function.gradient(x)"
      ]
    },
    {
      "cell_type": "markdown",
      "metadata": {},
      "source": [
        "## Performance issues\n\nWhen this function is used internally to evaluate a Sample, it loops over its points.  This requires many memory allocations; moreover this loop is done in Python, it may thus be slow if Sample is large.\nWe can define a function to operate on a Sample, and return a Sample.\n\nFor maximum performance, argument is in fact not a Sample, but a wrapper object which contains a pointer to data.  When using Numpy arrays without copies and loops, performance is similar to C code, but Python definition is somewhat convoluted; please refer to Numpy documentation to learn how to efficiently define such functions.\n\n"
      ]
    },
    {
      "cell_type": "markdown",
      "metadata": {},
      "source": [
        "define the same function on a Sample\n\n"
      ]
    },
    {
      "cell_type": "code",
      "execution_count": null,
      "metadata": {
        "collapsed": false
      },
      "outputs": [],
      "source": [
        "def regularFuncSample(X):\n    # Create a numpy array with the contents of X without copy\n    xarray = np.array(X, copy=False)\n    # Get columns as vectors, there is also no copy\n    x0, x1, x2 = xarray.T\n    # Allocate a numpy array to store result\n    y = np.zeros((len(X), 2))\n    y[:, 0] = x0 + x1 + x2\n    y[:, 1] = (x1 - 1.0) * np.exp(x0) * x2\n    return y"
      ]
    },
    {
      "cell_type": "markdown",
      "metadata": {},
      "source": [
        "create a Function object from a regular Python function\n\n"
      ]
    },
    {
      "cell_type": "code",
      "execution_count": null,
      "metadata": {
        "collapsed": false
      },
      "outputs": [],
      "source": [
        "functionSample = ot.PythonFunction(3, 2, func_sample=regularFuncSample)"
      ]
    },
    {
      "cell_type": "markdown",
      "metadata": {},
      "source": [
        "evaluate the function on a Sample\n\n"
      ]
    },
    {
      "cell_type": "code",
      "execution_count": null,
      "metadata": {
        "collapsed": false
      },
      "outputs": [],
      "source": [
        "print(\"xs=\", xs, \"\\nf(xs)=\", functionSample(xs))"
      ]
    },
    {
      "cell_type": "markdown",
      "metadata": {},
      "source": [
        "evaluate the function on a Point\n\n"
      ]
    },
    {
      "cell_type": "code",
      "execution_count": null,
      "metadata": {
        "collapsed": false
      },
      "outputs": [],
      "source": [
        "print(\"x=\", x, \"f(x)=\", functionSample(x))"
      ]
    },
    {
      "cell_type": "markdown",
      "metadata": {},
      "source": [
        "The most efficient solution is to provide evaluations both on Point and Sample.  This requires two Python function definitions, but if your code takes a lot of time, you should consider this option.\n\n"
      ]
    },
    {
      "cell_type": "code",
      "execution_count": null,
      "metadata": {
        "collapsed": false
      },
      "outputs": [],
      "source": [
        "functionFast = ot.PythonFunction(3, 2, func=regularFunc, func_sample=regularFuncSample)"
      ]
    }
  ],
  "metadata": {
    "kernelspec": {
      "display_name": "Python 3",
      "language": "python",
      "name": "python3"
    },
    "language_info": {
      "codemirror_mode": {
        "name": "ipython",
        "version": 3
      },
      "file_extension": ".py",
      "mimetype": "text/x-python",
      "name": "python",
      "nbconvert_exporter": "python",
      "pygments_lexer": "ipython3",
      "version": "3.10.8"
    }
  },
  "nbformat": 4,
  "nbformat_minor": 0
}