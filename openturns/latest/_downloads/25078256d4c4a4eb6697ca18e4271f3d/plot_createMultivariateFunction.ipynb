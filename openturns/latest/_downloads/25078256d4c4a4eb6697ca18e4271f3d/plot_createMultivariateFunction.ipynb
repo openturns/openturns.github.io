{
  "cells": [
    {
      "cell_type": "markdown",
      "metadata": {},
      "source": [
        "\n# Create multivariate functions\nWe can create multivariate functions by different methods. One of the methods is to gather\nmultivariate functions. The other one is to create a function having multivariate input using\nthe tensor product of univariate functions. In this example, we present both methods.\n"
      ]
    },
    {
      "cell_type": "markdown",
      "metadata": {},
      "source": [
        "## Description\n\nWe want to build some multivariate functions $f : \\mathbb{R}^d \\mapsto \\mathbb{R}^q$.\n\nWe can do that:\n\n- Case 1: using a finite collection of multivariate functions $f_i:  \\mathbb{R}^d \\mapsto \\mathbb{R}^q$,\n- Case 2: using the tensor product of univariate functions,\n- Case 3: using the tensor product of orthogonal univariate polynomials,\n- Case 4: using the tensor product of orthogonal univariate functions.\n\n\n## Case 1: Finite collection of multivariate functions\n\nIn that case, we have a  finite collection of multivariate functions\n$f_i : \\mathbb{R}^d \\mapsto \\mathbb{R}^q$.\nWe use the :class:`~openturns.Basis` class.\n\nFor example, we consider:\n\n\\begin{align}\\begin{array}{lcl}\n      f_1(x_1, x_2) & = & (x_1^2, x_2^2)\\\\\n      f_2(x_1, x_2) & = & (x_1+1, 2x_2)\\\\\n      f_3(x_1, x_2) & = & (\\cos(x_1x_2), x_2^3)\n    \\end{array}\\end{align}\n\n"
      ]
    },
    {
      "cell_type": "code",
      "execution_count": null,
      "metadata": {
        "collapsed": false
      },
      "outputs": [],
      "source": [
        "import openturns as ot\n\nf1 = ot.SymbolicFunction([\"x1\", \"x2\"], [\"x1^2\", \"x2^2\"])\nf2 = ot.SymbolicFunction([\"x1\", \"x2\"], [\"x1+1.0\", \"2.0*x2\"])\nf3 = ot.SymbolicFunction([\"x1\", \"x2\"], [\"cos(x1*x2)\", \"x2^3\"])\n\nmyBasis = ot.Basis([f1, f2, f3])\nf = myBasis.build(1)"
      ]
    },
    {
      "cell_type": "markdown",
      "metadata": {},
      "source": [
        "## Case 2: Tensor product of univariate functions\n\nIn that case, the univariate functions are not necessarily orthogonal with respect to a measure.\n\nWe have the family of functions: $(x_i \\mapsto \\phi^i_k(x_i))_{k \\geq 0}$\nfor $1 \\leq i \\leq d$.. The :meth:`enumerate` function of the :class:`~openturns.LinearEnumerateFunction`\nclass stores the way the\nmultivariate basis is enumerated: *enumerate(n)* is a multi-index\n$\\boldsymbol{\\alpha} = (\\alpha_1, \\dots, \\alpha_d)$ such that the function number $n$ is:\n\n\\begin{align}f_n(\\vect{x}) = \\prod_{i=1}^d \\phi^i_{\\alpha_i}(x_i).\\end{align}\n\nWe use the :class:`~openturns.TensorizedUniVariateFunctionFactory` class.\n\nFor example, we consider: $f: \\mathbb{R}^2 \\mapsto \\mathbb{R}$, and:\n\n- dimension $x_1$: the family of monomials: $(x_1 \\mapsto x_1^k)_{k \\geq 0}$,\n- dimension $x_2$: the family of Haar wavelets:  $(x_2 \\mapsto \\phi^2_k(x_2))_{k \\geq 0}$.\n\n"
      ]
    },
    {
      "cell_type": "code",
      "execution_count": null,
      "metadata": {
        "collapsed": false
      },
      "outputs": [],
      "source": [
        "univFuncFamily_Mon = ot.MonomialFunctionFactory()\nunivFuncFamily_UnivPol = ot.OrthogonalUniVariatePolynomialFunctionFactory(\n    ot.JacobiFactory()\n)\nunivFuncFamily_Haar = ot.HaarWaveletFactory()\nunivFuncFamily_Fourier = ot.FourierSeriesFactory()\n\nfamilyColl = [\n    univFuncFamily_Mon,\n    univFuncFamily_UnivPol,\n    univFuncFamily_Haar,\n    univFuncFamily_Fourier,\n]\nenumerateFunction = ot.LinearEnumerateFunction(len(familyColl))\n\nfamilyFunction = ot.TensorizedUniVariateFunctionFactory(familyColl, enumerateFunction)\nk = 3\nf = familyFunction.build(k)\nprint(\"input dimension = \", f.getInputDimension())\nprint(\"output dimension = \", f.getOutputDimension())"
      ]
    },
    {
      "cell_type": "markdown",
      "metadata": {},
      "source": [
        "If we want to use an orthogonal univariate polynomials family, then we have to cast the family\nin the  :class:`~openturns.OrthogonalUniVariatePolynomialFunctionFactory` class.\n\nFor example, we use the  Jacobi orthogonal univariate polynomials family.\n\n"
      ]
    },
    {
      "cell_type": "code",
      "execution_count": null,
      "metadata": {
        "collapsed": false
      },
      "outputs": [],
      "source": [
        "univFuncFamily_Jacobi = ot.OrthogonalUniVariatePolynomialFunctionFactory(\n    ot.JacobiFactory()\n)"
      ]
    },
    {
      "cell_type": "markdown",
      "metadata": {},
      "source": [
        "## Case 3:  Tensor product of orthogonal univariate polynomials\n\nIn that case, the univariate polynomials are orthogonal with respect to a measure $\\mu$.\n\nWe have the family of polynomials: $(x_i \\mapsto \\phi^i_k(x_i))_{k \\geq 0}$\nfor $1 \\leq i \\leq d$. The :meth:`enumerate` function stores of the\n:class:`~openturns.LinearEnumerateFunction` class the way\nthe multivariate basis is enumerated: *enumerate(n)* is a multi-index\n$(\\ell_1, \\dots, \\ell_d)$ such that the function number $n$\nis:\n\n\\begin{align}f_n(\\vect{x}) = \\prod_{i=1}^d \\phi^i_{\\ell_i}(x_i).\\end{align}\n\nWe use the  :class:`~openturns.OrthogonalProductPolynomialFactory` class.\n\nFor example, we consider : $f: \\mathbb{R}^2 \\mapsto \\mathbb{R}$, and:\n\n- dimension of $x_1$: the family of Jacobi polynomials: $(x_1 \\mapsto x_1^k){k \\geq 0}$,\n- dimension of $x_2$: the family of Hermite polynomials: $(x_2 \\mapsto \\phi^2_k(x_2))_{k \\geq 0}$.\n\n"
      ]
    },
    {
      "cell_type": "code",
      "execution_count": null,
      "metadata": {
        "collapsed": false
      },
      "outputs": [],
      "source": [
        "univFuncFamily_Jacobi = ot.JacobiFactory()\nunivFuncFamily_Hermite = ot.HermiteFactory()\nfamilyColl = [univFuncFamily_Jacobi, univFuncFamily_Hermite]\nenumerateFunction = ot.LinearEnumerateFunction(len(familyColl))\nfamilyFunction = ot.OrthogonalProductPolynomialFactory(familyColl, enumerateFunction)\nf = familyFunction.build(3)\nprint(\"input dimension = \", f.getInputDimension())\nprint(\"output dimension = \", f.getOutputDimension())"
      ]
    },
    {
      "cell_type": "markdown",
      "metadata": {},
      "source": [
        "We get the measure:\n\n"
      ]
    },
    {
      "cell_type": "code",
      "execution_count": null,
      "metadata": {
        "collapsed": false
      },
      "outputs": [],
      "source": [
        "measure_Jacobi = ot.JacobiFactory().getMeasure()\nmeasure_Hermite = ot.HermiteFactory().getMeasure()\nprint(\"Measure orthogonal to Jacobi polynomials = \", measure_Jacobi)\nprint(\"Measure orthogonal to Hermite polynomials = \", measure_Hermite)"
      ]
    },
    {
      "cell_type": "markdown",
      "metadata": {},
      "source": [
        "## Case 4: Tensor product of orthogonal univariate functions\n\nIn that case, the univariate functions are orthogonal with respect to a measure $\\mu$.\n\nWe have the family of functions: $(x_i \\mapsto \\phi^i_k(x_i))_{k \\geq 0}$\nfor $1 \\leq i \\leq d$. The $enumerate$ function of the :class:`~openturns.LinearEnumerateFunction`\nclass stores the way\nthe multivariate basis is enumerated: *enumerate(n)* is a multi-index\n$\\vect{\\alpha} = (\\alpha_1, \\dots, \\alpha_d)$ such that the function number *n* is:\n\n\\begin{align}f_n(\\vect{x}) = \\prod_{i=1}^d \\phi^i_{\\alpha_i}(x_i)\\end{align}\n\nWe use the :class:`~openturns.OrthogonalProductFunctionFactory` class.\n\n"
      ]
    },
    {
      "cell_type": "markdown",
      "metadata": {},
      "source": [
        "For example, we consider : $f: \\mathbb{R}^2 \\mapsto \\mathbb{R}$, and:\n\n- dimension $x_1$: the family of Haar wavelets: $(x_1 \\mapsto \\phi^1_k(x_1))_{k \\geq 0}$,\n- dimension $x_2$: the family of Fourier series functions: $(x_2 \\mapsto \\phi^2_k(x_2)){k \\geq 0}$.\n\n"
      ]
    },
    {
      "cell_type": "code",
      "execution_count": null,
      "metadata": {
        "collapsed": false
      },
      "outputs": [],
      "source": [
        "univFuncFamily_Haar = ot.HaarWaveletFactory()\nunivFuncFamily_Fourier = ot.FourierSeriesFactory()\nfamilyColl = [univFuncFamily_Haar, univFuncFamily_Fourier]\nenumerateFunction = ot.LinearEnumerateFunction(len(familyColl))\n\nfamilyFunction = ot.OrthogonalProductFunctionFactory(familyColl, enumerateFunction)\nk = 3\nf = familyFunction.build(k)"
      ]
    },
    {
      "cell_type": "markdown",
      "metadata": {},
      "source": [
        "We get the measure:\n\n"
      ]
    },
    {
      "cell_type": "code",
      "execution_count": null,
      "metadata": {
        "collapsed": false
      },
      "outputs": [],
      "source": [
        "measure_Haar = ot.HaarWaveletFactory().getMeasure()\nmeasure_Fourier = ot.FourierSeriesFactory().getMeasure()\nprint(\"Measure orthogonal to Haar wavelets = \", measure_Haar)\nprint(\"Measure orthogonal to Fourier series = \", measure_Fourier)"
      ]
    }
  ],
  "metadata": {
    "kernelspec": {
      "display_name": "Python 3",
      "language": "python",
      "name": "python3"
    },
    "language_info": {
      "codemirror_mode": {
        "name": "ipython",
        "version": 3
      },
      "file_extension": ".py",
      "mimetype": "text/x-python",
      "name": "python",
      "nbconvert_exporter": "python",
      "pygments_lexer": "ipython3",
      "version": "3.11.6"
    }
  },
  "nbformat": 4,
  "nbformat_minor": 0
}