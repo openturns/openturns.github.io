{
  "cells": [
    {
      "cell_type": "markdown",
      "metadata": {},
      "source": [
        "\n# Create a maximum entropy order statistics distribution\n"
      ]
    },
    {
      "cell_type": "markdown",
      "metadata": {},
      "source": [
        "## Context\n\nIn this example we illustrate how to build the joint distribution of the\nrandom vector $\\inputRV = (X_1, \\dots, X_n)$ which marginals are given\nand such that:\n\n\\begin{align}:label: orderConstraintEx\n\n   X_1 \\leq \\dots \\leq X_n \\quad \\mbox{almost surely}.\\end{align}\n\nThe class :class:`~openturns.MaximumEntropyOrderStatisticsDistribution` implements the joint\ndistribution of $\\inputRV$ that maximizes the entropy of  $\\inputRV$.\nSee [fischer2017]_ for more details.\n\nThe distribution of $\\inputRV$ is the distribution of the $n$ order statistics of a\ndistribution $Y$. We can write:\n\n\\begin{align}(X_1, \\dots, X_n) \\sim (Y_{(1)}, \\dots, Y_{(n)})\\end{align}\n\nIn that case, we do not know  $Y$ but we fix the marginals of its order\nstatistics distribution. If the $X_i \\sim \\beta(i, n-i+1)$, then $\\inputRV$ is the\njoint distribution of the $n$ order statistics of $Y \\sim \\cU([0,1])$.\n\nThe marginals of  $\\inputRV$ must be compatible with the order constraint :eq:`orderConstraint`.\nThe library checks this compatibility by default. It requires that if $F_i$\nis the CDF of $X_i$, then they must verify:\n\n\\begin{align}:label: orderConstraintCDFEx\n\n   F_1 \\geq F_2 \\geq \\dots \\geq F_n\\end{align}\n\nwhich implies that if $[a_i, b_i]$ is the numerical range of $X_i$, then:\n\n\\begin{align}a_i \\leq a_{i+1}\\\\\n   b_i \\leq b_{i+1}\\end{align}\n\n"
      ]
    },
    {
      "cell_type": "code",
      "execution_count": null,
      "metadata": {
        "collapsed": false
      },
      "outputs": [],
      "source": [
        "import openturns as ot\nimport openturns.viewer as otv\n\not.ResourceMap.SetAsString(\"Contour-DefaultColorMapNorm\", \"rank\")"
      ]
    },
    {
      "cell_type": "markdown",
      "metadata": {},
      "source": [
        "Create the distributions $X_i$:\n\n"
      ]
    },
    {
      "cell_type": "code",
      "execution_count": null,
      "metadata": {
        "collapsed": false
      },
      "outputs": [],
      "source": [
        "coll = [ot.Beta(1.5, 1.7, 0.0, 1.0), ot.Beta(2.0, 2.3, 0.5, 1.2)]"
      ]
    },
    {
      "cell_type": "markdown",
      "metadata": {},
      "source": [
        "Create the joint order statistics distribution with maximum entropy: the creation is a\nsuccess, which means that the marginals are compatible with the order constraint\n:eq:`orderConstraintEx` and fulfill :eq:`orderConstraintCDFEx`.\n\n"
      ]
    },
    {
      "cell_type": "code",
      "execution_count": null,
      "metadata": {
        "collapsed": false
      },
      "outputs": [],
      "source": [
        "jointDist = ot.MaximumEntropyOrderStatisticsDistribution(coll)"
      ]
    },
    {
      "cell_type": "markdown",
      "metadata": {},
      "source": [
        "Draw a sample: the components are well ordered.\n\n"
      ]
    },
    {
      "cell_type": "code",
      "execution_count": null,
      "metadata": {
        "collapsed": false
      },
      "outputs": [],
      "source": [
        "x_sample = jointDist.getSample(10)\nprint(x_sample)"
      ]
    },
    {
      "cell_type": "markdown",
      "metadata": {},
      "source": [
        "Draw PDF\n\n"
      ]
    },
    {
      "cell_type": "code",
      "execution_count": null,
      "metadata": {
        "collapsed": false
      },
      "outputs": [],
      "source": [
        "graph = jointDist.drawPDF()\ncontour = graph.getDrawable(0).getImplementation()\ncontour.setIsFilled(True)\ncontour.buildDefaultLevels(50)\ngraph.setDrawable(0, contour)\ngraph.setTitle(\"PDF of the Maximum Entropy Order Statistics Distribution\")\nview = otv.View(graph)"
      ]
    },
    {
      "cell_type": "markdown",
      "metadata": {},
      "source": [
        "Display all figures\n\n"
      ]
    },
    {
      "cell_type": "code",
      "execution_count": null,
      "metadata": {
        "collapsed": false
      },
      "outputs": [],
      "source": [
        "otv.View.ShowAll()"
      ]
    }
  ],
  "metadata": {
    "kernelspec": {
      "display_name": "Python 3",
      "language": "python",
      "name": "python3"
    },
    "language_info": {
      "codemirror_mode": {
        "name": "ipython",
        "version": 3
      },
      "file_extension": ".py",
      "mimetype": "text/x-python",
      "name": "python",
      "nbconvert_exporter": "python",
      "pygments_lexer": "ipython3",
      "version": "3.13.3"
    }
  },
  "nbformat": 4,
  "nbformat_minor": 0
}