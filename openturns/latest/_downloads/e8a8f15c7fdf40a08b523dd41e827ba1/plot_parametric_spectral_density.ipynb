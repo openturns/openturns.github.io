{
  "cells": [
    {
      "cell_type": "markdown",
      "metadata": {},
      "source": [
        "\n# Create a parametric spectral density function\n"
      ]
    },
    {
      "cell_type": "markdown",
      "metadata": {},
      "source": [
        "This example illustrates how the User can create a density spectral\nfunction from parametric models.\n\nThe library implements the *Cauchy spectral model* as a parametric model for the spectral density function\n$S$.\n\nThe library defines this model thanks to the object :class:`~openturns.CauchyModel`.\n\n"
      ]
    },
    {
      "cell_type": "code",
      "execution_count": null,
      "metadata": {
        "collapsed": false
      },
      "outputs": [],
      "source": [
        "import openturns as ot\n\not.Log.Show(ot.Log.NONE)"
      ]
    },
    {
      "cell_type": "markdown",
      "metadata": {},
      "source": [
        "1. Define a spectral density function from correlation matrix\n\n"
      ]
    },
    {
      "cell_type": "code",
      "execution_count": null,
      "metadata": {
        "collapsed": false
      },
      "outputs": [],
      "source": [
        "amplitude = [1.0, 2.0, 3.0]\nscale = [4.0, 5.0, 6.0]\nspatialCorrelation = ot.CorrelationMatrix(3)\nspatialCorrelation[0, 1] = 0.8\nspatialCorrelation[0, 2] = 0.6\nspatialCorrelation[1, 2] = 0.1\nspectralModel_Corr = ot.CauchyModel(amplitude, scale, spatialCorrelation)\nspectralModel_Corr"
      ]
    },
    {
      "cell_type": "markdown",
      "metadata": {},
      "source": [
        "2. Define a spectral density function from a covariance matrix\n\n"
      ]
    },
    {
      "cell_type": "code",
      "execution_count": null,
      "metadata": {
        "collapsed": false
      },
      "outputs": [],
      "source": [
        "spatialCovariance = ot.CovarianceMatrix(3)\nspatialCovariance[0, 0] = 4.0\nspatialCovariance[1, 1] = 5.0\nspatialCovariance[2, 2] = 6.0\nspatialCovariance[0, 1] = 1.2\nspatialCovariance[0, 2] = 0.9\nspatialCovariance[1, 2] = -0.2\nspectralModel_Cov = ot.CauchyModel(scale, spatialCovariance)\nspectralModel_Cov"
      ]
    }
  ],
  "metadata": {
    "kernelspec": {
      "display_name": "Python 3",
      "language": "python",
      "name": "python3"
    },
    "language_info": {
      "codemirror_mode": {
        "name": "ipython",
        "version": 3
      },
      "file_extension": ".py",
      "mimetype": "text/x-python",
      "name": "python",
      "nbconvert_exporter": "python",
      "pygments_lexer": "ipython3",
      "version": "3.12.7"
    }
  },
  "nbformat": 4,
  "nbformat_minor": 0
}