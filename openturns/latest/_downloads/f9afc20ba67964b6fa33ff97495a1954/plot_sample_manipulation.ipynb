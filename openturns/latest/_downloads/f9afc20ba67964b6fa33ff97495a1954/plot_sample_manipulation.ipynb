{
  "cells": [
    {
      "cell_type": "code",
      "execution_count": null,
      "metadata": {
        "collapsed": false
      },
      "outputs": [],
      "source": [
        "%matplotlib inline"
      ]
    },
    {
      "cell_type": "markdown",
      "metadata": {},
      "source": [
        "\n# Sample manipulation\n"
      ]
    },
    {
      "cell_type": "markdown",
      "metadata": {},
      "source": [
        "This example will describe the main statistical functionalities on data through the Sample object. The Sample is an output variable of interest.\n\n"
      ]
    },
    {
      "cell_type": "code",
      "execution_count": null,
      "metadata": {
        "collapsed": false
      },
      "outputs": [],
      "source": [
        "from __future__ import print_function\nimport openturns as ot\not.Log.Show(ot.Log.NONE)"
      ]
    },
    {
      "cell_type": "markdown",
      "metadata": {},
      "source": [
        "## A typical example\n\n"
      ]
    },
    {
      "cell_type": "markdown",
      "metadata": {},
      "source": [
        "A recurring issue in uncertainty quantification is to perform analysis on an output variable of interest Y obtained through a model `f` and input parameters `X`.\nHere we shall consider the input parameters as two independent standard normal distributions $X=(X_1, X_2)$. We therefore use an `IndependentCopula` to describe the link between the two marginals.\n\n\n"
      ]
    },
    {
      "cell_type": "code",
      "execution_count": null,
      "metadata": {
        "collapsed": false
      },
      "outputs": [],
      "source": [
        "# input parameters\ninputDist = ot.ComposedDistribution([ot.Normal()] * 2, ot.IndependentCopula(2))\ninputDist.setDescription(['X1', 'X2'])"
      ]
    },
    {
      "cell_type": "markdown",
      "metadata": {},
      "source": [
        "We create a vector from the 2D-distribution created before :\n\n"
      ]
    },
    {
      "cell_type": "code",
      "execution_count": null,
      "metadata": {
        "collapsed": false
      },
      "outputs": [],
      "source": [
        "inputVector = ot.RandomVector(inputDist)"
      ]
    },
    {
      "cell_type": "markdown",
      "metadata": {},
      "source": [
        "Suppose our model `f` is known and reads as :\n\n\\begin{align}f(X) = \\begin{pmatrix}\n            x_1^2 + x_2 \\\\ \n            x_1   + x_2^2 \n          \\end{pmatrix}\\end{align}\n\nWe define our model `f` with a `SymbolicFunction` \n\n"
      ]
    },
    {
      "cell_type": "code",
      "execution_count": null,
      "metadata": {
        "collapsed": false
      },
      "outputs": [],
      "source": [
        "f = ot.SymbolicFunction([\"x1\", \"x2\"], [\"x1^2+x2\", \"x2^2+x1\"])"
      ]
    },
    {
      "cell_type": "markdown",
      "metadata": {},
      "source": [
        "Our output vector is Y=f(X), the image of the inputVector by the model\n\n"
      ]
    },
    {
      "cell_type": "code",
      "execution_count": null,
      "metadata": {
        "collapsed": false
      },
      "outputs": [],
      "source": [
        "outputVector = ot.CompositeRandomVector(f, inputVector)"
      ]
    },
    {
      "cell_type": "markdown",
      "metadata": {},
      "source": [
        "We can now get a sample out of Y, that is realizations (here 1000) of the random outputVector\n\n"
      ]
    },
    {
      "cell_type": "code",
      "execution_count": null,
      "metadata": {
        "collapsed": false
      },
      "outputs": [],
      "source": [
        "size = 1000\nsample = outputVector.getSample(size)"
      ]
    },
    {
      "cell_type": "markdown",
      "metadata": {},
      "source": [
        "The `sample` may be seen as a matrix of size $1000 \\times 2$. We print the 5 first samples (out of 1000) :\n\n"
      ]
    },
    {
      "cell_type": "code",
      "execution_count": null,
      "metadata": {
        "collapsed": false
      },
      "outputs": [],
      "source": [
        "sample[:5]"
      ]
    },
    {
      "cell_type": "markdown",
      "metadata": {},
      "source": [
        "## Basic operations on samples\nWe have access to basic information about a sample such as \n\n- minimum and maximum per component\n\n\n"
      ]
    },
    {
      "cell_type": "code",
      "execution_count": null,
      "metadata": {
        "collapsed": false
      },
      "outputs": [],
      "source": [
        "sample.getMin(), sample.getMax()"
      ]
    },
    {
      "cell_type": "markdown",
      "metadata": {},
      "source": [
        "- the range per component (max-min)\n\n\n"
      ]
    },
    {
      "cell_type": "code",
      "execution_count": null,
      "metadata": {
        "collapsed": false
      },
      "outputs": [],
      "source": [
        "sample.computeRange()"
      ]
    },
    {
      "cell_type": "markdown",
      "metadata": {},
      "source": [
        "More elaborate functionalities are also available :\n\n\n"
      ]
    },
    {
      "cell_type": "markdown",
      "metadata": {},
      "source": [
        "- get the median per component\n\n\n"
      ]
    },
    {
      "cell_type": "code",
      "execution_count": null,
      "metadata": {
        "collapsed": false
      },
      "outputs": [],
      "source": [
        "sample.computeMedian()"
      ]
    },
    {
      "cell_type": "markdown",
      "metadata": {},
      "source": [
        "- compute the covariance\n\n\n"
      ]
    },
    {
      "cell_type": "code",
      "execution_count": null,
      "metadata": {
        "collapsed": false
      },
      "outputs": [],
      "source": [
        "sample.computeCovariance()"
      ]
    },
    {
      "cell_type": "markdown",
      "metadata": {},
      "source": [
        "- get the empirical 0.95 quantile per component\n\n\n"
      ]
    },
    {
      "cell_type": "code",
      "execution_count": null,
      "metadata": {
        "collapsed": false
      },
      "outputs": [],
      "source": [
        "sample.computeQuantilePerComponent(0.95)"
      ]
    },
    {
      "cell_type": "markdown",
      "metadata": {},
      "source": [
        "- get the value of the empirical CDF at a point\n\n\n"
      ]
    },
    {
      "cell_type": "code",
      "execution_count": null,
      "metadata": {
        "collapsed": false
      },
      "outputs": [],
      "source": [
        "point = [1.1, 2.2]\nsample.computeEmpiricalCDF(point)"
      ]
    },
    {
      "cell_type": "markdown",
      "metadata": {},
      "source": [
        "## Estimate the statistical moments\n\n"
      ]
    },
    {
      "cell_type": "markdown",
      "metadata": {},
      "source": [
        "Oftentimes, we need to estimate the first moments of the output data. We can then estimate statistical moments from the output sample :\n\n"
      ]
    },
    {
      "cell_type": "markdown",
      "metadata": {},
      "source": [
        "- estimate the moment of order 1 : mean\n\n\n"
      ]
    },
    {
      "cell_type": "code",
      "execution_count": null,
      "metadata": {
        "collapsed": false
      },
      "outputs": [],
      "source": [
        "sample.computeMean()"
      ]
    },
    {
      "cell_type": "markdown",
      "metadata": {},
      "source": [
        "- estimate the standard deviation for each component\n\n\n"
      ]
    },
    {
      "cell_type": "code",
      "execution_count": null,
      "metadata": {
        "collapsed": false
      },
      "outputs": [],
      "source": [
        "sample.computeStandardDeviation()"
      ]
    },
    {
      "cell_type": "markdown",
      "metadata": {},
      "source": [
        "- estimate the moment of order 2 : variance\n\n\n"
      ]
    },
    {
      "cell_type": "code",
      "execution_count": null,
      "metadata": {
        "collapsed": false
      },
      "outputs": [],
      "source": [
        "sample.computeVariance()"
      ]
    },
    {
      "cell_type": "markdown",
      "metadata": {},
      "source": [
        "- estimate the moment of order 3 : skewness\n\n\n"
      ]
    },
    {
      "cell_type": "code",
      "execution_count": null,
      "metadata": {
        "collapsed": false
      },
      "outputs": [],
      "source": [
        "sample.computeSkewness()"
      ]
    },
    {
      "cell_type": "markdown",
      "metadata": {},
      "source": [
        "- estimate the moment of order 4 : kurtosis\n\n\n"
      ]
    },
    {
      "cell_type": "code",
      "execution_count": null,
      "metadata": {
        "collapsed": false
      },
      "outputs": [],
      "source": [
        "sample.computeKurtosis()"
      ]
    },
    {
      "cell_type": "markdown",
      "metadata": {},
      "source": [
        "## Test the correlation\n\n"
      ]
    },
    {
      "cell_type": "markdown",
      "metadata": {},
      "source": [
        "Some statistical test for correlation are available :\n\n- get the sample Pearson correlation matrix :\n\n\n"
      ]
    },
    {
      "cell_type": "code",
      "execution_count": null,
      "metadata": {
        "collapsed": false
      },
      "outputs": [],
      "source": [
        "sample.computePearsonCorrelation()"
      ]
    },
    {
      "cell_type": "markdown",
      "metadata": {},
      "source": [
        "- get  the sample Kendall correlation matrix :\n\n\n"
      ]
    },
    {
      "cell_type": "code",
      "execution_count": null,
      "metadata": {
        "collapsed": false
      },
      "outputs": [],
      "source": [
        "sample.computeKendallTau()"
      ]
    },
    {
      "cell_type": "markdown",
      "metadata": {},
      "source": [
        "- get  the sample Spearman correlation matrix :\n\n\n"
      ]
    },
    {
      "cell_type": "code",
      "execution_count": null,
      "metadata": {
        "collapsed": false
      },
      "outputs": [],
      "source": [
        "sample.computeSpearmanCorrelation()"
      ]
    }
  ],
  "metadata": {
    "kernelspec": {
      "display_name": "Python 3",
      "language": "python",
      "name": "python3"
    },
    "language_info": {
      "codemirror_mode": {
        "name": "ipython",
        "version": 3
      },
      "file_extension": ".py",
      "mimetype": "text/x-python",
      "name": "python",
      "nbconvert_exporter": "python",
      "pygments_lexer": "ipython3",
      "version": "3.9.3"
    }
  },
  "nbformat": 4,
  "nbformat_minor": 0
}