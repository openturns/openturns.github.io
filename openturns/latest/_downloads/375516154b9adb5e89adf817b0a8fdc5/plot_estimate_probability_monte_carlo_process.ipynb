{
  "cells": [
    {
      "cell_type": "markdown",
      "metadata": {},
      "source": [
        "\n# Estimate a process-based event probability\n"
      ]
    },
    {
      "cell_type": "markdown",
      "metadata": {},
      "source": [
        "The objective of this example is to evaluate the probability of an\nevent based on a stochastic process, using the Monte Carlo estimator.\n\nLet $X: \\Omega \\times \\mathcal{D} \\rightarrow \\mathbb{R}^d$ be a stochastic process\nof dimension $d$, where $\\mathcal{D} \\in \\mathbb{R}^n$ is discretized on the mesh\n$\\mathcal{M}$.\n\nWe define the event $\\mathcal{E}$ as:\n\n\\begin{align}\\begin{aligned}\n     \\displaystyle \\mathcal{E}(X) = \\bigcup_{\\underline{t}\\in \\mathcal{M}}\\left\\{X_{\\underline{t}}  \\in \\mathcal{A}  \\right\\}\n   \\end{aligned}\\end{align}\n\nwhere $\\mathcal{A}$ is a domain of $\\mathbb{R}^d$.\n\nWe estimate the probabilty $p=\\mathbb{P}\\left(\\mathcal{E}(X)\\right)$ with the Monte Carlo\nestimator.\n\nThe Monte Carlo algorithm is manipulated the same way as in the case\nwhere the event is based on a random variable independent of time.\n\nWe illustrate the algorithm on the example of the bidimensionnal white\nnoise process $\\varepsilon: \\Omega \\times \\mathcal{D} \\rightarrow \\mathbb{R}^2$ where\n$\\mathcal{D}\\in \\mathbb{R}$, distributed according to the bidimensionnal standard\nnormal distribution (with zero mean, unit variance and independent\nmarginals).\n\nWe consider the domain $\\mathcal{A} =  [1,2] \\times [1,2]$. Then the event $\\mathcal{E}$ writes:\n\n\\begin{align}\\begin{aligned}\n     \\displaystyle \\mathcal{E}(\\varepsilon) = \\bigcup_{\\underline{t}\\in \\mathcal{M}}\\left\\{\\varepsilon_{t}  \\in \\mathcal{A}  \\right\\}\n   \\end{aligned}\\end{align}\n\nFor all time stamps $t \\in \\mathcal{M}$, the probability $p_1$ that the process\nenters into the domain $\\mathcal{A}$ at time $t$ writes, using the independence\nproperty of the marginals:\n\n\\begin{align}\\begin{aligned}\n     p_1 = \\mathbb{P}\\left(\\varepsilon_t  \\in \\mathcal{A}\\right) = (\\Phi(2) - \\Phi(1))^2\n   \\end{aligned}\\end{align}\n\nwith $\\Phi$ the cumulative distribution function of the scalar standard *Normal* distribution.\n\nAs the process is discretized on a time grid of size $N$ and using the\nindependence property of the white noise between two different time\nstamps and the fact that the white noise follows the same distribution\nat each time $t$, the final probability $p$ writes:\n\n\\begin{align}p = \\mathbb{P}\\left(\\mathcal{E}(\\varepsilon)\\right) = 1 - (1 - p_1)^{N}\\end{align}\n\nWith $K=10^4$ realizations, using the Monte Carlo estimator, we obtain $p_K = 0.1627$,\nto be compared to the exact value $p=0.17008$ for a time grid of size $N=10$.\n\n"
      ]
    },
    {
      "cell_type": "code",
      "execution_count": null,
      "metadata": {
        "collapsed": false
      },
      "outputs": [],
      "source": [
        "import openturns as ot\nimport openturns.viewer as viewer\nfrom matplotlib import pylab as plt\n\not.Log.Show(ot.Log.NONE)"
      ]
    },
    {
      "cell_type": "markdown",
      "metadata": {},
      "source": [
        "Create a time grid\n\n"
      ]
    },
    {
      "cell_type": "code",
      "execution_count": null,
      "metadata": {
        "collapsed": false
      },
      "outputs": [],
      "source": [
        "tMin = 0.0\ntimeStep = 0.1\nn = 100\ntgrid = ot.RegularGrid(tMin, timeStep, n)"
      ]
    },
    {
      "cell_type": "markdown",
      "metadata": {},
      "source": [
        "Create a normal process\n\n"
      ]
    },
    {
      "cell_type": "code",
      "execution_count": null,
      "metadata": {
        "collapsed": false
      },
      "outputs": [],
      "source": [
        "amplitude = [5.0]\nscale = [3.0]\nmodel = ot.ExponentialModel(scale, amplitude)\nprocess = ot.GaussianProcess(model, tgrid)"
      ]
    },
    {
      "cell_type": "markdown",
      "metadata": {},
      "source": [
        "Create the 1-d domain A: [2.,5.]\n\n"
      ]
    },
    {
      "cell_type": "code",
      "execution_count": null,
      "metadata": {
        "collapsed": false
      },
      "outputs": [],
      "source": [
        "lowerBound = [2.0]\nupperBound = [5.0]\ndomain = ot.Interval(lowerBound, upperBound)"
      ]
    },
    {
      "cell_type": "markdown",
      "metadata": {},
      "source": [
        "Create an event from a Process and a Domain\n\n"
      ]
    },
    {
      "cell_type": "code",
      "execution_count": null,
      "metadata": {
        "collapsed": false
      },
      "outputs": [],
      "source": [
        "event = ot.ProcessEvent(process, domain)"
      ]
    },
    {
      "cell_type": "markdown",
      "metadata": {},
      "source": [
        "Create the Monte-Carlo algorithm\n\n"
      ]
    },
    {
      "cell_type": "code",
      "execution_count": null,
      "metadata": {
        "collapsed": false
      },
      "outputs": [],
      "source": [
        "montecarlo = ot.ProbabilitySimulationAlgorithm(event)\n\n# Define the maximum number of simulations\nmontecarlo.setMaximumOuterSampling(1000)\n\n# Define the block size\nmontecarlo.setBlockSize(100)\n\n# Define the maximum coefficient of variation\nmontecarlo.setMaximumCoefficientOfVariation(0.0025)\n\n# Run the algorithm\nmontecarlo.run()\n\n# Get the result\nmontecarlo.getResult()"
      ]
    },
    {
      "cell_type": "code",
      "execution_count": null,
      "metadata": {
        "collapsed": false
      },
      "outputs": [],
      "source": [
        "graph = montecarlo.drawProbabilityConvergence(0.95)\nview = viewer.View(graph)\nplt.show()"
      ]
    }
  ],
  "metadata": {
    "kernelspec": {
      "display_name": "Python 3",
      "language": "python",
      "name": "python3"
    },
    "language_info": {
      "codemirror_mode": {
        "name": "ipython",
        "version": 3
      },
      "file_extension": ".py",
      "mimetype": "text/x-python",
      "name": "python",
      "nbconvert_exporter": "python",
      "pygments_lexer": "ipython3",
      "version": "3.12.7"
    }
  },
  "nbformat": 4,
  "nbformat_minor": 0
}