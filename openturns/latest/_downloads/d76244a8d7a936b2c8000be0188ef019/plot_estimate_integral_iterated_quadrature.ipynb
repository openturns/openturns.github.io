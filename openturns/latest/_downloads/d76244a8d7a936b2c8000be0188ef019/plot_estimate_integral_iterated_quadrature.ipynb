{
  "cells": [
    {
      "cell_type": "markdown",
      "metadata": {},
      "source": [
        "\n# Estimate an integral\n"
      ]
    },
    {
      "cell_type": "markdown",
      "metadata": {},
      "source": [
        "In this example we are going to evaluate an integral of the form.\n\n\\begin{align}I_f = \\int_{a}^{b}\\, \\int_{l_1(x_0)}^{u_1(x_0)}\\, \\int_{l_2(x_0, x_1)}^{u_2(x_0,x_1)}\\, \\int_{l_{n-1}(x_0, \\dots, x_{n-2})}^{u_{n-1}(x_0, \\dots, x_{n-2})}\n   \\, f(x_0, \\dots, x_{n-1})\\mathrm{d}{x_{n-1}}\\dots\\mathrm{d}{x_0}\\end{align}\n\nwith the iterated quadrature algorithm.\n\n"
      ]
    },
    {
      "cell_type": "code",
      "execution_count": null,
      "metadata": {
        "collapsed": false
      },
      "outputs": [],
      "source": [
        "import openturns as ot\nimport openturns.viewer as viewer\nfrom matplotlib import pylab as plt\nimport math as m\n\not.Log.Show(ot.Log.NONE)"
      ]
    },
    {
      "cell_type": "markdown",
      "metadata": {},
      "source": [
        "define the integrand and the bounds\n\n"
      ]
    },
    {
      "cell_type": "code",
      "execution_count": null,
      "metadata": {
        "collapsed": false
      },
      "outputs": [],
      "source": [
        "a = -m.pi\nb = m.pi\nf = ot.SymbolicFunction([\"x\", \"y\"], [\"1+cos(x)*sin(y)\"])\nll = [ot.SymbolicFunction([\"x\"], [\" 2+cos(x)\"])]\nu = [ot.SymbolicFunction([\"x\"], [\"-2-cos(x)\"])]"
      ]
    },
    {
      "cell_type": "markdown",
      "metadata": {},
      "source": [
        "Draw the graph of the integrand and the bounds\n\n"
      ]
    },
    {
      "cell_type": "code",
      "execution_count": null,
      "metadata": {
        "collapsed": false
      },
      "outputs": [],
      "source": [
        "g = ot.Graph(\"Integration nodes\", \"x\", \"y\", True, \"topright\")\ng.add(f.draw([a, a], [b, b]))\ncurve = ll[0].draw(a, b).getDrawable(0)\ncurve.setLineWidth(2)\ncurve.setColor(\"red\")\ng.add(curve)\ncurve = u[0].draw(a, b).getDrawable(0)\ncurve.setLineWidth(2)\ncurve.setColor(\"red\")\ng.add(curve)\nview = viewer.View(g)"
      ]
    },
    {
      "cell_type": "markdown",
      "metadata": {},
      "source": [
        "compute the integral value\n\n"
      ]
    },
    {
      "cell_type": "code",
      "execution_count": null,
      "metadata": {
        "collapsed": false
      },
      "outputs": [],
      "source": [
        "I2 = ot.IteratedQuadrature().integrate(f, a, b, ll, u)\nprint(I2)\nplt.show()"
      ]
    }
  ],
  "metadata": {
    "kernelspec": {
      "display_name": "Python 3",
      "language": "python",
      "name": "python3"
    },
    "language_info": {
      "codemirror_mode": {
        "name": "ipython",
        "version": 3
      },
      "file_extension": ".py",
      "mimetype": "text/x-python",
      "name": "python",
      "nbconvert_exporter": "python",
      "pygments_lexer": "ipython3",
      "version": "3.11.3"
    }
  },
  "nbformat": 4,
  "nbformat_minor": 0
}