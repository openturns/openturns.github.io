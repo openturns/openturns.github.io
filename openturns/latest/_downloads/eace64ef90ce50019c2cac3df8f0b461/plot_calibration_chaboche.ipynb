{
  "cells": [
    {
      "cell_type": "markdown",
      "metadata": {},
      "source": [
        "\n# Calibration of the Chaboche mechanical model\n\nIn this example we present calibration methods on the Chaboche model.\nA detailed explanation of this mechanical law is presented `here <use-case-chaboche>`.\nAs we are going to see, this model is relatively simple to calibrate:\nits parameters are identifiable and the output is relatively sensitive\nto the variation of the parameters.\nHence, all methods perform correctly in this case.\n\nIn this example, we use both least squares methods and Bayesian Gaussian\nmethods.\nPlease read `code_calibration` for more details on code calibration\nand least squares and read `gaussian_calibration` for more details\non Gaussian calibration.\n\n## Parameters to calibrate and observations\n\nThe vector of parameters to calibrate is:\n\n\\begin{align}\\theta = (R,C,\\gamma).\\end{align}\n\nWe consider a data set where the number of observations is equal to:\n\n\\begin{align}n = 10.\\end{align}\n\n\nThe observations are the pairs $\\{(\\epsilon_i,\\sigma_i)\\}_{i=1,...,n}$,\ni.e. each observation is a couple made of the strain and the corresponding stress.\n\nIn the particular situation where we want to calibrate this model, the following\nlist presents which variables are observed input variables, input calibrated\nvariables and observed output variables.\n\n- $\\epsilon$: Input. Observed.\n- $R$, $C$, $\\gamma$ : Inputs. Calibrated.\n- $\\sigma$: Output. Observed.\n"
      ]
    },
    {
      "cell_type": "code",
      "execution_count": null,
      "metadata": {
        "collapsed": false
      },
      "outputs": [],
      "source": [
        "import openturns as ot\nimport openturns.viewer as otv\nfrom matplotlib import pylab as plt\nfrom openturns.usecases import chaboche_model\n\not.Log.Show(ot.Log.NONE)"
      ]
    },
    {
      "cell_type": "markdown",
      "metadata": {},
      "source": [
        "## Define the observations\nIn practice, we generally use a data set which has been obtained from\nmeasurements.\nThis data set can be loaded using e.g. :meth:`~openturns.Sample.ImportFromCSVFile`.\nHere we import the data from the\n:class:`~openturns.usecases.chaboche_model.ChabocheModel`\nclass.\n\n"
      ]
    },
    {
      "cell_type": "code",
      "execution_count": null,
      "metadata": {
        "collapsed": false
      },
      "outputs": [],
      "source": [
        "ot.RandomGenerator.SetSeed(0)\ncm = chaboche_model.ChabocheModel()\nprint(cm.data)\nobservedStrain = cm.data[:, 0]\nobservedStress = cm.data[:, 1]\nnbobs = cm.data.getSize()"
      ]
    },
    {
      "cell_type": "markdown",
      "metadata": {},
      "source": [
        "Print the Chaboche model\n\n"
      ]
    },
    {
      "cell_type": "code",
      "execution_count": null,
      "metadata": {
        "collapsed": false
      },
      "outputs": [],
      "source": [
        "print(\"Inputs:\", cm.model.getInputDescription())\nprint(\"Outputs:\", cm.model.getOutputDescription())"
      ]
    },
    {
      "cell_type": "markdown",
      "metadata": {},
      "source": [
        "We see that there are four inputs: `Strain`, `R`, `C` and `Gamma` and one\noutput: `Sigma`.\nThe `Strain` is observed on input and the stress `Sigma` is observed on\noutput.\nUsing these observations, we want to estimate the parameters `R`, `C`\nand `Gamma`.\n\n"
      ]
    },
    {
      "cell_type": "markdown",
      "metadata": {},
      "source": [
        "## Set the calibration parameters\nIn this part, we begin the calibration study.\nDefine the value of the reference values of the $\\theta$ parameter.\nIn the Bayesian framework, this is called the mean of the *prior* Gaussian\ndistribution. In the data assimilation framework, this is called the *background*.\n\n"
      ]
    },
    {
      "cell_type": "code",
      "execution_count": null,
      "metadata": {
        "collapsed": false
      },
      "outputs": [],
      "source": [
        "R = 700e6  # Exact : 750e6\nC = 2500e6  # Exact : 2750e6\nGamma = 8.0  # Exact : 10\nthetaPrior = [R, C, Gamma]"
      ]
    },
    {
      "cell_type": "markdown",
      "metadata": {},
      "source": [
        "In the physical model, the inputs and parameters are ordered as\npresented in the next table.\nNotice that there are no parameters in the physical model.\n\n+-------+----------------+\n| Index | Input variable |\n+=======+================+\n| 0     | Strain         |\n+-------+----------------+\n| 1     | R              |\n+-------+----------------+\n| 2     | C              |\n+-------+----------------+\n| 3     | Gamma          |\n+-------+----------------+\n\n+-------+-----------+\n| Index | Parameter |\n+=======+===========+\n| \u2205     | \u2205         |\n+-------+-----------+\n\n**Table 1.** Indices and names of the inputs and parameters of the physical model.\n\n\n"
      ]
    },
    {
      "cell_type": "code",
      "execution_count": null,
      "metadata": {
        "collapsed": false
      },
      "outputs": [],
      "source": [
        "print(\"Physical Model Inputs:\", cm.model.getInputDescription())\nprint(\"Physical Model Parameters:\", cm.model.getParameterDescription())"
      ]
    },
    {
      "cell_type": "markdown",
      "metadata": {},
      "source": [
        "In order to perform calibration, we have to define a parametric model,\nwith observed inputs and parameters to calibrate.\nIn order to do this, we create a :class:`~openturns.ParametricFunction` where the parameters\nare `R`, `C` and `Gamma` which have the indices 1, 2 and 3 in the physical model.\n\n+-------+----------------+\n| Index | Input variable |\n+=======+================+\n| 0     | Strain         |\n+-------+----------------+\n\n+-------+-----------+\n| Index | Parameter |\n+=======+===========+\n| 0     | R         |\n+-------+-----------+\n| 1     | C         |\n+-------+-----------+\n| 3     | Gamma     |\n+-------+-----------+\n\n**Table 2.** Indices and names of the inputs and parameters of the parametric model.\n\n\n"
      ]
    },
    {
      "cell_type": "markdown",
      "metadata": {},
      "source": [
        "The following statement create the calibrated function from the model.\nThe calibrated parameters `R`, `C`, `Gamma` are at indices 1, 2, 3 in\nthe inputs arguments of the model.\n\n"
      ]
    },
    {
      "cell_type": "code",
      "execution_count": null,
      "metadata": {
        "collapsed": false
      },
      "outputs": [],
      "source": [
        "calibratedIndices = [1, 2, 3]\nmycf = ot.ParametricFunction(cm.model, calibratedIndices, thetaPrior)"
      ]
    },
    {
      "cell_type": "markdown",
      "metadata": {},
      "source": [
        "Then we plot the model and compare it to the observations.\n\n"
      ]
    },
    {
      "cell_type": "code",
      "execution_count": null,
      "metadata": {
        "collapsed": false
      },
      "outputs": [],
      "source": [
        "graph = ot.Graph(\"Model before calibration\", \"Strain\", \"Stress (MPa)\", True)\n# Plot the model\ncurve = mycf.draw(cm.strainMin, cm.strainMax, 50).getDrawable(0)\ncurve.setLegend(\"Model before calibration\")\ncurve.setLineStyle(ot.ResourceMap.GetAsString(\"CalibrationResult-ObservationLineStyle\"))\ngraph.add(curve)\n# Plot the noisy observations\ncloud = ot.Cloud(observedStrain, observedStress)\ncloud.setLegend(\"Observations\")\ncloud.setPointStyle(\n    ot.ResourceMap.GetAsString(\"CalibrationResult-ObservationPointStyle\")\n)\ngraph.add(cloud)\ngraph.setLegendPosition(\"upper left\")\nview = otv.View(graph)"
      ]
    },
    {
      "cell_type": "markdown",
      "metadata": {},
      "source": [
        "We see that the observations are relatively noisy, but that the\ntrend is clear: this shows that it may be possible to fit the model.\nAt this point, we have a data set that we can use for calibration\nand a model to calibrate.\n\n"
      ]
    },
    {
      "cell_type": "markdown",
      "metadata": {},
      "source": [
        "## Calibration with linear least squares\nThe :class:`~openturns.LinearLeastSquaresCalibration` class performs the\nlinear least squares\ncalibration by linearizing the model in the neighbourhood of the reference point.\n\n"
      ]
    },
    {
      "cell_type": "code",
      "execution_count": null,
      "metadata": {
        "collapsed": false
      },
      "outputs": [],
      "source": [
        "algo = ot.LinearLeastSquaresCalibration(\n    mycf, observedStrain, observedStress, thetaPrior, \"SVD\"\n)"
      ]
    },
    {
      "cell_type": "markdown",
      "metadata": {},
      "source": [
        "The :meth:`~openturns.LinearLeastSquaresCalibration.run` method computes\nthe solution of the problem.\n\n"
      ]
    },
    {
      "cell_type": "code",
      "execution_count": null,
      "metadata": {
        "collapsed": false
      },
      "outputs": [],
      "source": [
        "algo.run()\ncalibrationResult = algo.getResult()"
      ]
    },
    {
      "cell_type": "markdown",
      "metadata": {},
      "source": [
        "## Analysis of the results\nThe :meth:`~openturns.CalibrationResult.getParameterMAP` method\nreturns the maximum of the posterior density of $\\theta$.\n\n"
      ]
    },
    {
      "cell_type": "code",
      "execution_count": null,
      "metadata": {
        "collapsed": false
      },
      "outputs": [],
      "source": [
        "def printRCGamma(parameter, indentation=\"   \"):\n    \"\"\"\n    Print the [R, C, Gamma] vector with readable units.\n    \"\"\"\n    print(indentation, \"R = %.1f (MPa)\" % (parameter[0] / 1.0e6))\n    print(indentation, \"C = %.1f (MPa)\" % (parameter[1] / 1.0e6))\n    print(indentation, \"Gamma = %.4f\" % (parameter[2]))\n    return None"
      ]
    },
    {
      "cell_type": "code",
      "execution_count": null,
      "metadata": {
        "collapsed": false
      },
      "outputs": [],
      "source": [
        "thetaMAP = calibrationResult.getParameterMAP()\nprint(\"theta After = \")\nprintRCGamma(thetaMAP)\nprint(\"theta Before = \")\nprintRCGamma(thetaPrior)\nprint(\"theta True = \")\nthetaTrue = [cm.trueR, cm.trueC, cm.trueGamma]\nprintRCGamma(thetaTrue)"
      ]
    },
    {
      "cell_type": "markdown",
      "metadata": {},
      "source": [
        "We can compute a 95% confidence interval of the parameter $\\theta^\\star$.\n\n"
      ]
    },
    {
      "cell_type": "code",
      "execution_count": null,
      "metadata": {
        "collapsed": false
      },
      "outputs": [],
      "source": [
        "def printRCGammaInterval(interval, indentation=\"   \"):\n    \"\"\"\n    Print the [R, C, Gamma] C.I. with readable units.\n    \"\"\"\n    lowerBound = interval.getLowerBound()\n    upperBound = interval.getUpperBound()\n    print(\n        indentation,\n        \"R in [%.1f, %.1f]\" % (lowerBound[0] / 1.0e6, upperBound[0] / 1.0e6),\n    )\n    print(\n        indentation,\n        \"C in [%.1f, %.1f]\" % (lowerBound[1] / 1.0e6, upperBound[1] / 1.0e6),\n    )\n    print(indentation, \"Gamma in [%.4f, %.4f]\" % (lowerBound[2], upperBound[2]))\n    return None"
      ]
    },
    {
      "cell_type": "code",
      "execution_count": null,
      "metadata": {
        "collapsed": false
      },
      "outputs": [],
      "source": [
        "thetaPosterior = calibrationResult.getParameterPosterior()\ninterval = thetaPosterior.computeBilateralConfidenceIntervalWithMarginalProbability(\n    0.95\n)[0]\nprint(\"95% C.I.:\")\nprintRCGammaInterval(interval)"
      ]
    },
    {
      "cell_type": "markdown",
      "metadata": {},
      "source": [
        "We can see that the $\\gamma$ parameter has a large confidence interval\nrelative to the true value of the parameter:\neven the sign of the parameter is unknown.\nThe parameter which is calibrated with the smallest (relative) confidence\ninterval is $R$.\nThis is why this parameter seems to be the most important in this case.\n\n"
      ]
    },
    {
      "cell_type": "markdown",
      "metadata": {},
      "source": [
        "Increase the default number of points in the plots.\nThis produces smoother spiky distributions.\n\n"
      ]
    },
    {
      "cell_type": "code",
      "execution_count": null,
      "metadata": {
        "collapsed": false
      },
      "outputs": [],
      "source": [
        "ot.ResourceMap.SetAsUnsignedInteger(\"Distribution-DefaultPointNumber\", 300)"
      ]
    },
    {
      "cell_type": "markdown",
      "metadata": {},
      "source": [
        "We now plot the predicted output stress depending on the input\nstrain before and after calibration.\n\n"
      ]
    },
    {
      "cell_type": "code",
      "execution_count": null,
      "metadata": {
        "collapsed": false
      },
      "outputs": [],
      "source": [
        "# sphinx_gallery_thumbnail_number = 3\ngraph = calibrationResult.drawObservationsVsInputs()\ngraph.setLegendPosition(\"upper left\")\nview = otv.View(graph)"
      ]
    },
    {
      "cell_type": "markdown",
      "metadata": {},
      "source": [
        "We see that there is a good fit after calibration, since the predictions\nafter calibration are close to the observations.\n\n"
      ]
    },
    {
      "cell_type": "markdown",
      "metadata": {},
      "source": [
        "We can also plot the predicted stress depending on the observed stress.\n\n"
      ]
    },
    {
      "cell_type": "code",
      "execution_count": null,
      "metadata": {
        "collapsed": false
      },
      "outputs": [],
      "source": [
        "graph = calibrationResult.drawObservationsVsPredictions()\nview = otv.View(graph)"
      ]
    },
    {
      "cell_type": "markdown",
      "metadata": {},
      "source": [
        "We see that there is a much better fit after calibration, since the\npredictions are close to the diagonal of the graphics.\n\n"
      ]
    },
    {
      "cell_type": "markdown",
      "metadata": {},
      "source": [
        "The :meth:`~openturns.CalibrationResult.getObservationsError` method\nreturns the estimated distribution of the observation error.\nThis is necessarily a Gaussian distribution, because this is the distribution\nthat we assume when we use least squares.\nBy hypothesis, the distribution has a zero mean (this is a property\nof linear least squares).\nThe standard deviation is estimated from the residuals after calibration.\n\n"
      ]
    },
    {
      "cell_type": "code",
      "execution_count": null,
      "metadata": {
        "collapsed": false
      },
      "outputs": [],
      "source": [
        "observationError = calibrationResult.getObservationsError()\nprint(observationError)"
      ]
    },
    {
      "cell_type": "markdown",
      "metadata": {},
      "source": [
        "In order to validate that the distribution of the residuals is\nGaussian after calibration, we use the\n:meth:`~openturns.CalibrationResult.drawResiduals` method.\n\n"
      ]
    },
    {
      "cell_type": "code",
      "execution_count": null,
      "metadata": {
        "collapsed": false
      },
      "outputs": [],
      "source": [
        "graph = calibrationResult.drawResiduals()\nview = otv.View(\n    graph,\n    figure_kw={\"figsize\": (7.0, 4.0)},\n    legend_kw={\"bbox_to_anchor\": (1.0, 1.0), \"loc\": \"upper left\"},\n)\nplt.subplots_adjust(right=0.6)"
      ]
    },
    {
      "cell_type": "markdown",
      "metadata": {},
      "source": [
        "The analysis of the distribution of the residuals after calibration\nshows that the distribution is centered on zero and is symmetric.\nThis indicates that the calibration performed well.\nWith the least squares method, the standard deviation of the observation\nnoise is estimated from the data.\nOn the plot, we see that the Gaussian with zero mean and estimated\nstandard deviation is close to the distribution of the residuals\nafter calibration.\nThis shows that the distribution of the residuals is close to being Gaussian.\n\n"
      ]
    },
    {
      "cell_type": "markdown",
      "metadata": {},
      "source": [
        "This can also be seen on a Normal-plot.\nThis is a QQ-plot applied to the normal distribution.\nWe could use the :meth:`~openturns.VisualTest.DrawHenryLine`\nmethod to plot it, but :meth:`~openturns.CalibrationResult.drawResidualsNormalPlot`\ndoes it directly.\n\n"
      ]
    },
    {
      "cell_type": "code",
      "execution_count": null,
      "metadata": {
        "collapsed": false
      },
      "outputs": [],
      "source": [
        "graph = calibrationResult.drawResidualsNormalPlot()\nview = otv.View(graph)"
      ]
    },
    {
      "cell_type": "markdown",
      "metadata": {},
      "source": [
        "We see that the residuals fit to the Normal distribution,\naccording to the normal plot.\n\n"
      ]
    },
    {
      "cell_type": "markdown",
      "metadata": {},
      "source": [
        "The parameters which best fit to the data may be sensitive to the random\nnoise in the observed outputs.\nIn order to see how this source of randomness changes the optimum\nparameter, we use\n:meth:`~openturns.CalibrationResult.drawParameterDistributions`.\n\n"
      ]
    },
    {
      "cell_type": "code",
      "execution_count": null,
      "metadata": {
        "collapsed": false
      },
      "outputs": [],
      "source": [
        "graph = calibrationResult.drawParameterDistributions()\nview = otv.View(\n    graph,\n    figure_kw={\"figsize\": (10.0, 4.0)},\n    legend_kw={\"bbox_to_anchor\": (1.0, 1.0), \"loc\": \"upper left\"},\n)\nplt.subplots_adjust(right=0.8)"
      ]
    },
    {
      "cell_type": "markdown",
      "metadata": {},
      "source": [
        "We see that the $R$ and $C$ parameters are relatively accurately\nestimated.\nThe parameter $\\gamma$ is not estimated accurately, as can be\nbe seen from the very large spread of the distribution of this parameter.\nThis may reveal that there are identifiability issues with this parameter\nwhen we use a linearization of the model.\n\n"
      ]
    },
    {
      "cell_type": "code",
      "execution_count": null,
      "metadata": {
        "collapsed": false
      },
      "outputs": [],
      "source": [
        "def plotDistributionGridPDF(distribution):\n    \"\"\"\n    Plot the marginal and bi-dimensional iso-PDF on a grid.\n\n    Parameters\n    ----------\n    distribution : ot.Distribution\n        The distribution.\n\n    Returns\n    -------\n    grid : ot.GridLayout(dimension, dimension)\n        The grid of plots.\n\n    \"\"\"\n    dimension = distribution.getDimension()\n    grid = ot.GridLayout(dimension, dimension)\n    for i in range(dimension):\n        for j in range(dimension):\n            if i == j:\n                distributionI = distribution.getMarginal([i])\n                graph = distributionI.drawPDF()\n            else:\n                distributionJI = distribution.getMarginal([j, i])\n                graph = distributionJI.drawPDF()\n                contour = graph.getDrawable(0).getImplementation()\n                contour.setColorBarPosition(\"\")  # Hide color bar\n                graph.setDrawable(contour, 0)\n            graph.setLegends([\"\"])\n            graph.setTitle(\"\")\n            if i < dimension - 1:\n                graph.setXTitle(\"\")\n            if j > 0:\n                graph.setYTitle(\"\")\n            grid.setGraph(i, j, graph)\n    grid.setTitle(\"Iso-PDF values\")\n    return grid"
      ]
    },
    {
      "cell_type": "markdown",
      "metadata": {},
      "source": [
        "Plot the PDF values of the distribution of the optimum parameters.\n\n"
      ]
    },
    {
      "cell_type": "code",
      "execution_count": null,
      "metadata": {
        "collapsed": false
      },
      "outputs": [],
      "source": [
        "grid = plotDistributionGridPDF(thetaPosterior)\nview = otv.View(\n    grid,\n    figure_kw={\"figsize\": (6.0, 6.0)},\n    legend_kw={\"bbox_to_anchor\": (1.0, 1.0), \"loc\": \"upper left\"},\n)\nplot_space = 0.5\nplt.subplots_adjust(wspace=plot_space, hspace=plot_space)"
      ]
    },
    {
      "cell_type": "markdown",
      "metadata": {},
      "source": [
        "Since linear least squares calibration perform well, the study\ncould stop here.\nIn the next cell, we use other methods to see how this can change\nthe results.\nWe are going to see that the lack of identifiability of the $\\gamma$\nparameter can be regularized using Gausssian calibration methods.\n\n"
      ]
    },
    {
      "cell_type": "markdown",
      "metadata": {},
      "source": [
        "## Calibration with nonlinear least squares\nThe :class:`~openturns.NonLinearLeastSquaresCalibration` class performs\nthe non linear least squares calibration by minimizing the squared\nEuclidian norm between the predictions and the observations.\n\n"
      ]
    },
    {
      "cell_type": "code",
      "execution_count": null,
      "metadata": {
        "collapsed": false
      },
      "outputs": [],
      "source": [
        "algo = ot.NonLinearLeastSquaresCalibration(\n    mycf, observedStrain, observedStress, thetaPrior\n)"
      ]
    },
    {
      "cell_type": "markdown",
      "metadata": {},
      "source": [
        "The optimization algorithm is automatically selected using\nthe default solver which can build a :class:`~openturns.LeastSquaresProblem`.\nWe can see which solved is used using\n:meth:`~openturns.NonLinearLeastSquaresCalibration.getOptimizationAlgorithm`.\n\n"
      ]
    },
    {
      "cell_type": "code",
      "execution_count": null,
      "metadata": {
        "collapsed": false
      },
      "outputs": [],
      "source": [
        "print(algo.getOptimizationAlgorithm())"
      ]
    },
    {
      "cell_type": "markdown",
      "metadata": {},
      "source": [
        "The :meth:`~openturns.NonLinearLeastSquaresCalibration.run` method computes\nthe solution of the problem.\n\n"
      ]
    },
    {
      "cell_type": "code",
      "execution_count": null,
      "metadata": {
        "collapsed": false
      },
      "outputs": [],
      "source": [
        "algo.run()\ncalibrationResult = algo.getResult()"
      ]
    },
    {
      "cell_type": "markdown",
      "metadata": {},
      "source": [
        "## Analysis of the results\n\n"
      ]
    },
    {
      "cell_type": "markdown",
      "metadata": {},
      "source": [
        "The :meth:`~openturns.CalibrationResult.getParameterMAP` method\nreturns the maximum of the posterior distribution of $\\theta$.\n\n"
      ]
    },
    {
      "cell_type": "code",
      "execution_count": null,
      "metadata": {
        "collapsed": false
      },
      "outputs": [],
      "source": [
        "thetaMAP = calibrationResult.getParameterMAP()\nprint(thetaMAP)"
      ]
    },
    {
      "cell_type": "markdown",
      "metadata": {},
      "source": [
        "We can compute a 95% confidence interval of the parameter $\\theta^\\star$.\n\n"
      ]
    },
    {
      "cell_type": "code",
      "execution_count": null,
      "metadata": {
        "collapsed": false
      },
      "outputs": [],
      "source": [
        "thetaPosterior = calibrationResult.getParameterPosterior()\ninterval = thetaPosterior.computeBilateralConfidenceIntervalWithMarginalProbability(\n    0.95\n)[0]\nprint(\"95% C.I.:\")\nprintRCGammaInterval(interval)"
      ]
    },
    {
      "cell_type": "markdown",
      "metadata": {},
      "source": [
        "We can see that $R$ and $C$ are accurately estimated\nand that $\\gamma$ is estimated with a relatively large confidence\ninterval.\nNotice, however, that the interval is much more narrow than the\none with obtained using linear least squares.\nThis is because the optimization algorithm that we used implicitly\nintroduced some regularization that was absent from\nlinear least squares.\n\n"
      ]
    },
    {
      "cell_type": "markdown",
      "metadata": {},
      "source": [
        "We now check the observations depending on the inputs.\n\n"
      ]
    },
    {
      "cell_type": "code",
      "execution_count": null,
      "metadata": {
        "collapsed": false
      },
      "outputs": [],
      "source": [
        "graph = calibrationResult.drawObservationsVsInputs()\ngraph.setLegendPosition(\"upper left\")\nview = otv.View(graph)"
      ]
    },
    {
      "cell_type": "markdown",
      "metadata": {},
      "source": [
        "We see that there is a good fit after calibration, since the predictions\nafter calibration are close to the observations.\n\n"
      ]
    },
    {
      "cell_type": "code",
      "execution_count": null,
      "metadata": {
        "collapsed": false
      },
      "outputs": [],
      "source": [
        "graph = calibrationResult.drawObservationsVsPredictions()\nview = otv.View(graph)"
      ]
    },
    {
      "cell_type": "markdown",
      "metadata": {},
      "source": [
        "We see that there is a much better fit after calibration, since the\npredictions are close to the diagonal of the graphics.\n\n"
      ]
    },
    {
      "cell_type": "markdown",
      "metadata": {},
      "source": [
        "We now focus on the distribution of the errors.\n\n"
      ]
    },
    {
      "cell_type": "code",
      "execution_count": null,
      "metadata": {
        "collapsed": false
      },
      "outputs": [],
      "source": [
        "observationError = calibrationResult.getObservationsError()\nprint(observationError)"
      ]
    },
    {
      "cell_type": "markdown",
      "metadata": {},
      "source": [
        "We see that the distribution is Gaussian (this is by hypothesis)\nwith a mean relatively close to zero.\nIndeed, please consider that the stress has an order of magnitude close to\n$10^8$.\n\n"
      ]
    },
    {
      "cell_type": "markdown",
      "metadata": {},
      "source": [
        "As with any other distribution, we can draw its PDF.\n\n"
      ]
    },
    {
      "cell_type": "code",
      "execution_count": null,
      "metadata": {
        "collapsed": false
      },
      "outputs": [],
      "source": [
        "graph = observationError.drawPDF()\nview = otv.View(graph)"
      ]
    },
    {
      "cell_type": "code",
      "execution_count": null,
      "metadata": {
        "collapsed": false
      },
      "outputs": [],
      "source": [
        "graph = calibrationResult.drawResiduals()\nview = otv.View(\n    graph,\n    figure_kw={\"figsize\": (7.0, 4.0)},\n    legend_kw={\"bbox_to_anchor\": (1.0, 1.0), \"loc\": \"upper left\"},\n)\nplt.subplots_adjust(right=0.6)"
      ]
    },
    {
      "cell_type": "markdown",
      "metadata": {},
      "source": [
        "The analysis of the residuals shows that the distribution is centered\non zero and symmetric.\nThis indicates that the calibration performed well.\nMoreover, the distribution of the residuals is close to being Gaussian.\nThis indicates that the observation error might be Gaussian.\n\n"
      ]
    },
    {
      "cell_type": "code",
      "execution_count": null,
      "metadata": {
        "collapsed": false
      },
      "outputs": [],
      "source": [
        "graph = calibrationResult.drawParameterDistributions()\nview = otv.View(\n    graph,\n    figure_kw={\"figsize\": (10.0, 4.0)},\n    legend_kw={\"bbox_to_anchor\": (1.0, 1.0), \"loc\": \"upper left\"},\n)\nplt.subplots_adjust(right=0.8)"
      ]
    },
    {
      "cell_type": "code",
      "execution_count": null,
      "metadata": {
        "collapsed": false
      },
      "outputs": [],
      "source": [
        "graph = calibrationResult.drawResidualsNormalPlot()\nview = otv.View(graph)"
      ]
    },
    {
      "cell_type": "markdown",
      "metadata": {},
      "source": [
        "Plot the PDF values of the distribution of the optimum parameters.\n\n"
      ]
    },
    {
      "cell_type": "code",
      "execution_count": null,
      "metadata": {
        "collapsed": false
      },
      "outputs": [],
      "source": [
        "grid = plotDistributionGridPDF(thetaPosterior)\nview = otv.View(\n    grid,\n    figure_kw={\"figsize\": (6.0, 6.0)},\n    legend_kw={\"bbox_to_anchor\": (1.0, 1.0), \"loc\": \"upper left\"},\n)\nplot_space = 0.5\nplt.subplots_adjust(wspace=plot_space, hspace=plot_space)"
      ]
    },
    {
      "cell_type": "markdown",
      "metadata": {},
      "source": [
        "We see that the parameters are relatively well estimated,\nalthough the parameter $\\gamma$ still has a significant\ndispersion (but this is significantly reduced compared to linear\nleast squares).\nSince this parameter cannot be identified easily, it may be appropriate\nto consider Gaussian calibration, which adds some regularity\nto the problem that may solve identificability issues.\n\n"
      ]
    },
    {
      "cell_type": "markdown",
      "metadata": {},
      "source": [
        "## Gaussian calibration parameters\nIn this part, we set the parameters of the Gaussian calibration.\nWe first set the standard deviation of the observations errors.\n\n"
      ]
    },
    {
      "cell_type": "code",
      "execution_count": null,
      "metadata": {
        "collapsed": false
      },
      "outputs": [],
      "source": [
        "sigmaStress = 1.0e7  # (Pa)"
      ]
    },
    {
      "cell_type": "markdown",
      "metadata": {},
      "source": [
        "Define the covariance matrix of the output Y of the model.\nSince the dimension of the output is equal to 1, this must be\na 1-by-1 covariance matrix.\n\n"
      ]
    },
    {
      "cell_type": "code",
      "execution_count": null,
      "metadata": {
        "collapsed": false
      },
      "outputs": [],
      "source": [
        "errorCovariance = ot.CovarianceMatrix(1)\nerrorCovariance[0, 0] = sigmaStress**2"
      ]
    },
    {
      "cell_type": "markdown",
      "metadata": {},
      "source": [
        "Define the covariance matrix of the parameters $\\theta$ to calibrate.\n\n"
      ]
    },
    {
      "cell_type": "code",
      "execution_count": null,
      "metadata": {
        "collapsed": false
      },
      "outputs": [],
      "source": [
        "sigmaR = 0.1 * R\nsigmaC = 0.1 * C\nsigmaGamma = 0.1 * Gamma"
      ]
    },
    {
      "cell_type": "markdown",
      "metadata": {},
      "source": [
        "Since there are 3 parameters, the prior covariance matrix is a\n3-by-3 covariance matrix.\n\n"
      ]
    },
    {
      "cell_type": "code",
      "execution_count": null,
      "metadata": {
        "collapsed": false
      },
      "outputs": [],
      "source": [
        "sigma = ot.CovarianceMatrix(3)\nsigma[0, 0] = sigmaR**2\nsigma[1, 1] = sigmaC**2\nsigma[2, 2] = sigmaGamma**2\nprint(sigma)"
      ]
    },
    {
      "cell_type": "markdown",
      "metadata": {},
      "source": [
        "## Gaussian linear calibration\nThe :class:`~openturns.GaussianLinearCalibration` class performs the Gaussian\nlinear calibration by linearizing the model in the neighbourhood of the prior.\nThis is also known as the Kalman filter.\n\n"
      ]
    },
    {
      "cell_type": "code",
      "execution_count": null,
      "metadata": {
        "collapsed": false
      },
      "outputs": [],
      "source": [
        "algo = ot.GaussianLinearCalibration(\n    mycf, observedStrain, observedStress, thetaPrior, sigma, errorCovariance\n)"
      ]
    },
    {
      "cell_type": "markdown",
      "metadata": {},
      "source": [
        "The :meth:`~openturns.GaussianLinearCalibration.run` method computes\nthe solution of the problem.\n\n"
      ]
    },
    {
      "cell_type": "code",
      "execution_count": null,
      "metadata": {
        "collapsed": false
      },
      "outputs": [],
      "source": [
        "algo.run()\ncalibrationResult = algo.getResult()"
      ]
    },
    {
      "cell_type": "markdown",
      "metadata": {},
      "source": [
        "## Analysis of the results\nThe :meth:`~openturns.CalibrationResult.getParameterMAP` method returns the\nmaximum of the posterior distribution of $\\theta$.\n\n"
      ]
    },
    {
      "cell_type": "code",
      "execution_count": null,
      "metadata": {
        "collapsed": false
      },
      "outputs": [],
      "source": [
        "thetaMAP = calibrationResult.getParameterMAP()\nprint(thetaMAP)"
      ]
    },
    {
      "cell_type": "markdown",
      "metadata": {},
      "source": [
        "We can compute a 95% credibility interval of the parameter $\\theta^\\star$\n(when we consider Bayesian methods, confidence intervals are called\ncredibility intervals).\nThis interval reflects the interval that contains 95%\nof the posterior distribution.\n\n"
      ]
    },
    {
      "cell_type": "code",
      "execution_count": null,
      "metadata": {
        "collapsed": false
      },
      "outputs": [],
      "source": [
        "thetaPosterior = calibrationResult.getParameterPosterior()\ninterval = thetaPosterior.computeBilateralConfidenceIntervalWithMarginalProbability(\n    0.95\n)[0]\nprint(\"95% C.I.:\")\nprintRCGammaInterval(interval)"
      ]
    },
    {
      "cell_type": "markdown",
      "metadata": {},
      "source": [
        "We can see that all three parameters are estimated with a relatively\nsmall confidence interval (including $\\gamma$).\n\n"
      ]
    },
    {
      "cell_type": "markdown",
      "metadata": {},
      "source": [
        "Let us analyze the validation graphics.\n\n"
      ]
    },
    {
      "cell_type": "code",
      "execution_count": null,
      "metadata": {
        "collapsed": false
      },
      "outputs": [],
      "source": [
        "graph = calibrationResult.drawObservationsVsInputs()\ngraph.setLegendPosition(\"upper left\")\nview = otv.View(graph)"
      ]
    },
    {
      "cell_type": "markdown",
      "metadata": {},
      "source": [
        "We see that there is a good fit after calibration, since the predictions\nafter calibration are close to the observations.\n\n"
      ]
    },
    {
      "cell_type": "code",
      "execution_count": null,
      "metadata": {
        "collapsed": false
      },
      "outputs": [],
      "source": [
        "graph = calibrationResult.drawObservationsVsPredictions()\nview = otv.View(graph)"
      ]
    },
    {
      "cell_type": "markdown",
      "metadata": {},
      "source": [
        "We see that there is a much better fit after calibration, since the\npredictions are close to the diagonal of the graphics.\n\n"
      ]
    },
    {
      "cell_type": "markdown",
      "metadata": {},
      "source": [
        "The observation error is an hypothesis of the Gaussian calibration.\nThis is the Gaussian distribution that we introduced in the\nmodel.\n\n"
      ]
    },
    {
      "cell_type": "code",
      "execution_count": null,
      "metadata": {
        "collapsed": false
      },
      "outputs": [],
      "source": [
        "observationError = calibrationResult.getObservationsError()\nprint(observationError)"
      ]
    },
    {
      "cell_type": "code",
      "execution_count": null,
      "metadata": {
        "collapsed": false
      },
      "outputs": [],
      "source": [
        "graph = calibrationResult.drawResiduals()\nview = otv.View(\n    graph,\n    figure_kw={\"figsize\": (7.0, 4.0)},\n    legend_kw={\"bbox_to_anchor\": (1.0, 1.0), \"loc\": \"upper left\"},\n)\nplt.subplots_adjust(right=0.6)"
      ]
    },
    {
      "cell_type": "markdown",
      "metadata": {},
      "source": [
        "The analysis of the Gaussian distribution of the observation\nerrors is close to the posterior distribution of the residuals.\nMoreover, the posterior distribution is centered.\nThese information indicate that the calibration performed well.\n\n"
      ]
    },
    {
      "cell_type": "markdown",
      "metadata": {},
      "source": [
        "The posterior distribution of the parameters allows one to see if\nthe observations bring significant information compared to the prior\nGaussian distributions.\n\n"
      ]
    },
    {
      "cell_type": "code",
      "execution_count": null,
      "metadata": {
        "collapsed": false
      },
      "outputs": [],
      "source": [
        "graph = calibrationResult.drawParameterDistributions()\nview = otv.View(\n    graph,\n    figure_kw={\"figsize\": (10.0, 4.0)},\n    legend_kw={\"bbox_to_anchor\": (1.0, 1.0), \"loc\": \"upper left\"},\n)\nplt.subplots_adjust(right=0.8)"
      ]
    },
    {
      "cell_type": "markdown",
      "metadata": {},
      "source": [
        "We see that the posterior distribution of $R$ is spiky.\nFor the $R$ variable, the observations are much more important than\nthe prior: this is shown by the fact that the posterior and prior\ndistribution of the $R$ variable are very different.\nWe see that the prior and posterior distribution are close to each other\nfor the $\\gamma$ variable: the observations did not convey much information for this variable.\nThis shows that this parameters is difficult to identify.\nOne potential solution to estimate this parameter is, if it can be\nidentified, to use a larger sample size (but this is not always easy\nin practice).\n\n"
      ]
    },
    {
      "cell_type": "markdown",
      "metadata": {},
      "source": [
        "We can check that if the residuals after calibration are normal.\n\n"
      ]
    },
    {
      "cell_type": "code",
      "execution_count": null,
      "metadata": {
        "collapsed": false
      },
      "outputs": [],
      "source": [
        "graph = calibrationResult.drawResidualsNormalPlot()\nview = otv.View(graph)"
      ]
    },
    {
      "cell_type": "markdown",
      "metadata": {},
      "source": [
        "Plot the PDF values of the distribution of the optimum parameters.\n\n"
      ]
    },
    {
      "cell_type": "code",
      "execution_count": null,
      "metadata": {
        "collapsed": false
      },
      "outputs": [],
      "source": [
        "grid = plotDistributionGridPDF(thetaPosterior)\nview = otv.View(\n    grid,\n    figure_kw={\"figsize\": (6.0, 6.0)},\n    legend_kw={\"bbox_to_anchor\": (1.0, 1.0), \"loc\": \"upper left\"},\n)\nplot_space = 0.5\nplt.subplots_adjust(wspace=plot_space, hspace=plot_space)"
      ]
    },
    {
      "cell_type": "markdown",
      "metadata": {},
      "source": [
        "## Gaussian nonlinear calibration\nThe :class:`~openturns.GaussianNonLinearCalibration` class\nperforms the Gaussian nonlinear calibration.\nThis algorithm is also known as 3DVar.\n\n"
      ]
    },
    {
      "cell_type": "code",
      "execution_count": null,
      "metadata": {
        "collapsed": false
      },
      "outputs": [],
      "source": [
        "algo = ot.GaussianNonLinearCalibration(\n    mycf, observedStrain, observedStress, thetaPrior, sigma, errorCovariance\n)"
      ]
    },
    {
      "cell_type": "markdown",
      "metadata": {},
      "source": [
        "The :meth:`~openturns.GaussianNonLinearCalibration.run` method computes\nthe solution of the problem.\n\n"
      ]
    },
    {
      "cell_type": "code",
      "execution_count": null,
      "metadata": {
        "collapsed": false
      },
      "outputs": [],
      "source": [
        "algo.run()\ncalibrationResult = algo.getResult()"
      ]
    },
    {
      "cell_type": "markdown",
      "metadata": {},
      "source": [
        "## Analysis of the results\n\n"
      ]
    },
    {
      "cell_type": "markdown",
      "metadata": {},
      "source": [
        "The :meth:`~openturns.CalibrationResult.getParameterMAP` method\nreturns the maximum of the posterior distribution of $\\theta$.\n\n"
      ]
    },
    {
      "cell_type": "code",
      "execution_count": null,
      "metadata": {
        "collapsed": false
      },
      "outputs": [],
      "source": [
        "thetaMAP = calibrationResult.getParameterMAP()\nprint(thetaMAP)"
      ]
    },
    {
      "cell_type": "markdown",
      "metadata": {},
      "source": [
        "We can compute a 95% credibility interval of the parameter $\\theta^\\star$.\n\n"
      ]
    },
    {
      "cell_type": "code",
      "execution_count": null,
      "metadata": {
        "collapsed": false
      },
      "outputs": [],
      "source": [
        "thetaPosterior = calibrationResult.getParameterPosterior()\ninterval = thetaPosterior.computeBilateralConfidenceIntervalWithMarginalProbability(\n    0.95\n)[0]\nprint(\"95% C.I.:\")\nprintRCGammaInterval(interval)"
      ]
    },
    {
      "cell_type": "markdown",
      "metadata": {},
      "source": [
        "The previous credibility interval can be compared to the one that we previously\nobtains with the linear Gaussian calibration method.\n\n"
      ]
    },
    {
      "cell_type": "code",
      "execution_count": null,
      "metadata": {
        "collapsed": false
      },
      "outputs": [],
      "source": [
        "graph = calibrationResult.drawObservationsVsInputs()\ngraph.setLegendPosition(\"upper left\")\nview = otv.View(graph)"
      ]
    },
    {
      "cell_type": "markdown",
      "metadata": {},
      "source": [
        "We see that there is a good fit after calibration, since the predictions\nafter calibration are close to the observations.\n\n"
      ]
    },
    {
      "cell_type": "code",
      "execution_count": null,
      "metadata": {
        "collapsed": false
      },
      "outputs": [],
      "source": [
        "graph = calibrationResult.drawObservationsVsPredictions()\nview = otv.View(graph)"
      ]
    },
    {
      "cell_type": "markdown",
      "metadata": {},
      "source": [
        "We see that there is a much better fit after calibration, since the\npredictions are close to the diagonal of the graphics.\n\n"
      ]
    },
    {
      "cell_type": "markdown",
      "metadata": {},
      "source": [
        "The method to compute the distribution of the error and the posterior\ndistribution of the parameter depends on the default\nvalue of the bootstrap size.\n\n"
      ]
    },
    {
      "cell_type": "code",
      "execution_count": null,
      "metadata": {
        "collapsed": false
      },
      "outputs": [],
      "source": [
        "print(\"Bootstrap size : \", algo.getBootstrapSize())"
      ]
    },
    {
      "cell_type": "markdown",
      "metadata": {},
      "source": [
        "The default value of the parameter uses bootstrap to estimate the distribution.\n\n"
      ]
    },
    {
      "cell_type": "markdown",
      "metadata": {},
      "source": [
        "By default, the observation error is predicted by bootstraping the\nproblem at the posterior.\n\n"
      ]
    },
    {
      "cell_type": "code",
      "execution_count": null,
      "metadata": {
        "collapsed": false
      },
      "outputs": [],
      "source": [
        "observationError = calibrationResult.getObservationsError()\nprint(observationError)"
      ]
    },
    {
      "cell_type": "markdown",
      "metadata": {},
      "source": [
        "This can be compared to the residuals distribution, which is computed at the posterior.\n\n"
      ]
    },
    {
      "cell_type": "code",
      "execution_count": null,
      "metadata": {
        "collapsed": false
      },
      "outputs": [],
      "source": [
        "graph = calibrationResult.drawResiduals()\nview = otv.View(\n    graph,\n    figure_kw={\"figsize\": (7.0, 4.0)},\n    legend_kw={\"bbox_to_anchor\": (1.0, 1.0), \"loc\": \"upper left\"},\n)\nplt.subplots_adjust(right=0.6)"
      ]
    },
    {
      "cell_type": "markdown",
      "metadata": {},
      "source": [
        "The analysis is very similar to the linear Gaussian calibration.\n\n"
      ]
    },
    {
      "cell_type": "code",
      "execution_count": null,
      "metadata": {
        "collapsed": false
      },
      "outputs": [],
      "source": [
        "graph = calibrationResult.drawParameterDistributions()\nview = otv.View(\n    graph,\n    figure_kw={\"figsize\": (10.0, 4.0)},\n    legend_kw={\"bbox_to_anchor\": (1.0, 1.0), \"loc\": \"upper left\"},\n)\nplt.subplots_adjust(right=0.8)"
      ]
    },
    {
      "cell_type": "code",
      "execution_count": null,
      "metadata": {
        "collapsed": false
      },
      "outputs": [],
      "source": [
        "graph = calibrationResult.drawResidualsNormalPlot()\nview = otv.View(graph)"
      ]
    },
    {
      "cell_type": "markdown",
      "metadata": {},
      "source": [
        "Plot the PDF values of the distribution of the optimum parameters.\n\n"
      ]
    },
    {
      "cell_type": "code",
      "execution_count": null,
      "metadata": {
        "collapsed": false
      },
      "outputs": [],
      "source": [
        "grid = plotDistributionGridPDF(thetaPosterior)\nview = otv.View(\n    grid,\n    figure_kw={\"figsize\": (6.0, 6.0)},\n    legend_kw={\"bbox_to_anchor\": (1.0, 1.0), \"loc\": \"upper left\"},\n)\nplot_space = 0.5\nplt.subplots_adjust(wspace=plot_space, hspace=plot_space)"
      ]
    },
    {
      "cell_type": "markdown",
      "metadata": {},
      "source": [
        "We see that the prior and posterior distribution for the $\\gamma$\nparameter are close to each other, but not superimposed: the observations\nsignificantly brought information to the variable $\\gamma$ during\nthe calibration.\n\n"
      ]
    },
    {
      "cell_type": "code",
      "execution_count": null,
      "metadata": {
        "collapsed": false
      },
      "outputs": [],
      "source": [
        "otv.View.ShowAll()"
      ]
    },
    {
      "cell_type": "markdown",
      "metadata": {},
      "source": [
        "Reset default settings\n\n"
      ]
    },
    {
      "cell_type": "code",
      "execution_count": null,
      "metadata": {
        "collapsed": false
      },
      "outputs": [],
      "source": [
        "ot.ResourceMap.Reload()"
      ]
    }
  ],
  "metadata": {
    "kernelspec": {
      "display_name": "Python 3",
      "language": "python",
      "name": "python3"
    },
    "language_info": {
      "codemirror_mode": {
        "name": "ipython",
        "version": 3
      },
      "file_extension": ".py",
      "mimetype": "text/x-python",
      "name": "python",
      "nbconvert_exporter": "python",
      "pygments_lexer": "ipython3",
      "version": "3.12.7"
    }
  },
  "nbformat": 4,
  "nbformat_minor": 0
}