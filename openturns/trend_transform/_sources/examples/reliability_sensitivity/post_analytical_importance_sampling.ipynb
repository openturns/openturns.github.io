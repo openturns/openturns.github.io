{
 "cells": [
  {
   "cell_type": "markdown",
   "metadata": {},
   "source": [
    "# Post analytical importance sampling"
   ]
  },
  {
   "cell_type": "markdown",
   "metadata": {},
   "source": [
    "In this example we want to estimate a threshold exceedance probability by combining approximation and simulation methods.\n",
    "\n",
    "  - perform an FORM or SORM study in order to find the design point,\n",
    "\n",
    "  - perform an importance sampling study centered around the design point: the importance distribution operates in the standard space and is the standard distribution of the standard space (the standard elliptical distribution in the case of an elliptic copula of the input random vector, the standard normal one in all the other cases).\n",
    "\n",
    "The importance sampling technique in the standard space may be of two kinds:\n",
    "\n",
    "  - the sample is generated according to the new importance distribution: this technique is called post analytical importance sampling,\n",
    "\n",
    "  - the sample is generated according to the new importance distribution and is controlled by the value of the linearized limit state function: this technique is called post analytical controlled importance sampling.\n",
    "\n",
    "This post analytical importance sampling algorithm is created from the result structure of a FORM or SORM algorithm.\n",
    "\n",
    "It is parameterized like other simulation algorithm, through the parameters OuterSampling, BlockSize, ... and provide the same type of results.\n",
    "\n",
    "Let us note that the post FORM/SORM importance sampling method may be implemented thanks to the ImportanceSampling object, where the importance distribution is defined in the standard space: then, it requires that the event initially defined in the pysical space be transformed in the standard space.\n",
    "\n",
    "The controlled importance sampling technique is only accessible within the post analytical context."
   ]
  },
  {
   "cell_type": "code",
   "execution_count": 27,
   "metadata": {
    "collapsed": true
   },
   "outputs": [],
   "source": [
    "from __future__ import print_function\n",
    "import openturns as ot\n",
    "import math as m"
   ]
  },
  {
   "cell_type": "code",
   "execution_count": 28,
   "metadata": {},
   "outputs": [],
   "source": [
    "# Create a model\n",
    "model = ot.SymbolicFunction(['x1', 'x2'], ['x1^2+x2'])\n",
    "R = ot.CorrelationMatrix(2)\n",
    "R[0,1] = -0.6\n",
    "inputDist = ot.Normal([0.,0.], R)\n",
    "inputDist.setDescription(['X1', 'X2'])\n",
    "inputVector = ot.RandomVector(inputDist)\n",
    "\n",
    "# Create the output random vector Y=model(X)\n",
    "Y = ot.CompositeRandomVector(model, inputVector)\n",
    "\n",
    "# Create the event Y > 4\n",
    "threshold = 4.0\n",
    "event = ot.Event(Y, ot.Greater(), threshold)"
   ]
  },
  {
   "cell_type": "code",
   "execution_count": 29,
   "metadata": {},
   "outputs": [],
   "source": [
    "# Create a FORM algorithm\n",
    "solver = ot.Cobyla()\n",
    "startingPoint = inputDist.getMean()\n",
    "algo = ot.FORM(solver, event, startingPoint)\n",
    "\n",
    "# Run the algorithm and retrieve the result\n",
    "algo.run()\n",
    "result_form = algo.getResult()"
   ]
  },
  {
   "cell_type": "code",
   "execution_count": 30,
   "metadata": {},
   "outputs": [
    {
     "data": {
      "text/html": [
       "<p>probabilityEstimate=2.882904e-02 varianceEstimate=8.304684e-06 standard deviation=2.88e-03 coefficient of variation=1.00e-01 confidenceLength(0.95)=1.13e-02 outerSampling=248 blockSize=1<br>\n",
       "</p>"
      ],
      "text/plain": [
       "probabilityEstimate=2.882904e-02 varianceEstimate=8.304684e-06 standard deviation=2.88e-03 coefficient of variation=1.00e-01 confidenceLength(0.95)=1.13e-02 outerSampling=248 blockSize=1"
      ]
     },
     "execution_count": 30,
     "metadata": {},
     "output_type": "execute_result"
    }
   ],
   "source": [
    "# Create the post analytical importance sampling simulation algorithm\n",
    "algo = ot.PostAnalyticalImportanceSampling(result_form)\n",
    "algo.run()\n",
    "algo.getResult()"
   ]
  },
  {
   "cell_type": "code",
   "execution_count": 31,
   "metadata": {},
   "outputs": [
    {
     "data": {
      "text/html": [
       "<p>probabilityEstimate=4.562903e-02 varianceEstimate=2.256949e-36 standard deviation=1.50e-18 coefficient of variation=3.29e-17 confidenceLength(0.95)=5.89e-18 outerSampling=4 blockSize=1<br>\n",
       "</p>"
      ],
      "text/plain": [
       "probabilityEstimate=4.562903e-02 varianceEstimate=2.256949e-36 standard deviation=1.50e-18 coefficient of variation=3.29e-17 confidenceLength(0.95)=5.89e-18 outerSampling=4 blockSize=1"
      ]
     },
     "execution_count": 31,
     "metadata": {},
     "output_type": "execute_result"
    }
   ],
   "source": [
    "# Create the post analytical controlled importance sampling simulation algorithm\n",
    "algo = ot.PostAnalyticalControlledImportanceSampling(result_form)\n",
    "algo.run()\n",
    "algo.getResult()"
   ]
  }
 ],
 "metadata": {
  "kernelspec": {
   "display_name": "Python 3",
   "language": "python",
   "name": "python3"
  },
  "language_info": {
   "codemirror_mode": {
    "name": "ipython",
    "version": 3
   },
   "file_extension": ".py",
   "mimetype": "text/x-python",
   "name": "python",
   "nbconvert_exporter": "python",
   "pygments_lexer": "ipython3",
   "version": "3.5.2"
  }
 },
 "nbformat": 4,
 "nbformat_minor": 1
}
