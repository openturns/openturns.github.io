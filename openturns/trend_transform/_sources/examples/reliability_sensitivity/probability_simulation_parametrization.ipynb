{
 "cells": [
  {
   "cell_type": "markdown",
   "metadata": {},
   "source": [
    "# Parametrization of a simulation algorithm"
   ]
  },
  {
   "cell_type": "markdown",
   "metadata": {},
   "source": [
    "In this basic example we are going to parameterize a simulation algorithm:\n",
    "\n",
    " - parameters linked to the number of points generated\n",
    " - the precision of the probability estimator\n",
    " - the sample storage strategy\n",
    " - using callbacks to monitor progress and stopping criteria.\n",
    " "
   ]
  },
  {
   "cell_type": "code",
   "execution_count": 1,
   "metadata": {
    "collapsed": true
   },
   "outputs": [],
   "source": [
    "from __future__ import print_function\n",
    "import openturns as ot"
   ]
  },
  {
   "cell_type": "code",
   "execution_count": 2,
   "metadata": {
    "collapsed": true
   },
   "outputs": [],
   "source": [
    "# create the joint distribution of the parameters\n",
    "distribution_R = ot.LogNormalMuSigma(300.0, 30.0, 0.0).getDistribution()\n",
    "distribution_F = ot.Normal(75e3, 5e3)\n",
    "marginals = [distribution_R, distribution_F]\n",
    "distribution = ot.ComposedDistribution(marginals)"
   ]
  },
  {
   "cell_type": "code",
   "execution_count": 3,
   "metadata": {
    "collapsed": true
   },
   "outputs": [],
   "source": [
    "# create the model\n",
    "model = ot.SymbolicFunction(['R', 'F'], ['R-F/(pi_*100.0)'])"
   ]
  },
  {
   "cell_type": "code",
   "execution_count": 4,
   "metadata": {
    "collapsed": true
   },
   "outputs": [],
   "source": [
    "# create the event we want to estimate the probability\n",
    "vect = ot.RandomVector(distribution)\n",
    "G = ot.CompositeRandomVector(model, vect)\n",
    "event = ot.Event(G, ot.Less(), 0.0)"
   ]
  },
  {
   "cell_type": "code",
   "execution_count": 5,
   "metadata": {
    "collapsed": true
   },
   "outputs": [],
   "source": [
    "# create a Monte Carlo algorithm\n",
    "experiment = ot.MonteCarloExperiment()\n",
    "algo = ot.ProbabilitySimulationAlgorithm(event, experiment)"
   ]
  },
  {
   "cell_type": "code",
   "execution_count": 6,
   "metadata": {
    "collapsed": true
   },
   "outputs": [],
   "source": [
    "# Criteria 1: Define the Maximum Coefficient of variation of the probability estimator\n",
    "algo.setMaximumCoefficientOfVariation(0.05)"
   ]
  },
  {
   "cell_type": "code",
   "execution_count": 7,
   "metadata": {
    "collapsed": true
   },
   "outputs": [],
   "source": [
    "# Criteria 2: Define the number of iterations of the simulation\n",
    "algo.setMaximumOuterSampling(int(1e4))"
   ]
  },
  {
   "cell_type": "code",
   "execution_count": 8,
   "metadata": {
    "collapsed": true
   },
   "outputs": [],
   "source": [
    "# The block size parameter represents the number of samples evaluated per iteration, useful for parallelization\n",
    "algo.setBlockSize(2)"
   ]
  },
  {
   "cell_type": "code",
   "execution_count": 9,
   "metadata": {
    "collapsed": true
   },
   "outputs": [],
   "source": [
    "# HistoryStrategy to store the values of the probability used to draw the convergence graph\n",
    "\n",
    "# Null strategy\n",
    "algo.setConvergenceStrategy(ot.Null())\n",
    "\n",
    "# Full strategy\n",
    "algo.setConvergenceStrategy(ot.Full())\n",
    "\n",
    "# Compact strategy: N points\n",
    "N = 1000\n",
    "algo.setConvergenceStrategy(ot.Compact(N))"
   ]
  },
  {
   "cell_type": "code",
   "execution_count": 10,
   "metadata": {
    "collapsed": true
   },
   "outputs": [],
   "source": [
    "# Use a callback to display the progress every 10%\n",
    "def progress(p):\n",
    "    if p >= progress.t:\n",
    "        progress.t += 10.0\n",
    "        print('progress=', p, '%')\n",
    "    return False\n",
    "progress.t = 10.0\n",
    "algo.setProgressCallback(progress)"
   ]
  },
  {
   "cell_type": "code",
   "execution_count": 11,
   "metadata": {
    "collapsed": true
   },
   "outputs": [],
   "source": [
    "# Use a callback to stop the simulation\n",
    "def stop():\n",
    "    # here we never stop, but we could\n",
    "    return False\n",
    "algo.setStopCallback(stop)"
   ]
  },
  {
   "cell_type": "code",
   "execution_count": 12,
   "metadata": {},
   "outputs": [
    {
     "name": "stdout",
     "output_type": "stream",
     "text": [
      "progress= 10.0 %\n",
      "progress= 20.0 %\n",
      "progress= 30.0 %\n",
      "progress= 40.0 %\n",
      "progress= 50.0 %\n",
      "progress= 60.0 %\n",
      "progress= 70.0 %\n",
      "progress= 80.0 %\n",
      "progress= 90.0 %\n",
      "progress= 100.0 %\n"
     ]
    }
   ],
   "source": [
    "algo.run()"
   ]
  },
  {
   "cell_type": "code",
   "execution_count": 13,
   "metadata": {},
   "outputs": [
    {
     "name": "stdout",
     "output_type": "stream",
     "text": [
      "Pf= 0.02859999999999999\n"
     ]
    }
   ],
   "source": [
    "# retrieve results\n",
    "result = algo.getResult()\n",
    "probability = result.getProbabilityEstimate()\n",
    "print('Pf=', probability)"
   ]
  }
 ],
 "metadata": {
  "kernelspec": {
   "display_name": "Python 3",
   "language": "python",
   "name": "python3"
  },
  "language_info": {
   "codemirror_mode": {
    "name": "ipython",
    "version": 3
   },
   "file_extension": ".py",
   "mimetype": "text/x-python",
   "name": "python",
   "nbconvert_exporter": "python",
   "pygments_lexer": "ipython3",
   "version": "3.5.2"
  }
 },
 "nbformat": 4,
 "nbformat_minor": 1
}
