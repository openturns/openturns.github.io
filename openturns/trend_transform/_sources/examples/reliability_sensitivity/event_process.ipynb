{
 "cells": [
  {
   "cell_type": "markdown",
   "metadata": {},
   "source": [
    "# Create an event based on a process"
   ]
  },
  {
   "cell_type": "markdown",
   "metadata": {},
   "source": [
    "This example gives elements to create an event based on a multivariate stochastic process.\n",
    "Let $X: \\Omega \\times \\mathcal{D} \\rightarrow \\mathbb{R}^d$ be a stochastic process\n",
    "of dimension $d$, where $\\mathcal{D} \\in \\mathbb{R}^n$ is discretized on the mesh\n",
    "$\\mathcal{M}$. We suppose that $\\mathcal{M}$ contains $N$ vertices.\n",
    "\n",
    "We define the event $\\mathcal{E}$ as:\n",
    "\n",
    "$$\\begin{aligned} \\displaystyle \\mathcal{E}(X) = \\bigcup_{\\underline{t}\\in \\mathcal{M}}\\left\\{X_{\\underline{t}} \\in \\mathcal{A} \\right\\} \\end{aligned}$$\n",
    "\n",
    "where $\\mathcal{A}$ is a domain of $\\mathbb{R}^d$.\n",
    "\n",
    "A particular domain $\\mathcal{A}$ is the cartesian product of type:\n",
    "\n",
    "$$\\begin{aligned} \\mathcal{A} = \\prod_{i=1}^d [a_i,b_i]\\end{aligned}$$\n",
    "\n",
    "In that case, the library defines $\\mathcal{A}$ by its both extreme points : $\\underline{a}$ and $\\underline{b}$.\n",
    "\n",
    "In the general case, $\\mathcal{A}$ is a *Domain* object that is able to\n",
    "check if it contains a given point in $\\mathbb{R}^d$.\n",
    "\n",
    "The library creates an *Event* object from the process $X$ and the\n",
    "domain $\\mathcal{A}$. Then, it is possible to get a realization of the event\n",
    "$\\mathcal{E}$, which is scalar $1_{\\mathcal{E}(X)}(\\underline{x}_0, \\dots, \\underline{x}_{N-1})$\n",
    "if $(\\underline{x}_0, \\dots,\\underline{x}_{N-1})$ is a realization of $X$ on\n",
    "$\\mathcal{M}$."
   ]
  },
  {
   "cell_type": "code",
   "execution_count": 1,
   "metadata": {},
   "outputs": [],
   "source": [
    "from __future__ import print_function\n",
    "import openturns as ot"
   ]
  },
  {
   "cell_type": "code",
   "execution_count": 2,
   "metadata": {},
   "outputs": [],
   "source": [
    "# Define a 2-d mesh\n",
    "indices = ot.Indices([40, 20])\n",
    "mesher = ot.IntervalMesher(indices)\n",
    "lowerBound = [0., 0.]\n",
    "upperBound = [2., 1.]\n",
    "interval = ot.Interval(lowerBound, upperBound)\n",
    "mesh = mesher.build(interval)"
   ]
  },
  {
   "cell_type": "code",
   "execution_count": 4,
   "metadata": {},
   "outputs": [],
   "source": [
    "# Create the covariance model\n",
    "amplitude = [1.0, 2.0, 3.0]\n",
    "scale = [4.0, 5.0]\n",
    "spatialCorrelation = ot.CorrelationMatrix(3)\n",
    "spatialCorrelation[0, 1] = 0.8\n",
    "spatialCorrelation[0, 2] = 0.6\n",
    "spatialCorrelation[1, 2] = 0.1\n",
    "covmodel = ot.ExponentialModel(scale, amplitude, spatialCorrelation)\n",
    "\n",
    "# Create a normal process\n",
    "process = ot.GaussianProcess(covmodel, mesh)"
   ]
  },
  {
   "cell_type": "code",
   "execution_count": 5,
   "metadata": {},
   "outputs": [],
   "source": [
    "# Create a domain A in R^3: [0.8; 1.2]*[1.5; 1.6]*[0.5; 0.7]\n",
    "lowerBound = [0.8, 1.5, 0.5]\n",
    "upperBound = [1.2, 1.6, 0.7]\n",
    "domain = ot.Interval(lowerBound, upperBound)\n",
    "\n",
    "# Create the event\n",
    "event = ot.Event(process, domain)"
   ]
  }
 ],
 "metadata": {
  "kernelspec": {
   "display_name": "Python 3",
   "language": "python",
   "name": "python3"
  },
  "language_info": {
   "codemirror_mode": {
    "name": "ipython",
    "version": 3
   },
   "file_extension": ".py",
   "mimetype": "text/x-python",
   "name": "python",
   "nbconvert_exporter": "python",
   "pygments_lexer": "ipython3",
   "version": "3.6.5"
  }
 },
 "nbformat": 4,
 "nbformat_minor": 1
}
