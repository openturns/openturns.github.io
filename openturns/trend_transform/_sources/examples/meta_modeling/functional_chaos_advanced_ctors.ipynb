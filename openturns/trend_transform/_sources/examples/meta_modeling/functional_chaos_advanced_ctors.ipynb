{
 "cells": [
  {
   "cell_type": "markdown",
   "metadata": {},
   "source": [
    "# Advanced polynomial chaos construction"
   ]
  },
  {
   "cell_type": "markdown",
   "metadata": {},
   "source": [
    "In this example we are going to expose advanced elements in the construction of a polynomial chaos algorithm:\n",
    "\n",
    "- Construction of the multivariate orthonormal basis\n",
    "- Truncature strategy of the multivariate orthonormal basis\n",
    "- Evaluation strategy of the approximation coefficients"
   ]
  },
  {
   "cell_type": "code",
   "execution_count": 13,
   "metadata": {},
   "outputs": [],
   "source": [
    "from __future__ import print_function\n",
    "import openturns as ot"
   ]
  },
  {
   "cell_type": "code",
   "execution_count": 14,
   "metadata": {
    "collapsed": true
   },
   "outputs": [],
   "source": [
    "\n",
    "# Create a function R^n --> R^p\n",
    "# For example R^4 --> R\n",
    "myModel = ot.SymbolicFunction(['x1', 'x2', 'x3', 'x4'], ['1+x1*x2 + 2*x3^2+x4^4'])\n",
    "\n",
    "# Create a distribution of dimension n\n",
    "# for example n=3 with indpendent components\n",
    "Xdist = ot.ComposedDistribution([ot.Normal(), ot.Uniform(), ot.Gamma(2.75, 1.0), ot.Beta(2.5, 1.0, -1.0, 2.0)])\n",
    "\n",
    "# Dimension of the input random vector\n",
    "dim = 4"
   ]
  },
  {
   "cell_type": "code",
   "execution_count": 15,
   "metadata": {
    "collapsed": true
   },
   "outputs": [],
   "source": [
    "#############################################################\n",
    "# STEP 1: Construction of the multivariate orthonormal basis\n",
    "#############################################################\n",
    "\n",
    "# Create the univariate polynomial family collection\n",
    "# which regroups the polynomial families for each direction\n",
    "polyColl = ot.PolynomialFamilyCollection(dim)\n",
    "# For information, with the Krawtchouk and Charlier families :\n",
    "polyColl[0] = ot.KrawtchoukFactory()\n",
    "polyColl[1] = ot.CharlierFactory()\n",
    "# for information, with the automatic selection\n",
    "for i in range(Xdist.getDimension()):\n",
    "    polyColl[i] = ot.StandardDistributionPolynomialFactory(Xdist.getMarginal(i))\n",
    "# We overload these factories as they are dedicated to discrete distributions\n",
    "polyColl[0] = ot.HermiteFactory()\n",
    "polyColl[1] = ot.LegendreFactory()\n",
    "polyColl[2] = ot.LaguerreFactory(2.75)\n",
    "# Parameter for the Jacobi factory : 'Probabilty' encoded with 1\n",
    "polyColl[3] = ot.JacobiFactory(2.5, 3.5, 1)"
   ]
  },
  {
   "cell_type": "code",
   "execution_count": 16,
   "metadata": {
    "collapsed": true
   },
   "outputs": [],
   "source": [
    "# Create the enumeration function\n",
    "# LinearEnumerateFunction\n",
    "enumerateFunction = ot.LinearEnumerateFunction(dim)\n",
    "\n",
    "# HyperbolicAnisotropicEnumerateFunction\n",
    "q = 0.4\n",
    "enumerateFunction_1 = ot.HyperbolicAnisotropicEnumerateFunction(dim, q)"
   ]
  },
  {
   "cell_type": "code",
   "execution_count": 17,
   "metadata": {
    "collapsed": true
   },
   "outputs": [],
   "source": [
    "# Create the multivariate orthonormal basis\n",
    "# which is the the cartesian product of the univariate basis\n",
    "multivariateBasis = ot.OrthogonalProductPolynomialFactory(\n",
    "    polyColl, enumerateFunction)"
   ]
  },
  {
   "cell_type": "code",
   "execution_count": 18,
   "metadata": {},
   "outputs": [
    {
     "data": {
      "text/plain": [
       "56"
      ]
     },
     "execution_count": 18,
     "metadata": {},
     "output_type": "execute_result"
    }
   ],
   "source": [
    "# Ask how many polynomials have degrees equal to k=5\n",
    "k = 5\n",
    "enumerateFunction.getStrataCardinal(k)"
   ]
  },
  {
   "cell_type": "code",
   "execution_count": 19,
   "metadata": {},
   "outputs": [
    {
     "data": {
      "text/plain": [
       "126"
      ]
     },
     "execution_count": 19,
     "metadata": {},
     "output_type": "execute_result"
    }
   ],
   "source": [
    "# Ask how many polynomials have degrees inferior or equal to k=5\n",
    "enumerateFunction.getStrataCumulatedCardinal(k)"
   ]
  },
  {
   "cell_type": "code",
   "execution_count": 20,
   "metadata": {},
   "outputs": [
    {
     "data": {
      "text/html": [
       "<p>[2,0,0,0]<br>\n",
       "</p>"
      ],
      "text/plain": [
       "[2,0,0,0]"
      ]
     },
     "execution_count": 20,
     "metadata": {},
     "output_type": "execute_result"
    }
   ],
   "source": [
    "# Give the k-th term of the multivariate basis\n",
    "# To calculate its degree, add the integers\n",
    "k = 5\n",
    "enumerateFunction(k)"
   ]
  },
  {
   "cell_type": "code",
   "execution_count": 21,
   "metadata": {},
   "outputs": [
    {
     "data": {
      "text/html": [
       "<p>-0.707107 + 0.707107 * x0^2<br>\n",
       "</p>"
      ],
      "text/plain": [
       "class=Function name=Unnamed implementation=class=FunctionImplementation name=Unnamed description=[x0,x1,x2,x3,y0] evaluationImplementation=class=ProductPolynomialEvaluation, polynomials=[class=UniVariatePolynomial coefficients=class=Point name=Unnamed dimension=3 values=[-0.707107,0,0.707107],class=UniVariatePolynomial coefficients=class=Point name=Unnamed dimension=1 values=[1],class=UniVariatePolynomial coefficients=class=Point name=Unnamed dimension=1 values=[1],class=UniVariatePolynomial coefficients=class=Point name=Unnamed dimension=1 values=[1]] gradientImplementation=class=ProductPolynomialGradient hessianImplementation=class=ProductPolynomialHessian"
      ]
     },
     "execution_count": 21,
     "metadata": {},
     "output_type": "execute_result"
    }
   ],
   "source": [
    "# Build a term of the basis as a NumericalMathFunction\n",
    "# Generally, we do not need to construct manually any term,\n",
    "# all terms are constructed automatically by a strategy of construction of\n",
    "# the basis\n",
    "i = 5\n",
    "Psi_i = multivariateBasis.build(i)\n",
    "Psi_i"
   ]
  },
  {
   "cell_type": "code",
   "execution_count": 22,
   "metadata": {},
   "outputs": [
    {
     "data": {
      "text/html": [
       "<p>ComposedDistribution(Normal(mu = 0, sigma = 1), Uniform(a = -1, b = 1), Gamma(k = 3.75, lambda = 1, gamma = 0), Beta(r = 2.5, t = 3.5, a = -1, b = 1), IndependentCopula(dimension = 4))<br>\n",
       "</p>"
      ],
      "text/plain": [
       "class=ComposedDistribution name=ComposedDistribution dimension=4 copula=class=IndependentCopula name=IndependentCopula dimension=4 marginal[0]=class=Normal name=Normal dimension=1 mean=class=Point name=Unnamed dimension=1 values=[0] sigma=class=Point name=Unnamed dimension=1 values=[1] correlationMatrix=class=CorrelationMatrix dimension=1 implementation=class=MatrixImplementation name=Unnamed rows=1 columns=1 values=[1] marginal[1]=class=Uniform name=Uniform dimension=1 a=-1 b=1 marginal[2]=class=Gamma name=Gamma dimension=1 k=3.75 lambda=1 gamma=0 marginal[3]=class=Beta name=Beta dimension=1 r=2.5 t=3.5 a=-1 b=1"
      ]
     },
     "execution_count": 22,
     "metadata": {},
     "output_type": "execute_result"
    }
   ],
   "source": [
    "# Get the measure mu associated to the multivariate basis\n",
    "distributionMu = multivariateBasis.getMeasure()\n",
    "distributionMu"
   ]
  },
  {
   "cell_type": "code",
   "execution_count": 23,
   "metadata": {
    "collapsed": true
   },
   "outputs": [],
   "source": [
    "####################################################################\n",
    "# STEP 2: Truncature strategy of the multivariate orthonormal basis\n",
    "#############################################################\n",
    "# FixedStrategy :\n",
    "# all the polynomials af degree <=2\n",
    "# which corresponds to the 15 first ones\n",
    "p = 15\n",
    "truncatureBasisStrategy = ot.FixedStrategy(multivariateBasis, p)\n",
    "\n",
    "# SequentialStrategy :\n",
    "# among the maximumCardinalBasis = 100 first polynomials\n",
    "# of the multivariate basis those verfying the convergence criterion,\n",
    "maximumCardinalBasis = 100\n",
    "truncatureBasisStrategy_1 = ot.SequentialStrategy(\n",
    "    multivariateBasis, maximumCardinalBasis)\n",
    "\n",
    "# CleaningStrategy :\n",
    "# among the maximumConsideredTerms = 500 first polynomials,\n",
    "# those which have the mostSignificant = 50 most significant contributions\n",
    "# with significance criterion significanceFactor = 10^(-4)\n",
    "# The True boolean indicates if we are interested\n",
    "# in the online monitoring of the current basis update\n",
    "# (removed or added coefficients)\n",
    "maximumConsideredTerms = 500\n",
    "mostSignificant = 50\n",
    "significanceFactor = 1.0e-4\n",
    "truncatureBasisStrategy_2 = ot.CleaningStrategy(\n",
    "    multivariateBasis, maximumConsideredTerms, mostSignificant, significanceFactor, True)"
   ]
  },
  {
   "cell_type": "code",
   "execution_count": 24,
   "metadata": {},
   "outputs": [],
   "source": [
    "################################################################\n",
    "# STEP 3: Evaluation strategy of the approximation coefficients\n",
    "#############################################################\n",
    "# The technique illustrated is the Least Squares technique\n",
    "# where the points come from an design of experiments\n",
    "# Here : the Monte Carlo sampling technique\n",
    "sampleSize = 100\n",
    "evaluationCoeffStrategy = ot.LeastSquaresStrategy(\n",
    "    ot.MonteCarloExperiment(sampleSize))\n",
    "\n",
    "# You can specify the approximation algorithm\n",
    "# This is the algorithm that generates a sequence of basis using Least\n",
    "# Angle Regression\n",
    "basisSequenceFactory = ot.LARS()\n",
    "\n",
    "# This algorithm estimates the empirical error on each sub-basis using\n",
    "# Leave One Out strategy\n",
    "fittingAlgorithm = ot.CorrectedLeaveOneOut()\n",
    "# Finally the metamodel selection algorithm embbeded in LeastSquaresStrategy\n",
    "approximationAlgorithm = ot.LeastSquaresMetaModelSelectionFactory(\n",
    "    basisSequenceFactory, fittingAlgorithm)\n",
    "evaluationCoeffStrategy_2 = ot.LeastSquaresStrategy(\n",
    "    ot.MonteCarloExperiment(sampleSize), approximationAlgorithm)\n",
    "\n",
    "# Try integration\n",
    "marginalDegrees = [2] * dim\n",
    "evaluationCoeffStrategy_3 = ot.IntegrationStrategy(\n",
    "    ot.GaussProductExperiment(distributionMu, marginalDegrees))"
   ]
  },
  {
   "cell_type": "code",
   "execution_count": 25,
   "metadata": {
    "collapsed": true
   },
   "outputs": [],
   "source": [
    "#####################################################\n",
    "# STEP 4: Creation of the Functional Chaos Algorithm\n",
    "#############################################################\n",
    "# FunctionalChaosAlgorithm :\n",
    "# combination of the model : myModel\n",
    "# the distribution of the input random vector : Xdist\n",
    "# the truncature strategy of the multivariate basis\n",
    "# and the evaluation strategy of the coefficients\n",
    "polynomialChaosAlgorithm = ot.FunctionalChaosAlgorithm(\n",
    "    myModel, Xdist, truncatureBasisStrategy, evaluationCoeffStrategy)"
   ]
  }
 ],
 "metadata": {
  "kernelspec": {
   "display_name": "Python 3",
   "language": "python",
   "name": "python3"
  },
  "language_info": {
   "codemirror_mode": {
    "name": "ipython",
    "version": 3
   },
   "file_extension": ".py",
   "mimetype": "text/x-python",
   "name": "python",
   "nbconvert_exporter": "python",
   "pygments_lexer": "ipython3",
   "version": "3.5.2"
  }
 },
 "nbformat": 4,
 "nbformat_minor": 1
}
