{
  "cells": [
    {
      "cell_type": "markdown",
      "metadata": {},
      "source": [
        "\n# Quick start guide to distributions\n"
      ]
    },
    {
      "cell_type": "markdown",
      "metadata": {},
      "source": [
        "## Abstract\n\nIn this example, we present classes for univariate and multivariate distributions.\nWe demonstrate the probabilistic programming capabilities of the library.\nFor univariate distributions, we show how to compute the probability density,\nthe cumulated probability density and the quantiles.\nWe also show how to create graphics.\nThe :class:`~openturns.ComposedDistribution` class, which creates a distribution based on its\nmarginals and its copula, is presented.\nWe show how to truncate any distribution with the :class:`~openturns.TruncatedDistribution` class.\n\n"
      ]
    },
    {
      "cell_type": "markdown",
      "metadata": {},
      "source": [
        "## Univariate distribution\n\nThe library is a probabilistic programming library: it is possible to create a random variable and perform operations on this variable *without* generating a sample.\n\nIn the OpenTURNS platform, several *univariate distributions* are implemented. The most commonly used are:\n\n- :class:`~openturns.Uniform`,\n- :class:`~openturns.Normal`,\n- :class:`~openturns.Beta`,\n- :class:`~openturns.LogNormal`,\n- :class:`~openturns.Exponential`,\n- :class:`~openturns.Weibull`.\n\n"
      ]
    },
    {
      "cell_type": "code",
      "execution_count": null,
      "metadata": {
        "collapsed": false
      },
      "outputs": [],
      "source": [
        "import openturns.viewer as otv\nimport openturns as ot\nimport openturns.viewer as viewer\nfrom matplotlib import pylab as plt\n\not.Log.Show(ot.Log.NONE)"
      ]
    },
    {
      "cell_type": "markdown",
      "metadata": {},
      "source": [
        "## The uniform distribution\n\nLet us create a uniform random variable $\\mathcal{U}(2,5)$.\n\n"
      ]
    },
    {
      "cell_type": "code",
      "execution_count": null,
      "metadata": {
        "collapsed": false
      },
      "outputs": [],
      "source": [
        "uniform = ot.Uniform(2, 5)"
      ]
    },
    {
      "cell_type": "markdown",
      "metadata": {},
      "source": [
        "The :meth:`~openturns.Distribution.drawPDF` method plots the probability density function.\n\n"
      ]
    },
    {
      "cell_type": "code",
      "execution_count": null,
      "metadata": {
        "collapsed": false
      },
      "outputs": [],
      "source": [
        "graph = uniform.drawPDF()\nview = viewer.View(graph)"
      ]
    },
    {
      "cell_type": "markdown",
      "metadata": {},
      "source": [
        "The :meth:`~openturns.Distribution.computePDF` method computes the probability distribution at a specific point.\n\n"
      ]
    },
    {
      "cell_type": "code",
      "execution_count": null,
      "metadata": {
        "collapsed": false
      },
      "outputs": [],
      "source": [
        "uniform.computePDF(3.5)"
      ]
    },
    {
      "cell_type": "markdown",
      "metadata": {},
      "source": [
        "The :meth:`~openturns.Distribution.drawCDF` method plots the cumulated distribution function.\n\n"
      ]
    },
    {
      "cell_type": "code",
      "execution_count": null,
      "metadata": {
        "collapsed": false
      },
      "outputs": [],
      "source": [
        "graph = uniform.drawCDF()\nview = viewer.View(graph)"
      ]
    },
    {
      "cell_type": "markdown",
      "metadata": {},
      "source": [
        "The :meth:`~openturns.Distribution.computeCDF` method computes the value of the cumulated distribution function a given point.\n\n"
      ]
    },
    {
      "cell_type": "code",
      "execution_count": null,
      "metadata": {
        "collapsed": false
      },
      "outputs": [],
      "source": [
        "uniform.computeCDF(3.5)"
      ]
    },
    {
      "cell_type": "markdown",
      "metadata": {},
      "source": [
        "The :meth:`~openturns.Distribution.getSample` method generates a sample.\n\n"
      ]
    },
    {
      "cell_type": "code",
      "execution_count": null,
      "metadata": {
        "collapsed": false
      },
      "outputs": [],
      "source": [
        "sample = uniform.getSample(10)\nsample"
      ]
    },
    {
      "cell_type": "markdown",
      "metadata": {},
      "source": [
        "The most common way to \"see\" a sample is to plot the empirical histogram.\n\n"
      ]
    },
    {
      "cell_type": "code",
      "execution_count": null,
      "metadata": {
        "collapsed": false
      },
      "outputs": [],
      "source": [
        "sample = uniform.getSample(1000)\ngraph = ot.HistogramFactory().build(sample).drawPDF()\nview = viewer.View(graph)"
      ]
    },
    {
      "cell_type": "markdown",
      "metadata": {},
      "source": [
        "## Multivariate distributions with or without independent copula\n\n"
      ]
    },
    {
      "cell_type": "markdown",
      "metadata": {},
      "source": [
        "We can create multivariate distributions by two different methods:\n\n- we can also create a multivariate distribution by combining a list of univariate marginal distribution and a copula,\n- some distributions are defined as multivariate distributions: :class:`~openturns.Normal`, :class:`~openturns.Dirichlet`, :class:`~openturns.Student`.\n\n"
      ]
    },
    {
      "cell_type": "markdown",
      "metadata": {},
      "source": [
        "Define a multivariate Normal distribution in dimension 4\n\n"
      ]
    },
    {
      "cell_type": "code",
      "execution_count": null,
      "metadata": {
        "collapsed": false
      },
      "outputs": [],
      "source": [
        "distribution = ot.Normal(4)\ndistribution"
      ]
    },
    {
      "cell_type": "markdown",
      "metadata": {},
      "source": [
        "Since the method based on a marginal and a copula is more flexible, we illustrate below this principle.\nIn the following script, we define a bivariate distribution made of two univariate distributions (Gaussian and uniform) and an independent copula.\nThe second input argument of the :class:`~openturns.ComposedDistribution` class is optional: if it is not specified, the copula is independent by default.\n\n"
      ]
    },
    {
      "cell_type": "code",
      "execution_count": null,
      "metadata": {
        "collapsed": false
      },
      "outputs": [],
      "source": [
        "normal = ot.Normal()\nuniform = ot.Uniform()\ndistribution = ot.ComposedDistribution([normal, uniform])\ndistribution"
      ]
    },
    {
      "cell_type": "markdown",
      "metadata": {},
      "source": [
        "We can also use the :class:`~openturns.IndependentCopula` class.\n\n"
      ]
    },
    {
      "cell_type": "code",
      "execution_count": null,
      "metadata": {
        "collapsed": false
      },
      "outputs": [],
      "source": [
        "normal = ot.Normal()\nuniform = ot.Uniform()\ncopula = ot.IndependentCopula(2)\ndistribution = ot.ComposedDistribution([normal, uniform], copula)\ndistribution"
      ]
    },
    {
      "cell_type": "markdown",
      "metadata": {},
      "source": [
        "We see that this produces the same result: in the end of this section, we will change the copula and see what happens.\n\n"
      ]
    },
    {
      "cell_type": "markdown",
      "metadata": {},
      "source": [
        "The :meth:`~openturns.Distribution.getSample` method produces a sample from this distribution.\n\n"
      ]
    },
    {
      "cell_type": "code",
      "execution_count": null,
      "metadata": {
        "collapsed": false
      },
      "outputs": [],
      "source": [
        "distribution.getSample(10)"
      ]
    },
    {
      "cell_type": "markdown",
      "metadata": {},
      "source": [
        "In order to visualize a bivariate sample, we can use the :class:`~openturns.Cloud` class.\n\n"
      ]
    },
    {
      "cell_type": "code",
      "execution_count": null,
      "metadata": {
        "collapsed": false
      },
      "outputs": [],
      "source": [
        "sample = distribution.getSample(1000)\nshowAxes = True\ngraph = ot.Graph(\"X0~N, X1~U\", \"X0\", \"X1\", showAxes)\ncloud = ot.Cloud(sample, \"blue\", \"fsquare\", \"\")  # Create the cloud\ngraph.add(cloud)  # Then, add it to the graph\nview = viewer.View(graph)"
      ]
    },
    {
      "cell_type": "markdown",
      "metadata": {},
      "source": [
        "We see that the marginals are Gaussian and uniform and that the copula is independent.\n\n"
      ]
    },
    {
      "cell_type": "markdown",
      "metadata": {},
      "source": [
        "## Define a plot a copula\n\n"
      ]
    },
    {
      "cell_type": "markdown",
      "metadata": {},
      "source": [
        "The :class:`~openturns.NormalCopula` class allows one to create a Gaussian copula. Such a copula is defined by its correlation matrix.\n\n"
      ]
    },
    {
      "cell_type": "code",
      "execution_count": null,
      "metadata": {
        "collapsed": false
      },
      "outputs": [],
      "source": [
        "R = ot.CorrelationMatrix(2)\nR[0, 1] = 0.6\ncopula = ot.NormalCopula(R)\ncopula"
      ]
    },
    {
      "cell_type": "markdown",
      "metadata": {},
      "source": [
        "We can draw the contours of a copula with the :meth:`~openturns.NormalCopula.drawPDF` method.\n\n"
      ]
    },
    {
      "cell_type": "code",
      "execution_count": null,
      "metadata": {
        "collapsed": false
      },
      "outputs": [],
      "source": [
        "graph = copula.drawPDF()\nview = viewer.View(graph)"
      ]
    },
    {
      "cell_type": "markdown",
      "metadata": {},
      "source": [
        "## Multivariate distribution with arbitrary copula\n\n"
      ]
    },
    {
      "cell_type": "markdown",
      "metadata": {},
      "source": [
        "Now that we know that we can define a copula, we create a bivariate distribution with normal and uniform marginals and an arbitrary copula.\nWe select the Ali-Mikhail-Haq copula as an example of a non trivial dependence.\n\n"
      ]
    },
    {
      "cell_type": "code",
      "execution_count": null,
      "metadata": {
        "collapsed": false
      },
      "outputs": [],
      "source": [
        "normal = ot.Normal()\nuniform = ot.Uniform()\ntheta = 0.9\ncopula = ot.AliMikhailHaqCopula(theta)\ndistribution = ot.ComposedDistribution([normal, uniform], copula)\ndistribution"
      ]
    },
    {
      "cell_type": "code",
      "execution_count": null,
      "metadata": {
        "collapsed": false
      },
      "outputs": [],
      "source": [
        "sample = distribution.getSample(1000)\nshowAxes = True\ngraph = ot.Graph(\"X0~N, X1~U, Ali-Mikhail-Haq copula\", \"X0\", \"X1\", showAxes)\ncloud = ot.Cloud(sample, \"blue\", \"fsquare\", \"\")  # Create the cloud\ngraph.add(cloud)  # Then, add it to the graph\nview = viewer.View(graph)"
      ]
    },
    {
      "cell_type": "markdown",
      "metadata": {},
      "source": [
        "We see that the sample is quite different from the previous sample with independent copula.\n\n"
      ]
    },
    {
      "cell_type": "markdown",
      "metadata": {},
      "source": [
        "## Draw several distributions in the same plot\n\n"
      ]
    },
    {
      "cell_type": "markdown",
      "metadata": {},
      "source": [
        "It is sometimes convenient to create a plot presenting the PDF and CDF on the same graphics. This is possible thanks to Matplotlib.\n\n"
      ]
    },
    {
      "cell_type": "code",
      "execution_count": null,
      "metadata": {
        "collapsed": false
      },
      "outputs": [],
      "source": [
        "beta = ot.Beta(5, 7, 9, 10)\npdfbeta = beta.drawPDF()\ncdfbeta = beta.drawCDF()\nexponential = ot.Exponential(3)\npdfexp = exponential.drawPDF()\ncdfexp = exponential.drawCDF()"
      ]
    },
    {
      "cell_type": "code",
      "execution_count": null,
      "metadata": {
        "collapsed": false
      },
      "outputs": [],
      "source": [
        "grid = ot.GridLayout(2, 2)\ngrid.setGraph(0, 0, pdfbeta)\ngrid.setGraph(0, 1, cdfbeta)\ngrid.setGraph(1, 0, pdfexp)\ngrid.setGraph(1, 1, cdfexp)\nview = otv.View(grid)"
      ]
    },
    {
      "cell_type": "markdown",
      "metadata": {},
      "source": [
        "## Truncate a distribution\n\nAny distribution can be truncated with the :class:`~openturns.TruncatedDistribution` class.\nLet $f_X$ (resp. $F_X$) the PDF (resp. the CDF) of the real\nrandom variable $X$. Let $a$ and $b$ two reals with $a<b$.\nLet $Y$ be the random variable defined by:\n\n\\begin{align}Y = \\max(a, \\min(b, X)).\\end{align}\n\nIts distribution is the distribution of $X$ truncated to the $[a,b]$ interval.\nTherefore, the PDF of $Y$ is:\n\n\\begin{align}f_Y(y) = \\frac{f_X(y)}{F_X(b) - F_X(a)}\\end{align}\n\n\nif $y\\in[a,b]$ and $f_Y(y)=0$ otherwise.\n\n"
      ]
    },
    {
      "cell_type": "markdown",
      "metadata": {},
      "source": [
        "Consider for example the log-normal variable $X$ with mean $\\mu=0$ and standard deviation $\\sigma=1$.\n\n"
      ]
    },
    {
      "cell_type": "code",
      "execution_count": null,
      "metadata": {
        "collapsed": false
      },
      "outputs": [],
      "source": [
        "X = ot.LogNormal()\ngraph = X.drawPDF()\nview = viewer.View(graph)"
      ]
    },
    {
      "cell_type": "markdown",
      "metadata": {},
      "source": [
        "We can truncate this distribution to the $[1,2]$ interval. We see that the PDF of the distribution becomes discontinuous at the truncation points 1 and 2.\n\n"
      ]
    },
    {
      "cell_type": "code",
      "execution_count": null,
      "metadata": {
        "collapsed": false
      },
      "outputs": [],
      "source": [
        "Y = ot.TruncatedDistribution(X, 1.0, 2.0)\ngraph = Y.drawPDF()\nview = viewer.View(graph)"
      ]
    },
    {
      "cell_type": "markdown",
      "metadata": {},
      "source": [
        "We can also also truncate it with only a lower bound.\n\n"
      ]
    },
    {
      "cell_type": "code",
      "execution_count": null,
      "metadata": {
        "collapsed": false
      },
      "outputs": [],
      "source": [
        "Y = ot.TruncatedDistribution(X, 1.0, ot.TruncatedDistribution.LOWER)\ngraph = Y.drawPDF()\nview = viewer.View(graph)"
      ]
    },
    {
      "cell_type": "markdown",
      "metadata": {},
      "source": [
        "We can finally truncate a distribution with an upper bound.\n\n"
      ]
    },
    {
      "cell_type": "code",
      "execution_count": null,
      "metadata": {
        "collapsed": false
      },
      "outputs": [],
      "source": [
        "Y = ot.TruncatedDistribution(X, 2.0, ot.TruncatedDistribution.UPPER)\ngraph = Y.drawPDF()\nview = viewer.View(graph)\n\nplt.show()"
      ]
    },
    {
      "cell_type": "markdown",
      "metadata": {},
      "source": [
        "In the specific case of the Gaussian distribution, the specialized :class:`~openturns.TruncatedNormal` distribution can be used\ninstead of the generic :class:`~openturns.TruncatedDistribution` class.\n\n"
      ]
    }
  ],
  "metadata": {
    "kernelspec": {
      "display_name": "Python 3",
      "language": "python",
      "name": "python3"
    },
    "language_info": {
      "codemirror_mode": {
        "name": "ipython",
        "version": 3
      },
      "file_extension": ".py",
      "mimetype": "text/x-python",
      "name": "python",
      "nbconvert_exporter": "python",
      "pygments_lexer": "ipython3",
      "version": "3.11.5"
    }
  },
  "nbformat": 4,
  "nbformat_minor": 0
}