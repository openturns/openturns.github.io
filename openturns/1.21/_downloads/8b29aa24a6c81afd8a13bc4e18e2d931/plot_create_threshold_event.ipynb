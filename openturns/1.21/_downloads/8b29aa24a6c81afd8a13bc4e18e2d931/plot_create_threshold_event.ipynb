{
  "cells": [
    {
      "cell_type": "markdown",
      "metadata": {},
      "source": [
        "\n# Create a threshold event\n"
      ]
    },
    {
      "cell_type": "markdown",
      "metadata": {},
      "source": [
        "## Abstract\n\nWe present in this example the creation and the use of a :class:`~openturns.ThresholdEvent` to estimate a simple integral.\n\n\n"
      ]
    },
    {
      "cell_type": "code",
      "execution_count": null,
      "metadata": {
        "collapsed": false
      },
      "outputs": [],
      "source": [
        "import openturns as ot\nimport openturns.viewer as otv\nfrom matplotlib import pylab as plt"
      ]
    },
    {
      "cell_type": "markdown",
      "metadata": {},
      "source": [
        "We consider a standard Gaussian random vector $X$ and build a random vector from this distribution.\n\n"
      ]
    },
    {
      "cell_type": "code",
      "execution_count": null,
      "metadata": {
        "collapsed": false
      },
      "outputs": [],
      "source": [
        "distX = ot.Normal()\nvecX = ot.RandomVector(distX)"
      ]
    },
    {
      "cell_type": "markdown",
      "metadata": {},
      "source": [
        "We consider the simple model $f:x \\mapsto |x|$ and consider the output random variable $Y = f(X)$.\n\n"
      ]
    },
    {
      "cell_type": "code",
      "execution_count": null,
      "metadata": {
        "collapsed": false
      },
      "outputs": [],
      "source": [
        "f = ot.SymbolicFunction([\"x1\"], [\"abs(x1)\"])\nvecY = ot.CompositeRandomVector(f, vecX)"
      ]
    },
    {
      "cell_type": "markdown",
      "metadata": {},
      "source": [
        "We define a very simple :class:`~openturns.ThresholdEvent` which happpens whenever $|X| < 1.0$ :\n\n"
      ]
    },
    {
      "cell_type": "code",
      "execution_count": null,
      "metadata": {
        "collapsed": false
      },
      "outputs": [],
      "source": [
        "thresholdEvent = ot.ThresholdEvent(vecY, ot.Less(), 1.0)"
      ]
    },
    {
      "cell_type": "markdown",
      "metadata": {},
      "source": [
        "For the normal distribution, it is a well-known fact that the values lower than one standard deviation (here exactly 1) away from the mean (here 0) account roughly for 68.27% of the set.\nSo the probability of the event is:\n\n\n"
      ]
    },
    {
      "cell_type": "code",
      "execution_count": null,
      "metadata": {
        "collapsed": false
      },
      "outputs": [],
      "source": [
        "print(\"Probability of the event : %.4f\" % 0.6827)"
      ]
    },
    {
      "cell_type": "markdown",
      "metadata": {},
      "source": [
        "We can also use a basic estimator to get the probability of the event by drawing samples from the initial distribution `distX` and counting those which realize the event:\n\n"
      ]
    },
    {
      "cell_type": "code",
      "execution_count": null,
      "metadata": {
        "collapsed": false
      },
      "outputs": [],
      "source": [
        "print(\n    \"Probability of the event (event sampling) : %.4f\"\n    % thresholdEvent.getSample(1000).computeMean()[0]\n)"
      ]
    },
    {
      "cell_type": "markdown",
      "metadata": {},
      "source": [
        "The geometric interpretation is simply the area under the PDF of the standard normal distribution for $x \\in [-1,1]$ which we draw thereafter.\n\n"
      ]
    },
    {
      "cell_type": "code",
      "execution_count": null,
      "metadata": {
        "collapsed": false
      },
      "outputs": [],
      "source": [
        "def linearSample(xmin, xmax, npoints):\n    \"\"\"\n    Returns a sample created from a regular grid\n    from xmin to xmax with npoints points.\n    \"\"\"\n    step = (xmax - xmin) / (npoints - 1)\n    rg = ot.RegularGrid(xmin, step, npoints)\n    vertices = rg.getVertices()\n    return vertices"
      ]
    },
    {
      "cell_type": "markdown",
      "metadata": {},
      "source": [
        "The boundary of the event are the lines $x = -1.0$ and $x = 1.0$\n\n"
      ]
    },
    {
      "cell_type": "code",
      "execution_count": null,
      "metadata": {
        "collapsed": false
      },
      "outputs": [],
      "source": [
        "a, b = -1, 1"
      ]
    },
    {
      "cell_type": "code",
      "execution_count": null,
      "metadata": {
        "collapsed": false
      },
      "outputs": [],
      "source": [
        "nplot = 100  # Number of points in the plot\nx = linearSample(a, b, nplot)\ny = distX.computePDF(x)\n\n\ndef drawInTheBounds(vLow, vUp, n_test):\n    \"\"\"\n    Draw the area within the bounds.\n    \"\"\"\n    palette = ot.Drawable.BuildDefaultPalette(2)\n    myPaletteColor = palette[0]\n    polyData = [[vLow[i], vLow[i + 1], vUp[i + 1], vUp[i]] for i in range(n_test - 1)]\n    polygonList = [\n        ot.Polygon(polyData[i], myPaletteColor, myPaletteColor)\n        for i in range(n_test - 1)\n    ]\n    boundsPoly = ot.PolygonArray(polygonList)\n    return boundsPoly\n\n\nvLow = [[x[i, 0], 0.0] for i in range(nplot)]\nvUp = [[x[i, 0], y[i, 0]] for i in range(nplot)]\narea = distX.computeCDF(b) - distX.computeCDF(a)\nboundsPoly = drawInTheBounds(vLow, vUp, nplot)"
      ]
    },
    {
      "cell_type": "markdown",
      "metadata": {},
      "source": [
        "We add the colored area to the PDF graph.\n\n"
      ]
    },
    {
      "cell_type": "code",
      "execution_count": null,
      "metadata": {
        "collapsed": false
      },
      "outputs": [],
      "source": [
        "graph = distX.drawPDF()\ngraph.add(boundsPoly)\ngraph.setTitle(\"Probability of the event E = %.4f\" % (area))\ngraph.setLegends([\"\"])\nview = otv.View(graph)"
      ]
    },
    {
      "cell_type": "markdown",
      "metadata": {},
      "source": [
        "Display all figures\n\n"
      ]
    },
    {
      "cell_type": "code",
      "execution_count": null,
      "metadata": {
        "collapsed": false
      },
      "outputs": [],
      "source": [
        "plt.show()"
      ]
    }
  ],
  "metadata": {
    "kernelspec": {
      "display_name": "Python 3",
      "language": "python",
      "name": "python3"
    },
    "language_info": {
      "codemirror_mode": {
        "name": "ipython",
        "version": 3
      },
      "file_extension": ".py",
      "mimetype": "text/x-python",
      "name": "python",
      "nbconvert_exporter": "python",
      "pygments_lexer": "ipython3",
      "version": "3.11.6"
    }
  },
  "nbformat": 4,
  "nbformat_minor": 0
}