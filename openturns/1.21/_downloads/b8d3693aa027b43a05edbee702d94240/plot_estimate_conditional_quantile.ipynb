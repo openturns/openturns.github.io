{
  "cells": [
    {
      "cell_type": "markdown",
      "metadata": {},
      "source": [
        "\n# Estimate a conditional quantile\n"
      ]
    },
    {
      "cell_type": "code",
      "execution_count": null,
      "metadata": {
        "collapsed": false
      },
      "outputs": [],
      "source": [
        "# sphinx_gallery_thumbnail_number = 8"
      ]
    },
    {
      "cell_type": "markdown",
      "metadata": {},
      "source": [
        "From a multivariate data sample, we estimate a distribution with kernel smoothing.\nHere we present a bivariate distribution $X= (X_1, X_2)$.\nWe use the `computeConditionalQuantile` method to estimate the 90% quantile $Q_1$ of the conditional variable $X_2|X_1$ :\n\n\\begin{align}Q_2 : x_1 \\mapsto q_{0.9}(X_2|X_1=x_1)\\end{align}\n\nWe then draw the curve $Q_2 : x_1 \\mapsto Q_2(x_1)$.\nWe first start with independent normals then we consider dependent marginals with a Clayton copula.\n\n\n"
      ]
    },
    {
      "cell_type": "code",
      "execution_count": null,
      "metadata": {
        "collapsed": false
      },
      "outputs": [],
      "source": [
        "import openturns as ot\nimport openturns.viewer as viewer\nfrom matplotlib import pylab as plt\nimport numpy as np\n\not.Log.Show(ot.Log.NONE)"
      ]
    },
    {
      "cell_type": "markdown",
      "metadata": {},
      "source": [
        "Set the random generator seed\n\n"
      ]
    },
    {
      "cell_type": "code",
      "execution_count": null,
      "metadata": {
        "collapsed": false
      },
      "outputs": [],
      "source": [
        "ot.RandomGenerator.SetSeed(0)"
      ]
    },
    {
      "cell_type": "markdown",
      "metadata": {},
      "source": [
        "## Defining the marginals\n\nWe consider two independent normal marginals :\n\n"
      ]
    },
    {
      "cell_type": "code",
      "execution_count": null,
      "metadata": {
        "collapsed": false
      },
      "outputs": [],
      "source": [
        "X1 = ot.Normal(0.0, 1.0)\nX2 = ot.Normal(0.0, 3.0)"
      ]
    },
    {
      "cell_type": "markdown",
      "metadata": {},
      "source": [
        "## Independent marginals\n\n"
      ]
    },
    {
      "cell_type": "code",
      "execution_count": null,
      "metadata": {
        "collapsed": false
      },
      "outputs": [],
      "source": [
        "distX = ot.ComposedDistribution([X1, X2])\nsample = distX.getSample(1000)"
      ]
    },
    {
      "cell_type": "markdown",
      "metadata": {},
      "source": [
        "Let's see the data\n\n"
      ]
    },
    {
      "cell_type": "code",
      "execution_count": null,
      "metadata": {
        "collapsed": false
      },
      "outputs": [],
      "source": [
        "graph = ot.Graph(\"2D-Normal sample\", \"x1\", \"x2\", True, \"\")\ncloud = ot.Cloud(sample, \"blue\", \"fsquare\", \"My Cloud\")\ngraph.add(cloud)\ngraph.setXTitle(\"$X_1$\")\ngraph.setYTitle(\"$X_2$\")\ngraph.setTitle(\"A sample from $X=(X_1, X_2)$\")\nview = viewer.View(graph)"
      ]
    },
    {
      "cell_type": "markdown",
      "metadata": {},
      "source": [
        "We draw the isolines of the PDF of $X$ :\n\n"
      ]
    },
    {
      "cell_type": "code",
      "execution_count": null,
      "metadata": {
        "collapsed": false
      },
      "outputs": [],
      "source": [
        "graph = distX.drawPDF()\ngraph.setXTitle(\"$X_1$\")\ngraph.setYTitle(\"$X_2$\")\ngraph.setTitle(\"iso-PDF of $X=(X_1, X_2)$\")\nview = viewer.View(graph)"
      ]
    },
    {
      "cell_type": "markdown",
      "metadata": {},
      "source": [
        "We estimate the density with kernel smoothing :\n\n"
      ]
    },
    {
      "cell_type": "code",
      "execution_count": null,
      "metadata": {
        "collapsed": false
      },
      "outputs": [],
      "source": [
        "kernel = ot.KernelSmoothing()\nestimated = kernel.build(sample)"
      ]
    },
    {
      "cell_type": "markdown",
      "metadata": {},
      "source": [
        "We draw the isolines of the estimated PDF of $X$ :\n\n"
      ]
    },
    {
      "cell_type": "code",
      "execution_count": null,
      "metadata": {
        "collapsed": false
      },
      "outputs": [],
      "source": [
        "graph = estimated.drawPDF()\ngraph.setXTitle(\"$X_1$\")\ngraph.setYTitle(\"$X_2$\")\ngraph.setTitle(\"iso-PDF of $X=(X_1, X_2)$ estimated by kernel smoothing\")\nview = viewer.View(graph)"
      ]
    },
    {
      "cell_type": "markdown",
      "metadata": {},
      "source": [
        "We can compute the conditional quantile of $X_2 | X_1$ with the `computeConditionalQuantile` method and draw it after.\n\n\n"
      ]
    },
    {
      "cell_type": "markdown",
      "metadata": {},
      "source": [
        "We first create N observation points in $[-3.0, 3.0]$ :\n\n"
      ]
    },
    {
      "cell_type": "code",
      "execution_count": null,
      "metadata": {
        "collapsed": false
      },
      "outputs": [],
      "source": [
        "N = 301\nxobs = np.linspace(-3.0, 3.0, N)\nsampleObs = ot.Sample([[xi] for xi in xobs])"
      ]
    },
    {
      "cell_type": "markdown",
      "metadata": {},
      "source": [
        "We create curves of the exact and approximated quantile $Q_1$\n\n"
      ]
    },
    {
      "cell_type": "code",
      "execution_count": null,
      "metadata": {
        "collapsed": false
      },
      "outputs": [],
      "source": [
        "x = [xi for xi in xobs]\nyapp = [estimated.computeConditionalQuantile(0.9, sampleObs[i]) for i in range(N)]\nyex = [distX.computeConditionalQuantile(0.9, sampleObs[i]) for i in range(N)]"
      ]
    },
    {
      "cell_type": "code",
      "execution_count": null,
      "metadata": {
        "collapsed": false
      },
      "outputs": [],
      "source": [
        "cxy_app = ot.Curve(x, yapp)\ncxy_ex = ot.Curve(x, yex)\ngraph = ot.Graph(\"90% quantile of $X_2 | X_1=x_1$\", \"$x_1$\", \"$Q_2(x_1)$\", True, \"\")\ngraph.add(cxy_app)\ngraph.add(cxy_ex)\ngraph.setLegends([\"$Q_2$ kernel smoothing\", \"$Q_2$ exact\"])\ngraph.setLegendPosition(\"bottomright\")\ngraph.setColors([\"red\", \"blue\"])\nview = viewer.View(graph)"
      ]
    },
    {
      "cell_type": "markdown",
      "metadata": {},
      "source": [
        "In this case the $Q_2$ quantile is constant because of the independence of the marginals.\n\n\n"
      ]
    },
    {
      "cell_type": "markdown",
      "metadata": {},
      "source": [
        "## Dependence through a Clayton copula\n\nWe now define a Clayton copula to model the dependence between our marginals.\nThe Clayton copula is a bivariate asymmmetric Archimedean copula, exhibiting greater dependence\nin the negative tail than in the positive.\n\n\n"
      ]
    },
    {
      "cell_type": "code",
      "execution_count": null,
      "metadata": {
        "collapsed": false
      },
      "outputs": [],
      "source": [
        "copula = ot.ClaytonCopula(2.5)\ndistX = ot.ComposedDistribution([X1, X2], copula)"
      ]
    },
    {
      "cell_type": "markdown",
      "metadata": {},
      "source": [
        "We generate a sample from the distribution :\n\n"
      ]
    },
    {
      "cell_type": "code",
      "execution_count": null,
      "metadata": {
        "collapsed": false
      },
      "outputs": [],
      "source": [
        "sample = distX.getSample(1000)"
      ]
    },
    {
      "cell_type": "markdown",
      "metadata": {},
      "source": [
        "Let's see the data\n\n"
      ]
    },
    {
      "cell_type": "code",
      "execution_count": null,
      "metadata": {
        "collapsed": false
      },
      "outputs": [],
      "source": [
        "graph = ot.Graph(\"2D-Normal sample\", \"x1\", \"x2\", True, \"\")\ncloud = ot.Cloud(sample, \"blue\", \"fsquare\", \"My Cloud\")\ngraph.add(cloud)\ngraph.setXTitle(\"$X_1$\")\ngraph.setYTitle(\"$X_2$\")\ngraph.setTitle(\"A sample from $X=(X_1, X_2)$\")\nview = viewer.View(graph)"
      ]
    },
    {
      "cell_type": "markdown",
      "metadata": {},
      "source": [
        "We draw the isolines of the PDF of $X$ :\n\n"
      ]
    },
    {
      "cell_type": "code",
      "execution_count": null,
      "metadata": {
        "collapsed": false
      },
      "outputs": [],
      "source": [
        "graph = distX.drawPDF()\ngraph.setXTitle(\"$X_1$\")\ngraph.setYTitle(\"$X_2$\")\ngraph.setTitle(\"iso-PDF of $X=(X_1, X_2)$\")\nview = viewer.View(graph)"
      ]
    },
    {
      "cell_type": "markdown",
      "metadata": {},
      "source": [
        "We estimate the density with kernel smoothing :\n\n"
      ]
    },
    {
      "cell_type": "code",
      "execution_count": null,
      "metadata": {
        "collapsed": false
      },
      "outputs": [],
      "source": [
        "kernel = ot.KernelSmoothing()\nestimated = kernel.build(sample)"
      ]
    },
    {
      "cell_type": "markdown",
      "metadata": {},
      "source": [
        "We draw the isolines of the estimated PDF of $X$ :\n\n"
      ]
    },
    {
      "cell_type": "code",
      "execution_count": null,
      "metadata": {
        "collapsed": false
      },
      "outputs": [],
      "source": [
        "graph = estimated.drawPDF()\ngraph.setXTitle(\"$X_1$\")\ngraph.setYTitle(\"$X_2$\")\ngraph.setTitle(\"iso-PDF of $X=(X_1, X_2)$ estimated by kernel smoothing\")\nview = viewer.View(graph)"
      ]
    },
    {
      "cell_type": "markdown",
      "metadata": {},
      "source": [
        "We can compute the conditional quantile of $X_2 | X_1=x1$ with the `computeConditionalQuantile` method and draw it after.\n\n\n"
      ]
    },
    {
      "cell_type": "markdown",
      "metadata": {},
      "source": [
        "We first create N observation points in $[-3.0, 3.0]$ :\n\n"
      ]
    },
    {
      "cell_type": "code",
      "execution_count": null,
      "metadata": {
        "collapsed": false
      },
      "outputs": [],
      "source": [
        "N = 301\nxobs = np.linspace(-3.0, 3.0, N)\nsampleObs = ot.Sample([[xi] for xi in xobs])"
      ]
    },
    {
      "cell_type": "markdown",
      "metadata": {},
      "source": [
        "We create curves of the exact and approximated quantile $Q_1$\n\n"
      ]
    },
    {
      "cell_type": "code",
      "execution_count": null,
      "metadata": {
        "collapsed": false
      },
      "outputs": [],
      "source": [
        "x = [xi for xi in xobs]\nyapp = [estimated.computeConditionalQuantile(0.9, sampleObs[i]) for i in range(N)]\nyex = [distX.computeConditionalQuantile(0.9, sampleObs[i]) for i in range(N)]"
      ]
    },
    {
      "cell_type": "code",
      "execution_count": null,
      "metadata": {
        "collapsed": false
      },
      "outputs": [],
      "source": [
        "cxy_app = ot.Curve(x, yapp)\ncxy_ex = ot.Curve(x, yex)\ngraph = ot.Graph(\"90% quantile of $X_2 | X_1=x_1$\", \"$x_1$\", \"$Q_2(x_1)$\", True, \"\")\ngraph.add(cxy_app)\ngraph.add(cxy_ex)\ngraph.setLegends([\"$Q_2$ kernel smoothing\", \"$Q_2$ exact\"])\ngraph.setLegendPosition(\"bottomright\")\ngraph.setColors([\"red\", \"blue\"])\nview = viewer.View(graph)"
      ]
    },
    {
      "cell_type": "markdown",
      "metadata": {},
      "source": [
        "Our estimated conditional quantile is a good approximate and should be better the more data we have. We can observe it by increasing the number of samples.\n\n\n"
      ]
    },
    {
      "cell_type": "code",
      "execution_count": null,
      "metadata": {
        "collapsed": false
      },
      "outputs": [],
      "source": [
        "plt.show()"
      ]
    }
  ],
  "metadata": {
    "kernelspec": {
      "display_name": "Python 3",
      "language": "python",
      "name": "python3"
    },
    "language_info": {
      "codemirror_mode": {
        "name": "ipython",
        "version": 3
      },
      "file_extension": ".py",
      "mimetype": "text/x-python",
      "name": "python",
      "nbconvert_exporter": "python",
      "pygments_lexer": "ipython3",
      "version": "3.11.3"
    }
  },
  "nbformat": 4,
  "nbformat_minor": 0
}