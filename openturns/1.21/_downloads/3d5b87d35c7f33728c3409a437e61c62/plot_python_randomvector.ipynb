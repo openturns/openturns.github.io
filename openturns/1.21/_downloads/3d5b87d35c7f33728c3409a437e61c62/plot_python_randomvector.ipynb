{
  "cells": [
    {
      "cell_type": "markdown",
      "metadata": {},
      "source": [
        "\n# Create a random vector\n"
      ]
    },
    {
      "cell_type": "markdown",
      "metadata": {},
      "source": [
        "In this example we are going to create a distribution or copula.\n\nThe way to go is inheriting the PythonRandomVector class and overload its methods:\n\n- getRealization\n- getSample\n- getMean\n- getCovariance\n\n"
      ]
    },
    {
      "cell_type": "code",
      "execution_count": null,
      "metadata": {
        "collapsed": false
      },
      "outputs": [],
      "source": [
        "import openturns as ot\n\not.Log.Show(ot.Log.NONE)"
      ]
    },
    {
      "cell_type": "markdown",
      "metadata": {},
      "source": [
        "Inherit PythonRandomVector\n\n"
      ]
    },
    {
      "cell_type": "code",
      "execution_count": null,
      "metadata": {
        "collapsed": false
      },
      "outputs": [],
      "source": [
        "class RVEC(ot.PythonRandomVector):\n    def __init__(self):\n        super(RVEC, self).__init__(2)\n        self.setDescription([\"R\", \"S\"])\n\n    def getRealization(self):\n        X = [ot.RandomGenerator.Generate(), 2.0 + ot.RandomGenerator.Generate()]\n        return X\n\n    def getSample(self, size):\n        X = []\n        for i in range(size):\n            X.append(\n                [ot.RandomGenerator.Generate(), 2.0 + ot.RandomGenerator.Generate()]\n            )\n        return X\n\n    def getMean(self):\n        return [0.5, 2.5]\n\n    def getCovariance(self):\n        return [[1.0, 0.0], [0.0, 1.0]]"
      ]
    },
    {
      "cell_type": "markdown",
      "metadata": {},
      "source": [
        "Instantiate our distribution\n\n"
      ]
    },
    {
      "cell_type": "code",
      "execution_count": null,
      "metadata": {
        "collapsed": false
      },
      "outputs": [],
      "source": [
        "randomVector = ot.RandomVector(RVEC())"
      ]
    },
    {
      "cell_type": "markdown",
      "metadata": {},
      "source": [
        "Get a sample\n\n"
      ]
    },
    {
      "cell_type": "code",
      "execution_count": null,
      "metadata": {
        "collapsed": false
      },
      "outputs": [],
      "source": [
        "randomVector.getSample(5)"
      ]
    },
    {
      "cell_type": "markdown",
      "metadata": {},
      "source": [
        "Get mean\n\n"
      ]
    },
    {
      "cell_type": "code",
      "execution_count": null,
      "metadata": {
        "collapsed": false
      },
      "outputs": [],
      "source": [
        "randomVector.getMean()"
      ]
    },
    {
      "cell_type": "markdown",
      "metadata": {},
      "source": [
        "Compute the probability contained in an interval\n\n"
      ]
    },
    {
      "cell_type": "code",
      "execution_count": null,
      "metadata": {
        "collapsed": false
      },
      "outputs": [],
      "source": [
        "randomVector.getCovariance()"
      ]
    }
  ],
  "metadata": {
    "kernelspec": {
      "display_name": "Python 3",
      "language": "python",
      "name": "python3"
    },
    "language_info": {
      "codemirror_mode": {
        "name": "ipython",
        "version": 3
      },
      "file_extension": ".py",
      "mimetype": "text/x-python",
      "name": "python",
      "nbconvert_exporter": "python",
      "pygments_lexer": "ipython3",
      "version": "3.11.5"
    }
  },
  "nbformat": 4,
  "nbformat_minor": 0
}