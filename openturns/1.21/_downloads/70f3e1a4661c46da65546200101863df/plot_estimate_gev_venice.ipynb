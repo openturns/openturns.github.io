{
  "cells": [
    {
      "cell_type": "markdown",
      "metadata": {},
      "source": [
        "\n# Estimate a GEV on the Venice sea-levels data\n"
      ]
    },
    {
      "cell_type": "markdown",
      "metadata": {},
      "source": [
        "In this example, we illustrate various techniques of extreme value modeling applied\nto the annual maximum sea-levels recorded in Venice over the period 1931-1981.\nReaders should refer to [coles2001]_ to get more details.\n\nWe illustrate techniques to:\n\n- estimate a stationary GEV, using the $r$-largest annual sea-levels for $r\\geq 1$,\n\nusing:\n\n- the log-likelihood function,\n- the profile log-likelihood function.\n\nFirst, we load the 10 largest annual sea-levels in Venice. We start by looking at them\nthrough time. Note that for the year 1935, only the largest 6 observations are available.\nFor simplicity of the example, we removed that year from the data but it could be\nused for all the analyses beased on the largest $r$ annual sea-levels for $r \\leq 6$.\n\n"
      ]
    },
    {
      "cell_type": "code",
      "execution_count": null,
      "metadata": {
        "collapsed": false
      },
      "outputs": [],
      "source": [
        "import openturns as ot\nimport openturns.viewer as otv\nimport openturns.experimental as otexp\nfrom openturns.usecases import coles\n\ndata = coles.Coles().venice"
      ]
    },
    {
      "cell_type": "markdown",
      "metadata": {},
      "source": [
        "The column $i$ contains the largest $i$ annual sea-levels.\n\n"
      ]
    },
    {
      "cell_type": "code",
      "execution_count": null,
      "metadata": {
        "collapsed": false
      },
      "outputs": [],
      "source": [
        "print(data[:5])\ngraph = ot.Graph(\"Annual maximum sea-levels in Venice\", \"year\", \"level (cm)\", True, \"\")\nfor r in range(10):\n    cloud = ot.Cloud(data[:, [0, 1 + r]])\n    graph.add(cloud)\ngraph.setIntegerXTick(True)\nview = otv.View(graph)"
      ]
    },
    {
      "cell_type": "markdown",
      "metadata": {},
      "source": [
        "**Stationary GEV modeling from the annual maximum sea-levels**\n\nWe first assume that the dependence through time is negligible, so we first model the data as\nindependent observations over the observation period. We estimate the parameters of the\nGEV distribution by maximizing the log-likelihood of the data.\nWe select the first column of the data.\n\n"
      ]
    },
    {
      "cell_type": "code",
      "execution_count": null,
      "metadata": {
        "collapsed": false
      },
      "outputs": [],
      "source": [
        "sample = data[:, 1]"
      ]
    },
    {
      "cell_type": "markdown",
      "metadata": {},
      "source": [
        "Estimate the parameters of the GEV by maximizing the log-likehood\nand compute the parameter distribution\n\n"
      ]
    },
    {
      "cell_type": "code",
      "execution_count": null,
      "metadata": {
        "collapsed": false
      },
      "outputs": [],
      "source": [
        "factory = ot.GeneralizedExtremeValueFactory()\nresult_LL_max = factory.buildMethodOfLikelihoodMaximizationEstimator(sample)"
      ]
    },
    {
      "cell_type": "markdown",
      "metadata": {},
      "source": [
        "We get the fitted GEV and its parameters of $(\\hat{\\mu}, \\hat{\\sigma}, \\hat{\\xi})$.\n\n"
      ]
    },
    {
      "cell_type": "code",
      "execution_count": null,
      "metadata": {
        "collapsed": false
      },
      "outputs": [],
      "source": [
        "fitted_GEV = result_LL_max.getDistribution()\ndesc = fitted_GEV.getParameterDescription()\nparam = fitted_GEV.getParameter()\nprint(\", \".join([f\"{p}: {value:.3f}\" for p, value in zip(desc, param)]))\nprint(\"Max log-likelihood (one max): \", result_LL_max.getLogLikelihood())"
      ]
    },
    {
      "cell_type": "markdown",
      "metadata": {},
      "source": [
        "We get the asymptotic distribution of the estimator $(\\hat{\\mu}, \\hat{\\sigma}, \\hat{\\xi})$.\nIn that case, the asymptotic distribution is normal.\n\n"
      ]
    },
    {
      "cell_type": "code",
      "execution_count": null,
      "metadata": {
        "collapsed": false
      },
      "outputs": [],
      "source": [
        "parameterEstimate = result_LL_max.getParameterDistribution()\nprint(\"Asymptotic distribution of the estimator : \")\nprint(parameterEstimate)"
      ]
    },
    {
      "cell_type": "markdown",
      "metadata": {},
      "source": [
        "We get the covariance matrix  and the standard deviation of $(\\hat{\\mu}, \\hat{\\sigma}, \\hat{\\xi})$.\n\n"
      ]
    },
    {
      "cell_type": "code",
      "execution_count": null,
      "metadata": {
        "collapsed": false
      },
      "outputs": [],
      "source": [
        "print(\"Cov matrix = \", parameterEstimate.getCovariance())\nprint(\"Standard dev = \", parameterEstimate.getStandardDeviation())"
      ]
    },
    {
      "cell_type": "markdown",
      "metadata": {},
      "source": [
        "We get the marginal confidence intervals of order 0.95.\n\n"
      ]
    },
    {
      "cell_type": "code",
      "execution_count": null,
      "metadata": {
        "collapsed": false
      },
      "outputs": [],
      "source": [
        "order = 0.95\nfor i in range(3):\n    ci = parameterEstimate.getMarginal(i).computeBilateralConfidenceInterval(order)\n    print(desc[i] + \":\", ci)"
      ]
    },
    {
      "cell_type": "markdown",
      "metadata": {},
      "source": [
        "At last, we can validate the inference result thanks the 4 usual diagnostic plots:\n\n- the probability-probability pot,\n- the quantile-quantile pot,\n- the return level plot,\n- the empirical distribution function.\n\n"
      ]
    },
    {
      "cell_type": "code",
      "execution_count": null,
      "metadata": {
        "collapsed": false
      },
      "outputs": [],
      "source": [
        "validation = otexp.GeneralizedExtremeValueValidation(result_LL_max, sample)\ngraph = validation.drawDiagnosticPlot()\nview = otv.View(graph)"
      ]
    },
    {
      "cell_type": "markdown",
      "metadata": {},
      "source": [
        "We can also use the profile log-likehood function rather than log-likehood function  to estimate the parameters of the GEV.\n\n"
      ]
    },
    {
      "cell_type": "code",
      "execution_count": null,
      "metadata": {
        "collapsed": false
      },
      "outputs": [],
      "source": [
        "result_PLL_max = factory.buildMethodOfProfileLikelihoodMaximizationEstimator(sample)"
      ]
    },
    {
      "cell_type": "markdown",
      "metadata": {},
      "source": [
        "The following graph allows one to get the profile log-likelihood plot.\nIt also indicates the optimal value of $\\xi$, the maximum profile log-likelihood and\nthe confidence interval for $\\xi$ of order 0.95 (which is the default value).\n\n"
      ]
    },
    {
      "cell_type": "code",
      "execution_count": null,
      "metadata": {
        "collapsed": false
      },
      "outputs": [],
      "source": [
        "order = 0.95\nresult_PLL_max.setConfidenceLevel(order)\nprint(result_PLL_max.getParameterConfidenceInterval())"
      ]
    },
    {
      "cell_type": "markdown",
      "metadata": {},
      "source": [
        "We can get the numerical values of the confidence interval: it appears to be a bit smaller\nwith the interval obtained from the profile log-likelihood function than with the log-likelihood function.\nNote that if the order requested is too high, the confidence interval might not be calculated because\none of its bound is out of the definition domain of the log-likelihood function.\n\n"
      ]
    },
    {
      "cell_type": "code",
      "execution_count": null,
      "metadata": {
        "collapsed": false
      },
      "outputs": [],
      "source": [
        "try:\n    print(\n        \"Confidence interval for xi = \", result_PLL_max.getParameterConfidenceInterval()\n    )\nexcept Exception as ex:\n    print(type(ex))\n    pass"
      ]
    },
    {
      "cell_type": "markdown",
      "metadata": {},
      "source": [
        "**Stationary GEV modeling from the largest $r$ annual sea-levels**\n\nWe still assume that the dependence through time is negligible.  We estimate the parameters of the\nGEV distribution by maximizing the log-likelihood of the data. Now, we want to model more of the\nobserved extremes than the annual maxima: the additional information contained in the largest\n$10$ observations can be used to improve the estimation of the GEV model.\n\nNow, we drop the year column to keep only the maxima values.\n\n"
      ]
    },
    {
      "cell_type": "code",
      "execution_count": null,
      "metadata": {
        "collapsed": false
      },
      "outputs": [],
      "source": [
        "sample_rmax = data[:, 1:]\nprint(sample_rmax[:5])"
      ]
    },
    {
      "cell_type": "markdown",
      "metadata": {},
      "source": [
        "We estimate the parameters from the largest $r$ annual sea-levels for $r=1,5,10$.\nFor each $r$ value, we get the estimated parameters.\n\n"
      ]
    },
    {
      "cell_type": "code",
      "execution_count": null,
      "metadata": {
        "collapsed": false
      },
      "outputs": [],
      "source": [
        "factory = ot.GeneralizedExtremeValueFactory()\nr_candidate = [1, 5, 10]\nfor r in r_candidate:\n    estimate = factory.buildMethodOfLikelihoodMaximization(sample_rmax, r)\n    desc = estimate.getParameterDescription()\n    p = estimate.getParameter()\n    pretty_p = \", \".join([f\"{param}: {value:.3f}\" for param, value in zip(desc, p)])\n    print(f\"r={r:2} {pretty_p}\")"
      ]
    },
    {
      "cell_type": "code",
      "execution_count": null,
      "metadata": {
        "collapsed": false
      },
      "outputs": [],
      "source": [
        "otv.View.ShowAll()"
      ]
    }
  ],
  "metadata": {
    "kernelspec": {
      "display_name": "Python 3",
      "language": "python",
      "name": "python3"
    },
    "language_info": {
      "codemirror_mode": {
        "name": "ipython",
        "version": 3
      },
      "file_extension": ".py",
      "mimetype": "text/x-python",
      "name": "python",
      "nbconvert_exporter": "python",
      "pygments_lexer": "ipython3",
      "version": "3.11.3"
    }
  },
  "nbformat": 4,
  "nbformat_minor": 0
}