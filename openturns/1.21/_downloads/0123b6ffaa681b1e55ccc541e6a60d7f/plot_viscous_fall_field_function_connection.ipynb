{
  "cells": [
    {
      "cell_type": "markdown",
      "metadata": {},
      "source": [
        "\n# Define a connection function with a field output\n"
      ]
    },
    {
      "cell_type": "markdown",
      "metadata": {},
      "source": [
        "In this example, we define a function which has a vector input and a field output. The goal of this example is to show how to use the `PointToFieldConnection` to combine two functions.\nA detailed explanation of the model is presented `here <use-case-viscous-fall>`.\n\n"
      ]
    },
    {
      "cell_type": "markdown",
      "metadata": {},
      "source": [
        "## Define the model\n\n"
      ]
    },
    {
      "cell_type": "code",
      "execution_count": null,
      "metadata": {
        "collapsed": false
      },
      "outputs": [],
      "source": [
        "import openturns as ot\nimport openturns.viewer as viewer\nfrom matplotlib import pylab as plt\nimport numpy as np\n\not.Log.Show(ot.Log.NONE)"
      ]
    },
    {
      "cell_type": "markdown",
      "metadata": {},
      "source": [
        "We first define the time grid associated with the model.\n\n"
      ]
    },
    {
      "cell_type": "code",
      "execution_count": null,
      "metadata": {
        "collapsed": false
      },
      "outputs": [],
      "source": [
        "tmin = 0.0  # Minimum time\ntmax = 12.0  # Maximum time\ngridsize = 100  # Number of time steps\nmesh = ot.IntervalMesher([gridsize - 1]).build(ot.Interval(tmin, tmax))"
      ]
    },
    {
      "cell_type": "code",
      "execution_count": null,
      "metadata": {
        "collapsed": false
      },
      "outputs": [],
      "source": [
        "vertices = mesh.getVertices()"
      ]
    },
    {
      "cell_type": "markdown",
      "metadata": {},
      "source": [
        "Creation of the input distribution.\n\n"
      ]
    },
    {
      "cell_type": "code",
      "execution_count": null,
      "metadata": {
        "collapsed": false
      },
      "outputs": [],
      "source": [
        "distZ0 = ot.Uniform(100.0, 150.0)\ndistV0 = ot.Normal(55.0, 10.0)\ndistM = ot.Normal(80.0, 8.0)\ndistC = ot.Uniform(0.0, 30.0)\ndistribution = ot.ComposedDistribution([distZ0, distV0, distM, distC])"
      ]
    },
    {
      "cell_type": "code",
      "execution_count": null,
      "metadata": {
        "collapsed": false
      },
      "outputs": [],
      "source": [
        "dimension = distribution.getDimension()\ndimension"
      ]
    },
    {
      "cell_type": "markdown",
      "metadata": {},
      "source": [
        "Then we define the Python function which computes the altitude at each time value. This function has 5 inputs: `z0`, `v0`, `m`, `c` and `zmin`.\n\n"
      ]
    },
    {
      "cell_type": "code",
      "execution_count": null,
      "metadata": {
        "collapsed": false
      },
      "outputs": [],
      "source": [
        "def AltiFunc(X):\n    g = 9.81\n    z0 = X[0]\n    v0 = X[1]\n    m = X[2]\n    c = X[3]\n    zmin = X[4]\n    tau = m / c\n    vinf = -m * g / c\n    t = np.array(vertices)\n    z = z0 + vinf * t + tau * (v0 - vinf) * (1 - np.exp(-t / tau))\n    z = np.maximum(z, zmin)\n    return [[zeta[0]] for zeta in z]"
      ]
    },
    {
      "cell_type": "code",
      "execution_count": null,
      "metadata": {
        "collapsed": false
      },
      "outputs": [],
      "source": [
        "outputDimension = 1\naltitudeWithFiveInputs = ot.PythonPointToFieldFunction(\n    5, mesh, outputDimension, AltiFunc\n)"
      ]
    },
    {
      "cell_type": "markdown",
      "metadata": {},
      "source": [
        "## Restrict the number of inputs\n\n"
      ]
    },
    {
      "cell_type": "markdown",
      "metadata": {},
      "source": [
        "We define a function which has 4 inputs and 5 outputs: the 5th output `zmin` is set to zero.\n\n"
      ]
    },
    {
      "cell_type": "code",
      "execution_count": null,
      "metadata": {
        "collapsed": false
      },
      "outputs": [],
      "source": [
        "projectionFunction = ot.SymbolicFunction(\n    [\"z0\", \"v0\", \"m\", \"c\"], [\"z0\", \"v0\", \"m\", \"c\", \"0.0\"]\n)"
      ]
    },
    {
      "cell_type": "markdown",
      "metadata": {},
      "source": [
        "Then we use the `PointToFieldConnection` to create a function which has 4 inputs and returns the output field.\n\n"
      ]
    },
    {
      "cell_type": "code",
      "execution_count": null,
      "metadata": {
        "collapsed": false
      },
      "outputs": [],
      "source": [
        "altitudeWithFourInputs = ot.PointToFieldConnection(\n    altitudeWithFiveInputs, projectionFunction\n)"
      ]
    },
    {
      "cell_type": "markdown",
      "metadata": {},
      "source": [
        "## Sample trajectories\n\n"
      ]
    },
    {
      "cell_type": "markdown",
      "metadata": {},
      "source": [
        "In order to sample trajectories, we use the `getSample` method of the input distribution and apply the field function.\n\n"
      ]
    },
    {
      "cell_type": "code",
      "execution_count": null,
      "metadata": {
        "collapsed": false
      },
      "outputs": [],
      "source": [
        "size = 10\ninputSample = distribution.getSample(size)\noutputSample = altitudeWithFourInputs(inputSample)"
      ]
    },
    {
      "cell_type": "markdown",
      "metadata": {},
      "source": [
        "Draw some curves.\n\n"
      ]
    },
    {
      "cell_type": "code",
      "execution_count": null,
      "metadata": {
        "collapsed": false
      },
      "outputs": [],
      "source": [
        "graph = outputSample.drawMarginal(0)\ngraph.setTitle(\"Viscous free fall: %d trajectories\" % (size))\ngraph.setXTitle(r\"$t$\")\ngraph.setYTitle(r\"$z$\")\nview = viewer.View(graph)\nplt.show()"
      ]
    }
  ],
  "metadata": {
    "kernelspec": {
      "display_name": "Python 3",
      "language": "python",
      "name": "python3"
    },
    "language_info": {
      "codemirror_mode": {
        "name": "ipython",
        "version": 3
      },
      "file_extension": ".py",
      "mimetype": "text/x-python",
      "name": "python",
      "nbconvert_exporter": "python",
      "pygments_lexer": "ipython3",
      "version": "3.11.5"
    }
  },
  "nbformat": 4,
  "nbformat_minor": 0
}