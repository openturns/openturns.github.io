{
  "cells": [
    {
      "cell_type": "markdown",
      "metadata": {},
      "source": [
        "\n# Compute confidence intervals of a regression model from data\n"
      ]
    },
    {
      "cell_type": "markdown",
      "metadata": {},
      "source": [
        "## Introduction\n\nIn this example, we compute the pointwise confidence interval of the\nestimator of the conditional expectation given an input.\nMore precisely, we compute confidence intervals of the output of\na regression model.\nThe linear regression model is an order 1 multivariate polynomial.\nThis model is built from a data set.\nIn this advanced example, we use the :class:`~openturns.DesignProxy`\nand :class:`~openturns.QRMethod` low level classes.\nAnother example of this method is presented in\n:doc:`/auto_numerical_methods/general_methods/plot_regression_sinus`.\n\n"
      ]
    },
    {
      "cell_type": "code",
      "execution_count": null,
      "metadata": {
        "collapsed": false
      },
      "outputs": [],
      "source": [
        "import openturns as ot\nimport openturns.viewer as otv\nimport numpy as np\nfrom openturns.usecases import linthurst"
      ]
    },
    {
      "cell_type": "code",
      "execution_count": null,
      "metadata": {
        "collapsed": false
      },
      "outputs": [],
      "source": [
        "palette = ot.Drawable.BuildTableauPalette(5)\n\not.RandomGenerator.SetSeed(0)"
      ]
    },
    {
      "cell_type": "markdown",
      "metadata": {},
      "source": [
        "## Get the data\n\nWe consider the so-called `Linthurst<use-case-linthurst>` data set, which contains measures of\naerial biomass (BIO) as well as 5 five physico-chemical properties of\nthe soil: salinity (SAL), pH, K, Na, and Zn.\nThe data set is taken from [rawlings2001]_ table 5.1 page 63.\n\n"
      ]
    },
    {
      "cell_type": "markdown",
      "metadata": {},
      "source": [
        "We define the data.\n\n\n"
      ]
    },
    {
      "cell_type": "code",
      "execution_count": null,
      "metadata": {
        "collapsed": false
      },
      "outputs": [],
      "source": [
        "ds = linthurst.Linthurst()"
      ]
    },
    {
      "cell_type": "markdown",
      "metadata": {},
      "source": [
        "Get the input and output samples.\n\n"
      ]
    },
    {
      "cell_type": "code",
      "execution_count": null,
      "metadata": {
        "collapsed": false
      },
      "outputs": [],
      "source": [
        "dimension = ds.data.getDimension() - 1\nprint(\"dimension = \", dimension)\nsampleSize = ds.data.getSize()\nprint(\"sampleSize = \", sampleSize)\ninputSample = ds.data[:, 1: dimension + 1]\nprint(\"Input :\")\nprint(inputSample[:5])\noutputSample = ds.data[:, 0]\nprint(\"Output :\")\nprint(outputSample[:5])\n\ninputDescription = inputSample.getDescription()\noutputDescription = outputSample.getDescription()"
      ]
    },
    {
      "cell_type": "markdown",
      "metadata": {},
      "source": [
        "We want to create a linear regression model.\nTo do this, we need to create a functional basis.\nWe make the choice of using only degree 1 polynomials\nfor each marginal input variable.\n\n"
      ]
    },
    {
      "cell_type": "code",
      "execution_count": null,
      "metadata": {
        "collapsed": false
      },
      "outputs": [],
      "source": [
        "functionCollection = []\nbasisFunction = ot.SymbolicFunction(inputDescription, [\"1.0\"])\nfunctionCollection.append(basisFunction)\nfor i in range(dimension):\n    basisFunction = ot.SymbolicFunction(inputDescription, [inputDescription[i]])\n    functionCollection.append(basisFunction)\nbasis = ot.Basis(functionCollection)"
      ]
    },
    {
      "cell_type": "markdown",
      "metadata": {},
      "source": [
        "We can then print the basis.\n\n"
      ]
    },
    {
      "cell_type": "code",
      "execution_count": null,
      "metadata": {
        "collapsed": false
      },
      "outputs": [],
      "source": [
        "basisSize = basis.getSize()\nprint(\"Basis size = \", basisSize)\nfor i in range(basisSize):\n    basisFunction = basis.build(i)\n    print(\"Function #\", i, basisFunction)"
      ]
    },
    {
      "cell_type": "markdown",
      "metadata": {},
      "source": [
        "## Create the least squares model\n\nTo create the least squares model, we use the :class:`~openturns.DesignProxy` class,\nwhich defines the design matrix of the linear regression model.\nThen we solve the problem using QR decomposition.\n\n"
      ]
    },
    {
      "cell_type": "code",
      "execution_count": null,
      "metadata": {
        "collapsed": false
      },
      "outputs": [],
      "source": [
        "designProxy = ot.DesignProxy(inputSample, basis)\nindices = range(basisSize)  # We consider all the functions in the basis\nlsqMethod = ot.QRMethod(designProxy, indices)\nbetaHat = lsqMethod.solve(outputSample.asPoint())\nprint(betaHat)"
      ]
    },
    {
      "cell_type": "markdown",
      "metadata": {},
      "source": [
        "Based on the solution of the linear least squares problem, we\ncan create the metamodel and evaluate the residuals.\n\n"
      ]
    },
    {
      "cell_type": "code",
      "execution_count": null,
      "metadata": {
        "collapsed": false
      },
      "outputs": [],
      "source": [
        "metamodel = ot.LinearCombinationFunction(basis, betaHat)"
      ]
    },
    {
      "cell_type": "markdown",
      "metadata": {},
      "source": [
        "## Compute residuals, variance and design matrix\nWe need to estimate the variance of the residuals.\nTo do this we evaluate the predictions of the regression model\non the training sample and compute the residuals.\n\n"
      ]
    },
    {
      "cell_type": "code",
      "execution_count": null,
      "metadata": {
        "collapsed": false
      },
      "outputs": [],
      "source": [
        "yHat = metamodel(inputSample).asPoint()\nresiduals = yHat - outputSample.asPoint()"
      ]
    },
    {
      "cell_type": "markdown",
      "metadata": {},
      "source": [
        "In order to compute confidence intervals of the mean, we need\nto estimate the sample standard deviation.\n\n"
      ]
    },
    {
      "cell_type": "code",
      "execution_count": null,
      "metadata": {
        "collapsed": false
      },
      "outputs": [],
      "source": [
        "sigma2Hat = residuals.normSquare() / (sampleSize - basisSize)\nprint(\"sigma2Hat\", sigma2Hat)\nsigmaHat = np.sqrt(sigma2Hat)\nprint(\"sigmaHat = \", sigmaHat)"
      ]
    },
    {
      "cell_type": "markdown",
      "metadata": {},
      "source": [
        "We evaluate the design matrix and store it as a :class:`~openturns.Sample`.\n\n"
      ]
    },
    {
      "cell_type": "code",
      "execution_count": null,
      "metadata": {
        "collapsed": false
      },
      "outputs": [],
      "source": [
        "designMatrix = lsqMethod.computeWeightedDesign()\ndesignSample = ot.Sample(np.array(ot.Matrix(designMatrix)))"
      ]
    },
    {
      "cell_type": "markdown",
      "metadata": {},
      "source": [
        "## Compute confidence intervals\n\nThe next function will help to compute confidence intervals.\nIt is based on regression analysis.\n\n"
      ]
    },
    {
      "cell_type": "code",
      "execution_count": null,
      "metadata": {
        "collapsed": false
      },
      "outputs": [],
      "source": [
        "def computeRegressionConfidenceInterval(\n    lsqMethod,\n    betaHat,\n    sigma2Hat,\n    designSample,\n    alpha=0.95,\n    mean=True,\n    epsilonSigma=1.0e-5,\n):\n    \"\"\"\n    Compute a confidence interval for the estimate of the mean.\n\n    Evaluates this confidence interval at points in the design matrix.\n\n    This code is based on (Rawlings, Pantula & David, 1998)\n    eq. 3.51 and 3.52 page 90.\n\n    Parameters\n    ----------\n    lsqMethod: ot.LeastSquaresMethod\n        The linear least squares method (e.g. QR or Cholesky).\n    betaHat : ot.Point(parameterDimension)\n        The solution of the least squares problem.\n    sigma2Hat : float > 0.0\n        The estimate of the variance.\n    designSample : ot.Sample(size, parameterDimension)\n        The design matrix of the linear model.\n        This is the value of the functional basis depending on the\n        input sample.\n        Each row represents the input where the confidence interval\n        is to be computed.\n    alpha : float, in [0, 1]\n        The width of the confidence interval.\n    mean : bool\n        If True, then computes the confidence interval of the mean.\n        This interval contains yTrue = E[y|x] with probability alpha.\n        Otherwise, computes a confidence interval of the prediction at point x.\n        This interval contains y|x with probability alpha.\n    epsilonSigma : float > 0.0\n        A relatively small number. The minimal value of variance, which\n        avoids a singular Normal distribution.\n\n    Reference\n    ---------\n    - O. Rawlings John, G. Pantula Sastry, and A. Dickey David.\n      Applied regression analysis\u2014a research tool. Springer New York, 1998.\n\n    Returns\n    -------\n    confidenceBounds : ot.Sample(size, 2)\n        The first column contains the lower bound.\n        The second column contains the upper bound.\n    \"\"\"\n\n    inverseGram = lsqMethod.getGramInverse()\n    sampleSize = designSample.getSize()\n    confidenceBounds = ot.Sample(sampleSize, 2)\n    for i in range(sampleSize):\n        x0 = designSample[i, :]\n        meanYHat = x0.dot(betaHat)\n        sigma2YHat = x0.dot(inverseGram * x0) * sigma2Hat\n        if not mean:\n            sigma2YHat += sigma2Hat\n        sigmaYHat = np.sqrt(sigma2YHat)\n        sigmaYHat = max(epsilonSigma, sigmaYHat)  # Prevents a zero s.e.\n        distribution = ot.Normal(meanYHat, sigmaYHat)\n        interval = distribution.computeBilateralConfidenceInterval(alpha)\n        lower = interval.getLowerBound()\n        upper = interval.getUpperBound()\n        confidenceBounds[i, 0] = lower[0]\n        confidenceBounds[i, 1] = upper[0]\n    return confidenceBounds"
      ]
    },
    {
      "cell_type": "markdown",
      "metadata": {},
      "source": [
        "We evaluate the value of the basis functions on the test sample.\nThis sample is used to compute the confidence interval.\n\n"
      ]
    },
    {
      "cell_type": "code",
      "execution_count": null,
      "metadata": {
        "collapsed": false
      },
      "outputs": [],
      "source": [
        "alpha = 0.95\nconfidenceIntervalMean = computeRegressionConfidenceInterval(\n    lsqMethod, betaHat, sigma2Hat, designSample, alpha=alpha\n)"
      ]
    },
    {
      "cell_type": "markdown",
      "metadata": {},
      "source": [
        "For a given observation, we can print the input, the observed\noutput, the predicted output and the confidence interval of\nthe conditional expectation.\n\n"
      ]
    },
    {
      "cell_type": "code",
      "execution_count": null,
      "metadata": {
        "collapsed": false
      },
      "outputs": [],
      "source": [
        "i = 5  # The index of the observation\nprint(\"x = \", inputSample[i])\nprint(\"Y observation = \", outputSample[i])\nprint(\"Y prediction = \", yHat[i])\nprint(\"Confidence interval of the mean = \", confidenceIntervalMean[i])"
      ]
    },
    {
      "cell_type": "markdown",
      "metadata": {},
      "source": [
        "In order to see how the model fits to the data, we can\ncreate the validation plot.\nEach vertical bar represents the 95% confidence interval\nof the estimate of the conditional expectation of the linear regression model.\n\n"
      ]
    },
    {
      "cell_type": "code",
      "execution_count": null,
      "metadata": {
        "collapsed": false
      },
      "outputs": [],
      "source": [
        "validation = ot.MetaModelValidation(inputSample, outputSample, metamodel)\ngraph = validation.drawValidation().getGraph(0, 0)\nq2Score = validation.computePredictivityFactor()[0]\ngraph.setTitle(\"Q2 = %.2f%%\" % (100.0 * q2Score))\ngraph.setXTitle(\"Observations\")\ngraph.setYTitle(\"Metamodel\")\nfor i in range(sampleSize):\n    curve = ot.Curve([outputSample[i, 0]] * 2, confidenceIntervalMean[i])\n    graph.add(curve)\nview = otv.View(graph)"
      ]
    },
    {
      "cell_type": "markdown",
      "metadata": {},
      "source": [
        "We see that the linear regression model is not a very accurate\nmetamodel, as can be seen from the relatively low Q2 score.\nThe metamodel predictions are not very close to observations,\nwhich is why the points are not close to the diagonal of the plot.\nHence, the confidence intervals do not cross the diagonal very often.\nIn this case, we may want to create a more accurate metamodel.\n\n"
      ]
    }
  ],
  "metadata": {
    "kernelspec": {
      "display_name": "Python 3",
      "language": "python",
      "name": "python3"
    },
    "language_info": {
      "codemirror_mode": {
        "name": "ipython",
        "version": 3
      },
      "file_extension": ".py",
      "mimetype": "text/x-python",
      "name": "python",
      "nbconvert_exporter": "python",
      "pygments_lexer": "ipython3",
      "version": "3.11.6"
    }
  },
  "nbformat": 4,
  "nbformat_minor": 0
}