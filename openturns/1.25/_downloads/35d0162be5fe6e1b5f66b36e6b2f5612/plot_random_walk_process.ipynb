{
  "cells": [
    {
      "cell_type": "markdown",
      "metadata": {},
      "source": [
        "\n# Create a random walk process\n"
      ]
    },
    {
      "cell_type": "markdown",
      "metadata": {},
      "source": [
        "This example details first how to create and manipulate a random walk.\n\nA random walk $X: \\Omega \\times \\mathcal{D} \\rightarrow \\mathbb{R}^d$ is a process\nwhere $\\mathcal{D}=\\mathbb{R}$ discretized on the time grid $(t_i)_{i \\geq 0}$ such\nthat:\n\n\\begin{align}\\begin{aligned}\n     X_{t_0} & = & \\vect{x}_{t_0} \\\\\n     \\forall n>0,\\: X_{t_n} & = & X_{t_{n-1}} + \\varepsilon_{t_n}\n   \\end{aligned}\\end{align}\n\nwhere $\\vect{x}_0 \\in \\mathbb{R}^d$ and $\\varepsilon$ is a white noise of\ndimension $d$.\n\nThe library proposes to model it through the object :class:`~openturns.RandomWalk` defined\nthanks to the origin, the distribution of the white noise and the time\ngrid.\n\n"
      ]
    },
    {
      "cell_type": "code",
      "execution_count": null,
      "metadata": {
        "collapsed": false
      },
      "outputs": [],
      "source": [
        "import openturns as ot\nimport openturns.viewer as viewer\nfrom matplotlib import pyplot as plt"
      ]
    },
    {
      "cell_type": "markdown",
      "metadata": {},
      "source": [
        "Define the origin\n\n"
      ]
    },
    {
      "cell_type": "code",
      "execution_count": null,
      "metadata": {
        "collapsed": false
      },
      "outputs": [],
      "source": [
        "origin = [0.0]"
      ]
    },
    {
      "cell_type": "markdown",
      "metadata": {},
      "source": [
        "Define an 1-d mesh\n\n"
      ]
    },
    {
      "cell_type": "code",
      "execution_count": null,
      "metadata": {
        "collapsed": false
      },
      "outputs": [],
      "source": [
        "tgrid = ot.RegularGrid(0.0, 1.0, 500)"
      ]
    },
    {
      "cell_type": "markdown",
      "metadata": {},
      "source": [
        "1-d random walk and discrete distribution\n\n"
      ]
    },
    {
      "cell_type": "code",
      "execution_count": null,
      "metadata": {
        "collapsed": false
      },
      "outputs": [],
      "source": [
        "dist = ot.UserDefined([[-1], [10]], [0.9, 0.1])\nprocess = ot.RandomWalk(origin, dist, tgrid)\nsample = process.getSample(5)\ngraph = sample.drawMarginal(0)\ngraph.setTitle(\"1D Random Walk with discrete steps\")\nview = viewer.View(graph)"
      ]
    },
    {
      "cell_type": "markdown",
      "metadata": {},
      "source": [
        "1-d random walk and continuous distribution\n\n"
      ]
    },
    {
      "cell_type": "code",
      "execution_count": null,
      "metadata": {
        "collapsed": false
      },
      "outputs": [],
      "source": [
        "dist = ot.Normal(0.0, 1.0)\nprocess = ot.RandomWalk(origin, dist, tgrid)\nsample = process.getSample(5)\ngraph = sample.drawMarginal(0)\ngraph.setTitle(\"1D Random Walk with continuous steps\")\nview = viewer.View(graph)"
      ]
    },
    {
      "cell_type": "markdown",
      "metadata": {},
      "source": [
        "Define the origin\n\n"
      ]
    },
    {
      "cell_type": "code",
      "execution_count": null,
      "metadata": {
        "collapsed": false
      },
      "outputs": [],
      "source": [
        "origin = [0.0] * 2"
      ]
    },
    {
      "cell_type": "markdown",
      "metadata": {},
      "source": [
        "Color palette\n\n"
      ]
    },
    {
      "cell_type": "code",
      "execution_count": null,
      "metadata": {
        "collapsed": false
      },
      "outputs": [],
      "source": [
        "pal = [\"red\", \"cyan\", \"blue\", \"yellow\", \"green\"]"
      ]
    },
    {
      "cell_type": "markdown",
      "metadata": {},
      "source": [
        "2-d random walk and discrete distribution\n\n"
      ]
    },
    {
      "cell_type": "code",
      "execution_count": null,
      "metadata": {
        "collapsed": false
      },
      "outputs": [],
      "source": [
        "dist = ot.UserDefined([[-1.0, -2.0], [1.0, 3.0]], [0.5, 0.5])\nprocess = ot.RandomWalk(origin, dist, tgrid)\nsample = process.getSample(5)\ngraph = ot.Graph(\"2D Random Walk with discrete steps\", \"X1\", \"X2\", True)\nfor i in range(5):\n    graph.add(ot.Curve(sample[i], pal[i % len(pal)], \"solid\"))\nview = viewer.View(graph)"
      ]
    },
    {
      "cell_type": "markdown",
      "metadata": {},
      "source": [
        "2-d random walk and continuous distribution\n\n"
      ]
    },
    {
      "cell_type": "code",
      "execution_count": null,
      "metadata": {
        "collapsed": false
      },
      "outputs": [],
      "source": [
        "dist = ot.Normal(2)\nprocess = ot.RandomWalk(origin, dist, tgrid)\nsample = process.getSample(5)\ngraph = ot.Graph(\"2D Random Walk with continuous steps\", \"X1\", \"X2\", True)\nfor i in range(5):\n    graph.add(ot.Curve(sample[i], pal[i % len(pal)], \"solid\"))\nview = viewer.View(graph)\nplt.show()"
      ]
    }
  ],
  "metadata": {
    "kernelspec": {
      "display_name": "Python 3",
      "language": "python",
      "name": "python3"
    },
    "language_info": {
      "codemirror_mode": {
        "name": "ipython",
        "version": 3
      },
      "file_extension": ".py",
      "mimetype": "text/x-python",
      "name": "python",
      "nbconvert_exporter": "python",
      "pygments_lexer": "ipython3",
      "version": "3.13.3"
    }
  },
  "nbformat": 4,
  "nbformat_minor": 0
}