{
  "cells": [
    {
      "cell_type": "markdown",
      "metadata": {},
      "source": [
        "\n# Fitting a distribution with customized maximum likelihood\n"
      ]
    },
    {
      "cell_type": "markdown",
      "metadata": {},
      "source": [
        "## Introduction\n\nWhen we perform distribution fitting using the :class:`~openturns.MaximumLikelihoodFactory`\nclass, the default optimization solver sometimes fails to\nmaximize the likelihood.\nThis might be because the optimization solver is not appropriate in\nthis particular case, or because the bounds of the problem\nare not properly set.\nIn this example, we configure the optimization solver by two different\nmethods.\n\n- The first method sets a specific solver among the :class:`~openturns.NLopt` solvers.\n  Moreover, we customize the distribution parameters bounds.\n  This helps the solver to avoid the part of the domain where\n  the distribution cannot be built.\n- The second method sets the :class:`~openturns.ResourceMap` key\n  that is used by the :class:`~openturns.MaximumLikelihoodFactory` in\n  order to select the default solver.\n\n"
      ]
    },
    {
      "cell_type": "code",
      "execution_count": null,
      "metadata": {
        "collapsed": false
      },
      "outputs": [],
      "source": [
        "import openturns as ot"
      ]
    },
    {
      "cell_type": "markdown",
      "metadata": {},
      "source": [
        "## Simulating a sample\n\n"
      ]
    },
    {
      "cell_type": "markdown",
      "metadata": {},
      "source": [
        "In this example, we consider the :class:`~openturns.TruncatedNormal` distribution\nwith default parameters and generate a large sample from it.\n\n"
      ]
    },
    {
      "cell_type": "code",
      "execution_count": null,
      "metadata": {
        "collapsed": false
      },
      "outputs": [],
      "source": [
        "distribution = ot.TruncatedNormal()\nprint(\"Distribution=\", distribution)\nsize = 10000\nsample = distribution.getSample(size)"
      ]
    },
    {
      "cell_type": "markdown",
      "metadata": {},
      "source": [
        "We can use the :class:`~openturns.TruncatedNormalFactory` class.\n\n"
      ]
    },
    {
      "cell_type": "code",
      "execution_count": null,
      "metadata": {
        "collapsed": false
      },
      "outputs": [],
      "source": [
        "factory = ot.TruncatedNormalFactory()\nfittedDistribution = factory.build(sample)\nprint(\"Fitted distribution=\", fittedDistribution)"
      ]
    },
    {
      "cell_type": "markdown",
      "metadata": {},
      "source": [
        "But this method sometimes fails for specific distributions, for example\nwhen the sample size is very small or when the distribution has\nspecific properties (e.g., some parameter is known beforehand).\nIn these cases, general-purpose methods cannot be used, and the\nmethods presented below may be relevant.\n\n"
      ]
    },
    {
      "cell_type": "markdown",
      "metadata": {},
      "source": [
        "## Defining the estimation problem\n\n"
      ]
    },
    {
      "cell_type": "markdown",
      "metadata": {},
      "source": [
        "The truncated Normal distribution has 4 parameters:\n\n- the mean and standard deviation parameters of the\n  underlying Normal distribution,\n- the minimum and maximum of the underlying truncated distribution.\n\nEstimating the parameters will be easier if two conditions are met:\n\n- the starting point (i.e., the initial values of the parameters)\n  of the optimization is compatible with the sample,\n- the bounds are compatible with the distribution.\n\nFirst, we define the starting point of the optimization,\nusing statistics from the sample.\n\n"
      ]
    },
    {
      "cell_type": "code",
      "execution_count": null,
      "metadata": {
        "collapsed": false
      },
      "outputs": [],
      "source": [
        "sample_min = sample.getMin()[0]\nsample_max = sample.getMax()[0]\nsample_mean = sample.computeMean()[0]\nsigma_hat = sample.computeStandardDeviation()[0]\nstartingPoint = [sample_mean, sigma_hat, sample_min, sample_max]\nprint(\"startingPoint=\", startingPoint)"
      ]
    },
    {
      "cell_type": "markdown",
      "metadata": {},
      "source": [
        "Secondly, we set the bounds of the parameters.\nWe assume that the minimum and maximum cannot be lower than -1\nor greater than 1.\nThe parameters have the following bounds:\n\n- $\\mu \\in [-\\infty, +\\infty]$ ;\n- $\\sigma \\in [0, +\\infty]$ ;\n- $a \\in [-1, 1]$ ;\n- $b \\in [-1, 1]$.\n\nBut this may not give satisfactory results, because infinite parameters\nare impossible and a zero standard deviation is infeasible.\nFurthermore, we must have $a < b$.\nWe assume that we know that the mean parameter cannot be greater than 10\nand lower than -10.\nSimilarly, the standard deviation cannot be greater than 10.\nHence, we use the following bounds:\n\n- $\\mu \\in [-10, +10]$ ;\n- $\\sigma \\in [\\epsilon, +10]$ ;\n- $a \\in [-1 - \\epsilon, \\bar{x} - \\epsilon]$ ;\n- $b \\in [\\bar{x} + \\epsilon, 1 + \\epsilon]$\n\nwhere $\\bar{x}$ is the sample mean and $\\epsilon$\nis a small parameter.\n\n"
      ]
    },
    {
      "cell_type": "code",
      "execution_count": null,
      "metadata": {
        "collapsed": false
      },
      "outputs": [],
      "source": [
        "epsilon = 1.0e-3\nbounds_lower = [-10.0, epsilon, -1.0 - epsilon, sample_mean + epsilon]\nbounds_upper = [10.0, 10.0, sample_mean - epsilon, 1.0 + epsilon]\nprint(\"bounds_lower=\", bounds_lower)\nprint(\"bounds_upper=\", bounds_upper)"
      ]
    },
    {
      "cell_type": "markdown",
      "metadata": {},
      "source": [
        "The boolean `False` means unbounded and `True` means bounded.\n\n"
      ]
    },
    {
      "cell_type": "code",
      "execution_count": null,
      "metadata": {
        "collapsed": false
      },
      "outputs": [],
      "source": [
        "finiteLowerBound = [True] * 4\nfiniteUpperBound = [True] * 4\ninterval = ot.Interval(bounds_lower, bounds_upper, finiteLowerBound, finiteUpperBound)"
      ]
    },
    {
      "cell_type": "markdown",
      "metadata": {},
      "source": [
        "## Setting the solver and bounds\n\n"
      ]
    },
    {
      "cell_type": "markdown",
      "metadata": {},
      "source": [
        "The two methods that we suggest are based on the :class:`~openturns.MaximumLikelihoodFactory` class\nwhich uses the maximum likelihood estimator to estimate\nthe parameters of the distribution depending on the sample.\nThe first method is to use the :meth:`~openturns.MaximumLikelihoodFactory.setOptimizationAlgorithm`\nmethod.\nThis sets the optimization algorithm as a replacement for the\ndefault optimization solver.\n\n"
      ]
    },
    {
      "cell_type": "code",
      "execution_count": null,
      "metadata": {
        "collapsed": false
      },
      "outputs": [],
      "source": [
        "def printTruncatedNormalParameters(truncatedNormalDistribution):\n    mu, sigma, a, b = truncatedNormalDistribution.getParameter()\n    print(\" \", truncatedNormalDistribution.getImplementation().getClassName())\n    print(\"  mu= %.3f\" % (mu))\n    print(\"  sigma= %.4f\" % (sigma))\n    print(\"  a= %.2f\" % (a))\n    print(\"  b= %.2f\" % (b))\n    return None"
      ]
    },
    {
      "cell_type": "code",
      "execution_count": null,
      "metadata": {
        "collapsed": false
      },
      "outputs": [],
      "source": [
        "factory = ot.MaximumLikelihoodFactory(distribution)\nfactory.setOptimizationBounds(interval)\ndistribution_MLE = factory.build(sample)\nprint(\"Fitted distribution with default solver:\")\nprintTruncatedNormalParameters(distribution_MLE)\ndefault_solver = factory.getOptimizationAlgorithm()\nprint(\"Default solver=\", default_solver.getImplementation().getClassName())\nsolver = ot.NLopt(\"LN_COBYLA\")\nprint(\"New solver=\", solver.getClassName(), solver.getAlgorithmName())\nsolver.setStartingPoint(startingPoint)\nfactory.setOptimizationAlgorithm(solver)\nprint(\n    \"Updated solver=\",\n    factory.getOptimizationAlgorithm().getImplementation().getClassName(),\n)\ndistribution_MLE = factory.build(sample)\nprint(\"Fitted distribution with new solver:\")\nprintTruncatedNormalParameters(distribution_MLE)"
      ]
    },
    {
      "cell_type": "markdown",
      "metadata": {},
      "source": [
        "## Using ResourceMap to set the solver\n\n"
      ]
    },
    {
      "cell_type": "markdown",
      "metadata": {},
      "source": [
        "Another method is to use a special key of the :class:`~openturns.ResourceMap`,\nwhich defines the default solver used by :class:`~openturns.MaximumLikelihoodFactory`.\nIn this case, we do not define the starting point.\n\n"
      ]
    },
    {
      "cell_type": "code",
      "execution_count": null,
      "metadata": {
        "collapsed": false
      },
      "outputs": [],
      "source": [
        "ot.ResourceMap.SetAsString(\n    \"MaximumLikelihoodFactory-DefaultOptimizationAlgorithm\", \"LN_COBYLA\"\n)\not.ResourceMap.SetAsUnsignedInteger(\n    \"MaximumLikelihoodFactory-MaximumCallsNumber\", 100000\n)\nfactory = ot.MaximumLikelihoodFactory(distribution)\nfactory.setOptimizationBounds(interval)\nprint(\n    \"Default solver=\",\n    factory.getOptimizationAlgorithm().getImplementation().getClassName(),\n)\ndistribution_MLE = factory.build(sample)\nprint(\"Fitted distribution:\")\nprintTruncatedNormalParameters(distribution_MLE)"
      ]
    },
    {
      "cell_type": "markdown",
      "metadata": {},
      "source": [
        "## Fitting a LogNormal with zero location parameter\n\n"
      ]
    },
    {
      "cell_type": "markdown",
      "metadata": {},
      "source": [
        "We now consider the :class:`~openturns.LogNormal` distribution\nand present two different topics.\n\n- We show how to estimate the parameters of a LogNormal distribution\n  which has a zero location parameter.\n- We compute the list of solvers which are compatible with a specific\n  MLE problem.\n\n"
      ]
    },
    {
      "cell_type": "markdown",
      "metadata": {},
      "source": [
        "We generate a large sample from the standard LogNormal distribution.\n\n"
      ]
    },
    {
      "cell_type": "code",
      "execution_count": null,
      "metadata": {
        "collapsed": false
      },
      "outputs": [],
      "source": [
        "standardLogNormal = ot.LogNormal()\nsample = standardLogNormal.getSample(1000)"
      ]
    },
    {
      "cell_type": "markdown",
      "metadata": {},
      "source": [
        "If we estimate the parameters using :class:`~openturns.LogNormalFactory`,\nthe algorithm does not know that the true value of the location parameter\n$\\gamma$ is zero.\nHence, the estimator may not necessarily lead to an estimated parameter\nexactly equal to zero.\nIn this example, we assume that we know that this parameter is zero.\nIn this case, the simplest method is to use the\n:meth:`~openturns.MaximumLikelihoodFactory.setKnownParameter` method.\nFurthermore, we know that the absolute value of the mean of the underlying Normal\ndistribution cannot be greater than 5.\nFinally, we know that the standard deviation of the underlying\nNormal distribution cannot be lower than, say, $\\epsilon = 10^{-4}$.\n\n"
      ]
    },
    {
      "cell_type": "code",
      "execution_count": null,
      "metadata": {
        "collapsed": false
      },
      "outputs": [],
      "source": [
        "logNormalFactoryWithZeroLocation = ot.MaximumLikelihoodFactory(standardLogNormal)\nlogNormalFactoryWithZeroLocation.setKnownParameter([2], [0.0])\nlowerBound = [-5.0, 1.0e-4]\nupperBound = [5.0, -1.0]\nfiniteLowerBound = [True, True]\nfiniteUpperBound = [True, False]\nbounds = ot.Interval(lowerBound, upperBound, finiteLowerBound, finiteUpperBound)\nlogNormalFactoryWithZeroLocation.setOptimizationBounds(bounds)\nfittedDistribution = logNormalFactoryWithZeroLocation.build(sample)\nprint(\"   fittedDistribution = \", fittedDistribution)"
      ]
    },
    {
      "cell_type": "markdown",
      "metadata": {},
      "source": [
        "## See the list of solvers compatible with a given MLE problem\n\n"
      ]
    },
    {
      "cell_type": "markdown",
      "metadata": {},
      "source": [
        "In the next script, we perform a loop over the algorithms\nfrom the :class:`~openturns.NLopt` class and select the algorithms\nwhich can solve the problem.\nThis is done using `try/except` statements.\nMoreover, some solvers pretend to solve the problem, but do\nnot make any change to the parameters.\nIn this case, we do not select them.\n\n"
      ]
    },
    {
      "cell_type": "code",
      "execution_count": null,
      "metadata": {
        "collapsed": false
      },
      "outputs": [],
      "source": [
        "defaultParameter = standardLogNormal.getParameter()\ndefaultSolver = logNormalFactoryWithZeroLocation.getOptimizationAlgorithm()\nstartingPoint = defaultSolver.getStartingPoint()\nprint(\"Default solver = \", defaultSolver.getImplementation().getClassName())\navailableSolverList = []\ndifferenceThreshold = 1.0e-8\nfor algorithmName in ot.NLopt.GetAlgorithmNames():\n    print(\"- \", algorithmName)\n    solver = ot.NLopt(algorithmName)\n    solver.setStartingPoint(startingPoint)\n    logNormalFactoryWithZeroLocation.setOptimizationAlgorithm(solver)\n    try:\n        fittedDistribution = logNormalFactoryWithZeroLocation.build(sample)\n        print(\"   fittedDistribution = \", fittedDistribution)\n        parameter = fittedDistribution.getParameter()\n        differenceOfParameters = parameter - defaultParameter\n        if differenceOfParameters.norm() > differenceThreshold:\n            # Consider only solvers which make a difference after optimization\n            availableSolverList.append(algorithmName)\n    except TypeError:\n        print(\"   Fail : Impossible to build with \", algorithmName)"
      ]
    },
    {
      "cell_type": "code",
      "execution_count": null,
      "metadata": {
        "collapsed": false
      },
      "outputs": [],
      "source": [
        "print(\"Available solvers = \", len(availableSolverList))\nfor name in availableSolverList:\n    print(\"- \", name)"
      ]
    },
    {
      "cell_type": "markdown",
      "metadata": {},
      "source": [
        "Pick one and try it.\n\n"
      ]
    },
    {
      "cell_type": "code",
      "execution_count": null,
      "metadata": {
        "collapsed": false
      },
      "outputs": [],
      "source": [
        "algorithmName = \"LD_SLSQP\"\nsolver = ot.NLopt(algorithmName)\nprint(\"   New solver = \", solver.getClassName(), solver.getAlgorithmName())\nsolver.setStartingPoint(startingPoint)\nlogNormalFactoryWithZeroLocation.setOptimizationAlgorithm(solver)\nfittedDistribution = logNormalFactoryWithZeroLocation.build(sample)\nprint(\"   fittedDistribution = \", fittedDistribution)"
      ]
    }
  ],
  "metadata": {
    "kernelspec": {
      "display_name": "Python 3",
      "language": "python",
      "name": "python3"
    },
    "language_info": {
      "codemirror_mode": {
        "name": "ipython",
        "version": 3
      },
      "file_extension": ".py",
      "mimetype": "text/x-python",
      "name": "python",
      "nbconvert_exporter": "python",
      "pygments_lexer": "ipython3",
      "version": "3.13.3"
    }
  },
  "nbformat": 4,
  "nbformat_minor": 0
}