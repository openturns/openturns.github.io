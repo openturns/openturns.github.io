{
  "cells": [
    {
      "cell_type": "markdown",
      "metadata": {},
      "source": [
        "\n# Use the ANCOVA indices\n"
      ]
    },
    {
      "cell_type": "markdown",
      "metadata": {},
      "source": [
        "In this example we are going to use the ANCOVA decomposition to estimate\nsensitivity indices from a model with correlated inputs.\n\nANCOVA allows one to estimate the Sobol' indices, and thanks to a functional\ndecomposition of the model it allows one to separate the part of variance\nexplained by a variable itself from the part of variance explained by a\ncorrelation which is due to its correlation with the other input parameters.\n\n\nIn theory, ANCOVA indices range is $\\left[0; 1\\right]$ ; the closer to 1 the index is,\nthe greater the model response sensitivity to the variable is.\nThese indices are a sum of a physical part $S_i^U$ and correlated part $S_i^C$.\nThe correlation has a weak influence on the contribution of $X_i$, if $|S_i^C|$\nis low and $S_i$ is close to $S_i^U$.\nOn the contrary, the correlation has a strong influence on the contribution of\nthe input $X_i$, if $|S_i^C|$ is high and $S_i$ is close to $S_i^C$.\n\nThe ANCOVA indices $S_i$ evaluate the importance of one variable at a time\n($d$ indices stored, with $d$ the input dimension of the model).\nThe $d$ uncorrelated parts of variance of the output due to each input $S_i^U$\nand the effects of the correlation are represented by the indices resulting\nfrom the subtraction of these two previous lists.\n\nTo evaluate the indices, the library needs of a functional chaos result\napproximating the model response with uncorrelated inputs and a sample with\ncorrelated inputs used to compute the real values of the output.\n\n\n"
      ]
    },
    {
      "cell_type": "code",
      "execution_count": null,
      "metadata": {
        "collapsed": false
      },
      "outputs": [],
      "source": [
        "import openturns as ot\nimport openturns.viewer as viewer\nfrom matplotlib import pyplot as plt"
      ]
    },
    {
      "cell_type": "markdown",
      "metadata": {},
      "source": [
        "Create the model (x1,x2) --> (y) = (4.*x1+5.*x2)\n\n"
      ]
    },
    {
      "cell_type": "code",
      "execution_count": null,
      "metadata": {
        "collapsed": false
      },
      "outputs": [],
      "source": [
        "model = ot.SymbolicFunction([\"x1\", \"x2\"], [\"4.*x1+5.*x2\"])"
      ]
    },
    {
      "cell_type": "markdown",
      "metadata": {},
      "source": [
        "Create the input independent joint distribution\n\n"
      ]
    },
    {
      "cell_type": "code",
      "execution_count": null,
      "metadata": {
        "collapsed": false
      },
      "outputs": [],
      "source": [
        "distribution = ot.Normal(2)\ndistribution.setDescription([\"X1\", \"X2\"])"
      ]
    },
    {
      "cell_type": "markdown",
      "metadata": {},
      "source": [
        "Create the correlated input distribution\n\n"
      ]
    },
    {
      "cell_type": "code",
      "execution_count": null,
      "metadata": {
        "collapsed": false
      },
      "outputs": [],
      "source": [
        "S = ot.CorrelationMatrix(2)\nS[1, 0] = 0.3\nR = ot.NormalCopula.GetCorrelationFromSpearmanCorrelation(S)\ncopula = ot.NormalCopula(R)\ndistribution_corr = ot.JointDistribution([ot.Normal()] * 2, copula)"
      ]
    },
    {
      "cell_type": "markdown",
      "metadata": {},
      "source": [
        "ANCOVA needs a functional decomposition of the model\n\n"
      ]
    },
    {
      "cell_type": "code",
      "execution_count": null,
      "metadata": {
        "collapsed": false
      },
      "outputs": [],
      "source": [
        "enumerateFunction = ot.LinearEnumerateFunction(2)\nproductBasis = ot.OrthogonalProductPolynomialFactory(\n    [ot.HermiteFactory()] * 2, enumerateFunction\n)\nadaptiveStrategy = ot.FixedStrategy(\n    productBasis, enumerateFunction.getStrataCumulatedCardinal(4)\n)\nsamplingSize = 250\nexperiment = ot.MonteCarloExperiment(distribution, samplingSize)\nX = experiment.generate()\nY = model(X)\nalgo = ot.FunctionalChaosAlgorithm(X, Y, distribution, adaptiveStrategy)\nalgo.run()\nresult = algo.getResult()"
      ]
    },
    {
      "cell_type": "markdown",
      "metadata": {},
      "source": [
        "Create the input sample taking account the correlation\n\n"
      ]
    },
    {
      "cell_type": "code",
      "execution_count": null,
      "metadata": {
        "collapsed": false
      },
      "outputs": [],
      "source": [
        "size = 2000\nsample = distribution_corr.getSample(size)"
      ]
    },
    {
      "cell_type": "markdown",
      "metadata": {},
      "source": [
        "Perform the decomposition\n\n"
      ]
    },
    {
      "cell_type": "code",
      "execution_count": null,
      "metadata": {
        "collapsed": false
      },
      "outputs": [],
      "source": [
        "ancova = ot.ANCOVA(result, sample)\n# Compute the ANCOVA indices (first order and uncorrelated indices are computed together)\nindices = ancova.getIndices()\n# Retrieve uncorrelated indices\nuncorrelatedIndices = ancova.getUncorrelatedIndices()\n# Retrieve correlated indices:\ncorrelatedIndices = indices - uncorrelatedIndices"
      ]
    },
    {
      "cell_type": "markdown",
      "metadata": {},
      "source": [
        "Print Sobol' indices, the physical part, and the correlation part\n\n"
      ]
    },
    {
      "cell_type": "code",
      "execution_count": null,
      "metadata": {
        "collapsed": false
      },
      "outputs": [],
      "source": [
        "print(\"ANCOVA indices \", indices)\nprint(\"ANCOVA uncorrelated indices \", uncorrelatedIndices)\nprint(\"ANCOVA correlated indices \", correlatedIndices)"
      ]
    },
    {
      "cell_type": "code",
      "execution_count": null,
      "metadata": {
        "collapsed": false
      },
      "outputs": [],
      "source": [
        "graph = ot.SobolIndicesAlgorithm.DrawImportanceFactors(\n    indices, distribution.getDescription(), \"ANCOVA indices (Sobol')\"\n)\nview = viewer.View(graph)"
      ]
    },
    {
      "cell_type": "code",
      "execution_count": null,
      "metadata": {
        "collapsed": false
      },
      "outputs": [],
      "source": [
        "graph = ot.SobolIndicesAlgorithm.DrawImportanceFactors(\n    uncorrelatedIndices,\n    distribution.getDescription(),\n    \"ANCOVA uncorrelated indices\\n(part of physical variance in the model)\",\n)\nview = viewer.View(graph)"
      ]
    },
    {
      "cell_type": "code",
      "execution_count": null,
      "metadata": {
        "collapsed": false
      },
      "outputs": [],
      "source": [
        "graph = ot.SobolIndicesAlgorithm.DrawImportanceFactors(\n    correlatedIndices,\n    distribution.getDescription(),\n    \"ANCOVA correlated indices\\n(part of variance due to the correlation)\",\n)\nview = viewer.View(graph)\nplt.show()"
      ]
    }
  ],
  "metadata": {
    "kernelspec": {
      "display_name": "Python 3",
      "language": "python",
      "name": "python3"
    },
    "language_info": {
      "codemirror_mode": {
        "name": "ipython",
        "version": 3
      },
      "file_extension": ".py",
      "mimetype": "text/x-python",
      "name": "python",
      "nbconvert_exporter": "python",
      "pygments_lexer": "ipython3",
      "version": "3.13.3"
    }
  },
  "nbformat": 4,
  "nbformat_minor": 0
}