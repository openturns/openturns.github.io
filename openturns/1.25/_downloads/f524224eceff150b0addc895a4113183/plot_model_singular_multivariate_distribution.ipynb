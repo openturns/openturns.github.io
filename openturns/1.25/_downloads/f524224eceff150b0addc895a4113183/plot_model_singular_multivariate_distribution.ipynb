{
  "cells": [
    {
      "cell_type": "markdown",
      "metadata": {},
      "source": [
        "\n# Model a singular multivariate distribution\n"
      ]
    },
    {
      "cell_type": "markdown",
      "metadata": {},
      "source": [
        "From time to time we need to model singular $n_D$ distributions\n(e.g. the joint distribution of Karhunen Loeve coefficients for curves resulting from the transport of a low dimensional random vector).\nA way to do that is to use an :class:`~openturns.EmpiricalBernsteinCopula` with a bin number equal to the sample size\n(also called the empirical beta copula in this case).\n\n"
      ]
    },
    {
      "cell_type": "code",
      "execution_count": null,
      "metadata": {
        "collapsed": false
      },
      "outputs": [],
      "source": [
        "import openturns as ot\nimport openturns.viewer as viewer\nimport math as m"
      ]
    },
    {
      "cell_type": "markdown",
      "metadata": {},
      "source": [
        "Routine to draw a distribution cloud and a sample.\n\n"
      ]
    },
    {
      "cell_type": "code",
      "execution_count": null,
      "metadata": {
        "collapsed": false
      },
      "outputs": [],
      "source": [
        "def draw(dist, Y):\n    g = ot.Graph()\n    g.setAxes(True)\n    g.setGrid(True)\n    c = ot.Cloud(dist.getSample(10000))\n    c.setColor(\"red\")\n    c.setPointStyle(\"bullet\")\n    g.add(c)\n    c = ot.Cloud(Y)\n    c.setColor(\"black\")\n    c.setPointStyle(\"bullet\")\n    g.add(c)\n    g.setBoundingBox(\n        ot.Interval(\n            Y.getMin() - 0.5 * Y.computeRange(), Y.getMax() + 0.5 * Y.computeRange()\n        )\n    )\n    return g"
      ]
    },
    {
      "cell_type": "markdown",
      "metadata": {},
      "source": [
        "We consider the function $f: \\Rset^3 \\rightarrow \\Rset$ defined by:\n\n\\begin{align}f(u, v_1, v_2) = (y_1, y_2)\\end{align}\n\nwhere:\n\n\\begin{align}y_1 & = \\sin(u) / (1 + \\cos(u)^2) + 0.05 * v_1 \\\\\n     y_2 & = \\sin(u) \\cos(u) / (1 + \\cos(u)^2) + 0.05 * v_2\\end{align}\n\nWe define the following input random vector:\n\n\\begin{align}U  \\sim \\cU(-0.85\\pi, 0.85\\pi) \\\\\n     (V_1, V_2)  \\sim \\cN(\\vect{\\mu} = \\vect{0}, \\vect{\\sigma} = \\vect{1}, Id_2)\\\\\\end{align}\n\nwith $U$ and $\\vect{V})$ independent.\n\nWe define the output random vector $\\vect{Y}$ as:\n\n\\begin{align}\\vect{Y} = f(U, V_1, V_2)\\end{align}\n\n"
      ]
    },
    {
      "cell_type": "code",
      "execution_count": null,
      "metadata": {
        "collapsed": false
      },
      "outputs": [],
      "source": [
        "f = ot.SymbolicFunction(\n    [\"U\", \"v1\", \"v2\"],\n    [\"sin(U)/(1+cos(U)^2)+0.05*v1\", \"sin(U)*cos(U)/(1+cos(U)^2)+0.05*v2\"],\n)\nU = ot.Uniform(-0.85 * m.pi, 0.85 * m.pi)\nV = ot.Normal(2)\nX = ot.BlockIndependentDistribution([U, V])"
      ]
    },
    {
      "cell_type": "markdown",
      "metadata": {},
      "source": [
        "We generate a sample of the output random vector $\\vect{Y}$ of size $N$.\n\n"
      ]
    },
    {
      "cell_type": "code",
      "execution_count": null,
      "metadata": {
        "collapsed": false
      },
      "outputs": [],
      "source": [
        "N = 200\nsample_Y = f(X.getSample(N))"
      ]
    },
    {
      "cell_type": "markdown",
      "metadata": {},
      "source": [
        "We estimate the distribution of the output random vector $\\vect{Y}$ by multivariate kernel smoothing.\n\n"
      ]
    },
    {
      "cell_type": "code",
      "execution_count": null,
      "metadata": {
        "collapsed": false
      },
      "outputs": [],
      "source": [
        "y_multi_ks = ot.KernelSmoothing().build(sample_Y)\nview = viewer.View(draw(y_multi_ks, sample_Y))"
      ]
    },
    {
      "cell_type": "markdown",
      "metadata": {},
      "source": [
        "Now, we estimate the distribution of $\\vect{Y}$ splitting the estimation of the marginals\nfrom the estimation of the copula:\n\n- the marginals are fitted by kernel smoothing,\n- the copula is fitted using the Bernstein copula factory :class:`~openturns.BernsteinCopulaFactory` that builds\n  an empirical Bernstein copula.\n\nFirst, we do not specify the bin number $m$. It is equal to the value computed by the default method, which is the\nLogLikelihood criteria. We get $m=1$, which\nmeans that one cell is created: the built copula is diffuse in $[0,1]^2$. The estimated copula is\nthe independent copula.\n\n"
      ]
    },
    {
      "cell_type": "code",
      "execution_count": null,
      "metadata": {
        "collapsed": false
      },
      "outputs": [],
      "source": [
        "empBern_copula = ot.BernsteinCopulaFactory().buildAsEmpiricalBernsteinCopula(sample_Y)\nprint(\"bin number computed m = \", empBern_copula.getBinNumber())\nmarginals = [\n    ot.KernelSmoothing().build(sample_Y.getMarginal(j))\n    for j in range(sample_Y.getDimension())\n]\ny_empBern = ot.JointDistribution(marginals, empBern_copula)\nview = viewer.View(draw(y_empBern, sample_Y))"
      ]
    },
    {
      "cell_type": "markdown",
      "metadata": {},
      "source": [
        "Now, we specify a bin number equal to the sample size: $m = N$ so that the built copula is very close to the sample.\nWith this parametrization, the empirical Bernstein copula is the *Beta copula* in the sens of [segers2016]_.\nIn that case, it manages to reproduce its specific feature.\n\n"
      ]
    },
    {
      "cell_type": "code",
      "execution_count": null,
      "metadata": {
        "collapsed": false
      },
      "outputs": [],
      "source": [
        "empBern_copula = ot.BernsteinCopulaFactory().build(sample_Y, N)\ny_empBern = ot.JointDistribution(marginals, empBern_copula)\nview = viewer.View(draw(y_empBern, sample_Y))\nviewer.View.ShowAll()"
      ]
    }
  ],
  "metadata": {
    "kernelspec": {
      "display_name": "Python 3",
      "language": "python",
      "name": "python3"
    },
    "language_info": {
      "codemirror_mode": {
        "name": "ipython",
        "version": 3
      },
      "file_extension": ".py",
      "mimetype": "text/x-python",
      "name": "python",
      "nbconvert_exporter": "python",
      "pygments_lexer": "ipython3",
      "version": "3.13.3"
    }
  },
  "nbformat": 4,
  "nbformat_minor": 0
}