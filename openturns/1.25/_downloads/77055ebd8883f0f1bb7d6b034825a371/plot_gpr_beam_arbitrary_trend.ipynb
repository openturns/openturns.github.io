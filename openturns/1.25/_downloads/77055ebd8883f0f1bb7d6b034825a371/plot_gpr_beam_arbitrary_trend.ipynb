{
  "cells": [
    {
      "cell_type": "markdown",
      "metadata": {},
      "source": [
        "\n# Gaussian Process Regression: choose an arbitrary trend\n"
      ]
    },
    {
      "cell_type": "markdown",
      "metadata": {},
      "source": [
        "The goal of this example is to show how to configure an arbitrary trend in a Kriging metamodel.\nIn the :doc:`/auto_meta_modeling/kriging_metamodel/plot_gpr_choose_trend`\nand :doc:`/auto_meta_modeling/kriging_metamodel/plot_gpr_beam_trend` examples,\nwe show how to configure a polynomial trend.\n\nIn general, any collection of multivariate functions can be used as the\n`basis` argument of a :class:`~openturns.experimental.GaussianProcessFitter` or a\n:class:`~openturns.experimental.GaussianProcessRegression`.\nIn practice, it might not be convenient to create a multivariate basis and\nthis is why we sometimes create it by tensorization of univariate functions.\nIn this example, we first use Legendre polynomials as our univariate functions,\nthen we create an orthogonal polynomial basis corresponding to the input marginals.\n\nFor this purpose, we use the `cantilever beam <use-case-cantilever-beam>` example.\n\n"
      ]
    },
    {
      "cell_type": "code",
      "execution_count": null,
      "metadata": {
        "collapsed": false
      },
      "outputs": [],
      "source": [
        "from openturns.usecases import cantilever_beam\nimport openturns as ot\nimport openturns.experimental as otexp"
      ]
    },
    {
      "cell_type": "markdown",
      "metadata": {},
      "source": [
        "## Definition of the model\n\nWe load the cantilever beam use case\n\n"
      ]
    },
    {
      "cell_type": "code",
      "execution_count": null,
      "metadata": {
        "collapsed": false
      },
      "outputs": [],
      "source": [
        "cb = cantilever_beam.CantileverBeam()"
      ]
    },
    {
      "cell_type": "markdown",
      "metadata": {},
      "source": [
        "We load the function (model) which evaluates the output `Y` depending on the inputs.\n\n"
      ]
    },
    {
      "cell_type": "code",
      "execution_count": null,
      "metadata": {
        "collapsed": false
      },
      "outputs": [],
      "source": [
        "model = cb.model"
      ]
    },
    {
      "cell_type": "markdown",
      "metadata": {},
      "source": [
        "Then we define the distribution of the input random vector.\n\n"
      ]
    },
    {
      "cell_type": "code",
      "execution_count": null,
      "metadata": {
        "collapsed": false
      },
      "outputs": [],
      "source": [
        "dimension = cb.dim  # number of inputs\ninput_dist = cb.distribution"
      ]
    },
    {
      "cell_type": "markdown",
      "metadata": {},
      "source": [
        "## Create the design of experiments\n\n"
      ]
    },
    {
      "cell_type": "markdown",
      "metadata": {},
      "source": [
        "We consider a simple Monte-Carlo sampling as a design of experiments.\nThis is why we generate an input sample using the `getSample` method of the distribution.\nThen we evaluate the output using the `model` function.\n\n"
      ]
    },
    {
      "cell_type": "code",
      "execution_count": null,
      "metadata": {
        "collapsed": false
      },
      "outputs": [],
      "source": [
        "sampleSize_train = 20\nX_train = input_dist.getSample(sampleSize_train)\nY_train = model(X_train)"
      ]
    },
    {
      "cell_type": "markdown",
      "metadata": {},
      "source": [
        "## Create the Legendre basis\n\nWe first create a Legendre basis of univariate polynomials.\n\nThe :class:`~openturns.LegendreFactory` class creates Legendre polynomials.\n\n"
      ]
    },
    {
      "cell_type": "code",
      "execution_count": null,
      "metadata": {
        "collapsed": false
      },
      "outputs": [],
      "source": [
        "univariateFactory = ot.LegendreFactory()"
      ]
    },
    {
      "cell_type": "markdown",
      "metadata": {},
      "source": [
        "These polynomials are orthogonal with respect to the `Uniform` distribution on $[-1, 1]$, as we can see.\n\n"
      ]
    },
    {
      "cell_type": "code",
      "execution_count": null,
      "metadata": {
        "collapsed": false
      },
      "outputs": [],
      "source": [
        "univariateFactory.getMeasure()"
      ]
    },
    {
      "cell_type": "markdown",
      "metadata": {},
      "source": [
        "Even if the measure  `Uniform([-1, 1])` does not correspond to the input marginal distributions,\nthese polynomials will, anyway, create a consistent trend for the Gaussian process regression metamodel.\n\nWe use the same polynomial family for each input. The multivariate polynomials are created by tensorization of the univariate polynomials.\nThe linear enumerate function specifies the order followed to create the multivariate polynomials.\n\n"
      ]
    },
    {
      "cell_type": "code",
      "execution_count": null,
      "metadata": {
        "collapsed": false
      },
      "outputs": [],
      "source": [
        "polyColl = [univariateFactory] * dimension\nenumerateFunction = ot.LinearEnumerateFunction(dimension)\nproductBasis = ot.OrthogonalProductPolynomialFactory(polyColl, enumerateFunction)"
      ]
    },
    {
      "cell_type": "markdown",
      "metadata": {},
      "source": [
        "The basis contains the first multivariate polynomials ordered according to the linear enumerate function.\n\n"
      ]
    },
    {
      "cell_type": "code",
      "execution_count": null,
      "metadata": {
        "collapsed": false
      },
      "outputs": [],
      "source": [
        "functions = []\nnumberOfTrendCoefficients = 12\nfor i in range(numberOfTrendCoefficients):\n    multivariatepolynomial = productBasis.build(i)\n    print(multivariatepolynomial)\n    functions.append(multivariatepolynomial)"
      ]
    },
    {
      "cell_type": "code",
      "execution_count": null,
      "metadata": {
        "collapsed": false
      },
      "outputs": [],
      "source": [
        "basis = ot.Basis(functions)"
      ]
    },
    {
      "cell_type": "markdown",
      "metadata": {},
      "source": [
        "## Create the Gaussian Process Regression metamodel\n\nIn order to create the  Gaussian process regression  metamodel, we choose the function basis created previously\nand a squared exponential covariance model.\n\n"
      ]
    },
    {
      "cell_type": "code",
      "execution_count": null,
      "metadata": {
        "collapsed": false
      },
      "outputs": [],
      "source": [
        "covariance_model = ot.SquaredExponential([1.0] * dimension, [1.0])"
      ]
    },
    {
      "cell_type": "markdown",
      "metadata": {},
      "source": [
        "First, we estimate a Gaussian process approximating the model with the class\n:class:`~openturns.experimental.GaussianProcessFitter`.\n\n"
      ]
    },
    {
      "cell_type": "code",
      "execution_count": null,
      "metadata": {
        "collapsed": false
      },
      "outputs": [],
      "source": [
        "algo_fit = otexp.GaussianProcessFitter(X_train, Y_train, covariance_model, basis)\nprint(\"First run: algo GPFitter = \", algo_fit.getOptimizationAlgorithm())\nalgo_fit.setOptimizationAlgorithm(ot.TNC())\nalgo_fit.run()\nfitter_result = algo_fit.getResult()"
      ]
    },
    {
      "cell_type": "markdown",
      "metadata": {},
      "source": [
        "Then, we condition the estimated gaussian process to\nmake it interpolate the data set using the class\n:class:`~openturns.experimental.GaussianProcessRegression`.\n\n"
      ]
    },
    {
      "cell_type": "code",
      "execution_count": null,
      "metadata": {
        "collapsed": false
      },
      "outputs": [],
      "source": [
        "gpr_algo = otexp.GaussianProcessRegression(fitter_result)\ngpr_algo.run()\ngpr_result = gpr_algo.getResult()"
      ]
    },
    {
      "cell_type": "markdown",
      "metadata": {},
      "source": [
        "We get the Gaussian process regression metamodel.\n\n"
      ]
    },
    {
      "cell_type": "code",
      "execution_count": null,
      "metadata": {
        "collapsed": false
      },
      "outputs": [],
      "source": [
        "gpr_metamodel = gpr_result.getMetaModel()"
      ]
    },
    {
      "cell_type": "markdown",
      "metadata": {},
      "source": [
        "The method :meth:`~openturns.experimental.GaussianProcessRegressionResult.getTrendCoefficients` returns the\ncoefficients of the trend. We see that the number of coefficients in the trend corresponds to the number of\nfunctions in the basis.\n\n"
      ]
    },
    {
      "cell_type": "code",
      "execution_count": null,
      "metadata": {
        "collapsed": false
      },
      "outputs": [],
      "source": [
        "print(gpr_result.getTrendCoefficients())"
      ]
    },
    {
      "cell_type": "markdown",
      "metadata": {},
      "source": [
        "We get the updated covariance model. The :class:`~openturns.SquaredExponential` model has one amplitude coefficient\nand 4 scale coefficients. This is because this covariance model is anisotropic : each of the 4 input variables\nis associated with its own scale coefficient.\n\n"
      ]
    },
    {
      "cell_type": "code",
      "execution_count": null,
      "metadata": {
        "collapsed": false
      },
      "outputs": [],
      "source": [
        "print(gpr_result.getCovarianceModel())"
      ]
    },
    {
      "cell_type": "markdown",
      "metadata": {},
      "source": [
        "## Create an orthogonal multivariate polynomial factory\n\nWe suggest here to create a multivariate polynomial basis where each marginal polynomial family corresponds to the polynomial family orthogonal\nto the marginal input distribution. We use the class :class:`~openturns.OrthogonalProductPolynomialFactory` created from the input marginal distributions.\nThis corresponds to the basis we usually use in the polynomial chaos expansion.\n\nWe first create the mutlivariate polynomial basis as a tensorized product of the univariate polynomial basis orthogonal to the marginal input distributions.\n\n"
      ]
    },
    {
      "cell_type": "code",
      "execution_count": null,
      "metadata": {
        "collapsed": false
      },
      "outputs": [],
      "source": [
        "multivariateBasis = ot.OrthogonalProductPolynomialFactory([cb.E, cb.F, cb.L, cb.II])"
      ]
    },
    {
      "cell_type": "markdown",
      "metadata": {},
      "source": [
        "Then we create the multivariate basis which has maximum degree equal to 2. There are 15 functions contained in the basis.\n\n"
      ]
    },
    {
      "cell_type": "code",
      "execution_count": null,
      "metadata": {
        "collapsed": false
      },
      "outputs": [],
      "source": [
        "totalDegree = 2\nenumerateFunction = multivariateBasis.getEnumerateFunction()\nnumberOfTrendCoefficients = enumerateFunction.getStrataCumulatedCardinal(totalDegree)\nprint(\"Number of functions in the basis: \", numberOfTrendCoefficients)"
      ]
    },
    {
      "cell_type": "code",
      "execution_count": null,
      "metadata": {
        "collapsed": false
      },
      "outputs": [],
      "source": [
        "functions = []\nfor i in range(numberOfTrendCoefficients):\n    multivariatepolynomial = productBasis.build(i)\n    print(multivariatepolynomial)\n    functions.append(multivariatepolynomial)"
      ]
    },
    {
      "cell_type": "code",
      "execution_count": null,
      "metadata": {
        "collapsed": false
      },
      "outputs": [],
      "source": [
        "basis = ot.Basis(functions)"
      ]
    },
    {
      "cell_type": "code",
      "execution_count": null,
      "metadata": {
        "collapsed": false
      },
      "outputs": [],
      "source": [
        "algo_fit = otexp.GaussianProcessFitter(X_train, Y_train, covariance_model, basis)\nprint(\"Second run: algo GPFitter = \", algo_fit.getOptimizationAlgorithm())\nalgo_fit.setOptimizationAlgorithm(ot.TNC())\nalgo_fit.run()\nfitter_result = algo_fit.getResult()\ngpr_algo = otexp.GaussianProcessRegression(fitter_result)\ngpr_algo.run()\ngpr_result = gpr_algo.getResult()\nprint(gpr_result.getTrendCoefficients())"
      ]
    },
    {
      "cell_type": "markdown",
      "metadata": {},
      "source": [
        "## Conclusion\n\nThe trend that we have configured corresponds to the basis that we would have used in a full polynomial chaos expansioncomputed with least squares.\n\nOther extensions of this work would be:\n\n* to use a Fourier basis with :class:`~openturns.FourierSeriesFactory`,\n* wavelets with :class:`~openturns.HaarWaveletFactory`,\n\nor any other univariate factory.\n\n"
      ]
    }
  ],
  "metadata": {
    "kernelspec": {
      "display_name": "Python 3",
      "language": "python",
      "name": "python3"
    },
    "language_info": {
      "codemirror_mode": {
        "name": "ipython",
        "version": 3
      },
      "file_extension": ".py",
      "mimetype": "text/x-python",
      "name": "python",
      "nbconvert_exporter": "python",
      "pygments_lexer": "ipython3",
      "version": "3.13.7"
    }
  },
  "nbformat": 4,
  "nbformat_minor": 0
}