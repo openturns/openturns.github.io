{
  "cells": [
    {
      "cell_type": "markdown",
      "metadata": {},
      "source": [
        "\n# Sequentially adding new points to a Gaussian Process metamodel\n"
      ]
    },
    {
      "cell_type": "markdown",
      "metadata": {},
      "source": [
        "In this example, we show how to sequentially add new points to a  Gaussian Process fitter (Kriging) in order to improve the predictivity of the metamodel.\nIn order to create simple graphics, we consider a 1-d function.\n\n"
      ]
    },
    {
      "cell_type": "markdown",
      "metadata": {},
      "source": [
        "## Create the function and the design of experiments\n\n"
      ]
    },
    {
      "cell_type": "code",
      "execution_count": null,
      "metadata": {
        "collapsed": false
      },
      "outputs": [],
      "source": [
        "import openturns as ot\nimport openturns.experimental as otexp\nfrom openturns.viewer import View\nimport numpy as np\nfrom openturns import viewer"
      ]
    },
    {
      "cell_type": "code",
      "execution_count": null,
      "metadata": {
        "collapsed": false
      },
      "outputs": [],
      "source": [
        "sampleSize = 4\ndimension = 1"
      ]
    },
    {
      "cell_type": "markdown",
      "metadata": {},
      "source": [
        "Define the function.\n\n"
      ]
    },
    {
      "cell_type": "code",
      "execution_count": null,
      "metadata": {
        "collapsed": false
      },
      "outputs": [],
      "source": [
        "g = ot.SymbolicFunction([\"x\"], [\"0.5*x^2 + sin(2.5*x)\"])"
      ]
    },
    {
      "cell_type": "markdown",
      "metadata": {},
      "source": [
        "Create the design of experiments.\n\n"
      ]
    },
    {
      "cell_type": "code",
      "execution_count": null,
      "metadata": {
        "collapsed": false
      },
      "outputs": [],
      "source": [
        "xMin = -0.9\nxMax = 1.9\nX_distr = ot.Uniform(xMin, xMax)\nX = ot.LHSExperiment(X_distr, sampleSize, False, False).generate()\nY = g(X)"
      ]
    },
    {
      "cell_type": "code",
      "execution_count": null,
      "metadata": {
        "collapsed": false
      },
      "outputs": [],
      "source": [
        "graph = g.draw(xMin, xMax)\ndata = ot.Cloud(X, Y)\ndata.setColor(\"red\")\ngraph.add(data)\nview = viewer.View(graph)"
      ]
    },
    {
      "cell_type": "markdown",
      "metadata": {},
      "source": [
        "## Create the algorithms\n\n"
      ]
    },
    {
      "cell_type": "code",
      "execution_count": null,
      "metadata": {
        "collapsed": false
      },
      "outputs": [],
      "source": [
        "def createMyBasicGPfitter(X, Y):\n    \"\"\"\n    Create a Gaussian Process model from a pair of X and Y samples.\n    We use a 3/2 Mat\u00e9rn covariance model and a constant trend.\n    \"\"\"\n    basis = ot.ConstantBasisFactory(dimension).build()\n    covarianceModel = ot.MaternModel([1.0], 1.5)\n    fitter = otexp.GaussianProcessFitter(X, Y, covarianceModel, basis)\n    fitter.run()\n    algo = otexp.GaussianProcessRegression(fitter.getResult())\n    algo.run()\n    gprResult = algo.getResult()\n    return gprResult"
      ]
    },
    {
      "cell_type": "code",
      "execution_count": null,
      "metadata": {
        "collapsed": false
      },
      "outputs": [],
      "source": [
        "def linearSample(xmin, xmax, npoints):\n    \"\"\"Returns a sample created from a regular grid\n    from xmin to xmax with npoints points.\"\"\"\n    step = (xmax - xmin) / (npoints - 1)\n    rg = ot.RegularGrid(xmin, step, npoints)\n    vertices = rg.getVertices()\n    return vertices"
      ]
    },
    {
      "cell_type": "markdown",
      "metadata": {},
      "source": [
        "The following `sqrt` function will be used later to compute the standard deviation from the variance.\n\n"
      ]
    },
    {
      "cell_type": "code",
      "execution_count": null,
      "metadata": {
        "collapsed": false
      },
      "outputs": [],
      "source": [
        "sqrt = ot.SymbolicFunction([\"x\"], [\"sqrt(x)\"])"
      ]
    },
    {
      "cell_type": "code",
      "execution_count": null,
      "metadata": {
        "collapsed": false
      },
      "outputs": [],
      "source": [
        "def plotMyBasicGPfitter(gprResult, xMin, xMax, X, Y, level=0.95):\n    \"\"\"\n    Given a metamodel result, plot the data, the GP fitter metamodel\n    and a confidence interval.\n    \"\"\"\n    samplesize = X.getSize()\n    meta = gprResult.getMetaModel()\n    graphKriging = meta.draw(xMin, xMax)\n    graphKriging.setLegends([\"Gaussian Process Regression\"])\n    # Create a grid of points and evaluate the function and the metamodel\n    nbpoints = 50\n    xGrid = linearSample(xMin, xMax, nbpoints)\n    yFunction = g(xGrid)\n    yKrig = meta(xGrid)\n    # Compute the conditional covariance\n    gpcc = otexp.GaussianProcessConditionalCovariance(gprResult)\n    epsilon = ot.Sample(nbpoints, [1.0e-8])\n    conditionalVariance = gpcc.getConditionalMarginalVariance(xGrid) + epsilon\n    conditionalSigma = sqrt(conditionalVariance)\n    # Compute the quantile of the Normal distribution\n    alpha = 1 - (1 - level) / 2\n    quantileAlpha = ot.DistFunc.qNormal(alpha)\n    # Graphics of the bounds\n    epsilon = 1.0e-8\n    dataLower = [\n        yKrig[i, 0] - quantileAlpha * conditionalSigma[i, 0] for i in range(nbpoints)\n    ]\n    dataUpper = [\n        yKrig[i, 0] + quantileAlpha * conditionalSigma[i, 0] for i in range(nbpoints)\n    ]\n    # Compute the Polygon graphics\n    boundsPoly = ot.Polygon.FillBetween(xGrid.asPoint(), dataLower, dataUpper)\n    boundsPoly.setLegend(\"95% bounds\")\n    # Validate the metamodel\n    metamodelPredictions = meta(xGrid)\n    mmv = ot.MetaModelValidation(yFunction, metamodelPredictions)\n    r2Score = mmv.computeR2Score()[0]\n    # Plot the function\n    graphFonction = ot.Curve(xGrid, yFunction)\n    graphFonction.setLineStyle(\"dashed\")\n    graphFonction.setColor(\"magenta\")\n    graphFonction.setLineWidth(2)\n    graphFonction.setLegend(\"Function\")\n    # Draw the X and Y observed\n    cloudDOE = ot.Cloud(X, Y)\n    cloudDOE.setPointStyle(\"circle\")\n    cloudDOE.setColor(\"red\")\n    cloudDOE.setLegend(\"Data\")\n    # Assemble the graphics\n    graph = ot.Graph()\n    graph.add(boundsPoly)\n    graph.add(graphFonction)\n    graph.add(cloudDOE)\n    graph.add(graphKriging)\n    graph.setLegendPosition(\"lower right\")\n    graph.setAxes(True)\n    graph.setGrid(True)\n    graph.setTitle(\"Size = %d, R2=%.2f%%\" % (samplesize, 100 * r2Score))\n    graph.setXTitle(\"X\")\n    graph.setYTitle(\"Y\")\n    return graph"
      ]
    },
    {
      "cell_type": "markdown",
      "metadata": {},
      "source": [
        "We start by creating the initial GP fitter metamodel on the 4 points in the design of experiments.\n\n"
      ]
    },
    {
      "cell_type": "code",
      "execution_count": null,
      "metadata": {
        "collapsed": false
      },
      "outputs": [],
      "source": [
        "gprResult = createMyBasicGPfitter(X, Y)\ngraph = plotMyBasicGPfitter(gprResult, xMin, xMax, X, Y)\nview = viewer.View(graph)"
      ]
    },
    {
      "cell_type": "markdown",
      "metadata": {},
      "source": [
        "## Sequentially add new points\n\n"
      ]
    },
    {
      "cell_type": "markdown",
      "metadata": {},
      "source": [
        "The following function is the building block of the algorithm. It returns a new point which maximizes the conditional variance.\n\n"
      ]
    },
    {
      "cell_type": "code",
      "execution_count": null,
      "metadata": {
        "collapsed": false
      },
      "outputs": [],
      "source": [
        "def getNewPoint(xMin, xMax, gprResult):\n    \"\"\"\n    Returns a new point to be added to the design of experiments.\n    This point maximizes the conditional variance of the metamodel.\n    \"\"\"\n    nbpoints = 50\n    xGrid = linearSample(xMin, xMax, nbpoints)\n    gpcc = otexp.GaussianProcessConditionalCovariance(gprResult)\n    conditionalVariance = gpcc.getConditionalMarginalVariance(xGrid)\n    iMaxVar = int(np.argmax(conditionalVariance))\n    xNew = xGrid[iMaxVar, 0]\n    xNew = ot.Point([xNew])\n    return xNew"
      ]
    },
    {
      "cell_type": "markdown",
      "metadata": {},
      "source": [
        "We first call `getNewPoint` to get a point to add to the design of experiments.\n\n"
      ]
    },
    {
      "cell_type": "code",
      "execution_count": null,
      "metadata": {
        "collapsed": false
      },
      "outputs": [],
      "source": [
        "xNew = getNewPoint(xMin, xMax, gprResult)\nxNew"
      ]
    },
    {
      "cell_type": "markdown",
      "metadata": {},
      "source": [
        "Then we evaluate the function on the new point and add it to the training design of experiments.\n\n"
      ]
    },
    {
      "cell_type": "code",
      "execution_count": null,
      "metadata": {
        "collapsed": false
      },
      "outputs": [],
      "source": [
        "yNew = g(xNew)\nX.add(xNew)\nY.add(yNew)"
      ]
    },
    {
      "cell_type": "markdown",
      "metadata": {},
      "source": [
        "We now plot the updated GP fitter.\n\n"
      ]
    },
    {
      "cell_type": "markdown",
      "metadata": {},
      "source": [
        "sphinx_gallery_thumbnail_number = 3\n\n"
      ]
    },
    {
      "cell_type": "code",
      "execution_count": null,
      "metadata": {
        "collapsed": false
      },
      "outputs": [],
      "source": [
        "gprResult = createMyBasicGPfitter(X, Y)\ngraph = plotMyBasicGPfitter(gprResult, xMin, xMax, X, Y)\ngraph.setTitle(\"GP fitter #0\")\nview = viewer.View(graph)"
      ]
    },
    {
      "cell_type": "markdown",
      "metadata": {},
      "source": [
        "The algorithm added a point to the right bound of the domain.\n\n"
      ]
    },
    {
      "cell_type": "code",
      "execution_count": null,
      "metadata": {
        "collapsed": false
      },
      "outputs": [],
      "source": [
        "for krigingStep in range(5):\n    xNew = getNewPoint(xMin, xMax, gprResult)\n    yNew = g(xNew)\n    X.add(xNew)\n    Y.add(yNew)\n    gprResult = createMyBasicGPfitter(X, Y)\n    graph = plotMyBasicGPfitter(gprResult, xMin, xMax, X, Y)\n    graph.setTitle(\"GP fitter #%d \" % (krigingStep + 1) + graph.getTitle())\n    View(graph)"
      ]
    },
    {
      "cell_type": "markdown",
      "metadata": {},
      "source": [
        "We observe that the second added point is the left bound of the domain.\nThe remaining points were added strictly inside the domain where the accuracy was drastically improved.\n\nWith only 10 points, the metamodel accuracy is already very good with a $Q^2$ which is equal to 99.9%.\n\n"
      ]
    },
    {
      "cell_type": "markdown",
      "metadata": {},
      "source": [
        "## Conclusion\n\nThe current example presents the naive implementation on the creation of a sequential design of experiments based on Gaussian Process metamodel.\nMore practical algorithms are presented in [ginsbourger2018]_.\n\n"
      ]
    },
    {
      "cell_type": "code",
      "execution_count": null,
      "metadata": {
        "collapsed": false
      },
      "outputs": [],
      "source": [
        "View.ShowAll()"
      ]
    }
  ],
  "metadata": {
    "kernelspec": {
      "display_name": "Python 3",
      "language": "python",
      "name": "python3"
    },
    "language_info": {
      "codemirror_mode": {
        "name": "ipython",
        "version": 3
      },
      "file_extension": ".py",
      "mimetype": "text/x-python",
      "name": "python",
      "nbconvert_exporter": "python",
      "pygments_lexer": "ipython3",
      "version": "3.13.7"
    }
  },
  "nbformat": 4,
  "nbformat_minor": 0
}