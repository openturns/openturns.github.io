{
  "cells": [
    {
      "cell_type": "markdown",
      "metadata": {},
      "source": [
        "\n# Estimate a confidence interval of a quantile\n"
      ]
    },
    {
      "cell_type": "markdown",
      "metadata": {},
      "source": [
        "In this example, we introduce two methods to estimate a confidence interval of the\n$\\alpha$ level quantile ($\\alpha \\in [0,1]$) of the distribution of\na scalar random\nvariable $X$. Both methods use the order statistics to estimate:\n\n- an asymptotic confidence interval with confidence level $\\beta \\in [0,1]$,\n- an exact upper bounded confidence interval with confidence level $\\beta \\in [0,1]$.\n\nIn this example, we consider the quantile of level $\\alpha = 95\\%$,\nwith a confidence level of $\\beta = 90\\%$.\n\n"
      ]
    },
    {
      "cell_type": "code",
      "execution_count": null,
      "metadata": {
        "collapsed": false
      },
      "outputs": [],
      "source": [
        "import openturns as ot\nimport openturns.experimental as otexp\nimport math as m"
      ]
    },
    {
      "cell_type": "markdown",
      "metadata": {},
      "source": [
        "We consider a random vector which is the output of a model and an input distribution.\n\n"
      ]
    },
    {
      "cell_type": "code",
      "execution_count": null,
      "metadata": {
        "collapsed": false
      },
      "outputs": [],
      "source": [
        "model = ot.SymbolicFunction([\"x1\", \"x2\"], [\"x1^2+x2\"])\nR = ot.CorrelationMatrix(2)\nR[0, 1] = -0.6\ninputDist = ot.Normal([0.0, 0.0], R)\ninputDist.setDescription([\"X1\", \"X2\"])\ninputVector = ot.RandomVector(inputDist)"
      ]
    },
    {
      "cell_type": "markdown",
      "metadata": {},
      "source": [
        "Create the output random vector\n\n"
      ]
    },
    {
      "cell_type": "code",
      "execution_count": null,
      "metadata": {
        "collapsed": false
      },
      "outputs": [],
      "source": [
        "output = ot.CompositeRandomVector(model, inputVector)"
      ]
    },
    {
      "cell_type": "markdown",
      "metadata": {},
      "source": [
        "We define the level $\\alpha$ of the quantile and the confidence level $\\beta$.\n\n"
      ]
    },
    {
      "cell_type": "code",
      "execution_count": null,
      "metadata": {
        "collapsed": false
      },
      "outputs": [],
      "source": [
        "alpha = 0.95\nbeta = 0.90"
      ]
    },
    {
      "cell_type": "markdown",
      "metadata": {},
      "source": [
        "We generate a sample of the variable.\n\n"
      ]
    },
    {
      "cell_type": "code",
      "execution_count": null,
      "metadata": {
        "collapsed": false
      },
      "outputs": [],
      "source": [
        "n = 10**4\nsample = output.getSample(n)"
      ]
    },
    {
      "cell_type": "markdown",
      "metadata": {},
      "source": [
        "We get the empirical estimator of the $\\alpha$ level quantile which is the\n$\\lfloor \\sampleSize \\alpha \\rfloor$ -th order statistics evaluated on\nthe sample.\n\n"
      ]
    },
    {
      "cell_type": "code",
      "execution_count": null,
      "metadata": {
        "collapsed": false
      },
      "outputs": [],
      "source": [
        "empiricalQuantile = sample.computeQuantile(alpha)\nprint(empiricalQuantile)"
      ]
    },
    {
      "cell_type": "markdown",
      "metadata": {},
      "source": [
        "The asymptotic confidence interval of level $\\beta$ is $\\left[ X_{(i_n)}, X_{(j_n)}\\right]$\nsuch that:\n\n\\begin{align}i_\\sampleSize & = \\left\\lfloor \\sampleSize \\alpha - \\sqrt{\\sampleSize} \\; z_{\\frac{1+\\beta}{2}} \\; \\sqrt{\\alpha(1 - \\alpha)} \\right\\rfloor\\\\\n    j_\\sampleSize & = \\left\\lfloor \\sampleSize \\alpha + \\sqrt{\\sampleSize} \\; z_{\\frac{1+\\beta}{2}} \\;  \\sqrt{\\alpha(1 - \\alpha)} \\right\\rfloor\\end{align}\n\nwhere  $z_{\\frac{1+\\beta}{2}}$ is the $\\frac{1+\\beta}{2}$ level quantile of the standard normal distribution (see [delmas2006]_ proposition 11.1.13).\n\nThen we have:\n\n\\begin{align}\\lim\\limits_{\\sampleSize \\rightarrow +\\infty} \\Prob{x_{\\alpha} \\in \\left[ X_{(i_\\sampleSize,\\sampleSize)}, X_{(j_\\sampleSize,\\sampleSize)}\\right]} = \\beta\\end{align}\n\n\n"
      ]
    },
    {
      "cell_type": "code",
      "execution_count": null,
      "metadata": {
        "collapsed": false
      },
      "outputs": [],
      "source": [
        "a_beta = ot.Normal(1).computeQuantile((1.0 + beta) / 2.0)[0]\ni_n = int(n * alpha - a_beta * m.sqrt(n * alpha * (1.0 - alpha)))\nj_n = int(n * alpha + a_beta * m.sqrt(n * alpha * (1.0 - alpha)))\nprint(i_n, j_n)"
      ]
    },
    {
      "cell_type": "markdown",
      "metadata": {},
      "source": [
        "Get the sorted sample\n\n"
      ]
    },
    {
      "cell_type": "code",
      "execution_count": null,
      "metadata": {
        "collapsed": false
      },
      "outputs": [],
      "source": [
        "sortedSample = sample.sort()"
      ]
    },
    {
      "cell_type": "markdown",
      "metadata": {},
      "source": [
        "Get the asymptotic confidence interval $\\left[ X_{(i_n)}, X_{(j_n)}\\right]$\nCare: the index in the sorted sample is $i_n-1$ and $j_n-1$\n\n"
      ]
    },
    {
      "cell_type": "code",
      "execution_count": null,
      "metadata": {
        "collapsed": false
      },
      "outputs": [],
      "source": [
        "infQuantile = sortedSample[i_n - 1]\nsupQuantile = sortedSample[j_n - 1]\nprint(infQuantile, empiricalQuantile, supQuantile)"
      ]
    },
    {
      "cell_type": "markdown",
      "metadata": {},
      "source": [
        "This can be done using :class:`~openturns.experimental.QuantileConfidence`\nwhen the ranks $i_n$ and $j_n$ are directly given in [0, n-1]\n\n"
      ]
    },
    {
      "cell_type": "code",
      "execution_count": null,
      "metadata": {
        "collapsed": false
      },
      "outputs": [],
      "source": [
        "algo = otexp.QuantileConfidence(alpha, beta)\ni_n, j_n = algo.computeAsymptoticBilateralRank(n)\nci = algo.computeAsymptoticBilateralConfidenceInterval(sample)\nprint(f\"asymptotic ranks={[i_n, j_n]} CI={ci}\")"
      ]
    },
    {
      "cell_type": "markdown",
      "metadata": {},
      "source": [
        "The empirical quantile was estimated with the $\\lfloor \\sampleSize\\alpha \\rfloor$ -th order statistics evaluated on\nthe sample of size $\\sampleSize$.\nWe define $i = \\sampleSize-\\lfloor \\sampleSize\\alpha \\rfloor$ and we evaluate the minimum sample size $\\tilde{\\sampleSize}$ that\nensures that the $(\\tilde{\\sampleSize}-i)$ order statistics is greater than $x_{\\alpha}$ with the confidence $\\beta$.\n\n"
      ]
    },
    {
      "cell_type": "code",
      "execution_count": null,
      "metadata": {
        "collapsed": false
      },
      "outputs": [],
      "source": [
        "i = n - int(n * alpha)\nminSampleSize = algo.computeUnilateralMinimumSampleSize(i, True)\nprint(minSampleSize)"
      ]
    },
    {
      "cell_type": "markdown",
      "metadata": {},
      "source": [
        "Now we can evaluate the upper bounded confidence interval:\nwe generate a sample with the previous minimum size and extract the empirical quantile of order $(\\tilde{\\sampleSize}-i)$.\n\n"
      ]
    },
    {
      "cell_type": "code",
      "execution_count": null,
      "metadata": {
        "collapsed": false
      },
      "outputs": [],
      "source": [
        "sample = output.getSample(minSampleSize)\nupperBoundQuantile = sample.sort()[-i - 1]\nprint(upperBoundQuantile)"
      ]
    },
    {
      "cell_type": "markdown",
      "metadata": {},
      "source": [
        "We can also find this rank back from the size\n\n"
      ]
    },
    {
      "cell_type": "code",
      "execution_count": null,
      "metadata": {
        "collapsed": false
      },
      "outputs": [],
      "source": [
        "k = algo.computeUnilateralRank(minSampleSize, True)\nprint(k, minSampleSize - i - 1)"
      ]
    },
    {
      "cell_type": "markdown",
      "metadata": {},
      "source": [
        "The quantile bound is given in the same manner from the sample and the rank\n\n"
      ]
    },
    {
      "cell_type": "code",
      "execution_count": null,
      "metadata": {
        "collapsed": false
      },
      "outputs": [],
      "source": [
        "ci = algo.computeUnilateralConfidenceInterval(sample, True)\nprint(ci)"
      ]
    }
  ],
  "metadata": {
    "kernelspec": {
      "display_name": "Python 3",
      "language": "python",
      "name": "python3"
    },
    "language_info": {
      "codemirror_mode": {
        "name": "ipython",
        "version": 3
      },
      "file_extension": ".py",
      "mimetype": "text/x-python",
      "name": "python",
      "nbconvert_exporter": "python",
      "pygments_lexer": "ipython3",
      "version": "3.13.7"
    }
  },
  "nbformat": 4,
  "nbformat_minor": 0
}