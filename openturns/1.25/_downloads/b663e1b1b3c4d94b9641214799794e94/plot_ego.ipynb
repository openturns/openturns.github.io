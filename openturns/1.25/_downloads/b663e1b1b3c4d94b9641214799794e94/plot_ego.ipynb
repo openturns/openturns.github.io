{
  "cells": [
    {
      "cell_type": "markdown",
      "metadata": {},
      "source": [
        "\n# EfficientGlobalOptimization examples\n"
      ]
    },
    {
      "cell_type": "markdown",
      "metadata": {},
      "source": [
        "The EGO algorithm [jones1998]_ is an adaptative optimization method based on\nGaussian Process metamodel.\n\nAn initial design of experiment is used to build a first metamodel.\nAt each iteration a new point that maximizes a criterion is chosen as\noptimizer candidate.\n\nThe criterion uses a tradeoff between the metamodel value and the conditional\nvariance.\n\nThen the new point is evaluated using the original model and the metamodel is\nrelearnt on the extended design of experiments.\n\n"
      ]
    },
    {
      "cell_type": "code",
      "execution_count": null,
      "metadata": {
        "collapsed": false
      },
      "outputs": [],
      "source": [
        "from openturns.usecases import branin_function\nfrom openturns.usecases import ackley_function\nimport openturns as ot\nimport openturns.experimental as otexp\nimport openturns.viewer as viewer"
      ]
    },
    {
      "cell_type": "markdown",
      "metadata": {},
      "source": [
        "## Ackley test-case\n\nWe first apply the EGO algorithm on the `Ackley function<use-case-ackley>`.\n\n"
      ]
    },
    {
      "cell_type": "markdown",
      "metadata": {},
      "source": [
        "### Define the problem\n\n"
      ]
    },
    {
      "cell_type": "markdown",
      "metadata": {},
      "source": [
        "The Ackley model is defined in the usecases module in a data class `AckleyModel` :\n\n"
      ]
    },
    {
      "cell_type": "code",
      "execution_count": null,
      "metadata": {
        "collapsed": false
      },
      "outputs": [],
      "source": [
        "am = ackley_function.AckleyModel()"
      ]
    },
    {
      "cell_type": "markdown",
      "metadata": {},
      "source": [
        "We get the Ackley function :\n\n"
      ]
    },
    {
      "cell_type": "code",
      "execution_count": null,
      "metadata": {
        "collapsed": false
      },
      "outputs": [],
      "source": [
        "model = am.model"
      ]
    },
    {
      "cell_type": "markdown",
      "metadata": {},
      "source": [
        "We specify the domain of the model :\n\n"
      ]
    },
    {
      "cell_type": "code",
      "execution_count": null,
      "metadata": {
        "collapsed": false
      },
      "outputs": [],
      "source": [
        "dim = am.dim\nlowerbound = [-4.0] * dim\nupperbound = [4.0] * dim"
      ]
    },
    {
      "cell_type": "markdown",
      "metadata": {},
      "source": [
        "We know that the global minimum is at the center of the domain. It is stored in the `AckleyModel` data class.\n\n"
      ]
    },
    {
      "cell_type": "code",
      "execution_count": null,
      "metadata": {
        "collapsed": false
      },
      "outputs": [],
      "source": [
        "xexact = am.x0"
      ]
    },
    {
      "cell_type": "markdown",
      "metadata": {},
      "source": [
        "The minimum value attained `fexact` is :\n\n"
      ]
    },
    {
      "cell_type": "code",
      "execution_count": null,
      "metadata": {
        "collapsed": false
      },
      "outputs": [],
      "source": [
        "fexact = model(xexact)\nfexact"
      ]
    },
    {
      "cell_type": "code",
      "execution_count": null,
      "metadata": {
        "collapsed": false
      },
      "outputs": [],
      "source": [
        "graph = model.draw(lowerbound, upperbound, [100] * dim)\ngraph.setTitle(\"Ackley function\")\nview = viewer.View(graph)"
      ]
    },
    {
      "cell_type": "markdown",
      "metadata": {},
      "source": [
        "We see that the Ackley function has many local minimas. The global minimum, however, is unique and located at the center of the domain.\n\n"
      ]
    },
    {
      "cell_type": "markdown",
      "metadata": {},
      "source": [
        "### Create the initial GP\n\nBefore using the EGO algorithm, we must create an initial GP metamodel.\nIn order to do this, we must create a design of experiment which fills the space.\nIn this situation, the :class:`~openturns.LHSExperiment` is a good place to start (but other design of experiments may allow one to better fill the space).\nWe use a uniform distribution in order to create a LHS design.\nThe length of the first LHS is set to ten times the problem dimension as recommended in [jones1998]_.\n\n"
      ]
    },
    {
      "cell_type": "code",
      "execution_count": null,
      "metadata": {
        "collapsed": false
      },
      "outputs": [],
      "source": [
        "listUniformDistributions = [\n    ot.Uniform(lowerbound[i], upperbound[i]) for i in range(dim)\n]\ndistribution = ot.JointDistribution(listUniformDistributions)\nsampleSize = 10 * dim\nexperiment = ot.LHSExperiment(distribution, sampleSize)\ninputSample = experiment.generate()\noutputSample = model(inputSample)"
      ]
    },
    {
      "cell_type": "code",
      "execution_count": null,
      "metadata": {
        "collapsed": false
      },
      "outputs": [],
      "source": [
        "graph = ot.Graph(\n    \"Initial LHS design of experiment - n=%d\" % (sampleSize), \"$x_0$\", \"$x_1$\", True\n)\ncloud = ot.Cloud(inputSample)\ngraph.add(cloud)\nview = viewer.View(graph)"
      ]
    },
    {
      "cell_type": "markdown",
      "metadata": {},
      "source": [
        "We now create the GP metamodel.\nWe selected the :class:`~openturns.MaternModel` covariance model with a constant basis as recommended in [leriche2021]_.\n\n"
      ]
    },
    {
      "cell_type": "code",
      "execution_count": null,
      "metadata": {
        "collapsed": false
      },
      "outputs": [],
      "source": [
        "covarianceModel = ot.MaternModel([1.0] * dim, [0.5], 2.5)\nbasis = ot.ConstantBasisFactory(dim).build()\nfitter = otexp.GaussianProcessFitter(inputSample, outputSample, covarianceModel, basis)\nfitter.run()\ngpr = otexp.GaussianProcessRegression(fitter.getResult())\ngpr.run()"
      ]
    },
    {
      "cell_type": "markdown",
      "metadata": {},
      "source": [
        "### Create the optimization problem\n\nWe finally create the :class:`~openturns.OptimizationProblem` and solve it with class:`~openturns.EfficientGlobalOptimization`.\n\n"
      ]
    },
    {
      "cell_type": "code",
      "execution_count": null,
      "metadata": {
        "collapsed": false
      },
      "outputs": [],
      "source": [
        "problem = ot.OptimizationProblem()\nproblem.setObjective(model)\nbounds = ot.Interval(lowerbound, upperbound)\nproblem.setBounds(bounds)"
      ]
    },
    {
      "cell_type": "markdown",
      "metadata": {},
      "source": [
        "In order to show the various options, we configure them all, even if most could be left to default settings in this case.\n\nThe most important method is :class:`~openturns.experimental.EfficientGlobalOptimization.setMaximumCallsNumber` which limits the number of iterations that the algorithm can perform.\nIn the Ackley example, we choose to perform 30 iterations of the algorithm.\n\n"
      ]
    },
    {
      "cell_type": "code",
      "execution_count": null,
      "metadata": {
        "collapsed": false
      },
      "outputs": [],
      "source": [
        "algo = otexp.EfficientGlobalOptimization(problem, gpr.getResult())\nalgo.setMaximumCallsNumber(30)\nalgo.run()\nresult = algo.getResult()"
      ]
    },
    {
      "cell_type": "code",
      "execution_count": null,
      "metadata": {
        "collapsed": false
      },
      "outputs": [],
      "source": [
        "result.getIterationNumber()"
      ]
    },
    {
      "cell_type": "code",
      "execution_count": null,
      "metadata": {
        "collapsed": false
      },
      "outputs": [],
      "source": [
        "result.getOptimalPoint()"
      ]
    },
    {
      "cell_type": "code",
      "execution_count": null,
      "metadata": {
        "collapsed": false
      },
      "outputs": [],
      "source": [
        "result.getOptimalValue()"
      ]
    },
    {
      "cell_type": "code",
      "execution_count": null,
      "metadata": {
        "collapsed": false
      },
      "outputs": [],
      "source": [
        "fexact"
      ]
    },
    {
      "cell_type": "markdown",
      "metadata": {},
      "source": [
        "Compared to the minimum function value, we see that the EGO algorithm\nprovides solution which is accurate.\nIndeed, the optimal point is in the neighbourhood of the exact solution,\nand this is quite an impressive success given the limited amount of function\nevaluations: only 20 evaluations for the initial DOE and 30 iterations of\nthe EGO algorithm, for a total equal to 50 function evaluations.\n\n"
      ]
    },
    {
      "cell_type": "code",
      "execution_count": null,
      "metadata": {
        "collapsed": false
      },
      "outputs": [],
      "source": [
        "graph = result.drawOptimalValueHistory()\noptimum_curve = ot.Curve(ot.Sample([[0, fexact[0]], [29, fexact[0]]]))\ngraph.add(optimum_curve)\nview = viewer.View(graph)"
      ]
    },
    {
      "cell_type": "code",
      "execution_count": null,
      "metadata": {
        "collapsed": false
      },
      "outputs": [],
      "source": [
        "inputHistory = result.getInputSample()"
      ]
    },
    {
      "cell_type": "code",
      "execution_count": null,
      "metadata": {
        "collapsed": false
      },
      "outputs": [],
      "source": [
        "graph = model.draw(lowerbound, upperbound, [100] * dim)\ngraph.setTitle(\"Ackley function\")\ncloud = ot.Cloud(inputSample, \"initial\")\ncloud.setPointStyle(\"bullet\")\ncloud.setColor(\"black\")\ngraph.add(cloud)\ncloud = ot.Cloud(inputHistory, \"solution\")\ncloud.setPointStyle(\"diamond\")\ncloud.setColor(\"forestgreen\")\ngraph.add(cloud)\nview = viewer.View(graph)"
      ]
    },
    {
      "cell_type": "markdown",
      "metadata": {},
      "source": [
        "We see that the initial (black) points are dispersed in the whole domain,\nwhile the solution points are much closer to the solution.\n\n"
      ]
    },
    {
      "cell_type": "markdown",
      "metadata": {},
      "source": [
        "## Branin test-case\n\nWe now take a look at the `Branin-Hoo<use-case-branin>` function.\n\n"
      ]
    },
    {
      "cell_type": "markdown",
      "metadata": {},
      "source": [
        "### Define the problem\n\n"
      ]
    },
    {
      "cell_type": "markdown",
      "metadata": {},
      "source": [
        "The Branin model is defined in the usecases module in a data class `BraninModel` :\n\n"
      ]
    },
    {
      "cell_type": "code",
      "execution_count": null,
      "metadata": {
        "collapsed": false
      },
      "outputs": [],
      "source": [
        "bm = branin_function.BraninModel()"
      ]
    },
    {
      "cell_type": "markdown",
      "metadata": {},
      "source": [
        "We load the dimension,\n\n"
      ]
    },
    {
      "cell_type": "code",
      "execution_count": null,
      "metadata": {
        "collapsed": false
      },
      "outputs": [],
      "source": [
        "dim = bm.dim"
      ]
    },
    {
      "cell_type": "markdown",
      "metadata": {},
      "source": [
        "the domain boundaries,\n\n"
      ]
    },
    {
      "cell_type": "code",
      "execution_count": null,
      "metadata": {
        "collapsed": false
      },
      "outputs": [],
      "source": [
        "lowerbound = bm.lowerbound\nupperbound = bm.upperbound"
      ]
    },
    {
      "cell_type": "markdown",
      "metadata": {},
      "source": [
        "and we load the model function and its noise:\n\n"
      ]
    },
    {
      "cell_type": "code",
      "execution_count": null,
      "metadata": {
        "collapsed": false
      },
      "outputs": [],
      "source": [
        "objectiveFunction = bm.model\nnoise = bm.trueNoiseFunction"
      ]
    },
    {
      "cell_type": "markdown",
      "metadata": {},
      "source": [
        "We build a sample out of the three minima :\n\n"
      ]
    },
    {
      "cell_type": "code",
      "execution_count": null,
      "metadata": {
        "collapsed": false
      },
      "outputs": [],
      "source": [
        "xexact = ot.Sample([bm.xexact1, bm.xexact2, bm.xexact3])"
      ]
    },
    {
      "cell_type": "markdown",
      "metadata": {},
      "source": [
        "The minimum value attained `fexact` is :\n\n"
      ]
    },
    {
      "cell_type": "code",
      "execution_count": null,
      "metadata": {
        "collapsed": false
      },
      "outputs": [],
      "source": [
        "fexact = objectiveFunction(xexact)\nfexact"
      ]
    },
    {
      "cell_type": "code",
      "execution_count": null,
      "metadata": {
        "collapsed": false
      },
      "outputs": [],
      "source": [
        "graph = objectiveFunction.draw(lowerbound, upperbound, [100] * dim)\ngraph.setTitle(\"Branin function\")\nview = viewer.View(graph)"
      ]
    },
    {
      "cell_type": "markdown",
      "metadata": {},
      "source": [
        "The Branin function has three local minimas.\n\n"
      ]
    },
    {
      "cell_type": "markdown",
      "metadata": {},
      "source": [
        "### Create the initial GP\n\n"
      ]
    },
    {
      "cell_type": "code",
      "execution_count": null,
      "metadata": {
        "collapsed": false
      },
      "outputs": [],
      "source": [
        "distribution = ot.JointDistribution([ot.Uniform(0.0, 1.0)] * dim)\nsampleSize = 10 * dim\nexperiment = ot.LHSExperiment(distribution, sampleSize)\ninputSample = experiment.generate()\noutputSample = objectiveFunction(inputSample)"
      ]
    },
    {
      "cell_type": "code",
      "execution_count": null,
      "metadata": {
        "collapsed": false
      },
      "outputs": [],
      "source": [
        "graph = ot.Graph(\n    \"Initial LHS design of experiment - n=%d\" % (sampleSize), \"$x_0$\", \"$x_1$\", True\n)\ncloud = ot.Cloud(inputSample)\ngraph.add(cloud)\nview = viewer.View(graph)"
      ]
    },
    {
      "cell_type": "markdown",
      "metadata": {},
      "source": [
        "Configure the covariance model with the noise\n\n"
      ]
    },
    {
      "cell_type": "code",
      "execution_count": null,
      "metadata": {
        "collapsed": false
      },
      "outputs": [],
      "source": [
        "covarianceModel = ot.MaternModel([1.0] * dim, [0.5], 2.5)\ncovarianceModel.setNuggetFactor(noise)"
      ]
    },
    {
      "cell_type": "markdown",
      "metadata": {},
      "source": [
        "Build the initial GP\n\n"
      ]
    },
    {
      "cell_type": "code",
      "execution_count": null,
      "metadata": {
        "collapsed": false
      },
      "outputs": [],
      "source": [
        "basis = ot.ConstantBasisFactory(dim).build()\nfitter = otexp.GaussianProcessFitter(inputSample, outputSample, covarianceModel, basis)\nfitter.run()\ngpr = otexp.GaussianProcessRegression(fitter.getResult())\ngpr.run()"
      ]
    },
    {
      "cell_type": "markdown",
      "metadata": {},
      "source": [
        "### Create and solve the problem\n\n"
      ]
    },
    {
      "cell_type": "markdown",
      "metadata": {},
      "source": [
        "We define the problem :\n\n"
      ]
    },
    {
      "cell_type": "code",
      "execution_count": null,
      "metadata": {
        "collapsed": false
      },
      "outputs": [],
      "source": [
        "problem = ot.OptimizationProblem()\nproblem.setObjective(objectiveFunction)\nbounds = ot.Interval(lowerbound, upperbound)\nproblem.setBounds(bounds)"
      ]
    },
    {
      "cell_type": "markdown",
      "metadata": {},
      "source": [
        "We configure the algorithm\nthe nugget factor set in the covariance model with enable the AEI formulation\n\n"
      ]
    },
    {
      "cell_type": "code",
      "execution_count": null,
      "metadata": {
        "collapsed": false
      },
      "outputs": [],
      "source": [
        "algo = otexp.EfficientGlobalOptimization(problem, gpr.getResult())\nalgo.setMaximumCallsNumber(30)"
      ]
    },
    {
      "cell_type": "markdown",
      "metadata": {},
      "source": [
        "We run the algorithm and get the result:\n\n"
      ]
    },
    {
      "cell_type": "code",
      "execution_count": null,
      "metadata": {
        "collapsed": false
      },
      "outputs": [],
      "source": [
        "algo.run()\nresult = algo.getResult()"
      ]
    },
    {
      "cell_type": "code",
      "execution_count": null,
      "metadata": {
        "collapsed": false
      },
      "outputs": [],
      "source": [
        "result.getIterationNumber()"
      ]
    },
    {
      "cell_type": "code",
      "execution_count": null,
      "metadata": {
        "collapsed": false
      },
      "outputs": [],
      "source": [
        "result.getOptimalPoint()"
      ]
    },
    {
      "cell_type": "code",
      "execution_count": null,
      "metadata": {
        "collapsed": false
      },
      "outputs": [],
      "source": [
        "result.getOptimalValue()"
      ]
    },
    {
      "cell_type": "code",
      "execution_count": null,
      "metadata": {
        "collapsed": false
      },
      "outputs": [],
      "source": [
        "fexact"
      ]
    },
    {
      "cell_type": "code",
      "execution_count": null,
      "metadata": {
        "collapsed": false
      },
      "outputs": [],
      "source": [
        "inputHistory = result.getInputSample()"
      ]
    },
    {
      "cell_type": "code",
      "execution_count": null,
      "metadata": {
        "collapsed": false
      },
      "outputs": [],
      "source": [
        "graph = objectiveFunction.draw(lowerbound, upperbound, [100] * dim)\ngraph.setTitle(\"Branin function\")\ncloud = ot.Cloud(inputSample, \"initial\")\ncloud.setPointStyle(\"bullet\")\ncloud.setColor(\"black\")\ngraph.add(cloud)\ncloud = ot.Cloud(inputHistory, \"solution\")\ncloud.setPointStyle(\"diamond\")\ncloud.setColor(\"forestgreen\")\ngraph.add(cloud)\nview = viewer.View(graph)"
      ]
    },
    {
      "cell_type": "markdown",
      "metadata": {},
      "source": [
        "We see that the EGO algorithm reached the different optima locations.\n\n"
      ]
    },
    {
      "cell_type": "code",
      "execution_count": null,
      "metadata": {
        "collapsed": false
      },
      "outputs": [],
      "source": [
        "graph = result.drawOptimalValueHistory()\noptimum_curve = ot.Curve(ot.Sample([[0, fexact[0][0]], [29, fexact[0][0]]]))\ngraph.add(optimum_curve)\nview = viewer.View(graph, axes_kw={\"xticks\": range(0, result.getIterationNumber(), 5)})"
      ]
    },
    {
      "cell_type": "code",
      "execution_count": null,
      "metadata": {
        "collapsed": false
      },
      "outputs": [],
      "source": [
        "viewer.View.ShowAll()"
      ]
    }
  ],
  "metadata": {
    "kernelspec": {
      "display_name": "Python 3",
      "language": "python",
      "name": "python3"
    },
    "language_info": {
      "codemirror_mode": {
        "name": "ipython",
        "version": 3
      },
      "file_extension": ".py",
      "mimetype": "text/x-python",
      "name": "python",
      "nbconvert_exporter": "python",
      "pygments_lexer": "ipython3",
      "version": "3.13.7"
    }
  },
  "nbformat": 4,
  "nbformat_minor": 0
}