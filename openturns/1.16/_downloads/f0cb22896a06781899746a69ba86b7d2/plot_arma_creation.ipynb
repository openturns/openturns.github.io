{
  "cells": [
    {
      "cell_type": "code",
      "execution_count": null,
      "metadata": {
        "collapsed": false
      },
      "outputs": [],
      "source": [
        "%matplotlib inline"
      ]
    },
    {
      "cell_type": "markdown",
      "metadata": {},
      "source": [
        "\n# Create an ARMA process\n"
      ]
    },
    {
      "cell_type": "markdown",
      "metadata": {},
      "source": [
        "In this example we are going to build an ARMA process defined by its linear recurrence coefficients.\n\nThe creation of an ARMA model requires the data of the AR and MA\ncoefficients which are:\n\n-  a list of scalars in the unidmensional case :\n   $(a_1, \\dots, a_p)$ for the AR-coefficients and\n   $(b_1, \\dots, b_q)$ for the MA-coefficients\n\n-  a list of square matrix\n   $(\\underline{\\underline{A}}_{\\, 1}, \\dots, \\underline{\\underline{A}}{\\, _p})$ for the\n   AR-coefficients and\n   $(\\underline{\\underline{B}}_{\\, 1}\\, \\dots, \\underline{\\underline{B}}_{\\, q})$ for the\n   MA-coefficients\n\nIl also requires the definition of a white noise\n$\\underline{\\varepsilon}$ that contains the same time grid as the\none of the process.\nThe current state of an ARMA model is characterized by its last\n$p$ values and the last $q$ values of its white noise. It\nis possible to get that state thanks to the methods *getState*.\nIt is possible to create an ARMA with a specific current state. That\nspecific current state is taken into account to generate possible\nfuturs but not to generate realizations (in order to respect the\nstationarity property of the model).\nAt the creation step, we check whether the process\n$ARMA(p,q)$ is stationnary.\nWhen the process is not stationary, the user is warned by a message.\n\n"
      ]
    },
    {
      "cell_type": "code",
      "execution_count": null,
      "metadata": {
        "collapsed": false
      },
      "outputs": [],
      "source": [
        "from __future__ import print_function\nimport openturns as ot\nimport openturns.viewer as viewer\nfrom matplotlib import pylab as plt\nimport math as m\not.Log.Show(ot.Log.NONE)"
      ]
    },
    {
      "cell_type": "markdown",
      "metadata": {},
      "source": [
        "Define the recurrence coefficients AR, MA (4,2)\n\n"
      ]
    },
    {
      "cell_type": "code",
      "execution_count": null,
      "metadata": {
        "collapsed": false
      },
      "outputs": [],
      "source": [
        "myARCoef = ot.ARMACoefficients([0.4, 0.3, 0.2, 0.1])\nmyMACoef = ot.ARMACoefficients([0.4, 0.3])"
      ]
    },
    {
      "cell_type": "markdown",
      "metadata": {},
      "source": [
        "Define the white noise distribution of the recurrent relation.\n\n"
      ]
    },
    {
      "cell_type": "code",
      "execution_count": null,
      "metadata": {
        "collapsed": false
      },
      "outputs": [],
      "source": [
        "myTimeGrid = ot.RegularGrid(0.0, 0.1, 10)\nmyWhiteNoise = ot.WhiteNoise(ot.Triangular(-1.0, 0.0, 1.0), myTimeGrid)"
      ]
    },
    {
      "cell_type": "markdown",
      "metadata": {},
      "source": [
        "Create the process:\n\n"
      ]
    },
    {
      "cell_type": "code",
      "execution_count": null,
      "metadata": {
        "collapsed": false
      },
      "outputs": [],
      "source": [
        "process = ot.ARMA(myARCoef, myMACoef, myWhiteNoise)\nprint(process)"
      ]
    },
    {
      "cell_type": "markdown",
      "metadata": {},
      "source": [
        "Draw a sample\n\n"
      ]
    },
    {
      "cell_type": "code",
      "execution_count": null,
      "metadata": {
        "collapsed": false
      },
      "outputs": [],
      "source": [
        "sample = process.getSample(6)\ngraph = sample.drawMarginal(0)\nview = viewer.View(graph)\nplt.show()"
      ]
    }
  ],
  "metadata": {
    "kernelspec": {
      "display_name": "Python 3",
      "language": "python",
      "name": "python3"
    },
    "language_info": {
      "codemirror_mode": {
        "name": "ipython",
        "version": 3
      },
      "file_extension": ".py",
      "mimetype": "text/x-python",
      "name": "python",
      "nbconvert_exporter": "python",
      "pygments_lexer": "ipython3",
      "version": "3.8.6"
    }
  },
  "nbformat": 4,
  "nbformat_minor": 0
}