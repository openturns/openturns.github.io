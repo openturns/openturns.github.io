{
 "cells": [
  {
   "cell_type": "markdown",
   "metadata": {},
   "source": [
    "# Trend computation"
   ]
  },
  {
   "cell_type": "markdown",
   "metadata": {},
   "source": [
    "In this example we are going to estimate a trend from a field.\n",
    "\n",
    "We note $(\\underline{x}_0, \\dots, \\underline{x}_{N-1})$ the values of the initial field associated to the mesh $\\mathcal{M}$ of $\\mathcal{D} \\in \\mathbb{R}^n$, where $\\underline{x}_i \\in \\mathbb{R}^d$ and $(\\underline{x}^{stat}_0, \\dots, \\underline{x}^{stat}_{N-1})$ the values of the resulting stationary field.\n",
    "\n",
    "The object **TrendFactory** allows to estimate a trend and is built from:\n",
    "\n",
    "- a regression strategy that generates a basis using the Least Angle Regression method thanks to the object **LARS**,\n",
    "- a fitting algorithm that estimates the empirical error on each sub-basis using the leave one out strategy, thanks to the object **CorrectedLeaveOneOut** or the k-fold algorithm thanks to the object **KFold**.\n",
    "\n",
    "Then, the trend transformation is estimated from the initial field $(\\underline{x}_0, \\dots, \\underline{x}_{N-1})$ and a function basis $\\mathcal{B}$ thanks to the method **build** of the object **TrendFactory**, which produces an object of type **TrendTransform**. This last object allows to:\n",
    "\n",
    "- add the trend to a given field $\\underline{w}_0, \\dots, \\underline{w}_{N-1}$ defined on the same mesh $\\mathcal{M}$: the resulting field  shares the same mesh than the initial field.\n",
    "For example, it may be useful to add the trend to a realization of the stationary process $X_{stat}$ in order to get a realization of the process $X$\n",
    "\n",
    "- get the function $f_{trend}$ defined in that evaluates the trend thanks to the method **getEvaluation()**;\n",
    "\n",
    "- create the inverse trend transformation in order to remove the trend the intiail field $(\\underline{x}_0, \\dots, \\underline{x}_{N-1})$ and  to create the resulting stationary field $(\\underline{x}^{stat}_0, \\dots, \\underline{x}^{stat}_{N-1})$ such that:\n",
    "\n",
    "$$\\underline{x}^{stat}_i = \\underline{x}_i - f_{trend}(\\underline{t}_i)$$\n",
    "\n",
    "where $\\underline{t}_i$ is the simplex associated to the value $\\underline{x}_i$.\n",
    "This creation of the inverse trend function $-f_{trend}$ is done thanks to the method **getInverse()** which produces an object of type **InverseTrendTransform** that can be evaluated on a a field.\n",
    "For example, it may be useful in order to get the stationary field $(\\underline{x}^{stat}_0, \\dots, \\underline{x}^{stat}_{N-1})$ and then analyze it with methods adapted to stationary processes (ARMA decomposition for example).\n"
   ]
  },
  {
   "cell_type": "code",
   "execution_count": 59,
   "metadata": {},
   "outputs": [],
   "source": [
    "from __future__ import print_function\n",
    "import openturns as ot\n",
    "import math as m"
   ]
  },
  {
   "cell_type": "code",
   "execution_count": 60,
   "metadata": {},
   "outputs": [],
   "source": [
    "# Define a bi dimensional mesh\n",
    "myIndices = [40, 20]\n",
    "myMesher = ot.IntervalMesher(myIndices)\n",
    "lowerBound = [0., 0.]\n",
    "upperBound = [2., 1.]\n",
    "myInterval = ot.Interval(lowerBound, upperBound)\n",
    "myMesh = myMesher.build(myInterval)\n",
    "\n",
    "# Define a scalar temporal normal process on the mesh\n",
    "# this process is stationary\n",
    "amplitude = [1.0]\n",
    "scale = [0.01]*2\n",
    "myCovModel = ot.ExponentialModel(scale, amplitude)\n",
    "myXProcess = ot.GaussianProcess(myCovModel, myMesh)\n",
    "\n",
    "# Create a trend function\n",
    "# fTrend : R^2 --> R\n",
    "#          (t,s) --> 1+2t+2s\n",
    "fTrend = ot.SymbolicFunction(['t', 's'], ['1+2*t+2*s'])\n",
    "fTemp = ot.TrendTransform(fTrend, myMesh)\n",
    "\n",
    "# Add the trend to the initial process\n",
    "myYProcess = ot.CompositeProcess(fTemp, myXProcess)\n",
    "\n",
    "# Get a field from myYtProcess\n",
    "myYField = myYProcess.getRealization()"
   ]
  },
  {
   "cell_type": "code",
   "execution_count": 63,
   "metadata": {},
   "outputs": [
    {
     "name": "stdout",
     "output_type": "stream",
     "text": [
      "Trend function =  0.978312 * ([t,s]->[1]) + 2.17955 * ([t,s]->[t]) + 1.89086 * ([t,s]->[s]) - 0.0923337 * ([t,s]->[t^2])\n"
     ]
    }
   ],
   "source": [
    "# CASE 1 : we estimate the trend from the field\n",
    "\n",
    "# Define the regression stategy using the LAR method\n",
    "myBasisSequenceFactory = ot.LARS()\n",
    "\n",
    "# Define the fitting algorithm using the\n",
    "# Corrected Leave One Out or KFold algorithms\n",
    "myFittingAlgorithm = ot.CorrectedLeaveOneOut()\n",
    "myFittingAlgorithm_2 = ot.KFold()\n",
    "\n",
    "# Define the basis function\n",
    "# For example composed of 5 functions\n",
    "myFunctionBasis = list(map(lambda fst: ot.SymbolicFunction(['t', 's'], [fst]), ['1', 't', 's', 't^2', 's^2']))\n",
    "\n",
    "# Define the trend function factory algorithm\n",
    "myTrendFactory = ot.TrendFactory(myBasisSequenceFactory, myFittingAlgorithm)\n",
    "\n",
    "# Create the trend transformation  of type TrendTransform\n",
    "myTrendTransform = myTrendFactory.build(myYField, ot.Basis(myFunctionBasis))\n",
    "\n",
    "# Check the estimated trend function\n",
    "print('Trend function = ', myTrendTransform)"
   ]
  },
  {
   "cell_type": "code",
   "execution_count": 64,
   "metadata": {},
   "outputs": [
    {
     "name": "stdout",
     "output_type": "stream",
     "text": [
      "Inverse trend fucntion =  0.978312 * ([t,s]->[1]) + 2.17955 * ([t,s]->[t]) + 1.89086 * ([t,s]->[s]) - 0.0923337 * ([t,s]->[t^2])\n"
     ]
    }
   ],
   "source": [
    "# CASE 2 : we impose the trend (or its inverse)\n",
    "\n",
    "# The function g computes the trend : R^2 -> R\n",
    "# g :      R^2 --> R\n",
    "#          (t,s) --> 1+2t+2s\n",
    "g = ot.SymbolicFunction(['t', 's'], ['1+2*t+2*s'])\n",
    "gTemp = ot.TrendTransform(g, myMesh)\n",
    "\n",
    "# Get the inverse trend transformation\n",
    "# from the trend transform already defined\n",
    "myInverseTrendTransform = myTrendTransform.getInverse()\n",
    "print('Inverse trend fucntion = ', myInverseTrendTransform)\n",
    "\n",
    "# Sometimes it is more useful to define\n",
    "# the opposite trend h : R^2 -> R\n",
    "# in fact h = -g\n",
    "h = ot.SymbolicFunction(['t', 's'], ['-(1+2*t+2*s)'])\n",
    "myInverseTrendTransform_2 = ot.InverseTrendTransform(h, myMesh)\n",
    "\n",
    "################################\n",
    "# Remove the trend from the field myYField\n",
    "# myXField = myYField - f(t,s)\n",
    "myXField2 = myTrendTransform.getInverse()(myYField)\n",
    "# or from the class InverseTrendTransform\n",
    "myXField3 = myInverseTrendTransform(myYField)\n",
    "\n",
    "# Add the trend to the field myXField2\n",
    "# myYField = f(t,s) + myXField2\n",
    "myInitialYField = myTrendTransform(myXField2)\n",
    "\n",
    "# Get the trend function f(t,s)\n",
    "myEvaluation_f = myTrendTransform.getTrendFunction()\n",
    "\n",
    "# Evaluate the trend function f at a particular vertex\n",
    "# which is the lower corner of the mesh\n",
    "myMesh = myYField.getMesh()\n",
    "vertices = myMesh.getVertices()\n",
    "vertex = vertices.getMin()\n",
    "trend_t = myEvaluation_f(vertex)"
   ]
  }
 ],
 "metadata": {
  "kernelspec": {
   "display_name": "Python 3",
   "language": "python",
   "name": "python3"
  },
  "language_info": {
   "codemirror_mode": {
    "name": "ipython",
    "version": 3
   },
   "file_extension": ".py",
   "mimetype": "text/x-python",
   "name": "python",
   "nbconvert_exporter": "python",
   "pygments_lexer": "ipython3",
   "version": "3.6.5"
  }
 },
 "nbformat": 4,
 "nbformat_minor": 1
}
