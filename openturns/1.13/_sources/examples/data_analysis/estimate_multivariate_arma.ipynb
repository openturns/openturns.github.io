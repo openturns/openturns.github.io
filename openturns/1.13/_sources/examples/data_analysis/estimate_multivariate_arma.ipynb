{
 "cells": [
  {
   "cell_type": "markdown",
   "metadata": {},
   "source": [
    "# Estimate a multivariate ARMA process"
   ]
  },
  {
   "cell_type": "markdown",
   "metadata": {},
   "source": [
    "The objective of the Use Case is to estimate a multivariate ARMA model\n",
    "from a stationary time series using the maximum likelihood estimator\n",
    "and a centered normal white noise.\n",
    "The data can be a unique time series or several time series collected\n",
    "in a process sample.\n",
    "\n",
    "We estimate $(\\underline{\\beta}, \\sigma^2)$ thanks to the\n",
    "*ARMALikelihoodFactory* object and its method *build*, acting on a\n",
    "time series or on a sample of time series. It produces a result of\n",
    "type *ARMA*.\n",
    "Note that no evaluation of selection criteria such as *AIC* and *BIC*\n",
    "is done.\n",
    "\n",
    "The synthetic data is generated from the 2-d ARMA model:\n",
    "$$X_{0,t} - 0.5 X_{0,t-1} - 0.1 X_{1,t-1} = E_{0,t} - 0.4 E_{0,t-1}$$\n",
    "$$X_{1,t} - 0.4 X_{0,t-1} - 0.5 X_{1,t-1} - 0.25 X_{0,t-2} = E_{1,t} - 0.4 E_{1,t-1}$$\n",
    "\n",
    "with E the white noise:\n",
    "$$ E \\sim \\mathcal{N} ([0,0], [0.1,0.2])$$\n",
    "\n"
   ]
  },
  {
   "cell_type": "code",
   "execution_count": 1,
   "metadata": {},
   "outputs": [],
   "source": [
    "from __future__ import print_function\n",
    "import openturns as ot"
   ]
  },
  {
   "cell_type": "code",
   "execution_count": 2,
   "metadata": {},
   "outputs": [
    {
     "data": {
      "text/html": [
       "<p>ARMA(X_{0,t} - 0.5 X_{0,t-1} - 0.1 X_{1,t-1} = E_{0,t} - 0.4 E_{0,t-1}<br>\n",
       "X_{1,t} - 0.4 X_{0,t-1} - 0.5 X_{1,t-1} - 0.25 X_{0,t-2} = E_{1,t} - 0.4 E_{1,t-1}, E_t ~ Normal(mu = [0,0], sigma = [0.316228,0.447214], R = [[ 1 0 ]<br>\n",
       " [ 0 1 ]]))</p>"
      ],
      "text/plain": [
       "class= ARMA timeGrid=class=RegularGrid name=Unnamed start=0 step=1 n=400 coefficients AR=class=ARMACoefficients, shift=0, value=class=SquareMatrix dimension=2 implementation=class=MatrixImplementation name=Unnamed rows=2 columns=2 values=[-0.5,-0.4,-0.1,-0.5], shift=1, value=class=SquareMatrix dimension=2 implementation=class=MatrixImplementation name=Unnamed rows=2 columns=2 values=[0,-0.25,0,0] coefficients MA=class=ARMACoefficients, shift=0, value=class=SquareMatrix dimension=2 implementation=class=MatrixImplementation name=Unnamed rows=2 columns=2 values=[-0.4,0,0,-0.4] noiseDistribution= class=Normal name=Normal dimension=2 mean=class=Point name=Unnamed dimension=2 values=[0,0] sigma=class=Point name=Unnamed dimension=2 values=[0.316228,0.447214] correlationMatrix=class=CorrelationMatrix dimension=2 implementation=class=MatrixImplementation name=Unnamed rows=2 columns=2 values=[1,0,0,1] state= class= ARMAState x= class=Sample name=Unnamed implementation=class=SampleImplementation name=Unnamed size=2 dimension=2 data=[[-0.458508,-0.542927],[-0.661498,0.142981]] epsilon= class=Sample name=Unnamed implementation=class=SampleImplementation name=Unnamed size=1 dimension=2 data=[[-0.541164,0.421868]]"
      ]
     },
     "execution_count": 2,
     "metadata": {},
     "output_type": "execute_result"
    }
   ],
   "source": [
    "# Create a 2-d ARMA process\n",
    "p = 2\n",
    "q = 1\n",
    "dim = 2\n",
    "\n",
    "# Tmin , Tmax and N points for TimeGrid\n",
    "dt = 1.0\n",
    "size = 400\n",
    "timeGrid = ot.RegularGrid(0.0, dt, size)\n",
    "\n",
    "# white noise\n",
    "cov = ot.CovarianceMatrix([[0.1, 0.0], [0.0, 0.2]])\n",
    "whiteNoise = ot.WhiteNoise(ot.Normal([0.0] * dim, cov), timeGrid)\n",
    "\n",
    "# AR/MA coefficients\n",
    "ar = ot.ARMACoefficients(p, dim)\n",
    "ar[0] = ot.SquareMatrix([[-0.5, -0.1], [-0.4, -0.5]])\n",
    "ar[1] = ot.SquareMatrix([[0.0, 0.0], [-0.25, 0.0]])\n",
    "\n",
    "ma = ot.ARMACoefficients(q, dim)\n",
    "ma[0] = ot.SquareMatrix([[-0.4, 0.0], [0.0, -0.4]])\n",
    "\n",
    "# ARMA model creation\n",
    "arma = ot.ARMA(ar, ma, whiteNoise)\n",
    "arma"
   ]
  },
  {
   "cell_type": "code",
   "execution_count": 3,
   "metadata": {},
   "outputs": [],
   "source": [
    "# Create a realization\n",
    "timeSeries = ot.TimeSeries(arma.getRealization())"
   ]
  },
  {
   "cell_type": "code",
   "execution_count": 4,
   "metadata": {},
   "outputs": [
    {
     "name": "stdout",
     "output_type": "stream",
     "text": [
      "Estimated ARMA=  ARMA(X_{0,t} - 0.746975 X_{0,t-1} - 0.095574 X_{1,t-1} + 0.0700775 X_{0,t-2} + 0.0116417 X_{1,t-2} = E_{0,t} - 0.661952 E_{0,t-1} - 0.0138457 E_{1,t-1}\n",
      "X_{1,t} - 0.312501 X_{0,t-1} - 0.529355 X_{1,t-1} - 0.14329 X_{0,t-2} - 0.0454044 X_{1,t-2} = E_{1,t} + 0.124083 E_{0,t-1} - 0.427033 E_{1,t-1}, E_t ~ Normal(mu = [0,0], sigma = [0.312543,0.429097], R = [[ 1         0.0451618 ]\n",
      " [ 0.0451618 1         ]]))\n"
     ]
    }
   ],
   "source": [
    "# Estimate the process from the previous realization\n",
    "factory = ot.ARMALikelihoodFactory(p, q, dim)\n",
    "factory.setInitialConditions(ar, ma, cov)\n",
    "\n",
    "arma_est = ot.ARMA(factory.build(timeSeries))\n",
    "print('Estimated ARMA= ', arma_est)"
   ]
  }
 ],
 "metadata": {
  "kernelspec": {
   "display_name": "Python 3",
   "language": "python",
   "name": "python3"
  },
  "language_info": {
   "codemirror_mode": {
    "name": "ipython",
    "version": 3
   },
   "file_extension": ".py",
   "mimetype": "text/x-python",
   "name": "python",
   "nbconvert_exporter": "python",
   "pygments_lexer": "ipython3",
   "version": "3.6.5"
  }
 },
 "nbformat": 4,
 "nbformat_minor": 1
}
