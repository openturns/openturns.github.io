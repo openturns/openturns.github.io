{
  "cells": [
    {
      "cell_type": "code",
      "execution_count": null,
      "metadata": {
        "collapsed": false
      },
      "outputs": [],
      "source": [
        "%matplotlib inline"
      ]
    },
    {
      "cell_type": "markdown",
      "metadata": {},
      "source": [
        "\n# Draw minimum volume level sets\n"
      ]
    },
    {
      "cell_type": "code",
      "execution_count": null,
      "metadata": {
        "collapsed": false
      },
      "outputs": [],
      "source": [
        "import openturns as ot\nimport openturns.viewer as viewer\nfrom matplotlib import pylab as plt\not.Log.Show(ot.Log.NONE)"
      ]
    },
    {
      "cell_type": "markdown",
      "metadata": {},
      "source": [
        "## Draw minimum volume level set in 1D\n\nIn this paragraph, we compute the minimum volume level set of a univariate distribution.\n\n"
      ]
    },
    {
      "cell_type": "markdown",
      "metadata": {},
      "source": [
        "### With a Normal, minimum volume LevelSet\n\n"
      ]
    },
    {
      "cell_type": "code",
      "execution_count": null,
      "metadata": {
        "collapsed": false
      },
      "outputs": [],
      "source": [
        "n = ot.Normal()"
      ]
    },
    {
      "cell_type": "code",
      "execution_count": null,
      "metadata": {
        "collapsed": false
      },
      "outputs": [],
      "source": [
        "graph = n.drawPDF()\nview = viewer.View(graph)"
      ]
    },
    {
      "cell_type": "markdown",
      "metadata": {},
      "source": [
        "We want to compute the minimum volume LevelSet which contains `alpha`=90% of the distribution. The `threshold` is the value of the PDF corresponding the `alpha`-probability: the points contained in the LevelSet have a PDF value lower or equal to this threshold.\n\n"
      ]
    },
    {
      "cell_type": "code",
      "execution_count": null,
      "metadata": {
        "collapsed": false
      },
      "outputs": [],
      "source": [
        "alpha = 0.9\nlevelSet, threshold = n.computeMinimumVolumeLevelSetWithThreshold(alpha)\nthreshold"
      ]
    },
    {
      "cell_type": "markdown",
      "metadata": {},
      "source": [
        "The `LevelSet` has a `contains` method. Obviously, the point 0 is in the LevelSet.\n\n"
      ]
    },
    {
      "cell_type": "code",
      "execution_count": null,
      "metadata": {
        "collapsed": false
      },
      "outputs": [],
      "source": [
        "levelSet.contains([0.])"
      ]
    },
    {
      "cell_type": "code",
      "execution_count": null,
      "metadata": {
        "collapsed": false
      },
      "outputs": [],
      "source": [
        "def computeSampleInLevelSet(distribution, levelSet, sampleSize=1000):\n    \"\"\"\n    Generate a sample from given distribution.\n    Extract the sub-sample which is contained in the levelSet.\n    \"\"\"\n    sample = distribution.getSample(sampleSize)\n    dim = distribution.getDimension()\n    # Get the list of points in the LevelSet.\n    inLevelSet = []\n    for x in sample:\n        if levelSet.contains(x):\n            inLevelSet.append(x)\n    # Extract the sub-sample of the points in the LevelSet\n    numberOfPointsInLevelSet = len(inLevelSet)\n    inLevelSetSample = ot.Sample(numberOfPointsInLevelSet, dim)\n    for i in range(numberOfPointsInLevelSet):\n        inLevelSetSample[i] = inLevelSet[i]\n    return inLevelSetSample"
      ]
    },
    {
      "cell_type": "code",
      "execution_count": null,
      "metadata": {
        "collapsed": false
      },
      "outputs": [],
      "source": [
        "def from1Dto2Dsample(oldSample):\n    \"\"\"\n    Create a 2D sample from a 1D sample with zero ordinate (for the graph).\n    \"\"\"\n    size = oldSample.getSize()\n    newSample = ot.Sample(size, 2)\n    for i in range(size):\n        newSample[i, 0] = oldSample[i, 0]\n    return newSample"
      ]
    },
    {
      "cell_type": "code",
      "execution_count": null,
      "metadata": {
        "collapsed": false
      },
      "outputs": [],
      "source": [
        "def drawLevelSet1D(distribution, levelSet, alpha, threshold, sampleSize=100):\n    '''\n    Draw a 1D sample included in a given levelSet.\n    The sample is generated from the distribution.\n    '''\n    inLevelSample = computeSampleInLevelSet(distribution, levelSet, sampleSize)\n    cloudSample = from1Dto2Dsample(inLevelSample)\n    graph = distribution.drawPDF()\n    mycloud = ot.Cloud(cloudSample)\n    graph.add(mycloud)\n    graph.setTitle(\"%.2f%% of the distribution, sample size = %d, \" %\n                   (100*alpha, sampleSize))\n    return graph"
      ]
    },
    {
      "cell_type": "code",
      "execution_count": null,
      "metadata": {
        "collapsed": false
      },
      "outputs": [],
      "source": [
        "graph = drawLevelSet1D(n, levelSet, alpha, threshold)\nview = viewer.View(graph)"
      ]
    },
    {
      "cell_type": "markdown",
      "metadata": {},
      "source": [
        "### With a Normal, minimum volume Interval\n\n"
      ]
    },
    {
      "cell_type": "code",
      "execution_count": null,
      "metadata": {
        "collapsed": false
      },
      "outputs": [],
      "source": [
        "interval = n.computeMinimumVolumeInterval(alpha)\ninterval"
      ]
    },
    {
      "cell_type": "code",
      "execution_count": null,
      "metadata": {
        "collapsed": false
      },
      "outputs": [],
      "source": [
        "def drawPDFAndInterval1D(distribution, interval, alpha):\n    '''\n    Draw the PDF of the distribution and the lower and upper bounds of an interval.\n    '''\n    xmin = interval.getLowerBound()[0]\n    xmax = interval.getUpperBound()[0]\n    graph = distribution.drawPDF()\n    yvalue = distribution.computePDF(xmin)\n    curve = ot.Curve([[xmin, 0.], [xmin, yvalue], [xmax, yvalue], [xmax, 0.]])\n    curve.setColor(\"black\")\n    graph.add(curve)\n    graph.setTitle(\"%.2f%% of the distribution, lower bound = %.3f, upper bound = %.3f\" % (\n        100*alpha, xmin, xmax))\n    return graph"
      ]
    },
    {
      "cell_type": "markdown",
      "metadata": {},
      "source": [
        "The `computeMinimumVolumeInterval` returns an `Interval`.\n\n"
      ]
    },
    {
      "cell_type": "code",
      "execution_count": null,
      "metadata": {
        "collapsed": false
      },
      "outputs": [],
      "source": [
        "graph = drawPDFAndInterval1D(n, interval, alpha)\nview = viewer.View(graph)"
      ]
    },
    {
      "cell_type": "markdown",
      "metadata": {},
      "source": [
        "### With a Mixture, minimum volume LevelSet\n\n"
      ]
    },
    {
      "cell_type": "code",
      "execution_count": null,
      "metadata": {
        "collapsed": false
      },
      "outputs": [],
      "source": [
        "m = ot.Mixture([ot.Normal(-5., 1.), ot.Normal(5., 1.)], [0.2, 0.8])"
      ]
    },
    {
      "cell_type": "code",
      "execution_count": null,
      "metadata": {
        "collapsed": false
      },
      "outputs": [],
      "source": [
        "graph = m.drawPDF()\nview = viewer.View(graph)"
      ]
    },
    {
      "cell_type": "code",
      "execution_count": null,
      "metadata": {
        "collapsed": false
      },
      "outputs": [],
      "source": [
        "alpha = 0.9\nlevelSet, threshold = m.computeMinimumVolumeLevelSetWithThreshold(alpha)\nthreshold"
      ]
    },
    {
      "cell_type": "markdown",
      "metadata": {},
      "source": [
        "The interesting point is that a `LevelSet` may be non-contiguous. In the current mixture example, this is not an interval.\n\n"
      ]
    },
    {
      "cell_type": "code",
      "execution_count": null,
      "metadata": {
        "collapsed": false
      },
      "outputs": [],
      "source": [
        "graph = drawLevelSet1D(m, levelSet, alpha, threshold, 1000)\nview = viewer.View(graph)"
      ]
    },
    {
      "cell_type": "markdown",
      "metadata": {},
      "source": [
        "### With a Mixture, minimum volume Interval\n\n"
      ]
    },
    {
      "cell_type": "code",
      "execution_count": null,
      "metadata": {
        "collapsed": false
      },
      "outputs": [],
      "source": [
        "interval = m.computeMinimumVolumeInterval(alpha)\ninterval"
      ]
    },
    {
      "cell_type": "markdown",
      "metadata": {},
      "source": [
        "The `computeMinimumVolumeInterval` returns an `Interval`. The bounds of this interval are different from the previous `LevelSet`.\n\n"
      ]
    },
    {
      "cell_type": "code",
      "execution_count": null,
      "metadata": {
        "collapsed": false
      },
      "outputs": [],
      "source": [
        "graph = drawPDFAndInterval1D(m, interval, alpha)\nview = viewer.View(graph)"
      ]
    },
    {
      "cell_type": "markdown",
      "metadata": {},
      "source": [
        "## Draw minimum volume level set in 2D\n\nIn this paragraph, we compute the minimum volume level set of a bivariate distribution.\n\n"
      ]
    },
    {
      "cell_type": "markdown",
      "metadata": {},
      "source": [
        "Create a gaussian\n\n"
      ]
    },
    {
      "cell_type": "code",
      "execution_count": null,
      "metadata": {
        "collapsed": false
      },
      "outputs": [],
      "source": [
        "corr = ot.CorrelationMatrix(2)\ncorr[0, 1] = 0.2\ncopula = ot.NormalCopula(corr)\nx1 = ot.Normal(-1., 1)\nx2 = ot.Normal(2, 1)\nx_funk = ot.ComposedDistribution([x1, x2], copula)\n\n# Create a second gaussian\nx1 = ot.Normal(1., 1)\nx2 = ot.Normal(-2, 1)\nx_punk = ot.ComposedDistribution([x1, x2], copula)\n\n# Mix the distributions\nmixture = ot.Mixture([x_funk, x_punk], [0.5, 1.])"
      ]
    },
    {
      "cell_type": "code",
      "execution_count": null,
      "metadata": {
        "collapsed": false
      },
      "outputs": [],
      "source": [
        "graph = mixture.drawPDF()\nview = viewer.View(graph)"
      ]
    },
    {
      "cell_type": "markdown",
      "metadata": {},
      "source": [
        "For a multivariate distribution (with dimension greater than 1), the `computeMinimumVolumeLevelSetWithThreshold` uses Monte-Carlo sampling.\n\n"
      ]
    },
    {
      "cell_type": "code",
      "execution_count": null,
      "metadata": {
        "collapsed": false
      },
      "outputs": [],
      "source": [
        "ot.ResourceMap.SetAsUnsignedInteger(\n    \"Distribution-MinimumVolumeLevelSetSamplingSize\", 1000)"
      ]
    },
    {
      "cell_type": "markdown",
      "metadata": {},
      "source": [
        "We want to compute the minimum volume LevelSet which contains `alpha`=90% of the distribution. The `threshold` is the value of the PDF corresponding the `alpha`-probability: the points contained in the LevelSet have a PDF value lower or equal to this threshold.\n\n"
      ]
    },
    {
      "cell_type": "code",
      "execution_count": null,
      "metadata": {
        "collapsed": false
      },
      "outputs": [],
      "source": [
        "alpha = 0.9\nlevelSet, threshold = mixture.computeMinimumVolumeLevelSetWithThreshold(alpha)\nthreshold"
      ]
    },
    {
      "cell_type": "code",
      "execution_count": null,
      "metadata": {
        "collapsed": false
      },
      "outputs": [],
      "source": [
        "def drawLevelSetContour2D(distribution, numberOfPointsInXAxis, alpha, threshold, sampleSize=500):\n    '''\n    Compute the minimum volume LevelSet of measure equal to alpha and get the\n    corresponding density value (named threshold).\n    Generate a sample of the distribution and draw it.\n    Draw a contour plot for the distribution, where the PDF is equal to threshold.\n    '''\n    sample = distribution.getSample(sampleSize)\n    X1min = sample[:, 0].getMin()[0]\n    X1max = sample[:, 0].getMax()[0]\n    X2min = sample[:, 1].getMin()[0]\n    X2max = sample[:, 1].getMax()[0]\n    xx = ot.Box([numberOfPointsInXAxis],\n                ot.Interval([X1min], [X1max])).generate()\n    yy = ot.Box([numberOfPointsInXAxis],\n                ot.Interval([X2min], [X2max])).generate()\n    xy = ot.Box([numberOfPointsInXAxis, numberOfPointsInXAxis],\n                ot.Interval([X1min, X2min], [X1max, X2max])).generate()\n    data = distribution.computePDF(xy)\n    graph = ot.Graph('', 'X1', 'X2', True, 'topright')\n    labels = [\"%.2f%%\" % (100*alpha)]\n    contour = ot.Contour(xx, yy, data, [threshold], labels)\n    contour.setColor('black')\n    graph.setTitle(\"%.2f%% of the distribution, sample size = %d\" %\n                   (100*alpha, sampleSize))\n    graph.add(contour)\n    cloud = ot.Cloud(sample)\n    graph.add(cloud)\n    return graph"
      ]
    },
    {
      "cell_type": "markdown",
      "metadata": {},
      "source": [
        "The following plot shows that 90% of the sample is contained in the LevelSet.\n\n"
      ]
    },
    {
      "cell_type": "code",
      "execution_count": null,
      "metadata": {
        "collapsed": false
      },
      "outputs": [],
      "source": [
        "numberOfPointsInXAxis = 50\ngraph = drawLevelSetContour2D(mixture, numberOfPointsInXAxis, alpha, threshold)\nview = viewer.View(graph)\nplt.show()"
      ]
    },
    {
      "cell_type": "code",
      "execution_count": null,
      "metadata": {
        "collapsed": false
      },
      "outputs": [],
      "source": [
        "plt.show()"
      ]
    }
  ],
  "metadata": {
    "kernelspec": {
      "display_name": "Python 3",
      "language": "python",
      "name": "python3"
    },
    "language_info": {
      "codemirror_mode": {
        "name": "ipython",
        "version": 3
      },
      "file_extension": ".py",
      "mimetype": "text/x-python",
      "name": "python",
      "nbconvert_exporter": "python",
      "pygments_lexer": "ipython3",
      "version": "3.10.2"
    }
  },
  "nbformat": 4,
  "nbformat_minor": 0
}