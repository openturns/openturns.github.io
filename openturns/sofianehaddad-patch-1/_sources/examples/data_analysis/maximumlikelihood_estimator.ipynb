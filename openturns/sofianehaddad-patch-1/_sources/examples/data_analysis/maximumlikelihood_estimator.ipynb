{
 "cells": [
  {
   "cell_type": "markdown",
   "metadata": {},
   "source": [
    "# Fit a distribution by maximum likelihood"
   ]
  },
  {
   "cell_type": "markdown",
   "metadata": {},
   "source": [
    "In this example we are going to estimate the parameters of a parametric by generic numerical optimization of the likelihood.\n",
    "\n",
    "The likelihood of a sample $X$ according to a parametric density function $p_{\\underline{\\theta}}$ is:\n",
    "$$likelihood(\\underline{x}_1, \\dots, \\underline{x}_n,\\underline{\\theta}) = \\prod_{i=1}^n p_{\\underline{\\theta}}(\\underline{x}_i)$$"
   ]
  },
  {
   "cell_type": "code",
   "execution_count": 1,
   "metadata": {
    "collapsed": true
   },
   "outputs": [],
   "source": [
    "from __future__ import print_function\n",
    "import openturns as ot\n",
    "import math as m"
   ]
  },
  {
   "cell_type": "code",
   "execution_count": 2,
   "metadata": {
    "collapsed": true
   },
   "outputs": [],
   "source": [
    "# Create data from a gaussian pdf with mu=4, sigma=1.5\n",
    "sample = ot.Normal(4.0, 1.5).getSample(200)"
   ]
  },
  {
   "cell_type": "code",
   "execution_count": 3,
   "metadata": {
    "collapsed": true
   },
   "outputs": [],
   "source": [
    "# Create the search interval of (mu, sigma): the constraint is sigma>0\n",
    "lowerBound = [-1.0, 1.0e-4]\n",
    "upperBound = [-1.0, -1.0]\n",
    "finiteLowerBound = [False, True]\n",
    "finiteUpperBound = [False, False]\n",
    "bounds = ot.Interval(lowerBound, upperBound, finiteLowerBound, finiteUpperBound)"
   ]
  },
  {
   "cell_type": "code",
   "execution_count": 4,
   "metadata": {},
   "outputs": [
    {
     "data": {
      "text/html": [
       "<p>[4.9123,2.81156]<br>\n",
       "</p>"
      ],
      "text/plain": [
       "class=Point name=Unnamed dimension=2 values=[4.9123,2.81156]"
      ]
     },
     "execution_count": 4,
     "metadata": {},
     "output_type": "execute_result"
    }
   ],
   "source": [
    "# Create the starting point of the research\n",
    "# For mu : the first point\n",
    "# For sigma : a value evaluated from the two first points\n",
    "mu0 = sample[0][0]\n",
    "sigma0 = m.sqrt((sample[1][0] - sample[0][0]) * (sample[1][0] - sample[0][0]))\n",
    "startingPoint = [mu0, sigma0]\n",
    "ot.Point(startingPoint)"
   ]
  },
  {
   "cell_type": "code",
   "execution_count": 5,
   "metadata": {
    "collapsed": true
   },
   "outputs": [],
   "source": [
    "# Create the estimator from a parametric pdf\n",
    "pdf = ot.Normal()\n",
    "factory = ot.MaximumLikelihoodFactory(pdf)\n",
    "factory.setOptimizationBounds(bounds)"
   ]
  },
  {
   "cell_type": "code",
   "execution_count": 6,
   "metadata": {
    "collapsed": true
   },
   "outputs": [],
   "source": [
    "# Set the starting point via the solver\n",
    "solver = factory.getOptimizationAlgorithm()\n",
    "solver.setStartingPoint(startingPoint)\n",
    "factory.setOptimizationAlgorithm(solver)"
   ]
  },
  {
   "cell_type": "code",
   "execution_count": 7,
   "metadata": {},
   "outputs": [
    {
     "data": {
      "text/plain": [
       "'Normal(mu = 3.94055, sigma = 1.48893)'"
      ]
     },
     "execution_count": 7,
     "metadata": {},
     "output_type": "execute_result"
    }
   ],
   "source": [
    "# Estimate the parametric model\n",
    "distribution = factory.build(sample)\n",
    "str(distribution)"
   ]
  },
  {
   "cell_type": "code",
   "execution_count": 8,
   "metadata": {},
   "outputs": [
    {
     "data": {
      "text/html": [
       "<p>[3.94055,1.48893]<br>\n",
       "</p>"
      ],
      "text/plain": [
       "class=Point name=Unnamed dimension=2 values=[3.94055,1.48893]"
      ]
     },
     "execution_count": 8,
     "metadata": {},
     "output_type": "execute_result"
    }
   ],
   "source": [
    "# Retrieve the estimated parameters\n",
    "distribution.getParameter()"
   ]
  }
 ],
 "metadata": {
  "kernelspec": {
   "display_name": "Python 3",
   "language": "python",
   "name": "python3"
  },
  "language_info": {
   "codemirror_mode": {
    "name": "ipython",
    "version": 3
   },
   "file_extension": ".py",
   "mimetype": "text/x-python",
   "name": "python",
   "nbconvert_exporter": "python",
   "pygments_lexer": "ipython3",
   "version": "3.5.2"
  }
 },
 "nbformat": 4,
 "nbformat_minor": 1
}
