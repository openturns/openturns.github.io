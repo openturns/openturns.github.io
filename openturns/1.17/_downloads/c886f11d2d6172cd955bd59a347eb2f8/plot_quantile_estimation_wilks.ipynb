{
  "cells": [
    {
      "cell_type": "code",
      "execution_count": null,
      "metadata": {
        "collapsed": false
      },
      "outputs": [],
      "source": [
        "%matplotlib inline"
      ]
    },
    {
      "cell_type": "markdown",
      "metadata": {},
      "source": [
        "\n# Estimate Wilks and empirical quantile\n"
      ]
    },
    {
      "cell_type": "markdown",
      "metadata": {},
      "source": [
        "In this example we want to evaluate a particular quantile, with the empirical estimator or the Wilks one, from a sample of a random variable.\n\n\nLet us suppose we want to estimate the quantile $q_{\\alpha}$ of order $\\alpha$ of the variable $Y$:\n$P(Y \\leq q_{\\alpha}) = \\alpha$, from the sample $(Y_1, ..., Y_n)$\nof size $n$, with a confidence level equal to $\\beta$.\n\nWe note $(Y^{(1)}, ..., Y^{(n)})$ the sample where the values are sorted in ascending order.\nThe empirical estimator, noted $q_{\\alpha}^{emp}$, and its confidence interval, is defined by the expressions:\n\n\\begin{align}\\left\\{\n     \\begin{array}{lcl}\n       q_{\\alpha}^{emp} & = & Y^{(E[n\\alpha])} \\\\\n       P(q_{\\alpha} \\in [Y^{(i_n)}, Y^{(j_n)}]) & = & \\beta \\\\\n       i_n & = & E[n\\alpha - a_{\\alpha}\\sqrt{n\\alpha(1-\\alpha)}] \\\\\n       i_n & = & E[n\\alpha + a_{\\alpha}\\sqrt{n\\alpha(1-\\alpha)}]\n     \\end{array}\n    \\right\\}\\end{align}\n\nThe Wilks estimator, noted $q_{\\alpha, \\beta}^{Wilks}$, and its confidence interval, is defined by the expressions:\n\n\\begin{align}\\left\\{\n  \\begin{array}{lcl}\n    q_{\\alpha, \\beta}^{Wilks} & = & Y^{(n-i)} \\\\\n    P(q_{\\alpha}  \\leq q_{\\alpha, \\beta}^{Wilks}) & \\geq & \\beta \\\\\n    i\\geq 0 \\, \\, /  \\, \\, n \\geq N_{Wilks}(\\alpha, \\beta,i)\n  \\end{array}\n  \\right\\}\\end{align}\n\nOnce the order $i$ has been chosen, the Wilks number $N_{Wilks}(\\alpha, \\beta,i)$ is evaluated,\nthanks to the static method $ComputeSampleSize(\\alpha, \\beta, i)$ of the Wilks object.\n\nIn the example, we want to evaluate a quantile $\\alpha = 95\\%$,\nwith a confidence level of $\\beta = 90\\%$ thanks to the $4$th maximum of\nthe ordered sample (associated to the order $i = 3$).\n\nBe careful: $i=0$ means that the Wilks estimator is the maximum of the sample:\nit corresponds to the first maximum of the sample.\n\n"
      ]
    },
    {
      "cell_type": "code",
      "execution_count": null,
      "metadata": {
        "collapsed": false
      },
      "outputs": [],
      "source": [
        "from __future__ import print_function\nimport openturns as ot\nimport math as m\nimport openturns.viewer as viewer\nfrom matplotlib import pylab as plt\not.Log.Show(ot.Log.NONE)"
      ]
    },
    {
      "cell_type": "code",
      "execution_count": null,
      "metadata": {
        "collapsed": false
      },
      "outputs": [],
      "source": [
        "model = ot.SymbolicFunction(['x1', 'x2'], ['x1^2+x2'])\nR = ot.CorrelationMatrix(2)\nR[0,1] = -0.6\ninputDist = ot.Normal([0.,0.], R)\ninputDist.setDescription(['X1','X2'])\ninputVector = ot.RandomVector(inputDist)\n\n# Create the output random vector Y=model(X)\noutput = ot.CompositeRandomVector(model, inputVector)"
      ]
    },
    {
      "cell_type": "markdown",
      "metadata": {},
      "source": [
        "Quantile level\n\n"
      ]
    },
    {
      "cell_type": "code",
      "execution_count": null,
      "metadata": {
        "collapsed": false
      },
      "outputs": [],
      "source": [
        "alpha = 0.95\n\n# Confidence level of the estimation\nbeta = 0.90"
      ]
    },
    {
      "cell_type": "markdown",
      "metadata": {},
      "source": [
        "Get a sample of the variable\n\n"
      ]
    },
    {
      "cell_type": "code",
      "execution_count": null,
      "metadata": {
        "collapsed": false
      },
      "outputs": [],
      "source": [
        "N = 10**4\nsample = output.getSample(N)\ngraph = ot.UserDefined(sample).drawCDF()\nview = viewer.View(graph)"
      ]
    },
    {
      "cell_type": "markdown",
      "metadata": {},
      "source": [
        "Empirical Quantile Estimator\n\n"
      ]
    },
    {
      "cell_type": "code",
      "execution_count": null,
      "metadata": {
        "collapsed": false
      },
      "outputs": [],
      "source": [
        "empiricalQuantile = sample.computeQuantile(alpha)\n\n# Get the indices of the confidence interval bounds\naAlpha = ot.Normal(1).computeQuantile((1.0+beta)/2.0)[0]\nmin_i = int(N*alpha - aAlpha*m.sqrt(N*alpha*(1.0-alpha)))\nmax_i = int(N*alpha + aAlpha*m.sqrt(N*alpha*(1.0-alpha)))\n#print(min_i, max_i)\n\n# Get the sorted sample\nsortedSample = sample.sort()\n\n# Get the Confidence interval of the Empirical Quantile Estimator [infQuantile, supQuantile]\ninfQuantile = sortedSample[min_i-1]\nsupQuantile = sortedSample[max_i-1]\nprint(infQuantile, empiricalQuantile, supQuantile)"
      ]
    },
    {
      "cell_type": "markdown",
      "metadata": {},
      "source": [
        "Wilks number\n\n"
      ]
    },
    {
      "cell_type": "code",
      "execution_count": null,
      "metadata": {
        "collapsed": false
      },
      "outputs": [],
      "source": [
        "i = N - (min_i+max_i)//2 # compute wilks with the same sample size\nwilksNumber = ot.Wilks.ComputeSampleSize(alpha, beta, i)\nprint('wilksNumber =', wilksNumber)"
      ]
    },
    {
      "cell_type": "markdown",
      "metadata": {},
      "source": [
        "Wilks Quantile Estimator\n\n"
      ]
    },
    {
      "cell_type": "code",
      "execution_count": null,
      "metadata": {
        "collapsed": false
      },
      "outputs": [],
      "source": [
        "algo = ot.Wilks(output)\nwilksQuantile = algo.computeQuantileBound(alpha, beta, i)\nprint('wilks Quantile 0.95 =', wilksQuantile)"
      ]
    }
  ],
  "metadata": {
    "kernelspec": {
      "display_name": "Python 3",
      "language": "python",
      "name": "python3"
    },
    "language_info": {
      "codemirror_mode": {
        "name": "ipython",
        "version": 3
      },
      "file_extension": ".py",
      "mimetype": "text/x-python",
      "name": "python",
      "nbconvert_exporter": "python",
      "pygments_lexer": "ipython3",
      "version": "3.9.4"
    }
  },
  "nbformat": 4,
  "nbformat_minor": 0
}