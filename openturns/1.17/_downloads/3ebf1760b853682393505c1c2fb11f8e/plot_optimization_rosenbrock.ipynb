{
  "cells": [
    {
      "cell_type": "code",
      "execution_count": null,
      "metadata": {
        "collapsed": false
      },
      "outputs": [],
      "source": [
        "%matplotlib inline"
      ]
    },
    {
      "cell_type": "markdown",
      "metadata": {},
      "source": [
        "\n# Quick start guide to optimization\n"
      ]
    },
    {
      "cell_type": "markdown",
      "metadata": {},
      "source": [
        "In this example, we perform the optimization of the Rosenbrock test function. \n\nLet $a, b\\in\\mathbb{R}$ be parameters. The Rosenbrock function is defined by\n\n\\begin{align}f(x_1, x_2) = (a-x_1)^2 + b(x_2 - x_1^2)^2\\end{align}\n\n\nfor any $\\mathbf{x}\\in\\mathbb{R}^2$. \nThis function is often used with $a=1$ and $b=100$. In this case, the function has a single global minimum at:\n\n\\begin{align}\\mathbf{x}^\\star = (1, 1)^T.\\end{align}\n\n\nThis function has a nonlinear least squares structure. \n\n*References*\n\n* Rosenbrock, H.H. (1960). \"An automatic method for finding the greatest or least value of a function\". The Computer Journal. 3 (3): 175\u2013184.\n\n"
      ]
    },
    {
      "cell_type": "markdown",
      "metadata": {},
      "source": [
        "## Definition of the function\n\n"
      ]
    },
    {
      "cell_type": "code",
      "execution_count": null,
      "metadata": {
        "collapsed": false
      },
      "outputs": [],
      "source": [
        "import openturns as ot\nimport openturns.viewer as viewer\nfrom matplotlib import pylab as plt\not.Log.Show(ot.Log.NONE)"
      ]
    },
    {
      "cell_type": "code",
      "execution_count": null,
      "metadata": {
        "collapsed": false
      },
      "outputs": [],
      "source": [
        "rosenbrock = ot.SymbolicFunction(['x1', 'x2'], \n                                 ['(1-x1)^2+100*(x2-x1^2)^2'])"
      ]
    },
    {
      "cell_type": "code",
      "execution_count": null,
      "metadata": {
        "collapsed": false
      },
      "outputs": [],
      "source": [
        "x0 = [-1.0, 1.0]"
      ]
    },
    {
      "cell_type": "code",
      "execution_count": null,
      "metadata": {
        "collapsed": false
      },
      "outputs": [],
      "source": [
        "xexact = ot.Point([1.0, 1.0])"
      ]
    },
    {
      "cell_type": "code",
      "execution_count": null,
      "metadata": {
        "collapsed": false
      },
      "outputs": [],
      "source": [
        "lowerbound = [-2.0, -2.0]\nupperbound = [2.0, 2.0]"
      ]
    },
    {
      "cell_type": "markdown",
      "metadata": {},
      "source": [
        "## Plot the iso-values of the objective function\n\n"
      ]
    },
    {
      "cell_type": "code",
      "execution_count": null,
      "metadata": {
        "collapsed": false
      },
      "outputs": [],
      "source": [
        "rosenbrock = ot.MemoizeFunction(rosenbrock)"
      ]
    },
    {
      "cell_type": "code",
      "execution_count": null,
      "metadata": {
        "collapsed": false
      },
      "outputs": [],
      "source": [
        "graph = rosenbrock.draw(lowerbound, upperbound, [100]*2)\ngraph.setTitle(\"Rosenbrock function\")\nview = viewer.View(graph)"
      ]
    },
    {
      "cell_type": "markdown",
      "metadata": {},
      "source": [
        "We see that the minimum is on the top right of the picture and the starting point is on the top left of the picture. Since the function has a long valley following the curve $x_2 - x^2=0$, the algorithm generally have to follow the bottom of the valley. \n\n"
      ]
    },
    {
      "cell_type": "markdown",
      "metadata": {},
      "source": [
        "## Create and solve the optimization problem\n\n"
      ]
    },
    {
      "cell_type": "code",
      "execution_count": null,
      "metadata": {
        "collapsed": false
      },
      "outputs": [],
      "source": [
        "problem = ot.OptimizationProblem(rosenbrock)"
      ]
    },
    {
      "cell_type": "code",
      "execution_count": null,
      "metadata": {
        "collapsed": false
      },
      "outputs": [],
      "source": [
        "algo = ot.Cobyla(problem)\nalgo.setMaximumRelativeError(1.e-1) # on x\nalgo.setMaximumEvaluationNumber(50000)\nalgo.setStartingPoint(x0)\nalgo.run()"
      ]
    },
    {
      "cell_type": "code",
      "execution_count": null,
      "metadata": {
        "collapsed": false
      },
      "outputs": [],
      "source": [
        "result = algo.getResult()"
      ]
    },
    {
      "cell_type": "code",
      "execution_count": null,
      "metadata": {
        "collapsed": false
      },
      "outputs": [],
      "source": [
        "xoptim = result.getOptimalPoint()\nxoptim"
      ]
    },
    {
      "cell_type": "code",
      "execution_count": null,
      "metadata": {
        "collapsed": false
      },
      "outputs": [],
      "source": [
        "delta = xexact - xoptim\nabsoluteError = delta.norm()\nabsoluteError"
      ]
    },
    {
      "cell_type": "markdown",
      "metadata": {},
      "source": [
        "We see that the algorithm found an accurate approximation of the solution. \n\n"
      ]
    },
    {
      "cell_type": "code",
      "execution_count": null,
      "metadata": {
        "collapsed": false
      },
      "outputs": [],
      "source": [
        "result.getOptimalValue() # f(x*)"
      ]
    },
    {
      "cell_type": "code",
      "execution_count": null,
      "metadata": {
        "collapsed": false
      },
      "outputs": [],
      "source": [
        "result.getEvaluationNumber()"
      ]
    },
    {
      "cell_type": "code",
      "execution_count": null,
      "metadata": {
        "collapsed": false
      },
      "outputs": [],
      "source": [
        "graph = rosenbrock.draw(lowerbound, upperbound, [100]*2)\ncloud = ot.Cloud(ot.Sample([x0, xoptim]))\ncloud.setColor(\"black\")\ncloud.setPointStyle(\"bullet\")\ngraph.add(cloud)\ngraph.setTitle(\"Rosenbrock function\")\nview = viewer.View(graph)"
      ]
    },
    {
      "cell_type": "markdown",
      "metadata": {},
      "source": [
        "We see that the algorithm had to start from the top left of the banana and go to the top right.\n\n"
      ]
    },
    {
      "cell_type": "code",
      "execution_count": null,
      "metadata": {
        "collapsed": false
      },
      "outputs": [],
      "source": [
        "graph = result.drawOptimalValueHistory()\nview = viewer.View(graph)"
      ]
    },
    {
      "cell_type": "markdown",
      "metadata": {},
      "source": [
        "The function value history make the path of the algorithm clear. In the first step, the algorithm went in the valley, which made the function value decrease rapidly. Once there, the algorithm had to follow the bottom of the valley so that the function decreased but slowly. In the final steps, the algorithm found the neighbourhood of the minimum so that the local convergence could take place. \n\n"
      ]
    },
    {
      "cell_type": "markdown",
      "metadata": {},
      "source": [
        "In order to see where the function was evaluated, we use the `getInputSample` method. \n\n"
      ]
    },
    {
      "cell_type": "code",
      "execution_count": null,
      "metadata": {
        "collapsed": false
      },
      "outputs": [],
      "source": [
        "inputSample = result.getInputSample()"
      ]
    },
    {
      "cell_type": "code",
      "execution_count": null,
      "metadata": {
        "collapsed": false
      },
      "outputs": [],
      "source": [
        "graph = rosenbrock.draw(lowerbound, upperbound, [100]*2)\ngraph.setTitle(\"Rosenbrock function solved with Cobyla\")\ncloud = ot.Cloud(inputSample)\ngraph.add(cloud)\nview = viewer.View(graph)"
      ]
    },
    {
      "cell_type": "markdown",
      "metadata": {},
      "source": [
        "We see that the algorithm made lots of evaluations in the bottom of the valley before getting in the neighbourhood of the minimum. \n\n"
      ]
    },
    {
      "cell_type": "markdown",
      "metadata": {},
      "source": [
        "## Solving the problem with NLopt\n\nWe see that the `Cobyla` algorithm required lots of function evaluations. This is why we now use the `NLopt` class with the LBFGS algorithm. However, the algorithm may use input points which are far away from the input domain we used so far. This is why we had bounds to the problem, so that the algorithm never goes to far away from the valley. \n\n"
      ]
    },
    {
      "cell_type": "code",
      "execution_count": null,
      "metadata": {
        "collapsed": false
      },
      "outputs": [],
      "source": [
        "bounds = ot.Interval(lowerbound, upperbound)"
      ]
    },
    {
      "cell_type": "code",
      "execution_count": null,
      "metadata": {
        "collapsed": false
      },
      "outputs": [],
      "source": [
        "problem = ot.OptimizationProblem(rosenbrock)\nproblem.setBounds(bounds)"
      ]
    },
    {
      "cell_type": "code",
      "execution_count": null,
      "metadata": {
        "collapsed": false
      },
      "outputs": [],
      "source": [
        "algo = ot.NLopt(problem, 'LD_LBFGS') \nalgo.setStartingPoint(x0)\nalgo.run()"
      ]
    },
    {
      "cell_type": "code",
      "execution_count": null,
      "metadata": {
        "collapsed": false
      },
      "outputs": [],
      "source": [
        "result = algo.getResult()"
      ]
    },
    {
      "cell_type": "code",
      "execution_count": null,
      "metadata": {
        "collapsed": false
      },
      "outputs": [],
      "source": [
        "xoptim = result.getOptimalPoint()\nxoptim"
      ]
    },
    {
      "cell_type": "code",
      "execution_count": null,
      "metadata": {
        "collapsed": false
      },
      "outputs": [],
      "source": [
        "delta = xexact - xoptim\nabsoluteError = delta.norm()\nabsoluteError"
      ]
    },
    {
      "cell_type": "markdown",
      "metadata": {},
      "source": [
        "We see that the algorithm found an extremely accurate approximation of the solution. \n\n"
      ]
    },
    {
      "cell_type": "code",
      "execution_count": null,
      "metadata": {
        "collapsed": false
      },
      "outputs": [],
      "source": [
        "result.getOptimalValue() # f(x*)"
      ]
    },
    {
      "cell_type": "code",
      "execution_count": null,
      "metadata": {
        "collapsed": false
      },
      "outputs": [],
      "source": [
        "result.getEvaluationNumber()"
      ]
    },
    {
      "cell_type": "markdown",
      "metadata": {},
      "source": [
        "This number of iterations is much less than the previous experiment. \n\n"
      ]
    },
    {
      "cell_type": "code",
      "execution_count": null,
      "metadata": {
        "collapsed": false
      },
      "outputs": [],
      "source": [
        "inputSample = result.getInputSample()"
      ]
    },
    {
      "cell_type": "code",
      "execution_count": null,
      "metadata": {
        "collapsed": false
      },
      "outputs": [],
      "source": [
        "graph = rosenbrock.draw(lowerbound, upperbound, [100]*2)\ngraph.setTitle(\"Rosenbrock function solved with NLopt/LD_LBFGS\")\ncloud = ot.Cloud(inputSample)\ngraph.add(cloud)\nview = viewer.View(graph)\n\nplt.show()"
      ]
    }
  ],
  "metadata": {
    "kernelspec": {
      "display_name": "Python 3",
      "language": "python",
      "name": "python3"
    },
    "language_info": {
      "codemirror_mode": {
        "name": "ipython",
        "version": 3
      },
      "file_extension": ".py",
      "mimetype": "text/x-python",
      "name": "python",
      "nbconvert_exporter": "python",
      "pygments_lexer": "ipython3",
      "version": "3.9.5"
    }
  },
  "nbformat": 4,
  "nbformat_minor": 0
}