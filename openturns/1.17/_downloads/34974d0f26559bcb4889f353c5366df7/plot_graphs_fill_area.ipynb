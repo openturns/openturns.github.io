{
  "cells": [
    {
      "cell_type": "code",
      "execution_count": null,
      "metadata": {
        "collapsed": false
      },
      "outputs": [],
      "source": [
        "%matplotlib inline"
      ]
    },
    {
      "cell_type": "markdown",
      "metadata": {},
      "source": [
        "\n# How to fill an area\n"
      ]
    },
    {
      "cell_type": "code",
      "execution_count": null,
      "metadata": {
        "collapsed": false
      },
      "outputs": [],
      "source": [
        "# sphinx_gallery_thumbnail_number = 2"
      ]
    },
    {
      "cell_type": "markdown",
      "metadata": {},
      "source": [
        "In this example, we show how to fill specified area with a given color.\n\n"
      ]
    },
    {
      "cell_type": "code",
      "execution_count": null,
      "metadata": {
        "collapsed": false
      },
      "outputs": [],
      "source": [
        "import openturns as ot\nimport openturns.viewer as viewer\nfrom matplotlib import pylab as plt\not.Log.Show(ot.Log.NONE)"
      ]
    },
    {
      "cell_type": "markdown",
      "metadata": {},
      "source": [
        "We generate a sample from a standard gaussian distribution.\n\n"
      ]
    },
    {
      "cell_type": "code",
      "execution_count": null,
      "metadata": {
        "collapsed": false
      },
      "outputs": [],
      "source": [
        "dist = ot.Normal()\ngraph = dist.drawPDF()\nview = viewer.View(graph)"
      ]
    },
    {
      "cell_type": "code",
      "execution_count": null,
      "metadata": {
        "collapsed": false
      },
      "outputs": [],
      "source": [
        "def linearSample(xmin,xmax,npoints):\n    '''Returns a sample created from a regular grid \n    from xmin to xmax with npoints points.'''\n    step = (xmax-xmin)/(npoints-1)\n    rg = ot.RegularGrid(xmin, step, npoints)\n    vertices = rg.getVertices()\n    return vertices"
      ]
    },
    {
      "cell_type": "code",
      "execution_count": null,
      "metadata": {
        "collapsed": false
      },
      "outputs": [],
      "source": [
        "a = 1.\nb = 2."
      ]
    },
    {
      "cell_type": "code",
      "execution_count": null,
      "metadata": {
        "collapsed": false
      },
      "outputs": [],
      "source": [
        "nplot = 100 # Number of points in the plot\nx = linearSample(a,b,nplot)\ny = dist.computePDF(x)"
      ]
    },
    {
      "cell_type": "markdown",
      "metadata": {},
      "source": [
        "The following function uses the `PolygonArray` class to create a area filled with a given color.\n\n"
      ]
    },
    {
      "cell_type": "code",
      "execution_count": null,
      "metadata": {
        "collapsed": false
      },
      "outputs": [],
      "source": [
        "def drawInTheBounds(vLow,vUp,n_test):\n    '''\n    Draw the area within the bounds.\n    '''\n    palette = ot.Drawable.BuildDefaultPalette(2)\n    myPaletteColor = palette[1]\n    polyData = [[vLow[i], vLow[i+1], vUp[i+1], vUp[i]] for i in range(n_test-1)]\n    polygonList = [ot.Polygon(polyData[i], myPaletteColor, myPaletteColor) for i in range(n_test-1)]\n    boundsPoly = ot.PolygonArray(polygonList)\n    return boundsPoly"
      ]
    },
    {
      "cell_type": "markdown",
      "metadata": {},
      "source": [
        "Compute the bounds to fill: the lower vertical bound is zero and the upper vertical bound is the PDF.\n\n"
      ]
    },
    {
      "cell_type": "code",
      "execution_count": null,
      "metadata": {
        "collapsed": false
      },
      "outputs": [],
      "source": [
        "vLow = [[x[i,0],0.] for i in range(nplot)] \nvUp = [[x[i,0],y[i,0]] for i in range(nplot)]"
      ]
    },
    {
      "cell_type": "code",
      "execution_count": null,
      "metadata": {
        "collapsed": false
      },
      "outputs": [],
      "source": [
        "area = dist.computeCDF(b) - dist.computeCDF(a)"
      ]
    },
    {
      "cell_type": "code",
      "execution_count": null,
      "metadata": {
        "collapsed": false
      },
      "outputs": [],
      "source": [
        "boundsPoly = drawInTheBounds(vLow,vUp,nplot)\ngraph = dist.drawPDF()\ngraph.add(boundsPoly)\ngraph.setTitle(\"Area = %.3f\" % (area))\ngraph.setLegends([\"\"])\nview = viewer.View(graph)\nplt.show()"
      ]
    },
    {
      "cell_type": "markdown",
      "metadata": {},
      "source": [
        "The CDF difference is equal to the area under the curve.\n\n"
      ]
    }
  ],
  "metadata": {
    "kernelspec": {
      "display_name": "Python 3",
      "language": "python",
      "name": "python3"
    },
    "language_info": {
      "codemirror_mode": {
        "name": "ipython",
        "version": 3
      },
      "file_extension": ".py",
      "mimetype": "text/x-python",
      "name": "python",
      "nbconvert_exporter": "python",
      "pygments_lexer": "ipython3",
      "version": "3.9.5"
    }
  },
  "nbformat": 4,
  "nbformat_minor": 0
}