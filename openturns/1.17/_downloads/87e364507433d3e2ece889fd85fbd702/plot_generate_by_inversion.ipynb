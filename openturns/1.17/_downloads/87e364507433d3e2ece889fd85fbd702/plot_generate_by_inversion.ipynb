{
  "cells": [
    {
      "cell_type": "code",
      "execution_count": null,
      "metadata": {
        "collapsed": false
      },
      "outputs": [],
      "source": [
        "%matplotlib inline"
      ]
    },
    {
      "cell_type": "markdown",
      "metadata": {},
      "source": [
        "\n# Generate random variates by inverting the CDF\n"
      ]
    },
    {
      "cell_type": "markdown",
      "metadata": {},
      "source": [
        "## Abstract\n\nIn this example, we show how to generate random variates by inversion of the cumulated distribution function. In simple situations, this method is rarely used in practice because of problems with performance, statistical quality of the generated random variates and numerical accuracy of the generated numbers when we use floating point numbers. However, it is an interesting method to know about because it is a building block for other algorithms and can be used to visualize the distribution of the generated numbers.\n\n"
      ]
    },
    {
      "cell_type": "markdown",
      "metadata": {},
      "source": [
        "## The WeibullMin distribution\n\nLet $\\beta>0$ and $\\alpha>0$ be two real parameters: $\\alpha$ is a shape parameter and  $\\beta$ is a scale parameter.\n\nThe cumulated distribution function of the WeibullMin distribution (also referred as `Weibull distribution`) is:\n\n\\begin{align}F(x) = 1 - \\exp\\left(-\\frac{x-\\gamma}{\\beta}\\right)^\\alpha,\\end{align}\n\n\nfor any $x\\geq \\gamma$. For the sake of simplicity, we set $\\gamma=0$\n\nIn some situations, this parameters are denoted by $k=\\beta$ and $\\lambda=\\alpha$.\n\nThe inverse of the CDF is:\n\n\\begin{align}F^{-1}(x) = \\beta \\left(-\\log(1-p)\\right)^{\\frac{1}{\\alpha}}\\end{align}\n\n\nfor any $x\\geq 0$.\n\nThis is the *quantile* function, because it computes the quantile $F^{-1}(x)$ depending on an outcome $x$.\n\n"
      ]
    },
    {
      "cell_type": "markdown",
      "metadata": {},
      "source": [
        "## Loss of accuracy when the probability is close to 1\n\nIn practice, if the probability $p$ is *very* close to 1, then the complementary probability $1-p$ is close to zero. This can lead to a significant loss of accuracy when we evaluate the subtraction $1-p$ with floating point numbers because $p$ and 1 have lots of common digits. This is called a *loss of accuracy by catastrophic cancellation*, a problem which is common in extreme events. \n\nWe can use the $\\textrm{expm1}$ function, defined by the equation:\n\n\\begin{align}\\textrm{expm1}(x) = \\exp(x)-1,\\end{align}\n\n\nfor any $x\\in\\mathbb{R}$. This is *not* numerically equivalent to computing `exp` and then subtracting 1. Indeed, the `expm1` function is more accurate when its argument `x` is close to zero. \n\nThe CDF is then:\n\n\\begin{align}F(x) = -\\textrm{expm1} \\left(\\left(-\\frac{x}{\\beta}\\right)^\\alpha\\right),\\end{align}\n\n\nfor any $x\\geq 0$.\n\nFor the quantile function, we can use the $\\textrm{log1p}$ function, defined by the equation:\n\n\\begin{align}\\textrm{log1p}(x) = \\log(1+x)\\end{align}\n\n\nfor any $x>-1$.\n\nTherefore, the quantile function is:\n\n\\begin{align}x = \\beta \\left(-\\textrm{log1p}(-p)\\right)^{\\frac{1}{\\alpha}}\\end{align}\n\n\nfor $x\\geq 0$.\n\nNote that for $\\gamma > 0$, the quantile function writes:\n\n\\begin{align}x = \\gamma + \\beta \\left(-\\textrm{log1p}(-p)\\right)^{\\frac{1}{\\alpha}}\\end{align}\n\n\nwith $x\\geq \\gamma$.\n\n\nIn the following, we will not use these robust equations and this issue will not be taken into account.\n\n"
      ]
    },
    {
      "cell_type": "markdown",
      "metadata": {},
      "source": [
        "## Generate by inversion: histogram and density\n\n"
      ]
    },
    {
      "cell_type": "code",
      "execution_count": null,
      "metadata": {
        "collapsed": false
      },
      "outputs": [],
      "source": [
        "import openturns as ot\nimport openturns.viewer as viewer\nfrom matplotlib import pylab as plt\nimport numpy as np\not.Log.Show(ot.Log.NONE)"
      ]
    },
    {
      "cell_type": "markdown",
      "metadata": {},
      "source": [
        "The following function defines the quantile function of the `WeibullMin` distribution. (Of course, we could use the `computeQuantile` method of the `WeibullMin` class as well. This would create a simpler, but less interesting example: this is a trade off that we accept in order to better understand the algorithm.)\n\n"
      ]
    },
    {
      "cell_type": "code",
      "execution_count": null,
      "metadata": {
        "collapsed": false
      },
      "outputs": [],
      "source": [
        "def weibullQ(argument):\n    \"\"\"\n    WeibullMin quantile function\n    \"\"\"\n    p, alpha, beta = argument\n    quantile = beta*(-np.log1p(-p))**(1/alpha)\n    return [quantile]"
      ]
    },
    {
      "cell_type": "code",
      "execution_count": null,
      "metadata": {
        "collapsed": false
      },
      "outputs": [],
      "source": [
        "quantileFunction = ot.PythonFunction(3, 1, weibullQ)"
      ]
    },
    {
      "cell_type": "markdown",
      "metadata": {},
      "source": [
        "We define the parameters of the Weibull distribution and create the parametric function.\n\n"
      ]
    },
    {
      "cell_type": "code",
      "execution_count": null,
      "metadata": {
        "collapsed": false
      },
      "outputs": [],
      "source": [
        "alpha = 10.0\nbeta = 1.0"
      ]
    },
    {
      "cell_type": "code",
      "execution_count": null,
      "metadata": {
        "collapsed": false
      },
      "outputs": [],
      "source": [
        "quantile = ot.ParametricFunction(quantileFunction,[1,2], [alpha,beta])\nquantile"
      ]
    },
    {
      "cell_type": "markdown",
      "metadata": {},
      "source": [
        "In the library, the uniform distribution is by default over the $[-1,1]$ interval. To obtain a uniform distribution over $[0,1]$, we need to set the bounds explicitly.\n\n"
      ]
    },
    {
      "cell_type": "code",
      "execution_count": null,
      "metadata": {
        "collapsed": false
      },
      "outputs": [],
      "source": [
        "U = ot.Uniform(0.,1.)"
      ]
    },
    {
      "cell_type": "markdown",
      "metadata": {},
      "source": [
        "Then we generate a sample of size 1000 from the uniform distribution.\n\n"
      ]
    },
    {
      "cell_type": "code",
      "execution_count": null,
      "metadata": {
        "collapsed": false
      },
      "outputs": [],
      "source": [
        "n = 1000\nuniformSample = U.getSample(n)"
      ]
    },
    {
      "cell_type": "markdown",
      "metadata": {},
      "source": [
        "To generate the numbers, we evaluate the quantile function on the uniform numbers.\n\n"
      ]
    },
    {
      "cell_type": "code",
      "execution_count": null,
      "metadata": {
        "collapsed": false
      },
      "outputs": [],
      "source": [
        "weibullSample = quantile(uniformSample)"
      ]
    },
    {
      "cell_type": "markdown",
      "metadata": {},
      "source": [
        "In order to compare the results, we use the `WeibullMin` class (using the default value of the location parameter $\\gamma=0$).\n\n"
      ]
    },
    {
      "cell_type": "code",
      "execution_count": null,
      "metadata": {
        "collapsed": false
      },
      "outputs": [],
      "source": [
        "W = ot.WeibullMin(beta,alpha)"
      ]
    },
    {
      "cell_type": "code",
      "execution_count": null,
      "metadata": {
        "collapsed": false
      },
      "outputs": [],
      "source": [
        "histo = ot.HistogramFactory().build(weibullSample).drawPDF()\nhisto.setTitle(\"Weibull alpha=%s, beta=%s, n=%d\" % (alpha,beta,n))\nhisto.setLegends([\"Sample\"])\nwpdf = W.drawPDF()\nwpdf.setColors([\"blue\"])\nwpdf.setLegends([\"Weibull\"])\nhisto.add(wpdf)\nview = viewer.View(histo)"
      ]
    },
    {
      "cell_type": "markdown",
      "metadata": {},
      "source": [
        "We see that the empirical histogram of the generated outcomes is close to the exact density of the Weibull distribution.\n\n"
      ]
    },
    {
      "cell_type": "markdown",
      "metadata": {},
      "source": [
        "## Visualization of the quantiles\n\n"
      ]
    },
    {
      "cell_type": "markdown",
      "metadata": {},
      "source": [
        "We now want to understand the details of the algorithm. To do this, we need to compare the distribution of the uniform numbers with the distribution of the generated points.\n\n"
      ]
    },
    {
      "cell_type": "code",
      "execution_count": null,
      "metadata": {
        "collapsed": false
      },
      "outputs": [],
      "source": [
        "n = 50\nuniformSample = U.getSample(n)"
      ]
    },
    {
      "cell_type": "code",
      "execution_count": null,
      "metadata": {
        "collapsed": false
      },
      "outputs": [],
      "source": [
        "weibullSample = quantile(uniformSample)"
      ]
    },
    {
      "cell_type": "markdown",
      "metadata": {},
      "source": [
        "We sort the sample by increasing order. \n\n"
      ]
    },
    {
      "cell_type": "code",
      "execution_count": null,
      "metadata": {
        "collapsed": false
      },
      "outputs": [],
      "source": [
        "data = ot.Sample(n,2)\ndata[:,0] = weibullSample\ndata[:,1] = uniformSample\ndata.setDescription([\"x\",\"p\"])"
      ]
    },
    {
      "cell_type": "code",
      "execution_count": null,
      "metadata": {
        "collapsed": false
      },
      "outputs": [],
      "source": [
        "sample = ot.Sample(data.sort())\nsample[0:5,:]"
      ]
    },
    {
      "cell_type": "code",
      "execution_count": null,
      "metadata": {
        "collapsed": false
      },
      "outputs": [],
      "source": [
        "weibullSample = sample[:,0]\nuniformSample = sample[:,1]"
      ]
    },
    {
      "cell_type": "code",
      "execution_count": null,
      "metadata": {
        "collapsed": false
      },
      "outputs": [],
      "source": [
        "graph = ot.Graph(\"Weibull alpha=%s, beta=%s, n=%s\" % (alpha,beta,n),\"x\",\"U\",True)\n# Add the CDF plot\ncurve = W.drawCDF()\ncurve.setColors([\"blue\"])\ngraph.add(curve)\n# Plot dashed horizontal & vertical lines\nfor i in range(n):\n    curve = ot.Curve([0.,weibullSample[i,0], weibullSample[i,0]],[uniformSample[i,0],uniformSample[i,0], 0.])\n    curve.setColor(\"red\")\n    curve.setLineStyle(\"dashed\")\n    graph.add(curve)\nview = viewer.View(graph)\nplt.show()"
      ]
    },
    {
      "cell_type": "markdown",
      "metadata": {},
      "source": [
        "This graphics must be read from the U axis on the left to the blue curve (representing the CDF), and down to the X axis. We see that the horizontal lines on the U axis follow the uniform distribution. On the other hand, the vertical lines (on the X axis) follow the Weibull distribution.\n\n"
      ]
    }
  ],
  "metadata": {
    "kernelspec": {
      "display_name": "Python 3",
      "language": "python",
      "name": "python3"
    },
    "language_info": {
      "codemirror_mode": {
        "name": "ipython",
        "version": 3
      },
      "file_extension": ".py",
      "mimetype": "text/x-python",
      "name": "python",
      "nbconvert_exporter": "python",
      "pygments_lexer": "ipython3",
      "version": "3.9.3"
    }
  },
  "nbformat": 4,
  "nbformat_minor": 0
}