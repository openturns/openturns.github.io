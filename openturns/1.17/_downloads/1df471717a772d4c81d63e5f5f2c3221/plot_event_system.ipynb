{
  "cells": [
    {
      "cell_type": "code",
      "execution_count": null,
      "metadata": {
        "collapsed": false
      },
      "outputs": [],
      "source": [
        "%matplotlib inline"
      ]
    },
    {
      "cell_type": "markdown",
      "metadata": {},
      "source": [
        "\n# Create unions or intersections of events\n"
      ]
    },
    {
      "cell_type": "markdown",
      "metadata": {},
      "source": [
        "## Abstract\n\nThis example illustrates system events, which are defined as unions or intersections of other events. We will show how to estimate their probability both with Monte-Carlo sampling (using the class :class:`~openturns.ProbabilitySimulationAlgorithm`) and with a first order approximation (using the class :class:`~openturns.SystemFORM`).\n\n\n"
      ]
    },
    {
      "cell_type": "code",
      "execution_count": null,
      "metadata": {
        "collapsed": false
      },
      "outputs": [],
      "source": [
        "from __future__ import print_function\nimport openturns as ot\nimport openturns.viewer as otv\nfrom matplotlib import pylab as plt\not.Log.Show(ot.Log.NONE)"
      ]
    },
    {
      "cell_type": "markdown",
      "metadata": {},
      "source": [
        "**Intersection**\n\nThe event defined as the intersection of several events is realized when all sub-events occurs:\n\n\\begin{align}E_{sys} = \\bigcap_{i=1}^N E_i\\end{align}\n\n**Union**\n\nThe event defined as the union of several events is realized when at least one sub-event occurs:\n\n\\begin{align}E_{sys} = \\bigcup_{i=1}^N E_i\\end{align}\n\n\n"
      ]
    },
    {
      "cell_type": "markdown",
      "metadata": {},
      "source": [
        "We consider a bivariate standard Gaussian random vector `X = (X_1, X_2)`.\n\n"
      ]
    },
    {
      "cell_type": "code",
      "execution_count": null,
      "metadata": {
        "collapsed": false
      },
      "outputs": [],
      "source": [
        "dim = 2\ndistribution = ot.Normal(dim)\nX = ot.RandomVector(distribution)"
      ]
    },
    {
      "cell_type": "markdown",
      "metadata": {},
      "source": [
        "We want to estimate the probability given by\n\n\\begin{align}P  = \\mathbb{E}[\\mathbf{1}_{\\mathrm{Event}}(X_1, X_2)].\\end{align}\n\nWe now build several events using intersections and unions.\n\n\n"
      ]
    },
    {
      "cell_type": "markdown",
      "metadata": {},
      "source": [
        "We consider three functions `f1`, `f2` and `f3` :\n\n"
      ]
    },
    {
      "cell_type": "code",
      "execution_count": null,
      "metadata": {
        "collapsed": false
      },
      "outputs": [],
      "source": [
        "f1 = ot.SymbolicFunction(['x0', 'x1'], ['x0'])\nf2 = ot.SymbolicFunction(['x0', 'x1'], ['x1'])\nf3 = ot.SymbolicFunction(['x0', 'x1'], ['x0+x1'])"
      ]
    },
    {
      "cell_type": "markdown",
      "metadata": {},
      "source": [
        "We build :class:`~openturns.CompositeRandomVector` from these functions and the initial distribution.\n\n"
      ]
    },
    {
      "cell_type": "code",
      "execution_count": null,
      "metadata": {
        "collapsed": false
      },
      "outputs": [],
      "source": [
        "Y1 = ot.CompositeRandomVector(f1, X)\nY2 = ot.CompositeRandomVector(f2, X)\nY3 = ot.CompositeRandomVector(f3, X)"
      ]
    },
    {
      "cell_type": "markdown",
      "metadata": {},
      "source": [
        "We define three basic events $E_1=\\{(x_0,x_1)~:~x_0 < 0 \\}$, $E_2=\\{(x_0,x_1)~:~x_1 > 0 \\}$ and $E_3=\\{(x_0,x_1)~:~x_0+x_1>0 \\}$.\n\n"
      ]
    },
    {
      "cell_type": "code",
      "execution_count": null,
      "metadata": {
        "collapsed": false
      },
      "outputs": [],
      "source": [
        "e1 = ot.ThresholdEvent(Y1, ot.Less(), 0.0)\ne2 = ot.ThresholdEvent(Y2, ot.Greater(), 0.0)\ne3 = ot.ThresholdEvent(Y3, ot.Greater(), 0.0)"
      ]
    },
    {
      "cell_type": "markdown",
      "metadata": {},
      "source": [
        "The restriction of the domain $E_1$ to $[-4,4] \\times [-4, 4]$ is the grey area.\n\n"
      ]
    },
    {
      "cell_type": "code",
      "execution_count": null,
      "metadata": {
        "collapsed": false
      },
      "outputs": [],
      "source": [
        "myGraph = ot.Graph(r'Representation of the event $E_1$', r'$x_1$', r'$x_2$', True, '')\ndata = [[-4,-4], [0,-4], [0,4], [-4,4]]\nmyPolygon = ot.Polygon(data)\nmyPolygon.setColor('grey')\nmyPolygon.setEdgeColor('black')\nmyGraph.add(myPolygon)\nview = otv.View(myGraph)\naxes = view.getAxes()\n_ = axes[0].set_xlim(-4.0, 4.0)\n_ = axes[0].set_ylim(-4.0, 4.0)"
      ]
    },
    {
      "cell_type": "markdown",
      "metadata": {},
      "source": [
        "The restriction of the domain $E_2$ to $[-4,4] \\times [-4, 4]$ is the grey area.\n\n"
      ]
    },
    {
      "cell_type": "code",
      "execution_count": null,
      "metadata": {
        "collapsed": false
      },
      "outputs": [],
      "source": [
        "myGraph = ot.Graph(r'Representation of the event $E_2$', r'$x_1$', r'$x_2$', True, '')\ndata = [[-4,0], [4,0], [4,4], [-4,4]]\nmyPolygon = ot.Polygon(data)\nmyPolygon.setColor('grey')\nmyPolygon.setEdgeColor('black')\nmyGraph.add(myPolygon)\nview = otv.View(myGraph)\naxes = view.getAxes()\n_ = axes[0].set_xlim(-4.0, 4.0)\n_ = axes[0].set_ylim(-4.0, 4.0)"
      ]
    },
    {
      "cell_type": "markdown",
      "metadata": {},
      "source": [
        "The restriction of the domain $E_3$ to $[-4,4] \\times [-4, 4]$ is the grey area.\n\n"
      ]
    },
    {
      "cell_type": "code",
      "execution_count": null,
      "metadata": {
        "collapsed": false
      },
      "outputs": [],
      "source": [
        "myGraph = ot.Graph(r'Representation of the event $E_3$', r'$x_1$', r'$x_2$', True, '')\ndata = [[-4,4], [4,-4], [4,4]]\nmyPolygon = ot.Polygon(data)\nmyPolygon.setColor('grey')\nmyPolygon.setEdgeColor('black')\nmyGraph.add(myPolygon)\nview = otv.View(myGraph)\naxes = view.getAxes()\n_ = axes[0].set_xlim(-4.0, 4.0)\n_ = axes[0].set_ylim(-4.0, 4.0)"
      ]
    },
    {
      "cell_type": "markdown",
      "metadata": {},
      "source": [
        "We can define the intersection $E_4 = E_1 \\bigcap E_2$: that is the upper left quadrant.\n\n"
      ]
    },
    {
      "cell_type": "code",
      "execution_count": null,
      "metadata": {
        "collapsed": false
      },
      "outputs": [],
      "source": [
        "e4 = ot.IntersectionEvent([e1, e2])"
      ]
    },
    {
      "cell_type": "markdown",
      "metadata": {},
      "source": [
        "The restriction of the domain $E_4$ to $[-4,4] \\times [-4, 4]$ is the grey area.\n\n"
      ]
    },
    {
      "cell_type": "code",
      "execution_count": null,
      "metadata": {
        "collapsed": false
      },
      "outputs": [],
      "source": [
        "myGraph = ot.Graph(r'Representation of the event $E_4  = E_1 \\bigcap E_2$', r'$x_1$', r'$x_2$', True, '')\ndata = [[-4,0], [0,0], [0,4], [-4,4]]\nmyPolygon = ot.Polygon(data)\nmyPolygon.setColor('grey')\nmyPolygon.setEdgeColor('black')\nmyGraph.add(myPolygon)\nview = otv.View(myGraph)\naxes = view.getAxes()\n_ = axes[0].set_xlim(-4.0, 4.0)\n_ = axes[0].set_ylim(-4.0, 4.0)"
      ]
    },
    {
      "cell_type": "markdown",
      "metadata": {},
      "source": [
        "The probability of that event is $P_{E_4} = 1/4$. A basic estimator is:\n\n"
      ]
    },
    {
      "cell_type": "code",
      "execution_count": null,
      "metadata": {
        "collapsed": false
      },
      "outputs": [],
      "source": [
        "print(\"Probability of e4 : %.4f\"%e4.getSample(10000).computeMean()[0] )"
      ]
    },
    {
      "cell_type": "markdown",
      "metadata": {},
      "source": [
        "We define the union $E_5 = E1 \\bigcup E_2$. It is the whole plan without the lower right quadrant.\n\n"
      ]
    },
    {
      "cell_type": "code",
      "execution_count": null,
      "metadata": {
        "collapsed": false
      },
      "outputs": [],
      "source": [
        "e5 = ot.UnionEvent([e1, e2])"
      ]
    },
    {
      "cell_type": "markdown",
      "metadata": {},
      "source": [
        "The restriction of the domain $E_5$ to $[-4,4] \\times [-4, 4]$ is the grey area.\n\n"
      ]
    },
    {
      "cell_type": "code",
      "execution_count": null,
      "metadata": {
        "collapsed": false
      },
      "outputs": [],
      "source": [
        "myGraph = ot.Graph(r'Representation of the event $E_5  = E_1 \\bigcup E_2$', r'$x_1$', r'$x_2$', True, '')\ndata = [[-4,-4], [0,-4], [0,0], [4,0], [4,4], [-4,4]]\nmyPolygon = ot.Polygon(data)\nmyPolygon.setColor('grey')\nmyPolygon.setEdgeColor('black')\nmyGraph.add(myPolygon)\nview = otv.View(myGraph)\naxes = view.getAxes()\n_ = axes[0].set_xlim(-4.0, 4.0)\n_ = axes[0].set_ylim(-4.0, 4.0)"
      ]
    },
    {
      "cell_type": "markdown",
      "metadata": {},
      "source": [
        "The probability of that event is $P_{E_5} = 3/4$. A basic estimator is:\n\n"
      ]
    },
    {
      "cell_type": "code",
      "execution_count": null,
      "metadata": {
        "collapsed": false
      },
      "outputs": [],
      "source": [
        "print(\"Probability of e5 : %.4f\"%e5.getSample(10000).computeMean()[0] )"
      ]
    },
    {
      "cell_type": "markdown",
      "metadata": {},
      "source": [
        "It supports recursion. Let's define $E_6 = E_1 \\bigcup (E_2 \\bigcap E_3)$.\n\n"
      ]
    },
    {
      "cell_type": "code",
      "execution_count": null,
      "metadata": {
        "collapsed": false
      },
      "outputs": [],
      "source": [
        "e6 = ot.UnionEvent([e1, ot.IntersectionEvent([e2, e3])])"
      ]
    },
    {
      "cell_type": "markdown",
      "metadata": {},
      "source": [
        "First we draw the domain $E_6 = E_1 \\bigcup (E_2 \\bigcap E_3)$ :\n\n"
      ]
    },
    {
      "cell_type": "code",
      "execution_count": null,
      "metadata": {
        "collapsed": false
      },
      "outputs": [],
      "source": [
        "myGraph = ot.Graph(r'Representation of the event $E_2 \\bigcap E_3 $', r'$x_1$', r'$x_2$', True, '')\ndata = [[-4,4], [0,0], [4,0], [4,4]]\nmyPolygon = ot.Polygon(data)\nmyPolygon.setColor('grey')\nmyPolygon.setEdgeColor('black')\nmyGraph.add(myPolygon)\nview = otv.View(myGraph)\naxes = view.getAxes()\n_ = axes[0].set_xlim(-4.0, 4.0)\n_ = axes[0].set_ylim(-4.0, 4.0)"
      ]
    },
    {
      "cell_type": "markdown",
      "metadata": {},
      "source": [
        "From the previous figures we easily deduce that the event $E_6 = E_1 \\bigcup (E_2 \\bigcap E_3)$\nis the event $E_5$ and the probability is $P_{E_6} = 3/4$. We can use a basic estimator and get :\n\n"
      ]
    },
    {
      "cell_type": "code",
      "execution_count": null,
      "metadata": {
        "collapsed": false
      },
      "outputs": [],
      "source": [
        "print(\"Probability of e6 : %.4f\"%e6.getSample(10000).computeMean()[0] )"
      ]
    },
    {
      "cell_type": "markdown",
      "metadata": {},
      "source": [
        "## Usage with a Monte-Carlo algorithm\n\nOf course, we can use simulation algorithms with this kind of events.\n\n"
      ]
    },
    {
      "cell_type": "markdown",
      "metadata": {},
      "source": [
        "We set up a :class:`~openturns.MonteCarloExperiment` and a :class:`~openturns.ProbabilitySimulationAlgorithm` on the event $E_6$. \n\n"
      ]
    },
    {
      "cell_type": "code",
      "execution_count": null,
      "metadata": {
        "collapsed": false
      },
      "outputs": [],
      "source": [
        "experiment = ot.MonteCarloExperiment()\nalgo = ot.ProbabilitySimulationAlgorithm(e6, experiment)\nalgo.setMaximumOuterSampling(2500)\nalgo.setBlockSize(4)\nalgo.setMaximumCoefficientOfVariation(-1.0)\nalgo.run()"
      ]
    },
    {
      "cell_type": "markdown",
      "metadata": {},
      "source": [
        "We retrieve the results and display the approximate probability and a confidence interval :\n\n"
      ]
    },
    {
      "cell_type": "code",
      "execution_count": null,
      "metadata": {
        "collapsed": false
      },
      "outputs": [],
      "source": [
        "result = algo.getResult()\nprb = result.getProbabilityEstimate()\nprint(\"Probability of e6 through MC : %.4f\"%prb)\ncl  = result.getConfidenceLength()\nprint(\"Confidence interval MC : [%.4f, %.4f]\"%(prb-0.5*cl, prb+0.5*cl))"
      ]
    },
    {
      "cell_type": "markdown",
      "metadata": {},
      "source": [
        "## Usage with SystemFORM\n\nThe :class:`SystemFORM` class implements an approximation method suitable for system events.\nThe event must be in its disjunctive normal form (union of intersections, or a single intersection).\n\n"
      ]
    },
    {
      "cell_type": "markdown",
      "metadata": {},
      "source": [
        "For system events, we always have to use the same root cause (input distribution). Here we use input variables with a\nnormal distribution specified by its mean, standard deviation and correlation matrix.\n\n\n"
      ]
    },
    {
      "cell_type": "code",
      "execution_count": null,
      "metadata": {
        "collapsed": false
      },
      "outputs": [],
      "source": [
        "dim = 5\nmean = [200.0] * dim\nmean[-1] = 60\nmean[-2] = 60\nsigma = [30.0] * dim\nsigma[-1] = 15.0\nR = ot.CorrelationMatrix(dim)\nfor i in range(dim):\n    for j in range(i):\n        R[i, j] = 0.5\ndist = ot.Normal(mean, sigma, R)"
      ]
    },
    {
      "cell_type": "markdown",
      "metadata": {},
      "source": [
        "As usual we create a :class:`~openturns.RandomVector` out of the input distribution.\n\n"
      ]
    },
    {
      "cell_type": "code",
      "execution_count": null,
      "metadata": {
        "collapsed": false
      },
      "outputs": [],
      "source": [
        "X = ot.RandomVector(dist)"
      ]
    },
    {
      "cell_type": "markdown",
      "metadata": {},
      "source": [
        "We define the leaf events thanks to :class:`~openturns.SymbolicFunction`.\n\n"
      ]
    },
    {
      "cell_type": "code",
      "execution_count": null,
      "metadata": {
        "collapsed": false
      },
      "outputs": [],
      "source": [
        "inputs = ['M1', 'M2', 'M3', 'M4', 'M5']\ne0 = ot.ThresholdEvent(ot.CompositeRandomVector(ot.SymbolicFunction(inputs, ['M1-M2+M4']), X), ot.Less(), 0.0)\ne1 = ot.ThresholdEvent(ot.CompositeRandomVector(ot.SymbolicFunction(inputs, ['M2+2*M3-M4']), X), ot.Less(), 0.0)\ne2 = ot.ThresholdEvent(ot.CompositeRandomVector(ot.SymbolicFunction(inputs, ['2*M3-2*M4-M5']), X), ot.Less(), 0.0)\ne3 = ot.ThresholdEvent(ot.CompositeRandomVector(ot.SymbolicFunction(inputs, ['-(M1+M2+M4+M5-5*10.0)']), X), ot.Less(), 0.0)\ne4 = ot.ThresholdEvent(ot.CompositeRandomVector(ot.SymbolicFunction(inputs, ['-(M2+2*M3+M4-5*40.0)']), X), ot.Less(), 0.0)"
      ]
    },
    {
      "cell_type": "markdown",
      "metadata": {},
      "source": [
        "We consider a system event in disjunctive normal form (union of intersections):\n\n"
      ]
    },
    {
      "cell_type": "code",
      "execution_count": null,
      "metadata": {
        "collapsed": false
      },
      "outputs": [],
      "source": [
        "event = ot.UnionEvent([ot.IntersectionEvent([e0, e3, e4]), ot.IntersectionEvent([e2, e3, e4])])"
      ]
    },
    {
      "cell_type": "markdown",
      "metadata": {},
      "source": [
        "We can estimate the probability of the event with basic sampling.\n\n"
      ]
    },
    {
      "cell_type": "code",
      "execution_count": null,
      "metadata": {
        "collapsed": false
      },
      "outputs": [],
      "source": [
        "print(\"Probability of the event : %.4f\"%event.getSample(10000).computeMean()[0])"
      ]
    },
    {
      "cell_type": "markdown",
      "metadata": {},
      "source": [
        "We can also run a :class:`~openturns.systemFORM` algorithm to estimate the probability differently.\n\n"
      ]
    },
    {
      "cell_type": "markdown",
      "metadata": {},
      "source": [
        "We first set up a solver to find the design point.\n\n"
      ]
    },
    {
      "cell_type": "code",
      "execution_count": null,
      "metadata": {
        "collapsed": false
      },
      "outputs": [],
      "source": [
        "solver = ot.AbdoRackwitz()\nsolver.setMaximumIterationNumber(1000)\nsolver.setMaximumAbsoluteError(1.0e-3)\nsolver.setMaximumRelativeError(1.0e-3)\nsolver.setMaximumResidualError(1.0e-3)\nsolver.setMaximumConstraintError(1.0e-3)"
      ]
    },
    {
      "cell_type": "markdown",
      "metadata": {},
      "source": [
        "We build the :class:`~openturns.SystemFORM` algorithm from the solver, the event and a starting point (here the mean) and then run the algorithm.\n\n"
      ]
    },
    {
      "cell_type": "code",
      "execution_count": null,
      "metadata": {
        "collapsed": false
      },
      "outputs": [],
      "source": [
        "algo = ot.SystemFORM(solver, event, mean)\nalgo.run()"
      ]
    },
    {
      "cell_type": "markdown",
      "metadata": {},
      "source": [
        "We store the result and display the probability.\n\n"
      ]
    },
    {
      "cell_type": "code",
      "execution_count": null,
      "metadata": {
        "collapsed": false
      },
      "outputs": [],
      "source": [
        "result = algo.getResult()\nprbSystemFORM = result.getEventProbability()\nprint(\"Probability of the event (SystemFORM) : %.4f\"%prbSystemFORM)"
      ]
    },
    {
      "cell_type": "markdown",
      "metadata": {},
      "source": [
        "Display all figures\n\n"
      ]
    },
    {
      "cell_type": "code",
      "execution_count": null,
      "metadata": {
        "collapsed": false
      },
      "outputs": [],
      "source": [
        "plt.show()"
      ]
    }
  ],
  "metadata": {
    "kernelspec": {
      "display_name": "Python 3",
      "language": "python",
      "name": "python3"
    },
    "language_info": {
      "codemirror_mode": {
        "name": "ipython",
        "version": 3
      },
      "file_extension": ".py",
      "mimetype": "text/x-python",
      "name": "python",
      "nbconvert_exporter": "python",
      "pygments_lexer": "ipython3",
      "version": "3.9.3"
    }
  },
  "nbformat": 4,
  "nbformat_minor": 0
}