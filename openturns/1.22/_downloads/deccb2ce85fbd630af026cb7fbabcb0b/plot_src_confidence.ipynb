{
  "cells": [
    {
      "cell_type": "markdown",
      "metadata": {},
      "source": [
        "\n# Compute squared SRC indices confidence intervals\n"
      ]
    },
    {
      "cell_type": "markdown",
      "metadata": {},
      "source": [
        "This example shows how to compute squared SRC indices confidence bounds with bootstrap.\nFirst, we compute squared SRC indices and draw them.\nThen we compute bootstrap confidence bounds using the :class:`~openturns.BootstrapExperiment` class and draw them.\n\n"
      ]
    },
    {
      "cell_type": "markdown",
      "metadata": {},
      "source": [
        "## Define the model\n\n"
      ]
    },
    {
      "cell_type": "code",
      "execution_count": null,
      "metadata": {
        "collapsed": false
      },
      "outputs": [],
      "source": [
        "import openturns as ot\nimport openturns.viewer as otv\nfrom openturns.usecases import flood_model"
      ]
    },
    {
      "cell_type": "markdown",
      "metadata": {},
      "source": [
        "Load the flood model.\n\n"
      ]
    },
    {
      "cell_type": "code",
      "execution_count": null,
      "metadata": {
        "collapsed": false
      },
      "outputs": [],
      "source": [
        "fm = flood_model.FloodModel()\ndistribution = fm.distribution\ng = fm.model.getMarginal(1)\ndim = distribution.getDimension()"
      ]
    },
    {
      "cell_type": "markdown",
      "metadata": {},
      "source": [
        "See the distribution\n\n"
      ]
    },
    {
      "cell_type": "code",
      "execution_count": null,
      "metadata": {
        "collapsed": false
      },
      "outputs": [],
      "source": [
        "distribution"
      ]
    },
    {
      "cell_type": "markdown",
      "metadata": {},
      "source": [
        "See the model\n\n"
      ]
    },
    {
      "cell_type": "code",
      "execution_count": null,
      "metadata": {
        "collapsed": false
      },
      "outputs": [],
      "source": [
        "g.getOutputDescription()"
      ]
    },
    {
      "cell_type": "markdown",
      "metadata": {},
      "source": [
        "## Estimate the squared SRC indices\n\n"
      ]
    },
    {
      "cell_type": "markdown",
      "metadata": {},
      "source": [
        "We produce a pair of input and output sample.\n\n"
      ]
    },
    {
      "cell_type": "code",
      "execution_count": null,
      "metadata": {
        "collapsed": false
      },
      "outputs": [],
      "source": [
        "ot.RandomGenerator.SetSeed(0)\nN = 100\nX = distribution.getSample(N)\nY = g(X)"
      ]
    },
    {
      "cell_type": "markdown",
      "metadata": {},
      "source": [
        "Compute squared SRC indices from the generated design.\n\n"
      ]
    },
    {
      "cell_type": "code",
      "execution_count": null,
      "metadata": {
        "collapsed": false
      },
      "outputs": [],
      "source": [
        "importance_factors = ot.CorrelationAnalysis(X, Y).computeSquaredSRC()\nprint(importance_factors)"
      ]
    },
    {
      "cell_type": "markdown",
      "metadata": {},
      "source": [
        "Plot the squared SRC indices.\n\n"
      ]
    },
    {
      "cell_type": "code",
      "execution_count": null,
      "metadata": {
        "collapsed": false
      },
      "outputs": [],
      "source": [
        "input_names = g.getInputDescription()\ngraph = ot.SobolIndicesAlgorithm.DrawCorrelationCoefficients(\n    importance_factors, input_names, \"Importance factors\"\n)\ngraph.setYTitle(\"Squared SRC\")\n_ = otv.View(graph)"
      ]
    },
    {
      "cell_type": "markdown",
      "metadata": {},
      "source": [
        "## Compute confidence intervals\n\n"
      ]
    },
    {
      "cell_type": "markdown",
      "metadata": {},
      "source": [
        "We now compute bootstrap confidence intervals for the importance factors.\nThis is done with the :class:`~openturns.BootstrapExperiment` class.\n\n"
      ]
    },
    {
      "cell_type": "markdown",
      "metadata": {},
      "source": [
        "Create SRC bootstrap sample\n\n"
      ]
    },
    {
      "cell_type": "code",
      "execution_count": null,
      "metadata": {
        "collapsed": false
      },
      "outputs": [],
      "source": [
        "bootstrap_size = 100\nsrc_boot = ot.Sample(bootstrap_size, dim)\nfor i in range(bootstrap_size):\n    selection = ot.BootstrapExperiment.GenerateSelection(N, N)\n    X_boot = X[selection]\n    Y_boot = Y[selection]\n    src_boot[i, :] = ot.CorrelationAnalysis(X_boot, Y_boot).computeSquaredSRC()"
      ]
    },
    {
      "cell_type": "markdown",
      "metadata": {},
      "source": [
        "Compute bootstrap quantiles\n\n"
      ]
    },
    {
      "cell_type": "code",
      "execution_count": null,
      "metadata": {
        "collapsed": false
      },
      "outputs": [],
      "source": [
        "alpha = 0.05\nsrc_lb = src_boot.computeQuantilePerComponent(alpha / 2.0)\nsrc_ub = src_boot.computeQuantilePerComponent(1.0 - alpha / 2.0)\nsrc_interval = ot.Interval(src_lb, src_ub)\nprint(src_interval)"
      ]
    },
    {
      "cell_type": "code",
      "execution_count": null,
      "metadata": {
        "collapsed": false
      },
      "outputs": [],
      "source": [
        "def draw_importance_factors_with_bounds(\n    importance_factors, input_names, alpha, importance_bounds\n):\n    \"\"\"\n    Plot importance factors indices with confidence bounds of level 1 - alpha.\n\n    Parameters\n    ----------\n    importance_factors : Point(dimension)\n        The importance factors.\n    input_names : list(str)\n        The names of the input variables.\n    alpha : float, in [0, 1]\n        The complementary confidence level.\n    importance_bounds : Interval(dimension)\n        The lower and upper bounds of the importance factors\n\n    Returns\n    -------\n    graph : Graph\n        The importance factors indices with lower and upper 1-alpha confidence intervals.\n    \"\"\"\n    dim = importance_factors.getDimension()\n    lb = importance_bounds.getLowerBound()\n    ub = importance_bounds.getUpperBound()\n    palette = ot.Drawable.BuildDefaultPalette(2)\n    graph = ot.SobolIndicesAlgorithm.DrawCorrelationCoefficients(\n        importance_factors, input_names, \"Importance factors\"\n    )\n    graph.setColors([palette[0], \"black\"])\n    graph.setYTitle(\"Squared SRC\")\n\n    # Add confidence bounds\n    for i in range(dim):\n        curve = ot.Curve([1 + i, 1 + i], [lb[i], ub[i]])\n        curve.setLineWidth(2.0)\n        curve.setColor(palette[1])\n        graph.add(curve)\n    return graph"
      ]
    },
    {
      "cell_type": "markdown",
      "metadata": {},
      "source": [
        "sphinx_gallery_thumbnail_number = 2\n\n"
      ]
    },
    {
      "cell_type": "markdown",
      "metadata": {},
      "source": [
        "Plot the SRC indices mean and confidence intervals.\n\n"
      ]
    },
    {
      "cell_type": "code",
      "execution_count": null,
      "metadata": {
        "collapsed": false
      },
      "outputs": [],
      "source": [
        "src_mean = src_boot.computeMean()\ngraph = draw_importance_factors_with_bounds(src_mean, input_names, alpha, src_interval)\ngraph.setTitle(f\"Importance factors - CI {(1.0 - alpha) * 100:.2f}%\")\n_ = otv.View(graph)"
      ]
    },
    {
      "cell_type": "markdown",
      "metadata": {},
      "source": [
        "We see that the variable $Q$ must be significant, because the lower\nbound of the confidence interval does not cross the X axis.\nFurthermore, its bounds are significantly greater than the bounds of the\nother variables (although perhaps less significantly for the $K_s$ variable).\nHence, it must be recognized that $Q$ is the most important variable\nin this model, according to the linear regression model.\n\nWe see that the variable $Z_m$ has an importance factor close to zero,\ntaking into account the confidence bounds (which are very small in this case).\nHence, the variable $Z_m$ could be replaced by a constant without\nreducing the variance of the output much.\n\nThe variables $K_s$, $Z_v$ and $H_d$ are somewhat in-between these two\nextreme situations. We cannot state that one of them is of greater importance\nthan the other, because the confidence bounds are of comparable magnitude.\nLooking only at the importance factors, we may wrongly conclude that\n$Z_v$ has a greater impact than $K_s$ because the estimate of the\nimportance factor for $Z_v$ is strictly greater than the estimate for\n$K_s$. But taking into account for the variability of the estimators,\nthis conclusion has no foundation, since confidence limits are comparable.\nIn order to distinguish between the impact of these two variables, a larger sample size is needed.\n\n"
      ]
    },
    {
      "cell_type": "code",
      "execution_count": null,
      "metadata": {
        "collapsed": false
      },
      "outputs": [],
      "source": [
        "otv.View.ShowAll()"
      ]
    }
  ],
  "metadata": {
    "kernelspec": {
      "display_name": "Python 3",
      "language": "python",
      "name": "python3"
    },
    "language_info": {
      "codemirror_mode": {
        "name": "ipython",
        "version": 3
      },
      "file_extension": ".py",
      "mimetype": "text/x-python",
      "name": "python",
      "nbconvert_exporter": "python",
      "pygments_lexer": "ipython3",
      "version": "3.11.6"
    }
  },
  "nbformat": 4,
  "nbformat_minor": 0
}