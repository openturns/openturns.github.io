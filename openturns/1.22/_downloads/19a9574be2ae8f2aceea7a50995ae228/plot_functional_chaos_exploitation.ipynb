{
  "cells": [
    {
      "cell_type": "markdown",
      "metadata": {},
      "source": [
        "\n# Polynomial chaos exploitation\n\nThe goal of this example is to create a polynomial chaos expansion using the\n:class:`~openturns.FunctionalChaosAlgorithm` class and see the different methods\nof the :class:`~openturns.FunctionalChaosResult` class.\nIn order to understand the different results, let us review some notations associated to the\npolynomial chaos expansion.\n\nWe first introduce the physical input, output and model:\n\n- the random vector $\\vect{X}$ is the physical input random vector,\n- the output random vector $\\vect{Y}$ is the output of the physical model,\n- the physical model $g$ is a function of the physical input:\n\n\\begin{align}\\vect{Y} = g(\\vect{X}).\\end{align}\n\nThen we introduce the iso-probabilistic transformation:\n\n- the random vector $\\vect{Z}$ is the standardized input random vector,\n- the transformation $T$ is the iso-probabilistic transformation mapping\n  from the physical input to the standardized input:\n\n\\begin{align}\\vect{Z} = T(\\vect{X}),\\end{align}\n\n- the standard distribution $\\mu$ of the standardized random vector $\\vect{Z}$.\n\nWe expand the model on the multivariate basis:\n\n- the full (i.e. unselected) multivariate basis is $\\left(\\Psi_k\\right)_{k \\in \\mathbb{N}}$,\n- the composition of each polynomial of the truncated multivariate basis $\\Psi_k$,\n- the full set of coefficients of the polynomial expansion is the set $(\\vect{a}_k)_{k \\in \\mathbb{N}}$,\n- the composed model $h$ is a function of the standardized random vector $\\vect{Z}$:\n\n\\begin{align}\\vect{Y} = h(\\vect{Z}) = g \\circ T^{-1}(\\vect{Z})\\end{align}\n\nThen we use a model selection method (e.g. from the :class:`~openturns.LARS` class):\n\n- the set $\\mathcal{K} \\subseteq \\mathbb{N}$ is the set of indices corresponding to the\n  result of the selection method,\n- the truncated (i.e. selected) multivariate basis is $\\left(\\Psi_k\\right)_{k \\in \\mathcal{K}}$,\n- the selected set of coefficients of the polynomial expansion is the set $(\\vect{a}_k)_{k \\in \\mathcal{K}}$,\n- the composed meta model $\\hat{h}$ is the function\n  of the standardized variables based on the truncated\n  multivariate basis $\\left(\\Psi_k\\right)_{k \\in \\mathcal{K}}$.\n- the meta model is a function of the physical input:\n\n\\begin{align}\\vect{Y} = \\hat{g} (\\vect{X}) = \\hat{h} \\circ T(\\vect{X}).\\end{align}\n\n\nBased on the previous definitions, the composed model is:\n\n\\begin{align}h(\\vect{Z}) =  \\sum_{k \\in \\mathbb{N}} \\vect{a}_k \\Psi_k(\\vect{Z}),\\end{align}\n\nthe composed metamodel is:\n\n\\begin{align}\\hat{h}(\\vect{Z}) = \\sum_{k \\in \\mathcal{K}} \\vect{a}_k \\Psi_k(\\vect{Z}),\\end{align}\n\nand the metamodel is:\n\n\\begin{align}\\hat{g}(\\vect{X}) = \\sum_{k \\in \\mathcal{K}} \\vect{a}_k \\Psi_k \\circ T(\\vect{X}).\\end{align}\n\nThe three previous mathematical functions are implemented as instances of the\n:class:`~openturns.Function` class.\n"
      ]
    },
    {
      "cell_type": "markdown",
      "metadata": {},
      "source": [
        "## Create the polynomial chaos expansion\n\n"
      ]
    },
    {
      "cell_type": "code",
      "execution_count": null,
      "metadata": {
        "collapsed": false
      },
      "outputs": [],
      "source": [
        "import openturns as ot\n\not.Log.Show(ot.Log.NONE)"
      ]
    },
    {
      "cell_type": "markdown",
      "metadata": {},
      "source": [
        "Prepare some input and output samples.\nWe define a model which has two inputs and two outputs.\nThen we define a normal input random vector with independent marginals,\nand we generate a sample from the input random vector.\nFinally, we evaluate the output sample from the model.\n\n"
      ]
    },
    {
      "cell_type": "code",
      "execution_count": null,
      "metadata": {
        "collapsed": false
      },
      "outputs": [],
      "source": [
        "ot.RandomGenerator.SetSeed(0)\ndimension = 2\ninput_names = [\"x1\", \"x2\"]\nformulas = [\"cos(x1 + x2)\", \"(x2 + 1) * exp(x1 - 2 * x2)\"]\nmodel = ot.SymbolicFunction(input_names, formulas)\ndistribution = ot.Normal(dimension)\nx = distribution.getSample(30)\ny = model(x)"
      ]
    },
    {
      "cell_type": "markdown",
      "metadata": {},
      "source": [
        "Create a functional chaos algorithm.\n\n"
      ]
    },
    {
      "cell_type": "code",
      "execution_count": null,
      "metadata": {
        "collapsed": false
      },
      "outputs": [],
      "source": [
        "algo = ot.FunctionalChaosAlgorithm(x, y)"
      ]
    },
    {
      "cell_type": "markdown",
      "metadata": {},
      "source": [
        "The previous constructor is the simplest since it has only two inputs arguments.\nIn this case, the algorithm has to retrieve the distribution from the `x`\nsample, which can be difficult, especially if the sample size is small.\nNotice, however, that the input distribution is known in our simple case.\nThis is why we update the previous script and give the input distribution as a third\ninput argument of the constructor.\n\n"
      ]
    },
    {
      "cell_type": "code",
      "execution_count": null,
      "metadata": {
        "collapsed": false
      },
      "outputs": [],
      "source": [
        "algo = ot.FunctionalChaosAlgorithm(x, y, distribution)\nalgo.run()"
      ]
    },
    {
      "cell_type": "markdown",
      "metadata": {},
      "source": [
        "Get the result.\n\n"
      ]
    },
    {
      "cell_type": "code",
      "execution_count": null,
      "metadata": {
        "collapsed": false
      },
      "outputs": [],
      "source": [
        "result = algo.getResult()\nresult"
      ]
    },
    {
      "cell_type": "markdown",
      "metadata": {},
      "source": [
        "## Get the coefficients\n\n"
      ]
    },
    {
      "cell_type": "markdown",
      "metadata": {},
      "source": [
        "In the next cells, we observe several methods of the `result` object.\nFirst, we get the polynomial chaos coefficients.\n\n"
      ]
    },
    {
      "cell_type": "code",
      "execution_count": null,
      "metadata": {
        "collapsed": false
      },
      "outputs": [],
      "source": [
        "result.getCoefficients()"
      ]
    },
    {
      "cell_type": "markdown",
      "metadata": {},
      "source": [
        "The coefficients of the i-th output marginal.\n\n"
      ]
    },
    {
      "cell_type": "code",
      "execution_count": null,
      "metadata": {
        "collapsed": false
      },
      "outputs": [],
      "source": [
        "i = 1\nresult.getCoefficients()[i]"
      ]
    },
    {
      "cell_type": "markdown",
      "metadata": {},
      "source": [
        "Get the indices of the selected polynomials.\n\n"
      ]
    },
    {
      "cell_type": "code",
      "execution_count": null,
      "metadata": {
        "collapsed": false
      },
      "outputs": [],
      "source": [
        "subsetK = result.getIndices()\nsubsetK"
      ]
    },
    {
      "cell_type": "markdown",
      "metadata": {},
      "source": [
        "Get the composition of the polynomials\nof the truncated multivariate basis.\n\n"
      ]
    },
    {
      "cell_type": "code",
      "execution_count": null,
      "metadata": {
        "collapsed": false
      },
      "outputs": [],
      "source": [
        "for i in range(subsetK.getSize()):\n    print(\n        \"Polynomial number \",\n        i,\n        \" in truncated basis <-> polynomial number \",\n        subsetK[i],\n        \" = \",\n        ot.LinearEnumerateFunction(dimension)(subsetK[i]),\n        \" in complete basis\",\n    )"
      ]
    },
    {
      "cell_type": "markdown",
      "metadata": {},
      "source": [
        "## Get the basis\n\n"
      ]
    },
    {
      "cell_type": "markdown",
      "metadata": {},
      "source": [
        "Get the multivariate basis\nas a collection of :class:`~openturns.Function` objects.\n\n"
      ]
    },
    {
      "cell_type": "code",
      "execution_count": null,
      "metadata": {
        "collapsed": false
      },
      "outputs": [],
      "source": [
        "reduced = result.getReducedBasis()"
      ]
    },
    {
      "cell_type": "markdown",
      "metadata": {},
      "source": [
        "Get the orthogonal basis.\n\n"
      ]
    },
    {
      "cell_type": "code",
      "execution_count": null,
      "metadata": {
        "collapsed": false
      },
      "outputs": [],
      "source": [
        "orthgBasis = result.getOrthogonalBasis()"
      ]
    },
    {
      "cell_type": "markdown",
      "metadata": {},
      "source": [
        "Get the standard distribution $\\mu$ of the standardized\nrandom vector $\\vect{Z}$.\n\n"
      ]
    },
    {
      "cell_type": "code",
      "execution_count": null,
      "metadata": {
        "collapsed": false
      },
      "outputs": [],
      "source": [
        "orthgBasis.getMeasure()"
      ]
    },
    {
      "cell_type": "markdown",
      "metadata": {},
      "source": [
        "## Get the metamodel\n\n"
      ]
    },
    {
      "cell_type": "markdown",
      "metadata": {},
      "source": [
        "Get the composed meta model $\\hat{h}$ which is\nthe model of the standardized random vector $\\vect{Z}$\nwithin the reduced polynomials basis.\n\n"
      ]
    },
    {
      "cell_type": "code",
      "execution_count": null,
      "metadata": {
        "collapsed": false
      },
      "outputs": [],
      "source": [
        "result.getComposedMetaModel()"
      ]
    },
    {
      "cell_type": "markdown",
      "metadata": {},
      "source": [
        "Get the meta model $\\hat{g}$ which is the composed meta model composed with the\niso probabilistic transformation $T$.\n\n"
      ]
    },
    {
      "cell_type": "code",
      "execution_count": null,
      "metadata": {
        "collapsed": false
      },
      "outputs": [],
      "source": [
        "result.getMetaModel()"
      ]
    },
    {
      "cell_type": "markdown",
      "metadata": {},
      "source": [
        "## Get the projection method\n\n"
      ]
    },
    {
      "cell_type": "markdown",
      "metadata": {},
      "source": [
        "Get the projection strategy: this is the method to estimate\nthe coefficients, i.e. regression or integration.\n\n"
      ]
    },
    {
      "cell_type": "code",
      "execution_count": null,
      "metadata": {
        "collapsed": false
      },
      "outputs": [],
      "source": [
        "algo.getProjectionStrategy()"
      ]
    }
  ],
  "metadata": {
    "kernelspec": {
      "display_name": "Python 3",
      "language": "python",
      "name": "python3"
    },
    "language_info": {
      "codemirror_mode": {
        "name": "ipython",
        "version": 3
      },
      "file_extension": ".py",
      "mimetype": "text/x-python",
      "name": "python",
      "nbconvert_exporter": "python",
      "pygments_lexer": "ipython3",
      "version": "3.11.5"
    }
  },
  "nbformat": 4,
  "nbformat_minor": 0
}