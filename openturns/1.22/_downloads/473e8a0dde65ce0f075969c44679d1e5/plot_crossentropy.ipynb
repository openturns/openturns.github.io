{
  "cells": [
    {
      "cell_type": "markdown",
      "metadata": {},
      "source": [
        "\n# Cross Entropy Importance Sampling\n"
      ]
    },
    {
      "cell_type": "markdown",
      "metadata": {},
      "source": [
        "The objective is to evaluate a failure probability using Cross Entropy Importance Sampling.\nTwo versions in the standard or physical spaces are implemented.\nSee :class:`~openturns.experimental.StandardSpaceCrossEntropyImportanceSampling` and :class:`~openturns.experimental.PhysicalSpaceCrossEntropyImportanceSampling`.\nWe consider the simple stress beam example: `axial stressed beam <use-case-stressed-beam>`.\n\n"
      ]
    },
    {
      "cell_type": "markdown",
      "metadata": {},
      "source": [
        "First, we import the python modules:\n\n"
      ]
    },
    {
      "cell_type": "code",
      "execution_count": null,
      "metadata": {
        "collapsed": false
      },
      "outputs": [],
      "source": [
        "import openturns as ot\nimport openturns.experimental as otexp\nimport openturns.viewer as otv\nfrom openturns.usecases import stressed_beam\n\not.RandomGenerator.SetSeed(0)"
      ]
    },
    {
      "cell_type": "markdown",
      "metadata": {},
      "source": [
        "## Create the probabilistic model\n\n"
      ]
    },
    {
      "cell_type": "code",
      "execution_count": null,
      "metadata": {
        "collapsed": false
      },
      "outputs": [],
      "source": [
        "axialBeam = stressed_beam.AxialStressedBeam()\ndistribution = axialBeam.distribution\nprint(\"Initial distribution:\", distribution)"
      ]
    },
    {
      "cell_type": "markdown",
      "metadata": {},
      "source": [
        "Draw the limit state function $g$ to help to understand the shape of the limit state.\n\n"
      ]
    },
    {
      "cell_type": "code",
      "execution_count": null,
      "metadata": {
        "collapsed": false
      },
      "outputs": [],
      "source": [
        "g = axialBeam.model\ngraph = ot.Graph(\"Simple stress beam\", \"R\", \"F\", True, \"upper right\")\ndrawfunction = g.draw([1.8e6, 600], [4e6, 950.0], [100] * 2)\ngraph.add(drawfunction)\nview = otv.View(graph)"
      ]
    },
    {
      "cell_type": "markdown",
      "metadata": {},
      "source": [
        "Create the output random vector $Y = g(\\vect{X})$ with $\\vect{X} = (R,F)$.\n\n"
      ]
    },
    {
      "cell_type": "code",
      "execution_count": null,
      "metadata": {
        "collapsed": false
      },
      "outputs": [],
      "source": [
        "X = ot.RandomVector(distribution)\nY = ot.CompositeRandomVector(g, X)"
      ]
    },
    {
      "cell_type": "markdown",
      "metadata": {},
      "source": [
        "## Create the event $\\{ Y = g(\\vect{X}) \\leq 0 \\}$\n\n"
      ]
    },
    {
      "cell_type": "code",
      "execution_count": null,
      "metadata": {
        "collapsed": false
      },
      "outputs": [],
      "source": [
        "threshold = 0.0\nevent = ot.ThresholdEvent(Y, ot.Less(), 0.0)"
      ]
    },
    {
      "cell_type": "markdown",
      "metadata": {},
      "source": [
        "## Evaluate the probability with the Standard Space Cross Entropy\n\n"
      ]
    },
    {
      "cell_type": "markdown",
      "metadata": {},
      "source": [
        "We choose to set the intermediate quantile level to 0.35.\n\n"
      ]
    },
    {
      "cell_type": "code",
      "execution_count": null,
      "metadata": {
        "collapsed": false
      },
      "outputs": [],
      "source": [
        "standardSpaceIS = otexp.StandardSpaceCrossEntropyImportanceSampling(event, 0.35)"
      ]
    },
    {
      "cell_type": "markdown",
      "metadata": {},
      "source": [
        "The sample size at each iteration can be changed by the following accessor:\n\n"
      ]
    },
    {
      "cell_type": "code",
      "execution_count": null,
      "metadata": {
        "collapsed": false
      },
      "outputs": [],
      "source": [
        "standardSpaceIS.setMaximumOuterSampling(1000)"
      ]
    },
    {
      "cell_type": "markdown",
      "metadata": {},
      "source": [
        "Now we can run the algorithm and get the results.\n\n"
      ]
    },
    {
      "cell_type": "code",
      "execution_count": null,
      "metadata": {
        "collapsed": false
      },
      "outputs": [],
      "source": [
        "standardSpaceIS.run()\nstandardSpaceISResult = standardSpaceIS.getResult()\nproba = standardSpaceISResult.getProbabilityEstimate()\nprint(\"Proba Standard Space Cross Entropy IS = \", proba)\nprint(\n    \"Current coefficient of variation = \",\n    standardSpaceISResult.getCoefficientOfVariation(),\n)"
      ]
    },
    {
      "cell_type": "markdown",
      "metadata": {},
      "source": [
        "The length of the confidence interval of level $95\\%$ is:\n\n"
      ]
    },
    {
      "cell_type": "code",
      "execution_count": null,
      "metadata": {
        "collapsed": false
      },
      "outputs": [],
      "source": [
        "length95 = standardSpaceISResult.getConfidenceLength()\nprint(\"Confidence length (0.95) = \", standardSpaceISResult.getConfidenceLength())"
      ]
    },
    {
      "cell_type": "markdown",
      "metadata": {},
      "source": [
        "which enables to build the confidence interval.\n\n"
      ]
    },
    {
      "cell_type": "code",
      "execution_count": null,
      "metadata": {
        "collapsed": false
      },
      "outputs": [],
      "source": [
        "print(\n    \"Confidence interval (0.95) = [\",\n    proba - length95 / 2,\n    \", \",\n    proba + length95 / 2,\n    \"]\",\n)"
      ]
    },
    {
      "cell_type": "markdown",
      "metadata": {},
      "source": [
        "We can analyze the simulation budget.\n\n"
      ]
    },
    {
      "cell_type": "code",
      "execution_count": null,
      "metadata": {
        "collapsed": false
      },
      "outputs": [],
      "source": [
        "print(\n    \"Numerical budget: \",\n    standardSpaceISResult.getBlockSize() * standardSpaceISResult.getOuterSampling(),\n)"
      ]
    },
    {
      "cell_type": "markdown",
      "metadata": {},
      "source": [
        "We can also retrieve the optimal auxiliary distribution in the standard space.\n\n"
      ]
    },
    {
      "cell_type": "code",
      "execution_count": null,
      "metadata": {
        "collapsed": false
      },
      "outputs": [],
      "source": [
        "print(\n    \"Auxiliary distribution in Standard space: \",\n    standardSpaceISResult.getAuxiliaryDistribution(),\n)"
      ]
    },
    {
      "cell_type": "markdown",
      "metadata": {},
      "source": [
        "## Draw initial samples and final samples\n\n\n"
      ]
    },
    {
      "cell_type": "markdown",
      "metadata": {},
      "source": [
        "First we get the auxiliary samples in the standard space and we project them in physical space.\n\n"
      ]
    },
    {
      "cell_type": "code",
      "execution_count": null,
      "metadata": {
        "collapsed": false
      },
      "outputs": [],
      "source": [
        "auxiliaryInputSamples = standardSpaceISResult.getAuxiliaryInputSample()\nauxiliaryInputSamplesPhysicalSpace = (\n    distribution.getInverseIsoProbabilisticTransformation()(auxiliaryInputSamples)\n)"
      ]
    },
    {
      "cell_type": "code",
      "execution_count": null,
      "metadata": {
        "collapsed": false
      },
      "outputs": [],
      "source": [
        "graph = ot.Graph(\"Cloud of samples and failure domain\", \"R\", \"F\", True, \"upper right\")\n# Generation of samples with initial distribution\ninitialSamples = ot.Cloud(\n    distribution.getSample(1000), \"blue\", \"plus\", \"Initial samples\"\n)\nauxiliarySamples = ot.Cloud(\n    auxiliaryInputSamplesPhysicalSpace, \"orange\", \"fsquare\", \"Auxiliary samples\"\n)\n# Plot failure domain\nnx, ny = 50, 50\nxx = ot.Box([nx], ot.Interval([1.80e6], [4e6])).generate()\nyy = ot.Box([ny], ot.Interval([600.0], [950.0])).generate()\ninputData = ot.Box([nx, ny], ot.Interval([1.80e6, 600.0], [4e6, 950.0])).generate()\noutputData = g(inputData)\nmycontour = ot.Contour(xx, yy, outputData, [0.0], [\"0.0\"], True)\nmycontour.setLegend(\"Failure domain\")\ngraph.add(initialSamples)\ngraph.add(auxiliarySamples)\ngraph.add(mycontour)\nview = otv.View(graph)"
      ]
    },
    {
      "cell_type": "markdown",
      "metadata": {},
      "source": [
        "In the previous graph, the blue crosses stand for samples drawn with the initial distribution and the orange squares stand for the samples drawn at the final iteration.\n\n"
      ]
    },
    {
      "cell_type": "markdown",
      "metadata": {},
      "source": [
        "## Estimation of the probability with the Physical Space Cross Entropy\n\n"
      ]
    },
    {
      "cell_type": "markdown",
      "metadata": {},
      "source": [
        "For a more advanced usage, it is possible to work in the physical space to specify the auxiliary distribution.\nIn this second example, we take the auxiliary distribution in the same family as the initial distribution and we want to optimize all the parameters.\n\n"
      ]
    },
    {
      "cell_type": "markdown",
      "metadata": {},
      "source": [
        "The parameters to be optimized are the parameters of the native distribution.\nIt is necessary to define among all the distribution parameters, which ones will be optimized through the indices of the parameters.\nIn this case, all the parameters will be optimized.\n\n"
      ]
    },
    {
      "cell_type": "markdown",
      "metadata": {},
      "source": [
        "Be careful that the native parameters of the auxiliary distribution will be considered.\nHere for the :class:`~openturns.LogNormalMuSigma` distribution, this corresponds\nto `muLog`, `sigmaLog` and `gamma`.\n\n"
      ]
    },
    {
      "cell_type": "markdown",
      "metadata": {},
      "source": [
        "The user can use `getParameterDescription()` method to access to the parameters of the auxiliary distribution.\n\n"
      ]
    },
    {
      "cell_type": "code",
      "execution_count": null,
      "metadata": {
        "collapsed": false
      },
      "outputs": [],
      "source": [
        "ot.RandomGenerator.SetSeed(0)\nmarginR = ot.LogNormalMuSigma().getDistribution()\nmarginF = ot.Normal()\nauxiliaryMarginals = [marginR, marginF]\nauxiliaryDistribution = ot.ComposedDistribution(auxiliaryMarginals)\n# Definition of parameters to be optimized\nactiveParameters = ot.Indices(5)\nactiveParameters.fill()\n# WARNING : native parameters of distribution have to be considered\nbounds = ot.Interval([14, 0.01, 0.0, 500, 20], [16, 0.2, 0.1, 1000, 70])\ninitialParameters = distribution.getParameter()\ndesc = auxiliaryDistribution.getParameterDescription()\np = auxiliaryDistribution.getParameter()\nprint(\n    \"Parameters of the auxiliary distribution:\",\n    \", \".join([f\"{param}: {value:.3f}\" for param, value in zip(desc, p)]),\n)\n\nphysicalSpaceIS1 = otexp.PhysicalSpaceCrossEntropyImportanceSampling(\n    event, auxiliaryDistribution, activeParameters, initialParameters, bounds\n)"
      ]
    },
    {
      "cell_type": "markdown",
      "metadata": {},
      "source": [
        "Custom optimization algorithm can be also specified for the auxiliary distribution parameters optimization, here for example we choose :class:`~openturns.TNC`.\n\n"
      ]
    },
    {
      "cell_type": "code",
      "execution_count": null,
      "metadata": {
        "collapsed": false
      },
      "outputs": [],
      "source": [
        "physicalSpaceIS1.setOptimizationAlgorithm(ot.TNC())"
      ]
    },
    {
      "cell_type": "markdown",
      "metadata": {},
      "source": [
        "The number of samples per step can also be specified.\n\n"
      ]
    },
    {
      "cell_type": "code",
      "execution_count": null,
      "metadata": {
        "collapsed": false
      },
      "outputs": [],
      "source": [
        "physicalSpaceIS1.setMaximumOuterSampling(1000)"
      ]
    },
    {
      "cell_type": "markdown",
      "metadata": {},
      "source": [
        "Finally, we run the algorithm and get the results.\n\n"
      ]
    },
    {
      "cell_type": "code",
      "execution_count": null,
      "metadata": {
        "collapsed": false
      },
      "outputs": [],
      "source": [
        "physicalSpaceIS1.run()\nphysicalSpaceISResult1 = physicalSpaceIS1.getResult()\nprint(\"Probability of failure:\", physicalSpaceISResult1.getProbabilityEstimate())\nprint(\"Coefficient of variation:\", physicalSpaceISResult1.getCoefficientOfVariation())"
      ]
    },
    {
      "cell_type": "markdown",
      "metadata": {},
      "source": [
        "We can also decide to optimize only the means of the marginals and keep the other parameters identical to the initial distribution.\n\n"
      ]
    },
    {
      "cell_type": "code",
      "execution_count": null,
      "metadata": {
        "collapsed": false
      },
      "outputs": [],
      "source": [
        "ot.RandomGenerator.SetSeed(0)\nmarginR = ot.LogNormalMuSigma(3e6, 3e5, 0.0).getDistribution()\nmarginF = ot.Normal(750.0, 50.0)\nauxiliaryMarginals = [marginR, marginF]\nauxiliaryDistribution = ot.ComposedDistribution(auxiliaryMarginals)\nprint(\"Parameters of initial distribution\", auxiliaryDistribution.getParameter())\n\n# Definition of parameters to be optimized\nactiveParameters = ot.Indices([0, 3])\n# WARNING : native parameters of distribution have to be considered\nbounds = ot.Interval([14, 500], [16, 1000])\ninitialParameters = [15, 750]\nphysicalSpaceIS2 = otexp.PhysicalSpaceCrossEntropyImportanceSampling(\n    event, auxiliaryDistribution, activeParameters, initialParameters, bounds\n)\nphysicalSpaceIS2.run()\nphysicalSpaceISResult2 = physicalSpaceIS2.getResult()\nprint(\"Probability of failure:\", physicalSpaceISResult2.getProbabilityEstimate())\nprint(\"Coefficient of variation:\", physicalSpaceISResult2.getCoefficientOfVariation())"
      ]
    },
    {
      "cell_type": "markdown",
      "metadata": {},
      "source": [
        "Let us analyze the auxiliary output samples for the two previous simulations.\nWe can plot initial (in blue) and auxiliary samples in physical space (orange\nfor the first simulation and black for the second simulation).\n\n"
      ]
    },
    {
      "cell_type": "code",
      "execution_count": null,
      "metadata": {
        "collapsed": false
      },
      "outputs": [],
      "source": [
        "graph = ot.Graph(\"Cloud of samples and failure domain\", \"R\", \"F\", True, \"upper right\")\nauxiliarySamples1 = ot.Cloud(\n    physicalSpaceISResult1.getAuxiliaryInputSample(),\n    \"orange\",\n    \"fsquare\",\n    \"Auxiliary samples, first case\",\n)\nauxiliarySamples2 = ot.Cloud(\n    physicalSpaceISResult2.getAuxiliaryInputSample(),\n    \"black\",\n    \"bullet\",\n    \"Auxiliary samples, second case\",\n)\ngraph.add(initialSamples)\ngraph.add(auxiliarySamples1)\ngraph.add(auxiliarySamples2)\ngraph.add(mycontour)\nview = otv.View(graph)"
      ]
    },
    {
      "cell_type": "markdown",
      "metadata": {},
      "source": [
        "By analyzing the failure samples, one may want to include correlation parameters in the auxiliary distribution.\nIn this last example, we add a Normal copula. The correlation parameter will be optimized with associated interval between 0 and 1.\n\n"
      ]
    },
    {
      "cell_type": "code",
      "execution_count": null,
      "metadata": {
        "collapsed": false
      },
      "outputs": [],
      "source": [
        "ot.RandomGenerator.SetSeed(0)\nmarginR = ot.LogNormalMuSigma(3e6, 3e5, 0.0).getDistribution()\nmarginF = ot.Normal(750.0, 50.0)\nauxiliaryMarginals = [marginR, marginF]\ncopula = ot.NormalCopula()\nauxiliaryDistribution = ot.ComposedDistribution(auxiliaryMarginals, copula)\ndesc = auxiliaryDistribution.getParameterDescription()\np = auxiliaryDistribution.getParameter()\nprint(\n    \"Initial parameters of the auxiliary distribution:\",\n    \", \".join([f\"{param}: {value:.3f}\" for param, value in zip(desc, p)]),\n)\n\n# Definition of parameters to be optimized\nactiveParameters = ot.Indices(6)\nactiveParameters.fill()\n\nbounds = ot.Interval(\n    [14, 0.01, 0.0, 500.0, 20.0, 0.0], [16, 0.2, 0.1, 1000.0, 70.0, 1.0]\n)\ninitialParameters = auxiliaryDistribution.getParameter()\n\nphysicalSpaceIS3 = otexp.PhysicalSpaceCrossEntropyImportanceSampling(\n    event, auxiliaryDistribution, activeParameters, initialParameters, bounds\n)\nphysicalSpaceIS3.run()\nphysicalSpaceISResult3 = physicalSpaceIS3.getResult()\ndesc = physicalSpaceISResult3.getAuxiliaryDistribution().getParameterDescription()\np = physicalSpaceISResult3.getAuxiliaryDistribution().getParameter()\nprint(\n    \"Optimized parameters of the auxiliary distribution:\",\n    \", \".join([f\"{param}: {value:.3f}\" for param, value in zip(desc, p)]),\n)\nprint(\"Probability of failure: \", physicalSpaceISResult3.getProbabilityEstimate())\nprint(\"Coefficient of variation: \", physicalSpaceISResult3.getCoefficientOfVariation())"
      ]
    },
    {
      "cell_type": "markdown",
      "metadata": {},
      "source": [
        "Finally, we plot the new auxiliary samples in black.\n\n"
      ]
    },
    {
      "cell_type": "code",
      "execution_count": null,
      "metadata": {
        "collapsed": false
      },
      "outputs": [],
      "source": [
        "graph = ot.Graph(\"Cloud of samples and failure domain\", \"R\", \"F\", True, \"upper right\")\nauxiliarySamples1 = ot.Cloud(\n    physicalSpaceISResult1.getAuxiliaryInputSample(),\n    \"orange\",\n    \"fsquare\",\n    \"Auxiliary samples, first case\",\n)\nauxiliarySamples3 = ot.Cloud(\n    physicalSpaceISResult3.getAuxiliaryInputSample(),\n    \"black\",\n    \"bullet\",\n    \"Auxiliary samples, second case\",\n)\ngraph.add(initialSamples)\ngraph.add(auxiliarySamples1)\ngraph.add(auxiliarySamples3)\ngraph.add(mycontour)\n\n# sphinx_gallery_thumbnail_number = 4\nview = otv.View(graph)"
      ]
    },
    {
      "cell_type": "markdown",
      "metadata": {},
      "source": [
        "The `quantileLevel` parameter can be also changed using the :class:`~openturns.ResourceMap` key : `CrossEntropyImportanceSampling-DefaultQuantileLevel`.\nBe careful that this key changes the value number of both :class:`~openturns.experimental.StandardSpaceCrossEntropyImportanceSampling`\nand :class:`~openturns.experimental.PhysicalSpaceCrossEntropyImportanceSampling`.\n\n"
      ]
    },
    {
      "cell_type": "code",
      "execution_count": null,
      "metadata": {
        "collapsed": false
      },
      "outputs": [],
      "source": [
        "ot.ResourceMap.SetAsScalar(\"CrossEntropyImportanceSampling-DefaultQuantileLevel\", 0.4)\nphysicalSpaceIS4 = otexp.PhysicalSpaceCrossEntropyImportanceSampling(\n    event, auxiliaryDistribution, activeParameters, initialParameters, bounds\n)\nprint(\"Modified quantile level:\", physicalSpaceIS4.getQuantileLevel())"
      ]
    },
    {
      "cell_type": "markdown",
      "metadata": {},
      "source": [
        "The optimized auxiliary distribution with a dependency between the two marginals allows one to better fit the failure domain, resulting in a lower coefficient of variation.\n\n"
      ]
    }
  ],
  "metadata": {
    "kernelspec": {
      "display_name": "Python 3",
      "language": "python",
      "name": "python3"
    },
    "language_info": {
      "codemirror_mode": {
        "name": "ipython",
        "version": 3
      },
      "file_extension": ".py",
      "mimetype": "text/x-python",
      "name": "python",
      "nbconvert_exporter": "python",
      "pygments_lexer": "ipython3",
      "version": "3.11.6"
    }
  },
  "nbformat": 4,
  "nbformat_minor": 0
}