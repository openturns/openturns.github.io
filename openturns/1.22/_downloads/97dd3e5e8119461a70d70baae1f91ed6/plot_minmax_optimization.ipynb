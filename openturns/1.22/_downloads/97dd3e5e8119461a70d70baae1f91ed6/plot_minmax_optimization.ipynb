{
  "cells": [
    {
      "cell_type": "markdown",
      "metadata": {},
      "source": [
        "\n# Mix/max search using optimization\n"
      ]
    },
    {
      "cell_type": "markdown",
      "metadata": {},
      "source": [
        "In this example we are going to evaluate the min and max values of the output variable of interest in a domain using an optimization algorithm.\n\n"
      ]
    },
    {
      "cell_type": "code",
      "execution_count": null,
      "metadata": {
        "collapsed": false
      },
      "outputs": [],
      "source": [
        "import openturns as ot\n\not.Log.Show(ot.Log.NONE)"
      ]
    },
    {
      "cell_type": "markdown",
      "metadata": {},
      "source": [
        "Create the marginal distributions of the parameters\n\n"
      ]
    },
    {
      "cell_type": "code",
      "execution_count": null,
      "metadata": {
        "collapsed": false
      },
      "outputs": [],
      "source": [
        "dist_E = ot.Beta(0.93, 2.27, 2.8e7, 4.8e7)\ndist_F = ot.LogNormalMuSigma(30000, 9000, 15000).getDistribution()\ndist_L = ot.Uniform(250, 260)\ndist_I = ot.Beta(2.5, 1.5, 3.1e2, 4.5e2)\nmarginals = [dist_E, dist_F, dist_L, dist_I]\ndistribution = ot.ComposedDistribution(marginals)"
      ]
    },
    {
      "cell_type": "markdown",
      "metadata": {},
      "source": [
        "Define bounds\n\n"
      ]
    },
    {
      "cell_type": "code",
      "execution_count": null,
      "metadata": {
        "collapsed": false
      },
      "outputs": [],
      "source": [
        "lowerBound = [marginal.computeQuantile(0.1)[0] for marginal in marginals]\nupperBound = [marginal.computeQuantile(0.9)[0] for marginal in marginals]\nbounds = ot.Interval(lowerBound, upperBound)"
      ]
    },
    {
      "cell_type": "markdown",
      "metadata": {},
      "source": [
        "Create the model\n\n"
      ]
    },
    {
      "cell_type": "code",
      "execution_count": null,
      "metadata": {
        "collapsed": false
      },
      "outputs": [],
      "source": [
        "model = ot.SymbolicFunction([\"E\", \"F\", \"L\", \"I\"], [\"F*L^3/(3*E*I)\"])"
      ]
    },
    {
      "cell_type": "markdown",
      "metadata": {},
      "source": [
        "Define the problems\n\n"
      ]
    },
    {
      "cell_type": "code",
      "execution_count": null,
      "metadata": {
        "collapsed": false
      },
      "outputs": [],
      "source": [
        "minProblem = ot.OptimizationProblem(model)\nminProblem.setBounds(bounds)\n\nmaxProblem = ot.OptimizationProblem(model)\nmaxProblem.setBounds(bounds)\nmaxProblem.setMinimization(False)"
      ]
    },
    {
      "cell_type": "markdown",
      "metadata": {},
      "source": [
        "Create a solver\n\n"
      ]
    },
    {
      "cell_type": "code",
      "execution_count": null,
      "metadata": {
        "collapsed": false
      },
      "outputs": [],
      "source": [
        "solver = ot.TNC()\nsolver.setStartingPoint(distribution.getMean())"
      ]
    },
    {
      "cell_type": "markdown",
      "metadata": {},
      "source": [
        "Solve the problems\n\n"
      ]
    },
    {
      "cell_type": "code",
      "execution_count": null,
      "metadata": {
        "collapsed": false
      },
      "outputs": [],
      "source": [
        "solver.setProblem(minProblem)\nsolver.run()\nminResult = solver.getResult()\nprint(\"min: y=\", minResult.getOptimalValue(), \"with x=\", minResult.getOptimalPoint())\n\nsolver.setProblem(maxProblem)\nsolver.run()\nmaxResult = solver.getResult()\nprint(\"max: y=\", maxResult.getOptimalValue(), \"with x=\", maxResult.getOptimalPoint())"
      ]
    }
  ],
  "metadata": {
    "kernelspec": {
      "display_name": "Python 3",
      "language": "python",
      "name": "python3"
    },
    "language_info": {
      "codemirror_mode": {
        "name": "ipython",
        "version": 3
      },
      "file_extension": ".py",
      "mimetype": "text/x-python",
      "name": "python",
      "nbconvert_exporter": "python",
      "pygments_lexer": "ipython3",
      "version": "3.11.5"
    }
  },
  "nbformat": 4,
  "nbformat_minor": 0
}