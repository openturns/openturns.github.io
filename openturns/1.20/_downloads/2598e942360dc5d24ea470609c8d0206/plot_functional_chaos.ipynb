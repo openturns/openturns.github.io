{
  "cells": [
    {
      "cell_type": "code",
      "execution_count": null,
      "metadata": {
        "collapsed": false
      },
      "outputs": [],
      "source": [
        "%matplotlib inline"
      ]
    },
    {
      "cell_type": "markdown",
      "metadata": {},
      "source": [
        "\n# Create a polynomial chaos metamodel\n"
      ]
    },
    {
      "cell_type": "markdown",
      "metadata": {},
      "source": [
        "In this example we are going to create a global approximation of a model response using functional chaos.\n\nLet $h$ be the function defined by:\n\n\\begin{align}g(\\mathbf{x}) = \\left[\\cos(x_1 + x_2), (x_2 + 1) e^{x_1}\\right]\\end{align}\n\n\nfor any $\\mathbf{x}\\in\\mathbb{R}^2$.\n\nWe assume that\n\n\\begin{align}X_1 \\sim \\mathcal{N}(0,1) \\textrm{ and } X_2 \\sim \\mathcal{N}(0,1)\\end{align}\n\nand that $X_1$ and $X_2$ are independent.\n\nAn interesting point in this example is that the output is multivariate. This is why we are going to use the `getMarginal` method in the script in order to select the output marginal that we want to manage.\n\n"
      ]
    },
    {
      "cell_type": "code",
      "execution_count": null,
      "metadata": {
        "collapsed": false
      },
      "outputs": [],
      "source": [
        "import openturns as ot\nimport openturns.viewer as viewer\nfrom matplotlib import pylab as plt\n\not.Log.Show(ot.Log.NONE)"
      ]
    },
    {
      "cell_type": "markdown",
      "metadata": {},
      "source": [
        "We first create the function `model`.\n\n"
      ]
    },
    {
      "cell_type": "code",
      "execution_count": null,
      "metadata": {
        "collapsed": false
      },
      "outputs": [],
      "source": [
        "ot.RandomGenerator.SetSeed(0)\ndimension = 2\ninput_names = [\"x1\", \"x2\"]\nformulas = [\"cos(x1 + x2)\", \"(x2 + 1) * exp(x1)\"]\nmodel = ot.SymbolicFunction(input_names, formulas)"
      ]
    },
    {
      "cell_type": "markdown",
      "metadata": {},
      "source": [
        "Then we create a sample `inputSample` and compute the corresponding output sample `outputSample`.\n\n"
      ]
    },
    {
      "cell_type": "code",
      "execution_count": null,
      "metadata": {
        "collapsed": false
      },
      "outputs": [],
      "source": [
        "distribution = ot.Normal(dimension)\nsamplesize = 80\ninputSample = distribution.getSample(samplesize)\noutputSample = model(inputSample)"
      ]
    },
    {
      "cell_type": "markdown",
      "metadata": {},
      "source": [
        "Create a functional chaos model.\nFirst, we need to fit a distribution on the input sample. We can do this automatically with the Lilliefors test.\n\n"
      ]
    },
    {
      "cell_type": "code",
      "execution_count": null,
      "metadata": {
        "collapsed": false
      },
      "outputs": [],
      "source": [
        "ot.ResourceMap.SetAsUnsignedInteger(\"FittingTest-LillieforsMaximumSamplingSize\", 100)"
      ]
    },
    {
      "cell_type": "code",
      "execution_count": null,
      "metadata": {
        "collapsed": false
      },
      "outputs": [],
      "source": [
        "algo = ot.FunctionalChaosAlgorithm(inputSample, outputSample)\nalgo.run()\nresult = algo.getResult()\nmetamodel = result.getMetaModel()"
      ]
    },
    {
      "cell_type": "markdown",
      "metadata": {},
      "source": [
        "Plot the second output of our model depending on $x_2$ with $x_1=0.5$. In order to do this, we create a `ParametricFunction` and set the value of $x_1$. Then we use the `getMarginal` method to extract the second output (which index is equal to 1).\n\n"
      ]
    },
    {
      "cell_type": "code",
      "execution_count": null,
      "metadata": {
        "collapsed": false
      },
      "outputs": [],
      "source": [
        "x1index = 0\nx1value = 0.5\nx2min = -3.0\nx2max = 3.0\noutputIndex = 1\nmetamodelParametric = ot.ParametricFunction(metamodel, [x1index], [x1value])\ngraph = metamodelParametric.getMarginal(outputIndex).draw(x2min, x2max)\ngraph.setLegends([\"Metamodel\"])\nmodelParametric = ot.ParametricFunction(model, [x1index], [x1value])\ncurve = modelParametric.getMarginal(outputIndex).draw(x2min, x2max).getDrawable(0)\ncurve.setColor(\"red\")\ncurve.setLegend(\"Model\")\ngraph.add(curve)\ngraph.setLegendPosition(\"bottomright\")\ngraph.setXTitle(\"X2\")\ngraph.setTitle(\"Metamodel Validation, output #%d\" % (outputIndex))\nview = viewer.View(graph)"
      ]
    },
    {
      "cell_type": "markdown",
      "metadata": {},
      "source": [
        "We see that the metamodel fits approximately to the model, except perhaps for extreme values of $x_2$. However, there is a better way of globally validating the metamodel, using the `MetaModelValidation` on a validation design of experiment.\n\n"
      ]
    },
    {
      "cell_type": "code",
      "execution_count": null,
      "metadata": {
        "collapsed": false
      },
      "outputs": [],
      "source": [
        "n_valid = 100\ninputTest = distribution.getSample(n_valid)\noutputTest = model(inputTest)"
      ]
    },
    {
      "cell_type": "markdown",
      "metadata": {},
      "source": [
        "Plot the corresponding validation graphics.\n\n"
      ]
    },
    {
      "cell_type": "code",
      "execution_count": null,
      "metadata": {
        "collapsed": false
      },
      "outputs": [],
      "source": [
        "val = ot.MetaModelValidation(inputTest, outputTest, metamodel)\nQ2 = val.computePredictivityFactor()\ngraph = val.drawValidation()\ngraph.setTitle(\"Metamodel validation Q2=\" + str(Q2))\nview = viewer.View(graph)"
      ]
    },
    {
      "cell_type": "markdown",
      "metadata": {},
      "source": [
        "The coefficient of predictivity is not extremely satisfactory for the first output, but is would be sufficient for a central dispersion study.\nThe second output has a much more satisfactory Q2: only one single extreme point is far from the diagonal of the graphics.\n\n"
      ]
    },
    {
      "cell_type": "markdown",
      "metadata": {},
      "source": [
        "## Compute and print Sobol' indices\n\n"
      ]
    },
    {
      "cell_type": "code",
      "execution_count": null,
      "metadata": {
        "collapsed": false
      },
      "outputs": [],
      "source": [
        "chaosSI = ot.FunctionalChaosSobolIndices(result)\nprint(chaosSI)"
      ]
    },
    {
      "cell_type": "markdown",
      "metadata": {},
      "source": [
        "Let us analyse the results of this global sensitivity analysis.\n\n* We see that the first output involves significant multi-indices with total degree 4. The contribution of the interactions are very significant in this model.\n* The second output involves multi-indices with total degrees from 1 to 7, with a significant contribution of multi-indices with total degress 5 and 7. The first variable is especially significant, with a significant contribution of the interactions.\n\n"
      ]
    },
    {
      "cell_type": "markdown",
      "metadata": {},
      "source": [
        "Draw Sobol' indices.\n\n"
      ]
    },
    {
      "cell_type": "code",
      "execution_count": null,
      "metadata": {
        "collapsed": false
      },
      "outputs": [],
      "source": [
        "sensitivityAnalysis = ot.FunctionalChaosSobolIndices(result)\nfirst_order = [sensitivityAnalysis.getSobolIndex(i) for i in range(dimension)]\ntotal_order = [sensitivityAnalysis.getSobolTotalIndex(i) for i in range(dimension)]"
      ]
    },
    {
      "cell_type": "code",
      "execution_count": null,
      "metadata": {
        "collapsed": false
      },
      "outputs": [],
      "source": [
        "input_names = model.getInputDescription()\ngraph = ot.SobolIndicesAlgorithm.DrawSobolIndices(input_names, first_order, total_order)\ngraph.setLegendPosition(\"center\")\nview = viewer.View(graph)"
      ]
    },
    {
      "cell_type": "markdown",
      "metadata": {},
      "source": [
        "## Testing the sensitivity to the degree\n\nWith the specific constructor of `FunctionalChaosAlgorithm` that we use, the `FunctionalChaosAlgorithm-MaximumTotalDegree` in the `ResourceMap` configure the maximum degree explored by the algorithm. This degree is a trade-off.\n\n* If the maximum degree is too low, the polynomial may miss some coefficients so that the quality is lower than possible.\n* If the maximum degree is too large, the number of coefficients to explore is too large, so that the coefficients might be poorly estimated.\n\nThis is why the following `for` loop explores various degrees to see the sensitivity of the metamodel predictivity depending on the degree.\n\n"
      ]
    },
    {
      "cell_type": "markdown",
      "metadata": {},
      "source": [
        "The default value of this parameter is 10.\n\n"
      ]
    },
    {
      "cell_type": "code",
      "execution_count": null,
      "metadata": {
        "collapsed": false
      },
      "outputs": [],
      "source": [
        "ot.ResourceMap.GetAsUnsignedInteger(\"FunctionalChaosAlgorithm-MaximumTotalDegree\")"
      ]
    },
    {
      "cell_type": "markdown",
      "metadata": {},
      "source": [
        "This is why we explore the values from 5 to 15.\n\n"
      ]
    },
    {
      "cell_type": "code",
      "execution_count": null,
      "metadata": {
        "collapsed": false
      },
      "outputs": [],
      "source": [
        "degrees = range(5, 12)\nq2 = ot.Sample(len(degrees), 2)\nfor maximumDegree in degrees:\n    ot.ResourceMap.SetAsUnsignedInteger(\n        \"FunctionalChaosAlgorithm-MaximumTotalDegree\", maximumDegree\n    )\n    print(\"Maximum total degree =\", maximumDegree)\n    algo = ot.FunctionalChaosAlgorithm(inputSample, outputSample)\n    algo.run()\n    result = algo.getResult()\n    metamodel = result.getMetaModel()\n    for outputIndex in range(2):\n        val = ot.MetaModelValidation(\n            inputTest, outputTest[:, outputIndex], metamodel.getMarginal(outputIndex)\n        )\n        q2[maximumDegree - degrees[0], outputIndex] = val.computePredictivityFactor()[0]"
      ]
    },
    {
      "cell_type": "code",
      "execution_count": null,
      "metadata": {
        "collapsed": false
      },
      "outputs": [],
      "source": [
        "graph = ot.Graph(\"Predictivity\", \"Total degree\", \"Q2\", True)\ncloud = ot.Cloud([[d] for d in degrees], q2[:, 0])\ncloud.setLegend(\"Output #0\")\ncloud.setPointStyle(\"bullet\")\ngraph.add(cloud)\ncloud = ot.Cloud([[d] for d in degrees], q2[:, 1])\ncloud.setLegend(\"Output #1\")\ncloud.setColor(\"red\")\ncloud.setPointStyle(\"bullet\")\ngraph.add(cloud)\ngraph.setLegendPosition(\"topright\")\nview = viewer.View(graph)\nplt.show()"
      ]
    },
    {
      "cell_type": "markdown",
      "metadata": {},
      "source": [
        "We see that a total degree lower than 9 is not sufficient to describe the first output with good predictivity. However, the coefficient of predictivity drops when the total degree gets greater than 12.\nThe predictivity of the second output seems to be much less satisfactory: a little more work would be required to improve the metamodel.\n\nIn this situation, the following methods may be used.\n\n* Since the distribution of the input is known, we may want to give this information to the `FunctionalChaosAlgorithm`. This prevents the algorithm from trying to fit the distribution which best fit to the data.\n* We may want to customize the `adaptiveStrategy` by selecting an enumerate function which best fit to this particular situation. In this specific example, the interactions plays a great role so that the linear enumerate function may provide better results than the hyperbolic rule.\n* We may want to customize the `projectionStrategy` by selecting an method to compute the coefficient which improves the estimation. Given that the function is symbolic and fast, it might be interesting to try an integration rule instead of the least squares method.\n\n"
      ]
    }
  ],
  "metadata": {
    "kernelspec": {
      "display_name": "Python 3",
      "language": "python",
      "name": "python3"
    },
    "language_info": {
      "codemirror_mode": {
        "name": "ipython",
        "version": 3
      },
      "file_extension": ".py",
      "mimetype": "text/x-python",
      "name": "python",
      "nbconvert_exporter": "python",
      "pygments_lexer": "ipython3",
      "version": "3.10.7"
    }
  },
  "nbformat": 4,
  "nbformat_minor": 0
}