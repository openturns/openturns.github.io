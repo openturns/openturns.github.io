{
  "cells": [
    {
      "cell_type": "code",
      "execution_count": null,
      "metadata": {
        "collapsed": false
      },
      "outputs": [],
      "source": [
        "%matplotlib inline"
      ]
    },
    {
      "cell_type": "markdown",
      "metadata": {},
      "source": [
        "\n# Create a functional basis process\n"
      ]
    },
    {
      "cell_type": "markdown",
      "metadata": {},
      "source": [
        "The objective of this example is to define\n$X: \\Omega \\times \\mathcal{D} \\rightarrow \\mathbb{R}^d$ a multivariate stochastic\nprocess of dimension $d$ where $\\mathcal{D} \\in \\mathbb{R}^n$, as a linear\ncombination of $K$ deterministic functions\n$(\\phi_i)_{i=1,\\dots,K}: \\mathbb{R}^n \\rightarrow \\mathbb{R}^d$:\n\n\\begin{align}\\begin{aligned}\n      X(\\omega,\\underline{t})=\\sum_{i=1}^KA_i(\\omega)\\phi_i(\\underline{t})\n    \\end{aligned}\\end{align}\n\nwhere $\\underline{A}=(A_1,\\dots, A_K)$ is a random vector of dimension $K$.\n\nWe suppose that $\\mathcal{M}$ is discretized on the mesh $\\mathcal{M}$ which has $N$\nvertices.\n\nA realization of $X$ on $\\mathcal{M}$ consists in generating a realization\n$\\underline{\\alpha}$ of the random vector $\\underline{A}$ and in evaluating the\nfunctions $(\\phi_i)_{i=1,\\dots,K}$ on the mesh $\\mathcal{M}$.\n\nIf we note\n$(\\underline{x}_0, \\dots, \\underline{x}_{N-1})$ the realization of $X$, where\n$X(\\omega, \\underline{t}_k) = \\underline{x}_k$, we have:\n\n\\begin{align}\\begin{aligned}\n     \\forall k \\in [0, N-1], \\quad \\underline{x}_k = \\sum_{i=1}^K\\alpha_i\\phi_i(\\underline{t}_k)\n   \\end{aligned}\\end{align}\n\n\n"
      ]
    },
    {
      "cell_type": "code",
      "execution_count": null,
      "metadata": {
        "collapsed": false
      },
      "outputs": [],
      "source": [
        "import openturns as ot\nimport openturns.viewer as viewer\n\not.Log.Show(ot.Log.NONE)"
      ]
    },
    {
      "cell_type": "markdown",
      "metadata": {},
      "source": [
        "Define the coefficients distribution\n\n"
      ]
    },
    {
      "cell_type": "code",
      "execution_count": null,
      "metadata": {
        "collapsed": false
      },
      "outputs": [],
      "source": [
        "mu = [2.0] * 2\nsigma = [5.0] * 2\nR = ot.CorrelationMatrix(2)\ncoefDist = ot.Normal(mu, sigma, R)"
      ]
    },
    {
      "cell_type": "markdown",
      "metadata": {},
      "source": [
        "Create a basis of functions\n\n"
      ]
    },
    {
      "cell_type": "code",
      "execution_count": null,
      "metadata": {
        "collapsed": false
      },
      "outputs": [],
      "source": [
        "phi_1 = ot.SymbolicFunction([\"t\"], [\"sin(t)\"])\nphi_2 = ot.SymbolicFunction([\"t\"], [\"cos(t)^2\"])\nmyBasis = ot.Basis([phi_1, phi_2])"
      ]
    },
    {
      "cell_type": "markdown",
      "metadata": {},
      "source": [
        "Create the mesh\n\n"
      ]
    },
    {
      "cell_type": "code",
      "execution_count": null,
      "metadata": {
        "collapsed": false
      },
      "outputs": [],
      "source": [
        "myMesh = ot.RegularGrid(0.0, 0.1, 100)"
      ]
    },
    {
      "cell_type": "markdown",
      "metadata": {},
      "source": [
        "Create the process\n\n"
      ]
    },
    {
      "cell_type": "code",
      "execution_count": null,
      "metadata": {
        "collapsed": false
      },
      "outputs": [],
      "source": [
        "process = ot.FunctionalBasisProcess(coefDist, myBasis, myMesh)"
      ]
    },
    {
      "cell_type": "markdown",
      "metadata": {},
      "source": [
        "Draw a sample\n\n"
      ]
    },
    {
      "cell_type": "code",
      "execution_count": null,
      "metadata": {
        "collapsed": false
      },
      "outputs": [],
      "source": [
        "N = 6\nsample = process.getSample(N)\ngraph = sample.drawMarginal(0)\ngraph.setTitle(str(N) + \" realizations of functional basis process\")\nview = viewer.View(graph)"
      ]
    }
  ],
  "metadata": {
    "kernelspec": {
      "display_name": "Python 3",
      "language": "python",
      "name": "python3"
    },
    "language_info": {
      "codemirror_mode": {
        "name": "ipython",
        "version": 3
      },
      "file_extension": ".py",
      "mimetype": "text/x-python",
      "name": "python",
      "nbconvert_exporter": "python",
      "pygments_lexer": "ipython3",
      "version": "3.10.9"
    }
  },
  "nbformat": 4,
  "nbformat_minor": 0
}