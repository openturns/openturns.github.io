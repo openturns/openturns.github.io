{
  "cells": [
    {
      "cell_type": "code",
      "execution_count": null,
      "metadata": {
        "collapsed": false
      },
      "outputs": [],
      "source": [
        "%matplotlib inline"
      ]
    },
    {
      "cell_type": "markdown",
      "metadata": {},
      "source": [
        "\n# Compute Sobol' indices confidence intervals\n"
      ]
    },
    {
      "cell_type": "markdown",
      "metadata": {},
      "source": [
        "In this example we will estimate confidence intervals for chaos Sobol' indices by bootstrap.\nUnlike estimation by sampling where the confidence intervals are obtained from the asymptotic distributions,\nthere is currently no known analytical method to compute Sobol' confidence intervals,\nso we can fallback to bootstrap.\n\nBootstraping the polynomial chaos is presented in [marelli2018]_ as \"full bootstraping\"\nand refered to as bootstrap-PCE or bPCE.\nFull bPCE can be CPU time consuming in some cases, e.g. when the dimension of the input\nrandom vector is large or when the training sample size is large.\nIn the fast bPCE method, the sparse polynomial basis identified by the LARS algorithm\nis computed only once.\nThen bootstrapping is applied to the regression step on the sparse basis.\nUsing fast bPCE is not straightforward, so we use full bPCE in the current example.\n\nTo do this, we must simultaneously bootstrap in the input and output samples, so that the\ninput/output mapping is preserved.\nIn the example below, we show how to use the :class:`~openturns.BootstrapExperiment` class for this purpose.\n\nThis involves the following steps:\n\n- Generate an initial input/output design of experiment.\n- Compute a fixed number of bootstrap samples from the original design.\n- For each input/output boostrap samples, compute Sobol' indices by functional chaos.\n- Compute quantiles of these Sobol' indices realizations to get the confidence intervals.\n\n\n"
      ]
    },
    {
      "cell_type": "code",
      "execution_count": null,
      "metadata": {
        "collapsed": false
      },
      "outputs": [],
      "source": [
        "import openturns as ot\nfrom openturns.usecases import cantilever_beam\nimport openturns.viewer as otv"
      ]
    },
    {
      "cell_type": "markdown",
      "metadata": {},
      "source": [
        "Load the cantilever beam use-case.\nWe want to use the independent distribution to get meaningful Sobol' indices.\n\n"
      ]
    },
    {
      "cell_type": "code",
      "execution_count": null,
      "metadata": {
        "collapsed": false
      },
      "outputs": [],
      "source": [
        "beam = cantilever_beam.CantileverBeam()\ng = beam.model\ndistribution = beam.independentDistribution\ndim_input = distribution.getDimension()"
      ]
    },
    {
      "cell_type": "markdown",
      "metadata": {},
      "source": [
        "Create the tensorized polynomial basis, with the default linear enumeration function.\n\n"
      ]
    },
    {
      "cell_type": "code",
      "execution_count": null,
      "metadata": {
        "collapsed": false
      },
      "outputs": [],
      "source": [
        "marginals = [distribution.getMarginal(i) for i in range(dim_input)]\nbasis = ot.OrthogonalProductPolynomialFactory(marginals)"
      ]
    },
    {
      "cell_type": "markdown",
      "metadata": {},
      "source": [
        "Generate a learning sample with MC simulation (or retrieve the design from experimental data).\n\n"
      ]
    },
    {
      "cell_type": "code",
      "execution_count": null,
      "metadata": {
        "collapsed": false
      },
      "outputs": [],
      "source": [
        "ot.RandomGenerator.SetSeed(0)\nN = 35  # size of the experimental design\nX = distribution.getSample(N)\nY = g(X)"
      ]
    },
    {
      "cell_type": "code",
      "execution_count": null,
      "metadata": {
        "collapsed": false
      },
      "outputs": [],
      "source": [
        "def computeSparseLeastSquaresChaos(X, Y, basis, total_degree, distribution):\n    \"\"\"\n    Create a sparse polynomial chaos with least squares.\n\n    * Uses the enumeration rule from basis.\n    * Uses LeastSquaresStrategy to compute the coefficients from\n    linear least squares.\n    * Uses LeastSquaresMetaModelSelectionFactory to select the polynomials\n    in the basis using least angle regression stepwise (LARS)\n    * Utilise LeastSquaresStrategy pour calculer les\n    coefficients par moindres carr\u00e9s.\n    * Uses FixedStrategy to keep all coefficients that LARS has selected,\n    up to the given maximum total degree.\n\n    Parameters\n    ----------\n    X : Sample(n)\n        The input training design of experiments with n points\n    Y : Sample(n)\n        The input training design of experiments with n points\n    basis : Basis\n        The multivariate orthogonal polynomial basis\n    total_degree : int\n        The maximum total polynomial degree\n    distribution : Distribution\n        The distribution of the input random vector\n\n    Returns\n    -------\n    result : FunctionalChaosResult\n        The polynomial chaos result\n    \"\"\"\n    selectionAlgorithm = ot.LeastSquaresMetaModelSelectionFactory()\n    projectionStrategy = ot.LeastSquaresStrategy(selectionAlgorithm)\n    enum_func = basis.getEnumerateFunction()\n    P = enum_func.getBasisSizeFromTotalDegree(total_degree)\n    adaptiveStrategy = ot.FixedStrategy(basis, P)\n    algo = ot.FunctionalChaosAlgorithm(\n        X, Y, distribution, adaptiveStrategy, projectionStrategy\n    )\n    algo.run()\n    result = algo.getResult()\n    return result"
      ]
    },
    {
      "cell_type": "markdown",
      "metadata": {},
      "source": [
        "Build the chaos metamodel on the design of experiment.\n\n"
      ]
    },
    {
      "cell_type": "code",
      "execution_count": null,
      "metadata": {
        "collapsed": false
      },
      "outputs": [],
      "source": [
        "total_degree = 3\nresult = computeSparseLeastSquaresChaos(X, Y, basis, total_degree, distribution)\nmetamodel = result.getMetaModel()"
      ]
    },
    {
      "cell_type": "markdown",
      "metadata": {},
      "source": [
        "Generate a validation sample independent of the training sample.\n\n"
      ]
    },
    {
      "cell_type": "code",
      "execution_count": null,
      "metadata": {
        "collapsed": false
      },
      "outputs": [],
      "source": [
        "n_valid = 1000\nX_test = distribution.getSample(n_valid)\nY_test = g(X_test)"
      ]
    },
    {
      "cell_type": "markdown",
      "metadata": {},
      "source": [
        "The MetaModelValidation class allows to validate the metamodel on a test sample.\nPlot the observed versus the predicted outputs.\n\n"
      ]
    },
    {
      "cell_type": "code",
      "execution_count": null,
      "metadata": {
        "collapsed": false
      },
      "outputs": [],
      "source": [
        "val = ot.MetaModelValidation(X_test, Y_test, metamodel)\ngraph = val.drawValidation()\nQ2 = val.computePredictivityFactor()[0]\ngraph.setTitle(f\"Chaos validation - Q2={Q2*100.0:.2f}%\")\n_ = otv.View(graph)"
      ]
    },
    {
      "cell_type": "markdown",
      "metadata": {},
      "source": [
        "Retrieve Sobol' sensitivity measures associated to the polynomial chaos decomposition of the model.\n\n"
      ]
    },
    {
      "cell_type": "code",
      "execution_count": null,
      "metadata": {
        "collapsed": false
      },
      "outputs": [],
      "source": [
        "chaosSI = ot.FunctionalChaosSobolIndices(result)\nfo_indices = ot.Point([chaosSI.getSobolIndex(i) for i in range(dim_input)])\nto_indices = ot.Point([chaosSI.getSobolTotalIndex(i) for i in range(dim_input)])\ninput_names = g.getInputDescription()\ngraph = ot.SobolIndicesAlgorithm.DrawSobolIndices(input_names, fo_indices, to_indices)\n_ = otv.View(graph)"
      ]
    },
    {
      "cell_type": "markdown",
      "metadata": {},
      "source": [
        "We define the `multiBootstrap` function in order to simultaneously bootstrap in the input\nand output samples, so that the input/output mapping is preserved.\nWe use the `GenerateSelection` method of the :class:`~openturns.BootstrapExperiment` class.\n\n"
      ]
    },
    {
      "cell_type": "code",
      "execution_count": null,
      "metadata": {
        "collapsed": false
      },
      "outputs": [],
      "source": [
        "def multiBootstrap(*data):\n    \"\"\"\n    Bootstrap multiple samples at once.\n\n    Parameters\n    ----------\n    data : sequence of Sample\n        Multiple samples to bootstrap.\n\n    Returns\n    -------\n    data_boot : sequence of Sample\n        The bootstrap samples.\n    \"\"\"\n    assert len(data) > 0, \"empty list\"\n    size = data[0].getSize()\n    selection = ot.BootstrapExperiment.GenerateSelection(size, size)\n    return [Z[selection] for Z in data]"
      ]
    },
    {
      "cell_type": "markdown",
      "metadata": {},
      "source": [
        "Generate input/output bootstrap samples from the initial design.\n\n"
      ]
    },
    {
      "cell_type": "code",
      "execution_count": null,
      "metadata": {
        "collapsed": false
      },
      "outputs": [],
      "source": [
        "X_boot, Y_boot = multiBootstrap(X, Y)\nprint(X_boot[:5])\nprint(Y_boot[:5])"
      ]
    },
    {
      "cell_type": "code",
      "execution_count": null,
      "metadata": {
        "collapsed": false
      },
      "outputs": [],
      "source": [
        "def computeChaosSensitivity(X, Y, basis, total_degree, distribution):\n    \"\"\"\n    Compute the first and total order Sobol' indices from a polynomial chaos.\n\n    Parameters\n    ----------\n    X, Y : Sample\n        Input/Output design\n    basis : Basis\n        Tensorized basis\n    total_degree : int\n        Maximal total degree\n    distribution : Distribution\n        Input distribution\n\n    Returns\n    -------\n    first_order, total_order: list of float\n        The first and total order indices.\n    \"\"\"\n    dim_input = X.getDimension()\n    result = computeSparseLeastSquaresChaos(X, Y, basis, total_degree, distribution)\n    chaosSI = ot.FunctionalChaosSobolIndices(result)\n    first_order = [chaosSI.getSobolIndex(i) for i in range(dim_input)]\n    total_order = [chaosSI.getSobolTotalIndex(i) for i in range(dim_input)]\n    return first_order, total_order"
      ]
    },
    {
      "cell_type": "code",
      "execution_count": null,
      "metadata": {
        "collapsed": false
      },
      "outputs": [],
      "source": [
        "def computeBootstrapChaosSobolIndices(\n    X, Y, basis, total_degree, distribution, bootstrap_size\n):\n    \"\"\"\n    Computes a bootstrap sample of first and total order indices from polynomial chaos.\n\n    Parameters\n    ----------\n    X, Y : Sample\n        Input/Output design\n    basis : Basis\n        Tensorized basis\n    total_degree : int\n        Maximal total degree\n    distribution : Distribution\n        Input distribution\n    bootstrap_size : interval\n        The bootstrap sample size\n    \"\"\"\n    dim_input = X.getDimension()\n    fo_sample = ot.Sample(0, dim_input)\n    to_sample = ot.Sample(0, dim_input)\n    unit_eps = ot.Interval([1e-9] * dim_input, [1 - 1e-9] * dim_input)\n    for i in range(bootstrap_size):\n        X_boot, Y_boot = multiBootstrap(X, Y)\n        first_order, total_order = computeChaosSensitivity(\n            X_boot, Y_boot, basis, total_degree, distribution\n        )\n        if unit_eps.contains(first_order) and unit_eps.contains(total_order):\n            fo_sample.add(first_order)\n            to_sample.add(total_order)\n    return fo_sample, to_sample"
      ]
    },
    {
      "cell_type": "markdown",
      "metadata": {},
      "source": [
        "Compute sample of Sobol' indices by boostrap.\n\n"
      ]
    },
    {
      "cell_type": "code",
      "execution_count": null,
      "metadata": {
        "collapsed": false
      },
      "outputs": [],
      "source": [
        "bootstrap_size = 500\nfo_sample, to_sample = computeBootstrapChaosSobolIndices(\n    X, Y, basis, total_degree, distribution, bootstrap_size\n)"
      ]
    },
    {
      "cell_type": "code",
      "execution_count": null,
      "metadata": {
        "collapsed": false
      },
      "outputs": [],
      "source": [
        "def computeSobolIndicesConfidenceInterval(fo_sample, to_sample, alpha=0.95):\n    \"\"\"\n    From a sample of first or total order indices,\n    compute a bilateral confidence interval of level alpha.\n\n    Estimates the distribution of the first and total order Sobol' indices\n    from a bootstrap estimation.\n    Then computes a bilateral confidence interval for each marginal.\n\n    Parameters\n    ----------\n    fo_sample: ot.Sample(n, dim_input)\n        The first order indices\n    to_sample: ot.Sample(n, dim_input)\n        The total order indices\n    alpha : float\n        The confidence level\n\n    Returns\n    -------\n    fo_interval : ot.Interval\n        The confidence interval of first order Sobol' indices\n    to_interval : ot.Interval\n        The confidence interval of total order Sobol' indices\n    \"\"\"\n    dim_input = fo_sample.getDimension()\n    fo_lb = [0] * dim_input\n    fo_ub = [0] * dim_input\n    to_lb = [0] * dim_input\n    to_ub = [0] * dim_input\n    for i in range(dim_input):\n        fo_i = fo_sample[:, i]\n        to_i = to_sample[:, i]\n        beta = (1.0 - alpha) / 2\n        fo_lb[i] = fo_i.computeQuantile(beta)[0]\n        fo_ub[i] = fo_i.computeQuantile(1.0 - beta)[0]\n        to_lb[i] = to_i.computeQuantile(beta)[0]\n        to_ub[i] = to_i.computeQuantile(1.0 - beta)[0]\n\n    # Create intervals\n    fo_interval = ot.Interval(fo_lb, fo_ub)\n    to_interval = ot.Interval(to_lb, to_ub)\n    return fo_interval, to_interval"
      ]
    },
    {
      "cell_type": "markdown",
      "metadata": {},
      "source": [
        "Compute confidence intervals from the indices samples.\n\n"
      ]
    },
    {
      "cell_type": "code",
      "execution_count": null,
      "metadata": {
        "collapsed": false
      },
      "outputs": [],
      "source": [
        "fo_interval, to_interval = computeSobolIndicesConfidenceInterval(fo_sample, to_sample)"
      ]
    },
    {
      "cell_type": "code",
      "execution_count": null,
      "metadata": {
        "collapsed": false
      },
      "outputs": [],
      "source": [
        "def computeAndDrawSobolIndices(\n    N, basis, total_degree, distribution, bootstrap_size=500, alpha=0.95\n):\n    \"\"\"\n    Compute and draw Sobol' indices from a polynomial chaos based on a\n    given sample size.\n    Compute confidence intervals at level alpha from bootstrap.\n    \"\"\"\n    X = distribution.getSample(N)\n    Y = g(X)\n    fo_sample, to_sample = computeBootstrapChaosSobolIndices(\n        X, Y, basis, total_degree, distribution, bootstrap_size\n    )\n\n    fo_interval, to_interval = computeSobolIndicesConfidenceInterval(\n        fo_sample, to_sample, alpha\n    )\n\n    graph = ot.SobolIndicesAlgorithm.DrawSobolIndices(\n        input_names,\n        fo_sample.computeMean(),\n        to_sample.computeMean(),\n        fo_interval,\n        to_interval,\n    )\n    graph.setTitle(f\"Sobol' indices - N={N}\")\n    graph.setIntegerXTick(True)\n    return graph"
      ]
    },
    {
      "cell_type": "markdown",
      "metadata": {},
      "source": [
        "Plot the boostrap Sobol' indices mean and the confidence intervals.\nThe confidence length will shrink if we increase the initial sample size.\n\n"
      ]
    },
    {
      "cell_type": "code",
      "execution_count": null,
      "metadata": {
        "collapsed": false
      },
      "outputs": [],
      "source": [
        "graph = computeAndDrawSobolIndices(30, basis, total_degree, distribution)\n_ = otv.View(graph)\n\notv.View.ShowAll()"
      ]
    },
    {
      "cell_type": "markdown",
      "metadata": {},
      "source": [
        "We see that the variable F has the highest sensitivity indices and that confidence intervals\ndo not change this conclusion.\nThe confidence intervals of the sensitivity indices of the variables L and I are similar\nso that we cannot say which of L or I is more significant than the other: both variables have\nsimilar sensitivity indices.\nThe least sensitive variable is E, but the confidence intervals do not cross the X axis.\nHence, there is no evidence that the Sobol' indices of E are zero.\n\n"
      ]
    }
  ],
  "metadata": {
    "kernelspec": {
      "display_name": "Python 3",
      "language": "python",
      "name": "python3"
    },
    "language_info": {
      "codemirror_mode": {
        "name": "ipython",
        "version": 3
      },
      "file_extension": ".py",
      "mimetype": "text/x-python",
      "name": "python",
      "nbconvert_exporter": "python",
      "pygments_lexer": "ipython3",
      "version": "3.10.10"
    }
  },
  "nbformat": 4,
  "nbformat_minor": 0
}