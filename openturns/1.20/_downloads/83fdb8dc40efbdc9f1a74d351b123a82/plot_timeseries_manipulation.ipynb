{
  "cells": [
    {
      "cell_type": "code",
      "execution_count": null,
      "metadata": {
        "collapsed": false
      },
      "outputs": [],
      "source": [
        "%matplotlib inline"
      ]
    },
    {
      "cell_type": "markdown",
      "metadata": {},
      "source": [
        "\n# Manipulate a time series\n"
      ]
    },
    {
      "cell_type": "markdown",
      "metadata": {},
      "source": [
        "The objective here is to create and manipulate a time series. A time series is a particular field where the mesh $\\mathcal{M}$ 1-d and regular, eg a time grid $(t_0, \\dots, t_{N-1})$.\n\nIt is possible to draw a time series, using interpolation between the values: see the use case on the Field.\n\nA time series can be obtained as a realization of a multivariate stochastic process  $X: \\Omega \\times [0,T] \\rightarrow \\mathbb{R}^d$   of dimension $d$ where $[0,T]$ is discretized according to the regular grid $(t_0, \\dots, t_{N-1})$ . The  values $(\\underline{x}_0, \\dots, \\underline{x}_{N-1})$ of the  time series are defined by:\n\n\\begin{align}\\forall i \\in [0, N-1],\\quad \\underline{x}_i= X(\\omega)(t_i)\\end{align}\n\n\nA time series is stored in the **TimeSeries** object that stores the regular time grid and the associated values.\n\n"
      ]
    },
    {
      "cell_type": "code",
      "execution_count": null,
      "metadata": {
        "collapsed": false
      },
      "outputs": [],
      "source": [
        "import openturns as ot\nimport openturns.viewer as viewer\nfrom matplotlib import pylab as plt\n\not.Log.Show(ot.Log.NONE)"
      ]
    },
    {
      "cell_type": "markdown",
      "metadata": {},
      "source": [
        "Create the RegularGrid\n\n"
      ]
    },
    {
      "cell_type": "code",
      "execution_count": null,
      "metadata": {
        "collapsed": false
      },
      "outputs": [],
      "source": [
        "tMin = 0.0\ntimeStep = 0.1\nN = 100\nmyTimeGrid = ot.RegularGrid(tMin, timeStep, N)"
      ]
    },
    {
      "cell_type": "markdown",
      "metadata": {},
      "source": [
        "Case 1: Create a time series from a time grid and values\nCare! The number of steps of the time grid must correspond to the size of the values\n\n"
      ]
    },
    {
      "cell_type": "code",
      "execution_count": null,
      "metadata": {
        "collapsed": false
      },
      "outputs": [],
      "source": [
        "myValues = ot.Normal(3).getSample(myTimeGrid.getVertices().getSize())\nmyTimeSeries = ot.TimeSeries(myTimeGrid, myValues)\nmyTimeSeries"
      ]
    },
    {
      "cell_type": "markdown",
      "metadata": {},
      "source": [
        "Case 2: Get a time series from a Process\n\n"
      ]
    },
    {
      "cell_type": "code",
      "execution_count": null,
      "metadata": {
        "collapsed": false
      },
      "outputs": [],
      "source": [
        "myProcess = ot.WhiteNoise(ot.Normal(3), myTimeGrid)\nmyTimeSeries2 = myProcess.getRealization()\nmyTimeSeries2"
      ]
    },
    {
      "cell_type": "markdown",
      "metadata": {},
      "source": [
        "Get the number of values of the time series\n\n"
      ]
    },
    {
      "cell_type": "code",
      "execution_count": null,
      "metadata": {
        "collapsed": false
      },
      "outputs": [],
      "source": [
        "myTimeSeries.getSize()"
      ]
    },
    {
      "cell_type": "markdown",
      "metadata": {},
      "source": [
        "Get the dimension of the values observed at each time\n\n"
      ]
    },
    {
      "cell_type": "code",
      "execution_count": null,
      "metadata": {
        "collapsed": false
      },
      "outputs": [],
      "source": [
        "myTimeSeries.getMesh().getDimension()"
      ]
    },
    {
      "cell_type": "markdown",
      "metadata": {},
      "source": [
        "Get the value Xi at index i\n\n"
      ]
    },
    {
      "cell_type": "code",
      "execution_count": null,
      "metadata": {
        "collapsed": false
      },
      "outputs": [],
      "source": [
        "i = 37\nprint(\"Xi = \", myTimeSeries.getValueAtIndex(i))"
      ]
    },
    {
      "cell_type": "markdown",
      "metadata": {},
      "source": [
        "Get the time series at index i : Xi\n\n"
      ]
    },
    {
      "cell_type": "code",
      "execution_count": null,
      "metadata": {
        "collapsed": false
      },
      "outputs": [],
      "source": [
        "i = 37\nprint(\"Xi = \", myTimeSeries[i])"
      ]
    },
    {
      "cell_type": "markdown",
      "metadata": {},
      "source": [
        "Get a the marginal value at index i of the time series\n\n"
      ]
    },
    {
      "cell_type": "code",
      "execution_count": null,
      "metadata": {
        "collapsed": false
      },
      "outputs": [],
      "source": [
        "i = 37\n# get the time stamp:\nprint(\"ti = \", myTimeSeries.getTimeGrid().getValue(i))\n# get the first component of the corresponding value :\nprint(\"Xi1 = \", myTimeSeries[i, 0])"
      ]
    },
    {
      "cell_type": "markdown",
      "metadata": {},
      "source": [
        "Get all the values (X1, .., Xn) of the time series\n\n"
      ]
    },
    {
      "cell_type": "code",
      "execution_count": null,
      "metadata": {
        "collapsed": false
      },
      "outputs": [],
      "source": [
        "myTimeSeries.getValues()"
      ]
    },
    {
      "cell_type": "markdown",
      "metadata": {},
      "source": [
        "Compute the temporal Mean\nIt corresponds to the mean of the values of the time series\n\n"
      ]
    },
    {
      "cell_type": "code",
      "execution_count": null,
      "metadata": {
        "collapsed": false
      },
      "outputs": [],
      "source": [
        "myTimeSeries.getInputMean()"
      ]
    },
    {
      "cell_type": "markdown",
      "metadata": {},
      "source": [
        "Draw the marginal i of the time series using linear interpolation\n\n"
      ]
    },
    {
      "cell_type": "code",
      "execution_count": null,
      "metadata": {
        "collapsed": false
      },
      "outputs": [],
      "source": [
        "graph = myTimeSeries.drawMarginal(0)\nview = viewer.View(graph)"
      ]
    },
    {
      "cell_type": "markdown",
      "metadata": {},
      "source": [
        "with no interpolation\n\n"
      ]
    },
    {
      "cell_type": "code",
      "execution_count": null,
      "metadata": {
        "collapsed": false
      },
      "outputs": [],
      "source": [
        "graph = myTimeSeries.drawMarginal(0, False)\nview = viewer.View(graph)\nplt.show()"
      ]
    }
  ],
  "metadata": {
    "kernelspec": {
      "display_name": "Python 3",
      "language": "python",
      "name": "python3"
    },
    "language_info": {
      "codemirror_mode": {
        "name": "ipython",
        "version": 3
      },
      "file_extension": ".py",
      "mimetype": "text/x-python",
      "name": "python",
      "nbconvert_exporter": "python",
      "pygments_lexer": "ipython3",
      "version": "3.10.7"
    }
  },
  "nbformat": 4,
  "nbformat_minor": 0
}