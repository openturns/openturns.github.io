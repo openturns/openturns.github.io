{
  "cells": [
    {
      "cell_type": "code",
      "execution_count": null,
      "metadata": {
        "collapsed": false
      },
      "outputs": [],
      "source": [
        "%matplotlib inline"
      ]
    },
    {
      "cell_type": "markdown",
      "metadata": {},
      "source": [
        "\n# Estimate Sobol indices on a field to point function\n"
      ]
    },
    {
      "cell_type": "markdown",
      "metadata": {},
      "source": [
        "In this example, we are going to perform sensitivity analysis of an application that takes\nfields as input and vectors as output from a sample of data:\n\n\\begin{align}h: \\left|\n      \\begin{array}{ccl}\n         \\cM_N \\times (\\Rset^d)^N & \\rightarrow & \\Rset^p \\\\\n         \\mat{X} & \\mapsto & \\vect{Y}\n      \\end{array}\n    \\right.\\end{align}\n\nThis involves these steps:\n\n- Generate some input/output data matching the application $h$\n- Run the :class:`~openturns.experimental.FieldToPointFunctionalChaosAlgorithm` class\n- Validate the Karhunen-Loeve decompositions of the inputs\n- Validate the chaos metamodel between the KL coefficients and the outputs\n- Retrieve the Sobol' indices from :class:`~openturns.FieldFunctionalChaosSobolIndices`\n\n\n"
      ]
    },
    {
      "cell_type": "code",
      "execution_count": null,
      "metadata": {
        "collapsed": false
      },
      "outputs": [],
      "source": [
        "import openturns as ot\nimport openturns.experimental as otexp\nfrom openturns.viewer import View"
      ]
    },
    {
      "cell_type": "markdown",
      "metadata": {},
      "source": [
        "First build a process to generate the input data.\nWe assemble a 4-d process from functional and Gaussian processes.\n\n"
      ]
    },
    {
      "cell_type": "code",
      "execution_count": null,
      "metadata": {
        "collapsed": false
      },
      "outputs": [],
      "source": [
        "T = 3.0\nNT = 32\ntg = ot.RegularGrid(0.0, T / NT, NT)\nf1 = ot.SymbolicFunction([\"t\"], [\"sin(t)\"])\nf2 = ot.SymbolicFunction([\"t\"], [\"cos(t)^2\"])\ncoeff1_dist = ot.Normal([1.0] * 2, [0.6] * 2, ot.CorrelationMatrix(2))\np1 = ot.FunctionalBasisProcess(coeff1_dist, ot.Basis([f1, f2]), tg)\np2 = ot.GaussianProcess(ot.SquaredExponential([1.0], [T / 4.0]), tg)\ncoeff3_dist = ot.ComposedDistribution([ot.Uniform(), ot.Normal()])\nf1 = ot.SymbolicFunction([\"t\"], [\"1\", \"0\"])\nf2 = ot.SymbolicFunction([\"t\"], [\"0\", \"1\"])\np3 = ot.FunctionalBasisProcess(coeff3_dist, ot.Basis([f1, f2]))\nX = ot.AggregatedProcess([p1, p2, p3])\nX.setMesh(tg)"
      ]
    },
    {
      "cell_type": "markdown",
      "metadata": {},
      "source": [
        "Draw some input trajectories from our process\n\n"
      ]
    },
    {
      "cell_type": "code",
      "execution_count": null,
      "metadata": {
        "collapsed": false
      },
      "outputs": [],
      "source": [
        "ot.RandomGenerator.SetSeed(0)\nx = X.getSample(10)\ngraph = x.drawMarginal(0)\ngraph.setTitle(f\"{x.getSize()} input trajectories\")\n_ = View(graph)"
      ]
    },
    {
      "cell_type": "markdown",
      "metadata": {},
      "source": [
        "Generate input realizations and the corresponding output from a Field->Point function\n\n"
      ]
    },
    {
      "cell_type": "code",
      "execution_count": null,
      "metadata": {
        "collapsed": false
      },
      "outputs": [],
      "source": [
        "class pyf2p(ot.OpenTURNSPythonFieldToPointFunction):\n    def __init__(self, mesh):\n        super(pyf2p, self).__init__(mesh, 4, 1)\n        self.setInputDescription([\"x1\", \"x2\", \"x3\", \"x4\"])\n        self.setOutputDescription([\"y\"])\n\n    def _exec(self, X):\n        Xs = ot.Sample(X)\n        x1, x2, x3, x4 = Xs.computeMean()\n        y = x1 + x2 + x3 - x4 + x1 * x2 - x3 * x4 - 0.1 * x1 * x2 * x3\n        return [y]\n\n\nf = ot.FieldToPointFunction(pyf2p(tg))\nN = 1000\nx = X.getSample(N)\ny = f(x)"
      ]
    },
    {
      "cell_type": "markdown",
      "metadata": {},
      "source": [
        "Run the field-vector algorithm that performs KL-decomposition of the inputs\nand chaos learning between the KL coefficients and the ouput vectors\n\n"
      ]
    },
    {
      "cell_type": "code",
      "execution_count": null,
      "metadata": {
        "collapsed": false
      },
      "outputs": [],
      "source": [
        "algo = otexp.FieldToPointFunctionalChaosAlgorithm(x, y)\n# 1. KL parameters\nalgo.setCenteredSample(False)  # our input sample is not centered (default)\nalgo.setThreshold(4e-2)  # we expect to explain 96% of variance\nalgo.setRecompress(\n    False\n)  # whether to re-truncate modes according to a global eigen value threshold across inputs (default)\nalgo.setNbModes(10)  # max KL modes (default=unlimited)\n# 2. chaos parameters:\nbs = ot.ResourceMap.GetAsUnsignedInteger(\"FunctionalChaosAlgorithm-BasisSize\")\not.ResourceMap.SetAsUnsignedInteger(\n    \"FunctionalChaosAlgorithm-BasisSize\", N\n)  # chaos basis size\not.ResourceMap.SetAsBool(\"FunctionalChaosAlgorithm-Sparse\", True)\nalgo.run()\not.ResourceMap.SetAsUnsignedInteger(\"FunctionalChaosAlgorithm-BasisSize\", bs)\nresult = algo.getResult()"
      ]
    },
    {
      "cell_type": "markdown",
      "metadata": {},
      "source": [
        "Retrieve the eigen values of each KL decomposition:\nwe observe that each input process is represented by a different number of modes.\n\n"
      ]
    },
    {
      "cell_type": "code",
      "execution_count": null,
      "metadata": {
        "collapsed": false
      },
      "outputs": [],
      "source": [
        "kl_results = result.getInputKLResultCollection()\nn_modes = [len(res.getEigenvalues()) for res in kl_results]\nprint(f\"n_modes={n_modes}\")"
      ]
    },
    {
      "cell_type": "markdown",
      "metadata": {},
      "source": [
        "Retrieve the ratios of selected variance over cumulated variance:\nwe see that all 3 inputs are perfectly represented, and the 2nd input almost perfectly.\n\n"
      ]
    },
    {
      "cell_type": "code",
      "execution_count": null,
      "metadata": {
        "collapsed": false
      },
      "outputs": [],
      "source": [
        "ratios = [res.getSelectionRatio() for res in kl_results]\nprint(f\"ratios={ratios}\")"
      ]
    },
    {
      "cell_type": "markdown",
      "metadata": {},
      "source": [
        "Graphically validate the KL decompositions:\nwe also see that the 2nd input appear to be less well represented than the others.\nNote however that the 0.98 selected/cumulated variance ratio actually means it is very good.\n\n"
      ]
    },
    {
      "cell_type": "code",
      "execution_count": null,
      "metadata": {
        "collapsed": false
      },
      "outputs": [],
      "source": [
        "graphs = []\nfor i in range(x.getDimension()):\n    validation = ot.KarhunenLoeveValidation(x.getMarginal(i), kl_results[i])\n    graph = validation.drawValidation().getGraph(0, 0)\n    graph.setTitle(f\"KL validation - marginal #{i} ratio={100.0 * ratios[i]:.2f} %\")\n    View(graph)\n    graphs.append(graph)"
      ]
    },
    {
      "cell_type": "markdown",
      "metadata": {},
      "source": [
        "On the 2nd marginal we can filter out the points inside the 99% level-set\nto see that actually only a few points out of N are actually outliers.\n\n"
      ]
    },
    {
      "cell_type": "code",
      "execution_count": null,
      "metadata": {
        "collapsed": false
      },
      "outputs": [],
      "source": [
        "graph = graphs[1]\ndata = graph.getDrawable(1).getData()\nnormal = ot.NormalFactory().build(data)\nlog_pdf = normal.computeLogPDF(data).asPoint()\nl_pair = [(log_pdf[i], data[i]) for i in range(len(data))]\nl_pair.sort(key=lambda t: t[0])\nindex_bad = int(0.01 * len(data))  # here 0.01 = (100-99)%\nbeta = l_pair[index_bad][0]\ngnorm = normal.drawLogPDF(data.getMin(), data.getMax())\nbad = [l_pair[i][1] for i in range(index_bad + 1)]\nc = ot.Cloud(bad)\nc.setPointStyle(\"bullet\")\nc.setColor(\"blue\")\ngraph.setDrawable(c, 1)\ndr = gnorm.getDrawable(0)\ndr.setLevels([beta])\ndr.setColor(\"red\")\ndr.setLegend(\"99% level-set\")\ngraph.add(dr)\n_ = View(graph)"
      ]
    },
    {
      "cell_type": "markdown",
      "metadata": {},
      "source": [
        "Inspect the chaos quality: residuals and relative errors.\nThe relative error is very low; that means the chaos decomposition performs very well.\n\n"
      ]
    },
    {
      "cell_type": "code",
      "execution_count": null,
      "metadata": {
        "collapsed": false
      },
      "outputs": [],
      "source": [
        "print(f\"residuals={result.getFCEResult().getResiduals()}\")\nprint(f\"relative errors={result.getFCEResult().getRelativeErrors()}\")"
      ]
    },
    {
      "cell_type": "markdown",
      "metadata": {},
      "source": [
        "Graphically validate the chaos result:\nwe can see the points are very close to the diagonal; this means\napproximated points are very close to the learning points.\n\n"
      ]
    },
    {
      "cell_type": "code",
      "execution_count": null,
      "metadata": {
        "collapsed": false
      },
      "outputs": [],
      "source": [
        "modes = result.getModesSample()\nmetamodel = result.getFCEResult().getMetaModel()\noutput = result.getOutputSample()\nvalidation = ot.MetaModelValidation(modes, output, metamodel)\nq2 = validation.computePredictivityFactor()\nprint(f\"q2={q2}\")\ngraph = validation.drawValidation()\ngraph.setTitle(f\"Chaos validation - q2={q2}\")\n_ = View(graph)"
      ]
    },
    {
      "cell_type": "markdown",
      "metadata": {},
      "source": [
        "Perform an evaluation on a new realization and ensure the output\nis close to the evaluation with the reference function\n\n"
      ]
    },
    {
      "cell_type": "code",
      "execution_count": null,
      "metadata": {
        "collapsed": false
      },
      "outputs": [],
      "source": [
        "metamodel = result.getFieldToPointMetamodel()\nx0 = X.getRealization()\ny0 = f(x0)\ny0hat = metamodel(x0)\nprint(f\"y0={y0} y0^={y0hat}\")"
      ]
    },
    {
      "cell_type": "markdown",
      "metadata": {},
      "source": [
        "Retrieve the first order Sobol' indices\nThe preponderant variables are x2, x4 whereas x1, x3 have a low influence on the output\n\n"
      ]
    },
    {
      "cell_type": "code",
      "execution_count": null,
      "metadata": {
        "collapsed": false
      },
      "outputs": [],
      "source": [
        "sensitivity = otexp.FieldFunctionalChaosSobolIndices(result)\nsobol_0 = sensitivity.getFirstOrderIndices()\nprint(f\"first order={sobol_0}\")"
      ]
    },
    {
      "cell_type": "markdown",
      "metadata": {},
      "source": [
        "Retrieve the total Sorder obol' indices\nThe x3,x4 variables have total order indices significantly different than\ntheir first order indices counterpart meaning they interact with other variables\n\n"
      ]
    },
    {
      "cell_type": "code",
      "execution_count": null,
      "metadata": {
        "collapsed": false
      },
      "outputs": [],
      "source": [
        "sobol_0t = sensitivity.getTotalOrderIndices()\nprint(f\"total order={sobol_0t}\")"
      ]
    },
    {
      "cell_type": "markdown",
      "metadata": {},
      "source": [
        "Draw the Sobol' indices\n\n"
      ]
    },
    {
      "cell_type": "code",
      "execution_count": null,
      "metadata": {
        "collapsed": false
      },
      "outputs": [],
      "source": [
        "graph = sensitivity.draw()\nview = View(graph)\n\nView.ShowAll()"
      ]
    }
  ],
  "metadata": {
    "kernelspec": {
      "display_name": "Python 3",
      "language": "python",
      "name": "python3"
    },
    "language_info": {
      "codemirror_mode": {
        "name": "ipython",
        "version": 3
      },
      "file_extension": ".py",
      "mimetype": "text/x-python",
      "name": "python",
      "nbconvert_exporter": "python",
      "pygments_lexer": "ipython3",
      "version": "3.10.9"
    }
  },
  "nbformat": 4,
  "nbformat_minor": 0
}