{
 "cells": [
  {
   "cell_type": "markdown",
   "metadata": {},
   "source": [
    "# Create a parametric spectral density function"
   ]
  },
  {
   "cell_type": "markdown",
   "metadata": {},
   "source": [
    "This example illustrates how the User can create a density spectral\n",
    "function from parametric models.\n",
    "\n",
    "The library implements the *Cauchy spectral model* as a parametric model for the spectral density function\n",
    "$S$.\n",
    "\n",
    "The library defines this model thanks to the object *CauchyModel*."
   ]
  },
  {
   "cell_type": "code",
   "execution_count": 1,
   "metadata": {},
   "outputs": [],
   "source": [
    "from __future__ import print_function\n",
    "import openturns as ot"
   ]
  },
  {
   "cell_type": "code",
   "execution_count": 5,
   "metadata": {},
   "outputs": [
    {
     "data": {
      "text/html": [
       "<p>class=CauchyModel amplitude=[4,5,6] scale=[1,2,3] spatial correlation=<br>\n",
       "[[ 1   0.8 0.6 ]<br>\n",
       " [ 0.8 1   0.1 ]<br>\n",
       " [ 0.6 0.1 1   ]]</p>"
      ],
      "text/plain": [
       "class=CauchyModel amplitude=class=Point name=Unnamed dimension=3 values=[4,5,6] scale=class=Point name=Unnamed dimension=3 values=[1,2,3] spatial correlation=class=CorrelationMatrix dimension=3 implementation=class=MatrixImplementation name=Unnamed rows=3 columns=3 values=[1,0.8,0.6,0.8,1,0.1,0.6,0.1,1] isDiagonal=false"
      ]
     },
     "execution_count": 5,
     "metadata": {},
     "output_type": "execute_result"
    }
   ],
   "source": [
    "# 1. Define a spectral density function from correlation matrix\n",
    "amplitude = [1.0, 2.0, 3.0]\n",
    "scale = [4.0, 5.0, 6.0]\n",
    "spatialCorrelation = ot.CorrelationMatrix(3)\n",
    "spatialCorrelation[0, 1] = 0.8\n",
    "spatialCorrelation[0, 2] = 0.6\n",
    "spatialCorrelation[1, 2] = 0.1\n",
    "spectralModel_Corr = ot.CauchyModel(amplitude, scale, spatialCorrelation)\n",
    "spectralModel_Corr"
   ]
  },
  {
   "cell_type": "code",
   "execution_count": 4,
   "metadata": {},
   "outputs": [
    {
     "data": {
      "text/html": [
       "<p>class=CauchyModel amplitude=[2,2.23607,2.44949] scale=[4,5,6] spatial correlation=<br>\n",
       "[[  1          0.268328   0.183712  ]<br>\n",
       " [  0.268328   1         -0.0365148 ]<br>\n",
       " [  0.183712  -0.0365148  1         ]]</p>"
      ],
      "text/plain": [
       "class=CauchyModel amplitude=class=Point name=Unnamed dimension=3 values=[2,2.23607,2.44949] scale=class=Point name=Unnamed dimension=3 values=[4,5,6] spatial correlation=class=CorrelationMatrix dimension=3 implementation=class=MatrixImplementation name=Unnamed rows=3 columns=3 values=[1,0.268328,0.183712,0.268328,1,-0.0365148,0.183712,-0.0365148,1] isDiagonal=false"
      ]
     },
     "execution_count": 4,
     "metadata": {},
     "output_type": "execute_result"
    }
   ],
   "source": [
    "# 2. Define a spectral density function from a covariance matrix\n",
    "spatialCovariance = ot.CovarianceMatrix(3)\n",
    "spatialCovariance[0, 0] = 4.0\n",
    "spatialCovariance[1, 1] = 5.0\n",
    "spatialCovariance[2, 2] = 6.0\n",
    "spatialCovariance[0, 1] = 1.2\n",
    "spatialCovariance[0, 2] = 0.9\n",
    "spatialCovariance[1, 2] = -0.2\n",
    "spectralModel_Cov = ot.CauchyModel(scale, spatialCovariance)\n",
    "spectralModel_Cov"
   ]
  }
 ],
 "metadata": {
  "kernelspec": {
   "display_name": "Python 3",
   "language": "python",
   "name": "python3"
  },
  "language_info": {
   "codemirror_mode": {
    "name": "ipython",
    "version": 3
   },
   "file_extension": ".py",
   "mimetype": "text/x-python",
   "name": "python",
   "nbconvert_exporter": "python",
   "pygments_lexer": "ipython3",
   "version": "3.6.5"
  }
 },
 "nbformat": 4,
 "nbformat_minor": 1
}
