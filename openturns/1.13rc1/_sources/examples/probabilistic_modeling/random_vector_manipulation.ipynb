{
 "cells": [
  {
   "cell_type": "markdown",
   "metadata": {},
   "source": [
    "\n",
    "# Random vector manipulation"
   ]
  },
  {
   "cell_type": "markdown",
   "metadata": {},
   "source": [
    "The RandomVector object represents the concept of random variable.\n",
    "\n",
    "In this example we are going to exhibit some of its main methods."
   ]
  },
  {
   "cell_type": "code",
   "execution_count": 2,
   "metadata": {},
   "outputs": [],
   "source": [
    "from __future__ import print_function\n",
    "import openturns as ot\n",
    "import math as m"
   ]
  },
  {
   "cell_type": "code",
   "execution_count": 7,
   "metadata": {},
   "outputs": [],
   "source": [
    "# Create a random vector\n",
    "dist3d = ot.Normal(3)\n",
    "X = ot.RandomVector(dist3d)"
   ]
  },
  {
   "cell_type": "code",
   "execution_count": 13,
   "metadata": {},
   "outputs": [
    {
     "data": {
      "text/plain": [
       "3"
      ]
     },
     "execution_count": 13,
     "metadata": {},
     "output_type": "execute_result"
    }
   ],
   "source": [
    "# Get the dimension\n",
    "X.getDimension()"
   ]
  },
  {
   "cell_type": "code",
   "execution_count": 8,
   "metadata": {},
   "outputs": [
    {
     "data": {
      "text/html": [
       "<p>[0,0,0]<br>\n",
       "</p>"
      ],
      "text/plain": [
       "class=Point name=Unnamed dimension=3 values=[0,0,0]"
      ]
     },
     "execution_count": 8,
     "metadata": {},
     "output_type": "execute_result"
    }
   ],
   "source": [
    "# Get the mean\n",
    "X.getMean()"
   ]
  },
  {
   "cell_type": "code",
   "execution_count": 10,
   "metadata": {},
   "outputs": [
    {
     "data": {
      "text/html": [
       "<p>[[ 1 0 0 ]<br>\n",
       " [ 0 1 0 ]<br>\n",
       " [ 0 0 1 ]]<br>\n",
       "</p>"
      ],
      "text/plain": [
       "class=CovarianceMatrix dimension=3 implementation=class=MatrixImplementation name=Unnamed rows=3 columns=3 values=[1,0,0,0,1,0,0,0,1]"
      ]
     },
     "execution_count": 10,
     "metadata": {},
     "output_type": "execute_result"
    }
   ],
   "source": [
    "# Get the covariance\n",
    "X.getCovariance()"
   ]
  },
  {
   "cell_type": "code",
   "execution_count": 11,
   "metadata": {},
   "outputs": [
    {
     "data": {
      "text/html": [
       "<TABLE><TR><TD></TD><TH>X0</TH><TH>X1</TH><TH>X2</TH></TR>\n",
       "<TR><TD>0</TD><TD>0.3500420865302907</TD><TD>-0.3550070491856397</TD><TD>1.437249310140903</TD></TR>\n",
       "<TR><TD>1</TD><TD>0.8106679824694837</TD><TD>0.79315601145977</TD><TD>-0.4705255986325704</TD></TR>\n",
       "<TR><TD>2</TD><TD>0.26101793529769673</TD><TD>-2.2900619818700854</TD><TD>-1.2828852904549808</TD></TR>\n",
       "<TR><TD>3</TD><TD>-1.311781115463341</TD><TD>-0.09078382658049489</TD><TD>0.9957932259165571</TD></TR>\n",
       "<TR><TD>4</TD><TD>-0.13945281896393122</TD><TD>-0.5602056000378475</TD><TD>0.4454896972990519</TD></TR>\n",
       "</TABLE>"
      ],
      "text/plain": [
       "class=Sample name=Normal implementation=class=SampleImplementation name=Normal size=5 dimension=3 description=[X0,X1,X2] data=[[0.350042,-0.355007,1.43725],[0.810668,0.793156,-0.470526],[0.261018,-2.29006,-1.28289],[-1.31178,-0.0907838,0.995793],[-0.139453,-0.560206,0.44549]]"
      ]
     },
     "execution_count": 11,
     "metadata": {},
     "output_type": "execute_result"
    }
   ],
   "source": [
    "# Draw a sample\n",
    "X.getSample(5)"
   ]
  },
  {
   "cell_type": "code",
   "execution_count": 5,
   "metadata": {},
   "outputs": [
    {
     "data": {
      "text/html": [
       "<TABLE><TR><TD></TD><TH>X1</TH></TR>\n",
       "<TR><TD>0</TD><TD>0.6082016512187646</TD></TR>\n",
       "<TR><TD>1</TD><TD>-1.2661731022166567</TD></TR>\n",
       "<TR><TD>2</TD><TD>-0.43826561996041397</TD></TR>\n",
       "<TR><TD>3</TD><TD>1.2054782008285756</TD></TR>\n",
       "<TR><TD>4</TD><TD>-2.1813852346165143</TD></TR>\n",
       "</TABLE>"
      ],
      "text/plain": [
       "class=Sample name=Normal implementation=class=SampleImplementation name=Normal size=5 dimension=1 description=[X1] data=[[0.608202],[-1.26617],[-0.438266],[1.20548],[-2.18139]]"
      ]
     },
     "execution_count": 5,
     "metadata": {},
     "output_type": "execute_result"
    }
   ],
   "source": [
    "# Extract a single component\n",
    "X1 = X.getMarginal(1)\n",
    "X1.getSample(5)"
   ]
  },
  {
   "cell_type": "code",
   "execution_count": 12,
   "metadata": {},
   "outputs": [
    {
     "data": {
      "text/html": [
       "<TABLE><TR><TD></TD><TH>X0</TH><TH>X2</TH></TR>\n",
       "<TR><TD>0</TD><TD>0.32292503034661274</TD><TD>0.44578529818450985</TD></TR>\n",
       "<TR><TD>1</TD><TD>-1.0380765948630941</TD><TD>-0.8567122780208447</TD></TR>\n",
       "<TR><TD>2</TD><TD>0.4736169171884015</TD><TD>-0.12549774541256004</TD></TR>\n",
       "<TR><TD>3</TD><TD>0.35141776801611424</TD><TD>1.7823586399387168</TD></TR>\n",
       "<TR><TD>4</TD><TD>0.070207359297043</TD><TD>-0.7813664602347197</TD></TR>\n",
       "</TABLE>"
      ],
      "text/plain": [
       "class=Sample name=Normal implementation=class=SampleImplementation name=Normal size=5 dimension=2 description=[X0,X2] data=[[0.322925,0.445785],[-1.03808,-0.856712],[0.473617,-0.125498],[0.351418,1.78236],[0.0702074,-0.781366]]"
      ]
     },
     "execution_count": 12,
     "metadata": {},
     "output_type": "execute_result"
    }
   ],
   "source": [
    "# Extract several components\n",
    "X02 = X.getMarginal([0, 2])\n",
    "X02.getSample(5)"
   ]
  }
 ],
 "metadata": {
  "kernelspec": {
   "display_name": "Python 3",
   "language": "python",
   "name": "python3"
  },
  "language_info": {
   "codemirror_mode": {
    "name": "ipython",
    "version": 3
   },
   "file_extension": ".py",
   "mimetype": "text/x-python",
   "name": "python",
   "nbconvert_exporter": "python",
   "pygments_lexer": "ipython3",
   "version": "3.5.2"
  }
 },
 "nbformat": 4,
 "nbformat_minor": 1
}
