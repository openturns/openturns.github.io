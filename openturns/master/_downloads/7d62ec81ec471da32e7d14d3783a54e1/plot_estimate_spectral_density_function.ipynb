{
  "cells": [
    {
      "cell_type": "markdown",
      "metadata": {},
      "source": [
        "\n# Estimate a spectral density function\n"
      ]
    },
    {
      "cell_type": "markdown",
      "metadata": {},
      "source": [
        "The objective of this example is to estimate the spectral density\nfunction $S$ from data, which can be a sample of time series or one time\nseries.\n\nThe following example illustrates the case where the available data is a\nsample of $10^3$ realizations of the process, defined on the time grid\n$[0, 102.3]$, discretized every $\\Delta t = 0.1$. The spectral model of\nthe process is the Cauchy model parameterized by $\\underline{\\lambda}=(5)$\nand $\\underline{a}=(3)$.\n\nThe figure draws the graph of the real spectral\nmodel and its estimation from the sample of time series.\n\n\n"
      ]
    },
    {
      "cell_type": "code",
      "execution_count": null,
      "metadata": {
        "collapsed": false
      },
      "outputs": [],
      "source": [
        "import openturns as ot\nimport openturns.viewer as otv\n\not.Log.Show(ot.Log.NONE)"
      ]
    },
    {
      "cell_type": "markdown",
      "metadata": {},
      "source": [
        "Generate some data\n\n"
      ]
    },
    {
      "cell_type": "code",
      "execution_count": null,
      "metadata": {
        "collapsed": false
      },
      "outputs": [],
      "source": [
        "# Create the time grid\n# In the context of the spectral estimate or Fourier transform use,\n# we use data blocs with size of form 2^p\ntMin = 0.0\ntstep = 0.1\nsize = 2**12\ntgrid = ot.RegularGrid(tMin, tstep, size)\n\n# We fix the parameter of the Cauchy model\namplitude = [5.0]\nscale = [3.0]\nmodel = ot.CauchyModel(amplitude, scale)\nprocess = ot.SpectralGaussianProcess(model, tgrid)\n\n# Get a time series or a sample of time series\ntseries = process.getRealization()\nsample = process.getSample(1000)"
      ]
    },
    {
      "cell_type": "markdown",
      "metadata": {},
      "source": [
        "Build a spectral model factory\n\n"
      ]
    },
    {
      "cell_type": "code",
      "execution_count": null,
      "metadata": {
        "collapsed": false
      },
      "outputs": [],
      "source": [
        "segmentNumber = 10\noverlapSize = 0.3\nfactory = ot.WelchFactory(ot.Hann(), segmentNumber, overlapSize)"
      ]
    },
    {
      "cell_type": "markdown",
      "metadata": {},
      "source": [
        "Estimation on a TimeSeries or on a ProcessSample\n\n"
      ]
    },
    {
      "cell_type": "code",
      "execution_count": null,
      "metadata": {
        "collapsed": false
      },
      "outputs": [],
      "source": [
        "estimatedModel_TS = factory.build(tseries)\nestimatedModel_PS = factory.build(sample)"
      ]
    },
    {
      "cell_type": "markdown",
      "metadata": {},
      "source": [
        "Change the filtering window\n\n"
      ]
    },
    {
      "cell_type": "code",
      "execution_count": null,
      "metadata": {
        "collapsed": false
      },
      "outputs": [],
      "source": [
        "factory.setFilteringWindows(ot.Hamming())"
      ]
    },
    {
      "cell_type": "markdown",
      "metadata": {},
      "source": [
        "Get the frequencyGrid\n\n"
      ]
    },
    {
      "cell_type": "code",
      "execution_count": null,
      "metadata": {
        "collapsed": false
      },
      "outputs": [],
      "source": [
        "frequencyGrid = ot.SpectralGaussianProcess(estimatedModel_PS, tgrid).getFrequencyGrid()"
      ]
    },
    {
      "cell_type": "code",
      "execution_count": null,
      "metadata": {
        "collapsed": false
      },
      "outputs": [],
      "source": [
        "# With the model, we want to compare values\n# We compare values computed with theoritical values\nplotSample = ot.Sample(frequencyGrid.getN(), 3)\n\n# Loop of comparison ==> data are saved in plotSample\nfor k in range(frequencyGrid.getN()):\n    freq = frequencyGrid.getStart() + k * frequencyGrid.getStep()\n    plotSample[k, 0] = freq\n    plotSample[k, 1] = abs(estimatedModel_PS(freq)[0, 0])\n    plotSample[k, 2] = abs(model(freq)[0, 0])\n\n# Some cosmetics : labels, legend position, ...\ngraph = ot.Graph(\n    \"Estimated spectral function - Validation\",\n    \"Frequency\",\n    \"Spectral density function\",\n    True,\n    \"upper right\",\n)\ngraph.setLogScale(ot.GraphImplementation.LOGY)\n\n# The first curve is the estimate density as function of frequency\ncurve1 = ot.Curve(plotSample.getMarginal([0, 1]))\ncurve1.setColor(\"blue\")\ncurve1.setLegend(\"estimate model\")\n\n# The second curve is the theoritical density as function of frequency\ncurve2 = ot.Curve(plotSample.getMarginal([0, 2]))\ncurve2.setColor(\"red\")\ncurve2.setLegend(\"Cauchy model\")\n\ngraph.add(curve1)\ngraph.add(curve2)\nview = otv.View(graph)\notv.View.ShowAll()"
      ]
    }
  ],
  "metadata": {
    "kernelspec": {
      "display_name": "Python 3",
      "language": "python",
      "name": "python3"
    },
    "language_info": {
      "codemirror_mode": {
        "name": "ipython",
        "version": 3
      },
      "file_extension": ".py",
      "mimetype": "text/x-python",
      "name": "python",
      "nbconvert_exporter": "python",
      "pygments_lexer": "ipython3",
      "version": "3.13.3"
    }
  },
  "nbformat": 4,
  "nbformat_minor": 0
}