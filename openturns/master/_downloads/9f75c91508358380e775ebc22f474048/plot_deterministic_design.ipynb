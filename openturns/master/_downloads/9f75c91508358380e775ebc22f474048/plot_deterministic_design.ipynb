{
  "cells": [
    {
      "cell_type": "markdown",
      "metadata": {},
      "source": [
        "\n# Deterministic design of experiments\n"
      ]
    },
    {
      "cell_type": "markdown",
      "metadata": {},
      "source": [
        "In this example we present the available deterministic design of experiments.\n\nFour types of deterministic design of experiments are available:\n\n- `Axial`\n- `Factorial`\n- `Composite`\n- `Box`\n\nEach type of deterministic design is discretized differently according to a number of levels.\n\nFunctionally speaking, a design is a `Sample` that lies within the unit cube $(0,1)^d$ and can be scaled and moved to cover the desired box.\n\n"
      ]
    },
    {
      "cell_type": "code",
      "execution_count": null,
      "metadata": {
        "collapsed": false
      },
      "outputs": [],
      "source": [
        "import openturns as ot\nimport openturns.viewer as viewer\nfrom matplotlib import pyplot as plt"
      ]
    },
    {
      "cell_type": "markdown",
      "metadata": {},
      "source": [
        "We will use the following function to plot bi-dimensional samples.\n\n"
      ]
    },
    {
      "cell_type": "code",
      "execution_count": null,
      "metadata": {
        "collapsed": false
      },
      "outputs": [],
      "source": [
        "def drawBidimensionalSample(sample, title):\n    n = sample.getSize()\n    graph = ot.Graph(\"%s, size=%d\" % (title, n), \"X1\", \"X2\", True, \"\")\n    cloud = ot.Cloud(sample)\n    graph.add(cloud)\n    return graph"
      ]
    },
    {
      "cell_type": "markdown",
      "metadata": {},
      "source": [
        "## Axial design\n\n"
      ]
    },
    {
      "cell_type": "code",
      "execution_count": null,
      "metadata": {
        "collapsed": false
      },
      "outputs": [],
      "source": [
        "levels = [1.0, 1.5, 3.0]\nexperiment = ot.Axial(2, levels)\nsample = experiment.generate()\ngraph = drawBidimensionalSample(sample, \"Axial\")\nview = viewer.View(graph)"
      ]
    },
    {
      "cell_type": "markdown",
      "metadata": {},
      "source": [
        "Scale and to get desired location.\n\n"
      ]
    },
    {
      "cell_type": "code",
      "execution_count": null,
      "metadata": {
        "collapsed": false
      },
      "outputs": [],
      "source": [
        "sample *= 2.0\nsample += [5.0, 8.0]\ngraph = drawBidimensionalSample(sample, \"Axial\")\nview = viewer.View(graph)"
      ]
    },
    {
      "cell_type": "markdown",
      "metadata": {},
      "source": [
        "## Factorial design\n\n\n"
      ]
    },
    {
      "cell_type": "code",
      "execution_count": null,
      "metadata": {
        "collapsed": false
      },
      "outputs": [],
      "source": [
        "experiment = ot.Factorial(2, levels)\nsample = experiment.generate()\nsample *= 2.0\nsample += [5.0, 8.0]\ngraph = drawBidimensionalSample(sample, \"Factorial\")\nview = viewer.View(graph)"
      ]
    },
    {
      "cell_type": "markdown",
      "metadata": {},
      "source": [
        "## Composite design\n\n"
      ]
    },
    {
      "cell_type": "code",
      "execution_count": null,
      "metadata": {
        "collapsed": false
      },
      "outputs": [],
      "source": [
        "experiment = ot.Composite(2, levels)\nsample = experiment.generate()\nsample *= 2.0\nsample += [5.0, 8.0]\ngraph = drawBidimensionalSample(sample, \"Composite\")\nview = viewer.View(graph)"
      ]
    },
    {
      "cell_type": "markdown",
      "metadata": {},
      "source": [
        "## Grid design\n\n\n"
      ]
    },
    {
      "cell_type": "code",
      "execution_count": null,
      "metadata": {
        "collapsed": false
      },
      "outputs": [],
      "source": [
        "levels = [3, 4]\nexperiment = ot.Box(levels)\nsample = experiment.generate()\nsample *= 2.0\nsample += [5.0, 8.0]\ngraph = drawBidimensionalSample(sample, \"Box\")\nview = viewer.View(graph)\nplt.show()"
      ]
    }
  ],
  "metadata": {
    "kernelspec": {
      "display_name": "Python 3",
      "language": "python",
      "name": "python3"
    },
    "language_info": {
      "codemirror_mode": {
        "name": "ipython",
        "version": 3
      },
      "file_extension": ".py",
      "mimetype": "text/x-python",
      "name": "python",
      "nbconvert_exporter": "python",
      "pygments_lexer": "ipython3",
      "version": "3.13.7"
    }
  },
  "nbformat": 4,
  "nbformat_minor": 0
}