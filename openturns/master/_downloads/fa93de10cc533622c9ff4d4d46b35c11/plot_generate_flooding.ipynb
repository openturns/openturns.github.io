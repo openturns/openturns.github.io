{
  "cells": [
    {
      "cell_type": "markdown",
      "metadata": {},
      "source": [
        "\n# Generate flooding model observations\n\nIn this example we are interested in the calibration of the `flooding model <use-case-flood-model>`.\nWe show how to produce the observations that we use in the calibration\nmodel of :doc:`Calibration of the flooding model\n</auto_calibration/least_squares_and_gaussian_calibration/plot_calibration_flooding>`.\n\nIn practice, we generally use a data set which has been obtained from\nmeasurements.\nIn this example, we generate the data using noisy observations of the\nphysical model.\nIn the next part, we will calibrate the parameters using the calibration\nalgorithms.\n"
      ]
    },
    {
      "cell_type": "markdown",
      "metadata": {},
      "source": [
        "## Parameters to calibrate\n\nThe variables to calibrate are $(K_s,Z_v,Z_m)$ and are set to the following values:\n\n\\begin{align}K_s = 30, \\qquad Z_v = 50, \\qquad Z_m = 55.\\end{align}\n\nThis is the set of *true* values that we wish to estimate with the calibration methods.\nIn practical studies, these values are unknown.\nIn this study, we will simulate noisy observations of the output of the model\nand estimate the parameters using calibration methods.\n\n## Observations\n\nIn this section, we describe the statistical model associated with the $n$ observations.\nThe errors of the water heights are associated with a normal distribution\nwith a zero mean and a standard variation equal to:\n\n\\begin{align}\\sigma=0.1.\\end{align}\n\n\nTherefore, the observed water heights are:\n\n\\begin{align}H_i = G(Q_i,K_s,Z_v,Z_m) + \\epsilon_i\\end{align}\n\n\nfor $i=1,...,n$ where\n\n\\begin{align}\\epsilon \\sim \\mathcal{N}(0,\\sigma^2)\\end{align}\n\n\nand we make the hypothesis that the observation errors are independent.\nWe consider a sample size equal to:\n\n\\begin{align}n = 10.\\end{align}\n\n\nThe observations are the couples $\\{(Q_i,H_i)\\}_{i=1,...,n}$, i.e. each observation is a\ncouple made of the flowrate and the corresponding river height.\n\n"
      ]
    },
    {
      "cell_type": "code",
      "execution_count": null,
      "metadata": {
        "collapsed": false
      },
      "outputs": [],
      "source": [
        "import openturns as ot\nimport openturns.viewer as otv\nimport numpy as np\nfrom openturns.usecases import flood_model"
      ]
    },
    {
      "cell_type": "markdown",
      "metadata": {},
      "source": [
        "Create the flooding model.\n\n"
      ]
    },
    {
      "cell_type": "code",
      "execution_count": null,
      "metadata": {
        "collapsed": false
      },
      "outputs": [],
      "source": [
        "def functionFlooding(X):\n    L = 5.0e3\n    B = 300.0\n    Q, K_s, Z_v, Z_m = X\n    alpha = (Z_m - Z_v) / L\n    H = (Q / (K_s * B * np.sqrt(alpha))) ** (3.0 / 5.0)\n    return [H]\n\n\ng = ot.PythonFunction(4, 1, functionFlooding)\ng = ot.MemoizeFunction(g)\ng.setInputDescription([\"Q (m3/s)\", \"Ks (m^(1/3)/s)\", \"Zv (m)\", \"Zm (m)\"])\ng.setOutputDescription([\"H (m)\"])"
      ]
    },
    {
      "cell_type": "markdown",
      "metadata": {},
      "source": [
        "Print the true values of the parameters.\n\n"
      ]
    },
    {
      "cell_type": "code",
      "execution_count": null,
      "metadata": {
        "collapsed": false
      },
      "outputs": [],
      "source": [
        "fm = flood_model.FloodModel()\nprint(\"Parameters\")\nprint(\"   Ks = \", fm.trueKs)\nprint(\"   Zv = \", fm.trueZv)\nprint(\"   Zm = \", fm.trueZm)"
      ]
    },
    {
      "cell_type": "markdown",
      "metadata": {},
      "source": [
        "Create the parametric function.\n\n"
      ]
    },
    {
      "cell_type": "code",
      "execution_count": null,
      "metadata": {
        "collapsed": false
      },
      "outputs": [],
      "source": [
        "calibratedIndices = [1, 2, 3]\nthetaTrue = [fm.trueKs, fm.trueZv, fm.trueZm]\nmycf = ot.ParametricFunction(g, calibratedIndices, thetaTrue)"
      ]
    },
    {
      "cell_type": "markdown",
      "metadata": {},
      "source": [
        "Create a regular grid of the flowrates and evaluate the corresponding outputs.\n\n"
      ]
    },
    {
      "cell_type": "code",
      "execution_count": null,
      "metadata": {
        "collapsed": false
      },
      "outputs": [],
      "source": [
        "nbobs = 10\nminQ = 100.0\nmaxQ = 4000.0\nstep = (maxQ - minQ) / (nbobs - 1)\nrg = ot.RegularGrid(minQ, step, nbobs)\nQobs = rg.getVertices()\noutputH = mycf(Qobs)"
      ]
    },
    {
      "cell_type": "markdown",
      "metadata": {},
      "source": [
        "Generate the observation noise and add it to the output of the model.\n\n"
      ]
    },
    {
      "cell_type": "code",
      "execution_count": null,
      "metadata": {
        "collapsed": false
      },
      "outputs": [],
      "source": [
        "sigmaObservationNoiseH = 0.1  # (m)\nnoiseH = ot.Normal(0.0, sigmaObservationNoiseH)\nsampleNoiseH = noiseH.getSample(nbobs)\nHobs = outputH + sampleNoiseH"
      ]
    },
    {
      "cell_type": "markdown",
      "metadata": {},
      "source": [
        "Gather the data into a sample.\n\n"
      ]
    },
    {
      "cell_type": "code",
      "execution_count": null,
      "metadata": {
        "collapsed": false
      },
      "outputs": [],
      "source": [
        "data = ot.Sample(nbobs, 2)\ndata[:, 0] = Qobs\ndata[:, 1] = Hobs\ndata.setDescription([\"Q (m3/s)\", \"H (m)\"])\ndata"
      ]
    },
    {
      "cell_type": "markdown",
      "metadata": {},
      "source": [
        "Plot the Y observations versus the X observations.\n\n"
      ]
    },
    {
      "cell_type": "code",
      "execution_count": null,
      "metadata": {
        "collapsed": false
      },
      "outputs": [],
      "source": [
        "graph = ot.Graph(\"Observations\", \"Q (m3/s)\", \"H (m)\", True)\n# Plot the model before calibration\ncurve = mycf.draw(100.0, 4000.0).getDrawable(0)\ncurve.setLegend(\"True model\")\ncurve.setLineStyle(ot.ResourceMap.GetAsString(\"CalibrationResult-ObservationLineStyle\"))\ngraph.add(curve)\n# Plot the noisy observations\ncloud = ot.Cloud(Qobs, Hobs)\ncloud.setLegend(\"Observations\")\ncloud.setPointStyle(\n    ot.ResourceMap.GetAsString(\"CalibrationResult-ObservationPointStyle\")\n)\ngraph.add(cloud)\n#\ngraph.setLegendPosition(\"upper left\")\nview = otv.View(graph)"
      ]
    },
    {
      "cell_type": "markdown",
      "metadata": {},
      "source": [
        "The data which are actually used in\n:doc:`Calibration of the flooding model </auto_calibration/least_squares_and_gaussian_calibration/plot_calibration_flooding>`\nare simplified so that the minimum number of significant digits is printed.\n\n"
      ]
    },
    {
      "cell_type": "code",
      "execution_count": null,
      "metadata": {
        "collapsed": false
      },
      "outputs": [],
      "source": [
        "otv.View.ShowAll()"
      ]
    }
  ],
  "metadata": {
    "kernelspec": {
      "display_name": "Python 3",
      "language": "python",
      "name": "python3"
    },
    "language_info": {
      "codemirror_mode": {
        "name": "ipython",
        "version": 3
      },
      "file_extension": ".py",
      "mimetype": "text/x-python",
      "name": "python",
      "nbconvert_exporter": "python",
      "pygments_lexer": "ipython3",
      "version": "3.12.5"
    }
  },
  "nbformat": 4,
  "nbformat_minor": 0
}