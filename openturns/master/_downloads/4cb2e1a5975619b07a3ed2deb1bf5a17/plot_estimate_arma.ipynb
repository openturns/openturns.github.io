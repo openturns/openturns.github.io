{
  "cells": [
    {
      "cell_type": "code",
      "execution_count": null,
      "metadata": {
        "collapsed": false
      },
      "outputs": [],
      "source": [
        "%matplotlib inline"
      ]
    },
    {
      "cell_type": "markdown",
      "metadata": {},
      "source": [
        "\n# Estimate a scalar ARMA process\n"
      ]
    },
    {
      "cell_type": "markdown",
      "metadata": {},
      "source": [
        "The objective here is to estimate an ARMA model from a scalar stationary\ntime series using the Whittle estimator and a centered normal white\nnoise.\n\nThe data can be a unique time series or several time series collected in\na process sample.\n\nIf the user specifies the order $(p,q)$, OpenTURNS fits a model\n$ARMA(p,q)$ to the data by estimating the coefficients\n$(a_1, \\dots, a_p), (b_1, \\dots, b_q)$ and the variance $\\sigma$ of the\nwhite noise.\n\nIf the User specifies a range of orders $(p,q) \\in Ind_p \\times Ind_q$,\nwhere $Ind_p = [p_1, p_2]$ and $Ind_q = [q_1, q_2]$, We find the *best*\nmodel $ARMA(p,q)$ that fits to the data and estimates the corresponding\ncoefficients.\n\nWe proceed as follows:\n\n-   the object *WhittleFactory* is created with either a specified order\n    $(p,q)$ or a range $Ind_p \\times Ind_q$. By default, the Welch\n    estimator (object *Welch*) is used with its default parameters.\n-   for each order $(p,q)$, the estimation of the parameters is done by\n    maximizing the reduced equation of the Whittle likelihood function\n    (\\[lik2\\]), thanks to the method *build* of the object\n    *WhittleFactory*. This method applies to a time series or a process\n    sample. If the user wants to get the quantified criteria\n    $AIC_c, AIC$ and *BIC* of the model $ARMA(p,q)$, he has to specify\n    it by giving a *Point* of size 0 (*Point()*) as input parameter of\n    the method *build*.\n-   the output of the estimation is, in all the cases, one unique ARMA:\n    the ARMA with the specified order or the optimal one with respect to\n    the $AIC_c$ criterion.\n-   in the case of a range $Ind_p \\times Ind_q$, the user can get all\n    the estimated models thanks to the method *getHistory* of the object\n    *WhittleFactory*. If the *build* has been parameterized by a *Point*\n    of size 0, the user also has access to all the quantified criteria.\n\nThe synthetic data is generated using the following 1-d ARMA process:\n\n\\begin{align}X_{0,t} + 0.4 X_{0,t-1} + 0.3 X_{0,t-2} + 0.2 X_{0,t-3} + 0.1 X_{0,t-4} = E_{0,t} + 0.4 E_{0,t-1} + 0.3 E_{0,t-2}\\end{align}\n\nwith the noise $E$ defined as:\n\n\\begin{align}E \\sim Triangular(-1, 0, 1)\\end{align}\n\n\n"
      ]
    },
    {
      "cell_type": "code",
      "execution_count": null,
      "metadata": {
        "collapsed": false
      },
      "outputs": [],
      "source": [
        "from __future__ import print_function\nimport openturns as ot\nimport matplotlib.pyplot as plt\not.RandomGenerator.SetSeed(0)\not.Log.Show(ot.Log.NONE)"
      ]
    },
    {
      "cell_type": "markdown",
      "metadata": {},
      "source": [
        "Create an arma process\n\n"
      ]
    },
    {
      "cell_type": "code",
      "execution_count": null,
      "metadata": {
        "collapsed": false
      },
      "outputs": [],
      "source": [
        "tMin = 0.0\nn = 1000\ntimeStep = 0.1\nmyTimeGrid = ot.RegularGrid(tMin, timeStep, n)\n\nmyWhiteNoise = ot.WhiteNoise(ot.Triangular(-1.0, 0.0, 1.0), myTimeGrid)\nmyARCoef = ot.ARMACoefficients([0.4, 0.3, 0.2, 0.1])\nmyMACoef = ot.ARMACoefficients([0.4, 0.3])\narma = ot.ARMA(myARCoef, myMACoef, myWhiteNoise)\n\ntseries = ot.TimeSeries(arma.getRealization())\n\n# Create a sample of N time series from the process\nN = 100\nsample = arma.getSample(N)"
      ]
    },
    {
      "cell_type": "markdown",
      "metadata": {},
      "source": [
        "CASE 1 : we specify a (p,q) order\n\n"
      ]
    },
    {
      "cell_type": "code",
      "execution_count": null,
      "metadata": {
        "collapsed": false
      },
      "outputs": [],
      "source": [
        "# Specify the order (p,q)\np = 4\nq = 2\n\n# Create the estimator\nfactory = ot.WhittleFactory(p, q)\nprint(\"Default spectral model factory = \", factory.getSpectralModelFactory())\n\n# To set the spectral model factory\n# For example, set WelchFactory as SpectralModelFactory\n# with the Hann filtering window\n# The Welch estimator splits the time series in four blocs without overlap\nmyFilteringWindow = ot.Hann()\nmySpectralFactory = ot.WelchFactory(myFilteringWindow, 4, 0)\nfactory.setSpectralModelFactory(mySpectralFactory)\nprint(\"New spectral model factory = \", factory.getSpectralModelFactory())\n\n# Estimate the ARMA model from a time series\n# To get the quantified AICc, AIC and BIC criteria\narma42, criterion = factory.buildWithCriteria(tseries)\nAICc, AIC, BIC = criterion[0:3]\nprint('AICc=', AICc, 'AIC=', AIC, 'BIC=', BIC)\narma42"
      ]
    },
    {
      "cell_type": "markdown",
      "metadata": {},
      "source": [
        "CASE 2 : we specify a range of (p,q) orders\n\n"
      ]
    },
    {
      "cell_type": "code",
      "execution_count": null,
      "metadata": {
        "collapsed": false
      },
      "outputs": [],
      "source": [
        "# Range for p\npIndices = [1, 2, 4]\n# Range for q = [4,5,6]\nqIndices = [4, 5, 6]\n\n# Build a Whittle factory with default SpectralModelFactory (WelchFactory)\n# this time using ranges of order p and q\nfactory_range = ot.WhittleFactory(pIndices, qIndices)\n\n# Estimate the arma model from a process sample\narma_range, criterion = factory_range.buildWithCriteria(sample)\nAICc, AIC, BIC = criterion[0:3]\nprint('AICc=', AICc, 'AIC=', AIC, 'BIC=', BIC)\narma_range"
      ]
    },
    {
      "cell_type": "markdown",
      "metadata": {},
      "source": [
        "Results exploitation\n\n"
      ]
    },
    {
      "cell_type": "code",
      "execution_count": null,
      "metadata": {
        "collapsed": false
      },
      "outputs": [],
      "source": [
        "# Get the white noise of the (best) estimated arma\narma_range.getWhiteNoise()"
      ]
    }
  ],
  "metadata": {
    "kernelspec": {
      "display_name": "Python 3",
      "language": "python",
      "name": "python3"
    },
    "language_info": {
      "codemirror_mode": {
        "name": "ipython",
        "version": 3
      },
      "file_extension": ".py",
      "mimetype": "text/x-python",
      "name": "python",
      "nbconvert_exporter": "python",
      "pygments_lexer": "ipython3",
      "version": "3.10.4"
    }
  },
  "nbformat": 4,
  "nbformat_minor": 0
}