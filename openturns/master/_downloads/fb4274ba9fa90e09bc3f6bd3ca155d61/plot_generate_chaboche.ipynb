{
  "cells": [
    {
      "cell_type": "markdown",
      "metadata": {},
      "source": [
        "\n# Generate observations of the Chaboche mechanical model\n\nIn this example we present the simulation of noisy observations of the Chaboche model.\nA detailed explanation of this mechanical law is presented `here <use-case-chaboche>`.\nWe show how to produce the observations that we use in the calibration\nmodel of :doc:`Calibration of the Chaboche model\n</auto_calibration/least_squares_and_gaussian_calibration/plot_calibration_chaboche>`.\n\n## Parameters to calibrate\n\nThe vector of parameters to calibrate is:\n\n\\begin{align}\\theta = (R,C,\\gamma).\\end{align}\n\n\nThe true values of the parameters are:\n\n- $R = 750\\times 10^6$,\n- $C = 2750\\times 10^6$,\n- $\\gamma = 10$.\n\nThis is the set of *true* values that we wish to estimate with the calibration\nmethods.\nIn practical studies, these values are unknown.\n\n## Observations\n\nIn order to create a calibration problem, we make the hypothesis that the\nstrain has the following distribution:\n\n\\begin{align}\\epsilon \\sim \\mathcal{U}(0,0.07).\\end{align}\n\nwhere $\\mathcal{U}$ is the uniform distribution.\nMoreover, we consider a Gaussian noise on the observed constraint:\n\n\\begin{align}\\epsilon_\\sigma \\sim \\mathcal{N} \\left(0,10\\times 10^6\\right)\\end{align}\n\n\nand we make the hypothesis that the observation errors are independent.\nWe set the number of observations to:\n\n\\begin{align}n = 10.\\end{align}\n\n\nWe generate a Monte-Carlo sample with size $n$:\n\n\\begin{align}\\sigma_i = g(\\epsilon_i,R,C,\\gamma) + (\\epsilon_\\sigma)_i,\\end{align}\n\n\nfor $i = 1,..., n$.\nThe observations are the pairs $\\{(\\epsilon_i,\\sigma_i)\\}_{i=1,...,n}$,\ni.e. each observation is a couple made of the strain and the corresponding stress.\n\n## Variables\n\nIn the particular situation where we want to calibrate this model, the following\nlist presents which variables are observed input variables, input calibrated\nvariables and observed output variables.\n\n- $\\epsilon$: Input. Observed.\n- $R$, $C$, $\\gamma$ : Inputs. Calibrated.\n- $\\sigma$: Output. Observed.\n"
      ]
    },
    {
      "cell_type": "code",
      "execution_count": null,
      "metadata": {
        "collapsed": false
      },
      "outputs": [],
      "source": [
        "import openturns as ot\nimport openturns.viewer as otv\nfrom openturns.usecases import chaboche_model\n\not.Log.Show(ot.Log.NONE)"
      ]
    },
    {
      "cell_type": "markdown",
      "metadata": {},
      "source": [
        "## Generate the observations\nIn practice, we generally use a data set which has been obtained from\nmeasurements.\nIn this example, we generate the data using noisy observations of the\nphysical model.\nIn the next part, we will calibrate the parameters using the calibration\nalgorithms.\n\n"
      ]
    },
    {
      "cell_type": "markdown",
      "metadata": {},
      "source": [
        "Load the Chaboche model\n\n"
      ]
    },
    {
      "cell_type": "code",
      "execution_count": null,
      "metadata": {
        "collapsed": false
      },
      "outputs": [],
      "source": [
        "cm = chaboche_model.ChabocheModel()\nprint(\"Inputs:\", cm.model.getInputDescription())\nprint(\"Outputs:\", cm.model.getOutputDescription())"
      ]
    },
    {
      "cell_type": "markdown",
      "metadata": {},
      "source": [
        "We see that there are four inputs: `Strain`, `R`, `C` and `Gamma` and one\noutput: `Sigma`.\nThe `Strain` is observed on input and the stress `Sigma` is observed on\noutput.\nUsing these observations, we want to estimate the parameters `R`, `C`\nand `Gamma`.\n\n"
      ]
    },
    {
      "cell_type": "markdown",
      "metadata": {},
      "source": [
        "We get the Chaboche model and the joint input distribution :\n\n"
      ]
    },
    {
      "cell_type": "code",
      "execution_count": null,
      "metadata": {
        "collapsed": false
      },
      "outputs": [],
      "source": [
        "inputDistribution = cm.inputDistribution\nprint(\"inputDistribution:\")\ninputDistribution"
      ]
    },
    {
      "cell_type": "markdown",
      "metadata": {},
      "source": [
        "## Set the calibration parameters\nIn this part, we begin the calibration study.\nDefine the value of the reference values of the $\\theta$ parameter.\nIn the Bayesian framework, this is called the mean of the *prior* Gaussian\ndistribution. In the data assimilation framework, this is called the *background*.\n\n"
      ]
    },
    {
      "cell_type": "code",
      "execution_count": null,
      "metadata": {
        "collapsed": false
      },
      "outputs": [],
      "source": [
        "thetaTrue = [cm.trueR, cm.trueC, cm.trueGamma]\nprint(\"theta True = \")\nprint(\"    R = %.2f (MPa)\" % (cm.trueR / 1.0e6))\nprint(\"    C = %.2f (MPa)\" % (cm.trueC / 1.0e6))\nprint(\"    Gamma = %.4f\" % (cm.trueGamma))"
      ]
    },
    {
      "cell_type": "markdown",
      "metadata": {},
      "source": [
        "The following statement create the calibrated function from the model.\nThe calibrated parameters `R`, `C`, `Gamma` are at indices 1, 2, 3 in\nthe inputs arguments of the model.\n\n"
      ]
    },
    {
      "cell_type": "code",
      "execution_count": null,
      "metadata": {
        "collapsed": false
      },
      "outputs": [],
      "source": [
        "calibratedIndices = [1, 2, 3]\nmycf = ot.ParametricFunction(cm.model, calibratedIndices, thetaTrue)"
      ]
    },
    {
      "cell_type": "markdown",
      "metadata": {},
      "source": [
        "Create a regular grid of the strains and evaluate the corresponding outputs.\n\n"
      ]
    },
    {
      "cell_type": "code",
      "execution_count": null,
      "metadata": {
        "collapsed": false
      },
      "outputs": [],
      "source": [
        "nbobs = 10\nstep = (cm.strainMax - cm.strainMin) / (nbobs - 1)\nrg = ot.RegularGrid(cm.strainMin, step, nbobs)\nobservedStrain = rg.getVertices()\npredictedStress = mycf(observedStrain)"
      ]
    },
    {
      "cell_type": "markdown",
      "metadata": {},
      "source": [
        "Generate observation noise.\nHere we consider a Gaussian observation noise, that we add\nto the output of the model.\n\n"
      ]
    },
    {
      "cell_type": "code",
      "execution_count": null,
      "metadata": {
        "collapsed": false
      },
      "outputs": [],
      "source": [
        "stressObservationNoiseSigma = 10.0e6  # (Pa)\nnoiseSigma = ot.Normal(0.0, stressObservationNoiseSigma)\nsampleNoiseStress = noiseSigma.getSample(nbobs)\nobservedStress = predictedStress + sampleNoiseStress"
      ]
    },
    {
      "cell_type": "markdown",
      "metadata": {},
      "source": [
        "Gather the data into a sample.\n\n"
      ]
    },
    {
      "cell_type": "code",
      "execution_count": null,
      "metadata": {
        "collapsed": false
      },
      "outputs": [],
      "source": [
        "data = ot.Sample(nbobs, 2)\ndata[:, 0] = observedStrain\ndata[:, 1] = observedStress\ndata.setDescription([\"Strain\", \"Stress (Pa)\"])\ndata"
      ]
    },
    {
      "cell_type": "markdown",
      "metadata": {},
      "source": [
        "Then we plot the model and compare it to the observations.\n\n"
      ]
    },
    {
      "cell_type": "code",
      "execution_count": null,
      "metadata": {
        "collapsed": false
      },
      "outputs": [],
      "source": [
        "graph = ot.Graph(\"Model with true parameters\", \"Strain\", \"Stress (MPa)\", True)\n# Plot the model\ncurve = mycf.draw(cm.strainMin, cm.strainMax, 50).getDrawable(0)\ncurve.setLegend(\"True model\")\ncurve.setLineStyle(ot.ResourceMap.GetAsString(\"CalibrationResult-ObservationLineStyle\"))\ngraph.add(curve)\n# Plot the noisy observations\ncloud = ot.Cloud(observedStrain, observedStress)\ncloud.setLegend(\"Observations\")\ncloud.setPointStyle(\n    ot.ResourceMap.GetAsString(\"CalibrationResult-ObservationPointStyle\")\n)\ngraph.add(cloud)\ngraph.setLegendPosition(\"upper left\")\nview = otv.View(graph)"
      ]
    },
    {
      "cell_type": "markdown",
      "metadata": {},
      "source": [
        "We see that the observations are relatively noisy, but that the\ntrend is clear: this shows that it may be possible to fit the model.\nAt this point, we have a data set that we can use for calibration\nand a model to calibrate.\n\n"
      ]
    },
    {
      "cell_type": "code",
      "execution_count": null,
      "metadata": {
        "collapsed": false
      },
      "outputs": [],
      "source": [
        "otv.View.ShowAll()"
      ]
    }
  ],
  "metadata": {
    "kernelspec": {
      "display_name": "Python 3",
      "language": "python",
      "name": "python3"
    },
    "language_info": {
      "codemirror_mode": {
        "name": "ipython",
        "version": 3
      },
      "file_extension": ".py",
      "mimetype": "text/x-python",
      "name": "python",
      "nbconvert_exporter": "python",
      "pygments_lexer": "ipython3",
      "version": "3.13.2"
    }
  },
  "nbformat": 4,
  "nbformat_minor": 0
}