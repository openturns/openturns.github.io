{
  "cells": [
    {
      "cell_type": "markdown",
      "metadata": {},
      "source": [
        "\n# Create a Joint by Conditioning  distribution\n"
      ]
    },
    {
      "cell_type": "markdown",
      "metadata": {},
      "source": [
        "In this example we are going to build the distribution of the random vector:\n\n\\begin{align}(Y, \\vect{X}|\\vect{\\Theta})\\end{align}\n\nwith $\\vect{X}$ conditioned by the random vector $\\vect{\\Theta}$ obtained with the random variable $Y$ through a function $f$:\n\n\\begin{align}\\vect{\\Theta} = f(\\vect{Y})\\end{align}\n\n\n"
      ]
    },
    {
      "cell_type": "code",
      "execution_count": null,
      "metadata": {
        "collapsed": false
      },
      "outputs": [],
      "source": [
        "import openturns as ot\nimport openturns.viewer as viewer"
      ]
    },
    {
      "cell_type": "markdown",
      "metadata": {},
      "source": [
        "We consider the following case: $X|\\vect{\\Theta} \\sim \\cN(\\vect{\\Theta})$\nwith $\\vect{\\Theta} = (Y, 0.1 + Y^2)$ and $Y \\sim \\cN(0,1)$.\n\nWe first create the $Y$ distribution:\n\n"
      ]
    },
    {
      "cell_type": "code",
      "execution_count": null,
      "metadata": {
        "collapsed": false
      },
      "outputs": [],
      "source": [
        "YDist = ot.Normal(0.0, 1.0)"
      ]
    },
    {
      "cell_type": "markdown",
      "metadata": {},
      "source": [
        "Then we create the link function $f: y \\rightarrow (y, 0.1+y^2)$:\n\n"
      ]
    },
    {
      "cell_type": "code",
      "execution_count": null,
      "metadata": {
        "collapsed": false
      },
      "outputs": [],
      "source": [
        "f = ot.SymbolicFunction([\"y\"], [\"y\", \"0.1 + y^2\"])"
      ]
    },
    {
      "cell_type": "markdown",
      "metadata": {},
      "source": [
        "Then, we create the $\\vect{X}|\\vect{\\Theta}$ distribution:\n\n"
      ]
    },
    {
      "cell_type": "code",
      "execution_count": null,
      "metadata": {
        "collapsed": false
      },
      "outputs": [],
      "source": [
        "XgivenThetaDist = ot.Normal()"
      ]
    },
    {
      "cell_type": "markdown",
      "metadata": {},
      "source": [
        "At last, we create the distribution of $(Y,X)$:\n\n"
      ]
    },
    {
      "cell_type": "code",
      "execution_count": null,
      "metadata": {
        "collapsed": false
      },
      "outputs": [],
      "source": [
        "XDist = ot.JointByConditioningDistribution(XgivenThetaDist, YDist, f)\nXDist.setDescription([\"Y\", r\"$X|\\mathbf{\\boldsymbol{\\Theta}} = f(Y)$\"])\nXDist"
      ]
    },
    {
      "cell_type": "markdown",
      "metadata": {},
      "source": [
        "Get a sample:\n\n"
      ]
    },
    {
      "cell_type": "code",
      "execution_count": null,
      "metadata": {
        "collapsed": false
      },
      "outputs": [],
      "source": [
        "sample = XDist.getSample(100)"
      ]
    },
    {
      "cell_type": "markdown",
      "metadata": {},
      "source": [
        "Draw the PDF:\n\n"
      ]
    },
    {
      "cell_type": "code",
      "execution_count": null,
      "metadata": {
        "collapsed": false
      },
      "outputs": [],
      "source": [
        "ot.ResourceMap.SetAsString(\"Contour-DefaultColorMapNorm\", \"rank\")\ngraph = XDist.drawPDF(sample.getMin(), sample.getMax(), [256] * 2)\ngraph.setTitle(r\"$(Y,X)$ iso-PDF\")\ncloud = ot.Cloud(sample)\ncloud.setColor(\"red\")\ncloud.setLegend(\"sample\")\ngraph.add(cloud)\nview = viewer.View(graph)"
      ]
    },
    {
      "cell_type": "code",
      "execution_count": null,
      "metadata": {
        "collapsed": false
      },
      "outputs": [],
      "source": [
        "view.ShowAll()"
      ]
    }
  ],
  "metadata": {
    "kernelspec": {
      "display_name": "Python 3",
      "language": "python",
      "name": "python3"
    },
    "language_info": {
      "codemirror_mode": {
        "name": "ipython",
        "version": 3
      },
      "file_extension": ".py",
      "mimetype": "text/x-python",
      "name": "python",
      "nbconvert_exporter": "python",
      "pygments_lexer": "ipython3",
      "version": "3.13.3"
    }
  },
  "nbformat": 4,
  "nbformat_minor": 0
}