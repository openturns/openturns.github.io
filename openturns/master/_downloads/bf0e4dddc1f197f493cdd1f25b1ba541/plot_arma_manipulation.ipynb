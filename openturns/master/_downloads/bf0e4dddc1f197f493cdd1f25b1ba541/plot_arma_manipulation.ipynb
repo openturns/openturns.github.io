{
  "cells": [
    {
      "cell_type": "code",
      "execution_count": null,
      "metadata": {
        "collapsed": false
      },
      "outputs": [],
      "source": [
        "%matplotlib inline"
      ]
    },
    {
      "cell_type": "markdown",
      "metadata": {},
      "source": [
        "\n# ARMA process manipulation\n"
      ]
    },
    {
      "cell_type": "markdown",
      "metadata": {},
      "source": [
        "In this example we will expose some of the services exposed by an $ARMA(p,q)$ object, namely:\n\n-  its AR and MA coefficients thanks to the methods *getARCoefficients,\n   getMACoefficients*,\n\n-  its white noise thanks to the method *getWhiteNoise*, that contains\n   the time grid of the process,\n\n-  its current state, that is its last $p$ values and the last\n   $q$ values of its white noise, thanks to the method *getState*,\n\n-  a realization thanks to the method *getRealization* or a sample of realizations thanks to the method *getSample*,\n\n-  a possible future of the model, which is a possible prolongation of\n   the current state on the next $n_{prol}$ instants, thanks to\n   the method *getFuture*.\n\n-  $n$ possible futures of the model, which correspond to\n   $n$ possible prolongations of the current state on the next\n   $n_{prol}$ instants, thanks to the method\n   *getFuture* ($n_{prol}$, $n$).\n\n"
      ]
    },
    {
      "cell_type": "code",
      "execution_count": null,
      "metadata": {
        "collapsed": false
      },
      "outputs": [],
      "source": [
        "from __future__ import print_function\nimport openturns as ot\nimport openturns.viewer as viewer\nfrom matplotlib import pylab as plt\nimport math as m\not.Log.Show(ot.Log.NONE)"
      ]
    },
    {
      "cell_type": "markdown",
      "metadata": {},
      "source": [
        "Create an ARMA process\n\n"
      ]
    },
    {
      "cell_type": "code",
      "execution_count": null,
      "metadata": {
        "collapsed": false
      },
      "outputs": [],
      "source": [
        "# Create the mesh\ntMin = 0.\ntime_step = 0.1\nn = 100\ntime_grid = ot.RegularGrid(tMin, time_step, n)\n\n# Create the distribution of dimension 1 or 3\n# Care : the mean must be NULL\nmyDist_1 = ot.Triangular(-1., 0.0, 1.)\n\n# Create  a white noise of dimension 1\nmyWN_1d = ot.WhiteNoise(myDist_1, time_grid)\n\n# Create the ARMA model : ARMA(4,2) in dimension 1\nmyARCoef = ot.ARMACoefficients([0.4, 0.3, 0.2, 0.1])\nmyMACoef = ot.ARMACoefficients([0.4, 0.3])\narma = ot.ARMA(myARCoef, myMACoef, myWN_1d)"
      ]
    },
    {
      "cell_type": "markdown",
      "metadata": {},
      "source": [
        "Check the linear recurrence\n\n"
      ]
    },
    {
      "cell_type": "code",
      "execution_count": null,
      "metadata": {
        "collapsed": false
      },
      "outputs": [],
      "source": [
        "arma"
      ]
    },
    {
      "cell_type": "markdown",
      "metadata": {},
      "source": [
        "Get the coefficients of the recurrence\n\n"
      ]
    },
    {
      "cell_type": "code",
      "execution_count": null,
      "metadata": {
        "collapsed": false
      },
      "outputs": [],
      "source": [
        "print('AR coeff = ', arma.getARCoefficients())\nprint('MA coeff = ', arma.getMACoefficients())"
      ]
    },
    {
      "cell_type": "markdown",
      "metadata": {},
      "source": [
        "Get the white noise\n\n"
      ]
    },
    {
      "cell_type": "code",
      "execution_count": null,
      "metadata": {
        "collapsed": false
      },
      "outputs": [],
      "source": [
        "myWhiteNoise = arma.getWhiteNoise()\nmyWhiteNoise"
      ]
    },
    {
      "cell_type": "markdown",
      "metadata": {},
      "source": [
        "Generate one time series\n\n"
      ]
    },
    {
      "cell_type": "code",
      "execution_count": null,
      "metadata": {
        "collapsed": false
      },
      "outputs": [],
      "source": [
        "ts = arma.getRealization()\nts.setName('ARMA realization')"
      ]
    },
    {
      "cell_type": "markdown",
      "metadata": {},
      "source": [
        "Draw the time series : marginal index 0\n\n"
      ]
    },
    {
      "cell_type": "code",
      "execution_count": null,
      "metadata": {
        "collapsed": false
      },
      "outputs": [],
      "source": [
        "graph = ts.drawMarginal(0)\nview = viewer.View(graph)"
      ]
    },
    {
      "cell_type": "markdown",
      "metadata": {},
      "source": [
        "Generate a k time series\n\n"
      ]
    },
    {
      "cell_type": "code",
      "execution_count": null,
      "metadata": {
        "collapsed": false
      },
      "outputs": [],
      "source": [
        "k = 5\nmyProcessSample = arma.getSample(k)\n\n# Then get the current state of the ARMA\narmaState = arma.getState()\n# From the armaState, get the last values\nmyLastValues = armaState.getX()\n# From the ARMAState, get the last noise values\nmyLastEpsilonValues = armaState.getEpsilon()"
      ]
    },
    {
      "cell_type": "markdown",
      "metadata": {},
      "source": [
        "Get the number of iterations before getting a stationary state\n\n"
      ]
    },
    {
      "cell_type": "code",
      "execution_count": null,
      "metadata": {
        "collapsed": false
      },
      "outputs": [],
      "source": [
        "arma.getNThermalization()"
      ]
    },
    {
      "cell_type": "markdown",
      "metadata": {},
      "source": [
        "This may be important to evaluate it with another precision epsilon\n\n"
      ]
    },
    {
      "cell_type": "code",
      "execution_count": null,
      "metadata": {
        "collapsed": false
      },
      "outputs": [],
      "source": [
        "epsilon = 1e-8\nnewThermalValue = arma.computeNThermalization(epsilon)\narma.setNThermalization(newThermalValue)"
      ]
    },
    {
      "cell_type": "markdown",
      "metadata": {},
      "source": [
        "Make a prediction from the curent state of the ARMA\non the next Nit instants\n\n"
      ]
    },
    {
      "cell_type": "code",
      "execution_count": null,
      "metadata": {
        "collapsed": false
      },
      "outputs": [],
      "source": [
        "Nit = 100\n# at first, specify a current state armaState\narma = ot.ARMA(myARCoef, myMACoef, myWhiteNoise, armaState)\n\n# then, generate a possible future\nfuture = arma.getFuture(Nit)"
      ]
    },
    {
      "cell_type": "markdown",
      "metadata": {},
      "source": [
        "Generate N possible futures on the Nit next points\n\n"
      ]
    },
    {
      "cell_type": "code",
      "execution_count": null,
      "metadata": {
        "collapsed": false
      },
      "outputs": [],
      "source": [
        "N = 5\npossibleFuture_N = arma.getFuture(Nit, N)\npossibleFuture_N.setName('Possible futures')\n\n# Draw the future : marginal index 0\ngraph = possibleFuture_N.drawMarginal(0)\nview = viewer.View(graph)\nplt.show()"
      ]
    }
  ],
  "metadata": {
    "kernelspec": {
      "display_name": "Python 3",
      "language": "python",
      "name": "python3"
    },
    "language_info": {
      "codemirror_mode": {
        "name": "ipython",
        "version": 3
      },
      "file_extension": ".py",
      "mimetype": "text/x-python",
      "name": "python",
      "nbconvert_exporter": "python",
      "pygments_lexer": "ipython3",
      "version": "3.9.1"
    }
  },
  "nbformat": 4,
  "nbformat_minor": 0
}