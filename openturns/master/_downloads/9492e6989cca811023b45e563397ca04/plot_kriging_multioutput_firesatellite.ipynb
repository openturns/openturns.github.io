{
  "cells": [
    {
      "cell_type": "code",
      "execution_count": null,
      "metadata": {
        "collapsed": false
      },
      "outputs": [],
      "source": [
        "%matplotlib inline"
      ]
    },
    {
      "cell_type": "markdown",
      "metadata": {},
      "source": [
        "\n# Example of multi output Kriging on the fire satellite model\n"
      ]
    },
    {
      "cell_type": "markdown",
      "metadata": {},
      "source": [
        "This example aims to illustrate Kriging metamodel with several outputs on the fire satellite model.\n\n"
      ]
    },
    {
      "cell_type": "markdown",
      "metadata": {},
      "source": [
        "## Loading of the model\nThis model involves 9 input variables and 3 output variables.\nWe load the `Fire satellite use case<use-case-firesatellite>`.\n\n"
      ]
    },
    {
      "cell_type": "code",
      "execution_count": null,
      "metadata": {
        "collapsed": false
      },
      "outputs": [],
      "source": [
        "import openturns as ot\nfrom openturns.usecases.fireSatellite_function import FireSatelliteModel\nfrom openturns.viewer import View\n\not.Log.Show(ot.Log.NONE)\n\nm = FireSatelliteModel()"
      ]
    },
    {
      "cell_type": "markdown",
      "metadata": {},
      "source": [
        "We define the function that evaluates the outputs depending on the inputs.\n\n"
      ]
    },
    {
      "cell_type": "code",
      "execution_count": null,
      "metadata": {
        "collapsed": false
      },
      "outputs": [],
      "source": [
        "model = m.model"
      ]
    },
    {
      "cell_type": "markdown",
      "metadata": {},
      "source": [
        "We also define the distribution of input variables to build the training and test sets.\n\n"
      ]
    },
    {
      "cell_type": "code",
      "execution_count": null,
      "metadata": {
        "collapsed": false
      },
      "outputs": [],
      "source": [
        "inputDistribution = m.distributionX"
      ]
    },
    {
      "cell_type": "markdown",
      "metadata": {},
      "source": [
        "## Generation of data\nWe now generate the input and output training sets as 10 times the dimension of the input vector.\n\n"
      ]
    },
    {
      "cell_type": "code",
      "execution_count": null,
      "metadata": {
        "collapsed": false
      },
      "outputs": [],
      "source": [
        "experiment = ot.LHSExperiment(inputDistribution, 10 * m.dim)\ninputTrainingSet = experiment.generate()\noutputTrainingSet = model(inputTrainingSet)\n\nprint(\"Lower and upper bounds of inputTrainingSet:\")\nprint(inputTrainingSet.getMin(), inputTrainingSet.getMax())"
      ]
    },
    {
      "cell_type": "markdown",
      "metadata": {},
      "source": [
        "## Creation of metamodel\nWe choose to use a constant trend.\n\n"
      ]
    },
    {
      "cell_type": "code",
      "execution_count": null,
      "metadata": {
        "collapsed": false
      },
      "outputs": [],
      "source": [
        "basis = ot.ConstantBasisFactory(m.dim).build()"
      ]
    },
    {
      "cell_type": "markdown",
      "metadata": {},
      "source": [
        "We would like to have separate covariance models for the three outputs. To do so, we use the `TensorizedCovarianceModel`. For the purpose of illustration, we consider `MaternModel` for the first and third outputs, and `SquaredExponential` for the second output.\n\n"
      ]
    },
    {
      "cell_type": "code",
      "execution_count": null,
      "metadata": {
        "collapsed": false
      },
      "outputs": [],
      "source": [
        "myCov1 = ot.MaternModel([1.0] * m.dim, 2.5)\nmyCov2 = ot.SquaredExponential([1.0] * m.dim)\nmyCov3 = ot.MaternModel([1.0] * m.dim, 2.5)\n\ncovarianceModel = ot.TensorizedCovarianceModel([myCov1, myCov2, myCov3])"
      ]
    },
    {
      "cell_type": "markdown",
      "metadata": {},
      "source": [
        "The scaling of the data is really important when dealing with Kriging,\nespecially considering the domain definition of the input variables (the\naltitude varies in order of 1e7 whereas the drag coefficient is around 1).\nWe thus define appropriate bounds for the training algorithm based on the\ndomain definition of each variable.\n\n"
      ]
    },
    {
      "cell_type": "code",
      "execution_count": null,
      "metadata": {
        "collapsed": false
      },
      "outputs": [],
      "source": [
        "scaleOptimizationBounds = ot.Interval(\n    [1.0, 1.0, 0.1, 0.01, 0.1, 0.1, 0.01, 0.01, 0.001, 0.01, 0.01, 0.01],\n    [1.0e7, 2.0e3, 2.0e3, 1e2, 10.0, 10.0, 10.0, 10.0, 10.0, 1e8, 1e4, 1e3],\n)"
      ]
    },
    {
      "cell_type": "markdown",
      "metadata": {},
      "source": [
        "We can now define the scaled version of Kriging model.\n\n"
      ]
    },
    {
      "cell_type": "code",
      "execution_count": null,
      "metadata": {
        "collapsed": false
      },
      "outputs": [],
      "source": [
        "covarianceModel.setScale(inputTrainingSet.getMax())\nalgo = ot.KrigingAlgorithm(inputTrainingSet, outputTrainingSet, covarianceModel, basis)\nalgo.setOptimizationBounds(scaleOptimizationBounds)"
      ]
    },
    {
      "cell_type": "markdown",
      "metadata": {},
      "source": [
        "We run the algorithm and get the metamodel.\n\n"
      ]
    },
    {
      "cell_type": "code",
      "execution_count": null,
      "metadata": {
        "collapsed": false
      },
      "outputs": [],
      "source": [
        "algo.run()\nresult = algo.getResult()\nkrigingMetamodel = result.getMetaModel()"
      ]
    },
    {
      "cell_type": "markdown",
      "metadata": {},
      "source": [
        "## Validation of metamodel\nTo validate the metamodel, we create a validation set of size equal to 50 times the input vector dimension to evaluate the functions.\n\n"
      ]
    },
    {
      "cell_type": "code",
      "execution_count": null,
      "metadata": {
        "collapsed": false
      },
      "outputs": [],
      "source": [
        "experimentTest = ot.LHSExperiment(inputDistribution, 50 * m.dim)\ninputTestSet = experimentTest.generate()\noutputTestSet = model(inputTestSet)\noutputKriging = krigingMetamodel(inputTestSet)"
      ]
    },
    {
      "cell_type": "markdown",
      "metadata": {},
      "source": [
        "Then, we use the `MetaModelValidation` class to validate the metamodel.\n\n"
      ]
    },
    {
      "cell_type": "code",
      "execution_count": null,
      "metadata": {
        "collapsed": false
      },
      "outputs": [],
      "source": [
        "val = ot.MetaModelValidation(inputTestSet, outputTestSet, krigingMetamodel)\n\nQ2 = val.computePredictivityFactor()\n\nlabel = [\"Total torque\", \"Total power\", \"Solar array area\"]\n\nfor i in range(3):\n    graph = val.drawValidation().getGraph(0, i)\n    graph.setLegends([\"\"])\n    graph.setLegends([\"Q2 = %.2f%%\" % (100 * Q2[i]), \"\"])\n    graph.setLegendPosition(\"topleft\")\n    graph.setXTitle(\"Exact function\")\n    graph.setYTitle(\"Metamodel prediction\")\n    graph.setTitle(label[i])\n    View(graph)"
      ]
    }
  ],
  "metadata": {
    "kernelspec": {
      "display_name": "Python 3",
      "language": "python",
      "name": "python3"
    },
    "language_info": {
      "codemirror_mode": {
        "name": "ipython",
        "version": 3
      },
      "file_extension": ".py",
      "mimetype": "text/x-python",
      "name": "python",
      "nbconvert_exporter": "python",
      "pygments_lexer": "ipython3",
      "version": "3.10.9"
    }
  },
  "nbformat": 4,
  "nbformat_minor": 0
}