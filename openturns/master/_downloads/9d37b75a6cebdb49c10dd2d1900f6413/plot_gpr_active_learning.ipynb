{
  "cells": [
    {
      "cell_type": "markdown",
      "metadata": {},
      "source": [
        "\n# Gaussian Process-based active learning for reliability\n"
      ]
    },
    {
      "cell_type": "code",
      "execution_count": null,
      "metadata": {
        "collapsed": false
      },
      "outputs": [],
      "source": [
        "# sphinx_gallery_thumbnail_number = 13"
      ]
    },
    {
      "cell_type": "markdown",
      "metadata": {},
      "source": [
        "In this example, we show how to sequentially add new points to a Gaussian Progress Regression model (GPR).\nThe goal is to improve the predictivity of the surrogate model for reliability estimation.\nThis kind of strategy is called \"active learning\".\nIn order to create simple graphs, we consider a 1-d function.\n\n"
      ]
    },
    {
      "cell_type": "markdown",
      "metadata": {},
      "source": [
        "## Create the function and the design of experiments\n\n"
      ]
    },
    {
      "cell_type": "code",
      "execution_count": null,
      "metadata": {
        "collapsed": false
      },
      "outputs": [],
      "source": [
        "import openturns as ot\nimport openturns.experimental as otexp\nfrom openturns.viewer import View\nimport numpy as np\nfrom openturns import viewer"
      ]
    },
    {
      "cell_type": "markdown",
      "metadata": {},
      "source": [
        "Define the function, the threshold above which the system is considered in failure, and the input probability distribution.\n\n"
      ]
    },
    {
      "cell_type": "code",
      "execution_count": null,
      "metadata": {
        "collapsed": false
      },
      "outputs": [],
      "source": [
        "g = ot.SymbolicFunction([\"x\"], [\"0.5*x^2 + sin(5*x)\"])\nthreshold = 1.25\ndistribution = ot.Normal(0, 0.4)"
      ]
    },
    {
      "cell_type": "markdown",
      "metadata": {},
      "source": [
        "Create the design of experiments.\n\n"
      ]
    },
    {
      "cell_type": "code",
      "execution_count": null,
      "metadata": {
        "collapsed": false
      },
      "outputs": [],
      "source": [
        "dimension = 1\nDoESize = 4\nxMin = -2.0\nxMax = 2.0\nX_distr = ot.Uniform(xMin, xMax)\nX = ot.LHSExperiment(X_distr, DoESize, False, False).generate()\nY = g(X)"
      ]
    },
    {
      "cell_type": "markdown",
      "metadata": {},
      "source": [
        "We plot the limit state function, the initial design of experiments and the failure threshold.\n\n"
      ]
    },
    {
      "cell_type": "code",
      "execution_count": null,
      "metadata": {
        "collapsed": false
      },
      "outputs": [],
      "source": [
        "thresholdFunction = ot.Curve([xMin, xMax], [threshold] * 2)\nthresholdFunction.setLineStyle(\"dashed\")\nthresholdFunction.setColor(\"red\")\nthresholdFunction.setLineWidth(2)\nthresholdFunction.setLegend(\"Failure threshold\")\n\ndata = ot.Cloud(X, Y)\ndata.setColor(\"red\")\ndata.setPointStyle(\"circle\")\ndata.setLegend(\"Design of Experiments\")\n\ngraphFunction = g.draw(xMin, xMax)\ngraphFunction.setColors([\"magenta\"])\ngraphFunction.setLegends([\"Limit state function\"])\n\ngraph = ot.Graph()\ngraph.add(graphFunction)\ngraph.add(thresholdFunction)\ngraph.add(data)\ngraph.setLegendPosition(\"lower right\")\ngraph.setAxes(True)\ngraph.setGrid(True)\nview = viewer.View(graph)"
      ]
    },
    {
      "cell_type": "markdown",
      "metadata": {},
      "source": [
        "## Define the reliability analysis\n\n"
      ]
    },
    {
      "cell_type": "markdown",
      "metadata": {},
      "source": [
        "We define the event and estimate the reference failure probability with Monte-Carlo algorithm.\n\n"
      ]
    },
    {
      "cell_type": "code",
      "execution_count": null,
      "metadata": {
        "collapsed": false
      },
      "outputs": [],
      "source": [
        "vect = ot.RandomVector(distribution)\ng = ot.MemoizeFunction(g)\nG = ot.CompositeRandomVector(g, vect)\nevent = ot.ThresholdEvent(G, ot.Greater(), threshold)\n\nexperiment = ot.MonteCarloExperiment()\nalgo = ot.ProbabilitySimulationAlgorithm(event, experiment)\nalgo.setMaximumCoefficientOfVariation(0.1)\nalgo.setMaximumOuterSampling(int(1e5))\nalgo.run()\nresult = algo.getResult()\nprobability = result.getProbabilityEstimate()\nsampleX = g.getInputHistory()\nprint(\"Reference probability on the real function =\", probability)"
      ]
    },
    {
      "cell_type": "markdown",
      "metadata": {},
      "source": [
        "## Create the algorithms\n\n"
      ]
    },
    {
      "cell_type": "code",
      "execution_count": null,
      "metadata": {
        "collapsed": false
      },
      "outputs": [],
      "source": [
        "def createMyBasicGPR(X, Y):\n    \"\"\"\n    Create a Gaussian Process from a pair of X and Y samples.\n    We use a 3/2 Mat\u00e9rn covariance model and a constant trend.\n    \"\"\"\n    basis = ot.ConstantBasisFactory(dimension).build()\n    covarianceModel = ot.MaternModel([1.0], 1.5)\n    fitter = otexp.GaussianProcessFitter(X, Y, covarianceModel, basis)\n    fitter.run()\n    algo = otexp.GaussianProcessRegression(fitter.getResult())\n    algo.run()\n    gprResult = algo.getResult()\n    return gprResult"
      ]
    },
    {
      "cell_type": "code",
      "execution_count": null,
      "metadata": {
        "collapsed": false
      },
      "outputs": [],
      "source": [
        "def linearSample(xmin, xmax, npoints):\n    \"\"\"Returns a sample created from a regular grid\n    from xmin to xmax with npoints points.\"\"\"\n    step = (xmax - xmin) / (npoints - 1)\n    rg = ot.RegularGrid(xmin, step, npoints)\n    vertices = rg.getVertices()\n    return vertices"
      ]
    },
    {
      "cell_type": "code",
      "execution_count": null,
      "metadata": {
        "collapsed": false
      },
      "outputs": [],
      "source": [
        "def plotMyBasicGPR(\n    gprResult, xMin, xMax, X, Y, event, sampleX, refProbability, level=0.95\n):\n    \"\"\"\n    Given a gaussian process result, plot the data, the GP metamodel\n    and a confidence interval.\n    \"\"\"\n    meta = gprResult.getMetaModel()\n    graphKriging = meta.draw(xMin, xMax)\n    graphKriging.setLegends([\"GPR\"])\n    # Create a grid of points and evaluate the function and the kriging\n    nbpoints = 50\n    xGrid = linearSample(xMin, xMax, nbpoints)\n    yFunction = g(xGrid)\n    yKrig = meta(xGrid)\n    # Compute the conditional covariance\n\n    if event.getOperator().compare(1, 2):\n        proba = (\n            np.sum(np.array(gprResult.getMetaModel()(sampleX)) < event.getThreshold())\n            / sampleX.getSize()\n        )\n    else:\n        proba = (\n            np.sum(np.array(gprResult.getMetaModel()(sampleX)) > event.getThreshold())\n            / sampleX.getSize()\n        )\n\n    gpcc = otexp.GaussianProcessConditionalCovariance(gprResult)\n    conditionalVariance = gpcc.getConditionalMarginalVariance(xGrid)\n    conditionalSigma = np.sqrt(conditionalVariance)\n    # Compute the quantile of the Normal distribution\n    alpha = 1 - (1 - level) / 2\n    quantileAlpha = ot.DistFunc.qNormal(alpha)\n    # Draw the bounds\n    dataLower = [\n        yKrig[i, 0] - quantileAlpha * conditionalSigma[i, 0] for i in range(nbpoints)\n    ]\n    dataUpper = [\n        yKrig[i, 0] + quantileAlpha * conditionalSigma[i, 0] for i in range(nbpoints)\n    ]\n    # Compute the Polygon graphics\n    boundsPoly = ot.Polygon.FillBetween(xGrid.asPoint(), dataLower, dataUpper)\n    boundsPoly.setLegend(\"95% bounds\")\n\n    # Plot the function\n    graphFonction = ot.Curve(xGrid, yFunction)\n    graphFonction.setLineStyle(\"dashed\")\n    graphFonction.setColor(\"magenta\")\n    graphFonction.setLineWidth(2)\n    graphFonction.setLegend(\"Function\")\n\n    thresholdFunction = ot.Curve([xMin, xMax], [event.getThreshold()] * 2)\n    thresholdFunction.setLineStyle(\"dashed\")\n    thresholdFunction.setColor(\"red\")\n    thresholdFunction.setLineWidth(2)\n    thresholdFunction.setLegend(\"Threshold\")\n\n    # Draw the X and Y observed\n    cloudDOE = ot.Cloud(X, Y)\n    cloudDOE.setPointStyle(\"circle\")\n    cloudDOE.setColor(\"red\")\n    cloudDOE.setLegend(\"Data\")\n    # Assemble the graph\n\n    graph = ot.Graph()\n    graph.add(boundsPoly)\n    graph.add(graphFonction)\n    graph.add(thresholdFunction)\n    graph.add(cloudDOE)\n    graph.add(graphKriging)\n    graph.setLegendPosition(\"lower right\")\n    graph.setAxes(True)\n    graph.setGrid(True)\n    graph.setTitle(\n        \"Estimated probability = %f, Reference probability =  %f\"\n        % (proba, refProbability)\n    )\n    graph.setXTitle(\"X\")\n    graph.setYTitle(\"Y\")\n    return graph"
      ]
    },
    {
      "cell_type": "markdown",
      "metadata": {},
      "source": [
        "We start by creating the initial Gaussian Process Regressor model $\\hat{\\mathcal{M}}$ on the 4 points in the design of experiments.\nWe estimate the probability on this surrogate model and compare with the reference probability computed on the real limit state function.\n\n"
      ]
    },
    {
      "cell_type": "code",
      "execution_count": null,
      "metadata": {
        "collapsed": false
      },
      "outputs": [],
      "source": [
        "gprResult = createMyBasicGPR(X, Y)\ngraph = plotMyBasicGPR(gprResult, xMin, xMax, X, Y, event, sampleX, probability)\nview = viewer.View(graph)"
      ]
    },
    {
      "cell_type": "markdown",
      "metadata": {},
      "source": [
        "## Active learning Gaussian Process Regressor to sequentially add new points\n\n"
      ]
    },
    {
      "cell_type": "markdown",
      "metadata": {},
      "source": [
        "To sequentially add the new points, the \"U criterion\" is used.\nIt consists in finding the new point as the sample $\\mathbf{x}$ in the Monte-Carlo experiment that minimizes  the following expression:\n$\\frac{ \\left| T - \\hat{\\mathcal{M}} ( \\mathbf{x}) \\right|}{\\hat{\\sigma}(\\mathbf{x})}$\nwith $\\hat{\\sigma}(\\mathbf{x})$ the square root of the marginal covariance of the Gaussian Process evaluated on $\\mathbf{x}$, and $T$ the event threshold (here 1.5)\n\n"
      ]
    },
    {
      "cell_type": "code",
      "execution_count": null,
      "metadata": {
        "collapsed": false
      },
      "outputs": [],
      "source": [
        "def getNewPoint(X, gprResult, threshold):\n    \"\"\"\n    Returns a new point to be added to the design of experiments.\n    This point maximizes the U criterion.\n    \"\"\"\n    gpcc = otexp.GaussianProcessConditionalCovariance(gprResult)\n    response = gprResult.getMetaModel()(X)\n    conditionalVariance = gpcc.getConditionalMarginalVariance(X)\n\n    criterion = np.abs(\n        ot.Sample([ot.Point([event.getThreshold()])] * X.getSize()) - response\n    ) / np.sqrt(conditionalVariance + 1e-12)\n\n    iMaxU = int(np.argmin(criterion))\n    xNew = X[iMaxU]\n    return xNew"
      ]
    },
    {
      "cell_type": "markdown",
      "metadata": {},
      "source": [
        "We first call `getNewPoint` to get a point to add to the design of experiments.\n\n"
      ]
    },
    {
      "cell_type": "code",
      "execution_count": null,
      "metadata": {
        "collapsed": false
      },
      "outputs": [],
      "source": [
        "xNew = getNewPoint(sampleX, gprResult, event.getThreshold())\nprint(xNew)"
      ]
    },
    {
      "cell_type": "markdown",
      "metadata": {},
      "source": [
        "Then we evaluate the function on the new point and add it to the training design of experiments.\n\n"
      ]
    },
    {
      "cell_type": "code",
      "execution_count": null,
      "metadata": {
        "collapsed": false
      },
      "outputs": [],
      "source": [
        "yNew = g(xNew)\nX.add(xNew)\nY.add(yNew)"
      ]
    },
    {
      "cell_type": "markdown",
      "metadata": {},
      "source": [
        "We now plot the updated Gaussian Process Regressor.\n\n"
      ]
    },
    {
      "cell_type": "code",
      "execution_count": null,
      "metadata": {
        "collapsed": false
      },
      "outputs": [],
      "source": [
        "gprResult = createMyBasicGPR(X, Y)\ngraph = plotMyBasicGPR(gprResult, xMin, xMax, X, Y, event, sampleX, probability)\nview = viewer.View(graph)"
      ]
    },
    {
      "cell_type": "markdown",
      "metadata": {},
      "source": [
        "The algorithm added in the domain.\n\n"
      ]
    },
    {
      "cell_type": "code",
      "execution_count": null,
      "metadata": {
        "collapsed": false
      },
      "outputs": [],
      "source": [
        "for GPRStep in range(10):\n    xNew = getNewPoint(sampleX, gprResult, event)\n    yNew = g(xNew)\n    X.add(xNew)\n    Y.add(yNew)\n    gprResult = createMyBasicGPR(X, Y)\n    graph = plotMyBasicGPR(gprResult, xMin, xMax, X, Y, event, sampleX, probability)\n    View(graph)"
      ]
    },
    {
      "cell_type": "markdown",
      "metadata": {},
      "source": [
        "We can see that the metamodel only needs to be accurate near the event threshold to retrieve a precise estimation probability of failure.\nWith only 10 points evaluated on the real limit state function, the metamodel accuracy is sufficient to estimate the failure probability.\nIndeed, the estimated probability is very close to the reference probability.\nThis kind of active learning strategies allows one to save a large number of simulations.\n\n"
      ]
    },
    {
      "cell_type": "markdown",
      "metadata": {},
      "source": [
        "## Conclusion\n\nThe current example presents the naive implementation on the creation of a sequential design of experiments (active learning) based on GPR for failure probability estimation.\nSee [Modules](https://github.com/openturns/openturns/wiki/Modules) for module `ot-ak` that implements active learning algorithms for reliability.\nMore practical algorithms are presented in the following references.\n\n* Echard, B., Gayton, N., & Lemaire, M. (2011). AK-MCS: an active learning reliability method combining Kriging and Monte Carlo simulation. Structural Safety, 33(2), 145-154.\n* Echard, B. (2012). Assessment by kriging of the reliability of structures subjected to fatigue stress, Universit\u00e9 Blaise Pascal, PhD thesis\n\n\n"
      ]
    },
    {
      "cell_type": "code",
      "execution_count": null,
      "metadata": {
        "collapsed": false
      },
      "outputs": [],
      "source": [
        "View.ShowAll()"
      ]
    }
  ],
  "metadata": {
    "kernelspec": {
      "display_name": "Python 3",
      "language": "python",
      "name": "python3"
    },
    "language_info": {
      "codemirror_mode": {
        "name": "ipython",
        "version": 3
      },
      "file_extension": ".py",
      "mimetype": "text/x-python",
      "name": "python",
      "nbconvert_exporter": "python",
      "pygments_lexer": "ipython3",
      "version": "3.13.5"
    }
  },
  "nbformat": 4,
  "nbformat_minor": 0
}