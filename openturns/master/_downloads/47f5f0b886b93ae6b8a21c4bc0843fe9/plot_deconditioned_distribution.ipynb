{
  "cells": [
    {
      "cell_type": "markdown",
      "metadata": {},
      "source": [
        "\n# Create a deconditioned distribution\n"
      ]
    },
    {
      "cell_type": "markdown",
      "metadata": {},
      "source": [
        "In this example we are going to build the distribution of the random vector $\\inputRV$\ndefined by the conditional distribution of:\n\n\\begin{align}\\inputRV|\\vect{\\Theta}\\end{align}\n\nwhere $\\vect{\\Theta}$ is the output of the random variable $\\vect{Y}$ through the link\nfunction $f$:\n\n\\begin{align}\\vect{\\Theta} & = f(\\vect{Y})\\\\\n   \\vect{Y} & \\sim \\cL_{\\vect{Y}}\\end{align}\n\nThis example creates a :class:`~openturns.DeconditionedDistribution` which offers all the methods\nattached to the distributions.\n\nWe consider the case where $X$ is of dimension 1 and follows a uniform distribution defined\nby:\n\n===============  =========================================================  ===============================\nVariable         Distribution                                               Parameter\n===============  =========================================================  ===============================\n$X$        :class:`~openturns.Uniform` ($a, b$)                 $(a,b) = (Y, 1+Y^2)$\n$Y$        :class:`~openturns.Uniform` ($c, d$)                 $(c,d) = (-1, 1)$\n===============  =========================================================  ===============================\n\n\n"
      ]
    },
    {
      "cell_type": "code",
      "execution_count": null,
      "metadata": {
        "collapsed": false
      },
      "outputs": [],
      "source": [
        "import openturns as ot\nimport openturns.viewer as otv"
      ]
    },
    {
      "cell_type": "markdown",
      "metadata": {},
      "source": [
        "Create the $Y$ distribution.\n\n"
      ]
    },
    {
      "cell_type": "code",
      "execution_count": null,
      "metadata": {
        "collapsed": false
      },
      "outputs": [],
      "source": [
        "YDist = ot.Uniform(-1.0, 1.0)"
      ]
    },
    {
      "cell_type": "markdown",
      "metadata": {},
      "source": [
        "Create the link function $f: y \\rightarrow (y, 1+y^2)$.\n\n"
      ]
    },
    {
      "cell_type": "code",
      "execution_count": null,
      "metadata": {
        "collapsed": false
      },
      "outputs": [],
      "source": [
        "f = ot.SymbolicFunction([\"y\"], [\"y\", \"1+y^2\"])"
      ]
    },
    {
      "cell_type": "markdown",
      "metadata": {},
      "source": [
        "Create the conditional distribution of $\\vect{X}|\\vect{\\Theta}$: as the parameters have no\nimportance, we use the default distribution.\n\n"
      ]
    },
    {
      "cell_type": "code",
      "execution_count": null,
      "metadata": {
        "collapsed": false
      },
      "outputs": [],
      "source": [
        "XgivenThetaDist = ot.Uniform()"
      ]
    },
    {
      "cell_type": "markdown",
      "metadata": {},
      "source": [
        "Create the deconditioned distribution of $X$.\n\n"
      ]
    },
    {
      "cell_type": "code",
      "execution_count": null,
      "metadata": {
        "collapsed": false
      },
      "outputs": [],
      "source": [
        "XDist = ot.DeconditionedDistribution(XgivenThetaDist, YDist, f)\nXDist.setDescription([r\"$X|\\mathbf{\\boldsymbol{\\Theta}} = f(Y)$\"])\nXDist"
      ]
    },
    {
      "cell_type": "markdown",
      "metadata": {},
      "source": [
        "Get a sample:\n\n"
      ]
    },
    {
      "cell_type": "code",
      "execution_count": null,
      "metadata": {
        "collapsed": false
      },
      "outputs": [],
      "source": [
        "XDist.getSample(5)"
      ]
    },
    {
      "cell_type": "markdown",
      "metadata": {},
      "source": [
        "Draw the PDF.\n\n"
      ]
    },
    {
      "cell_type": "code",
      "execution_count": null,
      "metadata": {
        "collapsed": false
      },
      "outputs": [],
      "source": [
        "graph = XDist.drawPDF()\nview = otv.View(graph)"
      ]
    },
    {
      "cell_type": "code",
      "execution_count": null,
      "metadata": {
        "collapsed": false
      },
      "outputs": [],
      "source": [
        "view.ShowAll()"
      ]
    }
  ],
  "metadata": {
    "kernelspec": {
      "display_name": "Python 3",
      "language": "python",
      "name": "python3"
    },
    "language_info": {
      "codemirror_mode": {
        "name": "ipython",
        "version": 3
      },
      "file_extension": ".py",
      "mimetype": "text/x-python",
      "name": "python",
      "nbconvert_exporter": "python",
      "pygments_lexer": "ipython3",
      "version": "3.13.5"
    }
  },
  "nbformat": 4,
  "nbformat_minor": 0
}