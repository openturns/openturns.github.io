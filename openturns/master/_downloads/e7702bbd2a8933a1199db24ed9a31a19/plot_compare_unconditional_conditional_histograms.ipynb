{
  "cells": [
    {
      "cell_type": "markdown",
      "metadata": {},
      "source": [
        "\n# Compare unconditional and conditional histograms\n"
      ]
    },
    {
      "cell_type": "markdown",
      "metadata": {},
      "source": [
        "In this example, we compare unconditional and conditional histograms for a\nsimulation.\nWe consider the `flooding model<use-case-flood-model>`.\nLet $g$ be a function which takes four inputs $Q$, $K_s$,\n$Z_v$ and $Z_m$ and returns one output $S$.\n\nWe first consider the (unconditional) distribution of the input $Q$.\n\nLet $t$ be a given threshold on the output $S$: we consider\nthe event $S > t$.\nThen we consider the conditional distribution of the input $Q$ given\nthat $S > t$ that is to say $Q|S > t$.\n\nIf these two distributions are significantly different, we conclude that\nthe input $Q$ has an impact on the event $S > t$.\n\nIn order to approximate the distribution of the output $S$,\nwe perform a Monte-Carlo simulation with size 500.\nThe threshold $t$ is chosen as the 90% quantile of the empirical\ndistribution of $S$.\nIn this example, the distribution is aproximated by its empirical histogram\n(but this could be done with another distribution approximation as well,\nsuch as kernel smoothing for example).\n\n"
      ]
    },
    {
      "cell_type": "code",
      "execution_count": null,
      "metadata": {
        "collapsed": false
      },
      "outputs": [],
      "source": [
        "import numpy as np\nfrom openturns.usecases import flood_model\nimport openturns as ot\nimport openturns.viewer as viewer\nfrom matplotlib import pylab as plt\n\not.Log.Show(ot.Log.NONE)"
      ]
    },
    {
      "cell_type": "markdown",
      "metadata": {},
      "source": [
        "We use the `FloodModel` data class that contains all the case parameters.\n\n"
      ]
    },
    {
      "cell_type": "code",
      "execution_count": null,
      "metadata": {
        "collapsed": false
      },
      "outputs": [],
      "source": [
        "fm = flood_model.FloodModel()"
      ]
    },
    {
      "cell_type": "markdown",
      "metadata": {},
      "source": [
        "Create an input sample from the joint `distribution` defined in the data class.\nWe build an output sample by taking the image by the `model`.\n\n"
      ]
    },
    {
      "cell_type": "code",
      "execution_count": null,
      "metadata": {
        "collapsed": false
      },
      "outputs": [],
      "source": [
        "size = 500\ninputSample = fm.distribution.getSample(size)\ninputSample[:5]"
      ]
    },
    {
      "cell_type": "code",
      "execution_count": null,
      "metadata": {
        "collapsed": false
      },
      "outputs": [],
      "source": [
        "outputSample = fm.model(inputSample)\noutputSample[:5]"
      ]
    },
    {
      "cell_type": "markdown",
      "metadata": {},
      "source": [
        "Merge the input and output samples into a single sample.\n\n"
      ]
    },
    {
      "cell_type": "code",
      "execution_count": null,
      "metadata": {
        "collapsed": false
      },
      "outputs": [],
      "source": [
        "sample = ot.Sample(inputSample)\nsample.stack(outputSample)\nsample[0:5]"
      ]
    },
    {
      "cell_type": "markdown",
      "metadata": {},
      "source": [
        "Extract the first column of `inputSample` into the sample of the flowrates\n$Q$.\n\n"
      ]
    },
    {
      "cell_type": "code",
      "execution_count": null,
      "metadata": {
        "collapsed": false
      },
      "outputs": [],
      "source": [
        "sampleQ = inputSample[:, 0]"
      ]
    },
    {
      "cell_type": "markdown",
      "metadata": {},
      "source": [
        "The next cell defines a function that computes the conditional sample of\na component given that the a marginal (defined by its index `criteriaComponent`)\nexceeds a given threshold, defined by its quantile level.\n\n"
      ]
    },
    {
      "cell_type": "code",
      "execution_count": null,
      "metadata": {
        "collapsed": false
      },
      "outputs": [],
      "source": [
        "def computeConditionnedSample(\n    sample, alpha=0.9, criteriaComponent=None, selectedComponent=0\n):\n    \"\"\"\n    Return values from the selectedComponent-th component of the sample.\n    Selects the values according to the alpha-level quantile of\n    the criteriaComponent-th component of the sample.\n    \"\"\"\n    dim = sample.getDimension()\n    if criteriaComponent is None:\n        criteriaComponent = dim - 1\n    sortedSample = sample.sortAccordingToAComponent(criteriaComponent)\n    quantiles = sortedSample.computeQuantilePerComponent(alpha)\n    quantileValue = quantiles[criteriaComponent]\n    sortedSampleCriteria = sortedSample[:, criteriaComponent]\n    indices = np.where(np.array(sortedSampleCriteria.asPoint()) > quantileValue)[0]\n    conditionnedSortedSample = sortedSample[int(indices[0]) :, selectedComponent]\n    return conditionnedSortedSample"
      ]
    },
    {
      "cell_type": "markdown",
      "metadata": {},
      "source": [
        "Create an histogram for the unconditional flowrates.\n\n"
      ]
    },
    {
      "cell_type": "code",
      "execution_count": null,
      "metadata": {
        "collapsed": false
      },
      "outputs": [],
      "source": [
        "numberOfBins = 10\nhistogram = ot.HistogramFactory().buildAsHistogram(sampleQ, numberOfBins)"
      ]
    },
    {
      "cell_type": "markdown",
      "metadata": {},
      "source": [
        "Extract the sub-sample of the input flowrates Q which leads to large values of the output S.\n\n"
      ]
    },
    {
      "cell_type": "markdown",
      "metadata": {},
      "source": [
        "Search the index of the marginal S in the columns of the sample.\n\n"
      ]
    },
    {
      "cell_type": "code",
      "execution_count": null,
      "metadata": {
        "collapsed": false
      },
      "outputs": [],
      "source": [
        "criteriaComponent = list(sample.getDescription()).index(\"S\")\ncriteriaComponent"
      ]
    },
    {
      "cell_type": "code",
      "execution_count": null,
      "metadata": {
        "collapsed": false
      },
      "outputs": [],
      "source": [
        "alpha = 0.9\nselectedComponent = 0\nconditionnedSampleQ = computeConditionnedSample(\n    sample, alpha, criteriaComponent, selectedComponent\n)"
      ]
    },
    {
      "cell_type": "markdown",
      "metadata": {},
      "source": [
        "We could as well use:\n\n```\n# conditionnedHistogram = ot.HistogramFactory().buildAsHistogram(conditionnedSampleQ)\n```\nbut this creates an histogram with new classes, corresponding\nto `conditionnedSampleQ`.\nWe want to use exactly the same classes as the full sample,\nso that the two histograms match.\n\n"
      ]
    },
    {
      "cell_type": "code",
      "execution_count": null,
      "metadata": {
        "collapsed": false
      },
      "outputs": [],
      "source": [
        "first = histogram.getFirst()\nwidth = histogram.getWidth()\nconditionnedHistogram = ot.HistogramFactory().buildAsHistogram(\n    conditionnedSampleQ, first, width\n)"
      ]
    },
    {
      "cell_type": "markdown",
      "metadata": {},
      "source": [
        "Then creates a graphics with the unconditional and the conditional histograms.\n\n"
      ]
    },
    {
      "cell_type": "code",
      "execution_count": null,
      "metadata": {
        "collapsed": false
      },
      "outputs": [],
      "source": [
        "graph = histogram.drawPDF()\ngraph.setLegends([\"Q\"])\n#\ngraphConditionnalQ = conditionnedHistogram.drawPDF()\ngraphConditionnalQ.setColors([\"blue\"])\ngraphConditionnalQ.setLegends([r\"$Q | S > S_{%s}$\" % (alpha)])\ngraph.add(graphConditionnalQ)\nview = viewer.View(graph)\n\nplt.show()"
      ]
    },
    {
      "cell_type": "markdown",
      "metadata": {},
      "source": [
        "We see that the two histograms are very different.\nThe high values of the input $Q$ seem to often lead to a high value of the output $S$.\n\nWe could explore this situation further by comparing the unconditional\ndistribution of $Q$ (which is known in this case) with the conditonal\ndistribution of $Q | S > t$, estimated by kernel smoothing.\nThis would have the advantage of accuracy, since the kernel smoothing is a\nmore accurate approximation of a distribution than the histogram.\n\n"
      ]
    }
  ],
  "metadata": {
    "kernelspec": {
      "display_name": "Python 3",
      "language": "python",
      "name": "python3"
    },
    "language_info": {
      "codemirror_mode": {
        "name": "ipython",
        "version": 3
      },
      "file_extension": ".py",
      "mimetype": "text/x-python",
      "name": "python",
      "nbconvert_exporter": "python",
      "pygments_lexer": "ipython3",
      "version": "3.12.4"
    }
  },
  "nbformat": 4,
  "nbformat_minor": 0
}