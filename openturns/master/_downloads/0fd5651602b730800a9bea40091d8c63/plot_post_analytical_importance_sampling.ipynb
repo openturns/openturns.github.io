{
  "cells": [
    {
      "cell_type": "code",
      "execution_count": null,
      "metadata": {
        "collapsed": false
      },
      "outputs": [],
      "source": [
        "%matplotlib inline"
      ]
    },
    {
      "cell_type": "markdown",
      "metadata": {},
      "source": [
        "\n# Use the post-analytical importance sampling algorithm\n"
      ]
    },
    {
      "cell_type": "markdown",
      "metadata": {},
      "source": [
        "In this example we want to estimate the probability to exceed a threshold through the combination of approximation and simulation methods.\n\n  - perform an FORM or SORM study in order to find the design point,\n\n  - perform an importance sampling study centered around the design point:\n    the importance distribution operates in the standard space and is the\n    standard distribution of the standard space (the standard elliptical\n    distribution in the case of an elliptic copula of the input random vector,\n    the standard normal one in all the other cases).\n\nThe importance sampling technique in the standard space may be of two kinds:\n\n  - the sample is generated according to the new importance distribution:\n    this technique is called post analytical importance sampling,\n\n  - the sample is generated according to the new importance distribution and\n    is controlled by the value of the linearized limit state function:\n    this technique is called post analytical controlled importance sampling.\n\nThis post analytical importance sampling algorithm is created from the result structure of a FORM or SORM algorithm.\n\nIt is parameterized like other simulation algorithm, through the parameters OuterSampling, BlockSize, ... and provide the same type of results.\n\nLet us note that the post FORM/SORM importance sampling method may be\nimplemented thanks to the ImportanceSampling object, where the importance\ndistribution is defined in the standard space: then, it requires that the\nevent initially defined in the pysical space be transformed in the standard space.\n\nThe controlled importance sampling technique is only accessible within the post analytical context.\n\n"
      ]
    },
    {
      "cell_type": "code",
      "execution_count": null,
      "metadata": {
        "collapsed": false
      },
      "outputs": [],
      "source": [
        "import openturns as ot\n\not.Log.Show(ot.Log.NONE)"
      ]
    },
    {
      "cell_type": "markdown",
      "metadata": {},
      "source": [
        "Create a model\n\n"
      ]
    },
    {
      "cell_type": "code",
      "execution_count": null,
      "metadata": {
        "collapsed": false
      },
      "outputs": [],
      "source": [
        "model = ot.SymbolicFunction([\"x1\", \"x2\"], [\"x1^2+x2\"])\nR = ot.CorrelationMatrix(2)\nR[0, 1] = -0.6\ninputDist = ot.Normal([0.0, 0.0], R)\ninputDist.setDescription([\"X1\", \"X2\"])\ninputVector = ot.RandomVector(inputDist)\n\n# Create the output random vector Y=model(X)\nY = ot.CompositeRandomVector(model, inputVector)\n\n# Create the event Y > 4\nthreshold = 4.0\nevent = ot.ThresholdEvent(Y, ot.Greater(), threshold)"
      ]
    },
    {
      "cell_type": "markdown",
      "metadata": {},
      "source": [
        "Create a FORM algorithm\n\n"
      ]
    },
    {
      "cell_type": "code",
      "execution_count": null,
      "metadata": {
        "collapsed": false
      },
      "outputs": [],
      "source": [
        "solver = ot.Cobyla()\nstartingPoint = inputDist.getMean()\nalgo = ot.FORM(solver, event, startingPoint)\n\n# Run the algorithm and retrieve the result\nalgo.run()\nresult_form = algo.getResult()"
      ]
    },
    {
      "cell_type": "markdown",
      "metadata": {},
      "source": [
        "Create the post analytical importance sampling simulation algorithm\n\n"
      ]
    },
    {
      "cell_type": "code",
      "execution_count": null,
      "metadata": {
        "collapsed": false
      },
      "outputs": [],
      "source": [
        "algo = ot.PostAnalyticalImportanceSampling(result_form)\nalgo.run()\nalgo.getResult()"
      ]
    },
    {
      "cell_type": "markdown",
      "metadata": {},
      "source": [
        "Create the post analytical controlled importance sampling simulation algorithm\n\n"
      ]
    },
    {
      "cell_type": "code",
      "execution_count": null,
      "metadata": {
        "collapsed": false
      },
      "outputs": [],
      "source": [
        "algo = ot.PostAnalyticalControlledImportanceSampling(result_form)\nalgo.run()\nalgo.getResult()"
      ]
    }
  ],
  "metadata": {
    "kernelspec": {
      "display_name": "Python 3",
      "language": "python",
      "name": "python3"
    },
    "language_info": {
      "codemirror_mode": {
        "name": "ipython",
        "version": 3
      },
      "file_extension": ".py",
      "mimetype": "text/x-python",
      "name": "python",
      "nbconvert_exporter": "python",
      "pygments_lexer": "ipython3",
      "version": "3.10.9"
    }
  },
  "nbformat": 4,
  "nbformat_minor": 0
}