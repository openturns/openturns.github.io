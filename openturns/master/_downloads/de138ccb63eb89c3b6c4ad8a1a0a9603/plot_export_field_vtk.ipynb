{
  "cells": [
    {
      "cell_type": "markdown",
      "metadata": {},
      "source": [
        "\n# Export a field to VTK\n"
      ]
    },
    {
      "cell_type": "markdown",
      "metadata": {},
      "source": [
        "The objective here is to create a field and export it as a VTK file.\nA field is the agregation of a mesh $\\mathcal{M}$ of a domain $\\mathcal{D} \\in \\mathbb{R}^n$\nand a sample of values in $\\mathbb{R}^d$ associated to each vertex of the mesh.\n\nWe note $(\\vect{t}_0, \\dots, \\vect{t}_{N-1})$ the vertices of $\\mathcal{M}$\nand $(\\vect{x}_0, \\dots, \\vect{x}_{N-1})$ the associated values in $\\mathbb{R}^d$.\n\nA field is stored in the :class:`~openturns.Field` object that stores the mesh and the values at each vertex of the mesh.\nIt can be built from a mesh and values or as a realization of a stochastic process.\n\n"
      ]
    },
    {
      "cell_type": "code",
      "execution_count": null,
      "metadata": {
        "collapsed": false
      },
      "outputs": [],
      "source": [
        "import openturns as ot\nimport openturns.viewer as viewer\nfrom matplotlib import pylab as plt\n\not.Log.Show(ot.Log.NONE)"
      ]
    },
    {
      "cell_type": "markdown",
      "metadata": {},
      "source": [
        "First, we define a regular 2-d mesh\n\n"
      ]
    },
    {
      "cell_type": "code",
      "execution_count": null,
      "metadata": {
        "collapsed": false
      },
      "outputs": [],
      "source": [
        "discretization = [10, 5]\nmesher = ot.IntervalMesher(discretization)\nlowerBound = [0.0, 0.0]\nupperBound = [2.0, 1.0]\ninterval = ot.Interval(lowerBound, upperBound)\nmesh = mesher.build(interval)\ngraph = mesh.draw()\ngraph.setTitle(\"Regular 2-d mesh\")\nview = viewer.View(graph)"
      ]
    },
    {
      "cell_type": "markdown",
      "metadata": {},
      "source": [
        "We now create a field from a mesh and some values\n\n"
      ]
    },
    {
      "cell_type": "code",
      "execution_count": null,
      "metadata": {
        "collapsed": false
      },
      "outputs": [],
      "source": [
        "values = ot.Normal([0.0] * 2, [1.0] * 2, ot.CorrelationMatrix(2)).getSample(\n    len(mesh.getVertices())\n)\nfor i in range(len(values)):\n    x = values[i]\n    values[i] = 0.05 * x / x.norm()\nfield = ot.Field(mesh, values)"
      ]
    },
    {
      "cell_type": "markdown",
      "metadata": {},
      "source": [
        "We can export the `field` to a VTK files. It can be\nread later with an external program such as Paraview.\n\n"
      ]
    },
    {
      "cell_type": "code",
      "execution_count": null,
      "metadata": {
        "collapsed": false
      },
      "outputs": [],
      "source": [
        "field.exportToVTKFile(\"field.vtk\")"
      ]
    },
    {
      "cell_type": "markdown",
      "metadata": {},
      "source": [
        "Display figures\n\n"
      ]
    },
    {
      "cell_type": "code",
      "execution_count": null,
      "metadata": {
        "collapsed": false
      },
      "outputs": [],
      "source": [
        "plt.show()"
      ]
    }
  ],
  "metadata": {
    "kernelspec": {
      "display_name": "Python 3",
      "language": "python",
      "name": "python3"
    },
    "language_info": {
      "codemirror_mode": {
        "name": "ipython",
        "version": 3
      },
      "file_extension": ".py",
      "mimetype": "text/x-python",
      "name": "python",
      "nbconvert_exporter": "python",
      "pygments_lexer": "ipython3",
      "version": "3.12.5"
    }
  },
  "nbformat": 4,
  "nbformat_minor": 0
}