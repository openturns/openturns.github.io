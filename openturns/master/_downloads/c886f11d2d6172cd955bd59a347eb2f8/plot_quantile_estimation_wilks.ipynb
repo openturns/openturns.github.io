{
  "cells": [
    {
      "cell_type": "markdown",
      "metadata": {},
      "source": [
        "\n# Estimate a confidence interval of a quantile\n"
      ]
    },
    {
      "cell_type": "markdown",
      "metadata": {},
      "source": [
        "In this example, we introduce two methods to estimate a confidence interval of the\n$\\alpha$ level quantile ($\\alpha \\in [0,1]$) of the distribution of\na scalar random\nvariable $X$. Both methods use the order statistics to estimate:\n\n- an asympotic confidence interval with confidence level $\\beta \\in [0,1]$,\n- an exact upper bounded confidence interval with confidence level $\\beta \\in [0,1]$.\n\nIn this example, we consider the quantile of level $\\alpha = 95\\%$,\nwith a confidence level of $\\beta = 90\\%$.\n\n"
      ]
    },
    {
      "cell_type": "code",
      "execution_count": null,
      "metadata": {
        "collapsed": false
      },
      "outputs": [],
      "source": [
        "import openturns as ot\nimport math as m\n\not.Log.Show(ot.Log.NONE)"
      ]
    },
    {
      "cell_type": "markdown",
      "metadata": {},
      "source": [
        "We consider a random vector which is the output of a model and an input distribution.\n\n"
      ]
    },
    {
      "cell_type": "code",
      "execution_count": null,
      "metadata": {
        "collapsed": false
      },
      "outputs": [],
      "source": [
        "model = ot.SymbolicFunction([\"x1\", \"x2\"], [\"x1^2+x2\"])\nR = ot.CorrelationMatrix(2)\nR[0, 1] = -0.6\ninputDist = ot.Normal([0.0, 0.0], R)\ninputDist.setDescription([\"X1\", \"X2\"])\ninputVector = ot.RandomVector(inputDist)\n\n# Create the output random vector\noutput = ot.CompositeRandomVector(model, inputVector)"
      ]
    },
    {
      "cell_type": "markdown",
      "metadata": {},
      "source": [
        "We define the level $\\alpha$ of the quantile and the confidence level $\\beta$.\n\n"
      ]
    },
    {
      "cell_type": "code",
      "execution_count": null,
      "metadata": {
        "collapsed": false
      },
      "outputs": [],
      "source": [
        "alpha = 0.95\nbeta = 0.90"
      ]
    },
    {
      "cell_type": "markdown",
      "metadata": {},
      "source": [
        "We generate a sample of the variable.\n\n"
      ]
    },
    {
      "cell_type": "code",
      "execution_count": null,
      "metadata": {
        "collapsed": false
      },
      "outputs": [],
      "source": [
        "n = 10**4\nsample = output.getSample(n)"
      ]
    },
    {
      "cell_type": "markdown",
      "metadata": {},
      "source": [
        "We get the empirical estimator of the $\\alpha$ level quantile which is the\n$\\lfloor \\sampleSize \\alpha \\rfloor$ -th order statistics evaluated on\nthe sample.\n\n"
      ]
    },
    {
      "cell_type": "code",
      "execution_count": null,
      "metadata": {
        "collapsed": false
      },
      "outputs": [],
      "source": [
        "empiricalQuantile = sample.computeQuantile(alpha)\nprint(empiricalQuantile)"
      ]
    },
    {
      "cell_type": "markdown",
      "metadata": {},
      "source": [
        "The asymptotic confidence interval of level $\\beta$ is $\\left[ X_{(i_n)}, X_{(j_n)}\\right]$\nsuch that:\n\n\\begin{align}i_\\sampleSize & = \\left\\lfloor \\sampleSize \\alpha - \\sqrt{\\sampleSize} \\; z_{\\frac{1+\\beta}{2}} \\; \\sqrt{\\alpha(1 - \\alpha)} \\right\\rfloor\\\\\n    j_\\sampleSize & = \\left\\lfloor \\sampleSize \\alpha + \\sqrt{\\sampleSize} \\; z_{\\frac{1+\\beta}{2}} \\;  \\sqrt{\\alpha(1 - \\alpha)} \\right\\rfloor\\end{align}\n\nwhere  $z_{\\frac{1+\\beta}{2}}$ is the $\\frac{1+\\beta}{2}$ level quantile of the standard normal distribution (see [delmas2006]_ proposition 11.1.13).\n\nThen we have:\n\n\\begin{align}\\lim\\limits_{\\sampleSize \\rightarrow +\\infty} \\Prob{x_{\\alpha} \\in \\left[ X_{(i_\\sampleSize,\\sampleSize)}, X_{(j_\\sampleSize,\\sampleSize)}\\right]} = \\beta\\end{align}\n\n\n"
      ]
    },
    {
      "cell_type": "code",
      "execution_count": null,
      "metadata": {
        "collapsed": false
      },
      "outputs": [],
      "source": [
        "a_beta = ot.Normal(1).computeQuantile((1.0 + beta) / 2.0)[0]\ni_n = int(n * alpha - a_beta * m.sqrt(n * alpha * (1.0 - alpha)))\nj_n = int(n * alpha + a_beta * m.sqrt(n * alpha * (1.0 - alpha)))\nprint(i_n, j_n)\n\n# Get the sorted sample\nsortedSample = sample.sort()\n\n# Get the asymptotic confidence interval :math:`\\left[ X_{(i_n)}, X_{(j_n)}\\right]`\n# Care: the index in the sorted sample is :math:`i_n-1` and :math:`j_n-1`\ninfQuantile = sortedSample[i_n - 1]\nsupQuantile = sortedSample[j_n - 1]\nprint(infQuantile, empiricalQuantile, supQuantile)"
      ]
    },
    {
      "cell_type": "markdown",
      "metadata": {},
      "source": [
        "The empirical quantile was estimated with the $\\lfloor \\sampleSize\\alpha \\rfloor$ -th order statistics evaluated on\nthe sample of size $\\sampleSize$.\nWe define $i = \\sampleSize-\\lfloor \\sampleSize\\alpha \\rfloor$ and we evaluate the minimum sample size $\\tilde{\\sampleSize}$ that\nensures that the $(\\tilde{\\sampleSize}-i)$ order statistics is greater than $x_{\\alpha}$ with the confidence $\\beta$.\n\n"
      ]
    },
    {
      "cell_type": "code",
      "execution_count": null,
      "metadata": {
        "collapsed": false
      },
      "outputs": [],
      "source": [
        "i = n - int(n * alpha)\nminSampleSize = ot.Wilks.ComputeSampleSize(alpha, beta, i)\nprint(minSampleSize)"
      ]
    },
    {
      "cell_type": "markdown",
      "metadata": {},
      "source": [
        "Here we directly ask for the evaluation of the upper bounded confidence interval:\nthe Wilks class estimates the previous minimum sample size, generates a\nsample with that size and extracts the empirical quantile of order $(\\tilde{\\sampleSize}-i)$.\n\n"
      ]
    },
    {
      "cell_type": "code",
      "execution_count": null,
      "metadata": {
        "collapsed": false
      },
      "outputs": [],
      "source": [
        "algo = ot.Wilks(output)\nupperBoundQuantile = algo.computeQuantileBound(alpha, beta, i)\nprint(upperBoundQuantile)"
      ]
    }
  ],
  "metadata": {
    "kernelspec": {
      "display_name": "Python 3",
      "language": "python",
      "name": "python3"
    },
    "language_info": {
      "codemirror_mode": {
        "name": "ipython",
        "version": 3
      },
      "file_extension": ".py",
      "mimetype": "text/x-python",
      "name": "python",
      "nbconvert_exporter": "python",
      "pygments_lexer": "ipython3",
      "version": "3.13.2"
    }
  },
  "nbformat": 4,
  "nbformat_minor": 0
}