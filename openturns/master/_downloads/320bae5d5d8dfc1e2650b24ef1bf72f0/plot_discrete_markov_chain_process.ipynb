{
  "cells": [
    {
      "cell_type": "markdown",
      "metadata": {},
      "source": [
        "\n# Create a discrete Markov chain process\n"
      ]
    },
    {
      "cell_type": "markdown",
      "metadata": {},
      "source": [
        "This example details first how to create and manipulate a discrete Markov chain.\n\nA discrete Markov chain $X: \\Omega \\times \\mathcal{D} \\rightarrow E$, where $E = [\\![ 0,...,p-1]\\!]$ is a process\nwhere $\\mathcal{D}=\\mathbb{R}$ discretized on the time grid $(t_k)_{k \\geq 0}$ such\nthat:\n\n\\begin{align}\\begin{aligned}\n     \\forall k > 0,\\: \\mathbb{P} ( X_{t_k} \\> | \\> X_{t_0},...X_{t_{k-1}} )  =  \\mathbb{P} ( X_{t_k} \\> | \\> X_{t_{k-1}} )\n  \\end{aligned}\\end{align}\n\n\nThe transition matrix of the process $\\mathcal{M} = (m_{i,j})$ can be defined such that:\n\n\\begin{align}\\begin{aligned}\n        \\forall t_k \\in \\mathcal{D}, \\forall i,j < p , \\> m_{i+1,j+1} = \\mathbb{P} (X_{t_{k+1}} = j \\> | \\> X_{t_{k}} = i)\n    \\end{aligned}\\end{align}\n\nThe library proposes to model it through the object *DiscreteMarkovChain* defined thanks to the origin $X_{t_0}$\n(which can be either deterministic or uncertain), the transition matrix $\\mathcal{M}$ and the time grid.\n\n"
      ]
    },
    {
      "cell_type": "code",
      "execution_count": null,
      "metadata": {
        "collapsed": false
      },
      "outputs": [],
      "source": [
        "import openturns as ot\nimport openturns.viewer as viewer\nfrom matplotlib import pylab as plt\n\not.Log.Show(ot.Log.NONE)"
      ]
    },
    {
      "cell_type": "markdown",
      "metadata": {},
      "source": [
        "Define the origin\n\n"
      ]
    },
    {
      "cell_type": "code",
      "execution_count": null,
      "metadata": {
        "collapsed": false
      },
      "outputs": [],
      "source": [
        "origin = ot.Dirac(0.0)"
      ]
    },
    {
      "cell_type": "markdown",
      "metadata": {},
      "source": [
        "Define the transition matrix\n\n"
      ]
    },
    {
      "cell_type": "code",
      "execution_count": null,
      "metadata": {
        "collapsed": false
      },
      "outputs": [],
      "source": [
        "transition = ot.SquareMatrix([[0.1, 0.3, 0.6], [0.7, 0.1, 0.2], [0.5, 0.3, 0.2]])"
      ]
    },
    {
      "cell_type": "markdown",
      "metadata": {},
      "source": [
        "Define an 1-d mesh\n\n"
      ]
    },
    {
      "cell_type": "code",
      "execution_count": null,
      "metadata": {
        "collapsed": false
      },
      "outputs": [],
      "source": [
        "tgrid = ot.RegularGrid(0.0, 1.0, 50)"
      ]
    },
    {
      "cell_type": "markdown",
      "metadata": {},
      "source": [
        "Markov chain definition and realization\n\n"
      ]
    },
    {
      "cell_type": "code",
      "execution_count": null,
      "metadata": {
        "collapsed": false
      },
      "outputs": [],
      "source": [
        "process = ot.DiscreteMarkovChain(origin, transition, tgrid)\nreal = process.getRealization()\ngraph = real.drawMarginal(0)\ngraph.setTitle(\"Discrete Markov chain\")\nview = viewer.View(graph)"
      ]
    },
    {
      "cell_type": "markdown",
      "metadata": {},
      "source": [
        "Get several realizations\n\n"
      ]
    },
    {
      "cell_type": "code",
      "execution_count": null,
      "metadata": {
        "collapsed": false
      },
      "outputs": [],
      "source": [
        "process.setTimeGrid(ot.RegularGrid(0.0, 1.0, 20))\nreals = process.getSample(3)\ngraph = reals.drawMarginal(0)\ngraph.setTitle(\"Discrete Markov chain, 3 realizations\")\nview = viewer.View(graph)"
      ]
    },
    {
      "cell_type": "markdown",
      "metadata": {},
      "source": [
        "Markov chain future 10 steps\n\n"
      ]
    },
    {
      "cell_type": "code",
      "execution_count": null,
      "metadata": {
        "collapsed": false
      },
      "outputs": [],
      "source": [
        "future = process.getFuture(10)\ngraph = future.drawMarginal(0)\ngraph.setTitle(\"Markov chain future 10 steps\")\nview = viewer.View(graph)"
      ]
    },
    {
      "cell_type": "markdown",
      "metadata": {},
      "source": [
        "Markov chain 3 different futures\n\n"
      ]
    },
    {
      "cell_type": "code",
      "execution_count": null,
      "metadata": {
        "collapsed": false
      },
      "outputs": [],
      "source": [
        "futures = process.getFuture(10, 3)\ngraph = futures.drawMarginal(0)\ngraph.setTitle(\"Three Markov chain futures, 10 steps\")\nview = viewer.View(graph)\nplt.show()"
      ]
    }
  ],
  "metadata": {
    "kernelspec": {
      "display_name": "Python 3",
      "language": "python",
      "name": "python3"
    },
    "language_info": {
      "codemirror_mode": {
        "name": "ipython",
        "version": 3
      },
      "file_extension": ".py",
      "mimetype": "text/x-python",
      "name": "python",
      "nbconvert_exporter": "python",
      "pygments_lexer": "ipython3",
      "version": "3.11.7"
    }
  },
  "nbformat": 4,
  "nbformat_minor": 0
}