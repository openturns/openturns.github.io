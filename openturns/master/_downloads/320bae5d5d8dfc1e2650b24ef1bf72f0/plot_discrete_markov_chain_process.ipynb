{
  "cells": [
    {
      "cell_type": "markdown",
      "metadata": {},
      "source": [
        "\n# Create a discrete Markov chain process\n"
      ]
    },
    {
      "cell_type": "markdown",
      "metadata": {},
      "source": [
        "This example details first how to create and manipulate a discrete Markov chain.\n\nA discrete Markov chain $X: \\Omega \\times \\mathcal{D} \\rightarrow E$, where $E = [\\![ 0,...,p-1]\\!]$ is a process\nwhere $\\mathcal{D}=\\mathbb{R}$ discretized on the time grid $(t_k)_{k \\geq 0}$ such\nthat:\n\n\\begin{align}\\begin{aligned}\n     \\forall k > 0,\\: \\mathbb{P} ( X_{t_k} \\> | \\> X_{t_0},...X_{t_{k-1}} )  =  \\mathbb{P} ( X_{t_k} \\> | \\> X_{t_{k-1}} )\n  \\end{aligned}\\end{align}\n\n\nThe transition matrix of the process $\\mathcal{M} = (m_{i,j})$ can be defined such that:\n\n\\begin{align}\\begin{aligned}\n        \\forall t_k \\in \\mathcal{D}, \\forall i,j < p , \\> m_{i+1,j+1} = \\mathbb{P} (X_{t_{k+1}} = j \\> | \\> X_{t_{k}} = i)\n    \\end{aligned}\\end{align}\n\nThe library proposes to model it through the object :class:`~openturns.DiscreteMarkovChain` defined thanks to the origin $X_{t_0}$\n(which can be either deterministic or uncertain), the transition matrix $\\mathcal{M}$ and the time grid.\n\n"
      ]
    },
    {
      "cell_type": "code",
      "execution_count": null,
      "metadata": {
        "collapsed": false
      },
      "outputs": [],
      "source": [
        "import openturns as ot\nimport openturns.viewer as viewer\nfrom matplotlib import pylab as plt\n\not.Log.Show(ot.Log.NONE)"
      ]
    },
    {
      "cell_type": "markdown",
      "metadata": {},
      "source": [
        "Define a generic function to plot matrices\n\n"
      ]
    },
    {
      "cell_type": "code",
      "execution_count": null,
      "metadata": {
        "collapsed": false
      },
      "outputs": [],
      "source": [
        "def plotMatrix(matrix, texts=False, origin=None, colorbar=False, extent=None, **kwargs):\n    \"\"\"Generic procedure for displaying a matrix with or without text overlay and color bar\"\"\"\n    res = plt.matshow(matrix, origin=origin, extent=extent, **kwargs)\n    if texts:\n        if extent is None:\n            extent = (-0.5, matrix.getNbColumns() - 0.5, -0.5, matrix.getNbRows() - 0.5)\n        x_step = (extent[1] - extent[0]) / matrix.getNbColumns()\n        y_step = (extent[3] - extent[2]) / matrix.getNbRows()\n        for i in range(matrix.getNbColumns()):\n            for j in range(matrix.getNbRows()):\n                c = round(\n                    matrix[j if origin == \"lower\" else (matrix.getNbRows() - j - 1), i],\n                    2,\n                )\n                plt.text(\n                    i * x_step + extent[0] + x_step / 2,\n                    j * y_step + extent[2] + y_step / 2,\n                    str(c),\n                    va=\"center\",\n                    ha=\"center\",\n                )\n    if colorbar:\n        plt.colorbar(res)"
      ]
    },
    {
      "cell_type": "markdown",
      "metadata": {},
      "source": [
        "Define the origin\n\n"
      ]
    },
    {
      "cell_type": "code",
      "execution_count": null,
      "metadata": {
        "collapsed": false
      },
      "outputs": [],
      "source": [
        "origin = ot.Dirac(0.0)"
      ]
    },
    {
      "cell_type": "markdown",
      "metadata": {},
      "source": [
        "Define the transition matrix\n\n"
      ]
    },
    {
      "cell_type": "code",
      "execution_count": null,
      "metadata": {
        "collapsed": false
      },
      "outputs": [],
      "source": [
        "transition = ot.SquareMatrix(\n    [\n        [0.1, 0.3, 0.5, 0.1],\n        [0.6, 0.1, 0.2, 0.1],\n        [0.4, 0.3, 0.1, 0.2],\n        [0.2, 0.0, 0.1, 0.7],\n    ]\n)"
      ]
    },
    {
      "cell_type": "markdown",
      "metadata": {},
      "source": [
        "Visualize the transition matrix\n\n"
      ]
    },
    {
      "cell_type": "code",
      "execution_count": null,
      "metadata": {
        "collapsed": false
      },
      "outputs": [],
      "source": [
        "plt.matshow(transition)"
      ]
    },
    {
      "cell_type": "markdown",
      "metadata": {},
      "source": [
        "Invert axes and add texts\n\n"
      ]
    },
    {
      "cell_type": "code",
      "execution_count": null,
      "metadata": {
        "collapsed": false
      },
      "outputs": [],
      "source": [
        "plotMatrix(\n    transition,\n    cmap=\"gray\",\n    texts=True,\n    origin=\"lower\",\n    colorbar=True,\n    alpha=0.5,\n    vmin=0,\n    vmax=1,\n)"
      ]
    },
    {
      "cell_type": "markdown",
      "metadata": {},
      "source": [
        "Define an 1-d mesh\n\n"
      ]
    },
    {
      "cell_type": "code",
      "execution_count": null,
      "metadata": {
        "collapsed": false
      },
      "outputs": [],
      "source": [
        "tgrid = ot.RegularGrid(0.0, 1.0, 50)"
      ]
    },
    {
      "cell_type": "markdown",
      "metadata": {},
      "source": [
        "Markov chain definition and realization\n\n"
      ]
    },
    {
      "cell_type": "code",
      "execution_count": null,
      "metadata": {
        "collapsed": false
      },
      "outputs": [],
      "source": [
        "process = ot.DiscreteMarkovChain(origin, transition, tgrid)\nreal = process.getRealization()\ngraph = real.drawMarginal(0)\ngraph.setTitle(\"Discrete Markov chain\")\nview = viewer.View(graph)"
      ]
    },
    {
      "cell_type": "markdown",
      "metadata": {},
      "source": [
        "Get several realizations\n\n"
      ]
    },
    {
      "cell_type": "code",
      "execution_count": null,
      "metadata": {
        "collapsed": false
      },
      "outputs": [],
      "source": [
        "process.setTimeGrid(ot.RegularGrid(0.0, 1.0, 20))\nreals = process.getSample(3)\ngraph = reals.drawMarginal(0)\ngraph.setTitle(\"Discrete Markov chain, 3 realizations\")\nview = viewer.View(graph)"
      ]
    },
    {
      "cell_type": "markdown",
      "metadata": {},
      "source": [
        "Markov chain future 10 steps\n\n"
      ]
    },
    {
      "cell_type": "code",
      "execution_count": null,
      "metadata": {
        "collapsed": false
      },
      "outputs": [],
      "source": [
        "future = process.getFuture(10)\ngraph = future.drawMarginal(0)\ngraph.setTitle(\"Markov chain future 10 steps\")\nview = viewer.View(graph)"
      ]
    },
    {
      "cell_type": "markdown",
      "metadata": {},
      "source": [
        "Markov chain 3 different futures\n\n"
      ]
    },
    {
      "cell_type": "code",
      "execution_count": null,
      "metadata": {
        "collapsed": false
      },
      "outputs": [],
      "source": [
        "futures = process.getFuture(10, 3)\ngraph = futures.drawMarginal(0)\ngraph.setTitle(\"Three Markov chain futures, 10 steps\")\nview = viewer.View(graph)\nplt.show()"
      ]
    }
  ],
  "metadata": {
    "kernelspec": {
      "display_name": "Python 3",
      "language": "python",
      "name": "python3"
    },
    "language_info": {
      "codemirror_mode": {
        "name": "ipython",
        "version": 3
      },
      "file_extension": ".py",
      "mimetype": "text/x-python",
      "name": "python",
      "nbconvert_exporter": "python",
      "pygments_lexer": "ipython3",
      "version": "3.13.1"
    }
  },
  "nbformat": 4,
  "nbformat_minor": 0
}