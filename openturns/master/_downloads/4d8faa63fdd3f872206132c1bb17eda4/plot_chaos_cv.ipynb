{
  "cells": [
    {
      "cell_type": "markdown",
      "metadata": {},
      "source": [
        "\n# Chaos cross-validation\n"
      ]
    },
    {
      "cell_type": "markdown",
      "metadata": {},
      "source": [
        "In this example, we show how to perform the cross-validation of the\n`Ishigami model<use-case-ishigami>` using polynomial chaos expansion.\nMore precisely, we use the methods suggested in [muller2016]_, chapter 5, page 257.\nWe make the assumption that a dataset is given and we create a metamodel using this data.\nOnce done, we want to assess the quality of the metamodel using the data we have.\n\nWe compare several methods:\n\n- split the data into two subsets, one for training and one for testing,\n- use k-fold validation.\n\nThe split of the data is performed by the `compute_Q2_score_by_splitting` function below.\nIt uses 75% of the data to estimate the coefficients of the metamodel (this is the training step)\nand use 25% of the data to estimate the $Q^2$ score (this is the validation step).\nTo do this, we use the `split` method of the :class:`~openturns.Sample`.\n\nThe K-Fold validation is performed by the `compute_Q2_score_by_kfold` function below.\nIt uses the K-Fold method with $k = 5$.\nThe code uses the :class:`~openturns.KFoldSplitter` class, which computes the appropriate indices.\nSimilar results can be obtained with :class:`~openturns.LeaveOneOutSplitter` at a higher cost.\n\nThis cross-validation method is used here to see which polynomial degree\nleads to an accurate metamodel of the Ishigami test function.\n\n"
      ]
    },
    {
      "cell_type": "code",
      "execution_count": null,
      "metadata": {
        "collapsed": false
      },
      "outputs": [],
      "source": [
        "import openturns as ot\nimport openturns.viewer as otv\nfrom openturns.usecases import ishigami_function"
      ]
    },
    {
      "cell_type": "code",
      "execution_count": null,
      "metadata": {
        "collapsed": false
      },
      "outputs": [],
      "source": [
        "def compute_sparse_least_squares_chaos(\n    inputTrain, outputTrain, basis, totalDegree, distribution\n):\n    \"\"\"\n    Create a sparse polynomial chaos based on least squares.\n\n    * Uses the enumerate rule in basis.\n    * Uses the LeastSquaresStrategy to compute the coefficients based on\n      least squares.\n    * Uses LeastSquaresMetaModelSelectionFactory to use the LARS selection method.\n    * Uses FixedStrategy in order to keep all the coefficients that the\n      LARS method selected.\n\n    Parameters\n    ----------\n    inputTrain : Sample\n        The input design of experiments.\n    outputTrain : Sample\n        The output design of experiments.\n    basis : Basis\n        The multivariate chaos basis.\n    totalDegree : int\n        The total degree of the chaos polynomial.\n    distribution : Distribution.\n        The distribution of the input variable.\n\n    Returns\n    -------\n    result : PolynomialChaosResult\n        The estimated polynomial chaos.\n    \"\"\"\n    selectionAlgorithm = ot.LeastSquaresMetaModelSelectionFactory()\n    projectionStrategy = ot.LeastSquaresStrategy(\n        inputTrain, outputTrain, selectionAlgorithm\n    )\n    enumfunc = basis.getEnumerateFunction()\n    P = enumfunc.getStrataCumulatedCardinal(totalDegree)\n    adaptiveStrategy = ot.FixedStrategy(basis, P)\n    chaosalgo = ot.FunctionalChaosAlgorithm(\n        inputTrain, outputTrain, distribution, adaptiveStrategy, projectionStrategy\n    )\n    chaosalgo.run()\n    result = chaosalgo.getResult()\n    return result"
      ]
    },
    {
      "cell_type": "code",
      "execution_count": null,
      "metadata": {
        "collapsed": false
      },
      "outputs": [],
      "source": [
        "def compute_Q2_score_by_splitting(\n    X, Y, basis, totalDegree, distribution, split_fraction=0.75\n):\n    \"\"\"\n    Compute Q2 score by splitting into train/test sets.\n\n    Parameters\n    ----------\n    X : Sample(size, input_dimension)\n        The X dataset.\n    Y : Sample(size, output_dimension)\n        The Y dataset.\n\n    Returns\n    -------\n    Q2_score : float\n        The Q2 score.\n    \"\"\"\n\n    training_sample_size = X.getSize()\n    X_train = ot.Sample(X)\n    Y_train = ot.Sample(Y)\n    split_index = int(split_fraction * training_sample_size)\n    X_test = X_train.split(split_index)\n    Y_test = Y_train.split(split_index)\n    result = compute_sparse_least_squares_chaos(\n        X_train, Y_train, basis, totalDegree, distribution\n    )\n    metamodel = result.getMetaModel()\n    val = ot.MetaModelValidation(X_test, Y_test, metamodel)\n    Q2_score = val.computePredictivityFactor()[0]\n    return Q2_score"
      ]
    },
    {
      "cell_type": "code",
      "execution_count": null,
      "metadata": {
        "collapsed": false
      },
      "outputs": [],
      "source": [
        "def compute_Q2_score_by_kfold(X, Y, basis, totalDegree, distribution, n_folds=5):\n    \"\"\"\n    Compute score by KFold.\n\n    Parameters\n    ----------\n    X : Sample(size, input_dimension)\n        The X dataset.\n    Y : Sample(size, output_dimension)\n        The Y dataset.\n\n    Returns\n    -------\n    Q2_score : float\n        The Q2 score.\n    \"\"\"\n    #\n    training_sample_size = X.getSize()\n    splitter = ot.KFoldSplitter(training_sample_size, n_folds)\n    Q2_score_list = ot.Sample(0, 1)\n    for indices1, indices2 in splitter:\n        X_train, X_test = X[indices1], X[indices2]\n        Y_train, Y_test = Y[indices1], Y[indices2]\n        result = compute_sparse_least_squares_chaos(\n            X_train, Y_train, basis, totalDegree, distribution\n        )\n        metamodel = result.getMetaModel()\n        val = ot.MetaModelValidation(X_test, Y_test, metamodel)\n        Q2_local = val.computePredictivityFactor()[0]\n        Q2_score_list.add([Q2_local])\n    Q2_score = Q2_score_list.computeMean()[0]\n    return Q2_score"
      ]
    },
    {
      "cell_type": "markdown",
      "metadata": {},
      "source": [
        "We start by generating the input and output sample. We use a sample size equal to 1000.\n\n"
      ]
    },
    {
      "cell_type": "code",
      "execution_count": null,
      "metadata": {
        "collapsed": false
      },
      "outputs": [],
      "source": [
        "im = ishigami_function.IshigamiModel()\nim.distributionX.setDescription([\"X0\", \"X1\", \"X2\"])\nim.model.setOutputDescription([\"$Y$\"])\not.RandomGenerator.SetSeed(0)\nsample_size = 1000\nX = im.distributionX.getSample(sample_size)\nprint(\"Input sample:\")\nX[:5]"
      ]
    },
    {
      "cell_type": "code",
      "execution_count": null,
      "metadata": {
        "collapsed": false
      },
      "outputs": [],
      "source": [
        "Y = im.model(X)\nY.setDescription([\"Y\"])\nprint(\"Output sample:\")\nY[:5]"
      ]
    },
    {
      "cell_type": "markdown",
      "metadata": {},
      "source": [
        "We compute a polynomial chaos decomposition with a total degree equal to 5.\nIn order to reduce the number of coefficients, the `compute_sparse_least_squares_chaos`\nfunction creates a sparse chaos using regression and the LARS method.\n\n"
      ]
    },
    {
      "cell_type": "code",
      "execution_count": null,
      "metadata": {
        "collapsed": false
      },
      "outputs": [],
      "source": [
        "dimension = im.distributionX.getDimension()\nbasis = ot.OrthogonalProductPolynomialFactory(\n    [im.distributionX.getMarginal(i) for i in range(dimension)]\n)\ntotalDegree = 5  # Polynomial degree\nresult = compute_sparse_least_squares_chaos(X, Y, basis, totalDegree, im.distributionX)\nresult"
      ]
    },
    {
      "cell_type": "markdown",
      "metadata": {},
      "source": [
        "Get the metamodel.\n\n"
      ]
    },
    {
      "cell_type": "code",
      "execution_count": null,
      "metadata": {
        "collapsed": false
      },
      "outputs": [],
      "source": [
        "metamodel = result.getMetaModel()"
      ]
    },
    {
      "cell_type": "markdown",
      "metadata": {},
      "source": [
        "In order to validate our polynomial chaos, we generate an extra pair of\ninput / output samples and use the :class:`~openturns.MetaModelValidation` class.\n\n"
      ]
    },
    {
      "cell_type": "code",
      "execution_count": null,
      "metadata": {
        "collapsed": false
      },
      "outputs": [],
      "source": [
        "test_sample_size = 200  # Size of the validation design of experiments\ninputTest = im.distributionX.getSample(test_sample_size)\noutputTest = im.model(inputTest)\nvalidation = ot.MetaModelValidation(inputTest, outputTest, metamodel)\nQ2 = validation.computePredictivityFactor()[0]\ngraph = validation.drawValidation()\ngraph.setTitle(\"Q2=%.2f, n=%d\" % (Q2, test_sample_size))\nview = otv.View(graph)"
      ]
    },
    {
      "cell_type": "markdown",
      "metadata": {},
      "source": [
        "The plot shows that the score is relatively high and might be satisfactory for some purposes.\nThere are however several issues with the previous procedure:\n\n- It may happen that the data in the validation sample with size 200 is more\n  difficult to fit than the data in the training dataset.\n  In this case, the $Q^2$ score may be pessimistic.\n- It may happen that the data in the validation sample with size 200 is\n  less difficult to fit than the data in the validation dataset.\n  In this case, the $Q^2$ score may be optimistic.\n- We may not be able to generate an extra dataset for validation.\n  In this case, a part of the original dataset should be used for validation.\n- The polynomial degree may not be appropriate for this data.\n- The dataset may be ordered in some way, so that the split is somewhat arbitrary.\n  One solution to circumvent this is to randomly shuffle the data.\n  This can be done using the :class:`~openturns.KPermutationsDistribution`.\n\nThe K-Fold validation aims at solving some of these issues, so that all the\navailable data is used in order to estimate the $Q^2$ score.\n\n"
      ]
    },
    {
      "cell_type": "markdown",
      "metadata": {},
      "source": [
        "In the following script, we compute the $Q^2$ score associated with each polynomial degree from 1 to 10.\n\n"
      ]
    },
    {
      "cell_type": "code",
      "execution_count": null,
      "metadata": {
        "collapsed": false
      },
      "outputs": [],
      "source": [
        "degree_max = 10\ndegree_list = list(range(1, degree_max))\nn_degrees = len(degree_list)\nscore_sample = ot.Sample(len(degree_list), 1)\nfor i in range(n_degrees):\n    totalDegree = degree_list[i]\n    score_sample[i, 0] = compute_Q2_score_by_splitting(\n        X, Y, basis, totalDegree, im.distributionX\n    )\n    print(f\"split - degree = {totalDegree}, score = {score_sample[i, 0]:.4f}\")"
      ]
    },
    {
      "cell_type": "code",
      "execution_count": null,
      "metadata": {
        "collapsed": false
      },
      "outputs": [],
      "source": [
        "graph = ot.Graph(\"Split\", \"Degree\", \"$Q^2$\", True)\ncloud = ot.Cloud(ot.Sample.BuildFromPoint(degree_list), score_sample)\ngraph.add(cloud)\nview = otv.View(graph)"
      ]
    },
    {
      "cell_type": "markdown",
      "metadata": {},
      "source": [
        "We see that the polynomial degree may be increased up to degree 7,\nafter which the $Q^2$ score does not increase much.\n\nOne limitation of the previous method is that the estimate of the $Q^2$ may be sensitive to the particular split of the dataset.\nThe following script uses 5-Fold cross validation to estimate the $Q^2$ score.\n\n"
      ]
    },
    {
      "cell_type": "code",
      "execution_count": null,
      "metadata": {
        "collapsed": false
      },
      "outputs": [],
      "source": [
        "score_sample = ot.Sample(len(degree_list), 1)\nfor i in range(n_degrees):\n    totalDegree = degree_list[i]\n    score_sample[i, 0] = compute_Q2_score_by_kfold(\n        X, Y, basis, totalDegree, im.distributionX\n    )\n    print(f\"k-fold, degree = {totalDegree}, score = {score_sample[i, 0]:.4f}\")"
      ]
    },
    {
      "cell_type": "code",
      "execution_count": null,
      "metadata": {
        "collapsed": false
      },
      "outputs": [],
      "source": [
        "graph = ot.Graph(\"K-Fold\", \"Degree\", \"$Q^2$\", True)\ncloud = ot.Cloud(ot.Sample.BuildFromPoint(degree_list), score_sample)\ngraph.add(cloud)\nview = otv.View(graph)"
      ]
    },
    {
      "cell_type": "markdown",
      "metadata": {},
      "source": [
        "The conclusion is similar to the previous method.\n\nWhen we select the best polynomial degree which maximizes the $Q^2$ score,\nthe danger is that the validation set is used both for computing the $Q^2$ and to maximize it:\nhence, the $Q^2$ score may be optimistic.\nIn [muller2016]_, chapter 5, page 269, the authors advocate the split of the dataset into three subsets:\n\n- the training set,\n- the validation set,\n- the test set.\n\nWhen selecting the best parameters, the validation set is used.\nWhen estimating the $Q^2$ score with the best parameters, the test set is used.\n\n"
      ]
    },
    {
      "cell_type": "code",
      "execution_count": null,
      "metadata": {
        "collapsed": false
      },
      "outputs": [],
      "source": [
        "otv.View.ShowAll()"
      ]
    }
  ],
  "metadata": {
    "kernelspec": {
      "display_name": "Python 3",
      "language": "python",
      "name": "python3"
    },
    "language_info": {
      "codemirror_mode": {
        "name": "ipython",
        "version": 3
      },
      "file_extension": ".py",
      "mimetype": "text/x-python",
      "name": "python",
      "nbconvert_exporter": "python",
      "pygments_lexer": "ipython3",
      "version": "3.11.3"
    }
  },
  "nbformat": 4,
  "nbformat_minor": 0
}