{
  "cells": [
    {
      "cell_type": "markdown",
      "metadata": {},
      "source": [
        "\n# Polynomial chaos expansion cross-validation\n"
      ]
    },
    {
      "cell_type": "markdown",
      "metadata": {},
      "source": [
        "## Introduction\n\nIn this example, we show how to perform the cross-validation of the\n`Ishigami model<use-case-ishigami>` using polynomial chaos expansion.\nMore precisely, we use the methods suggested in [muller2016]_, chapter 5, page 257.\nWe make the assumption that a dataset is given and we create a metamodel using this data.\nOnce done, we want to assess the quality of the metamodel using the data we have.\nAnother example of this method is presented in\n:doc:`/auto_numerical_methods/general_methods/plot_pce_design`.\n\nIn this example, we compare two methods:\n\n- split the data into two subsets, one for training and one for testing,\n- use k-fold validation.\n\nThe split of the data is performed by the `compute_R2_score_by_splitting` function below.\nIt uses 75% of the data to estimate the coefficients of the metamodel (this is the training step)\nand use 25% of the data to estimate the $R^2$ score (this is the validation step).\nTo do this, we use the `split` method of the :class:`~openturns.Sample`.\n\nThe K-Fold validation is performed by the `compute_R2_score_by_kfold` function below.\nIt uses the K-Fold method with $k = 5$.\nThe code uses the :class:`~openturns.KFoldSplitter` class, which computes the appropriate indices.\nSimilar results can be obtained with :class:`~openturns.LeaveOneOutSplitter` at a higher cost.\nThis cross-validation method is used here to see which polynomial degree\nleads to an accurate metamodel of the Ishigami test function.\n\n"
      ]
    },
    {
      "cell_type": "code",
      "execution_count": null,
      "metadata": {
        "collapsed": false
      },
      "outputs": [],
      "source": [
        "import openturns as ot\nimport openturns.viewer as otv\nfrom openturns.usecases import ishigami_function"
      ]
    },
    {
      "cell_type": "markdown",
      "metadata": {},
      "source": [
        "## Define helper functions\n\n"
      ]
    },
    {
      "cell_type": "markdown",
      "metadata": {},
      "source": [
        "The next function creates a polynomial chaos expansion from\na training data set and a total degree.\n\n"
      ]
    },
    {
      "cell_type": "code",
      "execution_count": null,
      "metadata": {
        "collapsed": false
      },
      "outputs": [],
      "source": [
        "def compute_sparse_least_squares_chaos(\n    inputTrain, outputTrain, multivariateBasis, totalDegree, distribution\n):\n    \"\"\"\n    Create a sparse polynomial chaos based on least squares.\n\n    * Uses the enumerate rule in multivariateBasis.\n    * Uses the LeastSquaresStrategy to compute the coefficients based on\n      least squares.\n    * Uses LeastSquaresMetaModelSelectionFactory to use the LARS selection method.\n    * Uses FixedStrategy in order to keep all the coefficients that the\n      LARS method selected.\n\n    Parameters\n    ----------\n    inputTrain : Sample\n        The input design of experiments.\n    outputTrain : Sample\n        The output design of experiments.\n    multivariateBasis : multivariateBasis\n        The multivariate chaos multivariateBasis.\n    totalDegree : int\n        The total degree of the chaos polynomial.\n    distribution : Distribution.\n        The distribution of the input variable.\n\n    Returns\n    -------\n    result : PolynomialChaosResult\n        The estimated polynomial chaos.\n    \"\"\"\n    selectionAlgorithm = ot.LeastSquaresMetaModelSelectionFactory()\n    projectionStrategy = ot.LeastSquaresStrategy(\n        inputTrain, outputTrain, selectionAlgorithm\n    )\n    enumerateFunction = multivariateBasis.getEnumerateFunction()\n    multivariateBasisSize = enumerateFunction.getBasisSizeFromTotalDegree(totalDegree)\n    adaptiveStrategy = ot.FixedStrategy(multivariateBasis, multivariateBasisSize)\n    chaosAlgo = ot.FunctionalChaosAlgorithm(\n        inputTrain, outputTrain, distribution, adaptiveStrategy, projectionStrategy\n    )\n    chaosAlgo.run()\n    result = chaosAlgo.getResult()\n    return result"
      ]
    },
    {
      "cell_type": "markdown",
      "metadata": {},
      "source": [
        "The next function computes the R2 score by splitting the data set\ninto a training set and a test set.\n\n"
      ]
    },
    {
      "cell_type": "code",
      "execution_count": null,
      "metadata": {
        "collapsed": false
      },
      "outputs": [],
      "source": [
        "def compute_R2_score_by_splitting(\n    inputSample,\n    outputSample,\n    multivariateBasis,\n    totalDegree,\n    distribution,\n    split_fraction=0.75,\n):\n    \"\"\"\n    Compute R2 score by splitting into train/test sets.\n\n    Parameters\n    ----------\n    inputSample : Sample(size, input_dimension)\n        The X dataset.\n    outputSample : Sample(size, output_dimension)\n        The Y dataset.\n    multivariateBasis : multivariateBasis\n        The multivariate chaos multivariateBasis.\n    totalDegree : int\n        The total degree of the chaos polynomial.\n    distribution : Distribution.\n        The distribution of the input variable.\n    split_fraction : float, in (0, 1)\n        The proportion of the sample used in the training.\n\n    Returns\n    -------\n    r2Score : float\n        The R2 score.\n    \"\"\"\n\n    training_sample_size = inputSample.getSize()\n    inputSampleTrain = ot.Sample(inputSample)  # Make a copy\n    outputSampleTrain = ot.Sample(outputSample)\n    split_index = int(split_fraction * training_sample_size)\n    inputSampleTest = inputSampleTrain.split(split_index)\n    outputSampleTest = outputSampleTrain.split(split_index)\n    chaosResult = compute_sparse_least_squares_chaos(\n        inputSampleTrain,\n        outputSampleTrain,\n        multivariateBasis,\n        totalDegree,\n        distribution,\n    )\n    metamodel = chaosResult.getMetaModel()\n    metamodelPredictions = metamodel(inputSampleTest)\n    val = ot.MetaModelValidation(outputSampleTest, metamodelPredictions)\n    r2Score = val.computeR2Score()\n    return r2Score"
      ]
    },
    {
      "cell_type": "markdown",
      "metadata": {},
      "source": [
        "The next function computes the mean squared error by K-Fold.\n\n"
      ]
    },
    {
      "cell_type": "code",
      "execution_count": null,
      "metadata": {
        "collapsed": false
      },
      "outputs": [],
      "source": [
        "def computeMSENaiveKFold(\n    inputSample,\n    outputSample,\n    multivariateBasis,\n    totalDegree,\n    distribution,\n    kParameter=5,\n):\n    \"\"\"\n    Compute mean squared error by (naive) KFold.\n\n    Parameters\n    ----------\n    inputSample : Sample(size, input_dimension)\n        The inputSample dataset.\n    outputSample : Sample(size, output_dimension)\n        The outputSample dataset.\n    multivariateBasis : multivariateBasis\n        The multivariate chaos multivariateBasis.\n    totalDegree : int\n        The total degree of the chaos polynomial.\n    distribution : Distribution.\n        The distribution of the input variable.\n    kParameter : int, in (2, sampleSize)\n        The parameter K.\n\n    Returns\n    -------\n    mse : Point(output_dimension)\n        The mean squared error.\n    \"\"\"\n    #\n    sampleSize = inputSample.getSize()\n    outputDimension = outputSample.getDimension()\n    splitter = ot.KFoldSplitter(sampleSize, kParameter)\n    squaredResiduals = ot.Sample(sampleSize, outputDimension)\n    for indicesTrain, indicesTest in splitter:\n        inputSampleTrain, inputSampleTest = (\n            inputSample[indicesTrain],\n            inputSample[indicesTest],\n        )\n        outputSampleTrain, outputSampleTest = (\n            outputSample[indicesTrain],\n            outputSample[indicesTest],\n        )\n        chaosResultKFold = compute_sparse_least_squares_chaos(\n            inputSampleTrain,\n            outputSampleTrain,\n            multivariateBasis,\n            totalDegree,\n            distribution,\n        )\n        metamodelKFold = chaosResultKFold.getMetaModel()\n        predictionsKFold = metamodelKFold(inputSampleTest)\n        residualsKFold = outputSampleTest - predictionsKFold\n        foldSize = indicesTest.getSize()\n        for j in range(outputDimension):\n            for i in range(foldSize):\n                squaredResiduals[indicesTest[i], j] = residualsKFold[i, j] ** 2\n    mse = squaredResiduals.computeMean()\n    return mse"
      ]
    },
    {
      "cell_type": "markdown",
      "metadata": {},
      "source": [
        "The next function computes the R2 score by K-Fold.\n\n"
      ]
    },
    {
      "cell_type": "code",
      "execution_count": null,
      "metadata": {
        "collapsed": false
      },
      "outputs": [],
      "source": [
        "def compute_R2_score_by_kfold(\n    inputSample,\n    outputSample,\n    multivariateBasis,\n    totalDegree,\n    distribution,\n    kParameter=5,\n):\n    \"\"\"\n    Compute R2 score by KFold.\n\n    Parameters\n    ----------\n    inputSample : Sample(size, input_dimension)\n        The X dataset.\n    outputSample : Sample(size, output_dimension)\n        The Y dataset.\n    multivariateBasis : multivariateBasis\n        The multivariate chaos multivariateBasis.\n    totalDegree : int\n        The total degree of the chaos polynomial.\n    distribution : Distribution.\n        The distribution of the input variable.\n    kParameter : int\n        The parameter K.\n\n    Returns\n    -------\n    r2Score : float\n        The R2 score.\n    \"\"\"\n    #\n    mse = computeMSENaiveKFold(\n        inputSample,\n        outputSample,\n        multivariateBasis,\n        totalDegree,\n        distribution,\n        kParameter,\n    )\n    sampleVariance = outputSample.computeCentralMoment(2)\n    outputDimension = outputSample.getDimension()\n    r2Score = ot.Point(outputDimension)\n    for i in range(outputDimension):\n        r2Score[i] = 1.0 - mse[i] / sampleVariance[i]\n    return r2Score"
      ]
    },
    {
      "cell_type": "markdown",
      "metadata": {},
      "source": [
        "## Define the training data set\n\n"
      ]
    },
    {
      "cell_type": "markdown",
      "metadata": {},
      "source": [
        "We start by generating the input and output sample. We use a sample size equal to 1000.\n\n"
      ]
    },
    {
      "cell_type": "code",
      "execution_count": null,
      "metadata": {
        "collapsed": false
      },
      "outputs": [],
      "source": [
        "im = ishigami_function.IshigamiModel()\nim.distributionX.setDescription([\"X0\", \"X1\", \"X2\"])\nim.model.setOutputDescription([\"$Y$\"])\not.RandomGenerator.SetSeed(0)\nsample_size = 500\nX = im.distributionX.getSample(sample_size)\nprint(\"Input sample:\")\nX[:5]"
      ]
    },
    {
      "cell_type": "code",
      "execution_count": null,
      "metadata": {
        "collapsed": false
      },
      "outputs": [],
      "source": [
        "Y = im.model(X)\nY.setDescription([\"Y\"])\nprint(\"Output sample:\")\nY[:5]"
      ]
    },
    {
      "cell_type": "markdown",
      "metadata": {},
      "source": [
        "We compute a polynomial chaos decomposition with a total degree equal to 5.\nIn order to reduce the number of coefficients, the `compute_sparse_least_squares_chaos`\nfunction creates a sparse chaos using regression and the LARS method.\n\n"
      ]
    },
    {
      "cell_type": "code",
      "execution_count": null,
      "metadata": {
        "collapsed": false
      },
      "outputs": [],
      "source": [
        "dimension = im.distributionX.getDimension()\nmultivariateBasis = ot.OrthogonalProductPolynomialFactory(\n    [im.distributionX.getMarginal(i) for i in range(dimension)]\n)\ntotalDegree = 5  # Polynomial degree\nresult = compute_sparse_least_squares_chaos(\n    X, Y, multivariateBasis, totalDegree, im.distributionX\n)\nresult"
      ]
    },
    {
      "cell_type": "markdown",
      "metadata": {},
      "source": [
        "Get the metamodel.\n\n"
      ]
    },
    {
      "cell_type": "code",
      "execution_count": null,
      "metadata": {
        "collapsed": false
      },
      "outputs": [],
      "source": [
        "metamodel = result.getMetaModel()"
      ]
    },
    {
      "cell_type": "markdown",
      "metadata": {},
      "source": [
        "## Validate the metamodel from a test set\n\n"
      ]
    },
    {
      "cell_type": "markdown",
      "metadata": {},
      "source": [
        "In order to validate our polynomial chaos, we generate an extra pair of\ninput / output samples and use the :class:`~openturns.MetaModelValidation` class.\n\n"
      ]
    },
    {
      "cell_type": "code",
      "execution_count": null,
      "metadata": {
        "collapsed": false
      },
      "outputs": [],
      "source": [
        "test_sample_size = 200  # Size of the validation design of experiments\ninputTest = im.distributionX.getSample(test_sample_size)\noutputTest = im.model(inputTest)\nmetamodelPredictions = metamodel(inputTest)\nvalidation = ot.MetaModelValidation(outputTest, metamodelPredictions)\nr2Score = validation.computeR2Score()[0]\ngraph = validation.drawValidation()\ngraph.setTitle(\"R2=%.2f, n=%d\" % (r2Score, test_sample_size))\nview = otv.View(graph)"
      ]
    },
    {
      "cell_type": "markdown",
      "metadata": {},
      "source": [
        "The plot shows that the score is relatively high and might be satisfactory for some purposes.\nThere are however several issues with the previous procedure:\n\n- It may happen that the data in the validation sample with size 200 is more\n  difficult to fit than the data in the training dataset.\n  In this case, the $R^2$ score may be pessimistic.\n- It may happen that the data in the validation sample with size 200 is\n  less difficult to fit than the data in the validation dataset.\n  In this case, the $R^2$ score may be optimistic.\n- We may not be able to generate an extra dataset for validation.\n  In this case, a part of the original dataset should be used for validation.\n- The polynomial degree may not be appropriate for this data.\n- The dataset may be ordered in some way, so that the split is somewhat arbitrary.\n  One solution to circumvent this is to randomly shuffle the data.\n  This can be done using the :class:`~openturns.KPermutationsDistribution`.\n\nThe K-Fold validation aims at solving some of these issues, so that all the\navailable data is used in order to estimate the $R^2$ score.\n\n"
      ]
    },
    {
      "cell_type": "markdown",
      "metadata": {},
      "source": [
        "## Compute the R2 score from a test set\n\n"
      ]
    },
    {
      "cell_type": "markdown",
      "metadata": {},
      "source": [
        "In the following script, we compute the $R^2$ score associated with each polynomial degree from 1 to 10.\n\n"
      ]
    },
    {
      "cell_type": "code",
      "execution_count": null,
      "metadata": {
        "collapsed": false
      },
      "outputs": [],
      "source": [
        "split_fraction = 0.75\nprint(f\"Split cross-validation, with {100 * split_fraction:.0f}% for training\")\ndegree_max = 10\ndegree_list = list(range(1, 1 + degree_max))\nn_degrees = len(degree_list)\nscoreSampleSplit = ot.Sample(len(degree_list), 1)\nfor i in range(n_degrees):\n    totalDegree = degree_list[i]\n    scoreSampleSplit[i] = compute_R2_score_by_splitting(\n        X, Y, multivariateBasis, totalDegree, im.distributionX, split_fraction\n    )\n    print(f\"Degree = {totalDegree}, score = {scoreSampleSplit[i, 0]:.4f}\")"
      ]
    },
    {
      "cell_type": "code",
      "execution_count": null,
      "metadata": {
        "collapsed": false
      },
      "outputs": [],
      "source": [
        "graph = ot.Graph(\n    f\"Split CV, {100 * split_fraction:.0f}% for training\", \"Degree\", \"$R^2$\", True\n)\ncloud = ot.Cloud(ot.Sample.BuildFromPoint(degree_list), scoreSampleSplit)\ncloud.setPointStyle(\"circle\")\ngraph.add(cloud)\nboundingBox = ot.Interval([0.0, 0.0], [1 + degree_max, 1.1])\ngraph.setBoundingBox(boundingBox)\nview = otv.View(graph, figure_kw={\"figsize\": (5.0, 4.0)})"
      ]
    },
    {
      "cell_type": "markdown",
      "metadata": {},
      "source": [
        "We see that the polynomial degree may be increased up to degree 7,\nafter which the $R^2$ score does not increase much.\n\n"
      ]
    },
    {
      "cell_type": "markdown",
      "metadata": {},
      "source": [
        "## Compute the R2 score from K-Fold cross-validation\n\nOne limitation of the previous method is that the estimate of the\n$R^2$ may be sensitive to the particular split of the dataset.\nThe following script uses 5-Fold cross validation to estimate the\n$R^2$ score.\n\n"
      ]
    },
    {
      "cell_type": "code",
      "execution_count": null,
      "metadata": {
        "collapsed": false
      },
      "outputs": [],
      "source": [
        "kParameter = 5\nprint(f\"{kParameter}-Fold cross-validation\")\nscoreSampleKFold = ot.Sample(len(degree_list), 1)\nfor i in range(n_degrees):\n    totalDegree = degree_list[i]\n    scoreSampleKFold[i] = compute_R2_score_by_kfold(\n        X, Y, multivariateBasis, totalDegree, im.distributionX, kParameter\n    )\n    print(f\"Degree = {totalDegree}, score = {scoreSampleKFold[i, 0]:.4f}\")"
      ]
    },
    {
      "cell_type": "code",
      "execution_count": null,
      "metadata": {
        "collapsed": false
      },
      "outputs": [],
      "source": [
        "graph = ot.Graph(f\"{kParameter}-Fold cross-validation\", \"Degree\", \"$R^2$\", True)\ncloud = ot.Cloud(ot.Sample.BuildFromPoint(degree_list), scoreSampleKFold)\ncloud.setPointStyle(\"square\")\ngraph.add(cloud)\ngraph.setBoundingBox(boundingBox)\nview = otv.View(graph, figure_kw={\"figsize\": (5.0, 4.0)})"
      ]
    },
    {
      "cell_type": "markdown",
      "metadata": {},
      "source": [
        "The conclusion is similar to the previous method.\n\n"
      ]
    },
    {
      "cell_type": "markdown",
      "metadata": {},
      "source": [
        "Compare the two cross-validation methods.\nsphinx_gallery_thumbnail_number = 4\n\n"
      ]
    },
    {
      "cell_type": "code",
      "execution_count": null,
      "metadata": {
        "collapsed": false
      },
      "outputs": [],
      "source": [
        "graph = ot.Graph(\"CV : split vs K-Fold\", \"Degree\", \"$R^2$\", True)\ncloud = ot.Cloud(ot.Sample.BuildFromPoint(degree_list), scoreSampleSplit)\ncloud.setPointStyle(\"circle\")\ncloud.setLegend(\"Split\")\ngraph.add(cloud)\ncloud = ot.Cloud(ot.Sample.BuildFromPoint(degree_list), scoreSampleKFold)\ncloud.setPointStyle(\"square\")\ncloud.setLegend(\"K-Fold\")\ngraph.add(cloud)\ngraph.setLegendPosition(\"topleft\")\ngraph.setColors(ot.Drawable().BuildDefaultPalette(2))\ngraph.setBoundingBox(boundingBox)\nview = otv.View(graph, figure_kw={\"figsize\": (5.0, 4.0)})"
      ]
    },
    {
      "cell_type": "markdown",
      "metadata": {},
      "source": [
        "## Conclusion\n\nWhen we select the best polynomial degree which maximizes the $R^2$ score,\nthe danger is that the validation set is used both for computing the $R^2$ and to maximize it:\nhence, the $R^2$ score may be optimistic.\nIn [muller2016]_, chapter 5, page 269, the authors advocate the split of the dataset into three subsets:\n\n- the training set,\n- the validation set,\n- the test set.\n\nWhen selecting the best parameters, the validation set is used.\nWhen estimating the $R^2$ score with the best parameters, the test set is used.\n\n"
      ]
    },
    {
      "cell_type": "code",
      "execution_count": null,
      "metadata": {
        "collapsed": false
      },
      "outputs": [],
      "source": [
        "otv.View.ShowAll()"
      ]
    }
  ],
  "metadata": {
    "kernelspec": {
      "display_name": "Python 3",
      "language": "python",
      "name": "python3"
    },
    "language_info": {
      "codemirror_mode": {
        "name": "ipython",
        "version": 3
      },
      "file_extension": ".py",
      "mimetype": "text/x-python",
      "name": "python",
      "nbconvert_exporter": "python",
      "pygments_lexer": "ipython3",
      "version": "3.12.3"
    }
  },
  "nbformat": 4,
  "nbformat_minor": 0
}