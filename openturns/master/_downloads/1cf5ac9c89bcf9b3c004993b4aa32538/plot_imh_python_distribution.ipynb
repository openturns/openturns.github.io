{
  "cells": [
    {
      "cell_type": "markdown",
      "metadata": {},
      "source": [
        "\n# Sampling from an unnormalized probability density\nWe sample from an unnormalized probability density\nusing Metropolis-Hastings algorithms.\n\n\\begin{align}f(x) = \\frac{1}{2} (2 + \\sin(x)^2) \\exp \\left[- \\left(2 + \\cos(3x)^3 + \\sin(2x)^3 \\right) x \\right] \\mathbf{1}_{[0, 2 \\pi]}(x).\\end{align}\n\nThis example is drawn from [1].\n"
      ]
    },
    {
      "cell_type": "markdown",
      "metadata": {},
      "source": [
        "## Draw the unnormalized probability density\n\n"
      ]
    },
    {
      "cell_type": "code",
      "execution_count": null,
      "metadata": {
        "collapsed": false
      },
      "outputs": [],
      "source": [
        "import openturns as ot\nfrom openturns.viewer import View\nfrom numpy import pi\n\not.RandomGenerator.SetSeed(1)\nf = ot.SymbolicFunction(\n    \"x\", \"0.5 * (2 + sin(x)^2) * exp( -( 2 + cos(3*x)^3 + sin(2*x)^3) * x )\"\n)\nlower_bound = 0.0\nupper_bound = 2.0 * pi\ngraph = f.draw(lower_bound, upper_bound, 100)\ngraph.setTitle(\"Christian Robert tough density\")\ngraph.setXTitle(\"\")\ngraph.setYTitle(\"\")\n_ = View(graph)"
      ]
    },
    {
      "cell_type": "markdown",
      "metadata": {},
      "source": [
        "## Independent Metropolis-Hastings\nLet us use a mixture distribution to approximate the target distribution.\n\nThis approximation will serve as the instrumental distribution\nin the independent Metropolis-Hastings algorithm.\n\n"
      ]
    },
    {
      "cell_type": "code",
      "execution_count": null,
      "metadata": {
        "collapsed": false
      },
      "outputs": [],
      "source": [
        "exp = ot.Exponential(1.0)\nunif = ot.Normal(5.3, 0.4)\ninstrumentalDistribution = ot.Mixture([exp, unif], [0.9, 0.1])"
      ]
    },
    {
      "cell_type": "markdown",
      "metadata": {},
      "source": [
        "Compare the instrumental density to the target density.\n\n"
      ]
    },
    {
      "cell_type": "code",
      "execution_count": null,
      "metadata": {
        "collapsed": false
      },
      "outputs": [],
      "source": [
        "graph = f.draw(lower_bound, upper_bound, 100)\ngraph.setTitle(\"Instrumental PDF\")\ngraph.setXTitle(\"\")\ngraph.setYTitle(\"\")\ngraph.add(instrumentalDistribution.drawPDF(lower_bound, upper_bound, 100))\ngraph.setLegendPosition(\"upper right\")\ngraph.setLegends([\"Unnormalized target density\", \"Instrumental PDF\"])\n_ = View(graph)"
      ]
    },
    {
      "cell_type": "markdown",
      "metadata": {},
      "source": [
        ":class:`~openturns.MetropolisHastings` and derived classes can work directly with the logarithm of the target density.\n\n"
      ]
    },
    {
      "cell_type": "code",
      "execution_count": null,
      "metadata": {
        "collapsed": false
      },
      "outputs": [],
      "source": [
        "log_density = ot.ComposedFunction(ot.SymbolicFunction(\"x\", \"log(x)\"), f)"
      ]
    },
    {
      "cell_type": "markdown",
      "metadata": {},
      "source": [
        "In this case, it is easier to directly write it as a :class:`~openturns.SymbolicFunction`.\n\n"
      ]
    },
    {
      "cell_type": "code",
      "execution_count": null,
      "metadata": {
        "collapsed": false
      },
      "outputs": [],
      "source": [
        "log_density = ot.SymbolicFunction(\n    \"x\", \"log(2 + sin(x)^2) - (2 + cos(3*x)^3 + sin(2*x)^3) * x\"\n)\n\ninitialState = ot.Point([3.0])  # not important in this case\nsupport = ot.Interval([lower_bound], [upper_bound])\nindependentMH = ot.IndependentMetropolisHastings(\n    log_density, support, initialState, instrumentalDistribution, [0]\n)"
      ]
    },
    {
      "cell_type": "markdown",
      "metadata": {},
      "source": [
        "Get a sample\n\n"
      ]
    },
    {
      "cell_type": "code",
      "execution_count": null,
      "metadata": {
        "collapsed": false
      },
      "outputs": [],
      "source": [
        "sampleSize = 500\nsample = independentMH.getSample(sampleSize)"
      ]
    },
    {
      "cell_type": "markdown",
      "metadata": {},
      "source": [
        "Plot the PDF of the sample to compare it to the target density\n\n"
      ]
    },
    {
      "cell_type": "code",
      "execution_count": null,
      "metadata": {
        "collapsed": false
      },
      "outputs": [],
      "source": [
        "kernel = ot.KernelSmoothing()\nposterior = kernel.build(sample)\ngraph = ot.Graph(\n    \"Independent Metropolis-Hastings sample: {} points\".format(sampleSize),\n    \"\",\n    \"\",\n    True,\n    \"upper right\",\n)\ngraph.setBoundingBox(ot.Interval([lower_bound, 0.0], [upper_bound, f([0.0])[0]]))\ngraph.add(f.draw(lower_bound, upper_bound, 100))\ngraph.add(posterior.drawPDF(lower_bound, upper_bound, 100))\ngraph.setLegends([\"Unnormalized target density\", \"Sample PDF\"])\n_ = View(graph)"
      ]
    },
    {
      "cell_type": "markdown",
      "metadata": {},
      "source": [
        "Even with very few sampling points (500),\nindependent Metropolis-Hastings\n(with a judiciously chosen instrumental distribution)\nmanages to capture the main features of the target density.\n\n"
      ]
    },
    {
      "cell_type": "markdown",
      "metadata": {},
      "source": [
        "## Random walk Metropolis-Hastings\n\nLet us use a normal instrumental distribution.\n\n"
      ]
    },
    {
      "cell_type": "code",
      "execution_count": null,
      "metadata": {
        "collapsed": false
      },
      "outputs": [],
      "source": [
        "instrumentalDistribution = ot.Normal(0.0, 2.5)\nrandomwalkMH = ot.RandomWalkMetropolisHastings(\n    log_density, support, initialState, instrumentalDistribution, [0]\n)"
      ]
    },
    {
      "cell_type": "markdown",
      "metadata": {},
      "source": [
        "Get a sample\n\n"
      ]
    },
    {
      "cell_type": "code",
      "execution_count": null,
      "metadata": {
        "collapsed": false
      },
      "outputs": [],
      "source": [
        "sample = randomwalkMH.getSample(sampleSize)"
      ]
    },
    {
      "cell_type": "markdown",
      "metadata": {},
      "source": [
        "Plot the PDF of the sample to compare it to the target density\n\n"
      ]
    },
    {
      "cell_type": "code",
      "execution_count": null,
      "metadata": {
        "collapsed": false
      },
      "outputs": [],
      "source": [
        "kernel = ot.KernelSmoothing()\nposterior = kernel.build(sample)\ngraph = ot.Graph(\n    \"Random walk Metropolis-Hastings sample: {} points\".format(sampleSize),\n    \"\",\n    \"\",\n    True,\n    \"upper right\",\n)\ngraph.setBoundingBox(ot.Interval([lower_bound, 0.0], [upper_bound, f([0.0])[0]]))\ngraph.add(f.draw(lower_bound, upper_bound, 100))\ngraph.add(posterior.drawPDF(lower_bound, upper_bound, 100))\ngraph.setLegends([\"Unnormalized target density\", \"Sample PDF\"])\n_ = View(graph)"
      ]
    },
    {
      "cell_type": "markdown",
      "metadata": {},
      "source": [
        "## References\n[1] Marin , J.M. & Robert, C.P. (2007). *Bayesian Core: A Practical Approach to Computational Bayesian Statistics*. Springer-Verlag, New York\n\n"
      ]
    }
  ],
  "metadata": {
    "kernelspec": {
      "display_name": "Python 3",
      "language": "python",
      "name": "python3"
    },
    "language_info": {
      "codemirror_mode": {
        "name": "ipython",
        "version": 3
      },
      "file_extension": ".py",
      "mimetype": "text/x-python",
      "name": "python",
      "nbconvert_exporter": "python",
      "pygments_lexer": "ipython3",
      "version": "3.13.1"
    }
  },
  "nbformat": 4,
  "nbformat_minor": 0
}