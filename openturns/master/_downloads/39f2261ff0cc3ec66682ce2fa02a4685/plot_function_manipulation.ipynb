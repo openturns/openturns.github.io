{
  "cells": [
    {
      "cell_type": "code",
      "execution_count": null,
      "metadata": {
        "collapsed": false
      },
      "outputs": [],
      "source": [
        "%matplotlib inline"
      ]
    },
    {
      "cell_type": "markdown",
      "metadata": {},
      "source": [
        "\n# Function manipulation\n"
      ]
    },
    {
      "cell_type": "markdown",
      "metadata": {},
      "source": [
        "In this example we are going to exhibit some of the generic function services such as:\n\n- to ask the dimension of its input and output vectors\n- to evaluate itself, its gradient and hessian\n- to set a finite difference method for the evaluation of the gradient or the hessian\n- to evaluate the number of times the function or its gradient or its hessian have been evaluated\n- to disable or enable (enabled by default) the history mechanism\n- to disable or enable the cache mechanism\n- to get all the values evaluated by the function and the associated inputs with the methods\n- to clear the history\n- to ask the description of its input and output vectors\n- to extract output components\n- to get a graphical representation\n\n"
      ]
    },
    {
      "cell_type": "code",
      "execution_count": null,
      "metadata": {
        "collapsed": false
      },
      "outputs": [],
      "source": [
        "from __future__ import print_function\nimport openturns as ot\nimport openturns.viewer as viewer\nfrom matplotlib import pylab as plt\nimport math as m\not.Log.Show(ot.Log.NONE)"
      ]
    },
    {
      "cell_type": "markdown",
      "metadata": {},
      "source": [
        "Create a vectorial function R ^n --> R^p\nfor example R^2 --> R^2\n\n"
      ]
    },
    {
      "cell_type": "code",
      "execution_count": null,
      "metadata": {
        "collapsed": false
      },
      "outputs": [],
      "source": [
        "f = ot.SymbolicFunction(['x1', 'x2'], ['1+2*x1+x2', '2+x1+2*x2'])\n\n# Create a scalar function R --> R\nfunc1 = ot.SymbolicFunction(['x'], ['x^2'])\n\n# Create another function R^2 --> R\nfunc2 = ot.SymbolicFunction(['x', 'y'], ['x*y'])\n\n# Create a vectorial function R ^3 --> R^2\nfunc3 = ot.SymbolicFunction(['x1', 'x2', 'x3'], ['1+2*x1+x2+x3^3', '2+sin(x1+2*x2)-sin(x3) * x3^4'])\n\n# Create a second vectorial function R ^n --> R^p\n# for example R^2 --> R^2\ng = ot.SymbolicFunction(['x1', 'x2'], ['x1+x2', 'x1^2+2*x2^2'])\n\n\ndef python_eval(X):\n    a, b = X\n    y = a+b\n    return [y]\nfunc4 = ot.PythonFunction(2, 1, python_eval)"
      ]
    },
    {
      "cell_type": "markdown",
      "metadata": {},
      "source": [
        "Ask for the dimension of the input and output vectors\n\n"
      ]
    },
    {
      "cell_type": "code",
      "execution_count": null,
      "metadata": {
        "collapsed": false
      },
      "outputs": [],
      "source": [
        "print(f.getInputDimension())\nprint(f.getOutputDimension())"
      ]
    },
    {
      "cell_type": "markdown",
      "metadata": {},
      "source": [
        "Enable the history mechanism\n\n"
      ]
    },
    {
      "cell_type": "code",
      "execution_count": null,
      "metadata": {
        "collapsed": false
      },
      "outputs": [],
      "source": [
        "f = ot.MemoizeFunction(f)"
      ]
    },
    {
      "cell_type": "markdown",
      "metadata": {},
      "source": [
        "Evaluate the function at a particular point\n\n"
      ]
    },
    {
      "cell_type": "code",
      "execution_count": null,
      "metadata": {
        "collapsed": false
      },
      "outputs": [],
      "source": [
        "x = [1.0] * f.getInputDimension()\ny = f(x)\nprint('x=', x, 'y=', y)"
      ]
    },
    {
      "cell_type": "markdown",
      "metadata": {},
      "source": [
        "Get the history\n\n"
      ]
    },
    {
      "cell_type": "code",
      "execution_count": null,
      "metadata": {
        "collapsed": false
      },
      "outputs": [],
      "source": [
        "samplex = f.getInputHistory()\nsampley = f.getOutputHistory()\nprint('evaluation history = ', samplex,  sampley)"
      ]
    },
    {
      "cell_type": "markdown",
      "metadata": {},
      "source": [
        "Clear the history mechanism\n\n"
      ]
    },
    {
      "cell_type": "code",
      "execution_count": null,
      "metadata": {
        "collapsed": false
      },
      "outputs": [],
      "source": [
        "f.clearHistory()"
      ]
    },
    {
      "cell_type": "markdown",
      "metadata": {},
      "source": [
        "Disable the history mechanism\n\n"
      ]
    },
    {
      "cell_type": "code",
      "execution_count": null,
      "metadata": {
        "collapsed": false
      },
      "outputs": [],
      "source": [
        "f.disableHistory()"
      ]
    },
    {
      "cell_type": "markdown",
      "metadata": {},
      "source": [
        "Enable the cache mecanism\n\n"
      ]
    },
    {
      "cell_type": "code",
      "execution_count": null,
      "metadata": {
        "collapsed": false
      },
      "outputs": [],
      "source": [
        "f4 = ot.MemoizeFunction(func4)\nf4.enableCache()\nfor i in range(10):\n    f4(x)"
      ]
    },
    {
      "cell_type": "markdown",
      "metadata": {},
      "source": [
        "Get the number of times cached values are reused\n\n"
      ]
    },
    {
      "cell_type": "code",
      "execution_count": null,
      "metadata": {
        "collapsed": false
      },
      "outputs": [],
      "source": [
        "f4.getCacheHits()"
      ]
    },
    {
      "cell_type": "markdown",
      "metadata": {},
      "source": [
        "Evaluate the gradient of the function at a particular point\n\n"
      ]
    },
    {
      "cell_type": "code",
      "execution_count": null,
      "metadata": {
        "collapsed": false
      },
      "outputs": [],
      "source": [
        "gradientMatrix = f.gradient(x)\ngradientMatrix"
      ]
    },
    {
      "cell_type": "markdown",
      "metadata": {},
      "source": [
        "Evaluate the hessian of the function at a particular point\n\n"
      ]
    },
    {
      "cell_type": "code",
      "execution_count": null,
      "metadata": {
        "collapsed": false
      },
      "outputs": [],
      "source": [
        "hessianMatrix = f.hessian(x)\nhessianMatrix"
      ]
    },
    {
      "cell_type": "markdown",
      "metadata": {},
      "source": [
        "Change the gradient method to a non centered finite difference method\n\n"
      ]
    },
    {
      "cell_type": "code",
      "execution_count": null,
      "metadata": {
        "collapsed": false
      },
      "outputs": [],
      "source": [
        "step = [1e-7] * f.getInputDimension()\ngradient = ot.NonCenteredFiniteDifferenceGradient(step, f.getEvaluation())\nf.setGradient(gradient)\ngradient"
      ]
    },
    {
      "cell_type": "markdown",
      "metadata": {},
      "source": [
        "Change the hessian method to a centered finite difference method\n\n"
      ]
    },
    {
      "cell_type": "code",
      "execution_count": null,
      "metadata": {
        "collapsed": false
      },
      "outputs": [],
      "source": [
        "step = [1e-7] * f.getInputDimension()\nhessian = ot.CenteredFiniteDifferenceHessian(step, f.getEvaluation())\nf.setHessian(hessian)\nhessian"
      ]
    },
    {
      "cell_type": "markdown",
      "metadata": {},
      "source": [
        "Get the number of times the function has been evaluated\n\n"
      ]
    },
    {
      "cell_type": "code",
      "execution_count": null,
      "metadata": {
        "collapsed": false
      },
      "outputs": [],
      "source": [
        "f.getEvaluationCallsNumber()"
      ]
    },
    {
      "cell_type": "markdown",
      "metadata": {},
      "source": [
        "Get the number of times the gradient has been evaluated\n\n"
      ]
    },
    {
      "cell_type": "code",
      "execution_count": null,
      "metadata": {
        "collapsed": false
      },
      "outputs": [],
      "source": [
        "f.getGradientCallsNumber()"
      ]
    },
    {
      "cell_type": "markdown",
      "metadata": {},
      "source": [
        "Get the number of times the hessian has been evaluated\n\n"
      ]
    },
    {
      "cell_type": "code",
      "execution_count": null,
      "metadata": {
        "collapsed": false
      },
      "outputs": [],
      "source": [
        "f.getHessianCallsNumber()"
      ]
    },
    {
      "cell_type": "markdown",
      "metadata": {},
      "source": [
        "Get the component i\n\n"
      ]
    },
    {
      "cell_type": "code",
      "execution_count": null,
      "metadata": {
        "collapsed": false
      },
      "outputs": [],
      "source": [
        "f.getMarginal(1)"
      ]
    },
    {
      "cell_type": "markdown",
      "metadata": {},
      "source": [
        "Compose two functions : h = f o g\n\n"
      ]
    },
    {
      "cell_type": "code",
      "execution_count": null,
      "metadata": {
        "collapsed": false
      },
      "outputs": [],
      "source": [
        "ot.ComposedFunction(f, g)"
      ]
    },
    {
      "cell_type": "markdown",
      "metadata": {},
      "source": [
        "Get the valid symbolic constants\n\n"
      ]
    },
    {
      "cell_type": "code",
      "execution_count": null,
      "metadata": {
        "collapsed": false
      },
      "outputs": [],
      "source": [
        "ot.SymbolicFunction.GetValidConstants()"
      ]
    },
    {
      "cell_type": "markdown",
      "metadata": {},
      "source": [
        "Graph 1 : z -->  f_2(x_0,y_0,z)\nfor z in [-1.5, 1.5] and y_0 = 2. and z_0 = 2.5\nSpecify the input component that varies\nCare : numerotation begins at 0\n\n"
      ]
    },
    {
      "cell_type": "code",
      "execution_count": null,
      "metadata": {
        "collapsed": false
      },
      "outputs": [],
      "source": [
        "inputMarg = 2\n# Give its variation intervall\nzMin = -1.5\nzMax = 1.5\n# Give the coordinates of the fixed input components\ncentralPt = [1.0, 2.0, 2.5]\n# Specify the output marginal function\n# Care : numerotation begins at 0\noutputMarg = 1\n# Specify the point number of the final curve\nptNb = 101\n# Draw the curve!\ngraph = func3.draw(inputMarg, outputMarg, centralPt, zMin, zMax, ptNb)\nview = viewer.View(graph)"
      ]
    },
    {
      "cell_type": "markdown",
      "metadata": {},
      "source": [
        "Graph 2 : (x,z) -->  f_1(x,y_0,z)\nfor x in [-1.5, 1.5], z in [-2.5, 2.5]\nand y_0 = 2.5\nSpecify the input components that vary\n\n"
      ]
    },
    {
      "cell_type": "code",
      "execution_count": null,
      "metadata": {
        "collapsed": false
      },
      "outputs": [],
      "source": [
        "firstInputMarg = 0\nsecondInputMarg = 2\n# Give their variation interval\ninputMin2 = [-1.5, -2.5]\ninputMax2 = [1.5, 2.5]\n# Give the coordinates of the fixed input components\ncentralPt = [0.0, 2., 2.5]\n# Specify the output marginal function\noutputMarg = 1\n# Specify the point number of the final curve\nptNb = [101, 101]\ngraph = func3.draw(firstInputMarg, secondInputMarg,\n           outputMarg, centralPt, inputMin2, inputMax2, ptNb)\nview = viewer.View(graph)"
      ]
    },
    {
      "cell_type": "markdown",
      "metadata": {},
      "source": [
        "Graph 3 : simplified method for x -->  func1(x)\nfor x in [-1.5, 1.5]\nGive the variation interval\n\n"
      ]
    },
    {
      "cell_type": "code",
      "execution_count": null,
      "metadata": {
        "collapsed": false
      },
      "outputs": [],
      "source": [
        "xMin3 = -1.5\nxMax3 = 1.5\n# Specify the point number of the final curve\nptNb = 101\n# Draw the curve!\ngraph = func1.draw(xMin3, xMax3, ptNb)\nview = viewer.View(graph)"
      ]
    },
    {
      "cell_type": "markdown",
      "metadata": {},
      "source": [
        "Graph 4 : (x,y) -->  func2(x,y)\nfor x in [-1.5, 1.5], y in [-2.5, 2.5]\nGive their variation interval\n\n"
      ]
    },
    {
      "cell_type": "code",
      "execution_count": null,
      "metadata": {
        "collapsed": false
      },
      "outputs": [],
      "source": [
        "inputMin4 = [-1.5, -2.5]\ninputMax4 = [1.5, 2.5]\n# Give the coordinates of the fixed input components\ncentralPt = [0.0, 2., 2.5]\n# Specify the output marginal function\noutputMarg = 1\n# Specify the point number of the final curve\nptNb = [101, 101]\ngraph = func2.draw(inputMin4, inputMax4, ptNb)\nview = viewer.View(graph)"
      ]
    }
  ],
  "metadata": {
    "kernelspec": {
      "display_name": "Python 3",
      "language": "python",
      "name": "python3"
    },
    "language_info": {
      "codemirror_mode": {
        "name": "ipython",
        "version": 3
      },
      "file_extension": ".py",
      "mimetype": "text/x-python",
      "name": "python",
      "nbconvert_exporter": "python",
      "pygments_lexer": "ipython3",
      "version": "3.8.6"
    }
  },
  "nbformat": 4,
  "nbformat_minor": 0
}