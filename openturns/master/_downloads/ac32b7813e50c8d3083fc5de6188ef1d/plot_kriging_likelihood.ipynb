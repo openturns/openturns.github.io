{
  "cells": [
    {
      "cell_type": "code",
      "execution_count": null,
      "metadata": {
        "collapsed": false
      },
      "outputs": [],
      "source": [
        "%matplotlib inline"
      ]
    },
    {
      "cell_type": "markdown",
      "metadata": {},
      "source": [
        "\n# Kriging : draw the likelihood\n"
      ]
    },
    {
      "cell_type": "markdown",
      "metadata": {},
      "source": [
        "## Abstract\n\nIn this short example we draw the loglikelihood as a function of the scale\nparameter of a covariance kriging model.\n\n"
      ]
    },
    {
      "cell_type": "code",
      "execution_count": null,
      "metadata": {
        "collapsed": false
      },
      "outputs": [],
      "source": [
        "import openturns as ot\nimport openturns.viewer as otv\nfrom matplotlib import pylab as plt"
      ]
    },
    {
      "cell_type": "markdown",
      "metadata": {},
      "source": [
        "We define the exact model with a :class:`~openturns.SymbolicFunction` :\n\n"
      ]
    },
    {
      "cell_type": "code",
      "execution_count": null,
      "metadata": {
        "collapsed": false
      },
      "outputs": [],
      "source": [
        "f = ot.SymbolicFunction(['x'], ['x*sin(x)'])"
      ]
    },
    {
      "cell_type": "markdown",
      "metadata": {},
      "source": [
        "We use the following input and output training samples :\n\n"
      ]
    },
    {
      "cell_type": "code",
      "execution_count": null,
      "metadata": {
        "collapsed": false
      },
      "outputs": [],
      "source": [
        "inputSample = ot.Sample([[1.0], [3.0], [5.0], [6.0], [7.0], [8.0]])\noutputSample = f(inputSample)"
      ]
    },
    {
      "cell_type": "markdown",
      "metadata": {},
      "source": [
        "We choose a constant basis for the trend of the metamodel :\n\n"
      ]
    },
    {
      "cell_type": "code",
      "execution_count": null,
      "metadata": {
        "collapsed": false
      },
      "outputs": [],
      "source": [
        "basis = ot.ConstantBasisFactory().build()\ncovarianceModel = ot.SquaredExponential(1)"
      ]
    },
    {
      "cell_type": "markdown",
      "metadata": {},
      "source": [
        "For the covariance model, we use a Matern model with $\\nu = 1.5$ :\n\n"
      ]
    },
    {
      "cell_type": "code",
      "execution_count": null,
      "metadata": {
        "collapsed": false
      },
      "outputs": [],
      "source": [
        "covarianceModel = ot.MaternModel([1.0],1.5)"
      ]
    },
    {
      "cell_type": "markdown",
      "metadata": {},
      "source": [
        "We are now ready to build the kriging algorithm, run it and store the result :\n\n"
      ]
    },
    {
      "cell_type": "code",
      "execution_count": null,
      "metadata": {
        "collapsed": false
      },
      "outputs": [],
      "source": [
        "algo = ot.KrigingAlgorithm(inputSample, outputSample, covarianceModel, basis)\nalgo.run()\nresult = algo.getResult()"
      ]
    },
    {
      "cell_type": "markdown",
      "metadata": {},
      "source": [
        "We can retrieve the covariance model from the result object and then access\nthe scale of the model :\n\n"
      ]
    },
    {
      "cell_type": "code",
      "execution_count": null,
      "metadata": {
        "collapsed": false
      },
      "outputs": [],
      "source": [
        "theta = result.getCovarianceModel().getScale()\nprint(\"Scale of the covariance model : %.3e\"%theta[0])"
      ]
    },
    {
      "cell_type": "markdown",
      "metadata": {},
      "source": [
        "This hyperparameter is calibrated thanks to a maximization of the log-likelihood. We get this log-likehood as a function of $\\theta$ :\n\n"
      ]
    },
    {
      "cell_type": "code",
      "execution_count": null,
      "metadata": {
        "collapsed": false
      },
      "outputs": [],
      "source": [
        "ot.ResourceMap.SetAsBool(\n\"GeneralLinearModelAlgorithm-UseAnalyticalAmplitudeEstimate\", True)\nreducedLogLikelihoodFunction = algo.getReducedLogLikelihoodFunction()"
      ]
    },
    {
      "cell_type": "markdown",
      "metadata": {},
      "source": [
        "We draw the reduced loglikelihood $\\mathcal{L}(\\theta)$ as a function\nof the parameter $\\theta$.\n\n"
      ]
    },
    {
      "cell_type": "code",
      "execution_count": null,
      "metadata": {
        "collapsed": false
      },
      "outputs": [],
      "source": [
        "graph = reducedLogLikelihoodFunction.draw(0.1, 10.0, 100)\ngraph.setXTitle(r\"$\\theta$\")\ngraph.setYTitle(r\"$\\mathcal{L}(\\theta)$\")\ngraph.setTitle(r\"Log-likelihood as a function of $\\theta$\")"
      ]
    },
    {
      "cell_type": "markdown",
      "metadata": {},
      "source": [
        "We represent the estimated parameter as a point on the loglikelihood curve :\n\n"
      ]
    },
    {
      "cell_type": "code",
      "execution_count": null,
      "metadata": {
        "collapsed": false
      },
      "outputs": [],
      "source": [
        "L_theta = reducedLogLikelihoodFunction(theta)\ncloud = ot.Cloud(theta, L_theta)\ncloud.setColor(\"red\")\ncloud.setPointStyle(\"fsquare\")\ngraph.add(cloud)\ngraph.setLegends([r\"Matern $\\nu = 1.5$\", r\"$\\theta$ estimate\"])"
      ]
    },
    {
      "cell_type": "markdown",
      "metadata": {},
      "source": [
        "We verify on the previous graph that the estimate of $\\theta$ maximizes\nthe loglikelihood.\n\n"
      ]
    },
    {
      "cell_type": "markdown",
      "metadata": {},
      "source": [
        "Display figures\n\n"
      ]
    },
    {
      "cell_type": "code",
      "execution_count": null,
      "metadata": {
        "collapsed": false
      },
      "outputs": [],
      "source": [
        "view = otv.View(graph)\notv.View.ShowAll()"
      ]
    }
  ],
  "metadata": {
    "kernelspec": {
      "display_name": "Python 3",
      "language": "python",
      "name": "python3"
    },
    "language_info": {
      "codemirror_mode": {
        "name": "ipython",
        "version": 3
      },
      "file_extension": ".py",
      "mimetype": "text/x-python",
      "name": "python",
      "nbconvert_exporter": "python",
      "pygments_lexer": "ipython3",
      "version": "3.9.7"
    }
  },
  "nbformat": 4,
  "nbformat_minor": 0
}