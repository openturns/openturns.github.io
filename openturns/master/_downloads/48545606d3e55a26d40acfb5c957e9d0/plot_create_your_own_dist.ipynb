{
  "cells": [
    {
      "cell_type": "code",
      "execution_count": null,
      "metadata": {
        "collapsed": false
      },
      "outputs": [],
      "source": [
        "%matplotlib inline"
      ]
    },
    {
      "cell_type": "markdown",
      "metadata": {},
      "source": [
        "\n# Create your own distribution given its quantile function\n"
      ]
    },
    {
      "cell_type": "markdown",
      "metadata": {},
      "source": [
        "We want to create a distribution with CDF $F$ from the quantile function $F^{-1}$. In order to implement this, we use the [CompositeDistribution](http://openturns.github.io/openturns/latest/user_manual/_generated/openturns.CompositeDistribution.html#openturns.CompositeDistribution) class.\n\n"
      ]
    },
    {
      "cell_type": "markdown",
      "metadata": {},
      "source": [
        "We know that the random variable $X$ is distributed according to $F$ if and only if $U=F(X)$ is distributed according to the uniform distribution in the $[0,1]$ interval, i.e. $U=F(X) \\sim \\mathcal{U}(0,1)$. Hence, if $U \\sim  \\mathcal{U}(0,1)$ then $X=F^{-1}(U)$ is distributed according to $F$.\n\nIn this example, we want to create a distribution with CDF $F: \\mathbb{R} \\rightarrow [0,1] $parametrized by $\\rho > 1$:\n\n\\begin{align}F(x) = 1-e^{-\\rho^x} \\quad \\forall x  \\in \\mathbb{R}.\\end{align}\n\n\nThe quantile function is $F^{-1} : u \\rightarrow [0,1]$ and writes:\n\n\\begin{align}F^{-1}(u) = \\dfrac{\\log \\left[ - \\log (1-u) \\right] }{\\log(\\rho)} \\quad \\forall u  \\in [0,1]\\end{align}\n\n\nSince $U \\sim \\mathcal{U}(0,1)$, then $(1-U)\\sim\\mathcal{U}(0,1)$. This is why we can simplify the expression and define the function $G$ such as:\n\n\\begin{align}G(u) = \\dfrac{\\log \\left[ - \\log u \\right] }{\\log(\\rho)} \\quad \\forall u  \\in [0,1].\\end{align}\n\n\nThen $G(U)$ is distributed according to the $F$ distribution.\n\n"
      ]
    },
    {
      "cell_type": "markdown",
      "metadata": {},
      "source": [
        "First, we import the useful librairies and we create the symbolic function $G$.\n\n"
      ]
    },
    {
      "cell_type": "code",
      "execution_count": null,
      "metadata": {
        "collapsed": false
      },
      "outputs": [],
      "source": [
        "import openturns as ot\nfrom openturns.viewer import View"
      ]
    },
    {
      "cell_type": "markdown",
      "metadata": {},
      "source": [
        "Then, we create the $G$ function with $\\rho = 2.0$. To do this, we create a function which takes both $y$ and $\\rho$ as inputs and returns $G(u)$. Then the `g` function is defined as a `ParametricFunction` with a fixed value of $\\rho$.\n\n"
      ]
    },
    {
      "cell_type": "code",
      "execution_count": null,
      "metadata": {
        "collapsed": false
      },
      "outputs": [],
      "source": [
        "gWithParameter = ot.SymbolicFunction([\"u\", \"rho\"], [\"log(-log(u)) / log(rho)\"])\nrho = 2.0\ng = ot.ParametricFunction(gWithParameter, [1], [rho])"
      ]
    },
    {
      "cell_type": "markdown",
      "metadata": {},
      "source": [
        "We define the distribution distF as the image through $G$ of the Uniform(0,1) distribution:\n\n"
      ]
    },
    {
      "cell_type": "code",
      "execution_count": null,
      "metadata": {
        "collapsed": false
      },
      "outputs": [],
      "source": [
        "distF = ot.CompositeDistribution(g, ot.Uniform(0.0, 1.0))"
      ]
    },
    {
      "cell_type": "markdown",
      "metadata": {},
      "source": [
        "Now, we can draw its pdf, cdf, sample it,...\n\n"
      ]
    },
    {
      "cell_type": "code",
      "execution_count": null,
      "metadata": {
        "collapsed": false
      },
      "outputs": [],
      "source": [
        "g = distF.drawPDF()\ng.setTitle(\"A distribution based on the quantile function.\")\ng.setLegendPosition(\"\")\nview = View(g)\nview.ShowAll()"
      ]
    }
  ],
  "metadata": {
    "kernelspec": {
      "display_name": "Python 3",
      "language": "python",
      "name": "python3"
    },
    "language_info": {
      "codemirror_mode": {
        "name": "ipython",
        "version": 3
      },
      "file_extension": ".py",
      "mimetype": "text/x-python",
      "name": "python",
      "nbconvert_exporter": "python",
      "pygments_lexer": "ipython3",
      "version": "3.10.5"
    }
  },
  "nbformat": 4,
  "nbformat_minor": 0
}