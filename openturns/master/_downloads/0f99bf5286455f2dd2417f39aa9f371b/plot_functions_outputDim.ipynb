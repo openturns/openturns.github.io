{
  "cells": [
    {
      "cell_type": "markdown",
      "metadata": {},
      "source": [
        "\n# Increase the output dimension of a function\n"
      ]
    },
    {
      "cell_type": "markdown",
      "metadata": {},
      "source": [
        "## Description\n\nWe want to build a function $f : \\mathbb{R}^d \\mapsto \\mathbb{R}^q$ from *q* functions $f_i: \\mathbb{R}^d \\mapsto \\mathbb{R}$.\n\nWe can do that:\n\n- Case 1: by aggregation  of the functions $f_i$,\n- Case 2: by creating a vectorial linear combination  of the functions $f_i$.\n\n## Case 1: Aggregation\n\nWe have $q$ functions $f_i : \\mathbb{R}^d \\mapsto \\mathbb{R}$ for $1 \\leq i \\leq q$.\nWe create the function  $f : \\mathbb{R}^d \\mapsto \\mathbb{R}^q$ defined by:\n\n\\begin{align}f(\\vect{x}) =\n      \\begin{pmatrix}\n        f_1(\\vect{x}) \\\\\n        \\vdots \\\\\n        f_q(\\vect{x})\n      \\end{pmatrix}\\end{align}\n\n\nWe use the :class:`~openturns.AggregatedFunction` class.\n\nIn the example, we take $d=2$ and $q=3$.\n\n"
      ]
    },
    {
      "cell_type": "code",
      "execution_count": null,
      "metadata": {
        "collapsed": false
      },
      "outputs": [],
      "source": [
        "import openturns as ot\n\nf1 = ot.SymbolicFunction([\"x1\", \"x2\"], [\"x1^2+x2\"])\nf2 = ot.SymbolicFunction([\"x1\", \"x2\"], [\"x1+x2^2\"])\nf3 = ot.SymbolicFunction([\"x1\", \"x2\"], [\"x1+x2\"])\nfunc_coll = [f1, f2, f3]\nf = ot.AggregatedFunction(func_coll)\nprint(\"input dimension =\", f.getInputDimension())\nprint(\"output dimension =\", f.getOutputDimension())\nprint(\"f = \", f)"
      ]
    },
    {
      "cell_type": "markdown",
      "metadata": {},
      "source": [
        "## Case 2: Vectorial linear combination\n\nWe have $q$ functions $f_i : \\mathbb{R}^d \\mapsto \\mathbb{R}$ for $1 \\leq i \\leq q$.\nWe create the function  $f : \\mathbb{R}^d \\mapsto \\mathbb{R}^q$ defined by:\n\n\\begin{align}f(\\vect{x}) = \\sum_{i=1}^q \\vect{c}_i f_i(\\vect{x})\\end{align}\n\nwhere $\\vect{c}_i \\in \\mathbb{R} ^q$.\n\nWe use the :class:`~openturns.DualLinearCombinationFunction` class.\nIn the example, we take $d=2$ and $q=3$.\n\n"
      ]
    },
    {
      "cell_type": "code",
      "execution_count": null,
      "metadata": {
        "collapsed": false
      },
      "outputs": [],
      "source": [
        "c1 = [2.0, 3.0, 4.0]\nc2 = [5.0, 6.0, 7.0]\nc3 = [8.0, 9.0, 10.0]\ncoef_list = [c1, c2, c3]\nf = ot.DualLinearCombinationFunction(func_coll, coef_list)\nprint(\"input dimension =\", f.getInputDimension())\nprint(\"output dimension =\", f.getOutputDimension())\nprint(\"f = \", f)"
      ]
    }
  ],
  "metadata": {
    "kernelspec": {
      "display_name": "Python 3",
      "language": "python",
      "name": "python3"
    },
    "language_info": {
      "codemirror_mode": {
        "name": "ipython",
        "version": 3
      },
      "file_extension": ".py",
      "mimetype": "text/x-python",
      "name": "python",
      "nbconvert_exporter": "python",
      "pygments_lexer": "ipython3",
      "version": "3.12.4"
    }
  },
  "nbformat": 4,
  "nbformat_minor": 0
}