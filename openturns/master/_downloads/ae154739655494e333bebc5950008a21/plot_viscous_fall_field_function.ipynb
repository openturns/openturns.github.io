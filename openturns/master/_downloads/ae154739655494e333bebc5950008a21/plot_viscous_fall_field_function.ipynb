{
  "cells": [
    {
      "cell_type": "code",
      "execution_count": null,
      "metadata": {
        "collapsed": false
      },
      "outputs": [],
      "source": [
        "%matplotlib inline"
      ]
    },
    {
      "cell_type": "markdown",
      "metadata": {},
      "source": [
        "\n# Define a function with a field output: the viscous free fall example\n"
      ]
    },
    {
      "cell_type": "markdown",
      "metadata": {},
      "source": [
        "In this example, we define a function which has a vector input and a field output. This is why we use the `PythonPointToFieldFunction` class to create the associated function and propagate the uncertainties through it.\n\n"
      ]
    },
    {
      "cell_type": "markdown",
      "metadata": {},
      "source": [
        "## Introduction \n\nWe consider an object inside a vertical cylinder which contains a viscous fluid. The fluid generates a drag force which limits the speed of the solid and we assume that the force depends linearily on the object speed:\n\n\\begin{align}m \\frac{dv}{dt} = - m g - c v\\end{align}\n\n\nfor any $t \\in [0, t_{max}]$ where:\n\n- $v$ is the speed $[m/s]$,\n- $t$ is the time $[s]$,\n- $t_{max}$ is the maximum time $[s]$,\n- $g$ is the gravitational acceleration $[m.s^{-2}]$,\n- $m$ is the mass $[kg]$,\n- $c$ is the linear drag coefficient $[kg.s^{-1}]$.\n\nThe previous differential equation has the exact solution:\n\n\\begin{align}z(t) = z_0 + v_{inf} t + \\tau (v_0 - v_{inf})\\left(1 - e^{-\\frac{t}{\\tau}}\\right)\\end{align}\n\n\nfor any $t \\in [0, t_{max}]$\n\nwhere:\n\n- $z$ is the altitude above the surface $[m]$,\n- $z_0$ is the initial altitude $[m]$,\n- $v_0$ is the initial speed (upward) $[m.s^{-1}]$,\n- $v_{inf}$ is the limit speed $[m.s^{-1}]$:\n\n\\begin{align}v_{inf}=-\\frac{m g}{c}\\end{align}\n\n\n- $\\tau$ is time caracteristic $[s]$:\n\n\\begin{align}\\tau=\\frac{m}{c}.\\end{align}\n\n\nThe stationnary speed limit at infinite time is equal to $v_{inf}$:\n\n\\begin{align}\\lim_{t\\rightarrow+\\infty} v(t)= v_{inf}.\\end{align}\n\n\nWhen there is no drag, i.e. when $c=0$, the trajectory depends quadratically on $t$:\n\n\\begin{align}z(t) = z_0 + v_0 t -g t^2\\end{align}\n\n\nfor any $t \\in [0, t_{max}]$.\n\nFurthermore when the solid touches the ground, we ensure that the altitude remains nonnegative i.e. the final altitude is:\n\n\\begin{align}y(t) = \\max(z(t),0)\\end{align}\n\n\nfor any $t \\in [0, t_{max}]$.\n\n## Probabilistic model\n\nThe parameters $z_0$, $v_0$, $m$ and $c$ are probabilistic:\n\n- $z_0 \\sim \\mathcal{U}(100, 150)$,\n- $v_0 \\sim \\mathcal{N}(55, 10)$,\n- $m \\sim \\mathcal{N}(80, 8)$,\n- $c \\sim \\mathcal{U}(0, 30)$.\n\n"
      ]
    },
    {
      "cell_type": "markdown",
      "metadata": {},
      "source": [
        "## References\n\n* Steven C. Chapra. Applied numerical methods with Matlab for engineers and scientists, Third edition. 2012. Chapter 7, \"Optimization\", p.182.\n\n"
      ]
    },
    {
      "cell_type": "markdown",
      "metadata": {},
      "source": [
        "## Define the model\n\n"
      ]
    },
    {
      "cell_type": "code",
      "execution_count": null,
      "metadata": {
        "collapsed": false
      },
      "outputs": [],
      "source": [
        "from __future__ import print_function\nimport openturns as ot\nimport openturns.viewer as viewer\nfrom matplotlib import pylab as plt\nimport numpy as np\not.Log.Show(ot.Log.NONE)"
      ]
    },
    {
      "cell_type": "markdown",
      "metadata": {},
      "source": [
        "We first define the time grid associated with the model. \n\n"
      ]
    },
    {
      "cell_type": "code",
      "execution_count": null,
      "metadata": {
        "collapsed": false
      },
      "outputs": [],
      "source": [
        "tmin=0.0 # Minimum time\ntmax=12. # Maximum time\ngridsize=100 # Number of time steps\nmesh = ot.IntervalMesher([gridsize-1]).build(ot.Interval(tmin, tmax))"
      ]
    },
    {
      "cell_type": "markdown",
      "metadata": {},
      "source": [
        "The `getVertices` method returns the time values in this mesh.\n\n"
      ]
    },
    {
      "cell_type": "code",
      "execution_count": null,
      "metadata": {
        "collapsed": false
      },
      "outputs": [],
      "source": [
        "vertices = mesh.getVertices()\nvertices[0:5]"
      ]
    },
    {
      "cell_type": "markdown",
      "metadata": {},
      "source": [
        "Creation of the input distribution.\n\n"
      ]
    },
    {
      "cell_type": "code",
      "execution_count": null,
      "metadata": {
        "collapsed": false
      },
      "outputs": [],
      "source": [
        "distZ0 = ot.Uniform(100.0, 150.0)\ndistV0 = ot.Normal(55.0, 10.0)\ndistM = ot.Normal(80.0, 8.0)\ndistC = ot.Uniform(0.0, 30.0)\ndistribution = ot.ComposedDistribution([distZ0, distV0, distM, distC])"
      ]
    },
    {
      "cell_type": "code",
      "execution_count": null,
      "metadata": {
        "collapsed": false
      },
      "outputs": [],
      "source": [
        "dimension = distribution.getDimension()\ndimension"
      ]
    },
    {
      "cell_type": "markdown",
      "metadata": {},
      "source": [
        "Then we define the Python function which computes the altitude at each time value. In order to compute all altitudes with a vectorized evaluation, we first convert the vertices into a `numpy` `array` and use the `numpy` function `exp` and `maximum`: this increases the evaluation performance of the script. \n\n"
      ]
    },
    {
      "cell_type": "code",
      "execution_count": null,
      "metadata": {
        "collapsed": false
      },
      "outputs": [],
      "source": [
        "def AltiFunc(X):\n    g  = 9.81\n    z0 = X[0]\n    v0 = X[1]\n    m  = X[2]\n    c  = X[3]\n    tau = m / c\n    vinf = - m * g / c\n    t = np.array(vertices)\n    z = z0 + vinf * t + tau * (v0 - vinf) * (1 - np.exp( - t / tau))\n    z = np.maximum(z,0.)\n    return [[zeta[0]] for zeta in z]"
      ]
    },
    {
      "cell_type": "markdown",
      "metadata": {},
      "source": [
        "In order to create a `Function` from this Python function, we use the `PythonPointToFieldFunction` class. Since the altitude is the only output field, the third argument `outputDimension` is equal to `1`. If we had computed the speed as an extra output field, we would have set `2` instead.\n\n"
      ]
    },
    {
      "cell_type": "code",
      "execution_count": null,
      "metadata": {
        "collapsed": false
      },
      "outputs": [],
      "source": [
        "outputDimension = 1\nalti = ot.PythonPointToFieldFunction(dimension, mesh, outputDimension, AltiFunc)"
      ]
    },
    {
      "cell_type": "markdown",
      "metadata": {},
      "source": [
        "## Sample trajectories\n\n"
      ]
    },
    {
      "cell_type": "markdown",
      "metadata": {},
      "source": [
        "In order to sample trajectories, we use the `getSample` method of the input distribution and apply the field function.\n\n"
      ]
    },
    {
      "cell_type": "code",
      "execution_count": null,
      "metadata": {
        "collapsed": false
      },
      "outputs": [],
      "source": [
        "size = 10\ninputSample = distribution.getSample(size)\noutputSample = alti(inputSample)"
      ]
    },
    {
      "cell_type": "code",
      "execution_count": null,
      "metadata": {
        "collapsed": false
      },
      "outputs": [],
      "source": [
        "ot.ResourceMap.SetAsUnsignedInteger('Drawable-DefaultPalettePhase', size)"
      ]
    },
    {
      "cell_type": "markdown",
      "metadata": {},
      "source": [
        "Draw some curves.\n\n"
      ]
    },
    {
      "cell_type": "code",
      "execution_count": null,
      "metadata": {
        "collapsed": false
      },
      "outputs": [],
      "source": [
        "graph = outputSample.drawMarginal(0)\ngraph.setTitle('Viscous free fall: %d trajectories' % (size))\ngraph.setXTitle(r'$t$')\ngraph.setYTitle(r'$z$')\nview = viewer.View(graph)\nplt.show()"
      ]
    },
    {
      "cell_type": "markdown",
      "metadata": {},
      "source": [
        "We see that the object first moves up and then falls down. Not all objects, however, achieve the same maximum altitude. We see that some trajectories reach a higher maximum altitude than others. Moreover, at the final time $t_{max}$, one trajectory hits the ground: $z(t_{max})=0$ for this trajectory.\n\n"
      ]
    }
  ],
  "metadata": {
    "kernelspec": {
      "display_name": "Python 3",
      "language": "python",
      "name": "python3"
    },
    "language_info": {
      "codemirror_mode": {
        "name": "ipython",
        "version": 3
      },
      "file_extension": ".py",
      "mimetype": "text/x-python",
      "name": "python",
      "nbconvert_exporter": "python",
      "pygments_lexer": "ipython3",
      "version": "3.8.6"
    }
  },
  "nbformat": 4,
  "nbformat_minor": 0
}