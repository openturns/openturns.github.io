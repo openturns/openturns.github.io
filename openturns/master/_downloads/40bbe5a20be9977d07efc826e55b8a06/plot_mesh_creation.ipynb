{
  "cells": [
    {
      "cell_type": "code",
      "execution_count": null,
      "metadata": {
        "collapsed": false
      },
      "outputs": [],
      "source": [
        "%matplotlib inline"
      ]
    },
    {
      "cell_type": "markdown",
      "metadata": {},
      "source": [
        "\n# Creation of a mesh\n"
      ]
    },
    {
      "cell_type": "markdown",
      "metadata": {},
      "source": [
        "In this example we will demonstrate how to create a mesh $\\mathcal{M}$ associated to a domain $\\mathcal{D} \\in \\mathbb{R}^n$.\n\nA mesh is defined from vertices in $\\mathbb{R}^n$ and a topology that connects the vertices: the simplices. The simplex $Indices([i_1,\\dots, i_{n+1}])$ relies the vertices of index $(i_1,\\dots, i_{n+1})$ in $\\mathbb{N}^n$. In dimension 1, a simplex is an interval $Indices([i_1,i_2])$; in dimension 2, it is a triangle $Indices([i_1,i_2, i_3])$.\n\nThe library enables to easily create a mesh which is a box of dimension $d=1$ or $d=2$ regularly meshed in all its directions, thanks to the object IntervalMesher.\n\nConsider $X: \\Omega \\times \\mathcal{D} \\rightarrow \\mathbb{R}^d$ a multivariate stochastic process of dimension $d$, where $\\mathcal{D} \\in \\mathbb{R}^n$. The mesh $\\mathcal{M}$ is a discretization of the domain $\\mathcal{D}$.\n\n"
      ]
    },
    {
      "cell_type": "code",
      "execution_count": null,
      "metadata": {
        "collapsed": false
      },
      "outputs": [],
      "source": [
        "from __future__ import print_function\nimport openturns as ot\nimport openturns.viewer as viewer\nfrom matplotlib import pylab as plt\nimport math as m\not.Log.Show(ot.Log.NONE)"
      ]
    },
    {
      "cell_type": "markdown",
      "metadata": {},
      "source": [
        "Define a one dimensional mesh\n\n"
      ]
    },
    {
      "cell_type": "code",
      "execution_count": null,
      "metadata": {
        "collapsed": false
      },
      "outputs": [],
      "source": [
        "vertices = [[0.5], [1.5], [2.1], [2.7]]\nsimplicies = [[0, 1], [1, 2], [2, 3]]\nmesh1D = ot.Mesh(vertices, simplicies)\ngraph1 = mesh1D.draw()\ngraph1.setTitle('One dimensional mesh')\nview = viewer.View(graph1)"
      ]
    },
    {
      "cell_type": "markdown",
      "metadata": {},
      "source": [
        "Define a bi dimensional mesh\n\n"
      ]
    },
    {
      "cell_type": "code",
      "execution_count": null,
      "metadata": {
        "collapsed": false
      },
      "outputs": [],
      "source": [
        "vertices = [[0.0, 0.0], [1.0, 0.0], [1.0, 1.0], [1.5, 1.0], [2.0, 1.5], [0.5, 1.5]]\nsimplicies = [[0, 1, 2], [1, 2, 3], [2, 3, 4], [2, 4, 5], [0, 2, 5]]\nmesh2D = ot.Mesh(vertices, simplicies)\ngraph2 = mesh2D.draw()\ngraph2.setTitle('Bidimensional mesh')\ngraph2.setLegendPosition('bottomright')\nview = viewer.View(graph2)"
      ]
    },
    {
      "cell_type": "markdown",
      "metadata": {},
      "source": [
        "Case 2: Define a mesh wich is regularly meshed box\nin dimension 1 or 2\n\n"
      ]
    },
    {
      "cell_type": "code",
      "execution_count": null,
      "metadata": {
        "collapsed": false
      },
      "outputs": [],
      "source": [
        "# Define the number of interval in each direction of the box\nmyIndices = [5, 10]\nmyMesher = ot.IntervalMesher(myIndices)\n\n# Create the mesh of the box [0., 2.] * [0., 4.]\nlowerBound=[0., 0.]\nupperBound=[2., 4.]\nmyInterval = ot.Interval(lowerBound, upperBound)\nmyMeshBox = myMesher.build(myInterval)\nmygraph3 = myMeshBox.draw()\nmygraph3.setTitle('Bidimensional mesh on a box')\nview = viewer.View(mygraph3)"
      ]
    },
    {
      "cell_type": "markdown",
      "metadata": {},
      "source": [
        "Case 3: Define a mesh wich is regularly meshed box\nand Transform it through a fuunction\n\n"
      ]
    },
    {
      "cell_type": "code",
      "execution_count": null,
      "metadata": {
        "collapsed": false
      },
      "outputs": [],
      "source": [
        "myIndices = [20, 20]\nmesher = ot.IntervalMesher(myIndices)\n# r in [1., 2.] and theta in (0., pi]\nlowerBound2=[1.0, 0.0]\nupperBound2=[2.0, m.pi]\nmyInterval = ot.Interval(lowerBound2, upperBound2)\nmeshBox2 = mesher.build(myInterval)\n\n# define the mapping function\nf = ot.SymbolicFunction(['r', 'theta'], ['r*cos(theta)', 'r*sin(theta)'])\noldVertices = meshBox2.getVertices()\nnewVertices = f(oldVertices)\nmeshBox2.setVertices(newVertices)\n\ngraphMappedBox = meshBox2.draw()\ngraphMappedBox.setTitle('Mapped box mesh')\nview = viewer.View(graphMappedBox)"
      ]
    },
    {
      "cell_type": "markdown",
      "metadata": {},
      "source": [
        "Create a mesh of dimension 2: the heart\n\n"
      ]
    },
    {
      "cell_type": "code",
      "execution_count": null,
      "metadata": {
        "collapsed": false
      },
      "outputs": [],
      "source": [
        "def meshHeart(ntheta, nr):\n    # First, build the nodes\n    nodes = ot.Sample(0, 2)\n    nodes.add([0.0, 0.0])\n    for j in range(ntheta):\n        theta = (m.pi * j) / ntheta\n        if (abs(theta - 0.5 * m.pi) < 1e-10):\n            rho = 2.0\n        elif (abs(theta) < 1e-10) or (abs(theta-m.pi) < 1e-10):\n            rho = 0.0\n        else:\n            absTanTheta = abs(m.tan(theta))\n            rho = absTanTheta**(1.0 / absTanTheta) + m.sin(theta)\n        cosTheta = m.cos(theta)\n        sinTheta = m.sin(theta)\n        for k in range(nr):\n            tau = (k + 1.0) / nr\n            r = rho * tau\n            nodes.add([r * cosTheta, r * sinTheta - tau])\n    # Second, build the triangles\n    triangles = []\n    ## First heart\n    for j in range(ntheta):\n        triangles.append([0, 1 + j * nr, 1 + ((j + 1) % ntheta)* nr])\n    # Other hearts\n    for j in range(ntheta):\n        for k in range(nr-1):\n            i0 = k + 1 + j * nr\n            i1 = k + 2 + j * nr\n            i2 = k + 2 + ((j + 1) % ntheta) * nr\n            i3 = k + 1 + ((j + 1) % ntheta) * nr\n            triangles.append([i0, i1, i2%(nr*ntheta)])\n            triangles.append([i0, i2, i3%(nr*ntheta)])\n    return ot.Mesh(nodes, triangles)\n\nmesh4 = meshHeart(48, 16)\ngraphMesh = mesh4.draw()\ngraphMesh.setTitle('Bidimensional mesh')\ngraphMesh.setLegendPosition('')\nview = viewer.View(graphMesh)\nplt.show()"
      ]
    }
  ],
  "metadata": {
    "kernelspec": {
      "display_name": "Python 3",
      "language": "python",
      "name": "python3"
    },
    "language_info": {
      "codemirror_mode": {
        "name": "ipython",
        "version": 3
      },
      "file_extension": ".py",
      "mimetype": "text/x-python",
      "name": "python",
      "nbconvert_exporter": "python",
      "pygments_lexer": "ipython3",
      "version": "3.9.1"
    }
  },
  "nbformat": 4,
  "nbformat_minor": 0
}