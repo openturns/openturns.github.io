{
  "cells": [
    {
      "cell_type": "markdown",
      "metadata": {},
      "source": [
        "\n# Estimate a multivariate integral with IteratedQuadrature\n"
      ]
    },
    {
      "cell_type": "markdown",
      "metadata": {},
      "source": [
        "## Introduction\n\nIn this example, we consider a function $f: \\Rset^d \\mapsto \\Rset$\nand we compute the following integral:\n\n\\begin{align}I_f = \\int_{a}^{b}\\, \\int_{l_1(x_0)}^{u_1(x_0)}\\, \\int_{l_2(x_0, x_1)}^{u_2(x_0,x_1)}\\, \\int_{l_{d-1}(x_0, \\dots, x_{d-2})}^{u_{d-1}(x_0, \\dots, x_{d-2})}\n   \\, f(x_0, \\dots, x_{d-1})\\mathrm{d}{x_{d-1}}\\dots\\mathrm{d}{x_0}\\end{align}\n\nusing an iterated quadrature algorithm :class:`~openturns.IteratedQuadrature`, based on the Gauss-Kronrod\n:class:`~openturns.GaussKronrod` 1d quadrature algorithm.\n\n"
      ]
    },
    {
      "cell_type": "code",
      "execution_count": null,
      "metadata": {
        "collapsed": false
      },
      "outputs": [],
      "source": [
        "import openturns as ot\nimport openturns.viewer as otv\nimport math as m"
      ]
    },
    {
      "cell_type": "markdown",
      "metadata": {},
      "source": [
        "To get better colours for the function iso-lines.\n\n"
      ]
    },
    {
      "cell_type": "code",
      "execution_count": null,
      "metadata": {
        "collapsed": false
      },
      "outputs": [],
      "source": [
        "ot.ResourceMap.SetAsString(\"Contour-DefaultColorMapNorm\", \"rank\")"
      ]
    },
    {
      "cell_type": "markdown",
      "metadata": {},
      "source": [
        "### Case 1: The integrand function presents a lot of discontinuities.\nWe consider the function:\n\n\\begin{align}f : \\begin{array}{lcl}\n         \\Rset^2 & \\rightarrow & \\Rset \\\\\n         (x,y) & \\rightarrow & 1_{{x^2+y^2 \\leq 4}}(x,y)\n         \\end{array}\\end{align}\n\nthe domain $\\set{D} =[-2,2]\\times [-2,2]$ and the integral:\n\n\\begin{align}I = \\int_{\\set{D}} f(x,y)\\,dxdy = 4\\pi\\end{align}\n\n\n"
      ]
    },
    {
      "cell_type": "markdown",
      "metadata": {},
      "source": [
        "We first define the integrand $f$ and the domain $\\set{D}$.\n\n"
      ]
    },
    {
      "cell_type": "code",
      "execution_count": null,
      "metadata": {
        "collapsed": false
      },
      "outputs": [],
      "source": [
        "def kernel1(x):\n    if x[0]**2 + x[1]**2 <= 4:\n        return [1.0]\n    else:\n        return [0.0]\n\n\nintegrand = ot.PythonFunction(2, 1, kernel1)\ndomain = ot.Interval([-2.0, -2.0], [2.0, 2.0])"
      ]
    },
    {
      "cell_type": "markdown",
      "metadata": {},
      "source": [
        "We draw the iso-lines of the integrand function which is\nconstant equal to 1 inside the circle with radius equal to 2 and equal to 0.0 outside.\n\n"
      ]
    },
    {
      "cell_type": "code",
      "execution_count": null,
      "metadata": {
        "collapsed": false
      },
      "outputs": [],
      "source": [
        "g = integrand.draw([-3.0, -3.0], [3.0, 3.0])\ng.setTitle(r'Function $f(x,y) = 1_{\\{x^2+y^2 \\leq 4\\}}(x,y)$')\ng.setXTitle('x')\ng.setYTitle('y')\nview = otv.View(g)"
      ]
    },
    {
      "cell_type": "markdown",
      "metadata": {},
      "source": [
        "We compute the integral using an  :class:`~openturns.IteratedQuadrature`\nalgorithm with\nthe :class:`~openturns.GaussKronrodRule`  *G11K23*, which means that we use\non each subinterval:\n\n- 11 points for the Gauss approximations,\n- 23 points for the Kronrod approximation including the 11 previous ones.\n\nWe limit the number of subintervals and we  define a maximum error between both approximations:\nwhen the difference between both approximations is lower, a new subdivision is performed.\n\n"
      ]
    },
    {
      "cell_type": "code",
      "execution_count": null,
      "metadata": {
        "collapsed": false
      },
      "outputs": [],
      "source": [
        "maximumSubIntervals = 32\nmaximumError = 1e-4\nGKRule = ot.GaussKronrodRule(ot.GaussKronrodRule.G1K3)\ninteg_algo = ot.GaussKronrod(maximumSubIntervals, maximumError, GKRule)\nintegration_algo = ot.IteratedQuadrature(integ_algo)"
      ]
    },
    {
      "cell_type": "markdown",
      "metadata": {},
      "source": [
        "To get the nodes used to approximate the integral, we need to use a :class:`~openturns.MemoizeFunction`\nthat stores all the calls to the function.\n\n"
      ]
    },
    {
      "cell_type": "code",
      "execution_count": null,
      "metadata": {
        "collapsed": false
      },
      "outputs": [],
      "source": [
        "integrand_memoized = ot.MemoizeFunction(integrand)\nI_value = integration_algo.integrate(integrand_memoized, domain)\nprint('I = ', I_value[0])\nprint('Exact value = ', 4 * m.pi)\nnodes = integrand_memoized.getInputHistory()\nprint('Nodes : ', nodes)"
      ]
    },
    {
      "cell_type": "markdown",
      "metadata": {},
      "source": [
        "We can draw superimpose the nodes on the graph with the iso-lines of the\nfunction $f$. We can see that the algorithm focuses on the nodes where the\nfunction has its discontinuities.\n\n"
      ]
    },
    {
      "cell_type": "code",
      "execution_count": null,
      "metadata": {
        "collapsed": false
      },
      "outputs": [],
      "source": [
        "cloud_nodes = ot.Cloud(nodes)\ncloud_nodes.setPointStyle('dot')\ncloud_nodes.setColor('blue')\n\ng.add(cloud_nodes)\ng.setLegendPosition('')\nview = otv.View(g)"
      ]
    },
    {
      "cell_type": "markdown",
      "metadata": {},
      "source": [
        "### Case 2: The integrand function has large gradients.\nWe consider the function:\n\n\\begin{align}f : \\begin{array}{lcl}\n         \\Rset^2 & \\rightarrow & \\Rset \\\\\n         (x,y) & \\rightarrow & e^{-(x^2+y^2)} + e^{-8((x-4)^2+(y-4)^2)}\n         \\end{array}\\end{align}\n\nthe domain $\\set{D} =[-2,2]\\times [-2,2]$ and the integral:\n\n\\begin{align}I = \\int_{\\set{D}} f(x,y)\\, dxdy.\\end{align}\n\nUsing Maple, we obtain the reference value:\n\n\\begin{align}I_{ref} = 3.51961338289448753812591427600\\end{align}\n\n"
      ]
    },
    {
      "cell_type": "markdown",
      "metadata": {},
      "source": [
        "We first define the integrand $f$ and the domain $\\set{D}$.\n\n"
      ]
    },
    {
      "cell_type": "code",
      "execution_count": null,
      "metadata": {
        "collapsed": false
      },
      "outputs": [],
      "source": [
        "def kernel2(x):\n    return [m.exp(-(x[0]**2 + x[1]**2)) + m.exp(-8 * ((x[0] - 4)**2 + (x[1] - 4)**2))]\n\n\nintegrand = ot.PythonFunction(2, 1, kernel2)\ndomain = ot.Interval([-2.0, -2.0], [6.0, 6.0])"
      ]
    },
    {
      "cell_type": "markdown",
      "metadata": {},
      "source": [
        "We draw the iso-lines of the integrand function.\n\n"
      ]
    },
    {
      "cell_type": "code",
      "execution_count": null,
      "metadata": {
        "collapsed": false
      },
      "outputs": [],
      "source": [
        "g = integrand.draw([-3.0, -3.0], [7.0, 7.0])\ng.setTitle(r'Function $f(x,y) = e^{-(x^2+y^2)} + e^{-8((x-4)^2+(y-4)^2)} $')\ng.setXTitle('x')\ng.setYTitle('y')"
      ]
    },
    {
      "cell_type": "markdown",
      "metadata": {},
      "source": [
        "To get the nodes used to approximate the integral, we need to use a :class:`~openturns.MemoizeFunction`\nthat stores all the calls to the function.\n\n"
      ]
    },
    {
      "cell_type": "code",
      "execution_count": null,
      "metadata": {
        "collapsed": false
      },
      "outputs": [],
      "source": [
        "integrand_memoized = ot.MemoizeFunction(integrand)\nI_value = integration_algo.integrate(integrand_memoized, domain)\nprint('I = ', I_value[0])\nnodes = integrand_memoized.getInputHistory()\nprint('Nodes : ', nodes)"
      ]
    },
    {
      "cell_type": "markdown",
      "metadata": {},
      "source": [
        "We can draw in blue the nodes on the graph that contains the iso-lines of the\nfunction $f$. We can see that the algorithm focuses on the nodes where the function\nhas fast variations.\n\n"
      ]
    },
    {
      "cell_type": "code",
      "execution_count": null,
      "metadata": {
        "collapsed": false
      },
      "outputs": [],
      "source": [
        "cloud_nodes = ot.Cloud(nodes)\ncloud_nodes.setPointStyle('dot')\ncloud_nodes.setColor('blue')\n\ng.add(cloud_nodes)\ng.setLegendPosition('')\nview = otv.View(g)"
      ]
    },
    {
      "cell_type": "markdown",
      "metadata": {},
      "source": [
        "### Case 3: The integration domain is complex.\nWe consider the function:\n\n\\begin{align}f : \\begin{array}{lcl}\n         \\Rset^2 & \\rightarrow & \\Rset \\\\\n         (x,y) & \\rightarrow & \\cos(2x) \\sin(1.5y)\n       \\end{array}\\end{align}\n\nthe domain $\\set{D} = \\{(x,y)\\, |\\, -2\\pi \\leq x \\leq 2\\pi, -2 - \\cos(x) \\leq y  \\leq 2 + \\cos(x) \\}$\nand the integral:\n\n\\begin{align}I = \\int_{\\set{D}} f(x,y)\\, dxdy.\\end{align}\n\nUsing Maple, we obtain the reference value:\n\n\\begin{align}I_{ref} = -0.548768615494004063851543284777\\end{align}\n\n"
      ]
    },
    {
      "cell_type": "markdown",
      "metadata": {},
      "source": [
        "We first define the integrand $f$ and the domain $\\set{D}$.\n\n"
      ]
    },
    {
      "cell_type": "code",
      "execution_count": null,
      "metadata": {
        "collapsed": false
      },
      "outputs": [],
      "source": [
        "def kernel3(x):\n    return [m.cos(2.0 * x[0]) * m.cos(1.5 * x[1])]\n\n\nintegrand = ot.PythonFunction(2, 1, kernel3)"
      ]
    },
    {
      "cell_type": "markdown",
      "metadata": {},
      "source": [
        "The integration domain is defined by the two following functions:\n\n\\begin{align}x \\rightarrow u(x) = 2 + \\cos(x)\\end{align}\n\n\\begin{align}x \\rightarrow  \\ell(x) = -2 - \\cos(x)\\end{align}\n\n\n"
      ]
    },
    {
      "cell_type": "code",
      "execution_count": null,
      "metadata": {
        "collapsed": false
      },
      "outputs": [],
      "source": [
        "upper_func = ot.SymbolicFunction([\"x\"], [\" 2 + cos(x)\"])\nlower_func = ot.SymbolicFunction([\"x\"], [\"-2 - cos(x)\"])"
      ]
    },
    {
      "cell_type": "markdown",
      "metadata": {},
      "source": [
        "We draw the iso-lines of the integrand function in the domain of integration.\nTo do that, we define a new function which is the restriction\nof the integrand function to the integration domain.\n\n"
      ]
    },
    {
      "cell_type": "code",
      "execution_count": null,
      "metadata": {
        "collapsed": false
      },
      "outputs": [],
      "source": [
        "def kernel3_insideDomain(x):\n    low_x = lower_func([x[0]])[0]\n    up_x = upper_func([x[0]])[0]\n    if x[1] > low_x and x[1] < up_x :\n        return kernel3(x)\n    else:\n        return [0.0]\n\n\nintegrand_domain = ot.PythonFunction(2, 1, kernel3_insideDomain)\na = 2 * m.pi\nb = 4.0\n# Here, we increase the default number of levels.\not.ResourceMap.SetAsUnsignedInteger(\"Contour-DefaultLevelsNumber\", 30)\ng = integrand_domain.draw([-a, -b], [a, b])"
      ]
    },
    {
      "cell_type": "markdown",
      "metadata": {},
      "source": [
        "We add the bounds of the domain $\\set{D}$.\n\n"
      ]
    },
    {
      "cell_type": "code",
      "execution_count": null,
      "metadata": {
        "collapsed": false
      },
      "outputs": [],
      "source": [
        "low_bound = lower_func.draw([-a, -b], [a, b]).getDrawable(0)\nup_bound = upper_func.draw([-a, -b], [a, b]).getDrawable(0)\nlow_bound.setColor('red')\nlow_bound.setLineWidth(2)\nup_bound.setColor('red')\nup_bound.setLineWidth(2)\n\ng.add(low_bound)\ng.add(up_bound)\ng.setTitle(r'Function $f(x,y) =  cos(2x)sin(1.5y)$')\ng.setXTitle('x')\ng.setYTitle('y')\nview = otv.View(g)\n# sphinx_gallery_thumbnail_number = 4"
      ]
    },
    {
      "cell_type": "markdown",
      "metadata": {},
      "source": [
        "To get the nodes used to approximate the integral, we need to use a :class:`~openturns.MemoizeFunction`\nthat stores all the calls to the function.\n\n"
      ]
    },
    {
      "cell_type": "code",
      "execution_count": null,
      "metadata": {
        "collapsed": false
      },
      "outputs": [],
      "source": [
        "integrand_memoized = ot.MemoizeFunction(integrand)\nmaximumSubIntervals = 4\nmaximumError = 1e-4\nGKRule = ot.GaussKronrodRule(ot.GaussKronrodRule.G7K15)\nintegration_algo = ot.IteratedQuadrature(ot.GaussKronrod(maximumSubIntervals, maximumError, GKRule))\nI_value = integration_algo.integrate(integrand_memoized, -a, a, [lower_func], [upper_func])\nprint('I = ', I_value[0])\nnodes = integrand_memoized.getInputHistory()\nprint('Nodes : ', nodes)"
      ]
    },
    {
      "cell_type": "markdown",
      "metadata": {},
      "source": [
        "We can superimpose the nodes on the graph with the iso-lines of the\nfunction $f$. We can see that the algorithm focuses on the nodes where\nthe function has fast variations.\n\n"
      ]
    },
    {
      "cell_type": "code",
      "execution_count": null,
      "metadata": {
        "collapsed": false
      },
      "outputs": [],
      "source": [
        "cloud_nodes = ot.Cloud(nodes)\ncloud_nodes.setPointStyle('dot')\ncloud_nodes.setColor('black')\n\ng.add(cloud_nodes)\ng.setLegendPosition('')\nview = otv.View(g)"
      ]
    },
    {
      "cell_type": "markdown",
      "metadata": {},
      "source": [
        "Reset ResourceMap\n\n"
      ]
    },
    {
      "cell_type": "code",
      "execution_count": null,
      "metadata": {
        "collapsed": false
      },
      "outputs": [],
      "source": [
        "ot.ResourceMap.Reload()"
      ]
    },
    {
      "cell_type": "markdown",
      "metadata": {},
      "source": [
        "Show all the graphs.\n\n"
      ]
    },
    {
      "cell_type": "code",
      "execution_count": null,
      "metadata": {
        "collapsed": false
      },
      "outputs": [],
      "source": [
        "view.ShowAll()"
      ]
    }
  ],
  "metadata": {
    "kernelspec": {
      "display_name": "Python 3",
      "language": "python",
      "name": "python3"
    },
    "language_info": {
      "codemirror_mode": {
        "name": "ipython",
        "version": 3
      },
      "file_extension": ".py",
      "mimetype": "text/x-python",
      "name": "python",
      "nbconvert_exporter": "python",
      "pygments_lexer": "ipython3",
      "version": "3.12.6"
    }
  },
  "nbformat": 4,
  "nbformat_minor": 0
}