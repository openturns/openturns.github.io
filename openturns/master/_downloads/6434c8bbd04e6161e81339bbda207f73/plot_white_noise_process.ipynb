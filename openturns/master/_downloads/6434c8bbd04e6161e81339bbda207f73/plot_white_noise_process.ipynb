{
  "cells": [
    {
      "cell_type": "markdown",
      "metadata": {},
      "source": [
        "\n# Create a white noise process\n"
      ]
    },
    {
      "cell_type": "markdown",
      "metadata": {},
      "source": [
        "This example details how to create and manipulate a white noise.\nA second order white noise\n$\\varepsilon: \\Omega \\times \\mathbb{D} \\rightarrow \\mathbb{R}^d$ is a stochastic\nprocess of dimension $d$ such that the covariance function\n$C(\\underline{s},\\underline{t})=\\delta(\\underline{t}-\\underline{s})C(\\underline{s},\\underline{s})$\nwhere $C(\\underline{s},\\underline{s})$ is the covariance matrix of the process at\nvertex $\\underline{s}$ and $\\delta$ the Kroenecker function.\n\nA process $\\varepsilon$ is a white noise if all finite family of\nlocations $(\\underline{t}_i)_{i=1, \\dots, n} \\in \\mathbb{D}$,\n$(\\varepsilon_{\\underline{t}_i})_{i=1, \\dots, n}$ is independent and\nidentically distributed.\n\nThe library proposes to model it through the object *WhiteNoise* defined\non a mesh and a distribution with zero mean and finite standard\ndeviation.\n\nIf the distribution has a mean different from zero, The library writes\nmessage to prevent the User and does not allow the creation of such a\nwhite noise.\n\n"
      ]
    },
    {
      "cell_type": "code",
      "execution_count": null,
      "metadata": {
        "collapsed": false
      },
      "outputs": [],
      "source": [
        "import openturns as ot\nimport openturns.viewer as viewer\nfrom matplotlib import pylab as plt\n\not.Log.Show(ot.Log.NONE)"
      ]
    },
    {
      "cell_type": "markdown",
      "metadata": {},
      "source": [
        "Define the distribution\n\n"
      ]
    },
    {
      "cell_type": "code",
      "execution_count": null,
      "metadata": {
        "collapsed": false
      },
      "outputs": [],
      "source": [
        "sigma = 1.0\ndist = ot.Normal(0.0, sigma)"
      ]
    },
    {
      "cell_type": "markdown",
      "metadata": {},
      "source": [
        "Define the mesh\n\n"
      ]
    },
    {
      "cell_type": "code",
      "execution_count": null,
      "metadata": {
        "collapsed": false
      },
      "outputs": [],
      "source": [
        "tgrid = ot.RegularGrid(0.0, 1.0, 100)"
      ]
    },
    {
      "cell_type": "markdown",
      "metadata": {},
      "source": [
        "Create the process\n\n"
      ]
    },
    {
      "cell_type": "code",
      "execution_count": null,
      "metadata": {
        "collapsed": false
      },
      "outputs": [],
      "source": [
        "process = ot.WhiteNoise(dist, tgrid)\nprocess"
      ]
    },
    {
      "cell_type": "markdown",
      "metadata": {},
      "source": [
        "Draw a realization\n\n"
      ]
    },
    {
      "cell_type": "code",
      "execution_count": null,
      "metadata": {
        "collapsed": false
      },
      "outputs": [],
      "source": [
        "realization = process.getRealization()\ngraph = realization.drawMarginal(0)\ngraph.setTitle(\"Realization of a white noise with distribution N(0,1)\")\nview = viewer.View(graph)"
      ]
    },
    {
      "cell_type": "markdown",
      "metadata": {},
      "source": [
        "Draw a sample\n\n"
      ]
    },
    {
      "cell_type": "code",
      "execution_count": null,
      "metadata": {
        "collapsed": false
      },
      "outputs": [],
      "source": [
        "sample = process.getSample(5)\ngraph = sample.drawMarginal(0)\ngraph.setTitle(\n    str(sample.getSize()) + \" realizations of a white noise with distribution N(0,1)\"\n)\nfor k in range(sample.getSize()):\n    drawable = graph.getDrawable(k)\n    drawable.setLegend(\"realization \" + str(k + 1))\n    graph.setDrawable(drawable, k)\nview = viewer.View(graph)\nplt.show()"
      ]
    }
  ],
  "metadata": {
    "kernelspec": {
      "display_name": "Python 3",
      "language": "python",
      "name": "python3"
    },
    "language_info": {
      "codemirror_mode": {
        "name": "ipython",
        "version": 3
      },
      "file_extension": ".py",
      "mimetype": "text/x-python",
      "name": "python",
      "nbconvert_exporter": "python",
      "pygments_lexer": "ipython3",
      "version": "3.11.7"
    }
  },
  "nbformat": 4,
  "nbformat_minor": 0
}