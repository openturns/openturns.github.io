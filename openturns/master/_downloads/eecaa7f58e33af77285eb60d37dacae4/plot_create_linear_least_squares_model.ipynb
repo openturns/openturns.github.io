{
  "cells": [
    {
      "cell_type": "code",
      "execution_count": null,
      "metadata": {
        "collapsed": false
      },
      "outputs": [],
      "source": [
        "%matplotlib inline"
      ]
    },
    {
      "cell_type": "markdown",
      "metadata": {},
      "source": [
        "\n# Create a linear least squares model\n"
      ]
    },
    {
      "cell_type": "markdown",
      "metadata": {},
      "source": [
        "In this example we are going to create a global approximation of a model response using  a linear\nfunction:\n\n\\begin{align}\\underline{y} \\, \\approx \\, \\widehat{h}(\\underline{x}) \\,\n   = \\, \\sum_{j=0}^{n_X} \\; a_j \\; \\psi_j(\\underline{x})\\end{align}\n\n\nHere\n\n\\begin{align}h(x) = [cos(x_1 + x_2), (x2 + 1)* e^{x_1 - 2* x_2}]\\end{align}\n\n\n"
      ]
    },
    {
      "cell_type": "code",
      "execution_count": null,
      "metadata": {
        "collapsed": false
      },
      "outputs": [],
      "source": [
        "from __future__ import print_function\nimport openturns as ot\nimport openturns.viewer as viewer\nfrom matplotlib import pylab as plt\not.Log.Show(ot.Log.NONE)\n\n# Prepare an input sample\nx = [[0.5, 0.5], [-0.5, -0.5], [-0.5, 0.5], [0.5, -0.5]]\nx += [[0.25, 0.25], [-0.25, -0.25], [-0.25, 0.25], [0.25, -0.25]]"
      ]
    },
    {
      "cell_type": "markdown",
      "metadata": {},
      "source": [
        "Compute the output sample from the input sample and a function.\n\n"
      ]
    },
    {
      "cell_type": "code",
      "execution_count": null,
      "metadata": {
        "collapsed": false
      },
      "outputs": [],
      "source": [
        "formulas = ['cos(x1 + x2)', '(x2 + 1) * exp(x1 - 2 * x2)']\nmodel = ot.SymbolicFunction(['x1', 'x2'], formulas)\ny = model(x)"
      ]
    },
    {
      "cell_type": "markdown",
      "metadata": {},
      "source": [
        "Create a linear least squares model.\n\n"
      ]
    },
    {
      "cell_type": "code",
      "execution_count": null,
      "metadata": {
        "collapsed": false
      },
      "outputs": [],
      "source": [
        "algo = ot.LinearLeastSquares(x, y)\nalgo.run()"
      ]
    },
    {
      "cell_type": "markdown",
      "metadata": {},
      "source": [
        "get the linear term\n\n"
      ]
    },
    {
      "cell_type": "code",
      "execution_count": null,
      "metadata": {
        "collapsed": false
      },
      "outputs": [],
      "source": [
        "algo.getLinear()"
      ]
    },
    {
      "cell_type": "markdown",
      "metadata": {},
      "source": [
        "get the constant term\n\n"
      ]
    },
    {
      "cell_type": "code",
      "execution_count": null,
      "metadata": {
        "collapsed": false
      },
      "outputs": [],
      "source": [
        "algo.getConstant()"
      ]
    },
    {
      "cell_type": "markdown",
      "metadata": {},
      "source": [
        "get the metamodel\n\n"
      ]
    },
    {
      "cell_type": "code",
      "execution_count": null,
      "metadata": {
        "collapsed": false
      },
      "outputs": [],
      "source": [
        "responseSurface = algo.getMetaModel()"
      ]
    },
    {
      "cell_type": "markdown",
      "metadata": {},
      "source": [
        "plot 2nd output of our model with x1=0.5\n\n"
      ]
    },
    {
      "cell_type": "code",
      "execution_count": null,
      "metadata": {
        "collapsed": false
      },
      "outputs": [],
      "source": [
        "graph = ot.ParametricFunction(\n    responseSurface, [0], [0.5]).getMarginal(1).draw(-0.5, 0.5)\ngraph.setLegends(['linear LS'])\ncurve = ot.ParametricFunction(model, [0], [0.5]).getMarginal(\n    1).draw(-0.5, 0.5).getDrawable(0)\ncurve.setColor('red')\ncurve.setLegend('model')\ngraph.add(curve)\ngraph.setLegendPosition('topright')\nview = viewer.View(graph)\nplt.show()"
      ]
    }
  ],
  "metadata": {
    "kernelspec": {
      "display_name": "Python 3",
      "language": "python",
      "name": "python3"
    },
    "language_info": {
      "codemirror_mode": {
        "name": "ipython",
        "version": 3
      },
      "file_extension": ".py",
      "mimetype": "text/x-python",
      "name": "python",
      "nbconvert_exporter": "python",
      "pygments_lexer": "ipython3",
      "version": "3.10.4"
    }
  },
  "nbformat": 4,
  "nbformat_minor": 0
}