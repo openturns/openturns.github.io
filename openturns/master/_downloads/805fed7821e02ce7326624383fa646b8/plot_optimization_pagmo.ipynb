{
  "cells": [
    {
      "cell_type": "markdown",
      "metadata": {},
      "source": [
        "\n# Multi-objective optimization using Pagmo\n"
      ]
    },
    {
      "cell_type": "markdown",
      "metadata": {},
      "source": [
        "In this example we are going to explore optimization using the :class:`~openturns.Pagmo` solver.\n\n"
      ]
    },
    {
      "cell_type": "code",
      "execution_count": null,
      "metadata": {
        "collapsed": false
      },
      "outputs": [],
      "source": [
        "import openturns as ot\nfrom openturns.viewer import View"
      ]
    },
    {
      "cell_type": "markdown",
      "metadata": {},
      "source": [
        "List available algorithms\n\n"
      ]
    },
    {
      "cell_type": "code",
      "execution_count": null,
      "metadata": {
        "collapsed": false
      },
      "outputs": [],
      "source": [
        "for algo in ot.Pagmo.GetAlgorithmNames():\n    print(algo)"
      ]
    },
    {
      "cell_type": "markdown",
      "metadata": {},
      "source": [
        "Create the problem, from ZDT test suite\n\n"
      ]
    },
    {
      "cell_type": "code",
      "execution_count": null,
      "metadata": {
        "collapsed": false
      },
      "outputs": [],
      "source": [
        "f = ot.SymbolicFunction(\n    [\"x1\", \"x2\"], [\"x1\", \"var g := 1.0 + 9.0 * (x1 + x2); g * (1.0 - sqrt(x1 / g))\"]\n)\nzdt1 = ot.OptimizationProblem(f)\nzdt1.setBounds(ot.Interval([0.0] * 2, [1.0] * 2))"
      ]
    },
    {
      "cell_type": "markdown",
      "metadata": {},
      "source": [
        "We create the first generation of points by sampling into the bounding box\n\n"
      ]
    },
    {
      "cell_type": "code",
      "execution_count": null,
      "metadata": {
        "collapsed": false
      },
      "outputs": [],
      "source": [
        "pop0 = ot.JointDistribution([ot.Uniform(0.0, 1.0)] * 2).getSample(100)"
      ]
    },
    {
      "cell_type": "markdown",
      "metadata": {},
      "source": [
        "We create the algorithm that should evolve over 10 generations\n\n"
      ]
    },
    {
      "cell_type": "code",
      "execution_count": null,
      "metadata": {
        "collapsed": false
      },
      "outputs": [],
      "source": [
        "algo = ot.Pagmo(zdt1, \"nsga2\", pop0)\nalgo.setMaximumIterationNumber(10)"
      ]
    },
    {
      "cell_type": "markdown",
      "metadata": {},
      "source": [
        "Benefit from parallel evaluations if the function allows it\n\n"
      ]
    },
    {
      "cell_type": "code",
      "execution_count": null,
      "metadata": {
        "collapsed": false
      },
      "outputs": [],
      "source": [
        "algo.setBlockSize(8)"
      ]
    },
    {
      "cell_type": "markdown",
      "metadata": {},
      "source": [
        "We run the algo\n\n"
      ]
    },
    {
      "cell_type": "code",
      "execution_count": null,
      "metadata": {
        "collapsed": false
      },
      "outputs": [],
      "source": [
        "algo.run()\npop1 = algo.getResult().getFinalPoints()"
      ]
    },
    {
      "cell_type": "markdown",
      "metadata": {},
      "source": [
        "We list the available Pareto fronts\n\n"
      ]
    },
    {
      "cell_type": "code",
      "execution_count": null,
      "metadata": {
        "collapsed": false
      },
      "outputs": [],
      "source": [
        "fronts = algo.getResult().getParetoFrontsIndices()\nlen(fronts)"
      ]
    },
    {
      "cell_type": "markdown",
      "metadata": {},
      "source": [
        "We show the Pareto front\n\n"
      ]
    },
    {
      "cell_type": "code",
      "execution_count": null,
      "metadata": {
        "collapsed": false
      },
      "outputs": [],
      "source": [
        "graph = ot.Graph(\"Pareto front\", \"y1\", \"y2\", True, \"upper right\")\nfront = algo.getResult().getFinalValues().select(fronts[0]).sortAccordingToAComponent(0)\ndata = ot.Sample(2 * front.getSize() - 1, 2)\nfor i in range(front.getSize()):\n    data[2 * i] = front[i]\n    if i != front.getSize() - 1:\n        data[2 * i + 1, 0] = front[i + 1, 0]\n        data[2 * i + 1, 1] = front[i, 1]\ncurve = ot.Curve(data)\ncurve.setLegend(f\"front {0}\")\ngraph.add(curve)\ngraph.setGrid(True)\n_ = View(graph)"
      ]
    },
    {
      "cell_type": "markdown",
      "metadata": {},
      "source": [
        "We show the Pareto front from successive generations\n\n"
      ]
    },
    {
      "cell_type": "code",
      "execution_count": null,
      "metadata": {
        "collapsed": false
      },
      "outputs": [],
      "source": [
        "fronts = []\nfor gen in range(5):\n    algo = ot.Pagmo(zdt1, \"nsga2\", pop0)\n    algo.setMaximumIterationNumber(gen)\n    algo.run()\n    front0 = algo.getResult().getParetoFrontsIndices()[0]\n    fronts.append(algo.getResult().getFinalValues().select(front0))\ngraph = ot.Graph(\"Successive fronts\", \"y1\", \"y2\", True, \"upper right\")\nfor k in range(len(fronts)):\n    front = fronts[k].sortAccordingToAComponent(0)\n    print(front)\n    data = ot.Sample(2 * front.getSize() - 1, 2)\n    for i in range(front.getSize()):\n        data[2 * i] = front[i]\n        if i != front.getSize() - 1:\n            data[2 * i + 1, 0] = front[i + 1, 0]\n            data[2 * i + 1, 1] = front[i, 1]\n    curve = ot.Curve(data)\n    curve.setLegend(f\"generation {k}\")\n    graph.add(curve)\ngraph.setGrid(True)\n_ = View(graph)\n\n\nView.ShowAll()"
      ]
    }
  ],
  "metadata": {
    "kernelspec": {
      "display_name": "Python 3",
      "language": "python",
      "name": "python3"
    },
    "language_info": {
      "codemirror_mode": {
        "name": "ipython",
        "version": 3
      },
      "file_extension": ".py",
      "mimetype": "text/x-python",
      "name": "python",
      "nbconvert_exporter": "python",
      "pygments_lexer": "ipython3",
      "version": "3.13.5"
    }
  },
  "nbformat": 4,
  "nbformat_minor": 0
}