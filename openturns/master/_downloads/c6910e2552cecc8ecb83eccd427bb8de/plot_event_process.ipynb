{
  "cells": [
    {
      "cell_type": "markdown",
      "metadata": {},
      "source": [
        "\n# Create an event based on a process\n"
      ]
    },
    {
      "cell_type": "markdown",
      "metadata": {},
      "source": [
        "This example gives elements to create an event based on a multivariate stochastic process.\nLet $X: \\Omega \\times \\mathcal{D} \\rightarrow \\mathbb{R}^d$ be a stochastic process\nof dimension $d$, where $\\mathcal{D} \\in \\mathbb{R}^n$ is discretized on the mesh\n$\\mathcal{M}$. We suppose that $\\mathcal{M}$ contains $N$ vertices.\n\nWe define the event $\\mathcal{E}$ as:\n\n\\begin{align}\\begin{aligned}\n     \\displaystyle \\mathcal{E}(X) = \\bigcup_{\\underline{t}\\in \\mathcal{M}}\\left\\{X_{\\underline{t}} \\in \\mathcal{A} \\right\\}\n   \\end{aligned}\\end{align}\n\nwhere $\\mathcal{A}$ is a domain of $\\mathbb{R}^d$.\n\nA particular domain $\\mathcal{A}$ is the cartesian product of type:\n\n\\begin{align}\\begin{aligned}\n     \\mathcal{A} = \\prod_{i=1}^d [a_i,b_i]\n   \\end{aligned}\\end{align}\n\nIn that case, the library defines $\\mathcal{A}$ by its both extreme points : $\\underline{a}$ and $\\underline{b}$.\n\nIn the general case, $\\mathcal{A}$ is a *Domain* object that is able to\ncheck if it contains a given point in $\\mathbb{R}^d$.\n\nThe library creates an *Event* object from the process $X$ and the\ndomain $\\mathcal{A}$. Then, it is possible to get a realization of the event\n$\\mathcal{E}$, which is scalar $1_{\\mathcal{E}(X)}(\\underline{x}_0, \\dots, \\underline{x}_{N-1})$\nif $(\\underline{x}_0, \\dots,\\underline{x}_{N-1})$ is a realization of $X$ on\n$\\mathcal{M}$.\n\n"
      ]
    },
    {
      "cell_type": "code",
      "execution_count": null,
      "metadata": {
        "collapsed": false
      },
      "outputs": [],
      "source": [
        "import openturns as ot\n\not.Log.Show(ot.Log.NONE)"
      ]
    },
    {
      "cell_type": "markdown",
      "metadata": {},
      "source": [
        "Define a 2-d mesh\n\n"
      ]
    },
    {
      "cell_type": "code",
      "execution_count": null,
      "metadata": {
        "collapsed": false
      },
      "outputs": [],
      "source": [
        "indices = [40, 20]\nmesher = ot.IntervalMesher(indices)\nlowerBound = [0.0, 0.0]\nupperBound = [2.0, 1.0]\ninterval = ot.Interval(lowerBound, upperBound)\nmesh = mesher.build(interval)"
      ]
    },
    {
      "cell_type": "markdown",
      "metadata": {},
      "source": [
        "Create the covariance model\n\n"
      ]
    },
    {
      "cell_type": "code",
      "execution_count": null,
      "metadata": {
        "collapsed": false
      },
      "outputs": [],
      "source": [
        "amplitude = [1.0, 2.0, 3.0]\nscale = [4.0, 5.0]\nspatialCorrelation = ot.CorrelationMatrix(3)\nspatialCorrelation[0, 1] = 0.8\nspatialCorrelation[0, 2] = 0.6\nspatialCorrelation[1, 2] = 0.1\ncovmodel = ot.ExponentialModel(scale, amplitude, spatialCorrelation)\n\n# Create a normal process\nprocess = ot.GaussianProcess(covmodel, mesh)"
      ]
    },
    {
      "cell_type": "markdown",
      "metadata": {},
      "source": [
        "Create a domain A in R^3: [0.8; 1.2]*[1.5; 1.6]*[0.5; 0.7]\n\n"
      ]
    },
    {
      "cell_type": "code",
      "execution_count": null,
      "metadata": {
        "collapsed": false
      },
      "outputs": [],
      "source": [
        "lowerBound = [0.8, 1.5, 0.5]\nupperBound = [1.2, 1.6, 0.7]\ndomain = ot.Interval(lowerBound, upperBound)\n\n# Create the event\nevent = ot.ProcessEvent(process, domain)"
      ]
    }
  ],
  "metadata": {
    "kernelspec": {
      "display_name": "Python 3",
      "language": "python",
      "name": "python3"
    },
    "language_info": {
      "codemirror_mode": {
        "name": "ipython",
        "version": 3
      },
      "file_extension": ".py",
      "mimetype": "text/x-python",
      "name": "python",
      "nbconvert_exporter": "python",
      "pygments_lexer": "ipython3",
      "version": "3.11.3"
    }
  },
  "nbformat": 4,
  "nbformat_minor": 0
}