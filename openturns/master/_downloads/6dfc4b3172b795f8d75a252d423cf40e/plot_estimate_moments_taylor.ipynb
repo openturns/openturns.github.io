{
  "cells": [
    {
      "cell_type": "markdown",
      "metadata": {},
      "source": [
        "\n# Estimate moments from Taylor expansions\nIn this example we are going to estimate mean and standard deviation of an output variable of interest thanks to the Taylor variance decomposition method of order 1 or 2.\n"
      ]
    },
    {
      "cell_type": "markdown",
      "metadata": {},
      "source": [
        "## Model definition\n\n"
      ]
    },
    {
      "cell_type": "code",
      "execution_count": null,
      "metadata": {
        "collapsed": false
      },
      "outputs": [],
      "source": [
        "import openturns as ot\nimport openturns.viewer as viewer\nimport numpy as np\nfrom matplotlib import pylab as plt\n\not.Log.Show(ot.Log.NONE)"
      ]
    },
    {
      "cell_type": "markdown",
      "metadata": {},
      "source": [
        "Create a composite random vector\n\n"
      ]
    },
    {
      "cell_type": "code",
      "execution_count": null,
      "metadata": {
        "collapsed": false
      },
      "outputs": [],
      "source": [
        "ot.RandomGenerator.SetSeed(0)\ninput_names = [\"x1\", \"x2\", \"x3\", \"x4\"]\nmyFunc = ot.SymbolicFunction(input_names, [\"cos(x2*x2+x4)/(x1*x1+1+x3^4)\"])\nR = ot.CorrelationMatrix(4)\nfor i in range(4):\n    R[i, i - 1] = 0.25\ndistribution = ot.Normal([0.2] * 4, [0.1, 0.2, 0.3, 0.4], R)\ndistribution.setDescription(input_names)\n# We create a distribution-based RandomVector\nX = ot.RandomVector(distribution)\n# We create a composite RandomVector Y from X and myFunc\nY = ot.CompositeRandomVector(myFunc, X)"
      ]
    },
    {
      "cell_type": "markdown",
      "metadata": {},
      "source": [
        "## Taylor expansion based estimation of the moments\n\n"
      ]
    },
    {
      "cell_type": "markdown",
      "metadata": {},
      "source": [
        "We create a Taylor expansion method to approximate moments\n\n"
      ]
    },
    {
      "cell_type": "code",
      "execution_count": null,
      "metadata": {
        "collapsed": false
      },
      "outputs": [],
      "source": [
        "taylor = ot.TaylorExpansionMoments(Y)"
      ]
    },
    {
      "cell_type": "markdown",
      "metadata": {},
      "source": [
        "## Analysis of the results\n\n"
      ]
    },
    {
      "cell_type": "markdown",
      "metadata": {},
      "source": [
        "get 1st order mean\n\n"
      ]
    },
    {
      "cell_type": "code",
      "execution_count": null,
      "metadata": {
        "collapsed": false
      },
      "outputs": [],
      "source": [
        "print(taylor.getMeanFirstOrder())"
      ]
    },
    {
      "cell_type": "markdown",
      "metadata": {},
      "source": [
        "get 2nd order mean\n\n"
      ]
    },
    {
      "cell_type": "code",
      "execution_count": null,
      "metadata": {
        "collapsed": false
      },
      "outputs": [],
      "source": [
        "print(taylor.getMeanSecondOrder())"
      ]
    },
    {
      "cell_type": "markdown",
      "metadata": {},
      "source": [
        "get covariance\n\n"
      ]
    },
    {
      "cell_type": "code",
      "execution_count": null,
      "metadata": {
        "collapsed": false
      },
      "outputs": [],
      "source": [
        "print(taylor.getCovariance())"
      ]
    },
    {
      "cell_type": "markdown",
      "metadata": {},
      "source": [
        "draw importance factors\n\n"
      ]
    },
    {
      "cell_type": "code",
      "execution_count": null,
      "metadata": {
        "collapsed": false
      },
      "outputs": [],
      "source": [
        "taylor.getImportanceFactors()"
      ]
    },
    {
      "cell_type": "markdown",
      "metadata": {},
      "source": [
        "draw importance factors\n\n"
      ]
    },
    {
      "cell_type": "code",
      "execution_count": null,
      "metadata": {
        "collapsed": false
      },
      "outputs": [],
      "source": [
        "graph = taylor.drawImportanceFactors()\nview = viewer.View(graph)"
      ]
    },
    {
      "cell_type": "markdown",
      "metadata": {},
      "source": [
        "Get the value of the output at the mean point\n\n"
      ]
    },
    {
      "cell_type": "code",
      "execution_count": null,
      "metadata": {
        "collapsed": false
      },
      "outputs": [],
      "source": [
        "taylor.getValueAtMean()"
      ]
    },
    {
      "cell_type": "markdown",
      "metadata": {},
      "source": [
        "Get the gradient value of the output at the mean point\n\n"
      ]
    },
    {
      "cell_type": "code",
      "execution_count": null,
      "metadata": {
        "collapsed": false
      },
      "outputs": [],
      "source": [
        "taylor.getGradientAtMean()"
      ]
    },
    {
      "cell_type": "markdown",
      "metadata": {},
      "source": [
        "Get the hessian value of the output at the mean point\n\n"
      ]
    },
    {
      "cell_type": "code",
      "execution_count": null,
      "metadata": {
        "collapsed": false
      },
      "outputs": [],
      "source": [
        "taylor.getHessianAtMean()\nplt.show()"
      ]
    },
    {
      "cell_type": "markdown",
      "metadata": {},
      "source": [
        "## Using finite difference gradients\n\n"
      ]
    },
    {
      "cell_type": "markdown",
      "metadata": {},
      "source": [
        "When no gradient and/or functions are provided for the model, a finite difference\napproach is relied on automatically. However, it is possible to manually specify\nthe characteristic of the considered difference steps.\n\n"
      ]
    },
    {
      "cell_type": "code",
      "execution_count": null,
      "metadata": {
        "collapsed": false
      },
      "outputs": [],
      "source": [
        "def myPythonFunction(X):\n    x1, x2, x3, x4 = X\n    return [np.cos(x2 * x2 + x4) / (x1 * x1 + 1.0 + x3**4)]\n\n\nmyFunc = ot.PythonFunction(4, 1, myPythonFunction)"
      ]
    },
    {
      "cell_type": "markdown",
      "metadata": {},
      "source": [
        "For instance, a user-defined constant step value can be considered\n\n"
      ]
    },
    {
      "cell_type": "code",
      "execution_count": null,
      "metadata": {
        "collapsed": false
      },
      "outputs": [],
      "source": [
        "gradEpsilon = [1e-8] * 4\nhessianEpsilon = [1e-7] * 4\ngradStep = ot.ConstantStep(gradEpsilon)  # Costant gradient step\nhessianStep = ot.ConstantStep(hessianEpsilon)  # Constant Hessian step\nmyFunc.setGradient(\n    ot.CenteredFiniteDifferenceGradient(gradStep, myFunc.getEvaluation())\n)\nmyFunc.setHessian(\n    ot.CenteredFiniteDifferenceHessian(hessianStep, myFunc.getEvaluation())\n)"
      ]
    },
    {
      "cell_type": "markdown",
      "metadata": {},
      "source": [
        "Alternatively, we can consider a finite difference step value which\ndepends on the location in the input space by relying on the BlendedStep class:\n\n"
      ]
    },
    {
      "cell_type": "code",
      "execution_count": null,
      "metadata": {
        "collapsed": false
      },
      "outputs": [],
      "source": [
        "gradEpsilon = [1e-8] * 4\nhessianEpsilon = [1e-7] * 4\ngradStep = ot.BlendedStep(gradEpsilon)  # Costant gradient step\nhessianStep = ot.BlendedStep(hessianEpsilon)  # Constant Hessian step\nmyFunc.setGradient(\n    ot.CenteredFiniteDifferenceGradient(gradStep, myFunc.getEvaluation())\n)\nmyFunc.setHessian(\n    ot.CenteredFiniteDifferenceHessian(hessianStep, myFunc.getEvaluation())\n)"
      ]
    },
    {
      "cell_type": "markdown",
      "metadata": {},
      "source": [
        "We can then proceed in the same way as before\n\n"
      ]
    },
    {
      "cell_type": "code",
      "execution_count": null,
      "metadata": {
        "collapsed": false
      },
      "outputs": [],
      "source": [
        "Y = ot.CompositeRandomVector(myFunc, X)\ntaylor = ot.TaylorExpansionMoments(Y)"
      ]
    }
  ],
  "metadata": {
    "kernelspec": {
      "display_name": "Python 3",
      "language": "python",
      "name": "python3"
    },
    "language_info": {
      "codemirror_mode": {
        "name": "ipython",
        "version": 3
      },
      "file_extension": ".py",
      "mimetype": "text/x-python",
      "name": "python",
      "nbconvert_exporter": "python",
      "pygments_lexer": "ipython3",
      "version": "3.13.1"
    }
  },
  "nbformat": 4,
  "nbformat_minor": 0
}