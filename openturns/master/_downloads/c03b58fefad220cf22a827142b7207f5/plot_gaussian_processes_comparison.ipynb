{
  "cells": [
    {
      "cell_type": "markdown",
      "metadata": {},
      "source": [
        "\n# Compare covariance models\n"
      ]
    },
    {
      "cell_type": "markdown",
      "metadata": {},
      "source": [
        "The main goal of this example is to briefly review the most important covariance models and compare them in terms of regularity.\n\nWe first show how to define a covariance model, a temporal grid and a gaussian process.\nWe first consider the squared exponential covariance model and show how the trajectories are sensitive to its parameters.\nWe show how to define a trend. In the final section, we compare the trajectories from exponential and Mat\u00e9rn covariance models.\n\n"
      ]
    },
    {
      "cell_type": "markdown",
      "metadata": {},
      "source": [
        "## References\n\n* Carl Edward Rasmussen and Christopher K. I. Williams (2006) Gaussian Processes for Machine Learning. Chapter 4: \"Covariance Functions\", www.GaussianProcess.org/gpml\n\n"
      ]
    },
    {
      "cell_type": "markdown",
      "metadata": {},
      "source": [
        "## The anisotropic squared exponential model\n\nThe :class:`~openturns.SquaredExponential` class allows one to define covariance models:\n\n* $\\sigma\\in\\mathbb{R}$ is the amplitude parameter,\n* $\\boldsymbol{\\theta}\\in\\mathbb{R}^d$ is the scale.\n\n"
      ]
    },
    {
      "cell_type": "code",
      "execution_count": null,
      "metadata": {
        "collapsed": false
      },
      "outputs": [],
      "source": [
        "import pylab as pl\nfrom openturns.viewer import View\nimport openturns as ot\nimport openturns.viewer as viewer\n\not.Log.Show(ot.Log.NONE)"
      ]
    },
    {
      "cell_type": "markdown",
      "metadata": {},
      "source": [
        "Amplitude values\n\n"
      ]
    },
    {
      "cell_type": "code",
      "execution_count": null,
      "metadata": {
        "collapsed": false
      },
      "outputs": [],
      "source": [
        "amplitude = [3.5]\n# Scale values\nscale = [1.5]\n# Covariance model\nmyModel = ot.SquaredExponential(scale, amplitude)"
      ]
    },
    {
      "cell_type": "markdown",
      "metadata": {},
      "source": [
        "## Gaussian processes\n\nIn order to create a :class:`~openturns.GaussianProcess`, we must have:\n\n* a covariance model,\n* a grid.\n\nOptionnally, we can define a trend (we will see that later in the example). By default, the trend is zero.\n\nWe consider the domain $\\mathcal{D}=[0,10]$. We discretize this domain with 100 cells (which corresponds to 101 nodes), with steps equal to 0.1 starting from 0:\n\n\\begin{align}(x_0=x_{min}=0,\\:x_1=0.1,\\:\\ldots,\\:x_n=x_{max}=10).\\end{align}\n\n\n"
      ]
    },
    {
      "cell_type": "code",
      "execution_count": null,
      "metadata": {
        "collapsed": false
      },
      "outputs": [],
      "source": [
        "xmin = 0.0\nstep = 0.1\nn = 100\nmyTimeGrid = ot.RegularGrid(xmin, step, n + 1)\ngraph = myTimeGrid.draw()\ngraph.setTitle(\"Regular grid\")\nview = viewer.View(graph)"
      ]
    },
    {
      "cell_type": "markdown",
      "metadata": {},
      "source": [
        "Then we create the gaussian process (by default the trend is zero).\n\n"
      ]
    },
    {
      "cell_type": "code",
      "execution_count": null,
      "metadata": {
        "collapsed": false
      },
      "outputs": [],
      "source": [
        "process = ot.GaussianProcess(myModel, myTimeGrid)\nprocess"
      ]
    },
    {
      "cell_type": "markdown",
      "metadata": {},
      "source": [
        "Then we generate 10 trajectores with the `getSample` method. This trajectories are in a `ProcessSample`.\n\n"
      ]
    },
    {
      "cell_type": "code",
      "execution_count": null,
      "metadata": {
        "collapsed": false
      },
      "outputs": [],
      "source": [
        "nbTrajectories = 10\nsample = process.getSample(nbTrajectories)\ntype(sample)"
      ]
    },
    {
      "cell_type": "markdown",
      "metadata": {},
      "source": [
        "We can draw the trajectories with `drawMarginal`.\n\n"
      ]
    },
    {
      "cell_type": "code",
      "execution_count": null,
      "metadata": {
        "collapsed": false
      },
      "outputs": [],
      "source": [
        "graph = sample.drawMarginal(0)\ngraph.setTitle(\"amplitude=%.3f, scale=%.3f\" % (amplitude[0], scale[0]))\nview = viewer.View(graph)"
      ]
    },
    {
      "cell_type": "markdown",
      "metadata": {},
      "source": [
        "In order to make the next examples easier, we define a function which plots a given number of trajectories from a gaussian process based on a covariance model.\n\n"
      ]
    },
    {
      "cell_type": "code",
      "execution_count": null,
      "metadata": {
        "collapsed": false
      },
      "outputs": [],
      "source": [
        "def plotCovarianceModel(myCovarianceModel, myTimeGrid, nbTrajectories):\n    \"\"\"Plots the given number of trajectories with given covariance model.\"\"\"\n    process = ot.GaussianProcess(myCovarianceModel, myTimeGrid)\n    sample = process.getSample(nbTrajectories)\n    graph = sample.drawMarginal(0)\n    graph.setTitle(\"\")\n    return graph"
      ]
    },
    {
      "cell_type": "markdown",
      "metadata": {},
      "source": [
        "The amplitude parameter sets the variance of the process. A greater amplitude increases the chances of getting larger absolute values of the process.\n\n"
      ]
    },
    {
      "cell_type": "code",
      "execution_count": null,
      "metadata": {
        "collapsed": false
      },
      "outputs": [],
      "source": [
        "amplitude = [7.0]\nscale = [1.5]\nmyModel = ot.SquaredExponential(scale, amplitude)\ngraph = plotCovarianceModel(myModel, myTimeGrid, 10)\ngraph.setTitle(\"amplitude=%.3f, scale=%.3f\" % (amplitude[0], scale[0]))\nview = viewer.View(graph)"
      ]
    },
    {
      "cell_type": "markdown",
      "metadata": {},
      "source": [
        "Modifying the scale parameter is here equivalent to stretch or contract the \"time\" $x$.\n\n"
      ]
    },
    {
      "cell_type": "code",
      "execution_count": null,
      "metadata": {
        "collapsed": false
      },
      "outputs": [],
      "source": [
        "amplitude = [3.5]\nscale = [0.5]\nmyModel = ot.SquaredExponential(scale, amplitude)\ngraph = plotCovarianceModel(myModel, myTimeGrid, 10)\ngraph.setTitle(\"amplitude=%.3f, scale=%.3f\" % (amplitude[0], scale[0]))\nview = viewer.View(graph)"
      ]
    },
    {
      "cell_type": "markdown",
      "metadata": {},
      "source": [
        "## Define the trend\n\nThe trend is a deterministic function. With the `GaussianProcess` class, the associated process is the sum of a trend and a gaussian process with zero mean.\n\n"
      ]
    },
    {
      "cell_type": "code",
      "execution_count": null,
      "metadata": {
        "collapsed": false
      },
      "outputs": [],
      "source": [
        "f = ot.SymbolicFunction([\"x\"], [\"2*x\"])\nfTrend = ot.TrendTransform(f, myTimeGrid)"
      ]
    },
    {
      "cell_type": "code",
      "execution_count": null,
      "metadata": {
        "collapsed": false
      },
      "outputs": [],
      "source": [
        "amplitude = [3.5]\nscale = [1.5]\nmyModel = ot.SquaredExponential(scale, amplitude)\nprocess = ot.GaussianProcess(fTrend, myModel, myTimeGrid)\nprocess"
      ]
    },
    {
      "cell_type": "code",
      "execution_count": null,
      "metadata": {
        "collapsed": false
      },
      "outputs": [],
      "source": [
        "nbTrajectories = 10\nsample = process.getSample(nbTrajectories)\ngraph = sample.drawMarginal(0)\ngraph.setTitle(\"amplitude=%.3f, scale=%.3f\" % (amplitude[0], scale[0]))\nview = viewer.View(graph)"
      ]
    },
    {
      "cell_type": "markdown",
      "metadata": {},
      "source": [
        "## Other covariance models\n\nThere are other covariance models. The models which are used more often are the following:\n\n* `SquaredExponential`. The generated processes can be derivated in mean square at all orders.\n* `MaternModel`. When $\\nu\\rightarrow+\\infty$, it converges to the squared exponential model.\n  This model can be derivated $k$ times only if $k<\\nu$.\n  In other words, when $\\nu$ increases, then the trajectories are more and more regular.\n  The particular case $\\nu=1/2$ is the exponential model.\n  The most commonly used values are $\\nu=3/2$ and $\\nu=5/2$, which produce trajectories that are, in terms of regularity,\n  in between the squared exponential and the exponential models.\n* `ExponentialModel`. The associated process is continuous, but not differentiable.\n\n\n"
      ]
    },
    {
      "cell_type": "markdown",
      "metadata": {},
      "source": [
        "## The Mat\u00e9rn and exponential models\n\n"
      ]
    },
    {
      "cell_type": "code",
      "execution_count": null,
      "metadata": {
        "collapsed": false
      },
      "outputs": [],
      "source": [
        "amplitude = [1.0]\nscale = [1.0]\nnu1, nu2, nu3 = 2.5, 1.5, 0.5\nmyModel1 = ot.MaternModel(scale, amplitude, nu1)\nmyModel2 = ot.MaternModel(scale, amplitude, nu2)\nmyModel3 = ot.MaternModel(scale, amplitude, nu3)"
      ]
    },
    {
      "cell_type": "code",
      "execution_count": null,
      "metadata": {
        "collapsed": false
      },
      "outputs": [],
      "source": [
        "nbTrajectories = 10\ngraph1 = plotCovarianceModel(myModel1, myTimeGrid, nbTrajectories)\ngraph2 = plotCovarianceModel(myModel2, myTimeGrid, nbTrajectories)\ngraph3 = plotCovarianceModel(myModel3, myTimeGrid, nbTrajectories)"
      ]
    },
    {
      "cell_type": "code",
      "execution_count": null,
      "metadata": {
        "collapsed": false
      },
      "outputs": [],
      "source": [
        "fig = pl.figure(figsize=(20, 6))\nax1 = fig.add_subplot(1, 3, 1)\n_ = View(graph1, figure=fig, axes=[ax1])\n_ = ax1.set_title(\"Matern 5/2\")\nax2 = fig.add_subplot(1, 3, 2)\n_ = View(graph2, figure=fig, axes=[ax2])\n_ = ax2.set_title(\"Matern 3/2\")\nax3 = fig.add_subplot(1, 3, 3)\n_ = View(graph3, figure=fig, axes=[ax3])\n_ = ax3.set_title(\"Matern 1/2\")"
      ]
    },
    {
      "cell_type": "markdown",
      "metadata": {},
      "source": [
        "We see than, when $\\nu$ increases, then the trajectories are smoother and smoother.\n\n"
      ]
    },
    {
      "cell_type": "code",
      "execution_count": null,
      "metadata": {
        "collapsed": false
      },
      "outputs": [],
      "source": [
        "myExpModel = ot.ExponentialModel(scale, amplitude)"
      ]
    },
    {
      "cell_type": "code",
      "execution_count": null,
      "metadata": {
        "collapsed": false
      },
      "outputs": [],
      "source": [
        "graph = plotCovarianceModel(myExpModel, myTimeGrid, nbTrajectories)\ngraph.setTitle(\"Exponential\")\nview = viewer.View(graph)"
      ]
    },
    {
      "cell_type": "markdown",
      "metadata": {},
      "source": [
        "We see that the exponential model produces very irregular trajectories.\n\n"
      ]
    }
  ],
  "metadata": {
    "kernelspec": {
      "display_name": "Python 3",
      "language": "python",
      "name": "python3"
    },
    "language_info": {
      "codemirror_mode": {
        "name": "ipython",
        "version": 3
      },
      "file_extension": ".py",
      "mimetype": "text/x-python",
      "name": "python",
      "nbconvert_exporter": "python",
      "pygments_lexer": "ipython3",
      "version": "3.11.7"
    }
  },
  "nbformat": 4,
  "nbformat_minor": 0
}