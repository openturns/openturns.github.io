{
  "cells": [
    {
      "cell_type": "code",
      "execution_count": null,
      "metadata": {
        "collapsed": false
      },
      "outputs": [],
      "source": [
        "%matplotlib inline"
      ]
    },
    {
      "cell_type": "markdown",
      "metadata": {},
      "source": [
        "\n# Calibration of the deflection of a tube\n"
      ]
    },
    {
      "cell_type": "markdown",
      "metadata": {},
      "source": [
        "## Description\n\nWe consider the deflection of a tube under a vertical stress.\n\n<img src=\"_static/simply_supported_beam.png\" width=\"300\" />\n\nThe parameters of the model are:\n\n* F : the strength,\n* L : the length of the tube,\n* a : position of the force,\n* D : external diameter of the tube,\n* d : internal diameter of the tube,\n* E : Young modulus.\n\nThe following figure presents the internal and external diameter of the tube:\n\n<img src=\"_static/tube-diameters.png\" width=\"200\" />\n\nThe area moment of inertia of the cross section about the neutral axis of a round tube (i.e. perpendicular to the section) with external and internal diameters $D$ and $d$ are:\n\n\\begin{align}I = \\frac{\\pi (D^4-d^4)}{32}.\\end{align}\n\n\nThe vertical deflection at point $x=a$ is:\n\n\\begin{align}g_1(X) = - F \\frac{a^2 (L-a)^2}{3 E L I},\\end{align}\n\n\nwhere $X=(F,L,a,D,d,E)$. \nThe angle of the tube at the left end is:\n\n\\begin{align}g_2(X) = \n   - F \\frac{b (L^2-b^2)}{6 E L I},\\end{align}\n\n\nand the angle of the tube at the right end is:\n\n\\begin{align}g_3(X) = \n   F \\frac{a (L^2-a^2)}{6 E L I}.\\end{align}\n\n\nThe following table presents the distributions of the random variables. These variables are assumed to be independent.\n\n======== ==========================\nVariable Distribution\n======== ==========================\nF        Normal(1,0.1)\nL        Normal(1.5,0.01)\na        Uniform(0.7,1.2)\nD        Triangular(0.75,0.8,0.85)\nd        Triangular(0.09,0.1,0.11)\nE        Normal(200000,2000)\n======== ==========================\n\n\n"
      ]
    },
    {
      "cell_type": "markdown",
      "metadata": {},
      "source": [
        "## References\n\n* Deflection of beams by Russ Elliott. http://www.clag.org.uk/beam.html\n* https://upload.wikimedia.org/wikipedia/commons/f/ff/Simple_beam_with_offset_load.svg\n* https://en.wikipedia.org/wiki/Deflection_(engineering)\n* https://mechanicalc.com/reference/beam-deflection-tables\n* https://en.wikipedia.org/wiki/Second_moment_of_area\n* Shigley's Mechanical Engineering Design (9th Edition), Richard G. Budynas, J. Keith Nisbettn, McGraw Hill (2011)\n* Mechanics of Materials (7th Edition), James M. Gere, Barry J. Goodno, Cengage Learning (2009)\n* Statics and Mechanics of Materials (5th Edition), Ferdinand Beer, E. Russell Johnston, Jr., John DeWolf, David Mazurek. Mc Graw Hill (2011) Chapter 15: deflection of beams.\n\n"
      ]
    },
    {
      "cell_type": "markdown",
      "metadata": {},
      "source": [
        "## Create a calibration problem\n\n"
      ]
    },
    {
      "cell_type": "code",
      "execution_count": null,
      "metadata": {
        "collapsed": false
      },
      "outputs": [],
      "source": [
        "import openturns as ot\nimport openturns.viewer as viewer\nfrom matplotlib import pylab as plt\not.Log.Show(ot.Log.NONE)"
      ]
    },
    {
      "cell_type": "markdown",
      "metadata": {},
      "source": [
        "We use the variable names `De` for the external diameter and `di` for the internal diameter because the symbolic function engine is not case sensitive, hence the variable names `D` and `d` would not be distiguished.\n\n"
      ]
    },
    {
      "cell_type": "code",
      "execution_count": null,
      "metadata": {
        "collapsed": false
      },
      "outputs": [],
      "source": [
        "inputsvars=[\"F\",\"L\",\"a\",\"De\",\"di\",\"E\"]\nformula = \"var I:=pi_*(De^4-di^4)/32; var b:=L-a; g1:=-F*a^2*(L-a)^2/(3*E*L*I); g2:=-F*b*(L^2-b^2)/(6*E*L*I); g3:=F*a*(L^2-a^2)/(6*E*L*I)\"\ng = ot.SymbolicFunction(inputsvars,[\"g1\",\"g2\",\"g3\"],formula)\ng.setOutputDescription([\"Deflection\",\"Left angle\",\"Right angle\"])"
      ]
    },
    {
      "cell_type": "code",
      "execution_count": null,
      "metadata": {
        "collapsed": false
      },
      "outputs": [],
      "source": [
        "XF=ot.Normal(1,0.1)\nXE=ot.Normal(200000,2000)\nXF.setDescription([\"Force\"])\nXE.setDescription([\"Young Modulus\"])"
      ]
    },
    {
      "cell_type": "code",
      "execution_count": null,
      "metadata": {
        "collapsed": false
      },
      "outputs": [],
      "source": [
        "XL = ot.Dirac(1.5)\nXa = ot.Dirac(1.0)\nXD = ot.Dirac(0.8)\nXd = ot.Dirac(0.1)\nXL.setDescription([\"Longueur\"])\nXa.setDescription([\"Location\"])\nXD.setDescription([\"External diameter\"])\nXd.setDescription([\"Internal diameter\"])"
      ]
    },
    {
      "cell_type": "code",
      "execution_count": null,
      "metadata": {
        "collapsed": false
      },
      "outputs": [],
      "source": [
        "inputDistribution = ot.ComposedDistribution([XF,XL,Xa,XD,Xd,XE])"
      ]
    },
    {
      "cell_type": "code",
      "execution_count": null,
      "metadata": {
        "collapsed": false
      },
      "outputs": [],
      "source": [
        "sampleSize = 100\ninputSample = inputDistribution.getSample(sampleSize)\ninputSample[0:5]"
      ]
    },
    {
      "cell_type": "code",
      "execution_count": null,
      "metadata": {
        "collapsed": false
      },
      "outputs": [],
      "source": [
        "outputDeflection = g(inputSample)\noutputDeflection[0:5]"
      ]
    },
    {
      "cell_type": "code",
      "execution_count": null,
      "metadata": {
        "collapsed": false
      },
      "outputs": [],
      "source": [
        "observationNoiseSigma = [0.1e-6,0.05e-5,0.05e-5]\nobservationNoiseCovariance = ot.CovarianceMatrix(3)\nfor i in range(3):\n    observationNoiseCovariance[i,i] = observationNoiseSigma[i]**2"
      ]
    },
    {
      "cell_type": "code",
      "execution_count": null,
      "metadata": {
        "collapsed": false
      },
      "outputs": [],
      "source": [
        "noiseSigma = ot.Normal([0.,0.,0.],observationNoiseCovariance)\nsampleObservationNoise = noiseSigma.getSample(sampleSize)\nobservedOutput = outputDeflection + sampleObservationNoise\nobservedOutput[0:5]"
      ]
    },
    {
      "cell_type": "code",
      "execution_count": null,
      "metadata": {
        "collapsed": false
      },
      "outputs": [],
      "source": [
        "observedInput = ot.Sample(sampleSize,2)\nobservedInput[:,0] = inputSample[:,0] # F\nobservedInput[:,1] = inputSample[:,5] # E\nobservedInput.setDescription([\"Force\",\"Young Modulus\"])\nobservedInput[0:5]"
      ]
    },
    {
      "cell_type": "code",
      "execution_count": null,
      "metadata": {
        "collapsed": false
      },
      "outputs": [],
      "source": [
        "fullSample = ot.Sample(sampleSize,5)\nfullSample[:,0:2] = observedInput\nfullSample[:,2:5] = observedOutput\nfullSample.setDescription([\"Force\",\"Young\",\"Deflection\",\"Left Angle\",\"Right Angle\"])\nfullSample[0:5]"
      ]
    },
    {
      "cell_type": "code",
      "execution_count": null,
      "metadata": {
        "collapsed": false
      },
      "outputs": [],
      "source": [
        "graph = ot.VisualTest.DrawPairs(fullSample)\nview = viewer.View(graph)"
      ]
    },
    {
      "cell_type": "markdown",
      "metadata": {},
      "source": [
        "## Setting up the calibration\n\n"
      ]
    },
    {
      "cell_type": "code",
      "execution_count": null,
      "metadata": {
        "collapsed": false
      },
      "outputs": [],
      "source": [
        "XL = 1.4 # Exact : 1.5\nXa = 1.2 # Exact : 1.0\nXD = 0.7 # Exact : 0.8\nXd = 0.2 # Exact : 0.1\nthetaPrior = ot.Point([XL,Xa,XD,Xd])"
      ]
    },
    {
      "cell_type": "code",
      "execution_count": null,
      "metadata": {
        "collapsed": false
      },
      "outputs": [],
      "source": [
        "sigmaXL = 0.1 * XL\nsigmaXa = 0.1 * Xa\nsigmaXD = 0.1 * XD\nsigmaXd = 0.1 * Xd\nparameterCovariance = ot.CovarianceMatrix(4)\nparameterCovariance[0,0] = sigmaXL**2\nparameterCovariance[1,1] = sigmaXa**2\nparameterCovariance[2,2] = sigmaXD**2\nparameterCovariance[3,3] = sigmaXd**2\nparameterCovariance"
      ]
    },
    {
      "cell_type": "code",
      "execution_count": null,
      "metadata": {
        "collapsed": false
      },
      "outputs": [],
      "source": [
        "calibratedIndices = [1,2,3,4]\ncalibrationFunction = ot.ParametricFunction(g, calibratedIndices, thetaPrior)"
      ]
    },
    {
      "cell_type": "code",
      "execution_count": null,
      "metadata": {
        "collapsed": false
      },
      "outputs": [],
      "source": [
        "sigmaObservation = [0.2e-6,0.03e-5,0.03e-5] # Exact : 0.1e-6"
      ]
    },
    {
      "cell_type": "code",
      "execution_count": null,
      "metadata": {
        "collapsed": false
      },
      "outputs": [],
      "source": [
        "errorCovariance = ot.CovarianceMatrix(3)\nerrorCovariance[0,0] = sigmaObservation[0]**2\nerrorCovariance[1,1] = sigmaObservation[1]**2\nerrorCovariance[2,2] = sigmaObservation[2]**2"
      ]
    },
    {
      "cell_type": "code",
      "execution_count": null,
      "metadata": {
        "collapsed": false
      },
      "outputs": [],
      "source": [
        "calibrationFunction.setParameter(thetaPrior)\npredictedOutput = calibrationFunction(observedInput)\npredictedOutput[0:5]"
      ]
    },
    {
      "cell_type": "markdown",
      "metadata": {},
      "source": [
        "## Calibration with gaussian non linear least squares\n\n"
      ]
    },
    {
      "cell_type": "code",
      "execution_count": null,
      "metadata": {
        "collapsed": false
      },
      "outputs": [],
      "source": [
        "algo = ot.GaussianNonLinearCalibration(calibrationFunction, observedInput, observedOutput, thetaPrior, parameterCovariance, errorCovariance)"
      ]
    },
    {
      "cell_type": "code",
      "execution_count": null,
      "metadata": {
        "collapsed": false
      },
      "outputs": [],
      "source": [
        "algo.run()"
      ]
    },
    {
      "cell_type": "code",
      "execution_count": null,
      "metadata": {
        "collapsed": false
      },
      "outputs": [],
      "source": [
        "calibrationResult = algo.getResult()"
      ]
    },
    {
      "cell_type": "markdown",
      "metadata": {},
      "source": [
        "## Analysis of the results\n\n"
      ]
    },
    {
      "cell_type": "code",
      "execution_count": null,
      "metadata": {
        "collapsed": false
      },
      "outputs": [],
      "source": [
        "thetaMAP = calibrationResult.getParameterMAP()\nthetaMAP"
      ]
    },
    {
      "cell_type": "markdown",
      "metadata": {},
      "source": [
        "Compute a 95% confidence interval for each marginal.\n\n"
      ]
    },
    {
      "cell_type": "code",
      "execution_count": null,
      "metadata": {
        "collapsed": false
      },
      "outputs": [],
      "source": [
        "thetaPosterior = calibrationResult.getParameterPosterior()\nalpha = 0.95\ndim = thetaPosterior.getDimension()\nfor i in range(dim):\n    print(thetaPosterior.getMarginal(i).computeBilateralConfidenceInterval(alpha))"
      ]
    },
    {
      "cell_type": "code",
      "execution_count": null,
      "metadata": {
        "collapsed": false
      },
      "outputs": [],
      "source": [
        "graph = calibrationResult.drawObservationsVsInputs()\nview = viewer.View(graph)"
      ]
    },
    {
      "cell_type": "code",
      "execution_count": null,
      "metadata": {
        "collapsed": false
      },
      "outputs": [],
      "source": [
        "graph = calibrationResult.drawObservationsVsPredictions()\nview = viewer.View(graph)"
      ]
    },
    {
      "cell_type": "code",
      "execution_count": null,
      "metadata": {
        "collapsed": false
      },
      "outputs": [],
      "source": [
        "graph = calibrationResult.drawResiduals()\nview = viewer.View(graph)"
      ]
    },
    {
      "cell_type": "code",
      "execution_count": null,
      "metadata": {
        "collapsed": false
      },
      "outputs": [],
      "source": [
        "graph = calibrationResult.drawParameterDistributions()\nview = viewer.View(graph)\n\nplt.show()"
      ]
    }
  ],
  "metadata": {
    "kernelspec": {
      "display_name": "Python 3",
      "language": "python",
      "name": "python3"
    },
    "language_info": {
      "codemirror_mode": {
        "name": "ipython",
        "version": 3
      },
      "file_extension": ".py",
      "mimetype": "text/x-python",
      "name": "python",
      "nbconvert_exporter": "python",
      "pygments_lexer": "ipython3",
      "version": "3.8.6"
    }
  },
  "nbformat": 4,
  "nbformat_minor": 0
}