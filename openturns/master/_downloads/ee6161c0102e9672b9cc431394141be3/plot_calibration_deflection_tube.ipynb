{
  "cells": [
    {
      "cell_type": "markdown",
      "metadata": {},
      "source": [
        "\n# Calibration of the deflection of a tube\n\nIn this example, we calibrate the deflection of a tube as described in the `use cases <use-case-deflection-tube>` section.\nMore precisely, we calibrate the mechanical parameters of a physical model which\ncomputes the vertical deflection of a tube and two deflection angles.\nThis example shows how to calibrate a computer code which has several outputs.\n\nIn this example, we use Gaussian calibration method to calibrate the parametric\nmodel.\nPlease read `gaussian_calibration` for more details on Bayesian Gaussian\ncalibration.\nThis study is relatively complicated: please read the :doc:`calibration of the Chaboche mechanical model\n</auto_calibration/least_squares_and_gaussian_calibration/plot_calibration_chaboche>` first if this is not already done.\n\n## Variables\n\nIn this this model, the following list presents which variables\nare observed input variables, input calibrated parameters\nand observed output variables.\n\n* F, E: Input. Observed.\n* L, a, D, d: Input. Calibrated.\n* $g_1$, $g_2$, $g_3$: Output. Observed.\n"
      ]
    },
    {
      "cell_type": "code",
      "execution_count": null,
      "metadata": {
        "collapsed": false
      },
      "outputs": [],
      "source": [
        "from openturns.usecases import deflection_tube\nimport openturns as ot\nimport openturns.viewer as otv\nfrom matplotlib import pylab as plt\n\not.Log.Show(ot.Log.NONE)"
      ]
    },
    {
      "cell_type": "markdown",
      "metadata": {},
      "source": [
        "## Create a calibration problem\nWe load the model from the use case module :\n\n"
      ]
    },
    {
      "cell_type": "code",
      "execution_count": null,
      "metadata": {
        "collapsed": false
      },
      "outputs": [],
      "source": [
        "dt = deflection_tube.DeflectionTube()\nprint(\"Inputs:\", dt.model.getInputDescription())\nprint(\"Outputs:\", dt.model.getOutputDescription())"
      ]
    },
    {
      "cell_type": "markdown",
      "metadata": {},
      "source": [
        "We see that there are 6 inputs: F, L, a, De, di, E and\n3 outputs: Deflection, Left angle, Right angle.\nIn this calibration example, the variables F and E are observed inputs\nand the input parameters L, a, De, di are calibrated.\n\n"
      ]
    },
    {
      "cell_type": "markdown",
      "metadata": {},
      "source": [
        "We create a sample out of our input distribution :\n\n"
      ]
    },
    {
      "cell_type": "code",
      "execution_count": null,
      "metadata": {
        "collapsed": false
      },
      "outputs": [],
      "source": [
        "sampleSize = 100\ninputSample = dt.inputDistribution.getSample(sampleSize)\ninputSample[0:5]"
      ]
    },
    {
      "cell_type": "markdown",
      "metadata": {},
      "source": [
        "We take the image of our input sample by the model :\n\n"
      ]
    },
    {
      "cell_type": "code",
      "execution_count": null,
      "metadata": {
        "collapsed": false
      },
      "outputs": [],
      "source": [
        "outputDeflection = dt.model(inputSample)\noutputDeflection[0:5]"
      ]
    },
    {
      "cell_type": "markdown",
      "metadata": {},
      "source": [
        "We now define the observed noise of the output.\nSince there are three observed outputs, there are\nthree different standard deviations to define.\nThen we define a 3x3 covariance matrix of the observed outputs.\n\n"
      ]
    },
    {
      "cell_type": "code",
      "execution_count": null,
      "metadata": {
        "collapsed": false
      },
      "outputs": [],
      "source": [
        "observationNoiseSigma = [0.1e-6, 0.5e-6, 0.5e-6]\nobservationNoiseCovariance = ot.CovarianceMatrix(3)\nfor i in range(3):\n    observationNoiseCovariance[i, i] = observationNoiseSigma[i] ** 2"
      ]
    },
    {
      "cell_type": "markdown",
      "metadata": {},
      "source": [
        "Finally, we define a dimension 3 normal distribution of the\nobserved output and get a sample from it.\nWe add this noise to the output of the model, which\ndefines the observed output.\n\n"
      ]
    },
    {
      "cell_type": "code",
      "execution_count": null,
      "metadata": {
        "collapsed": false
      },
      "outputs": [],
      "source": [
        "noiseSigma = ot.Normal([0.0, 0.0, 0.0], observationNoiseCovariance)\nsampleObservationNoise = noiseSigma.getSample(sampleSize)\nobservedOutput = outputDeflection + sampleObservationNoise\nobservedOutput[0:5]"
      ]
    },
    {
      "cell_type": "markdown",
      "metadata": {},
      "source": [
        "We now extract the observed inputs from the input sample.\n\n"
      ]
    },
    {
      "cell_type": "code",
      "execution_count": null,
      "metadata": {
        "collapsed": false
      },
      "outputs": [],
      "source": [
        "observedInput = ot.Sample(sampleSize, 2)\nobservedInput[:, 0] = inputSample[:, 0]  # F\nobservedInput[:, 1] = inputSample[:, 5]  # E\nobservedInput.setDescription([\"Force\", \"Young Modulus\"])\nobservedInput[0:5]"
      ]
    },
    {
      "cell_type": "markdown",
      "metadata": {},
      "source": [
        "We would like to see how the observed output depend on the\nobserved inputs.\nTo do this, we use the :meth:`~openturns.VisualTest.DrawPairs` method.\n\n"
      ]
    },
    {
      "cell_type": "code",
      "execution_count": null,
      "metadata": {
        "collapsed": false
      },
      "outputs": [],
      "source": [
        "fullSample = ot.Sample(sampleSize, 5)\nfullSample[:, 0:2] = observedInput\nfullSample[:, 2:5] = observedOutput\nfullSample.setDescription([\"Force\", \"Young\", \"Deflection\", \"Left Angle\", \"Right Angle\"])\nfullSample[0:5]"
      ]
    },
    {
      "cell_type": "code",
      "execution_count": null,
      "metadata": {
        "collapsed": false
      },
      "outputs": [],
      "source": [
        "graph = ot.VisualTest.DrawPairs(fullSample)\nview = otv.View(graph, figure_kw={\"figsize\": (10.0, 8.0)})\nplt.subplots_adjust(wspace=0.3, hspace=0.3)"
      ]
    },
    {
      "cell_type": "markdown",
      "metadata": {},
      "source": [
        "## Setting up the calibration\nPlease consider that the input parameters L, a, De, di are calibrated.\nWe define the initial point of the calibrated parameters:\nthese values will be used as the mean of the prior normal distribution\nof the parameters.\nWe set it with a slight difference with the true values, because,\nin general, we do not know the exact value (otherwise we would\nnot use a calibration method).\n\n"
      ]
    },
    {
      "cell_type": "code",
      "execution_count": null,
      "metadata": {
        "collapsed": false
      },
      "outputs": [],
      "source": [
        "XL = 1.4  # Exact : 1.5\nXa = 1.2  # Exact : 1.0\nXD = 0.7  # Exact : 0.8\nXd = 0.2  # Exact : 0.1\nthetaPrior = [XL, Xa, XD, Xd]"
      ]
    },
    {
      "cell_type": "markdown",
      "metadata": {},
      "source": [
        "We now define the standard deviation of the prior distribution\nof the parameters.\nWe compute the standard deviation as 10% of the value of the parameter.\nThis ensures that the prior normal distribution has a spread\nwhich scales correctly with the mean of the Gaussian distribution.\nIn other words, this setting corresponds to a 10% coefficient of\nvariation.\n\n"
      ]
    },
    {
      "cell_type": "code",
      "execution_count": null,
      "metadata": {
        "collapsed": false
      },
      "outputs": [],
      "source": [
        "sigmaXL = 0.1 * XL\nsigmaXa = 0.1 * Xa\nsigmaXD = 0.1 * XD\nsigmaXd = 0.1 * Xd\nparameterCovariance = ot.CovarianceMatrix(4)\nparameterCovariance[0, 0] = sigmaXL**2\nparameterCovariance[1, 1] = sigmaXa**2\nparameterCovariance[2, 2] = sigmaXD**2\nparameterCovariance[3, 3] = sigmaXd**2\nprint(parameterCovariance)"
      ]
    },
    {
      "cell_type": "markdown",
      "metadata": {},
      "source": [
        "In the physical model, the inputs and parameters are ordered as\npresented in the next table.\nNotice that there are no parameters in the physical model.\n\n+-------+----------------+\n| Index | Input variable |\n+=======+================+\n| 0     | F              |\n+-------+----------------+\n| 1     | L              |\n+-------+----------------+\n| 2     | a              |\n+-------+----------------+\n| 3     | De             |\n+-------+----------------+\n| 4     | di             |\n+-------+----------------+\n| 5     | E              |\n+-------+----------------+\n\n+-------+-----------+\n| Index | Parameter |\n+=======+===========+\n| \u2205     | \u2205         |\n+-------+-----------+\n\n**Table 1.** Indices and names of the inputs and parameters of the physical model.\n\n\n"
      ]
    },
    {
      "cell_type": "code",
      "execution_count": null,
      "metadata": {
        "collapsed": false
      },
      "outputs": [],
      "source": [
        "print(\"Physical Model Inputs:\", dt.model.getInputDescription())\nprint(\"Physical Model Parameters:\", dt.model.getParameterDescription())"
      ]
    },
    {
      "cell_type": "markdown",
      "metadata": {},
      "source": [
        "In order to perform calibration, we have to define a parametric model,\nwith observed inputs and parameters to calibrate.\nIn order to do this, we create a :class:`~openturns.ParametricFunction` where the parameters\nare `L`, `a`, `de`, `di`, which have the indices 1, 2, 3 and 4\nin the physical model.\n\n+-------+----------------+\n| Index | Input variable |\n+=======+================+\n| 0     | F              |\n+-------+----------------+\n| 1     | E              |\n+-------+----------------+\n\n+-------+-----------+\n| Index | Parameter |\n+=======+===========+\n| 0     | L         |\n+-------+-----------+\n| 1     | a         |\n+-------+-----------+\n| 2     | De        |\n+-------+-----------+\n| 3     | di        |\n+-------+-----------+\n\n**Table 2.** Indices and names of the inputs and parameters of the parametric model.\n\n\n"
      ]
    },
    {
      "cell_type": "code",
      "execution_count": null,
      "metadata": {
        "collapsed": false
      },
      "outputs": [],
      "source": [
        "calibratedIndices = [1, 2, 3, 4]  # [L, a, De, di]\ncalibrationFunction = ot.ParametricFunction(dt.model, calibratedIndices, thetaPrior)\nprint(\"Parametric Model Inputs:\", calibrationFunction.getInputDescription())\nprint(\"Parametric Model Parameters:\", calibrationFunction.getParameterDescription())"
      ]
    },
    {
      "cell_type": "markdown",
      "metadata": {},
      "source": [
        "In the next cells, we are going to perform a Bayesian calibration,\nbased on Gaussian assumptions.\nIn the Bayesian framework, we define the standard deviation of the prior\nGaussian distribution of the observation errors.\nAlthough the exact value of the standard deviation of the\nobservation errors is equal to 0.1e-6, we set slightly\ndifferent values because the value of the true standard deviation of\nthe observation error is not known in general.\nWe will be able to check if these hypotheses are correct\nafter calibration, using the :meth:`~openturns.CalibrationResult.drawResiduals()` method.\n\n"
      ]
    },
    {
      "cell_type": "code",
      "execution_count": null,
      "metadata": {
        "collapsed": false
      },
      "outputs": [],
      "source": [
        "sigmaObservation = [0.2e-6, 0.3e-6, 0.3e-6]  # Exact : [0.1e-6, 0.5e-6, 0.5e-6]\n# Set the diagonal of the covariance matrix.\nerrorCovariance = ot.CovarianceMatrix(3)\nerrorCovariance[0, 0] = sigmaObservation[0] ** 2\nerrorCovariance[1, 1] = sigmaObservation[1] ** 2\nerrorCovariance[2, 2] = sigmaObservation[2] ** 2"
      ]
    },
    {
      "cell_type": "code",
      "execution_count": null,
      "metadata": {
        "collapsed": false
      },
      "outputs": [],
      "source": [
        "calibrationFunction.setParameter(thetaPrior)\npredictedOutput = calibrationFunction(observedInput)\npredictedOutput[0:5]"
      ]
    },
    {
      "cell_type": "markdown",
      "metadata": {},
      "source": [
        "## Calibration with Gaussian non linear calibration\nWe are finally able to use the :class:`~openturns.GaussianNonLinearCalibration`.\n\n"
      ]
    },
    {
      "cell_type": "code",
      "execution_count": null,
      "metadata": {
        "collapsed": false
      },
      "outputs": [],
      "source": [
        "algo = ot.GaussianNonLinearCalibration(\n    calibrationFunction,\n    observedInput,\n    observedOutput,\n    thetaPrior,\n    parameterCovariance,\n    errorCovariance,\n)"
      ]
    },
    {
      "cell_type": "markdown",
      "metadata": {},
      "source": [
        "The :meth:`~openturns.GaussianNonLinearCalibration.run` method launches the optimization algorithm.\n\n"
      ]
    },
    {
      "cell_type": "code",
      "execution_count": null,
      "metadata": {
        "collapsed": false
      },
      "outputs": [],
      "source": [
        "algo.run()\ncalibrationResult = algo.getResult()"
      ]
    },
    {
      "cell_type": "markdown",
      "metadata": {},
      "source": [
        "## Analysis of the results\nThe :meth:`~openturns.CalibrationResult.getParameterMAP` method returns the optimized parameters.\n\n"
      ]
    },
    {
      "cell_type": "code",
      "execution_count": null,
      "metadata": {
        "collapsed": false
      },
      "outputs": [],
      "source": [
        "thetaMAP = calibrationResult.getParameterMAP()\nprint(\"theta After = \", thetaMAP)\nprint(\"theta Before = \", thetaPrior)"
      ]
    },
    {
      "cell_type": "markdown",
      "metadata": {},
      "source": [
        "Compute a 95% credibility interval for each marginal.\n\n"
      ]
    },
    {
      "cell_type": "code",
      "execution_count": null,
      "metadata": {
        "collapsed": false
      },
      "outputs": [],
      "source": [
        "thetaPosterior = calibrationResult.getParameterPosterior()\nalpha = 0.95\ndim = thetaPosterior.getDimension()\nfor i in range(dim):\n    print(thetaPosterior.getMarginal(i).computeBilateralConfidenceInterval(alpha))"
      ]
    },
    {
      "cell_type": "markdown",
      "metadata": {},
      "source": [
        "We see that the parameters are accurately estimated in this case.\n\n"
      ]
    },
    {
      "cell_type": "markdown",
      "metadata": {},
      "source": [
        "Increase the default number of points in the plots.\nThis produces smoother spiky distributions.\n\n"
      ]
    },
    {
      "cell_type": "code",
      "execution_count": null,
      "metadata": {
        "collapsed": false
      },
      "outputs": [],
      "source": [
        "ot.ResourceMap.SetAsUnsignedInteger(\"Distribution-DefaultPointNumber\", 300)"
      ]
    },
    {
      "cell_type": "markdown",
      "metadata": {},
      "source": [
        "In order to see how the predicted outputs first to the observed\noutputs, we plot the outputs depending on the inputs.\n\n"
      ]
    },
    {
      "cell_type": "code",
      "execution_count": null,
      "metadata": {
        "collapsed": false
      },
      "outputs": [],
      "source": [
        "# sphinx_gallery_thumbnail_number = 2\ngraph = calibrationResult.drawObservationsVsInputs()\nview = otv.View(\n    graph,\n    figure_kw={\"figsize\": (8.0, 6.0)},\n    legend_kw={\"bbox_to_anchor\": (1.0, 1.0), \"loc\": \"upper left\"},\n)\nplt.subplots_adjust(wspace=0.3, hspace=0.7, right=0.8)"
      ]
    },
    {
      "cell_type": "markdown",
      "metadata": {},
      "source": [
        "For all outputs, the predicted outputs of the model correspond to the\nobserved outputs.\n\n\n"
      ]
    },
    {
      "cell_type": "markdown",
      "metadata": {},
      "source": [
        "The next cell plots the predicted outputs depending on\nthe observed outputs.\n\n"
      ]
    },
    {
      "cell_type": "code",
      "execution_count": null,
      "metadata": {
        "collapsed": false
      },
      "outputs": [],
      "source": [
        "graph = calibrationResult.drawObservationsVsPredictions()\nview = otv.View(\n    graph,\n    figure_kw={\"figsize\": (12.0, 4.0)},\n    legend_kw={\"bbox_to_anchor\": (1.0, 1.0), \"loc\": \"upper left\"},\n)\nplt.subplots_adjust(wspace=0.3, left=0.05, right=0.85)"
      ]
    },
    {
      "cell_type": "markdown",
      "metadata": {},
      "source": [
        "We see that, after calibration, the points are on the first\ndiagonal of the plot: this shows that the calibration\nperforms correctly.\n\n"
      ]
    },
    {
      "cell_type": "markdown",
      "metadata": {},
      "source": [
        "In the next cell, we analyse the residuals before and after\ncalibration.\nIn order to clearly see these results, the next table\npresents the true standard deviation of the\noutput error of observation compared to the hypothesis used\nin Gaussian calibration.\nIn a practical study, the true sigma is unknown.\n\n+-----------------+-----------------+-------------------+\n| Output          | Sigma True      | Sigma hypothesis  |\n+=================+=================+===================+\n| Deflection      | 0.1e-6          | 0.2e-6            |\n+-----------------+-----------------+-------------------+\n| Left angle      | 0.5e-6          | 0.3e-6            |\n+-----------------+-----------------+-------------------+\n| Right angle     | 0.5e-6          | 0.3e-6            |\n+-----------------+-----------------+-------------------+\n\n**Table 3.** For each output, the true standard deviation of the\noutput error of observation compared to the hypothesis used\nin Gaussian calibration.\n\nOne of the hypotheses of the Gaussian calibration is\nthat the observation errors are Gaussian.\nIn order to check this hypothesis, we plot the distribution\nof the residuals before and after calibration.\nFurthermore, we plot the distribution of the observation\nerrors, which is an hypothesis of the Gaussian calibration.\nSince there are three output, there are three residuals to check.\n\n"
      ]
    },
    {
      "cell_type": "code",
      "execution_count": null,
      "metadata": {
        "collapsed": false
      },
      "outputs": [],
      "source": [
        "graph = calibrationResult.drawResiduals()\nview = otv.View(\n    graph,\n    figure_kw={\"figsize\": (13.0, 4.0)},\n    legend_kw={\"bbox_to_anchor\": (1.0, 1.0), \"loc\": \"upper left\"},\n)\nplt.subplots_adjust(wspace=0.3, left=0.05, right=0.7)"
      ]
    },
    {
      "cell_type": "markdown",
      "metadata": {},
      "source": [
        "We see that the distribution of the residuals after calibration\nis centered on zero: this is a good point, since this shows that\nwe have roughly equal chances to over or under predict the output\nwhen we use the calibrated model.\nWe see that the distribution of each the residuals after calibration\nis relatively close to the Gaussian assumption that we used.\nFor the first output, i.e. the deflection, the calibrated distribution\nof the residuals has a distribution which has spread lower\nthan the hypothesis.\nThis corresponds to the parameters that we used, since the true\nstandard deviation of the errors is equal to 0.1e-6 while\nwe used the 0.2e-6 hypothesis.\nThe opposite happens for the left and right angle residuals:\nthe calibrated residuals are narrower than the normal hypothesis\nthat we used.\nThis is because we used 0.3e-6 as the hypothesis while the\ntrue value is 0.05e-5.\n\n"
      ]
    },
    {
      "cell_type": "markdown",
      "metadata": {},
      "source": [
        "Check that the results are Gaussian, using a Normal-plot.\n\n"
      ]
    },
    {
      "cell_type": "code",
      "execution_count": null,
      "metadata": {
        "collapsed": false
      },
      "outputs": [],
      "source": [
        "graph = calibrationResult.drawResidualsNormalPlot()\nview = otv.View(\n    graph,\n    figure_kw={\"figsize\": (10.0, 4.0)},\n    legend_kw={\"bbox_to_anchor\": (1.0, 1.0), \"loc\": \"upper left\"},\n)\nplt.subplots_adjust(wspace=0.3, left=0.05, right=0.8)"
      ]
    },
    {
      "cell_type": "markdown",
      "metadata": {},
      "source": [
        "Finally, we observe the prior and posterior distribution of each\nparameter.\n\n"
      ]
    },
    {
      "cell_type": "code",
      "execution_count": null,
      "metadata": {
        "collapsed": false
      },
      "outputs": [],
      "source": [
        "graph = calibrationResult.drawParameterDistributions()\nview = otv.View(\n    graph,\n    figure_kw={\"figsize\": (10.0, 4.0)},\n    legend_kw={\"bbox_to_anchor\": (1.0, 1.0), \"loc\": \"upper left\"},\n)\nplt.subplots_adjust(wspace=0.3, left=0.05, right=0.8)\n\notv.View.ShowAll()"
      ]
    },
    {
      "cell_type": "markdown",
      "metadata": {},
      "source": [
        "Reset default settings\n\n"
      ]
    },
    {
      "cell_type": "code",
      "execution_count": null,
      "metadata": {
        "collapsed": false
      },
      "outputs": [],
      "source": [
        "ot.ResourceMap.Reload()"
      ]
    }
  ],
  "metadata": {
    "kernelspec": {
      "display_name": "Python 3",
      "language": "python",
      "name": "python3"
    },
    "language_info": {
      "codemirror_mode": {
        "name": "ipython",
        "version": 3
      },
      "file_extension": ".py",
      "mimetype": "text/x-python",
      "name": "python",
      "nbconvert_exporter": "python",
      "pygments_lexer": "ipython3",
      "version": "3.13.1"
    }
  },
  "nbformat": 4,
  "nbformat_minor": 0
}