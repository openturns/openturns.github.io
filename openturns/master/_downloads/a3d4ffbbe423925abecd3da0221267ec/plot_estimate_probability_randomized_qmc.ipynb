{
  "cells": [
    {
      "cell_type": "code",
      "execution_count": null,
      "metadata": {
        "collapsed": false
      },
      "outputs": [],
      "source": [
        "%matplotlib inline"
      ]
    },
    {
      "cell_type": "markdown",
      "metadata": {},
      "source": [
        "\n# Estimate a probability using randomized QMC\n"
      ]
    },
    {
      "cell_type": "markdown",
      "metadata": {},
      "source": [
        "In this example we are going to estimate a failure probability.\n\n"
      ]
    },
    {
      "cell_type": "markdown",
      "metadata": {},
      "source": [
        "## Introduction\n\nLet us consider the following analytical example of a cantilever beam with Young's modulus E, length L and section modulus I.\n\nOne end of the cantilever beam is built in a wall and we apply a concentrated bending load F at the other end of the beam, resulting in a deviation:\n\n\\begin{align}d = \\frac{FL^3}{3EI}\\end{align}\n\n\nFailure occurs when the beam deviation is too large:\n\n\\begin{align}d \\ge 30 (cm)\\end{align}\n\nFour independent random variables are considered:\n\n - E: Young's modulus [Pa]\n - F: load [N]\n - L: length [m]\n - I: section [m^4]\n\nStochastic model (simplified model, no units):\n\n - E ~ Beta(0.93, 2.27, 2.8e7, 4.8e7)\n - F ~ LogNormal(30000, 9000, 15000)\n - L ~ Uniform(250, 260)\n - I ~ Beta(2.5, 1.5, 3.1e2, 4.5e2)\n\n\n"
      ]
    },
    {
      "cell_type": "code",
      "execution_count": null,
      "metadata": {
        "collapsed": false
      },
      "outputs": [],
      "source": [
        "from __future__ import print_function\nimport openturns as ot\nimport openturns.viewer as viewer\nfrom matplotlib import pylab as plt\not.Log.Show(ot.Log.NONE)"
      ]
    },
    {
      "cell_type": "markdown",
      "metadata": {},
      "source": [
        "Create the marginal distributions of the parameters.\n\n"
      ]
    },
    {
      "cell_type": "code",
      "execution_count": null,
      "metadata": {
        "collapsed": false
      },
      "outputs": [],
      "source": [
        "dist_E = ot.Beta(0.93, 2.27, 2.8e7, 4.8e7)\ndist_F = ot.LogNormalMuSigma(30000, 9000, 15000).getDistribution()\ndist_L = ot.Uniform(250, 260)\ndist_I = ot.Beta(2.5, 1.5, 3.1e2, 4.5e2)\nmarginals = [dist_E, dist_F, dist_L, dist_I]"
      ]
    },
    {
      "cell_type": "markdown",
      "metadata": {},
      "source": [
        "Create the Copula.\n\n"
      ]
    },
    {
      "cell_type": "code",
      "execution_count": null,
      "metadata": {
        "collapsed": false
      },
      "outputs": [],
      "source": [
        "RS = ot.CorrelationMatrix(4)\nRS[2, 3] = -0.2\n# Evaluate the correlation matrix of the Normal copula from RS\nR = ot.NormalCopula.GetCorrelationFromSpearmanCorrelation(RS)\n# Create the Normal copula parametrized by R\ncopula = ot.NormalCopula(R)"
      ]
    },
    {
      "cell_type": "markdown",
      "metadata": {},
      "source": [
        "Create the joint probability distribution.\n\n"
      ]
    },
    {
      "cell_type": "code",
      "execution_count": null,
      "metadata": {
        "collapsed": false
      },
      "outputs": [],
      "source": [
        "distribution = ot.ComposedDistribution(marginals, copula)"
      ]
    },
    {
      "cell_type": "markdown",
      "metadata": {},
      "source": [
        "Create the model.\n\n"
      ]
    },
    {
      "cell_type": "code",
      "execution_count": null,
      "metadata": {
        "collapsed": false
      },
      "outputs": [],
      "source": [
        "model = ot.SymbolicFunction(['E', 'F', 'L', 'I'], ['F*L^3/(3*E*I)'])"
      ]
    },
    {
      "cell_type": "markdown",
      "metadata": {},
      "source": [
        "Create the event whose probability we want to estimate.\n\n"
      ]
    },
    {
      "cell_type": "code",
      "execution_count": null,
      "metadata": {
        "collapsed": false
      },
      "outputs": [],
      "source": [
        "vect = ot.RandomVector(distribution)\nG = ot.CompositeRandomVector(model, vect)\nevent = ot.ThresholdEvent(G, ot.Greater(), 30.0)"
      ]
    },
    {
      "cell_type": "markdown",
      "metadata": {},
      "source": [
        "Define the low discrepancy sequence.\n\n"
      ]
    },
    {
      "cell_type": "code",
      "execution_count": null,
      "metadata": {
        "collapsed": false
      },
      "outputs": [],
      "source": [
        "sequence = ot.SobolSequence()"
      ]
    },
    {
      "cell_type": "markdown",
      "metadata": {},
      "source": [
        "Create a simulation algorithm.\n\n"
      ]
    },
    {
      "cell_type": "code",
      "execution_count": null,
      "metadata": {
        "collapsed": false
      },
      "outputs": [],
      "source": [
        "experiment = ot.LowDiscrepancyExperiment(sequence, 1)\nexperiment.setRandomize(True)\nalgo = ot.ProbabilitySimulationAlgorithm(event, experiment)\nalgo.setMaximumCoefficientOfVariation(0.05)\nalgo.setMaximumOuterSampling(int(1e5))\nalgo.run()"
      ]
    },
    {
      "cell_type": "markdown",
      "metadata": {},
      "source": [
        "Retrieve results.\n\n"
      ]
    },
    {
      "cell_type": "code",
      "execution_count": null,
      "metadata": {
        "collapsed": false
      },
      "outputs": [],
      "source": [
        "result = algo.getResult()\nprobability = result.getProbabilityEstimate()\nprint('Pf=', probability)"
      ]
    }
  ],
  "metadata": {
    "kernelspec": {
      "display_name": "Python 3",
      "language": "python",
      "name": "python3"
    },
    "language_info": {
      "codemirror_mode": {
        "name": "ipython",
        "version": 3
      },
      "file_extension": ".py",
      "mimetype": "text/x-python",
      "name": "python",
      "nbconvert_exporter": "python",
      "pygments_lexer": "ipython3",
      "version": "3.8.6"
    }
  },
  "nbformat": 4,
  "nbformat_minor": 0
}