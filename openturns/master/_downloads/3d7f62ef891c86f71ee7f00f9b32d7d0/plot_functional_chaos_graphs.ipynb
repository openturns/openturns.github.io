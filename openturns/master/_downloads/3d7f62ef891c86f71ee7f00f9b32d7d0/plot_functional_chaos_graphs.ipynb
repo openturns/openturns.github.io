{
  "cells": [
    {
      "cell_type": "markdown",
      "metadata": {},
      "source": [
        "\n# Polynomial chaos graphs\n"
      ]
    },
    {
      "cell_type": "markdown",
      "metadata": {},
      "source": [
        "In this example we are going to create some graphs useful after the launch of a polynomial chaos algorithm.\nMore precisely, we draw some members of the 1D polynomial family.\n\n"
      ]
    },
    {
      "cell_type": "code",
      "execution_count": null,
      "metadata": {
        "collapsed": false
      },
      "outputs": [],
      "source": [
        "import openturns as ot\nimport openturns.viewer as viewer\nfrom matplotlib import pylab as plt\n\not.Log.Show(ot.Log.NONE)"
      ]
    },
    {
      "cell_type": "code",
      "execution_count": null,
      "metadata": {
        "collapsed": false
      },
      "outputs": [],
      "source": [
        "def drawFamily(factory, degreeMax=5):\n    # Load all the valid colors\n    colorList = ot.Drawable.BuildDefaultPalette(degreeMax)\n\n    # Create a fine title\n    titleJacobi = factory.__class__.__name__.replace(\"Factory\", \"\") + \" polynomials\"\n\n    # Create an empty graph which will be fulfilled\n    # with curves\n    graphJacobi = ot.Graph(titleJacobi, \"z\", \"polynomial values\", True, \"upper right\")\n\n    # Fix the number of points for the graph\n    pointNumber = 101\n\n    # Bounds of the graph\n    xMinJacobi = -1.0\n    xMaxJacobi = 1.0\n\n    # Get the curves\n    for i in range(degreeMax):\n        graphJacobi_temp = factory.build(i).draw(xMinJacobi, xMaxJacobi, pointNumber)\n        graphJacobi_temp_draw = graphJacobi_temp.getDrawable(0)\n        graphJacobi_temp_draw.setLegend(\"degree \" + str(i))\n        graphJacobi_temp_draw.setColor(colorList[i])\n        graphJacobi.add(graphJacobi_temp_draw)\n    return graphJacobi"
      ]
    },
    {
      "cell_type": "markdown",
      "metadata": {},
      "source": [
        "Draw the 5-th first members of the Jacobi family.\n\n"
      ]
    },
    {
      "cell_type": "markdown",
      "metadata": {},
      "source": [
        "Create the Jacobi polynomials family using the default Jacobi.ANALYSIS\nparameter set\n\n"
      ]
    },
    {
      "cell_type": "code",
      "execution_count": null,
      "metadata": {
        "collapsed": false
      },
      "outputs": [],
      "source": [
        "alpha = 0.5\nbeta = 1.5\njacobiFamily = ot.JacobiFactory(alpha, beta)\ngraph = drawFamily(jacobiFamily)\nview = viewer.View(graph)"
      ]
    },
    {
      "cell_type": "code",
      "execution_count": null,
      "metadata": {
        "collapsed": false
      },
      "outputs": [],
      "source": [
        "laguerreFamily = ot.LaguerreFactory(2.75, 1)\ngraph = drawFamily(laguerreFamily)\nview = viewer.View(graph)"
      ]
    },
    {
      "cell_type": "code",
      "execution_count": null,
      "metadata": {
        "collapsed": false
      },
      "outputs": [],
      "source": [
        "graph = drawFamily(ot.HermiteFactory())\nview = viewer.View(graph)\nplt.show()"
      ]
    }
  ],
  "metadata": {
    "kernelspec": {
      "display_name": "Python 3",
      "language": "python",
      "name": "python3"
    },
    "language_info": {
      "codemirror_mode": {
        "name": "ipython",
        "version": 3
      },
      "file_extension": ".py",
      "mimetype": "text/x-python",
      "name": "python",
      "nbconvert_exporter": "python",
      "pygments_lexer": "ipython3",
      "version": "3.11.6"
    }
  },
  "nbformat": 4,
  "nbformat_minor": 0
}