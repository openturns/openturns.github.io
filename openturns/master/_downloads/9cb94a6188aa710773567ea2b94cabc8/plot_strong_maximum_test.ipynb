{
  "cells": [
    {
      "cell_type": "markdown",
      "metadata": {},
      "source": [
        "\n# Test the design point with the Strong Maximum Test\n"
      ]
    },
    {
      "cell_type": "markdown",
      "metadata": {},
      "source": [
        "In this example we are going to validate a FORM estimation using the Strong Maximum Test.\n\nThe Strong Maximum Test helps to evaluate the quality of the design point\nresulting from the optimization algorithm. It checks whether the design point computed is:\n\n- the **true** design point, which means a global maximum point,\n- a **strong** design point, which means that there is no other local maximum\n  located on the event boundary and which likelihood is slightly inferior to the design point one.\n\nThis verification is very important in order to give sense to the FORM and SORM approximations.\n\nWe briefly recall here the main principles of the test.\nThe objective is to detect all the points $\\tilde{P}^*$ in the ball of radius\n$R_{\\varepsilon} = \\beta(1+\\delta_{\\varepsilon})$ which are potentially the\nreal design point (case of $\\tilde{P}_2^*$) or which contribution to $P_f$ is\nnot negligeable as regards the approximations Form and Sorm (case of $\\tilde{P}_1^*$).\nThe contribution of a point is considered as negligeable when its likelihood in\nthe $U$-space is more than $\\varepsilon$-times lesser than the design point one.\nThe radius $R_{\\varepsilon}$ is the distance to the $U$-space center upon which\npoints are considered as negligeable in the evaluation of $P_f$.\n\n\n"
      ]
    },
    {
      "cell_type": "code",
      "execution_count": null,
      "metadata": {
        "collapsed": false
      },
      "outputs": [],
      "source": [
        "import openturns as ot\n\not.Log.Show(ot.Log.NONE)"
      ]
    },
    {
      "cell_type": "markdown",
      "metadata": {},
      "source": [
        "Create the model Y = x1 + 2*x2\n\n"
      ]
    },
    {
      "cell_type": "code",
      "execution_count": null,
      "metadata": {
        "collapsed": false
      },
      "outputs": [],
      "source": [
        "model = ot.SymbolicFunction([\"x1\", \"x2\"], [\"x1+2*x2\"])\n\n# Create the input distribution and random vector X\ninputDist = ot.Normal(2)\ninputDist.setDescription([\"X1\", \"X2\"])\n\ninputVector = ot.RandomVector(inputDist)\n\n# Create the output random vector Y=model(X)\noutput = ot.CompositeRandomVector(model, inputVector)\noutput.setName(\"MyOutputY\")"
      ]
    },
    {
      "cell_type": "markdown",
      "metadata": {},
      "source": [
        "Create the physical event Y > 4\n\n"
      ]
    },
    {
      "cell_type": "code",
      "execution_count": null,
      "metadata": {
        "collapsed": false
      },
      "outputs": [],
      "source": [
        "threshold = 4\nmyEvent = ot.ThresholdEvent(output, ot.Greater(), threshold)\n\n# Create the associated standard event in the standard space\nmyStandardEvent = ot.StandardEvent(myEvent)"
      ]
    },
    {
      "cell_type": "markdown",
      "metadata": {},
      "source": [
        "First : FORM analyses to get the design point\n\n"
      ]
    },
    {
      "cell_type": "code",
      "execution_count": null,
      "metadata": {
        "collapsed": false
      },
      "outputs": [],
      "source": [
        "myCobyla = ot.Cobyla()\nmyStartingPoint = inputDist.getMean()\nmyAlgoFORM = ot.FORM(myCobyla, myEvent, myStartingPoint)\nmyAlgoFORM.run()\nFORMResult = myAlgoFORM.getResult()\nstandardSpaceDesignPoint = FORMResult.getStandardSpaceDesignPoint()"
      ]
    },
    {
      "cell_type": "markdown",
      "metadata": {},
      "source": [
        "Fix the importance level epsilon of the test\nCare : 0<epsilon<1\n\n"
      ]
    },
    {
      "cell_type": "code",
      "execution_count": null,
      "metadata": {
        "collapsed": false
      },
      "outputs": [],
      "source": [
        "importanceLevel = 0.15\n\n# Fix the accuracy level tau of the test\n# Care : tau >0\n# It is recommended that tau <4\naccuracyLevel = 3.0\n\n# Fix the confidence level (1-q) of the test\nconfidenceLevel = 0.99\n\n# Create the Strong Maximum Test\n# CARE : the event must be declared in the standard space\n# 1. From the confidenceLevel parameter\nmySMT_CL = ot.StrongMaximumTest(\n    myStandardEvent,\n    standardSpaceDesignPoint,\n    importanceLevel,\n    accuracyLevel,\n    confidenceLevel,\n)\n\n# 2. Or from the  maximum number of points sampling the sphere\npointsNumber = 1000\nmySMT_PN = ot.StrongMaximumTest(\n    myStandardEvent,\n    standardSpaceDesignPoint,\n    importanceLevel,\n    accuracyLevel,\n    pointsNumber,\n)\n\n# Perform the test\nmySMT_CL.run()\nmySMT_PN.run()\n\n# Get (or evaluate) the confidence level\n# associated to the number of points used to sample the sphere\nprint(\"Confidence level = \", mySMT_CL.getConfidenceLevel())\n\n# Get (or evaluate) the number of points used to sample the sphere\n# associated the confidence level used\nprint(\"Points Number = \", mySMT_CL.getPointNumber())"
      ]
    },
    {
      "cell_type": "code",
      "execution_count": null,
      "metadata": {
        "collapsed": false
      },
      "outputs": [],
      "source": [
        "# Get all the points verifying the event  and outside the design point vicinity\n# Get also the values of limit state function at these points\npotentialDesignPoints = mySMT_CL.getFarDesignPointVerifyingEventPoints()\nvalues = mySMT_CL.getFarDesignPointVerifyingEventValues()\nprint(\"Potential design points = \", potentialDesignPoints)\nprint(\"Model values = \", values)\n\n# Get all the points verifying the event and inside the design point vicinity\n# Get also the values of limit state function at these points\nvicinityDesignPoint = mySMT_CL.getNearDesignPointVerifyingEventPoints()\nvalues = mySMT_CL.getNearDesignPointVerifyingEventValues()\nprint(\n    \"Points verifying the Event in the vicinity of the design points = \",\n    vicinityDesignPoint,\n)\nprint(\"Model values = \", values)\n\n# Get all the points not verifying the event and outside the design point vicinity\n# Get also the values of limit state function at these points\nfarSecurityPoints = mySMT_CL.getFarDesignPointViolatingEventPoints()\nvalues = mySMT_CL.getFarDesignPointViolatingEventValues()\nprint(\n    \"Points NOT verifying the Event outside the vicinity of the design points = \",\n    farSecurityPoints,\n)\nprint(\"Model values = \", values)\n\n# Get  all the points not verifying the event and inside the design point vicinity\n# Get also the values of limit state function at these points\nvicinitySecurityPoints = mySMT_CL.getNearDesignPointViolatingEventPoints()\nvalues = mySMT_CL.getNearDesignPointViolatingEventValues()\nprint(\n    \"Points NOT verifying the Event outside the vicinity of the design points = \",\n    vicinitySecurityPoints,\n)\nprint(\"Model values = \", values)"
      ]
    }
  ],
  "metadata": {
    "kernelspec": {
      "display_name": "Python 3",
      "language": "python",
      "name": "python3"
    },
    "language_info": {
      "codemirror_mode": {
        "name": "ipython",
        "version": 3
      },
      "file_extension": ".py",
      "mimetype": "text/x-python",
      "name": "python",
      "nbconvert_exporter": "python",
      "pygments_lexer": "ipython3",
      "version": "3.11.8"
    }
  },
  "nbformat": 4,
  "nbformat_minor": 0
}