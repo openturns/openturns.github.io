{
  "cells": [
    {
      "cell_type": "markdown",
      "metadata": {},
      "source": [
        "\n# Plot Smolyak multi-indices\n"
      ]
    },
    {
      "cell_type": "markdown",
      "metadata": {},
      "source": [
        "The goal of this example is to plot the multi-indices used in Smolyak's\nquadrature.\n\nFor a given dimension $d_x \\in \\mathbb{N}$ and a given level\n$\\ell \\in \\mathbb{N}$\nSmolyak's quadrature is the combination of tensorized univariate quadratures.\nThese quadrature are defined by the set of multi-indices:\n\n\\begin{align}\\mathcal{S}_{\\ell, d_x} = \\left\\{\\|\\boldsymbol{k}\\|_1 \\leq \\ell\n                                     + d_x - 1\\right\\}\\end{align}\n\nwhere $\\|\\boldsymbol{k}\\|_1 = k_1 + ... + k_{d_x}$ is the 1-norm of the\nmulti-index $\\boldsymbol{k} \\in \\mathbb{N}^{d_x}$.\n\nThe goal of this script is to plot the multi-indices involved in Smolyak's\nquadrature for different values of the level $\\ell$ in\ndimension $d_x = 2$.\n\n"
      ]
    },
    {
      "cell_type": "code",
      "execution_count": null,
      "metadata": {
        "collapsed": false
      },
      "outputs": [],
      "source": [
        "import openturns as ot\nimport openturns.viewer as otv\nfrom matplotlib import pylab as plt"
      ]
    },
    {
      "cell_type": "markdown",
      "metadata": {},
      "source": [
        "In the first example, we print the indices involved in\nSmolyak-Legendre quadrature of level 3.\nThe multi-indices are computed using the\n:py:meth:`openturns.SmolyakExperiment.computeCombination` method.\nActually, the multi-indices do not actually depend on the\nunderlying univariate quadratures, but this is required for\nthe :class:`openturns.SmolyakExperiment` class.\n\n"
      ]
    },
    {
      "cell_type": "code",
      "execution_count": null,
      "metadata": {
        "collapsed": false
      },
      "outputs": [],
      "source": [
        "collection = [ot.GaussProductExperiment()] * 2\nlevel = 3\nprint(\"level = \", level)\nexperiment = ot.SmolyakExperiment(collection, level)\nindices = experiment.computeCombination()\nprint(indices)"
      ]
    },
    {
      "cell_type": "markdown",
      "metadata": {},
      "source": [
        "We see that the multi-indices have a sum which is equal to either 3 or 4.\nIn other words, these multi-indices belong to two different layers of\nconstant 1-norms.\n\nIn order to see how this evolves depending on the level of the quadrature,\nthe following function creates a 2D plot of the set of multi-indices.\n\n"
      ]
    },
    {
      "cell_type": "code",
      "execution_count": null,
      "metadata": {
        "collapsed": false
      },
      "outputs": [],
      "source": [
        "def drawSmolyakIndices(level):\n    # Plot Smolyak indices of given level in 2 dimensions\n    collection = [ot.GaussProductExperiment()] * 2\n    experiment = ot.SmolyakExperiment(collection, level)\n    indices = experiment.computeCombination()\n    sample = indices\n    graph = ot.Graph(\"L = %d\" % (level), \"k1\", \"k2\", True)\n    cloud = ot.Cloud(sample)\n    cloud.setPointStyle(\"bullet\")\n    graph.add(cloud)\n    return graph"
      ]
    },
    {
      "cell_type": "markdown",
      "metadata": {},
      "source": [
        "In the following script, we create a grid of plots, where\neach graph corresponds to a given quadrature level.\nThe bounding box of each graph is set to a constant value, so that all graphs\nhave the same X and Y bounds.\n\n"
      ]
    },
    {
      "cell_type": "code",
      "execution_count": null,
      "metadata": {
        "collapsed": false
      },
      "outputs": [],
      "source": [
        "levelMax = 8.0\nboundingBox = ot.Interval([0.0] * 2, [levelMax] * 2)\nnbrows = 2\nnbcols = 3\ngrid = ot.GridLayout(nbrows, nbcols)\nlevel = 1\nfor i in range(nbrows):\n    for j in range(nbcols):\n        graph = drawSmolyakIndices(level)\n        if i < nbrows - 1:\n            graph.setXTitle(\"\")\n        if j > 0:\n            graph.setYTitle(\"\")\n        graph.setBoundingBox(boundingBox)\n        grid.setGraph(i, j, graph)\n        level += 1\nview = otv.View(grid, figure_kw={\"figsize\": (5.0, 3.0)})\nplt.subplots_adjust(wspace=0.5, hspace=0.7)\nplt.tight_layout()"
      ]
    },
    {
      "cell_type": "markdown",
      "metadata": {},
      "source": [
        "We see that when the level increases, the set of Smolyak multi-indices\ncorrespond to two different layers of constant 1-norm.\nThis is a consequence of Smolyak's quadrature, which is based on\ntensorization of univariate difference quadratures.\n\n"
      ]
    },
    {
      "cell_type": "code",
      "execution_count": null,
      "metadata": {
        "collapsed": false
      },
      "outputs": [],
      "source": [
        "plt.show()"
      ]
    }
  ],
  "metadata": {
    "kernelspec": {
      "display_name": "Python 3",
      "language": "python",
      "name": "python3"
    },
    "language_info": {
      "codemirror_mode": {
        "name": "ipython",
        "version": 3
      },
      "file_extension": ".py",
      "mimetype": "text/x-python",
      "name": "python",
      "nbconvert_exporter": "python",
      "pygments_lexer": "ipython3",
      "version": "3.13.2"
    }
  },
  "nbformat": 4,
  "nbformat_minor": 0
}