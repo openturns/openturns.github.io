{
  "cells": [
    {
      "cell_type": "markdown",
      "metadata": {},
      "source": [
        "\n# LOLA-Voronoi sequential design of experiment\n"
      ]
    },
    {
      "cell_type": "markdown",
      "metadata": {},
      "source": [
        "The LOLA-Voronoi sequential experiment helps to generate an optimized design allowing\nbetter approximations of functions taking into account empty regions and gradient values.\nIt can be relevant to build a design of experiment for a metamodel: we will compare the\nLOLA-Voronoi design against a Sobol' design as learning points for a chaos metamodel.\n\n"
      ]
    },
    {
      "cell_type": "code",
      "execution_count": null,
      "metadata": {
        "collapsed": false
      },
      "outputs": [],
      "source": [
        "import openturns as ot\nimport openturns.experimental as otexp\nimport openturns.viewer as otv"
      ]
    },
    {
      "cell_type": "markdown",
      "metadata": {},
      "source": [
        "Lets use Franke's bivariate function\n\n"
      ]
    },
    {
      "cell_type": "code",
      "execution_count": null,
      "metadata": {
        "collapsed": false
      },
      "outputs": [],
      "source": [
        "dim = 2\nf1 = ot.SymbolicFunction(\n    [\"a0\", \"a1\"],\n    [\n        \"3 / 4 * exp(-1 / 4 * (((9 * a0 - 2) ^ 2) + ((9 * a1 - 2) ^ 2))) + 3 / 4 * exp(-1 / 49 * \"\n        \"((9 * a0 + 1) ^ 2) - 1 / 10 * (9 * a1 + 1) ^ 2) + 1 / 2 * exp(-1 / 4 * (((9 * a0 - 7) ^ 2) \"\n        \"+ (9 * a1 - 3) ^ 2)) - 1 / 5 * exp(-((9 * a0 - 4) ^ 2) - ((9 * a1 + 1) ^ 2))\"\n    ],\n)\nprint(f1([0.5, 0.5]))\ndistribution = ot.JointDistribution([ot.Uniform(0.0, 1.0)] * 2)"
      ]
    },
    {
      "cell_type": "markdown",
      "metadata": {},
      "source": [
        "Plot the function\n\n"
      ]
    },
    {
      "cell_type": "code",
      "execution_count": null,
      "metadata": {
        "collapsed": false
      },
      "outputs": [],
      "source": [
        "ot.ResourceMap.SetAsString(\"Contour-DefaultColorMapNorm\", \"rank\")\ngraph = f1.draw(\n    distribution.getRange().getLowerBound(), distribution.getRange().getUpperBound()\n)\ncontour = graph.getDrawable(0)\ncontour.setLegend(\"model\")\ngraph.setTitle(\"Model\")\ngraph.setXTitle(\"x1\")\ngraph.setYTitle(\"x2\")\n_ = otv.View(graph, square_axes=True)"
      ]
    },
    {
      "cell_type": "markdown",
      "metadata": {},
      "source": [
        "Plot the hessian norm\n\n"
      ]
    },
    {
      "cell_type": "code",
      "execution_count": null,
      "metadata": {
        "collapsed": false
      },
      "outputs": [],
      "source": [
        "def pyHessianNorm(X):\n    h = f1.hessian(X).getSheet(0)\n    h.squareElements()\n    s = h.computeSumElements()\n    return [s**0.5]\n\n\nhessNorm = ot.PythonFunction(f1.getInputDimension(), 1, pyHessianNorm)\ngraph = hessNorm.draw(\n    distribution.getRange().getLowerBound(), distribution.getRange().getUpperBound()\n)\ngraph.setTitle(\"Hessian norm\")\ngraph.setXTitle(\"x1\")\ngraph.setYTitle(\"x2\")\n_ = otv.View(graph, square_axes=True)"
      ]
    },
    {
      "cell_type": "markdown",
      "metadata": {},
      "source": [
        "Lets define an initial design of experiments\n\n"
      ]
    },
    {
      "cell_type": "code",
      "execution_count": null,
      "metadata": {
        "collapsed": false
      },
      "outputs": [],
      "source": [
        "N = 50\nx0 = ot.LowDiscrepancyExperiment(ot.HaltonSequence(), distribution, N).generate()\ny0 = f1(x0)"
      ]
    },
    {
      "cell_type": "markdown",
      "metadata": {},
      "source": [
        "Plot the initial input sample\n\n"
      ]
    },
    {
      "cell_type": "code",
      "execution_count": null,
      "metadata": {
        "collapsed": false
      },
      "outputs": [],
      "source": [
        "graph = ot.Graph(f\"Initial points N={N}\", \"x1\", \"x2\", True)\ninitial = ot.Cloud(x0)\ninitial.setPointStyle(\"fcircle\")\ninitial.setColor(\"blue\")\ninitial.setLegend(f\"initial ({len(x0)})\")\ngraph.add(initial)\ngraph.add(contour)\n_ = otv.View(graph, square_axes=True)"
      ]
    },
    {
      "cell_type": "markdown",
      "metadata": {},
      "source": [
        "Instantiate the algorithm from the initial DOE and the distribution\n\n"
      ]
    },
    {
      "cell_type": "code",
      "execution_count": null,
      "metadata": {
        "collapsed": false
      },
      "outputs": [],
      "source": [
        "algo = otexp.LOLAVoronoi(x0, y0, distribution)"
      ]
    },
    {
      "cell_type": "markdown",
      "metadata": {},
      "source": [
        "Iteratively generate new samples: add 50 points, in 10 blocks of 5 points.\n\n"
      ]
    },
    {
      "cell_type": "code",
      "execution_count": null,
      "metadata": {
        "collapsed": false
      },
      "outputs": [],
      "source": [
        "inc = 5\ncontour = contour.getImplementation()\ncontour.setColorBarPosition(\"\")  # hide color bar\nfor i in range(10):\n    graph = ot.Graph(\"\", \"x1\", \"x2\", True)\n    graph.setLegendPosition(\"upper left\")\n    graph.setLegendFontSize(8)\n    graph.add(contour)\n    graph.add(initial)\n\n    if i > 0:\n        previous = ot.Cloud(algo.getInputSample()[len(x0) : N])\n        previous.setPointStyle(\"fcircle\")\n        previous.setColor(\"red\")\n        previous.setLegend(f\"previous iterations ({N - len(x0)})\")\n        graph.add(previous)\n\n    x = algo.generate(inc)\n    y = f1(x)\n    algo.update(x, y)\n    N = algo.getGenerationIndices()[-1]\n\n    current = ot.Cloud(x)\n    current.setPointStyle(\"fcircle\")\n    current.setColor(\"orange\")\n    current.setLegend(f\"current iteration ({inc})\")\n    graph.add(current)\n    graph.setTitle(f\"LOLA-Voronoi iteration #{i + 1} N={N}\")\n    otv.View(graph, square_axes=True)"
      ]
    },
    {
      "cell_type": "markdown",
      "metadata": {},
      "source": [
        "Lets compare metamodels from LOLA samples versus other design\n\n"
      ]
    },
    {
      "cell_type": "code",
      "execution_count": null,
      "metadata": {
        "collapsed": false
      },
      "outputs": [],
      "source": [
        "xLola, yLola = algo.getInputSample(), algo.getOutputSample()\nlearnSize = xLola.getSize()\n\n\ndef runMetaModel(x, y, tag):\n    algo = ot.LeastSquaresExpansion(x, y, distribution)\n    algo.run()\n    metamodel = algo.getResult().getMetaModel()\n    yPred = metamodel(xRef)\n    validation = ot.MetaModelValidation(yRef, yPred)\n    mse = validation.computeMeanSquaredError()\n    maxerr = (yRef - yPred).asPoint().normInf()\n    print(f\"{tag} mse={mse} r2={validation.computeR2Score()} maxerr={maxerr:.3f}\")"
      ]
    },
    {
      "cell_type": "markdown",
      "metadata": {},
      "source": [
        "Generate a large validation sample by Monte Carlo\n\n"
      ]
    },
    {
      "cell_type": "code",
      "execution_count": null,
      "metadata": {
        "collapsed": false
      },
      "outputs": [],
      "source": [
        "nRef = int(1e6)\nxRef = distribution.getSample(nRef)\nyRef = f1(xRef)"
      ]
    },
    {
      "cell_type": "markdown",
      "metadata": {},
      "source": [
        "Build a metamodel from Sobol' samples\n\n"
      ]
    },
    {
      "cell_type": "code",
      "execution_count": null,
      "metadata": {
        "collapsed": false
      },
      "outputs": [],
      "source": [
        "xSobol = ot.LowDiscrepancyExperiment(\n    ot.SobolSequence(), distribution, learnSize\n).generate()\nySobol = f1(xSobol)\nrunMetaModel(xSobol, ySobol, \"Sobol\")"
      ]
    },
    {
      "cell_type": "markdown",
      "metadata": {},
      "source": [
        "Build a metamodel on the LOLA global samples\nWe observe that the metamodel error metrics (MSE, R2) and maximum error\nfrom the LOLA design are a bit better compared to the Sobol experiment\n\n"
      ]
    },
    {
      "cell_type": "code",
      "execution_count": null,
      "metadata": {
        "collapsed": false
      },
      "outputs": [],
      "source": [
        "runMetaModel(xLola, yLola, \"LOLA\")"
      ]
    },
    {
      "cell_type": "markdown",
      "metadata": {},
      "source": [
        "Define a function to plot the different scores\n\n"
      ]
    },
    {
      "cell_type": "code",
      "execution_count": null,
      "metadata": {
        "collapsed": false
      },
      "outputs": [],
      "source": [
        "def drawScore(score, tag):\n    f = ot.DatabaseFunction(xLola, score)\n    lb = distribution.getRange().getLowerBound()\n    ub = distribution.getRange().getUpperBound()\n    graph = f.draw(lb, ub)\n    final = ot.Cloud(xLola)\n    final.setPointStyle(\"fcircle\")\n    graph.add(final)\n    graph.setTitle(f\"{tag} score\")\n    graph.setXTitle(\"x1\")\n    graph.setYTitle(\"x2\")\n    otv.View(graph, square_axes=True)"
      ]
    },
    {
      "cell_type": "markdown",
      "metadata": {},
      "source": [
        "Plot the Voronoi score: it matches unexplored areas on top or right borders.\n\n"
      ]
    },
    {
      "cell_type": "code",
      "execution_count": null,
      "metadata": {
        "collapsed": false
      },
      "outputs": [],
      "source": [
        "algo.generate(inc)  # triggers score update of the last batch\ndrawScore(algo.getVoronoiScore(), \"Voronoi\")"
      ]
    },
    {
      "cell_type": "markdown",
      "metadata": {},
      "source": [
        "Plot the LOLA score: it underlines regions with high gradients variations\n\n"
      ]
    },
    {
      "cell_type": "code",
      "execution_count": null,
      "metadata": {
        "collapsed": false
      },
      "outputs": [],
      "source": [
        "drawScore(algo.getLOLAScore(), \"LOLA\")"
      ]
    },
    {
      "cell_type": "markdown",
      "metadata": {},
      "source": [
        "Plot the hybrid score: it exposes regions with medium-intensity gradients variations left to explore\n\n"
      ]
    },
    {
      "cell_type": "code",
      "execution_count": null,
      "metadata": {
        "collapsed": false
      },
      "outputs": [],
      "source": [
        "drawScore(algo.getHybridScore(), \"hybrid\")"
      ]
    },
    {
      "cell_type": "markdown",
      "metadata": {},
      "source": [
        "Show all plots\n\n"
      ]
    },
    {
      "cell_type": "code",
      "execution_count": null,
      "metadata": {
        "collapsed": false
      },
      "outputs": [],
      "source": [
        "otv.View.ShowAll()"
      ]
    }
  ],
  "metadata": {
    "kernelspec": {
      "display_name": "Python 3",
      "language": "python",
      "name": "python3"
    },
    "language_info": {
      "codemirror_mode": {
        "name": "ipython",
        "version": 3
      },
      "file_extension": ".py",
      "mimetype": "text/x-python",
      "name": "python",
      "nbconvert_exporter": "python",
      "pygments_lexer": "ipython3",
      "version": "3.13.7"
    }
  },
  "nbformat": 4,
  "nbformat_minor": 0
}