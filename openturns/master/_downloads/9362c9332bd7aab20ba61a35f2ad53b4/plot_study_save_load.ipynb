{
  "cells": [
    {
      "cell_type": "markdown",
      "metadata": {},
      "source": [
        "\n# Save/load a study\nThe objective of this example is to demonstrate how to save the structures created within a script session to disk in order to be able to load them in a future session.\n\nThere are several possible ways to achieve this:\n\n- with the standard pickle module\n- with openturns's Study\n"
      ]
    },
    {
      "cell_type": "code",
      "execution_count": null,
      "metadata": {
        "collapsed": false
      },
      "outputs": [],
      "source": [
        "import openturns as ot\nimport pickle\n\not.Log.Show(ot.Log.NONE)"
      ]
    },
    {
      "cell_type": "markdown",
      "metadata": {},
      "source": [
        "create objects to save\n\n"
      ]
    },
    {
      "cell_type": "code",
      "execution_count": null,
      "metadata": {
        "collapsed": false
      },
      "outputs": [],
      "source": [
        "distribution = ot.Normal(4.0, 3.0)\nfunction = ot.SymbolicFunction([\"x1\", \"x2\"], [\"x1 + x2\"])"
      ]
    },
    {
      "cell_type": "markdown",
      "metadata": {},
      "source": [
        "**With the pickle module**\n\nThe objects are retrieved in the same order they are stored.\n\n"
      ]
    },
    {
      "cell_type": "markdown",
      "metadata": {},
      "source": [
        "save objects\n\n"
      ]
    },
    {
      "cell_type": "code",
      "execution_count": null,
      "metadata": {
        "collapsed": false
      },
      "outputs": [],
      "source": [
        "with open(\"study.pkl\", \"wb\") as f:\n    pickle.dump(distribution, f)\n    pickle.dump(function, f)"
      ]
    },
    {
      "cell_type": "markdown",
      "metadata": {},
      "source": [
        "load saved objects\n\n"
      ]
    },
    {
      "cell_type": "code",
      "execution_count": null,
      "metadata": {
        "collapsed": false
      },
      "outputs": [],
      "source": [
        "with open(\"study.pkl\", \"rb\") as f:\n    loaded_distribution = pickle.load(f)\n    loaded_function = pickle.load(f)\nstr(loaded_distribution), str(loaded_function)"
      ]
    },
    {
      "cell_type": "markdown",
      "metadata": {},
      "source": [
        "**With OpenTURNS' Study**\n\nIn order to be able to manipulate the objects contained in a Study, it is necessary to:\n\n- create the same empty structure in the new study,\n- fill this new empty structure with the content of the loaded structure, identified with its name or its id.\n\nEach object is identified whether with:\n\n- its name: it is useful to give names to the objects we want to save. If no name has been given by the user, we can use the default name.\n  The name of each saved object can be checked in the output XML file or with the python `print` command (applied to the `Study` object).\n- its id number: this id number is unique to each object. It distinguishes objects with identical type and name (like the default name \"Unnamed\").\n  This id number may be checked by printing the study **after** it has been loaded in the python interface (with the `print` command).\n  It can differ from the id number indicated in the XML file the study was loaded from.\n- for HDF5 storage (see below): the id serves both as xml id and hdf5 dataset name.\n  Id uniqueness forbids any misleading in reading/writing hdf5 datasets.\n\n"
      ]
    },
    {
      "cell_type": "markdown",
      "metadata": {},
      "source": [
        "Create a Study Object\n\n"
      ]
    },
    {
      "cell_type": "code",
      "execution_count": null,
      "metadata": {
        "collapsed": false
      },
      "outputs": [],
      "source": [
        "study = ot.Study()"
      ]
    },
    {
      "cell_type": "markdown",
      "metadata": {},
      "source": [
        "Associate it to an XML file\n\n"
      ]
    },
    {
      "cell_type": "code",
      "execution_count": null,
      "metadata": {
        "collapsed": false
      },
      "outputs": [],
      "source": [
        "fileName = \"study.xml\"\nstudy.setStorageManager(ot.XMLStorageManager(fileName))"
      ]
    },
    {
      "cell_type": "markdown",
      "metadata": {},
      "source": [
        "Alternatively, large amounts of data can be stored in binary HDF5 file.\nAn XML file (`study_h5.xml`) serves as header for binary data, which are stored in the automatically created `study_h5.h5` file.\n\n"
      ]
    },
    {
      "cell_type": "code",
      "execution_count": null,
      "metadata": {
        "collapsed": false
      },
      "outputs": [],
      "source": [
        "study_h5 = ot.Study()\nfileName_h5 = \"study_h5.xml\"\nstudy_h5.setStorageManager(ot.XMLH5StorageManager(fileName_h5))"
      ]
    },
    {
      "cell_type": "markdown",
      "metadata": {},
      "source": [
        "Add an object to the study; at this point it is not written to disk yet\n\n"
      ]
    },
    {
      "cell_type": "code",
      "execution_count": null,
      "metadata": {
        "collapsed": false
      },
      "outputs": [],
      "source": [
        "study.add(\"distribution\", distribution)\nstudy.add(\"function\", function)"
      ]
    },
    {
      "cell_type": "markdown",
      "metadata": {},
      "source": [
        "Save the study; this writes into the file\n\n"
      ]
    },
    {
      "cell_type": "code",
      "execution_count": null,
      "metadata": {
        "collapsed": false
      },
      "outputs": [],
      "source": [
        "study.save()"
      ]
    },
    {
      "cell_type": "markdown",
      "metadata": {},
      "source": [
        "Create a new study associated to the same file\n\n"
      ]
    },
    {
      "cell_type": "code",
      "execution_count": null,
      "metadata": {
        "collapsed": false
      },
      "outputs": [],
      "source": [
        "study = ot.Study()\nstudy.setStorageManager(ot.XMLStorageManager(fileName))"
      ]
    },
    {
      "cell_type": "markdown",
      "metadata": {},
      "source": [
        "Load the file and all its objects\n\n"
      ]
    },
    {
      "cell_type": "code",
      "execution_count": null,
      "metadata": {
        "collapsed": false
      },
      "outputs": [],
      "source": [
        "study.load()"
      ]
    },
    {
      "cell_type": "markdown",
      "metadata": {},
      "source": [
        "Check the content of the myStudy\n\n"
      ]
    },
    {
      "cell_type": "code",
      "execution_count": null,
      "metadata": {
        "collapsed": false
      },
      "outputs": [],
      "source": [
        "print(\"Study = \", study)"
      ]
    },
    {
      "cell_type": "markdown",
      "metadata": {},
      "source": [
        "List names of stored objects\n\n"
      ]
    },
    {
      "cell_type": "code",
      "execution_count": null,
      "metadata": {
        "collapsed": false
      },
      "outputs": [],
      "source": [
        "study.getLabels()"
      ]
    },
    {
      "cell_type": "markdown",
      "metadata": {},
      "source": [
        "Check our 'distribution' labelled object was loaded\n\n"
      ]
    },
    {
      "cell_type": "code",
      "execution_count": null,
      "metadata": {
        "collapsed": false
      },
      "outputs": [],
      "source": [
        "study.hasObject(\"distribution\")"
      ]
    },
    {
      "cell_type": "markdown",
      "metadata": {},
      "source": [
        "Load the objects; we must create a void object of the desired type (or parent type)\n\n"
      ]
    },
    {
      "cell_type": "code",
      "execution_count": null,
      "metadata": {
        "collapsed": false
      },
      "outputs": [],
      "source": [
        "distribution2 = ot.Normal()\nfunction2 = ot.Function()\nstudy.fillObject(\"distribution\", distribution2)\nstudy.fillObject(\"function\", function2)\nstr(distribution2), str(function2)"
      ]
    }
  ],
  "metadata": {
    "kernelspec": {
      "display_name": "Python 3",
      "language": "python",
      "name": "python3"
    },
    "language_info": {
      "codemirror_mode": {
        "name": "ipython",
        "version": 3
      },
      "file_extension": ".py",
      "mimetype": "text/x-python",
      "name": "python",
      "nbconvert_exporter": "python",
      "pygments_lexer": "ipython3",
      "version": "3.12.3"
    }
  },
  "nbformat": 4,
  "nbformat_minor": 0
}