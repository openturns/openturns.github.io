{
  "cells": [
    {
      "cell_type": "markdown",
      "metadata": {},
      "source": [
        "\n# The HSIC sensitivity indices: the Ishigami model\n"
      ]
    },
    {
      "cell_type": "code",
      "execution_count": null,
      "metadata": {
        "collapsed": false
      },
      "outputs": [],
      "source": [
        "import openturns as ot\nimport openturns.viewer as otv\nfrom openturns.usecases import ishigami_function"
      ]
    },
    {
      "cell_type": "markdown",
      "metadata": {},
      "source": [
        "This example is a brief overview of the HSIC sensitivity indices classes and how to call them.\nHSIC estimators rely on a reproducing kernel of a Hilbert space. We can use them to compute sensitivity\nindices. We present the methods on the `Ishigami function<use-case-ishigami>`.\n\n"
      ]
    },
    {
      "cell_type": "markdown",
      "metadata": {},
      "source": [
        "## Definition of the model\n\nWe load the model from the usecases module.\n\n"
      ]
    },
    {
      "cell_type": "code",
      "execution_count": null,
      "metadata": {
        "collapsed": false
      },
      "outputs": [],
      "source": [
        "im = ishigami_function.IshigamiModel()"
      ]
    },
    {
      "cell_type": "markdown",
      "metadata": {},
      "source": [
        "We generate an input sample of size 100 (and dimension 3).\n\n"
      ]
    },
    {
      "cell_type": "code",
      "execution_count": null,
      "metadata": {
        "collapsed": false
      },
      "outputs": [],
      "source": [
        "size = 100\nX = im.inputDistribution.getSample(size)"
      ]
    },
    {
      "cell_type": "markdown",
      "metadata": {},
      "source": [
        "We compute the output by applying the Ishigami model to the input sample.\n\n"
      ]
    },
    {
      "cell_type": "code",
      "execution_count": null,
      "metadata": {
        "collapsed": false
      },
      "outputs": [],
      "source": [
        "Y = im.model(X)"
      ]
    },
    {
      "cell_type": "markdown",
      "metadata": {},
      "source": [
        "## Setting the covariance models\n\nThe HSIC algorithms use reproducing kernels defined on Hilbert spaces to estimate independence.\nFor each input variable we choose a covariance kernel.\nHere we choose a :class:`~openturns.SquaredExponential`\nkernel for all input variables.\n\nThey are all stored in a list of $d+1$ covariance kernels where $d$ is the number of\ninput variables. The remaining one is for the output variable.\n\n"
      ]
    },
    {
      "cell_type": "code",
      "execution_count": null,
      "metadata": {
        "collapsed": false
      },
      "outputs": [],
      "source": [
        "covarianceModelCollection = []"
      ]
    },
    {
      "cell_type": "code",
      "execution_count": null,
      "metadata": {
        "collapsed": false
      },
      "outputs": [],
      "source": [
        "for i in range(3):\n    Xi = X.getMarginal(i)\n    inputCovariance = ot.SquaredExponential(1)\n    inputCovariance.setScale(Xi.computeStandardDeviation())\n    covarianceModelCollection.append(inputCovariance)"
      ]
    },
    {
      "cell_type": "markdown",
      "metadata": {},
      "source": [
        "Likewise we define a covariance kernel associated to the output variable.\n\n"
      ]
    },
    {
      "cell_type": "code",
      "execution_count": null,
      "metadata": {
        "collapsed": false
      },
      "outputs": [],
      "source": [
        "outputCovariance = ot.SquaredExponential(1)\noutputCovariance.setScale(Y.computeStandardDeviation())\ncovarianceModelCollection.append(outputCovariance)"
      ]
    },
    {
      "cell_type": "markdown",
      "metadata": {},
      "source": [
        "## The Global HSIC estimator\n\nIn this paragraph, we perform the analysis on the raw data: that is\nthe global HSIC estimator.\n\n"
      ]
    },
    {
      "cell_type": "markdown",
      "metadata": {},
      "source": [
        "### Choosing an estimator\n\nAfter having defined the covariance kernels one has to select an\nappropriate estimator for the computations.\n\nTwo estimators are proposed:\n\n- an unbiased estimator through the :class:`~openturns.HSICUStat` class\n- a biased, but asymptotically unbiased, estimator through the :class:`~openturns.HSICVStat` class\n\nBeware that the conditional analysis used later cannot be performed with the unbiased estimator.\n\n"
      ]
    },
    {
      "cell_type": "code",
      "execution_count": null,
      "metadata": {
        "collapsed": false
      },
      "outputs": [],
      "source": [
        "estimatorType = ot.HSICUStat()"
      ]
    },
    {
      "cell_type": "markdown",
      "metadata": {},
      "source": [
        "We now build the HSIC estimator:\n\n"
      ]
    },
    {
      "cell_type": "code",
      "execution_count": null,
      "metadata": {
        "collapsed": false
      },
      "outputs": [],
      "source": [
        "globHSIC = ot.HSICEstimatorGlobalSensitivity(\n    covarianceModelCollection, X, Y, estimatorType\n)"
      ]
    },
    {
      "cell_type": "markdown",
      "metadata": {},
      "source": [
        "We get the R2-HSIC indices:\n\n"
      ]
    },
    {
      "cell_type": "code",
      "execution_count": null,
      "metadata": {
        "collapsed": false
      },
      "outputs": [],
      "source": [
        "R2HSICIndices = globHSIC.getR2HSICIndices()\nprint(\"\\n Global HSIC analysis\")\nprint(\"R2-HSIC Indices: \", R2HSICIndices)"
      ]
    },
    {
      "cell_type": "markdown",
      "metadata": {},
      "source": [
        "and the HSIC indices:\n\n"
      ]
    },
    {
      "cell_type": "code",
      "execution_count": null,
      "metadata": {
        "collapsed": false
      },
      "outputs": [],
      "source": [
        "HSICIndices = globHSIC.getHSICIndices()\nprint(\"HSIC Indices: \", HSICIndices)"
      ]
    },
    {
      "cell_type": "markdown",
      "metadata": {},
      "source": [
        "The p-value by permutation.\n\n"
      ]
    },
    {
      "cell_type": "code",
      "execution_count": null,
      "metadata": {
        "collapsed": false
      },
      "outputs": [],
      "source": [
        "pvperm = globHSIC.getPValuesPermutation()\nprint(\"p-value (permutation): \", pvperm)"
      ]
    },
    {
      "cell_type": "markdown",
      "metadata": {},
      "source": [
        "We have an asymptotic estimate of the value for this estimator.\n\n"
      ]
    },
    {
      "cell_type": "code",
      "execution_count": null,
      "metadata": {
        "collapsed": false
      },
      "outputs": [],
      "source": [
        "pvas = globHSIC.getPValuesAsymptotic()\nprint(\"p-value (asymptotic): \", pvas)"
      ]
    },
    {
      "cell_type": "markdown",
      "metadata": {},
      "source": [
        "We vizualise the results.\n\n"
      ]
    },
    {
      "cell_type": "code",
      "execution_count": null,
      "metadata": {
        "collapsed": false
      },
      "outputs": [],
      "source": [
        "graph1 = globHSIC.drawHSICIndices()\nview1 = otv.View(graph1)\n\ngraph2 = globHSIC.drawPValuesAsymptotic()\nview2 = otv.View(graph2)\n\ngraph3 = globHSIC.drawR2HSICIndices()\nview3 = otv.View(graph3)\n\ngraph4 = globHSIC.drawPValuesPermutation()\nview4 = otv.View(graph4)"
      ]
    },
    {
      "cell_type": "markdown",
      "metadata": {},
      "source": [
        "## The Target HSIC estimator\n\nWe now perform the target analysis which consists in using a filter function over the\noutput.\n\n"
      ]
    },
    {
      "cell_type": "markdown",
      "metadata": {},
      "source": [
        "### Defining a filter function\n\nWe define a filter function on the output variable for the target\nanalysis. In this example we use the function $\\exp{(-d/s)}$ where $d$ is the distance\nto a well-chosen interval.\n\n"
      ]
    },
    {
      "cell_type": "markdown",
      "metadata": {},
      "source": [
        "We first define a critical domain: in our case that is the $[5,+\\infty[$ interval.\n\n"
      ]
    },
    {
      "cell_type": "code",
      "execution_count": null,
      "metadata": {
        "collapsed": false
      },
      "outputs": [],
      "source": [
        "criticalDomain = ot.Interval(5, float(\"inf\"))"
      ]
    },
    {
      "cell_type": "markdown",
      "metadata": {},
      "source": [
        "We have access to the distance to this  domain thanks to the\n:class:`~openturns.DistanceToDomainFunction` class.\n\n"
      ]
    },
    {
      "cell_type": "code",
      "execution_count": null,
      "metadata": {
        "collapsed": false
      },
      "outputs": [],
      "source": [
        "dist2criticalDomain = ot.DistanceToDomainFunction(criticalDomain)"
      ]
    },
    {
      "cell_type": "markdown",
      "metadata": {},
      "source": [
        "We define the empirical parameter values in our function from the output sample\n\n"
      ]
    },
    {
      "cell_type": "code",
      "execution_count": null,
      "metadata": {
        "collapsed": false
      },
      "outputs": [],
      "source": [
        "s = 0.1 * Y.computeStandardDeviation()[0]"
      ]
    },
    {
      "cell_type": "markdown",
      "metadata": {},
      "source": [
        "We now define our filter function by composition of the parametrized function and\nthe distance function.\n\n"
      ]
    },
    {
      "cell_type": "code",
      "execution_count": null,
      "metadata": {
        "collapsed": false
      },
      "outputs": [],
      "source": [
        "f = ot.SymbolicFunction([\"x\", \"s\"], [\"exp(-x/s)\"])\nphi = ot.ParametricFunction(f, [1], [s])\nfilterFunction = ot.ComposedFunction(phi, dist2criticalDomain)"
      ]
    },
    {
      "cell_type": "markdown",
      "metadata": {},
      "source": [
        "We modify the output covariance kernel so as to adapt it to the filtered output\n\n"
      ]
    },
    {
      "cell_type": "code",
      "execution_count": null,
      "metadata": {
        "collapsed": false
      },
      "outputs": [],
      "source": [
        "Y_filtered = filterFunction(Y)\noutputCovariance.setScale(Y_filtered.computeStandardDeviation())\ncovarianceModelCollection[-1] = outputCovariance"
      ]
    },
    {
      "cell_type": "markdown",
      "metadata": {},
      "source": [
        "We choose an unbiased estimator\n\n"
      ]
    },
    {
      "cell_type": "code",
      "execution_count": null,
      "metadata": {
        "collapsed": false
      },
      "outputs": [],
      "source": [
        "estimatorType = ot.HSICUStat()"
      ]
    },
    {
      "cell_type": "markdown",
      "metadata": {},
      "source": [
        "and build the HSIC estimator\n\n"
      ]
    },
    {
      "cell_type": "code",
      "execution_count": null,
      "metadata": {
        "collapsed": false
      },
      "outputs": [],
      "source": [
        "targetHSIC = ot.HSICEstimatorTargetSensitivity(\n    covarianceModelCollection, X, Y, estimatorType, filterFunction\n)"
      ]
    },
    {
      "cell_type": "markdown",
      "metadata": {},
      "source": [
        "We get the R2-HSIC indices:\n\n"
      ]
    },
    {
      "cell_type": "code",
      "execution_count": null,
      "metadata": {
        "collapsed": false
      },
      "outputs": [],
      "source": [
        "R2HSICIndices = targetHSIC.getR2HSICIndices()\nprint(\"\\n Target HSIC analysis\")\nprint(\"R2-HSIC Indices: \", R2HSICIndices)"
      ]
    },
    {
      "cell_type": "markdown",
      "metadata": {},
      "source": [
        "and the HSIC indices:\n\n"
      ]
    },
    {
      "cell_type": "code",
      "execution_count": null,
      "metadata": {
        "collapsed": false
      },
      "outputs": [],
      "source": [
        "HSICIndices = targetHSIC.getHSICIndices()\nprint(\"HSIC Indices: \", HSICIndices)"
      ]
    },
    {
      "cell_type": "markdown",
      "metadata": {},
      "source": [
        "The p-value by permutation.\n\n"
      ]
    },
    {
      "cell_type": "code",
      "execution_count": null,
      "metadata": {
        "collapsed": false
      },
      "outputs": [],
      "source": [
        "pvperm = targetHSIC.getPValuesPermutation()\nprint(\"p-value (permutation): \", pvperm)"
      ]
    },
    {
      "cell_type": "markdown",
      "metadata": {},
      "source": [
        "We have an asymptotic estimate of the value for this estimator.\n\n"
      ]
    },
    {
      "cell_type": "code",
      "execution_count": null,
      "metadata": {
        "collapsed": false
      },
      "outputs": [],
      "source": [
        "pvas = targetHSIC.getPValuesAsymptotic()\nprint(\"p-value (asymptotic): \", pvas)"
      ]
    },
    {
      "cell_type": "markdown",
      "metadata": {},
      "source": [
        "We vizualise the results.\n\n"
      ]
    },
    {
      "cell_type": "code",
      "execution_count": null,
      "metadata": {
        "collapsed": false
      },
      "outputs": [],
      "source": [
        "graph5 = targetHSIC.drawHSICIndices()\nview5 = otv.View(graph5)\n\ngraph6 = targetHSIC.drawPValuesAsymptotic()\nview6 = otv.View(graph6)\n\ngraph7 = targetHSIC.drawR2HSICIndices()\nview7 = otv.View(graph7)\n\ngraph8 = targetHSIC.drawPValuesPermutation()\nview8 = otv.View(graph8)"
      ]
    },
    {
      "cell_type": "markdown",
      "metadata": {},
      "source": [
        "## The Conditional HSIC estimator\n\nIn this last section we preprocess the input variables: that is the conditional\nanalysis. To do so, one has to work with a weight function.\nHere the weight function is the filter function we used previously.\n\n"
      ]
    },
    {
      "cell_type": "code",
      "execution_count": null,
      "metadata": {
        "collapsed": false
      },
      "outputs": [],
      "source": [
        "weightFunction = filterFunction"
      ]
    },
    {
      "cell_type": "markdown",
      "metadata": {},
      "source": [
        "We revert to the covariance kernel associated to the unfiltered output\n\n"
      ]
    },
    {
      "cell_type": "code",
      "execution_count": null,
      "metadata": {
        "collapsed": false
      },
      "outputs": [],
      "source": [
        "outputCovariance.setScale(Y.computeStandardDeviation())\ncovarianceModelCollection[-1] = outputCovariance"
      ]
    },
    {
      "cell_type": "markdown",
      "metadata": {},
      "source": [
        "We have to select a biased -but asymptotically unbiased- estimator\n\n"
      ]
    },
    {
      "cell_type": "code",
      "execution_count": null,
      "metadata": {
        "collapsed": false
      },
      "outputs": [],
      "source": [
        "estimatorType = ot.HSICVStat()"
      ]
    },
    {
      "cell_type": "markdown",
      "metadata": {},
      "source": [
        "We build the conditional HSIC estimator\n\n"
      ]
    },
    {
      "cell_type": "code",
      "execution_count": null,
      "metadata": {
        "collapsed": false
      },
      "outputs": [],
      "source": [
        "condHSIC = ot.HSICEstimatorConditionalSensitivity(\n    covarianceModelCollection, X, Y, weightFunction\n)"
      ]
    },
    {
      "cell_type": "markdown",
      "metadata": {},
      "source": [
        "We get the R2-HSIC indices:\n\n"
      ]
    },
    {
      "cell_type": "code",
      "execution_count": null,
      "metadata": {
        "collapsed": false
      },
      "outputs": [],
      "source": [
        "R2HSICIndices = condHSIC.getR2HSICIndices()\nprint(\"\\n Conditional HSIC analysis\")\nprint(\"R2-HSIC Indices: \", R2HSICIndices)"
      ]
    },
    {
      "cell_type": "markdown",
      "metadata": {},
      "source": [
        "and the HSIC indices:\n\n"
      ]
    },
    {
      "cell_type": "code",
      "execution_count": null,
      "metadata": {
        "collapsed": false
      },
      "outputs": [],
      "source": [
        "HSICIndices = condHSIC.getHSICIndices()\nprint(\"HSIC Indices: \", HSICIndices)"
      ]
    },
    {
      "cell_type": "markdown",
      "metadata": {},
      "source": [
        "For the conditional estimator we only have access to the p-value by permutation:\n\n"
      ]
    },
    {
      "cell_type": "code",
      "execution_count": null,
      "metadata": {
        "collapsed": false
      },
      "outputs": [],
      "source": [
        "pvperm = condHSIC.getPValuesPermutation()\nprint(\"p-value (permutation): \", pvperm)\nprint(\"\")"
      ]
    },
    {
      "cell_type": "markdown",
      "metadata": {},
      "source": [
        "We can vizualise the results thanks to the various drawing methods.\n\n"
      ]
    },
    {
      "cell_type": "code",
      "execution_count": null,
      "metadata": {
        "collapsed": false
      },
      "outputs": [],
      "source": [
        "graph9 = condHSIC.drawHSICIndices()\nview9 = otv.View(graph9)\n\ngraph10 = condHSIC.drawR2HSICIndices()\nview10 = otv.View(graph10)\n\ngraph11 = condHSIC.drawPValuesPermutation()\nview11 = otv.View(graph11)"
      ]
    },
    {
      "cell_type": "code",
      "execution_count": null,
      "metadata": {
        "collapsed": false
      },
      "outputs": [],
      "source": [
        "otv.View.ShowAll()"
      ]
    }
  ],
  "metadata": {
    "kernelspec": {
      "display_name": "Python 3",
      "language": "python",
      "name": "python3"
    },
    "language_info": {
      "codemirror_mode": {
        "name": "ipython",
        "version": 3
      },
      "file_extension": ".py",
      "mimetype": "text/x-python",
      "name": "python",
      "nbconvert_exporter": "python",
      "pygments_lexer": "ipython3",
      "version": "3.13.1"
    }
  },
  "nbformat": 4,
  "nbformat_minor": 0
}