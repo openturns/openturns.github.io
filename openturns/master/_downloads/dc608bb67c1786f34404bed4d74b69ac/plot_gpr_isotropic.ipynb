{
  "cells": [
    {
      "cell_type": "markdown",
      "metadata": {},
      "source": [
        "\n# Gaussian Process Regression: use an isotropic covariance kernel\n\nIn typical machine learning applications, Gaussian process regression\nsurrogate models take several inputs,\nand those inputs are usually heterogeneous\n(e.g. in the :doc:`cantilever beam\n</auto_meta_modeling/kriging_metamodel/plot_gpr_cantilever_beam>` use case,\ninputs are various physical quantities).\n\nIn geostatistical applications however, inputs are typically spatial\ncoordinates, which means one can assume the output varies at the same rate\nin all directions.\nThis calls for a specific kind of covariance kernel, represented\nin the library by the :class:`~openturns.IsotropicCovarianceModel` class.\n"
      ]
    },
    {
      "cell_type": "code",
      "execution_count": null,
      "metadata": {
        "collapsed": false
      },
      "outputs": [],
      "source": [
        "# TODO : change reference to plot_gpr_cantilever_beam"
      ]
    },
    {
      "cell_type": "markdown",
      "metadata": {},
      "source": [
        "## Modeling temperature across a surface\nIn this example, we collect temperature data over a floorplan using sensors.\n\n"
      ]
    },
    {
      "cell_type": "code",
      "execution_count": null,
      "metadata": {
        "collapsed": false
      },
      "outputs": [],
      "source": [
        "import numpy as np\nimport openturns as ot\nimport openturns.experimental as otexp\nimport matplotlib.pyplot as plt\n\n\ncoordinates = ot.Sample(\n    [\n        [100.0, 100.0],\n        [500.0, 100.0],\n        [900.0, 100.0],\n        [100.0, 350.0],\n        [500.0, 350.0],\n        [900.0, 350.0],\n        [100.0, 600.0],\n        [500.0, 600.0],\n        [900.0, 600.0],\n    ]\n)\nobservations = ot.Sample(\n    [[25.0], [25.0], [10.0], [20.0], [25.0], [20.0], [15.0], [25.0], [25.0]]\n)"
      ]
    },
    {
      "cell_type": "markdown",
      "metadata": {},
      "source": [
        "Let us plot the data.\n\n"
      ]
    },
    {
      "cell_type": "code",
      "execution_count": null,
      "metadata": {
        "collapsed": false
      },
      "outputs": [],
      "source": [
        "# Extract coordinates.\nx = np.array(coordinates[:, 0])\ny = np.array(coordinates[:, 1])\n\n# Plot the data with a scatter plot and a color map.\nfig = plt.figure()\nplt.scatter(x, y, c=observations, cmap=\"viridis\")\nplt.colorbar()\nplt.show()"
      ]
    },
    {
      "cell_type": "markdown",
      "metadata": {},
      "source": [
        "Because we are going to view several Gaussian Process Regression models in this example,\nwe use a function to automate the process of optimizing the scale parameter\nand producing the metamodel.\n\n"
      ]
    },
    {
      "cell_type": "code",
      "execution_count": null,
      "metadata": {
        "collapsed": false
      },
      "outputs": [],
      "source": [
        "lower = 50.0\nupper = 1000.0\n\n\ndef fitGPR(coordinates, observations, covarianceModel, basis):\n    \"\"\"\n    Fit the parameters of a Gaussian Process Regression surrogate model.\n    \"\"\"\n    # Set the starting scale for the optimization.\n    scale_dimension = covarianceModel.getScale().getDimension()\n    covarianceModel.setScale([upper] * scale_dimension)\n\n    # Prepare to fit Gaussian process hyperparameters.\n    fitter = otexp.GaussianProcessFitter(\n        coordinates, observations, covarianceModel, basis\n    )\n\n    # Set the optimization bounds for the scale parameter to sensible values\n    # given the data set.\n    fitter.setOptimizationBounds(\n        ot.Interval([lower] * scale_dimension, [upper] * scale_dimension)\n    )\n\n    # Fit the GP hyperparameters.\n    fitter.run()\n    fitter_result = fitter.getResult()\n\n    # Based on the GP hyperparameters perform the regression.\n    regression = otexp.GaussianProcessRegression(fitter_result)\n    regression.run()\n    result = regression.getResult()\n    surrogate = result.getMetaModel()\n    return result, surrogate"
      ]
    },
    {
      "cell_type": "markdown",
      "metadata": {},
      "source": [
        "Let us define a helper function to plot Gaussian Process Regression predictions.\n\n"
      ]
    },
    {
      "cell_type": "code",
      "execution_count": null,
      "metadata": {
        "collapsed": false
      },
      "outputs": [],
      "source": [
        "def plotGPRPredictions(gprModel):\n    \"\"\"\n    Plot the predictions of a Gaussian Process Regression surrogate model.\n    \"\"\"\n    # Create the mesh of the box [0., 1000.] * [0., 700.]\n    myInterval = ot.Interval([0.0, 0.0], [1000.0, 700.0])\n\n    # Define the number of intervals in each direction of the box\n    nx = 20\n    ny = 20\n    myIndices = [nx - 1, ny - 1]\n    myMesher = ot.IntervalMesher(myIndices)\n    myMeshBox = myMesher.build(myInterval)\n\n    # Predict\n    vertices = myMeshBox.getVertices()\n    predictions = gprModel(vertices)\n\n    # Format for plot\n    X = np.array(vertices[:, 0]).reshape((ny, nx))\n    Y = np.array(vertices[:, 1]).reshape((ny, nx))\n    predictions_array = np.array(predictions).reshape((ny, nx))\n\n    # Plot\n    plt.figure()\n    plt.pcolormesh(X, Y, predictions_array, shading=\"auto\")\n    plt.colorbar()\n    plt.show()\n    return"
      ]
    },
    {
      "cell_type": "markdown",
      "metadata": {},
      "source": [
        "## Predict with an anisotropic geometric covariance kernel\nIn order to illustrate the usefulness of isotropic covariance kernels,\nwe first perform prediction with an anisotropic geometric kernel.\n\n"
      ]
    },
    {
      "cell_type": "markdown",
      "metadata": {},
      "source": [
        "Keep in mind that, when there are more than one input dimension,\nthe :class:`~openturns.CovarianceModel` classes use a multidimensional\nscale parameter $\\vect{\\theta}$.\nThey are anisotropic geometric by default.\n\nOur example has two input dimensions,\nso $\\vect{\\theta} = (\\theta_1, \\theta_2)$.\n\n"
      ]
    },
    {
      "cell_type": "code",
      "execution_count": null,
      "metadata": {
        "collapsed": false
      },
      "outputs": [],
      "source": [
        "inputDimension = 2\nbasis = ot.ConstantBasisFactory(inputDimension).build()\ncovarianceModel = ot.SquaredExponential(inputDimension)\ngpr_result, surrogate_model = fitGPR(coordinates, observations, covarianceModel, basis)\nplotGPRPredictions(surrogate_model)"
      ]
    },
    {
      "cell_type": "markdown",
      "metadata": {},
      "source": [
        "We see weird vertical columns on the plot.\nHow did this happen? Let us have a look at the optimized scale parameter\n$\\hat{\\vect{\\theta}} = (\\hat{\\theta}_1, \\hat{\\theta}_2)$.\n\n"
      ]
    },
    {
      "cell_type": "code",
      "execution_count": null,
      "metadata": {
        "collapsed": false
      },
      "outputs": [],
      "source": [
        "print(gpr_result.getCovarianceModel().getScale())"
      ]
    },
    {
      "cell_type": "markdown",
      "metadata": {},
      "source": [
        "The value of $\\hat{\\theta}_1$ is actually equal to the lower bound:\n\n"
      ]
    },
    {
      "cell_type": "code",
      "execution_count": null,
      "metadata": {
        "collapsed": false
      },
      "outputs": [],
      "source": [
        "print(lower)"
      ]
    },
    {
      "cell_type": "markdown",
      "metadata": {},
      "source": [
        "This means that temperatures are likely to vary a lot along the X axis\nand much slower across the Y axis based on the observation data.\n\n"
      ]
    },
    {
      "cell_type": "markdown",
      "metadata": {},
      "source": [
        "## Predict with an isotropic covariance kernel\nIf we know that variations of the temperature are isotropic\n(i.e. with no priviledged direction),\nwe can embed this information within the covariance kernel.\n\n"
      ]
    },
    {
      "cell_type": "code",
      "execution_count": null,
      "metadata": {
        "collapsed": false
      },
      "outputs": [],
      "source": [
        "isotropic = ot.IsotropicCovarianceModel(ot.SquaredExponential(), inputDimension)"
      ]
    },
    {
      "cell_type": "markdown",
      "metadata": {},
      "source": [
        "The :class:`~openturns.IsotropicCovarianceModel` class creates an isotropic\nversion with a given input dimension of a :class:`~openturns.CovarianceModel`.\nBecause is isotropic, it only needs one scale parameter $\\theta_{iso}$\nand it will make sure $\\theta_1 = \\theta_2 = \\theta_{iso}$ at all times\nduring the optimization.\n\n"
      ]
    },
    {
      "cell_type": "code",
      "execution_count": null,
      "metadata": {
        "collapsed": false
      },
      "outputs": [],
      "source": [
        "gpr_result, surrogate_model = fitGPR(coordinates, observations, isotropic, basis)\nprint(gpr_result.getCovarianceModel().getScale())"
      ]
    },
    {
      "cell_type": "markdown",
      "metadata": {},
      "source": [
        "Prediction with the isotropic covariance kernel is much more satisfactory.\n\n"
      ]
    },
    {
      "cell_type": "code",
      "execution_count": null,
      "metadata": {
        "collapsed": false
      },
      "outputs": [],
      "source": [
        "# sphinx_gallery_thumbnail_number = 3\nplotGPRPredictions(surrogate_model)"
      ]
    }
  ],
  "metadata": {
    "kernelspec": {
      "display_name": "Python 3",
      "language": "python",
      "name": "python3"
    },
    "language_info": {
      "codemirror_mode": {
        "name": "ipython",
        "version": 3
      },
      "file_extension": ".py",
      "mimetype": "text/x-python",
      "name": "python",
      "nbconvert_exporter": "python",
      "pygments_lexer": "ipython3",
      "version": "3.13.5"
    }
  },
  "nbformat": 4,
  "nbformat_minor": 0
}