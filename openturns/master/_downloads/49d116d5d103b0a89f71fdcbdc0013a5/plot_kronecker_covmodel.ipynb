{
  "cells": [
    {
      "cell_type": "code",
      "execution_count": null,
      "metadata": {
        "collapsed": false
      },
      "outputs": [],
      "source": [
        "%matplotlib inline"
      ]
    },
    {
      "cell_type": "markdown",
      "metadata": {},
      "source": [
        "\n# Create a Kronecker covariance model\n"
      ]
    },
    {
      "cell_type": "markdown",
      "metadata": {},
      "source": [
        "This example illustrates how the User can create a Kronecker covariance function, which allows defining a multivariate covariance function with a specific covariance structure.\n\nFor that purpose, a spatial covariance matrix $\\mat{C}^{stat}$ is needed in addition to a scalar correlation function $\\rho$.\n\n We recall that the Kronecker covariance model is defined by\n\n\\begin{align}C(\\vect{s}, \\vect{t}) = \\rho\\left(\\dfrac{\\vect{s}}{\\theta}, \\dfrac{\\vect{t}}{\\theta}\\right) C^{stat}\\end{align}\n\nwhere the output covariance matrix $C^{stat}$ is given by\n\n\\begin{align}C^{stat} = \\mbox{Diag}(\\vect{\\sigma}) \\, \\mat{R} \\,  \\mbox{Diag}(\\vect{\\sigma}).\\end{align}\n\n\n$\\vect{\\sigma}$ and $\\vect{\\theta}$ are respectively the amplitude and scale vectors.\n\nThe library implements this multivariate model thanks to the *KroneckerCovarianceModel* class which can be instanciated from:\n\n\n- the correlation function and amplitude vectors $(\\rho, \\vect{\\sigma})$: in that case, by default $\\mat{R} = \\mat{I}$;\n- the correlation function, the amplitude vector and the spatial correlation matrix $(\\rho, \\vect{\\sigma}, \\mat{R})$;\n- the correlation function, the amplitude vector and the spatial covariance matrix $(\\rho, \\vect{\\sigma}, \\mat{C})$;\n\n\n"
      ]
    },
    {
      "cell_type": "code",
      "execution_count": null,
      "metadata": {
        "collapsed": false
      },
      "outputs": [],
      "source": [
        "from __future__ import print_function\nimport openturns as ot\nimport openturns.viewer as viewer\nfrom matplotlib import pylab as plt\nimport math as m\not.Log.Show(ot.Log.NONE)"
      ]
    },
    {
      "cell_type": "markdown",
      "metadata": {},
      "source": [
        "Scale vector (input dimension 1)\n\n"
      ]
    },
    {
      "cell_type": "code",
      "execution_count": null,
      "metadata": {
        "collapsed": false
      },
      "outputs": [],
      "source": [
        "theta = [4.0]\n\n# Create the rho function\nrho = ot.MaternModel(theta, 1.5)\n\n# Create the amplitude vector (output dimension 2)\nsigma = [1.0, 2.0]\n\n# output correlation\nR = ot.CorrelationMatrix(2)\nR[1, 0] = 0.01\n\n# output covariance\nC = ot.CovarianceMatrix(2)\nC[0, 0] = 4.0\nC[1, 1] = 5.0\nC[1, 0] = 0.5"
      ]
    },
    {
      "cell_type": "markdown",
      "metadata": {},
      "source": [
        "Create the covariance model from the amplitude and correlation, no spatial correlation\n\n"
      ]
    },
    {
      "cell_type": "code",
      "execution_count": null,
      "metadata": {
        "collapsed": false
      },
      "outputs": [],
      "source": [
        "ot.KroneckerCovarianceModel(rho, sigma)"
      ]
    },
    {
      "cell_type": "markdown",
      "metadata": {},
      "source": [
        "or from the correlation function, amplitude, and spatialCovariance\n\n"
      ]
    },
    {
      "cell_type": "code",
      "execution_count": null,
      "metadata": {
        "collapsed": false
      },
      "outputs": [],
      "source": [
        "ot.KroneckerCovarianceModel(rho, sigma, R)"
      ]
    },
    {
      "cell_type": "markdown",
      "metadata": {},
      "source": [
        "or from the correlation model and spatialCovariance\n\n"
      ]
    },
    {
      "cell_type": "code",
      "execution_count": null,
      "metadata": {
        "collapsed": false
      },
      "outputs": [],
      "source": [
        "ot.KroneckerCovarianceModel(rho, C)"
      ]
    }
  ],
  "metadata": {
    "kernelspec": {
      "display_name": "Python 3",
      "language": "python",
      "name": "python3"
    },
    "language_info": {
      "codemirror_mode": {
        "name": "ipython",
        "version": 3
      },
      "file_extension": ".py",
      "mimetype": "text/x-python",
      "name": "python",
      "nbconvert_exporter": "python",
      "pygments_lexer": "ipython3",
      "version": "3.9.2"
    }
  },
  "nbformat": 4,
  "nbformat_minor": 0
}