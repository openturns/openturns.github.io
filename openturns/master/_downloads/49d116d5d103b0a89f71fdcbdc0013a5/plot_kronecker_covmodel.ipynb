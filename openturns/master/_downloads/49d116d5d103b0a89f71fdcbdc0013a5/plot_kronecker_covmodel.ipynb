{
  "cells": [
    {
      "cell_type": "code",
      "execution_count": null,
      "metadata": {
        "collapsed": false
      },
      "outputs": [],
      "source": [
        "%matplotlib inline"
      ]
    },
    {
      "cell_type": "markdown",
      "metadata": {},
      "source": [
        "\n# Sample trajectories from a Gaussian Process with correlated outputs\n\nA :class:`~openturns.KroneckerCovarianceModel` takes a covariance function\nwith 1-d output and makes its output multidimensional.\n\nIn this example, we use one to define a Gaussian Process with 2 correlated scalar outputs.\n\nFor that purpose, a covariance matrix for the outputs is needed\nin addition to a scalar correlation function $\\rho$.\n"
      ]
    },
    {
      "cell_type": "code",
      "execution_count": null,
      "metadata": {
        "collapsed": false
      },
      "outputs": [],
      "source": [
        "import openturns as ot\nimport openturns.viewer as viewer\nfrom numpy import square\not.Log.Show(ot.Log.NONE)"
      ]
    },
    {
      "cell_type": "markdown",
      "metadata": {},
      "source": [
        "## Create a Kronecker covariance function\n\nFirst, define the scalar correlation function $\\rho$.\n\n"
      ]
    },
    {
      "cell_type": "code",
      "execution_count": null,
      "metadata": {
        "collapsed": false
      },
      "outputs": [],
      "source": [
        "theta = [2.0]\nrho = ot.MaternModel(theta, 1.5)"
      ]
    },
    {
      "cell_type": "markdown",
      "metadata": {},
      "source": [
        "Second, define the covariance matrix of the outputs.\n\n"
      ]
    },
    {
      "cell_type": "code",
      "execution_count": null,
      "metadata": {
        "collapsed": false
      },
      "outputs": [],
      "source": [
        "C = ot.CovarianceMatrix(2)\nC[0, 0] = 1.0\nC[1, 1] = 1.5\nC[1, 0] = 0.9\nprint(C)"
      ]
    },
    {
      "cell_type": "markdown",
      "metadata": {},
      "source": [
        "Use these ingredients to build the :class:`~openturns.KroneckerCovarianceModel`.\n\n"
      ]
    },
    {
      "cell_type": "code",
      "execution_count": null,
      "metadata": {
        "collapsed": false
      },
      "outputs": [],
      "source": [
        "kronecker = ot.KroneckerCovarianceModel(rho, C)"
      ]
    },
    {
      "cell_type": "markdown",
      "metadata": {},
      "source": [
        "## Build a Gaussian Process with Kronecker covariance function\n\nDefine a :class:`~openturns.GaussianProcess` with null trend using this covariance function.\n\n"
      ]
    },
    {
      "cell_type": "code",
      "execution_count": null,
      "metadata": {
        "collapsed": false
      },
      "outputs": [],
      "source": [
        "gp = ot.GaussianProcess(kronecker, ot.RegularGrid(0.0, 0.1, 100))"
      ]
    },
    {
      "cell_type": "markdown",
      "metadata": {},
      "source": [
        "Sample and draw a realization of the Gaussian process.\n\n"
      ]
    },
    {
      "cell_type": "code",
      "execution_count": null,
      "metadata": {
        "collapsed": false
      },
      "outputs": [],
      "source": [
        "ot.RandomGenerator.SetSeed(5)\nrealization = gp.getRealization()\ngraph = realization.drawMarginal(0)\ngraph.add(realization.drawMarginal(1))\ngraph.setYTitle(\"\")\ngraph.setTitle(\"\")\ngraph.setColors(ot.Drawable.BuildDefaultPalette(2))\ngraph.setLegends([\"Y1\", \"Y2\"])\ngraph.setLegendPosition(\"topleft\")\n_ = viewer.View(graph)"
      ]
    },
    {
      "cell_type": "markdown",
      "metadata": {},
      "source": [
        "Draw the trajectory on the complex plane.\n\n"
      ]
    },
    {
      "cell_type": "code",
      "execution_count": null,
      "metadata": {
        "collapsed": false
      },
      "outputs": [],
      "source": [
        "graph = realization.draw()\ngraph.setXTitle(\"Real part\")\ngraph.setYTitle(\"Imaginary part\")\ngraph.setTitle(\"Trajectory on the complex plane\")\ndiagonal = ot.Curve([-1.5, 1.5], [-1.5, 1.5])\ndiagonal.setLineStyle(\"dotdash\")\ndiagonal.setColor(\"grey\")\ngraph.add(diagonal)\n_ = viewer.View(graph, square_axes=True)"
      ]
    },
    {
      "cell_type": "markdown",
      "metadata": {},
      "source": [
        "## Change the correlation between the outputs\n\nBy setting covariance matrix of the outputs, we have implicitely set the\namplitudes and the correlation matrix of the Kronecker covariance function.\n\nThe amplitudes are the square roots of the diagonal elements\nof the covariance matrix.\n\n"
      ]
    },
    {
      "cell_type": "code",
      "execution_count": null,
      "metadata": {
        "collapsed": false
      },
      "outputs": [],
      "source": [
        "# Recall C\nprint(C)"
      ]
    },
    {
      "cell_type": "code",
      "execution_count": null,
      "metadata": {
        "collapsed": false
      },
      "outputs": [],
      "source": [
        "# Print squared amplitudes\nprint(square(kronecker.getAmplitude()))"
      ]
    },
    {
      "cell_type": "markdown",
      "metadata": {},
      "source": [
        "The diagonal of the correlation matrix is by definition filled with ones.\n\n"
      ]
    },
    {
      "cell_type": "code",
      "execution_count": null,
      "metadata": {
        "collapsed": false
      },
      "outputs": [],
      "source": [
        "output_correlation = kronecker.getOutputCorrelation()\nprint(output_correlation)"
      ]
    },
    {
      "cell_type": "markdown",
      "metadata": {},
      "source": [
        "Since the correlation matrix is symmetric\nand its diagonal necessarily contains ones,\nwe only need to change its upper right (or bottom left) element.\n\n"
      ]
    },
    {
      "cell_type": "code",
      "execution_count": null,
      "metadata": {
        "collapsed": false
      },
      "outputs": [],
      "source": [
        "output_correlation[0, 1] = 0.9\nprint(output_correlation)"
      ]
    },
    {
      "cell_type": "markdown",
      "metadata": {},
      "source": [
        "Changing the output correlation matrix does not change the amplitudes.\n\n"
      ]
    },
    {
      "cell_type": "code",
      "execution_count": null,
      "metadata": {
        "collapsed": false
      },
      "outputs": [],
      "source": [
        "kronecker.setOutputCorrelation(output_correlation)\nprint(square(kronecker.getAmplitude()))"
      ]
    },
    {
      "cell_type": "markdown",
      "metadata": {},
      "source": [
        "Let us resample a trajectory.\n\nTo show the effect ot the output correlation change,\nwe use the same random seed in order to get a comparable trajectory.\n\n"
      ]
    },
    {
      "cell_type": "code",
      "execution_count": null,
      "metadata": {
        "collapsed": false
      },
      "outputs": [],
      "source": [
        "gp = ot.GaussianProcess(kronecker, ot.RegularGrid(0.0, 0.1, 100))\not.RandomGenerator.SetSeed(5)\nrealization = gp.getRealization()\ngraph = realization.drawMarginal(0)\ngraph.add(realization.drawMarginal(1))\ngraph.setYTitle(\"\")\ngraph.setTitle(\"\")\ngraph.setColors(ot.Drawable.BuildDefaultPalette(2))\ngraph.setLegends([\"Y1\", \"Y2\"])\ngraph.setLegendPosition(\"topleft\")\n_ = viewer.View(graph)"
      ]
    },
    {
      "cell_type": "code",
      "execution_count": null,
      "metadata": {
        "collapsed": false
      },
      "outputs": [],
      "source": [
        "graph = realization.draw()\ngraph.setXTitle(\"Real part\")\ngraph.setYTitle(\"Imaginary part\")\ngraph.setTitle(\"Trajectory on the complex plane\")\ndiagonal = ot.Curve([-1.5, 1.5], [-1.5, 1.5])\ndiagonal.setLineStyle(\"dotdash\")\ndiagonal.setColor(\"grey\")\ngraph.add(diagonal)\n_ = viewer.View(graph, square_axes=True)"
      ]
    }
  ],
  "metadata": {
    "kernelspec": {
      "display_name": "Python 3",
      "language": "python",
      "name": "python3"
    },
    "language_info": {
      "codemirror_mode": {
        "name": "ipython",
        "version": 3
      },
      "file_extension": ".py",
      "mimetype": "text/x-python",
      "name": "python",
      "nbconvert_exporter": "python",
      "pygments_lexer": "ipython3",
      "version": "3.9.4"
    }
  },
  "nbformat": 4,
  "nbformat_minor": 0
}