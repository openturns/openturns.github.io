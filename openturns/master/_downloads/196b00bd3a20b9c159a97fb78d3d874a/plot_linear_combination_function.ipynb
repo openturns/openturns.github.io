{
  "cells": [
    {
      "cell_type": "markdown",
      "metadata": {},
      "source": [
        "\n# Create a linear combination of functions\n"
      ]
    },
    {
      "cell_type": "markdown",
      "metadata": {},
      "source": [
        "In this example we are going to build a linear combination of several functions.\n\n\\begin{align}f = \\sum \\alpha_i f_i\\end{align}\n\nHere\n\n\\begin{align}f_1(x) = [x_1^2+x_2,x_1+x_2+x_3]\n   f_2(x) = [x_1 + 2 * x_2 + x_3,x_1+x_2+x_3]\\end{align}\n\nwith coefficients\n\n\\begin{align}a_1 = 2, a_2 = 4\\end{align}\n\n\n"
      ]
    },
    {
      "cell_type": "code",
      "execution_count": null,
      "metadata": {
        "collapsed": false
      },
      "outputs": [],
      "source": [
        "import openturns as ot\n\not.Log.Show(ot.Log.NONE)"
      ]
    },
    {
      "cell_type": "markdown",
      "metadata": {},
      "source": [
        "assume a list of functions to combine\n\n"
      ]
    },
    {
      "cell_type": "code",
      "execution_count": null,
      "metadata": {
        "collapsed": false
      },
      "outputs": [],
      "source": [
        "functions = list()\nfunctions.append(ot.SymbolicFunction([\"x1\", \"x2\", \"x3\"], [\"x1^2 + x2\", \"x1 + x2 + x3\"]))\nfunctions.append(\n    ot.SymbolicFunction([\"x1\", \"x2\", \"x3\"], [\"x1 + 2 * x2 + x3\", \"x1 + x2 - x3\"])\n)"
      ]
    },
    {
      "cell_type": "markdown",
      "metadata": {},
      "source": [
        "create the combination function\n\n"
      ]
    },
    {
      "cell_type": "code",
      "execution_count": null,
      "metadata": {
        "collapsed": false
      },
      "outputs": [],
      "source": [
        "coefficients = [2.0, 4.0]\nfunction = ot.LinearCombinationFunction(functions, coefficients)"
      ]
    },
    {
      "cell_type": "markdown",
      "metadata": {},
      "source": [
        "evaluate the function\n\n"
      ]
    },
    {
      "cell_type": "code",
      "execution_count": null,
      "metadata": {
        "collapsed": false
      },
      "outputs": [],
      "source": [
        "x = [1.0, 2.0, 3.0]\ny = function(x)\nprint(\"x=\", x, \"y=\", y)"
      ]
    }
  ],
  "metadata": {
    "kernelspec": {
      "display_name": "Python 3",
      "language": "python",
      "name": "python3"
    },
    "language_info": {
      "codemirror_mode": {
        "name": "ipython",
        "version": 3
      },
      "file_extension": ".py",
      "mimetype": "text/x-python",
      "name": "python",
      "nbconvert_exporter": "python",
      "pygments_lexer": "ipython3",
      "version": "3.12.5"
    }
  },
  "nbformat": 4,
  "nbformat_minor": 0
}