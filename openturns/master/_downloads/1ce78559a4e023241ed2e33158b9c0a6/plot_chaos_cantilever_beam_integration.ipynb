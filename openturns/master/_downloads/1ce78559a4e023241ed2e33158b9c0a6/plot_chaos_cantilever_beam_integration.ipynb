{
  "cells": [
    {
      "cell_type": "code",
      "execution_count": null,
      "metadata": {
        "collapsed": false
      },
      "outputs": [],
      "source": [
        "%matplotlib inline"
      ]
    },
    {
      "cell_type": "markdown",
      "metadata": {},
      "source": [
        "\n# Create a polynomial chaos metamodel by integration on the cantilever beam\n"
      ]
    },
    {
      "cell_type": "markdown",
      "metadata": {},
      "source": [
        "In this example, we create a polynomial chaos metamodel by integration on the\n`cantilever beam <use-case-cantilever-beam>` example.\nWe choose to evaluate the coefficients of the chaos decomposition by\nintegration using various kinds of design of experiment:\n\n- Gauss product\n- Latin hypercube sampling\n- Quasi Monte Carlo with a Sobol' sequence\n\nWe will compare the results obtained on each design.\n\n"
      ]
    },
    {
      "cell_type": "code",
      "execution_count": null,
      "metadata": {
        "collapsed": false
      },
      "outputs": [],
      "source": [
        "from openturns.usecases import cantilever_beam\nimport openturns as ot\nimport openturns.viewer as otv\n\not.Log.Show(ot.Log.NONE)"
      ]
    },
    {
      "cell_type": "markdown",
      "metadata": {},
      "source": [
        "We first load the model from the usecases module :\n\n"
      ]
    },
    {
      "cell_type": "code",
      "execution_count": null,
      "metadata": {
        "collapsed": false
      },
      "outputs": [],
      "source": [
        "cb = cantilever_beam.CantileverBeam()"
      ]
    },
    {
      "cell_type": "markdown",
      "metadata": {},
      "source": [
        "In this example we consider all marginals independent.\nThey are defined in the :class:`~openturns.usecases.cantilever_beam.CantileverBeam`  class:\n\n"
      ]
    },
    {
      "cell_type": "code",
      "execution_count": null,
      "metadata": {
        "collapsed": false
      },
      "outputs": [],
      "source": [
        "dist_E = cb.E\ndist_F = cb.F\ndist_L = cb.L\ndist_I = cb.II\ndistribution = cb.independentDistribution"
      ]
    },
    {
      "cell_type": "markdown",
      "metadata": {},
      "source": [
        "We load the model.\n\n"
      ]
    },
    {
      "cell_type": "code",
      "execution_count": null,
      "metadata": {
        "collapsed": false
      },
      "outputs": [],
      "source": [
        "dim_input = cb.dim  # dimension of the input\ndim_output = 1  # dimension of the output\ng = cb.model"
      ]
    },
    {
      "cell_type": "markdown",
      "metadata": {},
      "source": [
        "## Create a polynomial chaos decomposition\n\n"
      ]
    },
    {
      "cell_type": "markdown",
      "metadata": {},
      "source": [
        "We create the multivariate polynomial basis by tensorization of the\nunivariate polynomials and the default linear enumerate rule.\n\n"
      ]
    },
    {
      "cell_type": "code",
      "execution_count": null,
      "metadata": {
        "collapsed": false
      },
      "outputs": [],
      "source": [
        "multivariateBasis = ot.OrthogonalProductPolynomialFactory(\n    [dist_E, dist_F, dist_L, dist_I]\n)"
      ]
    },
    {
      "cell_type": "markdown",
      "metadata": {},
      "source": [
        "In this case, we select `P` using the\n:meth:`~openturns.EnumerateFunction.getBasisSizeFromTotalDegree` method,\nso that all polynomials with total degree lower or equal to 5 are used.\nThis will lead to the computation of 126 coefficients.\n\n"
      ]
    },
    {
      "cell_type": "code",
      "execution_count": null,
      "metadata": {
        "collapsed": false
      },
      "outputs": [],
      "source": [
        "totalDegree = 5\nenum_func = multivariateBasis.getEnumerateFunction()\nP = enum_func.getBasisSizeFromTotalDegree(totalDegree)\nprint(f\"P={P}\")"
      ]
    },
    {
      "cell_type": "markdown",
      "metadata": {},
      "source": [
        "We select the :class:`~openturns.FixedStrategy` truncation rule, which corresponds to using\nthe first `P` polynomials of the polynomial basis.\n\n"
      ]
    },
    {
      "cell_type": "code",
      "execution_count": null,
      "metadata": {
        "collapsed": false
      },
      "outputs": [],
      "source": [
        "adaptiveStrategy = ot.FixedStrategy(multivariateBasis, P)"
      ]
    },
    {
      "cell_type": "markdown",
      "metadata": {},
      "source": [
        "We begin by getting the standard measure associated with the multivariate polynomial basis.\nWe see that the range of the `Beta` distribution has been standardized into the [-1,1] interval.\nThis is the same for the `Uniform` distribution and the second `Beta` distribution.\n\n"
      ]
    },
    {
      "cell_type": "code",
      "execution_count": null,
      "metadata": {
        "collapsed": false
      },
      "outputs": [],
      "source": [
        "measure = multivariateBasis.getMeasure()\nprint(f\"measure={measure}\")"
      ]
    },
    {
      "cell_type": "markdown",
      "metadata": {},
      "source": [
        "The choice of the :class:`~openturns.GaussProductExperiment` rule with 4 nodes\nin each of the 4 dimensions leads to $4^4=256$ evaluations of the model.\n\n"
      ]
    },
    {
      "cell_type": "code",
      "execution_count": null,
      "metadata": {
        "collapsed": false
      },
      "outputs": [],
      "source": [
        "marginalSizes = [4] * dim_input\nexperiment = ot.GaussProductExperiment(distribution, marginalSizes)\nprint(f\"N={experiment.getSize()}\")\nX, W = experiment.generateWithWeights()\nY = g(X)"
      ]
    },
    {
      "cell_type": "markdown",
      "metadata": {},
      "source": [
        "We now set the method used to compute the coefficients; we select the integration method.\n\n"
      ]
    },
    {
      "cell_type": "code",
      "execution_count": null,
      "metadata": {
        "collapsed": false
      },
      "outputs": [],
      "source": [
        "projectionStrategy = ot.IntegrationStrategy()"
      ]
    },
    {
      "cell_type": "markdown",
      "metadata": {},
      "source": [
        "We can now create the functional chaos.\n\n"
      ]
    },
    {
      "cell_type": "code",
      "execution_count": null,
      "metadata": {
        "collapsed": false
      },
      "outputs": [],
      "source": [
        "algo = ot.FunctionalChaosAlgorithm(\n    X, W, Y, distribution, adaptiveStrategy, projectionStrategy\n)\nalgo.run()"
      ]
    },
    {
      "cell_type": "markdown",
      "metadata": {},
      "source": [
        "Get the result\n\n"
      ]
    },
    {
      "cell_type": "code",
      "execution_count": null,
      "metadata": {
        "collapsed": false
      },
      "outputs": [],
      "source": [
        "result = algo.getResult()"
      ]
    },
    {
      "cell_type": "markdown",
      "metadata": {},
      "source": [
        "The :meth:`~openturns.FunctionalChaosResult.getMetaModel` method returns the metamodel function.\n\n"
      ]
    },
    {
      "cell_type": "code",
      "execution_count": null,
      "metadata": {
        "collapsed": false
      },
      "outputs": [],
      "source": [
        "metamodel = result.getMetaModel()"
      ]
    },
    {
      "cell_type": "markdown",
      "metadata": {},
      "source": [
        "## Validate the metamodel\n\n"
      ]
    },
    {
      "cell_type": "markdown",
      "metadata": {},
      "source": [
        "Generate a new validation sample (which is independent of the training sample).\n\n"
      ]
    },
    {
      "cell_type": "code",
      "execution_count": null,
      "metadata": {
        "collapsed": false
      },
      "outputs": [],
      "source": [
        "n_valid = 1000\nX_test = distribution.getSample(n_valid)\nY_test = g(X_test)"
      ]
    },
    {
      "cell_type": "markdown",
      "metadata": {},
      "source": [
        "The :class:`~openturns.MetaModelValidation` class validates the metamodel\nbased on a validation sample.\n\n"
      ]
    },
    {
      "cell_type": "code",
      "execution_count": null,
      "metadata": {
        "collapsed": false
      },
      "outputs": [],
      "source": [
        "val = ot.MetaModelValidation(X_test, Y_test, metamodel)"
      ]
    },
    {
      "cell_type": "markdown",
      "metadata": {},
      "source": [
        "Compute the $Q^2$ predictivity coefficient.\n\n"
      ]
    },
    {
      "cell_type": "code",
      "execution_count": null,
      "metadata": {
        "collapsed": false
      },
      "outputs": [],
      "source": [
        "Q2 = val.computePredictivityFactor()[0]\nQ2"
      ]
    },
    {
      "cell_type": "markdown",
      "metadata": {},
      "source": [
        "Plot the observed versus the predicted outputs.\n\n"
      ]
    },
    {
      "cell_type": "code",
      "execution_count": null,
      "metadata": {
        "collapsed": false
      },
      "outputs": [],
      "source": [
        "graph = val.drawValidation()\ngraph.setTitle(f\"Gauss product N={experiment.getSize()} - Q2={Q2*100:.2f}\")\nview = otv.View(graph)"
      ]
    },
    {
      "cell_type": "markdown",
      "metadata": {},
      "source": [
        "Now repeat the same process on various designs.\n\n"
      ]
    },
    {
      "cell_type": "code",
      "execution_count": null,
      "metadata": {
        "collapsed": false
      },
      "outputs": [],
      "source": [
        "def draw_validation(experiment):\n    projectionStrategy = ot.IntegrationStrategy(experiment)\n    algo = ot.FunctionalChaosAlgorithm(\n        X, Y, distribution, adaptiveStrategy, projectionStrategy\n    )\n    algo.run()\n    result = algo.getResult()\n    metamodel = result.getMetaModel()\n    X_test = distribution.getSample(n_valid)\n    Y_test = g(X_test)\n    val = ot.MetaModelValidation(X_test, Y_test, metamodel)\n    Q2 = val.computePredictivityFactor()[0]\n    graph = val.drawValidation()\n    graph.setTitle(\n        f\"{experiment.__class__.__name__} - N={experiment.getSize()} - Q2={Q2*100:.2f}\"\n    )\n    return graph"
      ]
    },
    {
      "cell_type": "markdown",
      "metadata": {},
      "source": [
        "Use an LHS design.\n\n"
      ]
    },
    {
      "cell_type": "code",
      "execution_count": null,
      "metadata": {
        "collapsed": false
      },
      "outputs": [],
      "source": [
        "experiment = ot.LHSExperiment(distribution, int(1e6))\ngraph = draw_validation(experiment)\nview = otv.View(graph)"
      ]
    },
    {
      "cell_type": "markdown",
      "metadata": {},
      "source": [
        "Use a low-discrepancy experiment (Quasi-Monte Carlo).\n\n"
      ]
    },
    {
      "cell_type": "code",
      "execution_count": null,
      "metadata": {
        "collapsed": false
      },
      "outputs": [],
      "source": [
        "sequence = ot.SobolSequence()\nexperiment = ot.LowDiscrepancyExperiment(sequence, distribution, int(1e5))\ngraph = draw_validation(experiment)\nview = otv.View(graph)\n\notv.View.ShowAll()"
      ]
    },
    {
      "cell_type": "markdown",
      "metadata": {},
      "source": [
        "## Conclusion\nWith the Gauss product rule the coefficients are particularily well computed\nsince the Q2 coefficient is excellent, even with the relatively limited amount\nof simulation (256 points).\nOn the other hand the LHS and low-discrepancy experiments require many more\npoints to achieve a Q2>99%.\n\n"
      ]
    }
  ],
  "metadata": {
    "kernelspec": {
      "display_name": "Python 3",
      "language": "python",
      "name": "python3"
    },
    "language_info": {
      "codemirror_mode": {
        "name": "ipython",
        "version": 3
      },
      "file_extension": ".py",
      "mimetype": "text/x-python",
      "name": "python",
      "nbconvert_exporter": "python",
      "pygments_lexer": "ipython3",
      "version": "3.10.7"
    }
  },
  "nbformat": 4,
  "nbformat_minor": 0
}