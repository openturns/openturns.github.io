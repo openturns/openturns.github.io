{
  "cells": [
    {
      "cell_type": "markdown",
      "metadata": {},
      "source": [
        "\n# Logistic growth model\n"
      ]
    },
    {
      "cell_type": "markdown",
      "metadata": {},
      "source": [
        "In this example, we use the `logistic growth model <use-case-logistic>` in order to show\nhow to define a function which has a vector input and a field output.\nWe use the `OpenTURNSPythonPointToFieldFunction` class to define the derived class and its methods.\n\n"
      ]
    },
    {
      "cell_type": "markdown",
      "metadata": {},
      "source": [
        "## Define the model\n\n"
      ]
    },
    {
      "cell_type": "code",
      "execution_count": null,
      "metadata": {
        "collapsed": false
      },
      "outputs": [],
      "source": [
        "from openturns.usecases import logistic_model\nimport openturns as ot\nimport openturns.viewer as viewer\nfrom matplotlib import pylab as plt\n\not.Log.Show(ot.Log.NONE)"
      ]
    },
    {
      "cell_type": "markdown",
      "metadata": {},
      "source": [
        "We load the logistic model from the usecases module :\n\n"
      ]
    },
    {
      "cell_type": "code",
      "execution_count": null,
      "metadata": {
        "collapsed": false
      },
      "outputs": [],
      "source": [
        "lm = logistic_model.LogisticModel()"
      ]
    },
    {
      "cell_type": "markdown",
      "metadata": {},
      "source": [
        "We get the data from the LogisticModel data class (22 dates with population) :\n\n"
      ]
    },
    {
      "cell_type": "code",
      "execution_count": null,
      "metadata": {
        "collapsed": false
      },
      "outputs": [],
      "source": [
        "ustime = lm.data.getMarginal(0)\nuspop = lm.data.getMarginal(1)"
      ]
    },
    {
      "cell_type": "markdown",
      "metadata": {},
      "source": [
        "We get the input parameters distribution distX :\n\n"
      ]
    },
    {
      "cell_type": "code",
      "execution_count": null,
      "metadata": {
        "collapsed": false
      },
      "outputs": [],
      "source": [
        "distX = lm.distX"
      ]
    },
    {
      "cell_type": "markdown",
      "metadata": {},
      "source": [
        "We define the model :\n\n"
      ]
    },
    {
      "cell_type": "code",
      "execution_count": null,
      "metadata": {
        "collapsed": false
      },
      "outputs": [],
      "source": [
        "class Popu(ot.OpenTURNSPythonPointToFieldFunction):\n    def __init__(self, t0=1790.0, tfinal=2000.0, nt=1000):\n        grid = ot.RegularGrid(t0, (tfinal - t0) / (nt - 1), nt)\n        super(Popu, self).__init__(3, grid, 1)\n        self.setInputDescription([\"y0\", \"a\", \"b\"])\n        self.setOutputDescription([\"N\"])\n        self.ticks_ = [t[0] for t in grid.getVertices()]\n        self.phi_ = ot.SymbolicFunction([\"t\", \"y\", \"a\", \"b\"], [\"a*y - b*y^2\"])\n\n    def _exec(self, X):\n        y0 = X[0]\n        a = X[1]\n        b = X[2]\n        phi_ab = ot.ParametricFunction(self.phi_, [2, 3], [a, b])\n        phi_t = ot.ParametricFunction(phi_ab, [0], [0.0])\n        solver = ot.RungeKutta(phi_t)\n        initialState = [y0]\n        values = solver.solve(initialState, self.ticks_)\n        return values * [1.0e-6]\n\n\nF = Popu(1790.0, 2000.0, 1000)\npopu = ot.PointToFieldFunction(F)"
      ]
    },
    {
      "cell_type": "markdown",
      "metadata": {},
      "source": [
        "## Generate a sample from the model\n\n"
      ]
    },
    {
      "cell_type": "markdown",
      "metadata": {},
      "source": [
        "Sample from the model\n\n"
      ]
    },
    {
      "cell_type": "code",
      "execution_count": null,
      "metadata": {
        "collapsed": false
      },
      "outputs": [],
      "source": [
        "size = 10\ninputSample = distX.getSample(size)\noutputSample = popu(inputSample)"
      ]
    },
    {
      "cell_type": "code",
      "execution_count": null,
      "metadata": {
        "collapsed": false
      },
      "outputs": [],
      "source": [
        "ot.ResourceMap.SetAsUnsignedInteger(\"Drawable-DefaultPalettePhase\", size)"
      ]
    },
    {
      "cell_type": "markdown",
      "metadata": {},
      "source": [
        "Draw some curves\n\n"
      ]
    },
    {
      "cell_type": "code",
      "execution_count": null,
      "metadata": {
        "collapsed": false
      },
      "outputs": [],
      "source": [
        "graph = outputSample.drawMarginal(0)\ngraph.setTitle(\"US population\")\ngraph.setXTitle(r\"$t$ (years)\")\ngraph.setYTitle(r\"$N$ (millions)\")\ncloud = ot.Cloud(ustime, uspop)\ncloud.setPointStyle(\"circle\")\ncloud.setLegend(\"Data\")\ngraph.add(cloud)\ngraph.setLegendPosition(\"upper left\")\nview = viewer.View(graph)\nplt.show()"
      ]
    },
    {
      "cell_type": "markdown",
      "metadata": {},
      "source": [
        "Reset default settings\n\n"
      ]
    },
    {
      "cell_type": "code",
      "execution_count": null,
      "metadata": {
        "collapsed": false
      },
      "outputs": [],
      "source": [
        "ot.ResourceMap.Reload()"
      ]
    }
  ],
  "metadata": {
    "kernelspec": {
      "display_name": "Python 3",
      "language": "python",
      "name": "python3"
    },
    "language_info": {
      "codemirror_mode": {
        "name": "ipython",
        "version": 3
      },
      "file_extension": ".py",
      "mimetype": "text/x-python",
      "name": "python",
      "nbconvert_exporter": "python",
      "pygments_lexer": "ipython3",
      "version": "3.11.7"
    }
  },
  "nbformat": 4,
  "nbformat_minor": 0
}