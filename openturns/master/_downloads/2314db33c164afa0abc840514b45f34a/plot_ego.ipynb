{
  "cells": [
    {
      "cell_type": "code",
      "execution_count": null,
      "metadata": {
        "collapsed": false
      },
      "outputs": [],
      "source": [
        "%matplotlib inline"
      ]
    },
    {
      "cell_type": "markdown",
      "metadata": {},
      "source": [
        "\n# EfficientGlobalOptimization examples\n"
      ]
    },
    {
      "cell_type": "markdown",
      "metadata": {},
      "source": [
        "The EGO algorithm (Jones, 1998) is an adaptative optimization method based on\nkriging.\n\nAn initial design of experiment is used to build a first metamodel.\nAt each iteration a new point that maximizes a criterion is chosen as\noptimizer candidate.\n\nThe criterion uses a tradeoff between the metamodel value and the conditional\nvariance.\n\nThen the new point is evaluated using the original model and the metamodel is\nrelearnt on the extended design of experiment.\n\n"
      ]
    },
    {
      "cell_type": "markdown",
      "metadata": {},
      "source": [
        "## Ackley test-case\n\n### Introduction\n\nThe Ackley test case is a real function defined in dimension $d$ where $d$ is an integer. \n\nThe Ackley function is defined by the equation:\n\n\\begin{align}f(\\mathbf{x}) = -a \\exp\\left(-b\\sqrt{\\frac{1}{d}\\sum_{i=1}^d}x_i^2\\right)-\\exp\\left(\\frac{1}{d}\\sum_{i=1}^d \\cos(c x_i)\\right)+a+\\exp(1)\\end{align}\n\n\nfor any $\\mathbf{x} \\in [-15,15]^d$. However, we consider the smaller interval $[-4,4]^d$ in this example, for visual purposes.\n\nWe use the dimension $d=2$ with the parameters $a=20$, $b=0.2$, $c=2\\pi$. \n\nThe solution is \n\n\\begin{align}\\mathbf{x}^\\star=(0,0,...,0)\\end{align}\n\n\nwhere \n\n\\begin{align}f_{min} = f(\\mathbf{x}^\\star) = 0.\\end{align}\n\n\n"
      ]
    },
    {
      "cell_type": "markdown",
      "metadata": {},
      "source": [
        "### Define the problem\n\n"
      ]
    },
    {
      "cell_type": "code",
      "execution_count": null,
      "metadata": {
        "collapsed": false
      },
      "outputs": [],
      "source": [
        "import openturns as ot\nimport openturns.viewer as viewer\nfrom matplotlib import pylab as plt\nimport math as m\not.ResourceMap.SetAsString(\"KrigingAlgorithm-LinearAlgebra\",  \"LAPACK\")\not.Log.Show(ot.Log.NONE)"
      ]
    },
    {
      "cell_type": "code",
      "execution_count": null,
      "metadata": {
        "collapsed": false
      },
      "outputs": [],
      "source": [
        "dim = 2\n\n# model\ndef ackley(X):\n    a = 20.0\n    b = 0.2\n    c = 2.0 * m.pi\n    d = len(X)\n    sumOfSquared = sum(x**2 for x in X) / d\n    sumOfCos = sum(m.cos(c * x) for x in X) / d\n    f = - a * m.exp(- b * m.sqrt(sumOfSquared)) \\\n        - m.exp(sumOfCos) + a + m.exp(1.0)\n    return [f]\n\nmodel = ot.PythonFunction(dim, 1, ackley)"
      ]
    },
    {
      "cell_type": "code",
      "execution_count": null,
      "metadata": {
        "collapsed": false
      },
      "outputs": [],
      "source": [
        "lowerbound = ot.Point([-4.0] * dim)\nupperbound = ot.Point([4.0] * dim)"
      ]
    },
    {
      "cell_type": "code",
      "execution_count": null,
      "metadata": {
        "collapsed": false
      },
      "outputs": [],
      "source": [
        "xexact = [0.0] * dim"
      ]
    },
    {
      "cell_type": "code",
      "execution_count": null,
      "metadata": {
        "collapsed": false
      },
      "outputs": [],
      "source": [
        "fexact = model(xexact)\nfexact"
      ]
    },
    {
      "cell_type": "code",
      "execution_count": null,
      "metadata": {
        "collapsed": false
      },
      "outputs": [],
      "source": [
        "graph = model.draw(lowerbound, upperbound, [100]*dim)\ngraph.setTitle(\"Ackley function\")\nview = viewer.View(graph)"
      ]
    },
    {
      "cell_type": "markdown",
      "metadata": {},
      "source": [
        "We see that the Ackley function has many local minimas. The global minimum, however, is unique and located at the center of the domain. \n\n"
      ]
    },
    {
      "cell_type": "markdown",
      "metadata": {},
      "source": [
        "### Create the initial kriging\n\nBefore using the EGO algorithm, we must create an initial kriging. In order to do this, we must create a design of experiment which fills the space. In this situation, the `LHSExperiment` is a good place to start (but other design of experiments may allow to better fill the space). We use a uniform distribution in order to create a LHS design with 50 points. \n\n"
      ]
    },
    {
      "cell_type": "code",
      "execution_count": null,
      "metadata": {
        "collapsed": false
      },
      "outputs": [],
      "source": [
        "listUniformDistributions = [ot.Uniform(lowerbound[i], upperbound[i]) for i in range(dim)]\ndistribution = ot.ComposedDistribution(listUniformDistributions)\nsampleSize = 50\nexperiment = ot.LHSExperiment(distribution, sampleSize)\ninputSample = experiment.generate()\noutputSample = model(inputSample)"
      ]
    },
    {
      "cell_type": "code",
      "execution_count": null,
      "metadata": {
        "collapsed": false
      },
      "outputs": [],
      "source": [
        "graph = ot.Graph(\"Initial LHS design of experiment - n=%d\" % (sampleSize), \":math:`x_0`\", \":math:`x_1`\", True)\ncloud = ot.Cloud(inputSample)\ngraph.add(cloud)\nview = viewer.View(graph)"
      ]
    },
    {
      "cell_type": "markdown",
      "metadata": {},
      "source": [
        "We now create the kriging metamodel. We selected the `SquaredExponential` covariance model with a constant basis (the `MaternModel` may perform better in this case). We use default settings (1.0) for the scale parameters of the covariance model, but configure the amplitude to 0.1, which better corresponds to the properties of the Ackley function. \n\n"
      ]
    },
    {
      "cell_type": "code",
      "execution_count": null,
      "metadata": {
        "collapsed": false
      },
      "outputs": [],
      "source": [
        "covarianceModel = ot.SquaredExponential([1.0] * dim, [0.5])\nbasis = ot.ConstantBasisFactory(dim).build()\nkriging = ot.KrigingAlgorithm(inputSample, outputSample, covarianceModel, basis)\nkriging.run()"
      ]
    },
    {
      "cell_type": "markdown",
      "metadata": {},
      "source": [
        "### Create the optimization problem\n\nWe finally create the `OptimizationProblem` and solve it with `EfficientGlobalOptimization`. \n\n"
      ]
    },
    {
      "cell_type": "code",
      "execution_count": null,
      "metadata": {
        "collapsed": false
      },
      "outputs": [],
      "source": [
        "problem = ot.OptimizationProblem()\nproblem.setObjective(model)\nbounds = ot.Interval(lowerbound, upperbound)\nproblem.setBounds(bounds)"
      ]
    },
    {
      "cell_type": "markdown",
      "metadata": {},
      "source": [
        "In order to show the various options, we configure them all, even if most could be left to default settings in this case. \n\nThe most important method is `setMaximumEvaluationNumber` which limits the number of iterations that the algorithm can perform. In the Ackley example, we choose to perform 10 iterations of the algorithm. \n\n"
      ]
    },
    {
      "cell_type": "code",
      "execution_count": null,
      "metadata": {
        "collapsed": false
      },
      "outputs": [],
      "source": [
        "algo = ot.EfficientGlobalOptimization(problem, kriging.getResult())\nalgo.setMaximumEvaluationNumber(10)\nalgo.run()\nresult = algo.getResult()"
      ]
    },
    {
      "cell_type": "code",
      "execution_count": null,
      "metadata": {
        "collapsed": false
      },
      "outputs": [],
      "source": [
        "result.getIterationNumber()"
      ]
    },
    {
      "cell_type": "code",
      "execution_count": null,
      "metadata": {
        "collapsed": false
      },
      "outputs": [],
      "source": [
        "result.getOptimalPoint()"
      ]
    },
    {
      "cell_type": "code",
      "execution_count": null,
      "metadata": {
        "collapsed": false
      },
      "outputs": [],
      "source": [
        "result.getOptimalValue()"
      ]
    },
    {
      "cell_type": "code",
      "execution_count": null,
      "metadata": {
        "collapsed": false
      },
      "outputs": [],
      "source": [
        "fexact"
      ]
    },
    {
      "cell_type": "markdown",
      "metadata": {},
      "source": [
        "Compared to the minimum function value, we see that the EGO algorithm provides solution which is not very accurate. However, the optimal point is in the neighbourhood of the exact solution, and this is quite an impressive success given the limited amount of function evaluations: only 60 evaluations for the initial DOE and 10 iterations of the EGO algorithm, for a total equal to 70 function evaluations. \n\n"
      ]
    },
    {
      "cell_type": "code",
      "execution_count": null,
      "metadata": {
        "collapsed": false
      },
      "outputs": [],
      "source": [
        "result.drawOptimalValueHistory()"
      ]
    },
    {
      "cell_type": "code",
      "execution_count": null,
      "metadata": {
        "collapsed": false
      },
      "outputs": [],
      "source": [
        "inputHistory = result.getInputSample()"
      ]
    },
    {
      "cell_type": "code",
      "execution_count": null,
      "metadata": {
        "collapsed": false
      },
      "outputs": [],
      "source": [
        "graph = model.draw(lowerbound, upperbound, [100]*dim)\ngraph.setLegends([\"\"])\ngraph.setTitle(\"Ackley function. Initial : black bullet. Solution : green diamond.\")\ncloud = ot.Cloud(inputSample)\ncloud.setPointStyle(\"bullet\")\ncloud.setColor(\"black\")\ngraph.add(cloud)\ncloud = ot.Cloud(inputHistory)\ncloud.setPointStyle(\"diamond\")\ncloud.setColor(\"forestgreen\")\ngraph.add(cloud)\nview = viewer.View(graph)"
      ]
    },
    {
      "cell_type": "markdown",
      "metadata": {},
      "source": [
        "We see that the initial (black) points are dispersed in the whole domain, while the solution points are much closer to the solution.\n\nHowever, the final solution produced by the EGO algorithm is not very accurate. This is why we finalize the process by adding a local optimization step. \n\n"
      ]
    },
    {
      "cell_type": "code",
      "execution_count": null,
      "metadata": {
        "collapsed": false
      },
      "outputs": [],
      "source": [
        "algo2 = ot.NLopt(problem, 'LD_LBFGS')\nalgo2.setStartingPoint(result.getOptimalPoint())\nalgo2.run()\nresult = algo2.getResult()"
      ]
    },
    {
      "cell_type": "code",
      "execution_count": null,
      "metadata": {
        "collapsed": false
      },
      "outputs": [],
      "source": [
        "result.getOptimalPoint()"
      ]
    },
    {
      "cell_type": "markdown",
      "metadata": {},
      "source": [
        "The corrected solution is now extremely accurate. \n\n"
      ]
    },
    {
      "cell_type": "code",
      "execution_count": null,
      "metadata": {
        "collapsed": false
      },
      "outputs": [],
      "source": [
        "graph = result.drawOptimalValueHistory()\nview = viewer.View(graph)"
      ]
    },
    {
      "cell_type": "markdown",
      "metadata": {},
      "source": [
        "## Branin test-case\n\n### Introduction\n\nThe Branin function is defined in 2 dimensions based on the functions $g$:\n\n\\begin{align}g(u_1, u_2) = \\frac{\\left(u_2-5.1\\frac{u_1^2}{4\\pi^2}+5\\frac{u_1}{\\pi}-6\\right)^2+10\\left(1-\\frac{1}{8 \\pi}\\right)  \\cos(u_1)+10-54.8104}{51.9496}\\end{align}\n\n\nand $t$:\n\n\\begin{align}t(x_1, x2) = (15 x_1 - 5, 15 x_2)^T.\\end{align}\n\n\nFinally, the Branin function is the composition of the two previous functions:\n\n\\begin{align}f_{Branin}(x_1, x_2) = g \\circ  t(x_1, x_2)\\end{align}\n\n\nfor any $\\mathbf{x} \\in [0, 1]^2$. \n\nThere are three global minimas:\n\n\\begin{align}\\mathbf{x}^\\star=(0.123895, 0.818329),\\end{align}\n\n\n\\begin{align}\\mathbf{x}^\\star=(0.542773, 0.151666),\\end{align}\n\n\nand :\n\n\\begin{align}\\mathbf{x}^\\star=(0.961652, 0.165000)\\end{align}\n\n\nwhere the function value is:\n\n\\begin{align}f_{min} = f_{Branin}(\\mathbf{x}^\\star) = -0.97947643837.\\end{align}\n\n\n\n"
      ]
    },
    {
      "cell_type": "markdown",
      "metadata": {},
      "source": [
        "We assume that the output of the Branin function is noisy, with a gaussian noise. \nIn other words, the objective function is:\n\n\\begin{align}f(x_1, x_2) = f_{Branin}(x_1, x_2) + \\epsilon\\end{align}\n\n\nwhere $\\epsilon$ is a random variable with gaussian distribution. \n\nThis time the AEI formulation is used, meaning that the objective has two outputs: the first one is the objective function value and the second one is the noise variance.\n\nHere we assume a constant noise variance: \n\n\\begin{align}\\sigma_{\\epsilon} = 0.1.\\end{align}\n\n\n"
      ]
    },
    {
      "cell_type": "markdown",
      "metadata": {},
      "source": [
        "### Define the problem\n\n"
      ]
    },
    {
      "cell_type": "code",
      "execution_count": null,
      "metadata": {
        "collapsed": false
      },
      "outputs": [],
      "source": [
        "dim = 2\n\ntrueNoiseFunction = 0.1\n# model\nbranin = ot.SymbolicFunction(['x1', 'x2'], \n                             ['((x2-(5.1/(4*pi_^2))*x1^2+5*x1/pi_-6)^2+10*(1-1/8*pi_)*cos(x1)+10-54.8104)/51.9496', \n                              str(trueNoiseFunction)])\ntransfo = ot.SymbolicFunction(['u1', 'u2'], \n                              ['15*u1-5', '15*u2'])\nmodel = ot.ComposedFunction(branin, transfo)"
      ]
    },
    {
      "cell_type": "code",
      "execution_count": null,
      "metadata": {
        "collapsed": false
      },
      "outputs": [],
      "source": [
        "lowerbound = ot.Point([0.0] * dim)\nupperbound = ot.Point([1.0] * dim)"
      ]
    },
    {
      "cell_type": "code",
      "execution_count": null,
      "metadata": {
        "collapsed": false
      },
      "outputs": [],
      "source": [
        "objectiveFunction = model.getMarginal(0)"
      ]
    },
    {
      "cell_type": "code",
      "execution_count": null,
      "metadata": {
        "collapsed": false
      },
      "outputs": [],
      "source": [
        "xexact1 = ot.Point([0.123895,0.818329])\nxexact2 = ot.Point([0.542773,0.151666])\nxexact3 = ot.Point([0.961652,0.165000])\nxexact = ot.Sample([xexact1, xexact2, xexact3])"
      ]
    },
    {
      "cell_type": "code",
      "execution_count": null,
      "metadata": {
        "collapsed": false
      },
      "outputs": [],
      "source": [
        "fexact = objectiveFunction(xexact)\nfexact"
      ]
    },
    {
      "cell_type": "code",
      "execution_count": null,
      "metadata": {
        "collapsed": false
      },
      "outputs": [],
      "source": [
        "graph = objectiveFunction.draw(lowerbound, upperbound, [100]*dim)\ngraph.setTitle(\"Branin function\")\nview = viewer.View(graph)"
      ]
    },
    {
      "cell_type": "markdown",
      "metadata": {},
      "source": [
        "The Branin function has three local minimas. \n\n"
      ]
    },
    {
      "cell_type": "markdown",
      "metadata": {},
      "source": [
        "### Create the initial kriging\n\n"
      ]
    },
    {
      "cell_type": "code",
      "execution_count": null,
      "metadata": {
        "collapsed": false
      },
      "outputs": [],
      "source": [
        "distribution = ot.ComposedDistribution([ot.Uniform(0.0, 1.0)] * dim)\nsampleSize = 50\nexperiment = ot.LHSExperiment(distribution, sampleSize)\ninputSample = experiment.generate()\nmodelEval = model(inputSample)\noutputSample = modelEval.getMarginal(0)"
      ]
    },
    {
      "cell_type": "code",
      "execution_count": null,
      "metadata": {
        "collapsed": false
      },
      "outputs": [],
      "source": [
        "graph = ot.Graph(\"Initial LHS design of experiment - n=%d\" % (sampleSize), \":math:`x_0`\", \":math:`x_1`\", True)\ncloud = ot.Cloud(inputSample)\ngraph.add(cloud)\nview = viewer.View(graph)"
      ]
    },
    {
      "cell_type": "code",
      "execution_count": null,
      "metadata": {
        "collapsed": false
      },
      "outputs": [],
      "source": [
        "covarianceModel = ot.SquaredExponential([1.0] * dim, [1.0])\nbasis = ot.ConstantBasisFactory(dim).build()\nkriging = ot.KrigingAlgorithm(inputSample, outputSample, covarianceModel, basis)"
      ]
    },
    {
      "cell_type": "code",
      "execution_count": null,
      "metadata": {
        "collapsed": false
      },
      "outputs": [],
      "source": [
        "noise = [x[1] for x in modelEval]\nkriging.setNoise(noise)\nkriging.run()"
      ]
    },
    {
      "cell_type": "markdown",
      "metadata": {},
      "source": [
        "### Create and solve the problem\n\n"
      ]
    },
    {
      "cell_type": "markdown",
      "metadata": {},
      "source": [
        "problem\n\n"
      ]
    },
    {
      "cell_type": "code",
      "execution_count": null,
      "metadata": {
        "collapsed": false
      },
      "outputs": [],
      "source": [
        "problem = ot.OptimizationProblem()\nproblem.setObjective(model)\nbounds = ot.Interval(lowerbound, upperbound)\nproblem.setBounds(bounds)"
      ]
    },
    {
      "cell_type": "markdown",
      "metadata": {},
      "source": [
        "We configure the maximum number of function evaluations to 20. We assume that the function is noisy, with a constant variance. \n\n"
      ]
    },
    {
      "cell_type": "markdown",
      "metadata": {},
      "source": [
        "algo\n\n"
      ]
    },
    {
      "cell_type": "code",
      "execution_count": null,
      "metadata": {
        "collapsed": false
      },
      "outputs": [],
      "source": [
        "algo = ot.EfficientGlobalOptimization(problem, kriging.getResult())\n# assume constant noise var\nguessedNoiseFunction = 0.1\nnoiseModel = ot.SymbolicFunction(['x1', 'x2'], [str(guessedNoiseFunction)])\nalgo.setNoiseModel(noiseModel) \nalgo.setMaximumEvaluationNumber(20)\nalgo.run()\nresult = algo.getResult()"
      ]
    },
    {
      "cell_type": "code",
      "execution_count": null,
      "metadata": {
        "collapsed": false
      },
      "outputs": [],
      "source": [
        "result.getIterationNumber()"
      ]
    },
    {
      "cell_type": "code",
      "execution_count": null,
      "metadata": {
        "collapsed": false
      },
      "outputs": [],
      "source": [
        "result.getOptimalPoint()"
      ]
    },
    {
      "cell_type": "code",
      "execution_count": null,
      "metadata": {
        "collapsed": false
      },
      "outputs": [],
      "source": [
        "result.getOptimalValue()"
      ]
    },
    {
      "cell_type": "code",
      "execution_count": null,
      "metadata": {
        "collapsed": false
      },
      "outputs": [],
      "source": [
        "fexact"
      ]
    },
    {
      "cell_type": "code",
      "execution_count": null,
      "metadata": {
        "collapsed": false
      },
      "outputs": [],
      "source": [
        "inputHistory = result.getInputSample()"
      ]
    },
    {
      "cell_type": "code",
      "execution_count": null,
      "metadata": {
        "collapsed": false
      },
      "outputs": [],
      "source": [
        "graph = objectiveFunction.draw(lowerbound, upperbound, [100]*dim)\ngraph.setLegends([\"\"])\ngraph.setTitle(\"Branin function. Initial : black bullet. Solution : green diamond.\")\ncloud = ot.Cloud(inputSample)\ncloud.setPointStyle(\"bullet\")\ncloud.setColor(\"black\")\ngraph.add(cloud)\ncloud = ot.Cloud(inputHistory)\ncloud.setPointStyle(\"diamond\")\ncloud.setColor(\"forestgreen\")\ngraph.add(cloud)\nview = viewer.View(graph)"
      ]
    },
    {
      "cell_type": "markdown",
      "metadata": {},
      "source": [
        "We see that the EGO algorithm found the second local minimum. Given the limited number of function evaluations, the other local minimas have not been explored. \n\n"
      ]
    },
    {
      "cell_type": "code",
      "execution_count": null,
      "metadata": {
        "collapsed": false
      },
      "outputs": [],
      "source": [
        "graph = result.drawOptimalValueHistory()\nview = viewer.View(graph)\n\nplt.show()"
      ]
    }
  ],
  "metadata": {
    "kernelspec": {
      "display_name": "Python 3",
      "language": "python",
      "name": "python3"
    },
    "language_info": {
      "codemirror_mode": {
        "name": "ipython",
        "version": 3
      },
      "file_extension": ".py",
      "mimetype": "text/x-python",
      "name": "python",
      "nbconvert_exporter": "python",
      "pygments_lexer": "ipython3",
      "version": "3.8.6"
    }
  },
  "nbformat": 4,
  "nbformat_minor": 0
}