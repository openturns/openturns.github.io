{
  "cells": [
    {
      "cell_type": "code",
      "execution_count": null,
      "metadata": {
        "collapsed": false
      },
      "outputs": [],
      "source": [
        "%matplotlib inline"
      ]
    },
    {
      "cell_type": "markdown",
      "metadata": {},
      "source": [
        "\n# Use the Box-Cox transformation\n"
      ]
    },
    {
      "cell_type": "markdown",
      "metadata": {},
      "source": [
        "The objective of this Use Case is to estimate a Box Cox transformation\nfrom a field which all values are positive (eventually after a shift\nto satisfy the positiveness) and to apply it on the field.\nThe object *BoxCoxFactory* enables to create a factory of\nBox Cox transformation.\nThen, we estimate the Box Cox transformation\n$h_{\\underline{\\lambda}}$ from the initial field values\n$(\\underline{x}_0, \\dots, \\underline{x}_{N-1})$ thanks to the method\n*build* of the object *BoxCoxFactory*, which produces an object of\ntype *BoxCoxTransform*.\nIf the field values $(\\underline{x}_0, \\dots, \\underline{x}_{N-1})$ have\nsome negative values, it is possible to translate the values with\nrespect a given shift $\\underline{\\alpha}$ which has to be mentioned\neither at the creation of the object *BoxCoxFactory* or when using the\nmethod *build*.\nThen the Box Cox transformation is the composition of\n$h_{\\underline{\\lambda}}$ and this translation.\n\nThe object *BoxCoxTransform* enables to:\n\n-  transform the field values\n   $(\\underline{x}_{0}, \\dots,\\underline{x}_{N-1})$ of dimension $d$\n   into the values $(\\underline{y}_{0}, \\dots, \\underline{y}_{N-1})$ with\n   stabilized variance, such that for each vertex $\\underline{t}_i$ we\n   have:\n\n   $\\underline{y}_{i} = h_{\\underline{\\lambda}}(\\underline{x}_{i})$\n\n    or\n\n   $\\underline{y}_{i} = h_{\\underline{\\lambda}}(\\underline{x}_{i} + \\underline{\\alpha})$\n\n   thanks to the operand *()*. The field based on the values\n   $\\underline{y}_{i}$ shares the same mesh than the initial field.\n\n-  create the inverse Box Cox transformation such that :\n\n   $\\underline{x}_{i}= h^{-1}_{\\underline{\\lambda}}(\\underline{y}_{i})$\n\n    or\n\n   $\\underline{x}_{i} = h^{-1}_{\\underline{\\lambda}}(\\underline{y}_{i}) - \\underline{\\alpha}$\n\n   thanks to the method *getInverse()* which produces an object of type\n   *InverseBoxCoxTransform* that can be evaluated on a field.\n   The new field based shares the same mesh than the initial field.\n\n\n"
      ]
    },
    {
      "cell_type": "code",
      "execution_count": null,
      "metadata": {
        "collapsed": false
      },
      "outputs": [],
      "source": [
        "from __future__ import print_function\nimport openturns as ot\nimport openturns.viewer as viewer\nfrom matplotlib import pylab as plt\not.Log.Show(ot.Log.NONE)"
      ]
    },
    {
      "cell_type": "markdown",
      "metadata": {},
      "source": [
        "Define a process\n\n"
      ]
    },
    {
      "cell_type": "code",
      "execution_count": null,
      "metadata": {
        "collapsed": false
      },
      "outputs": [],
      "source": [
        "myIndices = [10, 5]\nmyMesher = ot.IntervalMesher(myIndices)\nmyInterval = ot.Interval([0.0, 0.0], [2.0, 1.0])\nmyMesh = myMesher.build(myInterval)\namplitude = [1.0]\nscale = [0.2, 0.2]\nmyCovModel = ot.ExponentialModel(scale, amplitude)\nmyXproc = ot.GaussianProcess(myCovModel, myMesh)\ng = ot.SymbolicFunction(['x1'],  ['exp(x1)'])\nmyDynTransform = ot.ValueFunction(g, myMesh)\nmyXtProcess = ot.CompositeProcess(myDynTransform, myXproc)"
      ]
    },
    {
      "cell_type": "markdown",
      "metadata": {},
      "source": [
        "Draw a field\n\n"
      ]
    },
    {
      "cell_type": "code",
      "execution_count": null,
      "metadata": {
        "collapsed": false
      },
      "outputs": [],
      "source": [
        "field = myXtProcess.getRealization()\ngraph = field.drawMarginal(0)\nview = viewer.View(graph)"
      ]
    },
    {
      "cell_type": "markdown",
      "metadata": {},
      "source": [
        "Draw values\n\n"
      ]
    },
    {
      "cell_type": "code",
      "execution_count": null,
      "metadata": {
        "collapsed": false
      },
      "outputs": [],
      "source": [
        "marginal = ot.HistogramFactory().build(field.getValues())\ngraph = marginal.drawPDF()\nview = viewer.View(graph)"
      ]
    },
    {
      "cell_type": "markdown",
      "metadata": {},
      "source": [
        "Build the transformed field through Box-Cox\n\n"
      ]
    },
    {
      "cell_type": "code",
      "execution_count": null,
      "metadata": {
        "collapsed": false
      },
      "outputs": [],
      "source": [
        "myModelTransform = ot.BoxCoxFactory().build(field)\nmyStabilizedField = myModelTransform(field)"
      ]
    },
    {
      "cell_type": "markdown",
      "metadata": {},
      "source": [
        "Draw values\n\n"
      ]
    },
    {
      "cell_type": "code",
      "execution_count": null,
      "metadata": {
        "collapsed": false
      },
      "outputs": [],
      "source": [
        "marginal = ot.HistogramFactory().build(myStabilizedField.getValues())\ngraph = marginal.drawPDF()\nview = viewer.View(graph)\nplt.show()"
      ]
    }
  ],
  "metadata": {
    "kernelspec": {
      "display_name": "Python 3",
      "language": "python",
      "name": "python3"
    },
    "language_info": {
      "codemirror_mode": {
        "name": "ipython",
        "version": 3
      },
      "file_extension": ".py",
      "mimetype": "text/x-python",
      "name": "python",
      "nbconvert_exporter": "python",
      "pygments_lexer": "ipython3",
      "version": "3.10.2"
    }
  },
  "nbformat": 4,
  "nbformat_minor": 0
}