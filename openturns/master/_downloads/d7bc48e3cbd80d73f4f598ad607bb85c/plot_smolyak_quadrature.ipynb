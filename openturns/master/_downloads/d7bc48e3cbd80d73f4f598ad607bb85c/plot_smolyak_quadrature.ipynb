{
  "cells": [
    {
      "cell_type": "markdown",
      "metadata": {},
      "source": [
        "\n# Use the Smolyak quadrature\n"
      ]
    },
    {
      "cell_type": "markdown",
      "metadata": {},
      "source": [
        "The goal of this example is to use Smolyak's quadrature.\nWe create a Smolyak quadrature using a Gauss-Legendre marginal\nquadrature and use it on a benchmark problem.\nIn the second part, we compute the absolute error of Smolyak's quadrature\nmethod and compare it with the tensorized Gauss-Legendre quadrature.\nIn the third part, we plot the absolute error depending on the sample\nsample and analyze the speed of convergence.\n\n"
      ]
    },
    {
      "cell_type": "code",
      "execution_count": null,
      "metadata": {
        "collapsed": false
      },
      "outputs": [],
      "source": [
        "import numpy as np\nimport openturns as ot\nimport openturns.viewer as otv\nfrom matplotlib import pyplot as plt"
      ]
    },
    {
      "cell_type": "markdown",
      "metadata": {},
      "source": [
        "In the first example, we print the nodes and weights\nSmolyak-Legendre quadrature of level 3.\n\n"
      ]
    },
    {
      "cell_type": "code",
      "execution_count": null,
      "metadata": {
        "collapsed": false
      },
      "outputs": [],
      "source": [
        "uniform = ot.GaussProductExperiment(ot.Uniform(0.0, 1.0))\ncollection = [uniform] * 2\nlevel = 3\nprint(\"level = \", level)\nexperiment = ot.SmolyakExperiment(collection, level)\nnodes, weights = experiment.generateWithWeights()\nprint(nodes)\nprint(weights)"
      ]
    },
    {
      "cell_type": "markdown",
      "metadata": {},
      "source": [
        "We see that some of the weights are nonpositive. This is a significant\ndifference with tensorized Gauss quadrature.\n\n"
      ]
    },
    {
      "cell_type": "markdown",
      "metadata": {},
      "source": [
        "We now create an exponential product problem from\n[morokoff1995]_, table 1, page 221.\nThis example is also used in [gerstner1998]_ page 221 to demonstrate\nthe properties of Smolyak's quadrature.\nIt is defined by the equation :\n\n\\begin{align}g(\\boldsymbol{x}) = (1 + 1 / d)^d \\prod_{i = 1}^d x_i^{1 / d}\\end{align}\n\nfor any $\\boldsymbol{x} \\in [0, 1]^d$ where $d$ is the\ndimension of the problem.\n\nWe are interested in the integral:\n\n\\begin{align}I = \\int_{[0, 1]^d} g(\\boldsymbol{x}) f(\\boldsymbol{x}) d \\boldsymbol{x}\\end{align}\n\nwhere $f(\\boldsymbol{x}) = 1$ is the uniform density probability\nfunction in the $[0, 1]^d$ interval.\n\nWhen the dimension increases, the variance goes to zero,\nbut the variation in the sense of Hardy and Krause goes to infinity.\n\n\n"
      ]
    },
    {
      "cell_type": "code",
      "execution_count": null,
      "metadata": {
        "collapsed": false
      },
      "outputs": [],
      "source": [
        "dimension = 5\n\n\ndef g_function_py(x):\n    \"\"\"\n    Evaluates the exponential integrand function.\n\n    Parameters\n    ----------\n    x : ot.Point\n\n    Returns\n    -------\n    y : ot.Point\n    \"\"\"\n    value = (1.0 + 1.0 / dimension) ** dimension\n    for i in range(dimension):\n        value *= x[i] ** (1.0 / dimension)\n    return [value]\n\n\ng_function = ot.PythonFunction(dimension, 1, g_function_py)\ninterval = ot.Interval([0.0] * dimension, [1.0] * dimension)\nintegral = 1.0\nprint(\"Exact integral = \", integral)\nname = \"ExponentialProduct\""
      ]
    },
    {
      "cell_type": "markdown",
      "metadata": {},
      "source": [
        "In the next cell, we evaluate the Smolyak quadrature.\nWe first create a Smolyak experiment using a Gauss-Legendre\nmarginal experiment.\n\n"
      ]
    },
    {
      "cell_type": "code",
      "execution_count": null,
      "metadata": {
        "collapsed": false
      },
      "outputs": [],
      "source": [
        "uniform = ot.GaussProductExperiment(ot.Uniform(0.0, 1.0))\ncollection = [uniform] * dimension\nlevel = 5\nprint(\"level = \", level)\nexperiment = ot.SmolyakExperiment(collection, level)\nnodes, weights = experiment.generateWithWeights()\nprint(\"size = \", nodes.getSize())"
      ]
    },
    {
      "cell_type": "markdown",
      "metadata": {},
      "source": [
        "Then we evaluate the function values at the nodes, and\nuse the `dot` product in order to compute the weighted\nsum of function values.\n\n"
      ]
    },
    {
      "cell_type": "code",
      "execution_count": null,
      "metadata": {
        "collapsed": false
      },
      "outputs": [],
      "source": [
        "g_values = g_function(nodes)\ng_values_point = g_values.asPoint()\napproximate_integral = g_values_point.dot(weights)\nlre10 = -np.log10(abs(approximate_integral - integral) / abs(integral))\nprint(\"Approx. integral = \", approximate_integral)\nprint(\"Log-relative error in base 10= %.2f\" % (lre10))"
      ]
    },
    {
      "cell_type": "markdown",
      "metadata": {},
      "source": [
        "We see that Smolyak's quadrature has produced a quite accurate\napproximation of the integral.\nWith only 781 nodes in dimension 5, the approximation has more than 2 correct\ndigits.\n\n"
      ]
    },
    {
      "cell_type": "markdown",
      "metadata": {},
      "source": [
        "In the next cell, we use a tensorized Gauss quadrature rule and\ncompute the accuracy of the quadrature.\n\n"
      ]
    },
    {
      "cell_type": "code",
      "execution_count": null,
      "metadata": {
        "collapsed": false
      },
      "outputs": [],
      "source": [
        "numberOfMarginalNodes = 5\ncollectionOfMarginalNumberOfNodes = [numberOfMarginalNodes] * dimension\ncollection = [ot.Uniform(0.0, 1.0)] * dimension\ndistribution = ot.JointDistribution(collection)\nexperiment = ot.GaussProductExperiment(distribution, collectionOfMarginalNumberOfNodes)\nnodes, weights = experiment.generateWithWeights()\nsize = nodes.getSize()\nprint(\"size = \", nodes.getSize())\ng_values = g_function(nodes)\ng_values_point = g_values.asPoint()\napproximate_integral = g_values_point.dot(weights)\nlre10 = -np.log10(abs(approximate_integral - integral) / abs(integral))\nprint(\"Approx. integral = \", approximate_integral)\nprint(\"Log-relative error in base 10= %.2f\" % (lre10))"
      ]
    },
    {
      "cell_type": "markdown",
      "metadata": {},
      "source": [
        "Using 5 nodes in each dimension leads to a total number of nodes\nequal to 3125.\nThis relatively large number of nodes leads to an approximate integral\nwhich has more than 2 correct digits.\n\n"
      ]
    },
    {
      "cell_type": "markdown",
      "metadata": {},
      "source": [
        "We want to see how the quadrature converges to the true integral\nwhen the number of nodes increases and the speed of convergence.\nTo do this, we create a set of helper functions which evaluate the\nquadrature rule, compute the table of the absolute error versus the number of\nnodes and plot it.\n\nThe next function performs Smolyak quadrature on a function on the\nunit cube using Gauss-Legendre quadrature rule.\n\n"
      ]
    },
    {
      "cell_type": "code",
      "execution_count": null,
      "metadata": {
        "collapsed": false
      },
      "outputs": [],
      "source": [
        "def smolyakQuadrature(g_function, level):\n    \"\"\"\n    Integrate a function g on the unit cube [0, 1]^d using Smolyak quadrature.\n\n    Uses a Gauss-Legendre quadrature rule as the marginal quadrature.\n\n    Parameters\n    ----------\n    g_function : ot.Function\n        The integrand, with d inputs and dimension 1 output.\n    level : int\n        The level of Smolyak quadrature.\n\n    Returns\n    -------\n    size : int\n        The number of nodes in the quadrature.\n    abserr : float\n        The absolute error.\n\n    \"\"\"\n    dimension = g_function.getInputDimension()\n    uniform = ot.GaussProductExperiment(ot.Uniform(0.0, 1.0))\n    collection = [uniform] * dimension\n    experiment = ot.SmolyakExperiment(collection, level)\n    nodes, weights = experiment.generateWithWeights()\n    size = nodes.getSize()\n    g_values = g_function(nodes)\n    g_values_point = g_values.asPoint()\n    approximate_integral = g_values_point.dot(weights)\n    abserr = abs(approximate_integral - integral)\n    return [size, abserr]"
      ]
    },
    {
      "cell_type": "markdown",
      "metadata": {},
      "source": [
        "Similarly, the next function uses the Gauss-Legendre quadrature rule.\n\n"
      ]
    },
    {
      "cell_type": "code",
      "execution_count": null,
      "metadata": {
        "collapsed": false
      },
      "outputs": [],
      "source": [
        "def tensorizedGaussQuadrature(g_function, numberOfMarginalNodes):\n    \"\"\"\n    Integrate a function g on the unit cube [0, 1]^d.\n\n    Uses a tensorized Gauss-Legendre quadrature.\n\n    Parameters\n    ----------\n    g_function : ot.Function\n        The integrand, with d inputs and dimension 1 output.\n    level : int\n        The level of Smolyak quadrature.\n\n    Returns\n    -------\n    size : int\n        The number of nodes in the quadrature.\n    abserr : float\n        The absolute error.\n\n    \"\"\"\n    dimension = g_function.getInputDimension()\n    collection = [ot.Uniform(0.0, 1.0)] * dimension\n    distribution = ot.JointDistribution(collection)\n    collectionOfMarginalNumberOfNodes = [numberOfMarginalNodes] * dimension\n    experiment = ot.GaussProductExperiment(\n        distribution, collectionOfMarginalNumberOfNodes\n    )\n    nodes, weights = experiment.generateWithWeights()\n    size = nodes.getSize()\n    g_values = g_function(nodes)\n    g_values_point = g_values.asPoint()\n    approximate_integral = g_values_point.dot(weights)\n    abserr = abs(approximate_integral - integral)\n    return [size, abserr]"
      ]
    },
    {
      "cell_type": "markdown",
      "metadata": {},
      "source": [
        "The following function plots the absolute error versus the\nnumber of nodes and returns the graph.\nMoreover, it fits a linear least squares model against the data.\nThe model is ([gerstner1998]_ page 222)\n\n\\begin{align}e_{abs} = c n^{-\\alpha} \\epsilon_m\\end{align}\n\nwhere $e_{abs}$ is the absolute error, $c$ is a constant\nparameter representing the absolute error when the number of nodes\nis equal to 1, $n$ is the number of nodes, $\\alpha$ is a constant\nparameter representing the order of convergence and $\\epsilon_m$\nis the multiplicative residual.\nThe logarithm of the previous equation is\n\n\\begin{align}\\log(e_{abs}) = \\log(c) - \\alpha \\log(n) + \\epsilon_a\\end{align}\n\nwhere $\\epsilon_a = \\log(\\epsilon_m)$ is the additive residual\nin logarithmic scale.\nThis model states that the curve presenting the error depending on the\nnumber of nodes is a line with slope $\\alpha$ in a log-log plot.\nA method with a more negative slope is favored, since it means that the\nspeed of convergence is faster.\n\n"
      ]
    },
    {
      "cell_type": "code",
      "execution_count": null,
      "metadata": {
        "collapsed": false
      },
      "outputs": [],
      "source": [
        "def drawQuadrature(\n    size_list, abserr_list, quadratureName=\"Quadrature\", pointStyle=\"bullet\"\n):\n    # Plot the quadrature given the list of size and absolute errors.\n\n    # Compute least squares fit\n    data_logn = ot.Sample.BuildFromPoint(np.log(size_list))\n    data_loge = ot.Sample.BuildFromPoint(np.log(abserr_list))\n    basis = ot.SymbolicFunction([\"log_n\"], [\"1.0\", \"log_n\"])\n    designMatrix = basis(data_logn)\n    myLeastSquares = ot.LinearLeastSquares(designMatrix, data_loge)\n    myLeastSquares.run()\n    ls_fit = myLeastSquares.getMetaModel()\n    logerror_fit = ls_fit(basis(data_logn))\n    error_fit = np.exp(logerror_fit).flatten()\n    alpha = myLeastSquares.getLinear()[1, 0]\n    #\n    graph = ot.Graph()\n    cloud = ot.Cloud(size_list, abserr_list)\n    cloud.setLegend(quadratureName)\n    cloud.setPointStyle(pointStyle)\n    graph.add(cloud)\n    curve = ot.Curve(size_list, error_fit)\n    curve.setLegend(r\"$\\alpha$ = %.3f\" % (alpha))\n    graph.add(curve)\n    return graph"
      ]
    },
    {
      "cell_type": "markdown",
      "metadata": {},
      "source": [
        "The next two functions plots the Smolyak and tensorized Gauss quadrature.\n\n"
      ]
    },
    {
      "cell_type": "code",
      "execution_count": null,
      "metadata": {
        "collapsed": false
      },
      "outputs": [],
      "source": [
        "def drawSmolyakQuadrature(level_max):\n    print(\"Smolyak-Gauss Quadrature\")\n    size_list = []\n    abserr_list = []\n    for level in range(1, level_max):\n        size, abserr = smolyakQuadrature(g_function, level)\n        print(\"size = %d, level = %d, ea = %.3e\" % (size, level, abserr))\n        size_list.append(size)\n        abserr_list.append(abserr)\n    graph = drawQuadrature(size_list, abserr_list, \"Smolyak-Gauss\", \"bullet\")\n    return graph\n\n\ndef drawTensorizedGaussQuadrature(n_max):\n    print(\"Tensorized Gauss Quadrature\")\n    size_list = []\n    abserr_list = []\n    for n in range(1, n_max):\n        size, abserr = tensorizedGaussQuadrature(g_function, n)\n        print(\"size = %d, n = %d, ea = %.3e\" % (size, n, abserr))\n        size_list.append(size)\n        abserr_list.append(abserr)\n    graph = drawQuadrature(size_list, abserr_list, \"Gauss-Legendre\", \"plus\")\n    return graph"
      ]
    },
    {
      "cell_type": "markdown",
      "metadata": {},
      "source": [
        "We can finally create the graph.\n\n"
      ]
    },
    {
      "cell_type": "code",
      "execution_count": null,
      "metadata": {
        "collapsed": false
      },
      "outputs": [],
      "source": [
        "level_max = 14\ngraph = ot.Graph(\"Exponential problem\", \"$n$\", \"$e_{abs}$\", True)\ncurve = drawSmolyakQuadrature(level_max)\ngraph.add(curve)\nn_max = 11\ncurve = drawTensorizedGaussQuadrature(n_max)\ngraph.add(curve)\ngraph.setLogScale(ot.GraphImplementation.LOGXY)\ngraph.setLegendCorner([1.0, 1.0])\ngraph.setLegendPosition(\"upper left\")\nview = otv.View(\n    graph,\n    figure_kw={\"figsize\": (5.0, 3.0)},\n)\nplt.tight_layout()\nplt.show()"
      ]
    }
  ],
  "metadata": {
    "kernelspec": {
      "display_name": "Python 3",
      "language": "python",
      "name": "python3"
    },
    "language_info": {
      "codemirror_mode": {
        "name": "ipython",
        "version": 3
      },
      "file_extension": ".py",
      "mimetype": "text/x-python",
      "name": "python",
      "nbconvert_exporter": "python",
      "pygments_lexer": "ipython3",
      "version": "3.13.5"
    }
  },
  "nbformat": 4,
  "nbformat_minor": 0
}