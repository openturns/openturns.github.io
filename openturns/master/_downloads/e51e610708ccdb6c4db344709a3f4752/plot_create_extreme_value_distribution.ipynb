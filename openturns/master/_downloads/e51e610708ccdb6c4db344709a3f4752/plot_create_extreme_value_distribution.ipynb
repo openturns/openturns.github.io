{
  "cells": [
    {
      "cell_type": "code",
      "execution_count": null,
      "metadata": {
        "collapsed": false
      },
      "outputs": [],
      "source": [
        "%matplotlib inline"
      ]
    },
    {
      "cell_type": "markdown",
      "metadata": {},
      "source": [
        "\n# Create an extreme value distribution\n"
      ]
    },
    {
      "cell_type": "markdown",
      "metadata": {},
      "source": [
        "## Abstract\n\nIn this example we show how to define extreme values distributions.\n\n"
      ]
    },
    {
      "cell_type": "code",
      "execution_count": null,
      "metadata": {
        "collapsed": false
      },
      "outputs": [],
      "source": [
        "from __future__ import print_function\nimport openturns as ot\nimport openturns.viewer as otv\nfrom matplotlib import pylab as plt\not.Log.Show(ot.Log.NONE)"
      ]
    },
    {
      "cell_type": "markdown",
      "metadata": {},
      "source": [
        "## The generalized extreme value distribution (GEV)\n\n"
      ]
    },
    {
      "cell_type": "markdown",
      "metadata": {},
      "source": [
        "The :class:`~openturns.GeneralizedExtremeValue` distribution is a family of continuous probability distributions that combine the :class:`~openturns.Gumbel`, :class:`~openturns.Frechet` and :class:`~openturns.WeibullMax` distribution, all extreme value distribution.\n\nWe define a generalized extreme value distribution with parameters $\\mu = 0.0$, $\\sigma = 1.0$ and $\\xi = 0.0$\n\n"
      ]
    },
    {
      "cell_type": "code",
      "execution_count": null,
      "metadata": {
        "collapsed": false
      },
      "outputs": [],
      "source": [
        "myDistribution = ot.GeneralizedExtremeValue(0.0, 1.0, 0.0)"
      ]
    },
    {
      "cell_type": "markdown",
      "metadata": {},
      "source": [
        "The `GeneralizedExtremeValue` class acts as a proxy class. We can get the actual distribution (Weibull, Frechet or Gumbel) with the `getActualDistribution` method :\n\n"
      ]
    },
    {
      "cell_type": "code",
      "execution_count": null,
      "metadata": {
        "collapsed": false
      },
      "outputs": [],
      "source": [
        "print(myDistribution.getActualDistribution())"
      ]
    },
    {
      "cell_type": "markdown",
      "metadata": {},
      "source": [
        "For the chosen parameters it is a Gumbel distribution with parameters\n$beta=1.0$ and $\\gamma = 0.0$.\n\n"
      ]
    },
    {
      "cell_type": "markdown",
      "metadata": {},
      "source": [
        "We draw its PDF and CDF :\n\n"
      ]
    },
    {
      "cell_type": "code",
      "execution_count": null,
      "metadata": {
        "collapsed": false
      },
      "outputs": [],
      "source": [
        "graphPDF = myDistribution.drawPDF()\ngraphPDF.setTitle(r\"PDF of the GEV with parameters $\\mu = 0.0$, $\\sigma = 1.0$ and $\\xi = 0.0$ \")\nview = otv.View(graphPDF)\n\ngraphCDF = myDistribution.drawCDF()\ngraphCDF.setTitle(r\"CDF of the GEV with parameters $\\mu = 0.0$, $\\sigma = 1.0$ and $\\xi = 0.0$ \")\nview = otv.View(graphCDF)"
      ]
    },
    {
      "cell_type": "markdown",
      "metadata": {},
      "source": [
        "## The Generalized Pareto Distribution (GPD)\n\nIn this paragraph we turn to the definition of a :class:`~openturns.GeneralizedPareto` distribution.\nFor instance we build a generalized Pareto distribution with parameters $\\sigma = 1.0$, $\\xi = 0.0$ and $u = 0.0$ :\n\n\n"
      ]
    },
    {
      "cell_type": "code",
      "execution_count": null,
      "metadata": {
        "collapsed": false
      },
      "outputs": [],
      "source": [
        "myGPD = ot.GeneralizedPareto(1.0, 0.0, 0.0)"
      ]
    },
    {
      "cell_type": "markdown",
      "metadata": {},
      "source": [
        "We draw its PDF and CDF :\n\n"
      ]
    },
    {
      "cell_type": "code",
      "execution_count": null,
      "metadata": {
        "collapsed": false
      },
      "outputs": [],
      "source": [
        "graphPDF = myGPD.drawPDF()\ngraphPDF.setTitle(r\"PDF of the GPD with parameters $\\sigma = 1.0$, $\\xi = 0.0$ and $u = 0.0$ \")\nview = otv.View(graphPDF)"
      ]
    },
    {
      "cell_type": "code",
      "execution_count": null,
      "metadata": {
        "collapsed": false
      },
      "outputs": [],
      "source": [
        "graphCDF = myGPD.drawCDF()\ngraphCDF.setTitle(r\"CDF of the GPD with parameters $\\sigma = 1.0$, $\\xi = 0.0$ and $u = 0.0$ \")\nview = otv.View(graphCDF)"
      ]
    },
    {
      "cell_type": "markdown",
      "metadata": {},
      "source": [
        "Display all figures\n\n"
      ]
    },
    {
      "cell_type": "code",
      "execution_count": null,
      "metadata": {
        "collapsed": false
      },
      "outputs": [],
      "source": [
        "plt.show()"
      ]
    }
  ],
  "metadata": {
    "kernelspec": {
      "display_name": "Python 3",
      "language": "python",
      "name": "python3"
    },
    "language_info": {
      "codemirror_mode": {
        "name": "ipython",
        "version": 3
      },
      "file_extension": ".py",
      "mimetype": "text/x-python",
      "name": "python",
      "nbconvert_exporter": "python",
      "pygments_lexer": "ipython3",
      "version": "3.9.3"
    }
  },
  "nbformat": 4,
  "nbformat_minor": 0
}