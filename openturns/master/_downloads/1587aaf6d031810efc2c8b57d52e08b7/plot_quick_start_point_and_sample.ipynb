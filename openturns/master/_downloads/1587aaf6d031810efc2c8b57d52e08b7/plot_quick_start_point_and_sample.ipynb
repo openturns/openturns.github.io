{
  "cells": [
    {
      "cell_type": "markdown",
      "metadata": {},
      "source": [
        "\n# A quick start guide to the `Point` and `Sample` classes\n"
      ]
    },
    {
      "cell_type": "markdown",
      "metadata": {},
      "source": [
        "## Abstract\n\nIn this example, we present the :class:`~openturns.Point` and :class:`~openturns.Sample` classes, two fundamental objects in the library.\nWe present the principles behind these classes and the way to create and use these objects.\nWe show how to extract a row or a column with the slicing operator.\nWe show how these objects interact with Python variables and with the Numpy module.\n\n"
      ]
    },
    {
      "cell_type": "markdown",
      "metadata": {},
      "source": [
        "## Introduction\n\nTwo fundamental objects in the library are:\n\n* :class:`~openturns.Point`: a multidimensional point in $d$ dimensions ($\\in \\Rset^d$) ;\n* :class:`~openturns.Sample`: a multivariate sample made of $n$ points in $d$ dimensions.\n\n\n"
      ]
    },
    {
      "cell_type": "code",
      "execution_count": null,
      "metadata": {
        "collapsed": false
      },
      "outputs": [],
      "source": [
        "import numpy as np\nimport openturns as ot\n\not.Log.Show(ot.Log.NONE)"
      ]
    },
    {
      "cell_type": "markdown",
      "metadata": {},
      "source": [
        "## The `Point` class\n\nIn this section, we see how to:\n\n* create a point in $\\mathbb{R}^3$,\n* access its components,\n* update its components.\n\n\n"
      ]
    },
    {
      "cell_type": "markdown",
      "metadata": {},
      "source": [
        "By default, points are filled with zeros.\n\n"
      ]
    },
    {
      "cell_type": "code",
      "execution_count": null,
      "metadata": {
        "collapsed": false
      },
      "outputs": [],
      "source": [
        "p = ot.Point(3)\np"
      ]
    },
    {
      "cell_type": "markdown",
      "metadata": {},
      "source": [
        "The following statement returns the value of the second component (with index 1).\nPython beginners should remember that Python indices start at zero.\n\n"
      ]
    },
    {
      "cell_type": "code",
      "execution_count": null,
      "metadata": {
        "collapsed": false
      },
      "outputs": [],
      "source": [
        "p[1]"
      ]
    },
    {
      "cell_type": "markdown",
      "metadata": {},
      "source": [
        "The following statement sets the second component.\n\n"
      ]
    },
    {
      "cell_type": "code",
      "execution_count": null,
      "metadata": {
        "collapsed": false
      },
      "outputs": [],
      "source": [
        "p[1] = 2\np"
      ]
    },
    {
      "cell_type": "code",
      "execution_count": null,
      "metadata": {
        "collapsed": false
      },
      "outputs": [],
      "source": [
        "p.getDimension()"
      ]
    },
    {
      "cell_type": "markdown",
      "metadata": {},
      "source": [
        "## The `Sample` class\n\nThe :class:`~openturns.Sample` class represents a multivariate sample made of $\\sampleSize$ points in $\\Rset^d$.\n\n* $d$ is the *dimension* of the sample,\n* $n$ is the *size* of the sample.\n\n\nA `Sample` can be seen as an array of with $n$ rows and $d$ columns.\n\n*Remark.* The :class:`~openturns.ProcessSample` class can be used to manage a sample of stochastic processes.\n\n"
      ]
    },
    {
      "cell_type": "markdown",
      "metadata": {},
      "source": [
        "The script below creates a `Sample` with size $n=5$ and dimension $d=3$.\n\n"
      ]
    },
    {
      "cell_type": "code",
      "execution_count": null,
      "metadata": {
        "collapsed": false
      },
      "outputs": [],
      "source": [
        "data = ot.Sample(5, 3)\ndata"
      ]
    },
    {
      "cell_type": "code",
      "execution_count": null,
      "metadata": {
        "collapsed": false
      },
      "outputs": [],
      "source": [
        "data.getSize()"
      ]
    },
    {
      "cell_type": "code",
      "execution_count": null,
      "metadata": {
        "collapsed": false
      },
      "outputs": [],
      "source": [
        "data.getDimension()"
      ]
    },
    {
      "cell_type": "markdown",
      "metadata": {},
      "source": [
        "The following statement sets the third component (with index 2) of the fourth point (with index 3) in the `Sample`.\n\n"
      ]
    },
    {
      "cell_type": "code",
      "execution_count": null,
      "metadata": {
        "collapsed": false
      },
      "outputs": [],
      "source": [
        "data[3, 2] = 32\ndata"
      ]
    },
    {
      "cell_type": "markdown",
      "metadata": {},
      "source": [
        "Notice that the rendering is different when we use the `print` statement.\n\n"
      ]
    },
    {
      "cell_type": "code",
      "execution_count": null,
      "metadata": {
        "collapsed": false
      },
      "outputs": [],
      "source": [
        "print(data)"
      ]
    },
    {
      "cell_type": "markdown",
      "metadata": {},
      "source": [
        "We can customize the format used to print the floating point numbers\nwith the `Sample-PrintFormat` key of the :class:`~openturns.ResourceMap`.\n\n"
      ]
    },
    {
      "cell_type": "markdown",
      "metadata": {},
      "source": [
        "## Get a row or a column of a `Sample`\n\nAs with `numpy` arrays, we can extract a row or a column with the `:` slicing operator.\nAs a reminder for Python beginners, *slicing* is the fact of extracting a part of an array with one single statement; this avoids `for` loops and improves performance and readability.\n\n"
      ]
    },
    {
      "cell_type": "code",
      "execution_count": null,
      "metadata": {
        "collapsed": false
      },
      "outputs": [],
      "source": [
        "row = data[3, :]\nrow"
      ]
    },
    {
      "cell_type": "code",
      "execution_count": null,
      "metadata": {
        "collapsed": false
      },
      "outputs": [],
      "source": [
        "print(type(row))"
      ]
    },
    {
      "cell_type": "code",
      "execution_count": null,
      "metadata": {
        "collapsed": false
      },
      "outputs": [],
      "source": [
        "column = data[:, 2]\ncolumn"
      ]
    },
    {
      "cell_type": "code",
      "execution_count": null,
      "metadata": {
        "collapsed": false
      },
      "outputs": [],
      "source": [
        "print(type(column))"
      ]
    },
    {
      "cell_type": "markdown",
      "metadata": {},
      "source": [
        "We see that:\n\n* the `row` is a `Point`,\n* the `column` is a `Sample`.\n\nThis is consistent with the fact that, in a dimension $d$, a row is a $d$-dimensional `Point`.\n\n"
      ]
    },
    {
      "cell_type": "markdown",
      "metadata": {},
      "source": [
        "The following statement extracts several columns (with indices 0 and 2) and creates a new `Sample`.\n\n"
      ]
    },
    {
      "cell_type": "code",
      "execution_count": null,
      "metadata": {
        "collapsed": false
      },
      "outputs": [],
      "source": [
        "data.getMarginal([0, 2])"
      ]
    },
    {
      "cell_type": "markdown",
      "metadata": {},
      "source": [
        "## Set a row or a column of a `Sample`\n\n"
      ]
    },
    {
      "cell_type": "markdown",
      "metadata": {},
      "source": [
        "Slicing can also be used to set a `Sample` row or column.\n\n"
      ]
    },
    {
      "cell_type": "code",
      "execution_count": null,
      "metadata": {
        "collapsed": false
      },
      "outputs": [],
      "source": [
        "sample = ot.Sample([[1.0, 2.0], [3.0, 4.0], [5.0, 6.0]])\nsample"
      ]
    },
    {
      "cell_type": "markdown",
      "metadata": {},
      "source": [
        "Set the third row: this must be a `Point` or must be convertible to.\n\n"
      ]
    },
    {
      "cell_type": "code",
      "execution_count": null,
      "metadata": {
        "collapsed": false
      },
      "outputs": [],
      "source": [
        "p = [8.0, 10.0]\nsample[2, :] = p\nsample"
      ]
    },
    {
      "cell_type": "markdown",
      "metadata": {},
      "source": [
        "Set the second column: this must be a `Sample` or must be convertible to.\n\n"
      ]
    },
    {
      "cell_type": "code",
      "execution_count": null,
      "metadata": {
        "collapsed": false
      },
      "outputs": [],
      "source": [
        "sample = ot.Sample([[1.0, 2.0], [3.0, 4.0], [5.0, 6.0]])\ns = ot.Sample([[3.0], [5.0], [7.0]])\nsample[:, 1] = s\nsample"
      ]
    },
    {
      "cell_type": "markdown",
      "metadata": {},
      "source": [
        "Sometimes, we want to set a column with a list of floats.\nThis can be done using the :meth:`~openturns.Sample.BuildFromPoint` static method.\n\n"
      ]
    },
    {
      "cell_type": "code",
      "execution_count": null,
      "metadata": {
        "collapsed": false
      },
      "outputs": [],
      "source": [
        "sample = ot.Sample([[1.0, 2.0], [3.0, 4.0], [5.0, 6.0]])\ns = ot.Sample.BuildFromPoint([3.0, 5.0, 7.0])\nsample[:, 1] = s\nsample"
      ]
    },
    {
      "cell_type": "markdown",
      "metadata": {},
      "source": [
        "## Create a `Point` or a `Sample` from a Python list\n\nThe following statement creates a `Point` from a Python list.\n\n"
      ]
    },
    {
      "cell_type": "code",
      "execution_count": null,
      "metadata": {
        "collapsed": false
      },
      "outputs": [],
      "source": [
        "p1 = ot.Point([2, 3])\np1"
      ]
    },
    {
      "cell_type": "code",
      "execution_count": null,
      "metadata": {
        "collapsed": false
      },
      "outputs": [],
      "source": [
        "p2 = ot.Point(range(2))\np2"
      ]
    },
    {
      "cell_type": "markdown",
      "metadata": {},
      "source": [
        "The first useful *Pythonism* that we will review is the *list comprehension*. This creates a list from a `for` loop.\nThis kind of statements is often used in the examples, so that they can be as short as possible.\nIn the following statement, we create a point by iterating over the components of a `Point`.\n\n"
      ]
    },
    {
      "cell_type": "code",
      "execution_count": null,
      "metadata": {
        "collapsed": false
      },
      "outputs": [],
      "source": [
        "p3 = ot.Point([i * i for i in p1])\np3"
      ]
    },
    {
      "cell_type": "markdown",
      "metadata": {},
      "source": [
        "The second useful *Pythonism* is the repetition with the `*` operator.\n\nThe following statements creates a list with three 5s.\n\n"
      ]
    },
    {
      "cell_type": "code",
      "execution_count": null,
      "metadata": {
        "collapsed": false
      },
      "outputs": [],
      "source": [
        "p4 = [5] * 3\np4"
      ]
    },
    {
      "cell_type": "markdown",
      "metadata": {},
      "source": [
        "We can also create a `Sample` from a list of `Point`.\n\n"
      ]
    },
    {
      "cell_type": "code",
      "execution_count": null,
      "metadata": {
        "collapsed": false
      },
      "outputs": [],
      "source": [
        "sample = ot.Sample([p1, p2, p3])\nsample"
      ]
    },
    {
      "cell_type": "markdown",
      "metadata": {},
      "source": [
        "We can loop over the points in a sample, using a list comprehension. In the following example, we compute the Euclidian norm of the points in the previous sample.\n\n"
      ]
    },
    {
      "cell_type": "code",
      "execution_count": null,
      "metadata": {
        "collapsed": false
      },
      "outputs": [],
      "source": [
        "[point.norm() for point in sample]"
      ]
    },
    {
      "cell_type": "markdown",
      "metadata": {},
      "source": [
        "We can also create a `Sample` based on a `Point`, repeated three times.\n\n"
      ]
    },
    {
      "cell_type": "code",
      "execution_count": null,
      "metadata": {
        "collapsed": false
      },
      "outputs": [],
      "source": [
        "sample = ot.Sample([p4] * 3)\nsample"
      ]
    },
    {
      "cell_type": "markdown",
      "metadata": {},
      "source": [
        "A nested list of floats is the easiest way to create a non-trivial `Sample`.\n\n"
      ]
    },
    {
      "cell_type": "code",
      "execution_count": null,
      "metadata": {
        "collapsed": false
      },
      "outputs": [],
      "source": [
        "sample = ot.Sample([[0, 1], [2, 3], [4, 5]])\nsample"
      ]
    },
    {
      "cell_type": "markdown",
      "metadata": {},
      "source": [
        "## Interactions with Numpy\n\nClasses defined in pure Python modules cannot be used by the library.\nThis is why it is useful to know how to convert to and from more basic Python variable types, especially Numpy arrays.\n\n"
      ]
    },
    {
      "cell_type": "markdown",
      "metadata": {},
      "source": [
        "The following statement creates a :class:`~openturns.Sample` and converts it into a bidimensional Numpy `array`.\n\n"
      ]
    },
    {
      "cell_type": "code",
      "execution_count": null,
      "metadata": {
        "collapsed": false
      },
      "outputs": [],
      "source": [
        "sample = ot.Sample(5, 3)\narray = np.array(sample)\narray"
      ]
    },
    {
      "cell_type": "code",
      "execution_count": null,
      "metadata": {
        "collapsed": false
      },
      "outputs": [],
      "source": [
        "print(type(array))"
      ]
    },
    {
      "cell_type": "markdown",
      "metadata": {},
      "source": [
        "Conversely, the following script creates a Numpy `array`, then converts it into a :class:`~openturns.Sample`.\n\n"
      ]
    },
    {
      "cell_type": "code",
      "execution_count": null,
      "metadata": {
        "collapsed": false
      },
      "outputs": [],
      "source": [
        "array = 3.14 * np.ones((5, 3))\nsample = ot.Sample(array)\nsample"
      ]
    },
    {
      "cell_type": "code",
      "execution_count": null,
      "metadata": {
        "collapsed": false
      },
      "outputs": [],
      "source": [
        "sample.getSize()"
      ]
    },
    {
      "cell_type": "code",
      "execution_count": null,
      "metadata": {
        "collapsed": false
      },
      "outputs": [],
      "source": [
        "sample.getDimension()"
      ]
    },
    {
      "cell_type": "markdown",
      "metadata": {},
      "source": [
        "There is an ambiguous situation: a `Sample` based on several scalar values.\n\nFor example, is a `Sample` based on 5 values:\n\n* a `Sample` with size 5 in 1 dimension or\n* a `Sample` with size 1 in 5 dimensions?\n\nIn order to solve the case, we can use the second input argument of the `Sample` constructor, which specifies the dimension.\n\nThe following statement creates an array containing 5 values from 0 to 1.\n\n"
      ]
    },
    {
      "cell_type": "code",
      "execution_count": null,
      "metadata": {
        "collapsed": false
      },
      "outputs": [],
      "source": [
        "u = np.linspace(0, 1, 5)\nu"
      ]
    },
    {
      "cell_type": "markdown",
      "metadata": {},
      "source": [
        "Choice A: we create a `Sample` with size 5 in 1 dimension.\n\n"
      ]
    },
    {
      "cell_type": "code",
      "execution_count": null,
      "metadata": {
        "collapsed": false
      },
      "outputs": [],
      "source": [
        "sample = ot.Sample([[ui] for ui in u])\nsample"
      ]
    },
    {
      "cell_type": "markdown",
      "metadata": {},
      "source": [
        "Choice B: we create a `Sample` with size 1 in 5 dimensions.\n\n"
      ]
    },
    {
      "cell_type": "code",
      "execution_count": null,
      "metadata": {
        "collapsed": false
      },
      "outputs": [],
      "source": [
        "sample = ot.Sample([u[i : i + 5] for i in range(len(u) // 5)])\nsample"
      ]
    },
    {
      "cell_type": "markdown",
      "metadata": {},
      "source": [
        "When there is an ambiguous case, the library cannot solve the\nissue and an `InvalidArgumentException` is generated.\n\n"
      ]
    },
    {
      "cell_type": "markdown",
      "metadata": {},
      "source": [
        "More precisely, the code:\n\n```\nsample = ot.Sample(u)\n```\n"
      ]
    },
    {
      "cell_type": "markdown",
      "metadata": {},
      "source": [
        "produces the exception:\n\n```\nTypeError: InvalidArgumentException : Invalid array dimension: 1\n```\n"
      ]
    },
    {
      "cell_type": "markdown",
      "metadata": {},
      "source": [
        "In order to solve that problem, we can use the :meth:`~openturns.Sample.BuildFromPoint`\nstatic method.\n\n"
      ]
    },
    {
      "cell_type": "code",
      "execution_count": null,
      "metadata": {
        "collapsed": false
      },
      "outputs": [],
      "source": [
        "sample = ot.Sample.BuildFromPoint([ui for ui in u])\nsample"
      ]
    }
  ],
  "metadata": {
    "kernelspec": {
      "display_name": "Python 3",
      "language": "python",
      "name": "python3"
    },
    "language_info": {
      "codemirror_mode": {
        "name": "ipython",
        "version": 3
      },
      "file_extension": ".py",
      "mimetype": "text/x-python",
      "name": "python",
      "nbconvert_exporter": "python",
      "pygments_lexer": "ipython3",
      "version": "3.13.3"
    }
  },
  "nbformat": 4,
  "nbformat_minor": 0
}