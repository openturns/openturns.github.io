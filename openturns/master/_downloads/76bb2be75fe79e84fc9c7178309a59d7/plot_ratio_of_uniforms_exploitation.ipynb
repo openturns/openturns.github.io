{
  "cells": [
    {
      "cell_type": "markdown",
      "metadata": {},
      "source": [
        "\n# Use the Ratio of Uniforms algorithm to sample a distribution\n"
      ]
    },
    {
      "cell_type": "markdown",
      "metadata": {},
      "source": [
        "In this example, we illustrate in dimension $\\inputDim = 1$ the ratio of uniforms algorithm  to sample a distribution which\nprobability density function is known up to a normalization factor.\n\nConsider a scalar distribution whose\nprobability density function $p$ is known up to a normalization factor:\nlet $f: \\Rset \\rightarrow \\Rset^+$ be a function such that\n$p(x) = cf(x)$ for all $x \\in \\Rset$ with $c \\in \\Rset^+_*$.\n\nLet $r \\in \\Rset^+_*$. Let  $A_{f,r}$ be the domain defined by:\n\n\\begin{align}A_{f,r} = \\left\\{ (u, v) \\in \\Rset^2 \\, |\\, 0 \\leq u \\leq f\\left(\\dfrac{v}{u^r}\\right)^{\\frac{1}{1+r}}\\right \\}\\end{align}\n\nThe Lebesgue measure of $A_{f,r}$  is equal to $\\dfrac{1}{c(1+r)}$.\n\nLet $(U, V)$ be a random variable uniformly distributed on $A_{f,r}$.\nThen, $X = \\dfrac{V}{U^r}$ is a random variable on\n$\\Rset$ distributed according to $p$.\n\nUnder the condition that $f(x)^{\\frac{1}{1+r}}$ and\n$x f(x)^{\\frac{1}{1+r}}$ are bounded, then the domain\n$A_{f,r}$ is bounded and can be included in a rectangular bounding box $\\tilde{A}_{f,r}$\ndefined by:\n\n\\begin{align}\\tilde{A}_{f,r} & = \\left[0, \\sup_{x} f(x)^{\\frac{1}{1+r}} \\right] \\times\n   \\left[ \\inf_{x} x f(x)^{\\frac{1}{1+r}} ,  \\sup_{x} x f(x)^{\\frac{1}{1+r}}\\right]\\\\\n                   & = \\left[0, u_{sup} \\right] \\times \\left[v_{inf}, v_{sup}\\right]\\end{align}\n\nNote that $u_{sup} > 0$, $v_{sup} \\geq 0$ and  $v_{inf} \\leq 0$.\n\nThis allows one to sample uniformly the domain $A_{f,r}$ by rejection sampling inside\n$\\tilde{A}_{f,r}$.\n\n## Study of the $(u,v)$-space.\nThe boundary of $\\tilde{A}_{f,r}$ is defined by:\n\n\\begin{align}\\partial \\tilde{A}_{f,r} = \\cF_1 \\cup \\cF_2 \\cup \\cF_3 \\cup \\cF_4\\end{align}\n\nwhere the boundaries $\\cF_i$ are defined by:\n\n\\begin{align}\\cF_1 & = \\left \\{ (u, v_{sup}), 0 \\leq u \\leq u_{sup} \\right \\} \\\\\n   \\cF_2 & = \\left \\{ (u, v_{inf}), 0 \\leq u \\leq u_{sup} \\right \\}\\\\\n   \\cF_3 & = \\left \\{ (u_{sup}, v), v_{inf} \\leq v \\leq v_{sup} \\right \\}\\\\\n   \\cF_4 & = \\left \\{ (0, v), v_{inf} \\leq v \\leq v_{sup} \\right \\}\\end{align}\n\nThe boundary of $A_{f,r}$ is defined by:\n\n\\begin{align}\\partial A_{f,r}  = \\left\\{ (u,v) = \\left( f(x)^{\\dfrac{1}{1+r}}, x f(x)^{\\dfrac{r}{1+r}} \\right),\n   x \\in \\Rset \\right\\}\\end{align}\n\nThe following function draws the domain $A_{f,r}$ and the bounding box $\\partial \\tilde{A}_{f,r}$\nin the $(u,v)$-space.\n\n"
      ]
    },
    {
      "cell_type": "code",
      "execution_count": null,
      "metadata": {
        "collapsed": false
      },
      "outputs": [],
      "source": [
        "import openturns as ot\nimport openturns.viewer as otv\nimport openturns.experimental as otexp\nfrom math import pi, exp\n\n\ndef draw_RatioOfUniforms_UV(ratio_algo):\n    r = ratio_algo.getR()\n    range_logF = ratio_algo.getRange()\n    xInf = range_logF.getLowerBound()[0]\n    xSup = range_logF.getUpperBound()[0]\n    uSup = ratio_algo.getSupU()\n    vInf = ratio_algo.getInfV()[0]\n    vSup = ratio_algo.getSupV()[0]\n    logF = ratio_algo.getLogUnscaledPDF()\n\n    # \\partial A_{f,r} domain\n    x = xInf\n    u = 0.0\n    v = 0.0\n    xPrec = None\n    uPrec = None\n    vPrec = None\n    first = True\n    step = 0.01 * (uSup + vSup - vInf)\n    delta = step\n    data_UV = ot.Sample(0, 2)\n    while x < xSup:\n        val_F = exp(logF([x])[0])\n        u = val_F ** (1.0 / (1.0 + r))\n        v = x * val_F ** (r / (1.0 + r))\n        # Step adaptation after the first point\n        if not first:\n            # If the step is too large\n            while abs(u - uPrec) + abs(v - vPrec) > 2 * delta:\n                step *= 0.5\n                x = xPrec + step\n                if x < xSup:\n                    val_F = exp(logF([x])[0])\n                    u = val_F ** (1.0 / (1.0 + r))\n                    v = x * val_F ** (r / (1.0 + r))\n            # If the step is too small\n            while abs(u - uPrec) + abs(v - vPrec) < 0.5 * delta and x < xSup:\n                step *= 2.0\n                x = xPrec + step\n                if x < xSup:\n                    val_F = exp(logF([x])[0])\n                    u = val_F ** (1.0 / (1.0 + r))\n                    v = x * val_F ** (r / (1.0 + r))\n        xPrec = x\n        uPrec = u\n        vPrec = v\n        x += step\n        first = False\n        data_UV.add([u, v])\n    # to get a closed boundary\n    data_UV.add(data_UV[0])\n    g = ot.Graph(\"\", \"u\", \"v\", True, \"bottomright\")\n    data_A = ot.Curve(data_UV)\n    data_A.setColor(\"purple\")\n    g.add(data_A)\n\n    # \\partial \\tilde{A}_{f,r} bounding box\n    boundary_1 = ot.Curve([[0, vSup], [uSup, vSup]])\n    boundary_1.setColor(\"blue\")\n    boundary_2 = ot.Curve([[0, vInf], [uSup, vInf]])\n    boundary_2.setColor(\"red\")\n    boundary_3 = ot.Curve([[uSup, vInf], [uSup, vSup]])\n    boundary_3.setColor(\"green\")\n    boundary_4 = ot.Curve([[0, vInf], [0, vSup]])\n    boundary_4.setColor(\"black\")\n    g.add(boundary_1)\n    g.add(boundary_2)\n    g.add(boundary_3)\n    g.add(boundary_4)\n\n    leg = g.getLegends()\n    leg[0] = r\"boundary of $A_{f,r}$\"\n    leg[1] = r\"$\\mathcal{F}_1$\"\n    leg[2] = r\"$\\mathcal{F}_2$\"\n    leg[3] = r\"$\\mathcal{F}_3$\"\n    leg[4] = r\"$\\mathcal{F}_4$\"\n    g.setLegends(leg)\n\n    return g"
      ]
    },
    {
      "cell_type": "markdown",
      "metadata": {},
      "source": [
        "## Study of the $(x,y)$-space.\nWe use the mapping function $\\varphi$ defined by:\n\n\\begin{align}\\varphi: & \\Rset^2 \\rightarrow \\Rset^2 \\\\\n            & (u,v)  \\rightarrow \\left( \\dfrac{v}{u^r}, u \\right)\\end{align}\n\nThen we have:\n\n\\begin{align}\\varphi(A_{f,r}) = \\left\\{ (x,y) \\, |\\, x \\in \\Rset, 0 \\leq y \\leq f(x)^{\\dfrac{1}{1+r}} \\right\\}\\end{align}\n\nand:\n\n\\begin{align}\\partial \\varphi(\\tilde{A}_{f,r}) = \\varphi(\\cF_1) \\cup \\varphi(\\cF_2) \\cup \\varphi(\\cF_3)\\end{align}\n\nwhere the boundaries $\\varphi(\\cF_i)$ are defined by:\n\n\\begin{align}\\varphi(\\cF_1) & = \\left\\{ \\varphi(u, v_{sup}), 0 \\leq u \\leq u_{sup} \\right\\}\\\\\n         & = \\left\\{ \\left(x,\\left(\\dfrac{v_{sup}}{x}\\right)^{1/r} \\right),\n             x \\geq \\dfrac{v_{sup}}{u_{sup}^{r}} \\right \\}\\end{align}\n\n\\begin{align}\\varphi(\\cF_2) & = \\left \\{ \\varphi(u, v_{inf}), 0 \\leq u \\leq u_{sup} \\right\\}\\\\\n         & = \\left\\{ \\left(x,\\left(\\dfrac{v_{inf}}{x}\\right)^{1/r}\\right),\n             x \\leq \\dfrac{v_{inf}}{u_{sup}^{r}} \\right \\}\\end{align}\n\n\\begin{align}\\varphi(\\cF_3) & = \\left\\{ \\varphi(u_{sup}, v), v_{inf} \\leq v \\leq v_{sup} \\right\\}\\\\\n         & = \\left\\{ (x, u_{sup}),\n             \\dfrac{v_{inf}}{u_{sup}^{r}} \\leq x \\leq \\dfrac{v_{sup}}{u_{sup}^{r}}  \\right\\}\\end{align}\n\nThe following function draws the boundary $\\partial \\varphi(A_{f,r})$ and the bounding box\n$\\partial \\tilde{A}_{f,r}$ in the $(x,y)$-space.\n\n"
      ]
    },
    {
      "cell_type": "code",
      "execution_count": null,
      "metadata": {
        "collapsed": false
      },
      "outputs": [],
      "source": [
        "def draw_RatioOfUniforms_XY(ratio_algo, nPoints):\n    r = ratio_algo.getR()\n    range_logF = ratio_algo.getRange()\n    xInf = range_logF.getLowerBound()[0]\n    xSup = range_logF.getUpperBound()[0]\n    uSup = ratio_algo.getSupU()\n    vInf = ratio_algo.getInfV()[0]\n    vSup = ratio_algo.getSupV()[0]\n    logF = ratio_algo.getLogUnscaledPDF()\n\n    # \\partial varp\u0125i(A_{f,r}) domain\n    eps = 1e-10\n    step = (xSup - xInf - 2.0 * eps) / (nPoints - 1)\n    data_XY = ot.Sample(nPoints, 2)\n    for i in range(nPoints):\n        x = xInf + eps + i * step\n        val_F = exp(logF([x])[0])\n        data_XY[i, 0] = x\n        data_XY[i, 1] = val_F ** (1.0 / (1.0 + r))\n    g = ot.Graph(\"\", \"x\", \"y\", True, \"lower center\")\n    data_A = ot.Curve(data_XY)\n    data_A.setColor(\"purple\")\n    g.add(data_A)\n\n    # \\partial varphi(\\tilde{A}_{f,r}) bounding box\n    leg = ot.Description()\n    leg.add(r\"boundary of $\\varphi(A_{f,r})$\")\n    boundary_1_fct = ot.SymbolicFunction(\n        \"x\", \"(\" + str(vSup) + \"/x)^(1/\" + str(r) + \")\"\n    )\n    if vSup / (uSup**r) < xSup:\n        boundary_1 = boundary_1_fct.draw(vSup / (uSup**r), xSup, 101)\n        boundary_1.setColors([\"blue\"])\n        leg.add(r\"$\\varphi(\\mathcal{F}_1)$\")\n        g.add(boundary_1)\n    if vInf / (uSup**r) < uSup:\n        boundary_2_fct = ot.SymbolicFunction(\n            \"x\", \"(\" + str(vInf) + \"/x)^(1/\" + str(r) + \")\"\n        )\n        boundary_2 = boundary_2_fct.draw(xInf, vInf / (uSup**r), 101)\n        boundary_2.setColors([\"red\"])\n        leg.add(r\"$\\varphi(\\mathcal{F}_2)$\")\n        g.add(boundary_2)\n    boundary_3 = ot.Curve([[vInf / (uSup**r), uSup], [vSup / (uSup**r), uSup]])\n    boundary_3.setColor(\"green\")\n    g.add(boundary_3)\n    leg.add(r\"$\\varphi(\\mathcal{F}_3)$\")\n    g.setLegends(leg)\n\n    return g"
      ]
    },
    {
      "cell_type": "markdown",
      "metadata": {},
      "source": [
        "## Illustration.\nWe create the function $\\log f$ defined by:\n\n\\begin{align}:label: robertEx\n\n   \\log f(x) = \\log(\\cos(x)) + x,  \\quad  x \\in \\left[-\\dfrac{\\pi}{2}, \\dfrac{\\pi}{2}\\right]\\end{align}\n\nand the :class:`~openturns.experimental.RatioOfUniforms`.\n\n"
      ]
    },
    {
      "cell_type": "code",
      "execution_count": null,
      "metadata": {
        "collapsed": false
      },
      "outputs": [],
      "source": [
        "log_UnscaledPDF = ot.SymbolicFunction(\"x\", \"log(cos(x)) + x\")\neps = 1e-5\nrange_PDF = ot.Interval(-pi / 2.0 + eps, pi / 2.0 - eps)\nratio_Algo = otexp.RatioOfUniforms(log_UnscaledPDF, range_PDF)"
      ]
    },
    {
      "cell_type": "markdown",
      "metadata": {},
      "source": [
        "We draw the boundary $\\partial A_{f,r}$ and the bounding box $\\partial \\tilde{A}_{f,r}$\nin the $(u,v)$-space.\n\n"
      ]
    },
    {
      "cell_type": "code",
      "execution_count": null,
      "metadata": {
        "collapsed": false
      },
      "outputs": [],
      "source": [
        "g_UV = draw_RatioOfUniforms_UV(ratio_Algo)\ng_UV.setTitle(\n    rf\"$r = ${ratio_Algo.getR():.3g}, $\\tau = ${ratio_Algo.getAcceptanceRatio():.3g}\"\n)"
      ]
    },
    {
      "cell_type": "markdown",
      "metadata": {},
      "source": [
        "We draw the boundary $\\partial \\varphi(A_{f,r})$ and the bounding box $\\partial \\varphi(\\tilde{A}_{f,r})$\nin the $(x,y)$-space.\nsphinx_gallery_thumbnail_number = 1\n\n"
      ]
    },
    {
      "cell_type": "code",
      "execution_count": null,
      "metadata": {
        "collapsed": false
      },
      "outputs": [],
      "source": [
        "g_XY = draw_RatioOfUniforms_XY(ratio_Algo, 1001)\ng_XY.setTitle(\n    rf\"$r = ${ratio_Algo.getR():.3g}, $\\tau = ${ratio_Algo.getAcceptanceRatio():.3g}\"\n)\n\ngrid_default = ot.GridLayout(1, 2)\ngrid_default.setGraph(0, 0, g_UV)\ngrid_default.setGraph(0, 1, g_XY)\ngrid_default.setTitle(r\"$\\log f(x) = \\log(\\cos(x)) + x, x \\in ]-\\pi/2, \\pi/2[$\")\nview = otv.View(grid_default)"
      ]
    },
    {
      "cell_type": "markdown",
      "metadata": {},
      "source": [
        "We change the $r$ value and we draw the same plots.\n\n"
      ]
    },
    {
      "cell_type": "code",
      "execution_count": null,
      "metadata": {
        "collapsed": false
      },
      "outputs": [],
      "source": [
        "grid_full = ot.GridLayout(4, 2)\nfor i, r in enumerate([0.5, 0.8, 1.2, 2.0]):\n    ratio_Algo.setR(r)\n    g_UV = draw_RatioOfUniforms_UV(ratio_Algo)\n    g_UV.setLegendPosition(\"\")\n    g_UV.setTitle(\n        rf\"$r = ${ratio_Algo.getR():.3g}, $\\tau = ${ratio_Algo.getAcceptanceRatio():.3g}\"\n    )\n\n    g_XY = draw_RatioOfUniforms_XY(ratio_Algo, 1001)\n    g_XY.setLegendPosition(\"\")\n    g_XY.setTitle(\n        rf\"$r = ${ratio_Algo.getR():.3g}, $\\tau = ${ratio_Algo.getAcceptanceRatio():.3g}\"\n    )\n\n    grid_full.setGraph(i, 0, g_UV)\n    grid_full.setGraph(i, 1, g_XY)\n\ngrid_full.setTitle(r\"$\\log f(x) = \\log(\\cos(x)) + x,  \\quad x \\in ]-\\pi/2, \\pi/2[$\")\nview = otv.View(grid_full)"
      ]
    },
    {
      "cell_type": "markdown",
      "metadata": {},
      "source": [
        "## Study of the acceptance ratio.\nWe study the acceptance ratio $\\tau(r)$ as a function of the parameter $r$ for some distributions.\nIn these cases, the value is exact and computed from the volume of $A_{f,r}$ and the one of $\\tilde{A}_{f,r}$.\nWe draw the function $r \\rightarrow \\tau(r)$. We conclude that the default value $r=1$ seems to be correct\nin all these cases.\n\n\n"
      ]
    },
    {
      "cell_type": "code",
      "execution_count": null,
      "metadata": {
        "collapsed": false
      },
      "outputs": [],
      "source": [
        "mixt_gaus = ot.Mixture([ot.Normal(-2.0, 1.0), ot.Normal(4.0, 1.0)], [0.2, 0.8])\nlogPDF_list = [\n    ot.Normal().getLogPDF(),\n    ot.Normal(2).getLogPDF(),\n    ot.Normal(3).getLogPDF(),\n    ot.Exponential().getLogPDF(),\n    mixt_gaus.getLogPDF(),\n]\nrange_list = [\n    ot.Normal().getRange(),\n    ot.Normal(2).getRange(),\n    ot.Normal(3).getRange(),\n    ot.Exponential().getRange(),\n    mixt_gaus.getRange(),\n]\nname_list = [\"Normal(1)\", \"Normal(2)\", \"Normal(3)\", \"Exponential()\", \"Mixture Normal\"]\n\ng = ot.Graph(\n    r\"Acceptance ratio $\\tau$ as a function of $r$\", r\"$r$\", r\"$\\tau$\", True, \"topright\"\n)\ng.setLogScale(1)\nnumberR = 50\na = (1e2) ** (2.0 / numberR)\ndata_r_ratio = ot.Sample(numberR + 1, 2)\nisScaled = True\nfor k in range(len(logPDF_list)):\n    ratio_Algo = otexp.RatioOfUniforms(logPDF_list[k], range_list[k], isScaled)\n    for i in range(numberR + 1):\n        r = a ** (i - 0.5 * numberR)\n        ratio_Algo.setR(r)\n        accept_Ratio = ratio_Algo.getAcceptanceRatio()\n        data_r_ratio[i] = [r, accept_Ratio]\n    draw = ot.Curve(data_r_ratio)\n    draw.setLegend(name_list[k])\n    g.add(draw)\n\nisScaled = False\nratio_Algo = otexp.RatioOfUniforms(log_UnscaledPDF, range_PDF, isScaled)\nfor i in range(numberR + 1):\n    r = a ** (i - 0.5 * numberR)\n    ratio_Algo.setR(r)\n    accept_Ratio = ratio_Algo.getAcceptanceRatio()\n    data_r_ratio[i] = [r, accept_Ratio]\ndraw = ot.Curve(data_r_ratio)\ndraw.setLegend(\n    r\"$f(x) = \\cos(x)e^x\\mathbf{1}_{\\left[-\\frac{\\pi}{2}, \\frac{\\pi}{2}\\right]}(x)$\"\n)\ng.add(draw)\n\ng.setLegendPosition(\"upper left\")\ng.setLegendCorner([1.0, 1.0])\nview = otv.View(g)"
      ]
    },
    {
      "cell_type": "markdown",
      "metadata": {},
      "source": [
        "## Exploration of the optimization problems.\nWe illustrate how to explore the results of the optimization problems that have been solved to define\n$\\tilde{A}_{f,r}$.\nWe consider the example defined by the function:\n\n\\begin{align}f(x) = \\frac{1}{2} (2 + \\sin(x)^2) \\exp \\left[- \\left(2 + \\cos(3x)^3 + \\sin(2x)^3 \\right) x\n    \\right]  \\mathbf{1}_{[0, 2 \\pi]}(x).\\end{align}\n\nThe method *initialize* returns all the starting points that have been used to compute respectively $u_{sup}$,\n$v_{inf}$ and $v_{sup}$.\nThe maximum number of starting points is defined in :class:`~openturns.ResourceMap`, entry\n*RatioOfUniformas-MaximumMultiStart*. These\npoints are selected scrolling through  the Sobol low discrepance sequence in dimension $\\inputDim =  1$\nand which maximum size is defined in :class:`~openturns.ResourceMap`, entry *RatioOfUniforms-CandidateNumber*.\n\n"
      ]
    },
    {
      "cell_type": "code",
      "execution_count": null,
      "metadata": {
        "collapsed": false
      },
      "outputs": [],
      "source": [
        "f = ot.SymbolicFunction(\n    \"x\", \"0.5 * (2 + sin(x)^2) * exp( -( 2 + cos(3*x)^3 + sin(2*x)^3) * x )\"\n)\nlog_UnscaledPDF = ot.ComposedFunction(ot.SymbolicFunction(\"x\", \"log(x)\"), f)\nlower_bound = 0.0\nupper_bound = 2.0 * pi\nrange_PDF = ot.Interval(lower_bound, upper_bound)\n\ngraph = f.draw(lower_bound, upper_bound, 512)\ngraph.setTitle(\n    r\"Christian Robert function: $f(x) =  0.5(2 + \\sin^2 x) e^{ -x( 2 + \\cos^3 3x + \\sin^3 2x)}, x \\in [0, 2\\pi]$\"\n)\ngraph.setXTitle(r\"$x$\")\ngraph.setYTitle(r\"$f(x)$\")\nview = otv.View(graph)\n\nratio_Algo = otexp.RatioOfUniforms(log_UnscaledPDF, range_PDF)"
      ]
    },
    {
      "cell_type": "markdown",
      "metadata": {},
      "source": [
        "In order to get all the intermediate results, we change the :class:`~openturns.ResourceMap`,\nentry *MultiStart-KeepResults*.\n\nFurthermore, as $I = [0, 2 \\pi]=  [a_i, b_i]$, then $a_i \\geq 0$ implies that $v_{inf} = 0$.\nThere are only the bounds $u_{sup}$ and $v_{sup}$ to find: the collection of optimization problems\nonly contains 2 items.\n\n"
      ]
    },
    {
      "cell_type": "code",
      "execution_count": null,
      "metadata": {
        "collapsed": false
      },
      "outputs": [],
      "source": [
        "ot.ResourceMap.SetAsBool(\"MultiStart-KeepResults\", True)\ncoll_Multi_Start = ratio_Algo.initialize()\nstart_Sample_SupU = coll_Multi_Start[0].getStartingSample()\nstart_Sample_SupV = coll_Multi_Start[1].getStartingSample()"
      ]
    },
    {
      "cell_type": "markdown",
      "metadata": {},
      "source": [
        "We plot on the previous graph all the starting points (red) used to find $u_{sup}$ and the associated maxima found by the algorithm. We\nalso link each starting point to its associated optimal value (green).\n\n"
      ]
    },
    {
      "cell_type": "code",
      "execution_count": null,
      "metadata": {
        "collapsed": false
      },
      "outputs": [],
      "source": [
        "Cloud_start_Usup = ot.Cloud(\n    start_Sample_SupU, ot.Sample(start_Sample_SupU.getSize(), [0.0])\n)\nCloud_start_Usup.setColor(\"red\")\nCloud_start_Usup.setPointStyle(\"fsquare\")\ngraph.add(Cloud_start_Usup)\n\ncoll_results = coll_Multi_Start[0].getResultCollection()\nsample_optima = ot.Sample(0, 2)\nfor i in range(coll_results.getSize()):\n    opt_x = coll_results[i].getOptimalPoint()[0]\n    opt_value = f([opt_x])[0]\n    sample_optima.add([opt_x, opt_value])\n    line_convergence = ot.Curve([[start_Sample_SupU[i, 0], 0.0], [opt_x, opt_value]])\n    line_convergence.setLineStyle(\"dashed\")\n    line_convergence.setColor(\"black\")\n    graph.add(line_convergence)\ncloud_optima = ot.Cloud(sample_optima)\ncloud_optima.setColor(\"green\")\ncloud_optima.setPointStyle(\"star\")\ngraph.add(cloud_optima)\ngraph.setYTitle(\"\")\nview = otv.View(graph)"
      ]
    },
    {
      "cell_type": "code",
      "execution_count": null,
      "metadata": {
        "collapsed": false
      },
      "outputs": [],
      "source": [
        "view.ShowAll()"
      ]
    }
  ],
  "metadata": {
    "kernelspec": {
      "display_name": "Python 3",
      "language": "python",
      "name": "python3"
    },
    "language_info": {
      "codemirror_mode": {
        "name": "ipython",
        "version": 3
      },
      "file_extension": ".py",
      "mimetype": "text/x-python",
      "name": "python",
      "nbconvert_exporter": "python",
      "pygments_lexer": "ipython3",
      "version": "3.13.5"
    }
  },
  "nbformat": 4,
  "nbformat_minor": 0
}