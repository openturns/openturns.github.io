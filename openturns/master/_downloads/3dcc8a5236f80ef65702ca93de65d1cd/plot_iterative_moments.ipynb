{
  "cells": [
    {
      "cell_type": "markdown",
      "metadata": {},
      "source": [
        "\n# Estimate moments iteratively\n"
      ]
    },
    {
      "cell_type": "markdown",
      "metadata": {},
      "source": [
        "In this example, we use the :class:`~openturns.IterativeMoments` class\nto compute iterative statistics.\nThis class stores central moments up to a prescribed order iteratively.\nThen several statistics based on the moments are available depending on the\nchosen order.\n\n"
      ]
    },
    {
      "cell_type": "code",
      "execution_count": null,
      "metadata": {
        "collapsed": false
      },
      "outputs": [],
      "source": [
        "import openturns as ot\nimport openturns.viewer as otv"
      ]
    },
    {
      "cell_type": "markdown",
      "metadata": {},
      "source": [
        "We first create a one-dimensional Gaussian random variable to generate data.\n\n"
      ]
    },
    {
      "cell_type": "code",
      "execution_count": null,
      "metadata": {
        "collapsed": false
      },
      "outputs": [],
      "source": [
        "dim = 1\ndistNormal = ot.Normal(dim)"
      ]
    },
    {
      "cell_type": "markdown",
      "metadata": {},
      "source": [
        "Then we use the central moments up to order 4 with the\n:class:`~openturns.IterativeMoments` class by giving the order (here 4)\nand the dimension (here 1):\n\n"
      ]
    },
    {
      "cell_type": "code",
      "execution_count": null,
      "metadata": {
        "collapsed": false
      },
      "outputs": [],
      "source": [
        "order = 4\niterMoments = ot.IterativeMoments(order, dim)"
      ]
    },
    {
      "cell_type": "markdown",
      "metadata": {},
      "source": [
        "We can now perform the simulations.\nThe :class:`~openturns.IterativeMoments` object stores the central\nmoments iteratively.\nWe first increment the object with one :class:`~openturns.Point` at a time.\nAt any given step the current mean is obtained thanks to\nthe :meth:`~openturns.IterativeMoments.getMean` method and the\ncurrent number of iterations is given by\nthe :meth:`~openturns.IterativeMoments.getIterationNumber` method.\n\n"
      ]
    },
    {
      "cell_type": "code",
      "execution_count": null,
      "metadata": {
        "collapsed": false
      },
      "outputs": [],
      "source": [
        "size = 2000\nmeanEvolution = ot.Sample()\nfor i in range(size):\n    point = distNormal.getRealization()\n    iterMoments.increment(point)\n    meanEvolution.add(iterMoments.getMean())"
      ]
    },
    {
      "cell_type": "markdown",
      "metadata": {},
      "source": [
        "We display the evolution of the mean.\n\n"
      ]
    },
    {
      "cell_type": "code",
      "execution_count": null,
      "metadata": {
        "collapsed": false
      },
      "outputs": [],
      "source": [
        "iterationSample = ot.Sample.BuildFromPoint(range(1, size + 1))\ncurve = ot.Curve(iterationSample, meanEvolution)\ngraph = ot.Graph(\"Evolution of the mean\", \"iteration nb\", \"mean\", True)\ngraph.add(curve)\ngraph.setLogScale(ot.GraphImplementation.LOGX)\nview = otv.View(graph)"
      ]
    },
    {
      "cell_type": "markdown",
      "metadata": {},
      "source": [
        "We can also increment with a :class:`~openturns.Sample`.\n\n"
      ]
    },
    {
      "cell_type": "code",
      "execution_count": null,
      "metadata": {
        "collapsed": false
      },
      "outputs": [],
      "source": [
        "sample = distNormal.getSample(size)\niterMoments.increment(sample)"
      ]
    },
    {
      "cell_type": "markdown",
      "metadata": {},
      "source": [
        "We print the total number of iterations and the mean.\n\n"
      ]
    },
    {
      "cell_type": "code",
      "execution_count": null,
      "metadata": {
        "collapsed": false
      },
      "outputs": [],
      "source": [
        "print(\"Total number of iteration: \", iterMoments.getIterationNumber())\nprint(\"Mean: \", iterMoments.getMean())"
      ]
    },
    {
      "cell_type": "markdown",
      "metadata": {},
      "source": [
        "For the order of the `iterMoments` object is 4, we also have access to\nother statistics such as the variance (order 2), the skewness (order 3)\nor the kurtosis (order 4). For instance, a specified order of 3 would leave\nonly the variance and the skewness available.\n\n"
      ]
    },
    {
      "cell_type": "code",
      "execution_count": null,
      "metadata": {
        "collapsed": false
      },
      "outputs": [],
      "source": [
        "print(\"Variance: \", iterMoments.getVariance())\nprint(\"Skewness: \", iterMoments.getSkewness())\nprint(\"Kurtosis: \", iterMoments.getKurtosis())\n\notv.View.ShowAll()"
      ]
    }
  ],
  "metadata": {
    "kernelspec": {
      "display_name": "Python 3",
      "language": "python",
      "name": "python3"
    },
    "language_info": {
      "codemirror_mode": {
        "name": "ipython",
        "version": 3
      },
      "file_extension": ".py",
      "mimetype": "text/x-python",
      "name": "python",
      "nbconvert_exporter": "python",
      "pygments_lexer": "ipython3",
      "version": "3.11.7"
    }
  },
  "nbformat": 4,
  "nbformat_minor": 0
}