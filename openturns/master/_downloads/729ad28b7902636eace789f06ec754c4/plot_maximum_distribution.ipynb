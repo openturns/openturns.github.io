{
  "cells": [
    {
      "cell_type": "markdown",
      "metadata": {},
      "source": [
        "\n# Create the distribution of the maximum of distributions\n"
      ]
    },
    {
      "cell_type": "markdown",
      "metadata": {},
      "source": [
        "## Context\n\nIn this example, we define how to build a distribution defined as the maximum of some other ones.\n\nWe detail some interesting cases:\n\n- Case 1: The maximum of correlated scalar distributions,\n- Case 2: The maximum of independent scalar distributions,\n- Case 3: The maximum of independent and identically distributed scalar distributions.\n\n"
      ]
    },
    {
      "cell_type": "code",
      "execution_count": null,
      "metadata": {
        "collapsed": false
      },
      "outputs": [],
      "source": [
        "import openturns as ot\nimport openturns.viewer as otv"
      ]
    },
    {
      "cell_type": "markdown",
      "metadata": {},
      "source": [
        "## Case 1: The maximum correlated scalar distributions\n\nWe consider $d=3$ scalar distributions $X_i$ that form a random vector\n$(X_1, X_2, X_3)$ which copula is denoted by $C$.\n\nWe assume that:\n\n\\begin{align}X_1 \\sim \\cU(2.5, 3.5)\\\\\n   X_2 \\sim \\mbox{Log}\\cU(1.0, 1.2)\\\\\n   X_3 \\sim \\cT(2.0, 3.0, 4.0)\\\\\n   C \\sim \\mbox{NormalCopula}(\\mat{M})\\end{align}\n\nwhere $\\mat{M}$ is a correlation matix.\n\nWe want to define the distribution of:\n\n\\begin{align}Y_1 = \\max(X_1, X_2, X_3).\\end{align}\n\n"
      ]
    },
    {
      "cell_type": "markdown",
      "metadata": {},
      "source": [
        "We create the distribution of $(X_1, X_2, X_3)$:\n\n"
      ]
    },
    {
      "cell_type": "code",
      "execution_count": null,
      "metadata": {
        "collapsed": false
      },
      "outputs": [],
      "source": [
        "dist_X1 = ot.Uniform(2.5, 3.5)\ndist_X2 = ot.LogUniform(1.0, 1.2)\ndist_X3 = ot.Triangular(2.0, 3.0, 4.0)\ncoll = [dist_X1, dist_X2, dist_X3]\ncor_mat = ot.CorrelationMatrix([[1.0, -0.9, 0.0], [-0.9, 1.0, 0.3], [0.0, 0.3, 1.0]])\ncop = ot.NormalCopula(cor_mat)\ndist_X = ot.JointDistribution(coll, cop)"
      ]
    },
    {
      "cell_type": "markdown",
      "metadata": {},
      "source": [
        "We create the distribution of $Y_1$:\n\n"
      ]
    },
    {
      "cell_type": "code",
      "execution_count": null,
      "metadata": {
        "collapsed": false
      },
      "outputs": [],
      "source": [
        "dist_Y_1 = ot.MaximumDistribution(dist_X)\nprint(dist_Y_1)"
      ]
    },
    {
      "cell_type": "markdown",
      "metadata": {},
      "source": [
        "We draw its PDF:\n\n"
      ]
    },
    {
      "cell_type": "code",
      "execution_count": null,
      "metadata": {
        "collapsed": false
      },
      "outputs": [],
      "source": [
        "graph = dist_Y_1.drawPDF()\ngraph.setTitle(r\" Distribution of $Y_1 = max(X_1, X_2, X_3)$\")\ngraph.setXTitle(r\"$Y_1$\")\ngraph.setLegendPosition(\"\")\nview = otv.View(graph)"
      ]
    },
    {
      "cell_type": "markdown",
      "metadata": {},
      "source": [
        "## Case 2: The maximum of independent scalar distributions\n\nHere, we define $(\\tilde{X}_1,\\tilde{X}_2, \\tilde{X}_3)$ the random vector where the\n$\\tilde{X}_i$ are distributed as $X_i$ and are independent.\n\nWe want to define the distribution of:\n\n\\begin{align}Y_2 = \\max(\\tilde{X}_1,\\tilde{X}_2, \\tilde{X}_3).\\end{align}\n\n"
      ]
    },
    {
      "cell_type": "markdown",
      "metadata": {},
      "source": [
        "We create the distribution of $Y_2$:\n\n"
      ]
    },
    {
      "cell_type": "code",
      "execution_count": null,
      "metadata": {
        "collapsed": false
      },
      "outputs": [],
      "source": [
        "dist_Y_2 = ot.MaximumDistribution(coll)"
      ]
    },
    {
      "cell_type": "markdown",
      "metadata": {},
      "source": [
        "We could have written:\n\n"
      ]
    },
    {
      "cell_type": "code",
      "execution_count": null,
      "metadata": {
        "collapsed": false
      },
      "outputs": [],
      "source": [
        "dist_X_tilde = ot.JointDistribution(coll)\ndist_Y_2 = ot.MaximumDistribution(dist_X_tilde)"
      ]
    },
    {
      "cell_type": "markdown",
      "metadata": {},
      "source": [
        "We draw its PDF:\n\n"
      ]
    },
    {
      "cell_type": "code",
      "execution_count": null,
      "metadata": {
        "collapsed": false
      },
      "outputs": [],
      "source": [
        "graph = dist_Y_2.drawPDF()\ngraph.setTitle(r\" Distribution of $Y_2 = max(\\tilde{X}_1,\\tilde{X}_2, \\tilde{X}_3)$\")\ngraph.setXTitle(r\"$Y_2$\")\ngraph.setLegendPosition(\"\")\nview = otv.View(graph)"
      ]
    },
    {
      "cell_type": "markdown",
      "metadata": {},
      "source": [
        "## Case 3: The maximum of a independent and identically distributed scalar distributions\n\nHere we suppose that $X_4$ and $X_5$ are independent and identically distributed\nas $X_1$.\n\nWe want to define the distribution of:\n\n\\begin{align}Y_3 = \\max(X_1, X_4, X_5).\\end{align}\n\n"
      ]
    },
    {
      "cell_type": "markdown",
      "metadata": {},
      "source": [
        "We create the distribution of $Y_3$:\n\n"
      ]
    },
    {
      "cell_type": "code",
      "execution_count": null,
      "metadata": {
        "collapsed": false
      },
      "outputs": [],
      "source": [
        "dist_Y_3 = ot.MaximumDistribution(dist_X1, 3)"
      ]
    },
    {
      "cell_type": "markdown",
      "metadata": {},
      "source": [
        "We draw its PDF:\n\n"
      ]
    },
    {
      "cell_type": "code",
      "execution_count": null,
      "metadata": {
        "collapsed": false
      },
      "outputs": [],
      "source": [
        "graph = dist_Y_3.drawPDF()\ngraph.setTitle(r\" Distribution of $Y_3 = max(X_1, X_4, X_5)$\")\ngraph.setXTitle(r\"$Y_3$\")\ngraph.setLegendPosition(\"\")\nview = otv.View(graph)"
      ]
    },
    {
      "cell_type": "code",
      "execution_count": null,
      "metadata": {
        "collapsed": false
      },
      "outputs": [],
      "source": [
        "otv.View.ShowAll()"
      ]
    }
  ],
  "metadata": {
    "kernelspec": {
      "display_name": "Python 3",
      "language": "python",
      "name": "python3"
    },
    "language_info": {
      "codemirror_mode": {
        "name": "ipython",
        "version": 3
      },
      "file_extension": ".py",
      "mimetype": "text/x-python",
      "name": "python",
      "nbconvert_exporter": "python",
      "pygments_lexer": "ipython3",
      "version": "3.13.7"
    }
  },
  "nbformat": 4,
  "nbformat_minor": 0
}