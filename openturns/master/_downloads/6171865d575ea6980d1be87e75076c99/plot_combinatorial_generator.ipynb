{
  "cells": [
    {
      "cell_type": "markdown",
      "metadata": {},
      "source": [
        "\n# Combinatorial generators\n"
      ]
    },
    {
      "cell_type": "markdown",
      "metadata": {},
      "source": [
        "In this example we are going to expose the various design of experiments that allow one to generate all the integer collections satisfying a given combinatorial constraint:\n\n- The Tuples generator, which allows one to generate all the elements of a Cartesian product $E=\\{0,\\dots,n_0-1\\}\\times\\dots\\times\\{0,\\dots,n_{d-1}-1\\}$.\n\n  The total number of generated points is $N=\\prod_{k=0}^{d-1}n_k$.\n\n- The K-permutations generator, which allows one to generate all the injective functions from $\\{0,\\dots,k-1\\}$ into $\\{0,\\dots,n-1\\}$\n\n  The total number of generated points is $N=\\dfrac{n!}{(n-k)!}$.\n\n- The Combinations generator, which allows one to generate all the subsets of size $k$ of $\\{0,\\dots,n-1\\}$\n\n  The total number of generated points is $N=\\dfrac{n!}{k!(n-k)!}$.\n\n\n"
      ]
    },
    {
      "cell_type": "code",
      "execution_count": null,
      "metadata": {
        "collapsed": false
      },
      "outputs": [],
      "source": [
        "import openturns as ot\n\not.Log.Show(ot.Log.NONE)"
      ]
    },
    {
      "cell_type": "markdown",
      "metadata": {},
      "source": [
        "## Tuples\n\n"
      ]
    },
    {
      "cell_type": "code",
      "execution_count": null,
      "metadata": {
        "collapsed": false
      },
      "outputs": [],
      "source": [
        "experiment = ot.Tuples([2, 3, 5])\nprint(experiment.generate())"
      ]
    },
    {
      "cell_type": "markdown",
      "metadata": {},
      "source": [
        "## K-permutations\n\n"
      ]
    },
    {
      "cell_type": "code",
      "execution_count": null,
      "metadata": {
        "collapsed": false
      },
      "outputs": [],
      "source": [
        "experiment = ot.KPermutations(3, 4)\nprint(experiment.generate())"
      ]
    },
    {
      "cell_type": "markdown",
      "metadata": {},
      "source": [
        "## Combinations\n\n"
      ]
    },
    {
      "cell_type": "code",
      "execution_count": null,
      "metadata": {
        "collapsed": false
      },
      "outputs": [],
      "source": [
        "experiment = ot.Combinations(4, 6)\nprint(experiment.generate())"
      ]
    }
  ],
  "metadata": {
    "kernelspec": {
      "display_name": "Python 3",
      "language": "python",
      "name": "python3"
    },
    "language_info": {
      "codemirror_mode": {
        "name": "ipython",
        "version": 3
      },
      "file_extension": ".py",
      "mimetype": "text/x-python",
      "name": "python",
      "nbconvert_exporter": "python",
      "pygments_lexer": "ipython3",
      "version": "3.11.7"
    }
  },
  "nbformat": 4,
  "nbformat_minor": 0
}