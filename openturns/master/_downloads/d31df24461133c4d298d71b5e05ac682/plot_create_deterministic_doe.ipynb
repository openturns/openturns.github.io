{
  "cells": [
    {
      "cell_type": "markdown",
      "metadata": {},
      "source": [
        "\n# Create a deterministic design of experiments\n"
      ]
    },
    {
      "cell_type": "code",
      "execution_count": null,
      "metadata": {
        "collapsed": false
      },
      "outputs": [],
      "source": [
        "import openturns as ot\nimport openturns.viewer as viewer\nfrom matplotlib import pylab as plt\n\not.Log.Show(ot.Log.NONE)"
      ]
    },
    {
      "cell_type": "markdown",
      "metadata": {},
      "source": [
        "Four types of deterministic designs of experiments are available:\n\n- :class:`~openturns.Axial`\n- :class:`~openturns.Factorial`\n- :class:`~openturns.Composite`\n- :class:`~openturns.Box`\n\nEach type of deterministic design is discretized differently according to a number of levels.\n\nFunctionally speaking, a design is a :class:`~openturns.Sample` that lies within the unit cube $(0,1)^d$ and can be scaled and moved to cover the desired box.\n\n"
      ]
    },
    {
      "cell_type": "markdown",
      "metadata": {},
      "source": [
        "We will use the following function to plot bi-dimensional samples.\n\n"
      ]
    },
    {
      "cell_type": "code",
      "execution_count": null,
      "metadata": {
        "collapsed": false
      },
      "outputs": [],
      "source": [
        "def drawBidimensionalSample(sample, title):\n    n = sample.getSize()\n    graph = ot.Graph(\"%s, size=%d\" % (title, n), r\"$X_1$\", r\"$X_2$\", True, \"\")\n    # cloud = ot.Cloud(sample)\n    cloud = ot.Cloud(sample, \"blue\", \"fsquare\", \"\")\n    graph.add(cloud)\n    return graph"
      ]
    },
    {
      "cell_type": "markdown",
      "metadata": {},
      "source": [
        "## Axial design\n\n"
      ]
    },
    {
      "cell_type": "code",
      "execution_count": null,
      "metadata": {
        "collapsed": false
      },
      "outputs": [],
      "source": [
        "levels = [1.0, 1.5, 3.0]\nexperiment = ot.Axial(2, levels)\nsample = experiment.generate()\ngraph = drawBidimensionalSample(sample, \"Axial\")\nview = viewer.View(graph)"
      ]
    },
    {
      "cell_type": "markdown",
      "metadata": {},
      "source": [
        "Use \\*= to rescale and += to move a design.\nPay attention to the grid in the next graph.\n\n"
      ]
    },
    {
      "cell_type": "code",
      "execution_count": null,
      "metadata": {
        "collapsed": false
      },
      "outputs": [],
      "source": [
        "sample *= 2.0\nsample += [5.0, 8.0]\ngraph = drawBidimensionalSample(sample, \"Axial\")\nview = viewer.View(graph)"
      ]
    },
    {
      "cell_type": "markdown",
      "metadata": {},
      "source": [
        "## Factorial design\n\n\n"
      ]
    },
    {
      "cell_type": "code",
      "execution_count": null,
      "metadata": {
        "collapsed": false
      },
      "outputs": [],
      "source": [
        "experiment = ot.Factorial(2, levels)\nsample = experiment.generate()\nsample *= 2.0\nsample += [5.0, 8.0]\ngraph = drawBidimensionalSample(sample, \"Factorial\")\nview = viewer.View(graph)"
      ]
    },
    {
      "cell_type": "markdown",
      "metadata": {},
      "source": [
        "## Composite design\n\nA composite design is a stratified design of experiments enabling to create a pattern as the union of an Axial pattern and a Factorial one. The number of points generated is $1 + n_{\\mathrm{level}}(2n+2^n)$.\n\n\n"
      ]
    },
    {
      "cell_type": "code",
      "execution_count": null,
      "metadata": {
        "collapsed": false
      },
      "outputs": [],
      "source": [
        "experiment = ot.Composite(2, levels)\nsample = experiment.generate()\nsample *= 2.0\nsample += [5.0, 8.0]\ngraph = drawBidimensionalSample(sample, \"Composite\")\nview = viewer.View(graph)"
      ]
    },
    {
      "cell_type": "markdown",
      "metadata": {},
      "source": [
        "## Grid design\n\n\n"
      ]
    },
    {
      "cell_type": "code",
      "execution_count": null,
      "metadata": {
        "collapsed": false
      },
      "outputs": [],
      "source": [
        "levels = [3, 4]\nexperiment = ot.Box(levels)\nsample = experiment.generate()\nsample *= 2.0\nsample += [5.0, 8.0]\ngraph = drawBidimensionalSample(sample, \"Box\")\nview = viewer.View(graph)\nplt.show()"
      ]
    }
  ],
  "metadata": {
    "kernelspec": {
      "display_name": "Python 3",
      "language": "python",
      "name": "python3"
    },
    "language_info": {
      "codemirror_mode": {
        "name": "ipython",
        "version": 3
      },
      "file_extension": ".py",
      "mimetype": "text/x-python",
      "name": "python",
      "nbconvert_exporter": "python",
      "pygments_lexer": "ipython3",
      "version": "3.10.10"
    }
  },
  "nbformat": 4,
  "nbformat_minor": 0
}