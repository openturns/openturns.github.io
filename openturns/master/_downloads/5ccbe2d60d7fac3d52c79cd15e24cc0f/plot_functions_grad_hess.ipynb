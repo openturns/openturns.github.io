{
  "cells": [
    {
      "cell_type": "markdown",
      "metadata": {},
      "source": [
        "\n# Get the gradient and hessian as functions\n"
      ]
    },
    {
      "cell_type": "markdown",
      "metadata": {},
      "source": [
        "## Context\n\nLet $f : \\mathbb{R}^\\inputDim \\mapsto \\mathbb{R}^q$ a vectorial function defined by\nits component functions $f_i: \\mathbb{R}^d \\mapsto \\mathbb{R}$. We want to get its gradient\nand hessian as functions. The way to get it depends on the type of the function $f$.\n\nWe can do that:\n\n- Case 1: This case covers the :class:`~openturns.SymbolicFunction`,\n- Case 2: This case covers all the general case.\n\n\n"
      ]
    },
    {
      "cell_type": "code",
      "execution_count": null,
      "metadata": {
        "collapsed": false
      },
      "outputs": [],
      "source": [
        "import openturns as ot"
      ]
    },
    {
      "cell_type": "markdown",
      "metadata": {},
      "source": [
        "## Case 1: The :class:`~openturns.SymbolicFunction`\n\nHere, the function $f$ is a :class:`~openturns.SymbolicFunction`. In this\nparticular case, we have access to the analytical\nexpression of the gradient and hessian functions.\n\nLet $f : \\Rset^2 \\rightarrow \\Rset^2$ be defined by:\n\n\\begin{align}f(\\vect{x}) = (f_1(x_1, x_2), f_2(x_1, x_2)) = (x_1^2 + 2x_2^2, x_1 + 3x_2^4)\\end{align}\n\nWe want to define the gradient function $\\Rset^2 \\rightarrow \\Rset^4$ defined by:\n\n\\begin{align}:label: gradientFct\n\n   \\vect{x} \\rightarrow & = (\\dfrac{\\partial f_1 (\\vect{x})}{\\partial x_1},\n                    \\dfrac{\\partial f_1 (\\vect{x})}{\\partial x_2},\n                    \\dfrac{\\partial f_2 (\\vect{x})}{\\partial x_1},\n                    \\dfrac{\\partial f_2 (\\vect{x})}{\\partial x_2})\\\\\n               & = (2x_1, 4x_2, 1, 12x_2^3)\\end{align}\n\nTo get the gradient as a function, we first get the analytical expressions of the derivatives:\n\n"
      ]
    },
    {
      "cell_type": "code",
      "execution_count": null,
      "metadata": {
        "collapsed": false
      },
      "outputs": [],
      "source": [
        "f = ot.SymbolicFunction(['x1', 'x2'], ['x1^2 + 2 * x2^2', 'x1 + 3 * x2^4'])\nformula_f1_deriv_x1 = f.getGradient().getImplementation().getFormula(0, 0)\nformula_f1_deriv_x2 = f.getGradient().getImplementation().getFormula(1, 0)\nformula_f2_deriv_x1 = f.getGradient().getImplementation().getFormula(0, 1)\nformula_f2_deriv_x2 = f.getGradient().getImplementation().getFormula(1, 1)"
      ]
    },
    {
      "cell_type": "markdown",
      "metadata": {},
      "source": [
        "Then we create a new :class:`~openturns.SymbolicFunction` from these analytical expressions:\n\n"
      ]
    },
    {
      "cell_type": "code",
      "execution_count": null,
      "metadata": {
        "collapsed": false
      },
      "outputs": [],
      "source": [
        "gradient_AsFunction = ot.SymbolicFunction(['x1', 'x2'], [formula_f1_deriv_x1, formula_f1_deriv_x2,\n                                                         formula_f2_deriv_x1, formula_f2_deriv_x2])\nprint(gradient_AsFunction)"
      ]
    },
    {
      "cell_type": "markdown",
      "metadata": {},
      "source": [
        "We want to define the hessian function $\\Rset^2 \\rightarrow \\Rset^6$ defined by:\n\n\\begin{align}:label: hessianFct\n\n   \\vect{x} \\rightarrow & = (\\dfrac{\\partial^2 f_1 (\\vect{x})}{\\partial x_1^2},\n                   \\dfrac{\\partial^2 f_1 (\\vect{x})}{ \\partial x_1\\partial x_2},\n                   \\dfrac{\\partial^2 f_1 (\\vect{x})}{\\partial x_2^2},\n                   \\dfrac{\\partial f_2 (\\vect{x})}{\\partial x_1^2},\n                   \\dfrac{\\partial f_2 (\\vect{x})}{ \\partial x_1\\partial x_2}),\n                   \\dfrac{\\partial^2 f_2 (\\vect{x})}{\\partial x_2^2}\\\\\n               & = (2, 0 , 4, 0, 0, 36x_2^2)\\end{align}\n\nTo get the hessian as a function, we first get the analytical expressions of the second derivatives:\n\n"
      ]
    },
    {
      "cell_type": "code",
      "execution_count": null,
      "metadata": {
        "collapsed": false
      },
      "outputs": [],
      "source": [
        "formula_f1_hessian_x1x1 = f.getHessian().getImplementation().getFormula(0, 0, 0)\nformula_f1_hessian_x1x2 = f.getHessian().getImplementation().getFormula(1, 0, 0)\nformula_f1_hessian_x2x2 = f.getHessian().getImplementation().getFormula(1, 1, 0)\nformula_f2_hessian_x1x1 = f.getHessian().getImplementation().getFormula(0, 0, 1)\nformula_f2_hessian_x1x2 = f.getHessian().getImplementation().getFormula(1, 0, 1)\nformula_f2_hessian_x2x2 = f.getHessian().getImplementation().getFormula(1, 1, 1)"
      ]
    },
    {
      "cell_type": "markdown",
      "metadata": {},
      "source": [
        "Then we create a new :class:`~openturns.SymbolicFunction` from these analytical expressions:\n\n"
      ]
    },
    {
      "cell_type": "code",
      "execution_count": null,
      "metadata": {
        "collapsed": false
      },
      "outputs": [],
      "source": [
        "hessian_AsFunction = ot.SymbolicFunction(['x1', 'x2'], [formula_f1_hessian_x1x1, formula_f1_hessian_x1x2,\n                                                        formula_f1_hessian_x2x2, formula_f2_hessian_x1x1,\n                                                        formula_f2_hessian_x1x2, formula_f2_hessian_x2x2])\nprint(hessian_AsFunction)"
      ]
    },
    {
      "cell_type": "markdown",
      "metadata": {},
      "source": [
        "## Case 2: The general case\n\nHere, we consider a function $f$ such that we do not have access to the analytical\nexpression of its gradient and hessian functions.\n\nTo get the gradient function as a function defined in :eq:`gradientFct`, we have to use a\n:class:`~openturns.PythonFunction`. We re-use the previous function for for educational purposes.\n\n"
      ]
    },
    {
      "cell_type": "code",
      "execution_count": null,
      "metadata": {
        "collapsed": false
      },
      "outputs": [],
      "source": [
        "def gradient_AsFunction_Python(inPoint):\n    f1_deriv_x1 = f.gradient(inPoint)[0, 0]\n    f1_deriv_x2 = f.gradient(inPoint)[1, 0]\n    f2_deriv_x1 = f.gradient(inPoint)[0, 1]\n    f2_deriv_x2 = f.gradient(inPoint)[1, 1]\n    return [f1_deriv_x1, f1_deriv_x2, f2_deriv_x1, f2_deriv_x2]\n\n\ngradient_AsFunction_OT = ot.PythonFunction(2, 4, gradient_AsFunction_Python)\nprint(gradient_AsFunction_OT([1.0, 2.0]))"
      ]
    },
    {
      "cell_type": "markdown",
      "metadata": {},
      "source": [
        "To get the hessian function as a functiond efined in :eq:`hessianFct`, we do the same:\n\n"
      ]
    },
    {
      "cell_type": "code",
      "execution_count": null,
      "metadata": {
        "collapsed": false
      },
      "outputs": [],
      "source": [
        "def hessian_AsFunction_Python(inPoint):\n    f1_hessian_x1x1 = f.hessian(inPoint)[0, 0, 0]\n    f1_hessian_x1x2 = f.hessian(inPoint)[1, 0, 0]\n    f1_hessian_x2x2 = f.hessian(inPoint)[1, 1, 0]\n    f2_hessian_x1x1 = f.hessian(inPoint)[0, 0, 1]\n    f2_hessian_x1x2 = f.hessian(inPoint)[1, 0, 1]\n    f2_hessian_x2x2 = f.hessian(inPoint)[1, 1, 1]\n    return [f1_hessian_x1x1, f1_hessian_x1x2, f1_hessian_x2x2, f2_hessian_x1x1, f2_hessian_x1x2, f2_hessian_x2x2]\n\n\nhessian_AsFunction_OT = ot.PythonFunction(2, 6, hessian_AsFunction_Python)\nprint(hessian_AsFunction_OT([1.0, 2.0]))"
      ]
    }
  ],
  "metadata": {
    "kernelspec": {
      "display_name": "Python 3",
      "language": "python",
      "name": "python3"
    },
    "language_info": {
      "codemirror_mode": {
        "name": "ipython",
        "version": 3
      },
      "file_extension": ".py",
      "mimetype": "text/x-python",
      "name": "python",
      "nbconvert_exporter": "python",
      "pygments_lexer": "ipython3",
      "version": "3.13.3"
    }
  },
  "nbformat": 4,
  "nbformat_minor": 0
}