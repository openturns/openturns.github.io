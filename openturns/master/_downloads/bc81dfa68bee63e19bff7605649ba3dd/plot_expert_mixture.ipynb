{
  "cells": [
    {
      "cell_type": "code",
      "execution_count": null,
      "metadata": {
        "collapsed": false
      },
      "outputs": [],
      "source": [
        "%matplotlib inline"
      ]
    },
    {
      "cell_type": "markdown",
      "metadata": {},
      "source": [
        "\n# Mixture of experts\n"
      ]
    },
    {
      "cell_type": "markdown",
      "metadata": {},
      "source": [
        "In this example we are going to approximate a piece wise continuous function using an expert mixture of metamodels.\n\nThe metamodels will be represented by the family of $f_k \\forall \\in [1, N]$:\n\n\\begin{align}\\begin{align}\n     f(\\underline{x}) = f_1(\\underline{x}) \\quad \\forall \\underline{z} \\in Class\\, 1\n     \\dots\n     f(\\underline{x}) = f_k(\\underline{x}) \\quad \\forall \\underline{z} \\in Class\\, k\n     \\dots\n     f(\\underline{x}) = f_N(\\underline{x}) \\quad \\forall \\underline{z} \\in Class\\, N\n   \\end{align}\\end{align}\n\nwhere the N classes are defined by the classifier.\n\nUsing the supervised mode the classifier partitions the input and output space at once:\n\n\\begin{align}z =(\\underline{x}, f( \\underline{x}))\\end{align}\n\nThe classifier is MixtureClassifier based on a MixtureDistribution defined as:\n\n\\begin{align}p(\\underline{x}) = \\sum_{i=1}^N w_ip_i(\\underline{x})\\end{align}\n\n\nThe rule to assign a point to a class is defined as follows: $\\underline{x}$ is assigned to the class $j=argmax_j \\log w_kp_k(\\underline{z})$.\n\nThe grade of $\\underline{x}$ with respect to the class $k$ is $\\log w_kp_k(\\underline{x})$.\n\n\n\n"
      ]
    },
    {
      "cell_type": "code",
      "execution_count": null,
      "metadata": {
        "collapsed": false
      },
      "outputs": [],
      "source": [
        "from __future__ import print_function\nimport openturns as ot\nfrom matplotlib import pyplot as plt\nimport openturns.viewer as viewer\nfrom matplotlib import pylab as plt\nfrom openturns.viewer import View\nimport numpy as np\not.Log.Show(ot.Log.NONE)"
      ]
    },
    {
      "cell_type": "code",
      "execution_count": null,
      "metadata": {
        "collapsed": false
      },
      "outputs": [],
      "source": [
        "dimension = 1\n\n# Define the piecewise model we want to rebuild\ndef piecewise(X):\n    # if x < 0.0:\n    #     f = (x+0.75)**2-0.75**2\n    # else:\n    #     f = 2.0-x**2\n    xarray = np.array(X, copy=False)\n    return np.piecewise(xarray, [xarray < 0, xarray >= 0], [lambda x: x*(x+1.5), lambda x: 2.0 - x*x])\nf = ot.PythonFunction(1, 1, func_sample=piecewise)"
      ]
    },
    {
      "cell_type": "markdown",
      "metadata": {},
      "source": [
        "Build a metamodel over each segment\n\n"
      ]
    },
    {
      "cell_type": "code",
      "execution_count": null,
      "metadata": {
        "collapsed": false
      },
      "outputs": [],
      "source": [
        "degree = 5\nsamplingSize = 100\nenumerateFunction = ot.LinearEnumerateFunction(dimension)\nproductBasis = ot.OrthogonalProductPolynomialFactory([ot.LegendreFactory()] * dimension, enumerateFunction)\nadaptiveStrategy = ot.FixedStrategy(productBasis, enumerateFunction.getStrataCumulatedCardinal(degree))\nprojectionStrategy = ot.LeastSquaresStrategy(ot.MonteCarloExperiment(samplingSize))"
      ]
    },
    {
      "cell_type": "markdown",
      "metadata": {},
      "source": [
        "Segment 1: (-1.0; 0.0)\n\n"
      ]
    },
    {
      "cell_type": "code",
      "execution_count": null,
      "metadata": {
        "collapsed": false
      },
      "outputs": [],
      "source": [
        "d1 = ot.Uniform(-1.0, 0.0)\nfc1 = ot.FunctionalChaosAlgorithm(f, d1, adaptiveStrategy, projectionStrategy)\nfc1.run()\nmm1 = fc1.getResult().getMetaModel()\ngraph = mm1.draw(-1.0, -1e-6)\nview = viewer.View(graph)"
      ]
    },
    {
      "cell_type": "markdown",
      "metadata": {},
      "source": [
        "Segment 2: (0.0, 1.0)\n\n"
      ]
    },
    {
      "cell_type": "code",
      "execution_count": null,
      "metadata": {
        "collapsed": false
      },
      "outputs": [],
      "source": [
        "d2 = ot.Uniform(0.0, 1.0)\nfc2 = ot.FunctionalChaosAlgorithm(f, d2, adaptiveStrategy, projectionStrategy)\nfc2.run()\nmm2 = fc2.getResult().getMetaModel()\ngraph = mm2.draw(1e-6,1.0)\nview = viewer.View(graph)"
      ]
    },
    {
      "cell_type": "markdown",
      "metadata": {},
      "source": [
        "Define the mixture\n\n"
      ]
    },
    {
      "cell_type": "code",
      "execution_count": null,
      "metadata": {
        "collapsed": false
      },
      "outputs": [],
      "source": [
        "R = ot.CorrelationMatrix(2)\nd1 = ot.Normal([-1.0, -1.0], [1.0]*2, R)# segment 1\nd2 = ot.Normal([1.0, 1.0], [1.0]*2, R)# segment 2\nweights = [1.0]*2\natoms = [d1, d2]\nmixture = ot.Mixture(atoms, weights)"
      ]
    },
    {
      "cell_type": "markdown",
      "metadata": {},
      "source": [
        "Create the classifier based on the mixture\n\n"
      ]
    },
    {
      "cell_type": "code",
      "execution_count": null,
      "metadata": {
        "collapsed": false
      },
      "outputs": [],
      "source": [
        "classifier = ot.MixtureClassifier(mixture)"
      ]
    },
    {
      "cell_type": "markdown",
      "metadata": {},
      "source": [
        "Create local experts using the metamodels\n\n"
      ]
    },
    {
      "cell_type": "code",
      "execution_count": null,
      "metadata": {
        "collapsed": false
      },
      "outputs": [],
      "source": [
        "experts = ot.Basis([mm1, mm2])"
      ]
    },
    {
      "cell_type": "markdown",
      "metadata": {},
      "source": [
        "Create a mixture of experts\n\n"
      ]
    },
    {
      "cell_type": "code",
      "execution_count": null,
      "metadata": {
        "collapsed": false
      },
      "outputs": [],
      "source": [
        "evaluation = ot.ExpertMixture(experts, classifier)\nmoe = ot.Function(evaluation)"
      ]
    },
    {
      "cell_type": "markdown",
      "metadata": {},
      "source": [
        "Draw the mixture of experts\n\n"
      ]
    },
    {
      "cell_type": "code",
      "execution_count": null,
      "metadata": {
        "collapsed": false
      },
      "outputs": [],
      "source": [
        "graph = moe.draw(-1.0, 1.0)\nview = viewer.View(graph)\nplt.show()"
      ]
    }
  ],
  "metadata": {
    "kernelspec": {
      "display_name": "Python 3",
      "language": "python",
      "name": "python3"
    },
    "language_info": {
      "codemirror_mode": {
        "name": "ipython",
        "version": 3
      },
      "file_extension": ".py",
      "mimetype": "text/x-python",
      "name": "python",
      "nbconvert_exporter": "python",
      "pygments_lexer": "ipython3",
      "version": "3.9.7"
    }
  },
  "nbformat": 4,
  "nbformat_minor": 0
}