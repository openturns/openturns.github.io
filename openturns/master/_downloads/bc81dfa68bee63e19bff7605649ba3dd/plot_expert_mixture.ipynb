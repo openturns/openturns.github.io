{
  "cells": [
    {
      "cell_type": "markdown",
      "metadata": {},
      "source": [
        "\n# Mixture of experts\n"
      ]
    },
    {
      "cell_type": "markdown",
      "metadata": {},
      "source": [
        "In this example we are going to approximate a piece wise continuous function using an expert mixture of metamodels.\n\nThe metamodels will be represented by the family of functions $f_k \\forall \\in [1, n_c]$:\n\n\\begin{align}f(\\vect{x}) = f_k(\\vect{x})\\end{align}\n\nfor any $\\vect{z} \\in \\textrm{Class}_k$ where the $n_c \\in \\Nset$ classes are defined by the classifier.\n\nUsing the supervised mode the classifier partitions the input and output spaces at once:\n\n\\begin{align}\\vect{z} = (\\vect{x}, f(\\vect{x}))\\end{align}\n\nThe classifier is :class:`~openturns.MixtureClassifier` based on a :class:`~openturns.Mixture` distribution defined as:\n\n\\begin{align}p(\\vect{x}) = \\sum_{i=1}^{n_c} w_i p_i(\\vect{x})\\end{align}\n\n\nThe rule to assign a point to a class is defined as follows: $\\vect{x}$ is assigned to the class $j = \\operatorname{argmax}_j \\log w_k p_k(\\vect{z})$.\n\nThe grade of $\\vect{x}$ with respect to the class $k$ is $\\log w_k p_k(\\vect{x})$.\n\n\n\n"
      ]
    },
    {
      "cell_type": "code",
      "execution_count": null,
      "metadata": {
        "collapsed": false
      },
      "outputs": [],
      "source": [
        "import openturns as ot\nfrom matplotlib import pyplot as plt\nimport openturns.viewer as viewer\nimport numpy as np\n\not.Log.Show(ot.Log.NONE)"
      ]
    },
    {
      "cell_type": "code",
      "execution_count": null,
      "metadata": {
        "collapsed": false
      },
      "outputs": [],
      "source": [
        "dimension = 1\n\n# Define the piecewise model we want to rebuild\n\n\ndef piecewise(X):\n    # if x < 0.0:\n    #     f = (x+0.75)**2-0.75**2\n    # else:\n    #     f = 2.0-x**2\n    xarray = np.asarray(X)\n    return np.piecewise(\n        xarray,\n        [xarray < 0, xarray >= 0],\n        [lambda x: x * (x + 1.5), lambda x: 2.0 - x * x],\n    )\n\n\nf = ot.PythonFunction(1, 1, func_sample=piecewise)"
      ]
    },
    {
      "cell_type": "markdown",
      "metadata": {},
      "source": [
        "Build a metamodel over each segment\n\n"
      ]
    },
    {
      "cell_type": "code",
      "execution_count": null,
      "metadata": {
        "collapsed": false
      },
      "outputs": [],
      "source": [
        "degree = 5\nsamplingSize = 100\nenumerateFunction = ot.LinearEnumerateFunction(dimension)\nproductBasis = ot.OrthogonalProductPolynomialFactory(\n    [ot.LegendreFactory()] * dimension, enumerateFunction\n)\nadaptiveStrategy = ot.FixedStrategy(\n    productBasis, enumerateFunction.getStrataCumulatedCardinal(degree)\n)"
      ]
    },
    {
      "cell_type": "markdown",
      "metadata": {},
      "source": [
        "Interval 1: $[-1.0; 0.0]$\n\n"
      ]
    },
    {
      "cell_type": "code",
      "execution_count": null,
      "metadata": {
        "collapsed": false
      },
      "outputs": [],
      "source": [
        "d1 = ot.Uniform(-1.0, 0.0)\nX1 = d1.getSample(samplingSize)\nY1 = f(X1)\nfc1 = ot.FunctionalChaosAlgorithm(X1, Y1, d1, adaptiveStrategy)\nfc1.run()\nmm1 = fc1.getResult().getMetaModel()\ngraph = mm1.draw(-1.0, -1e-6)\nview = viewer.View(graph)"
      ]
    },
    {
      "cell_type": "markdown",
      "metadata": {},
      "source": [
        "Interval 2: $[0.0, 1.0]$\n\n"
      ]
    },
    {
      "cell_type": "code",
      "execution_count": null,
      "metadata": {
        "collapsed": false
      },
      "outputs": [],
      "source": [
        "d2 = ot.Uniform(0.0, 1.0)\nX2 = d2.getSample(samplingSize)\nY2 = f(X2)\nfc2 = ot.FunctionalChaosAlgorithm(X2, Y2, d2, adaptiveStrategy)\nfc2.run()\nmm2 = fc2.getResult().getMetaModel()\ngraph = mm2.draw(1e-6, 1.0)\nview = viewer.View(graph)"
      ]
    },
    {
      "cell_type": "markdown",
      "metadata": {},
      "source": [
        "Define the mixture\n\n"
      ]
    },
    {
      "cell_type": "code",
      "execution_count": null,
      "metadata": {
        "collapsed": false
      },
      "outputs": [],
      "source": [
        "R = ot.CorrelationMatrix(2)\nd1 = ot.Normal([-1.0, -1.0], [1.0] * 2, R)  # segment 1\nd2 = ot.Normal([1.0, 1.0], [1.0] * 2, R)  # segment 2\nweights = [1.0] * 2\natoms = [d1, d2]\nmixture = ot.Mixture(atoms, weights)"
      ]
    },
    {
      "cell_type": "markdown",
      "metadata": {},
      "source": [
        "Create the classifier based on the mixture\n\n"
      ]
    },
    {
      "cell_type": "code",
      "execution_count": null,
      "metadata": {
        "collapsed": false
      },
      "outputs": [],
      "source": [
        "classifier = ot.MixtureClassifier(mixture)"
      ]
    },
    {
      "cell_type": "markdown",
      "metadata": {},
      "source": [
        "Create local experts using the metamodels\n\n"
      ]
    },
    {
      "cell_type": "code",
      "execution_count": null,
      "metadata": {
        "collapsed": false
      },
      "outputs": [],
      "source": [
        "experts = ot.Basis([mm1, mm2])"
      ]
    },
    {
      "cell_type": "markdown",
      "metadata": {},
      "source": [
        "Create a mixture of experts\n\n"
      ]
    },
    {
      "cell_type": "code",
      "execution_count": null,
      "metadata": {
        "collapsed": false
      },
      "outputs": [],
      "source": [
        "evaluation = ot.ExpertMixture(experts, classifier)\nmoe = ot.Function(evaluation)"
      ]
    },
    {
      "cell_type": "markdown",
      "metadata": {},
      "source": [
        "Draw the mixture of experts\n\n"
      ]
    },
    {
      "cell_type": "code",
      "execution_count": null,
      "metadata": {
        "collapsed": false
      },
      "outputs": [],
      "source": [
        "graph = moe.draw(-1.0, 1.0)\nview = viewer.View(graph)\nplt.show()"
      ]
    }
  ],
  "metadata": {
    "kernelspec": {
      "display_name": "Python 3",
      "language": "python",
      "name": "python3"
    },
    "language_info": {
      "codemirror_mode": {
        "name": "ipython",
        "version": 3
      },
      "file_extension": ".py",
      "mimetype": "text/x-python",
      "name": "python",
      "nbconvert_exporter": "python",
      "pygments_lexer": "ipython3",
      "version": "3.12.6"
    }
  },
  "nbformat": 4,
  "nbformat_minor": 0
}