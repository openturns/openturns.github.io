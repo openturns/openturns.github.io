{
  "cells": [
    {
      "cell_type": "markdown",
      "metadata": {},
      "source": [
        "\n# Create a full or sparse polynomial chaos expansion\n"
      ]
    },
    {
      "cell_type": "markdown",
      "metadata": {},
      "source": [
        "In this example we create a global approximation of a model using\npolynomial chaos expansion based on a design of experiment.\nThe goal of this example is to show how we can create a full or\nsparse polynomial chaos expansion depending on our needs\nand depending on the number of observations we have.\nIn general, we should have more observations than parameters to estimate.\nThis is why a sparse polynomial chaos may be interesting:\nby carefully selecting the coefficients we estimate,\nwe may reduce overfitting and increase the predictions of the\nmetamodel.\n\n"
      ]
    },
    {
      "cell_type": "code",
      "execution_count": null,
      "metadata": {
        "collapsed": false
      },
      "outputs": [],
      "source": [
        "import openturns as ot\n\not.Log.Show(ot.Log.NONE)"
      ]
    },
    {
      "cell_type": "markdown",
      "metadata": {},
      "source": [
        "## Define the model\n\n"
      ]
    },
    {
      "cell_type": "markdown",
      "metadata": {},
      "source": [
        "Create the function.\n\n"
      ]
    },
    {
      "cell_type": "code",
      "execution_count": null,
      "metadata": {
        "collapsed": false
      },
      "outputs": [],
      "source": [
        "myModel = ot.SymbolicFunction(\n    [\"x1\", \"x2\", \"x3\", \"x4\"], [\"1 + x1 * x2 + 2 * x3^2 + x4^4\"]\n)"
      ]
    },
    {
      "cell_type": "markdown",
      "metadata": {},
      "source": [
        "Create a multivariate distribution.\n\n"
      ]
    },
    {
      "cell_type": "code",
      "execution_count": null,
      "metadata": {
        "collapsed": false
      },
      "outputs": [],
      "source": [
        "distribution = ot.JointDistribution(\n    [ot.Normal(), ot.Uniform(), ot.Gamma(2.75, 1.0), ot.Beta(2.5, 1.0, -1.0, 2.0)]\n)"
      ]
    },
    {
      "cell_type": "markdown",
      "metadata": {},
      "source": [
        "In order to create the PCE, we can specify the distribution of the\ninput parameters.\nIf not known, statistical inference can be used to select a possible\ncandidate, and fitting tests can validate such an hypothesis.\nPlease read :doc:`Fit a distribution from an input sample </auto_meta_modeling/polynomial_chaos_metamodel/plot_chaos_build_distribution>`\nfor an example of this method.\n\n"
      ]
    },
    {
      "cell_type": "markdown",
      "metadata": {},
      "source": [
        "## Create a training sample\n\n"
      ]
    },
    {
      "cell_type": "markdown",
      "metadata": {},
      "source": [
        "Create a pair of input and output samples.\n\n"
      ]
    },
    {
      "cell_type": "code",
      "execution_count": null,
      "metadata": {
        "collapsed": false
      },
      "outputs": [],
      "source": [
        "sampleSize = 250\ninputSample = distribution.getSample(sampleSize)\noutputSample = myModel(inputSample)"
      ]
    },
    {
      "cell_type": "markdown",
      "metadata": {},
      "source": [
        "## Build the orthogonal basis\n\n"
      ]
    },
    {
      "cell_type": "markdown",
      "metadata": {},
      "source": [
        "In the next cell, we create the univariate orthogonal polynomial basis\nfor each marginal.\n\n"
      ]
    },
    {
      "cell_type": "code",
      "execution_count": null,
      "metadata": {
        "collapsed": false
      },
      "outputs": [],
      "source": [
        "inputDimension = inputSample.getDimension()\ncoll = [\n    ot.StandardDistributionPolynomialFactory(distribution.getMarginal(i))\n    for i in range(inputDimension)\n]\nenumerateFunction = ot.LinearEnumerateFunction(inputDimension)\nproductBasis = ot.OrthogonalProductPolynomialFactory(coll, enumerateFunction)"
      ]
    },
    {
      "cell_type": "markdown",
      "metadata": {},
      "source": [
        "We can achieve the same result using :class:`~openturns.OrthogonalProductPolynomialFactory`.\n\n"
      ]
    },
    {
      "cell_type": "code",
      "execution_count": null,
      "metadata": {
        "collapsed": false
      },
      "outputs": [],
      "source": [
        "marginalDistributionCollection = [\n    distribution.getMarginal(i) for i in range(inputDimension)\n]\nmultivariateBasis = ot.OrthogonalProductPolynomialFactory(\n    marginalDistributionCollection\n)\nmultivariateBasis"
      ]
    },
    {
      "cell_type": "markdown",
      "metadata": {},
      "source": [
        "## Create a full PCE\n\n"
      ]
    },
    {
      "cell_type": "markdown",
      "metadata": {},
      "source": [
        "Create the algorithm.\nWe compute the basis size from the total degree.\nThe next lines use the :class:`~openturns.LeastSquaresStrategy` class\nwith default parameters (the default is the\n:class:`~openturns.PenalizedLeastSquaresAlgorithmFactory` class).\nThis creates a full polynomial chaos expansion, i.e.\nwe keep all the candidate coefficients produced by the enumeration\nrule.\nIn order to create a sparse polynomial chaos expansion, we\nmust use the :class:`~openturns.LeastSquaresMetaModelSelectionFactory`\nclass instead.\n\n\n"
      ]
    },
    {
      "cell_type": "code",
      "execution_count": null,
      "metadata": {
        "collapsed": false
      },
      "outputs": [],
      "source": [
        "totalDegree = 3\ncandidateBasisSize = enumerateFunction.getBasisSizeFromTotalDegree(totalDegree)\nprint(\"Candidate basis size = \", candidateBasisSize)\nadaptiveStrategy = ot.FixedStrategy(productBasis, candidateBasisSize)\nprojectionStrategy = ot.LeastSquaresStrategy()\nalgo = ot.FunctionalChaosAlgorithm(\n    inputSample, outputSample, distribution, adaptiveStrategy, projectionStrategy\n)\nalgo.run()\nresult = algo.getResult()\nresult"
      ]
    },
    {
      "cell_type": "markdown",
      "metadata": {},
      "source": [
        "Get the number of coefficients in the PCE.\n\n"
      ]
    },
    {
      "cell_type": "code",
      "execution_count": null,
      "metadata": {
        "collapsed": false
      },
      "outputs": [],
      "source": [
        "selectedBasisSizeFull = result.getIndices().getSize()\nprint(\"Selected basis size = \", selectedBasisSizeFull)"
      ]
    },
    {
      "cell_type": "markdown",
      "metadata": {},
      "source": [
        "We see that the number of coefficients in the selected basis is\nequal to the number of coefficients in the candidate basis.\nThis is, indeed, a *full* PCE.\n\n"
      ]
    },
    {
      "cell_type": "markdown",
      "metadata": {},
      "source": [
        "## Use the PCE\n\n"
      ]
    },
    {
      "cell_type": "markdown",
      "metadata": {},
      "source": [
        "Get the metamodel function.\n\n"
      ]
    },
    {
      "cell_type": "code",
      "execution_count": null,
      "metadata": {
        "collapsed": false
      },
      "outputs": [],
      "source": [
        "metamodel = result.getMetaModel()"
      ]
    },
    {
      "cell_type": "markdown",
      "metadata": {},
      "source": [
        "In order to evaluate the metamodel on a single point, we just\nuse it as any other :class:`openturns.Function`.\n\n"
      ]
    },
    {
      "cell_type": "code",
      "execution_count": null,
      "metadata": {
        "collapsed": false
      },
      "outputs": [],
      "source": [
        "xPoint = distribution.getMean()\nyPoint = metamodel(xPoint)\nprint(\"Value at \", xPoint, \" is \", yPoint)"
      ]
    },
    {
      "cell_type": "markdown",
      "metadata": {},
      "source": [
        "Print residuals.\n\n"
      ]
    },
    {
      "cell_type": "code",
      "execution_count": null,
      "metadata": {
        "collapsed": false
      },
      "outputs": [],
      "source": [
        "result.getResiduals()"
      ]
    },
    {
      "cell_type": "markdown",
      "metadata": {},
      "source": [
        "Based on these results, we may want to validate our metamodel.\nMore details on this topic are presented in\n:doc:`Validate a polynomial chaos </auto_meta_modeling/polynomial_chaos_metamodel/plot_chaos_draw_validation>`.\n\n"
      ]
    },
    {
      "cell_type": "markdown",
      "metadata": {},
      "source": [
        "## Create a sparse PCE\n\n"
      ]
    },
    {
      "cell_type": "markdown",
      "metadata": {},
      "source": [
        "In order to create a sparse polynomial chaos expansion, we\nuse the :class:`~openturns.LeastSquaresMetaModelSelectionFactory`\nclass instead.\n\n\n"
      ]
    },
    {
      "cell_type": "code",
      "execution_count": null,
      "metadata": {
        "collapsed": false
      },
      "outputs": [],
      "source": [
        "totalDegree = 6\ncandidateBasisSize = enumerateFunction.getBasisSizeFromTotalDegree(totalDegree)\nprint(\"Candidate basis size = \", candidateBasisSize)\nadaptiveStrategy = ot.FixedStrategy(productBasis, candidateBasisSize)\nselectionAlgorithm = ot.LeastSquaresMetaModelSelectionFactory()\nprojectionStrategy = ot.LeastSquaresStrategy(selectionAlgorithm)\nalgo = ot.FunctionalChaosAlgorithm(\n    inputSample, outputSample, distribution, adaptiveStrategy, projectionStrategy\n)\nalgo.run()\nresult = algo.getResult()\nresult"
      ]
    },
    {
      "cell_type": "markdown",
      "metadata": {},
      "source": [
        "Get the number of coefficients in the PCE.\n\n"
      ]
    },
    {
      "cell_type": "code",
      "execution_count": null,
      "metadata": {
        "collapsed": false
      },
      "outputs": [],
      "source": [
        "selectedBasisSizeSparse = result.getIndices().getSize()\nprint(\"Selected basis size = \", selectedBasisSizeSparse)"
      ]
    },
    {
      "cell_type": "markdown",
      "metadata": {},
      "source": [
        "We see that the number of selected coefficients is lower than\nthe number of candidate coefficients.\nThis may reduce overfitting and can produce a PCE with more\naccurate predictions.\n\n"
      ]
    }
  ],
  "metadata": {
    "kernelspec": {
      "display_name": "Python 3",
      "language": "python",
      "name": "python3"
    },
    "language_info": {
      "codemirror_mode": {
        "name": "ipython",
        "version": 3
      },
      "file_extension": ".py",
      "mimetype": "text/x-python",
      "name": "python",
      "nbconvert_exporter": "python",
      "pygments_lexer": "ipython3",
      "version": "3.12.4"
    }
  },
  "nbformat": 4,
  "nbformat_minor": 0
}