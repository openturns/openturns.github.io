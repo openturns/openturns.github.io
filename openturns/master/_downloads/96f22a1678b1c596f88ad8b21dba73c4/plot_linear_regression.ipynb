{
  "cells": [
    {
      "cell_type": "markdown",
      "metadata": {},
      "source": [
        "\n# Build and validate a linear model\n"
      ]
    },
    {
      "cell_type": "markdown",
      "metadata": {},
      "source": [
        "In this example we are going to build a linear regression model and validate it numerically and graphically.\n\nThe linear model between links a scalar variable $Y$ and to an n-dimensional one $\\underline{X} = (X_i)_{i \\leq n}$, as follows:\n\n\\begin{align}\\tilde{Y} = a_0 + \\sum_{i=1}^n a_i X_i + \\varepsilon\\end{align}\n\nwhere $\\varepsilon$ is the residual, supposed to follow the Normal(0.0, 1.0) distribution.\n\nThe linear model may be validated graphically if $\\underline{X}$ is of dimension 1, by drawing on the same graph the cloud $(X_i, Y_i)$.\n\nThe linear model also be validate numerically with several tests:\n\n- LinearModelFisher: tests the nullity of the regression linear model coefficients (Fisher distribution used),\n- LinearModelResidualMean: tests, under the hypothesis of a gaussian sample, if the mean of the residual is equal to zero.\n  It is based on the Student test (equality of mean for two gaussian samples).\n\n\nThe hypothesis on the residuals (centered gaussian distribution) may be validated:\n\n- graphically if $\\underline{X}$ is of dimension 1, by drawing the residual couples ($\\varepsilon_i, \\varepsilon_{i+1}$),\n  where the residual $\\varepsilon_i$ is evaluated on the samples $(X, Y)$.\n- numerically with the LinearModelResidualMean Test which tests, under the hypothesis of a gaussian sample, if the mean of the residual is equal to zero.\n  It is based on the Student test (equality of mean for two gaussian samples).\n\n\n"
      ]
    },
    {
      "cell_type": "code",
      "execution_count": null,
      "metadata": {
        "collapsed": false
      },
      "outputs": [],
      "source": [
        "import openturns as ot\nimport openturns.viewer as viewer\nfrom matplotlib import pylab as plt\n\not.Log.Show(ot.Log.NONE)"
      ]
    },
    {
      "cell_type": "markdown",
      "metadata": {},
      "source": [
        "Generate X,Y samples\n\n"
      ]
    },
    {
      "cell_type": "code",
      "execution_count": null,
      "metadata": {
        "collapsed": false
      },
      "outputs": [],
      "source": [
        "N = 1000\nXsample = ot.Triangular(1.0, 5.0, 10.0).getSample(N)\nYsample = Xsample * 3.0 + ot.Normal(0.5, 1.0).getSample(N)"
      ]
    },
    {
      "cell_type": "markdown",
      "metadata": {},
      "source": [
        "Generate a particular scalar sampleX\n\n"
      ]
    },
    {
      "cell_type": "code",
      "execution_count": null,
      "metadata": {
        "collapsed": false
      },
      "outputs": [],
      "source": [
        "particularXSample = ot.Triangular(1.0, 5.0, 10.0).getSample(N)"
      ]
    },
    {
      "cell_type": "markdown",
      "metadata": {},
      "source": [
        "Create the linear model from Y,X samples\n\n"
      ]
    },
    {
      "cell_type": "code",
      "execution_count": null,
      "metadata": {
        "collapsed": false
      },
      "outputs": [],
      "source": [
        "result = ot.LinearModelAlgorithm(Xsample, Ysample).getResult()\n\n# Get the coefficients ai\nprint(\"coefficients of the linear regression model = \", result.getCoefficients())\n\n# Get the confidence intervals of the ai coefficients\nprint(\n    \"confidence intervals of the coefficients = \",\n    ot.LinearModelAnalysis(result).getCoefficientsConfidenceInterval(0.9),\n)"
      ]
    },
    {
      "cell_type": "markdown",
      "metadata": {},
      "source": [
        "Validate the model with a visual test\n\n"
      ]
    },
    {
      "cell_type": "code",
      "execution_count": null,
      "metadata": {
        "collapsed": false
      },
      "outputs": [],
      "source": [
        "graph = ot.VisualTest.DrawLinearModel(Xsample, Ysample, result)\nview = viewer.View(graph)"
      ]
    },
    {
      "cell_type": "markdown",
      "metadata": {},
      "source": [
        "Draw the graph of the residual values\n\n"
      ]
    },
    {
      "cell_type": "code",
      "execution_count": null,
      "metadata": {
        "collapsed": false
      },
      "outputs": [],
      "source": [
        "graph = ot.VisualTest.DrawLinearModelResidual(Xsample, Ysample, result)\nview = viewer.View(graph)"
      ]
    },
    {
      "cell_type": "markdown",
      "metadata": {},
      "source": [
        "Check the nullity of the regression linear model coefficients\n\n"
      ]
    },
    {
      "cell_type": "code",
      "execution_count": null,
      "metadata": {
        "collapsed": false
      },
      "outputs": [],
      "source": [
        "resultLinearModelFisher = ot.LinearModelTest.LinearModelFisher(\n    Xsample, Ysample, result, 0.10\n)\nprint(\"Test Success ? \", resultLinearModelFisher.getBinaryQualityMeasure())\nprint(\"p-value of the LinearModelFisher Test = \", resultLinearModelFisher.getPValue())\nprint(\"p-value threshold = \", resultLinearModelFisher.getThreshold())"
      ]
    },
    {
      "cell_type": "markdown",
      "metadata": {},
      "source": [
        "Check, under the hypothesis of a gaussian sample, if the mean of the residual is equal to zero\n\n"
      ]
    },
    {
      "cell_type": "code",
      "execution_count": null,
      "metadata": {
        "collapsed": false
      },
      "outputs": [],
      "source": [
        "resultLinearModelResidualMean = ot.LinearModelTest.LinearModelResidualMean(\n    Xsample, Ysample, result, 0.10\n)\nprint(\"Test Success ? \", resultLinearModelResidualMean.getBinaryQualityMeasure())\nprint(\n    \"p-value of the LinearModelResidualMean Test = \",\n    resultLinearModelResidualMean.getPValue(),\n)\nprint(\"p-value threshold = \", resultLinearModelResidualMean.getThreshold())\nplt.show()"
      ]
    }
  ],
  "metadata": {
    "kernelspec": {
      "display_name": "Python 3",
      "language": "python",
      "name": "python3"
    },
    "language_info": {
      "codemirror_mode": {
        "name": "ipython",
        "version": 3
      },
      "file_extension": ".py",
      "mimetype": "text/x-python",
      "name": "python",
      "nbconvert_exporter": "python",
      "pygments_lexer": "ipython3",
      "version": "3.11.3"
    }
  },
  "nbformat": 4,
  "nbformat_minor": 0
}