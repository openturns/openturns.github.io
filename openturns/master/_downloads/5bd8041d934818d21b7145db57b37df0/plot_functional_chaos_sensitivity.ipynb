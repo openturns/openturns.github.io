{
  "cells": [
    {
      "cell_type": "code",
      "execution_count": null,
      "metadata": {
        "collapsed": false
      },
      "outputs": [],
      "source": [
        "%matplotlib inline"
      ]
    },
    {
      "cell_type": "markdown",
      "metadata": {},
      "source": [
        "\n# Sobol' sensitivity indices from chaos\n"
      ]
    },
    {
      "cell_type": "markdown",
      "metadata": {},
      "source": [
        "In this example we are going to compute global sensitivity indices from a functional chaos decomposition.\n\nWe study the Borehole function that models water flow through a borehole:\n\n\\begin{align}\\frac{2 \\pi T_u (H_u - H_l)}{\\ln{r/r_w}(1+\\frac{2 L T_u}{\\ln(r/r_w) r^2_w K_w}\\frac{T_u}{T_l})}\\end{align}\n\nWith parameters:\n\n- $r_w$: radius of borehole (m)\n- $r$: radius of influence (m)\n- $T_u$: transmissivity of upper aquifer ($m^2/yr$)\n- $H_u$: potentiometric head of upper aquifer (m)\n- $T_l$: transmissivity of lower aquifer ($m^2/yr$)\n- $H_l$: potentiometric head of lower aquifer (m)\n- $L$: length of borehole (m)\n- $K_w$: hydraulic conductivity of borehole ($m/yr$)\n\n"
      ]
    },
    {
      "cell_type": "code",
      "execution_count": null,
      "metadata": {
        "collapsed": false
      },
      "outputs": [],
      "source": [
        "from __future__ import print_function\nimport openturns as ot\nfrom operator import itemgetter \nimport openturns.viewer as viewer\nfrom matplotlib import pylab as plt\not.Log.Show(ot.Log.NONE)"
      ]
    },
    {
      "cell_type": "markdown",
      "metadata": {},
      "source": [
        "borehole model\n\n"
      ]
    },
    {
      "cell_type": "code",
      "execution_count": null,
      "metadata": {
        "collapsed": false
      },
      "outputs": [],
      "source": [
        "dimension = 8\ninput_names = ['rw', 'r', 'Tu', 'Hu', 'Tl', 'Hl', 'L', 'Kw']\nmodel = ot.SymbolicFunction(input_names,\n                            ['(2*pi_*Tu*(Hu-Hl))/(ln(r/rw)*(1+(2*L*Tu)/(ln(r/rw)*rw^2*Kw)+Tu/Tl))'])\ncoll = [ot.Normal(0.1, 0.0161812),\n         ot.LogNormal(7.71, 1.0056),\n         ot.Uniform(63070.0, 115600.0),\n         ot.Uniform(990.0, 1110.0),\n         ot.Uniform(63.1, 116.0),\n         ot.Uniform(700.0, 820.0),\n         ot.Uniform(1120.0, 1680.0),\n         ot.Uniform(9855.0, 12045.0)]\ndistribution = ot.ComposedDistribution(coll)\ndistribution.setDescription(input_names)"
      ]
    },
    {
      "cell_type": "markdown",
      "metadata": {},
      "source": [
        "Freeze r, Tu, Tl from model to go faster\n\n"
      ]
    },
    {
      "cell_type": "code",
      "execution_count": null,
      "metadata": {
        "collapsed": false
      },
      "outputs": [],
      "source": [
        "selection = [1,2,4]\ncomplement = ot.Indices(selection).complement(dimension)\ndistribution = distribution.getMarginal(complement)\nmodel = ot.ParametricFunction(model, selection, distribution.getMarginal(selection).getMean())\ninput_names_copy = list(input_names)\ninput_names = itemgetter(*complement)(input_names)\ndimension = len(complement)"
      ]
    },
    {
      "cell_type": "markdown",
      "metadata": {},
      "source": [
        "design of experiment\n\n"
      ]
    },
    {
      "cell_type": "code",
      "execution_count": null,
      "metadata": {
        "collapsed": false
      },
      "outputs": [],
      "source": [
        "size = 1000\nX = distribution.getSample(size)\nY = model(X)"
      ]
    },
    {
      "cell_type": "markdown",
      "metadata": {},
      "source": [
        "create a functional chaos model\n\n"
      ]
    },
    {
      "cell_type": "code",
      "execution_count": null,
      "metadata": {
        "collapsed": false
      },
      "outputs": [],
      "source": [
        "algo = ot.FunctionalChaosAlgorithm(X, Y)\nalgo.run()\nresult = algo.getResult()\nprint(result.getResiduals())\nprint(result.getRelativeErrors())"
      ]
    },
    {
      "cell_type": "markdown",
      "metadata": {},
      "source": [
        "Quick summary of sensitivity analysis\n\n"
      ]
    },
    {
      "cell_type": "code",
      "execution_count": null,
      "metadata": {
        "collapsed": false
      },
      "outputs": [],
      "source": [
        "sensitivityAnalysis = ot.FunctionalChaosSobolIndices(result)\nprint(sensitivityAnalysis.summary())"
      ]
    },
    {
      "cell_type": "markdown",
      "metadata": {},
      "source": [
        "draw Sobol' indices\n\n"
      ]
    },
    {
      "cell_type": "code",
      "execution_count": null,
      "metadata": {
        "collapsed": false
      },
      "outputs": [],
      "source": [
        "first_order = [sensitivityAnalysis.getSobolIndex(i) for i in range(dimension)]\ntotal_order = [sensitivityAnalysis.getSobolTotalIndex(i) for i in range(dimension)]\ngraph = ot.SobolIndicesAlgorithm.DrawSobolIndices(input_names, first_order, total_order)\nview = viewer.View(graph)"
      ]
    },
    {
      "cell_type": "markdown",
      "metadata": {},
      "source": [
        "We saw that total order indices are close to first order,\nso the higher order indices must be all quite close to 0\n\n"
      ]
    },
    {
      "cell_type": "code",
      "execution_count": null,
      "metadata": {
        "collapsed": false
      },
      "outputs": [],
      "source": [
        "for i in range(dimension):\n    for j in range(i):\n        print(input_names[i] + ' & '+ input_names[j], \":\", sensitivityAnalysis.getSobolIndex([i, j]))\n\nplt.show()"
      ]
    }
  ],
  "metadata": {
    "kernelspec": {
      "display_name": "Python 3",
      "language": "python",
      "name": "python3"
    },
    "language_info": {
      "codemirror_mode": {
        "name": "ipython",
        "version": 3
      },
      "file_extension": ".py",
      "mimetype": "text/x-python",
      "name": "python",
      "nbconvert_exporter": "python",
      "pygments_lexer": "ipython3",
      "version": "3.9.5"
    }
  },
  "nbformat": 4,
  "nbformat_minor": 0
}