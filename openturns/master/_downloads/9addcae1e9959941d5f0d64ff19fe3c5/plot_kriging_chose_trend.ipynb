{
  "cells": [
    {
      "cell_type": "markdown",
      "metadata": {},
      "source": [
        "\n# Kriging : choose a trend vector space\n"
      ]
    },
    {
      "cell_type": "code",
      "execution_count": null,
      "metadata": {
        "collapsed": false
      },
      "outputs": [],
      "source": [
        "import openturns as ot\nimport openturns.viewer as otv\nfrom matplotlib import pylab as plt"
      ]
    },
    {
      "cell_type": "markdown",
      "metadata": {},
      "source": [
        "## Introduction\n\nIn this example we present the basic trends which we may use in the kriging metamodel procedure :\n\n - ConstantBasis ;\n - LinearBasis ;\n - QuadraticBasis ;\n\nThe model is the simple real function defined by\n\n\\begin{align}f : x \\mapsto x \\left( \\sin \\frac{x}{2} \\right)\\end{align}\n\nwhich we study on the $[0,10]$ interval.\n\n"
      ]
    },
    {
      "cell_type": "code",
      "execution_count": null,
      "metadata": {
        "collapsed": false
      },
      "outputs": [],
      "source": [
        "dimension = 1"
      ]
    },
    {
      "cell_type": "markdown",
      "metadata": {},
      "source": [
        "The focus being on the trend we assume a given squared exponential covariance kernel :\n\n\\begin{align}C_{\\theta}(s,t) = \\sigma^2 e^{ - \\frac{(t-s)^2}{2\\rho^2} }\\end{align}\n\nwhere $\\theta = (\\sigma, \\rho)$ is the hyperparameters vectors. The nature of the covariance\nmodel is fixed but its parameters are calibrated during the kriging process. We want to choose them\nso as to best fit our data.\n\nEventually the kriging (meta)model $\\hat{Y}(x)$ reads as\n\n\\begin{align}\\hat{Y}(x) = m(x) + Z(x)\\end{align}\n\nwhere $m(.)$ is the trend and $Z(.)$ is a gaussian process with zero-mean and its covariance matrix is $C_{\\theta}(s,t)$. The trend is deterministic and the gaussian process is probabilistc but they both contribute to the metamodel.\nA special feature of the kriging is the interpolation property : the metamodel is exact at the\ntrainig data.\n\n"
      ]
    },
    {
      "cell_type": "code",
      "execution_count": null,
      "metadata": {
        "collapsed": false
      },
      "outputs": [],
      "source": [
        "covarianceModel = ot.SquaredExponential([1.0], [1.0])"
      ]
    },
    {
      "cell_type": "markdown",
      "metadata": {},
      "source": [
        "We define our exact model with a `SymbolicFunction` :\n\n"
      ]
    },
    {
      "cell_type": "code",
      "execution_count": null,
      "metadata": {
        "collapsed": false
      },
      "outputs": [],
      "source": [
        "model = ot.SymbolicFunction([\"x\"], [\"x*sin(0.5*x)\"])"
      ]
    },
    {
      "cell_type": "markdown",
      "metadata": {},
      "source": [
        "We use the following sample to train our metamodel :\n\n"
      ]
    },
    {
      "cell_type": "code",
      "execution_count": null,
      "metadata": {
        "collapsed": false
      },
      "outputs": [],
      "source": [
        "nTrain = 5\nXtrain = ot.Sample([[0.5], [1.3], [2.4], [5.6], [8.9]])"
      ]
    },
    {
      "cell_type": "markdown",
      "metadata": {},
      "source": [
        "The values of the exact model are also needed for training :\n\n"
      ]
    },
    {
      "cell_type": "code",
      "execution_count": null,
      "metadata": {
        "collapsed": false
      },
      "outputs": [],
      "source": [
        "Ytrain = model(Xtrain)"
      ]
    },
    {
      "cell_type": "markdown",
      "metadata": {},
      "source": [
        "We shall test the model on a set of points and use a regular grid for this matter.\n\n"
      ]
    },
    {
      "cell_type": "code",
      "execution_count": null,
      "metadata": {
        "collapsed": false
      },
      "outputs": [],
      "source": [
        "nTest = 101\nstep = 0.1\nx_test = ot.RegularGrid(0, step, nTest).getVertices()"
      ]
    },
    {
      "cell_type": "markdown",
      "metadata": {},
      "source": [
        "We draw the training points and the model at the testing points. We encapsulate it into a function to use it again later.\n\n"
      ]
    },
    {
      "cell_type": "code",
      "execution_count": null,
      "metadata": {
        "collapsed": false
      },
      "outputs": [],
      "source": [
        "def plot_exact_model():\n    graph = ot.Graph(\"\", \"x\", \"\", True, \"\")\n    y_test = model(x_test)\n    curveModel = ot.Curve(x_test, y_test)\n    curveModel.setLineStyle(\"solid\")\n    curveModel.setColor(\"black\")\n    graph.add(curveModel)\n    cloud = ot.Cloud(Xtrain, Ytrain)\n    cloud.setColor(\"black\")\n    cloud.setPointStyle(\"fsquare\")\n    graph.add(cloud)\n    return graph"
      ]
    },
    {
      "cell_type": "code",
      "execution_count": null,
      "metadata": {
        "collapsed": false
      },
      "outputs": [],
      "source": [
        "graph = plot_exact_model()\ngraph.setLegends([\"exact model\", \"training data\"])\ngraph.setLegendPosition(\"bottom\")\ngraph.setTitle(\"1D Kriging : exact model\")\nview = otv.View(graph)"
      ]
    },
    {
      "cell_type": "markdown",
      "metadata": {},
      "source": [
        "A common pre-processing step is to apply a transform on the input data before performing the kriging.\nTo do so we write a linear transform of our input data : we make it unit centered at its mean. Then we fix the mean and the standard deviation to their values with the `ParametricFunction`. We build the inverse transform as well.\n\nWe first compute the mean and standard deviation of the input data :\n\n"
      ]
    },
    {
      "cell_type": "code",
      "execution_count": null,
      "metadata": {
        "collapsed": false
      },
      "outputs": [],
      "source": [
        "mean = Xtrain.computeMean()[0]\nstdDev = Xtrain.computeStandardDeviation()[0]\nprint(\"Xtrain, mean : %.3f\" % mean)\nprint(\"Xtrain, standard deviation : %.3f\" % stdDev)"
      ]
    },
    {
      "cell_type": "code",
      "execution_count": null,
      "metadata": {
        "collapsed": false
      },
      "outputs": [],
      "source": [
        "tf = ot.SymbolicFunction([\"mu\", \"sigma\", \"x\"], [\"(x-mu)/sigma\"])\nitf = ot.SymbolicFunction([\"mu\", \"sigma\", \"x\"], [\"sigma*x+mu\"])\nmyInverseTransform = ot.ParametricFunction(itf, [0, 1], [mean, stdDev])\nmyTransform = ot.ParametricFunction(tf, [0, 1], [mean, stdDev])"
      ]
    },
    {
      "cell_type": "markdown",
      "metadata": {},
      "source": [
        "## A constant basis\n\nIn this paragraph we choose a basis constant for the kriging. There is only one unknown which is the\nvalue of the constant. The basis is built with the :class:`~openturns.ConstantBasisFactory` class.\n\n"
      ]
    },
    {
      "cell_type": "code",
      "execution_count": null,
      "metadata": {
        "collapsed": false
      },
      "outputs": [],
      "source": [
        "basis = ot.ConstantBasisFactory(dimension).build()"
      ]
    },
    {
      "cell_type": "markdown",
      "metadata": {},
      "source": [
        "We build the kriging algorithm by giving it the transformed data, the output data, the covariance\nmodel and the basis.\n\n"
      ]
    },
    {
      "cell_type": "code",
      "execution_count": null,
      "metadata": {
        "collapsed": false
      },
      "outputs": [],
      "source": [
        "algo = ot.KrigingAlgorithm(myTransform(Xtrain), Ytrain, covarianceModel, basis)"
      ]
    },
    {
      "cell_type": "markdown",
      "metadata": {},
      "source": [
        "We can run the algorithm and store the result :\n\n"
      ]
    },
    {
      "cell_type": "code",
      "execution_count": null,
      "metadata": {
        "collapsed": false
      },
      "outputs": [],
      "source": [
        "algo.run()\nresult = algo.getResult()"
      ]
    },
    {
      "cell_type": "markdown",
      "metadata": {},
      "source": [
        "The metamodel is the following :class:`~openturns.ComposedFunction` :\n\n"
      ]
    },
    {
      "cell_type": "code",
      "execution_count": null,
      "metadata": {
        "collapsed": false
      },
      "outputs": [],
      "source": [
        "metamodel = ot.ComposedFunction(result.getMetaModel(), myTransform)"
      ]
    },
    {
      "cell_type": "markdown",
      "metadata": {},
      "source": [
        "We can draw the metamodel and the exact model on the same graph.\n\n"
      ]
    },
    {
      "cell_type": "code",
      "execution_count": null,
      "metadata": {
        "collapsed": false
      },
      "outputs": [],
      "source": [
        "graph = plot_exact_model()\ny_test = metamodel(x_test)\ncurve = ot.Curve(x_test, y_test)\ncurve.setLineStyle(\"dashed\")\ncurve.setColor(\"red\")\ngraph.add(curve)\ngraph.setLegends([\"exact model\", \"training data\", \"kriging metamodel\"])\ngraph.setLegendPosition(\"bottom\")\ngraph.setTitle(\"1D Kriging : exact model and metamodel\")\nview = otv.View(graph)"
      ]
    },
    {
      "cell_type": "markdown",
      "metadata": {},
      "source": [
        "We can retrieve the calibrated trend coefficient :\n\n"
      ]
    },
    {
      "cell_type": "code",
      "execution_count": null,
      "metadata": {
        "collapsed": false
      },
      "outputs": [],
      "source": [
        "c0 = result.getTrendCoefficients()\nprint(\"The trend is the curve m(x) = %.6e\" % c0[0])"
      ]
    },
    {
      "cell_type": "markdown",
      "metadata": {},
      "source": [
        "We also pay attention to the trained covariance model and observe the values\nof the hyperparameters :\n\n"
      ]
    },
    {
      "cell_type": "code",
      "execution_count": null,
      "metadata": {
        "collapsed": false
      },
      "outputs": [],
      "source": [
        "rho = result.getCovarianceModel().getScale()[0]\nprint(\"Scale parameter : %.3e\" % rho)\n\nsigma = result.getCovarianceModel().getAmplitude()[0]\nprint(\"Amplitude parameter : %.3e\" % sigma)"
      ]
    },
    {
      "cell_type": "markdown",
      "metadata": {},
      "source": [
        "We build the trend from the coefficient :\n\n"
      ]
    },
    {
      "cell_type": "code",
      "execution_count": null,
      "metadata": {
        "collapsed": false
      },
      "outputs": [],
      "source": [
        "constantTrend = ot.SymbolicFunction([\"a\", \"x\"], [\"a\"])\nmyTrend = ot.ParametricFunction(constantTrend, [0], [c0[0]])"
      ]
    },
    {
      "cell_type": "markdown",
      "metadata": {},
      "source": [
        "We draw the trend found by the kriging procedure :\n\n"
      ]
    },
    {
      "cell_type": "code",
      "execution_count": null,
      "metadata": {
        "collapsed": false
      },
      "outputs": [],
      "source": [
        "y_test = myTrend(myTransform(x_test))\ncurve = ot.Curve(x_test, y_test)\ncurve.setLineStyle(\"dotdash\")\ncurve.setColor(\"green\")\ngraph.add(curve)\ngraph.setLegends(\n    [\"exact model\", \"training data\", \"kriging metamodel\", \"constant trend\"]\n)\ngraph.setLegendPosition(\"bottom\")\ngraph.setTitle(\"1D Kriging with a constant trend\")\nview = otv.View(graph)"
      ]
    },
    {
      "cell_type": "markdown",
      "metadata": {},
      "source": [
        "We create a small function returning bounds of the 68% confidence interval $[-sigma,sigma]$ :\n\n"
      ]
    },
    {
      "cell_type": "code",
      "execution_count": null,
      "metadata": {
        "collapsed": false
      },
      "outputs": [],
      "source": [
        "def plot_ICBounds(x_test, y_test, nTest, sigma):\n    vUp = [[x_test[i][0], y_test[i][0] + sigma] for i in range(nTest)]\n    vLow = [[x_test[i][0], y_test[i][0] - sigma] for i in range(nTest)]\n    polyData = [[vLow[i], vLow[i + 1], vUp[i + 1], vUp[i]] for i in range(nTest - 1)]\n    polygonList = [ot.Polygon(polyData[i], \"grey\", \"grey\") for i in range(nTest - 1)]\n    boundsPoly = ot.PolygonArray(polygonList)\n    return boundsPoly"
      ]
    },
    {
      "cell_type": "markdown",
      "metadata": {},
      "source": [
        "We now draw it :\n\n"
      ]
    },
    {
      "cell_type": "code",
      "execution_count": null,
      "metadata": {
        "collapsed": false
      },
      "outputs": [],
      "source": [
        "boundsPoly = plot_ICBounds(x_test, y_test, nTest, sigma)\ngraph.add(boundsPoly)\ngraph.setLegends(\n    [\n        \"exact model\",\n        \"training data\",\n        \"kriging metamodel\",\n        \"constant trend\",\n        \"68% - confidence interval\",\n    ]\n)\ngraph.setLegendPosition(\"bottom\")\ngraph.setTitle(\"1D Kriging with a constant trend\")\nview = otv.View(graph)"
      ]
    },
    {
      "cell_type": "markdown",
      "metadata": {},
      "source": [
        "As expected with a constant basis, the trend obtained is an horizontal line amidst data points.\nThe main idea is that at any point $x_0$, the gaussian term $Z(x_0)$ helps to find a\ngood value of $\\hat{Y}(x_0)$ thanks to the high value of the amplitude $\\sigma$\n($\\sigma \\approx 6.359$) far away from the mean $m(x)$. As a consequence the 68%\nconfidence interval is wide.\n\n"
      ]
    },
    {
      "cell_type": "markdown",
      "metadata": {},
      "source": [
        "## Linear basis\n\nWith a linear basis, the vector space is defined by the basis $\\{1, X\\}$ : that is\nall the lines of the form $y(X) = aX + b$.\n\n"
      ]
    },
    {
      "cell_type": "code",
      "execution_count": null,
      "metadata": {
        "collapsed": false
      },
      "outputs": [],
      "source": [
        "basis = ot.LinearBasisFactory(dimension).build()"
      ]
    },
    {
      "cell_type": "markdown",
      "metadata": {},
      "source": [
        "We run the kriging analysis and store the result :\n\n"
      ]
    },
    {
      "cell_type": "code",
      "execution_count": null,
      "metadata": {
        "collapsed": false
      },
      "outputs": [],
      "source": [
        "algo = ot.KrigingAlgorithm(myTransform(Xtrain), Ytrain, covarianceModel, basis)\nalgo.run()\nresult = algo.getResult()\nmetamodel = ot.ComposedFunction(result.getMetaModel(), myTransform)"
      ]
    },
    {
      "cell_type": "markdown",
      "metadata": {},
      "source": [
        "We can draw the metamodel and the exact model on the same graph.\n\n"
      ]
    },
    {
      "cell_type": "code",
      "execution_count": null,
      "metadata": {
        "collapsed": false
      },
      "outputs": [],
      "source": [
        "graph = plot_exact_model()\ny_test = metamodel(x_test)\ncurve = ot.Curve(x_test, y_test)\ncurve.setLineStyle(\"dashed\")\ncurve.setColor(\"red\")\ngraph.add(curve)\ngraph.setLegends([\"exact model\", \"training data\", \"kriging metamodel\"])\ngraph.setLegendPosition(\"bottom\")\ngraph.setTitle(\"1D Kriging : exact model and metamodel\")\nview = otv.View(graph)"
      ]
    },
    {
      "cell_type": "markdown",
      "metadata": {},
      "source": [
        "We can retrieve the calibrated trend coefficients with `getTrendCoefficients` :\n\n"
      ]
    },
    {
      "cell_type": "code",
      "execution_count": null,
      "metadata": {
        "collapsed": false
      },
      "outputs": [],
      "source": [
        "c0 = result.getTrendCoefficients()\nprint(\"Trend is the curve m(X) = %.6e X + %.6e\" % (c0[1], c0[0]))"
      ]
    },
    {
      "cell_type": "markdown",
      "metadata": {},
      "source": [
        "We also pay attention to the trained covariance model and observe the values\nof the hyperparameters :\n\n"
      ]
    },
    {
      "cell_type": "code",
      "execution_count": null,
      "metadata": {
        "collapsed": false
      },
      "outputs": [],
      "source": [
        "rho = result.getCovarianceModel().getScale()[0]\nprint(\"Scale parameter : %.3e\" % rho)\n\nsigma = result.getCovarianceModel().getAmplitude()[0]\nprint(\"Amplitude parameter : %.3e\" % sigma)"
      ]
    },
    {
      "cell_type": "markdown",
      "metadata": {},
      "source": [
        "We draw the linear trend that we are interested in.\n\n"
      ]
    },
    {
      "cell_type": "code",
      "execution_count": null,
      "metadata": {
        "collapsed": false
      },
      "outputs": [],
      "source": [
        "linearTrend = ot.SymbolicFunction([\"a\", \"b\", \"x\"], [\"a*x+b\"])\nmyTrend = ot.ParametricFunction(linearTrend, [0, 1], [c0[1], c0[0]])\ny_test = myTrend(myTransform(x_test))\ncurve = ot.Curve(x_test, y_test)\ncurve.setLineStyle(\"dotdash\")\ncurve.setColor(\"green\")\ngraph.add(curve)\ngraph.setLegends([\"exact model\", \"training data\", \"kriging metamodel\", \"linear trend\"])\ngraph.setLegendPosition(\"bottom\")\ngraph.setTitle(\"1D Kriging with a linear trend\")\nview = otv.View(graph)"
      ]
    },
    {
      "cell_type": "markdown",
      "metadata": {},
      "source": [
        "The same graphic with the 68% confidence interval :\n\n"
      ]
    },
    {
      "cell_type": "code",
      "execution_count": null,
      "metadata": {
        "collapsed": false
      },
      "outputs": [],
      "source": [
        "boundsPoly = plot_ICBounds(x_test, y_test, nTest, sigma)\ngraph.add(boundsPoly)\ngraph.setLegends(\n    [\n        \"exact model\",\n        \"training data\",\n        \"kriging metamodel\",\n        \"linear trend\",\n        \"68% - confidence interval\",\n    ]\n)\ngraph.setLegendPosition(\"bottom\")\ngraph.setTitle(\"1D Kriging with a linear trend\")\nview = otv.View(graph)"
      ]
    },
    {
      "cell_type": "markdown",
      "metadata": {},
      "source": [
        "The trend obtained is decreasing on the interval of study : that is the general trend we observe\nfrom the exact model. It is still nowhere close to the exact model but as in the constant case the\ngaussian part will do the job of building a correct (visually at least) metamodel.\nWe note that the values of the amplitude and the scale parameters are similar to the previous constant case. As it can be seen on the previous figure the metamodel is interpolating (see the last data point).\n\n"
      ]
    },
    {
      "cell_type": "markdown",
      "metadata": {},
      "source": [
        "## Quadratic basis\n\nIn this last paragraph we turn to the quadratic basis. All subsequent analysis should remain the same.\n\n"
      ]
    },
    {
      "cell_type": "code",
      "execution_count": null,
      "metadata": {
        "collapsed": false
      },
      "outputs": [],
      "source": [
        "basis = ot.QuadraticBasisFactory(dimension).build()"
      ]
    },
    {
      "cell_type": "markdown",
      "metadata": {},
      "source": [
        "We run the kriging analysis and store the result :\n\n"
      ]
    },
    {
      "cell_type": "code",
      "execution_count": null,
      "metadata": {
        "collapsed": false
      },
      "outputs": [],
      "source": [
        "algo = ot.KrigingAlgorithm(myTransform(Xtrain), Ytrain, covarianceModel, basis)\nalgo.run()\nresult = algo.getResult()\nmetamodel = ot.ComposedFunction(result.getMetaModel(), myTransform)"
      ]
    },
    {
      "cell_type": "markdown",
      "metadata": {},
      "source": [
        "We can draw the metamodel and the exact model on the same graph.\n\n"
      ]
    },
    {
      "cell_type": "code",
      "execution_count": null,
      "metadata": {
        "collapsed": false
      },
      "outputs": [],
      "source": [
        "graph = plot_exact_model()\ny_test = metamodel(x_test)\ncurve = ot.Curve(x_test, y_test)\ncurve.setLineStyle(\"dashed\")\ncurve.setColor(\"red\")\ngraph.add(curve)\ngraph.setLegends([\"exact model\", \"training data\", \"kriging metamodel\"])\ngraph.setLegendPosition(\"bottom\")\ngraph.setTitle(\"1D Kriging : exact model and metamodel\")\nview = otv.View(graph)"
      ]
    },
    {
      "cell_type": "markdown",
      "metadata": {},
      "source": [
        "We can retrieve the calibrated trend coefficients with `getTrendCoefficients` :\n\n"
      ]
    },
    {
      "cell_type": "code",
      "execution_count": null,
      "metadata": {
        "collapsed": false
      },
      "outputs": [],
      "source": [
        "c0 = result.getTrendCoefficients()\nprint(\n    \"Trend is the curve m(X) = %.6e X**2 + %.6e X + %.6e\"\n    % (c0[2], c0[1], c0[0])\n)"
      ]
    },
    {
      "cell_type": "markdown",
      "metadata": {},
      "source": [
        "We also pay attention to the trained covariance model and observe the values\nof the hyperparameters :\n\n"
      ]
    },
    {
      "cell_type": "code",
      "execution_count": null,
      "metadata": {
        "collapsed": false
      },
      "outputs": [],
      "source": [
        "rho = result.getCovarianceModel().getScale()[0]\nprint(\"Scale parameter : %.3e\" % rho)\n\nsigma = result.getCovarianceModel().getAmplitude()[0]\nprint(\"Amplitude parameter : %.3e\" % sigma)"
      ]
    },
    {
      "cell_type": "markdown",
      "metadata": {},
      "source": [
        "The quadratic linear trend obtained is :\n\n"
      ]
    },
    {
      "cell_type": "code",
      "execution_count": null,
      "metadata": {
        "collapsed": false
      },
      "outputs": [],
      "source": [
        "quadraticTrend = ot.SymbolicFunction([\"a\", \"b\", \"c\", \"x\"], [\"a*x^2 + b*x + c\"])\nmyTrend = ot.ParametricFunction(\n    quadraticTrend, [0, 1, 2], [c0[2], c0[1], c0[0]]\n)"
      ]
    },
    {
      "cell_type": "markdown",
      "metadata": {},
      "source": [
        "In this case we restrict ourselves to the $[0,6] \\times [-2.5,4]$ for visualization.\n\n"
      ]
    },
    {
      "cell_type": "code",
      "execution_count": null,
      "metadata": {
        "collapsed": false
      },
      "outputs": [],
      "source": [
        "y_test = myTrend(myTransform(x_test))\ncurve = ot.Curve(x_test, y_test)\ncurve.setLineStyle(\"dotdash\")\ncurve.setColor(\"green\")\ngraph.add(curve)\ngraph.setLegends(\n    [\"exact model\", \"training data\", \"kriging metamodel\", \"quadratic trend\"]\n)\ngraph.setLegendPosition(\"bottom\")\ngraph.setTitle(\"1D Kriging with a quadratic trend\")\nview = otv.View(graph)\naxes = view.getAxes()\n_ = axes[0].set_xlim(0.0, 6.0)\n_ = axes[0].set_ylim(-2.5, 4.0)"
      ]
    },
    {
      "cell_type": "markdown",
      "metadata": {},
      "source": [
        "sphinx_gallery_thumbnail_number = 10\nThe same graphic with the 68% confidence interval.\n\n"
      ]
    },
    {
      "cell_type": "code",
      "execution_count": null,
      "metadata": {
        "collapsed": false
      },
      "outputs": [],
      "source": [
        "boundsPoly = plot_ICBounds(x_test, y_test, nTest, sigma)\ngraph.add(boundsPoly)\ngraph.setLegends(\n    [\n        \"exact model\",\n        \"training data\",\n        \"kriging metamodel\",\n        \"quadratic trend\",\n        \"68% - confidence interval\",\n    ]\n)\ngraph.setLegendPosition(\"bottom\")\ngraph.setTitle(\"1D Kriging with a quadratic trend\")\nview = otv.View(graph)\naxes = view.getAxes()\n_ = axes[0].set_xlim(0.0, 6.0)\n_ = axes[0].set_ylim(-2.5, 4.0)"
      ]
    },
    {
      "cell_type": "markdown",
      "metadata": {},
      "source": [
        "In this case the analysis is interesting to understand the general behaviour of the kriging process.\n\n"
      ]
    },
    {
      "cell_type": "markdown",
      "metadata": {},
      "source": [
        "From the previous figure we feel that the metamodel is mostly characterized by the trend which is a\ngood approximate of the exact solution over the interval.\nHowever, to a certain extent, we have lost flexibility by having a too good and rigid trend as we\nstill have to impose the interpolation property.\n\nWe see that the gap between the trend and the exact model is small and the amplitude of the gaussian\nprocess is small as well : $\\sigma \\approx 0.684$. Then the confidence interval is more\nnarrow than before. The scale parameter is small, $\\rho \\approx 0.010$, meaning that two\ndistant points are rapidly independent. The only way to set the interpolation property is to create\nsmall peaks (see the figure). The sad conclusion is that the metamodel loses its smoothness.\n\nIn that case one should use a constant or linear basis even if a quadratic trend seems right.\n\n"
      ]
    },
    {
      "cell_type": "markdown",
      "metadata": {},
      "source": [
        "Display figures\n\n"
      ]
    },
    {
      "cell_type": "code",
      "execution_count": null,
      "metadata": {
        "collapsed": false
      },
      "outputs": [],
      "source": [
        "plt.show()"
      ]
    }
  ],
  "metadata": {
    "kernelspec": {
      "display_name": "Python 3",
      "language": "python",
      "name": "python3"
    },
    "language_info": {
      "codemirror_mode": {
        "name": "ipython",
        "version": 3
      },
      "file_extension": ".py",
      "mimetype": "text/x-python",
      "name": "python",
      "nbconvert_exporter": "python",
      "pygments_lexer": "ipython3",
      "version": "3.10.10"
    }
  },
  "nbformat": 4,
  "nbformat_minor": 0
}