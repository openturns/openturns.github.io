{
  "cells": [
    {
      "cell_type": "markdown",
      "metadata": {},
      "source": [
        "\n# Kriging: choose a polynomial trend\n"
      ]
    },
    {
      "cell_type": "code",
      "execution_count": null,
      "metadata": {
        "collapsed": false
      },
      "outputs": [],
      "source": [
        "import openturns as ot\nimport openturns.viewer as otv\nfrom matplotlib import pylab as plt"
      ]
    },
    {
      "cell_type": "markdown",
      "metadata": {},
      "source": [
        "## Introduction\n\nIn this example we present the polynomial trends which we may use in a Kriging metamodel.\nThis example focuses on three polynomial trends:\n\n- :class:`~openturns.ConstantBasisFactory`;\n- :class:`~openturns.LinearBasisFactory`;\n- :class:`~openturns.QuadraticBasisFactory`.\n\nIn the :doc:`/auto_meta_modeling/kriging_metamodel/plot_kriging_beam_trend` example,\nwe give another example of this method.\nIn the :doc:`/auto_meta_modeling/kriging_metamodel/plot_kriging_beam_arbitrary_trend` example,\nwe show how to configure an arbitrary trend.\n\nThe model is the real function:\n\n\\begin{align}\\model(x) = x \\sin \\left( \\frac{x}{2} \\right)\\end{align}\n\nfor any $x \\in [0,10]$.\nWe consider the :class:`~openturns.MaternModel` covariance kernel\nwhere $\\vect{\\theta} = (\\sigma, \\rho)$ is the vector of hyperparameters.\nThe covariance model is fixed but its parameters must be calibrated\ndepending on the data.\nThe Kriging metamodel is:\n\n\\begin{align}\\widehat{Y}(x) = m(x) + Z(x)\\end{align}\n\nwhere $m(.)$ is the trend and $Z(.)$ is a Gaussian process with zero mean and covariance model $C_{\\vect{\\theta}}(s,t)$.\nThe trend is deterministic and the Gaussian process is probabilistic but they both contribute to the metamodel.\nA special feature of the Kriging is the interpolation property: the metamodel is exact at the\ntraining data.\n\n"
      ]
    },
    {
      "cell_type": "code",
      "execution_count": null,
      "metadata": {
        "collapsed": false
      },
      "outputs": [],
      "source": [
        "covarianceModel = ot.SquaredExponential([1.0], [1.0])"
      ]
    },
    {
      "cell_type": "markdown",
      "metadata": {},
      "source": [
        "## Define the model\n\n"
      ]
    },
    {
      "cell_type": "markdown",
      "metadata": {},
      "source": [
        "First, we define the :class:`~openturns.MaternModel` covariance model.\n\n"
      ]
    },
    {
      "cell_type": "code",
      "execution_count": null,
      "metadata": {
        "collapsed": false
      },
      "outputs": [],
      "source": [
        "covarianceModel = ot.MaternModel([1.0], [1.0], 2.5)"
      ]
    },
    {
      "cell_type": "markdown",
      "metadata": {},
      "source": [
        "We define our exact model with a :class:`~openturns.SymbolicFunction`.\n\n"
      ]
    },
    {
      "cell_type": "code",
      "execution_count": null,
      "metadata": {
        "collapsed": false
      },
      "outputs": [],
      "source": [
        "model = ot.SymbolicFunction([\"x\"], [\"x * sin(0.5 * x)\"])"
      ]
    },
    {
      "cell_type": "markdown",
      "metadata": {},
      "source": [
        "We use the following sample to train our metamodel.\n\n"
      ]
    },
    {
      "cell_type": "code",
      "execution_count": null,
      "metadata": {
        "collapsed": false
      },
      "outputs": [],
      "source": [
        "xmin = 0.0\nxmax = 10.0\not.RandomGenerator.SetSeed(0)\nnTrain = 8\nXtrain = ot.Uniform(xmin, xmax).getSample(nTrain).sort()\nXtrain"
      ]
    },
    {
      "cell_type": "markdown",
      "metadata": {},
      "source": [
        "The values of the exact model are also needed for training.\n\n"
      ]
    },
    {
      "cell_type": "code",
      "execution_count": null,
      "metadata": {
        "collapsed": false
      },
      "outputs": [],
      "source": [
        "Ytrain = model(Xtrain)\nYtrain"
      ]
    },
    {
      "cell_type": "markdown",
      "metadata": {},
      "source": [
        "We shall test the model on a set of points based on a regular grid.\n\n"
      ]
    },
    {
      "cell_type": "code",
      "execution_count": null,
      "metadata": {
        "collapsed": false
      },
      "outputs": [],
      "source": [
        "nTest = 100\nstep = (xmax - xmin) / (nTest - 1)\nx_test = ot.RegularGrid(xmin, step, nTest).getVertices()"
      ]
    },
    {
      "cell_type": "markdown",
      "metadata": {},
      "source": [
        "We draw the training points and the model at the testing points. We encapsulate it into a function to use it again later.\n\n"
      ]
    },
    {
      "cell_type": "code",
      "execution_count": null,
      "metadata": {
        "collapsed": false
      },
      "outputs": [],
      "source": [
        "def plot_exact_model(color):\n    graph = ot.Graph(\"\", \"x\", \"\", True, \"\")\n    y_test = model(x_test)\n    curveModel = ot.Curve(x_test, y_test)\n    curveModel.setLineStyle(\"solid\")\n    curveModel.setColor(color)\n    curveModel.setLegend(\"Model\")\n    graph.add(curveModel)\n    cloud = ot.Cloud(Xtrain, Ytrain)\n    cloud.setColor(color)\n    cloud.setPointStyle(\"fsquare\")\n    cloud.setLegend(\"Data\")\n    graph.add(cloud)\n    graph.setLegendPosition(\"bottom\")\n    return graph"
      ]
    },
    {
      "cell_type": "code",
      "execution_count": null,
      "metadata": {
        "collapsed": false
      },
      "outputs": [],
      "source": [
        "palette = ot.Drawable.BuildDefaultPalette(5)\ngraph = plot_exact_model(palette[0])\ngraph.setTitle(\"1D Kriging: exact model\")\nview = otv.View(graph)"
      ]
    },
    {
      "cell_type": "markdown",
      "metadata": {},
      "source": [
        "## Scale the input training sample\n\n"
      ]
    },
    {
      "cell_type": "markdown",
      "metadata": {},
      "source": [
        "We often have to apply a transform on the input data before performing the Kriging.\nThis make the estimation of the hyperparameters of the Kriging metamodel\neasier for the optimization algorithm.\nTo do so we write a linear transform of our input data: we make it unit centered at its mean.\nThen we fix the mean and the standard deviation to their values with the :class:`~openturns.ParametricFunction`.\nWe build the inverse transform as well.\n\nWe first compute the mean and standard deviation of the input data.\n\n"
      ]
    },
    {
      "cell_type": "code",
      "execution_count": null,
      "metadata": {
        "collapsed": false
      },
      "outputs": [],
      "source": [
        "mean = Xtrain.computeMean()[0]\nstdDev = Xtrain.computeStandardDeviation()[0]\nprint(\"Xtrain, mean: %.3f\" % mean)\nprint(\"Xtrain, standard deviation: %.3f\" % stdDev)"
      ]
    },
    {
      "cell_type": "code",
      "execution_count": null,
      "metadata": {
        "collapsed": false
      },
      "outputs": [],
      "source": [
        "tf = ot.SymbolicFunction([\"mu\", \"sigma\", \"x\"], [\"(x - mu) / sigma\"])\nitf = ot.SymbolicFunction([\"mu\", \"sigma\", \"x\"], [\"sigma * x + mu\"])\nmyInverseTransform = ot.ParametricFunction(itf, [0, 1], [mean, stdDev])\nmyTransform = ot.ParametricFunction(tf, [0, 1], [mean, stdDev])"
      ]
    },
    {
      "cell_type": "markdown",
      "metadata": {},
      "source": [
        "Scale the input training sample.\n\n"
      ]
    },
    {
      "cell_type": "code",
      "execution_count": null,
      "metadata": {
        "collapsed": false
      },
      "outputs": [],
      "source": [
        "scaledXtrain = myTransform(Xtrain)\nscaledXtrain"
      ]
    },
    {
      "cell_type": "markdown",
      "metadata": {},
      "source": [
        "## Constant basis\n\nIn this paragraph we choose a basis constant for the Kriging.\nThis trend only has one parameter which is the\nvalue of the constant.\nThe basis is built with the :class:`~openturns.ConstantBasisFactory` class.\n\n"
      ]
    },
    {
      "cell_type": "code",
      "execution_count": null,
      "metadata": {
        "collapsed": false
      },
      "outputs": [],
      "source": [
        "dimension = 1\nbasis = ot.ConstantBasisFactory(dimension).build()"
      ]
    },
    {
      "cell_type": "markdown",
      "metadata": {},
      "source": [
        "We build the Kriging algorithm by giving it the transformed data, the output data, the covariance\nmodel and the basis.\n\n"
      ]
    },
    {
      "cell_type": "code",
      "execution_count": null,
      "metadata": {
        "collapsed": false
      },
      "outputs": [],
      "source": [
        "algo = ot.KrigingAlgorithm(scaledXtrain, Ytrain, covarianceModel, basis)"
      ]
    },
    {
      "cell_type": "markdown",
      "metadata": {},
      "source": [
        "We can run the algorithm and store the result.\n\n"
      ]
    },
    {
      "cell_type": "code",
      "execution_count": null,
      "metadata": {
        "collapsed": false
      },
      "outputs": [],
      "source": [
        "algo.run()\nresult = algo.getResult()"
      ]
    },
    {
      "cell_type": "markdown",
      "metadata": {},
      "source": [
        "The metamodel is the following :class:`~openturns.ComposedFunction`.\n\n"
      ]
    },
    {
      "cell_type": "code",
      "execution_count": null,
      "metadata": {
        "collapsed": false
      },
      "outputs": [],
      "source": [
        "metamodel = ot.ComposedFunction(result.getMetaModel(), myTransform)"
      ]
    },
    {
      "cell_type": "markdown",
      "metadata": {},
      "source": [
        "Define a function to plot the metamodel\n\n"
      ]
    },
    {
      "cell_type": "code",
      "execution_count": null,
      "metadata": {
        "collapsed": false
      },
      "outputs": [],
      "source": [
        "def plotMetamodel(x_test, krigingResult, myTransform, color):\n    scaled_x_test = myTransform(x_test)\n    metamodel = result.getMetaModel()\n    y_test = metamodel(scaled_x_test)\n    curve = ot.Curve(x_test, y_test)\n    curve.setLineStyle(\"dashed\")\n    curve.setColor(color)\n    curve.setLegend(\"Metamodel\")\n    return curve"
      ]
    },
    {
      "cell_type": "markdown",
      "metadata": {},
      "source": [
        "We can draw the metamodel and the exact model on the same graph.\n\n"
      ]
    },
    {
      "cell_type": "code",
      "execution_count": null,
      "metadata": {
        "collapsed": false
      },
      "outputs": [],
      "source": [
        "graph = plot_exact_model(palette[0])\ngraph.add(plotMetamodel(x_test, result, myTransform, palette[1]))\ngraph.setTitle(\"1D Kriging: exact model and metamodel\")\nview = otv.View(graph)"
      ]
    },
    {
      "cell_type": "markdown",
      "metadata": {},
      "source": [
        "We can retrieve the calibrated trend coefficient with :meth:`~openturns.KrigingResult.getTrendCoefficients`.\n\n"
      ]
    },
    {
      "cell_type": "code",
      "execution_count": null,
      "metadata": {
        "collapsed": false
      },
      "outputs": [],
      "source": [
        "c0 = result.getTrendCoefficients()\nprint(\"The trend is the curve m(x) = %.6e\" % c0[0])"
      ]
    },
    {
      "cell_type": "markdown",
      "metadata": {},
      "source": [
        "We also observe the values of the hyperparameters of the trained covariance model.\n\n"
      ]
    },
    {
      "cell_type": "code",
      "execution_count": null,
      "metadata": {
        "collapsed": false
      },
      "outputs": [],
      "source": [
        "rho = result.getCovarianceModel().getScale()[0]\nprint(\"Scale parameter: %.3e\" % rho)\n\nsigma = result.getCovarianceModel().getAmplitude()[0]\nprint(\"Amplitude parameter: %.3e\" % sigma)"
      ]
    },
    {
      "cell_type": "markdown",
      "metadata": {},
      "source": [
        "We build the trend from the coefficient.\n\n"
      ]
    },
    {
      "cell_type": "code",
      "execution_count": null,
      "metadata": {
        "collapsed": false
      },
      "outputs": [],
      "source": [
        "constantTrend = ot.SymbolicFunction([\"a\", \"x\"], [\"a\"])\nmyTrend = ot.ParametricFunction(constantTrend, [0], [c0[0]])"
      ]
    },
    {
      "cell_type": "markdown",
      "metadata": {},
      "source": [
        "Define a function to plot the trend.\n\n"
      ]
    },
    {
      "cell_type": "code",
      "execution_count": null,
      "metadata": {
        "collapsed": false
      },
      "outputs": [],
      "source": [
        "def plotTrend(x_test, myTrend, myTransform, color):\n    scale_x_test = myTransform(x_test)\n    y_test = myTrend(scale_x_test)\n    curve = ot.Curve(x_test, y_test)\n    curve.setLineStyle(\"dotdash\")\n    curve.setColor(color)\n    curve.setLegend(\"Trend\")\n    return curve"
      ]
    },
    {
      "cell_type": "markdown",
      "metadata": {},
      "source": [
        "We draw the trend found by the Kriging procedure.\n\n"
      ]
    },
    {
      "cell_type": "code",
      "execution_count": null,
      "metadata": {
        "collapsed": false
      },
      "outputs": [],
      "source": [
        "graph.add(plotTrend(x_test, myTrend, myTransform, palette[2]))\ngraph.setTitle(\"1D Kriging with a constant trend\")\nview = otv.View(graph)"
      ]
    },
    {
      "cell_type": "markdown",
      "metadata": {},
      "source": [
        "Create a function to plot confidence bounds.\n\n"
      ]
    },
    {
      "cell_type": "code",
      "execution_count": null,
      "metadata": {
        "collapsed": false
      },
      "outputs": [],
      "source": [
        "def plotKrigingConfidenceBounds(krigingResult, x_test, myTransform, color, alpha=0.05):\n    bilateralCI = ot.Normal().computeBilateralConfidenceInterval(1.0 - alpha)\n    quantileAlpha = bilateralCI.getUpperBound()[0]\n    sqrt = ot.SymbolicFunction([\"x\"], [\"sqrt(x)\"])\n    n_test = x_test.getSize()\n    epsilon = ot.Sample(n_test, [1.0e-8])\n    scaled_x_test = myTransform(x_test)\n    conditionalVariance = (\n        krigingResult.getConditionalMarginalVariance(scaled_x_test) + epsilon\n    )\n    conditionalSigma = sqrt(conditionalVariance)\n    metamodel = krigingResult.getMetaModel()\n    y_test = metamodel(scaled_x_test)\n    dataLower = [\n        y_test[i, 0] - quantileAlpha * conditionalSigma[i, 0] for i in range(n_test)\n    ]\n    dataUpper = [\n        y_test[i, 0] + quantileAlpha * conditionalSigma[i, 0] for i in range(n_test)\n    ]\n    boundsPoly = ot.Polygon.FillBetween(x_test.asPoint(), dataLower, dataUpper)\n    boundsPoly.setColor(color)\n    boundsPoly.setLegend(\"%d%% C.I.\" % ((1.0 - alpha) * 100))\n    return boundsPoly"
      ]
    },
    {
      "cell_type": "markdown",
      "metadata": {},
      "source": [
        "Plot a confidence interval.\n\n"
      ]
    },
    {
      "cell_type": "code",
      "execution_count": null,
      "metadata": {
        "collapsed": false
      },
      "outputs": [],
      "source": [
        "graph.add(plotKrigingConfidenceBounds(result, x_test, myTransform, palette[3]))\ngraph.setTitle(\"1D Kriging with a constant trend\")\ngraph.setLegendCorner([1.0, 1.0])\ngraph.setLegendPosition('upper left')\nview = otv.View(\n    graph,\n    figure_kw={\"figsize\": (7.0, 3.0)},\n)\n\nplt.subplots_adjust(right=0.6)"
      ]
    },
    {
      "cell_type": "markdown",
      "metadata": {},
      "source": [
        "As expected with a constant basis, the trend obtained is an horizontal line.\n\n"
      ]
    },
    {
      "cell_type": "markdown",
      "metadata": {},
      "source": [
        "## Linear basis\n\nWith a linear basis, the vector space is defined by the basis $\\{1, z\\}$: that is\nall the lines of the form $y(z) = az + b$ where $a$ and $b$ are\nreal parameters.\n\n"
      ]
    },
    {
      "cell_type": "code",
      "execution_count": null,
      "metadata": {
        "collapsed": false
      },
      "outputs": [],
      "source": [
        "basis = ot.LinearBasisFactory(dimension).build()"
      ]
    },
    {
      "cell_type": "markdown",
      "metadata": {},
      "source": [
        "We run the Kriging analysis and store the result.\n\n"
      ]
    },
    {
      "cell_type": "code",
      "execution_count": null,
      "metadata": {
        "collapsed": false
      },
      "outputs": [],
      "source": [
        "algo = ot.KrigingAlgorithm(scaledXtrain, Ytrain, covarianceModel, basis)\nalgo.run()\nresult = algo.getResult()\nmetamodel = ot.ComposedFunction(result.getMetaModel(), myTransform)"
      ]
    },
    {
      "cell_type": "markdown",
      "metadata": {},
      "source": [
        "We can draw the metamodel and the exact model on the same graph.\n\n"
      ]
    },
    {
      "cell_type": "code",
      "execution_count": null,
      "metadata": {
        "collapsed": false
      },
      "outputs": [],
      "source": [
        "graph = plot_exact_model(palette[0])\ngraph.add(plotMetamodel(x_test, result, myTransform, palette[1]))"
      ]
    },
    {
      "cell_type": "markdown",
      "metadata": {},
      "source": [
        "We can retrieve the calibrated trend coefficients with :meth:`~openturns.KrigingResult.getTrendCoefficients`.\n\n"
      ]
    },
    {
      "cell_type": "code",
      "execution_count": null,
      "metadata": {
        "collapsed": false
      },
      "outputs": [],
      "source": [
        "c0 = result.getTrendCoefficients()\nprint(\"Trend is the curve m(X) = %.6e X + %.6e\" % (c0[1], c0[0]))"
      ]
    },
    {
      "cell_type": "markdown",
      "metadata": {},
      "source": [
        "We observe the values of the hyperparameters of the trained covariance model.\n\n"
      ]
    },
    {
      "cell_type": "code",
      "execution_count": null,
      "metadata": {
        "collapsed": false
      },
      "outputs": [],
      "source": [
        "rho = result.getCovarianceModel().getScale()[0]\nprint(\"Scale parameter: %.3e\" % rho)\n\nsigma = result.getCovarianceModel().getAmplitude()[0]\nprint(\"Amplitude parameter: %.3e\" % sigma)"
      ]
    },
    {
      "cell_type": "markdown",
      "metadata": {},
      "source": [
        "We draw the linear trend that we are interested in.\n\n"
      ]
    },
    {
      "cell_type": "code",
      "execution_count": null,
      "metadata": {
        "collapsed": false
      },
      "outputs": [],
      "source": [
        "linearTrend = ot.SymbolicFunction([\"a\", \"b\", \"z\"], [\"a * z + b\"])\nmyTrend = ot.ParametricFunction(linearTrend, [0, 1], [c0[1], c0[0]])\ngraph.add(plotTrend(x_test, myTrend, myTransform, palette[2]))"
      ]
    },
    {
      "cell_type": "markdown",
      "metadata": {},
      "source": [
        "Add the 95% confidence interval.\n\n"
      ]
    },
    {
      "cell_type": "code",
      "execution_count": null,
      "metadata": {
        "collapsed": false
      },
      "outputs": [],
      "source": [
        "graph.add(plotKrigingConfidenceBounds(result, x_test, myTransform, palette[3]))\ngraph.setTitle(\"1D Kriging with a linear trend\")\ngraph.setLegendCorner([1.0, 1.0])\ngraph.setLegendPosition('upper left')\nview = otv.View(\n    graph,\n    figure_kw={\"figsize\": (7.0, 3.0)},\n)\n\nplt.subplots_adjust(right=0.6)"
      ]
    },
    {
      "cell_type": "markdown",
      "metadata": {},
      "source": [
        "## Quadratic basis\n\nIn this last paragraph we turn to the quadratic basis. All subsequent analysis should remain the same.\n\n"
      ]
    },
    {
      "cell_type": "code",
      "execution_count": null,
      "metadata": {
        "collapsed": false
      },
      "outputs": [],
      "source": [
        "basis = ot.QuadraticBasisFactory(dimension).build()"
      ]
    },
    {
      "cell_type": "markdown",
      "metadata": {},
      "source": [
        "We run the Kriging analysis and store the result.\n\n"
      ]
    },
    {
      "cell_type": "code",
      "execution_count": null,
      "metadata": {
        "collapsed": false
      },
      "outputs": [],
      "source": [
        "algo = ot.KrigingAlgorithm(scaledXtrain, Ytrain, covarianceModel, basis)\nalgo.run()\nresult = algo.getResult()\nmetamodel = ot.ComposedFunction(result.getMetaModel(), myTransform)"
      ]
    },
    {
      "cell_type": "markdown",
      "metadata": {},
      "source": [
        "We can draw the metamodel and the exact model on the same graph.\n\n"
      ]
    },
    {
      "cell_type": "code",
      "execution_count": null,
      "metadata": {
        "collapsed": false
      },
      "outputs": [],
      "source": [
        "graph = plot_exact_model(palette[0])\ngraph.add(plotMetamodel(x_test, result, myTransform, palette[1]))"
      ]
    },
    {
      "cell_type": "markdown",
      "metadata": {},
      "source": [
        "We can retrieve the calibrated trend coefficients with :meth:`~openturns.KrigingResult.getTrendCoefficients`.\n\n"
      ]
    },
    {
      "cell_type": "code",
      "execution_count": null,
      "metadata": {
        "collapsed": false
      },
      "outputs": [],
      "source": [
        "c0 = result.getTrendCoefficients()\nprint(\"Trend is the curve m(X) = %.6e Z**2 + %.6e Z + %.6e\" % (c0[2], c0[1], c0[0]))"
      ]
    },
    {
      "cell_type": "markdown",
      "metadata": {},
      "source": [
        "We observe the values of the hyperparameters of the trained covariance model.\n\n"
      ]
    },
    {
      "cell_type": "code",
      "execution_count": null,
      "metadata": {
        "collapsed": false
      },
      "outputs": [],
      "source": [
        "rho = result.getCovarianceModel().getScale()[0]\nprint(\"Scale parameter: %.3e\" % rho)\n\nsigma = result.getCovarianceModel().getAmplitude()[0]\nprint(\"Amplitude parameter: %.3e\" % sigma)"
      ]
    },
    {
      "cell_type": "markdown",
      "metadata": {},
      "source": [
        "The quadratic trend obtained.\n\n"
      ]
    },
    {
      "cell_type": "code",
      "execution_count": null,
      "metadata": {
        "collapsed": false
      },
      "outputs": [],
      "source": [
        "quadraticTrend = ot.SymbolicFunction([\"a\", \"b\", \"c\", \"z\"], [\"a * z^2 + b * z + c\"])\nmyTrend = ot.ParametricFunction(quadraticTrend, [0, 1, 2], [c0[2], c0[1], c0[0]])"
      ]
    },
    {
      "cell_type": "markdown",
      "metadata": {},
      "source": [
        "Add the quadratic trend\n\n"
      ]
    },
    {
      "cell_type": "code",
      "execution_count": null,
      "metadata": {
        "collapsed": false
      },
      "outputs": [],
      "source": [
        "y_test = myTrend(myTransform(x_test))\ngraph.add(plotTrend(x_test, myTrend, myTransform, palette[2]))"
      ]
    },
    {
      "cell_type": "markdown",
      "metadata": {},
      "source": [
        "Add the 95% confidence interval.\n\n"
      ]
    },
    {
      "cell_type": "markdown",
      "metadata": {},
      "source": [
        "sphinx_gallery_thumbnail_number = 6\n\n"
      ]
    },
    {
      "cell_type": "code",
      "execution_count": null,
      "metadata": {
        "collapsed": false
      },
      "outputs": [],
      "source": [
        "graph.add(plotKrigingConfidenceBounds(result, x_test, myTransform, palette[3]))\ngraph.setTitle(\"1D Kriging with a quadratic trend\")\ngraph.setLegendCorner([1.0, 1.0])\ngraph.setLegendPosition('upper left')\nview = otv.View(\n    graph,\n    figure_kw={\"figsize\": (7.0, 3.0)},\n)\n\nplt.subplots_adjust(right=0.6)"
      ]
    },
    {
      "cell_type": "markdown",
      "metadata": {},
      "source": [
        "Display figures\n\n"
      ]
    },
    {
      "cell_type": "code",
      "execution_count": null,
      "metadata": {
        "collapsed": false
      },
      "outputs": [],
      "source": [
        "otv.View.ShowAll()"
      ]
    }
  ],
  "metadata": {
    "kernelspec": {
      "display_name": "Python 3",
      "language": "python",
      "name": "python3"
    },
    "language_info": {
      "codemirror_mode": {
        "name": "ipython",
        "version": 3
      },
      "file_extension": ".py",
      "mimetype": "text/x-python",
      "name": "python",
      "nbconvert_exporter": "python",
      "pygments_lexer": "ipython3",
      "version": "3.12.7"
    }
  },
  "nbformat": 4,
  "nbformat_minor": 0
}