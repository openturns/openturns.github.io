{
  "cells": [
    {
      "cell_type": "code",
      "execution_count": null,
      "metadata": {
        "collapsed": false
      },
      "outputs": [],
      "source": [
        "%matplotlib inline"
      ]
    },
    {
      "cell_type": "markdown",
      "metadata": {},
      "source": [
        "\n# Create a stationary covariance model\n"
      ]
    },
    {
      "cell_type": "markdown",
      "metadata": {},
      "source": [
        "This use case illustrates how the user can define his own stationary covariance model thanks to the object *UserDefinedStationaryCovarianceModel* defined from:\n\n- a mesh $\\mathcal{M}$ of dimension $n$ defined by the vertices $(\\underline{\\tau}_0,\\dots, \\underline{\\tau}_{N-1})$ and the associated simplices,\n- a collection of covariance matrices stored in the object *CovarianceMatrixCollection* noted $\\underline{\\underline{C}}_0, \\dots, \\underline{\\underline{C}}_{N-1}$ where $\\underline{\\underline{C}}_k$ $\\in \\mathcal{M}_{d \\times d}(\\mathbb{R})$ for $0 \\leq k \\leq N-1$\n\nThen we build a stationary covariance function which is a piecewise constant function on $\\mathcal{D}$ defined by:\n\n\\begin{align}\\forall \\underline{\\tau} \\in \\mathcal{D}, \\, C^{stat}(\\underline{\\tau}) =  \\underline{\\underline{C}}_k\\end{align}\n\nwhere $k$  is such that $\\underline{\\tau}_k$ is the  vertex of $\\mathcal{M}$ the nearest to $\\underline{t}.$\n\n"
      ]
    },
    {
      "cell_type": "code",
      "execution_count": null,
      "metadata": {
        "collapsed": false
      },
      "outputs": [],
      "source": [
        "import openturns as ot\nimport openturns.viewer as viewer\nfrom matplotlib import pylab as plt\not.Log.Show(ot.Log.NONE)"
      ]
    },
    {
      "cell_type": "markdown",
      "metadata": {},
      "source": [
        "We detail the example described in the documentation\nCreate the time grid\n\n"
      ]
    },
    {
      "cell_type": "code",
      "execution_count": null,
      "metadata": {
        "collapsed": false
      },
      "outputs": [],
      "source": [
        "t0 = 0.0\ndt = 0.5\nN = int((20.0 - t0) / dt)\nmesh = ot.RegularGrid(t0, dt, N)\n\n# Create the covariance function\n\n\ndef gamma(tau):\n    return 1.0 / (1.0 + tau * tau)\n\n\n# Create the collection of HermitianMatrix\ncoll = ot.SquareMatrixCollection()\nfor k in range(N):\n    t = mesh.getValue(k)\n    matrix = ot.SquareMatrix([[gamma(t)]])\n    coll.add(matrix)"
      ]
    },
    {
      "cell_type": "markdown",
      "metadata": {},
      "source": [
        "Create the covariance model\n\n"
      ]
    },
    {
      "cell_type": "code",
      "execution_count": null,
      "metadata": {
        "collapsed": false
      },
      "outputs": [],
      "source": [
        "covmodel = ot.UserDefinedStationaryCovarianceModel(mesh, coll)\n\n# One vertex of the mesh\ntau = 1.5\n\n# Get the covariance function computed at the vertex tau\ncovmodel(tau)"
      ]
    },
    {
      "cell_type": "markdown",
      "metadata": {},
      "source": [
        "Graph of the spectral function\n\n"
      ]
    },
    {
      "cell_type": "code",
      "execution_count": null,
      "metadata": {
        "collapsed": false
      },
      "outputs": [],
      "source": [
        "x = ot.Sample(N, 2)\nfor k in range(N):\n    t = mesh.getValue(k)\n    x[k, 0] = t\n    value = covmodel(t)\n    x[k, 1] = value[0, 0]\n\n# Create the curve of the spectral function\ncurve = ot.Curve(x, 'User Model')\n\n# Create the graph\nmyGraph = ot.Graph('User covariance model', 'Time',\n                   'Covariance function', True)\nmyGraph.add(curve)\nmyGraph.setLegendPosition('topright')\nview = viewer.View(myGraph)\nplt.show()"
      ]
    }
  ],
  "metadata": {
    "kernelspec": {
      "display_name": "Python 3",
      "language": "python",
      "name": "python3"
    },
    "language_info": {
      "codemirror_mode": {
        "name": "ipython",
        "version": 3
      },
      "file_extension": ".py",
      "mimetype": "text/x-python",
      "name": "python",
      "nbconvert_exporter": "python",
      "pygments_lexer": "ipython3",
      "version": "3.10.5"
    }
  },
  "nbformat": 4,
  "nbformat_minor": 0
}