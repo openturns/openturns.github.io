{
  "cells": [
    {
      "cell_type": "code",
      "execution_count": null,
      "metadata": {
        "collapsed": false
      },
      "outputs": [],
      "source": [
        "%matplotlib inline"
      ]
    },
    {
      "cell_type": "markdown",
      "metadata": {},
      "source": [
        "\n# Create a polynomial chaos for the Ishigami function: a quick start guide to polynomial chaos\n"
      ]
    },
    {
      "cell_type": "markdown",
      "metadata": {},
      "source": [
        "In this example, we create a polynomial chaos for the `Ishigami function<use-case-ishigami>`. We create a sparse polynomial with maximum total degree equal to 8.\n\n\n"
      ]
    },
    {
      "cell_type": "markdown",
      "metadata": {},
      "source": [
        "## Define the model\n\n"
      ]
    },
    {
      "cell_type": "code",
      "execution_count": null,
      "metadata": {
        "collapsed": false
      },
      "outputs": [],
      "source": [
        "from openturns.usecases import ishigami_function as ishigami_function\nimport openturns as ot\nimport openturns.viewer as viewer\nfrom matplotlib import pylab as plt\nimport numpy as np\not.Log.Show(ot.Log.NONE)\not.RandomGenerator.SetSeed(0)"
      ]
    },
    {
      "cell_type": "markdown",
      "metadata": {},
      "source": [
        "We load the Ishigami model :\n\n"
      ]
    },
    {
      "cell_type": "code",
      "execution_count": null,
      "metadata": {
        "collapsed": false
      },
      "outputs": [],
      "source": [
        "im = ishigami_function.IshigamiModel()"
      ]
    },
    {
      "cell_type": "markdown",
      "metadata": {},
      "source": [
        "The `IshigamiModel` data class contains the input distribution $X=(X_1, X_2, X_3)$ in `im.distributionX` and the Ishigami function in `im.model`.\nWe also have access to the input variable names with\n\n"
      ]
    },
    {
      "cell_type": "code",
      "execution_count": null,
      "metadata": {
        "collapsed": false
      },
      "outputs": [],
      "source": [
        "input_names = im.distributionX.getDescription()"
      ]
    },
    {
      "cell_type": "markdown",
      "metadata": {},
      "source": [
        "## Draw the function\n\n"
      ]
    },
    {
      "cell_type": "markdown",
      "metadata": {},
      "source": [
        "Create a training sample\n\n"
      ]
    },
    {
      "cell_type": "code",
      "execution_count": null,
      "metadata": {
        "collapsed": false
      },
      "outputs": [],
      "source": [
        "N = 1000\ninputSample = im.distributionX.getSample(N)\noutputSample = im.model(inputSample)"
      ]
    },
    {
      "cell_type": "code",
      "execution_count": null,
      "metadata": {
        "collapsed": false
      },
      "outputs": [],
      "source": [
        "def plotXvsY(sampleX, sampleY, figsize=(15, 3)):\n    import pylab as pl\n    import openturns.viewer\n    dimX = sampleX.getDimension()\n    inputdescr = sampleX.getDescription()\n    fig = pl.figure(figsize=figsize)\n    for i in range(dimX):\n        ax = fig.add_subplot(1, dimX, i+1)\n        graph = ot.Graph('', inputdescr[i], 'Y', True, '')\n        cloud = ot.Cloud(sampleX[:, i], sampleY)\n        graph.add(cloud)\n        _ = ot.viewer.View(graph, figure=fig, axes=[ax])\n    return None\n\n\nplotXvsY(inputSample, outputSample)"
      ]
    },
    {
      "cell_type": "code",
      "execution_count": null,
      "metadata": {
        "collapsed": false
      },
      "outputs": [],
      "source": [
        "graph = ot.HistogramFactory().build(outputSample).drawPDF()\nview = viewer.View(graph)"
      ]
    },
    {
      "cell_type": "markdown",
      "metadata": {},
      "source": [
        "We see that the distribution of the output has two modes.\n\n"
      ]
    },
    {
      "cell_type": "markdown",
      "metadata": {},
      "source": [
        "## Create the polynomial chaos model\n\n"
      ]
    },
    {
      "cell_type": "markdown",
      "metadata": {},
      "source": [
        "Create a training sample\n\n"
      ]
    },
    {
      "cell_type": "code",
      "execution_count": null,
      "metadata": {
        "collapsed": false
      },
      "outputs": [],
      "source": [
        "N = 100\ninputTrain = im.distributionX.getSample(N)\noutputTrain = im.model(inputTrain)"
      ]
    },
    {
      "cell_type": "markdown",
      "metadata": {},
      "source": [
        "Create the chaos.\n\nWe could use only the input and output training samples: in this case, the distribution of the input sample is computed by selecting the distribution that has the best fit.\n\n"
      ]
    },
    {
      "cell_type": "code",
      "execution_count": null,
      "metadata": {
        "collapsed": false
      },
      "outputs": [],
      "source": [
        "chaosalgo = ot.FunctionalChaosAlgorithm(inputTrain, outputTrain)"
      ]
    },
    {
      "cell_type": "markdown",
      "metadata": {},
      "source": [
        "Since the input distribution is known in our particular case, we instead create the multivariate basis from the distribution.\n\n"
      ]
    },
    {
      "cell_type": "code",
      "execution_count": null,
      "metadata": {
        "collapsed": false
      },
      "outputs": [],
      "source": [
        "multivariateBasis = ot.OrthogonalProductPolynomialFactory(\n    [im.X1, im.X2, im.X3])\nselectionAlgorithm = ot.LeastSquaresMetaModelSelectionFactory()\nprojectionStrategy = ot.LeastSquaresStrategy(\n    inputTrain, outputTrain, selectionAlgorithm)\ntotalDegree = 8\nenumfunc = multivariateBasis.getEnumerateFunction()\nP = enumfunc.getStrataCumulatedCardinal(totalDegree)\nadaptiveStrategy = ot.FixedStrategy(multivariateBasis, P)\nchaosalgo = ot.FunctionalChaosAlgorithm(\n    inputTrain, outputTrain, im.distributionX, adaptiveStrategy, projectionStrategy)"
      ]
    },
    {
      "cell_type": "code",
      "execution_count": null,
      "metadata": {
        "collapsed": false
      },
      "outputs": [],
      "source": [
        "chaosalgo.run()\nresult = chaosalgo.getResult()\nmetamodel = result.getMetaModel()"
      ]
    },
    {
      "cell_type": "markdown",
      "metadata": {},
      "source": [
        "In order to validate the metamodel, we generate a test sample.\n\n"
      ]
    },
    {
      "cell_type": "code",
      "execution_count": null,
      "metadata": {
        "collapsed": false
      },
      "outputs": [],
      "source": [
        "n_valid = 1000\ninputTest = im.distributionX.getSample(n_valid)\noutputTest = im.model(inputTest)\nval = ot.MetaModelValidation(inputTest, outputTest, metamodel)\nQ2 = val.computePredictivityFactor()[0]\nQ2"
      ]
    },
    {
      "cell_type": "markdown",
      "metadata": {},
      "source": [
        "The Q2 is very close to 1: the metamodel is excellent.\n\n"
      ]
    },
    {
      "cell_type": "code",
      "execution_count": null,
      "metadata": {
        "collapsed": false
      },
      "outputs": [],
      "source": [
        "graph = val.drawValidation()\ngraph.setTitle(\"Q2=%.2f%%\" % (Q2*100))\nview = viewer.View(graph)"
      ]
    },
    {
      "cell_type": "markdown",
      "metadata": {},
      "source": [
        "The metamodel has a good predictivity, since the points are almost on the first diagonal.\n\n"
      ]
    },
    {
      "cell_type": "markdown",
      "metadata": {},
      "source": [
        "## Compute and print Sobol' indices\n\n"
      ]
    },
    {
      "cell_type": "code",
      "execution_count": null,
      "metadata": {
        "collapsed": false
      },
      "outputs": [],
      "source": [
        "chaosSI = ot.FunctionalChaosSobolIndices(result)\nprint(chaosSI.summary())"
      ]
    },
    {
      "cell_type": "markdown",
      "metadata": {},
      "source": [
        "We notice the a coefficient with marginal degree equal to 6 has a significant impact on the output variance. Hence, we cannot get a satisfactory polynomial chaos with total degree less that 6.\n\n"
      ]
    },
    {
      "cell_type": "markdown",
      "metadata": {},
      "source": [
        "Draw Sobol' indices\n\n"
      ]
    },
    {
      "cell_type": "code",
      "execution_count": null,
      "metadata": {
        "collapsed": false
      },
      "outputs": [],
      "source": [
        "dim_input = im.distributionX.getDimension()\nfirst_order = [chaosSI.getSobolIndex(i) for i in range(dim_input)]\ntotal_order = [chaosSI.getSobolTotalIndex(i) for i in range(dim_input)]\ninput_names = im.model.getInputDescription()\ngraph = ot.SobolIndicesAlgorithm.DrawSobolIndices(\n    input_names, first_order, total_order)\nview = viewer.View(graph)"
      ]
    },
    {
      "cell_type": "markdown",
      "metadata": {},
      "source": [
        "The variable which has the largest impact on the output is, taking interactions into account, X1.\n\nWe see that X1 has interactions with other variables, since the first order indice is less than the total order indice.\n\nAt first order, X3 has no interactions with other variables since its first order indice is close to zero.\n\n"
      ]
    },
    {
      "cell_type": "markdown",
      "metadata": {},
      "source": [
        "## Computing the accuracy\n\n"
      ]
    },
    {
      "cell_type": "markdown",
      "metadata": {},
      "source": [
        "The interesting point with the Ishigami function is that the exact Sobol' indices are known. We can use that property in order to compute the absolute error on the Sobol' indices for the polynomial chaos.\n\nThe following function computes the exact mean, variance and Sobol' indices for this function.\n\n"
      ]
    },
    {
      "cell_type": "code",
      "execution_count": null,
      "metadata": {
        "collapsed": false
      },
      "outputs": [],
      "source": [
        "def ishigamiSA(a, b):\n    '''Exact sensitivity indices of the Ishigami function for given a and b.'''\n    var = 1.0/2 + a**2/8 + b*np.pi**4/5 + b**2*np.pi**8/18\n    S1 = (1.0/2 + b*np.pi**4/5+b**2*np.pi**8/50)/var\n    S2 = (a**2/8)/var\n    S3 = 0\n    S13 = b**2*np.pi**8/2*(1.0/9-1.0/25)/var\n    exact = {\n        'expectation': a/2,\n        'variance': var,\n        'S1': (1.0/2 + b*np.pi**4/5+b**2*np.pi**8.0/50)/var,\n        'S2': (a**2/8)/var,\n        'S3': 0,\n        'S12': 0,\n        'S23': 0,\n        'S13': S13,\n        'S123': 0,\n        'ST1': S1 + S13,\n        'ST2': S2,\n        'ST3': S3 + S13\n    }\n    return exact"
      ]
    },
    {
      "cell_type": "code",
      "execution_count": null,
      "metadata": {
        "collapsed": false
      },
      "outputs": [],
      "source": [
        "a = 7.\nb = 0.1\nexact = ishigamiSA(a, b)\nexact"
      ]
    },
    {
      "cell_type": "markdown",
      "metadata": {},
      "source": [
        "To make the comparisons simpler, we gather the results into a list.\n\n"
      ]
    },
    {
      "cell_type": "code",
      "execution_count": null,
      "metadata": {
        "collapsed": false
      },
      "outputs": [],
      "source": [
        "S_exact = [exact[\"S1\"], exact[\"S2\"], exact[\"S3\"]]\nST_exact = [exact[\"ST1\"], exact[\"ST2\"], exact[\"ST3\"]]"
      ]
    },
    {
      "cell_type": "markdown",
      "metadata": {},
      "source": [
        "Then we perform a loop over the input dimension and compute the absolute error on the Sobol' indices.\n\n"
      ]
    },
    {
      "cell_type": "code",
      "execution_count": null,
      "metadata": {
        "collapsed": false
      },
      "outputs": [],
      "source": [
        "for i in range(im.dim):\n    absoluteErrorS = abs(first_order[i]-S_exact[i])\n    absoluteErrorST = abs(total_order[i]-ST_exact[i])\n    print(\"X%d, Abs.Err. on S=%.1e, Abs.Err. on ST=%.1e\" %\n          (i+1, absoluteErrorS, absoluteErrorST))\n\nplt.show()"
      ]
    },
    {
      "cell_type": "markdown",
      "metadata": {},
      "source": [
        "We see that the indices are correctly estimated with a low accuracy even if we have use only 100 function evaluations. This shows the good performance of the polynomial chaos in this case.\n\n"
      ]
    }
  ],
  "metadata": {
    "kernelspec": {
      "display_name": "Python 3",
      "language": "python",
      "name": "python3"
    },
    "language_info": {
      "codemirror_mode": {
        "name": "ipython",
        "version": 3
      },
      "file_extension": ".py",
      "mimetype": "text/x-python",
      "name": "python",
      "nbconvert_exporter": "python",
      "pygments_lexer": "ipython3",
      "version": "3.10.1"
    }
  },
  "nbformat": 4,
  "nbformat_minor": 0
}