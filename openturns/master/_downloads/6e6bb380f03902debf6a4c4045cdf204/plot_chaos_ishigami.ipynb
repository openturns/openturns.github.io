{
  "cells": [
    {
      "cell_type": "markdown",
      "metadata": {},
      "source": [
        "\n# Create a polynomial chaos for the Ishigami function: a quick start guide to polynomial chaos\n"
      ]
    },
    {
      "cell_type": "markdown",
      "metadata": {},
      "source": [
        "In this example, we create a polynomial chaos for the\n`Ishigami function<use-case-ishigami>`.\nWe create a sparse polynomial with maximum total degree equal to 8\nusing the :class:`~openturns.FunctionalChaosAlgorithm` class.\n\n\n"
      ]
    },
    {
      "cell_type": "markdown",
      "metadata": {},
      "source": [
        "## Define the model\n\n"
      ]
    },
    {
      "cell_type": "code",
      "execution_count": null,
      "metadata": {
        "collapsed": false
      },
      "outputs": [],
      "source": [
        "from openturns.usecases import ishigami_function\nimport openturns as ot\nimport openturns.viewer as otv\nimport math\n\not.Log.Show(ot.Log.NONE)\not.RandomGenerator.SetSeed(0)"
      ]
    },
    {
      "cell_type": "markdown",
      "metadata": {},
      "source": [
        "We load the Ishigami model :\n\n"
      ]
    },
    {
      "cell_type": "code",
      "execution_count": null,
      "metadata": {
        "collapsed": false
      },
      "outputs": [],
      "source": [
        "im = ishigami_function.IshigamiModel()"
      ]
    },
    {
      "cell_type": "markdown",
      "metadata": {},
      "source": [
        "The `IshigamiModel` data class contains the input distribution $\\vect{X}=(X_1, X_2, X_3)$ in `im.inputDistribution` and the Ishigami function in `im.model`.\nWe also have access to the input variable names with\n\n"
      ]
    },
    {
      "cell_type": "code",
      "execution_count": null,
      "metadata": {
        "collapsed": false
      },
      "outputs": [],
      "source": [
        "input_names = im.inputDistribution.getDescription()"
      ]
    },
    {
      "cell_type": "markdown",
      "metadata": {},
      "source": [
        "## Draw the function\n\n"
      ]
    },
    {
      "cell_type": "markdown",
      "metadata": {},
      "source": [
        "Create a training sample\n\n"
      ]
    },
    {
      "cell_type": "code",
      "execution_count": null,
      "metadata": {
        "collapsed": false
      },
      "outputs": [],
      "source": [
        "sampleSize = 1000\ninputSample = im.inputDistribution.getSample(sampleSize)\noutputSample = im.model(inputSample)"
      ]
    },
    {
      "cell_type": "markdown",
      "metadata": {},
      "source": [
        "Display relationships between the output and the inputs\n\n"
      ]
    },
    {
      "cell_type": "code",
      "execution_count": null,
      "metadata": {
        "collapsed": false
      },
      "outputs": [],
      "source": [
        "grid = ot.VisualTest.DrawPairsXY(inputSample, outputSample)\nview = otv.View(grid, figure_kw={\"figsize\": (12.0, 4.0)})"
      ]
    },
    {
      "cell_type": "code",
      "execution_count": null,
      "metadata": {
        "collapsed": false
      },
      "outputs": [],
      "source": [
        "graph = ot.HistogramFactory().build(outputSample).drawPDF()\nview = otv.View(graph)"
      ]
    },
    {
      "cell_type": "markdown",
      "metadata": {},
      "source": [
        "We see that the distribution of the output has two modes.\n\n"
      ]
    },
    {
      "cell_type": "markdown",
      "metadata": {},
      "source": [
        "## Create the polynomial chaos model\n\n"
      ]
    },
    {
      "cell_type": "markdown",
      "metadata": {},
      "source": [
        "Create a training sample\n\n"
      ]
    },
    {
      "cell_type": "code",
      "execution_count": null,
      "metadata": {
        "collapsed": false
      },
      "outputs": [],
      "source": [
        "sampleSize = 100\ninputTrain = im.inputDistribution.getSample(sampleSize)\noutputTrain = im.model(inputTrain)"
      ]
    },
    {
      "cell_type": "markdown",
      "metadata": {},
      "source": [
        "Create the chaos.\n\nWe could use only the input and output training samples: in this case, the distribution of the input sample is computed by selecting the distribution that has the best fit.\n\n"
      ]
    },
    {
      "cell_type": "code",
      "execution_count": null,
      "metadata": {
        "collapsed": false
      },
      "outputs": [],
      "source": [
        "chaosalgo = ot.FunctionalChaosAlgorithm(inputTrain, outputTrain)"
      ]
    },
    {
      "cell_type": "markdown",
      "metadata": {},
      "source": [
        "Since the input distribution is known in our particular case, we instead create\nthe multivariate basis from the distribution.\nWe define the orthogonal basis used to expand the function.\nWe see that each input has the uniform distribution, which corresponds to the\nLegendre polynomials.\n\n"
      ]
    },
    {
      "cell_type": "code",
      "execution_count": null,
      "metadata": {
        "collapsed": false
      },
      "outputs": [],
      "source": [
        "multivariateBasis = ot.OrthogonalProductPolynomialFactory([im.X1, im.X2, im.X3])\nmultivariateBasis"
      ]
    },
    {
      "cell_type": "markdown",
      "metadata": {},
      "source": [
        "Then we create the sparse polynomial chaos expansion using regression and\nthe LARS selection model method.\n\n"
      ]
    },
    {
      "cell_type": "code",
      "execution_count": null,
      "metadata": {
        "collapsed": false
      },
      "outputs": [],
      "source": [
        "selectionAlgorithm = ot.LeastSquaresMetaModelSelectionFactory()\nprojectionStrategy = ot.LeastSquaresStrategy(selectionAlgorithm)\ntotalDegree = 8\nenumerateFunction = multivariateBasis.getEnumerateFunction()\nbasisSize = enumerateFunction.getBasisSizeFromTotalDegree(totalDegree)\nadaptiveStrategy = ot.FixedStrategy(multivariateBasis, basisSize)\nchaosAlgo = ot.FunctionalChaosAlgorithm(\n    inputTrain, outputTrain, im.inputDistribution, adaptiveStrategy, projectionStrategy\n)"
      ]
    },
    {
      "cell_type": "markdown",
      "metadata": {},
      "source": [
        "The coefficients of the polynomial expansion can then be estimated\nusing the :meth:`~openturns.FunctionalChaosAlgorithm.run` method.\n\n"
      ]
    },
    {
      "cell_type": "code",
      "execution_count": null,
      "metadata": {
        "collapsed": false
      },
      "outputs": [],
      "source": [
        "chaosAlgo.run()"
      ]
    },
    {
      "cell_type": "markdown",
      "metadata": {},
      "source": [
        "The :meth:`~openturns.FunctionalChaosAlgorithm.getResult` method returns the\nresult.\n\n"
      ]
    },
    {
      "cell_type": "code",
      "execution_count": null,
      "metadata": {
        "collapsed": false
      },
      "outputs": [],
      "source": [
        "chaosResult = chaosAlgo.getResult()"
      ]
    },
    {
      "cell_type": "markdown",
      "metadata": {},
      "source": [
        "The polynomial chaos result provides a pretty-print.\n\n"
      ]
    },
    {
      "cell_type": "code",
      "execution_count": null,
      "metadata": {
        "collapsed": false
      },
      "outputs": [],
      "source": [
        "chaosResult"
      ]
    },
    {
      "cell_type": "markdown",
      "metadata": {},
      "source": [
        "Get the metamodel.\n\n"
      ]
    },
    {
      "cell_type": "code",
      "execution_count": null,
      "metadata": {
        "collapsed": false
      },
      "outputs": [],
      "source": [
        "metamodel = chaosResult.getMetaModel()"
      ]
    },
    {
      "cell_type": "markdown",
      "metadata": {},
      "source": [
        "In order to validate the metamodel, we generate a test sample.\n\n"
      ]
    },
    {
      "cell_type": "code",
      "execution_count": null,
      "metadata": {
        "collapsed": false
      },
      "outputs": [],
      "source": [
        "n_valid = 1000\ninputTest = im.inputDistribution.getSample(n_valid)\noutputTest = im.model(inputTest)\nmetamodelPredictions = metamodel(inputTest)\nval = ot.MetaModelValidation(outputTest, metamodelPredictions)\nr2Score = val.computeR2Score()[0]\nr2Score"
      ]
    },
    {
      "cell_type": "markdown",
      "metadata": {},
      "source": [
        "The $R^2$ is very close to 1: the metamodel is accurate.\n\n"
      ]
    },
    {
      "cell_type": "code",
      "execution_count": null,
      "metadata": {
        "collapsed": false
      },
      "outputs": [],
      "source": [
        "graph = val.drawValidation()\ngraph.setTitle(\"R2=%.2f%%\" % (r2Score * 100))\nview = otv.View(graph)"
      ]
    },
    {
      "cell_type": "markdown",
      "metadata": {},
      "source": [
        "The metamodel has a good predictivity, since the points are almost on the first diagonal.\n\n"
      ]
    },
    {
      "cell_type": "markdown",
      "metadata": {},
      "source": [
        "## Compute mean and variance\n\n"
      ]
    },
    {
      "cell_type": "markdown",
      "metadata": {},
      "source": [
        "The mean and variance of a polynomial chaos expansion are computed\nusing the coefficients of the expansion.\nThis can be done using :class:`~openturns.FunctionalChaosRandomVector`.\n\n"
      ]
    },
    {
      "cell_type": "code",
      "execution_count": null,
      "metadata": {
        "collapsed": false
      },
      "outputs": [],
      "source": [
        "randomVector = ot.FunctionalChaosRandomVector(chaosResult)\nmean = randomVector.getMean()\nprint(\"Mean=\", mean)\ncovarianceMatrix = randomVector.getCovariance()\nprint(\"Covariance=\", covarianceMatrix)\noutputDimension = outputTrain.getDimension()\nstdDev = ot.Point(outputDimension)\nfor i in range(outputDimension):\n    stdDev[i] = math.sqrt(covarianceMatrix[i, i])\nprint(\"Standard deviation=\", stdDev)"
      ]
    },
    {
      "cell_type": "markdown",
      "metadata": {},
      "source": [
        "## Compute and print Sobol' indices\n\n"
      ]
    },
    {
      "cell_type": "markdown",
      "metadata": {},
      "source": [
        "By default, printing the object will print the Sobol' indices\nand the multi-indices ordered by decreasing part of variance.\nIf a multi-index has a part of variance which is lower\nthan some threshold, it is not printed.\nThis threshold can be customized using the\n`FunctionalChaosSobolIndices-VariancePartThreshold` key of the\n:class:`~openturns.ResourceMap`.\n\n"
      ]
    },
    {
      "cell_type": "code",
      "execution_count": null,
      "metadata": {
        "collapsed": false
      },
      "outputs": [],
      "source": [
        "chaosSI = ot.FunctionalChaosSobolIndices(chaosResult)\nchaosSI"
      ]
    },
    {
      "cell_type": "markdown",
      "metadata": {},
      "source": [
        "We notice that a coefficient with marginal degree equal to 6 has a significant impact on the output variance.\nHence, we cannot get a satisfactory polynomial chaos with total degree less that 6.\n\n"
      ]
    },
    {
      "cell_type": "markdown",
      "metadata": {},
      "source": [
        "Draw Sobol' indices.\n\n"
      ]
    },
    {
      "cell_type": "code",
      "execution_count": null,
      "metadata": {
        "collapsed": false
      },
      "outputs": [],
      "source": [
        "dim_input = im.inputDistribution.getDimension()\nfirst_order = [chaosSI.getSobolIndex(i) for i in range(dim_input)]\ntotal_order = [chaosSI.getSobolTotalIndex(i) for i in range(dim_input)]\ninput_names = im.model.getInputDescription()\ngraph = ot.SobolIndicesAlgorithm.DrawSobolIndices(input_names, first_order, total_order)\nview = otv.View(graph)"
      ]
    },
    {
      "cell_type": "markdown",
      "metadata": {},
      "source": [
        "The variable which has the largest impact on the output is, taking\ninteractions into account, $X_1$.\nWe see that $X_1$ has interactions with other variables, since the first\norder indice is less than the total order indice.\nAt first order, $X_3$ has no interaction with other variables since its\nfirst order indice is close to zero.\n\n"
      ]
    },
    {
      "cell_type": "markdown",
      "metadata": {},
      "source": [
        "## Computing the accuracy\n\n"
      ]
    },
    {
      "cell_type": "markdown",
      "metadata": {},
      "source": [
        "The interesting point with the Ishigami function is that the exact Sobol' indices are known.\nWe can use that property in order to compute the absolute error on the Sobol' indices for the polynomial chaos.\n\n"
      ]
    },
    {
      "cell_type": "markdown",
      "metadata": {},
      "source": [
        "To make the comparisons simpler, we gather the results into a list.\n\n"
      ]
    },
    {
      "cell_type": "code",
      "execution_count": null,
      "metadata": {
        "collapsed": false
      },
      "outputs": [],
      "source": [
        "S_exact = [im.S1, im.S2, im.S3]\nST_exact = [im.ST1, im.ST2, im.ST3]"
      ]
    },
    {
      "cell_type": "markdown",
      "metadata": {},
      "source": [
        "Then we perform a loop over the input dimension and compute the absolute error on the Sobol' indices.\n\n"
      ]
    },
    {
      "cell_type": "code",
      "execution_count": null,
      "metadata": {
        "collapsed": false
      },
      "outputs": [],
      "source": [
        "for i in range(im.dim):\n    absoluteErrorS = abs(first_order[i] - S_exact[i])\n    absoluteErrorST = abs(total_order[i] - ST_exact[i])\n    print(\n        \"X%d, Abs.Err. on S=%.1e, Abs.Err. on ST=%.1e\"\n        % (i + 1, absoluteErrorS, absoluteErrorST)\n    )"
      ]
    },
    {
      "cell_type": "markdown",
      "metadata": {},
      "source": [
        "We see that the indices are correctly estimated with a low accuracy even if we have used only 100 function evaluations.\nThis shows the good performance of the polynomial chaos in this case.\n\n"
      ]
    },
    {
      "cell_type": "markdown",
      "metadata": {},
      "source": [
        "We can compute the part of the variance of the output explained by each multi-index.\n\n"
      ]
    },
    {
      "cell_type": "code",
      "execution_count": null,
      "metadata": {
        "collapsed": false
      },
      "outputs": [],
      "source": [
        "partOfVariance = chaosSI.getPartOfVariance()\nchaosResult = chaosSI.getFunctionalChaosResult()\ncoefficients = chaosResult.getCoefficients()\northogonalBasis = chaosResult.getOrthogonalBasis()\nenumerateFunction = orthogonalBasis.getEnumerateFunction()\nindices = chaosResult.getIndices()\nbasisSize = indices.getSize()\nprint(\"Index, global index, multi-index, coefficient, part of variance\")\nfor i in range(basisSize):\n    globalIndex = indices[i]\n    multiIndex = enumerateFunction(globalIndex)\n    if partOfVariance[i] > 1.0e-3:\n        print(\n            \"%d, %d, %s, %.4f, %.4f\"\n            % (i, globalIndex, multiIndex, coefficients[i, 0], partOfVariance[i])\n        )"
      ]
    },
    {
      "cell_type": "code",
      "execution_count": null,
      "metadata": {
        "collapsed": false
      },
      "outputs": [],
      "source": [
        "view.show()"
      ]
    }
  ],
  "metadata": {
    "kernelspec": {
      "display_name": "Python 3",
      "language": "python",
      "name": "python3"
    },
    "language_info": {
      "codemirror_mode": {
        "name": "ipython",
        "version": 3
      },
      "file_extension": ".py",
      "mimetype": "text/x-python",
      "name": "python",
      "nbconvert_exporter": "python",
      "pygments_lexer": "ipython3",
      "version": "3.13.2"
    }
  },
  "nbformat": 4,
  "nbformat_minor": 0
}