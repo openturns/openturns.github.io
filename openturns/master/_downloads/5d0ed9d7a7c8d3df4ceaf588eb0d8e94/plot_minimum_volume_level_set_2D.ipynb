{
  "cells": [
    {
      "cell_type": "code",
      "execution_count": null,
      "metadata": {
        "collapsed": false
      },
      "outputs": [],
      "source": [
        "%matplotlib inline"
      ]
    },
    {
      "cell_type": "markdown",
      "metadata": {},
      "source": [
        "\n# Draw minimum volume level set in 2D\n"
      ]
    },
    {
      "cell_type": "markdown",
      "metadata": {},
      "source": [
        "In this example, we compute the minimum volume level set of a bivariate distribution.\n\n"
      ]
    },
    {
      "cell_type": "code",
      "execution_count": null,
      "metadata": {
        "collapsed": false
      },
      "outputs": [],
      "source": [
        "import openturns as ot\nimport openturns.viewer as viewer\nfrom matplotlib import pylab as plt\not.Log.Show(ot.Log.NONE)"
      ]
    },
    {
      "cell_type": "markdown",
      "metadata": {},
      "source": [
        "Create a gaussian\n\n"
      ]
    },
    {
      "cell_type": "code",
      "execution_count": null,
      "metadata": {
        "collapsed": false
      },
      "outputs": [],
      "source": [
        "corr = ot.CorrelationMatrix(2)\ncorr[0, 1] = 0.2\ncopula = ot.NormalCopula(corr)\nx1 = ot.Normal(-1., 1)\nx2 = ot.Normal(2, 1)\nx_funk = ot.ComposedDistribution([x1, x2], copula)\n\n# Create a second gaussian\nx1 = ot.Normal(1.,1)\nx2 = ot.Normal(-2,1)\nx_punk = ot.ComposedDistribution([x1, x2], copula)\n\n# Mix the distributions\nmixture = ot.Mixture([x_funk, x_punk], [0.5,1.])"
      ]
    },
    {
      "cell_type": "code",
      "execution_count": null,
      "metadata": {
        "collapsed": false
      },
      "outputs": [],
      "source": [
        "graph = mixture.drawPDF()\nview = viewer.View(graph)"
      ]
    },
    {
      "cell_type": "markdown",
      "metadata": {},
      "source": [
        "For a multivariate distribution (with dimension greater than 1), the `computeMinimumVolumeLevelSetWithThreshold` uses Monte-Carlo sampling. \n\n"
      ]
    },
    {
      "cell_type": "code",
      "execution_count": null,
      "metadata": {
        "collapsed": false
      },
      "outputs": [],
      "source": [
        "ot.ResourceMap.SetAsUnsignedInteger(\"Distribution-MinimumVolumeLevelSetSamplingSize\",1000)"
      ]
    },
    {
      "cell_type": "markdown",
      "metadata": {},
      "source": [
        "We want to compute the minimum volume LevelSet which contains `alpha`=90% of the distribution. The `threshold` is the value of the PDF corresponding the `alpha`-probability: the points contained in the LevelSet have a PDF value lower or equal to this threshold.\n\n"
      ]
    },
    {
      "cell_type": "code",
      "execution_count": null,
      "metadata": {
        "collapsed": false
      },
      "outputs": [],
      "source": [
        "alpha = 0.9\nlevelSet, threshold = mixture.computeMinimumVolumeLevelSetWithThreshold(alpha)\nthreshold"
      ]
    },
    {
      "cell_type": "code",
      "execution_count": null,
      "metadata": {
        "collapsed": false
      },
      "outputs": [],
      "source": [
        "def drawLevelSetContour2D(distribution, numberOfPointsInXAxis, alpha, threshold, sampleSize= 500):\n    '''\n    Compute the minimum volume LevelSet of measure equal to alpha and get the \n    corresponding density value (named threshold).\n    Generate a sample of the distribution and draw it. \n    Draw a contour plot for the distribution, where the PDF is equal to threshold. \n    '''\n    sample = distribution.getSample(sampleSize)\n    X1min = sample[:, 0].getMin()[0]\n    X1max = sample[:, 0].getMax()[0]\n    X2min = sample[:, 1].getMin()[0]\n    X2max = sample[:, 1].getMax()[0]\n    xx = ot.Box([numberOfPointsInXAxis],\n                ot.Interval([X1min], [X1max])).generate()\n    yy = ot.Box([numberOfPointsInXAxis],\n                ot.Interval([X2min], [X2max])).generate()\n    xy = ot.Box([numberOfPointsInXAxis, numberOfPointsInXAxis],\n                ot.Interval([X1min, X2min], [X1max, X2max])).generate()\n    data = distribution.computePDF(xy)\n    graph = ot.Graph('', 'X1', 'X2', True, 'topright')\n    labels = [\"%.2f%%\" % (100*alpha)]\n    contour = ot.Contour(xx, yy, data, ot.Point([threshold]), ot.Description(labels))\n    contour.setColor('black')\n    graph.setTitle(\"%.2f%% of the distribution, sample size = %d\" % (100*alpha,sampleSize))\n    graph.add(contour)\n    cloud = ot.Cloud(sample)\n    graph.add(cloud)\n    return graph"
      ]
    },
    {
      "cell_type": "markdown",
      "metadata": {},
      "source": [
        "The following plot shows that 90% of the sample is contained in the LevelSet.\n\n"
      ]
    },
    {
      "cell_type": "code",
      "execution_count": null,
      "metadata": {
        "collapsed": false
      },
      "outputs": [],
      "source": [
        "numberOfPointsInXAxis = 50\ngraph = drawLevelSetContour2D(mixture, numberOfPointsInXAxis, alpha, threshold)\nview = viewer.View(graph)\nplt.show()"
      ]
    }
  ],
  "metadata": {
    "kernelspec": {
      "display_name": "Python 3",
      "language": "python",
      "name": "python3"
    },
    "language_info": {
      "codemirror_mode": {
        "name": "ipython",
        "version": 3
      },
      "file_extension": ".py",
      "mimetype": "text/x-python",
      "name": "python",
      "nbconvert_exporter": "python",
      "pygments_lexer": "ipython3",
      "version": "3.9.1"
    }
  },
  "nbformat": 4,
  "nbformat_minor": 0
}