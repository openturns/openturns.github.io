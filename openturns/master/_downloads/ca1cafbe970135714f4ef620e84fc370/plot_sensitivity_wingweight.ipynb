{
  "cells": [
    {
      "cell_type": "markdown",
      "metadata": {},
      "source": [
        "\n# Example of sensitivity analyses on the wing weight model\n"
      ]
    },
    {
      "cell_type": "markdown",
      "metadata": {},
      "source": [
        "This example is a brief overview of the use of the most usual sensitivity analysis techniques and how to call them:\n\n- PCC: Partial Correlation Coefficients\n- PRCC: Partial Rank Correlation Coefficients\n- SRC: Standard Regression Coefficients\n- SRRC: Standard Rank Regression Coefficients\n- Pearson coefficients\n- Spearman coefficients\n- Taylor expansion importance factors\n- Sobol' indices\n- Rank-based estimation of Sobol' indices\n- HSIC : Hilbert-Schmidt Independence Criterion\n\nWe present the methods on the `WingWeight function<use-case-wingweight>` and use the same notations.\n\n"
      ]
    },
    {
      "cell_type": "markdown",
      "metadata": {},
      "source": [
        "## Definition of the model\n\nWe load the model from the usecases module.\n\n\n\n"
      ]
    },
    {
      "cell_type": "code",
      "execution_count": null,
      "metadata": {
        "collapsed": false
      },
      "outputs": [],
      "source": [
        "import openturns as ot\nimport openturns.experimental as otexp\nimport openturns.viewer as otv\nfrom openturns.usecases.wingweight_function import WingWeightModel\nfrom matplotlib import pylab as plt\n\not.Log.Show(ot.Log.NONE)\nm = WingWeightModel()"
      ]
    },
    {
      "cell_type": "markdown",
      "metadata": {},
      "source": [
        "## Cross cuts of the function\n\nLet's have a look on 2D cross cuts of the wing weight function.\nFor each 2D cross cut, the other variables are fixed to the input distribution mean values.\nThis graph allows one to have a first idea of the variations of the function in pair of dimensions.\nThe colors of each contour plot are comparable.\n\n"
      ]
    },
    {
      "cell_type": "code",
      "execution_count": null,
      "metadata": {
        "collapsed": false
      },
      "outputs": [],
      "source": [
        "lowerBound = m.inputDistribution.getRange().getLowerBound()\nupperBound = m.inputDistribution.getRange().getUpperBound()\n\nnX = ot.ResourceMap.GetAsUnsignedInteger(\"Evaluation-DefaultPointNumber\")\ndescription = m.inputDistribution.getDescription()\ndescription.add(\"\")\nm.model.setDescription(description)\nm.model.setName(\"wing weight model\")\ngrid = m.model.drawCrossCuts(\n    m.inputDistribution.getMean(),\n    lowerBound,\n    upperBound,\n    [nX] * m.model.getInputDimension(),\n    False,\n    True,\n    176.0,\n    363.0,\n)\ngrid.setTitle(\"\")\n# Get View object to manipulate the underlying figure\n# Here we decide the colormap and the number of levels used for all contours\nview = otv.View(grid, contour_kw={\"cmap\": \"hsv\", \"levels\": 55})\n\naxes = view.getAxes()\nfig = view.getFigure()\nfig.set_size_inches(12, 12)  # reduce the size\n\n# Setup a large colorbar\nfig.colorbar(\n    view.getSubviews()[1][0].getContourSets()[0], ax=axes[:-2, -1], fraction=0.3\n)\n# Hide unwanted axes labels\nfor i in range(len(axes)):\n    for j in range(i + 1):\n        if i < len(axes) - 1:\n            axes[i][j].xaxis.set_ticklabels([])\n        if j > 0:\n            axes[i][j].yaxis.set_ticklabels([])\nfig.subplots_adjust(top=0.99, bottom=0.05, left=0.06, right=0.99)"
      ]
    },
    {
      "cell_type": "markdown",
      "metadata": {},
      "source": [
        "We can see that the variables $t_c, N_z, A, W_{dg}$ seem to be influent on the wing weight whereas $\\Lambda, \\ell, q, W_p, W_{fw}$ have less influence on the function.\n\n"
      ]
    },
    {
      "cell_type": "markdown",
      "metadata": {},
      "source": [
        "## Data generation\n\nWe create the input and output data for the estimation of the different sensitivity coefficients and we get the input variables description:\n\n"
      ]
    },
    {
      "cell_type": "code",
      "execution_count": null,
      "metadata": {
        "collapsed": false
      },
      "outputs": [],
      "source": [
        "inputNames = m.inputDistribution.getDescription()\n\nsize = 500\ninputDesign = m.inputDistribution.getSample(size)\noutputDesign = m.model(inputDesign)"
      ]
    },
    {
      "cell_type": "markdown",
      "metadata": {},
      "source": [
        "Let's estimate the PCC, PRCC, SRC, SRRC, Pearson and Spearman coefficients, display and analyze them.\nWe create a :class:`~openturns.CorrelationAnalysis` model.\n\n"
      ]
    },
    {
      "cell_type": "code",
      "execution_count": null,
      "metadata": {
        "collapsed": false
      },
      "outputs": [],
      "source": [
        "corr_analysis = ot.CorrelationAnalysis(inputDesign, outputDesign)"
      ]
    },
    {
      "cell_type": "markdown",
      "metadata": {},
      "source": [
        "## PCC coefficients\nWe compute here PCC coefficients using the :class:`~openturns.CorrelationAnalysis`.\n\n"
      ]
    },
    {
      "cell_type": "code",
      "execution_count": null,
      "metadata": {
        "collapsed": false
      },
      "outputs": [],
      "source": [
        "pcc_indices = corr_analysis.computePCC()\nprint(pcc_indices)"
      ]
    },
    {
      "cell_type": "code",
      "execution_count": null,
      "metadata": {
        "collapsed": false
      },
      "outputs": [],
      "source": [
        "graph = ot.SobolIndicesAlgorithm.DrawCorrelationCoefficients(\n    pcc_indices, inputNames, \"PCC coefficients - Wing weight\"\n)\nview = otv.View(graph)"
      ]
    },
    {
      "cell_type": "markdown",
      "metadata": {},
      "source": [
        "## PRCC coefficients\nWe compute here PRCC coefficients using the :class:`~openturns.CorrelationAnalysis`.\n\n"
      ]
    },
    {
      "cell_type": "code",
      "execution_count": null,
      "metadata": {
        "collapsed": false
      },
      "outputs": [],
      "source": [
        "prcc_indices = corr_analysis.computePRCC()\nprint(prcc_indices)"
      ]
    },
    {
      "cell_type": "code",
      "execution_count": null,
      "metadata": {
        "collapsed": false
      },
      "outputs": [],
      "source": [
        "graph = ot.SobolIndicesAlgorithm.DrawCorrelationCoefficients(\n    prcc_indices, inputNames, \"PRCC coefficients - Wing weight\"\n)\nview = otv.View(graph)"
      ]
    },
    {
      "cell_type": "markdown",
      "metadata": {},
      "source": [
        "## SRC coefficients\nWe compute here SRC coefficients using the :class:`~openturns.CorrelationAnalysis`.\n\n"
      ]
    },
    {
      "cell_type": "code",
      "execution_count": null,
      "metadata": {
        "collapsed": false
      },
      "outputs": [],
      "source": [
        "src_indices = corr_analysis.computeSRC()\nprint(src_indices)"
      ]
    },
    {
      "cell_type": "code",
      "execution_count": null,
      "metadata": {
        "collapsed": false
      },
      "outputs": [],
      "source": [
        "graph = ot.SobolIndicesAlgorithm.DrawCorrelationCoefficients(\n    src_indices, inputNames, \"SRC coefficients - Wing weight\"\n)\nview = otv.View(graph)"
      ]
    },
    {
      "cell_type": "markdown",
      "metadata": {},
      "source": [
        "Normalized squared SRC coefficients (coefficients are made to sum to 1) :\n\n"
      ]
    },
    {
      "cell_type": "code",
      "execution_count": null,
      "metadata": {
        "collapsed": false
      },
      "outputs": [],
      "source": [
        "squared_src_indices = corr_analysis.computeSquaredSRC(True)\nprint(squared_src_indices)"
      ]
    },
    {
      "cell_type": "markdown",
      "metadata": {},
      "source": [
        "And their associated graph:\n\n"
      ]
    },
    {
      "cell_type": "code",
      "execution_count": null,
      "metadata": {
        "collapsed": false
      },
      "outputs": [],
      "source": [
        "graph = ot.SobolIndicesAlgorithm.DrawCorrelationCoefficients(\n    squared_src_indices, inputNames, \"Squared SRC coefficients - Wing weight\"\n)\nview = otv.View(graph)"
      ]
    },
    {
      "cell_type": "markdown",
      "metadata": {},
      "source": [
        "## SRRC coefficients\nWe compute here SRRC coefficients using the :class:`~openturns.CorrelationAnalysis`.\n\n"
      ]
    },
    {
      "cell_type": "code",
      "execution_count": null,
      "metadata": {
        "collapsed": false
      },
      "outputs": [],
      "source": [
        "srrc_indices = corr_analysis.computeSRRC()\nprint(srrc_indices)"
      ]
    },
    {
      "cell_type": "code",
      "execution_count": null,
      "metadata": {
        "collapsed": false
      },
      "outputs": [],
      "source": [
        "graph = ot.SobolIndicesAlgorithm.DrawCorrelationCoefficients(\n    srrc_indices, inputNames, \"SRRC coefficients - Wing weight\"\n)\nview = otv.View(graph)"
      ]
    },
    {
      "cell_type": "markdown",
      "metadata": {},
      "source": [
        "## Pearson coefficients\nWe compute here the Pearson $\\rho$ coefficients using the :class:`~openturns.CorrelationAnalysis`.\n\n"
      ]
    },
    {
      "cell_type": "code",
      "execution_count": null,
      "metadata": {
        "collapsed": false
      },
      "outputs": [],
      "source": [
        "pearson_correlation = corr_analysis.computeLinearCorrelation()\nprint(pearson_correlation)"
      ]
    },
    {
      "cell_type": "code",
      "execution_count": null,
      "metadata": {
        "collapsed": false
      },
      "outputs": [],
      "source": [
        "title_pearson_graph = \"Pearson correlation coefficients - Wing weight\"\ngraph = ot.SobolIndicesAlgorithm.DrawCorrelationCoefficients(\n    pearson_correlation, inputNames, title_pearson_graph\n)\nview = otv.View(graph)"
      ]
    },
    {
      "cell_type": "markdown",
      "metadata": {},
      "source": [
        "## Spearman coefficients\nWe compute here the Spearman $\\rho_s$ coefficients using the :class:`~openturns.CorrelationAnalysis`.\n\n"
      ]
    },
    {
      "cell_type": "code",
      "execution_count": null,
      "metadata": {
        "collapsed": false
      },
      "outputs": [],
      "source": [
        "spearman_correlation = corr_analysis.computeSpearmanCorrelation()\nprint(spearman_correlation)"
      ]
    },
    {
      "cell_type": "code",
      "execution_count": null,
      "metadata": {
        "collapsed": false
      },
      "outputs": [],
      "source": [
        "title_spearman_graph = \"Spearman correlation coefficients - Wing weight\"\ngraph = ot.SobolIndicesAlgorithm.DrawCorrelationCoefficients(\n    spearman_correlation, inputNames, title_spearman_graph\n)\nview = otv.View(graph)\nplt.show()"
      ]
    },
    {
      "cell_type": "markdown",
      "metadata": {},
      "source": [
        "The different computed correlation estimators show that the variables $S_w, A, N_z, t_c$ seem to be the most correlated with the wing weight in absolute value.\nPearson and Spearman coefficients do not reveal any linear nor monotonic correlation as no coefficients are equal to +/- 1.\nCoefficients about $t_c$ are negative revealing a negative correlation with the wing weight, that is consistent with the model expression.\n\n"
      ]
    },
    {
      "cell_type": "markdown",
      "metadata": {},
      "source": [
        "## Taylor expansion importance factors\nWe compute here the Taylor expansion importance factors using :class:`~openturns.TaylorExpansionMoments`.\n\n"
      ]
    },
    {
      "cell_type": "markdown",
      "metadata": {},
      "source": [
        "We create a distribution-based RandomVector.\n\n"
      ]
    },
    {
      "cell_type": "code",
      "execution_count": null,
      "metadata": {
        "collapsed": false
      },
      "outputs": [],
      "source": [
        "X = ot.RandomVector(m.inputDistribution)"
      ]
    },
    {
      "cell_type": "markdown",
      "metadata": {},
      "source": [
        "We create a composite RandomVector Y from X and m.model.\n\n"
      ]
    },
    {
      "cell_type": "code",
      "execution_count": null,
      "metadata": {
        "collapsed": false
      },
      "outputs": [],
      "source": [
        "Y = ot.CompositeRandomVector(m.model, X)"
      ]
    },
    {
      "cell_type": "markdown",
      "metadata": {},
      "source": [
        "We create a Taylor expansion method to approximate moments.\n\n"
      ]
    },
    {
      "cell_type": "code",
      "execution_count": null,
      "metadata": {
        "collapsed": false
      },
      "outputs": [],
      "source": [
        "taylor = ot.TaylorExpansionMoments(Y)"
      ]
    },
    {
      "cell_type": "markdown",
      "metadata": {},
      "source": [
        "We get the importance factors.\n\n"
      ]
    },
    {
      "cell_type": "code",
      "execution_count": null,
      "metadata": {
        "collapsed": false
      },
      "outputs": [],
      "source": [
        "print(taylor.getImportanceFactors())"
      ]
    },
    {
      "cell_type": "markdown",
      "metadata": {},
      "source": [
        "We draw the importance factors\n\n"
      ]
    },
    {
      "cell_type": "code",
      "execution_count": null,
      "metadata": {
        "collapsed": false
      },
      "outputs": [],
      "source": [
        "graph = taylor.drawImportanceFactors()\ngraph.setTitle(\"Taylor expansion imporfance factors - Wing weight\")\nview = otv.View(graph)"
      ]
    },
    {
      "cell_type": "markdown",
      "metadata": {},
      "source": [
        "The Taylor expansion importance factors is consistent with the previous estimators as $S_w, A, N_z, t_c$ seem to be the most influent variables.\nTo analyze the relevance of the previous indices, a Sobol' analysis is now carried out.\n\n"
      ]
    },
    {
      "cell_type": "markdown",
      "metadata": {},
      "source": [
        "## Sobol' indices\nWe compute the Sobol' indices from both sampling approach and  Polynomial Chaos Expansion.\n\n"
      ]
    },
    {
      "cell_type": "code",
      "execution_count": null,
      "metadata": {
        "collapsed": false
      },
      "outputs": [],
      "source": [
        "sizeSobol = 1000\nsie = ot.SobolIndicesExperiment(m.inputDistribution, sizeSobol)\ninputDesignSobol = sie.generate()\ninputNames = m.inputDistribution.getDescription()\ninputDesignSobol.setDescription(inputNames)\ninputDesignSobol.getSize()"
      ]
    },
    {
      "cell_type": "markdown",
      "metadata": {},
      "source": [
        "We see that 12000 function evaluations are required to estimate the first order and total Sobol' indices.\n\n"
      ]
    },
    {
      "cell_type": "markdown",
      "metadata": {},
      "source": [
        "Then, we evaluate the outputs corresponding to this design of experiments.\n\n"
      ]
    },
    {
      "cell_type": "code",
      "execution_count": null,
      "metadata": {
        "collapsed": false
      },
      "outputs": [],
      "source": [
        "outputDesignSobol = m.model(inputDesignSobol)"
      ]
    },
    {
      "cell_type": "markdown",
      "metadata": {},
      "source": [
        "We estimate the Sobol' indices with the :class:`~openturns.SaltelliSensitivityAlgorithm`.\n\n"
      ]
    },
    {
      "cell_type": "code",
      "execution_count": null,
      "metadata": {
        "collapsed": false
      },
      "outputs": [],
      "source": [
        "sensitivityAnalysis = ot.SaltelliSensitivityAlgorithm(\n    inputDesignSobol, outputDesignSobol, sizeSobol\n)"
      ]
    },
    {
      "cell_type": "markdown",
      "metadata": {},
      "source": [
        "The `getFirstOrderIndices` and `getTotalOrderIndices` methods respectively return estimates of all first order and total Sobol' indices.\n\n"
      ]
    },
    {
      "cell_type": "code",
      "execution_count": null,
      "metadata": {
        "collapsed": false
      },
      "outputs": [],
      "source": [
        "print(\"First order indices:\", sensitivityAnalysis.getFirstOrderIndices())"
      ]
    },
    {
      "cell_type": "code",
      "execution_count": null,
      "metadata": {
        "collapsed": false
      },
      "outputs": [],
      "source": [
        "print(\"Total order indices:\", sensitivityAnalysis.getTotalOrderIndices())"
      ]
    },
    {
      "cell_type": "markdown",
      "metadata": {},
      "source": [
        "The `draw` method produces the following graph. The vertical bars represent the 95% confidence intervals of the estimates.\n\n"
      ]
    },
    {
      "cell_type": "code",
      "execution_count": null,
      "metadata": {
        "collapsed": false
      },
      "outputs": [],
      "source": [
        "graph = sensitivityAnalysis.draw()\ngraph.setTitle(\"Sobol indices with Saltelli - wing weight\")\nview = otv.View(graph)"
      ]
    },
    {
      "cell_type": "markdown",
      "metadata": {},
      "source": [
        "We see that several Sobol' indices are negative, that is inconsistent with the theory. Therefore, a larger number of samples is required to get consistent indices\n\n"
      ]
    },
    {
      "cell_type": "code",
      "execution_count": null,
      "metadata": {
        "collapsed": false
      },
      "outputs": [],
      "source": [
        "sizeSobol = 10000\nsie = ot.SobolIndicesExperiment(m.inputDistribution, sizeSobol)\ninputDesignSobol = sie.generate()\ninputNames = m.inputDistribution.getDescription()\ninputDesignSobol.setDescription(inputNames)\ninputDesignSobol.getSize()\noutputDesignSobol = m.model(inputDesignSobol)\n\nsensitivityAnalysis = ot.SaltelliSensitivityAlgorithm(\n    inputDesignSobol, outputDesignSobol, sizeSobol\n)\n\nsensitivityAnalysis.getFirstOrderIndices()\nsensitivityAnalysis.getTotalOrderIndices()\n\ngraph = sensitivityAnalysis.draw()\ngraph.setTitle(\"Sobol indices with Saltelli - wing weight\")\nview = otv.View(graph)"
      ]
    },
    {
      "cell_type": "markdown",
      "metadata": {},
      "source": [
        "It improves the accuracy of the estimation but, for very low indices, Saltelli scheme is not accurate since several confidence intervals provide negative lower bounds.\n\n"
      ]
    },
    {
      "cell_type": "markdown",
      "metadata": {},
      "source": [
        "Now, we estimate the Sobol' indices using Polynomial Chaos Expansion.\nWe create a Functional Chaos Expansion.\n\n"
      ]
    },
    {
      "cell_type": "code",
      "execution_count": null,
      "metadata": {
        "collapsed": false
      },
      "outputs": [],
      "source": [
        "sizePCE = 800\ninputDesignPCE = m.inputDistribution.getSample(sizePCE)\noutputDesignPCE = m.model(inputDesignPCE)\n\nalgo = ot.FunctionalChaosAlgorithm(inputDesignPCE, outputDesignPCE, m.inputDistribution)\n\nalgo.run()\nresult = algo.getResult()\nprint(result.getResiduals())\nprint(result.getRelativeErrors())"
      ]
    },
    {
      "cell_type": "markdown",
      "metadata": {},
      "source": [
        "The relative errors are low : this indicates that the PCE model has good accuracy.\nThen, we exploit the surrogate model to compute the Sobol' indices.\n\n"
      ]
    },
    {
      "cell_type": "code",
      "execution_count": null,
      "metadata": {
        "collapsed": false
      },
      "outputs": [],
      "source": [
        "sensitivityAnalysis = ot.FunctionalChaosSobolIndices(result)\nsensitivityAnalysis"
      ]
    },
    {
      "cell_type": "code",
      "execution_count": null,
      "metadata": {
        "collapsed": false
      },
      "outputs": [],
      "source": [
        "firstOrder = [sensitivityAnalysis.getSobolIndex(i) for i in range(m.dim)]\ntotalOrder = [sensitivityAnalysis.getSobolTotalIndex(i) for i in range(m.dim)]\ngraph = ot.SobolIndicesAlgorithm.DrawSobolIndices(inputNames, firstOrder, totalOrder)\ngraph.setTitle(\"Sobol indices by Polynomial Chaos Expansion - wing weight\")\nview = otv.View(graph)"
      ]
    },
    {
      "cell_type": "markdown",
      "metadata": {},
      "source": [
        "Furthermore, first order Sobol' indices can also been estimated in a data-driven way using a rank-based sensitivity algorithm.\nIn such a way, the estimation of sensitivity indices does not involve any surrogate model.\n\n"
      ]
    },
    {
      "cell_type": "code",
      "execution_count": null,
      "metadata": {
        "collapsed": false
      },
      "outputs": [],
      "source": [
        "sizeRankSobol = 800\ninputDesignRankSobol = m.inputDistribution.getSample(sizeRankSobol)\noutputDesignankSobol = m.model(inputDesignRankSobol)\nmyRankSobol = otexp.RankSobolSensitivityAlgorithm(\n    inputDesignRankSobol, outputDesignankSobol\n)\nindicesrankSobol = myRankSobol.getFirstOrderIndices()\nprint(\"First order indices:\", indicesrankSobol)\ngraph = myRankSobol.draw()\ngraph.setTitle(\"Sobol indices by rank-based estimation - wing weight\")\nview = otv.View(graph)"
      ]
    },
    {
      "cell_type": "markdown",
      "metadata": {},
      "source": [
        "The Sobol' indices confirm the previous analyses, in terms of ranking of the most influent variables.\nWe also see that five variables have a quasi null total Sobol' indices, that indicates almost no influence on the wing weight.\nThere is no discrepancy between first order and total Sobol' indices, that indicates no or very low interaction between the variables in the variance of the output.\nAs the most important variables act only through decoupled first degree contributions, the hypothesis of a linear dependence between the input variables and the weight is legitimate.\nThis explains why both squared SRC and Taylor give the exact same results even if the first one is based on a $\\mathcal{L}^2$ linear approximation\nand the second one is based on a linear expansion around the mean value of the input variables.\n\n"
      ]
    },
    {
      "cell_type": "markdown",
      "metadata": {},
      "source": [
        "## HSIC indices\n\n"
      ]
    },
    {
      "cell_type": "markdown",
      "metadata": {},
      "source": [
        "We then estimate the HSIC indices using a data-driven approach.\n\n"
      ]
    },
    {
      "cell_type": "code",
      "execution_count": null,
      "metadata": {
        "collapsed": false
      },
      "outputs": [],
      "source": [
        "sizeHSIC = 250\ninputDesignHSIC = m.inputDistribution.getSample(sizeHSIC)\noutputDesignHSIC = m.model(inputDesignHSIC)\n\ncovarianceModelCollection = []"
      ]
    },
    {
      "cell_type": "code",
      "execution_count": null,
      "metadata": {
        "collapsed": false
      },
      "outputs": [],
      "source": [
        "for i in range(m.dim):\n    Xi = inputDesignHSIC.getMarginal(i)\n    inputCovariance = ot.SquaredExponential(1)\n    inputCovariance.setScale(Xi.computeStandardDeviation())\n    covarianceModelCollection.append(inputCovariance)"
      ]
    },
    {
      "cell_type": "markdown",
      "metadata": {},
      "source": [
        "We define a covariance kernel associated to the output variable.\n\n"
      ]
    },
    {
      "cell_type": "code",
      "execution_count": null,
      "metadata": {
        "collapsed": false
      },
      "outputs": [],
      "source": [
        "outputCovariance = ot.SquaredExponential(1)\noutputCovariance.setScale(outputDesignHSIC.computeStandardDeviation())\ncovarianceModelCollection.append(outputCovariance)"
      ]
    },
    {
      "cell_type": "markdown",
      "metadata": {},
      "source": [
        "In this paragraph, we perform the analysis on the raw data: that is\nthe global HSIC estimator.\n\n"
      ]
    },
    {
      "cell_type": "code",
      "execution_count": null,
      "metadata": {
        "collapsed": false
      },
      "outputs": [],
      "source": [
        "estimatorType = ot.HSICUStat()"
      ]
    },
    {
      "cell_type": "markdown",
      "metadata": {},
      "source": [
        "We now build the HSIC estimator:\n\n"
      ]
    },
    {
      "cell_type": "code",
      "execution_count": null,
      "metadata": {
        "collapsed": false
      },
      "outputs": [],
      "source": [
        "globHSIC = ot.HSICEstimatorGlobalSensitivity(\n    covarianceModelCollection, inputDesignHSIC, outputDesignHSIC, estimatorType\n)"
      ]
    },
    {
      "cell_type": "markdown",
      "metadata": {},
      "source": [
        "We get the R2-HSIC indices:\n\n"
      ]
    },
    {
      "cell_type": "code",
      "execution_count": null,
      "metadata": {
        "collapsed": false
      },
      "outputs": [],
      "source": [
        "R2HSICIndices = globHSIC.getR2HSICIndices()\nprint(\"\\n Global HSIC analysis\")\nprint(\"R2-HSIC Indices: \", R2HSICIndices)"
      ]
    },
    {
      "cell_type": "markdown",
      "metadata": {},
      "source": [
        "and the HSIC indices:\n\n"
      ]
    },
    {
      "cell_type": "code",
      "execution_count": null,
      "metadata": {
        "collapsed": false
      },
      "outputs": [],
      "source": [
        "HSICIndices = globHSIC.getHSICIndices()\nprint(\"HSIC Indices: \", HSICIndices)"
      ]
    },
    {
      "cell_type": "markdown",
      "metadata": {},
      "source": [
        "The p-value by permutation.\n\n"
      ]
    },
    {
      "cell_type": "code",
      "execution_count": null,
      "metadata": {
        "collapsed": false
      },
      "outputs": [],
      "source": [
        "pvperm = globHSIC.getPValuesPermutation()\nprint(\"p-value (permutation): \", pvperm)"
      ]
    },
    {
      "cell_type": "markdown",
      "metadata": {},
      "source": [
        "We have an asymptotic estimate of the value for this estimator.\n\n"
      ]
    },
    {
      "cell_type": "code",
      "execution_count": null,
      "metadata": {
        "collapsed": false
      },
      "outputs": [],
      "source": [
        "pvas = globHSIC.getPValuesAsymptotic()\nprint(\"p-value (asymptotic): \", pvas)"
      ]
    },
    {
      "cell_type": "markdown",
      "metadata": {},
      "source": [
        "We vizualise the results.\n\n"
      ]
    },
    {
      "cell_type": "code",
      "execution_count": null,
      "metadata": {
        "collapsed": false
      },
      "outputs": [],
      "source": [
        "graph1 = globHSIC.drawHSICIndices()\nview1 = otv.View(graph1)\n\ngraph2 = globHSIC.drawPValuesAsymptotic()\nview2 = otv.View(graph2)\n\ngraph3 = globHSIC.drawR2HSICIndices()\nview3 = otv.View(graph3)\n\ngraph4 = globHSIC.drawPValuesPermutation()\nview4 = otv.View(graph4)"
      ]
    },
    {
      "cell_type": "markdown",
      "metadata": {},
      "source": [
        "The HSIC indices go in the same way as the other estimators in terms the most influent variables.\nThe variables $W_{fw}, q, l, W_p$ seem to be independent to the output as the corresponding p-values are high.\nWe can also see that the asymptotic p-values and p-values estimated by permutation are quite similar.\n\n"
      ]
    },
    {
      "cell_type": "markdown",
      "metadata": {},
      "source": [
        "Reset default settings\n\n"
      ]
    },
    {
      "cell_type": "code",
      "execution_count": null,
      "metadata": {
        "collapsed": false
      },
      "outputs": [],
      "source": [
        "ot.ResourceMap.Reload()"
      ]
    }
  ],
  "metadata": {
    "kernelspec": {
      "display_name": "Python 3",
      "language": "python",
      "name": "python3"
    },
    "language_info": {
      "codemirror_mode": {
        "name": "ipython",
        "version": 3
      },
      "file_extension": ".py",
      "mimetype": "text/x-python",
      "name": "python",
      "nbconvert_exporter": "python",
      "pygments_lexer": "ipython3",
      "version": "3.13.1"
    }
  },
  "nbformat": 4,
  "nbformat_minor": 0
}