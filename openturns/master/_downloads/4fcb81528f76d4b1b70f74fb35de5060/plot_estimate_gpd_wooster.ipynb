{
  "cells": [
    {
      "cell_type": "markdown",
      "metadata": {},
      "source": [
        "\n# Estimate a GPD on the Wooster temperature data\n"
      ]
    },
    {
      "cell_type": "markdown",
      "metadata": {},
      "source": [
        "In this example, we illustrate various techniques of extreme value modeling applied\nto the 5-year series of daily minimum temperatures recorded in Wooster, Ohio between 1983 and 1988.\nReaders should refer to [coles2001]_ example 1.7 to get more details.\n\n"
      ]
    },
    {
      "cell_type": "code",
      "execution_count": null,
      "metadata": {
        "collapsed": false
      },
      "outputs": [],
      "source": [
        "import openturns as ot\nimport openturns.experimental as otexp\nimport openturns.viewer as otv\nfrom openturns.usecases import coles\nimport pandas as pd"
      ]
    },
    {
      "cell_type": "markdown",
      "metadata": {},
      "source": [
        "First, we load the Wooster dataset. As we want to model very low temperatures,\nwe first negate the values to transform minimum to maximum. Hence, large positive\nobservations correspond to extreme cold conditions. We look at the negated data\nthrough time. The data are plotted as degrees Fahrenheit below zero. We see that\nthere is a strong annual cycle in the data.\n\nWe use the pandas library.\n\n"
      ]
    },
    {
      "cell_type": "code",
      "execution_count": null,
      "metadata": {
        "collapsed": false
      },
      "outputs": [],
      "source": [
        "full = pd.read_csv(coles.Coles().wooster, index_col=0, parse_dates=True)\nfull[\"Temperature\"] = full[\"Temperature\"].apply(lambda x: x * -1.0)\nprint(full[:10])\ntitle = \"Negated Wooster daily minimum temperatures\"\ngraph = ot.Graph(title, \"Day index\", \"Temperature (\u00b0F)\", True, \"\")\ndays = ot.Sample([[i] for i in range(len(full))])\nsample = ot.Sample.BuildFromDataFrame(full)\ncloud = ot.Cloud(days, sample)\ncloud.setColor(\"red\")\ncloud.setPointStyle(\",\")\ngraph.add(cloud)\ngraph.setIntegerXTick(True)\nview = otv.View(graph)"
      ]
    },
    {
      "cell_type": "markdown",
      "metadata": {},
      "source": [
        "In order to decrease the time-varying trend, we partition the data into the four\nseasons. To perform that data stratification, we use the pandas library once again.\nThe graphs show that there is still non-stationarity within each season's data\nbut to a lesser extent than in the original series.\n\n"
      ]
    },
    {
      "cell_type": "code",
      "execution_count": null,
      "metadata": {
        "collapsed": false
      },
      "outputs": [],
      "source": [
        "full_season = {}\nfull_season[\"winter\"] = full[(full.index.month >= 12) | (full.index.month < 3)]\nfull_season[\"spring\"] = full[(full.index.month >= 3) & (full.index.month < 6)]\nfull_season[\"summer\"] = full[(full.index.month >= 6) & (full.index.month < 9)]\nfull_season[\"autumn\"] = full[(full.index.month >= 9) & (full.index.month < 12)]\nfor season in full_season:\n    df = full_season[season]\n    days = ot.Sample([[i] for i in range(len(df))])\n    sample = ot.Sample.BuildFromDataFrame(df)\n    cloud = ot.Cloud(days, sample)\n    cloud.setColor(\"red\")\n    cloud.setPointStyle(\",\")\n    graph.setDrawable(cloud, 0)\n    graph.setTitle(f\"{title} ({season})\")\n    view = otv.View(graph)"
      ]
    },
    {
      "cell_type": "markdown",
      "metadata": {},
      "source": [
        "Here, we illustrate that threshold exceedances occur in groups: one\nextremely cold day is likely to be followed by another, implying that observations\nexceeding a high threshold are dependent. Hence we use the declustering method\nwhich filters the dependent observations exceeding a given threshold to obtain a\nset of threshold excesses that can be assumed as independent.\n\nFirst, we specify a threshold $u$.\nConsecutive exceedances of the threshold belong to the same cluster. Two distinct\nclusters are separated by $r$ consecutive observations under the\nthreshold. Within each cluster, we select the maximum value that will be used to\ninfer the GPD distribution. The cluster maxima are assumed to be independent.\n\nOn the graph, we show the clusters associated to the threshold $u=0$\nand the respective maximum selected from a\n100-day portion of the Wooster daily minimum temperature series.\nIt is possible to extract the data belonging to the same cluster and the\ncluster maximum series.\n\n"
      ]
    },
    {
      "cell_type": "code",
      "execution_count": null,
      "metadata": {
        "collapsed": false
      },
      "outputs": [],
      "source": [
        "first100 = ot.Sample.BuildFromDataFrame(full[350:450])\npart = otexp.SamplePartition(first100)\nu = 0.0\nr = 4\npeaks, clusters = part.getPeakOverThreshold(u, r)\ngraph = clusters.draw(u)\nview = otv.View(graph)"
      ]
    },
    {
      "cell_type": "markdown",
      "metadata": {},
      "source": [
        "Here, we illustrate the effect of different choices for $u$\nand $r$ on the estimate of the GPD distriution. We focus on the winter\nseason. We perform the following steps, for each $(u, r)$:\n\n- we extract the clusters and the associated peaks,\n- we fit a GPD distribution on the excesses by the maximum likelihood method,\n- we estimate the $95\\%$ confidence interval of each parameter,\n- we evaluate the $T=100$-year return level which corresponds to the\n  $m$-observation return level, where $m = T*n_y$ with $n_y$\n  the number of observations per year. Here, we consider the winter season\n  which is about 90 days long. To calculate it, we evaluate the extremal index\n  $\\theta$ which is the inverse of the mean length of the clusters,\n  estimated by the ratio between the number of clusters and the number\n  of exceedances of $u$.\n\nThe stability in the return level estimations confirms that the\ninference is robust despite the subjective choices that need to be made\non $(u, r)$.\n\n"
      ]
    },
    {
      "cell_type": "code",
      "execution_count": null,
      "metadata": {
        "collapsed": false
      },
      "outputs": [],
      "source": [
        "winter = full_season[\"winter\"]\nwinter_sample = ot.Sample.BuildFromDataFrame(winter)\n\n# partition the aggregated winter sample according to indices (enforces separation of seasons from different years)\npart = otexp.SamplePartition.ExtractFromDataFrame(full, winter)\n\nfactory = ot.GeneralizedParetoFactory()\nfor u in [-10.0, -20.0]:\n    for r in [1, 3]:\n        peaks, clusters = part.getPeakOverThreshold(u, r)\n        nc = len(peaks)\n        nu = (winter > u).values.sum()\n\n        # fit a stationary gpd on the clusters\n        result_LL = factory.buildMethodOfLikelihoodMaximizationEstimator(peaks, u)\n        sigma, xi, _ = result_LL.getParameterDistribution().getMean()\n        (\n            sigma_stddev,\n            xi_stddev,\n            _,\n        ) = result_LL.getParameterDistribution().getStandardDeviation()\n        print(\n            f\"u={u} r={r} nc={nc} sigma={sigma:.2f} ({sigma_stddev:.2f}) xi={xi:.2f} ({xi_stddev:.2f})\",\n            end=\" \",\n        )\n\n        # estimate the T-year return level\n        ny = 90\n        T = 100\n        theta = nc / nu\n        xm_100 = factory.buildReturnLevelEstimator(\n            result_LL, winter_sample, T * ny, theta\n        )\n        print(f\"x100={xm_100.getMean()} ({xm_100.getStandardDeviation()})\")\n\n        # plot the return level\n        validation = otexp.GeneralizedParetoValidation(result_LL, peaks)\n        grid = validation.drawDiagnosticPlot()\n        rlPlot = grid.getGraph(1, 0)\n        rlPlot.setTitle(rlPlot.getTitle() + f\" (u={u} r={r})\")\n        view = otv.View(rlPlot)"
      ]
    },
    {
      "cell_type": "code",
      "execution_count": null,
      "metadata": {
        "collapsed": false
      },
      "outputs": [],
      "source": [
        "otv.View.ShowAll()"
      ]
    }
  ],
  "metadata": {
    "kernelspec": {
      "display_name": "Python 3",
      "language": "python",
      "name": "python3"
    },
    "language_info": {
      "codemirror_mode": {
        "name": "ipython",
        "version": 3
      },
      "file_extension": ".py",
      "mimetype": "text/x-python",
      "name": "python",
      "nbconvert_exporter": "python",
      "pygments_lexer": "ipython3",
      "version": "3.13.2"
    }
  },
  "nbformat": 4,
  "nbformat_minor": 0
}