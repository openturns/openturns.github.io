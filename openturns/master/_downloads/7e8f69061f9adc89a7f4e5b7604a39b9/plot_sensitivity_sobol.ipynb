{
  "cells": [
    {
      "cell_type": "code",
      "execution_count": null,
      "metadata": {
        "collapsed": false
      },
      "outputs": [],
      "source": [
        "%matplotlib inline"
      ]
    },
    {
      "cell_type": "markdown",
      "metadata": {},
      "source": [
        "\n# Estimate Sobol' indices for the Ishigami function by a sampling method: a quick start guide to sensitivity analysis\n"
      ]
    },
    {
      "cell_type": "markdown",
      "metadata": {},
      "source": [
        "In this example, we estimate the Sobol' indices for the `Ishigami function <use-case-ishigami>` by sampling methods.\n\n\n"
      ]
    },
    {
      "cell_type": "markdown",
      "metadata": {},
      "source": [
        "## Introduction\n\nIn this example we are going to quantify the correlation between the input variables and the output variable of a model thanks to Sobol indices.\n\nSobol indices are designed to evaluate the importance of a single variable or a specific set of variables. Here the Sobol indices are estimated by sampling from the distributions of the input variables and propagating uncertainty through a function.\n\nIn theory, Sobol indices range from 0 to 1; the closer an index value is to 1, the better the associated input variable explains the function output.\n\nLet us denote by $d$ the input dimension of the model.\n\nSobol' indices can be computed at different orders.\n\n* First order indices evaluate the importance of one input variable at a time.\n\n* Total indices give the relative importance of one input variable and all its interactions with other variables. Alternatively, they can be viewed as measuring how much wriggle room remains to the output when all but one input variables are fixed.\n\n* In general, we are only interested in first order and total Sobol' indices. There are situations, however, where we want to estimate interactions. Second order indices evaluate the importance of every pair of input variables. The number of second order indices is:\n\n\\begin{align}\\binom{d}{2} = \\frac{d \\times \\left( d-1\\right)}{2}.\\end{align}\n\n\nIn practice, when the number of input variables is not small (say, when $d>5$), then the number of second order indices is too large to be easily analyzed. In these situations, we limit the analysis to the first order and total Sobol' indices.\n\n"
      ]
    },
    {
      "cell_type": "markdown",
      "metadata": {},
      "source": [
        "## Define the model\n\n"
      ]
    },
    {
      "cell_type": "code",
      "execution_count": null,
      "metadata": {
        "collapsed": false
      },
      "outputs": [],
      "source": [
        "from openturns.usecases import ishigami_function\nimport openturns as ot\nimport pylab as pl\nimport openturns.viewer\nimport openturns.viewer as viewer\nfrom matplotlib import pylab as plt\n\not.Log.Show(ot.Log.NONE)"
      ]
    },
    {
      "cell_type": "markdown",
      "metadata": {},
      "source": [
        "We load the Ishigami model from the usecases model :\n\n"
      ]
    },
    {
      "cell_type": "code",
      "execution_count": null,
      "metadata": {
        "collapsed": false
      },
      "outputs": [],
      "source": [
        "im = ishigami_function.IshigamiModel()"
      ]
    },
    {
      "cell_type": "markdown",
      "metadata": {},
      "source": [
        "The `IshigamiModel` data class contains the input distribution $X=(X_1, X_2, X_3)$ in `im.distributionX` and the Ishigami function in `im.model`.\nWe also have access to the input variable names with\n\n"
      ]
    },
    {
      "cell_type": "code",
      "execution_count": null,
      "metadata": {
        "collapsed": false
      },
      "outputs": [],
      "source": [
        "input_names = im.distributionX.getDescription()"
      ]
    },
    {
      "cell_type": "markdown",
      "metadata": {},
      "source": [
        "## Draw the function\n\n"
      ]
    },
    {
      "cell_type": "code",
      "execution_count": null,
      "metadata": {
        "collapsed": false
      },
      "outputs": [],
      "source": [
        "n = 10000\nsampleX = im.distributionX.getSample(n)\nsampleY = im.model(sampleX)"
      ]
    },
    {
      "cell_type": "code",
      "execution_count": null,
      "metadata": {
        "collapsed": false
      },
      "outputs": [],
      "source": [
        "def plotXvsY(sampleX, sampleY, figsize=(15, 3)):\n    dimX = sampleX.getDimension()\n    inputdescr = sampleX.getDescription()\n    fig = pl.figure(figsize=figsize)\n    for i in range(dimX):\n        ax = fig.add_subplot(1, dimX, i + 1)\n        graph = ot.Graph(\"\", inputdescr[i], \"Y\", True, \"\")\n        cloud = ot.Cloud(sampleX[:, i], sampleY)\n        graph.add(cloud)\n        _ = ot.viewer.View(graph, figure=fig, axes=[ax])\n    return fig\n\n\nplotXvsY(sampleX, sampleY, figsize=(10, 4))"
      ]
    },
    {
      "cell_type": "code",
      "execution_count": null,
      "metadata": {
        "collapsed": false
      },
      "outputs": [],
      "source": [
        "graph = ot.HistogramFactory().build(sampleY).drawPDF()\nview = viewer.View(graph)"
      ]
    },
    {
      "cell_type": "markdown",
      "metadata": {},
      "source": [
        "We see that the distribution of the output has two modes.\n\n"
      ]
    },
    {
      "cell_type": "markdown",
      "metadata": {},
      "source": [
        "## Estimate the Sobol' indices\n\n"
      ]
    },
    {
      "cell_type": "markdown",
      "metadata": {},
      "source": [
        "We first create a design of experiments with the `SobolIndicesExperiment`. Since we are not interested in second order indices for the moment, we use the default value of the third argument (we will come back to this topic later).\n\n"
      ]
    },
    {
      "cell_type": "code",
      "execution_count": null,
      "metadata": {
        "collapsed": false
      },
      "outputs": [],
      "source": [
        "size = 1000\nsie = ot.SobolIndicesExperiment(im.distributionX, size)\ninputDesign = sie.generate()\ninput_names = im.distributionX.getDescription()\ninputDesign.setDescription(input_names)\ninputDesign.getSize()"
      ]
    },
    {
      "cell_type": "markdown",
      "metadata": {},
      "source": [
        "We see that 5000 function evaluations are required to estimate the first order and total Sobol' indices.\n\n"
      ]
    },
    {
      "cell_type": "markdown",
      "metadata": {},
      "source": [
        "Then we evaluate the outputs corresponding to this design of experiments.\n\n"
      ]
    },
    {
      "cell_type": "code",
      "execution_count": null,
      "metadata": {
        "collapsed": false
      },
      "outputs": [],
      "source": [
        "outputDesign = im.model(inputDesign)"
      ]
    },
    {
      "cell_type": "markdown",
      "metadata": {},
      "source": [
        "Then we estimate the Sobol' indices with the `SaltelliSensitivityAlgorithm`.\n\n"
      ]
    },
    {
      "cell_type": "code",
      "execution_count": null,
      "metadata": {
        "collapsed": false
      },
      "outputs": [],
      "source": [
        "sensitivityAnalysis = ot.SaltelliSensitivityAlgorithm(inputDesign, outputDesign, size)"
      ]
    },
    {
      "cell_type": "markdown",
      "metadata": {},
      "source": [
        "The `getFirstOrderIndices` and `getTotalOrderIndices` method respectively return estimates of all first order and total Sobol' indices.\n\n"
      ]
    },
    {
      "cell_type": "code",
      "execution_count": null,
      "metadata": {
        "collapsed": false
      },
      "outputs": [],
      "source": [
        "sensitivityAnalysis.getFirstOrderIndices()"
      ]
    },
    {
      "cell_type": "code",
      "execution_count": null,
      "metadata": {
        "collapsed": false
      },
      "outputs": [],
      "source": [
        "sensitivityAnalysis.getTotalOrderIndices()"
      ]
    },
    {
      "cell_type": "markdown",
      "metadata": {},
      "source": [
        "The `draw` method produces the following graph. The vertical bars represent the 95% confidence intervals of the estimates.\n\n"
      ]
    },
    {
      "cell_type": "code",
      "execution_count": null,
      "metadata": {
        "collapsed": false
      },
      "outputs": [],
      "source": [
        "graph = sensitivityAnalysis.draw()\nview = viewer.View(graph)"
      ]
    },
    {
      "cell_type": "markdown",
      "metadata": {},
      "source": [
        "- We see that the variable $X_1$, with a total Sobol' index close\n  to 0.6, is the most significant variable, taking into account both its direct\n  effect and its interactions with other variables.\n  Its first order index is close to 0.3, which implies that its interactions\n  alone produce almost 30% (0.6 - 0.3) of the total variance.\n- The variable $X_2$ has the highest first order index: approximately 0.4.\n  However, it has little interaction with other variables since its total order indice is close to its first order index.\n- The variable $X_3$ has a first order index close to zero.\n  However, it has an impact to the total variance thanks to its interactions with $X_1$.\n- We see that the variability of the estimates is quite high even with a relatively large sample size.\n  Moreover, since the exact first order Sobol' index for $X_3$ is zero, its estimate has a 50% chance of being nonpositive.\n\n"
      ]
    },
    {
      "cell_type": "markdown",
      "metadata": {},
      "source": [
        "## Estimate the second order indices\n\n"
      ]
    },
    {
      "cell_type": "code",
      "execution_count": null,
      "metadata": {
        "collapsed": false
      },
      "outputs": [],
      "source": [
        "size = 1000\ncomputeSecondOrder = True\nsie = ot.SobolIndicesExperiment(im.distributionX, size, computeSecondOrder)\ninputDesign = sie.generate()\nprint(inputDesign.getSize())\ninputDesign.setDescription(input_names)\noutputDesign = im.model(inputDesign)"
      ]
    },
    {
      "cell_type": "markdown",
      "metadata": {},
      "source": [
        "We see that 8000 function evaluations are now required; that is 3000 more evaluations than in the previous situation.\n\n"
      ]
    },
    {
      "cell_type": "code",
      "execution_count": null,
      "metadata": {
        "collapsed": false
      },
      "outputs": [],
      "source": [
        "sensitivityAnalysis = ot.SaltelliSensitivityAlgorithm(inputDesign, outputDesign, size)"
      ]
    },
    {
      "cell_type": "code",
      "execution_count": null,
      "metadata": {
        "collapsed": false
      },
      "outputs": [],
      "source": [
        "second_order = sensitivityAnalysis.getSecondOrderIndices()\nfor i in range(im.dim):\n    for j in range(i):\n        print(\"2nd order indice (%d,%d)=%g\" % (i, j, second_order[i, j]))"
      ]
    },
    {
      "cell_type": "markdown",
      "metadata": {},
      "source": [
        "This shows that the only significant interaction is the one between $X_1$ and $X_3$ (beware of Python's index shift: 0 denotes the first input variable).\n\n"
      ]
    },
    {
      "cell_type": "markdown",
      "metadata": {},
      "source": [
        "## Using a different estimator\n\nWe have used the `SaltelliSensitivityAlgorithm` class to estimate the indices. Others are available in the library:\n\n* `SaltelliSensitivityAlgorithm`\n* `MartinezSensitivityAlgorithm`\n* `JansenSensitivityAlgorithm`\n* `MauntzKucherenkoSensitivityAlgorithm`\n\n\n"
      ]
    },
    {
      "cell_type": "markdown",
      "metadata": {},
      "source": [
        "In order to compare the results with another method, we use the `MartinezSensitivityAlgorithm` class.\n\n"
      ]
    },
    {
      "cell_type": "code",
      "execution_count": null,
      "metadata": {
        "collapsed": false
      },
      "outputs": [],
      "source": [
        "sensitivityAnalysis = ot.MartinezSensitivityAlgorithm(inputDesign, outputDesign, size)"
      ]
    },
    {
      "cell_type": "code",
      "execution_count": null,
      "metadata": {
        "collapsed": false
      },
      "outputs": [],
      "source": [
        "graph = sensitivityAnalysis.draw()\nview = viewer.View(graph)\n\nplt.show()"
      ]
    },
    {
      "cell_type": "markdown",
      "metadata": {},
      "source": [
        "We see that the results do not change significantly in this particular situation.\n\n"
      ]
    }
  ],
  "metadata": {
    "kernelspec": {
      "display_name": "Python 3",
      "language": "python",
      "name": "python3"
    },
    "language_info": {
      "codemirror_mode": {
        "name": "ipython",
        "version": 3
      },
      "file_extension": ".py",
      "mimetype": "text/x-python",
      "name": "python",
      "nbconvert_exporter": "python",
      "pygments_lexer": "ipython3",
      "version": "3.10.10"
    }
  },
  "nbformat": 4,
  "nbformat_minor": 0
}