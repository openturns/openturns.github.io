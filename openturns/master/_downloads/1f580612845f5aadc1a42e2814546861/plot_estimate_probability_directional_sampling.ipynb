{
  "cells": [
    {
      "cell_type": "markdown",
      "metadata": {},
      "source": [
        "\n# Use the Directional Sampling Algorithm\n"
      ]
    },
    {
      "cell_type": "markdown",
      "metadata": {},
      "source": [
        "In this example we estimate a failure probability with the directional simulation algorithm provided by the :class:`~openturns.DirectionalSampling` class.\n\n"
      ]
    },
    {
      "cell_type": "markdown",
      "metadata": {},
      "source": [
        "## Introduction\n\nThe directional simulation algorithm  operates in the standard space based on:\n\n1. a *root strategy* to evaluate the nearest failure point along each direction and take the contribution of each direction to the failure event probability into account.\n   The available strategies are:\n   - `RiskyAndFast`\n   - `MediumSafe`\n   - `SafeAndSlow`\n\n2. a *sampling strategy* to choose directions in the standard space. The available strategies are:\n   - `RandomDirection`\n   - `OrthogonalDirection`\n\nLet us consider the analytical example of the cantilever beam described `here <use-case-cantilever-beam>`.\n\n\n"
      ]
    },
    {
      "cell_type": "code",
      "execution_count": null,
      "metadata": {
        "collapsed": false
      },
      "outputs": [],
      "source": [
        "from openturns.usecases import cantilever_beam\nimport openturns as ot\nimport openturns.viewer as viewer\n\not.Log.Show(ot.Log.NONE)"
      ]
    },
    {
      "cell_type": "markdown",
      "metadata": {},
      "source": [
        "We load the model from the usecases module :\n\n"
      ]
    },
    {
      "cell_type": "code",
      "execution_count": null,
      "metadata": {
        "collapsed": false
      },
      "outputs": [],
      "source": [
        "cb = cantilever_beam.CantileverBeam()"
      ]
    },
    {
      "cell_type": "markdown",
      "metadata": {},
      "source": [
        "We load the joint probability distribution of the input parameters :\n\n"
      ]
    },
    {
      "cell_type": "code",
      "execution_count": null,
      "metadata": {
        "collapsed": false
      },
      "outputs": [],
      "source": [
        "distribution = cb.distribution"
      ]
    },
    {
      "cell_type": "markdown",
      "metadata": {},
      "source": [
        "We load the model giving the displacement at the end of the beam :\n\n"
      ]
    },
    {
      "cell_type": "code",
      "execution_count": null,
      "metadata": {
        "collapsed": false
      },
      "outputs": [],
      "source": [
        "model = cb.model"
      ]
    },
    {
      "cell_type": "markdown",
      "metadata": {},
      "source": [
        "We create the event whose probability we want to estimate.\n\n"
      ]
    },
    {
      "cell_type": "code",
      "execution_count": null,
      "metadata": {
        "collapsed": false
      },
      "outputs": [],
      "source": [
        "vect = ot.RandomVector(distribution)\nG = ot.CompositeRandomVector(model, vect)\nevent = ot.ThresholdEvent(G, ot.Greater(), 0.30)"
      ]
    },
    {
      "cell_type": "markdown",
      "metadata": {},
      "source": [
        "Root finding algorithm.\n\n"
      ]
    },
    {
      "cell_type": "code",
      "execution_count": null,
      "metadata": {
        "collapsed": false
      },
      "outputs": [],
      "source": [
        "solver = ot.Brent()\nrootStrategy = ot.MediumSafe(solver)"
      ]
    },
    {
      "cell_type": "markdown",
      "metadata": {},
      "source": [
        "Direction sampling algorithm.\n\n"
      ]
    },
    {
      "cell_type": "code",
      "execution_count": null,
      "metadata": {
        "collapsed": false
      },
      "outputs": [],
      "source": [
        "samplingStrategy = ot.OrthogonalDirection()"
      ]
    },
    {
      "cell_type": "markdown",
      "metadata": {},
      "source": [
        "Create a simulation algorithm.\n\n"
      ]
    },
    {
      "cell_type": "code",
      "execution_count": null,
      "metadata": {
        "collapsed": false
      },
      "outputs": [],
      "source": [
        "algo = ot.DirectionalSampling(event, rootStrategy, samplingStrategy)\nalgo.setMaximumCoefficientOfVariation(0.1)\nalgo.setMaximumOuterSampling(40000)\nalgo.setConvergenceStrategy(ot.Full())\nalgo.run()"
      ]
    },
    {
      "cell_type": "markdown",
      "metadata": {},
      "source": [
        "Retrieve results.\n\n"
      ]
    },
    {
      "cell_type": "code",
      "execution_count": null,
      "metadata": {
        "collapsed": false
      },
      "outputs": [],
      "source": [
        "result = algo.getResult()\nprobability = result.getProbabilityEstimate()\nprint(\"Pf=\", probability)"
      ]
    },
    {
      "cell_type": "markdown",
      "metadata": {},
      "source": [
        "We can observe the convergence history with the `drawProbabilityConvergence`\nmethod.\n\n"
      ]
    },
    {
      "cell_type": "code",
      "execution_count": null,
      "metadata": {
        "collapsed": false
      },
      "outputs": [],
      "source": [
        "graph = algo.drawProbabilityConvergence()\ngraph.setLogScale(ot.GraphImplementation.LOGX)\nview = viewer.View(graph)"
      ]
    }
  ],
  "metadata": {
    "kernelspec": {
      "display_name": "Python 3",
      "language": "python",
      "name": "python3"
    },
    "language_info": {
      "codemirror_mode": {
        "name": "ipython",
        "version": 3
      },
      "file_extension": ".py",
      "mimetype": "text/x-python",
      "name": "python",
      "nbconvert_exporter": "python",
      "pygments_lexer": "ipython3",
      "version": "3.11.5"
    }
  },
  "nbformat": 4,
  "nbformat_minor": 0
}