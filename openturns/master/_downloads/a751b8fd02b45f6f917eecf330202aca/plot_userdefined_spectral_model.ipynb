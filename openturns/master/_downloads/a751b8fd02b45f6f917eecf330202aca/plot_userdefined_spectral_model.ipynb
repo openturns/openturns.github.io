{
  "cells": [
    {
      "cell_type": "markdown",
      "metadata": {},
      "source": [
        "\n# Create a spectral model\n"
      ]
    },
    {
      "cell_type": "markdown",
      "metadata": {},
      "source": [
        "This use case illustrates how the User can define his own density\nspectral function from parametric models. The library allows it thanks to\nthe object :class:`~openturns.UserDefinedSpectralModel` defined from:\n\n-   a frequency grid $(-f_c, \\dots, f_c)$ with step $\\delta f$, stored\n    in the object :class:`~openturns.RegularGrid`,\n-   a collection of hermitian matrices $\\in \\mathbb{M}_d(\\mathbb{C})$\n    stored in the object :class:`~openturns.HermitianMatrixCollection`, which are the\n    images of each point of the frequency grid through the density\n    spectral function.\n\n\nThe library builds a constant piecewise function on $[-f_c,f_c]$, where\nthe intervals where the density spectral function is constant are\ncentered on the points of the frequency grid, of length $\\delta f$.\nThen, it is possible to evaluate the spectral density function for a\ngiven frequency thanks to the method `computeSpectralDensity`: if\nthe frequency is not inside the interval $[-f_c,f_c]$, an exception is thrown.\nOtherwise, it returns the hermitian matrix of the\nsubinterval of $[-f_c,f_c]$ that contains the given frequency.\n\nIn the following script, we illustrate how to create a modified low\npass model of dimension $d=1$ with exponential decrease defined by:\n$S: \\mathbb{R} \\rightarrow  \\mathbb{R}$ where\n\n-   Frequency value $f$ should be positive,\n-   for $f < 5 Hz$, the spectral density function is constant: $S(f)=1.0$,\n-   for $f > 5 Hz$, the spectral density function is equal to $S(f) = \\exp \\left[- 2.0 (f - 5.0)^2 \\right]$.\n\n\nThe frequency grid is $]0, f_c] = ]0,10]$ with $\\delta f = 0.2$ Hz.\nThe figure draws the spectral density.\n\n\n"
      ]
    },
    {
      "cell_type": "code",
      "execution_count": null,
      "metadata": {
        "collapsed": false
      },
      "outputs": [],
      "source": [
        "import openturns as ot\nimport openturns.viewer as viewer\nfrom matplotlib import pylab as plt\nimport math as m\n\not.Log.Show(ot.Log.NONE)"
      ]
    },
    {
      "cell_type": "markdown",
      "metadata": {},
      "source": [
        "Create the frequency grid:\n\n"
      ]
    },
    {
      "cell_type": "code",
      "execution_count": null,
      "metadata": {
        "collapsed": false
      },
      "outputs": [],
      "source": [
        "fmin = 0.1\ndf = 0.5\nN = int((10.0 - fmin) / df)\nfgrid = ot.RegularGrid(fmin, df, N)"
      ]
    },
    {
      "cell_type": "markdown",
      "metadata": {},
      "source": [
        "Define the spectral function:\n\n"
      ]
    },
    {
      "cell_type": "code",
      "execution_count": null,
      "metadata": {
        "collapsed": false
      },
      "outputs": [],
      "source": [
        "def s(f):\n    if f <= 5.0:\n        return 1.0\n    else:\n        x = f - 5.0\n        return m.exp(-2.0 * x * x)"
      ]
    },
    {
      "cell_type": "markdown",
      "metadata": {},
      "source": [
        "Create the collection of :class:`~openturns.HermitianMatrix`:\n\n"
      ]
    },
    {
      "cell_type": "code",
      "execution_count": null,
      "metadata": {
        "collapsed": false
      },
      "outputs": [],
      "source": [
        "coll = ot.HermitianMatrixCollection()\nfor k in range(N):\n    frequency = fgrid.getValue(k)\n    matrix = ot.HermitianMatrix(1)\n    matrix[0, 0] = s(frequency)\n    coll.add(matrix)"
      ]
    },
    {
      "cell_type": "markdown",
      "metadata": {},
      "source": [
        "Create the spectral model:\n\n"
      ]
    },
    {
      "cell_type": "code",
      "execution_count": null,
      "metadata": {
        "collapsed": false
      },
      "outputs": [],
      "source": [
        "spectralModel = ot.UserDefinedSpectralModel(fgrid, coll)\n\n# Get the spectral density function computed at first frequency values\nfirstFrequency = fgrid.getStart()\nfrequencyStep = fgrid.getStep()\nfirstHermitian = spectralModel(firstFrequency)\n\n# Get the spectral function at frequency + 0.3 * frequencyStep\nspectralModel(frequency + 0.3 * frequencyStep)"
      ]
    },
    {
      "cell_type": "markdown",
      "metadata": {},
      "source": [
        "Draw the spectral density\n\n"
      ]
    },
    {
      "cell_type": "code",
      "execution_count": null,
      "metadata": {
        "collapsed": false
      },
      "outputs": [],
      "source": [
        "# Create the curve of the spectral function\nx = ot.Sample(N, 2)\nfor k in range(N):\n    frequency = fgrid.getValue(k)\n    x[k, 0] = frequency\n    value = spectralModel(frequency)\n    x[k, 1] = value[0, 0].real\n\n# Create the graph\ngraph = ot.Graph(\n    \"Spectral user-defined model\", \"Frequency\", \"Spectral density value\", True\n)\ncurve = ot.Curve(x, \"UserSpectral\")\ngraph.add(curve)\ngraph.setLegendPosition(\"upper right\")\nview = viewer.View(graph)\nplt.show()"
      ]
    }
  ],
  "metadata": {
    "kernelspec": {
      "display_name": "Python 3",
      "language": "python",
      "name": "python3"
    },
    "language_info": {
      "codemirror_mode": {
        "name": "ipython",
        "version": 3
      },
      "file_extension": ".py",
      "mimetype": "text/x-python",
      "name": "python",
      "nbconvert_exporter": "python",
      "pygments_lexer": "ipython3",
      "version": "3.13.2"
    }
  },
  "nbformat": 4,
  "nbformat_minor": 0
}