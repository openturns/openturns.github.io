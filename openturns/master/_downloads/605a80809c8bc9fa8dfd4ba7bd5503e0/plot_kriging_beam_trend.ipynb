{
  "cells": [
    {
      "cell_type": "markdown",
      "metadata": {},
      "source": [
        "\n# Kriging: choose a polynomial trend on the beam model\n"
      ]
    },
    {
      "cell_type": "markdown",
      "metadata": {},
      "source": [
        "The goal of this example is to show how to configure the trend in a Kriging metamodel.\nThis example focuses on three polynomial trends:\n\n* :class:`~openturns.ConstantBasisFactory`,\n* :class:`~openturns.LinearBasisFactory`,\n* :class:`~openturns.QuadraticBasisFactory`.\n\nIn the :doc:`/auto_meta_modeling/kriging_metamodel/plot_kriging_chose_trend` example,\nwe give another example of this procedure.\n\nFor this purpose, we use the `cantilever beam <use-case-cantilever-beam>` example.\n\n"
      ]
    },
    {
      "cell_type": "markdown",
      "metadata": {},
      "source": [
        "## Definition of the model\n\n"
      ]
    },
    {
      "cell_type": "code",
      "execution_count": null,
      "metadata": {
        "collapsed": false
      },
      "outputs": [],
      "source": [
        "from openturns.usecases import cantilever_beam\nimport openturns as ot\nfrom openturns.viewer import View\n\not.RandomGenerator.SetSeed(0)\not.Log.Show(ot.Log.NONE)"
      ]
    },
    {
      "cell_type": "markdown",
      "metadata": {},
      "source": [
        "We load the use case :\n\n"
      ]
    },
    {
      "cell_type": "code",
      "execution_count": null,
      "metadata": {
        "collapsed": false
      },
      "outputs": [],
      "source": [
        "cb = cantilever_beam.CantileverBeam()"
      ]
    },
    {
      "cell_type": "markdown",
      "metadata": {},
      "source": [
        "We define the function which evaluates the output depending on the inputs.\n\n"
      ]
    },
    {
      "cell_type": "code",
      "execution_count": null,
      "metadata": {
        "collapsed": false
      },
      "outputs": [],
      "source": [
        "model = cb.model"
      ]
    },
    {
      "cell_type": "markdown",
      "metadata": {},
      "source": [
        "Then we define the distribution of the input random vector.\n\n"
      ]
    },
    {
      "cell_type": "code",
      "execution_count": null,
      "metadata": {
        "collapsed": false
      },
      "outputs": [],
      "source": [
        "dimension = cb.dim  # number of inputs\nmyDistribution = cb.distribution"
      ]
    },
    {
      "cell_type": "markdown",
      "metadata": {},
      "source": [
        "## Create the design of experiments\n\n"
      ]
    },
    {
      "cell_type": "markdown",
      "metadata": {},
      "source": [
        "We consider a simple Monte-Carlo sampling as a design of experiments.\nThis is why we generate an input sample using the :meth:`~openturns.Distribution.getSample` method of the distribution.\nThen we evaluate the output using the `model` function.\n\n"
      ]
    },
    {
      "cell_type": "code",
      "execution_count": null,
      "metadata": {
        "collapsed": false
      },
      "outputs": [],
      "source": [
        "sampleSize_train = 10\nX_train = myDistribution.getSample(sampleSize_train)\nY_train = model(X_train)"
      ]
    },
    {
      "cell_type": "markdown",
      "metadata": {},
      "source": [
        "## Create the metamodel\n\n"
      ]
    },
    {
      "cell_type": "markdown",
      "metadata": {},
      "source": [
        "In order to create the Kriging metamodel, we first select a constant trend with the `ConstantBasisFactory` class.\nThen we use a squared exponential covariance kernel.\nThe `SquaredExponential` kernel has one amplitude coefficient and 4 scale coefficients.\nThis is because this covariance kernel is anisotropic : each of the 4 input variables is associated with its own scale coefficient.\n\n"
      ]
    },
    {
      "cell_type": "code",
      "execution_count": null,
      "metadata": {
        "collapsed": false
      },
      "outputs": [],
      "source": [
        "basis = ot.ConstantBasisFactory(dimension).build()\ncovarianceModel = ot.SquaredExponential(dimension)"
      ]
    },
    {
      "cell_type": "markdown",
      "metadata": {},
      "source": [
        "Typically, the optimization algorithm is quite good at setting sensible optimization bounds.\nIn this case, however, the range of the input domain is extreme.\n\n"
      ]
    },
    {
      "cell_type": "code",
      "execution_count": null,
      "metadata": {
        "collapsed": false
      },
      "outputs": [],
      "source": [
        "print(\"Lower and upper bounds of X_train:\")\nprint(X_train.getMin(), X_train.getMax())"
      ]
    },
    {
      "cell_type": "markdown",
      "metadata": {},
      "source": [
        "We need to manually define sensible optimization bounds.\nNote that since the amplitude parameter is computed analytically (this is possible when the output dimension is 1), we only need to set bounds on the scale parameter.\n\n"
      ]
    },
    {
      "cell_type": "code",
      "execution_count": null,
      "metadata": {
        "collapsed": false
      },
      "outputs": [],
      "source": [
        "scaleOptimizationBounds = ot.Interval(\n    [1.0, 1.0, 1.0, 1.0e-10], [1.0e11, 1.0e3, 1.0e1, 1.0e-5]\n)"
      ]
    },
    {
      "cell_type": "markdown",
      "metadata": {},
      "source": [
        "Finally, we use the `KrigingAlgorithm` class to create the Kriging metamodel.\nIt requires a training sample, a covariance kernel and a trend basis as input arguments.\nWe need to set the initial scale parameter for the optimization. The upper bound of the input domain is a sensible choice here.\nWe must not forget to actually set the optimization bounds defined above.\n\n"
      ]
    },
    {
      "cell_type": "code",
      "execution_count": null,
      "metadata": {
        "collapsed": false
      },
      "outputs": [],
      "source": [
        "covarianceModel.setScale(X_train.getMax())\nalgo = ot.KrigingAlgorithm(X_train, Y_train, covarianceModel, basis)\nalgo.setOptimizationBounds(scaleOptimizationBounds)"
      ]
    },
    {
      "cell_type": "markdown",
      "metadata": {},
      "source": [
        "Run the algorithm and get the result.\n\n"
      ]
    },
    {
      "cell_type": "code",
      "execution_count": null,
      "metadata": {
        "collapsed": false
      },
      "outputs": [],
      "source": [
        "algo.run()\nresult = algo.getResult()\nkrigingWithConstantTrend = result.getMetaModel()"
      ]
    },
    {
      "cell_type": "markdown",
      "metadata": {},
      "source": [
        "The `getTrendCoefficients` method returns the coefficients of the trend.\n\n"
      ]
    },
    {
      "cell_type": "code",
      "execution_count": null,
      "metadata": {
        "collapsed": false
      },
      "outputs": [],
      "source": [
        "print(result.getTrendCoefficients())"
      ]
    },
    {
      "cell_type": "markdown",
      "metadata": {},
      "source": [
        "The constant trend always has only one coefficient (if there is one single output).\n\n"
      ]
    },
    {
      "cell_type": "code",
      "execution_count": null,
      "metadata": {
        "collapsed": false
      },
      "outputs": [],
      "source": [
        "print(result.getCovarianceModel())"
      ]
    },
    {
      "cell_type": "markdown",
      "metadata": {},
      "source": [
        "## Setting the trend\n\n"
      ]
    },
    {
      "cell_type": "code",
      "execution_count": null,
      "metadata": {
        "collapsed": false
      },
      "outputs": [],
      "source": [
        "covarianceModel.setScale(X_train.getMax())\nbasis = ot.LinearBasisFactory(dimension).build()\nalgo = ot.KrigingAlgorithm(X_train, Y_train, covarianceModel, basis)\nalgo.setOptimizationBounds(scaleOptimizationBounds)\nalgo.run()\nresult = algo.getResult()\nkrigingWithLinearTrend = result.getMetaModel()\nresult.getTrendCoefficients()"
      ]
    },
    {
      "cell_type": "markdown",
      "metadata": {},
      "source": [
        "The number of coefficients in the linear and quadratic trends depends on the number of inputs, which is\nequal to\n\n\\begin{align}dim = 4\\end{align}\n\n\nin the cantilever beam case.\n\nWe observe that the number of coefficients in the trend is 5, which corresponds to:\n\n* 1 coefficient for the constant part,\n* dim=4 coefficients for the linear part.\n\n"
      ]
    },
    {
      "cell_type": "code",
      "execution_count": null,
      "metadata": {
        "collapsed": false
      },
      "outputs": [],
      "source": [
        "covarianceModel.setScale(X_train.getMax())\nbasis = ot.QuadraticBasisFactory(dimension).build()\nalgo = ot.KrigingAlgorithm(X_train, Y_train, covarianceModel, basis)\nalgo.setOptimizationBounds(scaleOptimizationBounds)\nalgo.run()\nresult = algo.getResult()\nkrigingWithQuadraticTrend = result.getMetaModel()\nresult.getTrendCoefficients()\nprint(algo.getOptimizationBounds())\nprint(result.getCovarianceModel())"
      ]
    },
    {
      "cell_type": "markdown",
      "metadata": {},
      "source": [
        "This time, the trend has 15 coefficients:\n\n* 1 coefficient for the constant part,\n* 4 coefficients for the linear part,\n* 10 coefficients for the quadratic part.\n\nThis is because the number of coefficients in the quadratic part has\n\n\\begin{align}\\frac{dim (dim+1)}{2}=\\frac{4\\times 5}{2}=10\\end{align}\n\n\ncoefficients, associated with the symmetric matrix of the quadratic function.\n\n"
      ]
    },
    {
      "cell_type": "markdown",
      "metadata": {},
      "source": [
        "## Validate the metamodel\n\n"
      ]
    },
    {
      "cell_type": "markdown",
      "metadata": {},
      "source": [
        "We finally want to validate the Kriging metamodel. This is why we generate a validation sample with size 100 and we evaluate the output of the model on this sample.\n\n"
      ]
    },
    {
      "cell_type": "code",
      "execution_count": null,
      "metadata": {
        "collapsed": false
      },
      "outputs": [],
      "source": [
        "sampleSize_test = 100\nX_test = myDistribution.getSample(sampleSize_test)\nY_test = model(X_test)"
      ]
    },
    {
      "cell_type": "code",
      "execution_count": null,
      "metadata": {
        "collapsed": false
      },
      "outputs": [],
      "source": [
        "def drawMetaModelValidation(X_test, Y_test, krigingMetamodel, title):\n    metamodelPredictions = krigingMetamodel(X_test)\n    val = ot.MetaModelValidation(Y_test, metamodelPredictions)\n    r2Score = val.computeR2Score()[0]\n    graph = val.drawValidation().getGraph(0, 0)\n    graph.setLegends([\"\"])\n    graph.setLegends([\"%s, R2 = %.2f%%\" % (title, 100 * r2Score), \"\"])\n    graph.setLegendPosition(\"upper left\")\n    return graph"
      ]
    },
    {
      "cell_type": "code",
      "execution_count": null,
      "metadata": {
        "collapsed": false
      },
      "outputs": [],
      "source": [
        "grid = ot.GridLayout(1, 3)\ngrid.setTitle(\"Different trends\")\ngraphConstant = drawMetaModelValidation(\n    X_test, Y_test, krigingWithConstantTrend, \"Constant\"\n)\ngraphLinear = drawMetaModelValidation(X_test, Y_test, krigingWithLinearTrend, \"Linear\")\ngraphQuadratic = drawMetaModelValidation(\n    X_test, Y_test, krigingWithQuadraticTrend, \"Quadratic\"\n)\ngrid.setGraph(0, 0, graphConstant)\ngrid.setGraph(0, 1, graphLinear)\ngrid.setGraph(0, 2, graphQuadratic)\n_ = View(grid, figure_kw={\"figsize\": (13, 4)})"
      ]
    },
    {
      "cell_type": "markdown",
      "metadata": {},
      "source": [
        "We observe that the three trends perform very well in this case.\nWith more coefficients, the Kriging metamodel is more flexibile and can adjust better to the training sample.\nThis does not mean, however, that the trend coefficients will provide a good fit for the validation sample.\n\nThe number of parameters in each Kriging metamodel is the following:\n\n* the constant trend Kriging has 6 coefficients to estimate: 5 coefficients for the covariance matrix and 1 coefficient for the trend,\n* the linear trend Kriging has 10 coefficients to estimate: 5 coefficients for the covariance matrix and 5 coefficients for the trend,\n* the quadratic trend Kriging has 20 coefficients to estimate: 5 coefficients for the covariance matrix and 15 coefficients for the trend.\n\nIn the cantilever beam example, fitting the metamodel to a training sample with only 10 points is made much easier because the function to approximate is almost linear.\nIn this case, a quadratic trend is not advisable because it can interpolate all points in the training sample.\n\n"
      ]
    }
  ],
  "metadata": {
    "kernelspec": {
      "display_name": "Python 3",
      "language": "python",
      "name": "python3"
    },
    "language_info": {
      "codemirror_mode": {
        "name": "ipython",
        "version": 3
      },
      "file_extension": ".py",
      "mimetype": "text/x-python",
      "name": "python",
      "nbconvert_exporter": "python",
      "pygments_lexer": "ipython3",
      "version": "3.12.5"
    }
  },
  "nbformat": 4,
  "nbformat_minor": 0
}