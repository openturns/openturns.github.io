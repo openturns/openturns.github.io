{
  "cells": [
    {
      "cell_type": "markdown",
      "metadata": {},
      "source": [
        "\n# Control algorithm termination\n"
      ]
    },
    {
      "cell_type": "markdown",
      "metadata": {},
      "source": [
        "In this examples we are going to expose ways to control the termination of optimization and simulation algorithms using callbacks.\n\n\n"
      ]
    },
    {
      "cell_type": "code",
      "execution_count": null,
      "metadata": {
        "collapsed": false
      },
      "outputs": [],
      "source": [
        "import openturns as ot\n\not.Log.Show(ot.Log.NONE)"
      ]
    },
    {
      "cell_type": "markdown",
      "metadata": {},
      "source": [
        "Define an event to compute a probability\n\n"
      ]
    },
    {
      "cell_type": "code",
      "execution_count": null,
      "metadata": {
        "collapsed": false
      },
      "outputs": [],
      "source": [
        "myFunction = ot.SymbolicFunction([\"E\", \"F\", \"L\", \"I\"], [\"-F*L^3/(3.0*E*I)\"])\ndim = myFunction.getInputDimension()\nmean = [50.0, 1.0, 10.0, 5.0]\nsigma = [1.0] * dim\nR = ot.IdentityMatrix(dim)\nmyDistribution = ot.Normal(mean, sigma, R)\nvect = ot.RandomVector(myDistribution)\noutput = ot.CompositeRandomVector(myFunction, vect)\nmyEvent = ot.ThresholdEvent(output, ot.Less(), -3.0)"
      ]
    },
    {
      "cell_type": "markdown",
      "metadata": {},
      "source": [
        "**Stop a FORM algorithm using a calls number limit**\n\nA FORM algorithm termination can be controlled by the maximum number of iterations\n\nof its underlying optimization solver, but not directly by a maximum number of evaluations.\n\n"
      ]
    },
    {
      "cell_type": "markdown",
      "metadata": {},
      "source": [
        "Create the optimization algorithm\n\n"
      ]
    },
    {
      "cell_type": "code",
      "execution_count": null,
      "metadata": {
        "collapsed": false
      },
      "outputs": [],
      "source": [
        "myCobyla = ot.Cobyla()\nmyCobyla.setMaximumCallsNumber(400)\nmyCobyla.setMaximumAbsoluteError(1.0e-10)\nmyCobyla.setMaximumRelativeError(1.0e-10)\nmyCobyla.setMaximumResidualError(1.0e-10)\nmyCobyla.setMaximumConstraintError(1.0e-10)"
      ]
    },
    {
      "cell_type": "markdown",
      "metadata": {},
      "source": [
        "Define the stopping criterion\n\n"
      ]
    },
    {
      "cell_type": "code",
      "execution_count": null,
      "metadata": {
        "collapsed": false
      },
      "outputs": [],
      "source": [
        "def stop():\n    return myFunction.getCallsNumber() > 100\n\n\nmyCobyla.setStopCallback(stop)"
      ]
    },
    {
      "cell_type": "markdown",
      "metadata": {},
      "source": [
        "Run FORM\n\n"
      ]
    },
    {
      "cell_type": "code",
      "execution_count": null,
      "metadata": {
        "collapsed": false
      },
      "outputs": [],
      "source": [
        "myAlgo = ot.FORM(myCobyla, myEvent, mean)\nmyAlgo.run()\nresult = myAlgo.getResult()\nprint(\"event probability:\", result.getEventProbability())\nprint(\"calls number:\", myFunction.getCallsNumber())"
      ]
    },
    {
      "cell_type": "markdown",
      "metadata": {},
      "source": [
        "**Stop a simulation algorithm using a time limit**\n\nHere we will create a callback to not exceed a specified simulation time.\n\n"
      ]
    },
    {
      "cell_type": "markdown",
      "metadata": {},
      "source": [
        "Create simulation\n\n"
      ]
    },
    {
      "cell_type": "code",
      "execution_count": null,
      "metadata": {
        "collapsed": false
      },
      "outputs": [],
      "source": [
        "experiment = ot.MonteCarloExperiment()\nmyAlgo = ot.ProbabilitySimulationAlgorithm(myEvent, experiment)\nmyAlgo.setMaximumOuterSampling(1000000)\nmyAlgo.setMaximumCoefficientOfVariation(-1.0)"
      ]
    },
    {
      "cell_type": "markdown",
      "metadata": {},
      "source": [
        "Define the stopping criterion\n\n"
      ]
    },
    {
      "cell_type": "code",
      "execution_count": null,
      "metadata": {
        "collapsed": false
      },
      "outputs": [],
      "source": [
        "myAlgo.setMaximumTimeDuration(0.01)"
      ]
    },
    {
      "cell_type": "markdown",
      "metadata": {},
      "source": [
        "Run algorithm\n\n"
      ]
    },
    {
      "cell_type": "code",
      "execution_count": null,
      "metadata": {
        "collapsed": false
      },
      "outputs": [],
      "source": [
        "myAlgo.run()\nresult = myAlgo.getResult()\nprint(\"event probability:\", result.getProbabilityEstimate())\nprint(\"calls number:\", myFunction.getCallsNumber())"
      ]
    }
  ],
  "metadata": {
    "kernelspec": {
      "display_name": "Python 3",
      "language": "python",
      "name": "python3"
    },
    "language_info": {
      "codemirror_mode": {
        "name": "ipython",
        "version": 3
      },
      "file_extension": ".py",
      "mimetype": "text/x-python",
      "name": "python",
      "nbconvert_exporter": "python",
      "pygments_lexer": "ipython3",
      "version": "3.12.5"
    }
  },
  "nbformat": 4,
  "nbformat_minor": 0
}