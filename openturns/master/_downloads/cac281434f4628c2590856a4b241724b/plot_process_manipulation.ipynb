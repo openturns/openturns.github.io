{
  "cells": [
    {
      "cell_type": "markdown",
      "metadata": {},
      "source": [
        "\n# Draw fields\n"
      ]
    },
    {
      "cell_type": "markdown",
      "metadata": {},
      "source": [
        "The objective here is to manipulate a multivariate stochastic process $X: \\Omega \\times \\mathcal{D} \\rightarrow \\mathbb{R}^d$,\nwhere $\\mathcal{D} \\in \\mathbb{R}^n$ is discretized on the mesh $\\mathcal{M}$\nand exhibit some of the services exposed by the *Process* objects:\n\n- ask for the dimension, with the method getOutputDimension\n- ask for the mesh, with the method getMesh\n- ask for the mesh as regular 1-d mesh, with the getTimeGrid method\n- ask for a realization, with the method the getRealization method\n- ask for a continuous realization, with the getContinuousRealization method\n- ask for a sample of realizations, with the getSample method\n- ask for the normality of the process with the isNormal method\n- ask for the stationarity of the process with the isStationary method\n\n\n"
      ]
    },
    {
      "cell_type": "code",
      "execution_count": null,
      "metadata": {
        "collapsed": false
      },
      "outputs": [],
      "source": [
        "import openturns as ot\nimport openturns.viewer as viewer\nfrom matplotlib import pylab as plt\n\not.Log.Show(ot.Log.NONE)"
      ]
    },
    {
      "cell_type": "markdown",
      "metadata": {},
      "source": [
        "We create a mesh -a time grid- which is a RegularGrid :\n\n"
      ]
    },
    {
      "cell_type": "code",
      "execution_count": null,
      "metadata": {
        "collapsed": false
      },
      "outputs": [],
      "source": [
        "tMin = 0.0\ntimeStep = 0.1\nn = 100\ntime_grid = ot.RegularGrid(tMin, timeStep, n)\ntime_grid.setName(\"time\")"
      ]
    },
    {
      "cell_type": "markdown",
      "metadata": {},
      "source": [
        "We create a Normal process $X_t = (X_t^0, X_t^1, X_t^2)$ in dimension 3 with an exponential covariance model.\nWe define the amplitude and the scale of the `ExponentialModel`\n\n"
      ]
    },
    {
      "cell_type": "code",
      "execution_count": null,
      "metadata": {
        "collapsed": false
      },
      "outputs": [],
      "source": [
        "scale = [4.0]\namplitude = [1.0, 2.0, 3.0]"
      ]
    },
    {
      "cell_type": "markdown",
      "metadata": {},
      "source": [
        "We define a spatial correlation :\n\n"
      ]
    },
    {
      "cell_type": "code",
      "execution_count": null,
      "metadata": {
        "collapsed": false
      },
      "outputs": [],
      "source": [
        "spatialCorrelation = ot.CorrelationMatrix(3)\nspatialCorrelation[0, 1] = 0.8\nspatialCorrelation[0, 2] = 0.6\nspatialCorrelation[1, 2] = 0.1"
      ]
    },
    {
      "cell_type": "markdown",
      "metadata": {},
      "source": [
        "The covariance model is now created with :\n\n"
      ]
    },
    {
      "cell_type": "code",
      "execution_count": null,
      "metadata": {
        "collapsed": false
      },
      "outputs": [],
      "source": [
        "myCovarianceModel = ot.ExponentialModel(scale, amplitude, spatialCorrelation)"
      ]
    },
    {
      "cell_type": "markdown",
      "metadata": {},
      "source": [
        "Eventually, the process is  built with :\n\n"
      ]
    },
    {
      "cell_type": "code",
      "execution_count": null,
      "metadata": {
        "collapsed": false
      },
      "outputs": [],
      "source": [
        "process = ot.GaussianProcess(myCovarianceModel, time_grid)"
      ]
    },
    {
      "cell_type": "markdown",
      "metadata": {},
      "source": [
        "The dimension d of the process may be retrieved by\n\n"
      ]
    },
    {
      "cell_type": "code",
      "execution_count": null,
      "metadata": {
        "collapsed": false
      },
      "outputs": [],
      "source": [
        "dim = process.getOutputDimension()\nprint(\"Dimension : %d\" % dim)"
      ]
    },
    {
      "cell_type": "markdown",
      "metadata": {},
      "source": [
        "The underlying mesh of the process is obtained with the `getMesh` method :\n\n"
      ]
    },
    {
      "cell_type": "code",
      "execution_count": null,
      "metadata": {
        "collapsed": false
      },
      "outputs": [],
      "source": [
        "mesh = process.getMesh()"
      ]
    },
    {
      "cell_type": "markdown",
      "metadata": {},
      "source": [
        "We have access to peculiar data of the mesh such as the corners :\n\n"
      ]
    },
    {
      "cell_type": "code",
      "execution_count": null,
      "metadata": {
        "collapsed": false
      },
      "outputs": [],
      "source": [
        "minMesh = mesh.getVertices().getMin()[0]\nmaxMesh = mesh.getVertices().getMax()[0]"
      ]
    },
    {
      "cell_type": "markdown",
      "metadata": {},
      "source": [
        "We draw it :\n\n"
      ]
    },
    {
      "cell_type": "code",
      "execution_count": null,
      "metadata": {
        "collapsed": false
      },
      "outputs": [],
      "source": [
        "graph = mesh.draw()\ngraph.setTitle(\"Time grid (mesh)\")\ngraph.setXTitle(\"t\")\ngraph.setYTitle(\"\")\nview = viewer.View(graph)"
      ]
    },
    {
      "cell_type": "markdown",
      "metadata": {},
      "source": [
        "We can get the time grid of the process when the mesh can be interpreted as a regular time grid :\n\n"
      ]
    },
    {
      "cell_type": "code",
      "execution_count": null,
      "metadata": {
        "collapsed": false
      },
      "outputs": [],
      "source": [
        "print(process.getTimeGrid())"
      ]
    },
    {
      "cell_type": "markdown",
      "metadata": {},
      "source": [
        "A typical feature of a process is the generation of a realization of itself :\n\n"
      ]
    },
    {
      "cell_type": "code",
      "execution_count": null,
      "metadata": {
        "collapsed": false
      },
      "outputs": [],
      "source": [
        "realization = process.getRealization()"
      ]
    },
    {
      "cell_type": "markdown",
      "metadata": {},
      "source": [
        "Here it is a sample of size $100 \\times 4$ (100 time steps, 3 spatial cooordinates and the time variable).\nWe are able to draw its marginals, for instance the first (index 0) one $X_t^0$, against the time with no interpolation:\n\n"
      ]
    },
    {
      "cell_type": "code",
      "execution_count": null,
      "metadata": {
        "collapsed": false
      },
      "outputs": [],
      "source": [
        "interpolate = False\ngraph = realization.drawMarginal(0, interpolate)\ngraph.setTitle(\"First marginal of a realization of the process\")\ngraph.setXTitle(\"t\")\ngraph.setYTitle(r\"$X_t^0$\")\nview = viewer.View(graph)"
      ]
    },
    {
      "cell_type": "markdown",
      "metadata": {},
      "source": [
        "The same graph, but with interpolated values (default behaviour) :\n\n"
      ]
    },
    {
      "cell_type": "code",
      "execution_count": null,
      "metadata": {
        "collapsed": false
      },
      "outputs": [],
      "source": [
        "graph = realization.drawMarginal(0)\ngraph.setTitle(\"First marginal of a realization of the process\")\ngraph.setXTitle(\"t\")\ngraph.setYTitle(r\"$X_t^0$\")\nview = viewer.View(graph)"
      ]
    },
    {
      "cell_type": "markdown",
      "metadata": {},
      "source": [
        "We can build a function representing the process using P1-Lagrange interpolation (when not defined from a functional model).\n\n"
      ]
    },
    {
      "cell_type": "code",
      "execution_count": null,
      "metadata": {
        "collapsed": false
      },
      "outputs": [],
      "source": [
        "continuousRealization = process.getContinuousRealization()"
      ]
    },
    {
      "cell_type": "markdown",
      "metadata": {},
      "source": [
        "Once again we draw its first marginal :\n\n"
      ]
    },
    {
      "cell_type": "code",
      "execution_count": null,
      "metadata": {
        "collapsed": false
      },
      "outputs": [],
      "source": [
        "marginal0 = continuousRealization.getMarginal(0)\ngraph = marginal0.draw(minMesh, maxMesh)\ngraph.setTitle(\"First marginal of a P1-Lagrange continuous realization of the process\")\ngraph.setXTitle(\"t\")\nview = viewer.View(graph)"
      ]
    },
    {
      "cell_type": "markdown",
      "metadata": {},
      "source": [
        "Please note that the `marginal0` object is a function. Consequently we can\nevaluate it at any point of the domain, say $t_0=3.5678$\n\n"
      ]
    },
    {
      "cell_type": "code",
      "execution_count": null,
      "metadata": {
        "collapsed": false
      },
      "outputs": [],
      "source": [
        "t0 = 3.5678\nprint(t0, marginal0([t0]))"
      ]
    },
    {
      "cell_type": "markdown",
      "metadata": {},
      "source": [
        "Several realizations of the process may be determined at once :\n\n"
      ]
    },
    {
      "cell_type": "code",
      "execution_count": null,
      "metadata": {
        "collapsed": false
      },
      "outputs": [],
      "source": [
        "number = 10\nfieldSample = process.getSample(number)"
      ]
    },
    {
      "cell_type": "markdown",
      "metadata": {},
      "source": [
        "Let us draw them the first marginal)\n\n"
      ]
    },
    {
      "cell_type": "code",
      "execution_count": null,
      "metadata": {
        "collapsed": false
      },
      "outputs": [],
      "source": [
        "graph = fieldSample.drawMarginal(0, False)\ngraph.setTitle(\"First marginal of 10 realizations of the process\")\ngraph.setXTitle(\"t\")\ngraph.setYTitle(r\"$X_t^0$\")\nview = viewer.View(graph)"
      ]
    },
    {
      "cell_type": "markdown",
      "metadata": {},
      "source": [
        "Same graph, but with interpolated values :\n\n"
      ]
    },
    {
      "cell_type": "code",
      "execution_count": null,
      "metadata": {
        "collapsed": false
      },
      "outputs": [],
      "source": [
        "graph = fieldSample.drawMarginal(0)\ngraph.setTitle(\"First marginal of 10 realizations of the process\")\ngraph.setXTitle(\"t\")\ngraph.setYTitle(r\"$X_t^0$\")\nview = viewer.View(graph)"
      ]
    },
    {
      "cell_type": "markdown",
      "metadata": {},
      "source": [
        "## Miscellanies\n\nWe can extract any marginal of the process with the `getMarginal` method.\nBeware the numerotation begins at 0 ! It may be not implemented yet for\nsome processes.\nThe extracted marginal is a 1D gaussian process :\n\n"
      ]
    },
    {
      "cell_type": "code",
      "execution_count": null,
      "metadata": {
        "collapsed": false
      },
      "outputs": [],
      "source": [
        "print(process.getMarginal([1]))"
      ]
    },
    {
      "cell_type": "markdown",
      "metadata": {},
      "source": [
        "If we extract simultaneously two indices we build a 2D gaussian process :\n\n"
      ]
    },
    {
      "cell_type": "code",
      "execution_count": null,
      "metadata": {
        "collapsed": false
      },
      "outputs": [],
      "source": [
        "print(process.getMarginal([0, 2]))"
      ]
    },
    {
      "cell_type": "markdown",
      "metadata": {},
      "source": [
        "We can check whether the process is normal or not :\n\n"
      ]
    },
    {
      "cell_type": "code",
      "execution_count": null,
      "metadata": {
        "collapsed": false
      },
      "outputs": [],
      "source": [
        "print(\"Is normal ? \", process.isNormal())"
      ]
    },
    {
      "cell_type": "markdown",
      "metadata": {},
      "source": [
        "and the stationarity as well :\n\n"
      ]
    },
    {
      "cell_type": "code",
      "execution_count": null,
      "metadata": {
        "collapsed": false
      },
      "outputs": [],
      "source": [
        "print(\"Is stationary ? \", process.isStationary())\n\nplt.show()"
      ]
    }
  ],
  "metadata": {
    "kernelspec": {
      "display_name": "Python 3",
      "language": "python",
      "name": "python3"
    },
    "language_info": {
      "codemirror_mode": {
        "name": "ipython",
        "version": 3
      },
      "file_extension": ".py",
      "mimetype": "text/x-python",
      "name": "python",
      "nbconvert_exporter": "python",
      "pygments_lexer": "ipython3",
      "version": "3.11.7"
    }
  },
  "nbformat": 4,
  "nbformat_minor": 0
}