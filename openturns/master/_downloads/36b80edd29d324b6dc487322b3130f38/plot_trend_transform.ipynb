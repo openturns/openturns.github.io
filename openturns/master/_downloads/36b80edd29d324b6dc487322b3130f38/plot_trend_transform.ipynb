{
  "cells": [
    {
      "cell_type": "code",
      "execution_count": null,
      "metadata": {
        "collapsed": false
      },
      "outputs": [],
      "source": [
        "%matplotlib inline"
      ]
    },
    {
      "cell_type": "markdown",
      "metadata": {},
      "source": [
        "\n# Trend computation\n"
      ]
    },
    {
      "cell_type": "markdown",
      "metadata": {},
      "source": [
        "In this example we are going to estimate a trend from a field.\n\nWe note $(\\underline{x}_0, \\dots, \\underline{x}_{N-1})$ the values of the initial field associated to the mesh $\\mathcal{M}$ of $\\mathcal{D} \\in \\mathbb{R}^n$, where $\\underline{x}_i \\in \\mathbb{R}^d$ and $(\\underline{x}^{stat}_0, \\dots, \\underline{x}^{stat}_{N-1})$ the values of the resulting stationary field.\n\nThe object **TrendFactory** allows to estimate a trend and is built from:\n\n- a regression strategy that generates a basis using the Least Angle Regression method thanks to the object **LARS**,\n- a fitting algorithm that estimates the empirical error on each sub-basis using the leave one out strategy, thanks to the object **CorrectedLeaveOneOut** or the k-fold algorithm thanks to the object **KFold**.\n\nThen, the trend transformation is estimated from the initial field $(\\underline{x}_0, \\dots, \\underline{x}_{N-1})$ and a function basis $\\mathcal{B}$ thanks to the method **build** of the object **TrendFactory**, which produces an object of type **TrendTransform**. This last object allows to:\n\n- add the trend to a given field $\\underline{w}_0, \\dots, \\underline{w}_{N-1}$ defined on the same mesh $\\mathcal{M}$: the resulting field  shares the same mesh than the initial field. For example, it may be useful to add the trend to a realization of the stationary process $X_{stat}$ in order to get a realization of the process $X$\n\n- get the function $f_{trend}$ defined in that evaluates the trend thanks to the method **getEvaluation()**;\n\n- create the inverse trend transformation in order to remove the trend the intiail field $(\\underline{x}_0, \\dots, \\underline{x}_{N-1})$ and  to create the resulting stationary field $(\\underline{x}^{stat}_0, \\dots, \\underline{x}^{stat}_{N-1})$ such that:\n\n\\begin{align}\\underline{x}^{stat}_i = \\underline{x}_i - f_{trend}(\\underline{t}_i)\\end{align}\n\nwhere $\\underline{t}_i$ is the simplex associated to the value $\\underline{x}_i$.\n\nThis creation of the inverse trend function $-f_{trend}$ is done thanks to the method **getInverse()** which produces an object of type **InverseTrendTransform** that can be evaluated on a a field.\nFor example, it may be useful in order to get the stationary field $(\\underline{x}^{stat}_0, \\dots, \\underline{x}^{stat}_{N-1})$ and then analyze it with methods adapted to stationary processes (ARMA decomposition for example).\n\n\n"
      ]
    },
    {
      "cell_type": "code",
      "execution_count": null,
      "metadata": {
        "collapsed": false
      },
      "outputs": [],
      "source": [
        "from __future__ import print_function\nimport openturns as ot\nimport openturns.viewer as viewer\nfrom matplotlib import pylab as plt\nimport math as m\not.Log.Show(ot.Log.NONE)"
      ]
    },
    {
      "cell_type": "markdown",
      "metadata": {},
      "source": [
        "Define a bi dimensional mesh\n\n"
      ]
    },
    {
      "cell_type": "code",
      "execution_count": null,
      "metadata": {
        "collapsed": false
      },
      "outputs": [],
      "source": [
        "myIndices = [40, 20]\nmyMesher = ot.IntervalMesher(myIndices)\nlowerBound = [0., 0.]\nupperBound = [2., 1.]\nmyInterval = ot.Interval(lowerBound, upperBound)\nmyMesh = myMesher.build(myInterval)\n\n# Define a scalar temporal normal process on the mesh\n# this process is stationary\namplitude = [1.0]\nscale = [0.01]*2\nmyCovModel = ot.ExponentialModel(scale, amplitude)\nmyXProcess = ot.GaussianProcess(myCovModel, myMesh)\n\n# Create a trend function\n# fTrend : R^2 --> R\n#          (t,s) --> 1+2t+2s\nfTrend = ot.SymbolicFunction(['t', 's'], ['1+2*t+2*s'])\nfTemp = ot.TrendTransform(fTrend, myMesh)\n\n# Add the trend to the initial process\nmyYProcess = ot.CompositeProcess(fTemp, myXProcess)\n\n# Get a field from myYtProcess\nmyYField = myYProcess.getRealization()"
      ]
    },
    {
      "cell_type": "markdown",
      "metadata": {},
      "source": [
        "CASE 1 : we estimate the trend from the field\n\n"
      ]
    },
    {
      "cell_type": "code",
      "execution_count": null,
      "metadata": {
        "collapsed": false
      },
      "outputs": [],
      "source": [
        "# Define the regression stategy using the LAR method\nmyBasisSequenceFactory = ot.LARS()\n\n# Define the fitting algorithm using the\n# Corrected Leave One Out or KFold algorithms\nmyFittingAlgorithm = ot.CorrectedLeaveOneOut()\nmyFittingAlgorithm_2 = ot.KFold()\n\n# Define the basis function\n# For example composed of 5 functions\nmyFunctionBasis = list(map(lambda fst: ot.SymbolicFunction(\n    ['t', 's'], [fst]), ['1', 't', 's', 't^2', 's^2']))\n\n# Define the trend function factory algorithm\nmyTrendFactory = ot.TrendFactory(myBasisSequenceFactory, myFittingAlgorithm)\n\n# Create the trend transformation  of type TrendTransform\nmyTrendTransform = myTrendFactory.build(myYField, ot.Basis(myFunctionBasis))\n\n# Check the estimated trend function\nprint('Trend function = ', myTrendTransform)"
      ]
    },
    {
      "cell_type": "markdown",
      "metadata": {},
      "source": [
        "CASE 2 : we impose the trend (or its inverse)\n\n"
      ]
    },
    {
      "cell_type": "code",
      "execution_count": null,
      "metadata": {
        "collapsed": false
      },
      "outputs": [],
      "source": [
        "# The function g computes the trend : R^2 -> R\n# g :      R^2 --> R\n#          (t,s) --> 1+2t+2s\ng = ot.SymbolicFunction(['t', 's'], ['1+2*t+2*s'])\ngTemp = ot.TrendTransform(g, myMesh)\n\n# Get the inverse trend transformation\n# from the trend transform already defined\nmyInverseTrendTransform = myTrendTransform.getInverse()\nprint('Inverse trend fucntion = ', myInverseTrendTransform)\n\n# Sometimes it is more useful to define\n# the opposite trend h : R^2 -> R\n# in fact h = -g\nh = ot.SymbolicFunction(['t', 's'], ['-(1+2*t+2*s)'])\nmyInverseTrendTransform_2 = ot.InverseTrendTransform(h, myMesh)"
      ]
    },
    {
      "cell_type": "markdown",
      "metadata": {},
      "source": [
        "Remove the trend from the field myYField\nmyXField = myYField - f(t,s)\n\n"
      ]
    },
    {
      "cell_type": "code",
      "execution_count": null,
      "metadata": {
        "collapsed": false
      },
      "outputs": [],
      "source": [
        "myXField2 = myTrendTransform.getInverse()(myYField)\n# or from the class InverseTrendTransform\nmyXField3 = myInverseTrendTransform(myYField)\n\n# Add the trend to the field myXField2\n# myYField = f(t,s) + myXField2\nmyInitialYField = myTrendTransform(myXField2)\n\n# Get the trend function f(t,s)\nmyEvaluation_f = myTrendTransform.getTrendFunction()\n\n# Evaluate the trend function f at a particular vertex\n# which is the lower corner of the mesh\nmyMesh = myYField.getMesh()\nvertices = myMesh.getVertices()\nvertex = vertices.getMin()\ntrend_t = myEvaluation_f(vertex)"
      ]
    }
  ],
  "metadata": {
    "kernelspec": {
      "display_name": "Python 3",
      "language": "python",
      "name": "python3"
    },
    "language_info": {
      "codemirror_mode": {
        "name": "ipython",
        "version": 3
      },
      "file_extension": ".py",
      "mimetype": "text/x-python",
      "name": "python",
      "nbconvert_exporter": "python",
      "pygments_lexer": "ipython3",
      "version": "3.10.1"
    }
  },
  "nbformat": 4,
  "nbformat_minor": 0
}