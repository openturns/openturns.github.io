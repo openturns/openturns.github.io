{
  "cells": [
    {
      "cell_type": "markdown",
      "metadata": {},
      "source": [
        "\n# Estimate quantile confidence intervals from chemical process data\n"
      ]
    },
    {
      "cell_type": "markdown",
      "metadata": {},
      "source": [
        "In this example, we introduce use two methods to estimate confidence intervals of the\n$\\alpha$ level quantile ($\\alpha \\in [0,1]$).\nThis example is adapted from [meeker2017]_ pages 76 to 81.\n\nSee  `quantile_confidence_estimation`  and `quantile_asymptotic_confidence_estimation` to get details on the signification of these confidence interval.\n\n"
      ]
    },
    {
      "cell_type": "code",
      "execution_count": null,
      "metadata": {
        "collapsed": false
      },
      "outputs": [],
      "source": [
        "import openturns as ot\nimport openturns.experimental as otexp\nimport openturns.viewer as otv"
      ]
    },
    {
      "cell_type": "markdown",
      "metadata": {},
      "source": [
        "The data represents the ordered measured amount of a chemical compound in parts per million (ppm)\ntaken from $n=100$ randomly selected batches from the process (see 5.1 data p. 76).\n\n"
      ]
    },
    {
      "cell_type": "code",
      "execution_count": null,
      "metadata": {
        "collapsed": false
      },
      "outputs": [],
      "source": [
        "data = [\n    1.49,\n    1.66,\n    2.05,\n    2.24,\n    2.29,\n    2.69,\n    2.77,\n    2.77,\n    3.10,\n    3.23,\n    3.28,\n    3.29,\n    3.31,\n    3.36,\n    3.84,\n    4.04,\n    4.09,\n    4.13,\n    4.14,\n    4.16,\n    4.57,\n    4.63,\n    4.83,\n    5.06,\n    5.17,\n    5.19,\n    5.89,\n    5.97,\n    6.28,\n    6.38,\n    6.51,\n    6.53,\n    6.54,\n    6.55,\n    6.83,\n    7.08,\n    7.28,\n    7.53,\n    7.54,\n    7.62,\n    7.81,\n    7.87,\n    7.94,\n    8.43,\n    8.70,\n    8.97,\n    8.98,\n    9.13,\n    9.14,\n    9.22,\n    9.24,\n    9.30,\n    9.44,\n    9.69,\n    9.86,\n    9.99,\n    11.28,\n    11.37,\n    12.03,\n    12.32,\n    12.93,\n    13.03,\n    13.09,\n    13.43,\n    13.58,\n    13.70,\n    14.17,\n    14.36,\n    14.96,\n    15.89,\n    16.57,\n    16.60,\n    16.85,\n    17.16,\n    17.17,\n    17.74,\n    18.04,\n    18.78,\n    19.84,\n    20.45,\n    20.89,\n    22.28,\n    22.48,\n    23.66,\n    24.33,\n    24.72,\n    25.46,\n    25.67,\n    25.77,\n    26.64,\n    28.28,\n    28.28,\n    29.07,\n    29.16,\n    31.14,\n    31.83,\n    33.24,\n    37.32,\n    53.43,\n    58.11,\n]\nsample = ot.Sample.BuildFromPoint(data)"
      ]
    },
    {
      "cell_type": "markdown",
      "metadata": {},
      "source": [
        "In the example, we consider the quantile of level $\\alpha = 10\\%$,\nwith a confidence level of $\\beta = 95\\%$ (see example 5.7 p. 85).\n\n"
      ]
    },
    {
      "cell_type": "code",
      "execution_count": null,
      "metadata": {
        "collapsed": false
      },
      "outputs": [],
      "source": [
        "alpha = 0.1\nbeta = 0.95\nalgo = otexp.QuantileConfidence(alpha, beta)"
      ]
    },
    {
      "cell_type": "markdown",
      "metadata": {},
      "source": [
        "Estimate bilateral rank: math:`(\\ell,u)` such that $0 \\leq \\ell \\leq u \\leq \\sampleSize -1$\nand defined by:\n\n\\begin{align}\\begin{array}{ll}\n   (\\ell,u) = & \\argmin \\Prob{X_{(\\ell)} \\leq x_{\\alpha} \\leq X_{(u)}}\\\\\n          & \\mbox{s.t.} \\Prob{X_{(\\ell)} \\leq x_{\\alpha} \\leq X_{(u)}} \\geq \\beta\n   \\end{array}\\end{align}\n\nCare: indices are given in the $\\llbracket 0, n-1 \\rrbracket$ integer interval whereas the book gives them in $\\llbracket 1, n \\rrbracket$.\n\n"
      ]
    },
    {
      "cell_type": "code",
      "execution_count": null,
      "metadata": {
        "collapsed": false
      },
      "outputs": [],
      "source": [
        "n = len(sample)\nl, u = algo.computeBilateralRank(n)\nprint(f\"l={l} u={u}\")"
      ]
    },
    {
      "cell_type": "markdown",
      "metadata": {},
      "source": [
        "We can directly estimate the bilateral confidence interval of the 0.1 quantile defined by the order statistics $X_{(l)}$ and $X_{(u)}$.\n\n"
      ]
    },
    {
      "cell_type": "code",
      "execution_count": null,
      "metadata": {
        "collapsed": false
      },
      "outputs": [],
      "source": [
        "ci = algo.computeBilateralConfidenceInterval(sample)\nprint(f\"ci={ci}\")"
      ]
    },
    {
      "cell_type": "markdown",
      "metadata": {},
      "source": [
        "In this example, we consider the quantile of level $\\alpha = 90\\%$,\nwith a confidence level of $\\beta = 95\\%$ (see example 5.1 p. 81).\n\n"
      ]
    },
    {
      "cell_type": "code",
      "execution_count": null,
      "metadata": {
        "collapsed": false
      },
      "outputs": [],
      "source": [
        "new_alpha = 0.90\nalgo.setAlpha(new_alpha)"
      ]
    },
    {
      "cell_type": "markdown",
      "metadata": {},
      "source": [
        "We get the bilateral confidence interval of the 0.91 quantile.\n\n"
      ]
    },
    {
      "cell_type": "code",
      "execution_count": null,
      "metadata": {
        "collapsed": false
      },
      "outputs": [],
      "source": [
        "l, u = algo.computeBilateralRank(n)\nprint(f\"l={l} u={u}\")"
      ]
    },
    {
      "cell_type": "code",
      "execution_count": null,
      "metadata": {
        "collapsed": false
      },
      "outputs": [],
      "source": [
        "ci = algo.computeBilateralConfidenceInterval(sample)\nprint(f\"ci={ci}\")"
      ]
    },
    {
      "cell_type": "markdown",
      "metadata": {},
      "source": [
        "We can estimate the rank $k_{low}$ which is the largest rank $k$  with\n$0 \\leq k \\leq \\sampleSize -1$ such that:\n\n\\begin{align}\\Prob{X_{(k)} \\leq x_{\\alpha}} \\geq \\beta.\\end{align}\n\nWe notice that the order statistics of the lower bound is the same as in the bilateral confidence interval.\n\n"
      ]
    },
    {
      "cell_type": "code",
      "execution_count": null,
      "metadata": {
        "collapsed": false
      },
      "outputs": [],
      "source": [
        "k_low = algo.computeUnilateralRank(n, True)\nprint(f\"k_low={k_low}\")"
      ]
    },
    {
      "cell_type": "markdown",
      "metadata": {},
      "source": [
        "In other words, the interval $\\left[ X_{(k_{low})}, +\\infty\\right[$ is a unilateral\nconfidence interval for the 0.9 quantile with confidence $\\beta$. We can directly\nestimate this interval.\n\n"
      ]
    },
    {
      "cell_type": "code",
      "execution_count": null,
      "metadata": {
        "collapsed": false
      },
      "outputs": [],
      "source": [
        "ci_low = algo.computeUnilateralConfidenceInterval(sample, True)\nprint(f\"ci_low={ci_low}\")"
      ]
    },
    {
      "cell_type": "markdown",
      "metadata": {},
      "source": [
        "We now estimate the rank $k_{up}$ which is the smallest rank $k$  with\n$0 \\leq k \\leq \\sampleSize -1$ such that:\n\n\\begin{align}\\Prob{X_{(k)} \\geq x_{\\alpha}} \\geq \\beta.\\end{align}\n\nWe notice that the order statistics of the upper bound is slightly smaller than in the bilateral confidence interval.\n\n"
      ]
    },
    {
      "cell_type": "code",
      "execution_count": null,
      "metadata": {
        "collapsed": false
      },
      "outputs": [],
      "source": [
        "k_up = algo.computeUnilateralRank(n)\nprint(f\"k_up={k_up}\")"
      ]
    },
    {
      "cell_type": "markdown",
      "metadata": {},
      "source": [
        "In other words, the interval $\\left]-\\infty,  X_{(k_{up})}\\right]$ is a unilateral\nconfidence interval for the 0.9 quantile with confidence $\\beta$. We can directly\nestimate this interval.\n\n"
      ]
    },
    {
      "cell_type": "code",
      "execution_count": null,
      "metadata": {
        "collapsed": false
      },
      "outputs": [],
      "source": [
        "ci_up = algo.computeUnilateralConfidenceInterval(sample)\nprint(f\"ci_up={ci_up}\")"
      ]
    },
    {
      "cell_type": "markdown",
      "metadata": {},
      "source": [
        "We had the empirical estimation of the quantile, with the order statistics $X_{(\\lfloor \\sampleSize \\alpha, \\rfloor)}$.\n\n"
      ]
    },
    {
      "cell_type": "code",
      "execution_count": null,
      "metadata": {
        "collapsed": false
      },
      "outputs": [],
      "source": [
        "emp_quant = sample.computeQuantile(new_alpha)[0]"
      ]
    },
    {
      "cell_type": "markdown",
      "metadata": {},
      "source": [
        "We illustrate here the confidence intervals we obtained. To do that, we\ndraw the empirical cumulative distribution function and the bounds of the bilateral confidence intervals.\nWe first draw the empirical cumulative distribution function.\n\n"
      ]
    },
    {
      "cell_type": "code",
      "execution_count": null,
      "metadata": {
        "collapsed": false
      },
      "outputs": [],
      "source": [
        "user_defined_dist = ot.UserDefined(sample)\ng = user_defined_dist.drawCDF(sample.getMin(), sample.getMax() * 1.5)\ng = user_defined_dist.drawCDF(0.0, 60.0)"
      ]
    },
    {
      "cell_type": "markdown",
      "metadata": {},
      "source": [
        "Then we had the bounds of the bilateral confidence intervals.\nFirst the bilateral interval.\n\n"
      ]
    },
    {
      "cell_type": "code",
      "execution_count": null,
      "metadata": {
        "collapsed": false
      },
      "outputs": [],
      "source": [
        "line_bil_low = ot.Curve(\n    [ci.getLowerBound(), ci.getLowerBound()],\n    [[-0.15], [user_defined_dist.computeCDF(ci.getLowerBound())]],\n)\nline_bil_low.setLineStyle(\"dashed\")"
      ]
    },
    {
      "cell_type": "code",
      "execution_count": null,
      "metadata": {
        "collapsed": false
      },
      "outputs": [],
      "source": [
        "line_bil_up = ot.Curve(\n    [ci.getUpperBound(), ci.getUpperBound()],\n    [[-0.20], [user_defined_dist.computeCDF(ci.getUpperBound())]],\n)\nline_bil_up.setLineStyle(\"dashed\")\nline_bil_up.setColor(line_bil_low.getColor())"
      ]
    },
    {
      "cell_type": "code",
      "execution_count": null,
      "metadata": {
        "collapsed": false
      },
      "outputs": [],
      "source": [
        "g.add(line_bil_low)\ng.add(line_bil_up)"
      ]
    },
    {
      "cell_type": "markdown",
      "metadata": {},
      "source": [
        "Then the unilateral confidence intervals.\n\n"
      ]
    },
    {
      "cell_type": "code",
      "execution_count": null,
      "metadata": {
        "collapsed": false
      },
      "outputs": [],
      "source": [
        "line_unil_low = ot.Curve(\n    [ci_low.getLowerBound(), ci_low.getLowerBound()],\n    [[0.0], [user_defined_dist.computeCDF(ci_low.getLowerBound())]],\n)\nline_unil_low.setLineStyle(\"dotted\")"
      ]
    },
    {
      "cell_type": "code",
      "execution_count": null,
      "metadata": {
        "collapsed": false
      },
      "outputs": [],
      "source": [
        "line_unil_up = ot.Curve(\n    [ci_up.getUpperBound(), ci_up.getUpperBound()],\n    [[-0.05], [user_defined_dist.computeCDF(ci_up.getUpperBound())]],\n)\nline_unil_up.setLineStyle(\"dashed\")"
      ]
    },
    {
      "cell_type": "code",
      "execution_count": null,
      "metadata": {
        "collapsed": false
      },
      "outputs": [],
      "source": [
        "g.add(line_unil_low)\ng.add(line_unil_up)"
      ]
    },
    {
      "cell_type": "markdown",
      "metadata": {},
      "source": [
        "At last, the empirical estimation.\n\n"
      ]
    },
    {
      "cell_type": "code",
      "execution_count": null,
      "metadata": {
        "collapsed": false
      },
      "outputs": [],
      "source": [
        "line_emp = ot.Curve(\n    [[emp_quant], [emp_quant], [0.0]],\n    [\n        [-0.10],\n        [user_defined_dist.computeCDF(emp_quant)],\n        [user_defined_dist.computeCDF(emp_quant)],\n    ],\n)\nline_bil_up.setLineStyle(\"dashed\")"
      ]
    },
    {
      "cell_type": "code",
      "execution_count": null,
      "metadata": {
        "collapsed": false
      },
      "outputs": [],
      "source": [
        "g.add(line_emp)"
      ]
    },
    {
      "cell_type": "markdown",
      "metadata": {},
      "source": [
        "We add some labels.\n\n"
      ]
    },
    {
      "cell_type": "code",
      "execution_count": null,
      "metadata": {
        "collapsed": false
      },
      "outputs": [],
      "source": [
        "text_bil_low = ot.Text([[ci.getLowerBound()[0], -0.2]], [\"bilat. low. bound\"])\ntext_bil_up = ot.Text([[ci.getUpperBound()[0], -0.25]], [\"bilat. up. bound\"])\ntext_low = ot.Text([[ci_low.getLowerBound()[0], -0.05]], [\"unilat. low. bound\"])\ntext_up = ot.Text([[ci_up.getUpperBound()[0], -0.1]], [\"unilat. up. bound\"])\ntext_emp = ot.Text([[emp_quant, -0.15]], [\"emp quant\"])\ntext_emp_2 = ot.Text([[-0.1, 0.9]], [\"quant level\"])\ng.add(text_bil_low)\ng.add(text_bil_up)\ng.add(text_low)\ng.add(text_up)\ng.add(text_emp)\ng.add(text_emp_2)"
      ]
    },
    {
      "cell_type": "code",
      "execution_count": null,
      "metadata": {
        "collapsed": false
      },
      "outputs": [],
      "source": [
        "g.setColors(\n    [\n        \"#1f77b4\",\n        \"#ff7f0e\",\n        \"#ff7f0e\",\n        \"#9467bd\",\n        \"#d62728\",\n        \"black\",\n        \"#ff7f0e\",\n        \"#ff7f0e\",\n        \"#9467bd\",\n        \"#d62728\",\n        \"black\",\n        \"black\",\n    ]\n)\ng.setLegends(\n    [\n        \"Emp. CDF\",\n        \"Bilat CI: lower bound\",\n        \"Bilat CI: upper bound\",\n        \"Unilat CI: lower bound\",\n        \"Unilat CI: upper bound\",\n        \"Emp quant\",\n    ]\n)\n\ng.setLegendCorner([1.0, 1.0])\ng.setLegendPosition(\"upper left\")\ng.setTitle(\"Estimation of the quantile of level 0.9\")\ng.setXTitle(\"x\")\nview = otv.View(g)"
      ]
    },
    {
      "cell_type": "markdown",
      "metadata": {},
      "source": [
        "Display all the graphs.\n\n"
      ]
    },
    {
      "cell_type": "code",
      "execution_count": null,
      "metadata": {
        "collapsed": false
      },
      "outputs": [],
      "source": [
        "otv.View.ShowAll()"
      ]
    }
  ],
  "metadata": {
    "kernelspec": {
      "display_name": "Python 3",
      "language": "python",
      "name": "python3"
    },
    "language_info": {
      "codemirror_mode": {
        "name": "ipython",
        "version": 3
      },
      "file_extension": ".py",
      "mimetype": "text/x-python",
      "name": "python",
      "nbconvert_exporter": "python",
      "pygments_lexer": "ipython3",
      "version": "3.13.7"
    }
  },
  "nbformat": 4,
  "nbformat_minor": 0
}