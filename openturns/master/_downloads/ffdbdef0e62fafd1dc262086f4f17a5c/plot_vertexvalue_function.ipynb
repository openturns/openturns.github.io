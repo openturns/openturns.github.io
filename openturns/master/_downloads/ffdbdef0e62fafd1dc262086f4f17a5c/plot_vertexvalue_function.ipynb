{
  "cells": [
    {
      "cell_type": "code",
      "execution_count": null,
      "metadata": {
        "collapsed": false
      },
      "outputs": [],
      "source": [
        "%matplotlib inline"
      ]
    },
    {
      "cell_type": "markdown",
      "metadata": {},
      "source": [
        "\n# Vertex value function\n"
      ]
    },
    {
      "cell_type": "markdown",
      "metadata": {},
      "source": [
        "A vertex value function\n$f_{vertexvalue}: \\mathcal{D} \\times \\mathbb{R}^d \\rightarrow \\mathcal{D} \\times \\mathbb{R}^q$ is a\nparticular field function that lets invariant the mesh of a field\nand defined by a function $h : \\mathbb{R}^n \\times \\mathbb{R}^d  \\rightarrow \\mathbb{R}^q$ such that:\n\n\\begin{align}\\begin{aligned} f_{vertexvalue}(\\underline{t}, \\underline{x})=(\\underline{t}, h(\\underline{t},\\underline{x}))\\end{aligned}\\end{align}\n\nLet's note that the input dimension of $f_{vertexvalue}$ still design the\ndimension of $\\underline{x}$ : $d$. Its output dimension is equal to $q$.\n\nThe creation of the *VertexValueFunction* object requires the\nfunction $h$ and the integer $n$: the dimension of the\nvertices of the mesh $\\mathcal{M}$.\n\nThis example illustrates the creation of a field from the function\n$h:\\mathbb{R}\\times\\mathbb{R}^2$ such as:\n\n\\begin{align}\\begin{aligned}\n      h(\\underline{t}, \\underline{x})=(t+x_1^2+x_2^2)\n   \\end{aligned}\\end{align}\n\n\n"
      ]
    },
    {
      "cell_type": "code",
      "execution_count": null,
      "metadata": {
        "collapsed": false
      },
      "outputs": [],
      "source": [
        "import openturns as ot\nimport openturns.viewer as viewer\nfrom matplotlib import pylab as plt\nimport math as m\not.Log.Show(ot.Log.NONE)"
      ]
    },
    {
      "cell_type": "markdown",
      "metadata": {},
      "source": [
        "Create a mesh\n\n"
      ]
    },
    {
      "cell_type": "code",
      "execution_count": null,
      "metadata": {
        "collapsed": false
      },
      "outputs": [],
      "source": [
        "N = 100\nmesh = ot.RegularGrid(0.0, 1.0, N)"
      ]
    },
    {
      "cell_type": "markdown",
      "metadata": {},
      "source": [
        "Create the function that acts the values of the mesh\n\n"
      ]
    },
    {
      "cell_type": "code",
      "execution_count": null,
      "metadata": {
        "collapsed": false
      },
      "outputs": [],
      "source": [
        "h = ot.SymbolicFunction(['t', 'x1', 'x2'],  ['t+x1^2+x2^2'])"
      ]
    },
    {
      "cell_type": "markdown",
      "metadata": {},
      "source": [
        "Create the field function\n\n"
      ]
    },
    {
      "cell_type": "code",
      "execution_count": null,
      "metadata": {
        "collapsed": false
      },
      "outputs": [],
      "source": [
        "f = ot.VertexValueFunction(h, mesh)"
      ]
    },
    {
      "cell_type": "markdown",
      "metadata": {},
      "source": [
        "Evaluate f\n\n"
      ]
    },
    {
      "cell_type": "code",
      "execution_count": null,
      "metadata": {
        "collapsed": false
      },
      "outputs": [],
      "source": [
        "inF = ot.Normal(2).getSample(N)\noutF = f(inF)\n\n# print input/output at first 10 mesh nodes\ntxy = mesh.getVertices()\ntxy.stack(inF)\ntxy.stack(outF)\ntxy[:10]"
      ]
    }
  ],
  "metadata": {
    "kernelspec": {
      "display_name": "Python 3",
      "language": "python",
      "name": "python3"
    },
    "language_info": {
      "codemirror_mode": {
        "name": "ipython",
        "version": 3
      },
      "file_extension": ".py",
      "mimetype": "text/x-python",
      "name": "python",
      "nbconvert_exporter": "python",
      "pygments_lexer": "ipython3",
      "version": "3.10.7"
    }
  },
  "nbformat": 4,
  "nbformat_minor": 0
}