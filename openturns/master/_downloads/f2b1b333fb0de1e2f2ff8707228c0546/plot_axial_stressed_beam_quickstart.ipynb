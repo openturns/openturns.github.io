{
  "cells": [
    {
      "cell_type": "markdown",
      "metadata": {},
      "source": [
        "\n# Estimate a probability with Monte-Carlo on axial stressed beam: a quick start guide to reliability\n"
      ]
    },
    {
      "cell_type": "markdown",
      "metadata": {},
      "source": [
        "The goal of this example is to show a simple practical example of\nprobability estimation in a reliability study with the `ProbabilitySimulationAlgorithm` class.\nThe `ThresholdEvent` is used to define the event. We use the Monte-Carlo\nmethod thanks to the `MonteCarloExperiment` class to estimate this probability and its confidence interval.\nWe use the `axial stressed beam <use-case-stressed-beam>` model as an illustrative example.\n\n"
      ]
    },
    {
      "cell_type": "markdown",
      "metadata": {},
      "source": [
        "## Definition of the model\n\n"
      ]
    },
    {
      "cell_type": "code",
      "execution_count": null,
      "metadata": {
        "collapsed": false
      },
      "outputs": [],
      "source": [
        "from openturns.usecases import stressed_beam\nimport openturns as ot\nimport numpy as np\nimport openturns.viewer as viewer\n\not.Log.Show(ot.Log.NONE)"
      ]
    },
    {
      "cell_type": "markdown",
      "metadata": {},
      "source": [
        "We load the model from the usecases module :\n\n"
      ]
    },
    {
      "cell_type": "code",
      "execution_count": null,
      "metadata": {
        "collapsed": false
      },
      "outputs": [],
      "source": [
        "sm = stressed_beam.AxialStressedBeam()"
      ]
    },
    {
      "cell_type": "markdown",
      "metadata": {},
      "source": [
        "The limit state function is defined as a symbolic function in the `model` parameter of the `AxialStressedBeam` data class:\n\n"
      ]
    },
    {
      "cell_type": "code",
      "execution_count": null,
      "metadata": {
        "collapsed": false
      },
      "outputs": [],
      "source": [
        "limitStateFunction = sm.model"
      ]
    },
    {
      "cell_type": "markdown",
      "metadata": {},
      "source": [
        "Before using the function within an algorithm, we check that the limit state function is correctly evaluated.\n\n"
      ]
    },
    {
      "cell_type": "code",
      "execution_count": null,
      "metadata": {
        "collapsed": false
      },
      "outputs": [],
      "source": [
        "x = [3.0e6, 750.0]\nprint(\"x=\", x)\nprint(\"G(x)=\", limitStateFunction(x))"
      ]
    },
    {
      "cell_type": "markdown",
      "metadata": {},
      "source": [
        "## Probabilistic model\n\n"
      ]
    },
    {
      "cell_type": "markdown",
      "metadata": {},
      "source": [
        "We load the first marginal, a univariate `LogNormal` distribution, parameterized by its mean and standard deviation:\n\n"
      ]
    },
    {
      "cell_type": "code",
      "execution_count": null,
      "metadata": {
        "collapsed": false
      },
      "outputs": [],
      "source": [
        "R = sm.distribution_R"
      ]
    },
    {
      "cell_type": "markdown",
      "metadata": {},
      "source": [
        "We draw the PDF of the first marginal.\n\n"
      ]
    },
    {
      "cell_type": "code",
      "execution_count": null,
      "metadata": {
        "collapsed": false
      },
      "outputs": [],
      "source": [
        "graph = R.drawPDF()\nview = viewer.View(graph)"
      ]
    },
    {
      "cell_type": "markdown",
      "metadata": {},
      "source": [
        "Our second marginal is a `Normal` univariate distribution:\n\n"
      ]
    },
    {
      "cell_type": "code",
      "execution_count": null,
      "metadata": {
        "collapsed": false
      },
      "outputs": [],
      "source": [
        "F = sm.distribution_F"
      ]
    },
    {
      "cell_type": "markdown",
      "metadata": {},
      "source": [
        "We draw the PDF of the second marginal.\n\n"
      ]
    },
    {
      "cell_type": "code",
      "execution_count": null,
      "metadata": {
        "collapsed": false
      },
      "outputs": [],
      "source": [
        "graph = F.drawPDF()\nview = viewer.View(graph)"
      ]
    },
    {
      "cell_type": "markdown",
      "metadata": {},
      "source": [
        "In order to create the input distribution, we use the `JointDistribution` class which associates\nthe distribution marginals and a copula.\nIf no copula is supplied to the constructor, it selects the independent copula as default.\nThat is implemented in the data class:\n\n"
      ]
    },
    {
      "cell_type": "code",
      "execution_count": null,
      "metadata": {
        "collapsed": false
      },
      "outputs": [],
      "source": [
        "myDistribution = sm.distribution"
      ]
    },
    {
      "cell_type": "markdown",
      "metadata": {},
      "source": [
        "We create a `RandomVector` from the `Distribution`, which will then be fed to the limit state function.\n\n"
      ]
    },
    {
      "cell_type": "code",
      "execution_count": null,
      "metadata": {
        "collapsed": false
      },
      "outputs": [],
      "source": [
        "inputRandomVector = ot.RandomVector(myDistribution)"
      ]
    },
    {
      "cell_type": "markdown",
      "metadata": {},
      "source": [
        "Finally we create a `CompositeRandomVector` by associating the limit state function with the input random vector.\n\n"
      ]
    },
    {
      "cell_type": "code",
      "execution_count": null,
      "metadata": {
        "collapsed": false
      },
      "outputs": [],
      "source": [
        "outputRandomVector = ot.CompositeRandomVector(limitStateFunction, inputRandomVector)"
      ]
    },
    {
      "cell_type": "markdown",
      "metadata": {},
      "source": [
        "## Exact computation\n\n"
      ]
    },
    {
      "cell_type": "markdown",
      "metadata": {},
      "source": [
        "The simplest method is to perform an exact computation based on the arithmetic of distributions.\n\n"
      ]
    },
    {
      "cell_type": "code",
      "execution_count": null,
      "metadata": {
        "collapsed": false
      },
      "outputs": [],
      "source": [
        "D = 0.02"
      ]
    },
    {
      "cell_type": "code",
      "execution_count": null,
      "metadata": {
        "collapsed": false
      },
      "outputs": [],
      "source": [
        "G = R - F / (D**2 / 4 * np.pi)"
      ]
    },
    {
      "cell_type": "code",
      "execution_count": null,
      "metadata": {
        "collapsed": false
      },
      "outputs": [],
      "source": [
        "G.computeCDF(0.0)"
      ]
    },
    {
      "cell_type": "markdown",
      "metadata": {},
      "source": [
        "This is the exact result from the description of this example.\n\n"
      ]
    },
    {
      "cell_type": "markdown",
      "metadata": {},
      "source": [
        "## Distribution of the output\n\n"
      ]
    },
    {
      "cell_type": "markdown",
      "metadata": {},
      "source": [
        "Plot the distribution of the output.\n\n"
      ]
    },
    {
      "cell_type": "code",
      "execution_count": null,
      "metadata": {
        "collapsed": false
      },
      "outputs": [],
      "source": [
        "sampleSize = 500\nsampleG = outputRandomVector.getSample(sampleSize)\ngraph = ot.HistogramFactory().build(sampleG).drawPDF()\nview = viewer.View(graph)"
      ]
    },
    {
      "cell_type": "markdown",
      "metadata": {},
      "source": [
        "## Estimate the probability with Monte-Carlo\n\n"
      ]
    },
    {
      "cell_type": "markdown",
      "metadata": {},
      "source": [
        "We first create a `ThresholdEvent` based on the output `RandomVector`, the operator and the threshold.\n\n"
      ]
    },
    {
      "cell_type": "code",
      "execution_count": null,
      "metadata": {
        "collapsed": false
      },
      "outputs": [],
      "source": [
        "myEvent = ot.ThresholdEvent(outputRandomVector, ot.Less(), 0.0)"
      ]
    },
    {
      "cell_type": "markdown",
      "metadata": {},
      "source": [
        "The `ProbabilitySimulationAlgorithm` is the main tool to estimate a probability.\nIt is based on a specific design of experiments: in this example, we use the simplest of all, the `MonteCarloExperiment`.\n\n"
      ]
    },
    {
      "cell_type": "code",
      "execution_count": null,
      "metadata": {
        "collapsed": false
      },
      "outputs": [],
      "source": [
        "maximumCoV = 0.05  # Coefficient of variation\nmaximumNumberOfBlocks = 100000\n\nexperiment = ot.MonteCarloExperiment()\nalgoMC = ot.ProbabilitySimulationAlgorithm(myEvent, experiment)\nalgoMC.setMaximumOuterSampling(maximumNumberOfBlocks)\nalgoMC.setBlockSize(1)\nalgoMC.setMaximumCoefficientOfVariation(maximumCoV)"
      ]
    },
    {
      "cell_type": "markdown",
      "metadata": {},
      "source": [
        "In order to gather statistics about the algorithm, we get the initial number of function calls\n(this is not mandatory, but will prove to be convenient later in the study).\n\n"
      ]
    },
    {
      "cell_type": "code",
      "execution_count": null,
      "metadata": {
        "collapsed": false
      },
      "outputs": [],
      "source": [
        "initialNumberOfCall = limitStateFunction.getEvaluationCallsNumber()"
      ]
    },
    {
      "cell_type": "markdown",
      "metadata": {},
      "source": [
        "Now comes the costly part: the `run` method performs the required simulations.\nThe algorithm stops when the coefficient of variation of the probability estimate becomes lower than 0.5.\n\n"
      ]
    },
    {
      "cell_type": "code",
      "execution_count": null,
      "metadata": {
        "collapsed": false
      },
      "outputs": [],
      "source": [
        "algoMC.run()"
      ]
    },
    {
      "cell_type": "markdown",
      "metadata": {},
      "source": [
        "We can then get the results of the algorithm.\n\n"
      ]
    },
    {
      "cell_type": "code",
      "execution_count": null,
      "metadata": {
        "collapsed": false
      },
      "outputs": [],
      "source": [
        "result = algoMC.getResult()\nprobability = result.getProbabilityEstimate()\nnumberOfFunctionEvaluations = (\n    limitStateFunction.getEvaluationCallsNumber() - initialNumberOfCall\n)\nprint(\"Number of calls to the limit state =\", numberOfFunctionEvaluations)\nprint(\"Pf = \", probability)\nprint(\"CV =\", result.getCoefficientOfVariation())"
      ]
    },
    {
      "cell_type": "markdown",
      "metadata": {},
      "source": [
        "The `drawProbabilityConvergence` method plots the probability estimate depending on the number of function evaluations.\nThe order of convergence is $O \\left( 1/N^2 \\right)$ with $N$ being the number of function evaluations.\nThis is why we use a logarithmic scale for the X axis of the graphics.\n\n"
      ]
    },
    {
      "cell_type": "code",
      "execution_count": null,
      "metadata": {
        "collapsed": false
      },
      "outputs": [],
      "source": [
        "graph = algoMC.drawProbabilityConvergence()\ngraph.setLogScale(ot.GraphImplementation.LOGX)\nview = viewer.View(graph)"
      ]
    },
    {
      "cell_type": "markdown",
      "metadata": {},
      "source": [
        "We see that the 95% confidence interval becomes smaller and smaller and stabilizes at the end of the simulation.\n\nIn order to compute the confidence interval, we use the `getConfidenceLength` method, which returns the length of the interval.\nIn order to compute the bounds of the interval, we divide this length by 2.\n\n"
      ]
    },
    {
      "cell_type": "code",
      "execution_count": null,
      "metadata": {
        "collapsed": false
      },
      "outputs": [],
      "source": [
        "alpha = 0.05"
      ]
    },
    {
      "cell_type": "code",
      "execution_count": null,
      "metadata": {
        "collapsed": false
      },
      "outputs": [],
      "source": [
        "pflen = result.getConfidenceLength(1 - alpha)\nprint(\n    \"%.2f%% confidence interval = [%f,%f]\"\n    % ((1 - alpha) * 100, probability - pflen / 2, probability + pflen / 2)\n)"
      ]
    },
    {
      "cell_type": "markdown",
      "metadata": {},
      "source": [
        "This interval is consistent with the exact probability $P_f=0.02920$.\n\n"
      ]
    },
    {
      "cell_type": "markdown",
      "metadata": {},
      "source": [
        "## Appendix: derivation of the failure probability\n\nThe failure probability is:\n\n\\begin{align}P_f = \\text{Prob}(R-S \\leq 0) = \\int_{r-s \\leq 0} f_{R, S}(r, s)drds\\end{align}\n\n\nwhere $f_{R, S}$ is the probability distribution function of the random vector $(R,S)$.\nIf R and S are independent, then:\n\n\\begin{align}f_{R, S}(r, s) = f_R(r) f_S(s)\\end{align}\n\n\nfor any $r,s\\in\\mathbb{R}$,\nwhere $f_S$ is the probability distribution function of the random\nvariable $S$ and $f_R$ is the probability distribution function of the random variable $R$.\nTherefore,\n\n\\begin{align}P_f = \\int_{r-s \\leq 0} f_R(r) f_S(s) drds.\\end{align}\n\n\nThis implies:\n\n\\begin{align}P_f = \\int_{-\\infty}^{+\\infty} \\left(\\int_{r \\leq s} f_R(r) dr \\right) f_S(s) ds.\\end{align}\n\nTherefore,\n\n\\begin{align}P_f = \\int_{-\\infty}^{+\\infty}f_S(s)F_R(s)ds\\end{align}\n\n\nwhere $F_R$ is the cumulative distribution function of the random variable $R$.\n\n\n"
      ]
    }
  ],
  "metadata": {
    "kernelspec": {
      "display_name": "Python 3",
      "language": "python",
      "name": "python3"
    },
    "language_info": {
      "codemirror_mode": {
        "name": "ipython",
        "version": 3
      },
      "file_extension": ".py",
      "mimetype": "text/x-python",
      "name": "python",
      "nbconvert_exporter": "python",
      "pygments_lexer": "ipython3",
      "version": "3.12.5"
    }
  },
  "nbformat": 4,
  "nbformat_minor": 0
}