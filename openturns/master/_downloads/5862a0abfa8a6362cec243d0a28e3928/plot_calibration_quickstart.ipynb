{
  "cells": [
    {
      "cell_type": "markdown",
      "metadata": {},
      "source": [
        "\n# Calibrate a parametric model: a quick-start guide to calibration\n\nIn this example we present the calibration of a parametric module.\nTo do this, we show how to define the observations.\nThen we create a Python function and create the parametric model that is\nto be calibrated.\nFinally, we calibrate the parameters of the model using least squares\nand we validate the hypotheses of the method.\n\nPlease read `code_calibration` for more details on code calibration and least squares.\nIn this example we are interested in the calibration of the `flooding model <use-case-flood-model>`.\nOnce the reader has mastered this example, the :doc:`calibration of the Chaboche mechanical model\n</auto_calibration/least_squares_and_gaussian_calibration/plot_calibration_chaboche>` may be\nconsidered to make an in-depth study of these algorithms.\nThe goal of this script is to be relatively small, so please consider reading\nthe other examples if this is relevant.\n"
      ]
    },
    {
      "cell_type": "markdown",
      "metadata": {},
      "source": [
        "## Parameters to calibrate and observations\n\nThe parametric model is:\n\n\\begin{align}H = a Q^b.\\end{align}\n\nThe vector of parameters to calibrate is:\n\n\\begin{align}\\theta = (a,b).\\end{align}\n\nWe consider a sample size equal to:\n\n\\begin{align}n = 10.\\end{align}\n\nThe observations are the couples $\\{(Q_i,H_i)\\}_{i=1,...,n}$, i.e. each observation is a\ncouple made of the flowrate and the corresponding river height.\n\nWe choose to calibrate this model using non linear least squares, because\nthis is a relatively flexible method.\n\n"
      ]
    },
    {
      "cell_type": "code",
      "execution_count": null,
      "metadata": {
        "collapsed": false
      },
      "outputs": [],
      "source": [
        "import openturns as ot\nimport openturns.viewer as otv\nfrom openturns.usecases import flood_model\n\not.Log.Show(ot.Log.NONE)"
      ]
    },
    {
      "cell_type": "markdown",
      "metadata": {},
      "source": [
        "## Define the observations\nIn practice, we generally use a data set which has been obtained from\nmeasurements.\nThis data set can be loaded using e.g. :meth:`~openturns.Sample.ImportFromCSVFile`.\nHere we import the data from the\n:class:`~openturns.usecases.flood_model.FloodModel`\nclass.\n\n"
      ]
    },
    {
      "cell_type": "code",
      "execution_count": null,
      "metadata": {
        "collapsed": false
      },
      "outputs": [],
      "source": [
        "fm = flood_model.FloodModel()\nQobs = fm.data[:, 0]\nHobs = fm.data[:, 1]\nnbobs = fm.data.getSize()\nfm.data"
      ]
    },
    {
      "cell_type": "markdown",
      "metadata": {},
      "source": [
        "## Create the physical model\nWe define the model $g$ which has 3 inputs and one output `H`.\nThis model has a parametric shape that may correspond to the data,\nwhich has some power shape.\nIn the model, the parameters are `a` and `b`, the input is `Q`\nand the output is `H`:\n- `Q` : the flowrate of the river,\n- `a`, `b` : the parameters.\n\n"
      ]
    },
    {
      "cell_type": "code",
      "execution_count": null,
      "metadata": {
        "collapsed": false
      },
      "outputs": [],
      "source": [
        "def functionSimpleFlooding(X):\n    Q, a, b = X\n    H = a * Q**b\n    return [H]\n\n\ng = ot.PythonFunction(3, 1, functionSimpleFlooding)\ng = ot.MemoizeFunction(g)\ng.setInputDescription([\"Q\", \"a\", \"b\"])\ng.setOutputDescription([\"H\"])"
      ]
    },
    {
      "cell_type": "markdown",
      "metadata": {},
      "source": [
        "## Setting the calibration parameters\n\n"
      ]
    },
    {
      "cell_type": "markdown",
      "metadata": {},
      "source": [
        "Define the value of the reference values of the $\\theta$ parameter.\nThere is no particular method to set these values: we used\ntrial-and-error to see the order of magnitude of the parameters.\n\n"
      ]
    },
    {
      "cell_type": "code",
      "execution_count": null,
      "metadata": {
        "collapsed": false
      },
      "outputs": [],
      "source": [
        "aInitial = 0.1\nbInitial = 0.5\nthetaPrior = [aInitial, bInitial]"
      ]
    },
    {
      "cell_type": "markdown",
      "metadata": {},
      "source": [
        "## Create the parametric function\nIn the physical model, the inputs and parameters are ordered as\npresented in the next table.\nNotice that there are no parameters in the physical model.\n\n+-------+----------------+\n| Index | Input variable |\n+=======+================+\n| 0     | Q              |\n+-------+----------------+\n| 1     | a              |\n+-------+----------------+\n| 2     | b              |\n+-------+----------------+\n\n+-------+-----------+\n| Index | Parameter |\n+=======+===========+\n| \u2205     | \u2205         |\n+-------+-----------+\n\n**Table 1.** Indices and names of the inputs and parameters of the physical model.\n\n\n"
      ]
    },
    {
      "cell_type": "code",
      "execution_count": null,
      "metadata": {
        "collapsed": false
      },
      "outputs": [],
      "source": [
        "print(\"Physical Model Inputs:\", g.getInputDescription())\nprint(\"Physical Model Parameters:\", g.getParameterDescription())"
      ]
    },
    {
      "cell_type": "markdown",
      "metadata": {},
      "source": [
        "In order to perform calibration, we have to define a parametric model,\nwith observed inputs and parameters to calibrate.\nIn order to do this, we create a :class:`~openturns.ParametricFunction`\nwhere the parameters are `a` and `b` which have the indices 1 and\nand 2 in the physical model.\nPlease read :doc:`Create a parametric function </auto_functional_modeling/vectorial_functions/plot_parametric_function>`\nfor more details on this topic.\n\n+-------+----------------+\n| Index | Input variable |\n+=======+================+\n| 0     | Q              |\n+-------+----------------+\n\n+-------+-----------+\n| Index | Parameter |\n+=======+===========+\n| 0     | a         |\n+-------+-----------+\n| 1     | b         |\n+-------+-----------+\n\n**Table 2.** Indices and names of the inputs and parameters of the parametric model.\n\n\n"
      ]
    },
    {
      "cell_type": "markdown",
      "metadata": {},
      "source": [
        "The following statement create the calibrated function from the model.\nThe calibrated parameters $a$, $b$ are at\nindices 1, 2 in the inputs arguments of the model.\n\n"
      ]
    },
    {
      "cell_type": "code",
      "execution_count": null,
      "metadata": {
        "collapsed": false
      },
      "outputs": [],
      "source": [
        "calibratedIndices = [1, 2]\nmycf = ot.ParametricFunction(g, calibratedIndices, thetaPrior)"
      ]
    },
    {
      "cell_type": "markdown",
      "metadata": {},
      "source": [
        "Plot the Y observations versus the X observations.\n\n"
      ]
    },
    {
      "cell_type": "code",
      "execution_count": null,
      "metadata": {
        "collapsed": false
      },
      "outputs": [],
      "source": [
        "title = \"Before calibration : a = %.4f, b = %.4f\" % (aInitial, bInitial)\ngraph = ot.Graph(title, \"Q\", \"H\", True)\n# Plot the model before calibration\ncurve = mycf.draw(100.0, 4000.0).getDrawable(0)\ncurve.setLegend(\"Model, before calibration\")\ngraph.add(curve)\n# Plot the noisy observations\ncloud = ot.Cloud(Qobs, Hobs)\ncloud.setLegend(\"Observations\")\ngraph.add(cloud)\n#\ngraph.setLegendPosition(\"upper left\")\nview = otv.View(graph)"
      ]
    },
    {
      "cell_type": "markdown",
      "metadata": {},
      "source": [
        "Wee see that the model does not fit to the data.\nThe goal of calibration is to find which parameter best fit to the\nobservations.\n\n"
      ]
    },
    {
      "cell_type": "markdown",
      "metadata": {},
      "source": [
        "## Calibration with non linear least squares\nThe :class:`~openturns.NonLinearLeastSquaresCalibration` class performs\nnon linear least squares calibration by minimizing the squared Euclidian norm\nbetween the predictions and the observations.\n\n"
      ]
    },
    {
      "cell_type": "code",
      "execution_count": null,
      "metadata": {
        "collapsed": false
      },
      "outputs": [],
      "source": [
        "algo = ot.NonLinearLeastSquaresCalibration(mycf, Qobs, Hobs, thetaPrior)"
      ]
    },
    {
      "cell_type": "markdown",
      "metadata": {},
      "source": [
        "The :meth:`~openturns.NonLinearLeastSquaresCalibration.run` method computes\nthe solution of the problem.\n\n"
      ]
    },
    {
      "cell_type": "code",
      "execution_count": null,
      "metadata": {
        "collapsed": false
      },
      "outputs": [],
      "source": [
        "algo.run()\ncalibrationResult = algo.getResult()"
      ]
    },
    {
      "cell_type": "markdown",
      "metadata": {},
      "source": [
        "## Analysis of the results\n\n"
      ]
    },
    {
      "cell_type": "markdown",
      "metadata": {},
      "source": [
        "The :meth:`~openturns.CalibrationResult.getParameterMAP` method returns the\nmaximum of the posterior distribution of $\\theta$.\n\n"
      ]
    },
    {
      "cell_type": "code",
      "execution_count": null,
      "metadata": {
        "collapsed": false
      },
      "outputs": [],
      "source": [
        "thetaMAP = calibrationResult.getParameterMAP()\nprint(thetaMAP)"
      ]
    },
    {
      "cell_type": "markdown",
      "metadata": {},
      "source": [
        "In order to see if the parameters fit the data,\nwe plot the input depending on the output before and after calibration.\n\n"
      ]
    },
    {
      "cell_type": "code",
      "execution_count": null,
      "metadata": {
        "collapsed": false
      },
      "outputs": [],
      "source": [
        "# sphinx_gallery_thumbnail_number = 2\ngraph = calibrationResult.drawObservationsVsInputs()\naEstimated, bEstimated = thetaMAP\ntitle = \"After calibration : a = %.4f, b = %.4f\" % (aEstimated, bEstimated)\ngraph.setTitle(title)\ngraph.setLegendPosition(\"upper left\")\nview = otv.View(graph)"
      ]
    },
    {
      "cell_type": "markdown",
      "metadata": {},
      "source": [
        "One of the hypotheses of the least squares method is that\nthe residuals follow a normal distribution: the next\ncell checks if this hypothesis is satisfied here.\n\n"
      ]
    },
    {
      "cell_type": "code",
      "execution_count": null,
      "metadata": {
        "collapsed": false
      },
      "outputs": [],
      "source": [
        "graph = calibrationResult.drawResiduals()\ngraph.setLegendPosition(\"upper left\")\nview = otv.View(graph)"
      ]
    },
    {
      "cell_type": "markdown",
      "metadata": {},
      "source": [
        "The analysis of the residuals shows that the distribution is centered on\nzero and symmetric.\nThis indicates that the calibration performed well.\nMoreover, the distribution of the residuals is close to being Gaussian.\n\n"
      ]
    },
    {
      "cell_type": "markdown",
      "metadata": {},
      "source": [
        "*Remark.* The logarithm of the height is:\n\n\\begin{align}\\log(H) = \\log(a) + b \\log(Q).\\end{align}\n\nHence, transforming the data on a logarithmic scale leads to a parametric\nmodel that is linear in the parameters.\nThe parameters of this transformed model can be estimated using linear\nlinear squares, which may lead to a significant improvement in terms\nof number of function evaluations.\n\n\n"
      ]
    },
    {
      "cell_type": "code",
      "execution_count": null,
      "metadata": {
        "collapsed": false
      },
      "outputs": [],
      "source": [
        "otv.View.ShowAll()"
      ]
    }
  ],
  "metadata": {
    "kernelspec": {
      "display_name": "Python 3",
      "language": "python",
      "name": "python3"
    },
    "language_info": {
      "codemirror_mode": {
        "name": "ipython",
        "version": 3
      },
      "file_extension": ".py",
      "mimetype": "text/x-python",
      "name": "python",
      "nbconvert_exporter": "python",
      "pygments_lexer": "ipython3",
      "version": "3.13.3"
    }
  },
  "nbformat": 4,
  "nbformat_minor": 0
}