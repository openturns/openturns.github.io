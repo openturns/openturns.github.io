{
  "cells": [
    {
      "cell_type": "code",
      "execution_count": null,
      "metadata": {
        "collapsed": false
      },
      "outputs": [],
      "source": [
        "%matplotlib inline"
      ]
    },
    {
      "cell_type": "markdown",
      "metadata": {},
      "source": [
        "\n# Probability estimation with importance sampling simulation on cantilever beam example\n"
      ]
    },
    {
      "cell_type": "markdown",
      "metadata": {},
      "source": [
        "In this example we estimate a failure probability with the importance sampling simulation algorithm provided by the `ImportanceSamplingExperiment` class. \n\nThe main steps of this method are:\n\n* run a FORM analysis,\n* create an importance distribution based on the results of the FORM results,\n* run a sampling-based probability estimate algorithm. \n\n\n## Description of the problem\n\nLet us consider the analytical example of a cantilever beam, with Young's modulus E, length L and section modulus I.\n\nOne end of the cantilever beam is built in a wall and we apply a concentrated bending load F at the other end of the beam, resulting in a deviation:\n\n\\begin{align}d = \\frac{FL^3}{3EI}\\end{align}\n\n\nFailure occurs when the beam deviation is too large:\n\n\\begin{align}d \\ge 30 (cm)\\end{align}\n\nFour independent random variables are considered:\n\n - E: Young's modulus [Pa]\n - F: load [N]\n - L: length [m]\n - I: section [m^4]\n\nStochastic model (simplified model, no units):\n\n - E ~ Beta(0.93, 2.27, 2.8e7, 4.8e7)\n - F ~ LogNormal(30000, 9000, 15000)\n - L ~ Uniform(250, 260)\n - I ~ Beta(2.5, 1.5, 3.1e2, 4.5e2)\n\n\n"
      ]
    },
    {
      "cell_type": "markdown",
      "metadata": {},
      "source": [
        "## Define the cantilever beam model\n\n"
      ]
    },
    {
      "cell_type": "code",
      "execution_count": null,
      "metadata": {
        "collapsed": false
      },
      "outputs": [],
      "source": [
        "from __future__ import print_function\nimport openturns as ot\nimport openturns.viewer as viewer\nfrom matplotlib import pylab as plt\not.Log.Show(ot.Log.NONE)"
      ]
    },
    {
      "cell_type": "markdown",
      "metadata": {},
      "source": [
        "Create the marginal distributions of the parameters\n\n"
      ]
    },
    {
      "cell_type": "code",
      "execution_count": null,
      "metadata": {
        "collapsed": false
      },
      "outputs": [],
      "source": [
        "dist_E = ot.Beta(0.93, 2.27, 2.8e7, 4.8e7)\ndist_F = ot.LogNormalMuSigma(30000, 9000, 15000).getDistribution()\ndist_L = ot.Uniform(250, 260)\ndist_I = ot.Beta(2.5, 1.5, 3.1e2, 4.5e2)\nmarginals = [dist_E, dist_F, dist_L, dist_I]"
      ]
    },
    {
      "cell_type": "markdown",
      "metadata": {},
      "source": [
        "Create the Copula\n\n"
      ]
    },
    {
      "cell_type": "code",
      "execution_count": null,
      "metadata": {
        "collapsed": false
      },
      "outputs": [],
      "source": [
        "RS = ot.CorrelationMatrix(4)\nRS[2, 3] = -0.2\n# Evaluate the correlation matrix of the Normal copula from RS\nR = ot.NormalCopula.GetCorrelationFromSpearmanCorrelation(RS)\n# Create the Normal copula parametrized by R\ncopula = ot.NormalCopula(R)"
      ]
    },
    {
      "cell_type": "markdown",
      "metadata": {},
      "source": [
        "Create the joint probability distribution\n\n"
      ]
    },
    {
      "cell_type": "code",
      "execution_count": null,
      "metadata": {
        "collapsed": false
      },
      "outputs": [],
      "source": [
        "distribution = ot.ComposedDistribution(marginals, copula)"
      ]
    },
    {
      "cell_type": "markdown",
      "metadata": {},
      "source": [
        "create the model\n\n"
      ]
    },
    {
      "cell_type": "code",
      "execution_count": null,
      "metadata": {
        "collapsed": false
      },
      "outputs": [],
      "source": [
        "model = ot.SymbolicFunction(['E', 'F', 'L', 'I'], ['F*L^3/(3*E*I)'])"
      ]
    },
    {
      "cell_type": "markdown",
      "metadata": {},
      "source": [
        "## Define the event\n\n"
      ]
    },
    {
      "cell_type": "markdown",
      "metadata": {},
      "source": [
        "We create the event whose probability we want to estimate.\n\n"
      ]
    },
    {
      "cell_type": "code",
      "execution_count": null,
      "metadata": {
        "collapsed": false
      },
      "outputs": [],
      "source": [
        "vect = ot.RandomVector(distribution)\nG = ot.CompositeRandomVector(model, vect)\nevent = ot.ThresholdEvent(G, ot.Greater(), 30.0)"
      ]
    },
    {
      "cell_type": "markdown",
      "metadata": {},
      "source": [
        "## Run a FORM analysis\n\n"
      ]
    },
    {
      "cell_type": "markdown",
      "metadata": {},
      "source": [
        "Define a solver\n\n"
      ]
    },
    {
      "cell_type": "code",
      "execution_count": null,
      "metadata": {
        "collapsed": false
      },
      "outputs": [],
      "source": [
        "optimAlgo = ot.Cobyla()\noptimAlgo.setMaximumEvaluationNumber(1000)\noptimAlgo.setMaximumAbsoluteError(1.0e-10)\noptimAlgo.setMaximumRelativeError(1.0e-10)\noptimAlgo.setMaximumResidualError(1.0e-10)\noptimAlgo.setMaximumConstraintError(1.0e-10)"
      ]
    },
    {
      "cell_type": "markdown",
      "metadata": {},
      "source": [
        "Run FORM\n\n"
      ]
    },
    {
      "cell_type": "code",
      "execution_count": null,
      "metadata": {
        "collapsed": false
      },
      "outputs": [],
      "source": [
        "algo = ot.FORM(optimAlgo, event, distribution.getMean())\nalgo.run()\nresult = algo.getResult()"
      ]
    },
    {
      "cell_type": "markdown",
      "metadata": {},
      "source": [
        "## Configure an importance sampling algorithm\n\n"
      ]
    },
    {
      "cell_type": "markdown",
      "metadata": {},
      "source": [
        "The `getStandardSpaceDesignPoint` method returns the design point in the U-space.\n\n"
      ]
    },
    {
      "cell_type": "code",
      "execution_count": null,
      "metadata": {
        "collapsed": false
      },
      "outputs": [],
      "source": [
        "standardSpaceDesignPoint = result.getStandardSpaceDesignPoint()\nstandardSpaceDesignPoint"
      ]
    },
    {
      "cell_type": "markdown",
      "metadata": {},
      "source": [
        "The key point is to define the importance distribution in the U-space. To define it, we use a multivariate standard Gaussian centered around the design point in the U-space.\n\n"
      ]
    },
    {
      "cell_type": "code",
      "execution_count": null,
      "metadata": {
        "collapsed": false
      },
      "outputs": [],
      "source": [
        "dimension = distribution.getDimension()\ndimension"
      ]
    },
    {
      "cell_type": "code",
      "execution_count": null,
      "metadata": {
        "collapsed": false
      },
      "outputs": [],
      "source": [
        "myImportance = ot.Normal(dimension)\nmyImportance.setMean(standardSpaceDesignPoint)\nmyImportance"
      ]
    },
    {
      "cell_type": "markdown",
      "metadata": {},
      "source": [
        "Create the design of experiment corresponding to importance sampling. This generates a `WeightedExperiment` with weights fitting to the importance distribution.\n\n"
      ]
    },
    {
      "cell_type": "code",
      "execution_count": null,
      "metadata": {
        "collapsed": false
      },
      "outputs": [],
      "source": [
        "experiment = ot.ImportanceSamplingExperiment(myImportance)\ntype(experiment)"
      ]
    },
    {
      "cell_type": "markdown",
      "metadata": {},
      "source": [
        "Create the standard event corresponding to the event. This pushes the original problem to the U-space, with Gaussian independent marginals. \n\n"
      ]
    },
    {
      "cell_type": "code",
      "execution_count": null,
      "metadata": {
        "collapsed": false
      },
      "outputs": [],
      "source": [
        "standardEvent = ot.StandardEvent(event)"
      ]
    },
    {
      "cell_type": "markdown",
      "metadata": {},
      "source": [
        "## Run the importance sampling simulation\n\n"
      ]
    },
    {
      "cell_type": "markdown",
      "metadata": {},
      "source": [
        "We then create the simulation algorithm. \n\n"
      ]
    },
    {
      "cell_type": "code",
      "execution_count": null,
      "metadata": {
        "collapsed": false
      },
      "outputs": [],
      "source": [
        "algo = ot.ProbabilitySimulationAlgorithm(standardEvent, experiment)\nalgo.setMaximumCoefficientOfVariation(0.1)\nalgo.setMaximumOuterSampling(40000)\nalgo.run()"
      ]
    },
    {
      "cell_type": "markdown",
      "metadata": {},
      "source": [
        "retrieve results\n\n"
      ]
    },
    {
      "cell_type": "code",
      "execution_count": null,
      "metadata": {
        "collapsed": false
      },
      "outputs": [],
      "source": [
        "result = algo.getResult()\nprobability = result.getProbabilityEstimate()\nprobability"
      ]
    },
    {
      "cell_type": "markdown",
      "metadata": {},
      "source": [
        "In order to compute the confidence interval, we use the `getConfidenceLength` method, which returns the length of the interval. In order to compute the bounds of the interval, we divide this length by 2.\n\n"
      ]
    },
    {
      "cell_type": "code",
      "execution_count": null,
      "metadata": {
        "collapsed": false
      },
      "outputs": [],
      "source": [
        "alpha = 0.05"
      ]
    },
    {
      "cell_type": "code",
      "execution_count": null,
      "metadata": {
        "collapsed": false
      },
      "outputs": [],
      "source": [
        "pflen = result.getConfidenceLength(1-alpha)\nprint(\"%.2f%% confidence interval = [%f,%f]\" % ((1-alpha)*100,probability-pflen/2,probability+pflen/2))"
      ]
    }
  ],
  "metadata": {
    "kernelspec": {
      "display_name": "Python 3",
      "language": "python",
      "name": "python3"
    },
    "language_info": {
      "codemirror_mode": {
        "name": "ipython",
        "version": 3
      },
      "file_extension": ".py",
      "mimetype": "text/x-python",
      "name": "python",
      "nbconvert_exporter": "python",
      "pygments_lexer": "ipython3",
      "version": "3.8.6"
    }
  },
  "nbformat": 4,
  "nbformat_minor": 0
}