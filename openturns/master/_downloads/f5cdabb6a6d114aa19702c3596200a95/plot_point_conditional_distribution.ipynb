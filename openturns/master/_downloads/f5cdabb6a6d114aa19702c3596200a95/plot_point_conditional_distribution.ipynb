{
  "cells": [
    {
      "cell_type": "markdown",
      "metadata": {},
      "source": [
        "\n# Create a Point Conditional Distribution\n"
      ]
    },
    {
      "cell_type": "markdown",
      "metadata": {},
      "source": [
        "In this example, we create distributions conditionned by a particular value of their marginals.\n\nWe consider the following cases:\n\n- Case 1:  Bivariate distribution with continuous marginals,\n- Case 2:  Bivariate distribution with continuous and discrete marginals,\n- Case 3:  Trivariate distribution with continuous and discrete marginals,\n- Case 4:  Extreme values conditioning.\n\nWe illustrate the fact that the range of the conditioned distribution is updated.\n\n"
      ]
    },
    {
      "cell_type": "code",
      "execution_count": null,
      "metadata": {
        "collapsed": false
      },
      "outputs": [],
      "source": [
        "import openturns as ot\nimport openturns.viewer as otv\nimport openturns.experimental as otexp\n\not.ResourceMap.SetAsString(\"Contour-DefaultColorMapNorm\", \"rank\")"
      ]
    },
    {
      "cell_type": "markdown",
      "metadata": {},
      "source": [
        "## Case 1: Bivariate distribution with continuous marginals\n\nHere, we consider the bivariate distribution of $(X_0, X_1)$ defined by:\n\n===========      ==================================================  ===============================\nVariable         Distribution                                        Parameter\n===========      ==================================================  ===============================\n$X_0$      :class:`~openturns.Gamma` ($k, \\lambda$)      $(k, \\lambda) = (5, 0.5)$\n$X_1$      :class:`~openturns.Student` ($\\nu$)           $\\nu = 5$\nCopula           :class:`~openturns.ClaytonCopula` ($\\theta$)  $\\theta = 2.5$\n===========      ==================================================  ===============================\n\nWe condition the marginal $X_1$ to be equal to its quantiles of order\n0.05, 0.5 and then 0.95. Then, we draw the resulting conditioned distribution of:\n\n\\begin{align}X_0 | X_1 = x_1\\end{align}\n\nWe define initial distribution of $(X_0, X_1)$.\n\n"
      ]
    },
    {
      "cell_type": "code",
      "execution_count": null,
      "metadata": {
        "collapsed": false
      },
      "outputs": [],
      "source": [
        "coll_marg = [ot.Gamma(5.0, 0.5), ot.Student(5.0)]\ncop = ot.ClaytonCopula(2.5)\ndist_X = ot.JointDistribution(coll_marg, cop)"
      ]
    },
    {
      "cell_type": "markdown",
      "metadata": {},
      "source": [
        "We draw the PDF of $(X_0, X_1)$.\n\n"
      ]
    },
    {
      "cell_type": "code",
      "execution_count": null,
      "metadata": {
        "collapsed": false
      },
      "outputs": [],
      "source": [
        "g_X = dist_X.drawPDF()\ng_X.setTitle(r\"$(X_0, X_1)$: iso-lines PDF\")\ng_X.setXTitle(r\"$x_0$\")\ng_X.setYTitle(r\"$x_1$\")"
      ]
    },
    {
      "cell_type": "markdown",
      "metadata": {},
      "source": [
        "We define the conditioned marginal, the list of the conditioning values and we create\nall the conditioned distributions, whose PDF we draw on the same graph.\n\nWe also print the updated range of the distribution of $X_0$.\n\n"
      ]
    },
    {
      "cell_type": "code",
      "execution_count": null,
      "metadata": {
        "collapsed": false
      },
      "outputs": [],
      "source": [
        "cond_indices = [1]\nq_list = [0.05, 0.5, 0.95]\ncond_value_list = [coll_marg[1].computeQuantile(q)[0] for q in q_list]\n\ng_cond = coll_marg[0].drawPDF()\ng_cond.setLegends([r\"dist of $X_0$\"])\nfor index, cond_value in enumerate(cond_value_list):\n    cond_value = cond_value_list[index]\n    cond_dist = otexp.PointConditionalDistribution(dist_X, cond_indices, [cond_value])\n    draw = cond_dist.drawPDF().getDrawable(0)\n    draw.setLegend(r\"$x_1 = q($\" + str(q_list[index]) + \")\")\n    g_cond.add(draw)\n    print(\n        \"Quantile of the cond value = \", q_list[index], \"Range : \", cond_dist.getRange()\n    )\n\ng_cond.setTitle(r\"PDF of $X_0|X_1 = x_1$\")\ng_cond.setColors(ot.Drawable.BuildDefaultPalette(len(q_list) + 1))"
      ]
    },
    {
      "cell_type": "markdown",
      "metadata": {},
      "source": [
        "We gather both graphs into one grid.\n\n"
      ]
    },
    {
      "cell_type": "code",
      "execution_count": null,
      "metadata": {
        "collapsed": false
      },
      "outputs": [],
      "source": [
        "grid = ot.GridLayout(1, 2)\ngrid.setGraph(0, 0, g_X)\ngrid.setGraph(0, 1, g_cond)\n# sphinx_gallery_thumbnail_number =  1\nview = otv.View(grid)"
      ]
    },
    {
      "cell_type": "markdown",
      "metadata": {},
      "source": [
        "## Case 2: Bivariate distribution with continuous and discrete marginals\n\nHere, we consider the bivariate distribution of $(X_0, X_1)$ defined by:\n\n===========      ==================================================  ===============================\nVariable         Distribution                                        Parameter\n===========      ==================================================  ===============================\n$X_0$      :class:`~openturns.Binomial` ($n,p$)          $(n,p) = (25, 0.2)$\n$X_1$      :class:`~openturns.Poisson` ($\\lambda$)       $\\lambda = 1$\nCopula           :class:`~openturns.GumbelCopula` ($\\theta$)   $\\theta = 2$\n===========      ==================================================  ===============================\n\nWe condition the marginal $X_1$ to be equal to its quantiles of order\n0.05, 0.5 and then 0.95. Then, we draw the resulting conditioned distribution of:\n\n\\begin{align}X_0 | X_1 = x_1\\end{align}\n\nWe go through the same steps as before.\n\n"
      ]
    },
    {
      "cell_type": "code",
      "execution_count": null,
      "metadata": {
        "collapsed": false
      },
      "outputs": [],
      "source": [
        "coll_marg = [ot.Binomial(25, 0.2), ot.Poisson(1.0)]\ncop = ot.GumbelCopula(2)\ndist_X = ot.JointDistribution(coll_marg, cop)"
      ]
    },
    {
      "cell_type": "markdown",
      "metadata": {},
      "source": [
        "We draw the PDF of $(X_0, X_1)$.\n\n"
      ]
    },
    {
      "cell_type": "code",
      "execution_count": null,
      "metadata": {
        "collapsed": false
      },
      "outputs": [],
      "source": [
        "g_X = dist_X.drawPDF()\ng_X.setTitle(r\"$(X_0, X_1)$: iso-lines PDF\")\ng_X.setXTitle(r\"$x_0$\")\ng_X.setYTitle(r\"$x_1$\")"
      ]
    },
    {
      "cell_type": "markdown",
      "metadata": {},
      "source": [
        "We define the conditioned marginal, the list of the conditioning values and we create\nall the conditioned distributions, whose PDF we draw on the same graph. To make them all visible,\nwe artificially shifted the discrete distributions by a factor 0.1, 0.2 and 0.3.\n\nWe also print the updated range of the distribution of $X_0$.\n\n"
      ]
    },
    {
      "cell_type": "code",
      "execution_count": null,
      "metadata": {
        "collapsed": false
      },
      "outputs": [],
      "source": [
        "cond_value_list = [coll_marg[1].computeQuantile(q)[0] for q in q_list]\n\ng_cond = coll_marg[0].drawPDF()\ng_cond.setLegends([r\"dist of $X_0$\"])\nfor index, cond_value in enumerate(cond_value_list):\n    cond_value = cond_value_list[index]\n    cond_dist = otexp.PointConditionalDistribution(dist_X, cond_indices, [cond_value])\n    # Here, we shift the distribution to make it visible!\n    draw = ((index / 10.0) + cond_dist).drawPDF().getDrawable(0)\n    draw.setLegend(r\"$x_1 = q($\" + str(q_list[index]) + \")\")\n    g_cond.add(draw)\n    print(\n        \"Quantile of the cond value = \", q_list[index], \"Range : \", cond_dist.getRange()\n    )\n\ng_cond.setTitle(r\"PDF of $X_0|X_1 = x_1$\")\ng_cond.setLegendPosition(\"topleft\")\ng_cond.setColors(ot.Drawable.BuildDefaultPalette(len(q_list) + 1))"
      ]
    },
    {
      "cell_type": "markdown",
      "metadata": {},
      "source": [
        "We gather both graphs into one grid.\n\n"
      ]
    },
    {
      "cell_type": "code",
      "execution_count": null,
      "metadata": {
        "collapsed": false
      },
      "outputs": [],
      "source": [
        "grid = ot.GridLayout(1, 2)\ngrid.setGraph(0, 0, g_X)\ngrid.setGraph(0, 1, g_cond)\nview = otv.View(grid)"
      ]
    },
    {
      "cell_type": "markdown",
      "metadata": {},
      "source": [
        "## Case 3: Trivariate distribution with continuous and discrete marginals\n\nHere, we consider the trivariate distribution of $(X_0, X_1, X_2)$ defined by:\n\n===========      ==================================================  ===============================\nVariable         Distribution                                        Parameter\n===========      ==================================================  ===============================\n$X_0$      :class:`~openturns.Normal` ($\\mu, \\sigma$)    $(\\mu, \\sigma) = (0,1)$\n$X_1$      :class:`~openturns.Poisson` ($\\lambda$)       $\\lambda = 1$\n$X_2$      :class:`~openturns.Uniform` ($a,b$)           $(a,b) = (-1, 1)$\nCopula           :class:`~openturns.NormalCopula` ($\\mat{R}$)  see below\n===========      ==================================================  ===============================\n\nwhere the correlation matrix $\\mat{R}$ of the normal copula is defined by:\n\n\\begin{align}R = \\left( \\begin{array}{ccc}\n      1 & 0.2 & 0.7 \\\\\n      0.2 & 1 & -0.5 \\\\\n      0.7 & -0.5 & 1\n      \\end{array} \\right)\\end{align}\n\nWe condition the marginal $X_1$ to be equal to its quantiles of order\n0.05, 0.5 and then 0.95. Then, we draw the resulting bivariate conditioned distribution of:\n\n\\begin{align}(X_0,X_2) | X_1 = x_1\\end{align}\n\nWe go through the same steps as before.\n\n"
      ]
    },
    {
      "cell_type": "code",
      "execution_count": null,
      "metadata": {
        "collapsed": false
      },
      "outputs": [],
      "source": [
        "coll_marg = [ot.Normal(), ot.Poisson(1.0), ot.Uniform()]\nR = ot.CorrelationMatrix(3)\nR[0, 1] = 0.2\nR[0, 2] = 0.7\nR[1, 2] = -0.5\ncop = ot.NormalCopula(R)\ndist_X = ot.JointDistribution(coll_marg, cop)"
      ]
    },
    {
      "cell_type": "markdown",
      "metadata": {},
      "source": [
        "We draw the distribution of $(X_0, X_2)$.\n\n"
      ]
    },
    {
      "cell_type": "code",
      "execution_count": null,
      "metadata": {
        "collapsed": false
      },
      "outputs": [],
      "source": [
        "g_X02 = dist_X.getMarginal([0, 2]).drawPDF([-4.0, -1.0], [4.0, 1.0], [256] * 2)\ncontour = g_X02.getDrawable(0).getImplementation()\ncontour.setIsFilled(True)\ncontour.buildDefaultLevels(50)\ng_X02.setDrawable(contour, 0)\ng_X02.setTitle(r\"$(X_0, X_2)$: iso-lines PDF\")"
      ]
    },
    {
      "cell_type": "markdown",
      "metadata": {},
      "source": [
        "We draw all the conditioned distributions $(X_0, X_2)|X_1 = x_1$.\n\n"
      ]
    },
    {
      "cell_type": "code",
      "execution_count": null,
      "metadata": {
        "collapsed": false
      },
      "outputs": [],
      "source": [
        "cond_value_list = [coll_marg[1].computeQuantile(q)[0] for q in q_list]\ngraph_list = list()\ngraph_list.append(g_X02)\n\nfor index, cond_value in enumerate(cond_value_list):\n    cond_value = cond_value_list[index]\n    cond_dist = otexp.PointConditionalDistribution(dist_X, cond_indices, [cond_value])\n    g_cond = cond_dist.drawPDF([-4.0, -1.0], [4.0, 1.0], [256] * 2)\n    contour = g_cond.getDrawable(0).getImplementation()\n    contour.setIsFilled(True)\n    contour.buildDefaultLevels(50)\n    g_cond.setDrawable(contour, 0)\n    g_cond.setTitle(r\"$(X_0, X_2)|X_1 = q($\" + str(q_list[index]) + \"): iso-lines PDF\")\n    g_cond.setXTitle(r\"$x_0$\")\n    g_cond.setYTitle(r\"$x_2$\")\n    graph_list.append(g_cond)\n    print(\"Quantile of the cond value = \", q_list[index])\n    print(\"Range :\\n\", cond_dist.getRange())"
      ]
    },
    {
      "cell_type": "markdown",
      "metadata": {},
      "source": [
        "We gather both graphs into one grid.\n\n"
      ]
    },
    {
      "cell_type": "code",
      "execution_count": null,
      "metadata": {
        "collapsed": false
      },
      "outputs": [],
      "source": [
        "grid = ot.GridLayout(2, 2)\ngrid.setGraph(0, 0, graph_list[0])\ngrid.setGraph(0, 1, graph_list[1])\ngrid.setGraph(1, 0, graph_list[2])\ngrid.setGraph(1, 1, graph_list[3])\nview = otv.View(grid)"
      ]
    },
    {
      "cell_type": "markdown",
      "metadata": {},
      "source": [
        "## Case 4: Extreme values conditioning\n\nHere, we show that it is possible to condition one marginal to a value which is outside its numerical range.\nBe careful that the conditioning value still must be in the theoretical range of the distribution!\n\nWe consider the bivariate  distribution of $(X_0, X_1)$ defined by:\n\n===========      ==================================================  ===============================\nVariable         Distribution                                        Parameter\n===========      ==================================================  ===============================\n$X_0$      :class:`~openturns.Normal` ($\\mu, \\sigma$)    $(\\mu, \\sigma) = (0,1)$\n$X_1$      :class:`~openturns.Normal` ($\\mu, \\sigma$)    $(\\mu, \\sigma) = (0,1)$\nCopula           :class:`~openturns.ClaytonCopula` ($\\theta$)  $\\theta = 2$\n===========      ==================================================  ===============================\n\nWe condition the marginal $X_1$ to be equal to the value $x_1 = -9$, which\nis outside the numerical range of its distribution: $[-7.65063, +7.65063]$,\nbut inside the theoretical range which is $\\Rset$.\n\nWe draw the distribution of:\n\n\\begin{align}X_0 | X_1 = -9.0\\end{align}\n\n\n"
      ]
    },
    {
      "cell_type": "code",
      "execution_count": null,
      "metadata": {
        "collapsed": false
      },
      "outputs": [],
      "source": [
        "dist_X = ot.JointDistribution([ot.Normal(), ot.Normal()], ot.ClaytonCopula(2.0))\ncond_dist = otexp.PointConditionalDistribution(dist_X, [1], [-9.0])\n\ng_cond = cond_dist.drawPDF(-10.0, -8.0, 256)\ng_cond.setTitle(r\"$X_0|X_1 = -9$: iso-lines PDF\")\ng_cond.setXTitle(r\"$x_0$\")\ng_cond.setLegendPosition(\"\")\nview = otv.View(g_cond)"
      ]
    },
    {
      "cell_type": "markdown",
      "metadata": {},
      "source": [
        "We print the updated numerical range of $X_0| X_1 = -9.0$. We note that it has moved into\n$[-11.76, -0.82]$ which is not included in the numerical range of $X_0$.\n\n"
      ]
    },
    {
      "cell_type": "code",
      "execution_count": null,
      "metadata": {
        "collapsed": false
      },
      "outputs": [],
      "source": [
        "print(\"Range of X0|X1 = -9.0 :\\n\", cond_dist.getRange())"
      ]
    },
    {
      "cell_type": "code",
      "execution_count": null,
      "metadata": {
        "collapsed": false
      },
      "outputs": [],
      "source": [
        "view.ShowAll()"
      ]
    }
  ],
  "metadata": {
    "kernelspec": {
      "display_name": "Python 3",
      "language": "python",
      "name": "python3"
    },
    "language_info": {
      "codemirror_mode": {
        "name": "ipython",
        "version": 3
      },
      "file_extension": ".py",
      "mimetype": "text/x-python",
      "name": "python",
      "nbconvert_exporter": "python",
      "pygments_lexer": "ipython3",
      "version": "3.13.7"
    }
  },
  "nbformat": 4,
  "nbformat_minor": 0
}