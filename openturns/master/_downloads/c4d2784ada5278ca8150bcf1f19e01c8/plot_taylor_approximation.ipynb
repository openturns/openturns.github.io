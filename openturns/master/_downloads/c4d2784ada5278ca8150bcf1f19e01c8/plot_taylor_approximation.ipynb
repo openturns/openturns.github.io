{
  "cells": [
    {
      "cell_type": "code",
      "execution_count": null,
      "metadata": {
        "collapsed": false
      },
      "outputs": [],
      "source": [
        "%matplotlib inline"
      ]
    },
    {
      "cell_type": "markdown",
      "metadata": {},
      "source": [
        "\n# Taylor approximations\n"
      ]
    },
    {
      "cell_type": "markdown",
      "metadata": {},
      "source": [
        "In this example we are going to build a local approximation of a model using the taylor decomposition:\n\nHere is the decomposition at the first order:\n\n\\begin{align}\\underline{y} \\, \\approx \\, \\widehat{h}(\\underline{x}) \\,\n         = \\, h(\\underline{x}_0) \\, +\n        \\, \\sum_{i=1}^{n_{X}} \\; \\frac{\\partial h}{\\partial x_i}(\\underline{x}_0).\\left(x_i - x_{0,i} \\right)\\end{align}\n\n\nHere $h(x) = [cos(x_1 + x_2), (x2 + 1)* e^{x_1 - 2* x_2}]$.\n\n\n"
      ]
    },
    {
      "cell_type": "code",
      "execution_count": null,
      "metadata": {
        "collapsed": false
      },
      "outputs": [],
      "source": [
        "from __future__ import print_function\nimport openturns as ot\nimport openturns.viewer as viewer\nfrom matplotlib import pylab as plt\not.Log.Show(ot.Log.NONE)\n\n# prepare some data\nformulas = ['cos(x1 + x2)', '(x2 + 1) * exp(x1 - 2 * x2)']\nmodel = ot.SymbolicFunction(['x1', 'x2'], formulas)\n\n# center of the approximation\nx0 = [-0.4, -0.4]\n\n# drawing bounds\na = -0.4\nb = 0.0"
      ]
    },
    {
      "cell_type": "markdown",
      "metadata": {},
      "source": [
        "create a linear (first order) Taylor approximation\n\n"
      ]
    },
    {
      "cell_type": "code",
      "execution_count": null,
      "metadata": {
        "collapsed": false
      },
      "outputs": [],
      "source": [
        "algo = ot.LinearTaylor(x0, model)\nalgo.run()\nresponseSurface = algo.getMetaModel()"
      ]
    },
    {
      "cell_type": "markdown",
      "metadata": {},
      "source": [
        "plot 2nd output of our model with x1=x0_1\n\n"
      ]
    },
    {
      "cell_type": "code",
      "execution_count": null,
      "metadata": {
        "collapsed": false
      },
      "outputs": [],
      "source": [
        "graph = ot.ParametricFunction(\n    responseSurface, [0], [x0[1]]).getMarginal(1).draw(a, b)\ngraph.setLegends(['taylor'])\ncurve = ot.ParametricFunction(model, [0], [x0[1]]).getMarginal(\n    1).draw(a, b).getDrawable(0)\ncurve.setColor('red')\ncurve.setLegend('model')\ngraph.add(curve)\ngraph.setLegendPosition('topright')\nview = viewer.View(graph)"
      ]
    },
    {
      "cell_type": "markdown",
      "metadata": {},
      "source": [
        "Here is the decomposition at the second order:\n\n\\begin{align}\\underline{y} \\, \\approx \\, \\widehat{h}(\\underline{x}) \\, = \\,\n        h(\\underline{x}_0) \\, + \\, \\sum_{i=1}^{n_{X}} \\;\n      \\frac{\\partial h}{\\partial x_i}(\\underline{x}_0).\\left(x_i - x_{0,i} \\right) \\, +\n     \\, \\frac{1}{2} \\; \\sum_{i,j=1}^{n_X} \\;\n      \\frac{\\partial^2 h}{\\partial x_i \\partial x_j}(\\underline{x}_0).\\left(x_i - x_{0,i} \\right).\\left(x_j - x_{0,j} \\right):math:``\\end{align}\n\n"
      ]
    },
    {
      "cell_type": "markdown",
      "metadata": {},
      "source": [
        "create a quadratic (2nd order) Taylor approximation\n\n"
      ]
    },
    {
      "cell_type": "code",
      "execution_count": null,
      "metadata": {
        "collapsed": false
      },
      "outputs": [],
      "source": [
        "algo = ot.QuadraticTaylor(x0, model)\nalgo.run()\nresponseSurface = algo.getMetaModel()"
      ]
    },
    {
      "cell_type": "markdown",
      "metadata": {},
      "source": [
        "plot 2nd output of our model with x1=x0_1\n\n"
      ]
    },
    {
      "cell_type": "code",
      "execution_count": null,
      "metadata": {
        "collapsed": false
      },
      "outputs": [],
      "source": [
        "graph = ot.ParametricFunction(\n    responseSurface, [0], [x0[1]]).getMarginal(1).draw(a, b)\ngraph.setLegends(['taylor'])\ncurve = ot.ParametricFunction(model, [0], [x0[1]]).getMarginal(\n    1).draw(a, b).getDrawable(0)\ncurve.setColor('red')\ncurve.setLegend('model')\ngraph.add(curve)\ngraph.setLegendPosition('topright')\nview = viewer.View(graph)\nplt.show()"
      ]
    }
  ],
  "metadata": {
    "kernelspec": {
      "display_name": "Python 3",
      "language": "python",
      "name": "python3"
    },
    "language_info": {
      "codemirror_mode": {
        "name": "ipython",
        "version": 3
      },
      "file_extension": ".py",
      "mimetype": "text/x-python",
      "name": "python",
      "nbconvert_exporter": "python",
      "pygments_lexer": "ipython3",
      "version": "3.10.1"
    }
  },
  "nbformat": 4,
  "nbformat_minor": 0
}