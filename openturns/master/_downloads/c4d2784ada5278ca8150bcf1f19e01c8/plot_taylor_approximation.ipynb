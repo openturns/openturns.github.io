{
  "cells": [
    {
      "cell_type": "markdown",
      "metadata": {},
      "source": [
        "\n# Taylor approximations\n"
      ]
    },
    {
      "cell_type": "markdown",
      "metadata": {},
      "source": [
        "In this example we build a local approximation of a model using the\nTaylor decomposition with the :class:`~openturns.LinearTaylor` class.\n\nWe consider the function $\\vect{h} : \\Rset^2 \\rightarrow \\Rset^2$ defined by:\n\n\\begin{align}\\vect{h}(\\vect{x}) = \\Tr{\\left( \\cos(x_1 + x_2), (x_2 + 1) e^{x_1 - 2 x_2} \\right)}.\\end{align}\n\nfor any $\\vect{x} \\in \\Rset^2$.\nThe metamodel $\\widehat{\\vect{h}}$ is an approximation of the model $\\vect{h}$:\n\n\\begin{align}\\vect{y} \\approx \\widehat{\\vect{h}}(\\vect{x})\\end{align}\n\nfor any $\\vect{x} \\in \\Rset^2$. We note  $h_k$, $k=1, 2$ the marginal outputs\nIn this example, we consider two different approximations:\n\n- the first order Taylor expansion,\n- the second order Taylor expansion.\n\n"
      ]
    },
    {
      "cell_type": "code",
      "execution_count": null,
      "metadata": {
        "collapsed": false
      },
      "outputs": [],
      "source": [
        "import openturns as ot\nimport openturns.viewer as viewer\nfrom matplotlib import pylab as plt\n\not.Log.Show(ot.Log.NONE)"
      ]
    },
    {
      "cell_type": "markdown",
      "metadata": {},
      "source": [
        "## Define the model\n\n"
      ]
    },
    {
      "cell_type": "markdown",
      "metadata": {},
      "source": [
        "Prepare some data.\n\n"
      ]
    },
    {
      "cell_type": "code",
      "execution_count": null,
      "metadata": {
        "collapsed": false
      },
      "outputs": [],
      "source": [
        "formulas = [\"cos(x1 + x2)\", \"(x2 + 1) * exp(x1 - 2 * x2)\"]\nmodel = ot.SymbolicFunction([\"x1\", \"x2\"], formulas)"
      ]
    },
    {
      "cell_type": "markdown",
      "metadata": {},
      "source": [
        "Center of the approximation.\n\n"
      ]
    },
    {
      "cell_type": "code",
      "execution_count": null,
      "metadata": {
        "collapsed": false
      },
      "outputs": [],
      "source": [
        "x0 = [-0.4, -0.4]"
      ]
    },
    {
      "cell_type": "markdown",
      "metadata": {},
      "source": [
        "Drawing bounds.\n\n"
      ]
    },
    {
      "cell_type": "code",
      "execution_count": null,
      "metadata": {
        "collapsed": false
      },
      "outputs": [],
      "source": [
        "a = -0.4\nb = 0.0"
      ]
    },
    {
      "cell_type": "markdown",
      "metadata": {},
      "source": [
        "## First order Taylor expansion\n\n"
      ]
    },
    {
      "cell_type": "markdown",
      "metadata": {},
      "source": [
        "Let $\\vect{x}_0 \\in \\Rset^2$ be a reference point where\nthe linear approximation is evaluated.\nThe first order Taylor expansion of the output marginal $h_k$ is:\n\n\\begin{align}\\widehat{h_k}(\\vect{x}) = h_k(\\vect{x}_0) +\n     \\sum_{i=1}^{2} \\frac{\\partial h_k}{\\partial x_i}(\\vect{x}_0) \\left(x_i - x_{0,i} \\right)\\end{align}\n\nfor any $\\vect{x} \\in \\Rset^2$.\n\n"
      ]
    },
    {
      "cell_type": "markdown",
      "metadata": {},
      "source": [
        "Create a linear (first-order) Taylor approximation.\n\n"
      ]
    },
    {
      "cell_type": "code",
      "execution_count": null,
      "metadata": {
        "collapsed": false
      },
      "outputs": [],
      "source": [
        "algo = ot.LinearTaylor(x0, model)\nalgo.run()\nresponseSurface = algo.getMetaModel()"
      ]
    },
    {
      "cell_type": "markdown",
      "metadata": {},
      "source": [
        "Plot the second output of our model with $x_1=x_{0,1}$.\n\n"
      ]
    },
    {
      "cell_type": "code",
      "execution_count": null,
      "metadata": {
        "collapsed": false
      },
      "outputs": [],
      "source": [
        "graph = ot.ParametricFunction(model, [0], [x0[1]]).getMarginal(1).draw(a, b)\ngraph.setLegends([\"Model\"])\ncurve = (\n    ot.ParametricFunction(responseSurface, [0], [x0[1]])\n    .getMarginal(1)\n    .draw(a, b)\n    .getDrawable(0)\n)\ncurve.setLegend(\"Taylor\")\ncurve.setLineStyle(\"dashed\")\ngraph.add(curve)\ngraph.setLegendPosition(\"upper right\")\ngraph.setColors(ot.Drawable.BuildDefaultPalette(2))\nview = viewer.View(graph)"
      ]
    },
    {
      "cell_type": "markdown",
      "metadata": {},
      "source": [
        "## Second order Taylor expansion\n\n"
      ]
    },
    {
      "cell_type": "markdown",
      "metadata": {},
      "source": [
        "Let $\\vect{x}_0 \\in \\Rset^2$ be a reference point where\nthe quadratic approximation is evaluated.\nThe second order Taylor expansion of the output marginal $h_k$ is:\n\n\\begin{align}\\widehat{h_k}(\\vect{x}) = h_k(\\vect{x}_0) + \\sum_{i=1}^{2}\n    \\frac{\\partial h_k}{\\partial x_i}(\\vect{x}_0) \\left(x_i - x_{0,i} \\right) +\n    \\frac{1}{2} \\sum_{i,j=1}^{2}\n    \\frac{\\partial^2 h_k}{\\partial x_i \\partial x_j}(\\vect{x}_0) \\left(x_i - x_{0,i} \\right) \\left(x_j - x_{0,j} \\right)\\end{align}\n\nfor any $\\vect{x} \\in \\Rset^2$.\n\n"
      ]
    },
    {
      "cell_type": "markdown",
      "metadata": {},
      "source": [
        "Create a quadratic (second-order) Taylor approximation.\n\n"
      ]
    },
    {
      "cell_type": "code",
      "execution_count": null,
      "metadata": {
        "collapsed": false
      },
      "outputs": [],
      "source": [
        "algo = ot.QuadraticTaylor(x0, model)\nalgo.run()\nresponseSurface = algo.getMetaModel()"
      ]
    },
    {
      "cell_type": "markdown",
      "metadata": {},
      "source": [
        "Plot second output of our model with $x_1=x_{0,1}$.\n\n"
      ]
    },
    {
      "cell_type": "code",
      "execution_count": null,
      "metadata": {
        "collapsed": false
      },
      "outputs": [],
      "source": [
        "graph = ot.ParametricFunction(model, [0], [x0[1]]).getMarginal(1).draw(a, b)\ngraph.setLegends([\"Model\"])\ncurve = (\n    ot.ParametricFunction(responseSurface, [0], [x0[1]])\n    .getMarginal(1)\n    .draw(a, b)\n    .getDrawable(0)\n)\ncurve.setLegend(\"Taylor\")\ncurve.setLineStyle(\"dashed\")\ngraph.add(curve)\ngraph.setLegendPosition(\"upper right\")\ngraph.setColors(ot.Drawable.BuildDefaultPalette(2))\nview = viewer.View(graph)\nplt.show()"
      ]
    }
  ],
  "metadata": {
    "kernelspec": {
      "display_name": "Python 3",
      "language": "python",
      "name": "python3"
    },
    "language_info": {
      "codemirror_mode": {
        "name": "ipython",
        "version": 3
      },
      "file_extension": ".py",
      "mimetype": "text/x-python",
      "name": "python",
      "nbconvert_exporter": "python",
      "pygments_lexer": "ipython3",
      "version": "3.12.7"
    }
  },
  "nbformat": 4,
  "nbformat_minor": 0
}