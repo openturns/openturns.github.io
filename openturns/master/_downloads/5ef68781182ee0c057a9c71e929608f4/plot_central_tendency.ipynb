{
  "cells": [
    {
      "cell_type": "code",
      "execution_count": null,
      "metadata": {
        "collapsed": false
      },
      "outputs": [],
      "source": [
        "%matplotlib inline"
      ]
    },
    {
      "cell_type": "markdown",
      "metadata": {},
      "source": [
        "\n# Analyse the central tendency of a cantilever beam\n"
      ]
    },
    {
      "cell_type": "markdown",
      "metadata": {},
      "source": [
        "In this example we perform a central tendency analysis of a random variable Y using the various methods available. We consider the `cantilever beam <use-case-cantilever-beam>` example and show how to use the `TaylorExpansionMoments` and `ExpectationSimulationAlgorithm` classes.\n\n"
      ]
    },
    {
      "cell_type": "code",
      "execution_count": null,
      "metadata": {
        "collapsed": false
      },
      "outputs": [],
      "source": [
        "from openturns.usecases import cantilever_beam\nimport openturns as ot\nimport openturns.viewer as viewer\nfrom matplotlib import pylab as plt\n\not.Log.Show(ot.Log.NONE)"
      ]
    },
    {
      "cell_type": "markdown",
      "metadata": {},
      "source": [
        "We first load the data class from the usecases module :\n\n"
      ]
    },
    {
      "cell_type": "code",
      "execution_count": null,
      "metadata": {
        "collapsed": false
      },
      "outputs": [],
      "source": [
        "cb = cantilever_beam.CantileverBeam()"
      ]
    },
    {
      "cell_type": "markdown",
      "metadata": {},
      "source": [
        "We want to create the random variable of interest $Y=g(X)$ where $g(.)$ is the physical model and $X$ is the input vectors.\n\nWe create the input parameters distribution and make a random vector.\nFor the sake of this example, we consider an independent copula.\n\n"
      ]
    },
    {
      "cell_type": "code",
      "execution_count": null,
      "metadata": {
        "collapsed": false
      },
      "outputs": [],
      "source": [
        "distribution = ot.ComposedDistribution([cb.E, cb.F, cb.L, cb.II])\nX = ot.RandomVector(distribution)\nX.setDescription([\"E\", \"F\", \"L\", \"I\"])"
      ]
    },
    {
      "cell_type": "markdown",
      "metadata": {},
      "source": [
        "`f` is the cantilever beam model :\n\n"
      ]
    },
    {
      "cell_type": "code",
      "execution_count": null,
      "metadata": {
        "collapsed": false
      },
      "outputs": [],
      "source": [
        "f = cb.model"
      ]
    },
    {
      "cell_type": "markdown",
      "metadata": {},
      "source": [
        "The random variable of interest Y is then\n\n"
      ]
    },
    {
      "cell_type": "code",
      "execution_count": null,
      "metadata": {
        "collapsed": false
      },
      "outputs": [],
      "source": [
        "Y = ot.CompositeRandomVector(f, X)\nY.setDescription(\"Y\")"
      ]
    },
    {
      "cell_type": "markdown",
      "metadata": {},
      "source": [
        "## Taylor expansion\n\n"
      ]
    },
    {
      "cell_type": "markdown",
      "metadata": {},
      "source": [
        "Perform Taylor approximation to get the expected value of Y and the importance factors.\n\n"
      ]
    },
    {
      "cell_type": "code",
      "execution_count": null,
      "metadata": {
        "collapsed": false
      },
      "outputs": [],
      "source": [
        "taylor = ot.TaylorExpansionMoments(Y)\ntaylor_mean_fo = taylor.getMeanFirstOrder()\ntaylor_mean_so = taylor.getMeanSecondOrder()\ntaylor_cov = taylor.getCovariance()\ntaylor_if = taylor.getImportanceFactors()\nprint(\"model evaluation calls number=\", f.getGradientCallsNumber())\nprint(\"model gradient calls number=\", f.getGradientCallsNumber())\nprint(\"model hessian calls number=\", f.getHessianCallsNumber())\nprint(\"taylor mean first order=\", taylor_mean_fo)\nprint(\"taylor variance=\", taylor_cov)\nprint(\"taylor importance factors=\", taylor_if)"
      ]
    },
    {
      "cell_type": "code",
      "execution_count": null,
      "metadata": {
        "collapsed": false
      },
      "outputs": [],
      "source": [
        "graph = taylor.drawImportanceFactors()\nview = viewer.View(graph)"
      ]
    },
    {
      "cell_type": "markdown",
      "metadata": {},
      "source": [
        "We see that, at first order, the variable $F$ explains about 70% of the variance of the output $Y$.\nOn the other hand, the variable $E$ is the least significant in the variance of the output: $E$ only explains about 5% of the output variance.\n\n"
      ]
    },
    {
      "cell_type": "markdown",
      "metadata": {},
      "source": [
        "## Monte-Carlo simulation\n\n"
      ]
    },
    {
      "cell_type": "markdown",
      "metadata": {},
      "source": [
        "Perform a Monte Carlo simulation of Y to estimate its mean.\n\n"
      ]
    },
    {
      "cell_type": "code",
      "execution_count": null,
      "metadata": {
        "collapsed": false
      },
      "outputs": [],
      "source": [
        "algo = ot.ExpectationSimulationAlgorithm(Y)\nalgo.setMaximumOuterSampling(1000)\nalgo.setCoefficientOfVariationCriterionType(\"NONE\")\nalgo.run()\nprint(\"model evaluation calls number=\", f.getEvaluationCallsNumber())\nexpectation_result = algo.getResult()\nexpectation_mean = expectation_result.getExpectationEstimate()\nprint(\n    \"monte carlo mean=\",\n    expectation_mean,\n    \"var=\",\n    expectation_result.getVarianceEstimate(),\n)"
      ]
    },
    {
      "cell_type": "markdown",
      "metadata": {},
      "source": [
        "## Central dispersion analysis based on a sample\n\n"
      ]
    },
    {
      "cell_type": "markdown",
      "metadata": {},
      "source": [
        "Directly compute statistical moments based on a sample of Y. Sometimes the probabilistic model is not available and the study needs to start from the data.\n\n"
      ]
    },
    {
      "cell_type": "code",
      "execution_count": null,
      "metadata": {
        "collapsed": false
      },
      "outputs": [],
      "source": [
        "Y_s = Y.getSample(1000)\ny_mean = Y_s.computeMean()\ny_stddev = Y_s.computeStandardDeviation()\ny_quantile_95p = Y_s.computeQuantilePerComponent(0.95)\nprint(\"mean=\", y_mean, \"stddev=\", y_stddev, \"quantile@95%\", y_quantile_95p)"
      ]
    },
    {
      "cell_type": "code",
      "execution_count": null,
      "metadata": {
        "collapsed": false
      },
      "outputs": [],
      "source": [
        "graph = ot.KernelSmoothing().build(Y_s).drawPDF()\ngraph.setTitle(\"Kernel smoothing approximation of the output distribution\")\nview = viewer.View(graph)\n\nplt.show()"
      ]
    }
  ],
  "metadata": {
    "kernelspec": {
      "display_name": "Python 3",
      "language": "python",
      "name": "python3"
    },
    "language_info": {
      "codemirror_mode": {
        "name": "ipython",
        "version": 3
      },
      "file_extension": ".py",
      "mimetype": "text/x-python",
      "name": "python",
      "nbconvert_exporter": "python",
      "pygments_lexer": "ipython3",
      "version": "3.10.9"
    }
  },
  "nbformat": 4,
  "nbformat_minor": 0
}