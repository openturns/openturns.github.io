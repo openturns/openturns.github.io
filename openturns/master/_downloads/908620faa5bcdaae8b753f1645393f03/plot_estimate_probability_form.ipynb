{
  "cells": [
    {
      "cell_type": "code",
      "execution_count": null,
      "metadata": {
        "collapsed": false
      },
      "outputs": [],
      "source": [
        "%matplotlib inline"
      ]
    },
    {
      "cell_type": "markdown",
      "metadata": {},
      "source": [
        "\n# Use the FORM - SORM algorithms\n"
      ]
    },
    {
      "cell_type": "markdown",
      "metadata": {},
      "source": [
        "In this example we estimate a failure probability with the `FORM` algorithm on the `cantilever beam <use-case-cantilever-beam>` example. More precisely, we show how to use the associated results:\n\n- the design point in both physical and standard space,\n- the probability estimation according to the FORM approximation, and the following SORM ones: Tvedt, Hohenbichler and Breitung,\n- the Hasofer reliability index and the generalized ones evaluated from the Breitung, Tvedt and Hohenbichler approximations,\n- the importance factors defined as the normalized director factors of the design point in the $U$-space\n- the sensitivity factors of the Hasofer reliability index and the FORM probability.\n- the coordinates of the mean point in the standard event space.\n\nThe coordinates of the mean point in the standard event space is:\n\n\\begin{align}\\frac{1}{E_1(-\\beta)}\\int_{\\beta}^{\\infty} u_1 p_1(u_1)du_1\\end{align}\n\n\nwhere $E_1$ is the spheric univariate distribution of the standard space and $\\beta$ is the reliability index.\n\n"
      ]
    },
    {
      "cell_type": "markdown",
      "metadata": {},
      "source": [
        "## Model definition\n\n"
      ]
    },
    {
      "cell_type": "code",
      "execution_count": null,
      "metadata": {
        "collapsed": false
      },
      "outputs": [],
      "source": [
        "from __future__ import print_function\nimport openturns as ot\nimport openturns.viewer as viewer\nfrom matplotlib import pylab as plt\not.Log.Show(ot.Log.NONE)"
      ]
    },
    {
      "cell_type": "markdown",
      "metadata": {},
      "source": [
        "We load the model from the usecases module :\n\n"
      ]
    },
    {
      "cell_type": "code",
      "execution_count": null,
      "metadata": {
        "collapsed": false
      },
      "outputs": [],
      "source": [
        "from openturns.usecases import cantilever_beam as cantilever_beam\ncb = cantilever_beam.CantileverBeam()"
      ]
    },
    {
      "cell_type": "markdown",
      "metadata": {},
      "source": [
        "We use the input parameters distribution from the data class :\n\n"
      ]
    },
    {
      "cell_type": "code",
      "execution_count": null,
      "metadata": {
        "collapsed": false
      },
      "outputs": [],
      "source": [
        "distribution = cb.distribution\ndistribution.setDescription(['E', 'F', 'L', 'I'])"
      ]
    },
    {
      "cell_type": "markdown",
      "metadata": {},
      "source": [
        "We define the model\n\n"
      ]
    },
    {
      "cell_type": "code",
      "execution_count": null,
      "metadata": {
        "collapsed": false
      },
      "outputs": [],
      "source": [
        "model = cb.model"
      ]
    },
    {
      "cell_type": "markdown",
      "metadata": {},
      "source": [
        "Create the event whose probability we want to estimate.\n\n"
      ]
    },
    {
      "cell_type": "code",
      "execution_count": null,
      "metadata": {
        "collapsed": false
      },
      "outputs": [],
      "source": [
        "vect = ot.RandomVector(distribution)\nG = ot.CompositeRandomVector(model, vect)\nevent = ot.ThresholdEvent(G, ot.Greater(), 0.3)\nevent.setName(\"deviation\")"
      ]
    },
    {
      "cell_type": "markdown",
      "metadata": {},
      "source": [
        "Define a solver\n\n"
      ]
    },
    {
      "cell_type": "code",
      "execution_count": null,
      "metadata": {
        "collapsed": false
      },
      "outputs": [],
      "source": [
        "optimAlgo = ot.Cobyla()\noptimAlgo.setMaximumEvaluationNumber(1000)\noptimAlgo.setMaximumAbsoluteError(1.0e-10)\noptimAlgo.setMaximumRelativeError(1.0e-10)\noptimAlgo.setMaximumResidualError(1.0e-10)\noptimAlgo.setMaximumConstraintError(1.0e-10)"
      ]
    },
    {
      "cell_type": "markdown",
      "metadata": {},
      "source": [
        "Run FORM\n\n"
      ]
    },
    {
      "cell_type": "code",
      "execution_count": null,
      "metadata": {
        "collapsed": false
      },
      "outputs": [],
      "source": [
        "algo = ot.FORM(optimAlgo, event, distribution.getMean())\nalgo.run()\nresult = algo.getResult()"
      ]
    },
    {
      "cell_type": "markdown",
      "metadata": {},
      "source": [
        "Probability\n\n"
      ]
    },
    {
      "cell_type": "code",
      "execution_count": null,
      "metadata": {
        "collapsed": false
      },
      "outputs": [],
      "source": [
        "result.getEventProbability()"
      ]
    },
    {
      "cell_type": "markdown",
      "metadata": {},
      "source": [
        "Hasofer reliability index\n\n"
      ]
    },
    {
      "cell_type": "code",
      "execution_count": null,
      "metadata": {
        "collapsed": false
      },
      "outputs": [],
      "source": [
        "result.getHasoferReliabilityIndex()"
      ]
    },
    {
      "cell_type": "markdown",
      "metadata": {},
      "source": [
        "Design point in the standard U* space.\n\n"
      ]
    },
    {
      "cell_type": "code",
      "execution_count": null,
      "metadata": {
        "collapsed": false
      },
      "outputs": [],
      "source": [
        "result.getStandardSpaceDesignPoint()"
      ]
    },
    {
      "cell_type": "markdown",
      "metadata": {},
      "source": [
        "Design point in the physical X space.\n\n"
      ]
    },
    {
      "cell_type": "code",
      "execution_count": null,
      "metadata": {
        "collapsed": false
      },
      "outputs": [],
      "source": [
        "result.getPhysicalSpaceDesignPoint()"
      ]
    },
    {
      "cell_type": "markdown",
      "metadata": {},
      "source": [
        "Importance factors\n\n"
      ]
    },
    {
      "cell_type": "code",
      "execution_count": null,
      "metadata": {
        "collapsed": false
      },
      "outputs": [],
      "source": [
        "graph = result.drawImportanceFactors()\nview = viewer.View(graph)"
      ]
    },
    {
      "cell_type": "code",
      "execution_count": null,
      "metadata": {
        "collapsed": false
      },
      "outputs": [],
      "source": [
        "marginalSensitivity, otherSensitivity = result.drawHasoferReliabilityIndexSensitivity()\nmarginalSensitivity.setLegends([\"E\",\"F\",\"L\",\"I\"])\nmarginalSensitivity.setLegendPosition('bottom')\nview = viewer.View(marginalSensitivity)"
      ]
    },
    {
      "cell_type": "code",
      "execution_count": null,
      "metadata": {
        "collapsed": false
      },
      "outputs": [],
      "source": [
        "marginalSensitivity, otherSensitivity = result.drawEventProbabilitySensitivity()\nmarginalSensitivity.setLegends([\"E\",\"F\",\"L\",\"I\"])\nmarginalSensitivity.setLegendPosition('bottom')\nview = viewer.View(marginalSensitivity)"
      ]
    },
    {
      "cell_type": "markdown",
      "metadata": {},
      "source": [
        "Error history\n\n"
      ]
    },
    {
      "cell_type": "code",
      "execution_count": null,
      "metadata": {
        "collapsed": false
      },
      "outputs": [],
      "source": [
        "optimResult = result.getOptimizationResult()\ngraphErrors = optimResult.drawErrorHistory()\ngraphErrors.setLegendPosition('bottom')\ngraphErrors.setYMargin(0.0)\nview = viewer.View(graphErrors)"
      ]
    },
    {
      "cell_type": "markdown",
      "metadata": {},
      "source": [
        "Get additional results with SORM\n\n"
      ]
    },
    {
      "cell_type": "code",
      "execution_count": null,
      "metadata": {
        "collapsed": false
      },
      "outputs": [],
      "source": [
        "algo = ot.SORM(optimAlgo, event, distribution.getMean())\nalgo.run()\nsorm_result = algo.getResult()"
      ]
    },
    {
      "cell_type": "markdown",
      "metadata": {},
      "source": [
        "Reliability index with Breitung approximation\n\n"
      ]
    },
    {
      "cell_type": "code",
      "execution_count": null,
      "metadata": {
        "collapsed": false
      },
      "outputs": [],
      "source": [
        "sorm_result.getGeneralisedReliabilityIndexBreitung()"
      ]
    },
    {
      "cell_type": "markdown",
      "metadata": {},
      "source": [
        "... with Hohenbichler approximation\n\n"
      ]
    },
    {
      "cell_type": "code",
      "execution_count": null,
      "metadata": {
        "collapsed": false
      },
      "outputs": [],
      "source": [
        "sorm_result.getGeneralisedReliabilityIndexHohenbichler()"
      ]
    },
    {
      "cell_type": "markdown",
      "metadata": {},
      "source": [
        ".. with Tvedt approximation\n\n"
      ]
    },
    {
      "cell_type": "code",
      "execution_count": null,
      "metadata": {
        "collapsed": false
      },
      "outputs": [],
      "source": [
        "sorm_result.getGeneralisedReliabilityIndexTvedt()"
      ]
    },
    {
      "cell_type": "markdown",
      "metadata": {},
      "source": [
        "SORM probability of the event with Breitung approximation\n\n"
      ]
    },
    {
      "cell_type": "code",
      "execution_count": null,
      "metadata": {
        "collapsed": false
      },
      "outputs": [],
      "source": [
        "sorm_result.getEventProbabilityBreitung()"
      ]
    },
    {
      "cell_type": "markdown",
      "metadata": {},
      "source": [
        "... with Hohenbichler approximation\n\n"
      ]
    },
    {
      "cell_type": "code",
      "execution_count": null,
      "metadata": {
        "collapsed": false
      },
      "outputs": [],
      "source": [
        "sorm_result.getEventProbabilityHohenbichler()"
      ]
    },
    {
      "cell_type": "markdown",
      "metadata": {},
      "source": [
        "... with Tvedt approximation\n\n"
      ]
    },
    {
      "cell_type": "code",
      "execution_count": null,
      "metadata": {
        "collapsed": false
      },
      "outputs": [],
      "source": [
        "sorm_result.getEventProbabilityTvedt()\n\nplt.show()"
      ]
    }
  ],
  "metadata": {
    "kernelspec": {
      "display_name": "Python 3",
      "language": "python",
      "name": "python3"
    },
    "language_info": {
      "codemirror_mode": {
        "name": "ipython",
        "version": 3
      },
      "file_extension": ".py",
      "mimetype": "text/x-python",
      "name": "python",
      "nbconvert_exporter": "python",
      "pygments_lexer": "ipython3",
      "version": "3.9.3"
    }
  },
  "nbformat": 4,
  "nbformat_minor": 0
}