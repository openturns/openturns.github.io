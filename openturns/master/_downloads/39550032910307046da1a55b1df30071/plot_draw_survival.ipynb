{
  "cells": [
    {
      "cell_type": "code",
      "execution_count": null,
      "metadata": {
        "collapsed": false
      },
      "outputs": [],
      "source": [
        "%matplotlib inline"
      ]
    },
    {
      "cell_type": "markdown",
      "metadata": {},
      "source": [
        "\n# Draw a survival function\n"
      ]
    },
    {
      "cell_type": "code",
      "execution_count": null,
      "metadata": {
        "collapsed": false
      },
      "outputs": [],
      "source": [
        "# sphinx_gallery_thumbnail_number = 9"
      ]
    },
    {
      "cell_type": "markdown",
      "metadata": {},
      "source": [
        "## Introduction\n\nThe goal of this example is to show how to draw the survival function of a sample or a distribution, in linear and logarithmic scales. \n\nLet $X$ be a random variable with distribution function $F$:\n\n\\begin{align}F(x) = P(X\\leq x)\\end{align}\n\n\nfor any $x\\in\\mathbb{R}$. \nThe survival function $S$ is:\n\n\\begin{align}S(x) = P(X>x) = 1 - P(X\\leq x) = 1 - F(x)\\end{align}\n\n\nfor any $x\\in\\mathbb{R}$. \n\nLet us assume that $\\{x_1,...,x_N\\}$ is a sample from $F$. \n\nLet $\\hat{F}_N$ be the empirical cumulative distribution function:\n\n\\begin{align}\\hat{F}_N(x) = \\frac{1}{N} \\sum_{i=1}^N \\mathbf{1}_{x_i\\leq x}\\end{align}\n\n\nfor any $x\\in\\mathbb{R}$. \nLet $\\hat{S}_n$ be the empirical survival function:\n\n\\begin{align}\\hat{S}_N(x) = \\frac{1}{N} \\sum_{i=1}^N \\mathbf{1}_{x_i>x}\\end{align}\n\n\nfor any $x\\in\\mathbb{R}$. \n\n## Motivations for the survival function\n\nFor many probabilistic models associated with extreme events or lifetime models, the survival function has a simpler expression than the distribution function. \n\n* More specifically, several models (e.g. Pareto or Weibull) have a simple expression when we consider the logarithm of the survival function. In this situation, the $(\\log(x),\\log(S(x)))$ plot is often used. For some distributions, this plot is a straight line. \n\n* When we consider probabilities very close to 1 (e.g. with extreme events), a loss of precision can occur when we consider the $1-F(x)$ expression with floating point numbers. This loss of significant digits is known as \"catastrophic cancellation\" in the bibliography and happens when two close floating point numbers are subtracted. This is one of the reasons why we sometimes use directly the survival function instead of the complementary of the distribution.\n\n"
      ]
    },
    {
      "cell_type": "markdown",
      "metadata": {},
      "source": [
        "## Define a distribution\n\n"
      ]
    },
    {
      "cell_type": "code",
      "execution_count": null,
      "metadata": {
        "collapsed": false
      },
      "outputs": [],
      "source": [
        "import openturns as ot\nimport openturns.viewer as viewer\nfrom matplotlib import pylab as plt\not.Log.Show(ot.Log.NONE)"
      ]
    },
    {
      "cell_type": "code",
      "execution_count": null,
      "metadata": {
        "collapsed": false
      },
      "outputs": [],
      "source": [
        "sigma = 1.4\nxi=0.5\nu=0.1\ndistribution = ot.GeneralizedPareto(sigma, xi, u)"
      ]
    },
    {
      "cell_type": "markdown",
      "metadata": {},
      "source": [
        "## Draw the survival of a distribution\n\n"
      ]
    },
    {
      "cell_type": "markdown",
      "metadata": {},
      "source": [
        "The `computeCDF` and `computeSurvivalFunction` computes the CDF $F$ and survival $S$ of a distribution. \n\n"
      ]
    },
    {
      "cell_type": "code",
      "execution_count": null,
      "metadata": {
        "collapsed": false
      },
      "outputs": [],
      "source": [
        "p1 = distribution.computeCDF(10.)\np1"
      ]
    },
    {
      "cell_type": "code",
      "execution_count": null,
      "metadata": {
        "collapsed": false
      },
      "outputs": [],
      "source": [
        "p2 = distribution.computeSurvivalFunction(10.)\np2"
      ]
    },
    {
      "cell_type": "code",
      "execution_count": null,
      "metadata": {
        "collapsed": false
      },
      "outputs": [],
      "source": [
        "p1 + p2"
      ]
    },
    {
      "cell_type": "markdown",
      "metadata": {},
      "source": [
        "The `drawCDF` and `drawSurvivalFunction` methods allows to draw the functions $F$ and $S$. \n\n"
      ]
    },
    {
      "cell_type": "code",
      "execution_count": null,
      "metadata": {
        "collapsed": false
      },
      "outputs": [],
      "source": [
        "graph = distribution.drawCDF()\ngraph.setTitle(\"CDF of a distribution\")\nview = viewer.View(graph)"
      ]
    },
    {
      "cell_type": "code",
      "execution_count": null,
      "metadata": {
        "collapsed": false
      },
      "outputs": [],
      "source": [
        "graph = distribution.drawSurvivalFunction()\ngraph.setTitle(\"Survival function of a distribution\")\nview = viewer.View(graph)"
      ]
    },
    {
      "cell_type": "markdown",
      "metadata": {},
      "source": [
        "In order to get finite bounds for the next graphics, we compute the `xmin` and `xmax` bounds from the 0.01 and 0.99 quantiles of the distributions.\n\n"
      ]
    },
    {
      "cell_type": "code",
      "execution_count": null,
      "metadata": {
        "collapsed": false
      },
      "outputs": [],
      "source": [
        "xmin = distribution.computeQuantile(0.01)[0]\nxmin"
      ]
    },
    {
      "cell_type": "code",
      "execution_count": null,
      "metadata": {
        "collapsed": false
      },
      "outputs": [],
      "source": [
        "xmax = distribution.computeQuantile(0.99)[0]\nxmax"
      ]
    },
    {
      "cell_type": "markdown",
      "metadata": {},
      "source": [
        "The `drawSurvivalFunction` methods also has an option to plot the survival with the X axis in logarithmic scale.\n\n"
      ]
    },
    {
      "cell_type": "code",
      "execution_count": null,
      "metadata": {
        "collapsed": false
      },
      "outputs": [],
      "source": [
        "npoints = 50\nlogScaleX = True\ngraph = distribution.drawSurvivalFunction(xmin, xmax, npoints, logScaleX)\ngraph.setTitle(\"Survival function of a distribution where X axis is in log scale\")\nview = viewer.View(graph)\n#graph"
      ]
    },
    {
      "cell_type": "markdown",
      "metadata": {},
      "source": [
        "In order to get both axes in logarithmic scale, we use the `LOGXY` option of the graph. \n\n"
      ]
    },
    {
      "cell_type": "code",
      "execution_count": null,
      "metadata": {
        "collapsed": false
      },
      "outputs": [],
      "source": [
        "npoints = 50\nlogScaleX = True\ngraph = distribution.drawSurvivalFunction(xmin, xmax, npoints, logScaleX)\ngraph.setLogScale(ot.GraphImplementation.LOGXY)\ngraph.setTitle(\"Survival function of a distribution where X and Y axes are in log scale\")\nview = viewer.View(graph)\n#graph"
      ]
    },
    {
      "cell_type": "markdown",
      "metadata": {},
      "source": [
        "## Compute the survival of a sample\n\n"
      ]
    },
    {
      "cell_type": "markdown",
      "metadata": {},
      "source": [
        "We now generate a sample that we are going to analyze. \n\n"
      ]
    },
    {
      "cell_type": "code",
      "execution_count": null,
      "metadata": {
        "collapsed": false
      },
      "outputs": [],
      "source": [
        "sample = distribution.getSample(1000)"
      ]
    },
    {
      "cell_type": "code",
      "execution_count": null,
      "metadata": {
        "collapsed": false
      },
      "outputs": [],
      "source": [
        "sample.getMin(), sample.getMax()"
      ]
    },
    {
      "cell_type": "markdown",
      "metadata": {},
      "source": [
        "The `computeEmpiricalCDF` method of a `Sample` computes the empirical CDF.\n\n"
      ]
    },
    {
      "cell_type": "code",
      "execution_count": null,
      "metadata": {
        "collapsed": false
      },
      "outputs": [],
      "source": [
        "p1 = sample.computeEmpiricalCDF([10])\np1"
      ]
    },
    {
      "cell_type": "markdown",
      "metadata": {},
      "source": [
        "Activating the second optional argument allows to compute the empirical survival function.\n\n"
      ]
    },
    {
      "cell_type": "code",
      "execution_count": null,
      "metadata": {
        "collapsed": false
      },
      "outputs": [],
      "source": [
        "p2 = sample.computeEmpiricalCDF([10], True)\np2"
      ]
    },
    {
      "cell_type": "code",
      "execution_count": null,
      "metadata": {
        "collapsed": false
      },
      "outputs": [],
      "source": [
        "p1+p2"
      ]
    },
    {
      "cell_type": "markdown",
      "metadata": {},
      "source": [
        "## Draw the survival of a sample\n\n"
      ]
    },
    {
      "cell_type": "markdown",
      "metadata": {},
      "source": [
        "In order to draw the empirical functions of a `Sample`, we use the `UserDefined` class. \n\n* The `drawCDF` method plots the CDF.\n* The `drawSurvivalFunction` method plots the survival function.\n\n"
      ]
    },
    {
      "cell_type": "code",
      "execution_count": null,
      "metadata": {
        "collapsed": false
      },
      "outputs": [],
      "source": [
        "userdefined = ot.UserDefined(sample)\ngraph = userdefined.drawCDF()\ngraph.setTitle(\"CDF of a sample\")\nview = viewer.View(graph)\n#graph"
      ]
    },
    {
      "cell_type": "code",
      "execution_count": null,
      "metadata": {
        "collapsed": false
      },
      "outputs": [],
      "source": [
        "graph = userdefined.drawSurvivalFunction()\ngraph.setTitle(\"Empirical survival function of a sample\")\nview = viewer.View(graph)\n#graph"
      ]
    },
    {
      "cell_type": "markdown",
      "metadata": {},
      "source": [
        "As previously, the `drawSurvivalFunction` method of a distribution has an option to set the X axis in logarithmic scale.\n\n"
      ]
    },
    {
      "cell_type": "code",
      "execution_count": null,
      "metadata": {
        "collapsed": false
      },
      "outputs": [],
      "source": [
        "xmin = sample.getMin()[0]\nxmax = sample.getMax()[0]\npointNumber = sample.getSize()\nlogScaleX = True\ngraph = userdefined.drawSurvivalFunction(xmin, xmax, pointNumber, logScaleX)\ngraph.setTitle(\"Empirical survival function of a sample; X axis in log-scale\")\nview = viewer.View(graph)\n#graph"
      ]
    },
    {
      "cell_type": "markdown",
      "metadata": {},
      "source": [
        "We obviously have $P(X>X_{max})=0$, where $X_{max}$ is the sample maximum. This prevents from using the sample maximum and have a logarithmic Y axis at the same time. This is why in the following example we restrict the interval where we draw the survival function. \n\n"
      ]
    },
    {
      "cell_type": "code",
      "execution_count": null,
      "metadata": {
        "collapsed": false
      },
      "outputs": [],
      "source": [
        "xmin = sample.getMin()[0]\nxmax = sample.getMax()[0] - 1 # To avoid log(0) because P(X>Xmax)=0\npointNumber = sample.getSize()\nlogScaleX = True\ngraph = userdefined.drawSurvivalFunction(xmin, xmax, pointNumber, logScaleX)\ngraph.setLogScale(ot.GraphImplementation.LOGXY)\ngraph.setTitle(\"Empirical survival function of a sample; X and Y axes in log-scale\")\nview = viewer.View(graph)\n#graph"
      ]
    },
    {
      "cell_type": "markdown",
      "metadata": {},
      "source": [
        "## Compare the distribution and the sample with respect to the survival\n\n"
      ]
    },
    {
      "cell_type": "markdown",
      "metadata": {},
      "source": [
        "In the final example, we compare the distribution and sample survival functions in the same graphics. \n\n"
      ]
    },
    {
      "cell_type": "code",
      "execution_count": null,
      "metadata": {
        "collapsed": false
      },
      "outputs": [],
      "source": [
        "xmin = sample.getMin()[0]\nxmax = sample.getMax()[0] - 1 # To avoid log(0) because P(X>Xmax)=0\nnpoints = 50\nlogScaleX = True\ngraph = userdefined.drawSurvivalFunction(xmin, xmax, pointNumber, logScaleX)\ngraph.setLogScale(ot.GraphImplementation.LOGXY)\ngraph.setColors([\"blue\"])\ngraph.setLegends([\"Sample\"])\ngraphDistribution = distribution.drawSurvivalFunction(xmin, xmax, npoints, logScaleX)\ngraphDistribution.setLegends([\"GPD\"])\ngraph.add(graphDistribution)\ngraph.setLegendPosition(\"topright\")\ngraph.setTitle(\"GPD against the sample - n=%d\" % (sample.getSize()))\nview = viewer.View(graph)\n#graph\nplt.show()"
      ]
    }
  ],
  "metadata": {
    "kernelspec": {
      "display_name": "Python 3",
      "language": "python",
      "name": "python3"
    },
    "language_info": {
      "codemirror_mode": {
        "name": "ipython",
        "version": 3
      },
      "file_extension": ".py",
      "mimetype": "text/x-python",
      "name": "python",
      "nbconvert_exporter": "python",
      "pygments_lexer": "ipython3",
      "version": "3.9.7"
    }
  },
  "nbformat": 4,
  "nbformat_minor": 0
}