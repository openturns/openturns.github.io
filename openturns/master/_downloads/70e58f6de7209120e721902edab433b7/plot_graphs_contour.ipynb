{
  "cells": [
    {
      "cell_type": "markdown",
      "metadata": {},
      "source": [
        "\n# A quick start guide to contours\n"
      ]
    },
    {
      "cell_type": "code",
      "execution_count": null,
      "metadata": {
        "collapsed": false
      },
      "outputs": [],
      "source": [
        "# sphinx_gallery_thumbnail_number = 6"
      ]
    },
    {
      "cell_type": "markdown",
      "metadata": {},
      "source": [
        "In this example we show how to create contour graphs and how to make the most of their display settings.\n\n"
      ]
    },
    {
      "cell_type": "markdown",
      "metadata": {},
      "source": [
        "## The `draw` method, the `Graph` and `Contour` classes\n\nThe simplest way to create a contour graph is to use the `draw` method of a bidimensional function.\n\n"
      ]
    },
    {
      "cell_type": "code",
      "execution_count": null,
      "metadata": {
        "collapsed": false
      },
      "outputs": [],
      "source": [
        "import openturns as ot\nimport openturns.viewer as viewer"
      ]
    },
    {
      "cell_type": "markdown",
      "metadata": {},
      "source": [
        "We build a bidimensional function (function of x and y), define the study domain and the sample size\n\n"
      ]
    },
    {
      "cell_type": "code",
      "execution_count": null,
      "metadata": {
        "collapsed": false
      },
      "outputs": [],
      "source": [
        "f = ot . SymbolicFunction(['x', 'y'], ['exp(-sin(cos(y)^2 * x^2 + sin(x)^2 * y^2))'])\nXMin = -5.0\nXMax = 5.0\nYMin = -5.0\nYMax = 5.0\nNX = 75\nNY = 75"
      ]
    },
    {
      "cell_type": "markdown",
      "metadata": {},
      "source": [
        "We build the graph by calling the `draw` method and display it\n\n"
      ]
    },
    {
      "cell_type": "code",
      "execution_count": null,
      "metadata": {
        "collapsed": false
      },
      "outputs": [],
      "source": [
        "graph = f.draw([YMin, YMin], [XMax, YMax], [NX, NY])\nview = viewer.View(graph)"
      ]
    },
    {
      "cell_type": "markdown",
      "metadata": {},
      "source": [
        "The graph contains an unique drawable whose implementation is of class `Contour`\n\n"
      ]
    },
    {
      "cell_type": "code",
      "execution_count": null,
      "metadata": {
        "collapsed": false
      },
      "outputs": [],
      "source": [
        "contour = graph.getDrawable(0).getImplementation()\nprint(type(contour).__name__)"
      ]
    },
    {
      "cell_type": "markdown",
      "metadata": {},
      "source": [
        "Another way to build the contour is to build the data sample and give it to the constructor of the `Contour` class\n\n"
      ]
    },
    {
      "cell_type": "code",
      "execution_count": null,
      "metadata": {
        "collapsed": false
      },
      "outputs": [],
      "source": [
        "inputData = ot.Box([NX, NY]).generate()\ninputData *= [XMax - XMin, YMax - YMin]\ninputData += [XMin, YMin]\ndata = f(inputData)\n\nx = ot.Box([NX]).generate() * [XMax - XMin] + [XMin]\ny = ot.Box([NY]).generate() * [YMax - YMin] + [YMin]\ncontour = ot.Contour(x, y, data)"
      ]
    },
    {
      "cell_type": "markdown",
      "metadata": {},
      "source": [
        "By creating an empty graph and adding the contour we can display the whole.\n\n"
      ]
    },
    {
      "cell_type": "code",
      "execution_count": null,
      "metadata": {
        "collapsed": false
      },
      "outputs": [],
      "source": [
        "graph = ot.Graph('Complex iso lines', 'u1', 'u2', True)\ngraph.add(contour)\nview = viewer.View(graph)"
      ]
    },
    {
      "cell_type": "markdown",
      "metadata": {},
      "source": [
        "The previous graph does not show the associated color bar.\nThis point can be modified.\nWe will also change the color map, the number of contour lines and hide the labels.\n\n"
      ]
    },
    {
      "cell_type": "code",
      "execution_count": null,
      "metadata": {
        "collapsed": false
      },
      "outputs": [],
      "source": [
        "contour.setColorBarPosition('right')\ncontour.setColorMap('inferno')\ncontour.buildDefaultLevels(5)\ncontour.setDrawLabels(False)\ngraph.setDrawables([ot.Drawable(contour)])\nview = viewer.View(graph)"
      ]
    },
    {
      "cell_type": "markdown",
      "metadata": {},
      "source": [
        "For such a function, contour lines are not easy to interpret.\nWe will modify the contour to use filled areas.\n\n"
      ]
    },
    {
      "cell_type": "code",
      "execution_count": null,
      "metadata": {
        "collapsed": false
      },
      "outputs": [],
      "source": [
        "contour.setIsFilled(True)\ngraph.setTitle('Complex filled contour')\ngraph.setDrawables([ot.Drawable(contour)])\nview = viewer.View(graph)"
      ]
    },
    {
      "cell_type": "markdown",
      "metadata": {},
      "source": [
        "Sometimes the colors are not very distinct because some levels are very close while others are very far apart.\nIn this case, it is possible to add hatching to the surfaces.\nHere we will also use transparency to soften the colors.\n\n"
      ]
    },
    {
      "cell_type": "code",
      "execution_count": null,
      "metadata": {
        "collapsed": false
      },
      "outputs": [],
      "source": [
        "contour.setAlpha(0.3)\ncontour.setHatches(['/', '\\\\', '/\\\\', '+', '*'])\ngraph.setTitle('Complex filled contour with hatches')\ngraph.setDrawables([ot.Drawable(contour)])\nview = viewer.View(graph)"
      ]
    },
    {
      "cell_type": "markdown",
      "metadata": {},
      "source": [
        "When the function takes values very different in magnitude, it may be useful to change the norm which is\nused to distribute the colors and to bound the color interval.\nHere we will also let `matplotlib` calculate the levels by not giving any level to the contour\n\n"
      ]
    },
    {
      "cell_type": "code",
      "execution_count": null,
      "metadata": {
        "collapsed": false
      },
      "outputs": [],
      "source": [
        "contour.setColorMapNorm('log')\ncontour.setLevels([])\ncontour.setExtend('neither')\ncontour.setVmin(0.5)\ncontour.setVmax(2)\ngraph.setTitle('Complex contour with log norm and automatic levels')\ngraph.setDrawables([ot.Drawable(contour)])\nview = viewer.View(graph)"
      ]
    },
    {
      "cell_type": "markdown",
      "metadata": {},
      "source": [
        "These capabilities can also be leveraged for distributions.\nWe build here 2 distributions, Funky and Punk, which we mix.\n\n"
      ]
    },
    {
      "cell_type": "code",
      "execution_count": null,
      "metadata": {
        "collapsed": false
      },
      "outputs": [],
      "source": [
        "corr = ot.CorrelationMatrix(2)\ncorr[0, 1] = 0.2\ncopula = ot.NormalCopula(corr)\nx1 = ot.Normal(-1.0, 1)\nx2 = ot.Normal(2, 1)\nx_funk = ot.ComposedDistribution([x1, x2], copula)\n\nx1 = ot.Normal(1.0, 1)\nx2 = ot.Normal(-2, 1)\nx_punk = ot.ComposedDistribution([x1, x2], copula)\nmixture = ot.Mixture([x_funk, x_punk], [0.5, 1.0])"
      ]
    },
    {
      "cell_type": "markdown",
      "metadata": {},
      "source": [
        "The constructed graph is composed of the superposition of a filled contour and iso lines\nWe also changed the thickness and style of the lines to show the effect although it is not useful here\n\n"
      ]
    },
    {
      "cell_type": "code",
      "execution_count": null,
      "metadata": {
        "collapsed": false
      },
      "outputs": [],
      "source": [
        "graph = mixture.drawPDF([-5.0, -5.0], [5.0, 5.0])\n# Add level lines above filled contour\ncontour = graph.getDrawable(0).getImplementation()\ncontour.setColor('black')\ncontour.setColorBarPosition(\"\")\ncontour.setLineWidth(3)\ncontour.setLineStyle('dotdash')\ngraph.add(contour)\n# Modify previous contour to fill the graph and use log norm\ncontour = graph.getDrawable(0).getImplementation()\ncontour.setIsFilled(True)\ncontour.setColorMapNorm('log')\ngraph.setDrawable(contour, 0)\nview = viewer.View(graph)"
      ]
    },
    {
      "cell_type": "markdown",
      "metadata": {},
      "source": [
        "If the color bar is not sufficiently meaningful, it is possible to add the labels of the values of each level line on the drawing.\nHere the labels are reformatted to use scientific notation and define precision.\n\n"
      ]
    },
    {
      "cell_type": "code",
      "execution_count": null,
      "metadata": {
        "collapsed": false
      },
      "outputs": [],
      "source": [
        "contour = graph.getDrawable(0).getImplementation()\ncontour.setColorBarPosition(\"\")  # Hide color bar\ngraph.setDrawable(contour, 0)\ncontour = graph.getDrawable(1).getImplementation()\ncontour.setDrawLabels(True)\ncontour.setLabels(['{:.3g}'.format(level) for level in contour.getLevels()])\ngraph.setDrawable(contour, 1)\nview = viewer.View(graph)\n\nviewer.View.ShowAll()"
      ]
    }
  ],
  "metadata": {
    "kernelspec": {
      "display_name": "Python 3",
      "language": "python",
      "name": "python3"
    },
    "language_info": {
      "codemirror_mode": {
        "name": "ipython",
        "version": 3
      },
      "file_extension": ".py",
      "mimetype": "text/x-python",
      "name": "python",
      "nbconvert_exporter": "python",
      "pygments_lexer": "ipython3",
      "version": "3.12.3"
    }
  },
  "nbformat": 4,
  "nbformat_minor": 0
}