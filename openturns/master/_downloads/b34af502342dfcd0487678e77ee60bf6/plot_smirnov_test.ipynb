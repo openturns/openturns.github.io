{
  "cells": [
    {
      "cell_type": "markdown",
      "metadata": {},
      "source": [
        "\n# Test identical distributions\n"
      ]
    },
    {
      "cell_type": "markdown",
      "metadata": {},
      "source": [
        "In this example we are going to estimate whether two samples follow the same\ndistribution using the two samples Kolmogorov-Smirnov test and the graphical QQ-plot test.\n\nThe Smirnov test relies on the maximum distance between the cumulative distribution function.\nIf $F_{n_1}^{*}$ and $F_{n_2}^{*}$ are the empirical cumulative\ndensity functions of both samples of size $n_1$ and $n_2$,\nthe Smirnov test evaluates the decision variable:\n\n\\begin{align}D^2 = \\displaystyle \\sqrt{\\frac{n_1n_2}{n_1+n_2}} \\sup_{x}|F_{n_1}^{*}(x) - F_{n_2}^{*}(x)|\\end{align}\n\nwhich tends towards the Kolmogorov distribution.\nThe hypothesis of same distribution is rejected if $D^2$ is too high\n(depending on the p-value threshold).\n\nThe QQ-plot graph plots empirical quantiles levels from two samples.\nIf both samples correspond to the same probability distribution the curve\nshould be close to the diagonal.\n\n\n"
      ]
    },
    {
      "cell_type": "code",
      "execution_count": null,
      "metadata": {
        "collapsed": false
      },
      "outputs": [],
      "source": [
        "import openturns as ot\nimport openturns.viewer as viewer\n\not.Log.Show(ot.Log.NONE)"
      ]
    },
    {
      "cell_type": "markdown",
      "metadata": {},
      "source": [
        "Generate 3 samples, `sample1` and `sample2` arise from the same distribution\n\n"
      ]
    },
    {
      "cell_type": "code",
      "execution_count": null,
      "metadata": {
        "collapsed": false
      },
      "outputs": [],
      "source": [
        "distribution1 = ot.Gumbel(0.2, 0.5)\ndistribution2 = ot.Uniform()\n\not.RandomGenerator.SetSeed(5)\nsample1 = distribution1.getSample(100)\nsample2 = distribution1.getSample(100)\nsample3 = distribution2.getSample(100)"
      ]
    },
    {
      "cell_type": "markdown",
      "metadata": {},
      "source": [
        "Visually compare `sample1` and `sample2` using QQ-plot\n\n"
      ]
    },
    {
      "cell_type": "code",
      "execution_count": null,
      "metadata": {
        "collapsed": false
      },
      "outputs": [],
      "source": [
        "graph = ot.VisualTest.DrawQQplot(sample1, sample2)\nview = viewer.View(graph)"
      ]
    },
    {
      "cell_type": "markdown",
      "metadata": {},
      "source": [
        "Visually compare `sample1` and `sample3` using QQ-plot\n\n"
      ]
    },
    {
      "cell_type": "code",
      "execution_count": null,
      "metadata": {
        "collapsed": false
      },
      "outputs": [],
      "source": [
        "graph = ot.VisualTest.DrawQQplot(sample1, sample3)\nview = viewer.View(graph)"
      ]
    },
    {
      "cell_type": "markdown",
      "metadata": {},
      "source": [
        "Numerically test `sample1` against `sample2`\n\n"
      ]
    },
    {
      "cell_type": "code",
      "execution_count": null,
      "metadata": {
        "collapsed": false
      },
      "outputs": [],
      "source": [
        "test_result = ot.HypothesisTest.TwoSamplesKolmogorov(sample1, sample2)\nprint(\n    \"Samples follow the same distribution?\",\n    test_result.getBinaryQualityMeasure(),\n    \"p-value=%.6g\" % test_result.getPValue(),\n    \"threshold=%.6g\" % test_result.getThreshold(),\n)"
      ]
    },
    {
      "cell_type": "markdown",
      "metadata": {},
      "source": [
        "Numerically test `sample1` against `sample3`\n\n"
      ]
    },
    {
      "cell_type": "code",
      "execution_count": null,
      "metadata": {
        "collapsed": false
      },
      "outputs": [],
      "source": [
        "test_result = ot.HypothesisTest.TwoSamplesKolmogorov(sample1, sample3)\nprint(\n    \"Samples follow the same distribution?\",\n    test_result.getBinaryQualityMeasure(),\n    \"p-value=%.6g\" % test_result.getPValue(),\n    \"threshold=%.6g\" % test_result.getThreshold(),\n)"
      ]
    }
  ],
  "metadata": {
    "kernelspec": {
      "display_name": "Python 3",
      "language": "python",
      "name": "python3"
    },
    "language_info": {
      "codemirror_mode": {
        "name": "ipython",
        "version": 3
      },
      "file_extension": ".py",
      "mimetype": "text/x-python",
      "name": "python",
      "nbconvert_exporter": "python",
      "pygments_lexer": "ipython3",
      "version": "3.12.6"
    }
  },
  "nbformat": 4,
  "nbformat_minor": 0
}