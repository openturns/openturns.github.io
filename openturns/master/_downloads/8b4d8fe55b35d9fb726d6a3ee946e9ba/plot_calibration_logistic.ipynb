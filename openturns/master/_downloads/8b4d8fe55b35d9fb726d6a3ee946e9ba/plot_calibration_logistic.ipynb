{
  "cells": [
    {
      "cell_type": "code",
      "execution_count": null,
      "metadata": {
        "collapsed": false
      },
      "outputs": [],
      "source": [
        "%matplotlib inline"
      ]
    },
    {
      "cell_type": "markdown",
      "metadata": {},
      "source": [
        "\n# Calibration of the logistic model\n"
      ]
    },
    {
      "cell_type": "markdown",
      "metadata": {},
      "source": [
        "## Introduction\n\nThe logistic growth model is the differential equation:\n\n\\begin{align}\\frac{dy(t)}{dt} = ay(t) - by(t)^2\\end{align}\n\n\nfor any $t\\in[t_0, t_{final}]$, with the initial condition:\n\n\\begin{align}y(t_0) = y_0\\end{align}\n\n\nwhere\n\n- $a > 0$ and $b > 0$ are two real parameters, \n- $y(t)$ is the size of the population at time $t$, \n- $t_0$ is the initial time,\n- $y_0$ is the initial population at time $t=t_0$, \n- $t_{final}$ is the final time.\n\nThe $a$ parameter sets the growth rate of the population. The $b$ parameter acts as a competition parameter which limits the size of the population by increasing the competition between its members. \n\nIn [1], the author uses this model to simulate the growth of the U.S. population. To do this, the author uses the U.S. census data from 1790 to 1910. For this time interval, R. Pearl and L. Reed [2] computed the following values of the parameters:\n\n\\begin{align}a = 0.03134, \\qquad b = 1.5887 \\times 10^{-10}.\\end{align}\n\n\nOur goal is to use the logistic growth model in order to simulate the solution for a larger time interval, from 1790 to 2000:\n\n\\begin{align}t_0 = 1790, \\qquad t_{final} = 2000.\\end{align}\n\n\nThen we can compare the predictions of this model with the real evolution of the U.S. population.\n\nWe can prove that, if $y_0 > 0$, then the limit population is:\n\n\\begin{align}y_{limit} =\\frac{a}{b}.\\end{align}\n\n\nIn 1790, the U.S. population was 3.9 Millions inhabitants:\n\n\\begin{align}y_0 = 3.9 \\times 10^6.\\end{align}\n\n\nWe can prove that the exact solution of the ordinary differential equation is:\n\n\\begin{align}y(t)=\\frac{ay_0}{by_0+(a-by_0 ) \\exp(-a(t-t_0)) }\\end{align}\n\n\nfor any $t\\in[t_0, t_{final}]$.\n\nWe want to see the solution of the ordinary differential equation when uncertainties are taken into account in the parameters:\n\n- the initial U.S. population $y_0$,\n- the parameters $a$ and $b$.\n\nIndeed, Pearl and Reed [2] estimated the parameters $a$ and $b$ using the U.S. census data from 1790 to 1910 while we have the data up to 2000. Moreover, the method used by Pearl and Reed to estimate the parameters could be improved; they only used 3 dates to estimate the parameters instead of using least squares, for example. Finally, Pearl and Reed did not provide confidence intervals for the parameters $a$ and $b$. \n\n"
      ]
    },
    {
      "cell_type": "markdown",
      "metadata": {},
      "source": [
        "## Normalizing the data\n\nThe order of magnitude of $a$ and $b$ are very different. In order to mitigate this, we consider the parameter $c$ as the logarithm of $b$:\n\n\\begin{align}c = \\log(b).\\end{align}\n\n\nThis leads to the value:\n\n\\begin{align}c = \\log\\left(1.5887 \\times 10^{-10}\\right) = -22.58.\\end{align}\n\n\nThe order of magnitude of the population is $10^6$. This is why we consider the normalized population in millions:\n\n\\begin{align}z(t) = \\frac{y(t)}{10^6}\\end{align}\n\n\nfor any $t\\in[t_0, t_{final}]$.\n\nLet $z_0$ be the initial population:\n\n\\begin{align}z_0 = z(t_0).\\end{align}\n\n\n"
      ]
    },
    {
      "cell_type": "markdown",
      "metadata": {},
      "source": [
        "## Uncertainties\n\nUncertainty can be accounted for by turning $z_0$, $a$ and $c$ into independent random variables $Z_0$, $A$ and $C$ with Gaussian distributions. From this point onward, $z_0$, $a$ and $b$ respectively denote $\\mathbb{E}[Z_0]$, $\\mathbb{E}[A]$ and $\\mathbb{E}[C]$.\n\n===========   ===============================================================\nVariable      Distribution\n===========   ===============================================================\n$Z_0$   gaussian, mean $z_0$, coefficient of variation 10% \n$A$     gaussian, mean $a$, coefficient of variation 30% \n$C$     gaussian, mean $c$, coefficient of variation 30% \n===========   ===============================================================\n\nNo particular probabilistic method was used to set these distributions. An improvement would be to use calibration methods to get a better quantification of these distributions. An improvement would be to use calibration methods to get a better quantification of these distributions. \n\n"
      ]
    },
    {
      "cell_type": "markdown",
      "metadata": {},
      "source": [
        "## Notes\n\n* This example is based on [1], chapter \"First order differential equations\", page 28. The data used in [1] are from [3]. The logistic growth model was first suggested by Pierre Francois Verhulst near 1840. The data are from [1] for the time interval from 1790 to 1950, then from [2] for the time interval from 1960 to 2000.\n* Calibrating this model may require to take into account for the time dependency of the measures.\n\n\n"
      ]
    },
    {
      "cell_type": "markdown",
      "metadata": {},
      "source": [
        "## References\n\n[1] Martin Braun. Differential equations and their applications, Fourth Edition. Texts in applied\nmathematics. Springer, 1993.\n\n[2] Cleve Moler. Numerical Computing with Matlab. Society for Industrial Applied Mathematics,\n2004.\n\n[3] Raymond Pearl and Lowell Reed. On the rate of growth of the population of the united states\nsince 1790 and its mathematical representation. Proceedings of the National Academy of Sciences,\n1920.\n\n"
      ]
    },
    {
      "cell_type": "markdown",
      "metadata": {},
      "source": [
        "## Analysis of the data\n\n"
      ]
    },
    {
      "cell_type": "code",
      "execution_count": null,
      "metadata": {
        "collapsed": false
      },
      "outputs": [],
      "source": [
        "import openturns as ot\nimport numpy as np\nimport openturns.viewer as viewer\nfrom matplotlib import pylab as plt\not.Log.Show(ot.Log.NONE)"
      ]
    },
    {
      "cell_type": "markdown",
      "metadata": {},
      "source": [
        "The data is based on 22 dates from 1790 to 2000.\n\n"
      ]
    },
    {
      "cell_type": "code",
      "execution_count": null,
      "metadata": {
        "collapsed": false
      },
      "outputs": [],
      "source": [
        "observedSample=ot.Sample([\\\n[1790,3.9], \\\n[1800,5.3], \\\n[1810,7.2], \\\n[1820,9.6], \\\n[1830,13], \\\n[1840,17], \\\n[1850,23], \\\n[1860,31], \\\n[1870,39], \\\n[1880,50], \\\n[1890,62], \\\n[1900,76], \\\n[1910,92], \\\n[1920,106], \\\n[1930,123], \\\n[1940,132], \\\n[1950,151], \\\n[1960,179], \\\n[1970,203], \\\n[1980,221], \\\n[1990,250], \\\n[2000,281]])"
      ]
    },
    {
      "cell_type": "code",
      "execution_count": null,
      "metadata": {
        "collapsed": false
      },
      "outputs": [],
      "source": [
        "nbobs = observedSample.getSize()\nnbobs"
      ]
    },
    {
      "cell_type": "code",
      "execution_count": null,
      "metadata": {
        "collapsed": false
      },
      "outputs": [],
      "source": [
        "timeObservations = observedSample[:,0]\ntimeObservations[0:5]"
      ]
    },
    {
      "cell_type": "code",
      "execution_count": null,
      "metadata": {
        "collapsed": false
      },
      "outputs": [],
      "source": [
        "populationObservations = observedSample[:,1]\npopulationObservations[0:5]"
      ]
    },
    {
      "cell_type": "code",
      "execution_count": null,
      "metadata": {
        "collapsed": false
      },
      "outputs": [],
      "source": [
        "graph = ot.Graph('', 'Time (years)', 'Population (Millions)', True, 'topleft')\ncloud = ot.Cloud(timeObservations, populationObservations)\ncloud.setLegend(\"Observations\")\ngraph.add(cloud)\nview = viewer.View(graph)"
      ]
    },
    {
      "cell_type": "markdown",
      "metadata": {},
      "source": [
        "We consider the times and populations as dimension 22 vectors. The `logisticModel` function takes a dimension 24 vector as input and returns a dimension 22 vector. The first 22 components of the input vector contains the dates and the remaining 2 components are $a$ and $b$. \n\n"
      ]
    },
    {
      "cell_type": "code",
      "execution_count": null,
      "metadata": {
        "collapsed": false
      },
      "outputs": [],
      "source": [
        "nbdates = 22\ndef logisticModel(X):\n    t = [X[i] for i in range(nbdates)]\n    a = X[22]\n    c = X[23]\n    t0 = 1790.\n    y0 = 3.9e6\n    b = np.exp(c)\n    y = ot.Point(nbdates)\n    for i in range(nbdates):\n        y[i] = a*y0/(b*y0+(a-b*y0)*np.exp(-a*(t[i]-t0)))\n    z = y/1.e6 # Convert into millions\n    return z"
      ]
    },
    {
      "cell_type": "code",
      "execution_count": null,
      "metadata": {
        "collapsed": false
      },
      "outputs": [],
      "source": [
        "logisticModelPy = ot.PythonFunction(24, nbdates, logisticModel)"
      ]
    },
    {
      "cell_type": "markdown",
      "metadata": {},
      "source": [
        "The reference values of the parameters. \n\nBecause $b$ is so small with respect to $a$, we use the logarithm. \n\n"
      ]
    },
    {
      "cell_type": "code",
      "execution_count": null,
      "metadata": {
        "collapsed": false
      },
      "outputs": [],
      "source": [
        "np.log(1.5587e-10)"
      ]
    },
    {
      "cell_type": "code",
      "execution_count": null,
      "metadata": {
        "collapsed": false
      },
      "outputs": [],
      "source": [
        "a=0.03134\nc=-22.58\nthetaPrior = [a,c]"
      ]
    },
    {
      "cell_type": "code",
      "execution_count": null,
      "metadata": {
        "collapsed": false
      },
      "outputs": [],
      "source": [
        "logisticParametric = ot.ParametricFunction(logisticModelPy,[22,23],thetaPrior)"
      ]
    },
    {
      "cell_type": "markdown",
      "metadata": {},
      "source": [
        "Check that we can evaluate the parametric function.\n\n"
      ]
    },
    {
      "cell_type": "code",
      "execution_count": null,
      "metadata": {
        "collapsed": false
      },
      "outputs": [],
      "source": [
        "populationPredicted = logisticParametric(timeObservations.asPoint())\npopulationPredicted"
      ]
    },
    {
      "cell_type": "code",
      "execution_count": null,
      "metadata": {
        "collapsed": false
      },
      "outputs": [],
      "source": [
        "graph = ot.Graph('', 'Time (years)', 'Population (Millions)', True, 'topleft')\n# Observations\ncloud = ot.Cloud(timeObservations, populationObservations)\ncloud.setLegend(\"Observations\")\ncloud.setColor(\"blue\")\ngraph.add(cloud)\n# Predictions\ncloud = ot.Cloud(timeObservations.asPoint(), populationPredicted)\ncloud.setLegend(\"Predictions\")\ncloud.setColor(\"green\")\ngraph.add(cloud)\nview = viewer.View(graph)"
      ]
    },
    {
      "cell_type": "markdown",
      "metadata": {},
      "source": [
        "We see that the fit is not good: the observations continue to grow after 1950, while the growth of the prediction seem to fade.\n\n"
      ]
    },
    {
      "cell_type": "markdown",
      "metadata": {},
      "source": [
        "## Calibration with linear least squares\n\n"
      ]
    },
    {
      "cell_type": "code",
      "execution_count": null,
      "metadata": {
        "collapsed": false
      },
      "outputs": [],
      "source": [
        "timeObservationsVector = ot.Sample([[timeObservations[i,0] for i in range(nbobs)]])\ntimeObservationsVector[0:10]"
      ]
    },
    {
      "cell_type": "code",
      "execution_count": null,
      "metadata": {
        "collapsed": false
      },
      "outputs": [],
      "source": [
        "populationObservationsVector = ot.Sample([[populationObservations[i, 0] for i in range(nbobs)]])\npopulationObservationsVector[0:10]"
      ]
    },
    {
      "cell_type": "markdown",
      "metadata": {},
      "source": [
        "The reference values of the parameters. \n\n"
      ]
    },
    {
      "cell_type": "code",
      "execution_count": null,
      "metadata": {
        "collapsed": false
      },
      "outputs": [],
      "source": [
        "a=0.03134\nc=-22.58\nthetaPrior = ot.Point([a,c])"
      ]
    },
    {
      "cell_type": "code",
      "execution_count": null,
      "metadata": {
        "collapsed": false
      },
      "outputs": [],
      "source": [
        "logisticParametric = ot.ParametricFunction(logisticModelPy,[22,23],thetaPrior)"
      ]
    },
    {
      "cell_type": "markdown",
      "metadata": {},
      "source": [
        "Check that we can evaluate the parametric function.\n\n"
      ]
    },
    {
      "cell_type": "code",
      "execution_count": null,
      "metadata": {
        "collapsed": false
      },
      "outputs": [],
      "source": [
        "populationPredicted = logisticParametric(timeObservationsVector)\npopulationPredicted[0:10]"
      ]
    },
    {
      "cell_type": "markdown",
      "metadata": {},
      "source": [
        "## Calibration\n\n"
      ]
    },
    {
      "cell_type": "code",
      "execution_count": null,
      "metadata": {
        "collapsed": false
      },
      "outputs": [],
      "source": [
        "algo = ot.LinearLeastSquaresCalibration(logisticParametric, timeObservationsVector, populationObservationsVector, thetaPrior)"
      ]
    },
    {
      "cell_type": "code",
      "execution_count": null,
      "metadata": {
        "collapsed": false
      },
      "outputs": [],
      "source": [
        "algo.run()"
      ]
    },
    {
      "cell_type": "code",
      "execution_count": null,
      "metadata": {
        "collapsed": false
      },
      "outputs": [],
      "source": [
        "calibrationResult = algo.getResult()"
      ]
    },
    {
      "cell_type": "code",
      "execution_count": null,
      "metadata": {
        "collapsed": false
      },
      "outputs": [],
      "source": [
        "thetaMAP = calibrationResult.getParameterMAP()\nthetaMAP"
      ]
    },
    {
      "cell_type": "code",
      "execution_count": null,
      "metadata": {
        "collapsed": false
      },
      "outputs": [],
      "source": [
        "thetaPosterior = calibrationResult.getParameterPosterior()\nthetaPosterior.computeBilateralConfidenceIntervalWithMarginalProbability(0.95)[0]"
      ]
    },
    {
      "cell_type": "markdown",
      "metadata": {},
      "source": [
        "transpose samples to interpret several observations instead of several input/outputs as it is a field model\n\n"
      ]
    },
    {
      "cell_type": "code",
      "execution_count": null,
      "metadata": {
        "collapsed": false
      },
      "outputs": [],
      "source": [
        "if calibrationResult.getInputObservations().getSize() == 1:\n    calibrationResult.setInputObservations([timeObservations[i] for i in range(nbdates)])\n    calibrationResult.setOutputObservations([populationObservations[i] for i in range(nbdates)])\n    outputAtPrior = [[calibrationResult.getOutputAtPriorMean()[0, i]] for i in range(nbdates)]\n    outputAtPosterior = [[calibrationResult.getOutputAtPosteriorMean()[0, i]] for i in range(nbdates)]\n    calibrationResult.setOutputAtPriorAndPosteriorMean(outputAtPrior, outputAtPosterior)"
      ]
    },
    {
      "cell_type": "code",
      "execution_count": null,
      "metadata": {
        "collapsed": false
      },
      "outputs": [],
      "source": [
        "graph = calibrationResult.drawObservationsVsInputs()\nview = viewer.View(graph)"
      ]
    },
    {
      "cell_type": "code",
      "execution_count": null,
      "metadata": {
        "collapsed": false
      },
      "outputs": [],
      "source": [
        "graph = calibrationResult.drawObservationsVsInputs()\nview = viewer.View(graph)"
      ]
    },
    {
      "cell_type": "code",
      "execution_count": null,
      "metadata": {
        "collapsed": false
      },
      "outputs": [],
      "source": [
        "graph = calibrationResult.drawObservationsVsPredictions()\nview = viewer.View(graph)"
      ]
    },
    {
      "cell_type": "code",
      "execution_count": null,
      "metadata": {
        "collapsed": false
      },
      "outputs": [],
      "source": [
        "graph = calibrationResult.drawResiduals()\nview = viewer.View(graph)"
      ]
    },
    {
      "cell_type": "code",
      "execution_count": null,
      "metadata": {
        "collapsed": false
      },
      "outputs": [],
      "source": [
        "graph = calibrationResult.drawParameterDistributions()\nview = viewer.View(graph)\n\nplt.show()"
      ]
    }
  ],
  "metadata": {
    "kernelspec": {
      "display_name": "Python 3",
      "language": "python",
      "name": "python3"
    },
    "language_info": {
      "codemirror_mode": {
        "name": "ipython",
        "version": 3
      },
      "file_extension": ".py",
      "mimetype": "text/x-python",
      "name": "python",
      "nbconvert_exporter": "python",
      "pygments_lexer": "ipython3",
      "version": "3.8.6"
    }
  },
  "nbformat": 4,
  "nbformat_minor": 0
}