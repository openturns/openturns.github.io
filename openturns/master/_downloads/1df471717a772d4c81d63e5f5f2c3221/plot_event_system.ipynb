{
  "cells": [
    {
      "cell_type": "code",
      "execution_count": null,
      "metadata": {
        "collapsed": false
      },
      "outputs": [],
      "source": [
        "%matplotlib inline"
      ]
    },
    {
      "cell_type": "markdown",
      "metadata": {},
      "source": [
        "\n# System events: unions or intersections of events\n"
      ]
    },
    {
      "cell_type": "markdown",
      "metadata": {},
      "source": [
        "This example illustrates system events, which are defined as unions or intersections of other events. We will show how to estimate their probability both with Monte-Carlo sampling (using the class `ProbabilitySimulationAlgorithm`) and with a first order approximation (using the class `SystemFORM`).\n\n**Intersection**\n\nThe event defined as the intersection of several events is realized when all sub-events occurs:\n\n\\begin{align}E_{sys} = \\bigcap_{i=1}^N E_i\\end{align}\n\n**Union**\n\nThe event defined as the union of several events is realized when at least one sub-event occurs:\n\n\\begin{align}E_{sys} = \\bigcup_{i=1}^N E_i\\end{align}\n\n\n"
      ]
    },
    {
      "cell_type": "code",
      "execution_count": null,
      "metadata": {
        "collapsed": false
      },
      "outputs": [],
      "source": [
        "from __future__ import print_function\nimport openturns as ot\nimport openturns.viewer as viewer\nfrom matplotlib import pylab as plt\not.Log.Show(ot.Log.NONE)"
      ]
    },
    {
      "cell_type": "markdown",
      "metadata": {},
      "source": [
        "For system events, we always have to use the same root cause. \n\n"
      ]
    },
    {
      "cell_type": "code",
      "execution_count": null,
      "metadata": {
        "collapsed": false
      },
      "outputs": [],
      "source": [
        "dim = 2\ndistribution = ot.Normal(dim)\nX = ot.RandomVector(distribution)"
      ]
    },
    {
      "cell_type": "markdown",
      "metadata": {},
      "source": [
        "Define some basic events E1, E2 and E3. \n\n"
      ]
    },
    {
      "cell_type": "code",
      "execution_count": null,
      "metadata": {
        "collapsed": false
      },
      "outputs": [],
      "source": [
        "f1 = ot.SymbolicFunction(['x0', 'x1'], ['x0'])\nf2 = ot.SymbolicFunction(['x0', 'x1'], ['x1'])\nf3 = ot.SymbolicFunction(['x0', 'x1'], ['x0+x1'])\n\nY1 = ot.CompositeRandomVector(f1, X)\nY2 = ot.CompositeRandomVector(f2, X)\nY3 = ot.CompositeRandomVector(f3, X)\n\ne1 = ot.ThresholdEvent(Y1, ot.Less(), 0.0)  # E1 <=> x0<0\ne2 = ot.ThresholdEvent(Y2, ot.Greater(), 0.0) # E2 <=> x1>0\ne3 = ot.ThresholdEvent(Y3, ot.Greater(), 0.0) # E3 <=> x0+x1>0"
      ]
    },
    {
      "cell_type": "markdown",
      "metadata": {},
      "source": [
        "Define the intersection E3=E1 AND E2. \n\n"
      ]
    },
    {
      "cell_type": "code",
      "execution_count": null,
      "metadata": {
        "collapsed": false
      },
      "outputs": [],
      "source": [
        "e4 = ot.IntersectionEvent([e1, e2])"
      ]
    },
    {
      "cell_type": "markdown",
      "metadata": {},
      "source": [
        "Approximate probability of that event: $\\approx 1/4$. \n\n"
      ]
    },
    {
      "cell_type": "code",
      "execution_count": null,
      "metadata": {
        "collapsed": false
      },
      "outputs": [],
      "source": [
        "e4.getSample(10000).computeMean()"
      ]
    },
    {
      "cell_type": "markdown",
      "metadata": {},
      "source": [
        "Define the union E4=E1 OR E2. \n\n"
      ]
    },
    {
      "cell_type": "code",
      "execution_count": null,
      "metadata": {
        "collapsed": false
      },
      "outputs": [],
      "source": [
        "e5 = ot.UnionEvent([e1, e2])"
      ]
    },
    {
      "cell_type": "markdown",
      "metadata": {},
      "source": [
        "Approximate probability of that event: $\\approx ~3/4$. \n\n"
      ]
    },
    {
      "cell_type": "code",
      "execution_count": null,
      "metadata": {
        "collapsed": false
      },
      "outputs": [],
      "source": [
        "e5.getSample(10000).computeMean()"
      ]
    },
    {
      "cell_type": "markdown",
      "metadata": {},
      "source": [
        "It supports recursion: define E7=E1 OR (E1 AND E3). \n\n"
      ]
    },
    {
      "cell_type": "code",
      "execution_count": null,
      "metadata": {
        "collapsed": false
      },
      "outputs": [],
      "source": [
        "e7 = ot.UnionEvent([e1, ot.IntersectionEvent([e2, e3])])\nprint(e3.isComposite())"
      ]
    },
    {
      "cell_type": "markdown",
      "metadata": {},
      "source": [
        "## With Monte-Carlo algorithm\n\n"
      ]
    },
    {
      "cell_type": "markdown",
      "metadata": {},
      "source": [
        "Of course, we can use simulation algorithms. \n\n"
      ]
    },
    {
      "cell_type": "code",
      "execution_count": null,
      "metadata": {
        "collapsed": false
      },
      "outputs": [],
      "source": [
        "experiment = ot.MonteCarloExperiment()\nalgo = ot.ProbabilitySimulationAlgorithm(e7, experiment)\nalgo.setMaximumOuterSampling(2500)\nalgo.setBlockSize(4)\nalgo.setMaximumCoefficientOfVariation(-1.0)\nalgo.run()\nresult = algo.getResult()\nresult.getProbabilityEstimate()"
      ]
    },
    {
      "cell_type": "markdown",
      "metadata": {},
      "source": [
        "## SystemFORM\n\n`SystemFORM` is an approximation method suitable for system events.\n\nThe event must be in its disjunctive normal form (union of intersections, or a single intersection).\n\n"
      ]
    },
    {
      "cell_type": "markdown",
      "metadata": {},
      "source": [
        "root cause\n\n"
      ]
    },
    {
      "cell_type": "code",
      "execution_count": null,
      "metadata": {
        "collapsed": false
      },
      "outputs": [],
      "source": [
        "dim = 5\nmean = [200.0] * dim\nmean[-1] = 60\nmean[-2] = 60\nsigma = [30.0] * dim\nsigma[-1] = 15.0\nR = ot.CorrelationMatrix(dim)\nfor i in range(dim):\n    for j in range(i):\n        R[i, j] = 0.5\ndist = ot.Normal(mean, sigma, R)"
      ]
    },
    {
      "cell_type": "markdown",
      "metadata": {},
      "source": [
        "leaf events\n\n"
      ]
    },
    {
      "cell_type": "code",
      "execution_count": null,
      "metadata": {
        "collapsed": false
      },
      "outputs": [],
      "source": [
        "X = ot.RandomVector(dist)\ninputs = ['M1', 'M2', 'M3', 'M4', 'M5']\ne0 = ot.ThresholdEvent(ot.CompositeRandomVector(ot.SymbolicFunction(inputs, ['M1-M2+M4']), X), ot.Less(), 0.0)\ne1 = ot.ThresholdEvent(ot.CompositeRandomVector(ot.SymbolicFunction(inputs, ['M2+2*M3-M4']), X), ot.Less(), 0.0)\ne2 = ot.ThresholdEvent(ot.CompositeRandomVector(ot.SymbolicFunction(inputs, ['2*M3-2*M4-M5']), X), ot.Less(), 0.0)\ne3 = ot.ThresholdEvent(ot.CompositeRandomVector(ot.SymbolicFunction(inputs, ['-(M1+M2+M4+M5-5*10.0)']), X), ot.Less(), 0.0)\ne4 = ot.ThresholdEvent(ot.CompositeRandomVector(ot.SymbolicFunction(inputs, ['-(M2+2*M3+M4-5*40.0)']), X), ot.Less(), 0.0)"
      ]
    },
    {
      "cell_type": "markdown",
      "metadata": {},
      "source": [
        "system event in DNF form (union of intersections)\n\n"
      ]
    },
    {
      "cell_type": "code",
      "execution_count": null,
      "metadata": {
        "collapsed": false
      },
      "outputs": [],
      "source": [
        "event = ot.UnionEvent([ot.IntersectionEvent([e0, e3, e4]), ot.IntersectionEvent([e2, e3, e4])])"
      ]
    },
    {
      "cell_type": "markdown",
      "metadata": {},
      "source": [
        "compute probability with basic sampling\n\n"
      ]
    },
    {
      "cell_type": "code",
      "execution_count": null,
      "metadata": {
        "collapsed": false
      },
      "outputs": [],
      "source": [
        "event.getSample(10000).computeMean()"
      ]
    },
    {
      "cell_type": "markdown",
      "metadata": {},
      "source": [
        "Run systemFORM.\n\n"
      ]
    },
    {
      "cell_type": "code",
      "execution_count": null,
      "metadata": {
        "collapsed": false
      },
      "outputs": [],
      "source": [
        "solver = ot.AbdoRackwitz()\nsolver.setMaximumIterationNumber(1000)\nsolver.setMaximumAbsoluteError(1.0e-3)\nsolver.setMaximumRelativeError(1.0e-3)\nsolver.setMaximumResidualError(1.0e-3)\nsolver.setMaximumConstraintError(1.0e-3)\n\nalgo = ot.SystemFORM(solver, event, mean)\nalgo.run()\nresult = algo.getResult()\nresult.getEventProbability()"
      ]
    }
  ],
  "metadata": {
    "kernelspec": {
      "display_name": "Python 3",
      "language": "python",
      "name": "python3"
    },
    "language_info": {
      "codemirror_mode": {
        "name": "ipython",
        "version": 3
      },
      "file_extension": ".py",
      "mimetype": "text/x-python",
      "name": "python",
      "nbconvert_exporter": "python",
      "pygments_lexer": "ipython3",
      "version": "3.9.1"
    }
  },
  "nbformat": 4,
  "nbformat_minor": 0
}