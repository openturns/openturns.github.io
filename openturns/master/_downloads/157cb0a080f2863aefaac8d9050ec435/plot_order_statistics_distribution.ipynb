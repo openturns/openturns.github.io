{
  "cells": [
    {
      "cell_type": "markdown",
      "metadata": {},
      "source": [
        "\n# Compute the joint distribution of order statistics\n"
      ]
    },
    {
      "cell_type": "markdown",
      "metadata": {},
      "source": [
        "## Context\n\nIn this example, we define the joint distribution of the $n$ order statistics\nof a given distribution $X$.\n\nWe detail the following cases:\n\n- Case 1: The Min - Max order statistics,\n- Case 2: Two order statistics that bound the $\\alpha$ -quantile of $X$ with the confidence\n  level $1-\\beta$.\n\nLet $X$ be a random variable and $\\vect{X}_{(1:n)} = (X_{(1)},\\dots,X_{(n)})$\nbe the random vector of all its order statistics  of size $n$.\nLet $f$ be its PDF and  $F$ its CDF. Then the random vector\nof its  $n$ order statistics  is distributed as the random vector\n$(F^{-1}(U_{(1)}), \\dots, F^{-1}(U_{(n)}))$ where the $U_{(i)}$\nare the order statistics of the Uniform distribution over $[0,1]$:\n\n\\begin{align}(X_{(1)},\\dots,X_{(n)}) \\sim (F^{-1}(U_{(1))}), \\dots, F^{-1}(U_{(n)}))\\end{align}\n\nThen the CDF of $\\vect{X}_{(1:n)}$ is defined by:\n\n\\begin{align}F_{\\vect{X}_{(1:n)}}(\\vect{x}) = F_{\\vect{U}_{(1:n)}}(F(x_1), \\dots, F(x_n))\\end{align}\n\nand its PDF (if defined) by:\n\n\\begin{align}f_{\\vect{X}_{(1:n)}}(\\vect{x}) = n!\\prod_{i=1}^n f(x_i) \\,\\mathbf{1}_{\\cS}(\\vect{x})\n   \\quad \\vect{x} \\in \\Rset^n\\end{align}\n\nThus, to get the joint distribution of $\\vect{X}_{(1:n)}$, we use the\n:class:`~openturns.JointDistribution` whose all marginals are  $X$\nand whose core is a :class:`~openturns.experimental.UniformOrderStatistics`.\n\n"
      ]
    },
    {
      "cell_type": "code",
      "execution_count": null,
      "metadata": {
        "collapsed": false
      },
      "outputs": [],
      "source": [
        "import openturns as ot\nimport openturns.experimental as otexp\nimport openturns.viewer as otv\nimport math as m\n\not.ResourceMap.SetAsString(\"Contour-DefaultColorMapNorm\", \"rank\")\n# sphinx_gallery_thumbnail_number = 2"
      ]
    },
    {
      "cell_type": "markdown",
      "metadata": {},
      "source": [
        "We create the joint distribution of the order statistics from the distribution of $X$\nand the size of the order statistics:\n\n"
      ]
    },
    {
      "cell_type": "code",
      "execution_count": null,
      "metadata": {
        "collapsed": false
      },
      "outputs": [],
      "source": [
        "n = 100\ndist = ot.Normal()\norderStat_dist = ot.JointDistribution([dist] * n, otexp.UniformOrderStatistics(n))"
      ]
    },
    {
      "cell_type": "markdown",
      "metadata": {},
      "source": [
        "## Case 1: The Min - Max order statistics\n\nWe extract the first and last marginals of the order statistics distribution:\n\n"
      ]
    },
    {
      "cell_type": "code",
      "execution_count": null,
      "metadata": {
        "collapsed": false
      },
      "outputs": [],
      "source": [
        "min_max_dist = orderStat_dist.getMarginal([0, n - 1])"
      ]
    },
    {
      "cell_type": "markdown",
      "metadata": {},
      "source": [
        "We search the mode of the joint distribution. To get it, we search the point that maximizes the\nlog-PDF of the distribution. We use a :class:`~openturns.OptimizationProblem`.\n\n"
      ]
    },
    {
      "cell_type": "code",
      "execution_count": null,
      "metadata": {
        "collapsed": false
      },
      "outputs": [],
      "source": [
        "optimPb = ot.OptimizationProblem(min_max_dist.getLogPDF())\noptimPb.setMinimization(False)\noptimPb.setBounds(min_max_dist.getRange())\n\nalgo = ot.Cobyla(optimPb)\nalgo.setStartingPoint(min_max_dist.getMean())\nalgo.run()\n\nmode = algo.getResult().getOptimalPoint()\nprint(\"Mode of the (Min-Max) joint distribution : \", mode)"
      ]
    },
    {
      "cell_type": "markdown",
      "metadata": {},
      "source": [
        "We draw its PDF.\n\n"
      ]
    },
    {
      "cell_type": "code",
      "execution_count": null,
      "metadata": {
        "collapsed": false
      },
      "outputs": [],
      "source": [
        "g = min_max_dist.drawPDF()\ncontour = g.getDrawable(0).getImplementation()\ncontour.buildDefaultLevels(50)\ncontour.setIsFilled(True)\ng.setDrawable(contour, 0)\n\nmode_cloud = ot.Cloud([mode])\nmode_cloud.setPointStyle(\"bullet\")\nmode_cloud.setColor(\"red\")\nmode_cloud.setLegend(\"mode\")\ng.add(mode_cloud)\n\ng.setTitle(r\"Joint PDF of $(X_{(1)}, X_{(n)})$\")\ng.setXTitle(r\"$X_{(1)}$\")\ng.setYTitle(r\"$X_{(n)}$\")\nview = otv.View(g)"
      ]
    },
    {
      "cell_type": "markdown",
      "metadata": {},
      "source": [
        "## Case 2: Two order statistics that bound the $\\alpha$-quantile with the confidence level $1-\\beta$.\n\nWe want to bound the  $\\alpha$-quantile $q_\\alpha$ of $X$ with two particular order statisctics among the $n$ ones.\nWe choose these order statisctics  such that they bound  $q_\\alpha$ with a confidence level equal to\n$1-\\beta$.\nFor example, we want to bound the quantile of order $90\\%$ with a confidence  $95\\%$.\n\nIt is possible to use some particular order statistics to bound $q_\\alpha$: [delmas2006]_\n(see proposition 11.1.3) shows that if $i_n$ and $j_n$ are two indices defined by:\n\n\\begin{align}i_n  = [n \\alpha - \\sqrt{n} a_{\\beta} \\sqrt{\\alpha(1-\\alpha)}]\\\\\n    j_n  = [n \\alpha + \\sqrt{n} a_{\\beta} \\sqrt{\\alpha(1-\\alpha)}]\\end{align}\n\nwhere $a_{\\beta}$ is the quantile of order $(1-\\beta/2)$ of the normal\ndistribution with zero mean and unit variance, then we have:\n\n\\begin{align}\\lim_{n \\rightarrow +\\infty} \\Prob{q_\\alpha \\in [X_{(i_n)}, X_{(j_n)}]} = 1 - \\beta\\end{align}\n\nIt means that any realization of the joint distribution of $(X_{(i_n)}, X_{(j_n)})$, for :math`n` large enough,\nforms an interval that contains\n$q_\\alpha$ with a confidence equal to $1-\\beta$.\n\n"
      ]
    },
    {
      "cell_type": "code",
      "execution_count": null,
      "metadata": {
        "collapsed": false
      },
      "outputs": [],
      "source": [
        "alpha = 0.90\nbeta = 0.05\na_beta = ot.Normal().computeQuantile(1 - beta / 2)[0]\ndelta = m.sqrt(n * alpha * (1 - alpha)) * a_beta\ni_n = int(n * alpha - delta)\nj_n = int(n * alpha + delta)\nprint(\"Chosen order statistics (in, jn) = \", i_n, j_n)"
      ]
    },
    {
      "cell_type": "markdown",
      "metadata": {},
      "source": [
        "Be careful that the indices of the order statistics begins at 0.\n\n"
      ]
    },
    {
      "cell_type": "code",
      "execution_count": null,
      "metadata": {
        "collapsed": false
      },
      "outputs": [],
      "source": [
        "ic_beta_dist = orderStat_dist.getMarginal([i_n - 1, j_n - 1])"
      ]
    },
    {
      "cell_type": "markdown",
      "metadata": {},
      "source": [
        "We search the mode of the joint distribution. To get it, we search the point that maximizes the\nlog-PDF of the distribution. We use a :class:`~openturns.OptimizationProblem`.\n\n"
      ]
    },
    {
      "cell_type": "code",
      "execution_count": null,
      "metadata": {
        "collapsed": false
      },
      "outputs": [],
      "source": [
        "optimPb = ot.OptimizationProblem(ic_beta_dist.getLogPDF())\noptimPb.setMinimization(False)\noptimPb.setBounds(ic_beta_dist.getRange())\n\nalgo = ot.Cobyla(optimPb)\nalgo.setStartingPoint([1.1, 2.1])\nalgo.run()\n\nmode = algo.getResult().getOptimalPoint()\nprint(\"Mode of the joint distribution : \", mode)"
      ]
    },
    {
      "cell_type": "code",
      "execution_count": null,
      "metadata": {
        "collapsed": false
      },
      "outputs": [],
      "source": [
        "g = ic_beta_dist.drawPDF()\ncontour = g.getDrawable(0).getImplementation()\ncontour.buildDefaultLevels(50)\ncontour.setIsFilled(True)\ng.setDrawable(contour, 0)\n\nmode_cloud = ot.Cloud([mode])\nmode_cloud.setPointStyle(\"bullet\")\nmode_cloud.setColor(\"red\")\nmode_cloud.setLegend(\"mode\")\ng.add(mode_cloud)\n\ng.setTitle(r\"Joint PDF of $(X_{(i_n)}, X_{(j_n)})$\")\ng.setXTitle(r\"$X_{(i_n)}$\")\ng.setYTitle(r\"$X_{(j_n)}$\")\nview = otv.View(g)"
      ]
    },
    {
      "cell_type": "markdown",
      "metadata": {},
      "source": [
        "Display all figures\n\n"
      ]
    },
    {
      "cell_type": "code",
      "execution_count": null,
      "metadata": {
        "collapsed": false
      },
      "outputs": [],
      "source": [
        "otv.View.ShowAll()"
      ]
    }
  ],
  "metadata": {
    "kernelspec": {
      "display_name": "Python 3",
      "language": "python",
      "name": "python3"
    },
    "language_info": {
      "codemirror_mode": {
        "name": "ipython",
        "version": 3
      },
      "file_extension": ".py",
      "mimetype": "text/x-python",
      "name": "python",
      "nbconvert_exporter": "python",
      "pygments_lexer": "ipython3",
      "version": "3.13.2"
    }
  },
  "nbformat": 4,
  "nbformat_minor": 0
}