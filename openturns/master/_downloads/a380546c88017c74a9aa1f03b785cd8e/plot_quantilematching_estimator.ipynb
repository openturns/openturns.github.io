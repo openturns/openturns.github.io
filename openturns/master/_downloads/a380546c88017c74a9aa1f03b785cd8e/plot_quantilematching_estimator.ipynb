{
  "cells": [
    {
      "cell_type": "markdown",
      "metadata": {},
      "source": [
        "\n# Define a distribution from quantiles\n"
      ]
    },
    {
      "cell_type": "markdown",
      "metadata": {},
      "source": [
        "In this example we are going to estimate a parametric distribution by numerical optimization of some quantiles.\n\n"
      ]
    },
    {
      "cell_type": "code",
      "execution_count": null,
      "metadata": {
        "collapsed": false
      },
      "outputs": [],
      "source": [
        "import openturns as ot\nfrom openturns.viewer import View"
      ]
    },
    {
      "cell_type": "markdown",
      "metadata": {},
      "source": [
        "We need as many quantile values as there are parameters\nof the distribution.\nFor example, for a Normal distribution, the two parameters are the mean and the\nstandard deviation.\nThis implies that two quantiles are required to estimate the parameters\nof a Normal distribution.\nThe values of the parameters $\\mu$, $\\sigma$ will be used as the reference to assess the optimization.\n\n"
      ]
    },
    {
      "cell_type": "code",
      "execution_count": null,
      "metadata": {
        "collapsed": false
      },
      "outputs": [],
      "source": [
        "dist_ref = ot.Normal(17.0, 34.0)\ndist_ref.setDescription([\"reference\"])\np1 = 0.05\np2 = 0.95\nq1 = dist_ref.computeQuantile(p1)[0]\nq2 = dist_ref.computeQuantile(p2)[0]\nprint(q1, q2)"
      ]
    },
    {
      "cell_type": "markdown",
      "metadata": {},
      "source": [
        "Fit a Normal distribution from these quantiles by numerical optimization.\nEnsure we get the same values as the reference.\n\n"
      ]
    },
    {
      "cell_type": "code",
      "execution_count": null,
      "metadata": {
        "collapsed": false
      },
      "outputs": [],
      "source": [
        "factory = ot.QuantileMatchingFactory(ot.Normal(), [p1, p2])\ndist_estim = factory.buildFromQuantiles([q1, q2])\ndist_estim.setDescription([\"estimated\"])\nprint(dist_estim)"
      ]
    },
    {
      "cell_type": "markdown",
      "metadata": {},
      "source": [
        "Graphically validate if the estimated distribution verifies the imposed quantiles.\n\n"
      ]
    },
    {
      "cell_type": "code",
      "execution_count": null,
      "metadata": {
        "collapsed": false
      },
      "outputs": [],
      "source": [
        "graph = dist_estim.drawCDF()\ncurve_q1 = ot.Curve([q1, q1, 0.0], [0.0, p1, p1])\ncurve_q2 = ot.Curve([q2, q2, 0.0], [0.0, p2, p2])\ngraph.add(curve_q1)\ngraph.add(curve_q2)\ntext_q1 = ot.Text([[q1, -0.1]], [r\"$q_1$\"])\ntext_p1 = ot.Text([[0.0, p1]], [r\"$p_1$\"])\ngraph.add(text_q1)\ngraph.add(text_p1)\ntext_q2 = ot.Text([[q2, -0.1]], [r\"$q_2$\"])\ntext_p2 = ot.Text([[0.0, p2]], [r\"$p_2$\"])\ngraph.add(text_q2)\ngraph.add(text_p2)\n_ = View(graph)"
      ]
    },
    {
      "cell_type": "markdown",
      "metadata": {},
      "source": [
        "It is also possible to define a Histogram distribution from quantiles.\nAs it is a non-parametric distribution we can define as many quantiles as needed.\n\n"
      ]
    },
    {
      "cell_type": "code",
      "execution_count": null,
      "metadata": {
        "collapsed": false
      },
      "outputs": [],
      "source": [
        "N = 10\nprobabilities = [(i + 1) / N for i in range(N)]\nprobabilities[-1] = 1.0 - 1e-3\nquantiles = [dist_ref.computeQuantile(pi)[0] for pi in probabilities]"
      ]
    },
    {
      "cell_type": "markdown",
      "metadata": {},
      "source": [
        "The service is part of the :class:`~openturns.HistogramFactory` class.\nWe also need to define the lower bound of the Histogram to build the distribution.\n\n"
      ]
    },
    {
      "cell_type": "code",
      "execution_count": null,
      "metadata": {
        "collapsed": false
      },
      "outputs": [],
      "source": [
        "lowerBound = quantiles[0] - 10.0\nhisto_quant = ot.HistogramFactory().buildFromQuantiles(\n    lowerBound, probabilities, quantiles\n)"
      ]
    },
    {
      "cell_type": "markdown",
      "metadata": {},
      "source": [
        "Graphically validate if the estimated distribution verifies the imposed quantiles.\nWe can see that the CDF of the estimated Histogram matches all the quantile dots.\n\n"
      ]
    },
    {
      "cell_type": "code",
      "execution_count": null,
      "metadata": {
        "collapsed": false
      },
      "outputs": [],
      "source": [
        "histo_quant.setDescription([\"estimated\"])\ngraph = histo_quant.drawCDF()\ncurve_qi = ot.Cloud(quantiles, probabilities)\ncurve_qi.setLegend(\"quantiles\")\ngraph.add(curve_qi)\n_ = View(graph)\n\nView.ShowAll()"
      ]
    }
  ],
  "metadata": {
    "kernelspec": {
      "display_name": "Python 3",
      "language": "python",
      "name": "python3"
    },
    "language_info": {
      "codemirror_mode": {
        "name": "ipython",
        "version": 3
      },
      "file_extension": ".py",
      "mimetype": "text/x-python",
      "name": "python",
      "nbconvert_exporter": "python",
      "pygments_lexer": "ipython3",
      "version": "3.12.5"
    }
  },
  "nbformat": 4,
  "nbformat_minor": 0
}