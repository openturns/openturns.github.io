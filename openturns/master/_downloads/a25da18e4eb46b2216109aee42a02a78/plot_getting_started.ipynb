{
  "cells": [
    {
      "cell_type": "markdown",
      "metadata": {},
      "source": [
        "\n# Getting started\n"
      ]
    },
    {
      "cell_type": "markdown",
      "metadata": {},
      "source": [
        "The goal of this example is to highlight the main features of the library.\nIt assumes a basic knowledge of the few concepts of the uncertainty methodology (inference, probabilistic modelling, simulation, sensitivity).\n\n"
      ]
    },
    {
      "cell_type": "code",
      "execution_count": null,
      "metadata": {
        "collapsed": false
      },
      "outputs": [],
      "source": [
        "from openturns.usecases import cantilever_beam\nimport openturns as ot\nimport openturns.viewer as otv"
      ]
    },
    {
      "cell_type": "markdown",
      "metadata": {},
      "source": [
        "## Inference of the input distribution\n\n"
      ]
    },
    {
      "cell_type": "markdown",
      "metadata": {},
      "source": [
        "Load a sample of the input variables from the cantilever beam use-case\n\n"
      ]
    },
    {
      "cell_type": "code",
      "execution_count": null,
      "metadata": {
        "collapsed": false
      },
      "outputs": [],
      "source": [
        "cb = cantilever_beam.CantileverBeam()\ndata = cb.data\nprint(data[:5])"
      ]
    },
    {
      "cell_type": "markdown",
      "metadata": {},
      "source": [
        "Infer marginals from most common 1-d parametric distributions\n\n"
      ]
    },
    {
      "cell_type": "code",
      "execution_count": null,
      "metadata": {
        "collapsed": false
      },
      "outputs": [],
      "source": [
        "marginal_factories = [\n    ot.NormalFactory(),\n    ot.BetaFactory(),\n    ot.UniformFactory(),\n    ot.LogNormalFactory(),\n    ot.TriangularFactory(),\n    ot.WeibullMinFactory(),\n    ot.WeibullMaxFactory(),\n]\nestimated_marginals = []\nfor index in range(data.getDimension()):\n    best_model, _ = ot.FittingTest.BestModelBIC(data[:, index], marginal_factories)\n    print(best_model)\n    estimated_marginals.append(best_model)\nprint(estimated_marginals)"
      ]
    },
    {
      "cell_type": "markdown",
      "metadata": {},
      "source": [
        "Assess the goodness of fit of the second marginal\n\n"
      ]
    },
    {
      "cell_type": "code",
      "execution_count": null,
      "metadata": {
        "collapsed": false
      },
      "outputs": [],
      "source": [
        "graph = ot.VisualTest.DrawQQplot(data[:, 1], estimated_marginals[1])\n_ = otv.View(graph)"
      ]
    },
    {
      "cell_type": "markdown",
      "metadata": {},
      "source": [
        "Infer the copula from common n-d parametric copulas in the ranks space\nIf the copula is known it can be provided directly through :class:`~openturns.NormalCopula` for example\n\n"
      ]
    },
    {
      "cell_type": "code",
      "execution_count": null,
      "metadata": {
        "collapsed": false
      },
      "outputs": [],
      "source": [
        "copula_factories = [\n    ot.IndependentCopulaFactory(),\n    ot.NormalCopulaFactory(),\n    ot.StudentCopulaFactory(),\n]\ncopula_sample = ot.Sample(data.getSize(), data.getDimension())\nfor index in range(data.getDimension()):\n    copula_sample[:, index] = estimated_marginals[index].computeCDF(data[:, index])\nestimated_copula, _ = ot.FittingTest.BestModelBIC(copula_sample, copula_factories)\nprint(estimated_copula)"
      ]
    },
    {
      "cell_type": "markdown",
      "metadata": {},
      "source": [
        "Assemble the joint distribution from marginals and copula\n\n"
      ]
    },
    {
      "cell_type": "code",
      "execution_count": null,
      "metadata": {
        "collapsed": false
      },
      "outputs": [],
      "source": [
        "estimated_distribution = ot.JointDistribution(estimated_marginals, estimated_copula)\nprint(estimated_distribution)"
      ]
    },
    {
      "cell_type": "markdown",
      "metadata": {},
      "source": [
        "## Uncertainty propagation\n\n"
      ]
    },
    {
      "cell_type": "markdown",
      "metadata": {},
      "source": [
        "Creation of the model\n\n"
      ]
    },
    {
      "cell_type": "code",
      "execution_count": null,
      "metadata": {
        "collapsed": false
      },
      "outputs": [],
      "source": [
        "def fpython(X):\n    E, F, L, II = X\n    Y = F * L**3 / (3 * E * II)\n    return [Y]\n\n\nmodel = ot.PythonFunction(4, 1, fpython)"
      ]
    },
    {
      "cell_type": "markdown",
      "metadata": {},
      "source": [
        "The distribution can also be given directly when known\n\n"
      ]
    },
    {
      "cell_type": "code",
      "execution_count": null,
      "metadata": {
        "collapsed": false
      },
      "outputs": [],
      "source": [
        "distribution = cb.independentDistribution"
      ]
    },
    {
      "cell_type": "markdown",
      "metadata": {},
      "source": [
        "Propagate the input distribution through the model\nHere the function evaluation can benefit parallelization depending on its type, see also n_cpus option from :class:`~openturns.PythonFunction`.\n\n"
      ]
    },
    {
      "cell_type": "code",
      "execution_count": null,
      "metadata": {
        "collapsed": false
      },
      "outputs": [],
      "source": [
        "sample_x = distribution.getSample(1000)\nsample_y = model(sample_x)"
      ]
    },
    {
      "cell_type": "markdown",
      "metadata": {},
      "source": [
        "Estimate a non-parametric distribution (see :class:`~openturns.KernelSmoothing`) of the output variable\n\n"
      ]
    },
    {
      "cell_type": "code",
      "execution_count": null,
      "metadata": {
        "collapsed": false
      },
      "outputs": [],
      "source": [
        "ks = ot.KernelSmoothing().build(sample_y)\ngrid = ot.GridLayout(1, 2)\ngrid.setGraph(0, 0, ks.drawPDF())\ngrid.setGraph(0, 1, ks.drawCDF())\n_ = otv.View(grid)"
      ]
    },
    {
      "cell_type": "markdown",
      "metadata": {},
      "source": [
        "## Build a metamodel with polynomial chaos expansion\n\n"
      ]
    },
    {
      "cell_type": "code",
      "execution_count": null,
      "metadata": {
        "collapsed": false
      },
      "outputs": [],
      "source": [
        "algo = ot.LeastSquaresExpansion(sample_x, sample_y, distribution)\nalgo.run()\nmetamodel_result = algo.getResult()\nmetamodel = metamodel_result.getMetaModel()\ntest_x = distribution.getSample(1000)\ntest_y = model(test_x)\npredictions = metamodel(test_x)\nvalidation = ot.MetaModelValidation(test_y, predictions)\ngraph = validation.drawValidation()\ngraph.setTitle(graph.getTitle() + f\" R2={validation.computeR2Score()}\")\n_ = otv.View(graph)"
      ]
    },
    {
      "cell_type": "markdown",
      "metadata": {},
      "source": [
        "## Sensitivity analysis\n\n"
      ]
    },
    {
      "cell_type": "markdown",
      "metadata": {},
      "source": [
        "For simplicity we can use a method that does not impose special requirements on the design of experiments\n\n"
      ]
    },
    {
      "cell_type": "code",
      "execution_count": null,
      "metadata": {
        "collapsed": false
      },
      "outputs": [],
      "source": [
        "sobol_x = distribution.getSample(5000)\nsobol_y = metamodel(sobol_x)\nalgo = ot.RankSobolSensitivityAlgorithm(sobol_x, sobol_y)\nprint(algo.getFirstOrderIndices())"
      ]
    },
    {
      "cell_type": "markdown",
      "metadata": {},
      "source": [
        "Plot the sensitivity indices\nThe most influential variable is `F`.\n\n"
      ]
    },
    {
      "cell_type": "code",
      "execution_count": null,
      "metadata": {
        "collapsed": false
      },
      "outputs": [],
      "source": [
        "graph = algo.draw()\n_ = otv.View(graph)"
      ]
    },
    {
      "cell_type": "code",
      "execution_count": null,
      "metadata": {
        "collapsed": false
      },
      "outputs": [],
      "source": [
        "otv.View.ShowAll()"
      ]
    }
  ],
  "metadata": {
    "kernelspec": {
      "display_name": "Python 3",
      "language": "python",
      "name": "python3"
    },
    "language_info": {
      "codemirror_mode": {
        "name": "ipython",
        "version": 3
      },
      "file_extension": ".py",
      "mimetype": "text/x-python",
      "name": "python",
      "nbconvert_exporter": "python",
      "pygments_lexer": "ipython3",
      "version": "3.13.5"
    }
  },
  "nbformat": 4,
  "nbformat_minor": 0
}