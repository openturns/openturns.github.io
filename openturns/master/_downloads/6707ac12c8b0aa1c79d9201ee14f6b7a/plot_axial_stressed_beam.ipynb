{
  "cells": [
    {
      "cell_type": "markdown",
      "metadata": {},
      "source": [
        "\n# Axial stressed beam : comparing different methods to estimate a probability\n"
      ]
    },
    {
      "cell_type": "markdown",
      "metadata": {},
      "source": [
        "In this example, we compare four methods to estimate the probability in the `axial stressed beam <use-case-stressed-beam>` example :\n\n* Monte-Carlo simulation,\n* FORM,\n* directional sampling,\n* importance sampling with FORM design point: FORM-IS.\n\n\n"
      ]
    },
    {
      "cell_type": "markdown",
      "metadata": {},
      "source": [
        "## Define the model\n\n"
      ]
    },
    {
      "cell_type": "code",
      "execution_count": null,
      "metadata": {
        "collapsed": false
      },
      "outputs": [],
      "source": [
        "import numpy as np\nfrom openturns.usecases import stressed_beam\n\nimport openturns as ot\nimport openturns.viewer as viewer"
      ]
    },
    {
      "cell_type": "markdown",
      "metadata": {},
      "source": [
        "We load the model from the usecases module :\n\n"
      ]
    },
    {
      "cell_type": "code",
      "execution_count": null,
      "metadata": {
        "collapsed": false
      },
      "outputs": [],
      "source": [
        "sm = stressed_beam.AxialStressedBeam()"
      ]
    },
    {
      "cell_type": "markdown",
      "metadata": {},
      "source": [
        "The limit state function is defined in the `model` field of the data class :\n\n"
      ]
    },
    {
      "cell_type": "code",
      "execution_count": null,
      "metadata": {
        "collapsed": false
      },
      "outputs": [],
      "source": [
        "limitStateFunction = sm.model"
      ]
    },
    {
      "cell_type": "markdown",
      "metadata": {},
      "source": [
        "The probabilistic model of the axial stressed beam is defined in the data class.\nWe get the first marginal and draw it :\n\n"
      ]
    },
    {
      "cell_type": "code",
      "execution_count": null,
      "metadata": {
        "collapsed": false
      },
      "outputs": [],
      "source": [
        "R_dist = sm.distribution_R\ngraph = R_dist.drawPDF()\nview = viewer.View(graph)"
      ]
    },
    {
      "cell_type": "markdown",
      "metadata": {},
      "source": [
        "We get the second marginal and draw it :\n\n"
      ]
    },
    {
      "cell_type": "code",
      "execution_count": null,
      "metadata": {
        "collapsed": false
      },
      "outputs": [],
      "source": [
        "F_dist = sm.distribution_F\ngraph = F_dist.drawPDF()\nview = viewer.View(graph)"
      ]
    },
    {
      "cell_type": "markdown",
      "metadata": {},
      "source": [
        "These independent marginals define the joint distribution of the input parameters :\n\n"
      ]
    },
    {
      "cell_type": "code",
      "execution_count": null,
      "metadata": {
        "collapsed": false
      },
      "outputs": [],
      "source": [
        "myDistribution = sm.distribution"
      ]
    },
    {
      "cell_type": "markdown",
      "metadata": {},
      "source": [
        "We create a `RandomVector` from the `Distribution`, then a composite random vector. Finally, we create a `ThresholdEvent` from this `RandomVector`.\n\n"
      ]
    },
    {
      "cell_type": "code",
      "execution_count": null,
      "metadata": {
        "collapsed": false
      },
      "outputs": [],
      "source": [
        "inputRandomVector = ot.RandomVector(myDistribution)\noutputRandomVector = ot.CompositeRandomVector(limitStateFunction, inputRandomVector)\nmyEvent = ot.ThresholdEvent(outputRandomVector, ot.Less(), 0.0)"
      ]
    },
    {
      "cell_type": "markdown",
      "metadata": {},
      "source": [
        "## Using Monte Carlo simulations\n\n"
      ]
    },
    {
      "cell_type": "code",
      "execution_count": null,
      "metadata": {
        "collapsed": false
      },
      "outputs": [],
      "source": [
        "cv = 0.05\nNbSim = 100000\n\nexperiment = ot.MonteCarloExperiment()\nalgoMC = ot.ProbabilitySimulationAlgorithm(myEvent, experiment)\nalgoMC.setMaximumOuterSampling(NbSim)\nalgoMC.setBlockSize(1)\nalgoMC.setMaximumCoefficientOfVariation(cv)"
      ]
    },
    {
      "cell_type": "markdown",
      "metadata": {},
      "source": [
        "For statistics about the algorithm\n\n"
      ]
    },
    {
      "cell_type": "code",
      "execution_count": null,
      "metadata": {
        "collapsed": false
      },
      "outputs": [],
      "source": [
        "initialNumberOfCall = limitStateFunction.getEvaluationCallsNumber()"
      ]
    },
    {
      "cell_type": "markdown",
      "metadata": {},
      "source": [
        "Perform the analysis.\n\n"
      ]
    },
    {
      "cell_type": "code",
      "execution_count": null,
      "metadata": {
        "collapsed": false
      },
      "outputs": [],
      "source": [
        "algoMC.run()"
      ]
    },
    {
      "cell_type": "code",
      "execution_count": null,
      "metadata": {
        "collapsed": false
      },
      "outputs": [],
      "source": [
        "result = algoMC.getResult()\nprobabilityMonteCarlo = result.getProbabilityEstimate()\nnumberOfFunctionEvaluationsMonteCarlo = (\n    limitStateFunction.getEvaluationCallsNumber() - initialNumberOfCall\n)\nprint(\"Number of calls to the limit state =\", numberOfFunctionEvaluationsMonteCarlo)\nprint(\"Pf = \", probabilityMonteCarlo)\nprint(\"CV =\", result.getCoefficientOfVariation())"
      ]
    },
    {
      "cell_type": "code",
      "execution_count": null,
      "metadata": {
        "collapsed": false
      },
      "outputs": [],
      "source": [
        "graph = algoMC.drawProbabilityConvergence()\ngraph.setLogScale(ot.GraphImplementation.LOGX)\nview = viewer.View(graph)"
      ]
    },
    {
      "cell_type": "markdown",
      "metadata": {},
      "source": [
        "## Using LHS simulation\n\n"
      ]
    },
    {
      "cell_type": "code",
      "execution_count": null,
      "metadata": {
        "collapsed": false
      },
      "outputs": [],
      "source": [
        "experiment = ot.LHSExperiment()\nexperiment.setAlwaysShuffle(True)\nalgo = ot.ProbabilitySimulationAlgorithm(myEvent, experiment)\nalgo.setMaximumOuterSampling(NbSim)\nalgo.setBlockSize(1)\nalgo.setMaximumCoefficientOfVariation(cv)"
      ]
    },
    {
      "cell_type": "markdown",
      "metadata": {},
      "source": [
        "For statistics about the algorithm\n\n"
      ]
    },
    {
      "cell_type": "code",
      "execution_count": null,
      "metadata": {
        "collapsed": false
      },
      "outputs": [],
      "source": [
        "initialNumberOfCall = limitStateFunction.getEvaluationCallsNumber()"
      ]
    },
    {
      "cell_type": "markdown",
      "metadata": {},
      "source": [
        "Perform the analysis.\n\n"
      ]
    },
    {
      "cell_type": "code",
      "execution_count": null,
      "metadata": {
        "collapsed": false
      },
      "outputs": [],
      "source": [
        "algo.run()"
      ]
    },
    {
      "cell_type": "code",
      "execution_count": null,
      "metadata": {
        "collapsed": false
      },
      "outputs": [],
      "source": [
        "resultLHS = algo.getResult()\n\nnumberOfFunctionEvaluationsLHS = (\n    limitStateFunction.getEvaluationCallsNumber() - initialNumberOfCall\n)\nprobabilityLHS = result.getProbabilityEstimate()\nprint(\"Number of calls to the limit state =\", numberOfFunctionEvaluationsLHS)\nprint(\"Pf = \", probabilityLHS)\nprint(\"CV =\", result.getCoefficientOfVariation())"
      ]
    },
    {
      "cell_type": "code",
      "execution_count": null,
      "metadata": {
        "collapsed": false
      },
      "outputs": [],
      "source": [
        "graph = algo.drawProbabilityConvergence()\ngraph.setLogScale(ot.GraphImplementation.LOGX)\nview = viewer.View(graph)"
      ]
    },
    {
      "cell_type": "markdown",
      "metadata": {},
      "source": [
        "## Using FORM analysis\n\n"
      ]
    },
    {
      "cell_type": "markdown",
      "metadata": {},
      "source": [
        "We create a NearestPoint algorithm\n\n"
      ]
    },
    {
      "cell_type": "code",
      "execution_count": null,
      "metadata": {
        "collapsed": false
      },
      "outputs": [],
      "source": [
        "algoOptim = ot.AbdoRackwitz()\n# Resolution options:\neps = 1e-3\nalgoOptim.setStartingPoint(myDistribution.getMean())\nalgoOptim.setMaximumCallsNumber(1000)\nalgoOptim.setMaximumAbsoluteError(eps)\nalgoOptim.setMaximumRelativeError(eps)\nalgoOptim.setMaximumResidualError(eps)\nalgoOptim.setMaximumConstraintError(eps)"
      ]
    },
    {
      "cell_type": "markdown",
      "metadata": {},
      "source": [
        "For statistics about the algorithm\n\n"
      ]
    },
    {
      "cell_type": "code",
      "execution_count": null,
      "metadata": {
        "collapsed": false
      },
      "outputs": [],
      "source": [
        "initialNumberOfCall = limitStateFunction.getEvaluationCallsNumber()"
      ]
    },
    {
      "cell_type": "markdown",
      "metadata": {},
      "source": [
        "We create a FORM algorithm. The first parameter is a NearestPointAlgorithm. The second parameter is an event.\n\n"
      ]
    },
    {
      "cell_type": "code",
      "execution_count": null,
      "metadata": {
        "collapsed": false
      },
      "outputs": [],
      "source": [
        "algoFORM = ot.FORM(algoOptim, myEvent)"
      ]
    },
    {
      "cell_type": "markdown",
      "metadata": {},
      "source": [
        "Perform the analysis.\n\n"
      ]
    },
    {
      "cell_type": "code",
      "execution_count": null,
      "metadata": {
        "collapsed": false
      },
      "outputs": [],
      "source": [
        "algoFORM.run()"
      ]
    },
    {
      "cell_type": "code",
      "execution_count": null,
      "metadata": {
        "collapsed": false
      },
      "outputs": [],
      "source": [
        "resultFORM = algoFORM.getResult()\nnumberOfFunctionEvaluationsFORM = (\n    limitStateFunction.getEvaluationCallsNumber() - initialNumberOfCall\n)\nprobabilityFORM = resultFORM.getEventProbability()\nprint(\"Number of calls to the limit state =\", numberOfFunctionEvaluationsFORM)\nprint(\"Pf =\", probabilityFORM)"
      ]
    },
    {
      "cell_type": "code",
      "execution_count": null,
      "metadata": {
        "collapsed": false
      },
      "outputs": [],
      "source": [
        "graph = resultFORM.drawImportanceFactors()\nview = viewer.View(graph)"
      ]
    },
    {
      "cell_type": "markdown",
      "metadata": {},
      "source": [
        "## Using Directional sampling\n\n"
      ]
    },
    {
      "cell_type": "markdown",
      "metadata": {},
      "source": [
        "Resolution options:\n\n"
      ]
    },
    {
      "cell_type": "code",
      "execution_count": null,
      "metadata": {
        "collapsed": false
      },
      "outputs": [],
      "source": [
        "cv = 0.05\nNbSim = 10000\n\nalgoDS = ot.DirectionalSampling(myEvent)\nalgoDS.setMaximumOuterSampling(NbSim)\nalgoDS.setBlockSize(1)\nalgoDS.setMaximumCoefficientOfVariation(cv)"
      ]
    },
    {
      "cell_type": "markdown",
      "metadata": {},
      "source": [
        "For statistics about the algorithm\n\n"
      ]
    },
    {
      "cell_type": "code",
      "execution_count": null,
      "metadata": {
        "collapsed": false
      },
      "outputs": [],
      "source": [
        "initialNumberOfCall = limitStateFunction.getEvaluationCallsNumber()"
      ]
    },
    {
      "cell_type": "markdown",
      "metadata": {},
      "source": [
        "Perform the analysis.\n\n"
      ]
    },
    {
      "cell_type": "code",
      "execution_count": null,
      "metadata": {
        "collapsed": false
      },
      "outputs": [],
      "source": [
        "algoDS.run()"
      ]
    },
    {
      "cell_type": "code",
      "execution_count": null,
      "metadata": {
        "collapsed": false
      },
      "outputs": [],
      "source": [
        "result = algoDS.getResult()\nprobabilityDirectionalSampling = result.getProbabilityEstimate()\nnumberOfFunctionEvaluationsDirectionalSampling = (\n    limitStateFunction.getEvaluationCallsNumber() - initialNumberOfCall\n)\nprint(\n    \"Number of calls to the limit state =\",\n    numberOfFunctionEvaluationsDirectionalSampling,\n)\nprint(\"Pf = \", probabilityDirectionalSampling)\nprint(\"CV =\", result.getCoefficientOfVariation())"
      ]
    },
    {
      "cell_type": "code",
      "execution_count": null,
      "metadata": {
        "collapsed": false
      },
      "outputs": [],
      "source": [
        "graph = algoDS.drawProbabilityConvergence()\ngraph.setLogScale(ot.GraphImplementation.LOGX)\nview = viewer.View(graph)"
      ]
    },
    {
      "cell_type": "markdown",
      "metadata": {},
      "source": [
        "## Using importance sampling with FORM design point: FORM-IS\n\n"
      ]
    },
    {
      "cell_type": "markdown",
      "metadata": {},
      "source": [
        "The `getStandardSpaceDesignPoint` method returns the design point in the U-space.\n\n"
      ]
    },
    {
      "cell_type": "code",
      "execution_count": null,
      "metadata": {
        "collapsed": false
      },
      "outputs": [],
      "source": [
        "standardSpaceDesignPoint = resultFORM.getStandardSpaceDesignPoint()\nstandardSpaceDesignPoint"
      ]
    },
    {
      "cell_type": "markdown",
      "metadata": {},
      "source": [
        "The key point is to define the importance distribution in the U-space.\nTo define it, we use a multivariate standard Gaussian and configure it so that the center is equal to the design point in the U-space.\n\n"
      ]
    },
    {
      "cell_type": "code",
      "execution_count": null,
      "metadata": {
        "collapsed": false
      },
      "outputs": [],
      "source": [
        "dimension = myDistribution.getDimension()\ndimension"
      ]
    },
    {
      "cell_type": "code",
      "execution_count": null,
      "metadata": {
        "collapsed": false
      },
      "outputs": [],
      "source": [
        "myImportance = ot.Normal(dimension)\nmyImportance.setMu(standardSpaceDesignPoint)\nmyImportance"
      ]
    },
    {
      "cell_type": "markdown",
      "metadata": {},
      "source": [
        "Create the design of experiment corresponding to importance sampling. This generates a `WeightedExperiment` with weights corresponding to the importance distribution.\n\n"
      ]
    },
    {
      "cell_type": "code",
      "execution_count": null,
      "metadata": {
        "collapsed": false
      },
      "outputs": [],
      "source": [
        "experiment = ot.ImportanceSamplingExperiment(myImportance)"
      ]
    },
    {
      "cell_type": "markdown",
      "metadata": {},
      "source": [
        "Create the standard event corresponding to the event. This transforms the original problem into the U-space, with Gaussian independent marginals.\n\n"
      ]
    },
    {
      "cell_type": "code",
      "execution_count": null,
      "metadata": {
        "collapsed": false
      },
      "outputs": [],
      "source": [
        "standardEvent = ot.StandardEvent(myEvent)"
      ]
    },
    {
      "cell_type": "markdown",
      "metadata": {},
      "source": [
        "We then create the simulation algorithm.\n\n"
      ]
    },
    {
      "cell_type": "code",
      "execution_count": null,
      "metadata": {
        "collapsed": false
      },
      "outputs": [],
      "source": [
        "algo = ot.ProbabilitySimulationAlgorithm(standardEvent, experiment)\nalgo.setMaximumCoefficientOfVariation(cv)\nalgo.setMaximumOuterSampling(40000)"
      ]
    },
    {
      "cell_type": "markdown",
      "metadata": {},
      "source": [
        "For statistics about the algorithm\n\n"
      ]
    },
    {
      "cell_type": "code",
      "execution_count": null,
      "metadata": {
        "collapsed": false
      },
      "outputs": [],
      "source": [
        "initialNumberOfCall = limitStateFunction.getEvaluationCallsNumber()"
      ]
    },
    {
      "cell_type": "code",
      "execution_count": null,
      "metadata": {
        "collapsed": false
      },
      "outputs": [],
      "source": [
        "algo.run()"
      ]
    },
    {
      "cell_type": "markdown",
      "metadata": {},
      "source": [
        "retrieve results\n\n"
      ]
    },
    {
      "cell_type": "code",
      "execution_count": null,
      "metadata": {
        "collapsed": false
      },
      "outputs": [],
      "source": [
        "result = algo.getResult()\nprobabilityFORMIS = result.getProbabilityEstimate()\nnumberOfFunctionEvaluationsFORMIS = (\n    limitStateFunction.getEvaluationCallsNumber() - initialNumberOfCall\n)\nprint(\"Number of calls to the limit state =\", numberOfFunctionEvaluationsFORMIS)\nprint(\"Pf = \", probabilityFORMIS)\nprint(\"CV =\", result.getCoefficientOfVariation())"
      ]
    },
    {
      "cell_type": "markdown",
      "metadata": {},
      "source": [
        "## Conclusion\n\n"
      ]
    },
    {
      "cell_type": "markdown",
      "metadata": {},
      "source": [
        "We now compare the different methods in terms of accuracy and speed.\n\n"
      ]
    },
    {
      "cell_type": "markdown",
      "metadata": {},
      "source": [
        "The following function computes the number of correct base-10 digits in the computed result compared to the exact result.\n\n"
      ]
    },
    {
      "cell_type": "code",
      "execution_count": null,
      "metadata": {
        "collapsed": false
      },
      "outputs": [],
      "source": [
        "def computeLogRelativeError(exact, computed):\n    logRelativeError = -np.log10(abs(exact - computed) / abs(exact))\n    return logRelativeError"
      ]
    },
    {
      "cell_type": "markdown",
      "metadata": {},
      "source": [
        "The following function prints the results.\n\n"
      ]
    },
    {
      "cell_type": "code",
      "execution_count": null,
      "metadata": {
        "collapsed": false
      },
      "outputs": [],
      "source": [
        "def printMethodSummary(name, computedProbability, numberOfFunctionEvaluations):\n    print(\"---\")\n    print(name, \":\")\n    print(\"Number of calls to the limit state =\", numberOfFunctionEvaluations)\n    print(\"Pf = \", computedProbability)\n    exactProbability = 0.02919819462483051\n    logRelativeError = computeLogRelativeError(exactProbability, computedProbability)\n    print(\"Number of correct digits=%.3f\" % (logRelativeError))\n    performance = logRelativeError / numberOfFunctionEvaluations\n    print(\"Performance=%.2e (correct digits/evaluation)\" % (performance))\n    return"
      ]
    },
    {
      "cell_type": "code",
      "execution_count": null,
      "metadata": {
        "collapsed": false
      },
      "outputs": [],
      "source": [
        "printMethodSummary(\n    \"Monte-Carlo\", probabilityMonteCarlo, numberOfFunctionEvaluationsMonteCarlo\n)\nprintMethodSummary(\"LHS\", probabilityLHS, numberOfFunctionEvaluationsLHS)\nprintMethodSummary(\"FORM\", probabilityFORM, numberOfFunctionEvaluationsFORM)\nprintMethodSummary(\n    \"DirectionalSampling\",\n    probabilityDirectionalSampling,\n    numberOfFunctionEvaluationsDirectionalSampling,\n)\nprintMethodSummary(\"FORM-IS\", probabilityFORMIS, numberOfFunctionEvaluationsFORMIS)"
      ]
    },
    {
      "cell_type": "markdown",
      "metadata": {},
      "source": [
        "We see that all three methods produce the correct probability, but not with the same accuracy.\nIn this case, we have found the correct order of magnitude of the probability, i.e. between one and two correct digits.\nThere is, however, a significant difference in computational performance (measured here by the number of function evaluations).\n\n* The fastest method is the FORM method, which produces more than 1 correct\n  digit with less than 98 function evaluations with a performance equal to $1.60 \\times 10^{-2}$ (correct digits/evaluation).\n  A practical limitation is that the FORM method does not produce a confidence interval: there is no guarantee that the computed probability is correct.\n* The slowest method is Monte-Carlo simulation, which produces more than 1 correct digit with 12806 function evaluations.\n  This is associated with a very slow performance equal to $1.11 \\times 10^{-4}$ (correct digits/evaluation).\n  The interesting point with the Monte-Carlo simulation is that the method produces a confidence interval.\n* The DirectionalSampling method is somewhat in-between the two previous methods.\n* The FORM-IS method produces 2 correct digits and has a small number of function evaluations.i\n  It has an intermediate performance equal to $2.37\\times 10^{-3}$ (correct digits/evaluation).\n  It combines the best of the both worlds: it has the small number of function evaluation of FORM computation and the confidence interval of Monte-Carlo simulation.\n\n"
      ]
    }
  ],
  "metadata": {
    "kernelspec": {
      "display_name": "Python 3",
      "language": "python",
      "name": "python3"
    },
    "language_info": {
      "codemirror_mode": {
        "name": "ipython",
        "version": 3
      },
      "file_extension": ".py",
      "mimetype": "text/x-python",
      "name": "python",
      "nbconvert_exporter": "python",
      "pygments_lexer": "ipython3",
      "version": "3.13.5"
    }
  },
  "nbformat": 4,
  "nbformat_minor": 0
}