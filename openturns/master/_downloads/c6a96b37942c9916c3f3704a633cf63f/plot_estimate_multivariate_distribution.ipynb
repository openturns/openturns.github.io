{
  "cells": [
    {
      "cell_type": "markdown",
      "metadata": {},
      "source": [
        "\n# Estimate a multivariate distribution\n"
      ]
    },
    {
      "cell_type": "markdown",
      "metadata": {},
      "source": [
        "In this example we are going to estimate a joint distribution from a multivariate sample by fitting marginals and finding a set of copulas.\n\nWhile the estimation of marginals is quite straightforward, the estimation of the dependency structure takes several steps:\n\n- find the dependent components\n- estimate a copula on each dependent bloc\n- assemble the estimated copulas\n\n\n"
      ]
    },
    {
      "cell_type": "code",
      "execution_count": null,
      "metadata": {
        "collapsed": false
      },
      "outputs": [],
      "source": [
        "import openturns as ot\nimport math as m\n\not.Log.Show(ot.Log.NONE)\not.RandomGenerator.SetSeed(0)"
      ]
    },
    {
      "cell_type": "markdown",
      "metadata": {},
      "source": [
        "Generate some multivariate data to estimate, with correlation\n\n"
      ]
    },
    {
      "cell_type": "code",
      "execution_count": null,
      "metadata": {
        "collapsed": false
      },
      "outputs": [],
      "source": [
        "cop1 = ot.AliMikhailHaqCopula(0.6)\ncop2 = ot.ClaytonCopula(2.5)\ncopula = ot.BlockIndependentCopula([cop1, cop2])\nmarginals = [\n    ot.Uniform(5.0, 6.0),\n    ot.Arcsine(),\n    ot.Normal(-40.0, 3.0),\n    ot.Triangular(100.0, 150.0, 300.0),\n]\ndistribution = ot.JointDistribution(marginals, copula)\nsample = distribution.getSample(10000).getMarginal([0, 2, 3, 1])"
      ]
    },
    {
      "cell_type": "markdown",
      "metadata": {},
      "source": [
        "Estimate marginals\n\n"
      ]
    },
    {
      "cell_type": "code",
      "execution_count": null,
      "metadata": {
        "collapsed": false
      },
      "outputs": [],
      "source": [
        "dimension = sample.getDimension()\nmarginalFactories = []\nfor factory in ot.DistributionFactory.GetContinuousUniVariateFactories():\n    if str(factory).startswith(\"Histogram\"):\n        # ~ non-parametric\n        continue\n    marginalFactories.append(factory)\nestimated_marginals = [\n    ot.FittingTest.BestModelBIC(sample.getMarginal(i), marginalFactories)[0]\n    for i in range(dimension)\n]\nestimated_marginals"
      ]
    },
    {
      "cell_type": "markdown",
      "metadata": {},
      "source": [
        "Find connected components of a graph defined from its adjacency matrix\n\n"
      ]
    },
    {
      "cell_type": "code",
      "execution_count": null,
      "metadata": {
        "collapsed": false
      },
      "outputs": [],
      "source": [
        "def find_neighbours(head, covariance, to_visit, visited):\n    visited[head] = 1\n    to_visit.remove(head)\n    current_component = [head]\n    for i in to_visit:\n        # If i is connected to head and has not yet been visited\n        if covariance[head, i] > 0:\n            # Add i to the current component\n            component = find_neighbours(i, covariance, to_visit, visited)\n            current_component += component\n    return current_component\n\n\ndef connected_components(covariance):\n    N = covariance.getDimension()\n    to_visit = list(range(N))\n    visited = [0] * N\n    all_components = []\n    for head in range(N):\n        if visited[head] == 0:\n            component = find_neighbours(head, covariance, to_visit, visited)\n            all_components.append(sorted(component))\n    return all_components"
      ]
    },
    {
      "cell_type": "markdown",
      "metadata": {},
      "source": [
        "## Estimate the copula\n\nFirst find the dependent components : we compute the `Spearman` correlation\n\n"
      ]
    },
    {
      "cell_type": "code",
      "execution_count": null,
      "metadata": {
        "collapsed": false
      },
      "outputs": [],
      "source": [
        "C = sample.computeSpearmanCorrelation()\nprint(C)"
      ]
    },
    {
      "cell_type": "markdown",
      "metadata": {},
      "source": [
        "We filter and consider only significantly non-zero correlations.\n\n"
      ]
    },
    {
      "cell_type": "code",
      "execution_count": null,
      "metadata": {
        "collapsed": false
      },
      "outputs": [],
      "source": [
        "epsilon = 2.0 / m.sqrt(sample.getSize())\nfor j in range(dimension):\n    for i in range(j):\n        C[i, j] = 1.0 if abs(C[i, j]) > epsilon else 0.0\nprint(C)"
      ]
    },
    {
      "cell_type": "markdown",
      "metadata": {},
      "source": [
        "Note that we can apply the `HypothesisTest.Spearman` test. As the null hypothesis of the test is the `independence`, we must take the complementary of the binary measure as follow:\n\n>>>   M = ot.SymmetricMatrix(dimension)\n>>>   for i in range(dimension):\n>>>       M[i,i] = 1\n>>>       for j in range(i):\n>>>           M[i, j] = 1 - ot.HypothesisTest.Spearman(sample[:,i], sample[:,j]).getBinaryQualityMeasure()\n\n\n"
      ]
    },
    {
      "cell_type": "markdown",
      "metadata": {},
      "source": [
        "Now we find the independent blocs:\n\n"
      ]
    },
    {
      "cell_type": "code",
      "execution_count": null,
      "metadata": {
        "collapsed": false
      },
      "outputs": [],
      "source": [
        "blocs = connected_components(C)\nblocs"
      ]
    },
    {
      "cell_type": "markdown",
      "metadata": {},
      "source": [
        "For each dependent block, we estimate the most accurate parameteric copula.\n\nTo do this, we first need to transform the sample in such a way as to keep the copula intact but make all marginal samples follow the uniform distribution on [0,1].\n\n"
      ]
    },
    {
      "cell_type": "code",
      "execution_count": null,
      "metadata": {
        "collapsed": false
      },
      "outputs": [],
      "source": [
        "copula_sample = ot.Sample(sample.getSize(), sample.getDimension())\ncopula_sample.setDescription(sample.getDescription())\nfor index in range(sample.getDimension()):\n    copula_sample[:, index] = estimated_marginals[index].computeCDF(sample[:, index])"
      ]
    },
    {
      "cell_type": "code",
      "execution_count": null,
      "metadata": {
        "collapsed": false
      },
      "outputs": [],
      "source": [
        "copulaFactories = []\nfor factory in ot.DistributionFactory.GetContinuousMultiVariateFactories():\n    if not factory.build().isCopula():\n        continue\n    if factory.getImplementation().getClassName() == \"BernsteinCopulaFactory\":\n        continue\n    copulaFactories.append(factory)\nestimated_copulas = [\n    ot.FittingTest.BestModelBIC(copula_sample.getMarginal(bloc), copulaFactories)[0]\n    for bloc in blocs\n]\nestimated_copulas"
      ]
    },
    {
      "cell_type": "markdown",
      "metadata": {},
      "source": [
        "Finally we assemble the copula\n\n"
      ]
    },
    {
      "cell_type": "code",
      "execution_count": null,
      "metadata": {
        "collapsed": false
      },
      "outputs": [],
      "source": [
        "estimated_copula_perm = ot.BlockIndependentCopula(estimated_copulas)"
      ]
    },
    {
      "cell_type": "markdown",
      "metadata": {},
      "source": [
        "Take care of the order of each bloc vs the order of original components !\n\n"
      ]
    },
    {
      "cell_type": "code",
      "execution_count": null,
      "metadata": {
        "collapsed": false
      },
      "outputs": [],
      "source": [
        "permutation = []\nfor bloc in blocs:\n    permutation.extend(bloc)\ninverse_permutation = [-1] * dimension\nfor i in range(dimension):\n    inverse_permutation[permutation[i]] = i\nestimated_copula = estimated_copula_perm.getMarginal(inverse_permutation)\nestimated_copula"
      ]
    },
    {
      "cell_type": "markdown",
      "metadata": {},
      "source": [
        "We build joint distribution from marginal distributions and dependency structure:\n\n"
      ]
    },
    {
      "cell_type": "code",
      "execution_count": null,
      "metadata": {
        "collapsed": false
      },
      "outputs": [],
      "source": [
        "estimated_distribution = ot.JointDistribution(estimated_marginals, estimated_copula)\nestimated_distribution"
      ]
    }
  ],
  "metadata": {
    "kernelspec": {
      "display_name": "Python 3",
      "language": "python",
      "name": "python3"
    },
    "language_info": {
      "codemirror_mode": {
        "name": "ipython",
        "version": 3
      },
      "file_extension": ".py",
      "mimetype": "text/x-python",
      "name": "python",
      "nbconvert_exporter": "python",
      "pygments_lexer": "ipython3",
      "version": "3.13.3"
    }
  },
  "nbformat": 4,
  "nbformat_minor": 0
}