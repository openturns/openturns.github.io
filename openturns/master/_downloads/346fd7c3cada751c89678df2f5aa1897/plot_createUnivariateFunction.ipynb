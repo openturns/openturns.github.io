{
  "cells": [
    {
      "cell_type": "markdown",
      "metadata": {},
      "source": [
        "\n# Create univariate functions\nThis example presents different ways to create univariate functions which can be used to create\na functional basis. This is the type of functions involved, for example, in the\n:class:`~openturns.FunctionalChaosAlgorithm` class.\n\nThe univariate functions considered in this\nexample can be, in some cases, orthogonal to a distribution, but this is not a necessary\ncondition to create univariate functions. For example, Legendre polynomials are orthogonal\nwith respect to the uniform distribution, but the monomials of the canonical polynomial basis\nare not necessarily orthogonal.\n"
      ]
    },
    {
      "cell_type": "markdown",
      "metadata": {},
      "source": [
        "## Description\n\nWe want to build univariate functions $f : \\mathbb{R} \\mapsto \\mathbb{R}$.\n\nWe can do that:\n\n- Case 1: using orthogonal polynomials,\n- Case 2: using univariate polynomials,\n- Case 3: using orthogonal functions.\n\n\n## Case 1: Orthogonal polynomials\n\nIn that case, the polynomials are orthogonal with respect to a measure.\n\nFor example: we consider the Legendre polynomials family, orthogonal with respect to the uniform\ndistribution on $[0,1]$. We use the :class:`~openturns.LegendreFactory` class.\nIts method :meth:`~openturns.LegendreFactory.build` applied to $k$ returns the polynomial number\n$k$ of the family.\n\n"
      ]
    },
    {
      "cell_type": "code",
      "execution_count": null,
      "metadata": {
        "collapsed": false
      },
      "outputs": [],
      "source": [
        "import openturns as ot\nimport openturns.viewer as otv\n\nf1 = ot.LegendreFactory().build(1)\nf2 = ot.LegendreFactory().build(2)\nf3 = ot.LegendreFactory().build(3)\n\nprint(type(f1))\n\ng = f1.draw(-1.0, 1.0, 256)\ng.add(f2.draw(-1.0, 1.0, 256))\ng.add(f3.draw(-1.0, 1.0, 256))\ng.setLegends([r\"$\\phi_1(x)$\", r\"$\\phi_2(x)$\", r\"$\\phi_3(x)$\"])\ng.setLegendPosition(\"lower right\")\ng.setTitle(\"Legendre Polynomials\")\nview = otv.View(g)"
      ]
    },
    {
      "cell_type": "markdown",
      "metadata": {},
      "source": [
        "We get the measure associated to the polynomial family:\n\n"
      ]
    },
    {
      "cell_type": "code",
      "execution_count": null,
      "metadata": {
        "collapsed": false
      },
      "outputs": [],
      "source": [
        "measure_Legendre = ot.LegendreFactory().getMeasure()\nprint(\"Measure orthogonal to Legendre polynomials = \", measure_Legendre)"
      ]
    },
    {
      "cell_type": "markdown",
      "metadata": {},
      "source": [
        "## Case 2: Univariate polynomials\n\nUnivariate polynomials are not necessarily orthogonal with respect to a measure.\n\nWe can use:\n\n- the :class:`~openturns.UniVariatePolynomial` class,\n- the :class:`~openturns.MonomialFunctionFactory` class,\n- the :class:`~openturns.MonomialFunction` class.\n\nFor example, we consider :\n\n\\begin{align}\\begin{array}{lcl}\n      f(x) & = & 1+2x+3x^2+4x^3\\\\\n      g(x) & = & x^3\n    \\end{array}\\end{align}\n\n"
      ]
    },
    {
      "cell_type": "code",
      "execution_count": null,
      "metadata": {
        "collapsed": false
      },
      "outputs": [],
      "source": [
        "f = ot.UniVariatePolynomial([1.0, 2.0, 3.0, 4.0])\ng1 = ot.MonomialFunctionFactory().build(3)\ng2 = ot.MonomialFunction(3)\nprint(\"f = \", f)\nprint(\"g1 = \", g1)\nprint(\"g2 = \", g2)"
      ]
    },
    {
      "cell_type": "markdown",
      "metadata": {},
      "source": [
        "There is no associated measure: if it is uncommented, the following command will fail, as expected.\n\n"
      ]
    },
    {
      "cell_type": "code",
      "execution_count": null,
      "metadata": {
        "collapsed": false
      },
      "outputs": [],
      "source": [
        "# print(ot.MonomialFunctionFactory().getMeasure())"
      ]
    },
    {
      "cell_type": "markdown",
      "metadata": {},
      "source": [
        "## Case 3: Orthogonal functions\n\nIn that case, the functions are orthogonal with respect to a measure $\\mu$.\n\nWe can use:\n\n- the :class:`~openturns.HaarWaveletFactory` class,\n- the :class:`~openturns.FourierSeriesFactory` class.\n\nThe method :meth:`~openturns.HaarWaveletFactory.build` returns the function number $k$ of the family.\n\nFor example, we consider a Haar Wawelet.\n\n"
      ]
    },
    {
      "cell_type": "code",
      "execution_count": null,
      "metadata": {
        "collapsed": false
      },
      "outputs": [],
      "source": [
        "f1 = ot.HaarWaveletFactory().build(1)\nf2 = ot.HaarWaveletFactory().build(2)\nf3 = ot.HaarWaveletFactory().build(3)\n\ng = f1.draw(0.0, 1.0, 256)\ng.add(f2.draw(0.0, 1.0, 256))\ng.add(f3.draw(0.0, 1.0, 256))\ng.setLegends([r\"$\\phi_1(x)$\", r\"$\\phi_21(x)$\", r\"$\\phi_3(x)$\"])\ng.setLegendPosition(\"upper right\")\ng.setTitle(\"Haar Wavelets\")\nview = otv.View(g)"
      ]
    },
    {
      "cell_type": "markdown",
      "metadata": {},
      "source": [
        "We get the measure: for the Haar Wavelet family, the $\\mathcal{U}(0,1)$ distribution.\n\n"
      ]
    },
    {
      "cell_type": "code",
      "execution_count": null,
      "metadata": {
        "collapsed": false
      },
      "outputs": [],
      "source": [
        "measure_Haar = ot.HaarWaveletFactory().getMeasure()\nprint(\"Measure orthogonal to Haar wavelets = \", measure_Haar)"
      ]
    },
    {
      "cell_type": "markdown",
      "metadata": {},
      "source": [
        "For example, we consider a Fourier Series.\n\n"
      ]
    },
    {
      "cell_type": "code",
      "execution_count": null,
      "metadata": {
        "collapsed": false
      },
      "outputs": [],
      "source": [
        "f1 = ot.FourierSeriesFactory().build(1)\nf2 = ot.FourierSeriesFactory().build(2)\nf3 = ot.FourierSeriesFactory().build(3)\n\ng = f1.draw(-3.0, 3.0, 256)\ng.add(f2.draw(-3.0, 3.0, 256))\ng.add(f3.draw(-3.0, 3.0, 256))\ng.setLegends([r\"$\\phi_1(x)$\", r\"$\\phi_21(x)$\", r\"$\\phi_3(x)$\"])\ng.setLegendPosition(\"upper right\")\ng.setTitle(\"Fourier Series\")\nview = otv.View(g)"
      ]
    },
    {
      "cell_type": "markdown",
      "metadata": {},
      "source": [
        "We get the measure: for the Fourier Series, the $\\mathcal{U}(-\\pi, \\pi)$ distribution.\n\n"
      ]
    },
    {
      "cell_type": "code",
      "execution_count": null,
      "metadata": {
        "collapsed": false
      },
      "outputs": [],
      "source": [
        "measure_Fourier = ot.FourierSeriesFactory().getMeasure()\nprint(\"Measure orthogonal to Fourier series = \", measure_Fourier)"
      ]
    },
    {
      "cell_type": "code",
      "execution_count": null,
      "metadata": {
        "collapsed": false
      },
      "outputs": [],
      "source": [
        "otv.View.ShowAll()"
      ]
    }
  ],
  "metadata": {
    "kernelspec": {
      "display_name": "Python 3",
      "language": "python",
      "name": "python3"
    },
    "language_info": {
      "codemirror_mode": {
        "name": "ipython",
        "version": 3
      },
      "file_extension": ".py",
      "mimetype": "text/x-python",
      "name": "python",
      "nbconvert_exporter": "python",
      "pygments_lexer": "ipython3",
      "version": "3.13.3"
    }
  },
  "nbformat": 4,
  "nbformat_minor": 0
}