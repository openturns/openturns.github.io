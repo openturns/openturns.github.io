{
  "cells": [
    {
      "cell_type": "code",
      "execution_count": null,
      "metadata": {
        "collapsed": false
      },
      "outputs": [],
      "source": [
        "%matplotlib inline"
      ]
    },
    {
      "cell_type": "markdown",
      "metadata": {},
      "source": [
        "\n# Estimate a probability with Monte Carlo\n"
      ]
    },
    {
      "cell_type": "markdown",
      "metadata": {},
      "source": [
        "In this example we estimate a probability by means of a simulation algorithm, the Monte-Carlo algorithm. To do this, we need the classes `MonteCarloExperiment` and `ProbabilitySimulationAlgorithm`.\n\n"
      ]
    },
    {
      "cell_type": "markdown",
      "metadata": {},
      "source": [
        "## Introduction\n\nWe consider a simple beam stressed by a traction load F at both sides.\n\n![Axial stressed beam](axial-stressed-beam.png)\n\nThe geometry is supposed to be deterministic; the diameter D is equal to:\n\n\\begin{align}D=0.02 \\textrm{ (m)}.\\end{align}\n\n\nBy definition, the yield stress is the load divided by the surface. Since the surface is $\\pi D^2/4$, the stress is:\n\n\\begin{align}S = \\frac{F}{\\pi D^2/4}.\\end{align}\n\n\nFailure occurs when the beam plastifies, i.e. when the axial stress gets larger than the yield stress:\n\n\\begin{align}R - \\frac{F}{\\pi D^2/4} \\leq 0\\end{align}\n\n\nwhere $R$ is the strength.\n\nTherefore, the limit state function $G$ is: \n\n\\begin{align}G(R,F) = R - \\frac{F}{\\pi D^2/4},\\end{align}\n\n\nfor any $R,F\\in\\mathbb{R}$.\n\nThe value of the parameter $D$ is such that:\n\n\\begin{align}D^2/4 = 10^{-4},\\end{align}\n\n\nwhich leads to the equation:\n\n\\begin{align}G(R,F) = R - \\frac{F}{10^{-4} \\pi}.\\end{align}\n\n\nWe consider the following distribution functions.\n\n ========  ===========================================================================\n Variable  Distribution \n ========  ===========================================================================\n  R         LogNormal($\\mu_R=3\\times 10^6$, $\\sigma_R=3\\times 10^5$) [Pa]\n  F         Normal($\\mu_F=750$, $\\sigma_F=50$) [N]\n ========  ===========================================================================\n\nwhere $\\mu_R=E(R)$ and $\\sigma_R^2=V(R)$ are the mean and the variance of $R$.\n\nThe failure probability is: \n\n\\begin{align}P_f = \\text{Prob}(G(R,F) \\leq 0).\\end{align}\n\n\nThe exact $P_f$ is \n\n\\begin{align}P_f = 0.02920.\\end{align}\n\n\n"
      ]
    },
    {
      "cell_type": "code",
      "execution_count": null,
      "metadata": {
        "collapsed": false
      },
      "outputs": [],
      "source": [
        "from __future__ import print_function\nimport openturns as ot\nimport openturns.viewer as viewer\nfrom matplotlib import pylab as plt\not.Log.Show(ot.Log.NONE)"
      ]
    },
    {
      "cell_type": "markdown",
      "metadata": {},
      "source": [
        "Create the joint distribution of the parameters.\n\n"
      ]
    },
    {
      "cell_type": "code",
      "execution_count": null,
      "metadata": {
        "collapsed": false
      },
      "outputs": [],
      "source": [
        "distribution_R = ot.LogNormalMuSigma(300.0, 30.0, 0.0).getDistribution()\ndistribution_F = ot.Normal(75e3, 5e3)\nmarginals = [distribution_R, distribution_F]\ndistribution = ot.ComposedDistribution(marginals)"
      ]
    },
    {
      "cell_type": "markdown",
      "metadata": {},
      "source": [
        "Create the model.\n\n"
      ]
    },
    {
      "cell_type": "code",
      "execution_count": null,
      "metadata": {
        "collapsed": false
      },
      "outputs": [],
      "source": [
        "model = ot.SymbolicFunction(['R', 'F'], ['R-F/(pi_*100.0)'])"
      ]
    },
    {
      "cell_type": "markdown",
      "metadata": {},
      "source": [
        "Create the event whose probability we want to estimate.\n\n"
      ]
    },
    {
      "cell_type": "code",
      "execution_count": null,
      "metadata": {
        "collapsed": false
      },
      "outputs": [],
      "source": [
        "vect = ot.RandomVector(distribution)\nG = ot.CompositeRandomVector(model, vect)\nevent = ot.ThresholdEvent(G, ot.Less(), 0.0)"
      ]
    },
    {
      "cell_type": "markdown",
      "metadata": {},
      "source": [
        "Create a Monte Carlo algorithm.\n\n"
      ]
    },
    {
      "cell_type": "code",
      "execution_count": null,
      "metadata": {
        "collapsed": false
      },
      "outputs": [],
      "source": [
        "experiment = ot.MonteCarloExperiment()\nalgo = ot.ProbabilitySimulationAlgorithm(event, experiment)\nalgo.setMaximumCoefficientOfVariation(0.05)\nalgo.setMaximumOuterSampling(int(1e5))\nalgo.run()"
      ]
    },
    {
      "cell_type": "markdown",
      "metadata": {},
      "source": [
        "Retrieve results.\n\n"
      ]
    },
    {
      "cell_type": "code",
      "execution_count": null,
      "metadata": {
        "collapsed": false
      },
      "outputs": [],
      "source": [
        "result = algo.getResult()\nprobability = result.getProbabilityEstimate()\nprint('Pf=', probability)"
      ]
    }
  ],
  "metadata": {
    "kernelspec": {
      "display_name": "Python 3",
      "language": "python",
      "name": "python3"
    },
    "language_info": {
      "codemirror_mode": {
        "name": "ipython",
        "version": 3
      },
      "file_extension": ".py",
      "mimetype": "text/x-python",
      "name": "python",
      "nbconvert_exporter": "python",
      "pygments_lexer": "ipython3",
      "version": "3.8.6"
    }
  },
  "nbformat": 4,
  "nbformat_minor": 0
}