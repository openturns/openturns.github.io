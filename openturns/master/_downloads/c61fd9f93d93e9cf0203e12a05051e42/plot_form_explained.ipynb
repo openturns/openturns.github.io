{
  "cells": [
    {
      "cell_type": "code",
      "execution_count": null,
      "metadata": {
        "collapsed": false
      },
      "outputs": [],
      "source": [
        "%matplotlib inline"
      ]
    },
    {
      "cell_type": "markdown",
      "metadata": {},
      "source": [
        "\n# An illustrated example of a FORM probability estimate\n"
      ]
    },
    {
      "cell_type": "markdown",
      "metadata": {},
      "source": [
        "## Abstract\n\nIn this example we illustrate the different steps of a FORM/SORM analysis on a\nsimple example. We focus on the different steps and compare them with an analytic\ncomputation whenever possible.\n\n\n"
      ]
    },
    {
      "cell_type": "code",
      "execution_count": null,
      "metadata": {
        "collapsed": false
      },
      "outputs": [],
      "source": [
        "import openturns as ot\nimport openturns.viewer as otv\nimport numpy as np\nfrom matplotlib import pylab as plt"
      ]
    },
    {
      "cell_type": "markdown",
      "metadata": {},
      "source": [
        "## Position of the problem\n\nWe consider a bivariate random vector $X = (X_1, X_2)$ with the following independent marginals :\n\n- an exponential distribution with parameter $\\lambda=1$, $X_1 \\sim \\mathcal{E}(1.0)$ ;\n- a standard unit gaussian $X_2 \\sim \\mathcal{N}(0,1)$.\n\nThe support of the input vector is $[0, +\\infty[ \\times \\mathbb{R}$\n\n\n"
      ]
    },
    {
      "cell_type": "code",
      "execution_count": null,
      "metadata": {
        "collapsed": false
      },
      "outputs": [],
      "source": [
        "distX1 = ot.Exponential(1.0)\ndistX2 = ot.Normal()\ndistX = ot.ComposedDistribution([distX1, distX2])"
      ]
    },
    {
      "cell_type": "markdown",
      "metadata": {},
      "source": [
        "We can draw the bidimensional PDF of the distribution `distX` over $[0,-10] \\times [10,10]$ :\n\n"
      ]
    },
    {
      "cell_type": "code",
      "execution_count": null,
      "metadata": {
        "collapsed": false
      },
      "outputs": [],
      "source": [
        "ot.ResourceMap_SetAsUnsignedInteger(\"Contour-DefaultLevelsNumber\", 8)\ngraphPDF = distX.drawPDF([0, -10], [10, 10])\ngraphPDF.setTitle(r'2D-PDF of the input variables $(X_1, X_2)$')\ngraphPDF.setXTitle(r'$x_1$')\ngraphPDF.setYTitle(r'$x_2$')\ngraphPDF.setLegendPosition(\"bottomright\")\nview = otv.View(graphPDF)"
      ]
    },
    {
      "cell_type": "markdown",
      "metadata": {},
      "source": [
        "We consider the model $f : (x_1, x_2) \\mapsto x_1 x_2$ which maps the random input vector $X$ to the output variable $Y=f(X) \\in \\mathbb{R}$. We also draw the isolines of the model `f`.\n\n\n"
      ]
    },
    {
      "cell_type": "code",
      "execution_count": null,
      "metadata": {
        "collapsed": false
      },
      "outputs": [],
      "source": [
        "f = ot.SymbolicFunction(['x1', 'x2'], ['x1 * x2'])\ngraphModel = f.draw([0.0, -10.0], [10.0, 10.0])\ngraphModel.setXTitle(r'$x_1$')\ngraphModel.setXTitle(r'$x_2$')\ngraphModel.setTitle(r'Isolines of the model : $Y = f(X)$')\nview = otv.View(graphModel)"
      ]
    },
    {
      "cell_type": "markdown",
      "metadata": {},
      "source": [
        "We want to estimate the probability $P_f$ of the output variable to be greater than a prescribed threshold $s=10$ : this is the failure event. This probability is simply expressed as an integral :\n\n\\begin{align}P_f = \\int_{\\mathcal{D}} \\mathbf{1}_{\\mathcal{D}}(x) df_{X_1,X_2}(x)\\end{align}\n\nwhere $\\mathcal{D} = \\{ (x_1, x_2) \\in [0,+\\infty[ \\times \\mathbb{R} / x_1 x_2 \\geq s \\}$ is the failure domain.\nIn the general case the probability density function $f_{X_1,X_2}$ and the domain of integration $\\mathcal{D}$ are difficult to handle.\n\n"
      ]
    },
    {
      "cell_type": "markdown",
      "metadata": {},
      "source": [
        "We first define RandomVector objects and the failure event associated to the ouput random variable.\n\n"
      ]
    },
    {
      "cell_type": "code",
      "execution_count": null,
      "metadata": {
        "collapsed": false
      },
      "outputs": [],
      "source": [
        "vectorX = ot.RandomVector(distX)\nvectorY = ot.CompositeRandomVector(f, vectorX)\ns = 10.0\nevent = ot.ThresholdEvent(vectorY, ot.Greater(), s)"
      ]
    },
    {
      "cell_type": "markdown",
      "metadata": {},
      "source": [
        "This event can easily be represented with a 1D curve as it is a branch of an hyperbole.\nIf $y =  x_1 x_2 = 10.0$, then the boundary of the domain of failure is the curve :\n\n\\begin{align}h : x_1 \\mapsto \\frac{10.0}{x_1}\\end{align}\n\n\n"
      ]
    },
    {
      "cell_type": "markdown",
      "metadata": {},
      "source": [
        "We shall represent this curve using a :class:`~openturns.Contour` object.\n\n"
      ]
    },
    {
      "cell_type": "code",
      "execution_count": null,
      "metadata": {
        "collapsed": false
      },
      "outputs": [],
      "source": [
        "nx, ny = 15, 15\nxx = ot.Box([nx], ot.Interval([0.0], [10.0])).generate()\nyy = ot.Box([ny], ot.Interval([-10.0], [10.0])).generate()\ninputData = ot.Box([nx, ny], ot.Interval(\n    [0.0, -10.0], [10.0, 10.0])).generate()\noutputData = f(inputData)\nmycontour = ot.Contour(xx, yy, outputData, [10.0], [\"10.0\"])\nmyGraph = ot.Graph(\"Representation of the failure domain\",\n                   r\"$X_1$\", r\"$X_2$\", True, \"\")\nmyGraph.add(mycontour)"
      ]
    },
    {
      "cell_type": "code",
      "execution_count": null,
      "metadata": {
        "collapsed": false
      },
      "outputs": [],
      "source": [
        "texts = [r\" Event : $\\mathcal{D} = \\{Y \\geq 10.0\\}$\"]\nmyText = ot.Text([[4.0, 4.0]], texts)\nmyText.setTextSize(1)\nmyGraph.add(myText)\nview = otv.View(myGraph)"
      ]
    },
    {
      "cell_type": "markdown",
      "metadata": {},
      "source": [
        "We can superimpose the event boundary with the 2D-PDF ot the input variables :\n\n\n"
      ]
    },
    {
      "cell_type": "code",
      "execution_count": null,
      "metadata": {
        "collapsed": false
      },
      "outputs": [],
      "source": [
        "mycontour.setColor(\"black\")\nmycontour.setLabels([\"event\"])\ngraphPDF.add(mycontour)\ngraphPDF.setLegendPosition(\"bottomright\")\nview = otv.View(graphPDF)"
      ]
    },
    {
      "cell_type": "markdown",
      "metadata": {},
      "source": [
        "From the previous figure we observe that in the failure domain the PDF takes small (and even very small) values. Consequently the probability of the failure, the integral $P_f$ is also expected to be small. The FORM/SORM methods estimate this kind of integral.\n\n\n"
      ]
    },
    {
      "cell_type": "markdown",
      "metadata": {},
      "source": [
        "## The FORM approximation\n\nThe basic steps of the FORM (or SORM) algorithm are :\n\n- an isoprobabilistic transform ;\n- finding the design point : that is the nearest point wrt the origin in the standard space ;\n- estimating the probability integral.\n\nAs mentionned, both the density function and the domain of integration are complex in general.\nThe first step of the FORM method makes the density easier to work with and the second step tackles\nthe domain of integration problem.\n\n### Variable transform\n\n\n"
      ]
    },
    {
      "cell_type": "markdown",
      "metadata": {},
      "source": [
        "OpenTURNS has several isoprobabilistic transforms and the FORM/SORM classes implement the Generalized\nNataf and Rosenblatt transforms. In this case the `distX` distribution is not elliptical so the default method is the Rosenblatt transform.\n\n\n"
      ]
    },
    {
      "cell_type": "code",
      "execution_count": null,
      "metadata": {
        "collapsed": false
      },
      "outputs": [],
      "source": [
        "print(\"Is Elliptical ? \", distX.isElliptical())"
      ]
    },
    {
      "cell_type": "markdown",
      "metadata": {},
      "source": [
        "We seek an isoprobabilistic transform $T$ such as\n\n\\begin{align}T : X \\mapsto Z\\end{align}\n\nwhere each component of $Z$ is a standard unit gaussian.\n\nThe isoprobabilistic transform and its inverse are methods of the distribution `distX` :\n\n"
      ]
    },
    {
      "cell_type": "code",
      "execution_count": null,
      "metadata": {
        "collapsed": false
      },
      "outputs": [],
      "source": [
        "transformation = distX.getIsoProbabilisticTransformation()\ninverseTransformation = distX.getInverseIsoProbabilisticTransformation()"
      ]
    },
    {
      "cell_type": "markdown",
      "metadata": {},
      "source": [
        "The main goal of this step is to work with a simpler probability density function of\nthe input variables as they will be standard gaussian unit and uncorrelated. The domain of\nintegration will still be complicated but will be handled with a well chosen approximate.\n\n\n"
      ]
    },
    {
      "cell_type": "markdown",
      "metadata": {},
      "source": [
        "We detail the Rosenblatt transform in this simple case.\nIn this example we consider independent variables so the transform is simpler, we only have to\nperform the transformation on each variable. For the second one is already a standard unit gaussian\nwe transform the first variable only.\n\n\n"
      ]
    },
    {
      "cell_type": "markdown",
      "metadata": {},
      "source": [
        "We draw a realization of the random input vector. This point is said to be in the physical space.\nWe shall focus on the first component.\n\n"
      ]
    },
    {
      "cell_type": "code",
      "execution_count": null,
      "metadata": {
        "collapsed": false
      },
      "outputs": [],
      "source": [
        "xi = vectorX.getRealization()"
      ]
    },
    {
      "cell_type": "markdown",
      "metadata": {},
      "source": [
        "The first step of the Rosenblatt transform is to build a random variable $u$ with a uniform law in ]0,1[.\nThis is done through an evaluation of the CDF of `distX1` at the given point in the physical space.\nOnce again, please note that the second component is left unchanged.\n\n\n"
      ]
    },
    {
      "cell_type": "code",
      "execution_count": null,
      "metadata": {
        "collapsed": false
      },
      "outputs": [],
      "source": [
        "ui = [distX1.computeCDF(xi[0]), xi[1]]"
      ]
    },
    {
      "cell_type": "markdown",
      "metadata": {},
      "source": [
        "The second step is to build a standard unit gaussian from a uniform variable. This is done by a\nsimple call to the probit function. The point `zi` is said to be in the standard space.\n\n"
      ]
    },
    {
      "cell_type": "code",
      "execution_count": null,
      "metadata": {
        "collapsed": false
      },
      "outputs": [],
      "source": [
        "zi = [-ot.Normal().computeInverseSurvivalFunction(ui[0])[0], ui[1]]"
      ]
    },
    {
      "cell_type": "markdown",
      "metadata": {},
      "source": [
        "The sought transform then maps a point in the physical space to the standard space :\n\n"
      ]
    },
    {
      "cell_type": "code",
      "execution_count": null,
      "metadata": {
        "collapsed": false
      },
      "outputs": [],
      "source": [
        "print(xi, \"->\", ui, \"->\", zi)"
      ]
    },
    {
      "cell_type": "markdown",
      "metadata": {},
      "source": [
        "We also build the isoprobabilistic transform $T_1$ and its inverse $T_1^{-1}$ for the\nfirst marginal :\n\n"
      ]
    },
    {
      "cell_type": "code",
      "execution_count": null,
      "metadata": {
        "collapsed": false
      },
      "outputs": [],
      "source": [
        "transformX1 = distX1.getIsoProbabilisticTransformation()\ninverseTransformX1 = distX1.getInverseIsoProbabilisticTransformation()"
      ]
    },
    {
      "cell_type": "markdown",
      "metadata": {},
      "source": [
        "We can check the result of our experiment against :\n\n- the 2D-transform $T$ ;\n- the 1D-transform $T_1$ and the second component unchanged ;\n\nand observe the results are the same.\n\n"
      ]
    },
    {
      "cell_type": "code",
      "execution_count": null,
      "metadata": {
        "collapsed": false
      },
      "outputs": [],
      "source": [
        "zi1D = [transformX1([xi[0]])[0], xi[1]]\nzi2D = transformation(xi)\nprint(\"zi = \", zi)\nprint(\"zi1D = \", zi1D)\nprint(\"zi2D = \", zi2D)"
      ]
    },
    {
      "cell_type": "markdown",
      "metadata": {},
      "source": [
        "We can represent the boundary of the event in the standard space : that is a composition of the\nhyperbole $h : x \\mapsto 10/x$ and the inverse transform $T_1^{-1}$ defined by\n$inverseTransformX1$.\n\n"
      ]
    },
    {
      "cell_type": "code",
      "execution_count": null,
      "metadata": {
        "collapsed": false
      },
      "outputs": [],
      "source": [
        "failureBoundaryPhysicalSpace = ot.SymbolicFunction(['x'], ['10.0 / x'])\nfailureBoundaryStandardSpace = ot.ComposedFunction(\n    failureBoundaryPhysicalSpace, inverseTransformX1)\nx = np.linspace(1.1, 5.0, 100)\ncx = np.array([failureBoundaryStandardSpace([xi])[0] for xi in x])\n\ngraphStandardSpace = ot.Graph(\n    'Failure event in the standard space', r'$u_1$', r'$u_2$', True, '')\ncurveCX = ot.Curve(x, cx, 'Boundary of the event $\\partial \\mathcal{D}$')\ncurveCX.setLineStyle(\"solid\")\ncurveCX.setColor(\"blue\")\ngraphStandardSpace.add(curveCX)"
      ]
    },
    {
      "cell_type": "markdown",
      "metadata": {},
      "source": [
        "We add the origin to the previous graph.\n\n"
      ]
    },
    {
      "cell_type": "code",
      "execution_count": null,
      "metadata": {
        "collapsed": false
      },
      "outputs": [],
      "source": [
        "cloud = ot.Cloud([0.0], [0.0])\ncloud.setColor(\"black\")\ncloud.setPointStyle(\"fcircle\")\ncloud.setLegend(\"origin\")\ngraphStandardSpace.add(cloud)\ngraphStandardSpace.setGrid(True)\ngraphStandardSpace.setLegendPosition(\"bottomright\")\n\n# Some annotation\ntexts = [r\"Event : $\\mathcal{D} = \\{Y \\geq 10.0\\}$\"]\nmyText = ot.Text([[3.0, 4.0]], texts)\nmyText.setTextSize(1)\ngraphStandardSpace.add(myText)\nview = otv.View(graphStandardSpace)"
      ]
    },
    {
      "cell_type": "markdown",
      "metadata": {},
      "source": [
        "### The design point\n\nThe FORM and SORM methods assume that the failure probability integral has its support in\nthe vicinity of the closest point of the domain to the origin.\nThen the second step of the method is to find this point, *the design point*, through a\nminimization problem under constraints.\n\n\n"
      ]
    },
    {
      "cell_type": "markdown",
      "metadata": {},
      "source": [
        "We configure the Cobyla solver that we use for the optimization :\n\n"
      ]
    },
    {
      "cell_type": "code",
      "execution_count": null,
      "metadata": {
        "collapsed": false
      },
      "outputs": [],
      "source": [
        "solver = ot.Cobyla()\nsolver.setMaximumIterationNumber(10000)\nsolver.setMaximumAbsoluteError(1.0e-3)\nsolver.setMaximumRelativeError(1.0e-3)\nsolver.setMaximumResidualError(1.0e-3)\nsolver.setMaximumConstraintError(1.0e-3)"
      ]
    },
    {
      "cell_type": "markdown",
      "metadata": {},
      "source": [
        "We build the FORM algorithm with its basic constructor. The starting point for the optimization\nalgorithm is the mean of the input variables.\n\n"
      ]
    },
    {
      "cell_type": "code",
      "execution_count": null,
      "metadata": {
        "collapsed": false
      },
      "outputs": [],
      "source": [
        "algoFORM = ot.FORM(solver, event, distX.getMean())"
      ]
    },
    {
      "cell_type": "markdown",
      "metadata": {},
      "source": [
        "We are ready to run the algorithm and store the result :\n\n"
      ]
    },
    {
      "cell_type": "code",
      "execution_count": null,
      "metadata": {
        "collapsed": false
      },
      "outputs": [],
      "source": [
        "algoFORM.run()\nresult = algoFORM.getResult()"
      ]
    },
    {
      "cell_type": "markdown",
      "metadata": {},
      "source": [
        "The design point can be retrieved in both physical and standard space with respectively the\n`getPhysicalSpaceDesignPoint` and `getStandardSpaceDesignPoint` methods.\n\n"
      ]
    },
    {
      "cell_type": "code",
      "execution_count": null,
      "metadata": {
        "collapsed": false
      },
      "outputs": [],
      "source": [
        "designPointPhysicalSpace = result.getPhysicalSpaceDesignPoint()\ndesignPointStandardSpace = result.getStandardSpaceDesignPoint()\nprint(\"Design point in physical space : \", designPointPhysicalSpace)\nprint(\"Design point in standard space : \", designPointStandardSpace)"
      ]
    },
    {
      "cell_type": "markdown",
      "metadata": {},
      "source": [
        "We can get the Hasofer index with the `getHasoferReliabilityIndex` method which is the distance of the design point to the origin :\n\n"
      ]
    },
    {
      "cell_type": "code",
      "execution_count": null,
      "metadata": {
        "collapsed": false
      },
      "outputs": [],
      "source": [
        "betaHL = result.getHasoferReliabilityIndex()\nprint(\"Hasofer index : \", betaHL)"
      ]
    },
    {
      "cell_type": "markdown",
      "metadata": {},
      "source": [
        "We visualize it on the previous graph.\n\n"
      ]
    },
    {
      "cell_type": "code",
      "execution_count": null,
      "metadata": {
        "collapsed": false
      },
      "outputs": [],
      "source": [
        "cloud = ot.Cloud([designPointStandardSpace[0]], [designPointStandardSpace[1]])\ncloud.setColor(\"red\")\ncloud.setPointStyle(\"fcircle\")\ncloud.setLegend(\"design point\")\ngraphStandardSpace.add(cloud)\ngraphStandardSpace.setGrid(True)\ngraphStandardSpace.setLegendPosition(\"bottomright\")\ncc = ot.Curve([0.0, designPointStandardSpace[0]], [\n              0.0, designPointStandardSpace[1]], r'$\\beta_{HL}$ distance')\ncc.setLineStyle(\"dashed\")\ncc.setColor(\"black\")\ngraphStandardSpace.add(cc)\nview = otv.View(graphStandardSpace)"
      ]
    },
    {
      "cell_type": "markdown",
      "metadata": {},
      "source": [
        "### Estimating the failure probability integral\n\nThe last step of the FORM algorithm is to replace the domain of integration by the half-space at\nthe design point. In this simple example the half-space is delimited by the tangent at the design\npoint in the standard space.\n\nThe expression of the failure domain boundary in the standard space is the composition of the\nhyperbole $h:x \\mapsto 10/x$ and the inverse transform on the first variable. We can compute\nthe gradient (here the first derivative of a 1D function $h(u_0)$ ) at any given point with the\ngetGradient method :\n\n"
      ]
    },
    {
      "cell_type": "code",
      "execution_count": null,
      "metadata": {
        "collapsed": false
      },
      "outputs": [],
      "source": [
        "u0 = [designPointStandardSpace[0]]\ndu0 = failureBoundaryStandardSpace.getGradient().gradient(u0)\nprint(\"abscissa of the design point u0  = \", u0[0])\nprint(\"value of the failure boundary at u0 = \",\n      failureBoundaryStandardSpace(u0)[0])\nprint(\"value of the gradient of the failure boundary at u0 = \", du0[0, 0])"
      ]
    },
    {
      "cell_type": "markdown",
      "metadata": {},
      "source": [
        "In the standard space the equation of the tangent $\\Pi_{u_0}(x)$ is given by\n\n\\begin{align}\\Pi_{u_0}(x) = (h \\circ T^{-1}) (u_0) + \\frac{d}{dx} (h \\circ T^{-1}) (u_0) (x-u_0)\\end{align}\n\n\n"
      ]
    },
    {
      "cell_type": "code",
      "execution_count": null,
      "metadata": {
        "collapsed": false
      },
      "outputs": [],
      "source": [
        "x = np.linspace(1.1, 5.0, 100)\nhyperplane = failureBoundaryStandardSpace(u0)[0] + du0[0, 0] * (x-u0)\ncurveHyperplane = ot.Curve(x, hyperplane, r'$\\Pi_{u_0}$ (FORM)')\ncurveHyperplane.setLineStyle(\"dashed\")\ncurveHyperplane.setColor(\"green\")\ngraphStandardSpace.add(curveHyperplane)\nview = otv.View(graphStandardSpace)"
      ]
    },
    {
      "cell_type": "markdown",
      "metadata": {},
      "source": [
        "In the standard space the PDF of the input variables is rotationally invariant so\n\n\\begin{align}P_f \\approx E(\\beta_{HL}),\\end{align}\n\nwhere $E(.)$ is the survival function of the standard unit gaussian.\n\n\n"
      ]
    },
    {
      "cell_type": "code",
      "execution_count": null,
      "metadata": {
        "collapsed": false
      },
      "outputs": [],
      "source": [
        "pf = ot.Normal().computeSurvivalFunction(betaHL)\nprint(\"FORM : Pf = \", pf)"
      ]
    },
    {
      "cell_type": "markdown",
      "metadata": {},
      "source": [
        "This proability of failure is the one computed in the FORMResult and obtained with the `getEventProbability` method :\n\n"
      ]
    },
    {
      "cell_type": "code",
      "execution_count": null,
      "metadata": {
        "collapsed": false
      },
      "outputs": [],
      "source": [
        "pf = result.getEventProbability()\nprint(\"Probability of failure (FORM) Pf = \", pf)"
      ]
    },
    {
      "cell_type": "markdown",
      "metadata": {},
      "source": [
        "## The SORM approximation\n\nThe SORM approximate uses an osculating paraboloid instead of the half-space delimited by the\ntangent at the design point. In this case it is a simple parabola we can obtain through Taylor expansion at the design point.\nHowever, in the general case one has to manipulate the gradient and the hessian in the\nstandard space which is cumbersome.\n\n\n"
      ]
    },
    {
      "cell_type": "markdown",
      "metadata": {},
      "source": [
        "We need the value of the second derivative of the failure boundary function at the design point in\nthe standard space :\n\n"
      ]
    },
    {
      "cell_type": "code",
      "execution_count": null,
      "metadata": {
        "collapsed": false
      },
      "outputs": [],
      "source": [
        "u0 = [designPointStandardSpace[0]]\nd2u0 = failureBoundaryStandardSpace.getHessian().hessian(u0)\nprint(\"abscissa of the design point u0  = \", u0[0])\nprint(\"value of the hessian of the failure boundary at u0 = \", d2u0[0, 0, 0])"
      ]
    },
    {
      "cell_type": "markdown",
      "metadata": {},
      "source": [
        "In the standard space the equation of the osculating parabola $\\mathcal{P}_{u_0}(x)$ at $u_0$ is given by\n\n\\begin{align}\\mathcal{P}_{u_0}(x) = h \\circ T^{-1} (u_0) + \\frac{d}{dx} (h \\circ T^{-1})(u_0) (x-u_0) + \\frac{1}{2} \\frac{d^2}{dx^2} (h \\circ T^{-1})(u_0) (x-u_0)^2\\end{align}\n\n\n"
      ]
    },
    {
      "cell_type": "code",
      "execution_count": null,
      "metadata": {
        "collapsed": false
      },
      "outputs": [],
      "source": [
        "x = np.linspace(1.1, 5.0, 100)\nparabola = failureBoundaryStandardSpace(\n    u0)[0] + du0[0, 0] * (x-u0) + 0.5 * d2u0[0, 0, 0] * (x-u0)**2\ncurveParabola = ot.Curve(x, parabola, r'$\\mathcal{P}_{u_0}$ (SORM)')\ncurveParabola.setLineStyle(\"dashed\")\ncurveParabola.setColor(\"orange\")\ngraphStandardSpace.add(curveParabola)\nview = otv.View(graphStandardSpace)"
      ]
    },
    {
      "cell_type": "markdown",
      "metadata": {},
      "source": [
        "The next step is to estimate the principal curvatures of the osculating paraboloid.\n\nFor any regular function $g$ the curvature $\\kappa(x_0)$ at the point $x_0$ in cartesian coordinates reads as\n\n\\begin{align}\\kappa(x_0) = \\frac{g''(x_0)}{(1+[g'(x_0)]^2)^{3/2}}.\\end{align}\n\nFor the oscilating parabola of concern we use the gradient and hessian previously computed :\n\n\n"
      ]
    },
    {
      "cell_type": "code",
      "execution_count": null,
      "metadata": {
        "collapsed": false
      },
      "outputs": [],
      "source": [
        "curvature = (d2u0[0, 0, 0]) / (1 + (du0[0, 0]) ** 2)**(3/2)\nprint(\"Curvature (analytic formula) = \", curvature)"
      ]
    },
    {
      "cell_type": "markdown",
      "metadata": {},
      "source": [
        "We build the SORM algorithm and run it :\n\n"
      ]
    },
    {
      "cell_type": "code",
      "execution_count": null,
      "metadata": {
        "collapsed": false
      },
      "outputs": [],
      "source": [
        "algoSORM = ot.SORM(solver, event, distX.getMean())\nalgoSORM.run()"
      ]
    },
    {
      "cell_type": "markdown",
      "metadata": {},
      "source": [
        "The SORM result is obtained with the `getResult` method :\n\n"
      ]
    },
    {
      "cell_type": "code",
      "execution_count": null,
      "metadata": {
        "collapsed": false
      },
      "outputs": [],
      "source": [
        "resultSORM = algoSORM.getResult()"
      ]
    },
    {
      "cell_type": "markdown",
      "metadata": {},
      "source": [
        "The principal curvatures of the osculating paraboloid at the design point is obtained by the\n`getSortedCurvatures` method :\n\n"
      ]
    },
    {
      "cell_type": "code",
      "execution_count": null,
      "metadata": {
        "collapsed": false
      },
      "outputs": [],
      "source": [
        "print(\"Curvature (estimated) = \", resultSORM.getSortedCurvatures()[1])"
      ]
    },
    {
      "cell_type": "markdown",
      "metadata": {},
      "source": [
        "Once the curvature is obtained there are several ways of approximating the failure probability $P_f$. OpenTURNS implements the Breitung, Hohenbichler and Tvedt estimates.\n\nFor instance, the Breitung approximation gives\n\n\\begin{align}P_f \\approx E(\\beta_{HL}) \\frac{1}{\\sqrt{1+\\beta_{HL}\\kappa}}\\end{align}\n\n\n"
      ]
    },
    {
      "cell_type": "code",
      "execution_count": null,
      "metadata": {
        "collapsed": false
      },
      "outputs": [],
      "source": [
        "coeff = (1.0 + betaHL*curvature) ** (-0.5)\npf = (1.0 - ot.Normal().computeCDF(betaHL)) * coeff\nprint(\"SORM : Pf = \", pf)"
      ]
    },
    {
      "cell_type": "markdown",
      "metadata": {},
      "source": [
        "We can compare with the different estimators implemented in OpenTURNS :\n\n"
      ]
    },
    {
      "cell_type": "code",
      "execution_count": null,
      "metadata": {
        "collapsed": false
      },
      "outputs": [],
      "source": [
        "pfBreitung = resultSORM.getEventProbabilityBreitung()\npfHohenbichler = resultSORM.getEventProbabilityHohenbichler()\npfTvedt = resultSORM.getEventProbabilityTvedt()\n\nprint(\"Probability of failure (SORM Breintung) Pf = \", pfBreitung)\nprint(\"Probability of failure (SORM Hohenbichler) Pf = \", pfHohenbichler)\nprint(\"Probability of failure (SORM Tvedt) Pf = \", pfTvedt)"
      ]
    },
    {
      "cell_type": "markdown",
      "metadata": {},
      "source": [
        "Display all figures\n\n"
      ]
    },
    {
      "cell_type": "code",
      "execution_count": null,
      "metadata": {
        "collapsed": false
      },
      "outputs": [],
      "source": [
        "otv.View.ShowAll()"
      ]
    }
  ],
  "metadata": {
    "kernelspec": {
      "display_name": "Python 3",
      "language": "python",
      "name": "python3"
    },
    "language_info": {
      "codemirror_mode": {
        "name": "ipython",
        "version": 3
      },
      "file_extension": ".py",
      "mimetype": "text/x-python",
      "name": "python",
      "nbconvert_exporter": "python",
      "pygments_lexer": "ipython3",
      "version": "3.10.4"
    }
  },
  "nbformat": 4,
  "nbformat_minor": 0
}