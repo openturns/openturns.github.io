{
  "cells": [
    {
      "cell_type": "markdown",
      "metadata": {},
      "source": [
        "\n# Create a custom covariance model\n"
      ]
    },
    {
      "cell_type": "markdown",
      "metadata": {},
      "source": [
        "This example illustrates how the user can define his own covariance model in both cases:\n\n- Case 1: stationary covariance model,\n- Case 2: any covariance model.\n\n\n"
      ]
    },
    {
      "cell_type": "code",
      "execution_count": null,
      "metadata": {
        "collapsed": false
      },
      "outputs": [],
      "source": [
        "import openturns as ot\nimport openturns.viewer as viewer\nfrom matplotlib import pyplot as plt\nimport math as m"
      ]
    },
    {
      "cell_type": "markdown",
      "metadata": {},
      "source": [
        "## Case 1: stationary covariance model\n\nIn this example, we show how to build our own stationary covariance modelusing the class\n:class:`~openturns.UserDefinedStationaryCovarianceModel`.\n\nWe define the covariance model from:\n\n- a mesh $\\mathcal{M}$ of dimension $n$ defined by the vertices $(\\vect{\\tau}_0,\\dots, \\vect{\\tau}_{N-1})$\n  and the associated simplices,\n- a collection of covariance matrices stored in the object :class:`~openturns.CovarianceMatrixCollection` denoted by\n  $\\vect{C}_0, \\dots, \\vect{C}_{N-1}$, where $\\vect{C}_k \\in \\mathcal{M}_{d \\times d}(\\mathbb{R})$\n  for $0 \\leq k \\leq N-1$.\n\nThen we build a stationary covariance function which is a piecewise constant function on $\\mathcal{D}$ defined by:\n\n\\begin{align}\\forall \\vect{\\tau} \\in \\mathcal{D}, \\, C^{stat}(\\vect{\\tau}) =  \\vect{C}_k\\end{align}\n\nwhere $k$  is such that $\\vect{\\tau}_k$ is the  vertex of $\\mathcal{M}$ the nearest to $\\vect{t}.$\n\n"
      ]
    },
    {
      "cell_type": "markdown",
      "metadata": {},
      "source": [
        "We first create the time grid and the covariance function\n\n"
      ]
    },
    {
      "cell_type": "code",
      "execution_count": null,
      "metadata": {
        "collapsed": false
      },
      "outputs": [],
      "source": [
        "t0 = 0.0\ndt = 0.5\nN = int((20.0 - t0) / dt)\nmesh = ot.RegularGrid(t0, dt, N)\n\n\ndef gamma(tau):\n    return 1.0 / (1.0 + tau * tau)\n\n\n# We create the collection of :class:`~openturns.SquareMatrix`.\ncoll = ot.SquareMatrixCollection()\nfor k in range(N):\n    t = mesh.getValue(k)\n    matrix = ot.SquareMatrix([[gamma(t)]])\n    coll.add(matrix)"
      ]
    },
    {
      "cell_type": "markdown",
      "metadata": {},
      "source": [
        "We create  the final stationary covariance model.\n\n"
      ]
    },
    {
      "cell_type": "code",
      "execution_count": null,
      "metadata": {
        "collapsed": false
      },
      "outputs": [],
      "source": [
        "covmodel = ot.UserDefinedStationaryCovarianceModel(mesh, coll)"
      ]
    },
    {
      "cell_type": "markdown",
      "metadata": {},
      "source": [
        "We can draw the covariance function.\n\n"
      ]
    },
    {
      "cell_type": "code",
      "execution_count": null,
      "metadata": {
        "collapsed": false
      },
      "outputs": [],
      "source": [
        "x = ot.Sample(N, 2)\nfor k in range(N):\n    t = mesh.getValue(k)\n    x[k, 0] = t\n    value = covmodel(t)\n    x[k, 1] = value[0, 0]\n\ncurve = ot.Curve(x, \"User Model\")\nmyGraph = ot.Graph(\"User covariance model\", \"Time\", \"Covariance function\", True)\nmyGraph.add(curve)\nmyGraph.setLegendPosition(\"upper right\")\nview = viewer.View(myGraph)"
      ]
    },
    {
      "cell_type": "markdown",
      "metadata": {},
      "source": [
        "## Case 2: any covariance model\n\nIn this example, we build a covariance model from a time grid and a covariance function depending on $s,t)$,\nusing the class :class:`~openturns.UserDefinedCovarianceModel`.\n\n"
      ]
    },
    {
      "cell_type": "code",
      "execution_count": null,
      "metadata": {
        "collapsed": false
      },
      "outputs": [],
      "source": [
        "N = 32\na = 4.0\nmesh = ot.IntervalMesher([N]).build(ot.Interval(-a, a))\n\n\ndef C(s, t):\n    return m.exp(-4.0 * abs(s - t) / (1 + (s * s + t * t)))"
      ]
    },
    {
      "cell_type": "markdown",
      "metadata": {},
      "source": [
        "The, we create the  covariance matrix on the mesh.\n\n"
      ]
    },
    {
      "cell_type": "code",
      "execution_count": null,
      "metadata": {
        "collapsed": false
      },
      "outputs": [],
      "source": [
        "covariance = ot.CovarianceMatrix(mesh.getVerticesNumber())\nfor k in range(mesh.getVerticesNumber()):\n    t = mesh.getVertices()[k]\n    for ll in range(k + 1):\n        s = mesh.getVertices()[ll]\n        covariance[k, ll] = C(s[0], t[0])"
      ]
    },
    {
      "cell_type": "markdown",
      "metadata": {},
      "source": [
        "The, we create the final non stationary covariance model.\n\n"
      ]
    },
    {
      "cell_type": "code",
      "execution_count": null,
      "metadata": {
        "collapsed": false
      },
      "outputs": [],
      "source": [
        "covmodel = ot.UserDefinedCovarianceModel(mesh, covariance)"
      ]
    },
    {
      "cell_type": "markdown",
      "metadata": {},
      "source": [
        "We can draw the covariance model as a function: first, we define the function to draw.\n\n"
      ]
    },
    {
      "cell_type": "code",
      "execution_count": null,
      "metadata": {
        "collapsed": false
      },
      "outputs": [],
      "source": [
        "def f(x):\n    return [covmodel([x[0]], [x[1]])[0, 0]]\n\n\nfunc = ot.PythonFunction(2, 1, f)\nfunc.setDescription([\"$s$\", \"$t$\", \"$cov$\"])"
      ]
    },
    {
      "cell_type": "markdown",
      "metadata": {},
      "source": [
        "Then we can draw the function with default options.\n\n"
      ]
    },
    {
      "cell_type": "code",
      "execution_count": null,
      "metadata": {
        "collapsed": false
      },
      "outputs": [],
      "source": [
        "cov_graph = func.draw([-a] * 2, [a] * 2, [512] * 2)\ncov_graph.setLegendPosition(\"\")\nview = viewer.View(cov_graph)"
      ]
    },
    {
      "cell_type": "markdown",
      "metadata": {},
      "source": [
        "We can draw the function in a filled contour graph.\nsphinx_gallery_thumbnail_number = 3\n\n"
      ]
    },
    {
      "cell_type": "code",
      "execution_count": null,
      "metadata": {
        "collapsed": false
      },
      "outputs": [],
      "source": [
        "cov_graph = func.draw(\n    0, 1, 0, [0] * 2, [-a] * 2, [a] * 2, [512] * 2, ot.GraphImplementation.NONE, True\n)\nview = viewer.View(cov_graph)"
      ]
    },
    {
      "cell_type": "markdown",
      "metadata": {},
      "source": [
        "We can also draw the covariance model as a matrix, using the raw matshow.\n\n"
      ]
    },
    {
      "cell_type": "code",
      "execution_count": null,
      "metadata": {
        "collapsed": false
      },
      "outputs": [],
      "source": [
        "_ = plt.matshow(covariance)"
      ]
    },
    {
      "cell_type": "markdown",
      "metadata": {},
      "source": [
        "The, we draw the covariance model as a matrix with the correct axes.\n\nTo obtain the correct orientation of the y axis we use the origin argument.\nTo obtain the correct graduations we use the extent argument.\nWe also change the colormap used.\n\n"
      ]
    },
    {
      "cell_type": "code",
      "execution_count": null,
      "metadata": {
        "collapsed": false
      },
      "outputs": [],
      "source": [
        "pas = 2 * a / (N - 1)\nplt.matshow(\n    covariance,\n    cmap=\"gray\",\n    origin=\"lower\",\n    extent=(-a - pas / 2, a + pas / 2, -a - pas / 2, a + pas / 2),\n)\nplt.show()"
      ]
    },
    {
      "cell_type": "markdown",
      "metadata": {},
      "source": [
        "Display all figures\n\n"
      ]
    },
    {
      "cell_type": "code",
      "execution_count": null,
      "metadata": {
        "collapsed": false
      },
      "outputs": [],
      "source": [
        "viewer.View.ShowAll()"
      ]
    }
  ],
  "metadata": {
    "kernelspec": {
      "display_name": "Python 3",
      "language": "python",
      "name": "python3"
    },
    "language_info": {
      "codemirror_mode": {
        "name": "ipython",
        "version": 3
      },
      "file_extension": ".py",
      "mimetype": "text/x-python",
      "name": "python",
      "nbconvert_exporter": "python",
      "pygments_lexer": "ipython3",
      "version": "3.13.5"
    }
  },
  "nbformat": 4,
  "nbformat_minor": 0
}