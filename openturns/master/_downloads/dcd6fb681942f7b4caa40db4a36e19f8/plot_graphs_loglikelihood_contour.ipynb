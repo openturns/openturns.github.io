{
  "cells": [
    {
      "cell_type": "markdown",
      "metadata": {},
      "source": [
        "\n# Plot the log-likelihood contours of a distribution\n"
      ]
    },
    {
      "cell_type": "markdown",
      "metadata": {},
      "source": [
        "In this example, we show how to plot the bidimensionnal log-likelihood contours of function given a sample.\n\n"
      ]
    },
    {
      "cell_type": "code",
      "execution_count": null,
      "metadata": {
        "collapsed": false
      },
      "outputs": [],
      "source": [
        "from matplotlib import pylab as plt\nimport openturns.viewer as viewer\nimport openturns as ot\n\not.RandomGenerator.SetSeed(0)\not.Log.Show(ot.Log.NONE)\not.ResourceMap.SetAsString(\"Contour-DefaultColorMap\", \"viridis\")"
      ]
    },
    {
      "cell_type": "markdown",
      "metadata": {},
      "source": [
        "## Generate a sample\n\n"
      ]
    },
    {
      "cell_type": "markdown",
      "metadata": {},
      "source": [
        "We create a :class:`~openturns.TruncatedNormal` and generate a small sample.\n\n"
      ]
    },
    {
      "cell_type": "code",
      "execution_count": null,
      "metadata": {
        "collapsed": false
      },
      "outputs": [],
      "source": [
        "a = -1\nb = 2.5\nmu = 2.0\nsigma = 3.0\ndistribution = ot.TruncatedNormal(mu, sigma, a, b)\nsample = distribution.getSample(11)"
      ]
    },
    {
      "cell_type": "markdown",
      "metadata": {},
      "source": [
        "In order to see the distribution and the sample, we draw the PDF of the distribution and generate a cloud which `X` coordinates are the sample values.\n\n"
      ]
    },
    {
      "cell_type": "code",
      "execution_count": null,
      "metadata": {
        "collapsed": false
      },
      "outputs": [],
      "source": [
        "graph = distribution.drawPDF()\ngraph.setLegends([\"TruncatedNormal\"])\ngraph.setColors([\"red\"])\nzeros = ot.Sample(sample.getSize(), 1)\ncloud = ot.Cloud(sample, zeros)\ncloud.setLegend(\"Sample\")\ngraph.add(cloud)\ngraph.setLegendPosition(\"upper left\")\nview = viewer.View(graph)"
      ]
    },
    {
      "cell_type": "markdown",
      "metadata": {},
      "source": [
        "The following function computes the log-likelihood of a :class:`~openturns.TruncatedNormal`\nwhich mean and standard deviations are given as input arguments.\nThe lower and upper bounds of the distribution are computed as minimum and maximum of the sample.\n\n"
      ]
    },
    {
      "cell_type": "markdown",
      "metadata": {},
      "source": [
        "## Define the log-likelihood function\n\n"
      ]
    },
    {
      "cell_type": "markdown",
      "metadata": {},
      "source": [
        "The following function evaluates the log-likelihood function given a point $X=(\\mu,\\sigma$).\nIn order to evaluate the likelihood on the sample, we use a trick: we evaluate\nthe `computeMean` method on the log-PDF sample, then multiply by the sample size.\nThis is much faster than using a `for` loop.\n\n"
      ]
    },
    {
      "cell_type": "code",
      "execution_count": null,
      "metadata": {
        "collapsed": false
      },
      "outputs": [],
      "source": [
        "def logLikelihood(X):\n    \"\"\"\n    Evaluate the log-likelihood of a TruncatedNormal on a sample.\n    \"\"\"\n    samplesize = sample.getSize()\n    mu = X[0]\n    sigma = X[1]\n    a = sample.getMin()[0]\n    b = sample.getMax()[0]\n    delta = (b - a) / samplesize\n    a -= delta\n    b += delta\n    distribution = ot.TruncatedNormal(mu, sigma, a, b)\n    samplelogpdf = distribution.computeLogPDF(sample)\n    loglikelihood = samplelogpdf.computeMean() * samplesize\n    return loglikelihood"
      ]
    },
    {
      "cell_type": "markdown",
      "metadata": {},
      "source": [
        "## With the draw method\n\n"
      ]
    },
    {
      "cell_type": "markdown",
      "metadata": {},
      "source": [
        "In this section, we use the `draw` method which is available for any `Function` which has 1 or 2 input arguments.\nIn our case, the log-likelihood function has two inputs: $x_0=\\mu$ and $x_1=\\sigma$.\n\n"
      ]
    },
    {
      "cell_type": "markdown",
      "metadata": {},
      "source": [
        "Draw the log-likelihood function with the `draw` method: this is much faster than using a `for` loop.\nIn order to print LaTeX `X` and `Y` labels, we use the `\"r\"` character in front of the string containing the LaTeX command.\n\n"
      ]
    },
    {
      "cell_type": "code",
      "execution_count": null,
      "metadata": {
        "collapsed": false
      },
      "outputs": [],
      "source": [
        "logLikelihoodFunction = ot.PythonFunction(2, 1, logLikelihood)\ngraphBasic = logLikelihoodFunction.draw([-3.0, 0.1], [5.0, 7.0], [50] * 2)\ngraphBasic.setXTitle(r\"$\\mu$\")\ngraphBasic.setYTitle(r\"$\\sigma$\")\nview = viewer.View(graphBasic)"
      ]
    },
    {
      "cell_type": "markdown",
      "metadata": {},
      "source": [
        "## Customizing the number of levels\n\n"
      ]
    },
    {
      "cell_type": "markdown",
      "metadata": {},
      "source": [
        "The level values are computed from the quantiles of the data, so that the contours are equally spaced.\nWe can configure the number of levels by setting the `Contour-DefaultLevelsNumber` key in the :class:`~openturns.ResourceMap`.\n\n"
      ]
    },
    {
      "cell_type": "code",
      "execution_count": null,
      "metadata": {
        "collapsed": false
      },
      "outputs": [],
      "source": [
        "ot.ResourceMap.SetAsUnsignedInteger(\"Contour-DefaultLevelsNumber\", 5)\nlogLikelihoodFunction = ot.PythonFunction(2, 1, logLikelihood)\ngraphBasic = logLikelihoodFunction.draw([-3.0, 0.1], [5.0, 7.0], [50] * 2)\ngraphBasic.setXTitle(r\"$\\mu$\")\ngraphBasic.setYTitle(r\"$\\sigma$\")\nview = viewer.View(graphBasic)"
      ]
    },
    {
      "cell_type": "markdown",
      "metadata": {},
      "source": [
        "We get the underlying `Contour` object as a `Drawable`.\n\n"
      ]
    },
    {
      "cell_type": "code",
      "execution_count": null,
      "metadata": {
        "collapsed": false
      },
      "outputs": [],
      "source": [
        "contour = graphBasic.getDrawable(0)"
      ]
    },
    {
      "cell_type": "markdown",
      "metadata": {},
      "source": [
        "To be able to use specific `Contour` methods like `buildDefaultLevels`, we need to use the method named `getImplementation`.\n\n"
      ]
    },
    {
      "cell_type": "code",
      "execution_count": null,
      "metadata": {
        "collapsed": false
      },
      "outputs": [],
      "source": [
        "contour = contour.getImplementation()\ncontour.buildDefaultLevels(50)\n\nmanyLevelGraph = ot.Graph()\nmanyLevelGraph.add(contour)\nview = viewer.View(manyLevelGraph)"
      ]
    },
    {
      "cell_type": "markdown",
      "metadata": {},
      "source": [
        "## Using a rank-based normalization of the colors\n\n"
      ]
    },
    {
      "cell_type": "markdown",
      "metadata": {},
      "source": [
        "In the previous plots, there was little color variation for isolines corresponding to large log-likelihood values.\nThis is due to a steep cliff visible for low values of $\\sigma$.\nTo make the color variation clearer around -13, we use a normalization based on the rank of the level curve and not on its value.\n\n"
      ]
    },
    {
      "cell_type": "code",
      "execution_count": null,
      "metadata": {
        "collapsed": false
      },
      "outputs": [],
      "source": [
        "contour.setColorMapNorm(\"rank\")\nrankGraph = ot.Graph()\nrankGraph.add(contour)\nview = viewer.View(rankGraph)"
      ]
    },
    {
      "cell_type": "markdown",
      "metadata": {},
      "source": [
        "## Fill the contour graph\n\n"
      ]
    },
    {
      "cell_type": "markdown",
      "metadata": {},
      "source": [
        "Areas between contour lines can be colored by requesting a filled outline.\n\n"
      ]
    },
    {
      "cell_type": "code",
      "execution_count": null,
      "metadata": {
        "collapsed": false
      },
      "outputs": [],
      "source": [
        "# sphinx_gallery_thumbnail_number = 6\ncontour.setIsFilled(True)\nfilledGraph = ot.Graph()\nfilledGraph.add(contour)\nview = viewer.View(filledGraph)"
      ]
    },
    {
      "cell_type": "markdown",
      "metadata": {},
      "source": [
        "## Getting the level values\n\n"
      ]
    },
    {
      "cell_type": "markdown",
      "metadata": {},
      "source": [
        "The level values can be retrieved with the `getLevels` method.\n\n"
      ]
    },
    {
      "cell_type": "code",
      "execution_count": null,
      "metadata": {
        "collapsed": false
      },
      "outputs": [],
      "source": [
        "drawables = graphBasic.getDrawables()\nlevels = drawables[0].getLevels()\nlevels"
      ]
    },
    {
      "cell_type": "markdown",
      "metadata": {},
      "source": [
        "## Monochrome contour plot\n\n"
      ]
    },
    {
      "cell_type": "markdown",
      "metadata": {},
      "source": [
        "We first configure the contour plot.\nWe use the `getDrawable` method to take the first contour as the only one with multiple levels.\nThen we use the `setLevels` method: we could have changed the levels.\nWe use the `setColor` method to get a monochrome contour.\nIn order to inline the level values labels, we use the `setDrawLabels` method.\n\n"
      ]
    },
    {
      "cell_type": "code",
      "execution_count": null,
      "metadata": {
        "collapsed": false
      },
      "outputs": [],
      "source": [
        "contour = graphBasic.getDrawable(0)\ncontour.setLevels(levels)\ncontour.setDrawLabels(True)\ncontour.setColor(\"red\")"
      ]
    },
    {
      "cell_type": "markdown",
      "metadata": {},
      "source": [
        "Hide the color bar.\nThe method to do this is not available to generic Drawables,\nso we need to get the actual `Contour` object.\n\n"
      ]
    },
    {
      "cell_type": "code",
      "execution_count": null,
      "metadata": {
        "collapsed": false
      },
      "outputs": [],
      "source": [
        "contour = contour.getImplementation()\ncontour.setColorBarPosition(\"\")"
      ]
    },
    {
      "cell_type": "markdown",
      "metadata": {},
      "source": [
        "Then we create a new graph. Finally, we use `setDrawables` to define this `Contour` object as the single Drawable.\n\n"
      ]
    },
    {
      "cell_type": "code",
      "execution_count": null,
      "metadata": {
        "collapsed": false
      },
      "outputs": [],
      "source": [
        "graphFineTune = ot.Graph(\"Log-Likelihood\", r\"$\\mu$\", r\"$\\sigma$\", True, \"\")\ngraphFineTune.setDrawables([contour])\nview = viewer.View(graphFineTune)"
      ]
    },
    {
      "cell_type": "markdown",
      "metadata": {},
      "source": [
        "## Set multiple colors manually\n\n"
      ]
    },
    {
      "cell_type": "markdown",
      "metadata": {},
      "source": [
        "The :class:`~openturns.Contour` class does not allow us to manually set multiple colors.\nHere we show how to assign explicit colors to the different contour lines by passing keyword\narguments to the class:`~openturns.viewer.View` class.\n\n"
      ]
    },
    {
      "cell_type": "code",
      "execution_count": null,
      "metadata": {
        "collapsed": false
      },
      "outputs": [],
      "source": [
        "# Build a range of colors corresponding to the Tableau palette\npalette = ot.Drawable.BuildTableauPalette(len(levels))\nview = viewer.View(graphFineTune, contour_kw={\"colors\": palette, \"cmap\": None})\n\nplt.show()"
      ]
    },
    {
      "cell_type": "markdown",
      "metadata": {},
      "source": [
        "Reset default settings\n\n"
      ]
    },
    {
      "cell_type": "code",
      "execution_count": null,
      "metadata": {
        "collapsed": false
      },
      "outputs": [],
      "source": [
        "ot.ResourceMap.Reload()"
      ]
    }
  ],
  "metadata": {
    "kernelspec": {
      "display_name": "Python 3",
      "language": "python",
      "name": "python3"
    },
    "language_info": {
      "codemirror_mode": {
        "name": "ipython",
        "version": 3
      },
      "file_extension": ".py",
      "mimetype": "text/x-python",
      "name": "python",
      "nbconvert_exporter": "python",
      "pygments_lexer": "ipython3",
      "version": "3.12.5"
    }
  },
  "nbformat": 4,
  "nbformat_minor": 0
}