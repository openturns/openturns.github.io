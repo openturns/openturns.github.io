{
  "cells": [
    {
      "cell_type": "markdown",
      "metadata": {},
      "source": [
        "\n# Plot the log-likelihood contours of a distribution\n"
      ]
    },
    {
      "cell_type": "code",
      "execution_count": null,
      "metadata": {
        "collapsed": false
      },
      "outputs": [],
      "source": [
        "# sphinx_gallery_thumbnail_number = 5"
      ]
    },
    {
      "cell_type": "markdown",
      "metadata": {},
      "source": [
        "In this example, we show how to plot the bidimensionnal log-likelihood contours of function given a sample.\n\n"
      ]
    },
    {
      "cell_type": "code",
      "execution_count": null,
      "metadata": {
        "collapsed": false
      },
      "outputs": [],
      "source": [
        "from matplotlib import pylab as plt\nimport openturns.viewer as viewer\nimport openturns as ot\n\not.RandomGenerator.SetSeed(0)\not.Log.Show(ot.Log.NONE)"
      ]
    },
    {
      "cell_type": "markdown",
      "metadata": {},
      "source": [
        "## Generate a sample\n\n"
      ]
    },
    {
      "cell_type": "markdown",
      "metadata": {},
      "source": [
        "We create a `TruncatedNormal` and generate a small sample.\n\n"
      ]
    },
    {
      "cell_type": "code",
      "execution_count": null,
      "metadata": {
        "collapsed": false
      },
      "outputs": [],
      "source": [
        "a = -1\nb = 2.5\nmu = 2.0\nsigma = 3.0\ndistribution = ot.TruncatedNormal(mu, sigma, a, b)\nsample = distribution.getSample(11)"
      ]
    },
    {
      "cell_type": "markdown",
      "metadata": {},
      "source": [
        "In order to see the distribution and the sample, we draw the PDF of the distribution and generate a clouds which X coordinates are the sample values.\n\n"
      ]
    },
    {
      "cell_type": "code",
      "execution_count": null,
      "metadata": {
        "collapsed": false
      },
      "outputs": [],
      "source": [
        "graph = distribution.drawPDF()\ngraph.setLegends([\"TruncatedNormal\"])\ngraph.setColors([\"red\"])\nzeros = ot.Sample(sample.getSize(), 1)\ncloud = ot.Cloud(sample, zeros)\ncloud.setLegend(\"Sample\")\ngraph.add(cloud)\ngraph.setLegendPosition(\"upper left\")\nview = viewer.View(graph)"
      ]
    },
    {
      "cell_type": "markdown",
      "metadata": {},
      "source": [
        "The following function computes the log-likelihood of a `TruncatedNormal`\nwhich mean and standard deviations are given as input arguments.\nThe lower and upper bounds of the distribution are computed as minimum and maximum of the sample.\n\n"
      ]
    },
    {
      "cell_type": "markdown",
      "metadata": {},
      "source": [
        "## Define the log-likelihood function\n\n"
      ]
    },
    {
      "cell_type": "markdown",
      "metadata": {},
      "source": [
        "The following function evaluates the log-likelihood function given a point $X=(\\mu,\\sigma$).\nIn order to evaluate the likelihood on the sample, we use a trick: we evaluate\nthe `computeMean` method on the log-PDF sample, then multiply by the sample size.\nThis is much faster than using a `for` loop.\n\n"
      ]
    },
    {
      "cell_type": "code",
      "execution_count": null,
      "metadata": {
        "collapsed": false
      },
      "outputs": [],
      "source": [
        "def logLikelihood(X):\n    \"\"\"\n    Evaluate the log-likelihood of a TruncatedNormal on a sample.\n    \"\"\"\n    samplesize = sample.getSize()\n    mu = X[0]\n    sigma = X[1]\n    a = sample.getMin()[0]\n    b = sample.getMax()[0]\n    delta = (b - a) / samplesize\n    a -= delta\n    b += delta\n    distribution = ot.TruncatedNormal(mu, sigma, a, b)\n    samplelogpdf = distribution.computeLogPDF(sample)\n    loglikelihood = samplelogpdf.computeMean() * samplesize\n    return loglikelihood"
      ]
    },
    {
      "cell_type": "markdown",
      "metadata": {},
      "source": [
        "## With the draw method\n\n"
      ]
    },
    {
      "cell_type": "markdown",
      "metadata": {},
      "source": [
        "In this section, we use the `draw` method which is available for any `Function` which has 1 or 2 input arguments.\nIn our case, the log-likelihood function has two inputs: $x_0=\\mu$ and $x_1=\\sigma$.\n\n"
      ]
    },
    {
      "cell_type": "markdown",
      "metadata": {},
      "source": [
        "Draw the log-likelihood function with the `draw` method: this is much faster than using a `for` loop.\nIn order to print LaTeX X and Y labels, we use the `\"r\"` character in front of the string containing the LaTeX command.\n\n"
      ]
    },
    {
      "cell_type": "code",
      "execution_count": null,
      "metadata": {
        "collapsed": false
      },
      "outputs": [],
      "source": [
        "logLikelihoodFunction = ot.PythonFunction(2, 1, logLikelihood)\ngraphBasic = logLikelihoodFunction.draw([-3.0, 0.1], [5.0, 7.0], [50] * 2)\ngraphBasic.setXTitle(r\"$\\mu$\")\ngraphBasic.setYTitle(r\"$\\sigma$\")\nview = viewer.View(graphBasic)"
      ]
    },
    {
      "cell_type": "markdown",
      "metadata": {},
      "source": [
        "## Customizing the number of levels\n\n"
      ]
    },
    {
      "cell_type": "markdown",
      "metadata": {},
      "source": [
        "The level values are computed from the quantiles of the data, so that the contours are equally spaced.\nWe can configure the number of levels by setting the `Contour-DefaultLevelsNumber` key in the `ResourceMap`.\n\n"
      ]
    },
    {
      "cell_type": "code",
      "execution_count": null,
      "metadata": {
        "collapsed": false
      },
      "outputs": [],
      "source": [
        "ot.ResourceMap.SetAsUnsignedInteger(\"Contour-DefaultLevelsNumber\", 5)\nlogLikelihoodFunction = ot.PythonFunction(2, 1, logLikelihood)\ngraphBasic = logLikelihoodFunction.draw([-3.0, 0.1], [5.0, 7.0], [50] * 2)\ngraphBasic.setXTitle(r\"$\\mu$\")\ngraphBasic.setYTitle(r\"$\\sigma$\")\nview = viewer.View(graphBasic)"
      ]
    },
    {
      "cell_type": "markdown",
      "metadata": {},
      "source": [
        "A part of the graphics is hidden by the legends. This is why we fine tune the graphics in the next examples.\n\n"
      ]
    },
    {
      "cell_type": "markdown",
      "metadata": {},
      "source": [
        "## Getting the level values\n\n"
      ]
    },
    {
      "cell_type": "markdown",
      "metadata": {},
      "source": [
        "The level values can be retrieved with the `getLevels` method.\n\n"
      ]
    },
    {
      "cell_type": "code",
      "execution_count": null,
      "metadata": {
        "collapsed": false
      },
      "outputs": [],
      "source": [
        "drawables = graphBasic.getDrawables()\nlevels = []\nfor i in range(len(drawables)):\n    contours = drawables[i]\n    levels.append(contours.getLevels()[0])\nlevels"
      ]
    },
    {
      "cell_type": "markdown",
      "metadata": {},
      "source": [
        "## Monochrome contour plot\n\n"
      ]
    },
    {
      "cell_type": "markdown",
      "metadata": {},
      "source": [
        "We first configure the contour plot.\nBy default each level is a dedicated contour in order to have one color per contour,\nbut they all share the same grid and data.\nWe use the `getDrawable` method to take the first contour as the only one with multiple levels.\nThen we use the `setLevels` method: we ask for many iso-values in the same data so the color will be the same for all curves.\nIn order to inline the level values labels, we use the `setDrawLabels` method.\n\n"
      ]
    },
    {
      "cell_type": "code",
      "execution_count": null,
      "metadata": {
        "collapsed": false
      },
      "outputs": [],
      "source": [
        "contours = graphBasic.getDrawable(0)\ncontours.setLevels(levels)\ncontours.setDrawLabels(True)"
      ]
    },
    {
      "cell_type": "markdown",
      "metadata": {},
      "source": [
        "Then we create a new graph. Finally, we use the `setDrawables` to substitute the collection of drawables by a collection reduced to this unique contour.\n\n"
      ]
    },
    {
      "cell_type": "code",
      "execution_count": null,
      "metadata": {
        "collapsed": false
      },
      "outputs": [],
      "source": [
        "graphFineTune = ot.Graph(\"Log-Likelihood\", r\"$\\mu$\", r\"$\\sigma$\", True, \"\")\ngraphFineTune.setDrawables([contours])\ngraphFineTune.setLegendPosition(\"\")  # Remove the legend\nview = viewer.View(graphFineTune)"
      ]
    },
    {
      "cell_type": "markdown",
      "metadata": {},
      "source": [
        "## Multicolor contour plot\n\n"
      ]
    },
    {
      "cell_type": "markdown",
      "metadata": {},
      "source": [
        "The previous contour plot is fine, but lacks of colors.\nIt is not obvious that the colors make the plot clearer given that the values\nin the contour plot are so different: some adjacent contours have close\nlevels, while others are very different.\nAnyway, it is obviously nicer to get a colored graphics.\n\nThe following script first creates a palette of colors with the `BuildDefaultPalette` class.\nBefore doing so, we configure the `Drawable-DefaultPalettePhase` `ResourceMap` key so\nthat the number of generated colors corresponds to the number of levels.\nThen we create the `drawables` list, where each item is a single contour with its own level and color.\n\n"
      ]
    },
    {
      "cell_type": "markdown",
      "metadata": {},
      "source": [
        "Take the first contour as the only one with multiple levels\n\n"
      ]
    },
    {
      "cell_type": "code",
      "execution_count": null,
      "metadata": {
        "collapsed": false
      },
      "outputs": [],
      "source": [
        "contour = graphBasic.getDrawable(0)\n# Build a range of colors\not.ResourceMap.SetAsUnsignedInteger(\"Drawable-DefaultPalettePhase\", len(levels))\npalette = ot.Drawable.BuildDefaultPalette(len(levels))\n# Create the drawables list, appending each contour with its own color\ndrawables = list()\nfor i in range(len(levels)):\n    contour.setLevels([levels[i]])\n    # Inline the level values\n    contour.setDrawLabels(True)\n    # We have to copy the drawable because a Python list stores only pointers\n    drawables.append(ot.Drawable(contour))"
      ]
    },
    {
      "cell_type": "code",
      "execution_count": null,
      "metadata": {
        "collapsed": false
      },
      "outputs": [],
      "source": [
        "graphFineTune = ot.Graph(\"Log-Likelihood\", r\"$\\mu$\", r\"$\\sigma$\", True, \"\")\ngraphFineTune.setDrawables(drawables)  # Replace the drawables\ngraphFineTune.setLegendPosition(\"\")  # Remove the legend\ngraphFineTune.setColors(palette)  # Add colors\nview = viewer.View(graphFineTune)\nplt.show()"
      ]
    },
    {
      "cell_type": "markdown",
      "metadata": {},
      "source": [
        "Reset default settings\n\n"
      ]
    },
    {
      "cell_type": "code",
      "execution_count": null,
      "metadata": {
        "collapsed": false
      },
      "outputs": [],
      "source": [
        "ot.ResourceMap.Reload()"
      ]
    }
  ],
  "metadata": {
    "kernelspec": {
      "display_name": "Python 3",
      "language": "python",
      "name": "python3"
    },
    "language_info": {
      "codemirror_mode": {
        "name": "ipython",
        "version": 3
      },
      "file_extension": ".py",
      "mimetype": "text/x-python",
      "name": "python",
      "nbconvert_exporter": "python",
      "pygments_lexer": "ipython3",
      "version": "3.11.8"
    }
  },
  "nbformat": 4,
  "nbformat_minor": 0
}