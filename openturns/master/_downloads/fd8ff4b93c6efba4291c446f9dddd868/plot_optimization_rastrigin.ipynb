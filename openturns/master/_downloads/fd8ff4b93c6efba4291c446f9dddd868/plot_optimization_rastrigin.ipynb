{
  "cells": [
    {
      "cell_type": "code",
      "execution_count": null,
      "metadata": {
        "collapsed": false
      },
      "outputs": [],
      "source": [
        "%matplotlib inline"
      ]
    },
    {
      "cell_type": "markdown",
      "metadata": {},
      "source": [
        "\n# Optimization of the Rastrigin test function\n\nThe Rastrigin function is defined by:\n\n\\begin{align}f(\\vect{x}) = A + \\sum_{i=1}^n \\left[x_i^2 - A\\cos(2 \\pi x_i)\\right]\\end{align}\n\nwhere $A=10$ and $\\vect{x}\\in[-5.12,5.12]^n$.\n\nIt has a global minimum at $\\vect{x} = \\vect{0}$ where $f(\\vect{x})= - 10$.\n\nThis function has many local minima, so optimization algorithms must be run from multiple starting points.\n\nIn our example, we consider the bidimensional case, i.e. $n=2$.\n\n**References**:\n\n- Rastrigin, L. A. \"Systems of extremal control.\" Mir, Moscow (1974).\n- Rudolph, G. \"Globale Optimierung mit parallelen Evolutionsstrategien\". Diplomarbeit. Department of Computer Science, University of Dortmund, July 1990.\n"
      ]
    },
    {
      "cell_type": "markdown",
      "metadata": {},
      "source": [
        "## Definition of the problem\n\n"
      ]
    },
    {
      "cell_type": "code",
      "execution_count": null,
      "metadata": {
        "collapsed": false
      },
      "outputs": [],
      "source": [
        "import openturns as ot\nimport openturns.viewer as viewer\nimport numpy as np\not.Log.Show(ot.Log.NONE)\n\n\ndef rastriginPy(X):\n    A = 10.0\n    delta = [x**2 - A * np.cos(2 * np.pi * x) for x in X]\n    y = A + sum(delta)\n    return [y]\n\n\ndim = 2\nrastrigin = ot.PythonFunction(dim, 1, rastriginPy)\nprint(rastrigin([1.0, 1.0]))"
      ]
    },
    {
      "cell_type": "markdown",
      "metadata": {},
      "source": [
        "Making `rastrigin` into a :class:`~openturns.MemoizeFunction` will make it recall all evaluated points.\n\n"
      ]
    },
    {
      "cell_type": "code",
      "execution_count": null,
      "metadata": {
        "collapsed": false
      },
      "outputs": [],
      "source": [
        "rastrigin = ot.MemoizeFunction(rastrigin)"
      ]
    },
    {
      "cell_type": "markdown",
      "metadata": {},
      "source": [
        "This example is academic and the point achieving the global minimum of the function is known.\n\n"
      ]
    },
    {
      "cell_type": "code",
      "execution_count": null,
      "metadata": {
        "collapsed": false
      },
      "outputs": [],
      "source": [
        "xexact = [0.0] * dim\nprint(xexact)"
      ]
    },
    {
      "cell_type": "markdown",
      "metadata": {},
      "source": [
        "The optimization bounds must be specified.\n\n"
      ]
    },
    {
      "cell_type": "code",
      "execution_count": null,
      "metadata": {
        "collapsed": false
      },
      "outputs": [],
      "source": [
        "lowerbound = [-4.4] * dim\nupperbound = [5.12] * dim\nbounds = ot.Interval(lowerbound, upperbound)"
      ]
    },
    {
      "cell_type": "markdown",
      "metadata": {},
      "source": [
        "## Plot the iso-values of the objective function\n\n"
      ]
    },
    {
      "cell_type": "code",
      "execution_count": null,
      "metadata": {
        "collapsed": false
      },
      "outputs": [],
      "source": [
        "graph = rastrigin.draw(lowerbound, upperbound, [100]*dim)\ngraph.setTitle(\"Rastrigin function\")\nview = viewer.View(graph, legend_kw={\n                   'bbox_to_anchor': (1, 1), 'loc': \"upper left\"})\nview.getFigure().tight_layout()"
      ]
    },
    {
      "cell_type": "markdown",
      "metadata": {},
      "source": [
        "We see that the Rastrigin function has several local minima. However, there is only one single global minimum at $\\vect{x}^\\star=(0, 0)$.\n\n"
      ]
    },
    {
      "cell_type": "markdown",
      "metadata": {},
      "source": [
        "## Create the problem and set the optimization algorithm\n\n"
      ]
    },
    {
      "cell_type": "code",
      "execution_count": null,
      "metadata": {
        "collapsed": false
      },
      "outputs": [],
      "source": [
        "problem = ot.OptimizationProblem(rastrigin)"
      ]
    },
    {
      "cell_type": "markdown",
      "metadata": {},
      "source": [
        "We use the :class:`~openturns.Cobyla` algorithm and run it from multiple starting points selected by a :class:`~openturns.LowDiscrepancyExperiment`.\n\n"
      ]
    },
    {
      "cell_type": "code",
      "execution_count": null,
      "metadata": {
        "collapsed": false
      },
      "outputs": [],
      "source": [
        "size = 64\ndistribution = ot.ComposedDistribution(\n    [ot.Uniform(lowerbound[0], upperbound[0])] * dim)\nexperiment = ot.LowDiscrepancyExperiment(\n    ot.SobolSequence(), distribution, size)\nsolver = ot.MultiStart(ot.Cobyla(problem), experiment.generate())"
      ]
    },
    {
      "cell_type": "markdown",
      "metadata": {},
      "source": [
        "## Visualize the starting points of the optimization algorithm\n\n"
      ]
    },
    {
      "cell_type": "code",
      "execution_count": null,
      "metadata": {
        "collapsed": false
      },
      "outputs": [],
      "source": [
        "startingPoints = solver.getStartingSample()\ngraph = rastrigin.draw(lowerbound, upperbound, [100]*dim)\ngraph.setTitle(\"Rastrigin function\")\ncloud = ot.Cloud(startingPoints)\ncloud.setPointStyle(\"bullet\")\ncloud.setColor(\"black\")\ngraph.add(cloud)\ngraph.setLegends([\"\"])\n# sphinx_gallery_thumbnail_number = 2\nview = viewer.View(graph)"
      ]
    },
    {
      "cell_type": "markdown",
      "metadata": {},
      "source": [
        "We see that the starting points are well spread accross the input domain of the function.\n\n"
      ]
    },
    {
      "cell_type": "markdown",
      "metadata": {},
      "source": [
        "## Solve the optimization problem\n\n"
      ]
    },
    {
      "cell_type": "code",
      "execution_count": null,
      "metadata": {
        "collapsed": false
      },
      "outputs": [],
      "source": [
        "solver.run()\nresult = solver.getResult()\nxoptim = result.getOptimalPoint()\nprint(xoptim)"
      ]
    },
    {
      "cell_type": "code",
      "execution_count": null,
      "metadata": {
        "collapsed": false
      },
      "outputs": [],
      "source": [
        "xexact"
      ]
    },
    {
      "cell_type": "markdown",
      "metadata": {},
      "source": [
        "We can see that the solver found a very accurate approximation of the exact solution.\n\n"
      ]
    },
    {
      "cell_type": "markdown",
      "metadata": {},
      "source": [
        "## Analyze the optimization process\n\n:class:`~openturns.MultiStart` ran an instance of :class:`~openturns.Cobyla` from each starting point.\n\nLet us focus on the instance that found the global minimum. How many times did it evaluate `rastrigin`?\n\n"
      ]
    },
    {
      "cell_type": "code",
      "execution_count": null,
      "metadata": {
        "collapsed": false
      },
      "outputs": [],
      "source": [
        "result.getEvaluationNumber()"
      ]
    },
    {
      "cell_type": "markdown",
      "metadata": {},
      "source": [
        "Let us view these evaluation points.\n\n"
      ]
    },
    {
      "cell_type": "code",
      "execution_count": null,
      "metadata": {
        "collapsed": false
      },
      "outputs": [],
      "source": [
        "inputSample = result.getInputSample()\ngraph = rastrigin.draw(lowerbound, upperbound, [100]*dim)\ngraph.setTitle(\"Rastrigin function\")\ncloud = ot.Cloud(inputSample)\ncloud.setPointStyle(\"bullet\")\ncloud.setColor(\"black\")\ngraph.add(cloud)\nview = viewer.View(graph, legend_kw={\n                   'bbox_to_anchor': (1, 1), 'loc': \"upper left\"})\nview.getFigure().tight_layout()"
      ]
    },
    {
      "cell_type": "markdown",
      "metadata": {},
      "source": [
        "How fast did it find the global minimum?\n\n"
      ]
    },
    {
      "cell_type": "code",
      "execution_count": null,
      "metadata": {
        "collapsed": false
      },
      "outputs": [],
      "source": [
        "graph = result.drawOptimalValueHistory()\nview = viewer.View(graph)"
      ]
    },
    {
      "cell_type": "markdown",
      "metadata": {},
      "source": [
        "Let us now analyze the :class:`~openturns.MultiStart` process as a whole.\n\nSince `rastrigin` is a :class:`~openturns.MemoizeFunction`,\nit has a :meth:`~openturns.MemoizeFunction.getInputHistory` method\nwhich lets us see all points it was evaluated on since its creation.\n\n"
      ]
    },
    {
      "cell_type": "code",
      "execution_count": null,
      "metadata": {
        "collapsed": false
      },
      "outputs": [],
      "source": [
        "inputSample = rastrigin.getInputHistory()\ngraph = rastrigin.draw(lowerbound, upperbound, [100]*dim)\ngraph.setTitle(\"Rastrigin function\")\ncloud = ot.Cloud(inputSample)\ncloud.setPointStyle(\"bullet\")\ncloud.setColor(\"black\")\ngraph.add(cloud)\nview = viewer.View(graph, legend_kw={\n                   'bbox_to_anchor': (1, 1), 'loc': \"upper left\"})\nview.getFigure().tight_layout()"
      ]
    },
    {
      "cell_type": "markdown",
      "metadata": {},
      "source": [
        "How many times did all :class:`~openturns.Cobyla` instances combined call `rastrigin`?\n\n"
      ]
    },
    {
      "cell_type": "code",
      "execution_count": null,
      "metadata": {
        "collapsed": false
      },
      "outputs": [],
      "source": [
        "rastrigin.getInputHistory().getSize()"
      ]
    }
  ],
  "metadata": {
    "kernelspec": {
      "display_name": "Python 3",
      "language": "python",
      "name": "python3"
    },
    "language_info": {
      "codemirror_mode": {
        "name": "ipython",
        "version": 3
      },
      "file_extension": ".py",
      "mimetype": "text/x-python",
      "name": "python",
      "nbconvert_exporter": "python",
      "pygments_lexer": "ipython3",
      "version": "3.9.7"
    }
  },
  "nbformat": 4,
  "nbformat_minor": 0
}