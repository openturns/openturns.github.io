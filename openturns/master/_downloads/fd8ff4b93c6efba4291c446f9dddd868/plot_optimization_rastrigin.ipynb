{
  "cells": [
    {
      "cell_type": "code",
      "execution_count": null,
      "metadata": {
        "collapsed": false
      },
      "outputs": [],
      "source": [
        "%matplotlib inline"
      ]
    },
    {
      "cell_type": "markdown",
      "metadata": {},
      "source": [
        "\n# Optimization of the Rastrigin test function\n"
      ]
    },
    {
      "cell_type": "markdown",
      "metadata": {},
      "source": [
        "The Rastrigin function is defined by:\n\n\\begin{align}f(\\mathbf{x}) = A + \\sum_{i=1}^n \\left[x_i^2 - A\\cos(2 \\pi x_i)\\right]\\end{align}\n\nwhere $A=10$ and $\\mathbf{x}\\in[-5.12,5.12]^n$. \n\nIt has a global minimum at $\\mathbf{x} = \\mathbf{0}$ where $f(\\mathbf{x})=0$.\n\nThis function has several local minimas. This is why we use the `Multistart` algorithm. In our example, we consider the bidimensional case, i.e. $n=2$.\n\n*Reference*:\n\n* Rastrigin, L. A. \"Systems of extremal control.\" Mir, Moscow (1974).\n* G. Rudolph. \"Globale Optimierung mit parallelen Evolutionsstrategien\". Diplomarbeit. Department of Computer Science, University of Dortmund, July 1990.\n\n"
      ]
    },
    {
      "cell_type": "markdown",
      "metadata": {},
      "source": [
        "## Definition of the problem\n\n"
      ]
    },
    {
      "cell_type": "code",
      "execution_count": null,
      "metadata": {
        "collapsed": false
      },
      "outputs": [],
      "source": [
        "import openturns as ot\nimport openturns.viewer as viewer\nfrom matplotlib import pylab as plt\nimport numpy as np\not.Log.Show(ot.Log.NONE)"
      ]
    },
    {
      "cell_type": "code",
      "execution_count": null,
      "metadata": {
        "collapsed": false
      },
      "outputs": [],
      "source": [
        "def rastriginPy(X):\n    A = 10.0\n    delta = [x**2 - A * np.cos(2 * np.pi * x) for x in X]\n    y = A + sum(delta)\n    return [y]"
      ]
    },
    {
      "cell_type": "code",
      "execution_count": null,
      "metadata": {
        "collapsed": false
      },
      "outputs": [],
      "source": [
        "rastriginPy([1.0, 1.0])"
      ]
    },
    {
      "cell_type": "code",
      "execution_count": null,
      "metadata": {
        "collapsed": false
      },
      "outputs": [],
      "source": [
        "dim = 2"
      ]
    },
    {
      "cell_type": "code",
      "execution_count": null,
      "metadata": {
        "collapsed": false
      },
      "outputs": [],
      "source": [
        "rastrigin = ot.PythonFunction(dim, 1, rastriginPy)"
      ]
    },
    {
      "cell_type": "code",
      "execution_count": null,
      "metadata": {
        "collapsed": false
      },
      "outputs": [],
      "source": [
        "lowerbound = [-5.12] * dim\nupperbound = [5.12] * dim\nbounds = ot.Interval(lowerbound, upperbound)"
      ]
    },
    {
      "cell_type": "code",
      "execution_count": null,
      "metadata": {
        "collapsed": false
      },
      "outputs": [],
      "source": [
        "xexact = [0.0] * dim"
      ]
    },
    {
      "cell_type": "markdown",
      "metadata": {},
      "source": [
        "## Plot the iso-values of the objective function\n\n"
      ]
    },
    {
      "cell_type": "code",
      "execution_count": null,
      "metadata": {
        "collapsed": false
      },
      "outputs": [],
      "source": [
        "rastrigin = ot.MemoizeFunction(rastrigin)"
      ]
    },
    {
      "cell_type": "code",
      "execution_count": null,
      "metadata": {
        "collapsed": false
      },
      "outputs": [],
      "source": [
        "graph = rastrigin.draw(lowerbound, upperbound, [100]*dim)\ngraph.setTitle(\"Rastrigin function\")\nview = viewer.View(graph)"
      ]
    },
    {
      "cell_type": "markdown",
      "metadata": {},
      "source": [
        "We see that the Rastrigin function has several local minimas. However, there is only one single global minimum at $\\mathbf{x}^\\star=(0, 0)$.\n\n"
      ]
    },
    {
      "cell_type": "markdown",
      "metadata": {},
      "source": [
        "## Define the starting points\n\n"
      ]
    },
    {
      "cell_type": "markdown",
      "metadata": {},
      "source": [
        "The starting points are computed from `Uniform` distributions in the input domain. We consider a set of 100 starting points. \n\n"
      ]
    },
    {
      "cell_type": "code",
      "execution_count": null,
      "metadata": {
        "collapsed": false
      },
      "outputs": [],
      "source": [
        "U = ot.Uniform(-5.12, 5.12)\ndistribution = ot.ComposedDistribution([U]*dim)"
      ]
    },
    {
      "cell_type": "code",
      "execution_count": null,
      "metadata": {
        "collapsed": false
      },
      "outputs": [],
      "source": [
        "size = 100\nstartingPoints = distribution.getSample(size)"
      ]
    },
    {
      "cell_type": "code",
      "execution_count": null,
      "metadata": {
        "collapsed": false
      },
      "outputs": [],
      "source": [
        "graph = rastrigin.draw(lowerbound, upperbound, [100]*dim)\ngraph.setTitle(\"Rastrigin function\")\ncloud = ot.Cloud(startingPoints)\ncloud.setPointStyle(\"bullet\")\ncloud.setColor(\"black\")\ngraph.add(cloud)\nview = viewer.View(graph)"
      ]
    },
    {
      "cell_type": "markdown",
      "metadata": {},
      "source": [
        "We see that the starting points are randomly chosen in the input domain of the function. \n\n"
      ]
    },
    {
      "cell_type": "markdown",
      "metadata": {},
      "source": [
        "## Create and solve the optimization problem\n\n"
      ]
    },
    {
      "cell_type": "code",
      "execution_count": null,
      "metadata": {
        "collapsed": false
      },
      "outputs": [],
      "source": [
        "problem = ot.OptimizationProblem(rastrigin)\nproblem.setBounds(bounds)"
      ]
    },
    {
      "cell_type": "code",
      "execution_count": null,
      "metadata": {
        "collapsed": false
      },
      "outputs": [],
      "source": [
        "solver = ot.TNC(problem)"
      ]
    },
    {
      "cell_type": "code",
      "execution_count": null,
      "metadata": {
        "collapsed": false
      },
      "outputs": [],
      "source": [
        "algo = ot.MultiStart(solver, startingPoints)\nalgo.run()\nresult = algo.getResult()"
      ]
    },
    {
      "cell_type": "code",
      "execution_count": null,
      "metadata": {
        "collapsed": false
      },
      "outputs": [],
      "source": [
        "xoptim = result.getOptimalPoint()\nxoptim"
      ]
    },
    {
      "cell_type": "code",
      "execution_count": null,
      "metadata": {
        "collapsed": false
      },
      "outputs": [],
      "source": [
        "xexact"
      ]
    },
    {
      "cell_type": "markdown",
      "metadata": {},
      "source": [
        "We can see that the solver found a very accurate approximation of the exact solution. \n\n"
      ]
    },
    {
      "cell_type": "code",
      "execution_count": null,
      "metadata": {
        "collapsed": false
      },
      "outputs": [],
      "source": [
        "result.getEvaluationNumber()"
      ]
    },
    {
      "cell_type": "code",
      "execution_count": null,
      "metadata": {
        "collapsed": false
      },
      "outputs": [],
      "source": [
        "inputSample = result.getInputSample()"
      ]
    },
    {
      "cell_type": "code",
      "execution_count": null,
      "metadata": {
        "collapsed": false
      },
      "outputs": [],
      "source": [
        "graph = rastrigin.draw(lowerbound, upperbound, [100]*dim)\ngraph.setTitle(\"Rastrigin function\")\ncloud = ot.Cloud(inputSample)\ncloud.setPointStyle(\"bullet\")\ncloud.setColor(\"black\")\ngraph.add(cloud)\nview = viewer.View(graph)"
      ]
    },
    {
      "cell_type": "markdown",
      "metadata": {},
      "source": [
        "We see that the algorithm evaluated the function more often in the neighbourhood of the solution. \n\n"
      ]
    },
    {
      "cell_type": "code",
      "execution_count": null,
      "metadata": {
        "collapsed": false
      },
      "outputs": [],
      "source": [
        "graph = result.drawOptimalValueHistory()\nview = viewer.View(graph)"
      ]
    },
    {
      "cell_type": "code",
      "execution_count": null,
      "metadata": {
        "collapsed": false
      },
      "outputs": [],
      "source": [
        "rastrigin.getEvaluationCallsNumber()"
      ]
    },
    {
      "cell_type": "markdown",
      "metadata": {},
      "source": [
        "In order to see where the `rastrigin` function was evaluated, we use the `getInputHistory` method. \n\n"
      ]
    },
    {
      "cell_type": "code",
      "execution_count": null,
      "metadata": {
        "collapsed": false
      },
      "outputs": [],
      "source": [
        "inputSample = rastrigin.getInputHistory()"
      ]
    },
    {
      "cell_type": "code",
      "execution_count": null,
      "metadata": {
        "collapsed": false
      },
      "outputs": [],
      "source": [
        "graph = rastrigin.draw(lowerbound, upperbound, [100]*dim)\ngraph.setTitle(\"Rastrigin function\")\ncloud = ot.Cloud(inputSample)\ncloud.setPointStyle(\"bullet\")\ncloud.setColor(\"black\")\ngraph.add(cloud)\nview = viewer.View(graph)\nplt.show()"
      ]
    },
    {
      "cell_type": "markdown",
      "metadata": {},
      "source": [
        "We see that the algorithm explored different regions of the space before finding the global minimum. \n\n"
      ]
    }
  ],
  "metadata": {
    "kernelspec": {
      "display_name": "Python 3",
      "language": "python",
      "name": "python3"
    },
    "language_info": {
      "codemirror_mode": {
        "name": "ipython",
        "version": 3
      },
      "file_extension": ".py",
      "mimetype": "text/x-python",
      "name": "python",
      "nbconvert_exporter": "python",
      "pygments_lexer": "ipython3",
      "version": "3.9.1"
    }
  },
  "nbformat": 4,
  "nbformat_minor": 0
}