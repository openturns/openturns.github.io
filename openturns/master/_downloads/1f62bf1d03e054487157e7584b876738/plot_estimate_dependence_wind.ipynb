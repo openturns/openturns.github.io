{
  "cells": [
    {
      "cell_type": "markdown",
      "metadata": {},
      "source": [
        "\n# Estimate tail dependence coefficients on the wind data\n"
      ]
    },
    {
      "cell_type": "markdown",
      "metadata": {},
      "source": [
        "In this example we estimate the tail dependence coefficient of a bivariate sample\napplied to the corresponding annual maximum wind speeds over the period 1944-1983\nat two locations in the United States: Albany, New-York and Hartford, Connecticut.\nReaders should refer to [coles2001]_ to get more details.\n\nFirst, we load the wave_surge dataset. The speeds are expressed in knot : one knot is equalt to one nautical mile per hour, which means $1.852\\, km.h^{-1}$.\n\n"
      ]
    },
    {
      "cell_type": "code",
      "execution_count": null,
      "metadata": {
        "collapsed": false
      },
      "outputs": [],
      "source": [
        "import openturns as ot\nimport openturns.viewer as otv\nfrom openturns.usecases import coles\n\ndata = coles.Coles().wind[:, 1:]\nprint(data[:5])\n\ngraph = ot.Graph(\n    \"Annual maximum wind speeds at Albany (NY) and Hartford (CT)\",\n    \"spped at Albany (knot)\",\n    \"speed at Hartford (knot)\",\n    True,\n    \"\",\n)\ncloud = ot.Cloud(data)\ncloud.setColor(\"red\")\ngraph.add(cloud)\nview = otv.View(graph)"
      ]
    },
    {
      "cell_type": "markdown",
      "metadata": {},
      "source": [
        "We plot the graph of the function $u \\mapsto \\chi(u)$ and the graph of the function\n$u \\mapsto \\bar{\\chi}(u)$. We conclude that both variables are asymptotially dependent\nas $\\chi > 0$ and that they are positively correlated as $\\hat{\\chi} > 0$.\nWe cn visually deduce the upper tail dependence coefficient $\\chi \\simeq 0.26$ and\nthe upper extremal dependence coefficient $\\bar{\\chi} \\simeq 0.5$.\nNote that the number of data points is so small that the curves seem chaotic.\nIt is difficult, if not impossible, to deduce the value of $\\chi$ and $\\bar{\\chi}$ from the curves.\n\n"
      ]
    },
    {
      "cell_type": "code",
      "execution_count": null,
      "metadata": {
        "collapsed": false
      },
      "outputs": [],
      "source": [
        "graph1 = ot.VisualTest.DrawUpperTailDependenceFunction(data)\ngraph2 = ot.VisualTest.DrawUpperExtremalDependenceFunction(data)\ngrid = ot.GridLayout(1, 2)\ngrid.setGraph(0, 0, graph1)\ngrid.setGraph(0, 1, graph2)\nview = otv.View(grid)"
      ]
    },
    {
      "cell_type": "code",
      "execution_count": null,
      "metadata": {
        "collapsed": false
      },
      "outputs": [],
      "source": [
        "otv.View.ShowAll()"
      ]
    }
  ],
  "metadata": {
    "kernelspec": {
      "display_name": "Python 3",
      "language": "python",
      "name": "python3"
    },
    "language_info": {
      "codemirror_mode": {
        "name": "ipython",
        "version": 3
      },
      "file_extension": ".py",
      "mimetype": "text/x-python",
      "name": "python",
      "nbconvert_exporter": "python",
      "pygments_lexer": "ipython3",
      "version": "3.12.4"
    }
  },
  "nbformat": 4,
  "nbformat_minor": 0
}