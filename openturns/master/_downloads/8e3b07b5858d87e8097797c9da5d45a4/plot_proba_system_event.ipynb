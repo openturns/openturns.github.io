{
  "cells": [
    {
      "cell_type": "code",
      "execution_count": null,
      "metadata": {
        "collapsed": false
      },
      "outputs": [],
      "source": [
        "%matplotlib inline"
      ]
    },
    {
      "cell_type": "markdown",
      "metadata": {},
      "source": [
        "\n# Time variant system reliability problem\n"
      ]
    },
    {
      "cell_type": "markdown",
      "metadata": {},
      "source": [
        "The objective is to evaluate the outcrossing rate from a safe to a failure domain in a time variant reliability problem.\n\nWe consider the following limit state function, defined as the difference between a degrading resistance $r(t) = R - bt$  and a time-varying load $S(t)$:\n\n..math:\n  \\begin{align*}\n  g(t)= r(t) - S(t) = R - bt - S(t) \\quad \\forall t \\in [0,T]\n  \\end{align*}\n\nThe failure domaine is defined by:\n\n\\begin{align}g(t) \\leq 0\\end{align}\n\n\nwhich means that the resistance at $t$ is less thant the stress at $t$.\n\n\nWe propose the following probabilistic model:\n\n- $R$ is the initial resistance, and $R \\sim \\mathcal{N}(\\mu_R, \\sigma_R)$;\n- $b$ is the deterioration rate of the resistance; it is deterministic;\n- $S(\\omega,t)$ is the time-varying stress, which is modeled by a stationary Gaussian process of mean value $\\mu_S$, standard deviation $\\sigma_S$ and a squared exponential covariance model $C(s,t)$.\n\n\nThe outcrossing rate from the safe to the failure domain at instant $t$ is defined by:\n\n\\begin{align}\\nu^+(t) = \\lim_{\\Delta t \\rightarrow 0+} \\dfrac{\\mathbb{P}\\{ g(t) \\ge 0 \\cap g(t+\\Delta t) \\leq 0\\} }{\\Delta t}\\end{align}\n\n\nFor each $t$, we note the random variable  $Z_t = R - bt - S_t$ where $S_t = S(., t)$.\n\nTo evaluate $\\nu^+(t)$, we need to consider the bivariate random vector $(Z_t, Z_{t+\\Delta t})$.\n\nThe event $\\{ g(t) \\geq 0 \\cap g(t+\\Delta t) <0\\}$ writes as the intersection of both events :\n\n- $\\mathcal{E}_t^1 = \\{   Z_t \\geq 0\\}$ and\n- $\\mathcal{E}_t^2 = \\{   Z_{t+\\Delta t} \\leq 0\\}$.\n\nThe objective is to evaluate:\n\n\\begin{align}\\mathbb{P}\\{\\mathcal{E}_t^1 \\cap \\mathcal{E}_t^2\\} \\quad \\forall t \\in [0,T]\\end{align}\n\n\n"
      ]
    },
    {
      "cell_type": "markdown",
      "metadata": {},
      "source": [
        "## 1. Define some useful functions\n\n"
      ]
    },
    {
      "cell_type": "markdown",
      "metadata": {},
      "source": [
        "We define the bivariate random vector $Y_t = (bt + S_t, b(t+\\Delta t) + S_{t+\\Delta t})$.\nHere, $Y_t$ is a bivariate Normal random vector:\n\n- whith mean $[bt, b(t+\\delta t)]$ and\n- whith covariance matrix $\\Sigma$ defined by:\n\n..math::\n  \\begin{align*}\n  \\Sigma = \\left(\n  \\begin{array}{cc}\n  C(t, t) & C(t, t+\\Delta t) \\\\\n  C(t, t+\\Delta t) & C(t+\\Delta t, t+\\Delta t)\n  \\end{array}\n  \\right)\n  \\end{align*}\n\nThis function buils $Y_t =(Y_t^1, Y_t^2)$.\n\n"
      ]
    },
    {
      "cell_type": "code",
      "execution_count": null,
      "metadata": {
        "collapsed": false
      },
      "outputs": [],
      "source": [
        "from math import sqrt\nfrom openturns.viewer import View\nfrom openturns import *\n\n\ndef buildNormal(b, t, mu_S, covariance, delta_t=1e-5):\n    sigma = CovarianceMatrix(2)\n    sigma[0, 0] = covariance(t, t)[0, 0]\n    sigma[0, 1] = covariance(t, t+delta_t)[0, 0]\n    sigma[1, 1] = covariance(t+delta_t, t+delta_t)[0, 0]\n    return Normal([b*t + mu_S, b*(t+delta_t) + mu_S], sigma)"
      ]
    },
    {
      "cell_type": "markdown",
      "metadata": {},
      "source": [
        "This function creates the trivariate random vector $(R, Y_t^1, Y_t^2)$ where $R$ is independant from $(Y_t^1, Y_t^2)$. We need to create this random vector because both events  $\\mathcal{E}_t^1$ and $\\mathcal{E}_t^2$ must be defined from the same random vector!\n\n"
      ]
    },
    {
      "cell_type": "code",
      "execution_count": null,
      "metadata": {
        "collapsed": false
      },
      "outputs": [],
      "source": [
        "def buildCrossing(b, t, mu_S, covariance, R, delta_t=1e-5):\n    normal = buildNormal(b, t, mu_S, covariance, delta_t)\n    # return BlockIndependentDistribution([R, normal]): only from the 1.16 version!\n    marg = [R, normal.getMarginal(0), normal.getMarginal(1)]\n    cop = ComposedCopula([IndependentCopula(1), normal.getCopula()])\n    return ComposedDistribution(marg, cop)"
      ]
    },
    {
      "cell_type": "markdown",
      "metadata": {},
      "source": [
        "This function evaluates the probability using the Monte Carlo sampling. It defines the intersection event $\\mathcal{E}_t^1 \\cap \\mathcal{E}_t^2$.\n\n"
      ]
    },
    {
      "cell_type": "code",
      "execution_count": null,
      "metadata": {
        "collapsed": false
      },
      "outputs": [],
      "source": [
        "def computeCrossingProbability_MonteCarlo(b, t, mu_S, covariance, R, delta_t, n_block, n_iter, CoV):\n    full = buildCrossing(b, t, mu_S, covariance, R, delta_t)\n    X = RandomVector(full)\n    f1 = SymbolicFunction([\"R\", \"X1\", \"X2\"], [\"X1 - R\"])\n    e1 = ThresholdEvent(CompositeRandomVector(f1, X), Less(), 0.0)\n    f2 = SymbolicFunction([\"R\", \"X1\", \"X2\"], [\"X2 - R\"])\n    e2 = ThresholdEvent(CompositeRandomVector(f2, X), GreaterOrEqual(), 0.0)\n    event = IntersectionEvent([e1, e2])\n    algo = ProbabilitySimulationAlgorithm(event, MonteCarloExperiment())\n    algo.setBlockSize(n_block)\n    algo.setMaximumOuterSampling(n_iter)\n    algo.setMaximumCoefficientOfVariation(CoV)\n    algo.run()\n    return algo.getResult().getProbabilityEstimate() / delta_t"
      ]
    },
    {
      "cell_type": "markdown",
      "metadata": {},
      "source": [
        "This function evaluates the probability using the Low Discrepancy sampling.\n\n"
      ]
    },
    {
      "cell_type": "code",
      "execution_count": null,
      "metadata": {
        "collapsed": false
      },
      "outputs": [],
      "source": [
        "def computeCrossingProbability_QMC(b, t, mu_S, covariance, R, delta_t, n_block, n_iter, CoV):\n    full = buildCrossing(b, t, mu_S, covariance, R, delta_t)\n    X = RandomVector(full)\n    f1 = SymbolicFunction([\"R\", \"X1\", \"X2\"], [\"X1 - R\"])\n    e1 = ThresholdEvent(CompositeRandomVector(f1, X), Less(), 0.0)\n    f2 = SymbolicFunction([\"R\", \"X1\", \"X2\"], [\"X2 - R\"])\n    e2 = ThresholdEvent(CompositeRandomVector(f2, X), GreaterOrEqual(), 0.0)\n    event = IntersectionEvent([e1, e2])\n    algo = ProbabilitySimulationAlgorithm(event, LowDiscrepancyExperiment(\n        SobolSequence(X.getDimension()), n_block, False))\n    algo.setBlockSize(n_block)\n    algo.setMaximumOuterSampling(n_iter)\n    algo.setMaximumCoefficientOfVariation(CoV)\n    algo.run()\n    return algo.getResult().getProbabilityEstimate() / delta_t"
      ]
    },
    {
      "cell_type": "markdown",
      "metadata": {},
      "source": [
        "This function evaluates the probability using the FORM algorithm for event systems..\n\n"
      ]
    },
    {
      "cell_type": "code",
      "execution_count": null,
      "metadata": {
        "collapsed": false
      },
      "outputs": [],
      "source": [
        "def computeCrossingProbability_FORM(b, t, mu_S, covariance, R, delta_t):\n    full = buildCrossing(b, t, mu_S, covariance, R, delta_t)\n    X = RandomVector(full)\n    f1 = SymbolicFunction([\"R\", \"X1\", \"X2\"], [\"X1 - R\"])\n    e1 = ThresholdEvent(CompositeRandomVector(f1, X), Less(), 0.0)\n    f2 = SymbolicFunction([\"R\", \"X1\", \"X2\"], [\"X2 - R\"])\n    e2 = ThresholdEvent(CompositeRandomVector(f2, X), GreaterOrEqual(), 0.0)\n    event = IntersectionEvent([e1, e2])\n    algo = SystemFORM(SQP(), event, X.getMean())\n    algo.run()\n    return algo.getResult().getEventProbability() / delta_t"
      ]
    },
    {
      "cell_type": "markdown",
      "metadata": {},
      "source": [
        "## 2. Evaluate the probability\n\n"
      ]
    },
    {
      "cell_type": "markdown",
      "metadata": {},
      "source": [
        "First, fix some parameters: $(\\mu_R, \\sigma_R, \\mu_S, \\sigma_S, \\Delta t, T, b)$ and the covariance model wich is the Squared Exponential model.\nBe careful to the parameter  $\\Delta t$ which is of great importance: if it is too small, the simulation methods have problems to converge because the correlation rate is too high between the instants $t$ and $t+\\Delta t$.\nWe advice to take $\\Delta t \\simeq 10^{-1}$.\n\n\n"
      ]
    },
    {
      "cell_type": "code",
      "execution_count": null,
      "metadata": {
        "collapsed": false
      },
      "outputs": [],
      "source": [
        "mu_S = 3.0\nsigma_S = 0.5\nl = 10\n\nb = 0.01\n\nmu_R = 5.0\nsigma_R = 0.3\nR = Normal(mu_R, sigma_R)\n\ncovariance = SquaredExponential([l/sqrt(2)], [sigma_S])\n\nt0 = 0.0\nt1 = 50.0\nN = 26\n\n# Get all the time steps t\ntimes = RegularGrid(t0, (t1 - t0) / (N - 1.0), N).getVertices()\n\ndelta_t = 1e-1"
      ]
    },
    {
      "cell_type": "markdown",
      "metadata": {},
      "source": [
        "Use all the methods previously described:\n\n- Monte Carlo: values in values_MC\n- Low discrepancy suites: values in values_QMC\n- FORM: values in values_FORM\n\n\n"
      ]
    },
    {
      "cell_type": "code",
      "execution_count": null,
      "metadata": {
        "collapsed": false
      },
      "outputs": [],
      "source": [
        "values_MC = list()\nvalues_QMC = list()\nvalues_FORM = list()\n\nfor tick in times:\n    values_MC.append(computeCrossingProbability_MonteCarlo(\n        b, tick[0], mu_S, covariance, R, delta_t, 2**12, 2**3, 1e-2))\n    values_QMC.append(computeCrossingProbability_QMC(\n        b, tick[0], mu_S, covariance, R, delta_t, 2**12, 2**3, 1e-2))\n    values_FORM.append(computeCrossingProbability_FORM(\n        b, tick[0], mu_S, covariance, R, delta_t))"
      ]
    },
    {
      "cell_type": "code",
      "execution_count": null,
      "metadata": {
        "collapsed": false
      },
      "outputs": [],
      "source": [
        "print('Values MC = ', values_MC)\nprint('Values QMC = ', values_QMC)\nprint('Values FORM = ', values_FORM)"
      ]
    },
    {
      "cell_type": "markdown",
      "metadata": {},
      "source": [
        "Draw the graphs!\n\n"
      ]
    },
    {
      "cell_type": "code",
      "execution_count": null,
      "metadata": {
        "collapsed": false
      },
      "outputs": [],
      "source": [
        "g = Graph()\ng.setAxes(True)\ng.setGrid(True)\nc = Curve(times, [[p] for p in values_MC])\ng.add(c)\nc = Curve(times, [[p] for p in values_QMC])\ng.add(c)\nc = Curve(times, [[p] for p in values_FORM])\ng.add(c)\ng.setLegends([\"MC\", \"QMC\", \"FORM\"])\ng.setColors([\"red\", \"blue\", 'black'])\ng.setLegendPosition(\"topleft\")\ng.setXTitle(\"t\")\ng.setYTitle(\"Outcrossing rate\")\nview = View(g)\nview.ShowAll()"
      ]
    }
  ],
  "metadata": {
    "kernelspec": {
      "display_name": "Python 3",
      "language": "python",
      "name": "python3"
    },
    "language_info": {
      "codemirror_mode": {
        "name": "ipython",
        "version": 3
      },
      "file_extension": ".py",
      "mimetype": "text/x-python",
      "name": "python",
      "nbconvert_exporter": "python",
      "pygments_lexer": "ipython3",
      "version": "3.10.4"
    }
  },
  "nbformat": 4,
  "nbformat_minor": 0
}