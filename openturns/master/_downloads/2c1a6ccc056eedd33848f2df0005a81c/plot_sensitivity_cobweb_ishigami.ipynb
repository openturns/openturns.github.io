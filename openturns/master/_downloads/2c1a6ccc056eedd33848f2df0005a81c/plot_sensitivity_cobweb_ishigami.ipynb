{
  "cells": [
    {
      "cell_type": "code",
      "execution_count": null,
      "metadata": {
        "collapsed": false
      },
      "outputs": [],
      "source": [
        "%matplotlib inline"
      ]
    },
    {
      "cell_type": "markdown",
      "metadata": {},
      "source": [
        "\n# Visualize sensitivity\n"
      ]
    },
    {
      "cell_type": "markdown",
      "metadata": {},
      "source": [
        "The Cobweb graph enables to visualize all the combinations of the input\nvariables which lead to a specific range of the output variable. It is a very simple and cheap tool to visualize sensitivity from the raw data.\n\nLet us consider a model $f: \\mathbb{R}^n \\longrightarrow \\mathbb{R}$, where $f(\\underline{X}) = Y$.\n\nThe graph requires to have an input sample $X_s$ and an output sample $Y_s$.\n\nThe first figure draws such a graph: each column represents one component\n$X_i$ of the input vector $\\underline{X}$.\nThe last column represents the scalar output variable $Y$.\nFor each point $\\underline{X}^j$, each component $X_i^j$\nis noted on its respective axe and the last mark is the one which corresponds to\nthe associated $Y^j$. A line joins all the marks. Thus, each point of the sample\ncorresponds to a particular line on the graph.\n\nThe scale of the axes are quantile based: each axe runs between 0 and 1 and each\nvalue is represented by its quantile with respect to its marginal empirical distribution.\n\nIt is interesting to select, among those lines, the ones which correspond to a specific range of the output variable.\nThese particular lines are colored differently.\nThis specific range is defined in the quantile based scale of $Y$ or in its specific scale.\nIn that second case, the range is automatically converted into a quantile based scale range.\n\n"
      ]
    },
    {
      "cell_type": "code",
      "execution_count": null,
      "metadata": {
        "collapsed": false
      },
      "outputs": [],
      "source": [
        "from __future__ import print_function\nimport openturns as ot\nimport openturns.viewer as viewer\nfrom matplotlib import pylab as plt\not.Log.Show(ot.Log.NONE)"
      ]
    },
    {
      "cell_type": "markdown",
      "metadata": {},
      "source": [
        "We load the `Ishigami model<use-case-ishigami>` from the `usecases` module :\n\n"
      ]
    },
    {
      "cell_type": "code",
      "execution_count": null,
      "metadata": {
        "collapsed": false
      },
      "outputs": [],
      "source": [
        "from openturns.usecases.ishigami_function import IshigamiModel\nim = IshigamiModel()\n# the Ishigami function\nmodel = im.model\n# the input distribution\ninputDist = im.distributionX"
      ]
    },
    {
      "cell_type": "markdown",
      "metadata": {},
      "source": [
        "We create a random vector from out input distribution :\n\n"
      ]
    },
    {
      "cell_type": "code",
      "execution_count": null,
      "metadata": {
        "collapsed": false
      },
      "outputs": [],
      "source": [
        "inputVector = ot.RandomVector(inputDist)"
      ]
    },
    {
      "cell_type": "markdown",
      "metadata": {},
      "source": [
        "And we create the output random vector Y = model(X) :\n\n"
      ]
    },
    {
      "cell_type": "code",
      "execution_count": null,
      "metadata": {
        "collapsed": false
      },
      "outputs": [],
      "source": [
        "output = ot.CompositeRandomVector(model, inputVector)"
      ]
    },
    {
      "cell_type": "markdown",
      "metadata": {},
      "source": [
        "We generate an input sample of size $N$ :\n\n"
      ]
    },
    {
      "cell_type": "code",
      "execution_count": null,
      "metadata": {
        "collapsed": false
      },
      "outputs": [],
      "source": [
        "N = 1000\nX = inputVector.getSample(N)"
      ]
    },
    {
      "cell_type": "markdown",
      "metadata": {},
      "source": [
        "We evaluate the associated output sample :\n\n"
      ]
    },
    {
      "cell_type": "code",
      "execution_count": null,
      "metadata": {
        "collapsed": false
      },
      "outputs": [],
      "source": [
        "Y = model(X)\nY.setDescription(\"Y\")"
      ]
    },
    {
      "cell_type": "markdown",
      "metadata": {},
      "source": [
        "We display the minimum, maximum and value of the 90% quantile of `Y` :\n\n"
      ]
    },
    {
      "cell_type": "code",
      "execution_count": null,
      "metadata": {
        "collapsed": false
      },
      "outputs": [],
      "source": [
        "print(Y.getMin(), Y.getMax(), Y.computeQuantilePerComponent(0.9))"
      ]
    },
    {
      "cell_type": "markdown",
      "metadata": {},
      "source": [
        "## Value based scale to describe the Y range\n\nSay we are interested in the higher values of the output $Y$. A first\napproach is to highlight peculiar lines for which $Y \\in [a,b]$ with\nthe bounds $a$ and $b$ well chosen. For example, values greater\nthan 85% of the maximum :\n\n - $a = 0.85 \\max(Y)$ ;\n - $b = \\max(Y)$ ;\n\n\n"
      ]
    },
    {
      "cell_type": "code",
      "execution_count": null,
      "metadata": {
        "collapsed": false
      },
      "outputs": [],
      "source": [
        "minValue = 0.85 * Y.getMax()[0]\nmaxValue = Y.getMax()[0]\n\n# We deactivate the default quantile scale.\nquantileScale = False\ngraphCobweb = ot.VisualTest.DrawCobWeb(X, Y, minValue, maxValue, 'red', quantileScale)\ngraphCobweb.setLegendPosition('bottomright')\nview = viewer.View(graphCobweb)"
      ]
    },
    {
      "cell_type": "markdown",
      "metadata": {},
      "source": [
        "Here we would like to conclude that the highest values of `Y` are obtained from a specific input as the highlighted lines clearly follow one only path.\nHowever, this approach is too naive and specific to the input sample. Indeed,\nif we set the lower bound to 80% of the maximum :\n\n"
      ]
    },
    {
      "cell_type": "code",
      "execution_count": null,
      "metadata": {
        "collapsed": false
      },
      "outputs": [],
      "source": [
        "minValue = 0.80 * Y.getMax()[0]\nmaxValue = Y.getMax()[0]\nquantileScale = False\ngraphCobweb = ot.VisualTest.DrawCobWeb(X, Y, minValue, maxValue, 'red', quantileScale)\ngraphCobweb.setLegendPosition('bottomright')\nview = viewer.View(graphCobweb)"
      ]
    },
    {
      "cell_type": "markdown",
      "metadata": {},
      "source": [
        "A new path is then available ! That is the reason why we chose a quantile based ranking as the value based cobweb involves a bit of guessing.\n\n"
      ]
    },
    {
      "cell_type": "markdown",
      "metadata": {},
      "source": [
        "## Rank based scale to describe the Y range\n\nIn this paragraph we use quantile based bounds. We are still interested in\nthe highest values of `Y` more specifically the 95% quantile : \n\n"
      ]
    },
    {
      "cell_type": "code",
      "execution_count": null,
      "metadata": {
        "collapsed": false
      },
      "outputs": [],
      "source": [
        "minValue = 0.95\nmaxValue = 1.0\n# a quantileScale is used, default behaviour\nquantileScale = True\ngraphCobweb = ot.VisualTest.DrawCobWeb(X, Y, minValue, maxValue, 'red', quantileScale)\ngraphCobweb.setLegendPosition('bottomright')\nview = viewer.View(graphCobweb)"
      ]
    },
    {
      "cell_type": "markdown",
      "metadata": {},
      "source": [
        "The cobweb obtained is helpful : we see peculiar values for each marginal.\n\n\n\n"
      ]
    },
    {
      "cell_type": "markdown",
      "metadata": {},
      "source": [
        "Recall that the Ishigami model is given by\n\n\\begin{align}f(X) = sin(X_1) + 7sin^2(X_2) + 0.1 X_3^4 sin(X_1)\\end{align}\n\nwith each marginal of $X=(X_1, X_2, X_3)$ uniform in $]-\\pi,\\pi[$.\n\n"
      ]
    },
    {
      "cell_type": "code",
      "execution_count": null,
      "metadata": {
        "collapsed": false
      },
      "outputs": [],
      "source": [
        "# Then the highest values of :math:`Y=f(X)` are obtained when each term is near its peak :\n#\n# - the :math:`sin(X_1)` term around :math:`X_1 = \\pi / 2` ;\n# - the :math:`7sin^2(X_2)` term around :math:`X_2 = -\\pi / 2` and :math:`X_2 = \\pi / 2` ;\n# - the :math:`X_3^4 sin(X_1)` term around :math:`X_1 = \\pi / 2` and :math:`X_3 = \\{ -\\pi, \\pi}`.\n#\n# These values can be seen on the cobweb as for each marginal there is a cluster around respectively 1, 2 and 2 values for :math`X_1`, :math`X_2` and :math`X_3`.\n# This amounts to 4 different values 'realizing' the maximum and we can observe 4 distinct paths on the cobweb as well.\n#"
      ]
    },
    {
      "cell_type": "markdown",
      "metadata": {},
      "source": [
        "We can also guess the independence of marginals when looking at paths between\n$X_2$ and $X_3$. For any given cluster value of $X_2$ on the\ngraph there are as many paths to a high value of $X_3$ as to a small value.\nA dependence between these two marginals would have presented unbalanced paths.\n\n"
      ]
    },
    {
      "cell_type": "markdown",
      "metadata": {},
      "source": [
        "## When the cobweb brings nothing\n\nTo conclude our tour on the cobweb graph we look at the 50% quantile : that is\nvalues around the mean :\n\n"
      ]
    },
    {
      "cell_type": "code",
      "execution_count": null,
      "metadata": {
        "collapsed": false
      },
      "outputs": [],
      "source": [
        "minValue = 0.48\nmaxValue = 0.52\nquantileScale = True\ngraphCobweb = ot.VisualTest.DrawCobWeb(X, Y, minValue, maxValue, 'red', quantileScale)\ngraphCobweb.setLegendPosition('topright')\nview = viewer.View(graphCobweb)"
      ]
    },
    {
      "cell_type": "markdown",
      "metadata": {},
      "source": [
        "We cannot extract any useful information from this cobweb. In fact it is the expected behaviour as mean values should be attained from various combinations of# the input variables.\nThe cobweb graph is a cheap tool and highly useful to explore more extreme values !\n\n"
      ]
    },
    {
      "cell_type": "markdown",
      "metadata": {},
      "source": [
        "Display figures\n\n"
      ]
    },
    {
      "cell_type": "code",
      "execution_count": null,
      "metadata": {
        "collapsed": false
      },
      "outputs": [],
      "source": [
        "plt.show()"
      ]
    }
  ],
  "metadata": {
    "kernelspec": {
      "display_name": "Python 3",
      "language": "python",
      "name": "python3"
    },
    "language_info": {
      "codemirror_mode": {
        "name": "ipython",
        "version": 3
      },
      "file_extension": ".py",
      "mimetype": "text/x-python",
      "name": "python",
      "nbconvert_exporter": "python",
      "pygments_lexer": "ipython3",
      "version": "3.9.1"
    }
  },
  "nbformat": 4,
  "nbformat_minor": 0
}