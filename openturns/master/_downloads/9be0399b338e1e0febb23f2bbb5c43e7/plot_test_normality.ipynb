{
  "cells": [
    {
      "cell_type": "markdown",
      "metadata": {},
      "source": [
        "\n# Test Normality\n"
      ]
    },
    {
      "cell_type": "markdown",
      "metadata": {},
      "source": [
        "## Normal fitting test using the Henry line\n\nIn this paragraph we perform a visual goodness-of-fit test for a univariate\nNormal distribution using the Henry line test, which is the QQ plot adapted\nfor Gaussian distributions.\n\n"
      ]
    },
    {
      "cell_type": "code",
      "execution_count": null,
      "metadata": {
        "collapsed": false
      },
      "outputs": [],
      "source": [
        "import openturns as ot\nimport openturns.viewer as viewer\n\not.Log.Show(ot.Log.NONE)"
      ]
    },
    {
      "cell_type": "markdown",
      "metadata": {},
      "source": [
        "We first create the data :\n\n"
      ]
    },
    {
      "cell_type": "code",
      "execution_count": null,
      "metadata": {
        "collapsed": false
      },
      "outputs": [],
      "source": [
        "distribution = ot.Normal(2.0, 0.5)\nsample1 = distribution.getSample(100)"
      ]
    },
    {
      "cell_type": "markdown",
      "metadata": {},
      "source": [
        "We draw the Henry line plot and expect a good fitting :\n\n"
      ]
    },
    {
      "cell_type": "code",
      "execution_count": null,
      "metadata": {
        "collapsed": false
      },
      "outputs": [],
      "source": [
        "graph = ot.VisualTest.DrawHenryLine(sample1)\nview = viewer.View(graph)"
      ]
    },
    {
      "cell_type": "markdown",
      "metadata": {},
      "source": [
        "For comparison sake e draw the Henry line plot for a Beta distribution. The result is expected to be bad.\n\n"
      ]
    },
    {
      "cell_type": "code",
      "execution_count": null,
      "metadata": {
        "collapsed": false
      },
      "outputs": [],
      "source": [
        "sample2 = ot.Beta(0.7, 0.9, 0.0, 2.0).getSample(100)\ngraph = ot.VisualTest.DrawHenryLine(sample2)\nview = viewer.View(graph)"
      ]
    },
    {
      "cell_type": "markdown",
      "metadata": {},
      "source": [
        "## Normality tests\n\nWe use two tests to check whether a sample follows a Normal distribution :\n\n - the Anderson-Darling test\n - the Cramer-Von Mises test\n\n\n"
      ]
    },
    {
      "cell_type": "markdown",
      "metadata": {},
      "source": [
        "We first generate two samples, one from a standard unit Gaussian and another from a Gumbel\ndistribution with parameters $\\beta = 1$ and $\\gamma = 0$.\n\n"
      ]
    },
    {
      "cell_type": "code",
      "execution_count": null,
      "metadata": {
        "collapsed": false
      },
      "outputs": [],
      "source": [
        "sample1 = ot.Normal().getSample(200)\nsample2 = ot.Gumbel().getSample(200)"
      ]
    },
    {
      "cell_type": "markdown",
      "metadata": {},
      "source": [
        "We test the normality of the sample. We can display the result of the test as a yes/no answer with\nthe `getBinaryQualityMeasure`. We can retrieve the p-value and the threshold with the `getPValue`\nand `getThreshold` methods.\n\n"
      ]
    },
    {
      "cell_type": "code",
      "execution_count": null,
      "metadata": {
        "collapsed": false
      },
      "outputs": [],
      "source": [
        "test_result = ot.NormalityTest.AndersonDarlingNormal(sample1)\nprint(\n    \"Component is normal?\",\n    test_result.getBinaryQualityMeasure(),\n    \"p-value=%.6g\" % test_result.getPValue(),\n    \"threshold=%.6g\" % test_result.getThreshold(),\n)"
      ]
    },
    {
      "cell_type": "code",
      "execution_count": null,
      "metadata": {
        "collapsed": false
      },
      "outputs": [],
      "source": [
        "test_result = ot.NormalityTest.AndersonDarlingNormal(sample2)\nprint(\n    \"Component is normal?\",\n    test_result.getBinaryQualityMeasure(),\n    \"p-value=%.6g\" % test_result.getPValue(),\n    \"threshold=%.6g\" % test_result.getThreshold(),\n)"
      ]
    },
    {
      "cell_type": "code",
      "execution_count": null,
      "metadata": {
        "collapsed": false
      },
      "outputs": [],
      "source": [
        "test_result = ot.NormalityTest.CramerVonMisesNormal(sample1)\nprint(\n    \"Component is normal?\",\n    test_result.getBinaryQualityMeasure(),\n    \"p-value=%.6g\" % test_result.getPValue(),\n    \"threshold=%.6g\" % test_result.getThreshold(),\n)"
      ]
    },
    {
      "cell_type": "code",
      "execution_count": null,
      "metadata": {
        "collapsed": false
      },
      "outputs": [],
      "source": [
        "test_result = ot.NormalityTest.CramerVonMisesNormal(sample2)\nprint(\n    \"Component is normal?\",\n    test_result.getBinaryQualityMeasure(),\n    \"p-value=%.6g\" % test_result.getPValue(),\n    \"threshold=%.6g\" % test_result.getThreshold(),\n)"
      ]
    }
  ],
  "metadata": {
    "kernelspec": {
      "display_name": "Python 3",
      "language": "python",
      "name": "python3"
    },
    "language_info": {
      "codemirror_mode": {
        "name": "ipython",
        "version": 3
      },
      "file_extension": ".py",
      "mimetype": "text/x-python",
      "name": "python",
      "nbconvert_exporter": "python",
      "pygments_lexer": "ipython3",
      "version": "3.12.5"
    }
  },
  "nbformat": 4,
  "nbformat_minor": 0
}