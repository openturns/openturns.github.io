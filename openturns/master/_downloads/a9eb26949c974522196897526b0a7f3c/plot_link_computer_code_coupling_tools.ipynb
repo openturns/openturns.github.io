{
  "cells": [
    {
      "cell_type": "code",
      "execution_count": null,
      "metadata": {
        "collapsed": false
      },
      "outputs": [],
      "source": [
        "%matplotlib inline"
      ]
    },
    {
      "cell_type": "markdown",
      "metadata": {},
      "source": [
        "\n# Link to a computer code with coupling tools\n"
      ]
    },
    {
      "cell_type": "markdown",
      "metadata": {},
      "source": [
        "In this example we show how to use the `coupling_tools` module, which allows to create a function from a computer code based on text file exchanges. We show the main features of the module on a simple example and focus on the `replace` and `get` functions.\n\n"
      ]
    },
    {
      "cell_type": "markdown",
      "metadata": {},
      "source": [
        "## Introduction\n\nThe `coupling_tools` module is useful when the external computer code reads (on input) and write (on output) text files.\n\n<img src=\"_static/link_computer_code.svg\" width=\"600px\">\n\nThe main features of the `coupling_tools` module are:\n\n* `replace`: writes a file based on a file template, by replacing tokens with values,\n* `execute`: executes an external computer code,\n* `get` (and `get_line_col`): reads values from a file.\n\nMoreover, the `coupling_tools` module can be useful outside the library, for example to evaluate a design of experiments on a cluster. \n\nThere are several advantages over basic Python scripting while using the module.\n\n* It is much simpler than using regular expressions. \n* Skipping lines, columns or text blocks is allowed.\n\nIt is easy to use if the input or output files are based on structured text files. With a little more Python scripting, it is even possible to parallelize it.\n\n"
      ]
    },
    {
      "cell_type": "markdown",
      "metadata": {},
      "source": [
        "## Example\n\nWe have the computer code in the `external_program.py` script:\n\n* it reads the `\"input.txt\"` file,\n* evaluates the output,\n* writes the `\"output.txt\"` file.\n\n### The command line to evaluate the code is: \npython external_program.py input.py\n```\n\n"
      ]
    },
    {
      "cell_type": "code",
      "execution_count": null,
      "metadata": {
        "collapsed": false
      },
      "outputs": [],
      "source": [
        "import openturns as ot\nimport openturns.coupling_tools as ct\nimport sys\nimport openturns.viewer as viewer\nfrom matplotlib import pylab as plt\not.Log.Show(ot.Log.NONE)"
      ]
    },
    {
      "cell_type": "markdown",
      "metadata": {},
      "source": [
        "The following is the content `external_program.py` script.\n\n"
      ]
    },
    {
      "cell_type": "code",
      "execution_count": null,
      "metadata": {
        "collapsed": false
      },
      "outputs": [],
      "source": [
        "code = '''\n# -*- coding: utf-8 -*-\n\n# 1. Get input\nimport sys\ninFile = sys.argv[1]\nexec(open(inFile).read())\n \n# 2. Compute\nY0 = X0 + X1 + X2\nY1 = X0 + X1 * X2\n \n# 3. Write output\nf = open(\"output.txt\", \"w\")\nf.write(\"Y0=%.17e\\\\n\" % (Y0))\nf.write(\"Y1=%.17e\\\\n\" % (Y1))\nf.close()\n'''"
      ]
    },
    {
      "cell_type": "code",
      "execution_count": null,
      "metadata": {
        "collapsed": false
      },
      "outputs": [],
      "source": [
        "f = open(\"external_program.py\", \"w\")\nf.write(code)\nf.close()"
      ]
    },
    {
      "cell_type": "markdown",
      "metadata": {},
      "source": [
        "Let us see the content of the `input.txt` file: the content is in Python format, so that reading the file is easier. \n\n"
      ]
    },
    {
      "cell_type": "code",
      "execution_count": null,
      "metadata": {
        "collapsed": false
      },
      "outputs": [],
      "source": [
        "content = '''\nX0=1.2\nX1=45\nX2=91.8\n'''"
      ]
    },
    {
      "cell_type": "code",
      "execution_count": null,
      "metadata": {
        "collapsed": false
      },
      "outputs": [],
      "source": [
        "f = open(\"input.txt\", \"w\")\nf.write(content)\nf.close()"
      ]
    },
    {
      "cell_type": "markdown",
      "metadata": {},
      "source": [
        "The content of the `output.txt` file has a simple format.\n\n"
      ]
    },
    {
      "cell_type": "code",
      "execution_count": null,
      "metadata": {
        "collapsed": false
      },
      "outputs": [],
      "source": [
        "content = '''\nY0=1.38e+02\nY1=4.1322e+03\n'''"
      ]
    },
    {
      "cell_type": "code",
      "execution_count": null,
      "metadata": {
        "collapsed": false
      },
      "outputs": [],
      "source": [
        "f = open(\"output.txt\", \"w\")\nf.write(content)\nf.close()"
      ]
    },
    {
      "cell_type": "markdown",
      "metadata": {},
      "source": [
        "The `input_template.py` file is a template which will be used to generate the actual file `\"input.txt\"`. \n\n"
      ]
    },
    {
      "cell_type": "code",
      "execution_count": null,
      "metadata": {
        "collapsed": false
      },
      "outputs": [],
      "source": [
        "content = '''\nX0=@X0\nX1=@X1\nX2=@X2\n'''"
      ]
    },
    {
      "cell_type": "code",
      "execution_count": null,
      "metadata": {
        "collapsed": false
      },
      "outputs": [],
      "source": [
        "f = open(\"input_template.txt\", \"w\")\nf.write(content)\nf.close()"
      ]
    },
    {
      "cell_type": "markdown",
      "metadata": {},
      "source": [
        "The simulator is implemented this way: \n\n* we first use the `replace` function in order to generate the actual input file, \n* then we evaluate the external computer code with a system command with the `execute` function,\n* and we read the output file with the `get` function.\n\n"
      ]
    },
    {
      "cell_type": "code",
      "execution_count": null,
      "metadata": {
        "collapsed": false
      },
      "outputs": [],
      "source": [
        "def mySimulator ( X ):\n    # 1. Create input file\n    infile =\"input_template.txt\"\n    outfile = \"input.txt\"\n    tokens =[\"@X0\",\"@X1\",\"@X2\"]\n    ct.replace (infile , outfile ,tokens ,X)\n    # 2. Compute\n    program = sys.executable + \" external_program.py\"\n    cmd = program +\" \"+ outfile\n    ct.execute (cmd)\n    # 3. Parse output file\n    Y = ct.get (\"output.txt\", tokens =[\"Y0=\",\"Y1=\"])\n    return Y"
      ]
    },
    {
      "cell_type": "markdown",
      "metadata": {},
      "source": [
        "In order to create the function, we simply use the `PythonFunction` class.\n\n"
      ]
    },
    {
      "cell_type": "code",
      "execution_count": null,
      "metadata": {
        "collapsed": false
      },
      "outputs": [],
      "source": [
        "myWrapper = ot.PythonFunction (3 ,2 , mySimulator )"
      ]
    },
    {
      "cell_type": "markdown",
      "metadata": {},
      "source": [
        "We can check that this function can be evaluated.\n\n"
      ]
    },
    {
      "cell_type": "code",
      "execution_count": null,
      "metadata": {
        "collapsed": false
      },
      "outputs": [],
      "source": [
        "X = [1.2 , 45, 91.8]\nY = myWrapper(X)\nY"
      ]
    },
    {
      "cell_type": "markdown",
      "metadata": {},
      "source": [
        "## Write the input file with the replace function\n\nThe simplest calling sequence is:\n\n#### replace (infile , outfile , tokens , values )\n\nwhere\n\n* `infile`: a string, the (template) file to read, \n* `outfile`: a string, the file to write.\n* `tokens` a list of N items, the regular expressions to find, \n* `values` a list of N items (strings, floats, etc...), the values to replace.\n\n"
      ]
    },
    {
      "cell_type": "code",
      "execution_count": null,
      "metadata": {
        "collapsed": false
      },
      "outputs": [],
      "source": [
        "X = [1.2 , 45, 91.8]\ninfile =\"input_template.txt\"\noutfile =\"input.txt\"\ntokens =[\"@X0\", \"@X1\", \"@X2\"]\nct.replace (infile , outfile , tokens , X)"
      ]
    },
    {
      "cell_type": "markdown",
      "metadata": {},
      "source": [
        "To see the change, let us look at the `input.txt` file.\n\n"
      ]
    },
    {
      "cell_type": "code",
      "execution_count": null,
      "metadata": {
        "collapsed": false
      },
      "outputs": [],
      "source": [
        "f = open(\"input.txt\", \"r\") \nprint(f.read())"
      ]
    },
    {
      "cell_type": "markdown",
      "metadata": {},
      "source": [
        "## Read the output with the get function\n\nThe simplest calling sequence is:\n\n```\nGet a list of values\nY= get ( filename , tokens = None , skip_tokens = None , \\\nskip_lines = None , skip_cols = None )\nGet a single value\nY= get_value ( filename , token = None , skip_token = 0, \\\nskip_line = 0, skip_col = 0)\n```\n\nwhere\n\n* `filename`: string, the file to read,  \n* `tokens`: list of N items, the regular expression to search, \n* `skip_tokens`: list of N items, the number of tokens to ignore before reading the value, \n* `skip_lines`: list of N items, the number of rows to ignore before reading the value, \n* `skip_cols`: list of N items, the number of columns to ignore before reading the value, \n* `Y`: list of N floats (for `get`) or a float (for `get_value`).\n\n"
      ]
    },
    {
      "cell_type": "markdown",
      "metadata": {},
      "source": [
        "Consider for example the following file.\n\n"
      ]
    },
    {
      "cell_type": "code",
      "execution_count": null,
      "metadata": {
        "collapsed": false
      },
      "outputs": [],
      "source": [
        "content = '''\n1 2 3 04 5 6\n7 8 9 10\n11 12 13 14\n'''"
      ]
    },
    {
      "cell_type": "code",
      "execution_count": null,
      "metadata": {
        "collapsed": false
      },
      "outputs": [],
      "source": [
        "f = open(\"results.txt\", \"w\")\nf.write(content)\nf.close()"
      ]
    },
    {
      "cell_type": "markdown",
      "metadata": {},
      "source": [
        "We want to read the number `9`.\n\n"
      ]
    },
    {
      "cell_type": "code",
      "execution_count": null,
      "metadata": {
        "collapsed": false
      },
      "outputs": [],
      "source": [
        "Y = ct.get_value (\"results.txt\" , skip_line = 1, skip_col = 2)\nY"
      ]
    }
  ],
  "metadata": {
    "kernelspec": {
      "display_name": "Python 3",
      "language": "python",
      "name": "python3"
    },
    "language_info": {
      "codemirror_mode": {
        "name": "ipython",
        "version": 3
      },
      "file_extension": ".py",
      "mimetype": "text/x-python",
      "name": "python",
      "nbconvert_exporter": "python",
      "pygments_lexer": "ipython3",
      "version": "3.9.2"
    }
  },
  "nbformat": 4,
  "nbformat_minor": 0
}