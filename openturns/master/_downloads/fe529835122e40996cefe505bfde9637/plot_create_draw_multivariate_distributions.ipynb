{
  "cells": [
    {
      "cell_type": "markdown",
      "metadata": {},
      "source": [
        "\n# Create and draw multivariate distributions\n"
      ]
    },
    {
      "cell_type": "markdown",
      "metadata": {},
      "source": [
        "In this example we create and draw multidimensional distributions.\n\n"
      ]
    },
    {
      "cell_type": "code",
      "execution_count": null,
      "metadata": {
        "collapsed": false
      },
      "outputs": [],
      "source": [
        "import openturns as ot\nimport openturns.viewer as otv\nfrom matplotlib import pylab as plt\n\not.Log.Show(ot.Log.NONE)"
      ]
    },
    {
      "cell_type": "markdown",
      "metadata": {},
      "source": [
        "## Create a multivariate model with `JointDistribution`\n\nIn this paragraph we use $~openturns.JointDistribution$ class to\nbuild multidimensional distribution described by its marginal distributions and optionally its dependence structure (a particular copula).\n\n\n"
      ]
    },
    {
      "cell_type": "markdown",
      "metadata": {},
      "source": [
        "We first create the marginals of the distribution :\n\n  - a Normal distribution ;\n  - a Gumbel distribution.\n\n\n"
      ]
    },
    {
      "cell_type": "code",
      "execution_count": null,
      "metadata": {
        "collapsed": false
      },
      "outputs": [],
      "source": [
        "marginals = [ot.Normal(), ot.Gumbel()]"
      ]
    },
    {
      "cell_type": "markdown",
      "metadata": {},
      "source": [
        "We draw their PDF. We recall that the `drawPDF` command just generates the graph data. It is the viewer module that enables the actual display.\n\n"
      ]
    },
    {
      "cell_type": "code",
      "execution_count": null,
      "metadata": {
        "collapsed": false
      },
      "outputs": [],
      "source": [
        "graphNormalPDF = marginals[0].drawPDF()\ngraphNormalPDF.setTitle(\"PDF of the first marginal\")\ngraphGumbelPDF = marginals[1].drawPDF()\ngraphGumbelPDF.setTitle(\"PDF of the second marginal\")\nview = otv.View(graphNormalPDF)\nview = otv.View(graphGumbelPDF)"
      ]
    },
    {
      "cell_type": "markdown",
      "metadata": {},
      "source": [
        "The CDF is also available with the `drawCDF` method.\n\n"
      ]
    },
    {
      "cell_type": "markdown",
      "metadata": {},
      "source": [
        "We then have the minimum required to create a bivariate distribution, assuming no dependency structure :\n\n"
      ]
    },
    {
      "cell_type": "code",
      "execution_count": null,
      "metadata": {
        "collapsed": false
      },
      "outputs": [],
      "source": [
        "distribution = ot.JointDistribution(marginals)"
      ]
    },
    {
      "cell_type": "markdown",
      "metadata": {},
      "source": [
        "We can draw the PDF (here in dimension 2) :\n\n"
      ]
    },
    {
      "cell_type": "code",
      "execution_count": null,
      "metadata": {
        "collapsed": false
      },
      "outputs": [],
      "source": [
        "graph = distribution.drawPDF()\nview = otv.View(graph)"
      ]
    },
    {
      "cell_type": "markdown",
      "metadata": {},
      "source": [
        "We also draw the CDF :\n\n"
      ]
    },
    {
      "cell_type": "code",
      "execution_count": null,
      "metadata": {
        "collapsed": false
      },
      "outputs": [],
      "source": [
        "graph = distribution.drawCDF()\nview = otv.View(graph)"
      ]
    },
    {
      "cell_type": "markdown",
      "metadata": {},
      "source": [
        "If a dependence between marginals is needed we have to create the copula specifying the dependency structure, here a :class:`~openturns.NormalCopula` :\n\n"
      ]
    },
    {
      "cell_type": "code",
      "execution_count": null,
      "metadata": {
        "collapsed": false
      },
      "outputs": [],
      "source": [
        "R = ot.CorrelationMatrix(2)\nR[0, 1] = 0.3\ncopula = ot.NormalCopula(R)\nprint(copula)"
      ]
    },
    {
      "cell_type": "markdown",
      "metadata": {},
      "source": [
        "We create the bivariate distribution with the desired copula and draw it.\n\n"
      ]
    },
    {
      "cell_type": "code",
      "execution_count": null,
      "metadata": {
        "collapsed": false
      },
      "outputs": [],
      "source": [
        "distribution = ot.JointDistribution(marginals, copula)\ngraph = distribution.drawPDF()\nview = otv.View(graph)"
      ]
    },
    {
      "cell_type": "markdown",
      "metadata": {},
      "source": [
        "## Multivariate models\nSome models in the library are natively multivariate. We present examples of three of them :\n\n - the Normal distribution ;\n - the Student distribution ;\n - the UserDefined distribution.\n\n### The Normal distribution\n\nThe :class:`~openturns.Normal` distribution is natively multivariate.\nHere we define a bivariate standard unit gaussian distribution and display\nits PDF.\n\n"
      ]
    },
    {
      "cell_type": "code",
      "execution_count": null,
      "metadata": {
        "collapsed": false
      },
      "outputs": [],
      "source": [
        "dim = 2\ndistribution = ot.Normal(dim)\ngraph = distribution.drawPDF()\ngraph.setTitle(\"Bivariate standard unit gaussian PDF\")\nview = otv.View(graph)"
      ]
    },
    {
      "cell_type": "markdown",
      "metadata": {},
      "source": [
        "### The Student distribution\n\nThe :class:`~openturns.Student` distribution is natively multivariate. Here we define a Student distribution in dimension 2 and display its PDF :\n\n"
      ]
    },
    {
      "cell_type": "code",
      "execution_count": null,
      "metadata": {
        "collapsed": false
      },
      "outputs": [],
      "source": [
        "dim = 2\nR = ot.CorrelationMatrix(dim)\nR[1, 0] = -0.2\ndistribution = ot.Student(4, [0.0, 1.0], [1.0, 1.0], R)\ngraph = distribution.drawPDF()\ngraph.setTitle(\"Bivariate Student PDF\")\nview = otv.View(graph)"
      ]
    },
    {
      "cell_type": "markdown",
      "metadata": {},
      "source": [
        "### The UserDefined distribution\n\nWe can also define our own distribution with the :class:`~openturns.UserDefined` distribution.\nFor instance consider the square $[-1,1] \\times [-1, 1]$ with some\nrandom points uniformly drawn. For each point the weight chosen is the square\nof the distance to the origin. The :class:`~openturns.UserDefined` class normalizes the weights.\n\n"
      ]
    },
    {
      "cell_type": "markdown",
      "metadata": {},
      "source": [
        "We first generate random points in the square.\n\n"
      ]
    },
    {
      "cell_type": "code",
      "execution_count": null,
      "metadata": {
        "collapsed": false
      },
      "outputs": [],
      "source": [
        "distUniform2 = ot.JointDistribution([ot.Uniform(-1.0, 1.0)] * 2)\nN = 100\nsample = distUniform2.getSample(N)"
      ]
    },
    {
      "cell_type": "markdown",
      "metadata": {},
      "source": [
        "We then build the points and weights for the `UserDefined` distribution.\n\n"
      ]
    },
    {
      "cell_type": "code",
      "execution_count": null,
      "metadata": {
        "collapsed": false
      },
      "outputs": [],
      "source": [
        "points = []\nweights = []\nfor i in range(N):\n    points.append(sample[i, :])\n    weights.append((sample[i, 0] ** 2 + sample[i, 1] ** 2) ** 2)"
      ]
    },
    {
      "cell_type": "markdown",
      "metadata": {},
      "source": [
        "We build the distribution :\n\n"
      ]
    },
    {
      "cell_type": "code",
      "execution_count": null,
      "metadata": {
        "collapsed": false
      },
      "outputs": [],
      "source": [
        "distribution = ot.UserDefined(points, weights)\ngraph = distribution.drawPDF()\ngraph.setTitle(\"User defined PDF\")"
      ]
    },
    {
      "cell_type": "markdown",
      "metadata": {},
      "source": [
        "We can draw a sample from this distribution with the `getSample` method :\n\n"
      ]
    },
    {
      "cell_type": "code",
      "execution_count": null,
      "metadata": {
        "collapsed": false
      },
      "outputs": [],
      "source": [
        "omega = distribution.getSample(100)\ncloud = ot.Cloud(omega, \"black\", \"fdiamond\", \"Sample from UserDefined distribution\")\ngraph.add(cloud)\nview = otv.View(graph)"
      ]
    },
    {
      "cell_type": "markdown",
      "metadata": {},
      "source": [
        "As expected most values are near the edge of the square where the PDF is the higher.\n\n"
      ]
    },
    {
      "cell_type": "markdown",
      "metadata": {},
      "source": [
        "Display all figures\n\n"
      ]
    },
    {
      "cell_type": "code",
      "execution_count": null,
      "metadata": {
        "collapsed": false
      },
      "outputs": [],
      "source": [
        "plt.show()"
      ]
    }
  ],
  "metadata": {
    "kernelspec": {
      "display_name": "Python 3",
      "language": "python",
      "name": "python3"
    },
    "language_info": {
      "codemirror_mode": {
        "name": "ipython",
        "version": 3
      },
      "file_extension": ".py",
      "mimetype": "text/x-python",
      "name": "python",
      "nbconvert_exporter": "python",
      "pygments_lexer": "ipython3",
      "version": "3.12.4"
    }
  },
  "nbformat": 4,
  "nbformat_minor": 0
}