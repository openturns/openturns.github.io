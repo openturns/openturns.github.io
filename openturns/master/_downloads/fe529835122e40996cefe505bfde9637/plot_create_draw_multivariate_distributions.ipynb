{
  "cells": [
    {
      "cell_type": "markdown",
      "metadata": {},
      "source": [
        "\n# Create and draw multivariate distributions\n"
      ]
    },
    {
      "cell_type": "markdown",
      "metadata": {},
      "source": [
        "In this example we create and draw multidimensional distributions.\n\n"
      ]
    },
    {
      "cell_type": "code",
      "execution_count": null,
      "metadata": {
        "collapsed": false
      },
      "outputs": [],
      "source": [
        "import openturns as ot\nimport openturns.viewer as otv\nfrom matplotlib import pylab as plt\n\not.Log.Show(ot.Log.NONE)"
      ]
    },
    {
      "cell_type": "markdown",
      "metadata": {},
      "source": [
        "## Create a multivariate model with a :class:`~openturns.JointDistribution`\n\nIn this paragraph we use :class:`~openturns.JointDistribution` class to\nbuild a multivariate distribution of dimension $\\inputDim$, from:\n\n- $\\inputDim$ scalar distributions whose cumulative distribution functions are\n  denoted by $(F_1, \\dots, F_\\inputDim)$, called the  *instrumental marginals*,\n- and a core $K$ which is a multivariate distribution of dimension $\\inputDim$ whose range is\n  included in $[0,1]^\\inputDim$.\n\n### First case: the core is a copula\nIn this case, we use a core which is a copula. Thus, the instrumental marginals\nare the marginals of the multivariate distribution.\n\nWe first create the marginals of the distribution:\n\n  - a :class:`~openturns.Normal` distribution;\n  - a :class:`~openturns.Gumbel` distribution.\n\nWe use a :class:`~openturns.ClaytonCopula` as dependence structure.\n\n"
      ]
    },
    {
      "cell_type": "code",
      "execution_count": null,
      "metadata": {
        "collapsed": false
      },
      "outputs": [],
      "source": [
        "marginals = [ot.Normal(), ot.Gumbel()]\ntheta = 2.0\ncop = ot.ClaytonCopula(theta)\ndistribution = ot.JointDistribution(marginals, cop)"
      ]
    },
    {
      "cell_type": "markdown",
      "metadata": {},
      "source": [
        "We can check here that the instrumental marginals really are  the marginal distributions.\nIn the following graphs, we draw the instrumental marginals and the real marginals, obtained with\nthe method :meth:`~openturns.Distribution.getMarginal`.\nFirst, we draw the probability density functions of each component.\n\n"
      ]
    },
    {
      "cell_type": "code",
      "execution_count": null,
      "metadata": {
        "collapsed": false
      },
      "outputs": [],
      "source": [
        "graph_PDF_0 = marginals[0].drawPDF()\ngraph_PDF_0.add(distribution.getMarginal(0).drawPDF())\ngraph_PDF_0.setLegends(['instrumental marg', 'marg'])\ngraph_PDF_0.setTitle(\"First component\")\nview = otv.View(graph_PDF_0)\n\ngraph_PDF_1 = marginals[1].drawPDF()\ngraph_PDF_1.add(distribution.getMarginal(1).drawPDF())\ngraph_PDF_1.setLegends(['instrumental marg', 'marg'])\ngraph_PDF_1.setTitle(\"Second component\")\nview = otv.View(graph_PDF_1)"
      ]
    },
    {
      "cell_type": "markdown",
      "metadata": {},
      "source": [
        "Then, we draw the cumulative distribution functions.\n\n"
      ]
    },
    {
      "cell_type": "code",
      "execution_count": null,
      "metadata": {
        "collapsed": false
      },
      "outputs": [],
      "source": [
        "graph_CDF_0 = marginals[0].drawCDF()\ngraph_CDF_0.add(distribution.getMarginal(0).drawCDF())\ngraph_CDF_0.setLegends(['instrumental marg', 'marg'])\ngraph_CDF_0.setTitle(\"First component\")\nview = otv.View(graph_CDF_0)\n\ngraph_CDF_1 = marginals[1].drawCDF()\ngraph_CDF_1.add(distribution.getMarginal(1).drawCDF())\ngraph_CDF_1.setLegends(['instrumental marg', 'marg'])\ngraph_CDF_1.setTitle(\"Second component\")\nview = otv.View(graph_CDF_1)"
      ]
    },
    {
      "cell_type": "markdown",
      "metadata": {},
      "source": [
        "At last, we check that the copula of the multivariate distribution is the specified core\nwhich was a copula.\n\n"
      ]
    },
    {
      "cell_type": "code",
      "execution_count": null,
      "metadata": {
        "collapsed": false
      },
      "outputs": [],
      "source": [
        "cop_dist = distribution.getCopula()\ngraph_cop = cop_dist.drawPDF()\n# Get the Contour Drawable's actual implementation from the Graph\n# produced by drawPDF in order to access all its methods\ncontour_cop = cop.drawPDF().getDrawable(1).getImplementation()\ncontour_cop.setLineStyle('dashed')\n# Remove the colorbar\ncontour_cop.setColorBarPosition(\"\")\ngraph_cop.add(contour_cop)\n# Add the contour without a colorbargraph_cop.add(cop.drawPDF())\ngraph_cop.setTitle('Distribution copula and core')\nview = otv.View(graph_cop)"
      ]
    },
    {
      "cell_type": "markdown",
      "metadata": {},
      "source": [
        "We can draw the PDF of the bivariate distribution:\n\n"
      ]
    },
    {
      "cell_type": "code",
      "execution_count": null,
      "metadata": {
        "collapsed": false
      },
      "outputs": [],
      "source": [
        "graph = distribution.drawPDF()\nview = otv.View(graph)"
      ]
    },
    {
      "cell_type": "markdown",
      "metadata": {},
      "source": [
        "We also draw the CDF :\n\n"
      ]
    },
    {
      "cell_type": "code",
      "execution_count": null,
      "metadata": {
        "collapsed": false
      },
      "outputs": [],
      "source": [
        "graph = distribution.drawCDF()\nview = otv.View(graph)"
      ]
    },
    {
      "cell_type": "markdown",
      "metadata": {},
      "source": [
        "### Second case: the core is not a copula\nIn this case, we use a core which is not a copula. Thus, the instrumental marginals\nare not the marginals of the multivariate distribution.\n\nWe first create the instrumental marginals of the distribution:\n\n- a :class:`~openturns.Normal` distribution;\n- a :class:`~openturns.Gumbel` distribution.\n\nWe use a :class:`~openturns.Dirichlet` as the core.\n\n"
      ]
    },
    {
      "cell_type": "code",
      "execution_count": null,
      "metadata": {
        "collapsed": false
      },
      "outputs": [],
      "source": [
        "inst_marginals = [ot.Normal(), ot.Gumbel()]\ncore_dir = ot.Dirichlet([2.0, 1.5, 2.5])\ndistribution = ot.JointDistribution(inst_marginals, core_dir)"
      ]
    },
    {
      "cell_type": "markdown",
      "metadata": {},
      "source": [
        "We can check here that the instrumental marginals are not the marginal distributions.\nIn the following graphs, we draw the instrumental marginals and the real marginals, obtained with\nthe method :meth:`~openturns.Distribution.getMarginal`.\nFirst, we draw the probability density functions of each component.\n\n"
      ]
    },
    {
      "cell_type": "code",
      "execution_count": null,
      "metadata": {
        "collapsed": false
      },
      "outputs": [],
      "source": [
        "graph_PDF_0 = inst_marginals[0].drawPDF()\ngraph_PDF_0.add(distribution.getMarginal(0).drawPDF())\ngraph_PDF_0.setLegends(['instrumental marg', 'marg'])\ngraph_PDF_0.setTitle(\"First component\")\nview = otv.View(graph_PDF_0)\n\ngraph_PDF_1 = inst_marginals[1].drawPDF()\ngraph_PDF_1.add(distribution.getMarginal(1).drawPDF())\ngraph_PDF_1.setLegends(['instrumental marg', 'marg'])\ngraph_PDF_1.setTitle(\"Second component\")\nview = otv.View(graph_PDF_1)"
      ]
    },
    {
      "cell_type": "markdown",
      "metadata": {},
      "source": [
        "Then, we draw the cumulative distribution functions.\n\n"
      ]
    },
    {
      "cell_type": "code",
      "execution_count": null,
      "metadata": {
        "collapsed": false
      },
      "outputs": [],
      "source": [
        "graph_CDF_0 = inst_marginals[0].drawCDF()\ngraph_CDF_0.add(distribution.getMarginal(0).drawCDF())\ngraph_CDF_0.setLegends(['instrumental marg', 'marg'])\ngraph_CDF_0.setTitle(\"First component\")\nview = otv.View(graph_CDF_0)\n\ngraph_CDF_1 = inst_marginals[1].drawCDF()\ngraph_CDF_1.add(distribution.getMarginal(1).drawCDF())\ngraph_CDF_1.setLegends(['instrumental marg', 'marg'])\ngraph_CDF_1.setTitle(\"Second component\")\nview = otv.View(graph_CDF_1)"
      ]
    },
    {
      "cell_type": "markdown",
      "metadata": {},
      "source": [
        "At last, we check that the copula of the multivariate distribution is not the specified core.\n\n"
      ]
    },
    {
      "cell_type": "code",
      "execution_count": null,
      "metadata": {
        "collapsed": false
      },
      "outputs": [],
      "source": [
        "cop_dist = distribution.getCopula()\ngraph_cop = cop_dist.drawPDF()\ncop_dist_draw = graph_cop.getDrawable(1)\nlevels = cop_dist_draw.getLevels()\ngraph_core = core_dir.drawPDF()\ncore_draw = graph_core.getDrawable(0).getImplementation()\ncore_draw.setColorBarPosition(\"\")\ncore_draw.setLevels(levels)\ncore_draw.setLineStyle('dashed')\n\ngraph_cop.add(core_draw)\ngraph_cop.setTitle('Distribution copula and core')\nview = otv.View(graph_cop)"
      ]
    },
    {
      "cell_type": "markdown",
      "metadata": {},
      "source": [
        "We can draw the PDF of the bivariate distribution.\n\n"
      ]
    },
    {
      "cell_type": "code",
      "execution_count": null,
      "metadata": {
        "collapsed": false
      },
      "outputs": [],
      "source": [
        "graph = distribution.drawPDF()\nview = otv.View(graph)"
      ]
    },
    {
      "cell_type": "markdown",
      "metadata": {},
      "source": [
        "We also draw the CDF.\n\n"
      ]
    },
    {
      "cell_type": "code",
      "execution_count": null,
      "metadata": {
        "collapsed": false
      },
      "outputs": [],
      "source": [
        "graph = distribution.drawCDF()\nview = otv.View(graph)"
      ]
    },
    {
      "cell_type": "markdown",
      "metadata": {},
      "source": [
        "## Use some native multivariate models\nSome models in the library are natively multivariate. We present examples of three of them:\n\n - the :class:`~openturns.Normal` distribution,\n - the :class:`~openturns.Student` distribution,\n - the :class:`~openturns.UserDefined` distribution.\n\n### The Normal distribution\n\nThe :class:`~openturns.Normal` distribution is natively multivariate.\nHere we define a bivariate standard unit Normal distribution and display\nits PDF.\n\n"
      ]
    },
    {
      "cell_type": "code",
      "execution_count": null,
      "metadata": {
        "collapsed": false
      },
      "outputs": [],
      "source": [
        "dim = 2\ndistribution = ot.Normal(dim)\ngraph = distribution.drawPDF()\ngraph.setTitle(\"Bivariate standard unit Normal PDF\")\nview = otv.View(graph)"
      ]
    },
    {
      "cell_type": "markdown",
      "metadata": {},
      "source": [
        "### The Student distribution\n\nThe :class:`~openturns.Student` distribution is natively multivariate. Here we define a Student distribution in dimension 2 and display its PDF :\n\n"
      ]
    },
    {
      "cell_type": "code",
      "execution_count": null,
      "metadata": {
        "collapsed": false
      },
      "outputs": [],
      "source": [
        "dim = 2\nR = ot.CorrelationMatrix(dim)\nR[1, 0] = -0.2\ndistribution = ot.Student(4, [0.0, 1.0], [1.0, 1.0], R)\ngraph = distribution.drawPDF()\ngraph.setTitle(\"Bivariate Student PDF\")\nview = otv.View(graph)"
      ]
    },
    {
      "cell_type": "markdown",
      "metadata": {},
      "source": [
        "### The UserDefined distribution\n\nWe can also define our own distribution with the :class:`~openturns.UserDefined` distribution.\nFor instance consider the square $[-1,1] \\times [-1, 1]$ with some\nrandom points uniformly drawn. For each point the weight chosen is the square\nof the distance to the origin. The :class:`~openturns.UserDefined` class normalizes the weights.\n\n"
      ]
    },
    {
      "cell_type": "markdown",
      "metadata": {},
      "source": [
        "We first generate random points in the square.\n\n"
      ]
    },
    {
      "cell_type": "code",
      "execution_count": null,
      "metadata": {
        "collapsed": false
      },
      "outputs": [],
      "source": [
        "distUniform2 = ot.JointDistribution([ot.Uniform(-1.0, 1.0)] * 2)\nN = 100\nsample = distUniform2.getSample(N)"
      ]
    },
    {
      "cell_type": "markdown",
      "metadata": {},
      "source": [
        "We then build the points and weights for the `UserDefined` distribution.\n\n"
      ]
    },
    {
      "cell_type": "code",
      "execution_count": null,
      "metadata": {
        "collapsed": false
      },
      "outputs": [],
      "source": [
        "points = []\nweights = []\nfor i in range(N):\n    points.append(sample[i, :])\n    weights.append((sample[i, 0] ** 2 + sample[i, 1] ** 2) ** 2)"
      ]
    },
    {
      "cell_type": "markdown",
      "metadata": {},
      "source": [
        "We build the distribution :\n\n"
      ]
    },
    {
      "cell_type": "code",
      "execution_count": null,
      "metadata": {
        "collapsed": false
      },
      "outputs": [],
      "source": [
        "distribution = ot.UserDefined(points, weights)\ngraph = distribution.drawPDF()\ngraph.setTitle(\"User defined PDF\")"
      ]
    },
    {
      "cell_type": "markdown",
      "metadata": {},
      "source": [
        "We can generate and display a sample from this distribution.\n\n"
      ]
    },
    {
      "cell_type": "code",
      "execution_count": null,
      "metadata": {
        "collapsed": false
      },
      "outputs": [],
      "source": [
        "omega = distribution.getSample(100)\ncloud = ot.Cloud(omega, \"black\", \"fdiamond\", \"Sample from UserDefined distribution\")\ngraph.add(cloud)\nview = otv.View(graph)"
      ]
    },
    {
      "cell_type": "markdown",
      "metadata": {},
      "source": [
        "As expected most values are near the edge of the square where the PDF is the higher.\n\n"
      ]
    },
    {
      "cell_type": "markdown",
      "metadata": {},
      "source": [
        "Display all figures\n\n"
      ]
    },
    {
      "cell_type": "code",
      "execution_count": null,
      "metadata": {
        "collapsed": false
      },
      "outputs": [],
      "source": [
        "plt.show()"
      ]
    }
  ],
  "metadata": {
    "kernelspec": {
      "display_name": "Python 3",
      "language": "python",
      "name": "python3"
    },
    "language_info": {
      "codemirror_mode": {
        "name": "ipython",
        "version": 3
      },
      "file_extension": ".py",
      "mimetype": "text/x-python",
      "name": "python",
      "nbconvert_exporter": "python",
      "pygments_lexer": "ipython3",
      "version": "3.13.3"
    }
  },
  "nbformat": 4,
  "nbformat_minor": 0
}