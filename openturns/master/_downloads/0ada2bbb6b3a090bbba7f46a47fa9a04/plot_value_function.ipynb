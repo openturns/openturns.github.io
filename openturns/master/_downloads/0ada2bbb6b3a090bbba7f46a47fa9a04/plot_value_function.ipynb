{
  "cells": [
    {
      "cell_type": "markdown",
      "metadata": {},
      "source": [
        "\n# Value function\n"
      ]
    },
    {
      "cell_type": "markdown",
      "metadata": {},
      "source": [
        "A value function\n$f_{value}: \\mathcal{D} \\times \\mathbb{R}^d \\rightarrow \\mathcal{D} \\times \\mathbb{R}^q$ is a\nparticular field function that lets invariant the mesh of a field\nand defined by a function $g : \\mathbb{R}^d  \\rightarrow \\mathbb{R}^q$ such that:\n\n\\begin{align}\\begin{aligned} f_{value}(\\underline{t}, \\underline{x})=(\\underline{t}, g(\\underline{x}))\\end{aligned}\\end{align}\n\nLet's note that the input dimension of $f_{value}$ still designs the\ndimension of $\\underline{x}$ : $d$. Its output dimension is equal to $q$.\n\nThe creation of the *ValueFunction* object requires the\nfunction $g$ and the integer $n$: the dimension of the\nvertices of the mesh $\\mathcal{M}$. This data is required for tests on the\ncompatibility of dimension when a composite process is created using the\nspatial function.\n\n\nThe use case illustrates the creation of a spatial (field) function\nfrom the function $g: \\mathbb{R}^2  \\rightarrow \\mathbb{R}^2$ such as :\n\n\\begin{align}\\begin{aligned}\n     g(\\underline{x})=(x_1^2, x_1+x_2)\n   \\end{aligned}\\end{align}\n\n\n"
      ]
    },
    {
      "cell_type": "code",
      "execution_count": null,
      "metadata": {
        "collapsed": false
      },
      "outputs": [],
      "source": [
        "import openturns as ot\n\not.Log.Show(ot.Log.NONE)"
      ]
    },
    {
      "cell_type": "markdown",
      "metadata": {},
      "source": [
        "Create a mesh\n\n"
      ]
    },
    {
      "cell_type": "code",
      "execution_count": null,
      "metadata": {
        "collapsed": false
      },
      "outputs": [],
      "source": [
        "N = 100\nmesh = ot.RegularGrid(0.0, 1.0, N)"
      ]
    },
    {
      "cell_type": "markdown",
      "metadata": {},
      "source": [
        "Create the function that acts the values of the mesh\n\n"
      ]
    },
    {
      "cell_type": "code",
      "execution_count": null,
      "metadata": {
        "collapsed": false
      },
      "outputs": [],
      "source": [
        "g = ot.SymbolicFunction([\"x1\", \"x2\"], [\"x1^2\", \"x1+x2\"])"
      ]
    },
    {
      "cell_type": "markdown",
      "metadata": {},
      "source": [
        "Create the field function\n\n"
      ]
    },
    {
      "cell_type": "code",
      "execution_count": null,
      "metadata": {
        "collapsed": false
      },
      "outputs": [],
      "source": [
        "f = ot.ValueFunction(g, mesh)"
      ]
    },
    {
      "cell_type": "markdown",
      "metadata": {},
      "source": [
        "Evaluate f\n\n"
      ]
    },
    {
      "cell_type": "code",
      "execution_count": null,
      "metadata": {
        "collapsed": false
      },
      "outputs": [],
      "source": [
        "inF = ot.Normal(2).getSample(N)\noutF = f(inF)\n\n# print input/output at first mesh nodes\nxy = inF\nxy.stack(outF)\nxy[:5]"
      ]
    }
  ],
  "metadata": {
    "kernelspec": {
      "display_name": "Python 3",
      "language": "python",
      "name": "python3"
    },
    "language_info": {
      "codemirror_mode": {
        "name": "ipython",
        "version": 3
      },
      "file_extension": ".py",
      "mimetype": "text/x-python",
      "name": "python",
      "nbconvert_exporter": "python",
      "pygments_lexer": "ipython3",
      "version": "3.13.1"
    }
  },
  "nbformat": 4,
  "nbformat_minor": 0
}