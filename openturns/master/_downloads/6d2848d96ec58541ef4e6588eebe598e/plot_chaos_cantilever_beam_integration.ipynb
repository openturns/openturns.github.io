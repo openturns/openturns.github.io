{
  "cells": [
    {
      "cell_type": "code",
      "execution_count": null,
      "metadata": {
        "collapsed": false
      },
      "outputs": [],
      "source": [
        "%matplotlib inline"
      ]
    },
    {
      "cell_type": "markdown",
      "metadata": {},
      "source": [
        "\n# Create a polynomial chaos metamodel by integration on the cantilever beam\n"
      ]
    },
    {
      "cell_type": "markdown",
      "metadata": {},
      "source": [
        "In this example, we create a polynomial chaos metamodel by integration on the cantilever beam example. \n\nIn order to do this, we use the `GaussProductExperiment` class. \n\n"
      ]
    },
    {
      "cell_type": "code",
      "execution_count": null,
      "metadata": {
        "collapsed": false
      },
      "outputs": [],
      "source": [
        "import openturns as ot\nimport openturns.viewer as viewer\nfrom matplotlib import pylab as plt\not.Log.Show(ot.Log.NONE)"
      ]
    },
    {
      "cell_type": "code",
      "execution_count": null,
      "metadata": {
        "collapsed": false
      },
      "outputs": [],
      "source": [
        "dist_E = ot.Beta(0.9, 2.27, 2.8e7, 4.8e7)\ndist_E.setDescription([\"E\"])\nF_para = ot.LogNormalMuSigma(3.0e4, 9.0e3, 15.0e3) # in N\ndist_F = ot.ParametrizedDistribution(F_para)\ndist_F.setDescription([\"F\"])\ndist_L = ot.Uniform(250., 260.) # in cm\ndist_L.setDescription([\"L\"])\ndist_I = ot.Beta(2.5, 1.5, 310., 450.) # in cm^4\ndist_I.setDescription([\"I\"])\n\nmyDistribution = ot.ComposedDistribution([dist_E, dist_F, dist_L, dist_I])"
      ]
    },
    {
      "cell_type": "code",
      "execution_count": null,
      "metadata": {
        "collapsed": false
      },
      "outputs": [],
      "source": [
        "dim_input = 4 # dimension of the input\ndim_output = 1 # dimension of the output\n\ndef function_beam(X):\n    E, F, L, I = X\n    Y = F* (L**3) /  (3 * E * I)\n    return [Y]\n\ng = ot.PythonFunction( dim_input, dim_output, function_beam)\ng.setInputDescription(myDistribution.getDescription())"
      ]
    },
    {
      "cell_type": "markdown",
      "metadata": {},
      "source": [
        "## Create a polynomial chaos decomposition\n\n"
      ]
    },
    {
      "cell_type": "markdown",
      "metadata": {},
      "source": [
        "We create the multivariate polynomial basis by tensorization of the univariate polynomials and the default linear enumerate rule. \n\n"
      ]
    },
    {
      "cell_type": "code",
      "execution_count": null,
      "metadata": {
        "collapsed": false
      },
      "outputs": [],
      "source": [
        "multivariateBasis = ot.OrthogonalProductPolynomialFactory([dist_E, dist_F, dist_L, dist_I])"
      ]
    },
    {
      "cell_type": "markdown",
      "metadata": {},
      "source": [
        "Generate an training sample of size N with MC simulation.\n\n"
      ]
    },
    {
      "cell_type": "code",
      "execution_count": null,
      "metadata": {
        "collapsed": false
      },
      "outputs": [],
      "source": [
        "N = 50 # size of the experimental design\ninputTrain = myDistribution.getSample(N)\noutputTrain = g(inputTrain)"
      ]
    },
    {
      "cell_type": "markdown",
      "metadata": {},
      "source": [
        "We select the `FixedStrategy` truncation rule, which corresponds to using the first `P` polynomials of the polynomial basis. In this case, we select `P` using the `getStrataCumulatedCardinal` method, so that all polynomials with total degree lower or equal to 5 are used. \n\n"
      ]
    },
    {
      "cell_type": "code",
      "execution_count": null,
      "metadata": {
        "collapsed": false
      },
      "outputs": [],
      "source": [
        "totalDegree = 5\nenumfunc = multivariateBasis.getEnumerateFunction()\nP = enumfunc.getStrataCumulatedCardinal(totalDegree)\nadaptiveStrategy = ot.FixedStrategy(multivariateBasis, P)\nadaptiveStrategy"
      ]
    },
    {
      "cell_type": "markdown",
      "metadata": {},
      "source": [
        "We see that the number of polynomials is equal to 126. This will lead to the computation of 126 coefficients. \n\n"
      ]
    },
    {
      "cell_type": "markdown",
      "metadata": {},
      "source": [
        "We now set the method used to compute the coefficients; we select the integration method. \n\nWe begin by getting the standard measure associated with the multivariate polynomial basis. We see that the range of the `Beta` distribution has been standardized into the [-1,1] interval. This is the same for the `Uniform` distribution and the second `Beta` distribution.\n\n"
      ]
    },
    {
      "cell_type": "code",
      "execution_count": null,
      "metadata": {
        "collapsed": false
      },
      "outputs": [],
      "source": [
        "distributionMu = multivariateBasis.getMeasure()\ndistributionMu"
      ]
    },
    {
      "cell_type": "code",
      "execution_count": null,
      "metadata": {
        "collapsed": false
      },
      "outputs": [],
      "source": [
        "marginalDegrees = [4] * dim_input\nexperiment = ot.GaussProductExperiment(distributionMu, marginalDegrees)"
      ]
    },
    {
      "cell_type": "markdown",
      "metadata": {},
      "source": [
        "We can see the size of the associated design of experiments.\n\n"
      ]
    },
    {
      "cell_type": "code",
      "execution_count": null,
      "metadata": {
        "collapsed": false
      },
      "outputs": [],
      "source": [
        "experiment.generate().getSize()"
      ]
    },
    {
      "cell_type": "markdown",
      "metadata": {},
      "source": [
        "The choice of the `GaussProductExperiment` rule leads to 256 evaluations of the model. \n\n"
      ]
    },
    {
      "cell_type": "code",
      "execution_count": null,
      "metadata": {
        "collapsed": false
      },
      "outputs": [],
      "source": [
        "projectionStrategy = ot.IntegrationStrategy(experiment)"
      ]
    },
    {
      "cell_type": "markdown",
      "metadata": {},
      "source": [
        "We can now create the functional chaos. \n\n"
      ]
    },
    {
      "cell_type": "code",
      "execution_count": null,
      "metadata": {
        "collapsed": false
      },
      "outputs": [],
      "source": [
        "chaosalgo = ot.FunctionalChaosAlgorithm(g, myDistribution, adaptiveStrategy, projectionStrategy)\nchaosalgo.run()"
      ]
    },
    {
      "cell_type": "markdown",
      "metadata": {},
      "source": [
        "Get the result\n\n\n"
      ]
    },
    {
      "cell_type": "code",
      "execution_count": null,
      "metadata": {
        "collapsed": false
      },
      "outputs": [],
      "source": [
        "result = chaosalgo.getResult()"
      ]
    },
    {
      "cell_type": "markdown",
      "metadata": {},
      "source": [
        "The `getMetaModel` method returns the metamodel function. \n\n"
      ]
    },
    {
      "cell_type": "code",
      "execution_count": null,
      "metadata": {
        "collapsed": false
      },
      "outputs": [],
      "source": [
        "metamodel = result.getMetaModel()"
      ]
    },
    {
      "cell_type": "markdown",
      "metadata": {},
      "source": [
        "## Validate the metamodel\n\n"
      ]
    },
    {
      "cell_type": "markdown",
      "metadata": {},
      "source": [
        "Generate a validation sample (which is independent of the training sample).\n\n"
      ]
    },
    {
      "cell_type": "code",
      "execution_count": null,
      "metadata": {
        "collapsed": false
      },
      "outputs": [],
      "source": [
        "n_valid = 1000\ninputTest = myDistribution.getSample(n_valid)\noutputTest = g(inputTest)"
      ]
    },
    {
      "cell_type": "markdown",
      "metadata": {},
      "source": [
        "The `MetaModelValidation` class validates the metamodel based on a validation sample. \n\n"
      ]
    },
    {
      "cell_type": "code",
      "execution_count": null,
      "metadata": {
        "collapsed": false
      },
      "outputs": [],
      "source": [
        "val = ot.MetaModelValidation(inputTest, outputTest, metamodel)"
      ]
    },
    {
      "cell_type": "markdown",
      "metadata": {},
      "source": [
        "Compute the $Q^2$ predictivity coefficient\n\n"
      ]
    },
    {
      "cell_type": "code",
      "execution_count": null,
      "metadata": {
        "collapsed": false
      },
      "outputs": [],
      "source": [
        "Q2 = val.computePredictivityFactor()\nQ2"
      ]
    },
    {
      "cell_type": "markdown",
      "metadata": {},
      "source": [
        "Plot the observed versus the predicted outputs.\n\n"
      ]
    },
    {
      "cell_type": "code",
      "execution_count": null,
      "metadata": {
        "collapsed": false
      },
      "outputs": [],
      "source": [
        "graph = val.drawValidation()\ngraph.setTitle(\"Q2=%.2f%%\" % (Q2*100))\ngraph.setLegends([\"\"])\nview = viewer.View(graph)"
      ]
    },
    {
      "cell_type": "markdown",
      "metadata": {},
      "source": [
        "## Sensitivity analysis\n\n"
      ]
    },
    {
      "cell_type": "markdown",
      "metadata": {},
      "source": [
        "Retrieve Sobol' sensitivity measures associated to the polynomial chaos decomposition of the model.\n\n"
      ]
    },
    {
      "cell_type": "code",
      "execution_count": null,
      "metadata": {
        "collapsed": false
      },
      "outputs": [],
      "source": [
        "chaosSI = ot.FunctionalChaosSobolIndices(result) \nprint( chaosSI.summary() )"
      ]
    },
    {
      "cell_type": "code",
      "execution_count": null,
      "metadata": {
        "collapsed": false
      },
      "outputs": [],
      "source": [
        "first_order = [chaosSI.getSobolIndex(i) for i in range(dim_input)]\ntotal_order = [chaosSI.getSobolTotalIndex(i) for i in range(dim_input)]\ninput_names = g.getInputDescription()\ngraph = ot.SobolIndicesAlgorithm.DrawSobolIndices(input_names, first_order, total_order)\nview = viewer.View(graph)\n\nplt.show()"
      ]
    },
    {
      "cell_type": "markdown",
      "metadata": {},
      "source": [
        "## Conclusion\n\nWe see that the coefficients are particularily well computed since the Q2 coefficient is excellent (perfect ?), even with a relatively limited amount of simulation (256 points). \n\n"
      ]
    }
  ],
  "metadata": {
    "kernelspec": {
      "display_name": "Python 3",
      "language": "python",
      "name": "python3"
    },
    "language_info": {
      "codemirror_mode": {
        "name": "ipython",
        "version": 3
      },
      "file_extension": ".py",
      "mimetype": "text/x-python",
      "name": "python",
      "nbconvert_exporter": "python",
      "pygments_lexer": "ipython3",
      "version": "3.8.6"
    }
  },
  "nbformat": 4,
  "nbformat_minor": 0
}