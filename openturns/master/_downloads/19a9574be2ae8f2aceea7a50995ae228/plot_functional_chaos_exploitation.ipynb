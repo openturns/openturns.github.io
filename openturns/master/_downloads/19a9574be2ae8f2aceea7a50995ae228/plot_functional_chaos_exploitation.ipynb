{
  "cells": [
    {
      "cell_type": "code",
      "execution_count": null,
      "metadata": {
        "collapsed": false
      },
      "outputs": [],
      "source": [
        "%matplotlib inline"
      ]
    },
    {
      "cell_type": "markdown",
      "metadata": {},
      "source": [
        "\n# Polynomial chaos exploitation\n"
      ]
    },
    {
      "cell_type": "markdown",
      "metadata": {},
      "source": [
        "In this example we are going to create a global approximation of a model response using functional chaos and expose the associated results:\n\n- the composed model: $h$: $\\underline{Z}^{\\strut} \\longrightarrow \\underline{Y} = g \\circ T^{-1}(\\underline{Z})$, which is the model of the reduced variables $\\underline{Z}$. We have  $\\displaystyle h =  \\sum_{k \\in \\mathbb N} \\underline{\\alpha}_k \\Psi_k$,\n- the coefficients of the polynomial approximation : $(\\underline{\\alpha}_k)_{k \\in K}$,\n- the composed meta model: $\\hat{h}$, which is the model of the reduced variables reduced to the truncated multivariate basis $(\\Psi_k)_{k \\in K}$. We have $\\displaystyle  \\hat{h} = \\sum_{k \\in K} \\underline{\\alpha}_k \\Psi_k$,\n- the meta model: $\\displaystyle \\hat{g} : \\underline{X} \\longrightarrow Y = \\hat{h} \\circ T(\\underline{X})$ which is the polynomial chaos approximation as a Function. We have $\\displaystyle \\hat{g} = \\sum_{k \\in K} \\underline{\\alpha}_k \\Psi_k \\circ T$,\n- the truncated multivariate basis : $(\\Psi_k)_{k \\in K}$,\n- the indices $K$,\n- the composition of each polynomial of the truncated multivariate basis $\\Psi_k$,\n- the distribution $\\mu$ of the transformed variables $\\underline{Z}$.\n\n\n"
      ]
    },
    {
      "cell_type": "code",
      "execution_count": null,
      "metadata": {
        "collapsed": false
      },
      "outputs": [],
      "source": [
        "import openturns as ot\nimport openturns.viewer as viewer\nfrom matplotlib import pylab as plt\not.Log.Show(ot.Log.NONE)"
      ]
    },
    {
      "cell_type": "markdown",
      "metadata": {},
      "source": [
        "Prepare some X/Y data.\n\n"
      ]
    },
    {
      "cell_type": "code",
      "execution_count": null,
      "metadata": {
        "collapsed": false
      },
      "outputs": [],
      "source": [
        "ot.RandomGenerator.SetSeed(0)\ndimension = 2\ninput_names = ['x1', 'x2']\nformulas = ['cos(x1 + x2)', '(x2 + 1) * exp(x1 - 2 * x2)']\nmodel = ot.SymbolicFunction(input_names, formulas)\ndistribution = ot.Normal(dimension)\nx = distribution.getSample(30)\ny = model(x)"
      ]
    },
    {
      "cell_type": "markdown",
      "metadata": {},
      "source": [
        "create a functional chaos algorithm\n\n"
      ]
    },
    {
      "cell_type": "code",
      "execution_count": null,
      "metadata": {
        "collapsed": false
      },
      "outputs": [],
      "source": [
        "algo = ot.FunctionalChaosAlgorithm(x, y)\nalgo.run()"
      ]
    },
    {
      "cell_type": "markdown",
      "metadata": {},
      "source": [
        "Stream out the result\n\n"
      ]
    },
    {
      "cell_type": "code",
      "execution_count": null,
      "metadata": {
        "collapsed": false
      },
      "outputs": [],
      "source": [
        "result = algo.getResult()"
      ]
    },
    {
      "cell_type": "markdown",
      "metadata": {},
      "source": [
        "Get the polynomial chaos coefficients\n\n"
      ]
    },
    {
      "cell_type": "code",
      "execution_count": null,
      "metadata": {
        "collapsed": false
      },
      "outputs": [],
      "source": [
        "result.getCoefficients()"
      ]
    },
    {
      "cell_type": "markdown",
      "metadata": {},
      "source": [
        "The coefficients of marginal i\n\n"
      ]
    },
    {
      "cell_type": "code",
      "execution_count": null,
      "metadata": {
        "collapsed": false
      },
      "outputs": [],
      "source": [
        "i = 1\nresult.getCoefficients()[i]"
      ]
    },
    {
      "cell_type": "markdown",
      "metadata": {},
      "source": [
        "Get the indices of the selected polynomials : K\n\n"
      ]
    },
    {
      "cell_type": "code",
      "execution_count": null,
      "metadata": {
        "collapsed": false
      },
      "outputs": [],
      "source": [
        "subsetK = result.getIndices()\nsubsetK"
      ]
    },
    {
      "cell_type": "markdown",
      "metadata": {},
      "source": [
        "Get the composition of the polynomials\nof the truncated multivariate basis\n\n"
      ]
    },
    {
      "cell_type": "code",
      "execution_count": null,
      "metadata": {
        "collapsed": false
      },
      "outputs": [],
      "source": [
        "for i in range(subsetK.getSize()):\n    print(\"Polynomial number \", i, \" in truncated basis <-> polynomial number \",\n          subsetK[i], \" = \", ot.LinearEnumerateFunction(dimension)(subsetK[i]), \" in complete basis\")"
      ]
    },
    {
      "cell_type": "markdown",
      "metadata": {},
      "source": [
        "Get the multivariate basis\nas a collection of Function\n\n"
      ]
    },
    {
      "cell_type": "code",
      "execution_count": null,
      "metadata": {
        "collapsed": false
      },
      "outputs": [],
      "source": [
        "reduced = result.getReducedBasis()"
      ]
    },
    {
      "cell_type": "markdown",
      "metadata": {},
      "source": [
        "Get the orthogonal basis\n\n"
      ]
    },
    {
      "cell_type": "code",
      "execution_count": null,
      "metadata": {
        "collapsed": false
      },
      "outputs": [],
      "source": [
        "orthgBasis = result.getOrthogonalBasis()"
      ]
    },
    {
      "cell_type": "markdown",
      "metadata": {},
      "source": [
        "Get the distribution of variables Z\n\n"
      ]
    },
    {
      "cell_type": "code",
      "execution_count": null,
      "metadata": {
        "collapsed": false
      },
      "outputs": [],
      "source": [
        "orthgBasis.getMeasure()"
      ]
    },
    {
      "cell_type": "markdown",
      "metadata": {},
      "source": [
        "Get the composed model which is the model of the reduced variables Z\n\n"
      ]
    },
    {
      "cell_type": "code",
      "execution_count": null,
      "metadata": {
        "collapsed": false
      },
      "outputs": [],
      "source": [
        "result.getComposedModel()"
      ]
    },
    {
      "cell_type": "markdown",
      "metadata": {},
      "source": [
        "Get the composed meta model which is the model of the reduced variables Z\nwithin the reduced polynomials basis\n\n"
      ]
    },
    {
      "cell_type": "code",
      "execution_count": null,
      "metadata": {
        "collapsed": false
      },
      "outputs": [],
      "source": [
        "result.getComposedMetaModel()"
      ]
    },
    {
      "cell_type": "markdown",
      "metadata": {},
      "source": [
        "Get the meta model which is the composed meta model combined with the\niso probabilistic transformation\n\n"
      ]
    },
    {
      "cell_type": "code",
      "execution_count": null,
      "metadata": {
        "collapsed": false
      },
      "outputs": [],
      "source": [
        "result.getMetaModel()"
      ]
    },
    {
      "cell_type": "markdown",
      "metadata": {},
      "source": [
        "Get the projection strategy\n\n"
      ]
    },
    {
      "cell_type": "code",
      "execution_count": null,
      "metadata": {
        "collapsed": false
      },
      "outputs": [],
      "source": [
        "algo.getProjectionStrategy()"
      ]
    }
  ],
  "metadata": {
    "kernelspec": {
      "display_name": "Python 3",
      "language": "python",
      "name": "python3"
    },
    "language_info": {
      "codemirror_mode": {
        "name": "ipython",
        "version": 3
      },
      "file_extension": ".py",
      "mimetype": "text/x-python",
      "name": "python",
      "nbconvert_exporter": "python",
      "pygments_lexer": "ipython3",
      "version": "3.10.7"
    }
  },
  "nbformat": 4,
  "nbformat_minor": 0
}