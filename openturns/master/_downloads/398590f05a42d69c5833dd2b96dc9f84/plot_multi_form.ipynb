{
  "cells": [
    {
      "cell_type": "markdown",
      "metadata": {},
      "source": [
        "\n# Use the FORM algorithm in case of several design points\n"
      ]
    },
    {
      "cell_type": "markdown",
      "metadata": {},
      "source": [
        "## Abstract\n\nIn this example we showcase the :class:`~openturns.MultiFORM` class which can perform a FORM analysis with several\ndesign points.\n\n"
      ]
    },
    {
      "cell_type": "code",
      "execution_count": null,
      "metadata": {
        "collapsed": false
      },
      "outputs": [],
      "source": [
        "import openturns as ot\nimport openturns.viewer as otv\nfrom matplotlib import pylab as plt"
      ]
    },
    {
      "cell_type": "markdown",
      "metadata": {},
      "source": [
        "We consider a standard bivariate Gaussian random vector $X = (X_1, X_2)$ :\n\n"
      ]
    },
    {
      "cell_type": "code",
      "execution_count": null,
      "metadata": {
        "collapsed": false
      },
      "outputs": [],
      "source": [
        "dim = 2\ndist = ot.Normal(dim)"
      ]
    },
    {
      "cell_type": "markdown",
      "metadata": {},
      "source": [
        "We can draw the bidimensional PDF of the distribution `dist` over $[-5,5] \\times [-5,5]$ :\n\n"
      ]
    },
    {
      "cell_type": "code",
      "execution_count": null,
      "metadata": {
        "collapsed": false
      },
      "outputs": [],
      "source": [
        "ot.ResourceMap.SetAsUnsignedInteger(\"Contour-DefaultLevelsNumber\", 8)\ngraphPDF = dist.drawPDF([-5, -5], [5, 5])\ngraphPDF.setTitle(r\"2D-PDF of the input variables $(X_1, X_2)$\")\ngraphPDF.setXTitle(r\"$x_1$\")\ngraphPDF.setYTitle(r\"$x_2$\")\ngraphPDF.setLegendPosition(\"lower right\")\nview = otv.View(graphPDF)"
      ]
    },
    {
      "cell_type": "markdown",
      "metadata": {},
      "source": [
        "We then define a model $f$ which maps a 2D-vector X = (X_1,X_2) to a\nscalar output `Y = f(X)`.\n\n"
      ]
    },
    {
      "cell_type": "code",
      "execution_count": null,
      "metadata": {
        "collapsed": false
      },
      "outputs": [],
      "source": [
        "f = ot.SymbolicFunction([\"x0\", \"x1\"], [\"5.0-x1-0.5*(x0-0.1)^2\"])\ngraphModel = f.draw([-8.0, -8.0], [8.0, 8.0])\ngraphModel.setXTitle(r\"$x_1$\")\ngraphModel.setXTitle(r\"$x_2$\")\ngraphModel.setTitle(r\"Isolines of the model : $Y = f(X)$\")\nview = otv.View(graphModel)"
      ]
    },
    {
      "cell_type": "markdown",
      "metadata": {},
      "source": [
        "We create random vectors for the input and output variables :\n\n"
      ]
    },
    {
      "cell_type": "code",
      "execution_count": null,
      "metadata": {
        "collapsed": false
      },
      "outputs": [],
      "source": [
        "X = ot.RandomVector(dist)\nY = ot.CompositeRandomVector(f, X)"
      ]
    },
    {
      "cell_type": "markdown",
      "metadata": {},
      "source": [
        "The failure domain $\\mathcal{D}$ is $\\mathcal{D} = \\{ x=(x_1, x_2) \\in \\mathbb{R}^2 / f(x) \\geq 0 \\}$\n\n"
      ]
    },
    {
      "cell_type": "code",
      "execution_count": null,
      "metadata": {
        "collapsed": false
      },
      "outputs": [],
      "source": [
        "failureEvent = ot.ThresholdEvent(Y, ot.Less(), 0.0)"
      ]
    },
    {
      "cell_type": "markdown",
      "metadata": {},
      "source": [
        "We shall represent the failure domain event using a :class:`~openturns.Contour` object.\n\n"
      ]
    },
    {
      "cell_type": "code",
      "execution_count": null,
      "metadata": {
        "collapsed": false
      },
      "outputs": [],
      "source": [
        "nx, ny = 25, 25\nxx = ot.Box([nx], ot.Interval([-8.0], [8.0])).generate()\nyy = ot.Box([ny], ot.Interval([-8.0], [8.0])).generate()\ninputData = ot.Box([nx, ny], ot.Interval([-8.0, -8.0], [8.0, 8.0])).generate()\noutputData = f(inputData)\nmycontour = ot.Contour(xx, yy, outputData, [0.0], [\"0.0\"])\nmycontour.setColor(\"black\")\nmycontour.setLineStyle(\"dashed\")\ngraphModel.add(mycontour)\nview = otv.View(graphModel)"
      ]
    },
    {
      "cell_type": "markdown",
      "metadata": {},
      "source": [
        "In the physical space the failure domain boundary is the dashed black curve. We recall that one of\nthe steps of the FORM method is to find the closest point of the failure domain boundary to the origin.\nHere we see that the symmetry of the domain implies that two points exist, one in the $x_1 \\geq 0$ half-space and the other in the $x_1 \\leq 0$ half-space.\n\n"
      ]
    },
    {
      "cell_type": "markdown",
      "metadata": {},
      "source": [
        "We build the :class:`~openturns.MultiFORM` algorithm in a similar fashion as the :class:`~openturns.FORM` algorithm.\nWe choose an optimization solver, here the Cobyla solver, and a starting point, the mean of the distribution `dist`.\n\n"
      ]
    },
    {
      "cell_type": "code",
      "execution_count": null,
      "metadata": {
        "collapsed": false
      },
      "outputs": [],
      "source": [
        "solver = ot.Cobyla()\nstarting_pt = dist.getMean()\nalgo = ot.MultiFORM(solver, failureEvent, starting_pt)"
      ]
    },
    {
      "cell_type": "markdown",
      "metadata": {},
      "source": [
        "We are ready to run the algorithm and store the result in the :class:`~openturns.MultiFORM` class :\n\n"
      ]
    },
    {
      "cell_type": "code",
      "execution_count": null,
      "metadata": {
        "collapsed": false
      },
      "outputs": [],
      "source": [
        "algo.run()\nresult = algo.getResult()"
      ]
    },
    {
      "cell_type": "markdown",
      "metadata": {},
      "source": [
        "We have access to the results with the getFORMResultCollection method which produces a collection of :class:`~openturns.FORMResult` :\n\n"
      ]
    },
    {
      "cell_type": "code",
      "execution_count": null,
      "metadata": {
        "collapsed": false
      },
      "outputs": [],
      "source": [
        "coll = result.getFORMResultCollection()"
      ]
    },
    {
      "cell_type": "markdown",
      "metadata": {},
      "source": [
        "The length of this collection is the number of design points :\n\n"
      ]
    },
    {
      "cell_type": "code",
      "execution_count": null,
      "metadata": {
        "collapsed": false
      },
      "outputs": [],
      "source": [
        "n_design_pts = len(coll)\nprint(\"Number of design points :\", n_design_pts)"
      ]
    },
    {
      "cell_type": "markdown",
      "metadata": {},
      "source": [
        "We have access to the design points with the getPhysicalSpaceDesignPoint method for each element of\nthe collection `coll`.\n\n"
      ]
    },
    {
      "cell_type": "code",
      "execution_count": null,
      "metadata": {
        "collapsed": false
      },
      "outputs": [],
      "source": [
        "designPointPhysicalSpace1 = coll[0].getPhysicalSpaceDesignPoint()\ndesignPointPhysicalSpace2 = coll[1].getPhysicalSpaceDesignPoint()\nprint(coll[0].getPhysicalSpaceDesignPoint())\nprint(coll[1].getPhysicalSpaceDesignPoint())"
      ]
    },
    {
      "cell_type": "markdown",
      "metadata": {},
      "source": [
        "We visualize them on the previous graph with red circle dots.\n\n"
      ]
    },
    {
      "cell_type": "code",
      "execution_count": null,
      "metadata": {
        "collapsed": false
      },
      "outputs": [],
      "source": [
        "cloud = ot.Cloud([designPointPhysicalSpace1[0]], [designPointPhysicalSpace1[1]])\ncloud.setColor(\"red\")\ncloud.setPointStyle(\"fcircle\")\ncloud.setLegend(\"design point no. 1\")\ngraphModel.add(cloud)\n\ncloud = ot.Cloud([designPointPhysicalSpace2[0]], [designPointPhysicalSpace2[1]])\ncloud.setColor(\"red\")\ncloud.setPointStyle(\"fcircle\")\ncloud.setLegend(\"design point no. 2\")\ngraphModel.add(cloud)\ngraphModel.setLegendPosition(\"\")\nview = otv.View(graphModel)"
      ]
    },
    {
      "cell_type": "markdown",
      "metadata": {},
      "source": [
        "We recall that the FORM approximate is based on the substitution of the failure domain by the half-space defined by the tangent at the design point.\nHere we can clearly see that this would miss half of the information. That is why both design points are needed.\n\n"
      ]
    },
    {
      "cell_type": "markdown",
      "metadata": {},
      "source": [
        "For each design point we have a probability associated to the approximation by the half-space :\n\n"
      ]
    },
    {
      "cell_type": "code",
      "execution_count": null,
      "metadata": {
        "collapsed": false
      },
      "outputs": [],
      "source": [
        "pf1 = coll[0].getEventProbability()\npf2 = coll[1].getEventProbability()"
      ]
    },
    {
      "cell_type": "markdown",
      "metadata": {},
      "source": [
        "The probability of failure is the given by the :meth:`~openturns.MultiFORMResult.getEventProbability` which is the sum of the two previous probabilities `pf1` and `pf2` :\n\n"
      ]
    },
    {
      "cell_type": "code",
      "execution_count": null,
      "metadata": {
        "collapsed": false
      },
      "outputs": [],
      "source": [
        "pf = result.getEventProbability()\nprint(\"Probability of failure : \", pf)\nprint(\"    wrt design point 1 : \", pf1)\nprint(\"    wrt design point 2 : \", pf2)"
      ]
    },
    {
      "cell_type": "markdown",
      "metadata": {},
      "source": [
        "Display the figures\n\n"
      ]
    },
    {
      "cell_type": "code",
      "execution_count": null,
      "metadata": {
        "collapsed": false
      },
      "outputs": [],
      "source": [
        "plt.show()"
      ]
    },
    {
      "cell_type": "markdown",
      "metadata": {},
      "source": [
        "Reset default settings\n\n"
      ]
    },
    {
      "cell_type": "code",
      "execution_count": null,
      "metadata": {
        "collapsed": false
      },
      "outputs": [],
      "source": [
        "ot.ResourceMap.Reload()"
      ]
    }
  ],
  "metadata": {
    "kernelspec": {
      "display_name": "Python 3",
      "language": "python",
      "name": "python3"
    },
    "language_info": {
      "codemirror_mode": {
        "name": "ipython",
        "version": 3
      },
      "file_extension": ".py",
      "mimetype": "text/x-python",
      "name": "python",
      "nbconvert_exporter": "python",
      "pygments_lexer": "ipython3",
      "version": "3.12.3"
    }
  },
  "nbformat": 4,
  "nbformat_minor": 0
}