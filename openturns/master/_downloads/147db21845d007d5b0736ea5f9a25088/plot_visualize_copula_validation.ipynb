{
  "cells": [
    {
      "cell_type": "code",
      "execution_count": null,
      "metadata": {
        "collapsed": false
      },
      "outputs": [],
      "source": [
        "%matplotlib inline"
      ]
    },
    {
      "cell_type": "markdown",
      "metadata": {},
      "source": [
        "\n# Graphical copula validation\n"
      ]
    },
    {
      "cell_type": "markdown",
      "metadata": {},
      "source": [
        "In this example we are going to visualize an estimated copula versus the data in the rank space.\n\n"
      ]
    },
    {
      "cell_type": "code",
      "execution_count": null,
      "metadata": {
        "collapsed": false
      },
      "outputs": [],
      "source": [
        "from __future__ import print_function\nimport openturns as ot\nimport openturns.viewer as viewer\nfrom matplotlib import pylab as plt\not.Log.Show(ot.Log.NONE)"
      ]
    },
    {
      "cell_type": "markdown",
      "metadata": {},
      "source": [
        "Create data\n\n"
      ]
    },
    {
      "cell_type": "code",
      "execution_count": null,
      "metadata": {
        "collapsed": false
      },
      "outputs": [],
      "source": [
        "marginals = [ot.Normal()] * 2\ndist = ot.ComposedDistribution(marginals, ot.ClaytonCopula(3))\nN = 500\nsample = dist.getSample(N)"
      ]
    },
    {
      "cell_type": "markdown",
      "metadata": {},
      "source": [
        "The estimated copula\n\n"
      ]
    },
    {
      "cell_type": "code",
      "execution_count": null,
      "metadata": {
        "collapsed": false
      },
      "outputs": [],
      "source": [
        "estimated = ot.ClaytonCopulaFactory().build(sample)"
      ]
    },
    {
      "cell_type": "markdown",
      "metadata": {},
      "source": [
        "Cloud in the rank space\n\n"
      ]
    },
    {
      "cell_type": "code",
      "execution_count": null,
      "metadata": {
        "collapsed": false
      },
      "outputs": [],
      "source": [
        "ranksTransf = ot.MarginalTransformationEvaluation(marginals, ot.MarginalTransformationEvaluation.FROM)\nrankSample = ranksTransf(sample)\nrankCloud = ot.Cloud(rankSample, 'blue', 'plus', 'sample')"
      ]
    },
    {
      "cell_type": "markdown",
      "metadata": {},
      "source": [
        "Graph with rank sample and estimated copula\n\n"
      ]
    },
    {
      "cell_type": "code",
      "execution_count": null,
      "metadata": {
        "collapsed": false
      },
      "outputs": [],
      "source": [
        "myGraph = ot.Graph('Parametric estimation of the copula', 'X', 'Y', True, 'topleft')\nmyGraph.setLegendPosition('bottomright')\nmyGraph.add(rankCloud)\n\n# Then draw the iso-curves of the estimated copula\nminPoint = [0.0]*2\nmaxPoint = [1.0]*2\npointNumber = [201]*2\ngraphCop = estimated.drawPDF(minPoint, maxPoint, pointNumber)\ncontour_estCop = graphCop.getDrawable(0)\n\n# Erase the labels of the iso-curves\ncontour_estCop.setDrawLabels(False)\n\n# Change the levels of the iso-curves\nnlev = 21\nlevels = ot.Point(nlev)\nfor i in range(nlev):\n    levels[i] = 0.25 * nlev / (nlev - i)\ncontour_estCop.setLevels(levels)\n# Change the legend of the curves\ncontour_estCop.setLegend('Gumbel copula')\n\n# Change the color of the iso-curves\ncontour_estCop.setColor('red')\n\n# Add the iso-curves graph into the cloud one\nmyGraph.add(contour_estCop)\nview = viewer.View(myGraph)\nplt.show()"
      ]
    }
  ],
  "metadata": {
    "kernelspec": {
      "display_name": "Python 3",
      "language": "python",
      "name": "python3"
    },
    "language_info": {
      "codemirror_mode": {
        "name": "ipython",
        "version": 3
      },
      "file_extension": ".py",
      "mimetype": "text/x-python",
      "name": "python",
      "nbconvert_exporter": "python",
      "pygments_lexer": "ipython3",
      "version": "3.9.0"
    }
  },
  "nbformat": 4,
  "nbformat_minor": 0
}