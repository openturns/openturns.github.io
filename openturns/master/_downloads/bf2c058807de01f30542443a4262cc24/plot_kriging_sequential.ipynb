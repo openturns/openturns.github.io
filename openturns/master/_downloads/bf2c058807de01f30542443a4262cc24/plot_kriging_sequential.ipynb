{
  "cells": [
    {
      "cell_type": "markdown",
      "metadata": {},
      "source": [
        "\n# Sequentially adding new points to a Kriging\n"
      ]
    },
    {
      "cell_type": "markdown",
      "metadata": {},
      "source": [
        "In this example, we show how to sequentially add new points to a Kriging in order to improve the predictivity of the metamodel.\nIn order to create simple graphics, we consider a 1-d function.\n\n"
      ]
    },
    {
      "cell_type": "markdown",
      "metadata": {},
      "source": [
        "## Create the function and the design of experiments\n\n"
      ]
    },
    {
      "cell_type": "code",
      "execution_count": null,
      "metadata": {
        "collapsed": false
      },
      "outputs": [],
      "source": [
        "import openturns as ot\nfrom openturns.viewer import View\nimport numpy as np\nfrom openturns import viewer\n\not.Log.Show(ot.Log.NONE)"
      ]
    },
    {
      "cell_type": "code",
      "execution_count": null,
      "metadata": {
        "collapsed": false
      },
      "outputs": [],
      "source": [
        "sampleSize = 4\ndimension = 1"
      ]
    },
    {
      "cell_type": "markdown",
      "metadata": {},
      "source": [
        "Define the function.\n\n"
      ]
    },
    {
      "cell_type": "code",
      "execution_count": null,
      "metadata": {
        "collapsed": false
      },
      "outputs": [],
      "source": [
        "g = ot.SymbolicFunction([\"x\"], [\"0.5*x^2 + sin(2.5*x)\"])"
      ]
    },
    {
      "cell_type": "markdown",
      "metadata": {},
      "source": [
        "Create the design of experiments.\n\n"
      ]
    },
    {
      "cell_type": "code",
      "execution_count": null,
      "metadata": {
        "collapsed": false
      },
      "outputs": [],
      "source": [
        "xMin = -0.9\nxMax = 1.9\nX_distr = ot.Uniform(xMin, xMax)\nX = ot.LHSExperiment(X_distr, sampleSize, False, False).generate()\nY = g(X)"
      ]
    },
    {
      "cell_type": "code",
      "execution_count": null,
      "metadata": {
        "collapsed": false
      },
      "outputs": [],
      "source": [
        "graph = g.draw(xMin, xMax)\ndata = ot.Cloud(X, Y)\ndata.setColor(\"red\")\ngraph.add(data)\nview = viewer.View(graph)"
      ]
    },
    {
      "cell_type": "markdown",
      "metadata": {},
      "source": [
        "## Create the algorithms\n\n"
      ]
    },
    {
      "cell_type": "code",
      "execution_count": null,
      "metadata": {
        "collapsed": false
      },
      "outputs": [],
      "source": [
        "def createMyBasicKriging(X, Y):\n    \"\"\"\n    Create a kriging from a pair of X and Y samples.\n    We use a 3/2 Mat\u00e9rn covariance model and a constant trend.\n    \"\"\"\n    basis = ot.ConstantBasisFactory(dimension).build()\n    covarianceModel = ot.MaternModel([1.0], 1.5)\n    algo = ot.KrigingAlgorithm(X, Y, covarianceModel, basis)\n    algo.run()\n    krigResult = algo.getResult()\n    return krigResult"
      ]
    },
    {
      "cell_type": "code",
      "execution_count": null,
      "metadata": {
        "collapsed": false
      },
      "outputs": [],
      "source": [
        "def linearSample(xmin, xmax, npoints):\n    \"\"\"Returns a sample created from a regular grid\n    from xmin to xmax with npoints points.\"\"\"\n    step = (xmax - xmin) / (npoints - 1)\n    rg = ot.RegularGrid(xmin, step, npoints)\n    vertices = rg.getVertices()\n    return vertices"
      ]
    },
    {
      "cell_type": "markdown",
      "metadata": {},
      "source": [
        "The following `sqrt` function will be used later to compute the standard deviation from the variance.\n\n"
      ]
    },
    {
      "cell_type": "code",
      "execution_count": null,
      "metadata": {
        "collapsed": false
      },
      "outputs": [],
      "source": [
        "sqrt = ot.SymbolicFunction([\"x\"], [\"sqrt(x)\"])"
      ]
    },
    {
      "cell_type": "code",
      "execution_count": null,
      "metadata": {
        "collapsed": false
      },
      "outputs": [],
      "source": [
        "def plotMyBasicKriging(krigResult, xMin, xMax, X, Y, level=0.95):\n    \"\"\"\n    Given a kriging result, plot the data, the kriging metamodel\n    and a confidence interval.\n    \"\"\"\n    samplesize = X.getSize()\n    meta = krigResult.getMetaModel()\n    graphKriging = meta.draw(xMin, xMax)\n    graphKriging.setLegends([\"Kriging\"])\n    # Create a grid of points and evaluate the function and the kriging\n    nbpoints = 50\n    xGrid = linearSample(xMin, xMax, nbpoints)\n    yFunction = g(xGrid)\n    yKrig = meta(xGrid)\n    # Compute the conditional covariance\n    epsilon = ot.Sample(nbpoints, [1.0e-8])\n    conditionalVariance = krigResult.getConditionalMarginalVariance(xGrid) + epsilon\n    conditionalSigma = sqrt(conditionalVariance)\n    # Compute the quantile of the Normal distribution\n    alpha = 1 - (1 - level) / 2\n    quantileAlpha = ot.DistFunc.qNormal(alpha)\n    # Graphics of the bounds\n    epsilon = 1.0e-8\n    dataLower = [\n        yKrig[i, 0] - quantileAlpha * conditionalSigma[i, 0] for i in range(nbpoints)\n    ]\n    dataUpper = [\n        yKrig[i, 0] + quantileAlpha * conditionalSigma[i, 0] for i in range(nbpoints)\n    ]\n    # Compute the Polygon graphics\n    boundsPoly = ot.Polygon.FillBetween(xGrid.asPoint(), dataLower, dataUpper)\n    boundsPoly.setLegend(\"95% bounds\")\n    # Validate the kriging metamodel\n    metamodelPredictions = meta(xGrid)\n    mmv = ot.MetaModelValidation(yFunction, metamodelPredictions)\n    r2Score = mmv.computeR2Score()[0]\n    # Plot the function\n    graphFonction = ot.Curve(xGrid, yFunction)\n    graphFonction.setLineStyle(\"dashed\")\n    graphFonction.setColor(\"magenta\")\n    graphFonction.setLineWidth(2)\n    graphFonction.setLegend(\"Function\")\n    # Draw the X and Y observed\n    cloudDOE = ot.Cloud(X, Y)\n    cloudDOE.setPointStyle(\"circle\")\n    cloudDOE.setColor(\"red\")\n    cloudDOE.setLegend(\"Data\")\n    # Assemble the graphics\n    graph = ot.Graph()\n    graph.add(boundsPoly)\n    graph.add(graphFonction)\n    graph.add(cloudDOE)\n    graph.add(graphKriging)\n    graph.setLegendPosition(\"lower right\")\n    graph.setAxes(True)\n    graph.setGrid(True)\n    graph.setTitle(\"Size = %d, R2=%.2f%%\" % (samplesize, 100 * r2Score))\n    graph.setXTitle(\"X\")\n    graph.setYTitle(\"Y\")\n    return graph"
      ]
    },
    {
      "cell_type": "markdown",
      "metadata": {},
      "source": [
        "We start by creating the initial Kriging metamodel on the 4 points in the design of experiments.\n\n"
      ]
    },
    {
      "cell_type": "code",
      "execution_count": null,
      "metadata": {
        "collapsed": false
      },
      "outputs": [],
      "source": [
        "krigResult = createMyBasicKriging(X, Y)\ngraph = plotMyBasicKriging(krigResult, xMin, xMax, X, Y)\nview = viewer.View(graph)"
      ]
    },
    {
      "cell_type": "markdown",
      "metadata": {},
      "source": [
        "## Sequentially add new points\n\n"
      ]
    },
    {
      "cell_type": "markdown",
      "metadata": {},
      "source": [
        "The following function is the building block of the algorithm. It returns a new point which maximizes the conditional variance.\n\n"
      ]
    },
    {
      "cell_type": "code",
      "execution_count": null,
      "metadata": {
        "collapsed": false
      },
      "outputs": [],
      "source": [
        "def getNewPoint(xMin, xMax, krigResult):\n    \"\"\"\n    Returns a new point to be added to the design of experiments.\n    This point maximizes the conditional variance of the kriging.\n    \"\"\"\n    nbpoints = 50\n    xGrid = linearSample(xMin, xMax, nbpoints)\n    conditionalVariance = krigResult.getConditionalMarginalVariance(xGrid)\n    iMaxVar = int(np.argmax(conditionalVariance))\n    xNew = xGrid[iMaxVar, 0]\n    xNew = ot.Point([xNew])\n    return xNew"
      ]
    },
    {
      "cell_type": "markdown",
      "metadata": {},
      "source": [
        "We first call `getNewPoint` to get a point to add to the design of experiments.\n\n"
      ]
    },
    {
      "cell_type": "code",
      "execution_count": null,
      "metadata": {
        "collapsed": false
      },
      "outputs": [],
      "source": [
        "xNew = getNewPoint(xMin, xMax, krigResult)\nxNew"
      ]
    },
    {
      "cell_type": "markdown",
      "metadata": {},
      "source": [
        "Then we evaluate the function on the new point and add it to the training design of experiments.\n\n"
      ]
    },
    {
      "cell_type": "code",
      "execution_count": null,
      "metadata": {
        "collapsed": false
      },
      "outputs": [],
      "source": [
        "yNew = g(xNew)\nX.add(xNew)\nY.add(yNew)"
      ]
    },
    {
      "cell_type": "markdown",
      "metadata": {},
      "source": [
        "We now plot the updated Kriging.\n\n"
      ]
    },
    {
      "cell_type": "markdown",
      "metadata": {},
      "source": [
        "sphinx_gallery_thumbnail_number = 3\n\n"
      ]
    },
    {
      "cell_type": "code",
      "execution_count": null,
      "metadata": {
        "collapsed": false
      },
      "outputs": [],
      "source": [
        "krigResult = createMyBasicKriging(X, Y)\ngraph = plotMyBasicKriging(krigResult, xMin, xMax, X, Y)\ngraph.setTitle(\"Kriging #0\")\nview = viewer.View(graph)"
      ]
    },
    {
      "cell_type": "markdown",
      "metadata": {},
      "source": [
        "The algorithm added a point to the right bound of the domain.\n\n"
      ]
    },
    {
      "cell_type": "code",
      "execution_count": null,
      "metadata": {
        "collapsed": false
      },
      "outputs": [],
      "source": [
        "for krigingStep in range(5):\n    xNew = getNewPoint(xMin, xMax, krigResult)\n    yNew = g(xNew)\n    X.add(xNew)\n    Y.add(yNew)\n    krigResult = createMyBasicKriging(X, Y)\n    graph = plotMyBasicKriging(krigResult, xMin, xMax, X, Y)\n    graph.setTitle(\"Kriging #%d \" % (krigingStep + 1) + graph.getTitle())\n    View(graph)"
      ]
    },
    {
      "cell_type": "markdown",
      "metadata": {},
      "source": [
        "We observe that the second added point is the left bound of the domain.\nThe remaining points were added strictly inside the domain where the accuracy was drastically improved.\n\nWith only 10 points, the metamodel accuracy is already very good with a $Q^2$ which is equal to 99.9%.\n\n"
      ]
    },
    {
      "cell_type": "markdown",
      "metadata": {},
      "source": [
        "## Conclusion\n\nThe current example presents the naive implementation on the creation of a sequential design of experiments based on kriging.\nMore practical algorithms are presented in the following references.\n\n* Mona Abtini. Plans pr\u00e9dictifs \u00e0 taille fixe et s\u00e9quentiels pour le krigeage (2008). Th\u00e8se de doctorat de l'Universit\u00e9 de Lyon.\n* C\u00e9line Scheidt. Analyse statistique d\u2019exp\u00e9riences simul\u00e9es : Mod\u00e9lisation adaptative de r\u00e9ponses non r\u00e9guli\u00e8res par krigeage et plans d\u2019exp\u00e9riences (2007).\n  Th\u00e8se pr\u00e9sent\u00e9e pour obtenir le grade de Docteur de l\u2019Universit\u00e9 Louis Pasteur.\n* David Ginsbourger. Sequential Design of Computer Experiments. Wiley StatsRef: Statistics Reference Online, Wiley (2018)\n\n"
      ]
    },
    {
      "cell_type": "code",
      "execution_count": null,
      "metadata": {
        "collapsed": false
      },
      "outputs": [],
      "source": [
        "View.ShowAll()"
      ]
    }
  ],
  "metadata": {
    "kernelspec": {
      "display_name": "Python 3",
      "language": "python",
      "name": "python3"
    },
    "language_info": {
      "codemirror_mode": {
        "name": "ipython",
        "version": 3
      },
      "file_extension": ".py",
      "mimetype": "text/x-python",
      "name": "python",
      "nbconvert_exporter": "python",
      "pygments_lexer": "ipython3",
      "version": "3.12.6"
    }
  },
  "nbformat": 4,
  "nbformat_minor": 0
}