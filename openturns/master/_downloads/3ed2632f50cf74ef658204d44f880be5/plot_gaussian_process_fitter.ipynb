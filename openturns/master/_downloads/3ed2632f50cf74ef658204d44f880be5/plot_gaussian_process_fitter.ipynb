{
  "cells": [
    {
      "cell_type": "markdown",
      "metadata": {},
      "source": [
        "\n# Create a general linear model metamodel\n"
      ]
    },
    {
      "cell_type": "markdown",
      "metadata": {},
      "source": [
        "In this example we create a global approximation of a model response using a general linear model.\nWe show how to use the :class:`~openturns.experimental.GaussianProcessFitter` class, which estimates the parameters of the model.\n\n"
      ]
    },
    {
      "cell_type": "code",
      "execution_count": null,
      "metadata": {
        "collapsed": false
      },
      "outputs": [],
      "source": [
        "import openturns as ot\nimport openturns.experimental as otexp\nimport openturns.viewer as viewer"
      ]
    },
    {
      "cell_type": "markdown",
      "metadata": {},
      "source": [
        "We create a model and a sample from this model.\n\n"
      ]
    },
    {
      "cell_type": "code",
      "execution_count": null,
      "metadata": {
        "collapsed": false
      },
      "outputs": [],
      "source": [
        "dimension = 2\ninput_names = [\"x1\", \"x2\"]\nformulas = [\"cos(0.1 * x1 + 0.2 * x2)\"]\nmodel = ot.SymbolicFunction(input_names, formulas)\ndistribution = ot.Normal(dimension)\nx = distribution.getSample(100)\ny = model(x)"
      ]
    },
    {
      "cell_type": "markdown",
      "metadata": {},
      "source": [
        "We create a :class:`~openturns.experimental.GaussianProcessFitter` based on a quadratic basis.\nThe `run` method estimates the coefficients of the trend and the hyperparameters of the covariance model.\n\n"
      ]
    },
    {
      "cell_type": "code",
      "execution_count": null,
      "metadata": {
        "collapsed": false
      },
      "outputs": [],
      "source": [
        "basis = ot.QuadraticBasisFactory(dimension).build()\ncovarianceModel = ot.SquaredExponential([1] * dimension, [1.0])\nalgo = otexp.GaussianProcessFitter(x, y, covarianceModel, basis)\nalgo.run()\nresult = algo.getResult()"
      ]
    },
    {
      "cell_type": "markdown",
      "metadata": {},
      "source": [
        "We see that the trend coefficients have been estimated.\n\n"
      ]
    },
    {
      "cell_type": "code",
      "execution_count": null,
      "metadata": {
        "collapsed": false
      },
      "outputs": [],
      "source": [
        "result.getTrendCoefficients()"
      ]
    },
    {
      "cell_type": "markdown",
      "metadata": {},
      "source": [
        "The parameters of the covariance models also have been estimated.\n\n"
      ]
    },
    {
      "cell_type": "code",
      "execution_count": null,
      "metadata": {
        "collapsed": false
      },
      "outputs": [],
      "source": [
        "result.getCovarianceModel()"
      ]
    },
    {
      "cell_type": "markdown",
      "metadata": {},
      "source": [
        "The `getMetaModel` method returns the metamodel where the parameters have been estimated.\n\n"
      ]
    },
    {
      "cell_type": "code",
      "execution_count": null,
      "metadata": {
        "collapsed": false
      },
      "outputs": [],
      "source": [
        "responseSurface = result.getMetaModel()"
      ]
    },
    {
      "cell_type": "markdown",
      "metadata": {},
      "source": [
        "Plot the output of our model depending on $x_2$ with $x_1=0.5$.\n\n"
      ]
    },
    {
      "cell_type": "code",
      "execution_count": null,
      "metadata": {
        "collapsed": false
      },
      "outputs": [],
      "source": [
        "xmin = -5.0\nxmax = 5.0\nx1value = 0.5\nparametricModelGraph = ot.ParametricFunction(model, [0], [x1value]).draw(xmin, xmax)\ngraphMetamodel = ot.ParametricFunction(responseSurface, [0], [x1value]).draw(xmin, xmax)\nparametricModelGraph.add(graphMetamodel)\nparametricModelGraph.setLegends([\"Model\", \"Meta-Model\"])\nparametricModelGraph.setLegendPosition(\"upper right\")\nview = viewer.View(parametricModelGraph)"
      ]
    },
    {
      "cell_type": "code",
      "execution_count": null,
      "metadata": {
        "collapsed": false
      },
      "outputs": [],
      "source": [
        "view.ShowAll()"
      ]
    }
  ],
  "metadata": {
    "kernelspec": {
      "display_name": "Python 3",
      "language": "python",
      "name": "python3"
    },
    "language_info": {
      "codemirror_mode": {
        "name": "ipython",
        "version": 3
      },
      "file_extension": ".py",
      "mimetype": "text/x-python",
      "name": "python",
      "nbconvert_exporter": "python",
      "pygments_lexer": "ipython3",
      "version": "3.13.5"
    }
  },
  "nbformat": 4,
  "nbformat_minor": 0
}