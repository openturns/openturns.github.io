{
  "cells": [
    {
      "cell_type": "code",
      "execution_count": null,
      "metadata": {
        "collapsed": false
      },
      "outputs": [],
      "source": [
        "%matplotlib inline"
      ]
    },
    {
      "cell_type": "markdown",
      "metadata": {},
      "source": [
        "\n# Non parametric Adaptive Importance Sampling (NAIS)\n"
      ]
    },
    {
      "cell_type": "markdown",
      "metadata": {},
      "source": [
        "The objective is to evaluate a probability from the Non parametric Adaptive Importance Sampling (NAIS) technique.\n\nWe consider the four-branch function $g : \\mathbb{R}^2 \\rightarrow \\mathbb{R}$ defined by:\n\n\\begin{align}\\begin{align*}\n  g(\\vect{X}) = \\min \\begin{pmatrix}5+0.1(x_1-x_2)^2-\\frac{(x_1+x_2)}{\\sqrt{2}}\\\\\n  5+0.1(x_1-x_2)^2+\\frac{(x_1+x_2)}{\\sqrt{2}}\\\\\n  (x_1-x_2)+ \\frac{9}{\\sqrt{2}}\\\\\n  (x_2-x_1)+ \\frac{9}{\\sqrt{2}}\n  \\end{pmatrix}\n  \\end{align*}\\end{align}\n\nand the input random vector $\\vect{X} = (X_1, X_2)$ which follows the standard 2-dimensional Normal distribution:\n\n\\begin{align}\\begin{align*}\n  \\vect{X} \\sim  \\mathcal{N}(\\mu = [0, 0], \\sigma = [1,1], corr = \\mat{I}_2)\n  \\end{align*}\\end{align}\n\nWe want to evaluate the probability:\n\n\\begin{align}\\begin{align*}\n  p = \\mathbb{P} ( g(\\vect{X}) \\leq 0 )\n  \\end{align*}\\end{align}\n\n\n"
      ]
    },
    {
      "cell_type": "markdown",
      "metadata": {},
      "source": [
        "First, import the python modules:\n\n"
      ]
    },
    {
      "cell_type": "code",
      "execution_count": null,
      "metadata": {
        "collapsed": false
      },
      "outputs": [],
      "source": [
        "import openturns as ot\nfrom openturns.viewer import View\nimport math"
      ]
    },
    {
      "cell_type": "markdown",
      "metadata": {},
      "source": [
        "## Create the probabilistic model $Y = g(\\vect{X})$\n\n"
      ]
    },
    {
      "cell_type": "markdown",
      "metadata": {},
      "source": [
        "Create the input random vector $\\vect{X}$:\n\n"
      ]
    },
    {
      "cell_type": "code",
      "execution_count": null,
      "metadata": {
        "collapsed": false
      },
      "outputs": [],
      "source": [
        "X = ot.RandomVector(ot.Normal(2))"
      ]
    },
    {
      "cell_type": "markdown",
      "metadata": {},
      "source": [
        "Create the function $g$ from a :class:`~openturns.PythonFunction`:\n\n"
      ]
    },
    {
      "cell_type": "code",
      "execution_count": null,
      "metadata": {
        "collapsed": false
      },
      "outputs": [],
      "source": [
        "def fourBranch(x):\n    x1 = x[0]\n    x2 = x[1]\n\n    g1 = 5 + 0.1 * (x1 - x2) ** 2 - (x1 + x2) / math.sqrt(2)\n    g2 = 5 + 0.1 * (x1 - x2) ** 2 + (x1 + x2) / math.sqrt(2)\n    g3 = (x1 - x2) + 9 / math.sqrt(2)\n    g4 = (x2 - x1) + 9 / math.sqrt(2)\n\n    return [min((g1, g2, g3, g4))]\n\n\ng = ot.PythonFunction(2, 1, fourBranch)"
      ]
    },
    {
      "cell_type": "markdown",
      "metadata": {},
      "source": [
        "Draw the function $g$ to help to understand the shape of the limit state function:\n\n"
      ]
    },
    {
      "cell_type": "code",
      "execution_count": null,
      "metadata": {
        "collapsed": false
      },
      "outputs": [],
      "source": [
        "graph = ot.Graph(\"Four Branch function\", \"x1\", \"x2\", True, \"topright\")\ndrawfunction = g.draw([-8] * 2, [8] * 2, [100] * 2)\ngraph.add(drawfunction)\nview = View(graph)"
      ]
    },
    {
      "cell_type": "markdown",
      "metadata": {},
      "source": [
        "In order to be able to get the NAIS samples used in the algorithm, it is necessary to transform the :class:`~openturns.PythonFunction` into a :class:`~openturns.MemoizeFunction`:\n\n"
      ]
    },
    {
      "cell_type": "code",
      "execution_count": null,
      "metadata": {
        "collapsed": false
      },
      "outputs": [],
      "source": [
        "g = ot.MemoizeFunction(g)"
      ]
    },
    {
      "cell_type": "markdown",
      "metadata": {},
      "source": [
        "Create the output random vector $Y = g(\\vect{X})$:\n\n"
      ]
    },
    {
      "cell_type": "code",
      "execution_count": null,
      "metadata": {
        "collapsed": false
      },
      "outputs": [],
      "source": [
        "Y = ot.CompositeRandomVector(g, X)"
      ]
    },
    {
      "cell_type": "markdown",
      "metadata": {},
      "source": [
        "## Create the event $\\{ Y = g(\\vect{X}) \\leq 0 \\}$\n\n"
      ]
    },
    {
      "cell_type": "code",
      "execution_count": null,
      "metadata": {
        "collapsed": false
      },
      "outputs": [],
      "source": [
        "threshold = 0.0\nmyEvent = ot.ThresholdEvent(Y, ot.Less(), threshold)"
      ]
    },
    {
      "cell_type": "markdown",
      "metadata": {},
      "source": [
        "## Evaluate the probability with the NAIS technique\n\n"
      ]
    },
    {
      "cell_type": "code",
      "execution_count": null,
      "metadata": {
        "collapsed": false
      },
      "outputs": [],
      "source": [
        "rhoQuantile = 0.1\nalgo = ot.NAIS(myEvent, rhoQuantile)"
      ]
    },
    {
      "cell_type": "markdown",
      "metadata": {},
      "source": [
        "Now you can run the algorithm.\n\n"
      ]
    },
    {
      "cell_type": "code",
      "execution_count": null,
      "metadata": {
        "collapsed": false
      },
      "outputs": [],
      "source": [
        "algo.run()\nresult = algo.getResult()\nproba = result.getProbabilityEstimate()\nprint(\"Proba NAIS = \", proba)\nprint(\"Current coefficient of variation = \", result.getCoefficientOfVariation())"
      ]
    },
    {
      "cell_type": "markdown",
      "metadata": {},
      "source": [
        "The length of the confidence interval of level $95\\%$ is:\n\n"
      ]
    },
    {
      "cell_type": "code",
      "execution_count": null,
      "metadata": {
        "collapsed": false
      },
      "outputs": [],
      "source": [
        "length95 = result.getConfidenceLength()\nprint(\"Confidence length (0.95) = \", result.getConfidenceLength())"
      ]
    },
    {
      "cell_type": "markdown",
      "metadata": {},
      "source": [
        "which enables to build the confidence interval:\n\n"
      ]
    },
    {
      "cell_type": "code",
      "execution_count": null,
      "metadata": {
        "collapsed": false
      },
      "outputs": [],
      "source": [
        "print(\n    \"Confidence interval (0.95) = [\",\n    proba - length95 / 2,\n    \", \",\n    proba + length95 / 2,\n    \"]\",\n)"
      ]
    },
    {
      "cell_type": "markdown",
      "metadata": {},
      "source": [
        "## Draw the NAIS samples used by the algorithm\n\nThe following manipulations are possible only if you have created a :class:`~openturns.MemoizeFunction` that enables to store all the inputs and outputs of the function $g$.\n\nGet all the inputs and outputs where $g$ were evaluated:\n\n"
      ]
    },
    {
      "cell_type": "code",
      "execution_count": null,
      "metadata": {
        "collapsed": false
      },
      "outputs": [],
      "source": [
        "inputNAIS = g.getInputHistory()\noutputNAIS = g.getOutputHistory()\nnTotal = inputNAIS.getSize()\nprint(\"Number of evaluations of g = \", nTotal)"
      ]
    },
    {
      "cell_type": "markdown",
      "metadata": {},
      "source": [
        "Within each step of the algorithm, a sample of size $N$ is created, where:\n\n"
      ]
    },
    {
      "cell_type": "code",
      "execution_count": null,
      "metadata": {
        "collapsed": false
      },
      "outputs": [],
      "source": [
        "N = algo.getMaximumOuterSampling() * algo.getBlockSize()\nprint(\"Size of each subset = \", N)"
      ]
    },
    {
      "cell_type": "markdown",
      "metadata": {},
      "source": [
        "You can get the number $N_s$ of steps with:\n\n"
      ]
    },
    {
      "cell_type": "code",
      "execution_count": null,
      "metadata": {
        "collapsed": false
      },
      "outputs": [],
      "source": [
        "Ns = int(nTotal / N)\nprint(\"Number of steps = \", Ns)"
      ]
    },
    {
      "cell_type": "markdown",
      "metadata": {},
      "source": [
        "Now, we can split the initial sample into NAIS samples of size $N_s$:\n\n"
      ]
    },
    {
      "cell_type": "code",
      "execution_count": null,
      "metadata": {
        "collapsed": false
      },
      "outputs": [],
      "source": [
        "listNAISSamples = list()\nlistOutputNAISSamples = list()\nfor i in range(Ns):\n    listNAISSamples.append(inputNAIS[i * N: i * N + N])\n    listOutputNAISSamples.append(outputNAIS[i * N: i * N + N])"
      ]
    },
    {
      "cell_type": "markdown",
      "metadata": {},
      "source": [
        "And get all the levels defining the intermediate and final thresholds given by the empirical quantiles of each NAIS output sample:\n\n"
      ]
    },
    {
      "cell_type": "code",
      "execution_count": null,
      "metadata": {
        "collapsed": false
      },
      "outputs": [],
      "source": [
        "levels = ot.Point()\nfor i in range(Ns - 1):\n    levels.add(listOutputNAISSamples[i].computeQuantile(rhoQuantile)[0])\nlevels.add(threshold)"
      ]
    },
    {
      "cell_type": "markdown",
      "metadata": {},
      "source": [
        "The following graph draws each NAIS sample and the frontier $g(x_1, x_2) = l_i$ where $l_i$ is the threshold at the step $i$:\n\n"
      ]
    },
    {
      "cell_type": "code",
      "execution_count": null,
      "metadata": {
        "collapsed": false
      },
      "outputs": [],
      "source": [
        "graph = ot.Graph(\"NAIS samples\", \"x1\", \"x2\", True, \"bottomleft\")\ngraph.setGrid(True)"
      ]
    },
    {
      "cell_type": "markdown",
      "metadata": {},
      "source": [
        "Add all the NAIS samples:\n\n"
      ]
    },
    {
      "cell_type": "code",
      "execution_count": null,
      "metadata": {
        "collapsed": false
      },
      "outputs": [],
      "source": [
        "for i in range(Ns):\n    cloud = ot.Cloud(listNAISSamples[i])\n    graph.add(cloud)\ncol = ot.Drawable().BuildDefaultPalette(Ns)\ngraph.setColors(col)"
      ]
    },
    {
      "cell_type": "markdown",
      "metadata": {},
      "source": [
        "Add the frontiers $g(x_1, x_2) = l_i$ where $l_i$ is the threshold at the step $i$:\n\n"
      ]
    },
    {
      "cell_type": "code",
      "execution_count": null,
      "metadata": {
        "collapsed": false
      },
      "outputs": [],
      "source": [
        "gIsoLines = g.draw([-8] * 2, [8] * 2, [128] * 2)\ndr = gIsoLines.getDrawable(2)\nfor i in range(levels.getSize()):\n    dr.setLevels([levels[i]])\n    dr.setLineStyle(\"solid\")\n    dr.setLegend(r\"$g(X) = $\" + str(round(levels[i], 2)))\n    dr.setLineWidth(3)\n    dr.setColor(col[i])\n    graph.add(dr)\nview = View(graph)"
      ]
    },
    {
      "cell_type": "markdown",
      "metadata": {},
      "source": [
        "## Draw the frontiers only\n\nThe following graph enables to understand the progression of the algorithm from the mean value of the initial distribution to the limit state function:\n\n"
      ]
    },
    {
      "cell_type": "code",
      "execution_count": null,
      "metadata": {
        "collapsed": false
      },
      "outputs": [],
      "source": [
        "graph = ot.Graph(\"NAIS thresholds\", \"x1\", \"x2\", True, \"bottomleft\")\ngraph.setGrid(True)\ndr = gIsoLines.getDrawable(0)\nfor i in range(levels.getSize()):\n    dr.setLevels([levels[i]])\n    dr.setLineStyle(\"solid\")\n    dr.setLegend(r\"$g(X) = $\" + str(round(levels[i], 2)))\n    dr.setLineWidth(3)\n    graph.add(dr)\n\ngraph.setColors(col)\nview = View(graph)"
      ]
    }
  ],
  "metadata": {
    "kernelspec": {
      "display_name": "Python 3",
      "language": "python",
      "name": "python3"
    },
    "language_info": {
      "codemirror_mode": {
        "name": "ipython",
        "version": 3
      },
      "file_extension": ".py",
      "mimetype": "text/x-python",
      "name": "python",
      "nbconvert_exporter": "python",
      "pygments_lexer": "ipython3",
      "version": "3.10.8"
    }
  },
  "nbformat": 4,
  "nbformat_minor": 0
}