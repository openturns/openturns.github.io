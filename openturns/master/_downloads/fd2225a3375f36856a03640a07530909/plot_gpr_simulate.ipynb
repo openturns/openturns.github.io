{
  "cells": [
    {
      "cell_type": "markdown",
      "metadata": {},
      "source": [
        "\n# Gaussian Process Regression : generate trajectories from the metamodel\n"
      ]
    },
    {
      "cell_type": "markdown",
      "metadata": {},
      "source": [
        "The main goal of this example is to show how to simulate new trajectories from a Gaussian Process Regression metamodel.\n\n"
      ]
    },
    {
      "cell_type": "markdown",
      "metadata": {},
      "source": [
        "## Introduction\n\nWe consider the sine function:\n\n\\begin{align}\\model(x) = \\sin(x)\\end{align}\n\n\nfor any $x\\in[0,12]$.\n\nWe want to create a metamodel of this function. This is why we create a sample of $n$ observations of the function:\n\n\\begin{align}y_i = \\model(x_i)\\end{align}\n\n\nfor $i=1,...,7$, where $x_i$ is the i-th input and $y_i$ is the corresponding output.\n\nWe consider the seven following inputs :\n\n============ === === === === ===== ==== ======\n $i$    1   2   3   4    5     6    7\n============ === === === === ===== ==== ======\n $x_i$  1   3   4   6   7.9   11   11.5\n============ === === === === ===== ==== ======\n\nWe are going to consider a Gaussian Process Regression metamodel with:\n\n* a constant trend,\n* a Matern covariance model.\n\nIn the :doc:`/auto_meta_modeling/kriging_metamodel/plot_gpr_1d` example, we detail the estimation of this metamodel.\nRefer to it for further details: we only focus here on the simulation of new trajectories.\n\n\n"
      ]
    },
    {
      "cell_type": "code",
      "execution_count": null,
      "metadata": {
        "collapsed": false
      },
      "outputs": [],
      "source": [
        "import openturns as ot\nimport openturns.viewer as otv\nimport openturns.experimental as otexp"
      ]
    },
    {
      "cell_type": "markdown",
      "metadata": {},
      "source": [
        "## Creation of the metamodel\n\nWe define the function `g`, the training sample `(x_train, y_train)` and the test sample `(x_test, y_tst)`.\n\n"
      ]
    },
    {
      "cell_type": "code",
      "execution_count": null,
      "metadata": {
        "collapsed": false
      },
      "outputs": [],
      "source": [
        "g = ot.SymbolicFunction([\"x\"], [\"sin(x)\"])"
      ]
    },
    {
      "cell_type": "code",
      "execution_count": null,
      "metadata": {
        "collapsed": false
      },
      "outputs": [],
      "source": [
        "x_train = ot.Sample([[x] for x in [1.0, 3.0, 4.0, 6.0, 7.9, 11.0, 11.5]])\ny_train = g(x_train)\nn_train = x_train.getSize()\nn_train"
      ]
    },
    {
      "cell_type": "code",
      "execution_count": null,
      "metadata": {
        "collapsed": false
      },
      "outputs": [],
      "source": [
        "xmin = 0.0\nxmax = 12.0\nn_test = 101\nstep = (xmax - xmin) / (n_test - 1)\nmyRegularGrid = ot.RegularGrid(xmin, step, n_test)\nx_test = myRegularGrid.getVertices()\ny_test = g(x_test)"
      ]
    },
    {
      "cell_type": "markdown",
      "metadata": {},
      "source": [
        "In order to observe the function and the location of the points in the input design of experiments, we define the following function which plots the data.\n\n"
      ]
    },
    {
      "cell_type": "code",
      "execution_count": null,
      "metadata": {
        "collapsed": false
      },
      "outputs": [],
      "source": [
        "def plot_1d_data(x_data, y_data, type=\"Curve\", legend=None, color=None, linestyle=None):\n    \"\"\"Plot the data (x_data,y_data) as a Cloud/Curve\"\"\"\n    if type == \"Curve\":\n        graphF = ot.Curve(x_data, y_data)\n    else:\n        graphF = ot.Cloud(x_data, y_data)\n    if legend is not None:\n        graphF.setLegend(legend)\n    if color is not None:\n        graphF.setColor(color)\n    if linestyle is not None:\n        graphF.setLineStyle(linestyle)\n    return graphF"
      ]
    },
    {
      "cell_type": "markdown",
      "metadata": {},
      "source": [
        "Here, we draw the model and the train sample.\n\n"
      ]
    },
    {
      "cell_type": "code",
      "execution_count": null,
      "metadata": {
        "collapsed": false
      },
      "outputs": [],
      "source": [
        "graph = ot.Graph(\"Model and Train sample\", \"X\", \"Y\", True, \"\")\ngraph.add(\n    plot_1d_data(\n        x_test, y_test, type=\"Curve\", legend=\"model\", color=\"black\", linestyle=\"dashed\"\n    )\n)\ngraph.add(\n    plot_1d_data(x_train, y_train, type=\"Cloud\", legend=\"train sample\", color=\"red\")\n)\ngraph.setLegendPosition(\"upper right\")\nview = otv.View(graph)"
      ]
    },
    {
      "cell_type": "markdown",
      "metadata": {},
      "source": [
        "We use the :class:`~openturns.ConstantBasisFactory` class to define the trend and the :class:`~openturns.MaternModel` class to define the covariance model.\nThis Mat\u00e9rn model is based on the regularity parameter $\\nu=3/2$.\n\n"
      ]
    },
    {
      "cell_type": "code",
      "execution_count": null,
      "metadata": {
        "collapsed": false
      },
      "outputs": [],
      "source": [
        "dimension = 1\nbasis = ot.ConstantBasisFactory(dimension).build()\ncovarianceModel = ot.MaternModel([1.0] * dimension, 1.5)"
      ]
    },
    {
      "cell_type": "markdown",
      "metadata": {},
      "source": [
        "We estimate the Gaussian process $Y$ with the class :class:`~openturns.experimental.GaussianProcessFitter`.\n\n"
      ]
    },
    {
      "cell_type": "code",
      "execution_count": null,
      "metadata": {
        "collapsed": false
      },
      "outputs": [],
      "source": [
        "fitter_algo = otexp.GaussianProcessFitter(x_train, y_train, covarianceModel, basis)\nfitter_algo.run()\nfitter_result = fitter_algo.getResult()\nprint(fitter_result)"
      ]
    },
    {
      "cell_type": "markdown",
      "metadata": {},
      "source": [
        "We observe that the `scale` and `amplitude` hyper-parameters have been optimized by the\n:meth:`~openturns.experimental.GaussianProcessFitter.run` method, while the $\\nu$\nparameter has remained unchanged, as expected.\n\nThen, we condition the gaussian process to make it interpolate the data set using the class\n:class:`~openturns.experimental.GaussianProcessRegression`.\n\n"
      ]
    },
    {
      "cell_type": "code",
      "execution_count": null,
      "metadata": {
        "collapsed": false
      },
      "outputs": [],
      "source": [
        "gpr_algo = otexp.GaussianProcessRegression(fitter_result)\ngpr_algo.run()\ngpr_result = gpr_algo.getResult()\nprint(gpr_result)"
      ]
    },
    {
      "cell_type": "markdown",
      "metadata": {},
      "source": [
        "We get the metamodel and the predictions on the test sample.\n\n"
      ]
    },
    {
      "cell_type": "code",
      "execution_count": null,
      "metadata": {
        "collapsed": false
      },
      "outputs": [],
      "source": [
        "gpr_metamodel = gpr_result.getMetaModel()\ny_test_MM = gpr_metamodel(x_test)"
      ]
    },
    {
      "cell_type": "markdown",
      "metadata": {},
      "source": [
        "The following function plots the Gaussian Process Regression predictions on the test sample.\n\n"
      ]
    },
    {
      "cell_type": "code",
      "execution_count": null,
      "metadata": {
        "collapsed": false
      },
      "outputs": [],
      "source": [
        "graph = ot.Graph(\"Gaussian process regression metamodel\", \"X\", \"Y\", True, \"\")\ngraph.add(\n    plot_1d_data(\n        x_test, y_test, type=\"Curve\", legend=\"model\", color=\"black\", linestyle=\"dashed\"\n    )\n)\ngraph.add(\n    plot_1d_data(x_train, y_train, type=\"Cloud\", legend=\"train sample\", color=\"red\")\n)\ngraph.add(\n    plot_1d_data(\n        x_test, y_test_MM, type=\"Curve\", legend=\"GPR\", color=\"blue\", linestyle=\"solid\"\n    )\n)\ngraph.setLegendPosition(\"upper right\")\nview = otv.View(graph)"
      ]
    },
    {
      "cell_type": "markdown",
      "metadata": {},
      "source": [
        "## Simulate new trajectories\n\nIn order to generate new trajectories of the conditioned Gaussian process, we use the class\n:class:`~openturns.experimental.ConditionedGaussianProcess`, which provides a :class:`~openturns.Process`.\nIt is created from the result of the Gaussian Process Regression algorithm.\n\n"
      ]
    },
    {
      "cell_type": "code",
      "execution_count": null,
      "metadata": {
        "collapsed": false
      },
      "outputs": [],
      "source": [
        "process = otexp.ConditionedGaussianProcess(gpr_result, myRegularGrid)"
      ]
    },
    {
      "cell_type": "markdown",
      "metadata": {},
      "source": [
        "The method :meth:`~openturns.Process.getSample` method returns a :class:`~openturns.ProcessSample`.\n\n"
      ]
    },
    {
      "cell_type": "markdown",
      "metadata": {},
      "source": [
        "sphinx_gallery_thumbnail_number = 3\n\n"
      ]
    },
    {
      "cell_type": "code",
      "execution_count": null,
      "metadata": {
        "collapsed": false
      },
      "outputs": [],
      "source": [
        "trajectories = process.getSample(10)\ntype(trajectories)\ngraph = trajectories.drawMarginal()\ngraph.add(\n    plot_1d_data(\n        x_test,\n        y_test,\n        type=\"Curve\",\n        legend=\"model\",\n        color=\"black\",\n        linestyle=\"dashed\",\n    )\n)\ngraph.add(\n    plot_1d_data(x_train, y_train, type=\"Cloud\", legend=\"train sample\", color=\"red\")\n)\ngraph.setXTitle(\"X\")\ngraph.setYTitle(\"Y\")\ngraph.setLegendPosition(\"upper right\")\ngraph.setTitle(\"10 simulated trajectories\")\nview = otv.View(graph)"
      ]
    },
    {
      "cell_type": "markdown",
      "metadata": {},
      "source": [
        "Display all figures.\n\n"
      ]
    },
    {
      "cell_type": "code",
      "execution_count": null,
      "metadata": {
        "collapsed": false
      },
      "outputs": [],
      "source": [
        "otv.View.ShowAll()"
      ]
    }
  ],
  "metadata": {
    "kernelspec": {
      "display_name": "Python 3",
      "language": "python",
      "name": "python3"
    },
    "language_info": {
      "codemirror_mode": {
        "name": "ipython",
        "version": 3
      },
      "file_extension": ".py",
      "mimetype": "text/x-python",
      "name": "python",
      "nbconvert_exporter": "python",
      "pygments_lexer": "ipython3",
      "version": "3.13.3"
    }
  },
  "nbformat": 4,
  "nbformat_minor": 0
}