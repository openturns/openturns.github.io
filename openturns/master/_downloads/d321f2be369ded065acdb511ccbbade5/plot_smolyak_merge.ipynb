{
  "cells": [
    {
      "cell_type": "code",
      "execution_count": null,
      "metadata": {
        "collapsed": false
      },
      "outputs": [],
      "source": [
        "%matplotlib inline"
      ]
    },
    {
      "cell_type": "markdown",
      "metadata": {},
      "source": [
        "\n# Merge nodes in Smolyak quadrature\n"
      ]
    },
    {
      "cell_type": "markdown",
      "metadata": {},
      "source": [
        "The goal of this example is to see the effect of the merge algorithm in\nSmolyak's quadrature implemented in :class:`~openturns.SmolyakExperiment`.\nWe analyse the sensitivity of the number of nodes to the relative\nand absolute tolerances.\nThen we analyse the effect of the merge algorithm on the number of nodes.\n\n"
      ]
    },
    {
      "cell_type": "code",
      "execution_count": null,
      "metadata": {
        "collapsed": false
      },
      "outputs": [],
      "source": [
        "import numpy as np\nimport openturns as ot\nimport openturns.experimental as otexp\nimport openturns.viewer as otv\nimport matplotlib.pyplot as plt"
      ]
    },
    {
      "cell_type": "markdown",
      "metadata": {},
      "source": [
        "The following examples shows how to get the relative and absolute tolerances.\nThese tolerances are used in the algorithm in order to identify potentially\nduplicated nodes, taking into account for rounding errors.\n\n"
      ]
    },
    {
      "cell_type": "code",
      "execution_count": null,
      "metadata": {
        "collapsed": false
      },
      "outputs": [],
      "source": [
        "epsilon_r = ot.ResourceMap.GetAsScalar(\"SmolyakExperiment-MergeRelativeEpsilon\")\nepsilon_a = ot.ResourceMap.GetAsScalar(\"SmolyakExperiment-MergeAbsoluteEpsilon\")\nprint(\"Default epsilon_r = \", epsilon_r)\nprint(\"Default epsilon_a = \", epsilon_a)"
      ]
    },
    {
      "cell_type": "markdown",
      "metadata": {},
      "source": [
        "The following examples shows how to set the relative and absolute tolerances.\n\n"
      ]
    },
    {
      "cell_type": "code",
      "execution_count": null,
      "metadata": {
        "collapsed": false
      },
      "outputs": [],
      "source": [
        "epsilon_r = 1.0e-14\nepsilon_a = 1.0e-14\not.ResourceMap.SetAsScalar(\"SmolyakExperiment-MergeRelativeEpsilon\", epsilon_r)\not.ResourceMap.SetAsScalar(\"SmolyakExperiment-MergeAbsoluteEpsilon\", epsilon_a)"
      ]
    },
    {
      "cell_type": "markdown",
      "metadata": {},
      "source": [
        "We are interested in the sensitivity of the number of nodes to the tolerances\nof the merging algorithm.\nThe next function takes the level and tolerances as input arguments,\nand returns the size of Smolyak's quadrature using Gauss-Legendre nodes.\n\n"
      ]
    },
    {
      "cell_type": "code",
      "execution_count": null,
      "metadata": {
        "collapsed": false
      },
      "outputs": [],
      "source": [
        "def computeNumberOfSmolyakNodes(level, epsilon_a, epsilon_r):\n    ot.ResourceMap.SetAsScalar(\n        \"SmolyakExperiment-MergeRelativeEpsilon\", epsilon_r\n    )\n    ot.ResourceMap.SetAsScalar(\n        \"SmolyakExperiment-MergeAbsoluteEpsilon\", epsilon_a\n    )\n    uniform = ot.GaussProductExperiment(ot.Uniform(0.0, 1.0))\n    collection = [uniform] * 2\n    experiment = otexp.SmolyakExperiment(collection, level)\n    nodes, weights = experiment.generateWithWeights()\n    size = nodes.getSize()\n    return size"
      ]
    },
    {
      "cell_type": "markdown",
      "metadata": {},
      "source": [
        "In the following experiments, we use\n$\\epsilon = \\epsilon_a = \\epsilon_r$ i.e.\nthe relative and absolute tolerances are set to be equal.\n\n"
      ]
    },
    {
      "cell_type": "markdown",
      "metadata": {},
      "source": [
        "In general, we want the tolerance to be as small as possible.\nThis is because we want the merge algorithm to detect candidate nodes\nwhich truly overlap.\nIndeed, our goal is to make the algorithm be insensitive to rounding errors,\nbut we do not want to merge two nodes which are significantly different.\nWe first want to see what is the effect when the tolerance is set to\na too small value.\n\n"
      ]
    },
    {
      "cell_type": "code",
      "execution_count": null,
      "metadata": {
        "collapsed": false
      },
      "outputs": [],
      "source": [
        "level = 9\nepsilon = 0.0\nsize = computeNumberOfSmolyakNodes(level, epsilon, epsilon)\nprint(\"epsilon = %.2e, level = %d, size = %d\" % (epsilon, level, size))\nepsilon = 1.0e-20\nsize = computeNumberOfSmolyakNodes(level, epsilon, epsilon)\nprint(\"epsilon = %.2e, level = %d, size = %d\" % (epsilon, level, size))"
      ]
    },
    {
      "cell_type": "markdown",
      "metadata": {},
      "source": [
        "Hence, 283 nodes are produced with a tolerance set to zero,\nor to a very small value.\n\n"
      ]
    },
    {
      "cell_type": "code",
      "execution_count": null,
      "metadata": {
        "collapsed": false
      },
      "outputs": [],
      "source": [
        "epsilon = 1.0e-8\nsize = computeNumberOfSmolyakNodes(level, epsilon, epsilon)\nprint(\"epsilon = %.2e, level = %d, size = %d\" % (epsilon, level, size))"
      ]
    },
    {
      "cell_type": "markdown",
      "metadata": {},
      "source": [
        "If the tolerance is set to a larger value, then 2 nodes are detected\nas duplicate, so that the total number of nodes is equal to 281.\n\n"
      ]
    },
    {
      "cell_type": "code",
      "execution_count": null,
      "metadata": {
        "collapsed": false
      },
      "outputs": [],
      "source": [
        "# We conclude that the tolerance must not be set to a too\n# small value.\n#\n# In the next `for` loops, for each value of the tolerance from :math:`10^{-1}`\n# down to :math:`10^{-20}`, we increase the `level` and see how this changes\n# the number of nodes.\n\ngraph = ot.Graph(\"Sensitivity to tolerance\", \"Level\", \"Size\", True)\npoint_styles = [\"circle\", \"fdiamond\", \"fsquare\", \"ftriangleup\", \"triangledown\"]\nnumber_of_epsilons = 5\nepsilon_array = np.logspace(-1, -20, number_of_epsilons)\nindex = 0\nfor epsilon in epsilon_array:\n    size_list = []\n    level_list = list(range(1, 10))\n    for level in level_list:\n        size = computeNumberOfSmolyakNodes(level, epsilon, epsilon)\n        size_list.append(size)\n    cloud = ot.Cloud(level_list, size_list)\n    cloud.setLegend(\"epsilon = %.2e\" % (epsilon))\n    cloud.setPointStyle(point_styles[index])\n    graph.add(cloud)\n    index += 1\npalette = ot.Drawable.BuildDefaultPalette(number_of_epsilons)\ngraph.setColors(palette)\ngraph.setLegendPosition(\"topright\")\notv.View(\n    graph,\n    figure_kw={\"figsize\": (4.0, 3.0)},\n    legend_kw={\"bbox_to_anchor\": (1.0, 1.0), \"loc\": \"upper left\"},\n)\nplt.tight_layout()"
      ]
    },
    {
      "cell_type": "markdown",
      "metadata": {},
      "source": [
        "We see that changing the tolerance from $10^{-6}$ down\nto $10^{-20}$ does not change much the size of Smolyak's\nquadrature.\nUsing $\\epsilon = 10^{-1}$ reduces the number of nodes by a too large\namount.\nThis is because a relatively large tolerance considers that many candidate\nnodes are close to each other, so that these nodes are merged.\nIn this case, the quadrature is not accurate enough.\n\n"
      ]
    },
    {
      "cell_type": "markdown",
      "metadata": {},
      "source": [
        "In the next `for` loop, for each value of the `level` parameter,\nwe decrease the tolerance from $10^{-1}$\ndown to $10^{-5}$ and see how this changes the number of nodes.\n\n"
      ]
    },
    {
      "cell_type": "code",
      "execution_count": null,
      "metadata": {
        "collapsed": false
      },
      "outputs": [],
      "source": [
        "graph = ot.Graph(\"Sensitivity to tolerance\", \"Epsilon\", \"Size\", True)\npoint_styles = [\"circle\", \"fdiamond\", \"fsquare\", \"ftriangleup\", \"triangledown\"]\nnumber_of_epsilons = 12\nlevel_list = list(range(1, 10, 2))\nindex = 0\nfor level in level_list:\n    size_list = []\n    epsilon_array = np.logspace(0, -5, number_of_epsilons)\n    for epsilon in epsilon_array:\n        size = computeNumberOfSmolyakNodes(level, epsilon, epsilon)\n        size_list.append(size)\n    cloud = ot.Cloud(epsilon_array, size_list)\n    cloud.setLegend(\"Level = %d\" % (level))\n    cloud.setPointStyle(point_styles[index])\n    graph.add(cloud)\n    index += 1\npalette = ot.Drawable.BuildDefaultPalette(number_of_epsilons)\ngraph.setColors(palette)\ngraph.setLegendPosition(\"topright\")\ngraph.setLogScale(ot.GraphImplementation.LOGXY)\nview = otv.View(\n    graph,\n    figure_kw={\"figsize\": (4.0, 3.0)},\n    legend_kw={\"bbox_to_anchor\": (1.0, 1.0), \"loc\": \"upper left\"},\n)\nplt.tight_layout()"
      ]
    },
    {
      "cell_type": "markdown",
      "metadata": {},
      "source": [
        "We see that changing the tolerance from $1$ down to $10^{-3}$\nchanges the number of nodes.\nBelow this threshold, the number of nodes does not change much.\n\n"
      ]
    },
    {
      "cell_type": "markdown",
      "metadata": {},
      "source": [
        "The `SmolyakExperiment-MergeQuadrature` key of the `ResourceMap` allows\nto disable or enable the merge algorithm.\nIn order to see its effect, the following script performs a loop over\nthe levels and compute the size without and with the merge algorithm.\nThen we plot the number of nodes which have been detected as duplicated\nand plot it versus the level.\n\n"
      ]
    },
    {
      "cell_type": "code",
      "execution_count": null,
      "metadata": {
        "collapsed": false
      },
      "outputs": [],
      "source": [
        "# Restore to default values\not.ResourceMap.SetAsScalar(\"SmolyakExperiment-MergeRelativeEpsilon\", 1.0e-8)\not.ResourceMap.SetAsScalar(\"SmolyakExperiment-MergeAbsoluteEpsilon\", 1.0e-8)\nlevel_list = list(range(1, 10))\nsize_decrease_list = []\nfor level in level_list:\n    ot.ResourceMap.SetAsBool(\"SmolyakExperiment-MergeQuadrature\", False)\n    sizeNoMerge = computeNumberOfSmolyakNodes(level, epsilon, epsilon)\n    ot.ResourceMap.SetAsBool(\"SmolyakExperiment-MergeQuadrature\", True)\n    sizeWithMerge = computeNumberOfSmolyakNodes(level, epsilon, epsilon)\n    sizeDecrease = sizeNoMerge - sizeWithMerge\n    size_decrease_list.append(sizeDecrease)\n\ngraph = ot.Graph(\"Sensitivity to merge\", \"Level\", \"Size decrease\", True)\ncloud = ot.Cloud(level_list, size_decrease_list)\ngraph.add(cloud)\nview = otv.View(\n    graph,\n    figure_kw={\"figsize\": (4.0, 3.0)},\n    legend_kw={\"bbox_to_anchor\": (1.0, 1.0), \"loc\": \"upper left\"},\n)\nplt.tight_layout()"
      ]
    },
    {
      "cell_type": "markdown",
      "metadata": {},
      "source": [
        "We see that the number of nodes is reduced when the merge algorithm is\nenabled.\nMoreover, the number of nodes which are duplicated increases when the\nlevel increases.\n\n"
      ]
    }
  ],
  "metadata": {
    "kernelspec": {
      "display_name": "Python 3",
      "language": "python",
      "name": "python3"
    },
    "language_info": {
      "codemirror_mode": {
        "name": "ipython",
        "version": 3
      },
      "file_extension": ".py",
      "mimetype": "text/x-python",
      "name": "python",
      "nbconvert_exporter": "python",
      "pygments_lexer": "ipython3",
      "version": "3.10.10"
    }
  },
  "nbformat": 4,
  "nbformat_minor": 0
}