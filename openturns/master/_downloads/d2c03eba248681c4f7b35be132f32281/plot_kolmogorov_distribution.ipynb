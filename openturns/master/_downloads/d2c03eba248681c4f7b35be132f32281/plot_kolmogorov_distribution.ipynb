{
  "cells": [
    {
      "cell_type": "markdown",
      "metadata": {},
      "source": [
        "\n# Kolmogorov-Smirnov : get the statistics distribution\n"
      ]
    },
    {
      "cell_type": "markdown",
      "metadata": {},
      "source": [
        "In this example, we draw the Kolmogorov-Smirnov (KS) distribution for a sample size 10.\nWe want to test the hypothesis that this sample has the `Uniform(0, 1)`\ndistribution.\nThe K.S. distribution is first plotted in the case where the\nparameters of the uniform distribution are known.\nThen we plot the distribution when the parameters of the uniform\ndistribution are estimated from the sample.\n\n*Reference* : Hovhannes Keutelian, \"The Kolmogorov-Smirnov test when\nparameters are estimated from data\", 30 April 1991, Fermilab\n\nNote: There is a sign error in the paper; the equation:\n`D[i]=max(abs(S+step),D[i])` must be replaced with `D[i]=max(abs(S-step),D[i])`.\n\n"
      ]
    },
    {
      "cell_type": "code",
      "execution_count": null,
      "metadata": {
        "collapsed": false
      },
      "outputs": [],
      "source": [
        "import openturns as ot\nimport openturns.viewer as viewer\n\not.Log.Show(ot.Log.NONE)"
      ]
    },
    {
      "cell_type": "code",
      "execution_count": null,
      "metadata": {
        "collapsed": false
      },
      "outputs": [],
      "source": [
        "x = [0.9374, 0.7629, 0.4771, 0.5111, 0.8701, 0.0684, 0.7375, 0.5615, 0.2835, 0.2508]\nsample = ot.Sample([[xi] for xi in x])"
      ]
    },
    {
      "cell_type": "code",
      "execution_count": null,
      "metadata": {
        "collapsed": false
      },
      "outputs": [],
      "source": [
        "samplesize = sample.getSize()\nsamplesize"
      ]
    },
    {
      "cell_type": "markdown",
      "metadata": {},
      "source": [
        "Plot the empirical distribution function.\n\n"
      ]
    },
    {
      "cell_type": "code",
      "execution_count": null,
      "metadata": {
        "collapsed": false
      },
      "outputs": [],
      "source": [
        "graph = ot.UserDefined(sample).drawCDF()\ngraph.setLegends([\"Sample\"])\ncurve = ot.Curve([0, 1], [0, 1])\ncurve.setLegend(\"Uniform\")\ngraph.add(curve)\ngraph.setXTitle(\"X\")\ngraph.setTitle(\"Cumulated distribution function\")\nview = viewer.View(graph)"
      ]
    },
    {
      "cell_type": "markdown",
      "metadata": {},
      "source": [
        "The `computeKSStatisticsIndex` function computes the Kolmogorov-Smirnov\ndistance between the sample and the distribution.\nThe following function is for teaching purposes only: use `FittingTest`\nfor real applications.\n\n"
      ]
    },
    {
      "cell_type": "code",
      "execution_count": null,
      "metadata": {
        "collapsed": false
      },
      "outputs": [],
      "source": [
        "def computeKSStatistics(sample, distribution):\n    sample = sample.sort()\n    n = sample.getSize()\n    D = 0.0\n    D_previous = 0.0\n    for i in range(n):\n        F = distribution.computeCDF(sample[i])\n        Fminus = F - float(i) / n\n        Fplus = float(i + 1) / n - F\n        D = max(Fminus, Fplus, D)\n        if D > D_previous:\n            D_previous = D\n    return D"
      ]
    },
    {
      "cell_type": "code",
      "execution_count": null,
      "metadata": {
        "collapsed": false
      },
      "outputs": [],
      "source": [
        "dist = ot.Uniform(0, 1)\ndist"
      ]
    },
    {
      "cell_type": "code",
      "execution_count": null,
      "metadata": {
        "collapsed": false
      },
      "outputs": [],
      "source": [
        "computeKSStatistics(sample, dist)"
      ]
    },
    {
      "cell_type": "markdown",
      "metadata": {},
      "source": [
        "The following function generates a sample of K.S. distances when the tested distribution is the `Uniform(0,1)` distribution.\n\n"
      ]
    },
    {
      "cell_type": "code",
      "execution_count": null,
      "metadata": {
        "collapsed": false
      },
      "outputs": [],
      "source": [
        "def generateKSSampleKnownParameters(nrepeat, samplesize):\n    \"\"\"\n    nrepeat : Number of repetitions, size of the table\n    samplesize : the size of each sample to generate from the Uniform distribution\n    \"\"\"\n    dist = ot.Uniform(0, 1)\n    D = ot.Sample(nrepeat, 1)\n    for i in range(nrepeat):\n        sample = dist.getSample(samplesize)\n        D[i, 0] = computeKSStatistics(sample, dist)\n    return D"
      ]
    },
    {
      "cell_type": "markdown",
      "metadata": {},
      "source": [
        "Generate a sample of KS distances.\n\n"
      ]
    },
    {
      "cell_type": "code",
      "execution_count": null,
      "metadata": {
        "collapsed": false
      },
      "outputs": [],
      "source": [
        "nrepeat = 10000  # Size of the KS distances sample\nsampleD = generateKSSampleKnownParameters(nrepeat, samplesize)"
      ]
    },
    {
      "cell_type": "markdown",
      "metadata": {},
      "source": [
        "Compute exact Kolmogorov CDF.\n\n"
      ]
    },
    {
      "cell_type": "code",
      "execution_count": null,
      "metadata": {
        "collapsed": false
      },
      "outputs": [],
      "source": [
        "def pKolmogorovPy(x):\n    y = ot.DistFunc.pKolmogorov(samplesize, x[0])\n    return [y]"
      ]
    },
    {
      "cell_type": "code",
      "execution_count": null,
      "metadata": {
        "collapsed": false
      },
      "outputs": [],
      "source": [
        "pKolmogorov = ot.PythonFunction(1, 1, pKolmogorovPy)"
      ]
    },
    {
      "cell_type": "code",
      "execution_count": null,
      "metadata": {
        "collapsed": false
      },
      "outputs": [],
      "source": [
        "def dKolmogorov(x, samplesize):\n    \"\"\"\n    Compute Kolmogorov PDF for given x.\n    x : an array, the points where the PDF must be evaluated\n    samplesize : the size of the sample\n    Reference\n    Numerical Derivatives in Scilab, Michael Baudin, May 2009\n    \"\"\"\n    n = x.getSize()\n    y = ot.Sample(n, 1)\n    for i in range(n):\n        y[i, 0] = pKolmogorov.gradient(x[i])[0, 0]\n    return y"
      ]
    },
    {
      "cell_type": "code",
      "execution_count": null,
      "metadata": {
        "collapsed": false
      },
      "outputs": [],
      "source": [
        "def linearSample(xmin, xmax, npoints):\n    \"\"\"Returns a sample created from a regular grid\n    from xmin to xmax with npoints points.\"\"\"\n    step = (xmax - xmin) / (npoints - 1)\n    rg = ot.RegularGrid(xmin, step, npoints)\n    vertices = rg.getVertices()\n    return vertices"
      ]
    },
    {
      "cell_type": "code",
      "execution_count": null,
      "metadata": {
        "collapsed": false
      },
      "outputs": [],
      "source": [
        "n = 1000  # Number of points in the plot\ns = linearSample(0.001, 0.999, n)\ny = dKolmogorov(s, samplesize)"
      ]
    },
    {
      "cell_type": "code",
      "execution_count": null,
      "metadata": {
        "collapsed": false
      },
      "outputs": [],
      "source": [
        "curve = ot.Curve(s, y)\ncurve.setLegend(\"Exact distribution\")\ngraph = ot.HistogramFactory().build(sampleD).drawPDF()\ngraph.setLegends([\"Empirical distribution\"])\ngraph.add(curve)\ngraph.setTitle(\"Kolmogorov-Smirnov distribution (known parameters)\")\ngraph.setXTitle(\"KS-Statistics\")\nview = viewer.View(graph)"
      ]
    },
    {
      "cell_type": "markdown",
      "metadata": {},
      "source": [
        "## Known parameters versus estimated parameters\n\n"
      ]
    },
    {
      "cell_type": "markdown",
      "metadata": {},
      "source": [
        "The following function generates a sample of K.S. distances when the tested\ndistribution is the `Uniform(a,b)` distribution, where the `a` and `b`\nparameters are estimated from the sample.\n\n"
      ]
    },
    {
      "cell_type": "code",
      "execution_count": null,
      "metadata": {
        "collapsed": false
      },
      "outputs": [],
      "source": [
        "def generateKSSampleEstimatedParameters(nrepeat, samplesize):\n    \"\"\"\n    nrepeat : Number of repetitions, size of the table\n    samplesize : the size of each sample to generate from the Uniform distribution\n    \"\"\"\n    distfactory = ot.UniformFactory()\n    refdist = ot.Uniform(0, 1)\n    D = ot.Sample(nrepeat, 1)\n    for i in range(nrepeat):\n        sample = refdist.getSample(samplesize)\n        trialdist = distfactory.build(sample)\n        D[i, 0] = computeKSStatistics(sample, trialdist)\n    return D"
      ]
    },
    {
      "cell_type": "markdown",
      "metadata": {},
      "source": [
        "Generate a sample of KS distances.\n\n"
      ]
    },
    {
      "cell_type": "code",
      "execution_count": null,
      "metadata": {
        "collapsed": false
      },
      "outputs": [],
      "source": [
        "sampleDP = generateKSSampleEstimatedParameters(nrepeat, samplesize)"
      ]
    },
    {
      "cell_type": "code",
      "execution_count": null,
      "metadata": {
        "collapsed": false
      },
      "outputs": [],
      "source": [
        "graph = ot.KernelSmoothing().build(sampleD).drawPDF()\ngraph.setLegends([\"Known parameters\"])\ngraphP = ot.KernelSmoothing().build(sampleDP).drawPDF()\ngraphP.setLegends([\"Estimated parameters\"])\ngraph.add(graphP)\ngraph.setTitle(\"Kolmogorov-Smirnov distribution\")\ngraph.setXTitle(\"KS-Statistics\")\nview = viewer.View(graph)"
      ]
    },
    {
      "cell_type": "markdown",
      "metadata": {},
      "source": [
        "Display the graphs\n\n"
      ]
    },
    {
      "cell_type": "code",
      "execution_count": null,
      "metadata": {
        "collapsed": false
      },
      "outputs": [],
      "source": [
        "view.ShowAll()"
      ]
    },
    {
      "cell_type": "markdown",
      "metadata": {},
      "source": [
        "We see that the distribution of the KS distances when the parameters are\nestimated is shifted towards the left: smaller distances occur more often.\nThis is a consequence of the fact that the estimated parameters tend to make\nthe estimated distribution closer to the empirical sample.\n\n"
      ]
    }
  ],
  "metadata": {
    "kernelspec": {
      "display_name": "Python 3",
      "language": "python",
      "name": "python3"
    },
    "language_info": {
      "codemirror_mode": {
        "name": "ipython",
        "version": 3
      },
      "file_extension": ".py",
      "mimetype": "text/x-python",
      "name": "python",
      "nbconvert_exporter": "python",
      "pygments_lexer": "ipython3",
      "version": "3.13.2"
    }
  },
  "nbformat": 4,
  "nbformat_minor": 0
}