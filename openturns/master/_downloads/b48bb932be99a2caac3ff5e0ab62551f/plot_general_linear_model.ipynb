{
  "cells": [
    {
      "cell_type": "markdown",
      "metadata": {},
      "source": [
        "\n# Create a general linear model metamodel\n"
      ]
    },
    {
      "cell_type": "markdown",
      "metadata": {},
      "source": [
        "In this example we are going to create a global approximation of a model response using a general linear model.\nWe show how to use the `GeneralLinearModelAlgorithm` class, which estimates the parameters of the model.\n\n"
      ]
    },
    {
      "cell_type": "code",
      "execution_count": null,
      "metadata": {
        "collapsed": false
      },
      "outputs": [],
      "source": [
        "import openturns as ot\nimport openturns.viewer as viewer\nfrom matplotlib import pylab as plt\n\not.Log.Show(ot.Log.NONE)"
      ]
    },
    {
      "cell_type": "markdown",
      "metadata": {},
      "source": [
        "We create a model and a sample from this model.\n\n"
      ]
    },
    {
      "cell_type": "code",
      "execution_count": null,
      "metadata": {
        "collapsed": false
      },
      "outputs": [],
      "source": [
        "ot.RandomGenerator.SetSeed(0)\ndimension = 2\ninput_names = [\"x1\", \"x2\"]\nformulas = [\"cos(x1 + x2)\"]\nmodel = ot.SymbolicFunction(input_names, formulas)\ndistribution = ot.Normal(dimension)\nx = distribution.getSample(100)\ny = model(x)"
      ]
    },
    {
      "cell_type": "markdown",
      "metadata": {},
      "source": [
        "We create a `GeneralLinearModelAlgorithm` based on a linear basis. The `run` method estimats the coefficients of the trend and the hyperparameters of the covariance model.\n\n"
      ]
    },
    {
      "cell_type": "code",
      "execution_count": null,
      "metadata": {
        "collapsed": false
      },
      "outputs": [],
      "source": [
        "basis = ot.LinearBasisFactory(dimension).build()\ncovarianceModel = ot.SquaredExponential([1] * dimension, [1.0])\nalgo = ot.GeneralLinearModelAlgorithm(x, y, covarianceModel, basis)\nalgo.run()\nresult = algo.getResult()"
      ]
    },
    {
      "cell_type": "markdown",
      "metadata": {},
      "source": [
        "We see that the trend coefficients have been estimated.\n\n"
      ]
    },
    {
      "cell_type": "code",
      "execution_count": null,
      "metadata": {
        "collapsed": false
      },
      "outputs": [],
      "source": [
        "result.getTrendCoefficients()"
      ]
    },
    {
      "cell_type": "markdown",
      "metadata": {},
      "source": [
        "The parameters of the covariance models also have been estimated.\n\n"
      ]
    },
    {
      "cell_type": "code",
      "execution_count": null,
      "metadata": {
        "collapsed": false
      },
      "outputs": [],
      "source": [
        "result.getCovarianceModel()"
      ]
    },
    {
      "cell_type": "markdown",
      "metadata": {},
      "source": [
        "The `getMetaModel` method returns the metamodel where the parameters have been estimated.\n\n"
      ]
    },
    {
      "cell_type": "code",
      "execution_count": null,
      "metadata": {
        "collapsed": false
      },
      "outputs": [],
      "source": [
        "responseSurface = result.getMetaModel()"
      ]
    },
    {
      "cell_type": "markdown",
      "metadata": {},
      "source": [
        "Plot the output of our model depending on `x2` with `x1=0.5`.\n\n"
      ]
    },
    {
      "cell_type": "code",
      "execution_count": null,
      "metadata": {
        "collapsed": false
      },
      "outputs": [],
      "source": [
        "xmin = -5.0\nxmax = 5.0\nx1value = 0.5\nparametricModelGraph = ot.ParametricFunction(model, [0], [x1value]).draw(xmin, xmax)\nparametricModelGraph.setColors([\"red\"])\ngraphMetamodel = ot.ParametricFunction(responseSurface, [0], [x1value]).draw(xmin, xmax)\ngraphMetamodel.setColors([\"blue\"])\nparametricModelGraph.add(graphMetamodel)\nparametricModelGraph.setLegends([\"Model\", \"Meta-Model\"])\nparametricModelGraph.setLegendPosition(\"upper right\")\nview = viewer.View(parametricModelGraph)\nplt.show()"
      ]
    },
    {
      "cell_type": "markdown",
      "metadata": {},
      "source": [
        "We see that the metamodel is equal to the trend because it takes into account the fact that the mean of the gaussian process is zero.\n\nThis `GeneralLinearModelAlgorithm` class is the main building block of the `KrigingAlgorithm`.\nThis is why most basic use cases are based on the `KrigingAlgorithm` instead of the `GeneralLinearModelAlgorithm`, because this allows one to condition the gaussian process.\n\n"
      ]
    }
  ],
  "metadata": {
    "kernelspec": {
      "display_name": "Python 3",
      "language": "python",
      "name": "python3"
    },
    "language_info": {
      "codemirror_mode": {
        "name": "ipython",
        "version": 3
      },
      "file_extension": ".py",
      "mimetype": "text/x-python",
      "name": "python",
      "nbconvert_exporter": "python",
      "pygments_lexer": "ipython3",
      "version": "3.11.8"
    }
  },
  "nbformat": 4,
  "nbformat_minor": 0
}