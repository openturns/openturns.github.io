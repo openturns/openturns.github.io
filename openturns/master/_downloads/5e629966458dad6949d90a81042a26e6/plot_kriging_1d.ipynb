{
  "cells": [
    {
      "cell_type": "code",
      "execution_count": null,
      "metadata": {
        "collapsed": false
      },
      "outputs": [],
      "source": [
        "%matplotlib inline"
      ]
    },
    {
      "cell_type": "markdown",
      "metadata": {},
      "source": [
        "\n# Kriging : quick-start\n"
      ]
    },
    {
      "cell_type": "markdown",
      "metadata": {},
      "source": [
        "## Abstract\n\nIn this example, we create a kriging metamodel for a function which has scalar real inputs and outputs. We show how to create the learning and the validation samples. We show how to create the kriging metamodel by chosing a trend and a covariance model. Finally, we compute the predicted kriging confidence interval using the conditional variance.\n\n"
      ]
    },
    {
      "cell_type": "markdown",
      "metadata": {},
      "source": [
        "## Introduction\n\nWe consider the sine function:\n\n\\begin{align}y = \\sin(x)\\end{align}\n\n\nfor any $x\\in[0,12]$.\n\nWe want to create a metamodel of this function. This is why we create a sample of $n$ observations of the function:\n\n\\begin{align}y_i=\\sin(x_i)\\end{align}\n\n\nfor $i=1,...,7$, where $x_i$ is the i-th input and $y_i$ is the corresponding output.\n\nWe consider the seven following inputs :\n\n============ === === === === ===== ==== ======\n $i$    1   2   3   4    5     6    7\n============ === === === === ===== ==== ======\n $x_i$  1   3   4   6   7.9   11   11.5\n============ === === === === ===== ==== ======\n\nWe are going to consider a kriging metamodel with:\n\n* a constant trend,\n* a Matern covariance model.\n\n"
      ]
    },
    {
      "cell_type": "markdown",
      "metadata": {},
      "source": [
        "## Creation of the metamodel\n\nWe begin by defining the function `g` as a symbolic function. Then we define the `x_train` variable which contains the inputs of the design of experiments of the training step. Then we compute the `y_train` corresponding outputs. The variable `n_train` is the size of the training design of experiments.\n\n"
      ]
    },
    {
      "cell_type": "code",
      "execution_count": null,
      "metadata": {
        "collapsed": false
      },
      "outputs": [],
      "source": [
        "import numpy as np\nimport openturns as ot\nimport openturns.viewer as viewer\nfrom matplotlib import pylab as plt\not.Log.Show(ot.Log.NONE)"
      ]
    },
    {
      "cell_type": "code",
      "execution_count": null,
      "metadata": {
        "collapsed": false
      },
      "outputs": [],
      "source": [
        "g = ot.SymbolicFunction(['x'], ['sin(x)'])"
      ]
    },
    {
      "cell_type": "code",
      "execution_count": null,
      "metadata": {
        "collapsed": false
      },
      "outputs": [],
      "source": [
        "x_train = ot.Sample([[x] for x in [1., 3., 4., 6., 7.9, 11., 11.5]])\ny_train = g(x_train)\nn_train = x_train.getSize()\nn_train"
      ]
    },
    {
      "cell_type": "markdown",
      "metadata": {},
      "source": [
        "In order to compare the function and its metamodel, we use a test (i.e. validation) design of experiments made of a regular grid of 100 points from 0 to 12. Then we convert this grid into a `Sample` and we compute the outputs of the function on this sample.\n\n"
      ]
    },
    {
      "cell_type": "code",
      "execution_count": null,
      "metadata": {
        "collapsed": false
      },
      "outputs": [],
      "source": [
        "xmin = 0.\nxmax = 12.\nn_test = 100\nstep = (xmax-xmin)/(n_test-1)\nmyRegularGrid = ot.RegularGrid(xmin, step, n_test)\nx_test = myRegularGrid.getVertices()\ny_test = g(x_test)"
      ]
    },
    {
      "cell_type": "markdown",
      "metadata": {},
      "source": [
        "In order to observe the function and the location of the points in the input design of experiments, we define the following functions which plots the data.\n\n"
      ]
    },
    {
      "cell_type": "code",
      "execution_count": null,
      "metadata": {
        "collapsed": false
      },
      "outputs": [],
      "source": [
        "def plot_data_train(x_train, y_train):\n    \"\"\"Plot the data (x_train,y_train) as a Cloud, in red\"\"\"\n    graph_train = ot.Cloud(x_train, y_train)\n    graph_train.setColor(\"red\")\n    graph_train.setLegend(\"Data\")\n    return graph_train"
      ]
    },
    {
      "cell_type": "code",
      "execution_count": null,
      "metadata": {
        "collapsed": false
      },
      "outputs": [],
      "source": [
        "def plot_data_test(x_test, y_test):\n    \"\"\"Plot the data (x_test,y_test) as a Curve, in dashed black\"\"\"\n    graphF = ot.Curve(x_test, y_test)\n    graphF.setLegend(\"Exact\")\n    graphF.setColor(\"black\")\n    graphF.setLineStyle(\"dashed\")\n    return graphF"
      ]
    },
    {
      "cell_type": "code",
      "execution_count": null,
      "metadata": {
        "collapsed": false
      },
      "outputs": [],
      "source": [
        "graph = ot.Graph('test and train', '', '', True, '')\ngraph.add(plot_data_test(x_test, y_test))\ngraph.add(plot_data_train(x_train, y_train))\ngraph.setAxes(True)\ngraph.setXTitle(\"X\")\ngraph.setYTitle(\"Y\")\ngraph.setLegendPosition(\"topright\")\nview = viewer.View(graph)"
      ]
    },
    {
      "cell_type": "markdown",
      "metadata": {},
      "source": [
        "We use the `ConstantBasisFactory` class to define the trend and the `MaternModel` class to define the covariance model. This Mat\u00e9rn model is based on the regularity parameter $\\nu=3/2$.\n\n"
      ]
    },
    {
      "cell_type": "code",
      "execution_count": null,
      "metadata": {
        "collapsed": false
      },
      "outputs": [],
      "source": [
        "dimension = 1\nbasis = ot.ConstantBasisFactory(dimension).build()\n#basis = ot.LinearBasisFactory(dimension).build()\nbasis = ot.QuadraticBasisFactory(dimension).build()\ncovarianceModel = ot.MaternModel([1.]*dimension, 1.5)\nalgo = ot.KrigingAlgorithm(x_train, y_train, covarianceModel, basis)\nalgo.run()\nresult = algo.getResult()\nprint(result)"
      ]
    },
    {
      "cell_type": "markdown",
      "metadata": {},
      "source": [
        "We observe that the `scale` and `amplitude` hyper-parameters have been optimized by the `run` method. Then we get the metamodel with `getMetaModel` and evaluate the outputs of the metamodel on the test design of experiments.\n\n"
      ]
    },
    {
      "cell_type": "code",
      "execution_count": null,
      "metadata": {
        "collapsed": false
      },
      "outputs": [],
      "source": [
        "krigeageMM = result.getMetaModel()\ny_test_MM = krigeageMM(x_test)"
      ]
    },
    {
      "cell_type": "markdown",
      "metadata": {},
      "source": [
        "The following function plots the kriging data.\n\n"
      ]
    },
    {
      "cell_type": "code",
      "execution_count": null,
      "metadata": {
        "collapsed": false
      },
      "outputs": [],
      "source": [
        "def plot_data_kriging(x_test, y_test_MM):\n    \"\"\"Plots (x_test,y_test_MM) from the metamodel as a Curve, in blue\"\"\"\n    graphK = ot.Curve(x_test, y_test_MM)\n    graphK.setColor(\"blue\")\n    graphK.setLegend(\"Kriging\")\n    return graphK"
      ]
    },
    {
      "cell_type": "code",
      "execution_count": null,
      "metadata": {
        "collapsed": false
      },
      "outputs": [],
      "source": [
        "graph = ot.Graph('', '', '', True, '')\ngraph.add(plot_data_test(x_test, y_test))\ngraph.add(plot_data_train(x_train, y_train))\ngraph.add(plot_data_kriging(x_test, y_test_MM))\ngraph.setAxes(True)\ngraph.setXTitle(\"X\")\ngraph.setYTitle(\"Y\")\ngraph.setLegendPosition(\"topright\")\nview = viewer.View(graph)"
      ]
    },
    {
      "cell_type": "markdown",
      "metadata": {},
      "source": [
        "We see that the kriging metamodel is interpolating. This is what is meant by *conditioning* a gaussian process.\n\nWe see that, when the sine function has a strong curvature between two points which are separated by a large distance (e.g. between $x=4$ and $x=6$), then the kriging metamodel is not close to the function $g$. However, when the training points are close (e.g. between $x=11$ and $x=11.5$) or when the function is nearly linear (e.g. between $x=8$ and $x=11$), then the kriging metamodel is quite accurate.\n\n"
      ]
    },
    {
      "cell_type": "markdown",
      "metadata": {},
      "source": [
        "## Compute confidence bounds\n\n"
      ]
    },
    {
      "cell_type": "markdown",
      "metadata": {},
      "source": [
        "In order to assess the quality of the metamodel, we can estimate the kriging variance and compute a 95% confidence interval associated with the conditioned gaussian process.\n\nWe begin by defining the `alpha` variable containing the complementary of the confidence level than we want to compute. Then we compute the quantile of the gaussian distribution corresponding to `1-alpha/2`. Therefore, the confidence interval is :\n\n\\begin{align}P\\in\\left(X\\in\\left[q_{\\alpha/2},q_{1-\\alpha/2}\\right]\\right)=1-\\alpha.\\end{align}\n\n\n\n"
      ]
    },
    {
      "cell_type": "code",
      "execution_count": null,
      "metadata": {
        "collapsed": false
      },
      "outputs": [],
      "source": [
        "alpha = 0.05\n\n\ndef computeQuantileAlpha(alpha):\n    bilateralCI = ot.Normal().computeBilateralConfidenceInterval(1-alpha)\n    return bilateralCI.getUpperBound()[0]\n\n\nquantileAlpha = computeQuantileAlpha(alpha)\nprint(\"alpha=%f\" % (alpha))\nprint(\"Quantile alpha=%f\" % (quantileAlpha))"
      ]
    },
    {
      "cell_type": "markdown",
      "metadata": {},
      "source": [
        "In order to compute the kriging error, we can consider the conditional variance. The `getConditionalCovariance` method returns the covariance matrix `covGrid` evaluated at each points in the given sample. Then we can use the diagonal coefficients in order to get the marginal conditional kriging variance. Since this is a variance, we use the square root in order to compute the standard deviation. However, some coefficients in the diagonal are very close to zero and nonpositive, which leads to an exception of the sqrt function. This is why we add an epsilon on the diagonal (nugget factor), which prevents this issue.\n\n"
      ]
    },
    {
      "cell_type": "code",
      "execution_count": null,
      "metadata": {
        "collapsed": false
      },
      "outputs": [],
      "source": [
        "sqrt = ot.SymbolicFunction([\"x\"], [\"sqrt(x)\"])\nepsilon = ot.Sample(n_test, [1.e-8])\nconditionalVariance = result.getConditionalMarginalVariance(x_test)+epsilon\nconditionalSigma = sqrt(conditionalVariance)"
      ]
    },
    {
      "cell_type": "markdown",
      "metadata": {},
      "source": [
        "The following figure presents the conditional standard deviation depending on $x$.\n\n"
      ]
    },
    {
      "cell_type": "code",
      "execution_count": null,
      "metadata": {
        "collapsed": false
      },
      "outputs": [],
      "source": [
        "graph = ot.Graph('Conditional standard deviation', 'x',\n                 'Conditional standard deviation', True, '')\ncurve = ot.Curve(x_test, conditionalSigma)\ngraph.add(curve)\nview = viewer.View(graph)"
      ]
    },
    {
      "cell_type": "markdown",
      "metadata": {},
      "source": [
        "We now compute the bounds of the confidence interval. For this purpose we define a small function\n`computeBoundsConfidenceInterval` :\n\n"
      ]
    },
    {
      "cell_type": "code",
      "execution_count": null,
      "metadata": {
        "collapsed": false
      },
      "outputs": [],
      "source": [
        "def computeBoundsConfidenceInterval(quantileAlpha):\n    dataLower = [[y_test_MM[i, 0] - quantileAlpha *\n                  conditionalSigma[i, 0]] for i in range(n_test)]\n    dataUpper = [[y_test_MM[i, 0] + quantileAlpha *\n                  conditionalSigma[i, 0]] for i in range(n_test)]\n    dataLower = ot.Sample(dataLower)\n    dataUpper = ot.Sample(dataUpper)\n    return dataLower, dataUpper"
      ]
    },
    {
      "cell_type": "markdown",
      "metadata": {},
      "source": [
        "In order to create the graphics containing the bounds of the confidence interval, we use the `Polygon`. This will create a colored surface associated to the confidence interval. In order to do this, we create the nodes of the polygons at the lower level `vLow` and at the upper level `vUp`. Then we assemble these nodes to create the polygons. That is what we do inside the `plot_kriging_bounds` function.\n\n"
      ]
    },
    {
      "cell_type": "code",
      "execution_count": null,
      "metadata": {
        "collapsed": false
      },
      "outputs": [],
      "source": [
        "def plot_kriging_bounds(dataLower, dataUpper, n_test, color=[120, 1.0, 1.0]):\n    \"\"\"\n    From two lists containing the lower and upper bounds of the region,\n    create a PolygonArray.\n    Default color is green given by HSV values in color list.\n    \"\"\"\n    vLow = [[x_test[i, 0], dataLower[i, 0]] for i in range(n_test)]\n    vUp = [[x_test[i, 0], dataUpper[i, 0]] for i in range(n_test)]\n    myHSVColor = ot.Polygon.ConvertFromHSV(color[0], color[1], color[2])\n    polyData = [[vLow[i], vLow[i+1], vUp[i+1], vUp[i]]\n                for i in range(n_test-1)]\n    polygonList = [ot.Polygon(polyData[i], myHSVColor, myHSVColor)\n                   for i in range(n_test-1)]\n    boundsPoly = ot.PolygonArray(polygonList)\n    return boundsPoly"
      ]
    },
    {
      "cell_type": "markdown",
      "metadata": {},
      "source": [
        "We define two small lists to draw three different confidence intervals (defined by the alpha value) :\n\n"
      ]
    },
    {
      "cell_type": "code",
      "execution_count": null,
      "metadata": {
        "collapsed": false
      },
      "outputs": [],
      "source": [
        "alphas = [0.05, 0.1, 0.2]\n# three different green colors defined by HSV values\nmycolors = [[120, 1.0, 1.0], [120, 1.0, 0.75], [120, 1.0, 0.5]]"
      ]
    },
    {
      "cell_type": "markdown",
      "metadata": {},
      "source": [
        "We are ready to display all the previous information and the three confidence intervals we want.\n\n"
      ]
    },
    {
      "cell_type": "markdown",
      "metadata": {},
      "source": [
        "sphinx_gallery_thumbnail_number = 4\n\n"
      ]
    },
    {
      "cell_type": "code",
      "execution_count": null,
      "metadata": {
        "collapsed": false
      },
      "outputs": [],
      "source": [
        "graph = ot.Graph('', '', '', True, '')\ngraph.add(plot_data_test(x_test, y_test))\ngraph.add(plot_data_train(x_train, y_train))\ngraph.add(plot_data_kriging(x_test, y_test_MM))\n\n# Now we loop over the different values :\nfor idx, v in enumerate(alphas):\n    quantileAlpha = computeQuantileAlpha(v)\n    vLow, vUp = computeBoundsConfidenceInterval(quantileAlpha)\n    boundsPoly = plot_kriging_bounds(vLow, vUp, n_test, mycolors[idx])\n    boundsPoly.setLegend(\" %d%% bounds\" % ((1.0-v)*100))\n    graph.add(boundsPoly)\n\ngraph.setAxes(True)\ngraph.setXTitle(\"X\")\ngraph.setYTitle(\"Y\")\ngraph.setLegendPosition(\"topright\")\nview = viewer.View(graph)"
      ]
    },
    {
      "cell_type": "markdown",
      "metadata": {},
      "source": [
        "We see that the confidence intervals are small in the regions where two consecutive training points are close to each other (e.g. between $x=11$ and $x=11.5$) and large when the two points are not (e.g. between $x=8.$ and $x=11$) or when the curvature of the function is large (between $x=4$ and $x=6$).\n\n"
      ]
    },
    {
      "cell_type": "code",
      "execution_count": null,
      "metadata": {
        "collapsed": false
      },
      "outputs": [],
      "source": [
        "plt.show()"
      ]
    },
    {
      "cell_type": "markdown",
      "metadata": {},
      "source": [
        "## References\n\n* Metamodeling with Gaussian processes, Bertrand Iooss, EDF R&D, 2014, www.gdr-mascotnum.fr/media/sssamo14_iooss.pdf\n\n"
      ]
    }
  ],
  "metadata": {
    "kernelspec": {
      "display_name": "Python 3",
      "language": "python",
      "name": "python3"
    },
    "language_info": {
      "codemirror_mode": {
        "name": "ipython",
        "version": 3
      },
      "file_extension": ".py",
      "mimetype": "text/x-python",
      "name": "python",
      "nbconvert_exporter": "python",
      "pygments_lexer": "ipython3",
      "version": "3.10.3"
    }
  },
  "nbformat": 4,
  "nbformat_minor": 0
}