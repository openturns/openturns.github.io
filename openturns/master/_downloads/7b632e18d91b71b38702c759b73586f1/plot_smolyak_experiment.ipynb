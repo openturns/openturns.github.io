{
  "cells": [
    {
      "cell_type": "markdown",
      "metadata": {},
      "source": [
        "\n# Plot the Smolyak quadrature\n"
      ]
    },
    {
      "cell_type": "markdown",
      "metadata": {},
      "source": [
        "The goal of this example is to present different properties of Smolyak's\nquadrature.\n\n"
      ]
    },
    {
      "cell_type": "code",
      "execution_count": null,
      "metadata": {
        "collapsed": false
      },
      "outputs": [],
      "source": [
        "import openturns as ot\nimport openturns.experimental as otexp\nimport openturns.viewer as otv\nfrom matplotlib import pylab as plt"
      ]
    },
    {
      "cell_type": "markdown",
      "metadata": {},
      "source": [
        "In the first example, we plot the nodes different levels of\nSmolyak-Legendre quadrature.\n\n"
      ]
    },
    {
      "cell_type": "code",
      "execution_count": null,
      "metadata": {
        "collapsed": false
      },
      "outputs": [],
      "source": [
        "uniform = ot.GaussProductExperiment(ot.Uniform(-1.0, 1.0))\ncollection = [uniform] * 2"
      ]
    },
    {
      "cell_type": "markdown",
      "metadata": {},
      "source": [
        "In the following loop, the level increases from 1 to 6.\nFor each level, we create the associated Smolyak quadrature and\nplot the associated nodes.\n\n"
      ]
    },
    {
      "cell_type": "code",
      "execution_count": null,
      "metadata": {
        "collapsed": false
      },
      "outputs": [],
      "source": [
        "number_of_rows = 2\nnumber_of_columns = 3\nbounding_box = ot.Interval([-1.05] * 2, [1.05] * 2)\ngrid = ot.GridLayout(number_of_rows, number_of_columns)\nfor i in range(number_of_rows):\n    for j in range(number_of_columns):\n        level = 1 + j + i * number_of_columns\n        experiment = otexp.SmolyakExperiment(collection, level)\n        nodes, weights = experiment.generateWithWeights()\n        sample_size = weights.getDimension()\n        graph = ot.Graph(\n            r\"Level = %d, n = %d\" % (level, sample_size), \"$x_1$\", \"$x_2$\", True\n        )\n        cloud = ot.Cloud(nodes)\n        cloud.setPointStyle(\"circle\")\n        graph.add(cloud)\n        graph.setBoundingBox(bounding_box)\n        grid.setGraph(i, j, graph)\n\nunit_width = 2.0\ntotal_width = unit_width * number_of_columns\nunit_height = unit_width\ntotal_height = unit_height * number_of_rows\nview = otv.View(grid, figure_kw={\"figsize\": (total_width, total_height)})\n_ = plt.suptitle(\"Smolyak-Legendre\")\n_ = plt.subplots_adjust(wspace=0.4, hspace=0.4)\nplt.tight_layout()\nplt.show()"
      ]
    },
    {
      "cell_type": "markdown",
      "metadata": {},
      "source": [
        "In the previous plot, the number of nodes is denoted by $n$.\nWe see that the number of nodes in the quadrature slowly increases\nwhen the quadrature level increases.\n\n"
      ]
    },
    {
      "cell_type": "markdown",
      "metadata": {},
      "source": [
        "Secondly, we want to compute the number of nodes depending on the dimension\nand the level.\n\n"
      ]
    },
    {
      "cell_type": "markdown",
      "metadata": {},
      "source": [
        "Assume that the number of nodes depends on the level\nfrom the equation $n_\\ell^1 = O\\left(2^\\ell\\right)$.\nIn a fully tensorized grid, the number of nodes is\n([gerstner1998]_ page 216):\n\n\\begin{align}n_{\\textrm{tensorisation}} = O\\left(2^{\\ell d}\\right).\\end{align}\n\nWe are going to see that Smolyak's quadrature reduces drastically that number.\nLet $m_\\ell$ be the number of the marginal univariate quadrature of\nlevel $\\ell$.\nThe number of nodes in Smolyak's sparse grid is:\n\n\\begin{align}n_\\ell^d = \\sum_{\\|\\boldsymbol{k}\\|_1 \\leq \\ell + d - 1} m_{k_1} \\cdots m_{k_d}.\\end{align}\n\nIf $n_\\ell^1 = O\\left(2^\\ell\\right)$, then the number of nodes of\nSmolyak's quadrature is:\n\n\\begin{align}n_{\\textrm{Smolyak}} = O\\left(2^\\ell \\ell^{d - 1}\\right).\\end{align}\n\n\n"
      ]
    },
    {
      "cell_type": "markdown",
      "metadata": {},
      "source": [
        "In the following script, we plot the number of nodes versus the level,\nof the tensor product and Smolyak experiments, under the assumption\nthat $n_{\\textrm{tensorisation}} = 2^{\\ell d}$\nand $n_{\\textrm{Smolyak}} = 2^\\ell \\ell^{d - 1}$.\nIn other words, we assume that the constants involved in the previous\nLandau equations are equal to 1.\n\n"
      ]
    },
    {
      "cell_type": "code",
      "execution_count": null,
      "metadata": {
        "collapsed": false
      },
      "outputs": [],
      "source": [
        "level_max = 8  # Maximum level\ndimension_max = 8  # Maximum dimension\nlevel_list = list(range(1, 1 + level_max))\ngraph = ot.Graph(\n    \"Smolyak vs tensorized quadrature\", r\"$level$\", r\"$n$\", True, \"upper left\"\n)\ndimension_list = list(range(1, dimension_max, 2))\npalette = ot.Drawable().BuildDefaultPalette(len(dimension_list))\ngraph_index = 0\nfor dimension in dimension_list:\n    number_of_nodes = ot.Sample(level_max, 1)\n    # Tensorized\n    for level in level_list:\n        number_of_nodes[level - 1, 0] = 2 ** (level * dimension)\n    curve = ot.Curve(ot.Sample.BuildFromPoint(level_list), number_of_nodes)\n    curve.setLegend(\"\")\n    curve.setLineStyle(\"solid\")\n    curve.setColor(palette[graph_index])\n    curve.setLegend(\"Tensor, d = %d\" % (dimension))\n    graph.add(curve)\n    # Smolyak\n    for level in level_list:\n        number_of_nodes[level - 1, 0] = 2**level * level ** (dimension - 1)\n    curve = ot.Curve(ot.Sample.BuildFromPoint(level_list), number_of_nodes)\n    curve.setLegend(\"\")\n    curve.setLineStyle(\"dashed\")\n    curve.setColor(palette[graph_index])\n    curve.setLegend(\"Smolyak, d = %d\" % (dimension))\n    graph.add(curve)\n    graph_index += 1\ngraph.setLogScale(ot.GraphImplementation.LOGY)\nview = otv.View(\n    graph,\n    figure_kw={\"figsize\": (5.0, 3.0)},\n    legend_kw={\"bbox_to_anchor\": (1.0, 1.0), \"loc\": \"upper left\"},\n)\nplt.tight_layout()\nplt.show()"
      ]
    },
    {
      "cell_type": "markdown",
      "metadata": {},
      "source": [
        "We see that the number of nodes increases when the level increases.\nSmolyak's number of nodes is, however, smaller or equal to the number of\nnodes involved in a tensor product quadrature rule.\nIn dimension 7 for example, the quadrature level 8 leads to less than\n$10^9$ nodes with Smolyak's quadrature but more than\n$10^{15}$ nodes with a tensor product quadrature.\n\n"
      ]
    },
    {
      "cell_type": "markdown",
      "metadata": {},
      "source": [
        "In the following cell, we count the number of nodes in Smolyak's quadrature\nusing a Gauss-Legendre marginal univariate experiment.\nWe perform a loop over the levels from 1 to 8\nand the dimensions from 1 to 7.\n\n"
      ]
    },
    {
      "cell_type": "code",
      "execution_count": null,
      "metadata": {
        "collapsed": false
      },
      "outputs": [],
      "source": [
        "level_max = 8  # Maximum level\ndimension_max = 8  # Maximum dimension\nuniform = ot.GaussProductExperiment(ot.Uniform(-1.0, 1.0))\nlevel_list = list(range(1, 1 + level_max))\ngraph = ot.Graph(\"Smolyak-Legendre quadrature\", r\"$level$\", r\"$n$\", True, \"upper left\")\npalette = ot.Drawable().BuildDefaultPalette(dimension_max - 1)\ngraph_index = 0\nfor dimension in range(1, dimension_max):\n    number_of_nodes = ot.Sample(level_max, 1)\n    for level in level_list:\n        collection = [uniform] * dimension\n        experiment = otexp.SmolyakExperiment(collection, level)\n        nodes, weights = experiment.generateWithWeights()\n        size = nodes.getSize()\n        number_of_nodes[level - 1, 0] = size\n    cloud = ot.Cloud(ot.Sample.BuildFromPoint(level_list), number_of_nodes)\n    cloud.setLegend(\"$d = %d$\" % (dimension))\n    cloud.setPointStyle(\"bullet\")\n    cloud.setColor(palette[graph_index])\n    graph.add(cloud)\n    curve = ot.Curve(ot.Sample.BuildFromPoint(level_list), number_of_nodes)\n    curve.setLegend(\"\")\n    curve.setLineStyle(\"dashed\")\n    curve.setColor(palette[graph_index])\n    graph.add(curve)\n    graph_index += 1\ngraph.setLogScale(ot.GraphImplementation.LOGY)\nview = otv.View(\n    graph,\n    figure_kw={\"figsize\": (5.0, 3.0)},\n    legend_kw={\"bbox_to_anchor\": (1.0, 1.0), \"loc\": \"upper left\"},\n)\n\nplt.tight_layout()\nplt.show()"
      ]
    },
    {
      "cell_type": "markdown",
      "metadata": {},
      "source": [
        "We see that the number of nodes increases when the level increases.\nThis growth depends on the dimension of the problem.\n\n"
      ]
    }
  ],
  "metadata": {
    "kernelspec": {
      "display_name": "Python 3",
      "language": "python",
      "name": "python3"
    },
    "language_info": {
      "codemirror_mode": {
        "name": "ipython",
        "version": 3
      },
      "file_extension": ".py",
      "mimetype": "text/x-python",
      "name": "python",
      "nbconvert_exporter": "python",
      "pygments_lexer": "ipython3",
      "version": "3.11.7"
    }
  },
  "nbformat": 4,
  "nbformat_minor": 0
}