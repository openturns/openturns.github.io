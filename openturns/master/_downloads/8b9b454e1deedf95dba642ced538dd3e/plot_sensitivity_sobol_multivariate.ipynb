{
  "cells": [
    {
      "cell_type": "markdown",
      "metadata": {},
      "source": [
        "\n# Estimate Sobol' indices for a function with multivariate output\n"
      ]
    },
    {
      "cell_type": "markdown",
      "metadata": {},
      "source": [
        "In this example, we estimate the Sobol' indices of a function by sampling methods.\nThis function has several outputs, which leads to the need of aggregated Sobol' indices.\n\n\n"
      ]
    },
    {
      "cell_type": "markdown",
      "metadata": {},
      "source": [
        "## Introduction\n\nIn this example we quantify the sensitivity of a function's outputs to its inputs with Sobol' indices.\n\nThe function we consider has 5 outputs. In this case, it may be convenient to consider each output separately.\nIt may also be interesting to aggregate the sensitivity indices to get a global understanding of the sensitivity of the inputs to the average output.\n\n"
      ]
    },
    {
      "cell_type": "markdown",
      "metadata": {},
      "source": [
        "## Define the model\n\n"
      ]
    },
    {
      "cell_type": "code",
      "execution_count": null,
      "metadata": {
        "collapsed": false
      },
      "outputs": [],
      "source": [
        "import openturns as ot\nimport openturns.viewer\nimport openturns.viewer as viewer\n\not.Log.Show(ot.Log.NONE)"
      ]
    },
    {
      "cell_type": "markdown",
      "metadata": {},
      "source": [
        "We define a linear model with 5 independent Gaussian inputs and 2 outputs.\n\n"
      ]
    },
    {
      "cell_type": "code",
      "execution_count": null,
      "metadata": {
        "collapsed": false
      },
      "outputs": [],
      "source": [
        "inputDistribution = ot.Normal(5)\nfunction = ot.SymbolicFunction(\n    [\"x0\", \"x1\", \"x2\", \"x3\", \"x4\"],\n    [\"x0 + 4.0 * x1 ^ 2 + 3.0 * x2\", \"-7.0 * x2 - 4.0 * x3 + x4\"],\n)"
      ]
    },
    {
      "cell_type": "markdown",
      "metadata": {},
      "source": [
        "## Estimate the Sobol' indices\n\n"
      ]
    },
    {
      "cell_type": "markdown",
      "metadata": {},
      "source": [
        "We first create a design of experiments with `SobolIndicesExperiment`.\n\n"
      ]
    },
    {
      "cell_type": "code",
      "execution_count": null,
      "metadata": {
        "collapsed": false
      },
      "outputs": [],
      "source": [
        "size = 1000\nsie = ot.SobolIndicesExperiment(inputDistribution, size)\ninputDesign = sie.generate()\ninput_names = inputDistribution.getDescription()\ninputDesign.setDescription(input_names)\nprint(\"Sample size: \", inputDesign.getSize())"
      ]
    },
    {
      "cell_type": "markdown",
      "metadata": {},
      "source": [
        "We see that 7000 function evaluations are required to estimate the first order and total Sobol' indices.\nThen we evaluate the outputs corresponding to this design of experiments.\n\n"
      ]
    },
    {
      "cell_type": "code",
      "execution_count": null,
      "metadata": {
        "collapsed": false
      },
      "outputs": [],
      "source": [
        "outputDesign = function(inputDesign)"
      ]
    },
    {
      "cell_type": "markdown",
      "metadata": {},
      "source": [
        "Then we estimate the Sobol' indices with the `SaltelliSensitivityAlgorithm`.\n\n"
      ]
    },
    {
      "cell_type": "code",
      "execution_count": null,
      "metadata": {
        "collapsed": false
      },
      "outputs": [],
      "source": [
        "sensitivityAnalysis = ot.SaltelliSensitivityAlgorithm(inputDesign, outputDesign, size)"
      ]
    },
    {
      "cell_type": "markdown",
      "metadata": {},
      "source": [
        "The `getFirstOrderIndices` and `getTotalOrderIndices` method respectively return estimates of first order and total Sobol' indices with a given output.\nSince these depend on the output marginal, the index of the output must\nbe specified (the default is to return the index for the first output).\n\n"
      ]
    },
    {
      "cell_type": "code",
      "execution_count": null,
      "metadata": {
        "collapsed": false
      },
      "outputs": [],
      "source": [
        "output_dimension = function.getOutputDimension()\nfor i in range(output_dimension):\n    print(\"Output #\", i)\n    first_order = sensitivityAnalysis.getFirstOrderIndices(i)\n    total_order = sensitivityAnalysis.getTotalOrderIndices(i)\n    print(\"    First order indices: \", first_order)\n    print(\"    Total order indices: \", total_order)\n\nagg_first_order = sensitivityAnalysis.getAggregatedFirstOrderIndices()\nagg_total_order = sensitivityAnalysis.getAggregatedTotalOrderIndices()\nprint(\"Agg. first order indices: \", agg_first_order)\nprint(\"Agg. total order indices: \", agg_total_order)"
      ]
    },
    {
      "cell_type": "markdown",
      "metadata": {},
      "source": [
        "We see that:\n\n* `x1` has a rather large first order index on the first output, but a small index on the second output,\n\n* `x2` has a rather large first order index on the first output on both outputs,\n\n* the largest aggregated Sobol' index is `x2`,\n\n* `x0` and `x5` have Sobol' indices which are close to zero regardless of whether the indices are aggregated or not.\n\n"
      ]
    },
    {
      "cell_type": "markdown",
      "metadata": {},
      "source": [
        "The `draw` method produces the following graph. The vertical bars represent the 95% confidence intervals of the estimates.\n\n"
      ]
    },
    {
      "cell_type": "code",
      "execution_count": null,
      "metadata": {
        "collapsed": false
      },
      "outputs": [],
      "source": [
        "graph = sensitivityAnalysis.draw()\nview = viewer.View(graph)"
      ]
    },
    {
      "cell_type": "markdown",
      "metadata": {},
      "source": [
        "Since there are several outputs, the graph presents the aggregated Sobol' indices.\nThe aggregated Sobol' indices indicate that the input variable which has the largest impact on the variability of the several outputs is `x2`.\n\n"
      ]
    }
  ],
  "metadata": {
    "kernelspec": {
      "display_name": "Python 3",
      "language": "python",
      "name": "python3"
    },
    "language_info": {
      "codemirror_mode": {
        "name": "ipython",
        "version": 3
      },
      "file_extension": ".py",
      "mimetype": "text/x-python",
      "name": "python",
      "nbconvert_exporter": "python",
      "pygments_lexer": "ipython3",
      "version": "3.11.6"
    }
  },
  "nbformat": 4,
  "nbformat_minor": 0
}