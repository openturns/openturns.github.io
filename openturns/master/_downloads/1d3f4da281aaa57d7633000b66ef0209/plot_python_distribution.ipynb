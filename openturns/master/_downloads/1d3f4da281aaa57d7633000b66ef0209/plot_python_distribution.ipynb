{
  "cells": [
    {
      "cell_type": "markdown",
      "metadata": {},
      "source": [
        "\n# Create a customized distribution or copula\n"
      ]
    },
    {
      "cell_type": "markdown",
      "metadata": {},
      "source": [
        "In this example we are going to create a distribution or copula.\n\nThe way to go is inheriting the :class:`~openturns.PythonDistribution`, get the  class and overload the methods of the :class:`~openturns.Distribution` object.\n\nTo create a Copula, the user has to overload `isCopula()` and return `True`.\n\nThen an instance of the new class can be passed on into a Distribution object.\n\nAt least `computeCDF` should be overridden.\n\n"
      ]
    },
    {
      "cell_type": "code",
      "execution_count": null,
      "metadata": {
        "collapsed": false
      },
      "outputs": [],
      "source": [
        "import openturns as ot\nimport openturns.viewer as viewer\nfrom matplotlib import pylab as plt\nimport math as m\nimport warnings\n\nwarnings.filterwarnings(\"ignore\")\not.Log.Show(ot.Log.NONE)"
      ]
    },
    {
      "cell_type": "markdown",
      "metadata": {},
      "source": [
        "Inherit :class:`~openturns.PythonDistribution`:\n\n"
      ]
    },
    {
      "cell_type": "code",
      "execution_count": null,
      "metadata": {
        "collapsed": false
      },
      "outputs": [],
      "source": [
        "class UniformNdPy(ot.PythonDistribution):\n    def __init__(self, a=[0.0], b=[1.0]):\n        super(UniformNdPy, self).__init__(len(a))\n        if len(a) != len(b):\n            raise ValueError(\"Invalid bounds\")\n        for i in range(len(a)):\n            if a[i] > b[i]:\n                raise ValueError(\"Invalid bounds\")\n        self.a = a\n        self.b = b\n        self.factor = 1.0\n        for i in range(len(a)):\n            self.factor *= b[i] - a[i]\n\n    def getRange(self):\n        return ot.Interval(self.a, self.b, [True] * len(self.a), [True] * len(self.a))\n\n    def getRealization(self):\n        X = []\n        for i in range(len(self.a)):\n            X.append(\n                self.a[i] + (self.b[i] - self.a[i]) * ot.RandomGenerator.Generate()\n            )\n        return X\n\n    def getSample(self, size):\n        X = []\n        for i in range(size):\n            X.append(self.getRealization())\n        return X\n\n    def computeCDF(self, X):\n        prod = 1.0\n        for i in range(len(self.a)):\n            if X[i] < self.a[i]:\n                return 0.0\n            prod *= min(self.b[i], X[i]) - self.a[i]\n        return prod / self.factor\n\n    def computePDF(self, X):\n        for i in range(len(self.a)):\n            if X[i] < self.a[i]:\n                return 0.0\n            if X[i] > self.b[i]:\n                return 0.0\n        return 1.0 / self.factor\n\n    def getMean(self):\n        mu = []\n        for i in range(len(self.a)):\n            mu.append(0.5 * (self.a[i] + self.b[i]))\n        return mu\n\n    def getStandardDeviation(self):\n        stdev = []\n        for i in range(len(self.a)):\n            stdev.append((self.b[i] - self.a[i]) / m.sqrt(12.0))\n        return stdev\n\n    def getSkewness(self):\n        return [0.0] * len(self.a)\n\n    def getKurtosis(self):\n        return [1.8] * len(self.a)\n\n    def getMoment(self, n):\n        return [-0.1 * n] * len(self.a)\n\n    def getCentralMoment(self, n):\n        return [0.0] * len(self.a)\n\n    def computeCharacteristicFunction(self, x):\n        if len(self.a) > 1:\n            raise ValueError(\"dim>1\")\n        ax = self.a[0] * x\n        bx = self.b[0] * x\n        return (m.sin(bx) - m.sin(ax) + 1j * (m.cos(ax) - m.cos(bx))) / (bx - ax)\n\n    def isElliptical(self):\n        return (len(self.a) == 1) and (self.a[0] == -self.b[0])\n\n    def isCopula(self):\n        for i in range(len(self.a)):\n            if self.a[i] != 0.0:\n                return False\n            if self.b[i] != 1.0:\n                return False\n        return True\n\n    def getMarginal(self, indices):\n        subA = []\n        subB = []\n        for i in indices:\n            subA.append(self.a[i])\n            subB.append(self.b[i])\n        py_dist = UniformNdPy(subA, subB)\n        return ot.Distribution(py_dist)\n\n    def computeQuantile(self, prob, tail=False):\n        q = 1.0 - prob if tail else prob\n        quantile = self.a\n        for i in range(len(self.a)):\n            quantile[i] += q * (self.b[i] - self.a[i])\n        return quantile"
      ]
    },
    {
      "cell_type": "markdown",
      "metadata": {},
      "source": [
        "Let us instantiate the distribution:\n\n"
      ]
    },
    {
      "cell_type": "code",
      "execution_count": null,
      "metadata": {
        "collapsed": false
      },
      "outputs": [],
      "source": [
        "distribution = ot.Distribution(UniformNdPy([5, 6], [7, 9]))"
      ]
    },
    {
      "cell_type": "markdown",
      "metadata": {},
      "source": [
        "And plot the CDF:\n\n"
      ]
    },
    {
      "cell_type": "code",
      "execution_count": null,
      "metadata": {
        "collapsed": false
      },
      "outputs": [],
      "source": [
        "graph = distribution.drawCDF()\ngraph.setColors([\"blue\"])\nview = viewer.View(graph)"
      ]
    },
    {
      "cell_type": "markdown",
      "metadata": {},
      "source": [
        "We can easily generate sample:\n\n"
      ]
    },
    {
      "cell_type": "code",
      "execution_count": null,
      "metadata": {
        "collapsed": false
      },
      "outputs": [],
      "source": [
        "distribution.getSample(5)"
      ]
    },
    {
      "cell_type": "markdown",
      "metadata": {},
      "source": [
        "or compute the mean:\n\n"
      ]
    },
    {
      "cell_type": "code",
      "execution_count": null,
      "metadata": {
        "collapsed": false
      },
      "outputs": [],
      "source": [
        "distribution.getMean()"
      ]
    },
    {
      "cell_type": "markdown",
      "metadata": {},
      "source": [
        "Also we can compute the probability contained in an interval :\n\n"
      ]
    },
    {
      "cell_type": "code",
      "execution_count": null,
      "metadata": {
        "collapsed": false
      },
      "outputs": [],
      "source": [
        "distribution.computeProbability(ot.Interval([5.5, 6], [8.5, 9]))\nplt.show()"
      ]
    },
    {
      "cell_type": "markdown",
      "metadata": {},
      "source": [
        "And do more (see :class:`~openturns.Distribution` for all methods)\n\n"
      ]
    }
  ],
  "metadata": {
    "kernelspec": {
      "display_name": "Python 3",
      "language": "python",
      "name": "python3"
    },
    "language_info": {
      "codemirror_mode": {
        "name": "ipython",
        "version": 3
      },
      "file_extension": ".py",
      "mimetype": "text/x-python",
      "name": "python",
      "nbconvert_exporter": "python",
      "pygments_lexer": "ipython3",
      "version": "3.12.4"
    }
  },
  "nbformat": 4,
  "nbformat_minor": 0
}