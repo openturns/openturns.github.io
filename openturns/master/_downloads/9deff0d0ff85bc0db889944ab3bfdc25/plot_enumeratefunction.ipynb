{
  "cells": [
    {
      "cell_type": "markdown",
      "metadata": {},
      "source": [
        "\n# Plot enumeration rules\n"
      ]
    },
    {
      "cell_type": "markdown",
      "metadata": {},
      "source": [
        "In order to build up a functional chaos multivariate basis $\\{\\psi_{\\idx},\\idx \\in \\NM\\}$\nby tensorization of univariate basis terms, we need to enumerate the multi-indices $\\vect{\\alpha} \\in \\mathbb{N}^{n_X}$.\nIn this example we are going to explore properties of these enumeration rules.\nRefer also to `enumeration_strategy` in the theoric documentation.\n\n"
      ]
    },
    {
      "cell_type": "code",
      "execution_count": null,
      "metadata": {
        "collapsed": false
      },
      "outputs": [],
      "source": [
        "import openturns as ot\nimport openturns.viewer as otv\nimport math as m"
      ]
    },
    {
      "cell_type": "markdown",
      "metadata": {},
      "source": [
        "The simplest way to generate the multi-indices is to enumerate the terms of increasing length.\nIn other words, we enumerate the multi-indices with length equal to 0, then 1, 2, 3, etc.\nThis is called \"graded reverse-lexicographic ordering\" in [sullivan2015]_.\nThis is named the linear enumeration rule in the library; let us instantiate it in the 2-dimensional case.\n\n"
      ]
    },
    {
      "cell_type": "code",
      "execution_count": null,
      "metadata": {
        "collapsed": false
      },
      "outputs": [],
      "source": [
        "dim = 2\nenum_func = ot.LinearEnumerateFunction(dim)"
      ]
    },
    {
      "cell_type": "markdown",
      "metadata": {},
      "source": [
        "Print the 25 first multi-indices and their associated length.\n\n"
      ]
    },
    {
      "cell_type": "code",
      "execution_count": null,
      "metadata": {
        "collapsed": false
      },
      "outputs": [],
      "source": [
        "td_prev = 0\nprint(\"#  | multi-index | length\")\nprint(\"---+-------------+-------------\")\nfor i in range(25):\n    multi_index = enum_func(i)\n    td = sum(multi_index)\n    if td > td_prev:\n        td_prev = td\n        print(\"---+-------------+-------------\")\n    print(f\"{i:2} |       {multi_index} |           {td}\")"
      ]
    },
    {
      "cell_type": "markdown",
      "metadata": {},
      "source": [
        "Plot the multi-indices of the enumeration rule by stratas.\nIn the specific case of the linear enumerate function, each strata contains\nmulti-indices of identical length that is also the index of the strata.\n\n"
      ]
    },
    {
      "cell_type": "code",
      "execution_count": null,
      "metadata": {
        "collapsed": false
      },
      "outputs": [],
      "source": [
        "def draw_stratas(enum_func):\n    \"\"\"\n    Plot enumeration rule by stratas.\n\n    Parameters\n    ----------\n    enum_func : openturns.EnumerateFunction\n        Enumerate function\n\n    Returns\n    -------\n    graph : openturns.Graph\n        Plot of the multi-indices colored by stratas\n    \"\"\"\n    maximum_strata_index = 7\n    graph = ot.Graph(\"\", \"$\\\\alpha_1$\", \"$\\\\alpha_2$\", True)\n    if enum_func.__class__.__name__ == \"LinearEnumerateFunction\":\n        graph.setTitle(\"Linear enumeration rule\")\n    elif enum_func.__class__.__name__ == \"HyperbolicAnisotropicEnumerateFunction\":\n        graph.setTitle(f\"q={enum_func.getQ()}\")\n    offset = 0\n    for strata_index in range(maximum_strata_index):\n        strata_cardinal = enum_func.getStrataCardinal(strata_index)\n        sample_in_layer = [enum_func(idx + offset) for idx in range(strata_cardinal)]\n        offset += strata_cardinal\n        cloud = ot.Cloud(sample_in_layer)\n        cloud.setLegend(str(strata_index))\n        cloud.setPointStyle(\"circle\")\n        graph.add(cloud)\n    graph.setIntegerXTick(True)\n    graph.setIntegerYTick(True)\n    graph.setLegendPosition(\"upper right\")\n    return graph\n\n\ngraph = draw_stratas(enum_func)\nview = otv.View(graph, axes_kw={\"aspect\": \"equal\"})"
      ]
    },
    {
      "cell_type": "markdown",
      "metadata": {},
      "source": [
        "When the number of input dimensions of a polynomial chaos expansion (PCE) increases,\neach multi-index correspond to a coefficient in the expansion.\nHence, the number of multi-indices represents the number of coefficients in the PCE.\nPlot the number of terms in the basis depending on the maximum total degree\nfor several dimension values.\nWe observe the exponential increase of the number of terms with the dimension\n$d$ (curse of dimensionality).\n\n"
      ]
    },
    {
      "cell_type": "code",
      "execution_count": null,
      "metadata": {
        "collapsed": false
      },
      "outputs": [],
      "source": [
        "graph = ot.Graph(\"Linear enumeration\", \"Total degree\", \"Number of coefficients\", True)\ndegree_maximum = 10\nlist_of_dimensions = [1, 5, 10, 15, 20]\npoint_styles = [\"bullet\", \"circle\", \"fdiamond\", \"fsquare\", \"triangleup\"]\nfor i in range(len(list_of_dimensions)):\n    dimension = list_of_dimensions[i]\n    number_of_coeff_array = ot.Sample(degree_maximum, 2)\n    for degree in range(1, 1 + degree_maximum):\n        number_of_coeff_array[degree - 1, 0] = degree\n        number_of_coeff_array[degree - 1, 1] = m.comb(degree + dimension, degree)\n    cloud = ot.Cloud(number_of_coeff_array)\n    cloud.setPointStyle(point_styles[i])\n    cloud.setLegend(f\"dim.={dimension}\")\n    graph.add(cloud)\ngraph.setLegendPosition(\"upper left\")\ngraph.setIntegerXTick(True)\ngraph.setLogScale(ot.GraphImplementation.LOGY)\nview = otv.View(graph, figure_kw={\"figsize\": (5, 4)})"
      ]
    },
    {
      "cell_type": "markdown",
      "metadata": {},
      "source": [
        "Plot the hyperbolic quasi norm for different values of q.\nWith q=1 stratas are hyperplanes, and in case of isotropy\nit is equivalent to the linear enumeration rule.\n\n"
      ]
    },
    {
      "cell_type": "code",
      "execution_count": null,
      "metadata": {
        "collapsed": false
      },
      "outputs": [],
      "source": [
        "def draw_qnorm(q):\n    def qnorm(x):\n        norm = 0.0\n        for xi in x:\n            norm += xi**q\n        norm = norm ** (1.0 / q)\n        return [norm]\n\n    f = ot.PythonFunction(2, 1, qnorm)\n    f.setInputDescription([\"x1\", \"x2\"])\n    graph = f.draw([0.0] * 2, [1.0] * 2)\n    graph.setTitle(f\"q = {q}\")\n    return graph\n\n\ndln = ot.ResourceMap.GetAsUnsignedInteger(\"Contour-DefaultLevelsNumber\")\not.ResourceMap.SetAsUnsignedInteger(\"Contour-DefaultLevelsNumber\", 5)\ngrid = ot.GridLayout(2, 2)\ngrid.setGraph(0, 0, draw_qnorm(1.0))\ngrid.setGraph(0, 1, draw_qnorm(0.75))\ngrid.setGraph(1, 0, draw_qnorm(0.5))\ngrid.setGraph(1, 1, draw_qnorm(0.25))\not.ResourceMap.SetAsUnsignedInteger(\"Contour-DefaultLevelsNumber\", dln)\ngrid.setTitle(\"Hyperbolic quasi norm\")\nview = otv.View(grid, axes_kw={\"aspect\": \"equal\"})"
      ]
    },
    {
      "cell_type": "markdown",
      "metadata": {},
      "source": [
        "Plot the multi-indices of the linear enumeration rule by stratas.\nThe lower the value of q the lower the number of interactions terms in stratas.\n\n"
      ]
    },
    {
      "cell_type": "code",
      "execution_count": null,
      "metadata": {
        "collapsed": false
      },
      "outputs": [],
      "source": [
        "grid = ot.GridLayout(2, 2)\ngrid.setGraph(0, 0, draw_stratas(ot.HyperbolicAnisotropicEnumerateFunction(dim, 1.0)))\ngrid.setGraph(0, 1, draw_stratas(ot.HyperbolicAnisotropicEnumerateFunction(dim, 0.75)))\ngrid.setGraph(1, 0, draw_stratas(ot.HyperbolicAnisotropicEnumerateFunction(dim, 0.5)))\ngrid.setGraph(1, 1, draw_stratas(ot.HyperbolicAnisotropicEnumerateFunction(dim, 0.25)))\ngrid.setTitle(\"Hyperbolic rule\")\nview = otv.View(grid, axes_kw={\"aspect\": \"equal\"})"
      ]
    },
    {
      "cell_type": "markdown",
      "metadata": {},
      "source": [
        "Interaction multi-indices are presented in the center of the $(\\alpha_1, \\alpha_2)$ space.\nWe see that when the quasi-norm parameter is close to zero, the enumeration rule\nshows less interaction multi-indices.\nInstead, multi-indices close to the X and Y axes represent multivariate polynomials\nwith high marginal degrees.\nWhen q is close to zero, these polynomials with high marginal degrees appear\nsooner with the hyperbolic enumeration rule.\n\n"
      ]
    },
    {
      "cell_type": "markdown",
      "metadata": {},
      "source": [
        "Plot the number of terms in the basis depending on the maximum total degree\nin dimension d=5 for several q-norm values.\nWe observe that the gap between high and low values of q can lead to a gap\nin the numbers of terms of an order of magnitude.\n\n"
      ]
    },
    {
      "cell_type": "code",
      "execution_count": null,
      "metadata": {
        "collapsed": false
      },
      "outputs": [],
      "source": [
        "dim = 5\ngraph = ot.Graph(\n    \"Hyperbolic enumeration. dim. = %d\" % (dim),\n    \"Total degree\",\n    \"Number of coefficients\",\n    True,\n)\ndegree_maximum = 10\nq_list = [0.2, 0.4, 0.6, 0.8, 1.0]\npoint_styles = [\"bullet\", \"circle\", \"fdiamond\", \"fsquare\", \"triangleup\"]\nfor i in range(len(q_list)):\n    q = q_list[i]\n    enum_func = ot.HyperbolicAnisotropicEnumerateFunction(dim, q)\n    number_of_coeff_array = ot.Sample(degree_maximum, 2)\n    for p in range(1, 1 + degree_maximum):\n        number_of_coeff_array[p - 1, 0] = p\n        number_of_coeff_array[p - 1, 1] = enum_func.getMaximumDegreeCardinal(p)\n    cloud = ot.Cloud(number_of_coeff_array)\n    cloud.setPointStyle(point_styles[i])\n    cloud.setLegend(f\"$q={q}$\")\n    graph.add(cloud)\ngraph.setLegendPosition(\"upper left\")\ngraph.setIntegerXTick(True)\ngraph.setLogScale(ot.GraphImplementation.LOGY)\nview = otv.View(graph, figure_kw={\"figsize\": (5, 4)})\n\n\notv.View.ShowAll()"
      ]
    },
    {
      "cell_type": "markdown",
      "metadata": {},
      "source": [
        "When the quasi-norm parameter is close to 1, then the hyperbolic rule is equal to the\nlinear enumeration rule and the number of coefficients is larger.\n\nIn practice, we often test several values of the parameter q, in the [0.5, 0.9] range,\nfor example $q \\in \\{0.5, 0.6, 0.7, 0.8, 0.9\\}$.\n\n"
      ]
    },
    {
      "cell_type": "markdown",
      "metadata": {},
      "source": [
        "Reset default settings\n\n"
      ]
    },
    {
      "cell_type": "code",
      "execution_count": null,
      "metadata": {
        "collapsed": false
      },
      "outputs": [],
      "source": [
        "ot.ResourceMap.Reload()"
      ]
    }
  ],
  "metadata": {
    "kernelspec": {
      "display_name": "Python 3",
      "language": "python",
      "name": "python3"
    },
    "language_info": {
      "codemirror_mode": {
        "name": "ipython",
        "version": 3
      },
      "file_extension": ".py",
      "mimetype": "text/x-python",
      "name": "python",
      "nbconvert_exporter": "python",
      "pygments_lexer": "ipython3",
      "version": "3.12.5"
    }
  },
  "nbformat": 4,
  "nbformat_minor": 0
}