{
  "cells": [
    {
      "cell_type": "markdown",
      "metadata": {},
      "source": [
        "\n# Compare the distribution of quantile estimators\n"
      ]
    },
    {
      "cell_type": "markdown",
      "metadata": {},
      "source": [
        "In this example, we consider the quantile of level $\\alpha$ of a distribution\n$X$. The objective is to estimate some confidence intervals based on order statistics\nthat bound the quantile\n$x_{\\alpha}$ with a given confidence $\\beta \\in [0,1]$.\n\nWe define three quantile estimators which are all defined as particular order statistics:\n\n- the empirical estimator of $x_{\\alpha}$,\n- the estimator of an upper bound of $x_{\\alpha}$ with confidence $\\beta$,\n- the estimator of an lower bound of $x_{\\alpha}$ with confidence $\\beta$.\n\nWe draw the distribution of each estimator.\n\nIn this example, we consider the quantile of level $\\alpha = 95\\%$,\nwith a confidence level $\\beta = 90\\%$.\n\nSee  `quantile_confidence_estimation` and `quantile_asymptotic_confidence_estimation` to get theoretical details.\n\n"
      ]
    },
    {
      "cell_type": "code",
      "execution_count": null,
      "metadata": {
        "collapsed": false
      },
      "outputs": [],
      "source": [
        "import openturns as ot\nimport openturns.experimental as otexp\nimport openturns.viewer as otv"
      ]
    },
    {
      "cell_type": "markdown",
      "metadata": {},
      "source": [
        "We consider a scalar random variable $X$. Its distribution has no importance but is assumed to have\na density.\n\n"
      ]
    },
    {
      "cell_type": "code",
      "execution_count": null,
      "metadata": {
        "collapsed": false
      },
      "outputs": [],
      "source": [
        "X_dist = ot.Normal(0, 1)"
      ]
    },
    {
      "cell_type": "markdown",
      "metadata": {},
      "source": [
        "We define the level $\\alpha$ of the quantile and the confidence level $\\beta$.\n\n"
      ]
    },
    {
      "cell_type": "code",
      "execution_count": null,
      "metadata": {
        "collapsed": false
      },
      "outputs": [],
      "source": [
        "alpha = 0.95\nbeta = 0.90"
      ]
    },
    {
      "cell_type": "markdown",
      "metadata": {},
      "source": [
        "The exact value of $x_{\\alpha}$ is known. We compute it in order to compare the\nestimators to the exact value.\n\n"
      ]
    },
    {
      "cell_type": "code",
      "execution_count": null,
      "metadata": {
        "collapsed": false
      },
      "outputs": [],
      "source": [
        "x_alpha_exact = X_dist.computeQuantile(alpha)[0]\nprint('Exact quantile = ', x_alpha_exact)"
      ]
    },
    {
      "cell_type": "markdown",
      "metadata": {},
      "source": [
        "We generate a sample of the variable.\n\n"
      ]
    },
    {
      "cell_type": "code",
      "execution_count": null,
      "metadata": {
        "collapsed": false
      },
      "outputs": [],
      "source": [
        "n = 501\nX_sample = X_dist.getSample(n)"
      ]
    },
    {
      "cell_type": "markdown",
      "metadata": {},
      "source": [
        "Now, we assume to know $X$ only through the generated sample.\n\nThe empirical estimator of $x_{\\alpha}$ is defined by the\n$k_{emp}$ -th order statistics, denoted\nby $X_{(k_{emp})}$,\nwhere $k_{emp} = (\\lceil \\sampleSize \\alpha \\rceil) -1$. The numerotation\n$\\lceil x \\rceil$ designs the smallest integer value that is greater\nthan or equal to $x$ (we subtract 1 because python numbering starts at 0).\nThe value of this order statistics is computed on the sample.\n\n"
      ]
    },
    {
      "cell_type": "code",
      "execution_count": null,
      "metadata": {
        "collapsed": false
      },
      "outputs": [],
      "source": [
        "k_emp = int(n * alpha)\nempiricalQuantile = X_sample.computeQuantile(alpha)\nprint('Empirical quantile = ', empiricalQuantile)\nprint('Empirical order statistics = ', k_emp)"
      ]
    },
    {
      "cell_type": "markdown",
      "metadata": {},
      "source": [
        "Now, we want to get the exact unilateral confidence interval that provides an upper bound of $x_{\\alpha}$ with the confidence\n$\\beta$, which means that $\\Prob{X_{(k_{up})} \\geq x_{\\alpha}} \\geq \\beta$.\nThis can be done using :class:`~openturns.experimental.QuantileConfidence`.\nWe can get the order $k_{up}$ of the useful statistics. Care that the enumeration begins at 0.\n\n"
      ]
    },
    {
      "cell_type": "code",
      "execution_count": null,
      "metadata": {
        "collapsed": false
      },
      "outputs": [],
      "source": [
        "quantConf = otexp.QuantileConfidence(alpha, beta)\nk_up = quantConf.computeUnilateralRank(n)"
      ]
    },
    {
      "cell_type": "markdown",
      "metadata": {},
      "source": [
        "We can directly get the order statistics $X_{(k_{up})}$ evaluated on the sample.\n\n"
      ]
    },
    {
      "cell_type": "code",
      "execution_count": null,
      "metadata": {
        "collapsed": false
      },
      "outputs": [],
      "source": [
        "upper_bound = quantConf.computeUnilateralConfidenceInterval(X_sample)\nprint('Upper bound of the quantile = ', upper_bound)\nprint('Upper bound order statistics = ', k_up)"
      ]
    },
    {
      "cell_type": "markdown",
      "metadata": {},
      "source": [
        "To get the exact unilateral confidence interval that provides a lower bound of $x_{\\alpha}$ with the confidence\n$\\beta$, which means that $\\Prob{X_{(k_{low})} \\leq x_{\\alpha}} \\geq \\beta$.\nThis can also be done using :class:`~openturns.experimental.QuantileConfidence`.\nWe can get the order $k_{low}$ of the useful statistics. Care: the enumeration begins at 0 here!\n\n"
      ]
    },
    {
      "cell_type": "code",
      "execution_count": null,
      "metadata": {
        "collapsed": false
      },
      "outputs": [],
      "source": [
        "k_low = quantConf.computeUnilateralRank(n, True)"
      ]
    },
    {
      "cell_type": "markdown",
      "metadata": {},
      "source": [
        "We can directly get the order statistics $X_{(k_{low})}$ evaluated on the sample.\n\n"
      ]
    },
    {
      "cell_type": "code",
      "execution_count": null,
      "metadata": {
        "collapsed": false
      },
      "outputs": [],
      "source": [
        "lower_bound = quantConf.computeUnilateralConfidenceInterval(X_sample, True)\nprint('Lower bound of the quantile = ', lower_bound)\nprint('Lower bound order statistics = ', k_low)"
      ]
    },
    {
      "cell_type": "markdown",
      "metadata": {},
      "source": [
        "In order to draw the distribution of any order statistics of $X$, we first create the distribution\nof the $\\sampleSize$ order statistics of $X$, denoted by $\\vect{X}_{(0:\\sampleSize-1)} = (X_{(0)},\\dots,X_{(\\sampleSize-1)})$.\nThis distribution as the following cumulative distribution function:\n\n\\begin{align}F_{\\vect{X}_{(0:\\sampleSize-1)}}(\\vect{x}) = F_{\\vect{U}_{(0:\\sampleSize-1)}}(F(x_1), \\dots, F(x_{\\sampleSize}-1))\\end{align}\n\n\nand its PDF (if defined) by:\n\n\\begin{align}f_{\\vect{X}_{(0:\\sampleSize-1)}}(\\vect{x}) = \\sampleSize!\\prod_{i=0}^{\\sampleSize-1} f(x_i) \\,\\mathbf{1}_{\\cS}(\\vect{x})\\end{align}\n\nwhere $F$ and $f$ are respectively the cumulative distribution function and\nprobability density function of $X$ and $\\cS \\subset \\Rset^\\sampleSize$ is defined by:\n\n\\begin{align}\\cS=\\left\\{(x_0, \\dots, x_{\\sampleSize-1}) \\in [0,1]^\\sampleSize\\,|\\,0 \\leq x_0 \\leq \\dots \\leq x_{\\sampleSize-1} \\leq 1 \\right\\}.\\end{align}\n\nThus $\\vect{X}_{(0:\\sampleSize-1)}$ is defined as the joint distribution which marginals are all distributed\nas $X$ and which core is the order statistics distribution of the Uniform(0,1) distribution.\nThe  order statistics distribution of the Uniform(0,1) is created using the class\n:class:`~openturns.UniformOrderStatistics` which only requires to define the dimension of the\norder statistics distribution.\n\n"
      ]
    },
    {
      "cell_type": "code",
      "execution_count": null,
      "metadata": {
        "collapsed": false
      },
      "outputs": [],
      "source": [
        "unif_orderStat = ot.UniformOrderStatistics(n)\nnormal_orderStat = ot.JointDistribution([X_dist] * n, unif_orderStat)"
      ]
    },
    {
      "cell_type": "markdown",
      "metadata": {},
      "source": [
        "Thus, the order statistics $X_{(k_{emp})}$, $X_{(k_{low})}$ and $X_{(k_{up})}$ are the marginals\n$k_{emp}$, $k_{low}$ and $k_{up}$ of $\\vect{X}_{(0:\\sampleSize-1)}$.\n\n"
      ]
    },
    {
      "cell_type": "code",
      "execution_count": null,
      "metadata": {
        "collapsed": false
      },
      "outputs": [],
      "source": [
        "X_emp = normal_orderStat.getMarginal(k_emp)\nX_up = normal_orderStat.getMarginal(k_up)\nX_low = normal_orderStat.getMarginal(k_low)"
      ]
    },
    {
      "cell_type": "markdown",
      "metadata": {},
      "source": [
        "Now we can draw the pdf.\n\n"
      ]
    },
    {
      "cell_type": "code",
      "execution_count": null,
      "metadata": {
        "collapsed": false
      },
      "outputs": [],
      "source": [
        "xMin = x_alpha_exact - 0.5\nxMax = x_alpha_exact + 1\nnPoints = 1001\ng = X_emp.drawPDF(xMin, xMax, nPoints)\ng.add(X_up.drawPDF(xMin, xMax, nPoints))\ng.add(X_low.drawPDF(xMin, xMax, nPoints))"
      ]
    },
    {
      "cell_type": "markdown",
      "metadata": {},
      "source": [
        "We add the exact quantile.\n\n"
      ]
    },
    {
      "cell_type": "code",
      "execution_count": null,
      "metadata": {
        "collapsed": false
      },
      "outputs": [],
      "source": [
        "line_exactQuant = ot.Curve([[x_alpha_exact, 0.0], [x_alpha_exact, X_emp.computePDF([x_alpha_exact])]])\nline_exactQuant.setLineStyle('dashed')\nline_exactQuant.setLineWidth(2)\nline_exactQuant.setColor('red')\ng.add(line_exactQuant)"
      ]
    },
    {
      "cell_type": "markdown",
      "metadata": {},
      "source": [
        "Before viewing the graph, we want to fill the area that corresponds to the events:\n\n\\begin{align}\\left \\{ X_{(k_{up})} \\leq x_{\\alpha} \\right \\} \\\\\n    \\left \\{ X_{(k_{low})} \\geq x_{\\alpha} \\right \\}\\end{align}\n\nEach event has the probability $1- \\beta$.\n\nTo do that, we define a function that returns a sample created from a regular grid from xmin to xmax with npoints points.\n\n"
      ]
    },
    {
      "cell_type": "code",
      "execution_count": null,
      "metadata": {
        "collapsed": false
      },
      "outputs": [],
      "source": [
        "def linearSample(xmin, xmax, npoints):\n    step = (xmax - xmin) / (npoints - 1)\n    rg = ot.RegularGrid(xmin, step, npoints)\n    vertices = rg.getVertices()\n    return vertices"
      ]
    },
    {
      "cell_type": "markdown",
      "metadata": {},
      "source": [
        "Then we use it to define some :class:`~openturns.Polygon` that will be filled. These polygons\ndefine the area under the pdf line. Thus, the lower vertical bound is 0 and the upper vertical bound is the PDF line.\n\nFirst the area for the upper bound.\n\n"
      ]
    },
    {
      "cell_type": "code",
      "execution_count": null,
      "metadata": {
        "collapsed": false
      },
      "outputs": [],
      "source": [
        "nplot = 100\nx_list = linearSample(xMin, x_alpha_exact, nplot)\ny_list = X_up.computePDF(x_list)\nvLow = [0.0] * nplot\nvUp = [y_list[i, 0] for i in range(nplot)]\nboundsPoly_upper = ot.Polygon.FillBetween(x_list.asPoint(), vLow, vUp)\nboundsPoly_upper.setColor(g.getColors()[1])\ng.add(boundsPoly_upper)"
      ]
    },
    {
      "cell_type": "markdown",
      "metadata": {},
      "source": [
        "Then the area for the lower bound.\n\n"
      ]
    },
    {
      "cell_type": "code",
      "execution_count": null,
      "metadata": {
        "collapsed": false
      },
      "outputs": [],
      "source": [
        "nplot = 100\nx_list = linearSample(x_alpha_exact, xMax, nplot)\ny_list = X_low.computePDF(x_list)\nvLow = [0.0] * nplot\nvUp = [y_list[i, 0] for i in range(nplot)]\nboundsPoly_lower = ot.Polygon.FillBetween(x_list.asPoint(), vLow, vUp)\nboundsPoly_lower.setColor(g.getColors()[2])\ng.add(boundsPoly_lower)"
      ]
    },
    {
      "cell_type": "code",
      "execution_count": null,
      "metadata": {
        "collapsed": false
      },
      "outputs": [],
      "source": [
        "g.setLegends([r'$X_{emp}$', r'$X_{up} (\\beta = $' + str(beta) + ')', r'$X_{low} (\\beta = $' + str(beta) + ')', 'exact quantile'])\ng.setLegendPosition('topright')"
      ]
    },
    {
      "cell_type": "code",
      "execution_count": null,
      "metadata": {
        "collapsed": false
      },
      "outputs": [],
      "source": [
        "g.setTitle('Quantile estimation and confidence intervals')\ng.setXTitle('x')\nview = otv.View(g)"
      ]
    },
    {
      "cell_type": "markdown",
      "metadata": {},
      "source": [
        "Display all the graphs.\n\n"
      ]
    },
    {
      "cell_type": "code",
      "execution_count": null,
      "metadata": {
        "collapsed": false
      },
      "outputs": [],
      "source": [
        "otv.View.ShowAll()"
      ]
    },
    {
      "cell_type": "markdown",
      "metadata": {},
      "source": [
        "Now we can conclude that:\n\n * the empirical estimator is centered on the true quantile,\n * the $X_{(k_{up})}$ estimator has a probability $\\beta$ to be above the true quantile,\n * the $X_{(k_{low})}$ estimator has a probability $\\beta$ to be under the true quantile.\n\n\n"
      ]
    }
  ],
  "metadata": {
    "kernelspec": {
      "display_name": "Python 3",
      "language": "python",
      "name": "python3"
    },
    "language_info": {
      "codemirror_mode": {
        "name": "ipython",
        "version": 3
      },
      "file_extension": ".py",
      "mimetype": "text/x-python",
      "name": "python",
      "nbconvert_exporter": "python",
      "pygments_lexer": "ipython3",
      "version": "3.13.7"
    }
  },
  "nbformat": 4,
  "nbformat_minor": 0
}