{
  "cells": [
    {
      "cell_type": "code",
      "execution_count": null,
      "metadata": {
        "collapsed": false
      },
      "outputs": [],
      "source": [
        "%matplotlib inline"
      ]
    },
    {
      "cell_type": "markdown",
      "metadata": {},
      "source": [
        "\n# Estimate a flooding probability\n"
      ]
    },
    {
      "cell_type": "markdown",
      "metadata": {},
      "source": [
        "In this example, we estimate the probability that the ouput of a function exceeds a given threshold with the FORM method. We consider the flooding model.\n\n"
      ]
    },
    {
      "cell_type": "markdown",
      "metadata": {},
      "source": [
        "## Introduction\n\nThe following figure presents a dyke protecting industrial facilities. When the river level exceeds the dyke height, flooding occurs. The model is based on a crude simplification of the 1D hydrodynamical equations of Saint-Venant under the assumptions of uniform and constant flow rate and large rectangular sections.\n\n![Flooding section](flooding_section.png)\n\nFour independent random variables are considered:\n\n - $Q$: flow rate [m^3 s^-1]\n - $K_s$: Strickler [m^1/3 s^-1]\n - $Z_v$: downstream height [m]\n - $Z_m$: upstream height [m]\n\nWhen the Strickler coefficient increases, the riverbed generates less friction. \n\nThe model depends on four parameters:\n\n* the height of the dyke: $H_d = 3$ [m],\n* the altitude of the river banks: $Z_b = 55.5$ [m],\n* the river length: $L = 5000$ [m],\n* the river width: $B = 300$ [m].\n\nThe altitude of the dyke is:\n\n\\begin{align}Z_d = Z_b + H_d\\end{align}\n\n\nThe slope $\\alpha$ of the river is assumed to be close to zero, which implies:\n\n\\begin{align}\\alpha = \\frac{Z_m - Z_v}{L},\\end{align}\n\n\nif $Z_m \\geq Z_v$. \n\nThe water depth is:\n\n\\begin{align}H = \\left(\\frac{Q}{K_s B \\sqrt{\\alpha}}\\right)^{0.6},\\end{align}\n\n\nfor any $K_s, Q>0$.\n\nThe flood altitude is:\n\n\\begin{align}Z_c = H + Z_v.\\end{align}\n\n\nThe altitude of the surface of the water is greater than the altitude of the top of the dyke (i.e. there is a flood) if:\n\n\\begin{align}S = Z_c - Z_d\\end{align}\n\n\nis greater than zero.\n\nThe following figure presents the model with more details. \n\n![Flooding section details](flooding_section_detail.png)\n\nIf we substitute the parameters into the equation, we get:\n\n\\begin{align}S = \\left(\\frac{Q}{300 Ks \\sqrt{(Zm-Zv)/5000}}\\right)^{3/5} +Zv-58.5.\\end{align}\n\n\nWe assume that the four inputs have the following distributions:\n\n - $Q$ ~ Gumbel(mode=1013, scale=558), $Q$ > 0\n - $K_s$ ~ Normal(mu=30.0, sigma=7.5), $K_s$ > 0\n - $Z_v$ ~ Uniform(a=49, b=51)\n - $Z_m$ ~ Uniform(a=54, b=56)\n\nMoreover, we assume that the input random variables are independent.\n\nWe want to estimate the flood probability:\n\n\\begin{align}P_f = P(S>0).\\end{align}\n\n\n"
      ]
    },
    {
      "cell_type": "markdown",
      "metadata": {},
      "source": [
        "## References\n\n* Iooss B, Lema\u00eetre P (2015) A review on global sensitivity analysis methods. In: Meloni C., Dellino G. (eds) Uncertainty management in Simulation-Optimization of Complex Systems: Algorithmsand Applications, Springer\n* Baudin M., Dutfoy A., Iooss B., Popelin AL. (2015) OpenTURNS: An Industrial Software for Uncertainty Quantification in Simulation. In: Ghanem R., Higdon D., Owhadi H. (eds) Handbook of Uncertainty Quantification. Springer\n\n"
      ]
    },
    {
      "cell_type": "markdown",
      "metadata": {},
      "source": [
        "## Define the model\n\n"
      ]
    },
    {
      "cell_type": "code",
      "execution_count": null,
      "metadata": {
        "collapsed": false
      },
      "outputs": [],
      "source": [
        "from __future__ import print_function\nimport openturns as ot\nimport openturns.viewer as viewer\nfrom matplotlib import pylab as plt\not.Log.Show(ot.Log.NONE)"
      ]
    },
    {
      "cell_type": "markdown",
      "metadata": {},
      "source": [
        "Create the marginal distributions of the parameters. \n\n"
      ]
    },
    {
      "cell_type": "code",
      "execution_count": null,
      "metadata": {
        "collapsed": false
      },
      "outputs": [],
      "source": [
        "dist_Q = ot.TruncatedDistribution(ot.Gumbel(558., 1013.), 0, ot.TruncatedDistribution.LOWER)\ndist_Ks = ot.TruncatedDistribution(ot.Normal(30.0, 7.5), 0, ot.TruncatedDistribution.LOWER)\ndist_Zv = ot.Uniform(49.0, 51.0)\ndist_Zm = ot.Uniform(54.0, 56.0)\nmarginals = [dist_Q, dist_Ks, dist_Zv, dist_Zm]"
      ]
    },
    {
      "cell_type": "markdown",
      "metadata": {},
      "source": [
        "Create the joint probability distribution. \n\n"
      ]
    },
    {
      "cell_type": "code",
      "execution_count": null,
      "metadata": {
        "collapsed": false
      },
      "outputs": [],
      "source": [
        "distribution = ot.ComposedDistribution(marginals)\ndistribution.setDescription(['Q', 'Ks', 'Zv', 'Zm'])"
      ]
    },
    {
      "cell_type": "markdown",
      "metadata": {},
      "source": [
        "Create the model. \n\n"
      ]
    },
    {
      "cell_type": "code",
      "execution_count": null,
      "metadata": {
        "collapsed": false
      },
      "outputs": [],
      "source": [
        "model = ot.SymbolicFunction(['Q', 'Ks', 'Zv', 'Zm'],\n                            ['(Q/(Ks*300.*sqrt((Zm-Zv)/5000)))^(3.0/5.0)+Zv-58.5'])"
      ]
    },
    {
      "cell_type": "markdown",
      "metadata": {},
      "source": [
        "## Define the event\n\n"
      ]
    },
    {
      "cell_type": "markdown",
      "metadata": {},
      "source": [
        "Then we create the event whose probability we want to estimate.\n\n"
      ]
    },
    {
      "cell_type": "code",
      "execution_count": null,
      "metadata": {
        "collapsed": false
      },
      "outputs": [],
      "source": [
        "vect = ot.RandomVector(distribution)\nG = ot.CompositeRandomVector(model, vect)\nevent = ot.ThresholdEvent(G, ot.Greater(), 0.0)\nevent.setName('overflow')"
      ]
    },
    {
      "cell_type": "markdown",
      "metadata": {},
      "source": [
        "## Estimate the probability with FORM\n\n"
      ]
    },
    {
      "cell_type": "markdown",
      "metadata": {},
      "source": [
        "Define a solver. \n\n"
      ]
    },
    {
      "cell_type": "code",
      "execution_count": null,
      "metadata": {
        "collapsed": false
      },
      "outputs": [],
      "source": [
        "optimAlgo = ot.Cobyla()\noptimAlgo.setMaximumEvaluationNumber(1000)\noptimAlgo.setMaximumAbsoluteError(1.0e-10)\noptimAlgo.setMaximumRelativeError(1.0e-10)\noptimAlgo.setMaximumResidualError(1.0e-10)\noptimAlgo.setMaximumConstraintError(1.0e-10)"
      ]
    },
    {
      "cell_type": "markdown",
      "metadata": {},
      "source": [
        "Run FORM. \n\n"
      ]
    },
    {
      "cell_type": "code",
      "execution_count": null,
      "metadata": {
        "collapsed": false
      },
      "outputs": [],
      "source": [
        "startingPoint = distribution.getMean()\nalgo = ot.FORM(optimAlgo, event, startingPoint)\nalgo.run()\nresult = algo.getResult()\nstandardSpaceDesignPoint = result.getStandardSpaceDesignPoint()"
      ]
    },
    {
      "cell_type": "markdown",
      "metadata": {},
      "source": [
        "Retrieve results. \n\n"
      ]
    },
    {
      "cell_type": "code",
      "execution_count": null,
      "metadata": {
        "collapsed": false
      },
      "outputs": [],
      "source": [
        "result = algo.getResult()\nprobability = result.getEventProbability()\nprint('Pf=', probability)"
      ]
    },
    {
      "cell_type": "markdown",
      "metadata": {},
      "source": [
        "Importance factors. \n\n"
      ]
    },
    {
      "cell_type": "code",
      "execution_count": null,
      "metadata": {
        "collapsed": false
      },
      "outputs": [],
      "source": [
        "result.drawImportanceFactors()"
      ]
    }
  ],
  "metadata": {
    "kernelspec": {
      "display_name": "Python 3",
      "language": "python",
      "name": "python3"
    },
    "language_info": {
      "codemirror_mode": {
        "name": "ipython",
        "version": 3
      },
      "file_extension": ".py",
      "mimetype": "text/x-python",
      "name": "python",
      "nbconvert_exporter": "python",
      "pygments_lexer": "ipython3",
      "version": "3.8.6"
    }
  },
  "nbformat": 4,
  "nbformat_minor": 0
}