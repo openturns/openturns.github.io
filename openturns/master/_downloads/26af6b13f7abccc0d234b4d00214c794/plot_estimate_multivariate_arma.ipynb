{
  "cells": [
    {
      "cell_type": "markdown",
      "metadata": {},
      "source": [
        "\n# Estimate a multivariate ARMA process\n"
      ]
    },
    {
      "cell_type": "markdown",
      "metadata": {},
      "source": [
        "The objective of the Use Case is to estimate a multivariate ARMA model\nfrom a stationary time series using the maximum likelihood estimator\nand a centered normal white noise.\nThe data can be a unique time series or several time series collected\nin a process sample.\n\nWe estimate $(\\underline{\\beta}, \\sigma^2)$ thanks to the\nclass:`~openturns.ARMALikelihoodFactory` object and its method *build*, acting on a\ntime series or on a sample of time series. It produces a result of\ntype *ARMA*.\nNote that no evaluation of selection criteria such as *AIC* and *BIC*\nis done.\n\nThe synthetic data is generated from the 2-d ARMA model:\n\n\\begin{align}\\begin{aligned}\n   X_{0,t} - 0.5 X_{0,t-1} - 0.1 X_{1,t-1} = E_{0,t} - 0.4 E_{0,t-1} \\\\\n   X_{1,t} - 0.4 X_{0,t-1} - 0.5 X_{1,t-1} - 0.25 X_{0,t-2} = E_{1,t} - 0.4 E_{1,t-1}\n   \\end{aligned}\\end{align}\n\nwith E the white noise:\n\n\\begin{align}E \\sim \\mathcal{N} ([0,0], [0.1,0.2])\\end{align}\n\n\n"
      ]
    },
    {
      "cell_type": "code",
      "execution_count": null,
      "metadata": {
        "collapsed": false
      },
      "outputs": [],
      "source": [
        "import openturns as ot\n\not.Log.Show(ot.Log.NONE)"
      ]
    },
    {
      "cell_type": "markdown",
      "metadata": {},
      "source": [
        "Create a 2-d ARMA process\n\n"
      ]
    },
    {
      "cell_type": "code",
      "execution_count": null,
      "metadata": {
        "collapsed": false
      },
      "outputs": [],
      "source": [
        "p = 2\nq = 1\ndim = 2\n\n# Tmin , Tmax and N points for TimeGrid\ndt = 1.0\nsize = 400\ntimeGrid = ot.RegularGrid(0.0, dt, size)\n\n# white noise\ncov = ot.CovarianceMatrix([[0.1, 0.0], [0.0, 0.2]])\nwhiteNoise = ot.WhiteNoise(ot.Normal([0.0] * dim, cov), timeGrid)\n\n# AR/MA coefficients\nar = ot.ARMACoefficients(p, dim)\nar[0] = ot.SquareMatrix([[-0.5, -0.1], [-0.4, -0.5]])\nar[1] = ot.SquareMatrix([[0.0, 0.0], [-0.25, 0.0]])\n\nma = ot.ARMACoefficients(q, dim)\nma[0] = ot.SquareMatrix([[-0.4, 0.0], [0.0, -0.4]])\n\n# ARMA model creation\narma = ot.ARMA(ar, ma, whiteNoise)\narma"
      ]
    },
    {
      "cell_type": "markdown",
      "metadata": {},
      "source": [
        "Create a realization\n\n"
      ]
    },
    {
      "cell_type": "code",
      "execution_count": null,
      "metadata": {
        "collapsed": false
      },
      "outputs": [],
      "source": [
        "timeSeries = ot.TimeSeries(arma.getRealization())"
      ]
    },
    {
      "cell_type": "markdown",
      "metadata": {},
      "source": [
        "Estimate the process from the previous realization\n\n"
      ]
    },
    {
      "cell_type": "code",
      "execution_count": null,
      "metadata": {
        "collapsed": false
      },
      "outputs": [],
      "source": [
        "factory = ot.ARMALikelihoodFactory(p, q, dim)\nfactory.setInitialConditions(ar, ma, cov)\n\narma_est = ot.ARMA(factory.build(timeSeries))\nprint(\"Estimated ARMA= \", arma_est)"
      ]
    }
  ],
  "metadata": {
    "kernelspec": {
      "display_name": "Python 3",
      "language": "python",
      "name": "python3"
    },
    "language_info": {
      "codemirror_mode": {
        "name": "ipython",
        "version": 3
      },
      "file_extension": ".py",
      "mimetype": "text/x-python",
      "name": "python",
      "nbconvert_exporter": "python",
      "pygments_lexer": "ipython3",
      "version": "3.12.6"
    }
  },
  "nbformat": 4,
  "nbformat_minor": 0
}