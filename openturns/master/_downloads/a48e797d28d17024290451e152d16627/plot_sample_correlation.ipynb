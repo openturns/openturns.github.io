{
  "cells": [
    {
      "cell_type": "markdown",
      "metadata": {},
      "source": [
        "\n# Estimate correlation coefficients\n"
      ]
    },
    {
      "cell_type": "markdown",
      "metadata": {},
      "source": [
        "In this example we are going to estimate the correlation between an output sample Y and the corresponding inputs using various estimators:\n\n- Pearson coefficients\n- Spearman coefficients\n- PCC: Partial Correlation Coefficients\n- PRCC: Partial Rank Correlation Coefficient\n- SRC: Standard Regression Coefficients\n- SRRC: Standard Rank Regression Coefficient\n\n"
      ]
    },
    {
      "cell_type": "code",
      "execution_count": null,
      "metadata": {
        "collapsed": false
      },
      "outputs": [],
      "source": [
        "from openturns.usecases import ishigami_function\nimport openturns as ot\nimport openturns.viewer as viewer\nfrom matplotlib import pylab as plt\n\not.Log.Show(ot.Log.NONE)"
      ]
    },
    {
      "cell_type": "markdown",
      "metadata": {},
      "source": [
        "To illustrate the usage of the method mentioned above, we define a set of X/Y data using the `Ishigami model <use-case-ishigami>`.\nThis classical model is defined in a data class:\n\n"
      ]
    },
    {
      "cell_type": "code",
      "execution_count": null,
      "metadata": {
        "collapsed": false
      },
      "outputs": [],
      "source": [
        "im = ishigami_function.IshigamiModel()"
      ]
    },
    {
      "cell_type": "markdown",
      "metadata": {},
      "source": [
        "Create X/Y data\nWe get the input variables description :\n\n"
      ]
    },
    {
      "cell_type": "code",
      "execution_count": null,
      "metadata": {
        "collapsed": false
      },
      "outputs": [],
      "source": [
        "input_names = im.distributionX.getDescription()\n\nsize = 100\ninputDesign = ot.SobolIndicesExperiment(im.distributionX, size, True).generate()\noutputDesign = im.model(inputDesign)"
      ]
    },
    {
      "cell_type": "markdown",
      "metadata": {},
      "source": [
        "Create a :class:`~openturns.CorrelationAnalysis` object to compute various estimates\nof the correlation between the inputs and the output.\n\n"
      ]
    },
    {
      "cell_type": "code",
      "execution_count": null,
      "metadata": {
        "collapsed": false
      },
      "outputs": [],
      "source": [
        "corr_analysis = ot.CorrelationAnalysis(inputDesign, outputDesign)"
      ]
    },
    {
      "cell_type": "markdown",
      "metadata": {},
      "source": [
        "## PCC coefficients\n\n"
      ]
    },
    {
      "cell_type": "code",
      "execution_count": null,
      "metadata": {
        "collapsed": false
      },
      "outputs": [],
      "source": [
        "pcc_indices = corr_analysis.computePCC()\nprint(pcc_indices)"
      ]
    },
    {
      "cell_type": "code",
      "execution_count": null,
      "metadata": {
        "collapsed": false
      },
      "outputs": [],
      "source": [
        "graph = ot.SobolIndicesAlgorithm.DrawCorrelationCoefficients(\n    pcc_indices, input_names, \"PCC coefficients\"\n)\nview = viewer.View(graph)"
      ]
    },
    {
      "cell_type": "markdown",
      "metadata": {},
      "source": [
        "## PRCC coefficients\n\n"
      ]
    },
    {
      "cell_type": "code",
      "execution_count": null,
      "metadata": {
        "collapsed": false
      },
      "outputs": [],
      "source": [
        "prcc_indices = corr_analysis.computePRCC()\nprint(prcc_indices)"
      ]
    },
    {
      "cell_type": "code",
      "execution_count": null,
      "metadata": {
        "collapsed": false
      },
      "outputs": [],
      "source": [
        "graph = ot.SobolIndicesAlgorithm.DrawCorrelationCoefficients(\n    prcc_indices, input_names, \"PRCC coefficients\"\n)\nview = viewer.View(graph)"
      ]
    },
    {
      "cell_type": "markdown",
      "metadata": {},
      "source": [
        "## SRC coefficients\n\n"
      ]
    },
    {
      "cell_type": "code",
      "execution_count": null,
      "metadata": {
        "collapsed": false
      },
      "outputs": [],
      "source": [
        "src_indices = corr_analysis.computeSRC()\nprint(src_indices)"
      ]
    },
    {
      "cell_type": "code",
      "execution_count": null,
      "metadata": {
        "collapsed": false
      },
      "outputs": [],
      "source": [
        "graph = ot.SobolIndicesAlgorithm.DrawCorrelationCoefficients(\n    src_indices, input_names, \"SRC coefficients\"\n)\nview = viewer.View(graph)"
      ]
    },
    {
      "cell_type": "markdown",
      "metadata": {},
      "source": [
        "Normalized squared SRC coefficients (coefficients are made to sum to 1) :\n\n"
      ]
    },
    {
      "cell_type": "code",
      "execution_count": null,
      "metadata": {
        "collapsed": false
      },
      "outputs": [],
      "source": [
        "squared_src_indices = corr_analysis.computeSquaredSRC(True)\nprint(squared_src_indices)"
      ]
    },
    {
      "cell_type": "code",
      "execution_count": null,
      "metadata": {
        "collapsed": false
      },
      "outputs": [],
      "source": [
        "graph = ot.SobolIndicesAlgorithm.DrawCorrelationCoefficients(\n    squared_src_indices, input_names, \"Squared SRC coefficients\"\n)\nview = viewer.View(graph)"
      ]
    },
    {
      "cell_type": "markdown",
      "metadata": {},
      "source": [
        "## SRRC coefficients\n\n"
      ]
    },
    {
      "cell_type": "code",
      "execution_count": null,
      "metadata": {
        "collapsed": false
      },
      "outputs": [],
      "source": [
        "srrc_indices = corr_analysis.computeSRRC()\nprint(srrc_indices)"
      ]
    },
    {
      "cell_type": "code",
      "execution_count": null,
      "metadata": {
        "collapsed": false
      },
      "outputs": [],
      "source": [
        "graph = ot.SobolIndicesAlgorithm.DrawCorrelationCoefficients(\n    srrc_indices, input_names, \"SRRC coefficients\"\n)\nview = viewer.View(graph)"
      ]
    },
    {
      "cell_type": "markdown",
      "metadata": {},
      "source": [
        "## Pearson coefficients\nWe compute here the Pearson $\\rho$ coefficients.\n\n"
      ]
    },
    {
      "cell_type": "code",
      "execution_count": null,
      "metadata": {
        "collapsed": false
      },
      "outputs": [],
      "source": [
        "pearson_correlation = corr_analysis.computeLinearCorrelation()\nprint(pearson_correlation)"
      ]
    },
    {
      "cell_type": "code",
      "execution_count": null,
      "metadata": {
        "collapsed": false
      },
      "outputs": [],
      "source": [
        "graph = ot.SobolIndicesAlgorithm.DrawCorrelationCoefficients(\n    pearson_correlation, input_names, \"Pearson correlation coefficients\"\n)\nview = viewer.View(graph)"
      ]
    },
    {
      "cell_type": "markdown",
      "metadata": {},
      "source": [
        "## Spearman coefficients\nWe compute here the Spearman $\\rho_s$ coefficients.\n\n"
      ]
    },
    {
      "cell_type": "code",
      "execution_count": null,
      "metadata": {
        "collapsed": false
      },
      "outputs": [],
      "source": [
        "spearman_correlation = corr_analysis.computeSpearmanCorrelation()\nprint(spearman_correlation)"
      ]
    },
    {
      "cell_type": "code",
      "execution_count": null,
      "metadata": {
        "collapsed": false
      },
      "outputs": [],
      "source": [
        "graph = ot.SobolIndicesAlgorithm.DrawCorrelationCoefficients(\n    spearman_correlation, input_names, \"Spearman correlation coefficients\"\n)\nview = viewer.View(graph)\nplt.show()"
      ]
    }
  ],
  "metadata": {
    "kernelspec": {
      "display_name": "Python 3",
      "language": "python",
      "name": "python3"
    },
    "language_info": {
      "codemirror_mode": {
        "name": "ipython",
        "version": 3
      },
      "file_extension": ".py",
      "mimetype": "text/x-python",
      "name": "python",
      "nbconvert_exporter": "python",
      "pygments_lexer": "ipython3",
      "version": "3.11.7"
    }
  },
  "nbformat": 4,
  "nbformat_minor": 0
}