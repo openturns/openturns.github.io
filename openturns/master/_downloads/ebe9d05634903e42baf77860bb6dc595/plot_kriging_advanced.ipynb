{
  "cells": [
    {
      "cell_type": "markdown",
      "metadata": {},
      "source": [
        "\n# Advanced kriging\n"
      ]
    },
    {
      "cell_type": "markdown",
      "metadata": {},
      "source": [
        "In this example we will build a metamodel using gaussian process regression of the $x\\sin(x)$ function.\n\nWe will choose the number of learning points, the basis and the covariance model.\n\n\n"
      ]
    },
    {
      "cell_type": "code",
      "execution_count": null,
      "metadata": {
        "collapsed": false
      },
      "outputs": [],
      "source": [
        "import openturns as ot\nfrom openturns.viewer import View\nimport numpy as np\nimport matplotlib.pyplot as plt\nimport openturns.viewer as viewer\n\not.Log.Show(ot.Log.NONE)"
      ]
    },
    {
      "cell_type": "markdown",
      "metadata": {},
      "source": [
        "## Generate design of experiment\n\nWe create training samples from the function $x\\sin(x)$. We can change their number and distribution in the $[0; 10]$ range.\nIf the `with_error` boolean is `True`, then the data is computed by adding a gaussian noise to the function values.\n\n"
      ]
    },
    {
      "cell_type": "code",
      "execution_count": null,
      "metadata": {
        "collapsed": false
      },
      "outputs": [],
      "source": [
        "dim = 1\nxmin = 0\nxmax = 10\nn_pt = 20  # number of initial points\nwith_error = True  # whether to use generation with error"
      ]
    },
    {
      "cell_type": "code",
      "execution_count": null,
      "metadata": {
        "collapsed": false
      },
      "outputs": [],
      "source": [
        "ref_func_with_error = ot.SymbolicFunction([\"x\", \"eps\"], [\"x * sin(x) + eps\"])\nref_func = ot.ParametricFunction(ref_func_with_error, [1], [0.0])\nx = np.vstack(np.linspace(xmin, xmax, n_pt))\not.RandomGenerator.SetSeed(1235)\neps = ot.Normal(0, 1.5).getSample(n_pt)\nX = ot.Sample(n_pt, 2)\nX[:, 0] = x\nX[:, 1] = eps\nif with_error:\n    y = np.array(ref_func_with_error(X))\nelse:\n    y = np.array(ref_func(x))"
      ]
    },
    {
      "cell_type": "code",
      "execution_count": null,
      "metadata": {
        "collapsed": false
      },
      "outputs": [],
      "source": [
        "graph = ref_func.draw(xmin, xmax, 200)\ncloud = ot.Cloud(x, y)\ncloud.setColor(\"red\")\ncloud.setPointStyle(\"bullet\")\ngraph.add(cloud)\ngraph.setLegends([\"Function\", \"Data\"])\ngraph.setLegendPosition(\"upper left\")\ngraph.setTitle(\"Sample size = %d\" % (n_pt))\nview = viewer.View(graph)"
      ]
    },
    {
      "cell_type": "markdown",
      "metadata": {},
      "source": [
        "## Create the kriging algorithm\n\n"
      ]
    },
    {
      "cell_type": "code",
      "execution_count": null,
      "metadata": {
        "collapsed": false
      },
      "outputs": [],
      "source": [
        "# 1. basis\not.ResourceMap.SetAsBool(\n    \"GeneralLinearModelAlgorithm-UseAnalyticalAmplitudeEstimate\", True\n)\nbasis = ot.ConstantBasisFactory(dim).build()\nprint(basis)\n\n# 2. covariance model\ncov = ot.MaternModel([1.0], [2.5], 1.5)\nprint(cov)\n\n# 3. kriging algorithm\nalgokriging = ot.KrigingAlgorithm(x, y, cov, basis)\n\n# error measure\n# algokriging.setNoise([5*1e-1]*n_pt)\n\n# 4. Optimization\n# algokriging.setOptimizationAlgorithm(ot.NLopt('GN_DIRECT'))\nlhsExperiment = ot.LHSExperiment(ot.Uniform(1e-1, 1e2), 50)\nalgokriging.setOptimizationAlgorithm(ot.MultiStart(ot.TNC(), lhsExperiment.generate()))\nalgokriging.setOptimizationBounds(ot.Interval([0.1], [1e2]))\n\n# if we choose not to optimize parameters\n# algokriging.setOptimizeParameters(False)\n\n# 5. run the algorithm\nalgokriging.run()"
      ]
    },
    {
      "cell_type": "markdown",
      "metadata": {},
      "source": [
        "## Results\n\n"
      ]
    },
    {
      "cell_type": "markdown",
      "metadata": {},
      "source": [
        "get some results\n\n"
      ]
    },
    {
      "cell_type": "code",
      "execution_count": null,
      "metadata": {
        "collapsed": false
      },
      "outputs": [],
      "source": [
        "krigingResult = algokriging.getResult()\nprint(\"residual = \", krigingResult.getResiduals())\nprint(\"R2 = \", krigingResult.getRelativeErrors())\nprint(\"Optimal scale= {}\".format(krigingResult.getCovarianceModel().getScale()))\nprint(\n    \"Optimal amplitude = {}\".format(krigingResult.getCovarianceModel().getAmplitude())\n)\nprint(\"Optimal trend coefficients = {}\".format(krigingResult.getTrendCoefficients()))"
      ]
    },
    {
      "cell_type": "markdown",
      "metadata": {},
      "source": [
        "get the metamodel\n\n"
      ]
    },
    {
      "cell_type": "code",
      "execution_count": null,
      "metadata": {
        "collapsed": false
      },
      "outputs": [],
      "source": [
        "krigingMeta = krigingResult.getMetaModel()\n\nn_pts_plot = 1000\nx_plot = np.vstack(np.linspace(xmin, xmax, n_pts_plot))\nfig, [ax1, ax2] = plt.subplots(1, 2, figsize=(12, 6))\n\n# On the left, the function\ngraph = ref_func.draw(xmin, xmax, n_pts_plot)\ngraph.setLegends([\"Function\"])\ngraphKriging = krigingMeta.draw(xmin, xmax, n_pts_plot)\ngraphKriging.setColors([\"green\"])\ngraphKriging.setLegends([\"Kriging\"])\ngraph.add(graphKriging)\ncloud = ot.Cloud(x, y)\ncloud.setColor(\"red\")\ncloud.setLegend(\"Data\")\ngraph.add(cloud)\ngraph.setLegendPosition(\"upper left\")\nView(graph, axes=[ax1])\n\n# On the right, the conditional kriging variance\ngraph = ot.Graph(\"\", \"x\", \"Conditional kriging variance\", True, \"\")\n# Sample for the data\nsample = ot.Sample(n_pt, 2)\nsample[:, 0] = x\ncloud = ot.Cloud(sample)\ncloud.setColor(\"red\")\ngraph.add(cloud)\n# Sample for the variance\nsample = ot.Sample(n_pts_plot, 2)\nsample[:, 0] = x_plot\nvariance = [[krigingResult.getConditionalCovariance(xx)[0, 0]] for xx in x_plot]\nsample[:, 1] = variance\ncurve = ot.Curve(sample)\ncurve.setColor(\"green\")\ngraph.add(curve)\nView(graph, axes=[ax2])\n\nfig.suptitle(\"Kriging result\")"
      ]
    },
    {
      "cell_type": "markdown",
      "metadata": {},
      "source": [
        "## Display the confidence interval\n\n"
      ]
    },
    {
      "cell_type": "code",
      "execution_count": null,
      "metadata": {
        "collapsed": false
      },
      "outputs": [],
      "source": [
        "level = 0.95\nquantile = ot.Normal().computeQuantile((1 - level) / 2)[0]\nborne_sup = krigingMeta(x_plot) + quantile * np.sqrt(variance)\nborne_inf = krigingMeta(x_plot) - quantile * np.sqrt(variance)\n\nfig, ax = plt.subplots(figsize=(8, 8))\nax.plot(x, y, (\"ro\"))\nax.plot(x_plot, borne_sup, \"--\", color=\"orange\", label=\"Confidence interval\")\nax.plot(x_plot, borne_inf, \"--\", color=\"orange\")\ngraph_ref_func = ref_func.draw(xmin, xmax, n_pts_plot)\ngraph_krigingMeta = krigingMeta.draw(xmin, xmax, n_pts_plot)\nfor graph in [graph_ref_func, graph_krigingMeta]:\n    graph.setTitle(\"\")\nView(graph_ref_func, axes=[ax], plot_kw={\"label\": \"$x sin(x)$\"})\nView(\n    graph_krigingMeta,\n    plot_kw={\"color\": \"green\", \"label\": \"prediction\"},\n    axes=[ax],\n)\nlegend = ax.legend()\nax.autoscale()"
      ]
    },
    {
      "cell_type": "markdown",
      "metadata": {},
      "source": [
        "## Generate conditional trajectories\n\n"
      ]
    },
    {
      "cell_type": "markdown",
      "metadata": {},
      "source": [
        "support for trajectories with training samples removed\n\n"
      ]
    },
    {
      "cell_type": "code",
      "execution_count": null,
      "metadata": {
        "collapsed": false
      },
      "outputs": [],
      "source": [
        "values = np.linspace(0, 10, 500)\nfor xx in x:\n    if len(np.argwhere(values == xx)) == 1:\n        values = np.delete(values, np.argwhere(values == xx)[0, 0])"
      ]
    },
    {
      "cell_type": "markdown",
      "metadata": {},
      "source": [
        "Conditional Gaussian process\n\n"
      ]
    },
    {
      "cell_type": "code",
      "execution_count": null,
      "metadata": {
        "collapsed": false
      },
      "outputs": [],
      "source": [
        "krv = ot.KrigingRandomVector(krigingResult, np.vstack(values))\nkrv_sample = krv.getSample(5)"
      ]
    },
    {
      "cell_type": "code",
      "execution_count": null,
      "metadata": {
        "collapsed": false
      },
      "outputs": [],
      "source": [
        "x_plot = np.vstack(np.linspace(xmin, xmax, n_pts_plot))\nfig, ax = plt.subplots(figsize=(8, 6))\nax.plot(x, y, (\"ro\"))\nfor i in range(krv_sample.getSize()):\n    if i == 0:\n        ax.plot(\n            values, krv_sample[i, :], \"--\", alpha=0.8, label=\"Conditional trajectories\"\n        )\n    else:\n        ax.plot(values, krv_sample[i, :], \"--\", alpha=0.8)\nView(\n    graph_ref_func,\n    axes=[ax],\n    plot_kw={\"color\": \"black\", \"label\": \"$x*sin(x)$\"},\n)\nView(\n    graph_krigingMeta,\n    axes=[ax],\n    plot_kw={\"color\": \"green\", \"label\": \"prediction\"},\n)\nlegend = ax.legend()\nax.autoscale()"
      ]
    },
    {
      "cell_type": "markdown",
      "metadata": {},
      "source": [
        "## Validation\n\n"
      ]
    },
    {
      "cell_type": "code",
      "execution_count": null,
      "metadata": {
        "collapsed": false
      },
      "outputs": [],
      "source": [
        "n_valid = 10\nx_valid = ot.Uniform(xmin, xmax).getSample(n_valid)\nX_valid = ot.Sample(x_valid)\nif with_error:\n    X_valid.stack(ot.Normal(0.0, 1.5).getSample(n_valid))\n    y_valid = np.array(ref_func_with_error(X_valid))\nelse:\n    y_valid = np.array(ref_func(X_valid))"
      ]
    },
    {
      "cell_type": "code",
      "execution_count": null,
      "metadata": {
        "collapsed": false
      },
      "outputs": [],
      "source": [
        "validation = ot.MetaModelValidation(x_valid, y_valid, krigingMeta)\nvalidation.computePredictivityFactor()"
      ]
    },
    {
      "cell_type": "code",
      "execution_count": null,
      "metadata": {
        "collapsed": false
      },
      "outputs": [],
      "source": [
        "graph = validation.drawValidation()\nview = viewer.View(graph)"
      ]
    },
    {
      "cell_type": "code",
      "execution_count": null,
      "metadata": {
        "collapsed": false
      },
      "outputs": [],
      "source": [
        "graph = validation.getResidualDistribution().drawPDF()\ngraph.setXTitle(\"Residuals\")\nview = viewer.View(graph)"
      ]
    },
    {
      "cell_type": "markdown",
      "metadata": {},
      "source": [
        "## Nugget effect\n\nLet us try again, but this time we optimize the nugget effect.\n\n"
      ]
    },
    {
      "cell_type": "code",
      "execution_count": null,
      "metadata": {
        "collapsed": false
      },
      "outputs": [],
      "source": [
        "cov.activateNuggetFactor(True)"
      ]
    },
    {
      "cell_type": "markdown",
      "metadata": {},
      "source": [
        "We have to run the opitmization algorithm again.\n\n"
      ]
    },
    {
      "cell_type": "code",
      "execution_count": null,
      "metadata": {
        "collapsed": false
      },
      "outputs": [],
      "source": [
        "algokriging_nugget = ot.KrigingAlgorithm(x, y, cov, basis)\nalgokriging_nugget.setOptimizationAlgorithm(ot.NLopt(\"GN_DIRECT\"))\nalgokriging_nugget.run()"
      ]
    },
    {
      "cell_type": "markdown",
      "metadata": {},
      "source": [
        "We get the results and the metamodel.\n\n"
      ]
    },
    {
      "cell_type": "code",
      "execution_count": null,
      "metadata": {
        "collapsed": false
      },
      "outputs": [],
      "source": [
        "krigingResult_nugget = algokriging_nugget.getResult()\nprint(\"residual = \", krigingResult_nugget.getResiduals())\nprint(\"R2 = \", krigingResult_nugget.getRelativeErrors())\nprint(\"Optimal scale= {}\".format(krigingResult_nugget.getCovarianceModel().getScale()))\nprint(\n    \"Optimal amplitude = {}\".format(\n        krigingResult_nugget.getCovarianceModel().getAmplitude()\n    )\n)\nprint(\n    \"Optimal trend coefficients = {}\".format(\n        krigingResult_nugget.getTrendCoefficients()\n    )\n)"
      ]
    },
    {
      "cell_type": "code",
      "execution_count": null,
      "metadata": {
        "collapsed": false
      },
      "outputs": [],
      "source": [
        "krigingMeta_nugget = krigingResult_nugget.getMetaModel()\nvariance = [[krigingResult_nugget.getConditionalCovariance(xx)[0, 0]] for xx in x_plot]"
      ]
    },
    {
      "cell_type": "markdown",
      "metadata": {},
      "source": [
        "Plot the confidence interval again. Note that this time, it always contains\nthe true value of the function.\n\n"
      ]
    },
    {
      "cell_type": "code",
      "execution_count": null,
      "metadata": {
        "collapsed": false
      },
      "outputs": [],
      "source": [
        "# sphinx_gallery_thumbnail_number = 7\nborne_sup_nugget = krigingMeta_nugget(x_plot) + quantile * np.sqrt(variance)\nborne_inf_nugget = krigingMeta_nugget(x_plot) - quantile * np.sqrt(variance)\n\nfig, ax = plt.subplots(figsize=(8, 8))\nax.plot(x, y, (\"ro\"))\nax.plot(\n    x_plot,\n    borne_sup_nugget,\n    \"--\",\n    color=\"orange\",\n    label=\"Confidence interval with nugget\",\n)\nax.plot(x_plot, borne_inf_nugget, \"--\", color=\"orange\")\ngraph_krigingMeta_nugget = krigingMeta_nugget.draw(xmin, xmax, n_pts_plot)\ngraph_krigingMeta_nugget.setTitle(\"\")\nView(graph_ref_func, axes=[ax], plot_kw={\"label\": \"$x sin(x)$\"})\nView(\n    graph_krigingMeta_nugget,\n    plot_kw={\"color\": \"green\", \"label\": \"prediction with nugget\"},\n    axes=[ax],\n)\nView(\n    graph_krigingMeta,\n    plot_kw={\n        \"color\": \"green\",\n        \"linestyle\": \"dotted\",\n        \"label\": \"prediction without nugget\",\n    },\n    axes=[ax],\n)\nlegend = ax.legend()\nax.autoscale()\n\nplt.show()"
      ]
    },
    {
      "cell_type": "markdown",
      "metadata": {},
      "source": [
        "We validate the model with the nugget effect:\nits predictivity factor is slightly improved.\n\n"
      ]
    },
    {
      "cell_type": "code",
      "execution_count": null,
      "metadata": {
        "collapsed": false
      },
      "outputs": [],
      "source": [
        "validation_nugget = ot.MetaModelValidation(x_valid, y_valid, krigingMeta_nugget)\nprint(\n    \"predictivity factor with nugget: \", validation_nugget.computePredictivityFactor()\n)\nprint(\"predictivity factor without nugget: \", validation.computePredictivityFactor())"
      ]
    },
    {
      "cell_type": "markdown",
      "metadata": {},
      "source": [
        "Reset default settings\n\n"
      ]
    },
    {
      "cell_type": "code",
      "execution_count": null,
      "metadata": {
        "collapsed": false
      },
      "outputs": [],
      "source": [
        "ot.ResourceMap.Reload()"
      ]
    }
  ],
  "metadata": {
    "kernelspec": {
      "display_name": "Python 3",
      "language": "python",
      "name": "python3"
    },
    "language_info": {
      "codemirror_mode": {
        "name": "ipython",
        "version": 3
      },
      "file_extension": ".py",
      "mimetype": "text/x-python",
      "name": "python",
      "nbconvert_exporter": "python",
      "pygments_lexer": "ipython3",
      "version": "3.11.6"
    }
  },
  "nbformat": 4,
  "nbformat_minor": 0
}