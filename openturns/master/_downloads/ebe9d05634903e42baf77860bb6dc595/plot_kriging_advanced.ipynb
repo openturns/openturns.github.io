{
  "cells": [
    {
      "cell_type": "code",
      "execution_count": null,
      "metadata": {
        "collapsed": false
      },
      "outputs": [],
      "source": [
        "%matplotlib inline"
      ]
    },
    {
      "cell_type": "markdown",
      "metadata": {},
      "source": [
        "\n# Advanced kriging\n"
      ]
    },
    {
      "cell_type": "markdown",
      "metadata": {},
      "source": [
        "In this example we will build a metamodel using gaussian process regression of the $x\\sin(x)$ function.\n\nWe will choose the number of learning points, the basis and the covariance model.\n\n\n"
      ]
    },
    {
      "cell_type": "code",
      "execution_count": null,
      "metadata": {
        "collapsed": false
      },
      "outputs": [],
      "source": [
        "import openturns as ot\nfrom openturns.viewer import View\nimport numpy as np\nimport matplotlib.pyplot as plt\nimport openturns.viewer as viewer\nfrom matplotlib import pylab as plt\not.Log.Show(ot.Log.NONE)"
      ]
    },
    {
      "cell_type": "markdown",
      "metadata": {},
      "source": [
        "## Generate design of experiment\n\nWe create training samples from the function $x\\sin(x)$. We can change their number and distribution in the $[0; 10]$ range.\nIf the `with_error` boolean is `True`, then the data is computed by adding a gaussian noise to the function values.\n\n"
      ]
    },
    {
      "cell_type": "code",
      "execution_count": null,
      "metadata": {
        "collapsed": false
      },
      "outputs": [],
      "source": [
        "dim = 1\nxmin = 0 \nxmax = 10\nn_pt = 20 # number of initial points\nwith_error = True  # whether to use generation with error"
      ]
    },
    {
      "cell_type": "code",
      "execution_count": null,
      "metadata": {
        "collapsed": false
      },
      "outputs": [],
      "source": [
        "ref_func_with_error = ot.SymbolicFunction(['x', 'eps'], ['x * sin(x) + eps'])\nref_func = ot.ParametricFunction(ref_func_with_error, [1], [0.0])\nx = np.vstack(np.linspace(xmin, xmax, n_pt))\not.RandomGenerator.SetSeed(1235)\neps = ot.Normal(0, 1.5).getSample(n_pt)\nX = ot.Sample(n_pt, 2)\nX[:, 0] = x\nX[:, 1] = eps\nif with_error:\n    y = np.array(ref_func_with_error(X))\nelse:\n    y = np.array(ref_func(x))"
      ]
    },
    {
      "cell_type": "code",
      "execution_count": null,
      "metadata": {
        "collapsed": false
      },
      "outputs": [],
      "source": [
        "graph = ref_func.draw(xmin, xmax, 200)\ncloud = ot.Cloud(x, y)\ncloud.setColor('red')\ncloud.setPointStyle('bullet')\ngraph.add(cloud)\ngraph.setLegends([\"Function\",\"Data\"])\ngraph.setLegendPosition(\"topleft\")\ngraph.setTitle(\"Sample size = %d\" % (n_pt))\nview = viewer.View(graph)"
      ]
    },
    {
      "cell_type": "markdown",
      "metadata": {},
      "source": [
        "## Create the kriging algorithm\n\n"
      ]
    },
    {
      "cell_type": "code",
      "execution_count": null,
      "metadata": {
        "collapsed": false
      },
      "outputs": [],
      "source": [
        "# 1. basis\not.ResourceMap.SetAsBool('GeneralLinearModelAlgorithm-UseAnalyticalAmplitudeEstimate', True)\nbasis = ot.ConstantBasisFactory(dim).build()\nprint(basis)\n\n# 2. covariance model\ncov = ot.MaternModel([1.], [2.5], 1.5)\nprint(cov)\n\n# 3. kriging algorithm\nalgokriging = ot.KrigingAlgorithm(x, y, cov, basis)\n\n## error measure\n#algokriging.setNoise([5*1e-1]*n_pt)\n\n# 4. Optimization\n# algokriging.setOptimizationAlgorithm(ot.NLopt('GN_DIRECT'))\nstartingPoint = ot.LHSExperiment(ot.Uniform(1e-1, 1e2), 50).generate()\nalgokriging.setOptimizationAlgorithm(ot.MultiStart(ot.TNC(), startingPoint))\nalgokriging.setOptimizationBounds(ot.Interval([0.1], [1e2]))\n\n# if we choose not to optimize parameters\n#algokriging.setOptimizeParameters(False)\n\n# 5. run the algorithm\nalgokriging.run()"
      ]
    },
    {
      "cell_type": "markdown",
      "metadata": {},
      "source": [
        "## Results\n\n"
      ]
    },
    {
      "cell_type": "markdown",
      "metadata": {},
      "source": [
        "get some results\n\n"
      ]
    },
    {
      "cell_type": "code",
      "execution_count": null,
      "metadata": {
        "collapsed": false
      },
      "outputs": [],
      "source": [
        "krigingResult = algokriging.getResult()\nprint('residual = ', krigingResult.getResiduals())\nprint('R2 = ', krigingResult.getRelativeErrors())\nprint('Optimal scale= {}'.format(krigingResult.getCovarianceModel().getScale()))\nprint('Optimal amplitude = {}'.format(krigingResult.getCovarianceModel().getAmplitude()))\nprint('Optimal trend coefficients = {}'.format(krigingResult.getTrendCoefficients()))"
      ]
    },
    {
      "cell_type": "markdown",
      "metadata": {},
      "source": [
        "get the metamodel\n\n"
      ]
    },
    {
      "cell_type": "code",
      "execution_count": null,
      "metadata": {
        "collapsed": false
      },
      "outputs": [],
      "source": [
        "krigingMeta = krigingResult.getMetaModel()\n\nn_pts_plot = 1000\nx_plot = np.vstack(np.linspace(xmin, xmax, n_pts_plot))\nfig, [ax1, ax2] = plt.subplots(1, 2, figsize=(12, 6))\n\n# On the left, the function\ngraph = ref_func.draw(xmin, xmax, n_pts_plot)\ngraph.setLegends([\"Function\"])\ngraphKriging = krigingMeta.draw(xmin, xmax, n_pts_plot)\ngraphKriging.setColors([\"green\"])\ngraphKriging.setLegends([\"Kriging\"])\ngraph.add(graphKriging)\ncloud = ot.Cloud(x,y)\ncloud.setColor(\"red\")\ncloud.setLegend(\"Data\")\ngraph.add(cloud)\ngraph.setLegendPosition(\"topleft\")\nView(graph, axes=[ax1])\n\n# On the right, the conditional kriging variance\ngraph = ot.Graph(\"\", \"x\", \"Conditional kriging variance\", True, '')\n# Sample for the data\nsample = ot.Sample(n_pt,2)\nsample[:,0] = x\ncloud = ot.Cloud(sample)\ncloud.setColor(\"red\")\ngraph.add(cloud)\n# Sample for the variance\nsample = ot.Sample(n_pts_plot,2)\nsample[:,0] = x_plot\nvariance = [[krigingResult.getConditionalCovariance(xx)[0, 0]] for xx in x_plot]\nsample[:,1] = variance\ncurve = ot.Curve(sample)\ncurve.setColor(\"green\")\ngraph.add(curve)\nView(graph, axes=[ax2])\n\nfig.suptitle(\"Kriging result\");"
      ]
    },
    {
      "cell_type": "markdown",
      "metadata": {},
      "source": [
        "## Display the confidence interval\n\n"
      ]
    },
    {
      "cell_type": "code",
      "execution_count": null,
      "metadata": {
        "collapsed": false
      },
      "outputs": [],
      "source": [
        "level = 0.95\nquantile = ot.Normal().computeQuantile((1-level)/2)[0]\nborne_sup = krigingMeta(x_plot) + quantile * np.sqrt(variance)\nborne_inf = krigingMeta(x_plot) - quantile * np.sqrt(variance)\n\nfig, ax = plt.subplots(figsize=(8, 8))\nax.plot(x, y, ('ro'))\nax.plot(x_plot, borne_sup, '--', color='orange', label='Confidence interval')\nax.plot(x_plot, borne_inf, '--', color='orange')\nView(ref_func.draw(xmin, xmax, n_pts_plot), axes=[ax], plot_kw={'label':'$x sin(x)$'})\nView(krigingMeta.draw(xmin, xmax, n_pts_plot), plot_kw={'color':'green', 'label':'prediction'}, axes=[ax])\nlegend = ax.legend()\nax.autoscale()"
      ]
    },
    {
      "cell_type": "markdown",
      "metadata": {},
      "source": [
        "## Generate conditional trajectories\n\n"
      ]
    },
    {
      "cell_type": "markdown",
      "metadata": {},
      "source": [
        "support for trajectories with training samples removed\n\n"
      ]
    },
    {
      "cell_type": "code",
      "execution_count": null,
      "metadata": {
        "collapsed": false
      },
      "outputs": [],
      "source": [
        "values = np.linspace(0, 10, 500)\nfor xx in x:\n    if len(np.argwhere(values==xx)) == 1:\n        values = np.delete(values, np.argwhere(values==xx)[0, 0])"
      ]
    },
    {
      "cell_type": "markdown",
      "metadata": {},
      "source": [
        "Conditional Gaussian process\n\n"
      ]
    },
    {
      "cell_type": "code",
      "execution_count": null,
      "metadata": {
        "collapsed": false
      },
      "outputs": [],
      "source": [
        "krv = ot.KrigingRandomVector(krigingResult, np.vstack(values))\nkrv_sample = krv.getSample(5)"
      ]
    },
    {
      "cell_type": "code",
      "execution_count": null,
      "metadata": {
        "collapsed": false
      },
      "outputs": [],
      "source": [
        "x_plot = np.vstack(np.linspace(xmin, xmax, n_pts_plot))\nfig, ax = plt.subplots(figsize=(8, 6))\nax.plot(x, y, ('ro'))\nfor i in range(krv_sample.getSize()):\n    if i == 0:\n        ax.plot(values, krv_sample[i, :], '--', alpha=0.8, label='Conditional trajectories')\n    else:\n        ax.plot(values, krv_sample[i, :], '--', alpha=0.8)\nView(ref_func.draw(xmin, xmax, n_pts_plot), axes=[ax],\n     plot_kw={'color':'black', 'label':'$x*sin(x)$'})\nView(krigingMeta.draw(xmin, xmax, n_pts_plot), axes=[ax],\n     plot_kw={'color':'green', 'label':'prediction'})\nlegend = ax.legend()\nax.autoscale()"
      ]
    },
    {
      "cell_type": "markdown",
      "metadata": {},
      "source": [
        "## Validation\n\n"
      ]
    },
    {
      "cell_type": "code",
      "execution_count": null,
      "metadata": {
        "collapsed": false
      },
      "outputs": [],
      "source": [
        "n_valid = 10\nx_valid = ot.Uniform(xmin, xmax).getSample(n_valid)\nif with_error:\n    X_valid = ot.Sample(x_valid)\n    X_valid.stack(ot.Normal(0.0, 1.5).getSample(n_valid))\n    y_valid = np.array(ref_func_with_error(X_valid))\nelse:\n    y_valid = np.array(ref_func(X_valid))"
      ]
    },
    {
      "cell_type": "code",
      "execution_count": null,
      "metadata": {
        "collapsed": false
      },
      "outputs": [],
      "source": [
        "validation = ot.MetaModelValidation(x_valid, y_valid, krigingMeta)\nvalidation.computePredictivityFactor()"
      ]
    },
    {
      "cell_type": "code",
      "execution_count": null,
      "metadata": {
        "collapsed": false
      },
      "outputs": [],
      "source": [
        "graph = validation.drawValidation()\nview = viewer.View(graph)"
      ]
    },
    {
      "cell_type": "code",
      "execution_count": null,
      "metadata": {
        "collapsed": false
      },
      "outputs": [],
      "source": [
        "graph =validation.getResidualDistribution().drawPDF() \ngraph.setXTitle(\"Residuals\")\nview = viewer.View(graph)\nplt.show()"
      ]
    }
  ],
  "metadata": {
    "kernelspec": {
      "display_name": "Python 3",
      "language": "python",
      "name": "python3"
    },
    "language_info": {
      "codemirror_mode": {
        "name": "ipython",
        "version": 3
      },
      "file_extension": ".py",
      "mimetype": "text/x-python",
      "name": "python",
      "nbconvert_exporter": "python",
      "pygments_lexer": "ipython3",
      "version": "3.9.2"
    }
  },
  "nbformat": 4,
  "nbformat_minor": 0
}