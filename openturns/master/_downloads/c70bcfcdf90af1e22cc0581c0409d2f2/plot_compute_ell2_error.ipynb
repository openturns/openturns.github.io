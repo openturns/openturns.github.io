{
  "cells": [
    {
      "cell_type": "markdown",
      "metadata": {},
      "source": [
        "\n# Compute the L2 error between two functions\n"
      ]
    },
    {
      "cell_type": "markdown",
      "metadata": {},
      "source": [
        "In this example we compute the L2 error between two functions.\n\n"
      ]
    },
    {
      "cell_type": "code",
      "execution_count": null,
      "metadata": {
        "collapsed": false
      },
      "outputs": [],
      "source": [
        "import openturns as ot\nimport openturns.experimental as otexp\nfrom openturns.usecases import ishigami_function"
      ]
    },
    {
      "cell_type": "markdown",
      "metadata": {},
      "source": [
        "This is easy using the arithmetic operator `-` on two\ninstances of the :class:`~openturns.Function` class.\n\n"
      ]
    },
    {
      "cell_type": "code",
      "execution_count": null,
      "metadata": {
        "collapsed": false
      },
      "outputs": [],
      "source": [
        "im = ishigami_function.IshigamiModel()\npartOfIshigamiFunction = ot.SymbolicFunction(\n    [\"x1\", \"x2\", \"x3\"], [\"7 * (sin(x2))^2 + 0.1 * x3^4 * sin(x1)\"]\n)\not.RandomGenerator.SetSeed(0)\nsampleSize = 1000\nexperiment = ot.MonteCarloExperiment(im.inputDistribution, sampleSize)\nintegration = otexp.ExperimentIntegration(experiment)\nfunctionError = integration.computeL2Norm(im.model - partOfIshigamiFunction)\nprint(functionError)"
      ]
    }
  ],
  "metadata": {
    "kernelspec": {
      "display_name": "Python 3",
      "language": "python",
      "name": "python3"
    },
    "language_info": {
      "codemirror_mode": {
        "name": "ipython",
        "version": 3
      },
      "file_extension": ".py",
      "mimetype": "text/x-python",
      "name": "python",
      "nbconvert_exporter": "python",
      "pygments_lexer": "ipython3",
      "version": "3.12.6"
    }
  },
  "nbformat": 4,
  "nbformat_minor": 0
}