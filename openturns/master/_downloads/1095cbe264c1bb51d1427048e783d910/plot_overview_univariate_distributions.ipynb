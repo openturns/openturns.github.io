{
  "cells": [
    {
      "cell_type": "code",
      "execution_count": null,
      "metadata": {
        "collapsed": false
      },
      "outputs": [],
      "source": [
        "%matplotlib inline"
      ]
    },
    {
      "cell_type": "markdown",
      "metadata": {},
      "source": [
        "\n# Overview of univariate distribution management\n"
      ]
    },
    {
      "cell_type": "markdown",
      "metadata": {},
      "source": [
        "## Abstract\n\nIn this example, we present the following topics:\n\n- the distributions with several parametrizations (particularly with the `Beta` distribution),\n- the arithmetic of distributions and functions of distributions,\n- the `CompositeDistribution` for more general functions,\n- how to define our customized distribution with `PythonDistribution` if the distribution do not exist.\n\n"
      ]
    },
    {
      "cell_type": "code",
      "execution_count": null,
      "metadata": {
        "collapsed": false
      },
      "outputs": [],
      "source": [
        "import openturns as ot\nimport openturns.viewer as viewer\nfrom matplotlib import pylab as plt\not.Log.Show(ot.Log.NONE)"
      ]
    },
    {
      "cell_type": "markdown",
      "metadata": {},
      "source": [
        "## Distributions with several parametrizations\n\n"
      ]
    },
    {
      "cell_type": "markdown",
      "metadata": {},
      "source": [
        "By default, any univariate distribution uses its native parameters. For some few distributions, alternative parameters might be used to define the distribution.\n\nFor example, the `Beta` distribution has several parametrizations.\n\nThe native parametrization uses the following parameters:\n\n- $\\alpha$ : the first shape parameter, $\\alpha>0$,\n- $\\beta$ : the second shape parameter, $\\beta> 0$,\n- $a$ : the lower bound,\n- $b$ : the upper bound with $a<b$.\n\nThe PDF of the beta distribution is:\n\n\\begin{align}f(x) = \\frac{(x-a)^{\\alpha - 1} (b - x)^{\\beta - 1}}{(b - a)^{\\alpha + \\beta - 1} B(\\alpha, \\beta)}\\end{align}\n\n\nfor any $x\\in[a,b]$, where $B$ is Euler's beta function.\n\nFor any $y,z>0$, the beta function is:\n\n\\begin{align}B(y,z) = \\int_0^1 t^{y-1} (1-t)^{z-1} dt.\\end{align}\n\n\n"
      ]
    },
    {
      "cell_type": "markdown",
      "metadata": {},
      "source": [
        "The `Beta` class uses the native parametrization.\n\n"
      ]
    },
    {
      "cell_type": "code",
      "execution_count": null,
      "metadata": {
        "collapsed": false
      },
      "outputs": [],
      "source": [
        "distribution = ot.Beta(2.5, 2.5, -1, 2)\ngraph = distribution.drawPDF()\nview = viewer.View(graph)"
      ]
    },
    {
      "cell_type": "markdown",
      "metadata": {},
      "source": [
        "The `BetaMuSigma` class provides another parametrization, based on the expectation $\\mu$ and the standard deviation  $\\sigma$ of the random variable:\n\n\\begin{align}\\mu = a + \\frac{(b-a)\\alpha}{\\alpha+\\beta}\\end{align}\n\n\nand\n\n\\begin{align}\\sigma^2 = \\left(\\frac{b-a}{\\alpha+\\beta}\\right)^2 \\frac{\\alpha\\beta}{\\alpha+\\beta+1}.\\end{align}\n\n\nInverting the equations, we get:\n\n\n\\begin{align}\\alpha =  \\left(\\dfrac{\\mu-a}{b-a}\\right) \\left( \\dfrac{(b-\\mu)(\\mu-a)}{\\sigma^2}-1\\right) \\\\\\end{align}\n\n\nand\n\n\\begin{align}\\beta  =  \\left( \\dfrac{b-\\mu}{\\mu-a}\\right) \\alpha\\end{align}\n\n\n"
      ]
    },
    {
      "cell_type": "markdown",
      "metadata": {},
      "source": [
        "The following session creates a beta random variable with parameters $\\mu=0.2$, $\\sigma=0.6$, $a=-1$ et $b=2$.\n\n"
      ]
    },
    {
      "cell_type": "code",
      "execution_count": null,
      "metadata": {
        "collapsed": false
      },
      "outputs": [],
      "source": [
        "parameters = ot.BetaMuSigma(0.2, 0.6, -1, 2)\nparameters.evaluate()"
      ]
    },
    {
      "cell_type": "markdown",
      "metadata": {},
      "source": [
        "The `ParametrizedDistribution` creates a distribution from a parametrization.\n\n"
      ]
    },
    {
      "cell_type": "code",
      "execution_count": null,
      "metadata": {
        "collapsed": false
      },
      "outputs": [],
      "source": [
        "param_dist = ot.ParametrizedDistribution(parameters)\nparam_dist"
      ]
    },
    {
      "cell_type": "markdown",
      "metadata": {},
      "source": [
        "## Functions of distributions\n\n"
      ]
    },
    {
      "cell_type": "markdown",
      "metadata": {},
      "source": [
        "The library provides algebra of univariate distributions:\n\n - `+, -`\n - `*, /`\n\nIt also provides methods to get the full distributions of `f(x)` where `f` can be equal to :\n\n - `sin`,\n - `cos`,\n - `acos`,\n - `asin`\n - `square`,\n - `inverse`,\n - `sqrt`.\n\n"
      ]
    },
    {
      "cell_type": "markdown",
      "metadata": {},
      "source": [
        "In the following example, we create a beta and an exponential variable. Then we create the random variable equal to the sum of the two previous variables.\n\n"
      ]
    },
    {
      "cell_type": "code",
      "execution_count": null,
      "metadata": {
        "collapsed": false
      },
      "outputs": [],
      "source": [
        "B = ot.Beta(5, 2, 9, 10)"
      ]
    },
    {
      "cell_type": "code",
      "execution_count": null,
      "metadata": {
        "collapsed": false
      },
      "outputs": [],
      "source": [
        "E = ot.Exponential(3)"
      ]
    },
    {
      "cell_type": "code",
      "execution_count": null,
      "metadata": {
        "collapsed": false
      },
      "outputs": [],
      "source": [
        "S = B + E"
      ]
    },
    {
      "cell_type": "markdown",
      "metadata": {},
      "source": [
        "The `S` variable is equipped with the methods of any distribution: we can for example compute the PDF or the CDF at any point and compute its quantile. For example, we can simply draw the PDF with the `drawPDF` class.\n\n"
      ]
    },
    {
      "cell_type": "code",
      "execution_count": null,
      "metadata": {
        "collapsed": false
      },
      "outputs": [],
      "source": [
        "graph = S.drawPDF()\ngraph.setTitle(\"Sum of a beta and an exponential distribution\")\nview = viewer.View(graph)"
      ]
    },
    {
      "cell_type": "markdown",
      "metadata": {},
      "source": [
        "The exponential function of this distribution can be computed with the `exp` method.\n\n"
      ]
    },
    {
      "cell_type": "code",
      "execution_count": null,
      "metadata": {
        "collapsed": false
      },
      "outputs": [],
      "source": [
        "sumexp = S.exp()"
      ]
    },
    {
      "cell_type": "code",
      "execution_count": null,
      "metadata": {
        "collapsed": false
      },
      "outputs": [],
      "source": [
        "graph = sumexp.drawPDF()\ngraph.setTitle(\"Exponential of a sum of a beta and an exponential\")\nview = viewer.View(graph)"
      ]
    },
    {
      "cell_type": "markdown",
      "metadata": {},
      "source": [
        "## The `CompositeDistribution` class for more general functions\n\nMore complex functions can be created thanks to the `CompositeDistribution` class, but it requires an `f` function. In the following example, we create the distribution of a random variable equal to the exponential of a gaussian variable. Obviously, this is equivalent to the `LogNormal` distribution but this shows how such a distribution could be created.\n\n"
      ]
    },
    {
      "cell_type": "markdown",
      "metadata": {},
      "source": [
        "First, we create a distribution.\n\n"
      ]
    },
    {
      "cell_type": "code",
      "execution_count": null,
      "metadata": {
        "collapsed": false
      },
      "outputs": [],
      "source": [
        "N = ot.Normal(0.0, 1.0)\nN.setDescription([\"Normal\"])"
      ]
    },
    {
      "cell_type": "markdown",
      "metadata": {},
      "source": [
        "Secondly, we create a function.\n\n"
      ]
    },
    {
      "cell_type": "code",
      "execution_count": null,
      "metadata": {
        "collapsed": false
      },
      "outputs": [],
      "source": [
        "f = ot.SymbolicFunction(['x'], ['exp(x)'])\nf.setDescription([\"X\", \"Exp(X)\"])"
      ]
    },
    {
      "cell_type": "markdown",
      "metadata": {},
      "source": [
        "Finally, we create the distribution equal to the exponential of the gaussian random variable.\n\n"
      ]
    },
    {
      "cell_type": "code",
      "execution_count": null,
      "metadata": {
        "collapsed": false
      },
      "outputs": [],
      "source": [
        "dist = ot.CompositeDistribution(f, N)"
      ]
    },
    {
      "cell_type": "code",
      "execution_count": null,
      "metadata": {
        "collapsed": false
      },
      "outputs": [],
      "source": [
        "graph = dist.drawPDF()\ngraph.setTitle(\"Exponential of a gaussian random variable\")\nview = viewer.View(graph)"
      ]
    },
    {
      "cell_type": "markdown",
      "metadata": {},
      "source": [
        "In order to check the previous distribution, we compare it with the LogNormal distribution.\n\n"
      ]
    },
    {
      "cell_type": "code",
      "execution_count": null,
      "metadata": {
        "collapsed": false
      },
      "outputs": [],
      "source": [
        "LN = ot.LogNormal()\nLN.setDescription([\"LogNormal\"])\ngraph = LN.drawPDF()\nview = viewer.View(graph)"
      ]
    },
    {
      "cell_type": "markdown",
      "metadata": {},
      "source": [
        "## The `PythonDistribution` class\n\nAnother possibility is to define our own `distribution`.\n\nFor example let us implement the `Quartic` kernel (also known as the `Biweight` kernel, see [here](https://en.wikipedia.org/wiki/Kernel_(statistics)#Kernel_functions_in_common_use)), which is sometimes used in the context of kernel smoothing.\nThe PDF of the kernel is defined by:\n\n\\begin{align}f(u) = \\frac{15}{16} (1 - u^2)^2\\end{align}\n\n\nfor any $u\\in[-1,1]$ and $f(u)=0$ otherwise.\n\nExpanding the previous square, we find:\n\n\\begin{align}f(u) = \\frac{15}{16} (1 - 2 u^2 + u^4)\\end{align}\n\n\nfor any $u\\in[-1,1]$.\n\nIntegrating the previous equation leads to the CDF:\n\n\\begin{align}F(u) = \\frac{1}{2} + \\frac{15}{16} u - \\frac{5}{8} u^3 + \\frac{3}{16} u^5\\end{align}\n\n\nfor any $u\\in[-1,1]$ and $F(u)=0$ otherwise.\n\nThe only required method is `computeCDF`. Since the PDF is easy to define in our example, we implement it as well. Here, the distribution is defined on the interval $[-1,1]$, so that we define the `getRange` method.\n\n"
      ]
    },
    {
      "cell_type": "code",
      "execution_count": null,
      "metadata": {
        "collapsed": false
      },
      "outputs": [],
      "source": [
        "class Quartic(ot.PythonDistribution):\n    \"\"\"\n    Quartic (biweight) kernel\n    See https://en.wikipedia.org/wiki/Kernel_(statistics)#Kernel_functions_in_common_use for more details\n    \"\"\"\n\n    def __init__(self):\n        super(Quartic, self).__init__(1)\n        self.c = 15.0 / 16\n\n    def computeCDF(self, x):\n        u = x[0]\n        if u <= -1:\n            p = 0.0\n        elif u >= 1:\n            p = 1.0\n        else:\n            p = 0.5 + 15./16 * u - 5. / 8 * pow(u, 3) + 3./16 * pow(u, 5)\n        return p\n\n    def computePDF(self, x):\n        u = x[0]\n        if u < -1 or u > 1:\n            y = 0.0\n        else:\n            y = self.c * (1 - u ** 2)**2\n        return y\n\n    def getRange(self):\n        return ot.Interval(-1, 1)"
      ]
    },
    {
      "cell_type": "code",
      "execution_count": null,
      "metadata": {
        "collapsed": false
      },
      "outputs": [],
      "source": [
        "Q = ot.Distribution(Quartic())\nQ.setDescription([\"Quartic Kernel\"])"
      ]
    },
    {
      "cell_type": "code",
      "execution_count": null,
      "metadata": {
        "collapsed": false
      },
      "outputs": [],
      "source": [
        "graph = Q.drawPDF()\nview = viewer.View(graph)\nplt.show()"
      ]
    }
  ],
  "metadata": {
    "kernelspec": {
      "display_name": "Python 3",
      "language": "python",
      "name": "python3"
    },
    "language_info": {
      "codemirror_mode": {
        "name": "ipython",
        "version": 3
      },
      "file_extension": ".py",
      "mimetype": "text/x-python",
      "name": "python",
      "nbconvert_exporter": "python",
      "pygments_lexer": "ipython3",
      "version": "3.10.5"
    }
  },
  "nbformat": 4,
  "nbformat_minor": 0
}