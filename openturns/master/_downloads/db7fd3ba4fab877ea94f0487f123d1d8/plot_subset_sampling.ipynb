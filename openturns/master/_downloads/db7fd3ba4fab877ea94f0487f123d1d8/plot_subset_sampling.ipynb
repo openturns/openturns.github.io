{
  "cells": [
    {
      "cell_type": "code",
      "execution_count": null,
      "metadata": {
        "collapsed": false
      },
      "outputs": [],
      "source": [
        "%matplotlib inline"
      ]
    },
    {
      "cell_type": "markdown",
      "metadata": {},
      "source": [
        "\n# Subset Sampling\n"
      ]
    },
    {
      "cell_type": "markdown",
      "metadata": {},
      "source": [
        "The objective is to evaluate a probability from the Subset sampling technique.\n\nWe consider the function $g : \\mathbb{R}^2 \\rightarrow \\mathbb{R}$ defined by:\n\n\\begin{align}\\begin{align*}\n  g(X)= 20-(x_1-x_2)^2-8(x_1+x_2-4)^3\n  \\end{align*}\\end{align}\n\nand the input random vector $X = (X_1, X_2)$ which follows a Normal distribution with independent components, and identical marginals with 0.25 mean and unit variance: \n\n\\begin{align}\\begin{align*}\n  X \\sim  \\mathcal{N}(\\mu = [0.25, 0.25], \\sigma = [1,1], cov = I_2)\n  \\end{align*}\\end{align}\n\nWe want to evaluate the probability:\n\n\\begin{align}\\begin{align*}\n  p = \\mathbb{P} \\{ g(X) \\leq 0 \\}\n  \\end{align*}\\end{align}\n\n\n"
      ]
    },
    {
      "cell_type": "markdown",
      "metadata": {},
      "source": [
        "First, import the python modules: \n\n"
      ]
    },
    {
      "cell_type": "code",
      "execution_count": null,
      "metadata": {
        "collapsed": false
      },
      "outputs": [],
      "source": [
        "import openturns as ot\nfrom openturns.viewer import View"
      ]
    },
    {
      "cell_type": "markdown",
      "metadata": {},
      "source": [
        "## Create the probabilistic model $Y = g(X)$\n\n"
      ]
    },
    {
      "cell_type": "markdown",
      "metadata": {},
      "source": [
        "Create the input random vector $X$:\n\n"
      ]
    },
    {
      "cell_type": "code",
      "execution_count": null,
      "metadata": {
        "collapsed": false
      },
      "outputs": [],
      "source": [
        "X = ot.RandomVector(ot.Normal([0.25]*2, [1]*2, ot.IdentityMatrix(2)))"
      ]
    },
    {
      "cell_type": "markdown",
      "metadata": {},
      "source": [
        "Create the function $g$:\n\n"
      ]
    },
    {
      "cell_type": "code",
      "execution_count": null,
      "metadata": {
        "collapsed": false
      },
      "outputs": [],
      "source": [
        "g=ot.SymbolicFunction(['x1', 'x2'], ['20-(x1-x2)^2-8*(x1+x2-4)^3'])\nprint('function g: ', g)"
      ]
    },
    {
      "cell_type": "markdown",
      "metadata": {},
      "source": [
        "In order to be able to get the subset samples used in the algorithm, it is necessary to transform the *SymbolicFunction* into a *MemoizeFunction*:\n\n"
      ]
    },
    {
      "cell_type": "code",
      "execution_count": null,
      "metadata": {
        "collapsed": false
      },
      "outputs": [],
      "source": [
        "g = ot.MemoizeFunction(g)"
      ]
    },
    {
      "cell_type": "markdown",
      "metadata": {},
      "source": [
        "Create the output random vector $Y = g(X)$:\n\n"
      ]
    },
    {
      "cell_type": "code",
      "execution_count": null,
      "metadata": {
        "collapsed": false
      },
      "outputs": [],
      "source": [
        "Y = ot.CompositeRandomVector(g,X)"
      ]
    },
    {
      "cell_type": "markdown",
      "metadata": {},
      "source": [
        "## Create the event $\\{ Y = g(X) \\leq 0 \\}$\n\n"
      ]
    },
    {
      "cell_type": "code",
      "execution_count": null,
      "metadata": {
        "collapsed": false
      },
      "outputs": [],
      "source": [
        "myEvent = ot.ThresholdEvent(Y, ot.LessOrEqual(), 0.0)"
      ]
    },
    {
      "cell_type": "markdown",
      "metadata": {},
      "source": [
        "## Evaluate the probability with the subset sampling technique\n\n"
      ]
    },
    {
      "cell_type": "code",
      "execution_count": null,
      "metadata": {
        "collapsed": false
      },
      "outputs": [],
      "source": [
        "algo = ot.SubsetSampling(myEvent)"
      ]
    },
    {
      "cell_type": "markdown",
      "metadata": {},
      "source": [
        "In order to get all the inputs and outputs that realize the event, you have to mention it now:\n\n"
      ]
    },
    {
      "cell_type": "code",
      "execution_count": null,
      "metadata": {
        "collapsed": false
      },
      "outputs": [],
      "source": [
        "algo.setKeepEventSample(True)"
      ]
    },
    {
      "cell_type": "markdown",
      "metadata": {},
      "source": [
        "Now you can run the algorithm!\n\n"
      ]
    },
    {
      "cell_type": "code",
      "execution_count": null,
      "metadata": {
        "collapsed": false
      },
      "outputs": [],
      "source": [
        "algo.run()"
      ]
    },
    {
      "cell_type": "code",
      "execution_count": null,
      "metadata": {
        "collapsed": false
      },
      "outputs": [],
      "source": [
        "result = algo.getResult()\nproba = result.getProbabilityEstimate()\nprint('Proba Subset = ',  proba)\nprint('Current coefficient of variation = ', result.getCoefficientOfVariation())"
      ]
    },
    {
      "cell_type": "markdown",
      "metadata": {},
      "source": [
        "The length of the confidence interval of level $95\\%$ is:\n\n"
      ]
    },
    {
      "cell_type": "code",
      "execution_count": null,
      "metadata": {
        "collapsed": false
      },
      "outputs": [],
      "source": [
        "length95 = result.getConfidenceLength()\nprint('Confidence length (0.95) = ', result.getConfidenceLength())"
      ]
    },
    {
      "cell_type": "markdown",
      "metadata": {},
      "source": [
        "which enables to build the confidence interval: \n\n"
      ]
    },
    {
      "cell_type": "code",
      "execution_count": null,
      "metadata": {
        "collapsed": false
      },
      "outputs": [],
      "source": [
        "print('Confidence intervalle (0.95) = [', proba - length95/2, ', ', proba + length95/2, ']')"
      ]
    },
    {
      "cell_type": "markdown",
      "metadata": {},
      "source": [
        "You can also get the succesive thresholds used by the algorithm:\n\n"
      ]
    },
    {
      "cell_type": "code",
      "execution_count": null,
      "metadata": {
        "collapsed": false
      },
      "outputs": [],
      "source": [
        "levels =  algo.getThresholdPerStep()\nprint('Levels of g = ', levels)"
      ]
    },
    {
      "cell_type": "markdown",
      "metadata": {},
      "source": [
        "## Draw the subset samples used by the algorithm\n\nThe following manipulations are possible onfly if you have created a *MemoizeFunction* that enables to store all the inputs and output of the function $g$.\n\nGet all the inputs where $g$ were evaluated: \n\n"
      ]
    },
    {
      "cell_type": "code",
      "execution_count": null,
      "metadata": {
        "collapsed": false
      },
      "outputs": [],
      "source": [
        "inputSampleSubset = g.getInputHistory()\nnTotal = inputSampleSubset.getSize()\nprint('Number of evaluations of g = ', nTotal)"
      ]
    },
    {
      "cell_type": "markdown",
      "metadata": {},
      "source": [
        "Within each step of the algorithm, a sample of size $N$ is created, where: \n\n"
      ]
    },
    {
      "cell_type": "code",
      "execution_count": null,
      "metadata": {
        "collapsed": false
      },
      "outputs": [],
      "source": [
        "N =  algo.getMaximumOuterSampling()*algo.getBlockSize()\nprint('Size of each subset = ', N)"
      ]
    },
    {
      "cell_type": "markdown",
      "metadata": {},
      "source": [
        "You can get the number $N_s$ of steps with: \n\n"
      ]
    },
    {
      "cell_type": "code",
      "execution_count": null,
      "metadata": {
        "collapsed": false
      },
      "outputs": [],
      "source": [
        "Ns = algo.getNumberOfSteps()\nprint('Number of steps= ', Ns)"
      ]
    },
    {
      "cell_type": "markdown",
      "metadata": {},
      "source": [
        "and you can verify that $N_s$ is equal to $\\frac{nTotal}{N}$:\n\n"
      ]
    },
    {
      "cell_type": "code",
      "execution_count": null,
      "metadata": {
        "collapsed": false
      },
      "outputs": [],
      "source": [
        "print('nTotal / N = ', int(nTotal / N))"
      ]
    },
    {
      "cell_type": "markdown",
      "metadata": {},
      "source": [
        "Now, we can split the initial sample into subset samples of size $N_s$: \n\n"
      ]
    },
    {
      "cell_type": "code",
      "execution_count": null,
      "metadata": {
        "collapsed": false
      },
      "outputs": [],
      "source": [
        "list_subSamples = list()\nfor i in range(Ns):\n    list_subSamples.append(inputSampleSubset[i*N:i*N +N])"
      ]
    },
    {
      "cell_type": "markdown",
      "metadata": {},
      "source": [
        "The following graph draws each subset sample and the frontier $g(x_1, x_2) = l_i$ where $l_i$ is the threshold at the step $i$:\n\n"
      ]
    },
    {
      "cell_type": "code",
      "execution_count": null,
      "metadata": {
        "collapsed": false
      },
      "outputs": [],
      "source": [
        "graph = ot.Graph()\ngraph.setAxes(True)\ngraph.setGrid(True)\ngraph.setTitle('Subset sampling: samples')\ngraph.setXTitle(r'$x_1$')\ngraph.setYTitle(r'$x_2$')\ngraph.setLegendPosition('bottomleft')"
      ]
    },
    {
      "cell_type": "markdown",
      "metadata": {},
      "source": [
        "Add all the subset samples:\n\n"
      ]
    },
    {
      "cell_type": "code",
      "execution_count": null,
      "metadata": {
        "collapsed": false
      },
      "outputs": [],
      "source": [
        "for i in range(Ns):\n    cloud = ot.Cloud(list_subSamples[i])\n    #cloud.setPointStyle(\"dot\")\n    graph.add(cloud)\ncol = ot.Drawable().BuildDefaultPalette(Ns)\ngraph.setColors(col)"
      ]
    },
    {
      "cell_type": "markdown",
      "metadata": {},
      "source": [
        "Add the frontiers $g(x_1, x_2) = l_i$ where $l_i$ is the threshold at the step $i$:\n\n"
      ]
    },
    {
      "cell_type": "code",
      "execution_count": null,
      "metadata": {
        "collapsed": false
      },
      "outputs": [],
      "source": [
        "gIsoLines =  g.draw([-3]*2, [5]*2, [128]*2)\ndr = gIsoLines.getDrawable(0)\nfor i in range(levels.getSize()):\n    dr.setLevels([levels[i]])\n    dr.setLineStyle('solid')\n    dr.setLegend(r'$g(X) = $' + str(round(levels[i], 2)))\n    dr.setLineWidth(3)\n    dr.setColor(col[i])\n    graph.add(dr)"
      ]
    },
    {
      "cell_type": "code",
      "execution_count": null,
      "metadata": {
        "collapsed": false
      },
      "outputs": [],
      "source": [
        "View(graph)"
      ]
    },
    {
      "cell_type": "markdown",
      "metadata": {},
      "source": [
        "## Draw the frontiers only\n\nThe following graph enables to understand the progresison of the algorithm:\n\n"
      ]
    },
    {
      "cell_type": "code",
      "execution_count": null,
      "metadata": {
        "collapsed": false
      },
      "outputs": [],
      "source": [
        "graph=ot.Graph()\ngraph.setAxes(True)\ngraph.setGrid(True)\ndr = gIsoLines.getDrawable(0)\nfor i in range(levels.getSize()):\n    dr.setLevels([levels[i]])\n    dr.setLineStyle('solid')\n    dr.setLegend(r'$g(X) = $' + str(round(levels[i], 2)))\n    dr.setLineWidth(3)\n    graph.add(dr)\n\ngraph.setColors(col)\ngraph.setLegendPosition('bottomleft')\ngraph.setTitle('Subset sampling: thresholds')\ngraph.setXTitle(r'$x_1$')\ngraph.setYTitle(r'$x_2$')\n\nView(graph)"
      ]
    },
    {
      "cell_type": "markdown",
      "metadata": {},
      "source": [
        "## Get all the input and output points that realized the event\nThe following lines are possible only if you have mentionned that you wanted to keep the points that realize the event with the method *algo.setKeepEventSample(True)*\n\n"
      ]
    },
    {
      "cell_type": "code",
      "execution_count": null,
      "metadata": {
        "collapsed": false
      },
      "outputs": [],
      "source": [
        "inputEventSample = algo.getEventInputSample()\noutputEventSample = algo.getEventOutputSample()\nprint('Number of event realizations = ', inputEventSample.getSize())"
      ]
    },
    {
      "cell_type": "markdown",
      "metadata": {},
      "source": [
        "Here we have to avoid a bug of the version 1.15 because *getEventInputSample()* gives the sample in the stadrad space: we have to push it backward to the physical space.\n\n"
      ]
    },
    {
      "cell_type": "code",
      "execution_count": null,
      "metadata": {
        "collapsed": false
      },
      "outputs": [],
      "source": [
        "dist = ot.Normal([0.25]*2, [1]*2, ot.IdentityMatrix(2))\ntransformFunc = dist.getInverseIsoProbabilisticTransformation()\ninputEventSample = transformFunc(inputEventSample)"
      ]
    },
    {
      "cell_type": "markdown",
      "metadata": {},
      "source": [
        "Draw them! They are all in the event space.\n\n"
      ]
    },
    {
      "cell_type": "code",
      "execution_count": null,
      "metadata": {
        "collapsed": false
      },
      "outputs": [],
      "source": [
        "graph=ot.Graph()\ngraph.setAxes(True)\ngraph.setGrid(True)\ncloud = ot.Cloud(inputEventSample)\ncloud.setPointStyle('dot')\ngraph.add(cloud)\ngIsoLines =  g.draw([-3]*2, [5]*2, [1000]*2)\ndr = gIsoLines.getDrawable(0)\ndr.setLevels([0.0])\ndr.setColor('red')\ngraph.add(dr)\nView(graph)"
      ]
    }
  ],
  "metadata": {
    "kernelspec": {
      "display_name": "Python 3",
      "language": "python",
      "name": "python3"
    },
    "language_info": {
      "codemirror_mode": {
        "name": "ipython",
        "version": 3
      },
      "file_extension": ".py",
      "mimetype": "text/x-python",
      "name": "python",
      "nbconvert_exporter": "python",
      "pygments_lexer": "ipython3",
      "version": "3.9.7"
    }
  },
  "nbformat": 4,
  "nbformat_minor": 0
}