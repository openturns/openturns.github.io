{
  "cells": [
    {
      "cell_type": "markdown",
      "metadata": {},
      "source": [
        "\n# Defining Python and symbolic functions: a quick start introduction to functions\n"
      ]
    },
    {
      "cell_type": "markdown",
      "metadata": {},
      "source": [
        "## Abstract\n\nIn this example, we show how to define Python and symbolic functions.\nSuch functions can be evaluated by the library and used, for example, to propagate uncertainties. We focus on functions which have a vector input and a vector output.\n\n"
      ]
    },
    {
      "cell_type": "markdown",
      "metadata": {},
      "source": [
        "## Introduction\n\nWe consider the following example:\n\n* three input variables,\n* two outputs.\n\nMoreover, we assume that the input distribution has independent Gaussian marginals.\n\nThe function is defined by the equations:\n\n\\begin{align}Y_1 = X_1 + X_2 + X_3\\end{align}\n\nand\n\n\\begin{align}Y_2 = X_1 - X_2 X_3\\end{align}\n\n\nfor any $X_1,X_2,X_3 \\in \\mathbb{R}$.\n\nThe exact expectation and standard deviation of the output random variable are presented in the following table.\n\n=============     ===========  ==================\nVariable          Expectation  Standard deviation\n=============     ===========  ==================\n $Y_1$       0            1.732\n $Y_2$       0            1.415\n=============     ===========  ==================\n\n\n"
      ]
    },
    {
      "cell_type": "code",
      "execution_count": null,
      "metadata": {
        "collapsed": false
      },
      "outputs": [],
      "source": [
        "import numpy as np\nimport openturns as ot\n\not.Log.Show(ot.Log.NONE)"
      ]
    },
    {
      "cell_type": "markdown",
      "metadata": {},
      "source": [
        "We first define the input random vector of the function.\n\n"
      ]
    },
    {
      "cell_type": "code",
      "execution_count": null,
      "metadata": {
        "collapsed": false
      },
      "outputs": [],
      "source": [
        "X0 = ot.Normal(0.0, 1.0)\nX1 = ot.Normal(0.0, 1.0)\nX2 = ot.Normal(0.0, 1.0)\ninputDistribution = ot.JointDistribution((X0, X1, X2))\ninputRandomVector = ot.RandomVector(inputDistribution)"
      ]
    },
    {
      "cell_type": "markdown",
      "metadata": {},
      "source": [
        "## The Python function\n\nBased on a Python function defined with the `def` keyword, the `PythonFunction` class creates a function.\n\nThe simplest constructor of the `PythonFunction` class is:\n\n`PythonFunction ( nbInputs , nbOutputs , myPythonFunc )`\n\nwhere\n\n* `nbInputs`: the number of inputs,\n* `nbOutputs`: the number of outputs,\n* `myPythonFunc`: a Python function.\n\nThe goal of the `PythonFunction` class are:\n\n* to easily create a function in Python,\n* use all the power of the Python libraries in order to evaluate the function.\n\n"
      ]
    },
    {
      "cell_type": "markdown",
      "metadata": {},
      "source": [
        "The function `mySimulator` has the calling sequence `y=mySimulator(x)` where:\n\n* `x`: the input of the function, a vector with `nbInputs` dimensions,\n* `y`: the output of the function, a vector with `nbOutputs` dimensions.\n\n"
      ]
    },
    {
      "cell_type": "code",
      "execution_count": null,
      "metadata": {
        "collapsed": false
      },
      "outputs": [],
      "source": [
        "def mySimulator(x):\n    y0 = x[0] + x[1] + x[2]\n    y1 = x[0] - x[1] * x[2]\n    y = [y0, y1]\n    return y"
      ]
    },
    {
      "cell_type": "markdown",
      "metadata": {},
      "source": [
        "We now define the `PythonFunction` object.\n\n"
      ]
    },
    {
      "cell_type": "code",
      "execution_count": null,
      "metadata": {
        "collapsed": false
      },
      "outputs": [],
      "source": [
        "myfunction = ot.PythonFunction(3, 2, mySimulator)"
      ]
    },
    {
      "cell_type": "markdown",
      "metadata": {},
      "source": [
        "This function can be evaluated using parentheses. It produces the same outputs as the `mySimulator` function.\n\n"
      ]
    },
    {
      "cell_type": "code",
      "execution_count": null,
      "metadata": {
        "collapsed": false
      },
      "outputs": [],
      "source": [
        "myfunction([1.0, 2.0, 3.0])"
      ]
    },
    {
      "cell_type": "markdown",
      "metadata": {},
      "source": [
        "However, the newly created `myfunction` has services that the basic Python function did not have.\nFor example, we can create a `CompositeRandomVector` on top of it, by associating it to the input random vector.\n\n"
      ]
    },
    {
      "cell_type": "code",
      "execution_count": null,
      "metadata": {
        "collapsed": false
      },
      "outputs": [],
      "source": [
        "outputVect = ot.CompositeRandomVector(myfunction, inputRandomVector)"
      ]
    },
    {
      "cell_type": "markdown",
      "metadata": {},
      "source": [
        "In the following example, we estimate the output mean based on a simple Monte-Carlo experiment using 10000 function evaluations.\n\n"
      ]
    },
    {
      "cell_type": "code",
      "execution_count": null,
      "metadata": {
        "collapsed": false
      },
      "outputs": [],
      "source": [
        "montecarlosize = 10000\noutputSample = outputVect.getSample(montecarlosize)"
      ]
    },
    {
      "cell_type": "code",
      "execution_count": null,
      "metadata": {
        "collapsed": false
      },
      "outputs": [],
      "source": [
        "empiricalMean = outputSample.computeMean()\nprint(empiricalMean)\nempiricalSd = outputSample.computeStandardDeviation()\nprint(empiricalSd)"
      ]
    },
    {
      "cell_type": "markdown",
      "metadata": {},
      "source": [
        "## What types for x and for y ?\n\nNot all types are possible for the inputs and outputs of the `mySimulator` function.\nThe following table present some of the available types.\nAll in all, any type which can be converted to or from a \"vector\" can be managed by the `PythonFunction` class.\n\n ====================  =======  ========\n Type                  Input X  Output Y\n ====================  =======  ========\n `list` (Python)       NO       YES\n `tuple` (Python)      NO       YES\n `array` (NumPy)       NO       YES\n `Point` (OpenTURNS)   YES      YES\n ====================  =======  ========\n\n\n"
      ]
    },
    {
      "cell_type": "markdown",
      "metadata": {},
      "source": [
        "## The vectorized Python function\n\nThe `PythonFunction` class has a `func_sample` option which vectorizes the\ncomputation so that all the output values in the sample are computed from a\nsingle function call, without any `for` loop.\nTo make this possible, the input and output is then a `Sample` instead of a `Point`.\nThis often boosts performance (but not always).\n\n"
      ]
    },
    {
      "cell_type": "markdown",
      "metadata": {},
      "source": [
        "The calling sequence of a vectorized Python function is:\n\ndef mySimulator (x):\n    [...]\n    return y\n\nmyfunction = PythonFunction(nbInputs, nbOutputs, func_sample = mySimulator)\n\nwhere\n\n* x: the input of the function, a `Sample` with size `nbExperiments` (`getSize`) and dimension `nbInputs` (`getDimension`),\n* y: the output of the function\n\n  * a numpy `array` with `nbExperiments` rows and `nbOutputs` columns\n  * or a `Sample` with size `nbExperiments` and dimension `nbOutputs`\n\n"
      ]
    },
    {
      "cell_type": "markdown",
      "metadata": {},
      "source": [
        "In the following, we present an vectorization example based on the `numpy` module.\n\n"
      ]
    },
    {
      "cell_type": "code",
      "execution_count": null,
      "metadata": {
        "collapsed": false
      },
      "outputs": [],
      "source": [
        "def mySimulatorVect(x):\n    # Convert NumericalSample > Array Numpy\n    x = np.array(x)\n    x0 = x[:, 0]  # Extract column 0\n    x1 = x[:, 1]\n    x2 = x[:, 2]\n    y0 = x0 + x1 + x2\n    y1 = x0 - x1 * x2\n    # Stack the two rows\n    y = np.vstack((y0, y1))\n    y = y.transpose()\n    return y"
      ]
    },
    {
      "cell_type": "code",
      "execution_count": null,
      "metadata": {
        "collapsed": false
      },
      "outputs": [],
      "source": [
        "myfunctionVect = ot.PythonFunction(3, 2, func_sample=mySimulatorVect)"
      ]
    },
    {
      "cell_type": "code",
      "execution_count": null,
      "metadata": {
        "collapsed": false
      },
      "outputs": [],
      "source": [
        "outputVect = ot.CompositeRandomVector(myfunctionVect, inputRandomVector)"
      ]
    },
    {
      "cell_type": "code",
      "execution_count": null,
      "metadata": {
        "collapsed": false
      },
      "outputs": [],
      "source": [
        "montecarlosize = 10000\noutputSample = outputVect.getSample(montecarlosize)\n\nempiricalMean = outputSample.computeMean()\nprint(empiricalMean)\nempiricalSd = outputSample.computeStandardDeviation()\nprint(empiricalSd)"
      ]
    },
    {
      "cell_type": "markdown",
      "metadata": {},
      "source": [
        "## How to manage the history\n\nThe `MemoizeFunction` class defines a history system to store the calls to the function.\n\n ====================   ===============================================\n Methods                Description\n ====================   ===============================================\n `enableHistory()`      enables the history (it is enabled by default)\n `disableHistory()`     disables the history\n `clearHistory()`       deletes the content of the history\n `getHistoryInput()`    a `Sample`, the history of inputs X\n `getHistoryOutput()`   a `Sample`, the history of outputs Y\n ====================   ===============================================\n\n"
      ]
    },
    {
      "cell_type": "code",
      "execution_count": null,
      "metadata": {
        "collapsed": false
      },
      "outputs": [],
      "source": [
        "myfunction = ot.PythonFunction(3, 2, mySimulator)\nmyfunction = ot.MemoizeFunction(myfunction)"
      ]
    },
    {
      "cell_type": "code",
      "execution_count": null,
      "metadata": {
        "collapsed": false
      },
      "outputs": [],
      "source": [
        "outputVariableOfInterest = ot.CompositeRandomVector(myfunction, inputRandomVector)\nmontecarlosize = 10\noutputSample = outputVariableOfInterest.getSample(montecarlosize)"
      ]
    },
    {
      "cell_type": "markdown",
      "metadata": {},
      "source": [
        "Get the history of input points.\n\n"
      ]
    },
    {
      "cell_type": "code",
      "execution_count": null,
      "metadata": {
        "collapsed": false
      },
      "outputs": [],
      "source": [
        "inputs = myfunction.getInputHistory()\ninputs"
      ]
    },
    {
      "cell_type": "markdown",
      "metadata": {},
      "source": [
        "## Symbolic functions\n\nThe `SymbolicFunction` class can create symbolic functions whenever the function is simple enough to be expressed as a string.\n\nThis has at least two significant advantages.\n\n* It generally improves the performance.\n* This allows one to automatically evaluate the exact gradient and Hessian matrix.\n\nIn practice, some functions cannot be expressed as a symbolic function: in this case, the Python function cannot be avoided.\n\n"
      ]
    },
    {
      "cell_type": "markdown",
      "metadata": {},
      "source": [
        "The calling sequence is the following:\n\n### myfunction = SymbolicFunction( list_of_inputs, list_of_formulas)\n\nwhere\n\n* list_of_inputs: a `list` of `nbInputs` strings, the names of the input variables,\n* list_of_formulas: a `list` of `nbOutputs` strings, the equations.\n\n"
      ]
    },
    {
      "cell_type": "code",
      "execution_count": null,
      "metadata": {
        "collapsed": false
      },
      "outputs": [],
      "source": [
        "myfunction = ot.SymbolicFunction((\"x0\", \"x1\", \"x2\"), (\"x0 + x1 + x2\", \"x0 - x1 * x2\"))"
      ]
    },
    {
      "cell_type": "markdown",
      "metadata": {},
      "source": [
        "A `SymbolicFunction`, like any other function, can also have a history.\n\n"
      ]
    },
    {
      "cell_type": "code",
      "execution_count": null,
      "metadata": {
        "collapsed": false
      },
      "outputs": [],
      "source": [
        "myfunction = ot.MemoizeFunction(myfunction)"
      ]
    },
    {
      "cell_type": "code",
      "execution_count": null,
      "metadata": {
        "collapsed": false
      },
      "outputs": [],
      "source": [
        "outputVect = ot.CompositeRandomVector(myfunction, inputRandomVector)"
      ]
    },
    {
      "cell_type": "code",
      "execution_count": null,
      "metadata": {
        "collapsed": false
      },
      "outputs": [],
      "source": [
        "montecarlosize = 10000\noutputSample = outputVect.getSample(montecarlosize)\nempiricalMean = outputSample.computeMean()\nprint(empiricalMean)"
      ]
    },
    {
      "cell_type": "markdown",
      "metadata": {},
      "source": [
        "Since the history is enabled, we can get the history of outputs of the function.\n\n"
      ]
    },
    {
      "cell_type": "code",
      "execution_count": null,
      "metadata": {
        "collapsed": false
      },
      "outputs": [],
      "source": [
        "outputs = myfunction.getOutputHistory()\noutputs[1:10, :]"
      ]
    }
  ],
  "metadata": {
    "kernelspec": {
      "display_name": "Python 3",
      "language": "python",
      "name": "python3"
    },
    "language_info": {
      "codemirror_mode": {
        "name": "ipython",
        "version": 3
      },
      "file_extension": ".py",
      "mimetype": "text/x-python",
      "name": "python",
      "nbconvert_exporter": "python",
      "pygments_lexer": "ipython3",
      "version": "3.13.2"
    }
  },
  "nbformat": 4,
  "nbformat_minor": 0
}