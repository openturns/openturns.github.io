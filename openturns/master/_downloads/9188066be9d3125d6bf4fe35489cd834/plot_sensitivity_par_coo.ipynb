{
  "cells": [
    {
      "cell_type": "code",
      "execution_count": null,
      "metadata": {
        "collapsed": false
      },
      "outputs": [],
      "source": [
        "%matplotlib inline"
      ]
    },
    {
      "cell_type": "markdown",
      "metadata": {},
      "source": [
        "\n# Parallel coordinates graph as sensitivity tool\n"
      ]
    },
    {
      "cell_type": "markdown",
      "metadata": {},
      "source": [
        "The parallel coordinates graph enables to visualize all the combinations of the input\nvariables which lead to a specific range of the output variable.\n\nLet us consider a model $f: \\mathbb{R}^n \\longrightarrow \\mathbb{R}$, where $f(\\underline{X}) = Y$.\n\nThe graph requires to have an input sample $X_s$ and an output sample $Y_s$.\n\nThe first figure draws such a graph: each column represents one component\n$X_i$ of the input vector $\\underline{X}$.\nThe last column represents the scalar output variable $Y$.\nFor each point $\\underline{X}^j$, each component $X_i^j$\nis noted on its respective axe and the last mark is the one which corresponds to\nthe associated $Y^j$. A line joins all the marks. Thus, each point of the sample\ncorresponds to a particular line on the graph.\n\nThe scale of the axes are quantile based: each axe runs between 0 and 1 and each\nvalue is represented by its quantile with respect to its marginal empirical distribution.\n\nIt is interesting to select, among those lines, the ones which correspond to a specific range of the output variable.\nThese particular lines are colored differently.\nThis specific range is defined in the quantile based scale of $Y$ or in its specific scale.\nIn that second case, the range is automatically converted into a quantile based scale range.\n\n"
      ]
    },
    {
      "cell_type": "code",
      "execution_count": null,
      "metadata": {
        "collapsed": false
      },
      "outputs": [],
      "source": [
        "from __future__ import print_function\nimport openturns as ot\nimport openturns.viewer as viewer\nfrom matplotlib import pylab as plt\not.Log.Show(ot.Log.NONE)"
      ]
    },
    {
      "cell_type": "markdown",
      "metadata": {},
      "source": [
        "Create data to visualize\n\n"
      ]
    },
    {
      "cell_type": "code",
      "execution_count": null,
      "metadata": {
        "collapsed": false
      },
      "outputs": [],
      "source": [
        "# Create the model Y = x1^2 + x2\nmodel = ot.SymbolicFunction([\"x1\", \"x2\"], [\"x1^2+x2\"])\n\n# Create the input distribution and random vector X\nmyCorMat = ot.CorrelationMatrix(2)\nmyCorMat[0, 1] = -0.6\ninputDist = ot.Normal([0., 0.], myCorMat)\ninputDist.setDescription(['X1', 'X2'])\n\ninputVector = ot.RandomVector(inputDist)\n\n# Create the output random vector Y=model(X)\noutput = ot.CompositeRandomVector(model, inputVector)\n\n# Generate the input sample\nN = 500\nX = inputVector.getSample(N)\n\n# Evaluate the associated output sample\nY = model(X)\nY.setDescription(\"Y\")\n\nprint(Y.getMin(), Y.getMax(), Y.computeQuantilePerComponent(0.9))"
      ]
    },
    {
      "cell_type": "markdown",
      "metadata": {},
      "source": [
        "Example 1: value based scale to describe the Y range\n\n"
      ]
    },
    {
      "cell_type": "code",
      "execution_count": null,
      "metadata": {
        "collapsed": false
      },
      "outputs": [],
      "source": [
        "minValue = 3.35\nmaxValue = 20.0\nquantileScale = False\ngraphCobweb = ot.VisualTest.DrawParallelCoordinates(\n    X, Y, minValue, maxValue, 'red', quantileScale)\ngraphCobweb.setLegendPosition('bottomright')\nview = viewer.View(graphCobweb)"
      ]
    },
    {
      "cell_type": "markdown",
      "metadata": {},
      "source": [
        "Example 2: rank based scale to describe the Y range\n\n"
      ]
    },
    {
      "cell_type": "code",
      "execution_count": null,
      "metadata": {
        "collapsed": false
      },
      "outputs": [],
      "source": [
        "minValue = 0.9\nmaxValue = 1.0\nquantileScale = True\ngraphCobweb = ot.VisualTest.DrawParallelCoordinates(\n    X, Y, minValue, maxValue, 'red', quantileScale)\ngraphCobweb.setLegendPosition('bottomright')\nview = viewer.View(graphCobweb)\nplt.show()"
      ]
    }
  ],
  "metadata": {
    "kernelspec": {
      "display_name": "Python 3",
      "language": "python",
      "name": "python3"
    },
    "language_info": {
      "codemirror_mode": {
        "name": "ipython",
        "version": 3
      },
      "file_extension": ".py",
      "mimetype": "text/x-python",
      "name": "python",
      "nbconvert_exporter": "python",
      "pygments_lexer": "ipython3",
      "version": "3.9.7"
    }
  },
  "nbformat": 4,
  "nbformat_minor": 0
}