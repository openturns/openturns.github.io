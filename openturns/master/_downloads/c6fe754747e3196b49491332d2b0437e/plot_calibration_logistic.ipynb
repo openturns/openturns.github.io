{
  "cells": [
    {
      "cell_type": "markdown",
      "metadata": {},
      "source": [
        "\n# Calibration of the logistic model\n\nWe present a calibration study of the logistic growth model defined `here <use-case-logistic>`.\nThe data set that we use is the U.S. population from 1790 to 2000.\nOne of the specific properties of this study is that the observations\nthat we use are real world observations.\nHence when we calibrate the model on the data, there is a discrepancy that will\nbe seen.\nIn this example, we calibrate the parameters of a model which predicts\nthe dynamics of the size of a population.\nThis shows how we can calibrate a model which predicts a time\ndependent output.\nThe output of the model is a time series representing the evolution of the\npopulation.\nThis requires a transpose of the sample, so that we can benefit from\nthe visualization methods.\n\n## Variables\n\nIn the particular situation where we want to calibrate this model, the\nfollowing list presents which variables are observed input variables,\ninput calibrated variables and observed output variables.\n\n- $t$: Input. Observed.\n- $z_0$, $a$, $c$: Inputs. Calibrated.\n- $z$: Output. Observed.\n"
      ]
    },
    {
      "cell_type": "markdown",
      "metadata": {},
      "source": [
        "## Analysis of the data\n\n"
      ]
    },
    {
      "cell_type": "code",
      "execution_count": null,
      "metadata": {
        "collapsed": false
      },
      "outputs": [],
      "source": [
        "from openturns.usecases import logistic_model\nimport openturns as ot\nimport numpy as np\nimport openturns.viewer as otv\nfrom matplotlib import pylab as plt\n\not.Log.Show(ot.Log.NONE)"
      ]
    },
    {
      "cell_type": "markdown",
      "metadata": {},
      "source": [
        "We load the logistic model from the usecases module :\n\n"
      ]
    },
    {
      "cell_type": "code",
      "execution_count": null,
      "metadata": {
        "collapsed": false
      },
      "outputs": [],
      "source": [
        "lm = logistic_model.LogisticModel()\nprint(\"Inputs:\", lm.model.getInputDescription())\nprint(\"Outputs: \", lm.model.getOutputDescription())"
      ]
    },
    {
      "cell_type": "markdown",
      "metadata": {},
      "source": [
        "We see that there are 24 inputs.\nThe first 22 inputs are the timestamps and the last two inputs are the\na and c parameters to calibrate.\nThe 22 outputs are the population of the U.S. in millions.\n\n"
      ]
    },
    {
      "cell_type": "markdown",
      "metadata": {},
      "source": [
        "The data is based on 22 dates from 1790 to 2000. The observation points are\nstored in the `data` field :\n\n"
      ]
    },
    {
      "cell_type": "code",
      "execution_count": null,
      "metadata": {
        "collapsed": false
      },
      "outputs": [],
      "source": [
        "observedSample = lm.data\nobservedSample[:5]"
      ]
    },
    {
      "cell_type": "code",
      "execution_count": null,
      "metadata": {
        "collapsed": false
      },
      "outputs": [],
      "source": [
        "nbobs = observedSample.getSize()\nnbobs"
      ]
    },
    {
      "cell_type": "code",
      "execution_count": null,
      "metadata": {
        "collapsed": false
      },
      "outputs": [],
      "source": [
        "timeObservations = observedSample[:, 0]\ntimeObservations[0:5]"
      ]
    },
    {
      "cell_type": "code",
      "execution_count": null,
      "metadata": {
        "collapsed": false
      },
      "outputs": [],
      "source": [
        "populationObservations = observedSample[:, 1]\npopulationObservations[0:5]"
      ]
    },
    {
      "cell_type": "code",
      "execution_count": null,
      "metadata": {
        "collapsed": false
      },
      "outputs": [],
      "source": [
        "graph = ot.Graph(\"\", \"Time (years)\", \"Population (Millions)\", True, \"upper left\")\ncloud = ot.Cloud(timeObservations, populationObservations)\ncloud.setLegend(\"Observations\")\ncloud.setPointStyle(\n    ot.ResourceMap.GetAsString(\"CalibrationResult-ObservationPointStyle\")\n)\ngraph.add(cloud)\ncurve = ot.Curve(timeObservations, populationObservations)\ncurve.setColor(graph.getDrawable(0).getColor())\ncurve.setLegend(\"\")\ncurve.setLineStyle(ot.ResourceMap.GetAsString(\"CalibrationResult-ObservationLineStyle\"))\ngraph.add(curve)\nview = otv.View(graph)"
      ]
    },
    {
      "cell_type": "markdown",
      "metadata": {},
      "source": [
        "We see that there is a very smooth growth of the U.S. population.\nThis is a good candidate for model calibration.\n\n"
      ]
    },
    {
      "cell_type": "markdown",
      "metadata": {},
      "source": [
        "We consider the times and populations as dimension 22 vectors.\nThe `logisticModel` function takes a dimension 24 vector as input and\nreturns a dimension 22 vector.\nThe first 22 components of the input vector contains the dates and the\nremaining 2 components are $a$ and $b$.\n\n"
      ]
    },
    {
      "cell_type": "markdown",
      "metadata": {},
      "source": [
        "Print the number of dates:\n\n"
      ]
    },
    {
      "cell_type": "code",
      "execution_count": null,
      "metadata": {
        "collapsed": false
      },
      "outputs": [],
      "source": [
        "print(lm.data.getSize())"
      ]
    },
    {
      "cell_type": "markdown",
      "metadata": {},
      "source": [
        "Get the physical model to calibrate.\n\n"
      ]
    },
    {
      "cell_type": "code",
      "execution_count": null,
      "metadata": {
        "collapsed": false
      },
      "outputs": [],
      "source": [
        "logisticModelPy = lm.model"
      ]
    },
    {
      "cell_type": "markdown",
      "metadata": {},
      "source": [
        "The reference values of the parameters.\n\nBecause $b$ is so small with respect to $a$, we use the logarithm.\nIn other words, we calibrate $c = \\log(b)$ instead of calibrating\n$b$.\nThis makes the calibration much easier.\n\n"
      ]
    },
    {
      "cell_type": "code",
      "execution_count": null,
      "metadata": {
        "collapsed": false
      },
      "outputs": [],
      "source": [
        "np.log(1.5587e-10)"
      ]
    },
    {
      "cell_type": "code",
      "execution_count": null,
      "metadata": {
        "collapsed": false
      },
      "outputs": [],
      "source": [
        "a = 0.03134\nc = -22.58\nthetaPrior = [a, c]"
      ]
    },
    {
      "cell_type": "markdown",
      "metadata": {},
      "source": [
        "In the physical model, the inputs and parameters are ordered as\npresented in the next table.\nNotice that there are no parameters in the physical model.\n\n+-------+----------------+\n| Index | Input variable |\n+=======+================+\n| 0     | t1             |\n+-------+----------------+\n| 1     | t2             |\n+-------+----------------+\n| ...   | ...            |\n+-------+----------------+\n| 21    | t22            |\n+-------+----------------+\n| 22    | a              |\n+-------+----------------+\n| 23    | c              |\n+-------+----------------+\n\n+-------+-----------+\n| Index | Parameter |\n+=======+===========+\n| \u2205     | \u2205         |\n+-------+-----------+\n\n**Table 1.** Indices and names of the inputs and parameters of the physical model.\n\n\n"
      ]
    },
    {
      "cell_type": "code",
      "execution_count": null,
      "metadata": {
        "collapsed": false
      },
      "outputs": [],
      "source": [
        "print(\"Physical Model Inputs:\", lm.model.getInputDescription())\nprint(\"Physical Model Parameters:\", lm.model.getParameterDescription())"
      ]
    },
    {
      "cell_type": "markdown",
      "metadata": {},
      "source": [
        "In order to perform calibration, we have to define a parametric model,\nwith observed inputs and parameters to calibrate.\nIn order to do this, we create a :class:`~openturns.ParametricFunction` where the parameters\nare `a` and `c` which have the indices 22 and 23 in the physical model.\n\n+-------+----------------+\n| Index | Input variable |\n+=======+================+\n| 0     | t1             |\n+-------+----------------+\n| 1     | t2             |\n+-------+----------------+\n| ...   | ...            |\n+-------+----------------+\n| 21    | t22            |\n+-------+----------------+\n\n+-------+-----------+\n| Index | Parameter |\n+=======+===========+\n| 0     | a         |\n+-------+-----------+\n| 1     | c         |\n+-------+-----------+\n\n**Table 2.** Indices and names of the inputs and parameters of the parametric model.\n\n\n"
      ]
    },
    {
      "cell_type": "code",
      "execution_count": null,
      "metadata": {
        "collapsed": false
      },
      "outputs": [],
      "source": [
        "logisticParametric = ot.ParametricFunction(logisticModelPy, [22, 23], thetaPrior)\nprint(\"Parametric Model Inputs:\", logisticParametric.getInputDescription())\nprint(\"Parametric Model Parameters:\", logisticParametric.getParameterDescription())"
      ]
    },
    {
      "cell_type": "markdown",
      "metadata": {},
      "source": [
        "Check that we can evaluate the parametric function.\n\n"
      ]
    },
    {
      "cell_type": "code",
      "execution_count": null,
      "metadata": {
        "collapsed": false
      },
      "outputs": [],
      "source": [
        "populationPredicted = logisticParametric(timeObservations.asPoint())\nprint(populationPredicted[:5])"
      ]
    },
    {
      "cell_type": "code",
      "execution_count": null,
      "metadata": {
        "collapsed": false
      },
      "outputs": [],
      "source": [
        "graph = ot.Graph(\n    \"Before calibration\", \"Time (years)\", \"Population (Millions)\", True, \"upper left\"\n)\n# Observations\ncloud = ot.Cloud(timeObservations, populationObservations)\ncloud.setLegend(\"Observations\")\ncloud.setPointStyle(\n    ot.ResourceMap.GetAsString(\"CalibrationResult-ObservationPointStyle\")\n)\ngraph.add(cloud)\n# Predictions\ncloud = ot.Cloud(timeObservations.asPoint(), populationPredicted)\ncloud.setLegend(\"Predictions\")\ncloud.setPointStyle(ot.ResourceMap.GetAsString(\"CalibrationResult-PriorPointStyle\"))\ngraph.add(cloud)\nview = otv.View(graph)"
      ]
    },
    {
      "cell_type": "markdown",
      "metadata": {},
      "source": [
        "We see that the fit is not good: the observations continue to grow after 1950, while the growth of the prediction seems to fade.\n\n"
      ]
    },
    {
      "cell_type": "markdown",
      "metadata": {},
      "source": [
        "## Calibration with linear least squares\n\n"
      ]
    },
    {
      "cell_type": "markdown",
      "metadata": {},
      "source": [
        "The calibration algorithm takes input and output samples as arguments.\nIn this case, we choose to consider one single observation in dimension 22.\nIn order to perform calibration, we create a `Sample` of input times which has\none observation in dimension 22.\n\n"
      ]
    },
    {
      "cell_type": "code",
      "execution_count": null,
      "metadata": {
        "collapsed": false
      },
      "outputs": [],
      "source": [
        "timeObservationsSample = ot.Sample([timeObservations.asPoint()])\ntimeObservationsSample[0, 0:5]"
      ]
    },
    {
      "cell_type": "markdown",
      "metadata": {},
      "source": [
        "Similarly, we create a `Sample` of output populations which has\none observation in dimension 22.\n\n"
      ]
    },
    {
      "cell_type": "code",
      "execution_count": null,
      "metadata": {
        "collapsed": false
      },
      "outputs": [],
      "source": [
        "populationObservationsSample = ot.Sample([populationObservations.asPoint()])\npopulationObservationsSample[0, 0:5]"
      ]
    },
    {
      "cell_type": "code",
      "execution_count": null,
      "metadata": {
        "collapsed": false
      },
      "outputs": [],
      "source": [
        "logisticParametric = ot.ParametricFunction(logisticModelPy, [22, 23], thetaPrior)"
      ]
    },
    {
      "cell_type": "markdown",
      "metadata": {},
      "source": [
        "Check that we can evaluate the parametric function.\n\n"
      ]
    },
    {
      "cell_type": "code",
      "execution_count": null,
      "metadata": {
        "collapsed": false
      },
      "outputs": [],
      "source": [
        "populationPredicted = logisticParametric(timeObservationsSample)\npopulationPredicted[0, 0:5]"
      ]
    },
    {
      "cell_type": "markdown",
      "metadata": {},
      "source": [
        "## Calibration\n\n"
      ]
    },
    {
      "cell_type": "markdown",
      "metadata": {},
      "source": [
        "We are now able to perform the calibration, using linear least squares\nusing the :class:`~openturns.LinearLeastSquaresCalibration` class.\n\n"
      ]
    },
    {
      "cell_type": "code",
      "execution_count": null,
      "metadata": {
        "collapsed": false
      },
      "outputs": [],
      "source": [
        "algo = ot.LinearLeastSquaresCalibration(\n    logisticParametric, timeObservationsSample, populationObservationsSample, thetaPrior\n)\nalgo.run()\ncalibrationResult = algo.getResult()\nthetaMAP = calibrationResult.getParameterMAP()\nprint(\"theta After = \", thetaMAP)\nprint(\"theta Before = \", thetaPrior)"
      ]
    },
    {
      "cell_type": "markdown",
      "metadata": {},
      "source": [
        "Compared to the value of the parameters before calibration, we can see that the\nparameters were significantly updated.\n\n"
      ]
    },
    {
      "cell_type": "markdown",
      "metadata": {},
      "source": [
        "In order to see if the optimum parameters are sensitive to the\nobservation errors, we compute 95% confidence intervals.\n\n"
      ]
    },
    {
      "cell_type": "code",
      "execution_count": null,
      "metadata": {
        "collapsed": false
      },
      "outputs": [],
      "source": [
        "thetaPosterior = calibrationResult.getParameterPosterior()\nprint(thetaPosterior.computeBilateralConfidenceIntervalWithMarginalProbability(0.95)[0])"
      ]
    },
    {
      "cell_type": "markdown",
      "metadata": {},
      "source": [
        "The 95% confidence intervals of the optimum are relatively narrow:\nthis means that the optimum is not very sensitive to the observation errors.\nIn this case, the parameters are accurately estimated.\n\n"
      ]
    },
    {
      "cell_type": "markdown",
      "metadata": {},
      "source": [
        "In this example, we have considered a single observation in dimension 22.\nIn this case, the parametric model has has 22 outputs, which\ncreate a large number of plots.\nTranspose samples to interpret the data as a Sample in dimension 1\nwith 22 observations.\n\n"
      ]
    },
    {
      "cell_type": "code",
      "execution_count": null,
      "metadata": {
        "collapsed": false
      },
      "outputs": [],
      "source": [
        "if calibrationResult.getInputObservations().getSize() == 1:\n    calibrationResult.setInputObservations(timeObservations)\n    calibrationResult.setOutputObservations(populationObservations)\n    outputPriorMeanDimension22 = calibrationResult.getOutputAtPriorMean()\n    outputAtPriorDimension1 = ot.Sample.BuildFromPoint(outputPriorMeanDimension22[0])\n    outputPosteriorMeanDimension22 = calibrationResult.getOutputAtPosteriorMean()\n    outputPosteriorMeanDimension1 = ot.Sample.BuildFromPoint(\n        outputPosteriorMeanDimension22[0]\n    )\n    calibrationResult.setOutputAtPriorAndPosteriorMean(\n        outputAtPriorDimension1, outputPosteriorMeanDimension1\n    )"
      ]
    },
    {
      "cell_type": "markdown",
      "metadata": {},
      "source": [
        "Increase the default number of points in the plots.\nThis produces smoother spiky distributions.\n\n"
      ]
    },
    {
      "cell_type": "code",
      "execution_count": null,
      "metadata": {
        "collapsed": false
      },
      "outputs": [],
      "source": [
        "ot.ResourceMap.SetAsUnsignedInteger(\"Distribution-DefaultPointNumber\", 300)"
      ]
    },
    {
      "cell_type": "markdown",
      "metadata": {},
      "source": [
        "The next plot presents the U.S. population depending on the time.\nWe see that the calibrated model fits to the data more\nthan the uncalibrated model, especially on the second part\nof the time interval.\n\n"
      ]
    },
    {
      "cell_type": "code",
      "execution_count": null,
      "metadata": {
        "collapsed": false
      },
      "outputs": [],
      "source": [
        "# sphinx_gallery_thumbnail_number = 3\ngraph = calibrationResult.drawObservationsVsInputs()\ngraph.setLegendPosition(\"upper left\")\nview = otv.View(graph)"
      ]
    },
    {
      "cell_type": "markdown",
      "metadata": {},
      "source": [
        "As a metamodel, we can compare the predicted U.S. population\ndepending on the observed U.S. population.\nWe see that the model fits to the data accurately for\na population up to 150 million people, but diverges when the population\ngets larger.\nOn the other hand, the calibrated model under-predicts the\npopulation for the [0,150] population interval, and\nover-predicts for the [150,300] interval, balancing the errors\nso that the model globally fits.\nThe \"S\" shape of the graph after calibration reveals that\nthe calibrated model has a structure with residuals that do\nnot follow a normal distribution (otherwise the calibrated\ncloud would be spread over and under the diagonal).\nIn other words, the model and the data do not fit very well.\n\n"
      ]
    },
    {
      "cell_type": "code",
      "execution_count": null,
      "metadata": {
        "collapsed": false
      },
      "outputs": [],
      "source": [
        "graph = calibrationResult.drawObservationsVsPredictions()\nview = otv.View(graph)"
      ]
    },
    {
      "cell_type": "markdown",
      "metadata": {},
      "source": [
        "The residuals analysis shows that some residuals were very\nlarge before calibration.\nAfter calibration, most residuals are in the [-20,20] interval,\nwhich explains why the calibrated model fits the data better.\nWe notice that the distribution of the\ncalibrated residuals is relatively close to a normal distribution.\nThis may show that the least squares model is appropriate in\nthis case with respect to this criterion.\n\n"
      ]
    },
    {
      "cell_type": "code",
      "execution_count": null,
      "metadata": {
        "collapsed": false
      },
      "outputs": [],
      "source": [
        "graph = calibrationResult.drawResiduals()\nview = otv.View(graph)"
      ]
    },
    {
      "cell_type": "markdown",
      "metadata": {},
      "source": [
        "The next plot shows that there is a significant improvement\nafter the calibration: the initial point is very different\nfrom the distribution of the optimum parameter.\n\n"
      ]
    },
    {
      "cell_type": "code",
      "execution_count": null,
      "metadata": {
        "collapsed": false
      },
      "outputs": [],
      "source": [
        "graph = calibrationResult.drawParameterDistributions()\nview = otv.View(\n    graph,\n    figure_kw={\"figsize\": (8.0, 4.0)},\n    legend_kw={\"bbox_to_anchor\": (1.0, 1.0), \"loc\": \"upper left\"},\n)\nplt.subplots_adjust(right=0.8)\n\notv.View.ShowAll()"
      ]
    },
    {
      "cell_type": "markdown",
      "metadata": {},
      "source": [
        "Reset default settings\n\n"
      ]
    },
    {
      "cell_type": "code",
      "execution_count": null,
      "metadata": {
        "collapsed": false
      },
      "outputs": [],
      "source": [
        "ot.ResourceMap.Reload()"
      ]
    }
  ],
  "metadata": {
    "kernelspec": {
      "display_name": "Python 3",
      "language": "python",
      "name": "python3"
    },
    "language_info": {
      "codemirror_mode": {
        "name": "ipython",
        "version": 3
      },
      "file_extension": ".py",
      "mimetype": "text/x-python",
      "name": "python",
      "nbconvert_exporter": "python",
      "pygments_lexer": "ipython3",
      "version": "3.13.1"
    }
  },
  "nbformat": 4,
  "nbformat_minor": 0
}