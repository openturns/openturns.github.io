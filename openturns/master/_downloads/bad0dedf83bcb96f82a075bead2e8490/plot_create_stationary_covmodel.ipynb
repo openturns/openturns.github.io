{
  "cells": [
    {
      "cell_type": "code",
      "execution_count": null,
      "metadata": {
        "collapsed": false
      },
      "outputs": [],
      "source": [
        "%matplotlib inline"
      ]
    },
    {
      "cell_type": "markdown",
      "metadata": {},
      "source": [
        "\n# Create a stationary covariance model\n"
      ]
    },
    {
      "cell_type": "markdown",
      "metadata": {},
      "source": [
        "This use case illustrates how the User can create a covariance function from parametric models. The library implements the *multivariate Exponential model* as a parametric model for the covariance function where the spatial covariance function $\\rho$ writes:\n\n\\begin{align}\\rho(\\underline{s}, \\underline{t} ) = e^{-\\left\\| \\underline{s}- \\underline{t} \\right\\|_2} \\quad \\forall (\\underline{s}, \\underline{t}) \\in \\mathcal{D}\\end{align}\n\nIt is possible to define the exponential model from the spatial covariance matrix $\\underline{\\underline{C}}^{spat}$ rather than the correlation matrix $\\underline{\\underline{R}}$:\n\n\\begin{align}\\forall \\underline{t} \\in \\mathcal{D},\\quad \\underline{\\underline{C}}^{spat} = \\mathbb{E} \\left[ X_{\\underline{t}} X^t_{\\underline{t}} \\right] = \\underline{\\underline{A}}\\,\\underline{\\underline{R}}\\, \\underline{\\underline{A}}\\end{align}\n\nwith:\n\n\\begin{align}\\underline{\\underline{A}} = \\mbox{Diag}(a_1, \\dots, a_d)\\end{align}\n\nWe call $\\underline{a}$ the amplitude vector and $\\underline{\\lambda}$ the scale vector.\n\nThe library implements the multivariate exponential model thanks to the object *ExponentialModel* which is created from:\n\n\n- the scale and amplitude vectors $(\\underline{\\lambda}, \\underline{a})$: in that case, by default $\\underline{\\underline{R}} = \\underline{\\underline{I}}$;\n- the scale and amplitude vectors and the spatial correlation matrix  $(\\underline{\\lambda}, \\underline{a},\\underline{\\underline{R}})$;\n- the scale and amplitude vectors and the spatial covariance matrix  $(\\underline{\\lambda}, \\underline{a},\\underline{\\underline{C}})$; Then $\\underline{\\underline{C}}$ is mapped into the associated correlation matrix $\\underline{\\underline{R}}$ and the previous constructor is used.\n\n\n"
      ]
    },
    {
      "cell_type": "code",
      "execution_count": null,
      "metadata": {
        "collapsed": false
      },
      "outputs": [],
      "source": [
        "import openturns as ot\n\not.Log.Show(ot.Log.NONE)"
      ]
    },
    {
      "cell_type": "markdown",
      "metadata": {},
      "source": [
        "Create the amplitude vector (output dimension 3)\n\n"
      ]
    },
    {
      "cell_type": "code",
      "execution_count": null,
      "metadata": {
        "collapsed": false
      },
      "outputs": [],
      "source": [
        "amplitude = [1.0, 2.0, 3.0]\n\n# Scale vector (input dimension 1)\nscale = [4.0]\n\n# spatialCorrelation\nspatialCorrelation = ot.CorrelationMatrix(3)\nspatialCorrelation[0, 1] = 0.8\nspatialCorrelation[0, 2] = 0.6\nspatialCorrelation[1, 2] = 0.1\n\n# spatialCovariance\nspatialCovariance = ot.CovarianceMatrix(3)\nspatialCovariance[0, 0] = 4.0\nspatialCovariance[1, 1] = 5.0\nspatialCovariance[2, 2] = 6.0\nspatialCovariance[0, 1] = 1.2\nspatialCovariance[0, 2] = 0.9\nspatialCovariance[1, 2] = -0.2"
      ]
    },
    {
      "cell_type": "markdown",
      "metadata": {},
      "source": [
        "Create the covariance model from the amplitude and scale, no spatial correlation\n\n"
      ]
    },
    {
      "cell_type": "code",
      "execution_count": null,
      "metadata": {
        "collapsed": false
      },
      "outputs": [],
      "source": [
        "ot.ExponentialModel(scale, amplitude)"
      ]
    },
    {
      "cell_type": "markdown",
      "metadata": {},
      "source": [
        "or from the amplitude, scale and spatialCovariance\n\n"
      ]
    },
    {
      "cell_type": "code",
      "execution_count": null,
      "metadata": {
        "collapsed": false
      },
      "outputs": [],
      "source": [
        "ot.ExponentialModel(scale, amplitude, spatialCorrelation)"
      ]
    },
    {
      "cell_type": "markdown",
      "metadata": {},
      "source": [
        "or from the scale and spatialCovariance\n\n"
      ]
    },
    {
      "cell_type": "code",
      "execution_count": null,
      "metadata": {
        "collapsed": false
      },
      "outputs": [],
      "source": [
        "ot.ExponentialModel(scale, spatialCovariance)"
      ]
    }
  ],
  "metadata": {
    "kernelspec": {
      "display_name": "Python 3",
      "language": "python",
      "name": "python3"
    },
    "language_info": {
      "codemirror_mode": {
        "name": "ipython",
        "version": 3
      },
      "file_extension": ".py",
      "mimetype": "text/x-python",
      "name": "python",
      "nbconvert_exporter": "python",
      "pygments_lexer": "ipython3",
      "version": "3.10.8"
    }
  },
  "nbformat": 4,
  "nbformat_minor": 0
}