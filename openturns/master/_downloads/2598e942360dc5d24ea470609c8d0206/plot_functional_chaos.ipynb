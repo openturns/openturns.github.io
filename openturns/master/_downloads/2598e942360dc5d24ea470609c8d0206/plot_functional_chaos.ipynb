{
  "cells": [
    {
      "cell_type": "markdown",
      "metadata": {},
      "source": [
        "\n# Create a polynomial chaos metamodel from a data set\n"
      ]
    },
    {
      "cell_type": "markdown",
      "metadata": {},
      "source": [
        "In this example, we create a polynomial chaos expansion (PCE) using\na data set.\nMore precisely, given a pair of input and output samples,\nwe create a PCE without the knowledge of the input distribution.\nIn this example, we use a relatively small sample size equal to 80.\n\n"
      ]
    },
    {
      "cell_type": "markdown",
      "metadata": {},
      "source": [
        "In this example we create a global approximation of a model response using\npolynomial chaos expansion.\n\nLet $\\vect{g}$ be the function defined by:\n\n\\begin{align}\\vect{g}(\\vect{x}) = \\Tr{\\left(\\cos(x_1 + x_2), (x_2 + 1) e^{x_1}\\right)}\\end{align}\n\n\nfor any $\\vect{x} \\in \\Rset^2$.\n\nWe assume that\n\n\\begin{align}X_1 \\sim \\mathcal{N}(0,1) \\textrm{ and } X_2 \\sim \\mathcal{N}(0,1)\\end{align}\n\nand that $X_1$ and $X_2$ are independent.\n\nAn interesting point in this example is that the output is multivariate.\nThis is why we are going to use the `getMarginal` method in the script\nin order to select the output marginal that we want to manage.\n\n"
      ]
    },
    {
      "cell_type": "markdown",
      "metadata": {},
      "source": [
        "## Simulate input and output samples\n\n"
      ]
    },
    {
      "cell_type": "code",
      "execution_count": null,
      "metadata": {
        "collapsed": false
      },
      "outputs": [],
      "source": [
        "import openturns as ot\nimport openturns.viewer as viewer\nfrom matplotlib import pylab as plt\n\not.Log.Show(ot.Log.NONE)"
      ]
    },
    {
      "cell_type": "markdown",
      "metadata": {},
      "source": [
        "We first create the function `model`.\n\n"
      ]
    },
    {
      "cell_type": "code",
      "execution_count": null,
      "metadata": {
        "collapsed": false
      },
      "outputs": [],
      "source": [
        "ot.RandomGenerator.SetSeed(0)\ninput_names = [\"x1\", \"x2\"]\nformulas = [\"cos(x1 + x2)\", \"(x2 + 1) * exp(x1)\"]\nmodel = ot.SymbolicFunction(input_names, formulas)\ninputDimension = model.getInputDimension()\noutputDimension = model.getOutputDimension()"
      ]
    },
    {
      "cell_type": "markdown",
      "metadata": {},
      "source": [
        "Then we create a sample `inputSample` and compute the corresponding output\nsample `outputSample`.\n\n"
      ]
    },
    {
      "cell_type": "code",
      "execution_count": null,
      "metadata": {
        "collapsed": false
      },
      "outputs": [],
      "source": [
        "distribution = ot.Normal(inputDimension)\nsamplesize = 80\ninputSample = distribution.getSample(samplesize)\noutputSample = model(inputSample)"
      ]
    },
    {
      "cell_type": "markdown",
      "metadata": {},
      "source": [
        "## Create the PCE\n\n"
      ]
    },
    {
      "cell_type": "markdown",
      "metadata": {},
      "source": [
        "Create a functional chaos model.\nThe algorithm needs to fit a distribution on the input sample.\nTo do this, the algorithm in :class:`~openturns.FunctionalChaosAlgorithm`\nuses the :class:`~openturns.FunctionalChaosAlgorithm.BuildDistribution`\nstatic method to fit the distribution to the input sample.\nPlease read :doc:`Fit a distribution from an input sample </auto_meta_modeling/polynomial_chaos_metamodel/plot_chaos_build_distribution>`\nfor an example of this method.\nThe algorithm does this automatically using the Lilliefors test.\nIn order to make the algorithm a little faster, we reduce the\nvalue of the sample size used in the Lilliefors test.\n\n"
      ]
    },
    {
      "cell_type": "code",
      "execution_count": null,
      "metadata": {
        "collapsed": false
      },
      "outputs": [],
      "source": [
        "ot.ResourceMap.SetAsUnsignedInteger(\"FittingTest-LillieforsMaximumSamplingSize\", 50)"
      ]
    },
    {
      "cell_type": "markdown",
      "metadata": {},
      "source": [
        "The main topic of this example is to introduce the next constructor of\n:class:`~openturns.FunctionalChaosAlgorithm`.\nNotice that the only input arguments are the input and output samples.\n\n"
      ]
    },
    {
      "cell_type": "code",
      "execution_count": null,
      "metadata": {
        "collapsed": false
      },
      "outputs": [],
      "source": [
        "algo = ot.FunctionalChaosAlgorithm(inputSample, outputSample)\nalgo.run()\nresult = algo.getResult()\nresult"
      ]
    },
    {
      "cell_type": "markdown",
      "metadata": {},
      "source": [
        "Not all coefficients are selected in this PCE.\nIndeed, the default constructor of :class:`~openturns.FunctionalChaosAlgorithm`\ncreates a sparse PCE.\nPlease read :doc:`Create a full or sparse polynomial chaos expansion </auto_meta_modeling/polynomial_chaos_metamodel/plot_functional_chaos_database>`\nfor more details on this topic.\n\n"
      ]
    },
    {
      "cell_type": "markdown",
      "metadata": {},
      "source": [
        "Get the metamodel.\n\n"
      ]
    },
    {
      "cell_type": "code",
      "execution_count": null,
      "metadata": {
        "collapsed": false
      },
      "outputs": [],
      "source": [
        "metamodel = result.getMetaModel()"
      ]
    },
    {
      "cell_type": "markdown",
      "metadata": {},
      "source": [
        "Plot the second output of our model depending on $x_2$ with $x_1=0.5$.\nIn order to do this, we create a `ParametricFunction` and set the value of $x_1$.\nThen we use the `getMarginal` method to extract the second output (which index is equal to 1).\n\n"
      ]
    },
    {
      "cell_type": "code",
      "execution_count": null,
      "metadata": {
        "collapsed": false
      },
      "outputs": [],
      "source": [
        "x1index = 0\nx1value = 0.5\nx2min = -3.0\nx2max = 3.0\noutputIndex = 1\nmetamodelParametric = ot.ParametricFunction(metamodel, [x1index], [x1value])\ngraph = metamodelParametric.getMarginal(outputIndex).draw(x2min, x2max)\ngraph.setLegends([\"Metamodel\"])\nmodelParametric = ot.ParametricFunction(model, [x1index], [x1value])\ncurve = modelParametric.getMarginal(outputIndex).draw(x2min, x2max).getDrawable(0)\ncurve.setColor(\"red\")\ncurve.setLegend(\"Model\")\ngraph.add(curve)\ngraph.setLegendPosition(\"lower right\")\ngraph.setXTitle(\"X2\")\ngraph.setTitle(\"Metamodel Validation, output #%d\" % (outputIndex))\nview = viewer.View(graph)"
      ]
    },
    {
      "cell_type": "markdown",
      "metadata": {},
      "source": [
        "We see that the metamodel fits approximately to the model, except\nperhaps for extreme values of $x_2$.\nHowever, there is a better way of globally validating the metamodel,\nusing the :class:`~openturns.MetaModelValidation` on a validation design of experiments.\n\n"
      ]
    },
    {
      "cell_type": "code",
      "execution_count": null,
      "metadata": {
        "collapsed": false
      },
      "outputs": [],
      "source": [
        "n_valid = 100\ninputTest = distribution.getSample(n_valid)\noutputTest = model(inputTest)"
      ]
    },
    {
      "cell_type": "markdown",
      "metadata": {},
      "source": [
        "Plot the corresponding validation graphics.\n\n"
      ]
    },
    {
      "cell_type": "code",
      "execution_count": null,
      "metadata": {
        "collapsed": false
      },
      "outputs": [],
      "source": [
        "metamodelPredictions = metamodel(inputTest)\nval = ot.MetaModelValidation(outputTest, metamodelPredictions)\nr2Score = val.computeR2Score()\ngraph = val.drawValidation()\ngraph.setTitle(\"Metamodel validation R2=\" + str(r2Score))\nview = viewer.View(graph)"
      ]
    },
    {
      "cell_type": "markdown",
      "metadata": {},
      "source": [
        "The coefficient of determination is not extremely satisfactory for the\nfirst output, but is would be sufficient for a central dispersion study.\nThe second output has a much more satisfactory $R^2$: only one single\nextreme point is far from the diagonal of the graphics.\n\n"
      ]
    },
    {
      "cell_type": "markdown",
      "metadata": {},
      "source": [
        "## Compute and print Sobol' indices\n\n"
      ]
    },
    {
      "cell_type": "code",
      "execution_count": null,
      "metadata": {
        "collapsed": false
      },
      "outputs": [],
      "source": [
        "chaosSI = ot.FunctionalChaosSobolIndices(result)\nchaosSI"
      ]
    },
    {
      "cell_type": "markdown",
      "metadata": {},
      "source": [
        "Let us analyze the results of this global sensitivity analysis.\n\n* We see that the first output involves significant multi-indices with\n  higher marginal degree.\n* For the second output, the first variable is especially significant,\n  with a significant contribution of the interactions.\n  The contribution of the interactions are very\n  significant in this model.\n\n"
      ]
    },
    {
      "cell_type": "markdown",
      "metadata": {},
      "source": [
        "Draw Sobol' indices.\n\n"
      ]
    },
    {
      "cell_type": "code",
      "execution_count": null,
      "metadata": {
        "collapsed": false
      },
      "outputs": [],
      "source": [
        "sensitivityAnalysis = ot.FunctionalChaosSobolIndices(result)\nfirst_order = [sensitivityAnalysis.getSobolIndex(i) for i in range(inputDimension)]\ntotal_order = [sensitivityAnalysis.getSobolTotalIndex(i) for i in range(inputDimension)]"
      ]
    },
    {
      "cell_type": "code",
      "execution_count": null,
      "metadata": {
        "collapsed": false
      },
      "outputs": [],
      "source": [
        "input_names = model.getInputDescription()\ngraph = ot.SobolIndicesAlgorithm.DrawSobolIndices(input_names, first_order, total_order)\ngraph.setLegendPosition(\"center\")\nview = viewer.View(graph)"
      ]
    },
    {
      "cell_type": "markdown",
      "metadata": {},
      "source": [
        "## Testing the sensitivity to the degree\n\nWith the specific constructor of :class:`~openturns.FunctionalChaosAlgorithm` that\nwe use, the `FunctionalChaosAlgorithm-MaximumTotalDegree`\nin the `ResourceMap` configures the maximum degree explored by\nthe algorithm. This degree is a trade-off.\n\n* If the maximum degree is too low, the polynomial may miss some\n  coefficients so that the quality is lower than possible.\n* If the maximum degree is too large, the number of coefficients\n  to explore is too large, so that the coefficients might be poorly estimated.\n\nThis is why the following `for` loop explores various degrees to see\nthe sensitivity of the metamodel predictivity depending on the degree.\n\n"
      ]
    },
    {
      "cell_type": "markdown",
      "metadata": {},
      "source": [
        "The default value of this parameter is 10.\n\n"
      ]
    },
    {
      "cell_type": "code",
      "execution_count": null,
      "metadata": {
        "collapsed": false
      },
      "outputs": [],
      "source": [
        "ot.ResourceMap.GetAsUnsignedInteger(\"FunctionalChaosAlgorithm-MaximumTotalDegree\")"
      ]
    },
    {
      "cell_type": "markdown",
      "metadata": {},
      "source": [
        "This is why we explore the values from 1 to 10.\n\n"
      ]
    },
    {
      "cell_type": "code",
      "execution_count": null,
      "metadata": {
        "collapsed": false
      },
      "outputs": [],
      "source": [
        "maximumDegree = 11\ndegrees = range(1, maximumDegree)\nr2Score = ot.Sample(len(degrees), outputDimension)\nfor maximumDegree in degrees:\n    ot.ResourceMap.SetAsUnsignedInteger(\n        \"FunctionalChaosAlgorithm-MaximumTotalDegree\", maximumDegree\n    )\n    print(\"Maximum total degree =\", maximumDegree)\n    algo = ot.FunctionalChaosAlgorithm(inputSample, outputSample)\n    algo.run()\n    result = algo.getResult()\n    metamodel = result.getMetaModel()\n    metamodelPredictions = metamodel(inputTest)\n    val = ot.MetaModelValidation(outputTest, metamodelPredictions)\n    r2ScoreLocal = val.computeR2Score()\n    r2ScoreLocal = [max(0.0, r2ScoreLocal[i]) for i in range(outputDimension)]\n    r2Score[maximumDegree - degrees[0]] = r2ScoreLocal"
      ]
    },
    {
      "cell_type": "code",
      "execution_count": null,
      "metadata": {
        "collapsed": false
      },
      "outputs": [],
      "source": [
        "graph = ot.Graph(\"Predictivity\", \"Total degree\", \"R2\", True)\ncloud = ot.Cloud([[d] for d in degrees], r2Score[:, 0])\ncloud.setLegend(\"Output #0\")\ncloud.setPointStyle(\"bullet\")\ngraph.add(cloud)\ncloud = ot.Cloud([[d] for d in degrees], r2Score[:, 1])\ncloud.setLegend(\"Output #1\")\ncloud.setPointStyle(\"diamond\")\ngraph.add(cloud)\ngraph.setLegendPosition(\"upper left\")\ngraph.setLegendCorner([1.0, 1.0])\nview = viewer.View(graph)\nplt.subplots_adjust(right=0.7)\nplt.show()"
      ]
    },
    {
      "cell_type": "markdown",
      "metadata": {},
      "source": [
        "We see that a low total degree is not sufficient to describe the\nfirst output with good $R^2$ score.\nHowever, the coefficient of determination can drop when the total degree increases.\nThe $R^2$ score of the second output seems to be much less satisfactory:\na little more work would be required to improve the metamodel.\n\nIn this situation, the following methods may be used.\n\n* Since the distribution of the input is known, we may want to give\n  this information to the :class:`~openturns.FunctionalChaosAlgorithm`.\n  This prevents the algorithm from trying to fit the input distribution\n  which best fit to the data.\n* We may want to customize the `adaptiveStrategy` by selecting an enumerate\n  function which best fit to this particular example.\n  In this specific example, however, the interactions plays a great role so that the\n  linear enumerate function may provide better results than the hyperbolic rule.\n* We may want to customize the `projectionStrategy` by selecting a method\n  to compute the coefficient which improves the estimation.\n  For example, it might be interesting to\n  try an integration rule instead of the least squares method.\n  Notice that a specific design of experiments is required in this case.\n\n"
      ]
    },
    {
      "cell_type": "markdown",
      "metadata": {},
      "source": [
        "Reset default settings\n\n"
      ]
    },
    {
      "cell_type": "code",
      "execution_count": null,
      "metadata": {
        "collapsed": false
      },
      "outputs": [],
      "source": [
        "ot.ResourceMap.Reload()"
      ]
    }
  ],
  "metadata": {
    "kernelspec": {
      "display_name": "Python 3",
      "language": "python",
      "name": "python3"
    },
    "language_info": {
      "codemirror_mode": {
        "name": "ipython",
        "version": 3
      },
      "file_extension": ".py",
      "mimetype": "text/x-python",
      "name": "python",
      "nbconvert_exporter": "python",
      "pygments_lexer": "ipython3",
      "version": "3.13.2"
    }
  },
  "nbformat": 4,
  "nbformat_minor": 0
}