{
  "cells": [
    {
      "cell_type": "markdown",
      "metadata": {},
      "source": [
        "\n# Draw a field\n"
      ]
    },
    {
      "cell_type": "markdown",
      "metadata": {},
      "source": [
        "The objective here is to create and manipulate a field.\nA field is the agregation of a mesh $\\mathcal{M}$ of a domain $\\mathcal{D} \\in \\mathbb{R}^n$\nand a sample of values in $\\mathbb{R}^d$ associated to each vertex of the mesh.\n\nWe note $(\\vect{t}_0, \\dots, \\vect{t}_{N-1})$ the vertices of $\\mathcal{M}$\nand $(\\vect{x}_0, \\dots, \\vect{x}_{N-1})$ the associated values in $\\mathbb{R}^d$.\n\nA field is stored in the :class:`~openturns.Field` object that stores the mesh and the values at each vertex of the mesh.\nIt can be built from a mesh and values or as a realization of a stochastic process.\nsphinx_gallery_thumbnail_number = 6\n\n"
      ]
    },
    {
      "cell_type": "code",
      "execution_count": null,
      "metadata": {
        "collapsed": false
      },
      "outputs": [],
      "source": [
        "import openturns as ot\nimport openturns.viewer as viewer\nfrom matplotlib import pyplot as plt"
      ]
    },
    {
      "cell_type": "markdown",
      "metadata": {},
      "source": [
        "First, define a regular 2-d mesh\n\n"
      ]
    },
    {
      "cell_type": "code",
      "execution_count": null,
      "metadata": {
        "collapsed": false
      },
      "outputs": [],
      "source": [
        "discretization = [10, 5]\nmesher = ot.IntervalMesher(discretization)\nlowerBound = [0.0, 0.0]\nupperBound = [2.0, 1.0]\ninterval = ot.Interval(lowerBound, upperBound)\nmesh = mesher.build(interval)\ngraph = mesh.draw()\ngraph.setTitle(\"Regular 2-d mesh\")\nview = viewer.View(graph)"
      ]
    },
    {
      "cell_type": "markdown",
      "metadata": {},
      "source": [
        "Create a field as a realization of a process\n\n"
      ]
    },
    {
      "cell_type": "code",
      "execution_count": null,
      "metadata": {
        "collapsed": false
      },
      "outputs": [],
      "source": [
        "amplitude = [1.0]\nscale = [0.2] * 2\nmyCovModel = ot.ExponentialModel(scale, amplitude)\nmyProcess = ot.GaussianProcess(myCovModel, mesh)\nfield = myProcess.getRealization()"
      ]
    },
    {
      "cell_type": "markdown",
      "metadata": {},
      "source": [
        "Create a field from a mesh and some values\n\n"
      ]
    },
    {
      "cell_type": "code",
      "execution_count": null,
      "metadata": {
        "collapsed": false
      },
      "outputs": [],
      "source": [
        "values = ot.Normal([0.0] * 2, [1.0] * 2, ot.CorrelationMatrix(2)).getSample(\n    len(mesh.getVertices())\n)\nfor i in range(len(values)):\n    x = values[i]\n    values[i] = 0.05 * x / x.norm()\nfield = ot.Field(mesh, values)\ngraph = field.draw()\ngraph.setTitle(\"Field on 2-d mesh and 2-d values\")\nview = viewer.View(graph)"
      ]
    },
    {
      "cell_type": "markdown",
      "metadata": {},
      "source": [
        "Compute the input mean of the field\n\n"
      ]
    },
    {
      "cell_type": "code",
      "execution_count": null,
      "metadata": {
        "collapsed": false
      },
      "outputs": [],
      "source": [
        "field.getInputMean()"
      ]
    },
    {
      "cell_type": "markdown",
      "metadata": {},
      "source": [
        "Draw the field without interpolation\n\n"
      ]
    },
    {
      "cell_type": "code",
      "execution_count": null,
      "metadata": {
        "collapsed": false
      },
      "outputs": [],
      "source": [
        "graph = field.drawMarginal(0, False)\ngraph.setTitle(\"Marginal field (no interpolation)\")\nview = viewer.View(graph)"
      ]
    },
    {
      "cell_type": "markdown",
      "metadata": {},
      "source": [
        "Draw the field with interpolation\nsphinx_gallery_thumbnail_number = 4\n\n"
      ]
    },
    {
      "cell_type": "code",
      "execution_count": null,
      "metadata": {
        "collapsed": false
      },
      "outputs": [],
      "source": [
        "graph = field.drawMarginal(0)\ngraph.setTitle(\"Marginal field (with interpolation)\")\nview = viewer.View(graph)"
      ]
    },
    {
      "cell_type": "markdown",
      "metadata": {},
      "source": [
        "Deform the mesh from the field according to the values of the field\nThe dimension of the mesh (ie of its vertices) must be the same as the dimension of the field (i.e., its values)\n\n"
      ]
    },
    {
      "cell_type": "code",
      "execution_count": null,
      "metadata": {
        "collapsed": false
      },
      "outputs": [],
      "source": [
        "graph = field.asDeformedMesh().draw()\ngraph.setTitle(\"Deformed 2-d mesh\")\nview = viewer.View(graph)"
      ]
    },
    {
      "cell_type": "markdown",
      "metadata": {},
      "source": [
        "Export to the VTK format\n\n"
      ]
    },
    {
      "cell_type": "code",
      "execution_count": null,
      "metadata": {
        "collapsed": false
      },
      "outputs": [],
      "source": [
        "field.exportToVTKFile(\"field.vtk\")\nwith open(\"field.vtk\") as f:\n    print(f.read()[:100])\n\nplt.show()"
      ]
    }
  ],
  "metadata": {
    "kernelspec": {
      "display_name": "Python 3",
      "language": "python",
      "name": "python3"
    },
    "language_info": {
      "codemirror_mode": {
        "name": "ipython",
        "version": 3
      },
      "file_extension": ".py",
      "mimetype": "text/x-python",
      "name": "python",
      "nbconvert_exporter": "python",
      "pygments_lexer": "ipython3",
      "version": "3.13.5"
    }
  },
  "nbformat": 4,
  "nbformat_minor": 0
}