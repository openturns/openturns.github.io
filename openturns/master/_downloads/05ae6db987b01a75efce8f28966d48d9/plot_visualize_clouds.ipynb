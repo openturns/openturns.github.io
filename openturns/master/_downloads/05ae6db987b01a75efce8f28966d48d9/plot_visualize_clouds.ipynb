{
  "cells": [
    {
      "cell_type": "code",
      "execution_count": null,
      "metadata": {
        "collapsed": false
      },
      "outputs": [],
      "source": [
        "%matplotlib inline"
      ]
    },
    {
      "cell_type": "markdown",
      "metadata": {},
      "source": [
        "\n# Visualize clouds\n"
      ]
    },
    {
      "cell_type": "markdown",
      "metadata": {},
      "source": [
        "In this example we are going to draw clouds of points from a data sample.\n\n"
      ]
    },
    {
      "cell_type": "code",
      "execution_count": null,
      "metadata": {
        "collapsed": false
      },
      "outputs": [],
      "source": [
        "from __future__ import print_function\nimport openturns as ot\nimport openturns.viewer as viewer\nfrom matplotlib import pylab as plt\not.Log.Show(ot.Log.NONE)"
      ]
    },
    {
      "cell_type": "markdown",
      "metadata": {},
      "source": [
        "Create 2-d samples to visualize\n\n"
      ]
    },
    {
      "cell_type": "code",
      "execution_count": null,
      "metadata": {
        "collapsed": false
      },
      "outputs": [],
      "source": [
        "N = 500\nR = ot.CorrelationMatrix(2)\nR[0,1] = -0.7\nsample1 = ot.Normal([1.0]*2, [1.0]*2, R).getSample(N) # 2d N(1,1) with correlation\nsample2 = ot.Normal(2).getSample(N) # 2d N(0,1) independent"
      ]
    },
    {
      "cell_type": "markdown",
      "metadata": {},
      "source": [
        "Create cloud drawables\n\n"
      ]
    },
    {
      "cell_type": "code",
      "execution_count": null,
      "metadata": {
        "collapsed": false
      },
      "outputs": [],
      "source": [
        "cloud1 = ot.Cloud(sample1, 'blue', 'fsquare', 'First Cloud')\ncloud2 = ot.Cloud(sample2, 'red', 'fsquare', 'Second Cloud')\n\n# Then, assemble it into a graph\nmyGraph2d = ot.Graph('2d clouds', 'x1', 'x2', True, 'topright')\nmyGraph2d.add(cloud1)\nmyGraph2d.add(cloud2)\nview = viewer.View(myGraph2d)"
      ]
    },
    {
      "cell_type": "markdown",
      "metadata": {},
      "source": [
        "Create a 3-d sample\n\n"
      ]
    },
    {
      "cell_type": "code",
      "execution_count": null,
      "metadata": {
        "collapsed": false
      },
      "outputs": [],
      "source": [
        "mean = [0.0] * 3\nsigma = [2.0, 1.5, 1.0]\nR = ot.CorrelationMatrix(3)\nR[0, 1] = 0.8\nR[1, 2] = -0.5\nN = 500\nsample3 = ot.Normal(mean, sigma, R).getSample(N)"
      ]
    },
    {
      "cell_type": "markdown",
      "metadata": {},
      "source": [
        "Draw clouds pairs\n\n"
      ]
    },
    {
      "cell_type": "code",
      "execution_count": null,
      "metadata": {
        "collapsed": false
      },
      "outputs": [],
      "source": [
        "graph3 = ot.VisualTest.DrawPairs(sample3)\ngraph3.setTitle('3d clouds')\nview = viewer.View(graph3)\nplt.show()"
      ]
    }
  ],
  "metadata": {
    "kernelspec": {
      "display_name": "Python 3",
      "language": "python",
      "name": "python3"
    },
    "language_info": {
      "codemirror_mode": {
        "name": "ipython",
        "version": 3
      },
      "file_extension": ".py",
      "mimetype": "text/x-python",
      "name": "python",
      "nbconvert_exporter": "python",
      "pygments_lexer": "ipython3",
      "version": "3.9.2"
    }
  },
  "nbformat": 4,
  "nbformat_minor": 0
}