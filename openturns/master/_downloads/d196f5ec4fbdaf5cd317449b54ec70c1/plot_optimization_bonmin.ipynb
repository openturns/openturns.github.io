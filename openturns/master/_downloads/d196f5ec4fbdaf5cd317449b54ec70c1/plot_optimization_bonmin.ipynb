{
  "cells": [
    {
      "cell_type": "markdown",
      "metadata": {},
      "source": [
        "\n# Optimization using bonmin\n"
      ]
    },
    {
      "cell_type": "markdown",
      "metadata": {},
      "source": [
        "In this example we are going to explore mixed-integer non linear problems\noptimization using the [bonmin](https://www.coin-or.org/Bonmin/index.html)\ninterface.\n%%\n\n"
      ]
    },
    {
      "cell_type": "code",
      "execution_count": null,
      "metadata": {
        "collapsed": false
      },
      "outputs": [],
      "source": [
        "import openturns as ot\n\not.Log.Show(ot.Log.NONE)"
      ]
    },
    {
      "cell_type": "markdown",
      "metadata": {},
      "source": [
        "List available algorithms\n\n"
      ]
    },
    {
      "cell_type": "code",
      "execution_count": null,
      "metadata": {
        "collapsed": false
      },
      "outputs": [],
      "source": [
        "for algo in ot.Bonmin.GetAlgorithmNames():\n    print(algo)"
      ]
    },
    {
      "cell_type": "markdown",
      "metadata": {},
      "source": [
        "Details and references on bonmin algorithms are available\n[here](https://projects.coin-or.org/Bonmin) .\n\n"
      ]
    },
    {
      "cell_type": "markdown",
      "metadata": {},
      "source": [
        "## Setting up and solving a simple problem\n\nThe following example will demonstrate the use of bonmin \"BB\" algorithm to\nsolve the following problem:\n\n\\begin{align}\\min - x_0 - x_1 - x_2\\end{align}\n\nsuch that:\n\n\\begin{align}\\begin{array}{l}\n   (x_1 - \\frac{1}{2})^2 + (x_2 - \\frac{1}{2})^2 \\leq \\frac{1}{4} \\\\\n   x_0 - x_1 \\leq 0 \\\\\n   x_0 + x_2 + x_3 \\leq 2\\\\\n   x_0 \\in \\{0,1\\}^n\\\\\n   (x_1, x_2) \\in \\mathbb{R}^2\\\\\n   x_3 \\in \\mathbb{N}\n   \\end{array}\\end{align}\n\nThe theoretical minimum is reached for $x = [1,1,0.5,0]$.\nAt this point, the objective function value is $-2.5$\n\nN.B.: equality and inequality constraints are required to be stated as\n$g(x) = 0$ and $h(x) \\geq 0$, respectively. Thus the inequalities\nabove will have to be restated to match this requirement:\n\n\\begin{align}\\begin{array}{l}\n   -(x_1 - \\frac{1}{2})^2 - (x_2 - \\frac{1}{2})^2 + \\frac{1}{4} \\geq 0\\\\\n   -x_0 + x_1 \\geq 0 \\\\\n   -x_0 - x_2 - x_3 + 2 \\geq 0\\\\\n   \\end{array}\\end{align}\n\n"
      ]
    },
    {
      "cell_type": "markdown",
      "metadata": {},
      "source": [
        "Definition of objective function\n\n"
      ]
    },
    {
      "cell_type": "code",
      "execution_count": null,
      "metadata": {
        "collapsed": false
      },
      "outputs": [],
      "source": [
        "objectiveFunction = ot.SymbolicFunction([\"x0\", \"x1\", \"x2\", \"x3\"], [\"-x0 -x1 -x2\"])\n\n# Definition of variables bounds\nbounds = ot.Interval(\n    [0, 0, 0, 0],\n    [1, 1e99, 1e99, 5],\n    [True, True, True, True],\n    [True, False, False, True],\n)\n\n# Definition of constraints\n# Constraints are defined as g(x) = 0 and h(x) >= 0\n#    No equality constraint -> nothing to do\n#    Inequality constraints:\nh = ot.SymbolicFunction(\n    [\"x0\", \"x1\", \"x2\", \"x3\"],\n    [\"-(x1-0.5)^2 - (x2-0.5)^2 + 0.25\", \"x1 - x0\", \"-x0 - x2 - x3 + 2\"],\n)\n\n# Definition of variables types\nCONTINUOUS = ot.OptimizationProblemImplementation.CONTINUOUS\nBINARY = ot.OptimizationProblemImplementation.BINARY\nINTEGER = ot.OptimizationProblemImplementation.INTEGER\nvariablesType = [BINARY, CONTINUOUS, CONTINUOUS, INTEGER]\n\n# Setting up Bonmin problem\nproblem = ot.OptimizationProblem(objectiveFunction)\nproblem.setBounds(bounds)\nproblem.setVariablesType(variablesType)\nproblem.setInequalityConstraint(h)\n\nbonminAlgorithm = ot.Bonmin(problem, \"B-BB\")\nbonminAlgorithm.setMaximumCallsNumber(10000)\nbonminAlgorithm.setMaximumIterationNumber(1000)\nbonminAlgorithm.setStartingPoint([0, 0, 0, 0])"
      ]
    },
    {
      "cell_type": "markdown",
      "metadata": {},
      "source": [
        "Running the solver\n\n"
      ]
    },
    {
      "cell_type": "code",
      "execution_count": null,
      "metadata": {
        "collapsed": false
      },
      "outputs": [],
      "source": [
        "bonminAlgorithm.run()\n\n# Retrieving the results\nresult = bonminAlgorithm.getResult()\nprint(\" -- Optimal point = \" + str(result.getOptimalPoint()))\nprint(\" -- Optimal value = \" + str(result.getOptimalValue()))\nprint(\" -- Evaluation number = \" + str(result.getInputSample().getSize()))"
      ]
    }
  ],
  "metadata": {
    "kernelspec": {
      "display_name": "Python 3",
      "language": "python",
      "name": "python3"
    },
    "language_info": {
      "codemirror_mode": {
        "name": "ipython",
        "version": 3
      },
      "file_extension": ".py",
      "mimetype": "text/x-python",
      "name": "python",
      "nbconvert_exporter": "python",
      "pygments_lexer": "ipython3",
      "version": "3.11.6"
    }
  },
  "nbformat": 4,
  "nbformat_minor": 0
}