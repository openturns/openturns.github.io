{
  "cells": [
    {
      "cell_type": "code",
      "execution_count": null,
      "metadata": {
        "collapsed": false
      },
      "outputs": [],
      "source": [
        "%matplotlib inline"
      ]
    },
    {
      "cell_type": "markdown",
      "metadata": {},
      "source": [
        "\n# Creation of a regular grid\n"
      ]
    },
    {
      "cell_type": "markdown",
      "metadata": {},
      "source": [
        "In this example we will demonstrate how to create a regular grid. Note that a regular grid is a particular mesh of $\\mathcal{D}=[0,T] \\in \\mathbb{R}$.\n\nHere we will assume it represents the time $t$ as it is often the case, but it can represent any physical quantity.\n\nA regular time grid is a regular discretization of the interval $[0, T] \\in \\mathbb{R}$ into $N$ points, noted $(t_0, \\dots, t_{N-1})$.\n\nThe time grid can be defined using $(t_{Min}, \\Delta t, N)$ where $N$ is the number of points in the time grid. $\\Delta t$ the time step between two consecutive instants and $t_0 = t_{Min}$. Then,  $t_k = t_{Min} + k \\Delta t$ and $t_{Max} = t_{Min} +  (N-1) \\Delta t$.\n\n\nConsider $X: \\Omega \\times \\mathcal{D} \\rightarrow \\mathbb{R}^d$ a multivariate stochastic process of dimension $d$,  where $n=1$, $\\mathcal{D}=[0,T]$ and $t\\in \\mathcal{D}$ is interpreted as a time stamp. Then the mesh associated to the process $X$ is a (regular) time grid.\n\n"
      ]
    },
    {
      "cell_type": "code",
      "execution_count": null,
      "metadata": {
        "collapsed": false
      },
      "outputs": [],
      "source": [
        "from __future__ import print_function\nimport openturns as ot\nimport openturns.viewer as viewer\nfrom matplotlib import pylab as plt\nimport math as m\not.Log.Show(ot.Log.NONE)"
      ]
    },
    {
      "cell_type": "code",
      "execution_count": null,
      "metadata": {
        "collapsed": false
      },
      "outputs": [],
      "source": [
        "tMin = 0.\ntStep = 0.1\nn = 10\n\n# Create the grid\ntime_grid = ot.RegularGrid(tMin, tStep, n)"
      ]
    },
    {
      "cell_type": "markdown",
      "metadata": {},
      "source": [
        "Get the first and the last instants,\nthe step and the number of points\n\n"
      ]
    },
    {
      "cell_type": "code",
      "execution_count": null,
      "metadata": {
        "collapsed": false
      },
      "outputs": [],
      "source": [
        "start = time_grid.getStart()\nstep = time_grid.getStep()\ngrid_size = time_grid.getN()\nend = time_grid.getEnd()\nprint('start=', start, 'step=', step, 'grid_size=', grid_size, 'end=', end)"
      ]
    },
    {
      "cell_type": "markdown",
      "metadata": {},
      "source": [
        "draw the grid\n\n"
      ]
    },
    {
      "cell_type": "code",
      "execution_count": null,
      "metadata": {
        "collapsed": false
      },
      "outputs": [],
      "source": [
        "time_grid.setName('time')\ngraph = time_grid.draw()\nview = viewer.View(graph)\nplt.show()"
      ]
    }
  ],
  "metadata": {
    "kernelspec": {
      "display_name": "Python 3",
      "language": "python",
      "name": "python3"
    },
    "language_info": {
      "codemirror_mode": {
        "name": "ipython",
        "version": 3
      },
      "file_extension": ".py",
      "mimetype": "text/x-python",
      "name": "python",
      "nbconvert_exporter": "python",
      "pygments_lexer": "ipython3",
      "version": "3.9.1"
    }
  },
  "nbformat": 4,
  "nbformat_minor": 0
}