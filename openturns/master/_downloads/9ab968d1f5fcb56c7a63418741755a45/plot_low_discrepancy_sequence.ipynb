{
  "cells": [
    {
      "cell_type": "markdown",
      "metadata": {},
      "source": [
        "\n# Generate low discrepancy sequences\n"
      ]
    },
    {
      "cell_type": "markdown",
      "metadata": {},
      "source": [
        "In this examples we are going to expose the available low discrepancy sequences in order to approximate some integrals.\n\nThe following low-discrepancy sequences are available:\n\n- Sobol\n- Faure\n- Halton\n- reverse Halton\n- Haselgrove\n\nTo illustrate these sequences we generate their first 1024 points and compare with the sequence obtained from\nthe pseudo random generator (Merse Twister) as the latter has a higher discrepancy.\n\n"
      ]
    },
    {
      "cell_type": "code",
      "execution_count": null,
      "metadata": {
        "collapsed": false
      },
      "outputs": [],
      "source": [
        "import openturns as ot\nimport openturns.viewer as viewer\nfrom matplotlib import pylab as plt\n\not.Log.Show(ot.Log.NONE)"
      ]
    },
    {
      "cell_type": "markdown",
      "metadata": {},
      "source": [
        "1. Sobol sequence\n\n"
      ]
    },
    {
      "cell_type": "code",
      "execution_count": null,
      "metadata": {
        "collapsed": false
      },
      "outputs": [],
      "source": [
        "dimension = 2\nsize = 1024\nsequence = ot.SobolSequence(dimension)\nsample = sequence.generate(size)\ngraph = ot.Graph(\"Sobol\", \"\", \"\", True, \"\")\ncloud = ot.Cloud(sample)\ngraph.add(cloud)\nview = viewer.View(graph)"
      ]
    },
    {
      "cell_type": "markdown",
      "metadata": {},
      "source": [
        "2. Halton sequence\n\n"
      ]
    },
    {
      "cell_type": "code",
      "execution_count": null,
      "metadata": {
        "collapsed": false
      },
      "outputs": [],
      "source": [
        "dimension = 2\nsequence = ot.HaltonSequence(dimension)\nsample = sequence.generate(size)\ngraph = ot.Graph(\"Halton\", \"\", \"\", True, \"\")\ncloud = ot.Cloud(sample)\ngraph.add(cloud)\nview = viewer.View(graph)"
      ]
    },
    {
      "cell_type": "markdown",
      "metadata": {},
      "source": [
        "3. Halton sequence in high dimension: bad filling in upper dimensions\n\n"
      ]
    },
    {
      "cell_type": "code",
      "execution_count": null,
      "metadata": {
        "collapsed": false
      },
      "outputs": [],
      "source": [
        "dimension = 20\nsequence = ot.HaltonSequence(dimension)\nsample = sequence.generate(size).getMarginal([dimension - 2, dimension - 1])\ngraph = ot.Graph(\n    \"Halton (\" + str(dimension - 2) + \",\" + str(dimension - 1) + \")\",\n    \"dim \" + str(dimension - 2),\n    \"dim \" + str(dimension - 1),\n    True,\n    \"\",\n)\ncloud = ot.Cloud(sample)\ngraph.add(cloud)\nview = viewer.View(graph)"
      ]
    },
    {
      "cell_type": "markdown",
      "metadata": {},
      "source": [
        "4. Scrambled Halton sequence in high dimension\n\n"
      ]
    },
    {
      "cell_type": "code",
      "execution_count": null,
      "metadata": {
        "collapsed": false
      },
      "outputs": [],
      "source": [
        "dimension = 20\nsequence = ot.HaltonSequence(dimension)\nsequence.setScrambling(\"RANDOM\")\nsample = sequence.generate(size).getMarginal([dimension - 2, dimension - 1])\ngraph = ot.Graph(\n    \"Halton (\" + str(dimension - 2) + \",\" + str(dimension - 1) + \")\",\n    \"dim \" + str(dimension - 2),\n    \"dim \" + str(dimension - 1),\n    True,\n    \"\",\n)\ncloud = ot.Cloud(sample)\ngraph.add(cloud)\nview = viewer.View(graph)"
      ]
    },
    {
      "cell_type": "markdown",
      "metadata": {},
      "source": [
        "5. Reverse Halton sequence\n\n"
      ]
    },
    {
      "cell_type": "code",
      "execution_count": null,
      "metadata": {
        "collapsed": false
      },
      "outputs": [],
      "source": [
        "dimension = 2\nsequence = ot.ReverseHaltonSequence(dimension)\nsample = sequence.generate(size)\nprint(\n    \"discrepancy=\",\n    ot.LowDiscrepancySequenceImplementation.ComputeStarDiscrepancy(sample),\n)\ngraph = ot.Graph(\"Reverse Halton\", \"\", \"\", True, \"\")\ncloud = ot.Cloud(sample)\ngraph.add(cloud)\nview = viewer.View(graph)"
      ]
    },
    {
      "cell_type": "markdown",
      "metadata": {},
      "source": [
        "6. Haselgrove sequence\n\n"
      ]
    },
    {
      "cell_type": "code",
      "execution_count": null,
      "metadata": {
        "collapsed": false
      },
      "outputs": [],
      "source": [
        "dimension = 2\nsequence = ot.HaselgroveSequence(dimension)\nsample = sequence.generate(size)\ngraph = ot.Graph(\"Haselgrove\", \"\", \"\", True, \"\")\ncloud = ot.Cloud(sample)\ngraph.add(cloud)\nview = viewer.View(graph)"
      ]
    },
    {
      "cell_type": "markdown",
      "metadata": {},
      "source": [
        "Compare with uniform random sequence\n\n"
      ]
    },
    {
      "cell_type": "code",
      "execution_count": null,
      "metadata": {
        "collapsed": false
      },
      "outputs": [],
      "source": [
        "distribution = ot.JointDistribution([ot.Uniform(0.0, 1.0)] * 2)\nsample = distribution.getSample(size)\nprint(\n    \"discrepancy=\",\n    ot.LowDiscrepancySequenceImplementation.ComputeStarDiscrepancy(sample),\n)\ngraph = ot.Graph(\"Mersenne Twister\", \"\", \"\", True, \"\")\ncloud = ot.Cloud(sample)\ngraph.add(cloud)\nview = viewer.View(graph)\nplt.show()"
      ]
    }
  ],
  "metadata": {
    "kernelspec": {
      "display_name": "Python 3",
      "language": "python",
      "name": "python3"
    },
    "language_info": {
      "codemirror_mode": {
        "name": "ipython",
        "version": 3
      },
      "file_extension": ".py",
      "mimetype": "text/x-python",
      "name": "python",
      "nbconvert_exporter": "python",
      "pygments_lexer": "ipython3",
      "version": "3.11.7"
    }
  },
  "nbformat": 4,
  "nbformat_minor": 0
}