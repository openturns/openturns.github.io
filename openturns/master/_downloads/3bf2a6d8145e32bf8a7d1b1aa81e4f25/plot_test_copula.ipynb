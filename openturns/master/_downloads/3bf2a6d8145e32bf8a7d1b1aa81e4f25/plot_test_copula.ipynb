{
  "cells": [
    {
      "cell_type": "code",
      "execution_count": null,
      "metadata": {
        "collapsed": false
      },
      "outputs": [],
      "source": [
        "%matplotlib inline"
      ]
    },
    {
      "cell_type": "markdown",
      "metadata": {},
      "source": [
        "\n# Test the copula\n"
      ]
    },
    {
      "cell_type": "code",
      "execution_count": null,
      "metadata": {
        "collapsed": false
      },
      "outputs": [],
      "source": [
        "import openturns as ot\nimport openturns.viewer as viewer\nfrom matplotlib import pylab as plt\n\not.Log.Show(ot.Log.NONE)"
      ]
    },
    {
      "cell_type": "markdown",
      "metadata": {},
      "source": [
        "## Copula fitting test using Kendall plot\n\nWe first perform a visual goodness-of-fit test for a copula with the Kendall plot test.\n\n"
      ]
    },
    {
      "cell_type": "markdown",
      "metadata": {},
      "source": [
        "We create two samples of size 500.\n\n"
      ]
    },
    {
      "cell_type": "code",
      "execution_count": null,
      "metadata": {
        "collapsed": false
      },
      "outputs": [],
      "source": [
        "N = 500"
      ]
    },
    {
      "cell_type": "code",
      "execution_count": null,
      "metadata": {
        "collapsed": false
      },
      "outputs": [],
      "source": [
        "dist1 = ot.ComposedDistribution([ot.Normal()] * 2, ot.GumbelCopula(3.0))\nsample1 = dist1.getSample(N)\nsample1.setName(\"sample1\")"
      ]
    },
    {
      "cell_type": "code",
      "execution_count": null,
      "metadata": {
        "collapsed": false
      },
      "outputs": [],
      "source": [
        "dist2 = ot.ComposedDistribution([ot.Normal()] * 2, ot.ClaytonCopula(0.2))\nsample2 = dist2.getSample(N)\nsample2.setName(\"sample2\")"
      ]
    },
    {
      "cell_type": "markdown",
      "metadata": {},
      "source": [
        "We change the parameter for the evaluation of E(Wi) thanks to the `ResourceMap` :\n\n"
      ]
    },
    {
      "cell_type": "code",
      "execution_count": null,
      "metadata": {
        "collapsed": false
      },
      "outputs": [],
      "source": [
        "ot.ResourceMap.SetAsUnsignedInteger(\"VisualTest-KendallPlot-MonteCarloSize\", 25)"
      ]
    },
    {
      "cell_type": "markdown",
      "metadata": {},
      "source": [
        "We can test a specific copula model for a given sample,\n\n"
      ]
    },
    {
      "cell_type": "code",
      "execution_count": null,
      "metadata": {
        "collapsed": false
      },
      "outputs": [],
      "source": [
        "copula_test = ot.GumbelCopula(3)\ngraph = ot.VisualTest.DrawKendallPlot(sample1, copula_test)\nview = viewer.View(graph)"
      ]
    },
    {
      "cell_type": "markdown",
      "metadata": {},
      "source": [
        "or test whether two samples have the same copula model\n\n"
      ]
    },
    {
      "cell_type": "code",
      "execution_count": null,
      "metadata": {
        "collapsed": false
      },
      "outputs": [],
      "source": [
        "graph = ot.VisualTest.DrawKendallPlot(sample1, sample2)\nview = viewer.View(graph)"
      ]
    },
    {
      "cell_type": "markdown",
      "metadata": {},
      "source": [
        "The first test gives a positive result as the blue curve is near the identity line which is not the case for the second test.\n\n"
      ]
    },
    {
      "cell_type": "markdown",
      "metadata": {},
      "source": [
        "## Graphical copula validation\n\nIn this paragraph we visualize an estimated copula versus the data in the rank space.\n\n\n"
      ]
    },
    {
      "cell_type": "markdown",
      "metadata": {},
      "source": [
        "First we create data\n\n"
      ]
    },
    {
      "cell_type": "code",
      "execution_count": null,
      "metadata": {
        "collapsed": false
      },
      "outputs": [],
      "source": [
        "marginals = [ot.Normal()] * 2\ndist = ot.ComposedDistribution(marginals, ot.ClaytonCopula(3))\nN = 500\nsample = dist.getSample(N)"
      ]
    },
    {
      "cell_type": "markdown",
      "metadata": {},
      "source": [
        "We build a estimate copula from the previous sample using the :class:`~openturns.ClaytonCopulaFactory` :\n\n"
      ]
    },
    {
      "cell_type": "code",
      "execution_count": null,
      "metadata": {
        "collapsed": false
      },
      "outputs": [],
      "source": [
        "estimated = ot.ClaytonCopulaFactory().build(sample)"
      ]
    },
    {
      "cell_type": "markdown",
      "metadata": {},
      "source": [
        "We represent data as a cloud in the rank space :\n\n"
      ]
    },
    {
      "cell_type": "code",
      "execution_count": null,
      "metadata": {
        "collapsed": false
      },
      "outputs": [],
      "source": [
        "ranksTransf = ot.MarginalTransformationEvaluation(\n    marginals, ot.MarginalTransformationEvaluation.FROM\n)\nrankSample = ranksTransf(sample)\nrankCloud = ot.Cloud(rankSample, \"blue\", \"plus\", \"sample\")"
      ]
    },
    {
      "cell_type": "markdown",
      "metadata": {},
      "source": [
        "We can plot the graph with rank sample and estimated copula :\n\n"
      ]
    },
    {
      "cell_type": "code",
      "execution_count": null,
      "metadata": {
        "collapsed": false
      },
      "outputs": [],
      "source": [
        "myGraph = ot.Graph(\"Parametric estimation of the copula\", \"X\", \"Y\", True, \"topleft\")\nmyGraph.setLegendPosition(\"bottomright\")\nmyGraph.add(rankCloud)"
      ]
    },
    {
      "cell_type": "markdown",
      "metadata": {},
      "source": [
        "and draw the iso-curves of the estimated copula\n\n"
      ]
    },
    {
      "cell_type": "code",
      "execution_count": null,
      "metadata": {
        "collapsed": false
      },
      "outputs": [],
      "source": [
        "minPoint = [0.0] * 2\nmaxPoint = [1.0] * 2\npointNumber = [201] * 2\ngraphCop = estimated.drawPDF(minPoint, maxPoint, pointNumber)\ncontour_estCop = graphCop.getDrawable(0)\n# Erase the labels of the iso-curves\ncontour_estCop.setDrawLabels(False)\n# Change the levels of the iso-curves\nnlev = 21\nlevels = [0.0] * nlev\nfor i in range(nlev):\n    levels[i] = 0.25 * nlev / (nlev - i)\ncontour_estCop.setLevels(levels)\n# Change the legend of the curves\ncontour_estCop.setLegend(\"Gumbel copula\")\n# Change the color of the iso-curves\ncontour_estCop.setColor(\"red\")\n# Add the iso-curves graph into the cloud one\nmyGraph.add(contour_estCop)\nview = viewer.View(myGraph)"
      ]
    },
    {
      "cell_type": "markdown",
      "metadata": {},
      "source": [
        "Display figures\n\n"
      ]
    },
    {
      "cell_type": "code",
      "execution_count": null,
      "metadata": {
        "collapsed": false
      },
      "outputs": [],
      "source": [
        "plt.show()"
      ]
    }
  ],
  "metadata": {
    "kernelspec": {
      "display_name": "Python 3",
      "language": "python",
      "name": "python3"
    },
    "language_info": {
      "codemirror_mode": {
        "name": "ipython",
        "version": 3
      },
      "file_extension": ".py",
      "mimetype": "text/x-python",
      "name": "python",
      "nbconvert_exporter": "python",
      "pygments_lexer": "ipython3",
      "version": "3.10.9"
    }
  },
  "nbformat": 4,
  "nbformat_minor": 0
}