{
  "cells": [
    {
      "cell_type": "markdown",
      "metadata": {},
      "source": [
        "\n# Create a linear model\nIn this example we create a metamodel model using a linear model approximation\nwith the :class:`~openturns.LinearModelAlgorithm` class.\nWe show how the :class:`~openturns.LinearModelAnalysis` class\ncan be used to produce the statistical analysis of the least squares\nregression model.\n"
      ]
    },
    {
      "cell_type": "markdown",
      "metadata": {},
      "source": [
        "## Introduction\n\nThe following 2-d function is used in this example:\n\n\\begin{align}\\model(x,y) = 3 + 2x - y\\end{align}\n\nfor any $x, y \\in \\Rset$.\n\nNotice that this model is linear:\n\n\\begin{align}\\model(x,y) = \\beta_1 + \\beta_2 x + \\beta_3 y\\end{align}\n\nwhere $\\beta_1 = 3$, $\\beta_2 = 2$ and $\\beta_3 = -1$.\n\nWe consider noisy observations of the output:\n\n\\begin{align}Y = \\model(x,y) + \\epsilon\\end{align}\n\nwhere $\\epsilon \\sim \\cN(0, \\sigma^2)$ with $\\sigma > 0$\nis the standard deviation.\nIn our example, we use $\\sigma = 0.1$.\n\nFinally, we use $n = 1000$ independent observations of the model.\n\n\n"
      ]
    },
    {
      "cell_type": "code",
      "execution_count": null,
      "metadata": {
        "collapsed": false
      },
      "outputs": [],
      "source": [
        "import openturns as ot\nimport openturns.viewer as otv"
      ]
    },
    {
      "cell_type": "markdown",
      "metadata": {},
      "source": [
        "## Simulate the data set\n\nWe first generate the data and we add noise to the output observations:\n\n"
      ]
    },
    {
      "cell_type": "code",
      "execution_count": null,
      "metadata": {
        "collapsed": false
      },
      "outputs": [],
      "source": [
        "distribution = ot.Normal(2)\ndistribution.setDescription([\"x\", \"y\"])\nsampleSize = 1000\nfunc = ot.SymbolicFunction([\"x\", \"y\"], [\"3 + 2 * x - y\"])\ninput_sample = distribution.getSample(sampleSize)\nepsilon = ot.Normal(0, 0.1).getSample(sampleSize)\noutput_sample = func(input_sample) + epsilon"
      ]
    },
    {
      "cell_type": "markdown",
      "metadata": {},
      "source": [
        "## Linear regression\n\nLet us run the linear model algorithm using the :class:`~openturns.LinearModelAlgorithm`\nclass and get the associated results:\n\n"
      ]
    },
    {
      "cell_type": "code",
      "execution_count": null,
      "metadata": {
        "collapsed": false
      },
      "outputs": [],
      "source": [
        "algo = ot.LinearModelAlgorithm(input_sample, output_sample)\nresult = algo.getResult()"
      ]
    },
    {
      "cell_type": "markdown",
      "metadata": {},
      "source": [
        "## Residuals analysis\n\nWe can now analyze the residuals of the regression on the training data.\nFor clarity purposes, only the first 5 residual values are printed.\n\n"
      ]
    },
    {
      "cell_type": "code",
      "execution_count": null,
      "metadata": {
        "collapsed": false
      },
      "outputs": [],
      "source": [
        "residuals = result.getSampleResiduals()\nresiduals[:5]"
      ]
    },
    {
      "cell_type": "markdown",
      "metadata": {},
      "source": [
        "Alternatively, the standardized residuals can be used:\n\n"
      ]
    },
    {
      "cell_type": "code",
      "execution_count": null,
      "metadata": {
        "collapsed": false
      },
      "outputs": [],
      "source": [
        "stdresiduals = result.getStandardizedResiduals()\nstdresiduals[:5]"
      ]
    },
    {
      "cell_type": "markdown",
      "metadata": {},
      "source": [
        "We can also get the noise distribution which is assumed to be gaussian:\n\n"
      ]
    },
    {
      "cell_type": "code",
      "execution_count": null,
      "metadata": {
        "collapsed": false
      },
      "outputs": [],
      "source": [
        "result.getNoiseDistribution()"
      ]
    },
    {
      "cell_type": "markdown",
      "metadata": {},
      "source": [
        "## Analysis of the results\n\nIn order to post-process the linear regression results, the :class:`~openturns.LinearModelAnalysis`\nclass can be used:\n\n"
      ]
    },
    {
      "cell_type": "code",
      "execution_count": null,
      "metadata": {
        "collapsed": false
      },
      "outputs": [],
      "source": [
        "analysis = ot.LinearModelAnalysis(result)\nanalysis"
      ]
    },
    {
      "cell_type": "markdown",
      "metadata": {},
      "source": [
        "The results seem to indicate that the linear model is satisfactory.\n\n- The basis uses the three functions $1$ (which is called the intercept),\n  $x$ and $y$.\n- Each row of the table of coefficients tests if one single coefficient is zero.\n  The probability of observing a large value of the T statistics is close to\n  zero for all coefficients.\n  Hence, we can reject the hypothesis that any coefficient is zero.\n  In other words, all the coefficients are significantly nonzero.\n- The $R^2$ score is close to 1.\n  Furthermore, the adjusted $R^2$ value, which takes into account the size of\n  the data set and the number of hyperparameters, is similar to the\n  unadjusted $R^2$ score.\n  Most of the variance is explained by the linear model.\n- The F-test tests if all coefficients are simultaneously zero.\n  The `Fisher-Snedecor` p-value is lower than 1%.\n  Hence, there is at least one nonzero coefficient.\n- The normality test checks that the residuals have a normal distribution.\n  The normality assumption can be rejected if the p-value is close to zero.\n  The p-values are larger than 0.05: the normality assumption of the\n  residuals is not rejected.\n\n\n"
      ]
    },
    {
      "cell_type": "markdown",
      "metadata": {},
      "source": [
        "## Graphical analyses\n\nLet us compare model and fitted values:\n\n"
      ]
    },
    {
      "cell_type": "code",
      "execution_count": null,
      "metadata": {
        "collapsed": false
      },
      "outputs": [],
      "source": [
        "graph = analysis.drawModelVsFitted()\nview = otv.View(graph)"
      ]
    },
    {
      "cell_type": "markdown",
      "metadata": {},
      "source": [
        "The previous figure seems to indicate that the linearity hypothesis\nis accurate.\n\n"
      ]
    },
    {
      "cell_type": "markdown",
      "metadata": {},
      "source": [
        "Residuals can be plotted against the fitted values.\n\n"
      ]
    },
    {
      "cell_type": "code",
      "execution_count": null,
      "metadata": {
        "collapsed": false
      },
      "outputs": [],
      "source": [
        "graph = analysis.drawResidualsVsFitted()\nview = otv.View(graph)"
      ]
    },
    {
      "cell_type": "code",
      "execution_count": null,
      "metadata": {
        "collapsed": false
      },
      "outputs": [],
      "source": [
        "graph = analysis.drawScaleLocation()\nview = otv.View(graph)"
      ]
    },
    {
      "cell_type": "code",
      "execution_count": null,
      "metadata": {
        "collapsed": false
      },
      "outputs": [],
      "source": [
        "graph = analysis.drawQQplot()\nview = otv.View(graph)"
      ]
    },
    {
      "cell_type": "markdown",
      "metadata": {},
      "source": [
        "In this case, the two distributions are very close: there is no obvious\noutlier.\n\nCook's distance measures the impact of every individual data point on the\nlinear regression, and can be plotted as follows:\n\n"
      ]
    },
    {
      "cell_type": "code",
      "execution_count": null,
      "metadata": {
        "collapsed": false
      },
      "outputs": [],
      "source": [
        "graph = analysis.drawCookDistance()\nview = otv.View(graph)"
      ]
    },
    {
      "cell_type": "markdown",
      "metadata": {},
      "source": [
        "This graph shows us the index of the points with disproportionate influence.\n\nOne of the components of the computation of Cook's distance at a given\npoint is that point's *leverage*.\nHigh-leverage points are far from their closest neighbors, so the fitted\nlinear regression model must pass close to them.\n\n"
      ]
    },
    {
      "cell_type": "code",
      "execution_count": null,
      "metadata": {
        "collapsed": false
      },
      "outputs": [],
      "source": [
        "# sphinx_gallery_thumbnail_number = 6\ngraph = analysis.drawResidualsVsLeverages()\nview = otv.View(graph)"
      ]
    },
    {
      "cell_type": "markdown",
      "metadata": {},
      "source": [
        "In this case, there seems to be no obvious influential outlier characterized\nby large leverage and residual values.\n\nSimilarly, we can also plot Cook's distances as a function of the sample\nleverages:\n\n"
      ]
    },
    {
      "cell_type": "code",
      "execution_count": null,
      "metadata": {
        "collapsed": false
      },
      "outputs": [],
      "source": [
        "graph = analysis.drawCookVsLeverages()\nview = otv.View(graph)"
      ]
    },
    {
      "cell_type": "markdown",
      "metadata": {},
      "source": [
        "Finally, we give the intervals for each estimated coefficient (95% confidence\ninterval):\n\n"
      ]
    },
    {
      "cell_type": "code",
      "execution_count": null,
      "metadata": {
        "collapsed": false
      },
      "outputs": [],
      "source": [
        "alpha = 0.95\ninterval = analysis.getCoefficientsConfidenceInterval(alpha)\nprint(\"confidence intervals with level=%1.2f: \" % (alpha))\nprint(\"%s\" % (interval))"
      ]
    },
    {
      "cell_type": "code",
      "execution_count": null,
      "metadata": {
        "collapsed": false
      },
      "outputs": [],
      "source": [
        "otv.View.ShowAll()"
      ]
    }
  ],
  "metadata": {
    "kernelspec": {
      "display_name": "Python 3",
      "language": "python",
      "name": "python3"
    },
    "language_info": {
      "codemirror_mode": {
        "name": "ipython",
        "version": 3
      },
      "file_extension": ".py",
      "mimetype": "text/x-python",
      "name": "python",
      "nbconvert_exporter": "python",
      "pygments_lexer": "ipython3",
      "version": "3.13.7"
    }
  },
  "nbformat": 4,
  "nbformat_minor": 0
}