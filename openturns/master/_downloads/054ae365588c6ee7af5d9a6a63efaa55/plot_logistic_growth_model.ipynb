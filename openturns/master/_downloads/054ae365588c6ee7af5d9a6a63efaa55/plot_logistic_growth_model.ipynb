{
  "cells": [
    {
      "cell_type": "code",
      "execution_count": null,
      "metadata": {
        "collapsed": false
      },
      "outputs": [],
      "source": [
        "%matplotlib inline"
      ]
    },
    {
      "cell_type": "markdown",
      "metadata": {},
      "source": [
        "\n# Logistic growth model\n"
      ]
    },
    {
      "cell_type": "markdown",
      "metadata": {},
      "source": [
        "In this example, we use the logistic growth model in order to show how to define a function which has a vector input and a field output. We use the `OpenTURNSPythonPointToFieldFunction` class to define the derived class and its methods. \n\n"
      ]
    },
    {
      "cell_type": "markdown",
      "metadata": {},
      "source": [
        "## Introduction\n\nThe logistic growth model is the differential equation:\n\n\\begin{align}\\frac{dy(t)}{dt} = ay(t) - by(t)^2\\end{align}\n\n\nfor any $t\\in[t_0, t_{final}]$, with the initial condition:\n\n\\begin{align}y(t_0) = y_0\\end{align}\n\n\nwhere\n\n- $a > 0$ and $b > 0$ are two real parameters, \n- $y(t)$ is the size of the population at time $t$, \n- $t_0$ is the initial time,\n- $y_0$ is the initial population at time $t=t_0$, \n- $t_{final}$ is the final time.\n\nThe $a$ parameter sets the growth rate of the population. The $b$ parameter acts as a competition parameter which limits the size of the population by increasing the competition between its members. \n\nIn [1], the author uses this model to simulate the growth of the U.S. population. To do this, the author uses the U.S. census data from 1790 to 1910. For this time interval, R. Pearl and L. Reed [2] computed the following values of the parameters:\n\n\\begin{align}a = 0.03134, \\qquad b = 1.5887 \\times 10^{-10}.\\end{align}\n\n\nOur goal is to use the logistic growth model in order to simulate the solution for a larger time interval, from 1790 to 2000:\n\n\\begin{align}t_0 = 1790, \\qquad t_{final} = 2000.\\end{align}\n\n\nThen we can compare the predictions of this model with the real evolution of the U.S. population.\n\nWe can prove that, if $y_0 > 0$, then the limit population is:\n\n\\begin{align}y_{limit} =\\frac{a}{b}.\\end{align}\n\n\nIn 1790, the U.S. population was 3.9 Millions inhabitants:\n\n\\begin{align}y_0 = 3.9 \\times 10^6.\\end{align}\n\n\nWe can prove that the exact solution of the ordinary differential equation is:\n\n\\begin{align}y(t)=\\frac{ay_0}{by_0+(a-by_0 ) \\exp(-a(t-t_0)) }\\end{align}\n\n\nfor any $t\\in[t_0, t_{final}]$.\n\nWe want to see the solution of the ordinary differential equation when uncertainties are taken into account in the parameters:\n\n- the initial U.S. population $y_0$,\n- the parameters $a$ and $b$.\n\nIndeed, Pearl and Reed [2] estimated the parameters $a$ and $b$ using the U.S. census data from 1790 to 1910 while we have the data up to 2000. Moreover, the method used by Pearl and Reed to estimate the parameters could be improved; they only used 3 dates to estimate the parameters instead of using least squares, for example. Finally, Pearl and Reed did not provide confidence intervals for the parameters $a$ and $b$. \n\n"
      ]
    },
    {
      "cell_type": "markdown",
      "metadata": {},
      "source": [
        "## Normalizing the data\n\nThe order of magnitude of the population is $10^6$. This is why we consider the normalized population in millions:\n\n\\begin{align}z(t) = \\frac{y(t)}{10^6}\\end{align}\n\n\nfor any $t\\in[t_0, t_{final}]$.\n\nLet $z_0$ be the initial population:\n\n\\begin{align}z_0 = z(t_0).\\end{align}\n\n\n"
      ]
    },
    {
      "cell_type": "markdown",
      "metadata": {},
      "source": [
        "## Uncertainties\n\nUncertainty can be accounted for by turning $z_0$, $a$ and $c$ into independent random variables $Z_0$, $A$ and $C$ with Gaussian distributions. From this point onward, $z_0$, $a$ and $b$ respectively denote $\\mathbb{E}[Z_0]$, $\\mathbb{E}[A]$ and $\\mathbb{E}[C]$.\n\n=============  ============================================================\nVariable       Distribution\n=============  ============================================================\n $Z_0$    gaussian, mean $z_0$, coefficient of variation 10%\n $A$      gaussian, mean $a$, coefficient of variation 30%\n $C$      gaussian, mean $c$, coefficient of variation 30%\n=============  ============================================================\n\nNo particular probabilistic method was used to set these distributions. An improvement would be to use calibration methods to get a better quantification of these distributions. An improvement would be to use calibration methods to get a better quantification of these distributions. \n\n"
      ]
    },
    {
      "cell_type": "markdown",
      "metadata": {},
      "source": [
        "## Notes\n\n* This example is based on [1], chapter \"First order differential equations\", page 28. The data used in [1] are from [3]. The logistic growth model was first suggested by Pierre Francois Verhulst near 1840. The data are from [1] for the time interval from 1790 to 1950, then from [2] for the time interval from 1960 to 2000.\n* Calibrating this model may require to take into account for the time dependency of the measures.\n\n\n"
      ]
    },
    {
      "cell_type": "markdown",
      "metadata": {},
      "source": [
        "## References\n\n[1] Martin Braun. Differential equations and their applications, Fourth Edition. Texts in applied\nmathematics. Springer, 1993.\n\n[2] Cleve Moler. Numerical Computing with Matlab. Society for Industrial Applied Mathematics,\n2004.\n\n[3] Raymond Pearl and Lowell Reed. On the rate of growth of the population of the united states\nsince 1790 and its mathematical representation. Proceedings of the National Academy of Sciences,\n1920.\n\n\n"
      ]
    },
    {
      "cell_type": "markdown",
      "metadata": {},
      "source": [
        "## Define the model\n\n"
      ]
    },
    {
      "cell_type": "code",
      "execution_count": null,
      "metadata": {
        "collapsed": false
      },
      "outputs": [],
      "source": [
        "from __future__ import print_function\nimport openturns as ot\nimport openturns.viewer as viewer\nfrom matplotlib import pylab as plt\nfrom numpy import linspace, exp, maximum\not.Log.Show(ot.Log.NONE)"
      ]
    },
    {
      "cell_type": "markdown",
      "metadata": {},
      "source": [
        "The data is based on 22 dates from 1790 to 2000.\n\n"
      ]
    },
    {
      "cell_type": "code",
      "execution_count": null,
      "metadata": {
        "collapsed": false
      },
      "outputs": [],
      "source": [
        "ustime=list(range(1790,2001,10))\nuspop=[3.9,5.3,7.2,9.6,13.,17.,23.,31.,39., 50.,62.,76.,92.,106.,123.,132.,151.,179., 203.,221.,250.,281.]"
      ]
    },
    {
      "cell_type": "markdown",
      "metadata": {},
      "source": [
        "Creation of the input distribution.\n\n"
      ]
    },
    {
      "cell_type": "code",
      "execution_count": null,
      "metadata": {
        "collapsed": false
      },
      "outputs": [],
      "source": [
        "y0 = 3.9e6\na = 0.03134\nb = 1.5887e-10\ndistY0 = ot.Normal(y0, 0.1 * y0)\ndistA  = ot.Normal(a, 0.3 * a)\ndistB  = ot.Normal(b, 0.3 * b)\ndistX = ot.ComposedDistribution([distY0, distA, distB])"
      ]
    },
    {
      "cell_type": "markdown",
      "metadata": {},
      "source": [
        "The model.\n\n"
      ]
    },
    {
      "cell_type": "code",
      "execution_count": null,
      "metadata": {
        "collapsed": false
      },
      "outputs": [],
      "source": [
        "class Popu(ot.OpenTURNSPythonPointToFieldFunction):\n\n    def __init__(self, t0 = 1790.0, tfinal = 2000.0, nt = 1000):\n        grid = ot.RegularGrid(t0, (tfinal - t0) / (nt - 1), nt)\n        super(Popu, self).__init__(3, grid, 1)\n        self.setInputDescription(['y0', 'a', 'b'])\n        self.setOutputDescription(['N'])\n        self.ticks_ = [t[0] for t in grid.getVertices()]\n        self.phi_ = ot.SymbolicFunction(['t', 'y', 'a', 'b'], ['a*y - b*y^2'])\n        \n    def _exec(self, X):\n        y0 = X[0]\n        a  = X[1]\n        b  = X[2]\n        phi_ab = ot.ParametricFunction(self.phi_, [2, 3], [a, b])\n        phi_t = ot.ParametricFunction(phi_ab, [0], [0.0])\n        solver = ot.RungeKutta(phi_t)\n        initialState = [y0]\n        values = solver.solve(initialState, self.ticks_)\n        return values * [1.0e-6]\n\nF = Popu(1790.0, 2000.0, 1000)\npopu = ot.PointToFieldFunction(F)"
      ]
    },
    {
      "cell_type": "markdown",
      "metadata": {},
      "source": [
        "## Generate a sample from the model\n\n"
      ]
    },
    {
      "cell_type": "markdown",
      "metadata": {},
      "source": [
        "Sample from the model\n\n"
      ]
    },
    {
      "cell_type": "code",
      "execution_count": null,
      "metadata": {
        "collapsed": false
      },
      "outputs": [],
      "source": [
        "size = 10\ninputSample = distX.getSample(size)\noutputSample = popu(inputSample)"
      ]
    },
    {
      "cell_type": "code",
      "execution_count": null,
      "metadata": {
        "collapsed": false
      },
      "outputs": [],
      "source": [
        "ot.ResourceMap.SetAsUnsignedInteger('Drawable-DefaultPalettePhase', size)"
      ]
    },
    {
      "cell_type": "markdown",
      "metadata": {},
      "source": [
        "Draw some curves\n\n"
      ]
    },
    {
      "cell_type": "code",
      "execution_count": null,
      "metadata": {
        "collapsed": false
      },
      "outputs": [],
      "source": [
        "graph = outputSample.drawMarginal(0)\ngraph.setTitle('US population')\ngraph.setXTitle(r':math:`t` (years)')\ngraph.setYTitle(r':math:`N` (millions)')\ncloud = ot.Cloud(ustime, uspop)\ncloud.setPointStyle('circle')\ncloud.setLegend('Data')\ngraph.add(cloud)\ngraph.setLegendPosition('topleft')\nview = viewer.View(graph)\nplt.show()"
      ]
    }
  ],
  "metadata": {
    "kernelspec": {
      "display_name": "Python 3",
      "language": "python",
      "name": "python3"
    },
    "language_info": {
      "codemirror_mode": {
        "name": "ipython",
        "version": 3
      },
      "file_extension": ".py",
      "mimetype": "text/x-python",
      "name": "python",
      "nbconvert_exporter": "python",
      "pygments_lexer": "ipython3",
      "version": "3.8.6"
    }
  },
  "nbformat": 4,
  "nbformat_minor": 0
}