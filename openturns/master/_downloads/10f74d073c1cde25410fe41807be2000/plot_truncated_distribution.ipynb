{
  "cells": [
    {
      "cell_type": "code",
      "execution_count": null,
      "metadata": {
        "collapsed": false
      },
      "outputs": [],
      "source": [
        "%matplotlib inline"
      ]
    },
    {
      "cell_type": "markdown",
      "metadata": {},
      "source": [
        "\n# Create a truncated distribution\n"
      ]
    },
    {
      "cell_type": "markdown",
      "metadata": {},
      "source": [
        "In this example we are going to define truncated distributions.\n\nIt is possible to truncate a distribution in its lower area, or its upper area or in both lower and upper areas.\n\nIn 1-d, assuming a and b bounds, its probability density function is defined as:\n\n\\begin{align}\\forall y \\in \\mathbb{R}, p_Y(y) =\n         \\begin{array}{|ll}\n           0 &  \\mbox{for } y \\geq b  \\mbox{ or }  y \\leq a\\\\\n           \\displaystyle \\frac{1}{F_X(b) - F_X(a)}\\, p_X(y) & \\mbox{for } y\\in[a,b]\n         \\end{array}\\end{align}\n\nIs is also possible to truncate a multivariate distribution.\n\n"
      ]
    },
    {
      "cell_type": "code",
      "execution_count": null,
      "metadata": {
        "collapsed": false
      },
      "outputs": [],
      "source": [
        "from __future__ import print_function\nimport openturns as ot\nimport openturns.viewer as viewer\nfrom matplotlib import pylab as plt\not.Log.Show(ot.Log.NONE)\n\n# the original distribution\ndistribution = ot.Gumbel(0.45, 0.6)\ngraph = distribution.drawPDF()\nview = viewer.View(graph)"
      ]
    },
    {
      "cell_type": "markdown",
      "metadata": {},
      "source": [
        "truncate on the left\n\n"
      ]
    },
    {
      "cell_type": "code",
      "execution_count": null,
      "metadata": {
        "collapsed": false
      },
      "outputs": [],
      "source": [
        "truncated = ot.TruncatedDistribution(distribution, 0.2, ot.TruncatedDistribution.LOWER)\ngraph = truncated.drawPDF()\nview = viewer.View(graph)"
      ]
    },
    {
      "cell_type": "markdown",
      "metadata": {},
      "source": [
        "truncate on the right\n\n"
      ]
    },
    {
      "cell_type": "code",
      "execution_count": null,
      "metadata": {
        "collapsed": false
      },
      "outputs": [],
      "source": [
        "truncated = ot.TruncatedDistribution(distribution, 1.5, ot.TruncatedDistribution.UPPER)\ngraph = truncated.drawPDF()\nview = viewer.View(graph)"
      ]
    },
    {
      "cell_type": "markdown",
      "metadata": {},
      "source": [
        "truncated on both bounds\n\n"
      ]
    },
    {
      "cell_type": "code",
      "execution_count": null,
      "metadata": {
        "collapsed": false
      },
      "outputs": [],
      "source": [
        "truncated = ot.TruncatedDistribution(distribution, 0.2, 1.5)\ngraph = truncated.drawPDF()\nview = viewer.View(graph)"
      ]
    },
    {
      "cell_type": "markdown",
      "metadata": {},
      "source": [
        "Define a multivariate distribution\n\n"
      ]
    },
    {
      "cell_type": "code",
      "execution_count": null,
      "metadata": {
        "collapsed": false
      },
      "outputs": [],
      "source": [
        "dimension = 2\nsize = 70\nsample = ot.Normal(dimension).getSample(size)\nks = ot.KernelSmoothing().build(sample)"
      ]
    },
    {
      "cell_type": "markdown",
      "metadata": {},
      "source": [
        "Truncate it between (-2;2)^n\n\n"
      ]
    },
    {
      "cell_type": "code",
      "execution_count": null,
      "metadata": {
        "collapsed": false
      },
      "outputs": [],
      "source": [
        "bounds = ot.Interval([-2.0] * dimension, [2.0] * dimension)\ntruncatedKS = ot.Distribution(ot.TruncatedDistribution(ks, bounds))"
      ]
    },
    {
      "cell_type": "markdown",
      "metadata": {},
      "source": [
        "Draw its PDF\n\n"
      ]
    },
    {
      "cell_type": "code",
      "execution_count": null,
      "metadata": {
        "collapsed": false
      },
      "outputs": [],
      "source": [
        "graph = truncatedKS.drawPDF([-2.5] * dimension, [2.5] * dimension, [256] * dimension)\ngraph.add(ot.Cloud(truncatedKS.getSample(200)))\ngraph.setColors([\"blue\", \"red\"])\nview = viewer.View(graph)\nplt.show()"
      ]
    }
  ],
  "metadata": {
    "kernelspec": {
      "display_name": "Python 3",
      "language": "python",
      "name": "python3"
    },
    "language_info": {
      "codemirror_mode": {
        "name": "ipython",
        "version": 3
      },
      "file_extension": ".py",
      "mimetype": "text/x-python",
      "name": "python",
      "nbconvert_exporter": "python",
      "pygments_lexer": "ipython3",
      "version": "3.9.0"
    }
  },
  "nbformat": 4,
  "nbformat_minor": 0
}