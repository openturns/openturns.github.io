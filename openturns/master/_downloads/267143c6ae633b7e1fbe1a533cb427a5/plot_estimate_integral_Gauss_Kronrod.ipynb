{
  "cells": [
    {
      "cell_type": "markdown",
      "metadata": {},
      "source": [
        "\n# Integrate a function with Gauss-Kronrod algorithm\n"
      ]
    },
    {
      "cell_type": "code",
      "execution_count": null,
      "metadata": {
        "collapsed": false
      },
      "outputs": [],
      "source": [
        "import openturns as ot\nimport numpy as np\nimport openturns.viewer as otv"
      ]
    },
    {
      "cell_type": "markdown",
      "metadata": {},
      "source": [
        "References :\n\n- [davis1975]_ section \"2.7.1.1 \"The Kronrod scheme\", p. 82 and section 6.2.0 \"An iterative nonadaptive scheme based on Kronrod formulas\" p.321.\n- [dahlquist2008]_ p.575.\n\n"
      ]
    },
    {
      "cell_type": "markdown",
      "metadata": {},
      "source": [
        "# Introduction\n\nIn this example, we present the :class:`~openturns.GaussKronrod` algorithm for one dimensional integration. That is, the algorithm can approximate the integral:\n\n\\begin{align}\\int_a^b f(x) dx\\end{align}\n\nwhere $f:[a,b] \\rightarrow \\mathbb{R}^p$ is a function,\n$[a,b] \\subset \\mathbb{R}$ with $a\\leq b$ is a one dimensional interval,\n$p$ is the dimension of the output.\nNotice that the dimension of the input must be equal to 1, but the number of outputs can be greater than 1.\n\nSuppose that we have estimated the integral with Gaussian quadrature and $m$ quadrature nodes.\nIf we want to improve the accuracy and use more nodes, the issue is that the new nodes do not correspond to the old ones: therefore, we cannot reuse the function evaluations.\n\nThe Gauss-Kronrod algorithm improves the situation by using two different methods:\n\n- a Gaussian quadrature rule with $m$ nodes,\n- a Kronrod extension with $2m+1$ nodes.\n\nThe rule $(G_m,K_{2m+1})$ is called a Gauss-Kronrod pair. In the Kronrod extension, the first $m$ nodes are equal to the nodes in Gaussian quadrature.\n\nThe Gaussian quadrature rule with $m$ nodes is exact for polynomials of degree $2m-1$.\nThe Kronrod extension with $2m+1$ nodes is designed to be exact for polynomials of degree $3m+1$.\n\nThe choice of the weight function $w(x)$ determines the nodes.\nWe consider the weight $w(x)=1$ and the interval $[a,b]=[-1,1]$ (it is straightforward to generalize this for an arbitrary interval $[a,b]$).\nIn this case, the new $m+1$ nodes of the Kronrod extension interlaces with the Gaussian nodes.\nThe weights are guaranteed to be positive (an essential property for numerical stability).\n\n"
      ]
    },
    {
      "cell_type": "markdown",
      "metadata": {},
      "source": [
        "# Example\nThe following example is from [davis1975]_ p.325:\n\n\\begin{align}\\int_0^1 f(x) dx = \\int_0^1 \\frac{2}{2 + \\sin(10 \\pi x)} dx = \\frac{2}{\\sqrt{3}} = 1.154700538379251529.\\end{align}\n\n"
      ]
    },
    {
      "cell_type": "markdown",
      "metadata": {},
      "source": [
        "We first define the function as a :class:`~openturns.SymbolicFunction`.\n\n"
      ]
    },
    {
      "cell_type": "code",
      "execution_count": null,
      "metadata": {
        "collapsed": false
      },
      "outputs": [],
      "source": [
        "integrand = ot.SymbolicFunction([\"x\"], [\"2 / (2 + sin(10 * pi_ * x))\"])\nintegrand.setOutputDescription([r\"$\\frac{2}{2 + sin(10 \\pi x)}$\"])\ngraph = integrand.draw(0.0, 1.0, 200)\n_ = otv.View(graph)"
      ]
    },
    {
      "cell_type": "markdown",
      "metadata": {},
      "source": [
        "We see that regular spikes and valleys will make this function difficult to integrate, because of the large curvatures implied at these points.\n\nWe will later count the number of function evaluations.\nBut a small amount of function evaluations has already been used for the plot and this is why we must take it into account.\n\n"
      ]
    },
    {
      "cell_type": "code",
      "execution_count": null,
      "metadata": {
        "collapsed": false
      },
      "outputs": [],
      "source": [
        "before_evaluation_number = integrand.getEvaluationCallsNumber()\nbefore_evaluation_number"
      ]
    },
    {
      "cell_type": "markdown",
      "metadata": {},
      "source": [
        "# Basic use\nWe first choose the Gauss-Kronrod rule. Six quadratures are available: we select the \"G11K23\" rule.\nIt uses 11 nodes from a Gauss rule and 23 nodes from a Kronrod rule, re-using the nodes from the Gauss rule.\n\n"
      ]
    },
    {
      "cell_type": "code",
      "execution_count": null,
      "metadata": {
        "collapsed": false
      },
      "outputs": [],
      "source": [
        "quadrature_rule = ot.GaussKronrodRule(ot.GaussKronrodRule.G11K23)"
      ]
    },
    {
      "cell_type": "markdown",
      "metadata": {},
      "source": [
        "We set the maximum number of sub-intervals and the maximum absolute error.\n\n"
      ]
    },
    {
      "cell_type": "code",
      "execution_count": null,
      "metadata": {
        "collapsed": false
      },
      "outputs": [],
      "source": [
        "maximumSubIntervals = 100\nmaximumError = 1.0e-8\nalgo = ot.GaussKronrod(maximumSubIntervals, maximumError, quadrature_rule)\ninterval = ot.Interval(0.0, 1.0)\ncomputed = algo.integrate(integrand, interval)\ncomputed[0]"
      ]
    },
    {
      "cell_type": "markdown",
      "metadata": {},
      "source": [
        "Notice that the algorithm can integrate a function which has several outputs (but the number of inputs is restricted to 1).\nThis is why we use the index `[0]` of `computed`, since :meth:`~openturns.GaussKronrod.integrate` returns a :class:`~openturns.Point`.\nIn order to check this computation, we compute the log-relative error in base 10.\nIn most cases (except when the exponent of the two numbers are different), this represents the number of correct digits in base 10.\n\n"
      ]
    },
    {
      "cell_type": "code",
      "execution_count": null,
      "metadata": {
        "collapsed": false
      },
      "outputs": [],
      "source": [
        "expected = 1.154700538379251529\nLRE_10 = -np.log10(abs(computed[0] - expected) / abs(expected))\nLRE_10"
      ]
    },
    {
      "cell_type": "markdown",
      "metadata": {},
      "source": [
        "The method computes more than 14 digits correctly. Given that 17 digits is the best we can, this is an astonishing performance.\n\nWe then compute the number of function evaluations.\n\n"
      ]
    },
    {
      "cell_type": "code",
      "execution_count": null,
      "metadata": {
        "collapsed": false
      },
      "outputs": [],
      "source": [
        "after_evaluation_number = integrand.getEvaluationCallsNumber()\nnumber_of_calls = after_evaluation_number - before_evaluation_number\nnumber_of_calls"
      ]
    },
    {
      "cell_type": "markdown",
      "metadata": {},
      "source": [
        "# Advanced use\n\nThe Gauss-Kronrod algorithm strives to produce an approximated integral which actual error is less than the tolerance.\nThe algorithm estimates the error, which may be used to guess the accuracy in the situation where the exact value is unknown (this is the general use case, of course).\n\nIn order to get the error estimated by the algorithm, we use the third input argument of the :meth:`~openturns.GaussKronrod.integrate` method.\n\n"
      ]
    },
    {
      "cell_type": "code",
      "execution_count": null,
      "metadata": {
        "collapsed": false
      },
      "outputs": [],
      "source": [
        "error = ot.Point()\ncomputed = algo.integrate(integrand, interval, error)\ncomputed[0]"
      ]
    },
    {
      "cell_type": "markdown",
      "metadata": {},
      "source": [
        "The variable `error` now contains the error estimate from the algorithm.\n\n"
      ]
    },
    {
      "cell_type": "code",
      "execution_count": null,
      "metadata": {
        "collapsed": false
      },
      "outputs": [],
      "source": [
        "error[0]"
      ]
    },
    {
      "cell_type": "markdown",
      "metadata": {},
      "source": [
        "We see that the error estimate is a little lower than the tolerance, which indicates that the integral should be correctly approximated.\n\n"
      ]
    },
    {
      "cell_type": "markdown",
      "metadata": {},
      "source": [
        "In the next advanced example, let us now use the powerful feature of the\nalgorithm that is, the ability to get the intermediate sub-intervals\nused by the algorithm.\n\n"
      ]
    },
    {
      "cell_type": "code",
      "execution_count": null,
      "metadata": {
        "collapsed": false
      },
      "outputs": [],
      "source": [
        "error = ot.Point()\nlowerBound = 0.0\nupperBound = 1.0\nai = ot.Point()\nbi = ot.Point()\nei = ot.Point()\nfi = ot.Sample()\ncomputed = algo.integrate(integrand, lowerBound, upperBound, error, ai, bi, fi, ei)\ncomputed[0]"
      ]
    },
    {
      "cell_type": "markdown",
      "metadata": {},
      "source": [
        "The error still contains the estimate of the error.\n\n"
      ]
    },
    {
      "cell_type": "code",
      "execution_count": null,
      "metadata": {
        "collapsed": false
      },
      "outputs": [],
      "source": [
        "error[0]"
      ]
    },
    {
      "cell_type": "markdown",
      "metadata": {},
      "source": [
        "During the algorithm, a collection of subintegrals\n\n\\begin{align}\\int_{a_i}^{b_i} f(x) dx\\end{align}\n\nare approximated.\nThe outputs $a_i$ and $b_i$ contain the subintervals used in the algorithm.\n\n"
      ]
    },
    {
      "cell_type": "code",
      "execution_count": null,
      "metadata": {
        "collapsed": false
      },
      "outputs": [],
      "source": [
        "print(\"ai:\", ai)\nprint(\"bi:\", bi)"
      ]
    },
    {
      "cell_type": "markdown",
      "metadata": {},
      "source": [
        "The corresponding value of the integrals are in $f_i$.\nSince $f$ can be a multidimensional point, this is a :class:`~openturns.Sample`, which dimension corresponds to the output dimension of the function $f$.\n\n"
      ]
    },
    {
      "cell_type": "code",
      "execution_count": null,
      "metadata": {
        "collapsed": false
      },
      "outputs": [],
      "source": [
        "print(\"fi:\", fi)"
      ]
    },
    {
      "cell_type": "markdown",
      "metadata": {},
      "source": [
        "The sum of these sub-integrals is the value of the integral:\n\n"
      ]
    },
    {
      "cell_type": "code",
      "execution_count": null,
      "metadata": {
        "collapsed": false
      },
      "outputs": [],
      "source": [
        "sum(fi)[0]"
      ]
    },
    {
      "cell_type": "markdown",
      "metadata": {},
      "source": [
        "The estimated error of each integral is in $e_i$:\n\n"
      ]
    },
    {
      "cell_type": "code",
      "execution_count": null,
      "metadata": {
        "collapsed": false
      },
      "outputs": [],
      "source": [
        "number_of_intervals = ai.getDimension()\nprint(\"number of intervals:\", number_of_intervals)\nfor i in range(number_of_intervals):\n    print(\n        f\"Integral #{i} : [{ai[i]:.4f}, {bi[i]:.4f}] is {fi[i, 0]:.4f} with error {ei[i]:.3e}\"\n    )\n\notv.View.ShowAll()"
      ]
    }
  ],
  "metadata": {
    "kernelspec": {
      "display_name": "Python 3",
      "language": "python",
      "name": "python3"
    },
    "language_info": {
      "codemirror_mode": {
        "name": "ipython",
        "version": 3
      },
      "file_extension": ".py",
      "mimetype": "text/x-python",
      "name": "python",
      "nbconvert_exporter": "python",
      "pygments_lexer": "ipython3",
      "version": "3.13.1"
    }
  },
  "nbformat": 4,
  "nbformat_minor": 0
}