{
  "cells": [
    {
      "cell_type": "code",
      "execution_count": null,
      "metadata": {
        "collapsed": false
      },
      "outputs": [],
      "source": [
        "%matplotlib inline"
      ]
    },
    {
      "cell_type": "markdown",
      "metadata": {},
      "source": [
        "\n# Process sample manipulation\n"
      ]
    },
    {
      "cell_type": "code",
      "execution_count": null,
      "metadata": {
        "collapsed": false
      },
      "outputs": [],
      "source": [
        "# sphinx_gallery_thumbnail_number = 2"
      ]
    },
    {
      "cell_type": "markdown",
      "metadata": {},
      "source": [
        "The objective here is to create and manipulate a process sample. A process sample is a collection of fields which share the same mesh $\\mathcal{M} \\in \\mathbb{R}^n$.\n\nA process sample can be obtained as $K$ realizations of a multivariate stochastic process $X: \\Omega \\times \\mathcal{D} \\rightarrow \\mathbb{R}^d$ of dimension $d$ where $\\mathcal{D} \\in \\mathbb{R}^n$, when the realizations are discretized on the same mesh $\\mathcal{M}$ of $\\mathcal{D}$. The  values $(\\underline{x}_0^k, \\dots, \\underline{x}_{N-1}^k)$ of the field $k$ are defined by:\n\n\\begin{align}\\forall i \\in [0, N-1],\\quad \\underline{x}_i= X(\\omega_k)(\\underline{t}_i)\\end{align}\n\n\n"
      ]
    },
    {
      "cell_type": "code",
      "execution_count": null,
      "metadata": {
        "collapsed": false
      },
      "outputs": [],
      "source": [
        "from __future__ import print_function\nimport openturns as ot\nimport openturns.viewer as viewer\nfrom matplotlib import pylab as plt\nimport math as m\not.Log.Show(ot.Log.NONE)"
      ]
    },
    {
      "cell_type": "markdown",
      "metadata": {},
      "source": [
        "First, define a regular 2-d mesh\n\n"
      ]
    },
    {
      "cell_type": "code",
      "execution_count": null,
      "metadata": {
        "collapsed": false
      },
      "outputs": [],
      "source": [
        "discretization = [10, 5]\nmesher = ot.IntervalMesher(discretization)\nlowerBound = [0.0, 0.0]\nupperBound = [2.0, 1.0]\ninterval = ot.Interval(lowerBound, upperBound)\nmesh = mesher.build(interval)\nmesh = ot.RegularGrid(0.0, 0.01, 100)\ngraph = mesh.draw()\nview = viewer.View(graph)"
      ]
    },
    {
      "cell_type": "markdown",
      "metadata": {},
      "source": [
        "Allocate a process sample from a field\n\n"
      ]
    },
    {
      "cell_type": "code",
      "execution_count": null,
      "metadata": {
        "collapsed": false
      },
      "outputs": [],
      "source": [
        "field = ot.Field()\nsampleSize = 10\nprocessSample = ot.ProcessSample(sampleSize, field)\n#field.draw()"
      ]
    },
    {
      "cell_type": "markdown",
      "metadata": {},
      "source": [
        "Create a process sample as realizations of a process\n\n"
      ]
    },
    {
      "cell_type": "code",
      "execution_count": null,
      "metadata": {
        "collapsed": false
      },
      "outputs": [],
      "source": [
        "amplitude = [1.0]\nscale = [0.2]*1\nmyCovModel = ot.ExponentialModel(scale, amplitude)\nmyProcess = ot.GaussianProcess(myCovModel, mesh)\nprocessSample = myProcess.getSample(10)\n#processSample"
      ]
    },
    {
      "cell_type": "markdown",
      "metadata": {},
      "source": [
        "draw the sample, without interpolation\n\n"
      ]
    },
    {
      "cell_type": "code",
      "execution_count": null,
      "metadata": {
        "collapsed": false
      },
      "outputs": [],
      "source": [
        "graph = processSample.drawMarginal(0, False)\nview = viewer.View(graph)"
      ]
    },
    {
      "cell_type": "markdown",
      "metadata": {},
      "source": [
        "draw the sample, with interpolation\n\n"
      ]
    },
    {
      "cell_type": "code",
      "execution_count": null,
      "metadata": {
        "collapsed": false
      },
      "outputs": [],
      "source": [
        "graph = processSample.drawMarginal(0)\nview = viewer.View(graph)"
      ]
    },
    {
      "cell_type": "markdown",
      "metadata": {},
      "source": [
        "Compute the  mean of the process sample\nThe result is a field\n\n"
      ]
    },
    {
      "cell_type": "code",
      "execution_count": null,
      "metadata": {
        "collapsed": false
      },
      "outputs": [],
      "source": [
        "graph = processSample.computeMean().drawMarginal()\nview = viewer.View(graph)"
      ]
    },
    {
      "cell_type": "markdown",
      "metadata": {},
      "source": [
        "Draw the quantile field\n\n"
      ]
    },
    {
      "cell_type": "code",
      "execution_count": null,
      "metadata": {
        "collapsed": false
      },
      "outputs": [],
      "source": [
        "graph = processSample.computeQuantilePerComponent(0.9).drawMarginal(0)\nview = viewer.View(graph)"
      ]
    },
    {
      "cell_type": "markdown",
      "metadata": {},
      "source": [
        "Draw the field with interpolation\n\n"
      ]
    },
    {
      "cell_type": "code",
      "execution_count": null,
      "metadata": {
        "collapsed": false
      },
      "outputs": [],
      "source": [
        "graph = processSample.drawMarginal(0)\nview = viewer.View(graph)"
      ]
    },
    {
      "cell_type": "markdown",
      "metadata": {},
      "source": [
        "processSample\n\n"
      ]
    },
    {
      "cell_type": "code",
      "execution_count": null,
      "metadata": {
        "collapsed": false
      },
      "outputs": [],
      "source": [
        "plt.show()"
      ]
    }
  ],
  "metadata": {
    "kernelspec": {
      "display_name": "Python 3",
      "language": "python",
      "name": "python3"
    },
    "language_info": {
      "codemirror_mode": {
        "name": "ipython",
        "version": 3
      },
      "file_extension": ".py",
      "mimetype": "text/x-python",
      "name": "python",
      "nbconvert_exporter": "python",
      "pygments_lexer": "ipython3",
      "version": "3.9.0"
    }
  },
  "nbformat": 4,
  "nbformat_minor": 0
}