{
  "cells": [
    {
      "cell_type": "code",
      "execution_count": null,
      "metadata": {
        "collapsed": false
      },
      "outputs": [],
      "source": [
        "%matplotlib inline"
      ]
    },
    {
      "cell_type": "markdown",
      "metadata": {},
      "source": [
        "\n# Estimate a probability with FORM\n"
      ]
    },
    {
      "cell_type": "markdown",
      "metadata": {},
      "source": [
        "In this example we estimate a failure probability with the `FORM` algorithm on the cantilever beam example. More precisely, we show how to use the associated results:\n\n- the design point in both physical and standard space,\n- the probability estimation according to the FORM approximation, and the following SORM ones: Tvedt, Hohen-Bichler and Breitung,\n- the Hasofer reliability index and the generalized ones evaluated from the Breitung, Tvedt and Hohen-Bichler approximations,\n- the importance factors defined as the normalized director factors of the design point in the $U$-space\n- the sensitivity factors of the Hasofer reliability index and the FORM probability.\n- the coordinates of the mean point in the standard event space.\n\nThe coordinates of the mean point in the standard event space is:\n\n\\begin{align}\\frac{1}{E_1(-\\beta)}\\int_{\\beta}^{\\infty} u_1 p_1(u_1)du_1\\end{align}\n\n\nwhere $E_1$ is the spheric univariate distribution of the standard space and $\\beta$ is the reliability index.\n\n"
      ]
    },
    {
      "cell_type": "markdown",
      "metadata": {},
      "source": [
        "## Introduction \n\nLet us consider the analytical example of a cantilever beam with Young modulus E, length L and section modulus I.\n\nOne end of the cantilever beam is built in a wall and we apply a concentrated bending load F at the other end of the beam, resulting in a deviation:\n\n\\begin{align}d = \\frac{FL^3}{3EI}\\end{align}\n\n\nFailure occurs when the beam deviation is too large:\n\n\\begin{align}d \\ge 30 (cm)\\end{align}\n\n\nFour independent random variables are considered:\n\n - E: Young's modulus [Pa]\n - F: load [N]\n - L: length [m]\n - I: section [m^4]\n\nStochastic model (simplified model, no units):\n\n - E ~ Beta(0.93, 2.27, 2.8e7, 4.8e7)\n - F ~ LogNormal(30000, 9000, 15000)\n - L ~ Uniform(250, 260)\n - I ~ Beta(2.5, 1.5, 3.1e2, 4.5e2)\n\n\n"
      ]
    },
    {
      "cell_type": "code",
      "execution_count": null,
      "metadata": {
        "collapsed": false
      },
      "outputs": [],
      "source": [
        "from __future__ import print_function\nimport openturns as ot\nimport openturns.viewer as viewer\nfrom matplotlib import pylab as plt\not.Log.Show(ot.Log.NONE)"
      ]
    },
    {
      "cell_type": "markdown",
      "metadata": {},
      "source": [
        "Create the marginal distributions of the parameters.\n\n"
      ]
    },
    {
      "cell_type": "code",
      "execution_count": null,
      "metadata": {
        "collapsed": false
      },
      "outputs": [],
      "source": [
        "dist_E = ot.Beta(0.93, 2.27, 2.8e7, 4.8e7)\ndist_F = ot.LogNormalMuSigma(30000, 9000, 15000).getDistribution()\ndist_L = ot.Uniform(250, 260)\ndist_I = ot.Beta(2.5, 1.5, 3.1e2, 4.5e2)\nmarginals = [dist_E, dist_F, dist_L, dist_I]"
      ]
    },
    {
      "cell_type": "markdown",
      "metadata": {},
      "source": [
        "Create the Copula.\n\n"
      ]
    },
    {
      "cell_type": "code",
      "execution_count": null,
      "metadata": {
        "collapsed": false
      },
      "outputs": [],
      "source": [
        "RS = ot.CorrelationMatrix(4)\nRS[2, 3] = -0.2\n# Evaluate the correlation matrix of the Normal copula from RS\nR = ot.NormalCopula.GetCorrelationFromSpearmanCorrelation(RS)\n# Create the Normal copula parametrized by R\ncopula = ot.NormalCopula(R)"
      ]
    },
    {
      "cell_type": "markdown",
      "metadata": {},
      "source": [
        "Create the joint probability distribution.\n\n"
      ]
    },
    {
      "cell_type": "code",
      "execution_count": null,
      "metadata": {
        "collapsed": false
      },
      "outputs": [],
      "source": [
        "distribution = ot.ComposedDistribution(marginals, copula)\ndistribution.setDescription(['E', 'F', 'L', 'I'])"
      ]
    },
    {
      "cell_type": "markdown",
      "metadata": {},
      "source": [
        "create the model\n\n"
      ]
    },
    {
      "cell_type": "code",
      "execution_count": null,
      "metadata": {
        "collapsed": false
      },
      "outputs": [],
      "source": [
        "model = ot.SymbolicFunction(['E', 'F', 'L', 'I'], ['F*L^3/(3*E*I)'])"
      ]
    },
    {
      "cell_type": "markdown",
      "metadata": {},
      "source": [
        "Create the event whose probability we want to estimate.\n\n"
      ]
    },
    {
      "cell_type": "code",
      "execution_count": null,
      "metadata": {
        "collapsed": false
      },
      "outputs": [],
      "source": [
        "vect = ot.RandomVector(distribution)\nG = ot.CompositeRandomVector(model, vect)\nevent = ot.ThresholdEvent(G, ot.Greater(), 30.0)\nevent.setName(\"deviation\")"
      ]
    },
    {
      "cell_type": "markdown",
      "metadata": {},
      "source": [
        "Define a solver\n\n"
      ]
    },
    {
      "cell_type": "code",
      "execution_count": null,
      "metadata": {
        "collapsed": false
      },
      "outputs": [],
      "source": [
        "optimAlgo = ot.Cobyla()\noptimAlgo.setMaximumEvaluationNumber(1000)\noptimAlgo.setMaximumAbsoluteError(1.0e-10)\noptimAlgo.setMaximumRelativeError(1.0e-10)\noptimAlgo.setMaximumResidualError(1.0e-10)\noptimAlgo.setMaximumConstraintError(1.0e-10)"
      ]
    },
    {
      "cell_type": "markdown",
      "metadata": {},
      "source": [
        "Run FORM\n\n"
      ]
    },
    {
      "cell_type": "code",
      "execution_count": null,
      "metadata": {
        "collapsed": false
      },
      "outputs": [],
      "source": [
        "algo = ot.FORM(optimAlgo, event, distribution.getMean())\nalgo.run()\nresult = algo.getResult()"
      ]
    },
    {
      "cell_type": "markdown",
      "metadata": {},
      "source": [
        "Probability\n\n"
      ]
    },
    {
      "cell_type": "code",
      "execution_count": null,
      "metadata": {
        "collapsed": false
      },
      "outputs": [],
      "source": [
        "result.getEventProbability()"
      ]
    },
    {
      "cell_type": "markdown",
      "metadata": {},
      "source": [
        "Hasofer reliability index\n\n"
      ]
    },
    {
      "cell_type": "code",
      "execution_count": null,
      "metadata": {
        "collapsed": false
      },
      "outputs": [],
      "source": [
        "result.getHasoferReliabilityIndex()"
      ]
    },
    {
      "cell_type": "markdown",
      "metadata": {},
      "source": [
        "Design point in the standard U* space.\n\n"
      ]
    },
    {
      "cell_type": "code",
      "execution_count": null,
      "metadata": {
        "collapsed": false
      },
      "outputs": [],
      "source": [
        "result.getStandardSpaceDesignPoint()"
      ]
    },
    {
      "cell_type": "markdown",
      "metadata": {},
      "source": [
        "Design point in the physical X space.\n\n"
      ]
    },
    {
      "cell_type": "code",
      "execution_count": null,
      "metadata": {
        "collapsed": false
      },
      "outputs": [],
      "source": [
        "result.getPhysicalSpaceDesignPoint()"
      ]
    },
    {
      "cell_type": "markdown",
      "metadata": {},
      "source": [
        "Importance factors\n\n"
      ]
    },
    {
      "cell_type": "code",
      "execution_count": null,
      "metadata": {
        "collapsed": false
      },
      "outputs": [],
      "source": [
        "graph = result.drawImportanceFactors()\nview = viewer.View(graph)"
      ]
    },
    {
      "cell_type": "code",
      "execution_count": null,
      "metadata": {
        "collapsed": false
      },
      "outputs": [],
      "source": [
        "marginalSensitivity, otherSensitivity = result.drawHasoferReliabilityIndexSensitivity()\nmarginalSensitivity.setLegendPosition('bottom')\nview = viewer.View(marginalSensitivity)"
      ]
    },
    {
      "cell_type": "code",
      "execution_count": null,
      "metadata": {
        "collapsed": false
      },
      "outputs": [],
      "source": [
        "marginalSensitivity, otherSensitivity = result.drawEventProbabilitySensitivity()\nview = viewer.View(marginalSensitivity)"
      ]
    },
    {
      "cell_type": "markdown",
      "metadata": {},
      "source": [
        "Error history\n\n"
      ]
    },
    {
      "cell_type": "code",
      "execution_count": null,
      "metadata": {
        "collapsed": false
      },
      "outputs": [],
      "source": [
        "optimResult = result.getOptimizationResult()\ngraphErrors = optimResult.drawErrorHistory()\ngraphErrors.setLegendPosition('bottom')\ngraphErrors.setYMargin(0.0)\nview = viewer.View(graphErrors)"
      ]
    },
    {
      "cell_type": "markdown",
      "metadata": {},
      "source": [
        "Get additional results with SORM\n\n"
      ]
    },
    {
      "cell_type": "code",
      "execution_count": null,
      "metadata": {
        "collapsed": false
      },
      "outputs": [],
      "source": [
        "algo = ot.SORM(optimAlgo, event, distribution.getMean())\nalgo.run()\nsorm_result = algo.getResult()"
      ]
    },
    {
      "cell_type": "markdown",
      "metadata": {},
      "source": [
        "Reliability index with Breitung approximation\n\n"
      ]
    },
    {
      "cell_type": "code",
      "execution_count": null,
      "metadata": {
        "collapsed": false
      },
      "outputs": [],
      "source": [
        "sorm_result.getGeneralisedReliabilityIndexBreitung()"
      ]
    },
    {
      "cell_type": "markdown",
      "metadata": {},
      "source": [
        "... with Hohenbichler approximation\n\n"
      ]
    },
    {
      "cell_type": "code",
      "execution_count": null,
      "metadata": {
        "collapsed": false
      },
      "outputs": [],
      "source": [
        "sorm_result.getGeneralisedReliabilityIndexHohenbichler()"
      ]
    },
    {
      "cell_type": "markdown",
      "metadata": {},
      "source": [
        ".. with Tvedt approximation\n\n"
      ]
    },
    {
      "cell_type": "code",
      "execution_count": null,
      "metadata": {
        "collapsed": false
      },
      "outputs": [],
      "source": [
        "sorm_result.getGeneralisedReliabilityIndexTvedt()"
      ]
    },
    {
      "cell_type": "markdown",
      "metadata": {},
      "source": [
        "SORM probability of the event with Breitung approximation\n\n"
      ]
    },
    {
      "cell_type": "code",
      "execution_count": null,
      "metadata": {
        "collapsed": false
      },
      "outputs": [],
      "source": [
        "sorm_result.getEventProbabilityBreitung()"
      ]
    },
    {
      "cell_type": "markdown",
      "metadata": {},
      "source": [
        "... with Hohenbichler approximation\n\n"
      ]
    },
    {
      "cell_type": "code",
      "execution_count": null,
      "metadata": {
        "collapsed": false
      },
      "outputs": [],
      "source": [
        "sorm_result.getEventProbabilityHohenbichler()"
      ]
    },
    {
      "cell_type": "markdown",
      "metadata": {},
      "source": [
        "... with Tvedt approximation\n\n"
      ]
    },
    {
      "cell_type": "code",
      "execution_count": null,
      "metadata": {
        "collapsed": false
      },
      "outputs": [],
      "source": [
        "sorm_result.getEventProbabilityTvedt()\n\nplt.show()"
      ]
    }
  ],
  "metadata": {
    "kernelspec": {
      "display_name": "Python 3",
      "language": "python",
      "name": "python3"
    },
    "language_info": {
      "codemirror_mode": {
        "name": "ipython",
        "version": 3
      },
      "file_extension": ".py",
      "mimetype": "text/x-python",
      "name": "python",
      "nbconvert_exporter": "python",
      "pygments_lexer": "ipython3",
      "version": "3.8.6"
    }
  },
  "nbformat": 4,
  "nbformat_minor": 0
}