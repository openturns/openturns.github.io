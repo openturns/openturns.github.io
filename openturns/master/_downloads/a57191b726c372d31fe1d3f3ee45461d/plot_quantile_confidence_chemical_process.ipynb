{
  "cells": [
    {
      "cell_type": "markdown",
      "metadata": {},
      "source": [
        "\n# Estimate quantile confidence intervals from data\n"
      ]
    },
    {
      "cell_type": "markdown",
      "metadata": {},
      "source": [
        "In this example, we introduce use two methods to estimate confidence intervals of the\n$\\alpha$ level quantile ($\\alpha \\in [0,1]$).\nThis example is adapted from [meeker2017]_ pages 76 to 81.\n\n"
      ]
    },
    {
      "cell_type": "code",
      "execution_count": null,
      "metadata": {
        "collapsed": false
      },
      "outputs": [],
      "source": [
        "import openturns as ot\nimport openturns.experimental as otexp"
      ]
    },
    {
      "cell_type": "markdown",
      "metadata": {},
      "source": [
        "The data represents the ordered measured amount of a chemical compound in parts per million (ppm)\ntaken from $n=100$ randomly selected batches from the process (see 5.1 data p. 76).\n\n"
      ]
    },
    {
      "cell_type": "code",
      "execution_count": null,
      "metadata": {
        "collapsed": false
      },
      "outputs": [],
      "source": [
        "data = [\n    1.49,\n    1.66,\n    2.05,\n    2.24,\n    2.29,\n    2.69,\n    2.77,\n    2.77,\n    3.10,\n    3.23,\n    3.28,\n    3.29,\n    3.31,\n    3.36,\n    3.84,\n    4.04,\n    4.09,\n    4.13,\n    4.14,\n    4.16,\n    4.57,\n    4.63,\n    4.83,\n    5.06,\n    5.17,\n    5.19,\n    5.89,\n    5.97,\n    6.28,\n    6.38,\n    6.51,\n    6.53,\n    6.54,\n    6.55,\n    6.83,\n    7.08,\n    7.28,\n    7.53,\n    7.54,\n    7.62,\n    7.81,\n    7.87,\n    7.94,\n    8.43,\n    8.70,\n    8.97,\n    8.98,\n    9.13,\n    9.14,\n    9.22,\n    9.24,\n    9.30,\n    9.44,\n    9.69,\n    9.86,\n    9.99,\n    11.28,\n    11.37,\n    12.03,\n    12.32,\n    12.93,\n    13.03,\n    13.09,\n    13.43,\n    13.58,\n    13.70,\n    14.17,\n    14.36,\n    14.96,\n    15.89,\n    16.57,\n    16.60,\n    16.85,\n    17.16,\n    17.17,\n    17.74,\n    18.04,\n    18.78,\n    19.84,\n    20.45,\n    20.89,\n    22.28,\n    22.48,\n    23.66,\n    24.33,\n    24.72,\n    25.46,\n    25.67,\n    25.77,\n    26.64,\n    28.28,\n    28.28,\n    29.07,\n    29.16,\n    31.14,\n    31.83,\n    33.24,\n    37.32,\n    53.43,\n    58.11,\n]\nsample = ot.Sample.BuildFromPoint(data)"
      ]
    },
    {
      "cell_type": "markdown",
      "metadata": {},
      "source": [
        "In the example, we consider the quantile of level $\\alpha = 10\\%$,\nwith a confidence level of $\\beta = 95\\%$ (see example 5.7 p. 85).\n\n"
      ]
    },
    {
      "cell_type": "code",
      "execution_count": null,
      "metadata": {
        "collapsed": false
      },
      "outputs": [],
      "source": [
        "alpha = 0.1\nbeta = 0.95\nalgo = otexp.QuantileConfidence(alpha, beta)"
      ]
    },
    {
      "cell_type": "markdown",
      "metadata": {},
      "source": [
        "Estimate bilateral rank.\nIndices are given in the $\\llbracket 0, n-1 \\rrbracket$ integer interval whereas the book gives them in $\\llbracket 1, n \\rrbracket$.\n\n"
      ]
    },
    {
      "cell_type": "code",
      "execution_count": null,
      "metadata": {
        "collapsed": false
      },
      "outputs": [],
      "source": [
        "n = len(sample)\nl, u = algo.computeBilateralRank(n)\nprint(f\"l={l} u={u}\")"
      ]
    },
    {
      "cell_type": "markdown",
      "metadata": {},
      "source": [
        "Estimate the bilateral confidence interval of the 0.1 quantile from the order statistics:\n\n..math::\n\n   \\Prob{X_{(k_1)} \\leq x_{\\alpha} \\leq X_{(k_2)}} \\geq \\beta\n\n\n"
      ]
    },
    {
      "cell_type": "code",
      "execution_count": null,
      "metadata": {
        "collapsed": false
      },
      "outputs": [],
      "source": [
        "ci = algo.computeBilateralConfidenceInterval(sample)\nprint(f\"ci={ci}\")"
      ]
    },
    {
      "cell_type": "markdown",
      "metadata": {},
      "source": [
        "In this example, we consider the quantile of level $\\alpha = 90\\%$,\nwith a confidence level of $\\beta = 95\\%$ (see example 5.1 p. 81).\n\n"
      ]
    },
    {
      "cell_type": "code",
      "execution_count": null,
      "metadata": {
        "collapsed": false
      },
      "outputs": [],
      "source": [
        "algo.setAlpha(0.9)"
      ]
    },
    {
      "cell_type": "markdown",
      "metadata": {},
      "source": [
        "Estimate the one-sided rank for the upper side (in $\\llbracket 0, n-1 \\rrbracket$).\n\n"
      ]
    },
    {
      "cell_type": "code",
      "execution_count": null,
      "metadata": {
        "collapsed": false
      },
      "outputs": [],
      "source": [
        "k = algo.computeUnilateralRank(n, True)\nprint(f\"k={k}\")"
      ]
    },
    {
      "cell_type": "markdown",
      "metadata": {},
      "source": [
        "Estimate the one-sided upper quantile confidence interval of the 0.9 quantile\n\n"
      ]
    },
    {
      "cell_type": "code",
      "execution_count": null,
      "metadata": {
        "collapsed": false
      },
      "outputs": [],
      "source": [
        "ci = algo.computeUnilateralConfidenceInterval(sample, True)\nprint(f\"ci={ci}\")"
      ]
    }
  ],
  "metadata": {
    "kernelspec": {
      "display_name": "Python 3",
      "language": "python",
      "name": "python3"
    },
    "language_info": {
      "codemirror_mode": {
        "name": "ipython",
        "version": 3
      },
      "file_extension": ".py",
      "mimetype": "text/x-python",
      "name": "python",
      "nbconvert_exporter": "python",
      "pygments_lexer": "ipython3",
      "version": "3.13.5"
    }
  },
  "nbformat": 4,
  "nbformat_minor": 0
}