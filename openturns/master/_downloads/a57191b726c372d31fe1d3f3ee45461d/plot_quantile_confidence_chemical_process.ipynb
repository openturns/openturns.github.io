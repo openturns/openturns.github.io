{
  "cells": [
    {
      "cell_type": "markdown",
      "metadata": {},
      "source": [
        "\n# Estimate quantile confidence intervals from data\n"
      ]
    },
    {
      "cell_type": "markdown",
      "metadata": {},
      "source": [
        "In this example, we introduce use two methods to estimate confidence intervals of the\n$\\alpha$ level quantile ($\\alpha \\in [0,1]$).\nThis example is adapted from [meeker2017]_ pages 76 to 81.\n\n"
      ]
    },
    {
      "cell_type": "code",
      "execution_count": null,
      "metadata": {
        "collapsed": false
      },
      "outputs": [],
      "source": [
        "import openturns as ot\nimport openturns.experimental as otexp"
      ]
    },
    {
      "cell_type": "markdown",
      "metadata": {},
      "source": [
        "The data represents the ordered measured amount of a chemical compound in parts per million (ppm)\ntaken from $n=100$ randomly selected batches from the process (see 5.1 data p. 76).\n\n"
      ]
    },
    {
      "cell_type": "code",
      "execution_count": null,
      "metadata": {
        "collapsed": false
      },
      "outputs": [],
      "source": [
        "data = [1.49, 1.66, 2.05, 2.24, 2.29, 2.69, 2.77, 2.77, 3.10, 3.23,\n        3.28, 3.29, 3.31, 3.36, 3.84, 4.04, 4.09, 4.13, 4.14, 4.16,\n        4.57, 4.63, 4.83, 5.06, 5.17, 5.19, 5.89, 5.97, 6.28, 6.38,\n        6.51, 6.53, 6.54, 6.55, 6.83, 7.08, 7.28, 7.53, 7.54, 7.62,\n        7.81, 7.87, 7.94, 8.43, 8.70, 8.97, 8.98, 9.13, 9.14, 9.22,\n        9.24, 9.30, 9.44, 9.69, 9.86, 9.99, 11.28, 11.37, 12.03, 12.32,\n        12.93, 13.03, 13.09, 13.43, 13.58, 13.70, 14.17, 14.36, 14.96, 15.89,\n        16.57, 16.60, 16.85, 17.16, 17.17, 17.74, 18.04, 18.78, 19.84, 20.45,\n        20.89, 22.28, 22.48, 23.66, 24.33, 24.72, 25.46, 25.67, 25.77, 26.64,\n        28.28, 28.28, 29.07, 29.16, 31.14, 31.83, 33.24, 37.32, 53.43, 58.11]\nsample = ot.Sample.BuildFromPoint(data)"
      ]
    },
    {
      "cell_type": "markdown",
      "metadata": {},
      "source": [
        "In the example, we consider the quantile of level $\\alpha = 10\\%$,\nwith a confidence level of $\\beta = 95\\%$ (see example 5.7 p. 85).\n\n"
      ]
    },
    {
      "cell_type": "code",
      "execution_count": null,
      "metadata": {
        "collapsed": false
      },
      "outputs": [],
      "source": [
        "alpha = 0.1\nbeta = 0.95\nalgo = otexp.QuantileConfidence(alpha, beta)"
      ]
    },
    {
      "cell_type": "markdown",
      "metadata": {},
      "source": [
        "Estimate bilateral rank.\nIndices are given in the $\\llbracket 0, n-1 \\rrbracket$ integer interval whereas the book gives them in $\\llbracket 1, n \\rrbracket$.\n\n"
      ]
    },
    {
      "cell_type": "code",
      "execution_count": null,
      "metadata": {
        "collapsed": false
      },
      "outputs": [],
      "source": [
        "n = len(sample)\nl, u = algo.computeBilateralRank(n)\nprint(f\"l={l} u={u}\")"
      ]
    },
    {
      "cell_type": "markdown",
      "metadata": {},
      "source": [
        "Estimate the bilateral confidence interval of the 0.1 quantile from the order statistics:\n\n..math::\n\n   \\Prob{X_{(k_1)} \\leq x_{\\alpha} \\leq X_{(k_2)}} \\geq \\beta\n\n\n"
      ]
    },
    {
      "cell_type": "code",
      "execution_count": null,
      "metadata": {
        "collapsed": false
      },
      "outputs": [],
      "source": [
        "ci = algo.computeBilateralConfidenceInterval(sample)\nprint(f\"ci={ci}\")"
      ]
    },
    {
      "cell_type": "markdown",
      "metadata": {},
      "source": [
        "In this example, we consider the quantile of level $\\alpha = 90\\%$,\nwith a confidence level of $\\beta = 95\\%$ (see example 5.1 p. 81).\n\n"
      ]
    },
    {
      "cell_type": "code",
      "execution_count": null,
      "metadata": {
        "collapsed": false
      },
      "outputs": [],
      "source": [
        "algo.setAlpha(0.9)"
      ]
    },
    {
      "cell_type": "markdown",
      "metadata": {},
      "source": [
        "Estimate the one-sided rank for the upper side (in $\\llbracket 0, n-1 \\rrbracket$).\n\n"
      ]
    },
    {
      "cell_type": "code",
      "execution_count": null,
      "metadata": {
        "collapsed": false
      },
      "outputs": [],
      "source": [
        "k = algo.computeUnilateralRank(n, True)\nprint(f\"k={k}\")"
      ]
    },
    {
      "cell_type": "markdown",
      "metadata": {},
      "source": [
        "Estimate the one-sided upper quantile confidence interval of the 0.9 quantile\n\n"
      ]
    },
    {
      "cell_type": "code",
      "execution_count": null,
      "metadata": {
        "collapsed": false
      },
      "outputs": [],
      "source": [
        "ci = algo.computeUnilateralConfidenceInterval(sample, True)\nprint(f\"ci={ci}\")"
      ]
    }
  ],
  "metadata": {
    "kernelspec": {
      "display_name": "Python 3",
      "language": "python",
      "name": "python3"
    },
    "language_info": {
      "codemirror_mode": {
        "name": "ipython",
        "version": 3
      },
      "file_extension": ".py",
      "mimetype": "text/x-python",
      "name": "python",
      "nbconvert_exporter": "python",
      "pygments_lexer": "ipython3",
      "version": "3.13.3"
    }
  },
  "nbformat": 4,
  "nbformat_minor": 0
}