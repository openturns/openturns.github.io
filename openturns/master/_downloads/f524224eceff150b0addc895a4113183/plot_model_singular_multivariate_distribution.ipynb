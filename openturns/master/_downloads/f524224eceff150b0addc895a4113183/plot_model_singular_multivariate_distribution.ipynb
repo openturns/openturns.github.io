{
  "cells": [
    {
      "cell_type": "markdown",
      "metadata": {},
      "source": [
        "\n# Model a singular multivariate distribution\n"
      ]
    },
    {
      "cell_type": "markdown",
      "metadata": {},
      "source": [
        "The objective of the example is to show how to fit a singular copula\non a sample of dimension $n_\\inputDim$ which might be high. For example,\nthis is the case when we want to fit the joint distribution of the $n_\\inputDim$ Karhunen Loeve\ncoefficients in the Karhunen Loeve modelisation of a process.\n\nWe first show that when the copula is singular, using a kernel smoothing fitting might\nnot be a good idea.\n\nThe good way to follow is to fit an empirical Bernstein copula implemented in\n:class:`~openturns.EmpiricalBernsteinCopula` through its factory\n:class:`~openturns.BernsteinCopulaFactory`. This factory garantees that the built\n:class:`~openturns.EmpiricalBernsteinCopula` is really a copula and not only a\ncore (ie a multivariate distribution which range is included in $[0,1]^\\inputDim$).\nAccording to the level of singularity, the number $m$ of cells used to build the\nempirical Bernstein copula differs: the higher the singularity, the larger $m$.\n\nThe cells partition the sample: all the points of the same cell are grouped into a\nsingle *global* point. The empirical Bernstein copula is a mixture of products of Beta\ndistributions centered on the global point of each cell.\n\nWe denote by $\\sampleSize$ the sample size. The number of global points varies according to the number of\ncells considered (math:`m`):\n\n- $m = \\sampleSize$ means that all the sample has been retained: we create one cell around\n  each point of the sample; in that case, the empirical Bernstein copula is the *Beta copula* in the sens of [segers2016]_;\n- $m = 1$ means the sample has been grouped into one single global point: we get the independent copula;\n- $1 < m < \\sampleSize$ means that we create $m$ cells gathering several points.\n\nAs the  empirical Bernstein copula defined in this way is a copula only if  $m$  divides\n$\\sampleSize$, the :class:`~openturns.BernsteinCopulaFactory` throws away\nsome part of the sample is set aside in order to check this condition.\n\nA point's *zone of influence* is its cell. The larger $m$, the smaller its zone of influence:\nthe final copula thus adheres strongly to the sample. The smaller $m$, the larger\nits zone of influence, and the more the final copula will be able to fill a large\narea around it.\n\nSo, if we know that the final copula is diffuse, we recommend to let the\n:class:`~openturns.BernsteinCopulaFactory` automatically calculate the optimal number of cells to take. If\nwe know that the final copula is singular, we recommend to specify the value of $m$ to be equal\nto the sample size $\\sampleSize$.\n\nWe illustrate the influence of  $m$ on a singular copula.\n\n"
      ]
    },
    {
      "cell_type": "code",
      "execution_count": null,
      "metadata": {
        "collapsed": false
      },
      "outputs": [],
      "source": [
        "import openturns as ot\nimport openturns.viewer as viewer\nimport math as m"
      ]
    },
    {
      "cell_type": "markdown",
      "metadata": {},
      "source": [
        "Routine to draw a distribution cloud and a sample.\n\n"
      ]
    },
    {
      "cell_type": "code",
      "execution_count": null,
      "metadata": {
        "collapsed": false
      },
      "outputs": [],
      "source": [
        "def draw(dist, Y):\n    g = ot.Graph()\n    g.setAxes(True)\n    g.setGrid(True)\n    c = ot.Cloud(dist.getSample(10000))\n    c.setColor(\"red\")\n    c.setPointStyle(\"bullet\")\n    g.add(c)\n    c = ot.Cloud(Y)\n    c.setColor(\"black\")\n    c.setPointStyle(\"bullet\")\n    g.add(c)\n    g.setBoundingBox(\n        ot.Interval(\n            Y.getMin() - 0.5 * Y.computeRange(), Y.getMax() + 0.5 * Y.computeRange()\n        )\n    )\n    return g"
      ]
    },
    {
      "cell_type": "markdown",
      "metadata": {},
      "source": [
        "## Introduction\n\nWe consider the function $f: \\Rset^3 \\rightarrow \\Rset$ defined by:\n\n\\begin{align}f(u, v_1, v_2) = (y_1, y_2)\\end{align}\n\nwhere:\n\n\\begin{align}y_1 & = \\sin(u) / (1 + \\cos(u)^2) + 0.05 * v_1 \\\\\n     y_2 & = \\sin(u) \\cos(u) / (1 + \\cos(u)^2) + 0.05 * v_2\\end{align}\n\nWe define the following input random vector:\n\n\\begin{align}U  \\sim \\cU(-0.85\\pi, 0.85\\pi) \\\\\n     (V_1, V_2)  \\sim \\cN(\\vect{\\mu} = \\vect{0}, \\vect{\\sigma} = \\vect{1}, Id_2)\\\\\\end{align}\n\nwith $U$ and $\\vect{V})$ independent.\n\nWe define the output random vector $\\vect{Y}$ as:\n\n\\begin{align}\\vect{Y} = f(U, V_1, V_2)\\end{align}\n\n"
      ]
    },
    {
      "cell_type": "code",
      "execution_count": null,
      "metadata": {
        "collapsed": false
      },
      "outputs": [],
      "source": [
        "f = ot.SymbolicFunction(\n    [\"U\", \"v1\", \"v2\"],\n    [\"sin(U)/(1+cos(U)^2)+0.05*v1\", \"sin(U)*cos(U)/(1+cos(U)^2)+0.05*v2\"],\n)\nU = ot.Uniform(-0.85 * m.pi, 0.85 * m.pi)\nV = ot.Normal(2)\nX = ot.BlockIndependentDistribution([U, V])"
      ]
    },
    {
      "cell_type": "markdown",
      "metadata": {},
      "source": [
        "We generate a sample of the output random vector $\\vect{Y}$ of size $N$.\n\n"
      ]
    },
    {
      "cell_type": "code",
      "execution_count": null,
      "metadata": {
        "collapsed": false
      },
      "outputs": [],
      "source": [
        "N = 200\nsample_Y = f(X.getSample(N))"
      ]
    },
    {
      "cell_type": "markdown",
      "metadata": {},
      "source": [
        "## Multivariate kernel smoothing\n\nWe estimate the distribution of the output random vector $\\vect{Y}$ by multivariate kernel smoothing.\n\n"
      ]
    },
    {
      "cell_type": "code",
      "execution_count": null,
      "metadata": {
        "collapsed": false
      },
      "outputs": [],
      "source": [
        "y_multi_ks = ot.KernelSmoothing().build(sample_Y)\nview = viewer.View(draw(y_multi_ks, sample_Y))"
      ]
    },
    {
      "cell_type": "markdown",
      "metadata": {},
      "source": [
        "We see that the fitting is not satisfactory: the empty regions have not been respected. The fitted copula is\ndiffuse and does not model the observed singularity correctly.\n\n"
      ]
    },
    {
      "cell_type": "markdown",
      "metadata": {},
      "source": [
        "## Empirical Bernstein copula factory\n\nNow, we estimate the distribution of $\\vect{Y}$ splitting the estimation of the marginals\nfrom the estimation of the copula:\n\n- the marginals are fitted by kernel smoothing,\n- the copula is fitted using the :class:`~openturns.BernsteinCopulaFactory` that builds\n  an empirical Bernstein copula.\n\nFirst, we do not specify the bin number $m$. It is equal to the value computed by the default method, which is the\nLogLikelihood criteria.\n\n"
      ]
    },
    {
      "cell_type": "code",
      "execution_count": null,
      "metadata": {
        "collapsed": false
      },
      "outputs": [],
      "source": [
        "empBern_copula = ot.BernsteinCopulaFactory().buildAsEmpiricalBernsteinCopula(sample_Y)\nprint(\"bin number computed m = \", empBern_copula.getBinNumber())\nmarginals = [\n    ot.KernelSmoothing().build(sample_Y.getMarginal(j))\n    for j in range(sample_Y.getDimension())\n]\ny_empBern = ot.JointDistribution(marginals, empBern_copula)\nview = viewer.View(draw(y_empBern, sample_Y))"
      ]
    },
    {
      "cell_type": "markdown",
      "metadata": {},
      "source": [
        "We see that the optimal number of cells is $m = 1$: it means that one single cell has been created.\nThe built copula  is the independent copula. It is diffuse\nin $[0,1]^2$. This is not satisfactory. The optimal\n$m$ is not correct fot the singular copula we try to estimate.\n\n"
      ]
    },
    {
      "cell_type": "markdown",
      "metadata": {},
      "source": [
        "Now, we specify a bin number equal to the sample size: $m = N$ so that the built copula is very close to the sample.\n\n"
      ]
    },
    {
      "cell_type": "code",
      "execution_count": null,
      "metadata": {
        "collapsed": false
      },
      "outputs": [],
      "source": [
        "empBern_copula = ot.BernsteinCopulaFactory().build(sample_Y, N)\ny_empBern = ot.JointDistribution(marginals, empBern_copula)\nview = viewer.View(draw(y_empBern, sample_Y))\nviewer.View.ShowAll()"
      ]
    },
    {
      "cell_type": "code",
      "execution_count": null,
      "metadata": {
        "collapsed": false
      },
      "outputs": [],
      "source": [
        "# In that case, the built copula manages to reproduce the specific feature we observe in the data."
      ]
    }
  ],
  "metadata": {
    "kernelspec": {
      "display_name": "Python 3",
      "language": "python",
      "name": "python3"
    },
    "language_info": {
      "codemirror_mode": {
        "name": "ipython",
        "version": 3
      },
      "file_extension": ".py",
      "mimetype": "text/x-python",
      "name": "python",
      "nbconvert_exporter": "python",
      "pygments_lexer": "ipython3",
      "version": "3.13.7"
    }
  },
  "nbformat": 4,
  "nbformat_minor": 0
}