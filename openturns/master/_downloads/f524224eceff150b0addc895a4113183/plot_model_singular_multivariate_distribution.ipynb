{
  "cells": [
    {
      "cell_type": "markdown",
      "metadata": {},
      "source": [
        "\n# Model a singular multivariate distribution\n"
      ]
    },
    {
      "cell_type": "markdown",
      "metadata": {},
      "source": [
        "From time to time we need to model singular $n_D$ distributions\n(e.g. the joint distribution of KL coefficients for curves resulting from the transport of a low dimensional random vector).\nA way to do that is to use an :class:`~openturns.EmpiricalBernsteinCopula` with a bin number equal to the sample size\n(also called the empirical beta copula in this case).\n\n"
      ]
    },
    {
      "cell_type": "code",
      "execution_count": null,
      "metadata": {
        "collapsed": false
      },
      "outputs": [],
      "source": [
        "import openturns as ot\nimport openturns.viewer as viewer\nimport math as m\n\not.Log.Show(ot.Log.NONE)\not.RandomGenerator.SetSeed(0)"
      ]
    },
    {
      "cell_type": "markdown",
      "metadata": {},
      "source": [
        "Routine to draw a distribution cloud and a sample.\n\n"
      ]
    },
    {
      "cell_type": "code",
      "execution_count": null,
      "metadata": {
        "collapsed": false
      },
      "outputs": [],
      "source": [
        "def draw(dist, Y):\n    g = ot.Graph()\n    g.setAxes(True)\n    g.setGrid(True)\n    c = ot.Cloud(dist.getSample(10000))\n    c.setColor(\"red\")\n    c.setPointStyle(\"bullet\")\n    g.add(c)\n    c = ot.Cloud(Y)\n    c.setColor(\"black\")\n    c.setPointStyle(\"bullet\")\n    g.add(c)\n    g.setBoundingBox(\n        ot.Interval(\n            Y.getMin() - 0.5 * Y.computeRange(), Y.getMax() + 0.5 * Y.computeRange()\n        )\n    )\n    return g"
      ]
    },
    {
      "cell_type": "markdown",
      "metadata": {},
      "source": [
        "Generate some multivariate data to estimate, with correlation.\n\n"
      ]
    },
    {
      "cell_type": "code",
      "execution_count": null,
      "metadata": {
        "collapsed": false
      },
      "outputs": [],
      "source": [
        "f = ot.SymbolicFunction(\n    [\"U\", \"xi1\", \"xi2\"],\n    [\"sin(U)/(1+cos(U)^2)+0.05*xi1\", \"sin(U)*cos(U)/(1+cos(U)^2)+0.05*xi2\"],\n)\nU = ot.Uniform(-0.85 * m.pi, 0.85 * m.pi)\nxi = ot.Normal(2)\nX = ot.BlockIndependentDistribution([U, xi])\nN = 200\nY = f(X.getSample(N))"
      ]
    },
    {
      "cell_type": "markdown",
      "metadata": {},
      "source": [
        "Estimation by multivariate kernel smoothing.\n\n"
      ]
    },
    {
      "cell_type": "code",
      "execution_count": null,
      "metadata": {
        "collapsed": false
      },
      "outputs": [],
      "source": [
        "multi_ks = ot.KernelSmoothing().build(Y)\nview = viewer.View(draw(multi_ks, Y))"
      ]
    },
    {
      "cell_type": "markdown",
      "metadata": {},
      "source": [
        "Estimation by empirical beta copula.\n\n"
      ]
    },
    {
      "cell_type": "code",
      "execution_count": null,
      "metadata": {
        "collapsed": false
      },
      "outputs": [],
      "source": [
        "beta_copula = ot.EmpiricalBernsteinCopula(Y, len(Y))\nmarginals = [\n    ot.KernelSmoothing().build(Y.getMarginal(j)) for j in range(Y.getDimension())\n]\nbeta_dist = ot.JointDistribution(marginals, beta_copula)\nview = viewer.View(draw(beta_dist, Y))\n\nviewer.View.ShowAll()"
      ]
    }
  ],
  "metadata": {
    "kernelspec": {
      "display_name": "Python 3",
      "language": "python",
      "name": "python3"
    },
    "language_info": {
      "codemirror_mode": {
        "name": "ipython",
        "version": 3
      },
      "file_extension": ".py",
      "mimetype": "text/x-python",
      "name": "python",
      "nbconvert_exporter": "python",
      "pygments_lexer": "ipython3",
      "version": "3.12.6"
    }
  },
  "nbformat": 4,
  "nbformat_minor": 0
}