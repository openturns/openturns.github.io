{
  "cells": [
    {
      "cell_type": "markdown",
      "metadata": {},
      "source": [
        "\n# Kriging : generate trajectories from a metamodel\n"
      ]
    },
    {
      "cell_type": "markdown",
      "metadata": {},
      "source": [
        "The main goal of this example is to show how to simulate new trajectories from a kriging metamodel.\n\n"
      ]
    },
    {
      "cell_type": "markdown",
      "metadata": {},
      "source": [
        "## Introduction\n\nWe consider the sine function:\n\n\\begin{align}y = \\sin(x)\\end{align}\n\n\nfor any $x\\in[0,12]$.\n\nWe want to create a metamodel of this function. This is why we create a sample of $n$ observations of the function:\n\n\\begin{align}y_i=\\sin(x_i)\\end{align}\n\n\nfor $i=1,...,7$, where $x_i$ is the i-th input and $y_i$ is the corresponding output.\n\nWe consider the seven following inputs :\n\n============ === === === === ===== ==== ======\n $i$    1   2   3   4   5     6    7\n $x_i$  1   3   4   6   7.9   11   11.5\n============ === === === === ===== ==== ======\n\nWe are going to consider a kriging metamodel with a\n\n* constant trend,\n* a Matern covariance model.\n\n"
      ]
    },
    {
      "cell_type": "markdown",
      "metadata": {},
      "source": [
        "## Creation of the metamodel\n\nWe begin by defining the function `g` as a symbolic function.\nThen we define the `x_train` variable which contains the inputs of the design of experiments of the training step.\nThen we compute the `y_train` corresponding outputs.\nThe variable `n_train` is the size of the training design of experiments.\n\n"
      ]
    },
    {
      "cell_type": "code",
      "execution_count": null,
      "metadata": {
        "collapsed": false
      },
      "outputs": [],
      "source": [
        "import openturns as ot\nimport openturns.viewer as viewer\nfrom matplotlib import pylab as plt\n\not.Log.Show(ot.Log.NONE)"
      ]
    },
    {
      "cell_type": "code",
      "execution_count": null,
      "metadata": {
        "collapsed": false
      },
      "outputs": [],
      "source": [
        "g = ot.SymbolicFunction([\"x\"], [\"sin(x)\"])"
      ]
    },
    {
      "cell_type": "code",
      "execution_count": null,
      "metadata": {
        "collapsed": false
      },
      "outputs": [],
      "source": [
        "x_train = [[x] for x in [1.0, 3.0, 4.0, 6.0, 7.9, 11.0, 11.5]]\ny_train = g(x_train)\nn_train = len(x_train)\nn_train"
      ]
    },
    {
      "cell_type": "markdown",
      "metadata": {},
      "source": [
        "In order to compare the function and its metamodel, we use a test (i.e. validation) design of experiments\nmade of a regular grid of 100 points from 0 to 12.\nThen we convert this grid into a `Sample` and we compute the outputs of the function on this sample.\n\n"
      ]
    },
    {
      "cell_type": "code",
      "execution_count": null,
      "metadata": {
        "collapsed": false
      },
      "outputs": [],
      "source": [
        "xmin = 0.0\nxmax = 12.0\nn_test = 101\nstep = (xmax - xmin) / (n_test - 1)\nmyRegularGrid = ot.RegularGrid(xmin, step, n_test)\nx_test = myRegularGrid.getVertices()\ny_test = g(x_test)"
      ]
    },
    {
      "cell_type": "markdown",
      "metadata": {},
      "source": [
        "In order to observe the function and the location of the points in the input design of experiments, we define the following functions which plots the data.\n\n"
      ]
    },
    {
      "cell_type": "code",
      "execution_count": null,
      "metadata": {
        "collapsed": false
      },
      "outputs": [],
      "source": [
        "def plot_data_train(x_train, y_train):\n    \"\"\"Plot the data (x_train,y_train) as a Cloud, in red\"\"\"\n    graph_train = ot.Cloud(x_train, y_train)\n    graph_train.setColor(\"red\")\n    graph_train.setLegend(\"Data\")\n    return graph_train"
      ]
    },
    {
      "cell_type": "code",
      "execution_count": null,
      "metadata": {
        "collapsed": false
      },
      "outputs": [],
      "source": [
        "def plot_data_test(x_test, y_test):\n    \"\"\"Plot the data (x_test,y_test) as a Curve, in dashed black\"\"\"\n    graphF = ot.Curve(x_test, y_test)\n    graphF.setLegend(\"Exact\")\n    graphF.setColor(\"black\")\n    graphF.setLineStyle(\"dashed\")\n    return graphF"
      ]
    },
    {
      "cell_type": "code",
      "execution_count": null,
      "metadata": {
        "collapsed": false
      },
      "outputs": [],
      "source": [
        "graph = ot.Graph()\ngraph.add(plot_data_test(x_test, y_test))\ngraph.add(plot_data_train(x_train, y_train))\ngraph.setAxes(True)\ngraph.setXTitle(\"X\")\ngraph.setYTitle(\"Y\")\ngraph.setLegendPosition(\"upper right\")\nview = viewer.View(graph)"
      ]
    },
    {
      "cell_type": "markdown",
      "metadata": {},
      "source": [
        "We use the `ConstantBasisFactory` class to define the trend and the `MaternModel` class to define the covariance model.\nThis Mat\u00e9rn model is based on the regularity parameter $\\nu=3/2$.\n\n"
      ]
    },
    {
      "cell_type": "code",
      "execution_count": null,
      "metadata": {
        "collapsed": false
      },
      "outputs": [],
      "source": [
        "dimension = 1\nbasis = ot.ConstantBasisFactory(dimension).build()\ncovarianceModel = ot.MaternModel([1.0] * dimension, 1.5)\nalgo = ot.KrigingAlgorithm(x_train, y_train, covarianceModel, basis)\nalgo.run()\nkrigingResult = algo.getResult()\nkrigingResult"
      ]
    },
    {
      "cell_type": "markdown",
      "metadata": {},
      "source": [
        "We observe that the `scale` and `amplitude` hyper-parameters have been optimized by the `run` method.\nThen we get the metamodel with `getMetaModel` and evaluate the outputs of the metamodel on the test design of experiments.\n\n"
      ]
    },
    {
      "cell_type": "code",
      "execution_count": null,
      "metadata": {
        "collapsed": false
      },
      "outputs": [],
      "source": [
        "krigeageMM = krigingResult.getMetaModel()\ny_test_MM = krigeageMM(x_test)"
      ]
    },
    {
      "cell_type": "markdown",
      "metadata": {},
      "source": [
        "The following function plots the kriging data.\n\n"
      ]
    },
    {
      "cell_type": "code",
      "execution_count": null,
      "metadata": {
        "collapsed": false
      },
      "outputs": [],
      "source": [
        "def plot_data_kriging(x_test, y_test_MM):\n    \"\"\"Plots (x_test,y_test_MM) from the metamodel as a Curve, in blue\"\"\"\n    graphK = ot.Curve(x_test, y_test_MM)\n    graphK.setColor(\"blue\")\n    graphK.setLegend(\"Kriging\")\n    return graphK"
      ]
    },
    {
      "cell_type": "code",
      "execution_count": null,
      "metadata": {
        "collapsed": false
      },
      "outputs": [],
      "source": [
        "graph = ot.Graph()\ngraph.add(plot_data_test(x_test, y_test))\ngraph.add(plot_data_train(x_train, y_train))\ngraph.add(plot_data_kriging(x_test, y_test_MM))\ngraph.setAxes(True)\ngraph.setXTitle(\"X\")\ngraph.setYTitle(\"Y\")\ngraph.setLegendPosition(\"upper right\")\nview = viewer.View(graph)"
      ]
    },
    {
      "cell_type": "markdown",
      "metadata": {},
      "source": [
        "## Simulate new trajectories\n\nIn order to generate new trajectories of the conditioned gaussian process,\nwe could technically use the `KrigingRandomVector` class, because it provides\nthe `getSample` method that we need.\nHowever, the `KrigingRandomVector` class was more specifically designed to\ncreate a `RandomVector` so that it can feed, for example, a function which has a field as input argument.\n\nThis is why we use the `ConditionedGaussianProcess`, which provides a `Process`.\n\n"
      ]
    },
    {
      "cell_type": "code",
      "execution_count": null,
      "metadata": {
        "collapsed": false
      },
      "outputs": [],
      "source": [
        "process = ot.ConditionedGaussianProcess(krigingResult, myRegularGrid)"
      ]
    },
    {
      "cell_type": "code",
      "execution_count": null,
      "metadata": {
        "collapsed": false
      },
      "outputs": [],
      "source": [
        "trajectories = process.getSample(10)\ntype(trajectories)"
      ]
    },
    {
      "cell_type": "markdown",
      "metadata": {},
      "source": [
        "The `getSample` method returns a `ProcessSample`. By comparison, the `getSample` method of a `KrigingRandomVector` would return a `Sample`.\n\n"
      ]
    },
    {
      "cell_type": "markdown",
      "metadata": {},
      "source": [
        "sphinx_gallery_thumbnail_number = 3\n\n"
      ]
    },
    {
      "cell_type": "code",
      "execution_count": null,
      "metadata": {
        "collapsed": false
      },
      "outputs": [],
      "source": [
        "graph = trajectories.drawMarginal()\ngraph.add(plot_data_test(x_test, y_test))\ngraph.add(plot_data_train(x_train, y_train))\ngraph.setAxes(True)\ngraph.setXTitle(\"X\")\ngraph.setYTitle(\"Y\")\ngraph.setLegendPosition(\"upper right\")\ngraph.setTitle(\"10 simulated trajectories\")\nview = viewer.View(graph)\nplt.show()"
      ]
    },
    {
      "cell_type": "markdown",
      "metadata": {},
      "source": [
        "## References\n\n* Metamodeling with Gaussian processes, Bertrand Iooss, EDF R&D, 2014, www.gdr-mascotnum.fr/media/sssamo14_iooss.pdf\n\n\n"
      ]
    }
  ],
  "metadata": {
    "kernelspec": {
      "display_name": "Python 3",
      "language": "python",
      "name": "python3"
    },
    "language_info": {
      "codemirror_mode": {
        "name": "ipython",
        "version": 3
      },
      "file_extension": ".py",
      "mimetype": "text/x-python",
      "name": "python",
      "nbconvert_exporter": "python",
      "pygments_lexer": "ipython3",
      "version": "3.11.8"
    }
  },
  "nbformat": 4,
  "nbformat_minor": 0
}