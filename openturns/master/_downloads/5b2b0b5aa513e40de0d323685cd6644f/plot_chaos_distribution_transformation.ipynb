{
  "cells": [
    {
      "cell_type": "markdown",
      "metadata": {},
      "source": [
        "\n# Apply a transform or inverse transform on your polynomial chaos\n"
      ]
    },
    {
      "cell_type": "markdown",
      "metadata": {},
      "source": [
        "## Introduction\n\nIn this document we present the transformation involved in the creation of a polynomial chaos.\nIndeed, the polynomial chaos expansion is never directly applied to the input random variable of a model $g$.\nInstead, the expansion is expressed based on the associated standard random variable.\nIn this example,  we show how to transform a Log-Normal random variable into its standardized variable with the class `DistributionTransformation`.\n\n"
      ]
    },
    {
      "cell_type": "markdown",
      "metadata": {},
      "source": [
        "## Probabilistic transform\n\nLet $T$ be the probabilistic transform which maps the physical random variable $X$ to the standardized random variable $\\xi$:\n\n\\begin{align}\\xi = T(X).\\end{align}\n\n\nLet $F_X$ be the Cumulative Distribution Function (CDF) associated with\nthe random variable $X$ and let $F_\\xi$ be the CDF associated\nwith the random variable $\\xi$. Therefore, $F_\\xi$ is the CDF\nassociated with the orthogonal polynomials involved in the polynomial chaos expansion.\nIn this case, the transform is:\n\n\\begin{align}\\xi = F_\\xi^{-1} \\left( F_X(X) \\right),\\end{align}\n\n\nfor any $X \\in \\mathbb{R}$.\n\n"
      ]
    },
    {
      "cell_type": "markdown",
      "metadata": {},
      "source": [
        "## Example\n\nWe want to use the Hermite orthogonal polynomials to expand a Log-Normal random variable:\n\n* let $X$ follow the Log-Normal distribution with the following parameters: Lognormal($\\mu=3 \\times 10^4$, $\\sigma=9\\times 10^3$),\n* let $Z=\\xi$ follow the Normal distribution with zero mean and unit standard deviation (the letter $Z$ is often used for standard Normal random variables).\n\nLet $F_{LN}$ be the CDF of the Log-Normal distribution associated with $X$ and let $\\Phi$ be the CDF of the standard Normal distribution.\n\nTherefore,\n\n\\begin{align}Z = T(X) = \\Phi^{-1}(F_{LN}(X)),\\end{align}\n\n\nfor any $X \\in \\mathbb{R}$.\n\n"
      ]
    },
    {
      "cell_type": "code",
      "execution_count": null,
      "metadata": {
        "collapsed": false
      },
      "outputs": [],
      "source": [
        "import openturns as ot"
      ]
    },
    {
      "cell_type": "markdown",
      "metadata": {},
      "source": [
        "In the first step, we define the LogNormal distribution.\nIts parameters - mean and standard deviation - have been selected so that there is no ambiguity with the standard Normal distribution.\nThis parametrization can be used thanks to the `ParametrizedDistribution` class.\n\n"
      ]
    },
    {
      "cell_type": "code",
      "execution_count": null,
      "metadata": {
        "collapsed": false
      },
      "outputs": [],
      "source": [
        "Xparam = ot.LogNormalMuSigma(3.0e4, 9.0e3, 15.0e3)  # in N\nX = ot.ParametrizedDistribution(Xparam)"
      ]
    },
    {
      "cell_type": "markdown",
      "metadata": {},
      "source": [
        "Then we generate a 5-point sample.\n\n"
      ]
    },
    {
      "cell_type": "code",
      "execution_count": null,
      "metadata": {
        "collapsed": false
      },
      "outputs": [],
      "source": [
        "sampleX = X.getSample(5)\nsampleX"
      ]
    },
    {
      "cell_type": "markdown",
      "metadata": {},
      "source": [
        "In the second step, we define the random variable $Z$ with standard Normal distribution.\n\n"
      ]
    },
    {
      "cell_type": "code",
      "execution_count": null,
      "metadata": {
        "collapsed": false
      },
      "outputs": [],
      "source": [
        "Z = ot.Normal()"
      ]
    },
    {
      "cell_type": "markdown",
      "metadata": {},
      "source": [
        "We also generate a sample from it.\n\n"
      ]
    },
    {
      "cell_type": "code",
      "execution_count": null,
      "metadata": {
        "collapsed": false
      },
      "outputs": [],
      "source": [
        "sampleZ = Z.getSample(5)\nsampleZ"
      ]
    },
    {
      "cell_type": "markdown",
      "metadata": {},
      "source": [
        "In the third step, we create the transform T which maps X to Z.\n\n"
      ]
    },
    {
      "cell_type": "code",
      "execution_count": null,
      "metadata": {
        "collapsed": false
      },
      "outputs": [],
      "source": [
        "T = ot.DistributionTransformation(X, Z)"
      ]
    },
    {
      "cell_type": "markdown",
      "metadata": {},
      "source": [
        "We apply this transform on the sample generated from `X`.\n\n"
      ]
    },
    {
      "cell_type": "code",
      "execution_count": null,
      "metadata": {
        "collapsed": false
      },
      "outputs": [],
      "source": [
        "T(sampleX)"
      ]
    },
    {
      "cell_type": "markdown",
      "metadata": {},
      "source": [
        "The inverse transform maps $Z$ into $X$.\n\n"
      ]
    },
    {
      "cell_type": "code",
      "execution_count": null,
      "metadata": {
        "collapsed": false
      },
      "outputs": [],
      "source": [
        "Tinverse = T.inverse()"
      ]
    },
    {
      "cell_type": "code",
      "execution_count": null,
      "metadata": {
        "collapsed": false
      },
      "outputs": [],
      "source": [
        "Tinverse(sampleZ)"
      ]
    },
    {
      "cell_type": "markdown",
      "metadata": {},
      "source": [
        "## Conclusion\n\nThe `DistributionTransformation` class is rarely used directly because the polynomial chaos classes perform the transformation automatically.\nHowever, understanding how this transform is done clarifies why the coefficients of the chaos expansion cannot be related to the input random variable $X$:\nthe expansion is based on the standard variables $\\xi$.\nHence, the absolute values of the corresponding coefficients have no straightforward interpretation,\neven though squaring them yields the part of the global variance associated with each coefficient.\n\n"
      ]
    }
  ],
  "metadata": {
    "kernelspec": {
      "display_name": "Python 3",
      "language": "python",
      "name": "python3"
    },
    "language_info": {
      "codemirror_mode": {
        "name": "ipython",
        "version": 3
      },
      "file_extension": ".py",
      "mimetype": "text/x-python",
      "name": "python",
      "nbconvert_exporter": "python",
      "pygments_lexer": "ipython3",
      "version": "3.12.4"
    }
  },
  "nbformat": 4,
  "nbformat_minor": 0
}