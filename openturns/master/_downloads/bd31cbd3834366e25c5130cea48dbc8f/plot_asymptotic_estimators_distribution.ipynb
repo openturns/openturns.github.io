{
  "cells": [
    {
      "cell_type": "code",
      "execution_count": null,
      "metadata": {
        "collapsed": false
      },
      "outputs": [],
      "source": [
        "%matplotlib inline"
      ]
    },
    {
      "cell_type": "markdown",
      "metadata": {},
      "source": [
        "\n# Get the asymptotic distribution of the estimators\n"
      ]
    },
    {
      "cell_type": "markdown",
      "metadata": {},
      "source": [
        "In this example we introduce the `buildEstimator` method to obtain the asymptotic distribution of the parameters of a fitted distribution obtained from a `Factory`.\n\n\n"
      ]
    },
    {
      "cell_type": "code",
      "execution_count": null,
      "metadata": {
        "collapsed": false
      },
      "outputs": [],
      "source": [
        "import openturns as ot\nimport openturns.viewer as viewer\nfrom matplotlib import pylab as plt\not.Log.Show(ot.Log.NONE)"
      ]
    },
    {
      "cell_type": "markdown",
      "metadata": {},
      "source": [
        "Set the random generator seed\n\n"
      ]
    },
    {
      "cell_type": "code",
      "execution_count": null,
      "metadata": {
        "collapsed": false
      },
      "outputs": [],
      "source": [
        "ot.RandomGenerator.SetSeed(0)"
      ]
    },
    {
      "cell_type": "markdown",
      "metadata": {},
      "source": [
        "## The standard normal\nThe parameters of the standard normal distribution are estimated by a method of moments method.\nThus the asymptotic parameters distribution is normal and estimated by bootstrap on the initial data.\n\n\n"
      ]
    },
    {
      "cell_type": "code",
      "execution_count": null,
      "metadata": {
        "collapsed": false
      },
      "outputs": [],
      "source": [
        "distribution = ot.Normal(0.0, 1.0)\nsample = distribution.getSample(50)\nestimated = ot.NormalFactory().build(sample)"
      ]
    },
    {
      "cell_type": "markdown",
      "metadata": {},
      "source": [
        "We take a look at the estimated parameters :\n\n"
      ]
    },
    {
      "cell_type": "code",
      "execution_count": null,
      "metadata": {
        "collapsed": false
      },
      "outputs": [],
      "source": [
        "print(estimated.getParameter())"
      ]
    },
    {
      "cell_type": "markdown",
      "metadata": {},
      "source": [
        "The `buildEstimator` method gives the asymptotic parameters distribution.\n\n\n"
      ]
    },
    {
      "cell_type": "code",
      "execution_count": null,
      "metadata": {
        "collapsed": false
      },
      "outputs": [],
      "source": [
        "fittedRes = ot.NormalFactory().buildEstimator(sample)\nparamDist = fittedRes.getParameterDistribution()"
      ]
    },
    {
      "cell_type": "markdown",
      "metadata": {},
      "source": [
        "We draw the 2D-PDF of the parameters\n\n"
      ]
    },
    {
      "cell_type": "code",
      "execution_count": null,
      "metadata": {
        "collapsed": false
      },
      "outputs": [],
      "source": [
        "graph = paramDist.drawPDF()\ngraph.setXTitle(r\"$\\mu$\")\ngraph.setYTitle(r\"$\\sigma$\")\ngraph.setTitle(r\"Normal fitting : $(\\mu, \\sigma)$ iso-PDF\")\nview = viewer.View(graph)"
      ]
    },
    {
      "cell_type": "markdown",
      "metadata": {},
      "source": [
        "We draw the mean parameter $\\mu$ distribution\n\n"
      ]
    },
    {
      "cell_type": "code",
      "execution_count": null,
      "metadata": {
        "collapsed": false
      },
      "outputs": [],
      "source": [
        "graph = paramDist.getMarginal(0).drawPDF()\ngraph.setTitle(r\"Normal fitting : PDF of $\\mu$\")\ngraph.setXTitle(r\"$\\mu$\")\ngraph.setLegends([\"PDF\"])\nview = viewer.View(graph)"
      ]
    },
    {
      "cell_type": "markdown",
      "metadata": {},
      "source": [
        "We draw the scale parameter $\\sigma$ distribution\n\n"
      ]
    },
    {
      "cell_type": "code",
      "execution_count": null,
      "metadata": {
        "collapsed": false
      },
      "outputs": [],
      "source": [
        "graph = paramDist.getMarginal(1).drawPDF()\ngraph.setTitle(r\"Normal fitting : PDF of $\\sigma$\")\ngraph.setXTitle(r\"$\\sigma$\")\ngraph.setLegends([\"PDF\"])\nview = viewer.View(graph)"
      ]
    },
    {
      "cell_type": "markdown",
      "metadata": {},
      "source": [
        "We observe on the two previous figures that the distribution is normal and centered around\nthe estimated value of the parameter.\n\n"
      ]
    },
    {
      "cell_type": "markdown",
      "metadata": {},
      "source": [
        "## The Pareto distribution\n\nWe consider a Pareto distribution with a scale parameter $\\beta=1.0$, a shape parameter $\\alpha=1.0$ and a location parameter $\\gamma = 0.0$.\nWe generate a sample from this distribution and use a `ParetoFactory` to fit the sample.\nIn that case the asymptotic parameters distribution is estimated by bootstrap on the initial\ndata and kernel fitting (see KernelSmoothing).\n\n\n"
      ]
    },
    {
      "cell_type": "code",
      "execution_count": null,
      "metadata": {
        "collapsed": false
      },
      "outputs": [],
      "source": [
        "distribution = ot.Pareto(1.0, 1.0, 0.0)\nsample = distribution.getSample(50)\nestimated = ot.ParetoFactory().build(sample)"
      ]
    },
    {
      "cell_type": "markdown",
      "metadata": {},
      "source": [
        "We take a look at the estimated parameters :\n\n"
      ]
    },
    {
      "cell_type": "code",
      "execution_count": null,
      "metadata": {
        "collapsed": false
      },
      "outputs": [],
      "source": [
        "print(estimated.getParameter())"
      ]
    },
    {
      "cell_type": "markdown",
      "metadata": {},
      "source": [
        "The `buildEstimator` method gives the asymptotic parameters distribution.\n\n\n"
      ]
    },
    {
      "cell_type": "code",
      "execution_count": null,
      "metadata": {
        "collapsed": false
      },
      "outputs": [],
      "source": [
        "fittedRes = ot.ParetoFactory().buildEstimator(sample)\nparamDist = fittedRes.getParameterDistribution()"
      ]
    },
    {
      "cell_type": "markdown",
      "metadata": {},
      "source": [
        "We draw scale parameter $\\beta$ distribution\n\n"
      ]
    },
    {
      "cell_type": "code",
      "execution_count": null,
      "metadata": {
        "collapsed": false
      },
      "outputs": [],
      "source": [
        "graph = paramDist.getMarginal(0).drawPDF()\ngraph.setTitle(r\"Pareto fitting : PDF of $\\beta$\")\ngraph.setXTitle(r\"$\\beta$\")\ngraph.setLegends([\"PDF\"])\nview = viewer.View(graph)"
      ]
    },
    {
      "cell_type": "markdown",
      "metadata": {},
      "source": [
        "We draw the shape parameter $\\alpha$ distribution\n\n"
      ]
    },
    {
      "cell_type": "code",
      "execution_count": null,
      "metadata": {
        "collapsed": false
      },
      "outputs": [],
      "source": [
        "graph = paramDist.getMarginal(1).drawPDF()\ngraph.setTitle(r\"Pareto fitting : PDF of $\\alpha$\")\ngraph.setXTitle(r\"$\\alpha$\")\ngraph.setLegends([\"PDF\"])\nview = viewer.View(graph)"
      ]
    },
    {
      "cell_type": "markdown",
      "metadata": {},
      "source": [
        "We draw the location parameter $\\gamma$ distribution\n\n"
      ]
    },
    {
      "cell_type": "code",
      "execution_count": null,
      "metadata": {
        "collapsed": false
      },
      "outputs": [],
      "source": [
        "graph = paramDist.getMarginal(2).drawPDF()\ngraph.setTitle(r\"Pareto fitting : PDF of $\\gamma$\")\ngraph.setXTitle(r\"$\\gamma$\")\ngraph.setLegends([\"PDF\"])\nview = viewer.View(graph)\n\nplt.show()"
      ]
    }
  ],
  "metadata": {
    "kernelspec": {
      "display_name": "Python 3",
      "language": "python",
      "name": "python3"
    },
    "language_info": {
      "codemirror_mode": {
        "name": "ipython",
        "version": 3
      },
      "file_extension": ".py",
      "mimetype": "text/x-python",
      "name": "python",
      "nbconvert_exporter": "python",
      "pygments_lexer": "ipython3",
      "version": "3.10.5"
    }
  },
  "nbformat": 4,
  "nbformat_minor": 0
}