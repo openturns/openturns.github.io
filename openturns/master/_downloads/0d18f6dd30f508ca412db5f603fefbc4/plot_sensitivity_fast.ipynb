{
  "cells": [
    {
      "cell_type": "markdown",
      "metadata": {},
      "source": [
        "\n# FAST sensitivity indices\n"
      ]
    },
    {
      "cell_type": "markdown",
      "metadata": {},
      "source": [
        "This example will demonstrate how to quantify the correlation between the input\nvariables and the output variable of a model using the FAST method,\nbased upon the Fourier decomposition of the model response,\nwhich is a relevant alternative to the classical\nsimulation approach for computing Sobol sensitivity indices.\n\nThe FAST indices, like the Sobol indices, allow one to\nevaluate the importance of a single variable or a specific set of variables.\n\nIn theory, FAST indices range is $\\left[0; 1\\right]$ ; the closer to 1 the\nindex is, the greater the model response sensitivity to the variable is.\n\nThe FAST method compute the first and total order indices.\nThe first order indices evaluate the importance of one variable at a time\n($d$ indices, with $d$ the input dimension of the model).\n\nThe $d$ total indices give the relative importance of every variables except\nthe variable $X_i$, for every variable.\n\n"
      ]
    },
    {
      "cell_type": "code",
      "execution_count": null,
      "metadata": {
        "collapsed": false
      },
      "outputs": [],
      "source": [
        "from openturns.usecases import ishigami_function\nimport openturns as ot\nimport openturns.viewer as viewer\nfrom matplotlib import pylab as plt\n\not.Log.Show(ot.Log.NONE)"
      ]
    },
    {
      "cell_type": "markdown",
      "metadata": {},
      "source": [
        "We load the `Ishigami model <use-case-ishigami>` from the usecases module :\n\n"
      ]
    },
    {
      "cell_type": "code",
      "execution_count": null,
      "metadata": {
        "collapsed": false
      },
      "outputs": [],
      "source": [
        "im = ishigami_function.IshigamiModel()"
      ]
    },
    {
      "cell_type": "markdown",
      "metadata": {},
      "source": [
        "The `IshigamiModel` data class contains the input independent joint distribution :\n\n"
      ]
    },
    {
      "cell_type": "code",
      "execution_count": null,
      "metadata": {
        "collapsed": false
      },
      "outputs": [],
      "source": [
        "distribution = im.inputDistribution"
      ]
    },
    {
      "cell_type": "markdown",
      "metadata": {},
      "source": [
        "and the Ishigami function :\n\n"
      ]
    },
    {
      "cell_type": "code",
      "execution_count": null,
      "metadata": {
        "collapsed": false
      },
      "outputs": [],
      "source": [
        "model = im.model"
      ]
    },
    {
      "cell_type": "code",
      "execution_count": null,
      "metadata": {
        "collapsed": false
      },
      "outputs": [],
      "source": [
        "size = 400\nsensitivityAnalysis = ot.FAST(model, distribution, size)\n# Compute the first order indices (first and total order indices are\n# computed together)\nfirstOrderIndices = sensitivityAnalysis.getFirstOrderIndices()\n# Retrieve total order indices\ntotalOrderIndices = sensitivityAnalysis.getTotalOrderIndices()"
      ]
    },
    {
      "cell_type": "markdown",
      "metadata": {},
      "source": [
        "Print indices\n\n"
      ]
    },
    {
      "cell_type": "code",
      "execution_count": null,
      "metadata": {
        "collapsed": false
      },
      "outputs": [],
      "source": [
        "print(\"First order FAST indices:\", firstOrderIndices)\nprint(\"Total order FAST indices:\", totalOrderIndices)"
      ]
    },
    {
      "cell_type": "code",
      "execution_count": null,
      "metadata": {
        "collapsed": false
      },
      "outputs": [],
      "source": [
        "graph = ot.SobolIndicesAlgorithm.DrawImportanceFactors(\n    firstOrderIndices, distribution.getDescription(), \"FAST first order indices\"\n)\nview = viewer.View(graph)"
      ]
    },
    {
      "cell_type": "code",
      "execution_count": null,
      "metadata": {
        "collapsed": false
      },
      "outputs": [],
      "source": [
        "graph = ot.SobolIndicesAlgorithm.DrawImportanceFactors(\n    totalOrderIndices, distribution.getDescription(), \"FAST total order indices\"\n)\nview = viewer.View(graph)\nplt.show()"
      ]
    }
  ],
  "metadata": {
    "kernelspec": {
      "display_name": "Python 3",
      "language": "python",
      "name": "python3"
    },
    "language_info": {
      "codemirror_mode": {
        "name": "ipython",
        "version": 3
      },
      "file_extension": ".py",
      "mimetype": "text/x-python",
      "name": "python",
      "nbconvert_exporter": "python",
      "pygments_lexer": "ipython3",
      "version": "3.13.1"
    }
  },
  "nbformat": 4,
  "nbformat_minor": 0
}