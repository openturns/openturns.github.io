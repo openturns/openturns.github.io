{
  "cells": [
    {
      "cell_type": "markdown",
      "metadata": {},
      "source": [
        "\n# Estimate a GEV on the Pirie sea levels data\n"
      ]
    },
    {
      "cell_type": "markdown",
      "metadata": {},
      "source": [
        "In this example we are going to estimate the parameters of a generalized extreme value distribution\non the sea levels data from [coles2001]_ with different methods:\n\n- the maximum likelihood estimation\n- the profile likelihood estimation\n- the estimation of return level from both maximum likelihood and profile likelihood\n- the maximum likehood estimator from independent observations (see [coles2001]_ paragraph 3.4.1)\n- the maximum likehood estimator with a non-stationary hypothesis (see [coles2001]_ paragraph 6.3.1)\n\n"
      ]
    },
    {
      "cell_type": "markdown",
      "metadata": {},
      "source": [
        "Load the Port Pirie dataset of highest sea levels per year\n\n"
      ]
    },
    {
      "cell_type": "code",
      "execution_count": null,
      "metadata": {
        "collapsed": false
      },
      "outputs": [],
      "source": [
        "import openturns as ot\nimport openturns.viewer as otv\nimport openturns.experimental as otexp\nfrom openturns.usecases import coles\n\ndata = coles.Coles().portpirie\nprint(data[:5])"
      ]
    },
    {
      "cell_type": "markdown",
      "metadata": {},
      "source": [
        "Select the sea levels column\n\n"
      ]
    },
    {
      "cell_type": "code",
      "execution_count": null,
      "metadata": {
        "collapsed": false
      },
      "outputs": [],
      "source": [
        "sample = data[:, 1]"
      ]
    },
    {
      "cell_type": "markdown",
      "metadata": {},
      "source": [
        "Estimate the parameters of the GEV by maximizing the log-likehood\nand compute the parameter distribution\n\n"
      ]
    },
    {
      "cell_type": "code",
      "execution_count": null,
      "metadata": {
        "collapsed": false
      },
      "outputs": [],
      "source": [
        "factory = ot.GeneralizedExtremeValueFactory()\nresult1 = factory.buildMethodOfLikelihoodMaximizationEstimator(sample)"
      ]
    },
    {
      "cell_type": "markdown",
      "metadata": {},
      "source": [
        "Print the estimated parameter values\n\n"
      ]
    },
    {
      "cell_type": "code",
      "execution_count": null,
      "metadata": {
        "collapsed": false
      },
      "outputs": [],
      "source": [
        "estimate = result1.getDistribution()\ndesc = estimate.getParameterDescription()\np = estimate.getParameter()\nprint(\", \".join([f\"{param}: {value:.3f}\" for param, value in zip(desc, p)]))"
      ]
    },
    {
      "cell_type": "markdown",
      "metadata": {},
      "source": [
        "Inspect the estimated Gaussian parameter distribution\n\n"
      ]
    },
    {
      "cell_type": "code",
      "execution_count": null,
      "metadata": {
        "collapsed": false
      },
      "outputs": [],
      "source": [
        "parameterEstimate = result1.getParameterDistribution()\nprint(parameterEstimate)"
      ]
    },
    {
      "cell_type": "markdown",
      "metadata": {},
      "source": [
        "Inspect the covariance matrix\n\n"
      ]
    },
    {
      "cell_type": "code",
      "execution_count": null,
      "metadata": {
        "collapsed": false
      },
      "outputs": [],
      "source": [
        "V = parameterEstimate.getCovariance()\nprint(V)"
      ]
    },
    {
      "cell_type": "markdown",
      "metadata": {},
      "source": [
        "Inspect the standard deviation\n\n"
      ]
    },
    {
      "cell_type": "code",
      "execution_count": null,
      "metadata": {
        "collapsed": false
      },
      "outputs": [],
      "source": [
        "stddev = parameterEstimate.getStandardDeviation()\nprint(stddev)"
      ]
    },
    {
      "cell_type": "markdown",
      "metadata": {},
      "source": [
        "Extract parameters confidence intervals\n\n"
      ]
    },
    {
      "cell_type": "code",
      "execution_count": null,
      "metadata": {
        "collapsed": false
      },
      "outputs": [],
      "source": [
        "for i in range(3):\n    ci = parameterEstimate.getMarginal(i).computeBilateralConfidenceInterval(0.95)\n    print(desc[i] + \":\", ci)"
      ]
    },
    {
      "cell_type": "markdown",
      "metadata": {},
      "source": [
        "Validate the inference result thanks to some diagnostic plots\n\n"
      ]
    },
    {
      "cell_type": "code",
      "execution_count": null,
      "metadata": {
        "collapsed": false
      },
      "outputs": [],
      "source": [
        "validation = otexp.GeneralizedExtremeValueValidation(result1, sample)\ngraph = validation.drawDiagnosticPlot()\nview = otv.View(graph)"
      ]
    },
    {
      "cell_type": "markdown",
      "metadata": {},
      "source": [
        "Now estimate the parameters with the profile likelihood\n\n"
      ]
    },
    {
      "cell_type": "code",
      "execution_count": null,
      "metadata": {
        "collapsed": false
      },
      "outputs": [],
      "source": [
        "result2 = factory.buildMethodOfProfileLikelihoodMaximizationEstimator(sample)"
      ]
    },
    {
      "cell_type": "markdown",
      "metadata": {},
      "source": [
        "We can see the confidence interval of $\\xi$ is a bit smaller with this method\n\n"
      ]
    },
    {
      "cell_type": "code",
      "execution_count": null,
      "metadata": {
        "collapsed": false
      },
      "outputs": [],
      "source": [
        "result2.setConfidenceLevel(0.95)\nprint(result2.getParameterConfidenceInterval())"
      ]
    },
    {
      "cell_type": "markdown",
      "metadata": {},
      "source": [
        "We can also plot the profile likelihood and the confidence interval\n\n"
      ]
    },
    {
      "cell_type": "code",
      "execution_count": null,
      "metadata": {
        "collapsed": false
      },
      "outputs": [],
      "source": [
        "view = otv.View(result2.drawProfileLikelihoodFunction())"
      ]
    },
    {
      "cell_type": "markdown",
      "metadata": {},
      "source": [
        "Estimate the 10 and 100 years return levels from the MLE estimator\n\n"
      ]
    },
    {
      "cell_type": "code",
      "execution_count": null,
      "metadata": {
        "collapsed": false
      },
      "outputs": [],
      "source": [
        "zm10 = factory.buildReturnLevelEstimator(result1, 10.0)\nreturn_level10 = zm10.getMean()\nprint(f\"10 years return level={return_level10}\")\nreturn_level_ci10 = zm10.computeBilateralConfidenceInterval(0.95)\nprint(f\"CI={return_level_ci10}\")\n\nzm100 = factory.buildReturnLevelEstimator(result1, 100.0)\nreturn_level100 = zm100.getMean()\nprint(f\"100 years return level={return_level100}\")\nreturn_level_ci100 = zm100.computeBilateralConfidenceInterval(0.95)\nprint(f\"CI={return_level_ci100}\")"
      ]
    },
    {
      "cell_type": "markdown",
      "metadata": {},
      "source": [
        "Now estimate the 10 years return level with profile likelihood\n\n"
      ]
    },
    {
      "cell_type": "code",
      "execution_count": null,
      "metadata": {
        "collapsed": false
      },
      "outputs": [],
      "source": [
        "result_rl10_prof = factory.buildReturnLevelProfileLikelihoodEstimator(sample, 10.0)\nzm = result_rl10_prof.getParameter()\nprint(f\"10 years return level (profile)={zm}\")"
      ]
    },
    {
      "cell_type": "markdown",
      "metadata": {},
      "source": [
        "We can see the confidence interval of $z_m$ is a bit smaller with this method\n\n"
      ]
    },
    {
      "cell_type": "code",
      "execution_count": null,
      "metadata": {
        "collapsed": false
      },
      "outputs": [],
      "source": [
        "result_rl10_prof.setConfidenceLevel(0.95)\nreturn_level_ci10 = result_rl10_prof.getParameterConfidenceInterval()\nprint(f\"CI={return_level_ci10}\")"
      ]
    },
    {
      "cell_type": "markdown",
      "metadata": {},
      "source": [
        "We can also plot the profile likelihood and the confidence interval\n\n"
      ]
    },
    {
      "cell_type": "code",
      "execution_count": null,
      "metadata": {
        "collapsed": false
      },
      "outputs": [],
      "source": [
        "view = otv.View(result_rl10_prof.drawProfileLikelihoodFunction())"
      ]
    },
    {
      "cell_type": "markdown",
      "metadata": {},
      "source": [
        "Now formulate a non-stationary hypothesis for our parameters\nFirst we need the grid of time values (in years)\n\n"
      ]
    },
    {
      "cell_type": "code",
      "execution_count": null,
      "metadata": {
        "collapsed": false
      },
      "outputs": [],
      "source": [
        "mesh = ot.Mesh(data[:, 0])"
      ]
    },
    {
      "cell_type": "markdown",
      "metadata": {},
      "source": [
        "Now we can define the basis for each parameter.\nWe suppose that mu is linear with time, and that the other parameters remain constant.\n\n"
      ]
    },
    {
      "cell_type": "code",
      "execution_count": null,
      "metadata": {
        "collapsed": false
      },
      "outputs": [],
      "source": [
        "constant = ot.SymbolicFunction([\"t\"], [\"1.0\"])\nbasis_mu = ot.Basis([constant, ot.SymbolicFunction([\"t\"], [\"t\"])])  # linear trend\nbasis_sigma = ot.Basis([constant])  # stationary\nbasis_xi = ot.Basis([constant])  # stationary\nbasis_coll = [basis_mu, basis_sigma, basis_xi]"
      ]
    },
    {
      "cell_type": "markdown",
      "metadata": {},
      "source": [
        "We can now estimate the list of coefficients of the parametric basis for each parameters\nthe first 2 values are the coefficients for the mu basis\n\n"
      ]
    },
    {
      "cell_type": "code",
      "execution_count": null,
      "metadata": {
        "collapsed": false
      },
      "outputs": [],
      "source": [
        "result3 = factory.buildTimeVarying(sample, mesh, basis_coll)\np = result3.getOptimalParameter()\nb_mu, a_mu = p[:2]\nprint(p)\nprint(f\"mu(t) = {b_mu:.4f} + {a_mu:.4f} * t\")"
      ]
    },
    {
      "cell_type": "markdown",
      "metadata": {},
      "source": [
        "We can draw the estimated mu parametric function\nLets superpose the cloud of data values\n\n"
      ]
    },
    {
      "cell_type": "code",
      "execution_count": null,
      "metadata": {
        "collapsed": false
      },
      "outputs": [],
      "source": [
        "graph = result3.drawParameterFunction(0)\ncloud = ot.Cloud(data)\ncloud.setColor(\"red\")\ngraph.add(cloud)\nview = otv.View(graph)"
      ]
    },
    {
      "cell_type": "markdown",
      "metadata": {},
      "source": [
        "The visual evidence of a trend is weak in the graph.\nThe strength of this evidence can be assessed with the deviance statistics:\n\n"
      ]
    },
    {
      "cell_type": "code",
      "execution_count": null,
      "metadata": {
        "collapsed": false
      },
      "outputs": [],
      "source": [
        "llh1 = result1.getLogLikelihood()\nllh3 = result3.getLogLikelihood()\nresult4 = ot.HypothesisTest.LikelihoodRatioTest(llh1, llh3, 0.05)\naccepted = result4.getBinaryQualityMeasure()\nprint(f\"hypothesis H0(stationary model) accepted={accepted}\")"
      ]
    },
    {
      "cell_type": "markdown",
      "metadata": {},
      "source": [
        "The deviance statistics $D_p$ is small compared to the Chi2 quantile\nit means that the linear trend component can only explain a small variation in the data\nand is not a genuine effect in the sea-level process but rather a chance feature in the observed data\n\n"
      ]
    },
    {
      "cell_type": "code",
      "execution_count": null,
      "metadata": {
        "collapsed": false
      },
      "outputs": [],
      "source": [
        "print(f\"Dp={result4.getStatistic():.2f}\")\nprint(f\"cAlpha={result4.getThreshold():.2f}\")"
      ]
    },
    {
      "cell_type": "markdown",
      "metadata": {},
      "source": [
        "We can also draw the quantile(t) function for a given quantile level\nHere it is also linear as the trend is linear only on the mu parameter\n\n"
      ]
    },
    {
      "cell_type": "code",
      "execution_count": null,
      "metadata": {
        "collapsed": false
      },
      "outputs": [],
      "source": [
        "graph = result3.drawQuantileFunction(0.5)\nview = otv.View(graph)"
      ]
    },
    {
      "cell_type": "code",
      "execution_count": null,
      "metadata": {
        "collapsed": false
      },
      "outputs": [],
      "source": [
        "otv.View.ShowAll()"
      ]
    }
  ],
  "metadata": {
    "kernelspec": {
      "display_name": "Python 3",
      "language": "python",
      "name": "python3"
    },
    "language_info": {
      "codemirror_mode": {
        "name": "ipython",
        "version": 3
      },
      "file_extension": ".py",
      "mimetype": "text/x-python",
      "name": "python",
      "nbconvert_exporter": "python",
      "pygments_lexer": "ipython3",
      "version": "3.11.3"
    }
  },
  "nbformat": 4,
  "nbformat_minor": 0
}