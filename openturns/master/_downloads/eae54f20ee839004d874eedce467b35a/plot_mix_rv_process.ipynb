{
  "cells": [
    {
      "cell_type": "code",
      "execution_count": null,
      "metadata": {
        "collapsed": false
      },
      "outputs": [],
      "source": [
        "%matplotlib inline"
      ]
    },
    {
      "cell_type": "markdown",
      "metadata": {},
      "source": [
        "\n# Create a process from random vectors and processes\n"
      ]
    },
    {
      "cell_type": "markdown",
      "metadata": {},
      "source": [
        "The objective is to create a process defined from a random vector and a process.\n\nWe consider the following limit state function, defined as the difference between a degrading resistance $r(t) = R - bt$  and a time-varying load $S(t)$:\n\n\\begin{align}\\begin{align*}\n   g(t)= r(t) - S(t) = R - bt - S(t)\n   \\end{align*}\\end{align}\n\nWe propose the following probabilistic model:\n- $R$ is the initial resistance, and $R \\sim \\mathcal{N}(\\mu_R, \\sigma_R)$;\n- $b$ is the deterioration rate of the resistance; it is deterministic;\n- $S(t)$ is the time-varying stress, which is modeled by a stationary Gaussian process of mean value $\\mu_S$, standard deviation $\\sigma_S$ and a squared exponential covariance model;\n- $t$ is the time, varying in $[0,T]$.\n\n\n"
      ]
    },
    {
      "cell_type": "markdown",
      "metadata": {},
      "source": [
        "First, import the python modules:\n\n"
      ]
    },
    {
      "cell_type": "code",
      "execution_count": null,
      "metadata": {
        "collapsed": false
      },
      "outputs": [],
      "source": [
        "import openturns as ot\nfrom openturns.viewer import View\nimport math as m"
      ]
    },
    {
      "cell_type": "markdown",
      "metadata": {},
      "source": [
        "## 1. Create the gaussian process $(\\omega, t) \\rightarrow S(\\omega,t)$\n\n"
      ]
    },
    {
      "cell_type": "markdown",
      "metadata": {},
      "source": [
        "Create the mesh which is a regular grid on $[0,T]$, with $T=50$, by step =1:\n\n"
      ]
    },
    {
      "cell_type": "code",
      "execution_count": null,
      "metadata": {
        "collapsed": false
      },
      "outputs": [],
      "source": [
        "b = 0.01\nt0 = 0.0\nstep = 1\ntfin = 50\nn = round((tfin - t0) / step)\nmyMesh = ot.RegularGrid(t0, step, n)"
      ]
    },
    {
      "cell_type": "markdown",
      "metadata": {},
      "source": [
        "Create the squared exeponential covariance model:\n\n\\begin{align}C(s,t) = \\sigma^2e^{-\\frac{1}{2} \\left( \\dfrac{s-t}{l} \\right)^2}\\end{align}\n\nwhere the scale parameter is $l=\\frac{10}{\\sqrt{2}}$ and the amplitude $\\sigma = 1$.\n\n\n"
      ]
    },
    {
      "cell_type": "code",
      "execution_count": null,
      "metadata": {
        "collapsed": false
      },
      "outputs": [],
      "source": [
        "ll = 10 / m.sqrt(2)\nmyCovKernel = ot.SquaredExponential([ll])\nprint(\"cov model = \", myCovKernel)"
      ]
    },
    {
      "cell_type": "markdown",
      "metadata": {},
      "source": [
        "Create the gaussian process $S(t)$:\n\n"
      ]
    },
    {
      "cell_type": "code",
      "execution_count": null,
      "metadata": {
        "collapsed": false
      },
      "outputs": [],
      "source": [
        "S_proc = ot.GaussianProcess(myCovKernel, myMesh)"
      ]
    },
    {
      "cell_type": "markdown",
      "metadata": {},
      "source": [
        "## 2. Create the process $(\\omega, t) \\rightarrow R(\\omega)-bt$\n\n"
      ]
    },
    {
      "cell_type": "markdown",
      "metadata": {},
      "source": [
        "First, create the random variable $R \\sim \\mathcal{N}(\\mu_R, \\sigma_R)$, with $\\mu_R = 5$ and $\\sigma_R = 0.3$:\n\n"
      ]
    },
    {
      "cell_type": "code",
      "execution_count": null,
      "metadata": {
        "collapsed": false
      },
      "outputs": [],
      "source": [
        "muR = 5\nsigR = 0.3\nR = ot.Normal(muR, sigR)"
      ]
    },
    {
      "cell_type": "markdown",
      "metadata": {},
      "source": [
        "The create the Dirac random variable $B = b$:\n\n"
      ]
    },
    {
      "cell_type": "code",
      "execution_count": null,
      "metadata": {
        "collapsed": false
      },
      "outputs": [],
      "source": [
        "B = ot.Dirac(b)"
      ]
    },
    {
      "cell_type": "markdown",
      "metadata": {},
      "source": [
        "Then create the process $(\\omega, t) \\rightarrow R(\\omega)-bt$ using the $FunctionalBasisProcess$ class and the functional basis $\\phi_1 : t \\rightarrow 1$ and $\\phi_2: -t \\rightarrow t$ :\n\n\\begin{align}R(\\omega)-bt = R(\\omega)\\phi_1(t) + B(\\omega) \\phi_2(t)\\end{align}\n\nwith $(R,B)$ independent.\n\n"
      ]
    },
    {
      "cell_type": "code",
      "execution_count": null,
      "metadata": {
        "collapsed": false
      },
      "outputs": [],
      "source": [
        "const_func = ot.SymbolicFunction([\"t\"], [\"1\"])\nlinear_func = ot.SymbolicFunction([\"t\"], [\"-t\"])\nmyBasis = ot.Basis([const_func, linear_func])\n\ncoef = ot.ComposedDistribution([R, B])\n\nR_proc = ot.FunctionalBasisProcess(coef, myBasis, myMesh)"
      ]
    },
    {
      "cell_type": "markdown",
      "metadata": {},
      "source": [
        "## 3. Create the process $Z: (\\omega, t) \\rightarrow R(\\omega)-bt + S(\\omega, t)$\n\n"
      ]
    },
    {
      "cell_type": "markdown",
      "metadata": {},
      "source": [
        "First, aggregate both processes into one process of dimension 2: $(R_{proc}, S_{proc})$\n\n"
      ]
    },
    {
      "cell_type": "code",
      "execution_count": null,
      "metadata": {
        "collapsed": false
      },
      "outputs": [],
      "source": [
        "myRS_proc = ot.AggregatedProcess([R_proc, S_proc])"
      ]
    },
    {
      "cell_type": "markdown",
      "metadata": {},
      "source": [
        "Then create the spatial field function that acts only on the values of the process, keeping the mesh unchanged, using the *ValueFunction* class.\nWe define the function $g$ on $\\mathbb{R}^2$ by:\n\n\\begin{align}g(x,y) = x-y\\end{align}\n\nin order to define the spatial field function $g_{dyn}$ that acts on fields, defined by:\n\n\\begin{align}\\forall t\\in [0,T], g_{dyn}(X(\\omega, t), Y(\\omega, t)) = X(\\omega, t) - Y(\\omega, t)\\end{align}\n\n\n"
      ]
    },
    {
      "cell_type": "code",
      "execution_count": null,
      "metadata": {
        "collapsed": false
      },
      "outputs": [],
      "source": [
        "g = ot.SymbolicFunction([\"x1\", \"x2\"], [\"x1-x2\"])\ngDyn = ot.ValueFunction(g, myMesh)"
      ]
    },
    {
      "cell_type": "markdown",
      "metadata": {},
      "source": [
        "Now you have to create the final process $Z$ thanks to $g_{dyn}$:\n\n"
      ]
    },
    {
      "cell_type": "code",
      "execution_count": null,
      "metadata": {
        "collapsed": false
      },
      "outputs": [],
      "source": [
        "Z_proc = ot.CompositeProcess(gDyn, myRS_proc)"
      ]
    },
    {
      "cell_type": "markdown",
      "metadata": {},
      "source": [
        "## 4. Draw some realizations of the process\n\n"
      ]
    },
    {
      "cell_type": "code",
      "execution_count": null,
      "metadata": {
        "collapsed": false
      },
      "outputs": [],
      "source": [
        "N = 10\nsampleZ_proc = Z_proc.getSample(N)\ngraph = sampleZ_proc.drawMarginal(0)\ngraph.setTitle(r\"Some realizations of $Z(\\omega, t)$\")\nview = View(graph)"
      ]
    },
    {
      "cell_type": "markdown",
      "metadata": {},
      "source": [
        "## 5. Evaluate the probability that $Z(\\omega, t) \\in \\mathcal{D}$\n\n"
      ]
    },
    {
      "cell_type": "markdown",
      "metadata": {},
      "source": [
        "We define the domaine $\\mathcal{D} = [2,4]$ and the event $Z(\\omega, t) \\in \\mathcal{D}$:\n\n"
      ]
    },
    {
      "cell_type": "code",
      "execution_count": null,
      "metadata": {
        "collapsed": false
      },
      "outputs": [],
      "source": [
        "domain = ot.Interval([2], [4])\nprint(\"D = \", domain)\nevent = ot.ProcessEvent(Z_proc, domain)"
      ]
    },
    {
      "cell_type": "markdown",
      "metadata": {},
      "source": [
        "We use the Monte Carlo sampling to evaluate the probability:\n\n"
      ]
    },
    {
      "cell_type": "code",
      "execution_count": null,
      "metadata": {
        "collapsed": false
      },
      "outputs": [],
      "source": [
        "MC_algo = ot.ProbabilitySimulationAlgorithm(event)\nMC_algo.setMaximumOuterSampling(1000000)\nMC_algo.setBlockSize(100)\nMC_algo.setMaximumCoefficientOfVariation(0.01)\nMC_algo.run()\n\nresult = MC_algo.getResult()\n\nproba = result.getProbabilityEstimate()\nprint(\"Probability = \", proba)\nvariance = result.getVarianceEstimate()\nprint(\"Variance Estimate = \", variance)\nIC90_low = proba - result.getConfidenceLength(0.90) / 2\nIC90_upp = proba + result.getConfidenceLength(0.90) / 2\nprint(\"IC (90%) = [\", IC90_low, \", \", IC90_upp, \"]\")\nview.ShowAll()"
      ]
    }
  ],
  "metadata": {
    "kernelspec": {
      "display_name": "Python 3",
      "language": "python",
      "name": "python3"
    },
    "language_info": {
      "codemirror_mode": {
        "name": "ipython",
        "version": 3
      },
      "file_extension": ".py",
      "mimetype": "text/x-python",
      "name": "python",
      "nbconvert_exporter": "python",
      "pygments_lexer": "ipython3",
      "version": "3.10.9"
    }
  },
  "nbformat": 4,
  "nbformat_minor": 0
}