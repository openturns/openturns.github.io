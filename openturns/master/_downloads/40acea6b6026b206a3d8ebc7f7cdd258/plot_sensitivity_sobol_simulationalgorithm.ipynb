{
  "cells": [
    {
      "cell_type": "markdown",
      "metadata": {},
      "source": [
        "\n# Estimate Sobol' indices for the beam by simulation algorithm\n"
      ]
    },
    {
      "cell_type": "markdown",
      "metadata": {},
      "source": [
        "In this example, we estimate the Sobol' indices for the\n`cantilever beam <use-case-cantilever-beam>` by simulation algorithm.\n\n\n"
      ]
    },
    {
      "cell_type": "markdown",
      "metadata": {},
      "source": [
        "## Introduction\n\nIn this example we are going to quantify the correlation between the input\nvariables and the output variable of a model thanks to Sobol indices.\n\nSobol indices are designed to evaluate the importance of a single variable\nor a specific set of variables.\nHere the Sobol indices are estimated by sampling from the distributions of\nthe input variables and propagating uncertainty through a function.\n\nIn theory, Sobol indices range from 0 to 1; the closer an index value is\nto 1, the better the associated input variable explains the function output.\n\nLet us denote by $d$ the input dimension of the model.\n\nSobol' indices can be computed at different orders.\n\n* First order indices evaluate the importance of one input variable\n  at a time.\n\n* Total indices give the relative importance of one input variable\n  and all its interactions with other variables.\n  Alternatively, they can be viewed as measuring how much wriggle room\n  remains to the output when all but one input variables are fixed.\n\n* In general, we are only interested in first order and total Sobol' indices.\n  There are situations, however, where we want to estimate interactions.\n  Second order indices evaluate the importance of every pair of input variables.\n  The number of second order indices is:\n\n\\begin{align}\\binom{d}{2} = \\frac{d \\times \\left( d-1\\right)}{2}.\\end{align}\n\nIn practice, when the number of input variables is not small (say,\nwhen $d>5$), then the number of second order indices is too large\nto be easily analyzed.\nIn these situations, we limit the analysis to the first order and total\nSobol' indices.\n\n"
      ]
    },
    {
      "cell_type": "markdown",
      "metadata": {},
      "source": [
        "## Define the model\n\n"
      ]
    },
    {
      "cell_type": "code",
      "execution_count": null,
      "metadata": {
        "collapsed": false
      },
      "outputs": [],
      "source": [
        "from openturns.usecases import cantilever_beam\nimport openturns as ot\nimport openturns.viewer as otv\n\not.Log.Show(ot.Log.NONE)"
      ]
    },
    {
      "cell_type": "markdown",
      "metadata": {},
      "source": [
        "We load the distribution and model from the example:\n\n"
      ]
    },
    {
      "cell_type": "code",
      "execution_count": null,
      "metadata": {
        "collapsed": false
      },
      "outputs": [],
      "source": [
        "beam = cantilever_beam.CantileverBeam()\ndistribution = beam.independentDistribution\nmodel = beam.model"
      ]
    },
    {
      "cell_type": "markdown",
      "metadata": {},
      "source": [
        "## Estimate the Sobol' indices\n\n"
      ]
    },
    {
      "cell_type": "markdown",
      "metadata": {},
      "source": [
        "We first create the algorithm from `SobolSimulationAlgorithm` with the Saltelli estimator\nit will allow one to control the number of evaluations by convergence instead of using a fixed-size experiment\n\n"
      ]
    },
    {
      "cell_type": "code",
      "execution_count": null,
      "metadata": {
        "collapsed": false
      },
      "outputs": [],
      "source": [
        "estimator = ot.SaltelliSensitivityAlgorithm()\nestimator.setUseAsymptoticDistribution(True)\nalgo = ot.SobolSimulationAlgorithm(distribution, model, estimator)\nalgo.setMaximumOuterSampling(50)  # number of iterations\nalgo.setExperimentSize(1000)  # size of Sobol experiment at each iteration\nalgo.setBlockSize(4)  # number of points evaluated simultaneously\n# algo.setIndexQuantileLevel(0.05)  # alpha\n# algo.setIndexQuantileEpsilon(1e-2)  # epsilon\nalgo.run()"
      ]
    },
    {
      "cell_type": "markdown",
      "metadata": {},
      "source": [
        "## Extract the results\n\n"
      ]
    },
    {
      "cell_type": "code",
      "execution_count": null,
      "metadata": {
        "collapsed": false
      },
      "outputs": [],
      "source": [
        "result = algo.getResult()\nfo = result.getFirstOrderIndicesEstimate()\nto = result.getTotalOrderIndicesEstimate()\nfoDist = result.getFirstOrderIndicesDistribution()\ngraph = result.draw()\n_ = otv.View(graph)"
      ]
    },
    {
      "cell_type": "markdown",
      "metadata": {},
      "source": [
        "## Using a different estimator\n\nWe have used the `SaltelliSensitivityAlgorithm` class to estimate the indices.\nOthers are available in the library:\n\n* `SaltelliSensitivityAlgorithm`\n* `MartinezSensitivityAlgorithm`\n* `JansenSensitivityAlgorithm`\n* `MauntzKucherenkoSensitivityAlgorithm`\n\n\n"
      ]
    },
    {
      "cell_type": "code",
      "execution_count": null,
      "metadata": {
        "collapsed": false
      },
      "outputs": [],
      "source": [
        "otv.View.ShowAll()"
      ]
    }
  ],
  "metadata": {
    "kernelspec": {
      "display_name": "Python 3",
      "language": "python",
      "name": "python3"
    },
    "language_info": {
      "codemirror_mode": {
        "name": "ipython",
        "version": 3
      },
      "file_extension": ".py",
      "mimetype": "text/x-python",
      "name": "python",
      "nbconvert_exporter": "python",
      "pygments_lexer": "ipython3",
      "version": "3.12.7"
    }
  },
  "nbformat": 4,
  "nbformat_minor": 0
}