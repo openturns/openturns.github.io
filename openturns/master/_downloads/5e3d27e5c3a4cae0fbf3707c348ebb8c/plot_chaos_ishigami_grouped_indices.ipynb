{
  "cells": [
    {
      "cell_type": "code",
      "execution_count": null,
      "metadata": {
        "collapsed": false
      },
      "outputs": [],
      "source": [
        "%matplotlib inline"
      ]
    },
    {
      "cell_type": "markdown",
      "metadata": {},
      "source": [
        "\n# Compute grouped indices for the Ishigami function\n"
      ]
    },
    {
      "cell_type": "markdown",
      "metadata": {},
      "source": [
        "In this example, we compute grouped Sobol' indices for the `Ishigami function <use-case-ishigami>`.\n\n"
      ]
    },
    {
      "cell_type": "code",
      "execution_count": null,
      "metadata": {
        "collapsed": false
      },
      "outputs": [],
      "source": [
        "from openturns.usecases import ishigami_function as ishigami_function\nimport openturns as ot\nimport openturns.viewer as viewer\nfrom matplotlib import pylab as plt\nfrom math import pi\nimport openturns.viewer as otv\not.Log.Show(ot.Log.NONE)"
      ]
    },
    {
      "cell_type": "markdown",
      "metadata": {},
      "source": [
        "We load the Ishigami test function from usecases module:\n\n"
      ]
    },
    {
      "cell_type": "code",
      "execution_count": null,
      "metadata": {
        "collapsed": false
      },
      "outputs": [],
      "source": [
        "im = ishigami_function.IshigamiModel()"
      ]
    },
    {
      "cell_type": "markdown",
      "metadata": {},
      "source": [
        "The `IshigamiModel` data class contains the input distribution $X=(X_1, X_2, X_3)$ in `im.distributionX` and the Ishigami function in `im.model`.\nWe also have access to the input variable names with:\n\n"
      ]
    },
    {
      "cell_type": "code",
      "execution_count": null,
      "metadata": {
        "collapsed": false
      },
      "outputs": [],
      "source": [
        "input_names = im.distributionX.getDescription()"
      ]
    },
    {
      "cell_type": "markdown",
      "metadata": {},
      "source": [
        "Create a training sample.\n\n"
      ]
    },
    {
      "cell_type": "code",
      "execution_count": null,
      "metadata": {
        "collapsed": false
      },
      "outputs": [],
      "source": [
        "N = 100\ninputTrain = im.distributionX.getSample(N)\noutputTrain = im.model(inputTrain)"
      ]
    },
    {
      "cell_type": "markdown",
      "metadata": {},
      "source": [
        "Create the chaos.\n\n"
      ]
    },
    {
      "cell_type": "code",
      "execution_count": null,
      "metadata": {
        "collapsed": false
      },
      "outputs": [],
      "source": [
        "multivariateBasis = ot.OrthogonalProductPolynomialFactory(\n    [im.X1, im.X2, im.X3])\nselectionAlgorithm = ot.LeastSquaresMetaModelSelectionFactory()\nprojectionStrategy = ot.LeastSquaresStrategy(\n    inputTrain, outputTrain, selectionAlgorithm)\ntotalDegree = 8\nenumfunc = multivariateBasis.getEnumerateFunction()\nP = enumfunc.getStrataCumulatedCardinal(totalDegree)\nadaptiveStrategy = ot.FixedStrategy(multivariateBasis, P)\nchaosalgo = ot.FunctionalChaosAlgorithm(\n    inputTrain, outputTrain, im.distributionX, adaptiveStrategy, projectionStrategy)"
      ]
    },
    {
      "cell_type": "code",
      "execution_count": null,
      "metadata": {
        "collapsed": false
      },
      "outputs": [],
      "source": [
        "chaosalgo.run()\nresult = chaosalgo.getResult()\nmetamodel = result.getMetaModel()"
      ]
    },
    {
      "cell_type": "markdown",
      "metadata": {},
      "source": [
        "Print Sobol' indices.\n\n"
      ]
    },
    {
      "cell_type": "code",
      "execution_count": null,
      "metadata": {
        "collapsed": false
      },
      "outputs": [],
      "source": [
        "chaosSI = ot.FunctionalChaosSobolIndices(result)\nprint(chaosSI.summary())"
      ]
    },
    {
      "cell_type": "markdown",
      "metadata": {},
      "source": [
        "We compute the first order indice of the group [0,1].\n\n"
      ]
    },
    {
      "cell_type": "code",
      "execution_count": null,
      "metadata": {
        "collapsed": false
      },
      "outputs": [],
      "source": [
        "chaosSI.getSobolGroupedIndex([0, 1])"
      ]
    },
    {
      "cell_type": "markdown",
      "metadata": {},
      "source": [
        "This group collects all the multi-indices containing variables only in this group, including interactions within the group (by decreasing order of significance):\n\n* [0,4,0] : 0.279938\n* [1,0,0] : 0.190322\n* [0,6,0] : 0.130033\n* [3,0,0] : 0.12058\n* [0,2,0] : 0.0250262\n\n"
      ]
    },
    {
      "cell_type": "code",
      "execution_count": null,
      "metadata": {
        "collapsed": false
      },
      "outputs": [],
      "source": [
        "0.279938 + 0.190322 + 0.130033 + 0.12058 + 0.0250262"
      ]
    },
    {
      "cell_type": "markdown",
      "metadata": {},
      "source": [
        "The difference between the previous sum and the output of `getSobolGroupedIndex` is lower than 0.01, which is the threshold used by the `summary` method.\n\n"
      ]
    },
    {
      "cell_type": "markdown",
      "metadata": {},
      "source": [
        "We compute the total order indice of the group [1,2].\n\n"
      ]
    },
    {
      "cell_type": "code",
      "execution_count": null,
      "metadata": {
        "collapsed": false
      },
      "outputs": [],
      "source": [
        "chaosSI.getSobolGroupedTotalIndex([1, 2])"
      ]
    },
    {
      "cell_type": "markdown",
      "metadata": {},
      "source": [
        "This group collects all the multi-indices containing variables in this group, including interactions with variables outside the group:\n\n* [0,4,0] : 0.279938\n* [1,0,2] : 0.136823\n* [0,6,0] : 0.130033\n* [3,0,2] : 0.0837457\n* [0,2,0] : 0.0250262\n* [1,0,4] : 0.0111867\n\n"
      ]
    },
    {
      "cell_type": "code",
      "execution_count": null,
      "metadata": {
        "collapsed": false
      },
      "outputs": [],
      "source": [
        "0.279938 + 0.136823 + 0.130033 + 0.0837457 + 0.0250262 + 0.0111867"
      ]
    }
  ],
  "metadata": {
    "kernelspec": {
      "display_name": "Python 3",
      "language": "python",
      "name": "python3"
    },
    "language_info": {
      "codemirror_mode": {
        "name": "ipython",
        "version": 3
      },
      "file_extension": ".py",
      "mimetype": "text/x-python",
      "name": "python",
      "nbconvert_exporter": "python",
      "pygments_lexer": "ipython3",
      "version": "3.10.2"
    }
  },
  "nbformat": 4,
  "nbformat_minor": 0
}