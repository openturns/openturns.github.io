{
  "cells": [
    {
      "cell_type": "markdown",
      "metadata": {},
      "source": [
        "\n# Create a quadratic function\n"
      ]
    },
    {
      "cell_type": "markdown",
      "metadata": {},
      "source": [
        "In this example we are going to create a quadratic function of the form\n\n\\begin{align}f : \\underline{X} \\mapsto \\underline{\\underline{A}} ( \\underline{X} - \\underline{b} ) + \\underline{c}\n   + \\frac{1}{2} \\underline{X}^T \\times \\underline{\\underline{\\underline{M}}} \\times \\underline{X}\\end{align}\n\n\n"
      ]
    },
    {
      "cell_type": "code",
      "execution_count": null,
      "metadata": {
        "collapsed": false
      },
      "outputs": [],
      "source": [
        "import openturns as ot\nimport openturns.viewer as viewer\nfrom matplotlib import pylab as plt\n\not.Log.Show(ot.Log.NONE)"
      ]
    },
    {
      "cell_type": "markdown",
      "metadata": {},
      "source": [
        "create a quadratic function\n\n"
      ]
    },
    {
      "cell_type": "code",
      "execution_count": null,
      "metadata": {
        "collapsed": false
      },
      "outputs": [],
      "source": [
        "inputDimension = 3\noutputDimension = 2\ncenter = [1.0] * inputDimension\nconstant = [-1.0, 2.0]  # c\nlinear = ot.Matrix(inputDimension, outputDimension)  # A\nquadratic = ot.SymmetricTensor(inputDimension, outputDimension)  # M\nquadratic[0, 0, 1] = 3.0\nfunction = ot.QuadraticFunction(center, constant, linear, quadratic)\nx = [7.0, 8.0, 9.0]\nprint(function(x))"
      ]
    },
    {
      "cell_type": "markdown",
      "metadata": {},
      "source": [
        "draw y1 with x1=2.0, x2=1.0, x0 in [0, 2]\n\n"
      ]
    },
    {
      "cell_type": "code",
      "execution_count": null,
      "metadata": {
        "collapsed": false
      },
      "outputs": [],
      "source": [
        "graph = (\n    ot.ParametricFunction(function, [1, 2], [2.0, 1.0]).getMarginal(1).draw(0.0, 2.0)\n)\nview = viewer.View(graph)\nplt.show()"
      ]
    }
  ],
  "metadata": {
    "kernelspec": {
      "display_name": "Python 3",
      "language": "python",
      "name": "python3"
    },
    "language_info": {
      "codemirror_mode": {
        "name": "ipython",
        "version": 3
      },
      "file_extension": ".py",
      "mimetype": "text/x-python",
      "name": "python",
      "nbconvert_exporter": "python",
      "pygments_lexer": "ipython3",
      "version": "3.12.3"
    }
  },
  "nbformat": 4,
  "nbformat_minor": 0
}