{
  "cells": [
    {
      "cell_type": "markdown",
      "metadata": {},
      "source": [
        "\n# Iterated Functions System\n"
      ]
    },
    {
      "cell_type": "markdown",
      "metadata": {},
      "source": [
        "This examples show how to generate fractal sets using iterated functions systems. See https://en.wikipedia.org/wiki/Iterated_function_system for an introduction.\n\n"
      ]
    },
    {
      "cell_type": "code",
      "execution_count": null,
      "metadata": {
        "collapsed": false
      },
      "outputs": [],
      "source": [
        "import openturns as ot\nimport openturns.viewer as viewer\nfrom matplotlib import pylab as plt\nimport math as m\n\not.Log.Show(ot.Log.NONE)"
      ]
    },
    {
      "cell_type": "markdown",
      "metadata": {},
      "source": [
        "**Tree traversal algorithm (the chaos game)**\n\n"
      ]
    },
    {
      "cell_type": "code",
      "execution_count": null,
      "metadata": {
        "collapsed": false
      },
      "outputs": [],
      "source": [
        "def drawIFS(f_i, skip=100, iterations=1000, batch_size=1, name=\"IFS\", color=\"blue\"):\n    # Any set of initial points should work in theory\n    initialPoints = ot.Normal(2).getSample(batch_size)\n    # Compute the contraction factor of each function\n    all_r = [m.sqrt(abs(f[1].computeDeterminant())) for f in f_i]\n    # Find the box counting dimension, ie the value s such that r_1^s+...+r_n^s-1=0\n    equation = \"-1.0\"\n    for r in all_r:\n        equation += \"+\" + str(r) + \"^s\"\n    dim = len(f_i)\n    s = ot.Brent().solve(\n        ot.SymbolicFunction(\"s\", equation), 0.0, 0.0, -m.log(dim) / m.log(max(all_r))\n    )\n    # Add a small perturbation to sample even the degenerated transforms\n    probabilities = [r**s + 1e-2 for r in all_r]\n    # Build the sampling distribution\n    support = [[i] for i in range(dim)]\n    choice = ot.UserDefined(support, probabilities)\n    currentPoints = initialPoints\n    points = ot.Sample(0, 2)\n    # Convert the f_i into LinearEvaluation to benefit from the evaluation over\n    # a Sample\n    phi_i = [ot.LinearEvaluation([0.0] * 2, f[0], f[1]) for f in f_i]\n    # Burning phase\n    for i in range(skip):\n        index = int(round(choice.getRealization()[0]))\n        currentPoints = phi_i[index](currentPoints)\n    # Iteration phase\n    for i in range(iterations):\n        index = int(round(choice.getRealization()[0]))\n        currentPoints = phi_i[index](currentPoints)\n        points.add(currentPoints)\n    # Draw the IFS\n    graph = ot.Graph()\n    graph.setTitle(name)\n    graph.setXTitle(\"x\")\n    graph.setYTitle(\"y\")\n    graph.setGrid(True)\n    cloud = ot.Cloud(points)\n    cloud.setColor(color)\n    cloud.setPointStyle(\"dot\")\n    graph.add(cloud)\n    return graph, s"
      ]
    },
    {
      "cell_type": "markdown",
      "metadata": {},
      "source": [
        "**Definition of some IFS**\n\n"
      ]
    },
    {
      "cell_type": "markdown",
      "metadata": {},
      "source": [
        "Spiral\n\n"
      ]
    },
    {
      "cell_type": "code",
      "execution_count": null,
      "metadata": {
        "collapsed": false
      },
      "outputs": [],
      "source": [
        "rho1 = 0.9\ntheta1 = 137.5 * m.pi / 180.0\nf1 = [\n    [0.0] * 2,\n    ot.SquareMatrix(\n        2,\n        [\n            rho1 * m.cos(theta1),\n            -rho1 * m.sin(theta1),\n            rho1 * m.sin(theta1),\n            rho1 * m.cos(theta1),\n        ],\n    ),\n]\n\nrho2 = 0.15\nf2 = [[1.0, 0.0], rho2 * ot.IdentityMatrix(2)]\nf_i = [f1, f2]\ngraph, s = drawIFS(\n    f_i, skip=100, iterations=100000, batch_size=1, name=\"Spiral\", color=\"blue\"\n)\nprint(\"Box counting dimension=%.3f\" % s)\nview = viewer.View(graph)"
      ]
    },
    {
      "cell_type": "markdown",
      "metadata": {},
      "source": [
        "Fern\n\n"
      ]
    },
    {
      "cell_type": "code",
      "execution_count": null,
      "metadata": {
        "collapsed": false
      },
      "outputs": [],
      "source": [
        "f1 = [[0.0] * 2, ot.SquareMatrix(2, [0.0, 0.0, 0.0, 0.16])]\nf2 = [[0.0, 1.6], ot.SquareMatrix(2, [0.85, 0.04, -0.04, 0.85])]\nf3 = [[0.0, 1.6], ot.SquareMatrix(2, [0.2, -0.26, 0.23, 0.22])]\nf4 = [[0.0, 0.44], ot.SquareMatrix(2, [-0.15, 0.28, 0.26, 0.24])]\nf_i = [f1, f2, f3, f4]\ngraph, s = drawIFS(\n    f_i, skip=100, iterations=100000, batch_size=1, name=\"Fern\", color=\"green\"\n)\nprint(\"Box counting dimension=%.3f\" % s)\nview = viewer.View(graph)"
      ]
    },
    {
      "cell_type": "markdown",
      "metadata": {},
      "source": [
        "Dragon\n\n"
      ]
    },
    {
      "cell_type": "code",
      "execution_count": null,
      "metadata": {
        "collapsed": false
      },
      "outputs": [],
      "source": [
        "f1 = [[0.0, 0.0], ot.SquareMatrix(2, [0.5, -0.5, 0.5, 0.5])]\nf2 = [[1.0, 0.0], ot.SquareMatrix(2, [-0.5, -0.5, 0.5, -0.5])]\nf_i = [f1, f2]\ngraph, s = drawIFS(\n    f_i, skip=100, iterations=100000, batch_size=1, name=\"Dragon\", color=\"red\"\n)\nprint(\"Box counting dimension=%.3f\" % s)\nview = viewer.View(graph)"
      ]
    },
    {
      "cell_type": "markdown",
      "metadata": {},
      "source": [
        "Sierpinski triangle\n\n"
      ]
    },
    {
      "cell_type": "code",
      "execution_count": null,
      "metadata": {
        "collapsed": false
      },
      "outputs": [],
      "source": [
        "f1 = [[0.0, 0.0], ot.SquareMatrix(2, [0.5, 0.0, 0.0, 0.5])]\nf2 = [[0.5, 0.0], ot.SquareMatrix(2, [0.5, 0.0, 0.0, 0.5])]\nf3 = [[0.25, m.sqrt(3.0) / 4.0], ot.SquareMatrix(2, [0.5, 0.0, 0.0, 0.5])]\nf_i = [f1, f2, f3]\ngraph, s = drawIFS(\n    f_i,\n    skip=100,\n    iterations=100000,\n    batch_size=1,\n    name=\"Sierpinski's triangle\",\n    color=\"magenta\",\n)\nprint(\"Box counting dimension=%.3f\" % s)\nview = viewer.View(graph)\nplt.show()"
      ]
    }
  ],
  "metadata": {
    "kernelspec": {
      "display_name": "Python 3",
      "language": "python",
      "name": "python3"
    },
    "language_info": {
      "codemirror_mode": {
        "name": "ipython",
        "version": 3
      },
      "file_extension": ".py",
      "mimetype": "text/x-python",
      "name": "python",
      "nbconvert_exporter": "python",
      "pygments_lexer": "ipython3",
      "version": "3.13.1"
    }
  },
  "nbformat": 4,
  "nbformat_minor": 0
}