{
  "cells": [
    {
      "cell_type": "markdown",
      "metadata": {},
      "source": [
        "\n# Kriging : draw covariance models\n"
      ]
    },
    {
      "cell_type": "code",
      "execution_count": null,
      "metadata": {
        "collapsed": false
      },
      "outputs": [],
      "source": [
        "import openturns as ot\nimport openturns.viewer as otv\nfrom matplotlib import pylab as plt\nimport pylab as pl"
      ]
    },
    {
      "cell_type": "markdown",
      "metadata": {},
      "source": [
        "## Abstract\n\nGaussian processes are a common fixture in UQ.\nThey are defined by their covariance function and the library implements several of them.\nIn this example we should depict covariance functions and play with parameters\nfor two families of models: the generalized exponential model and the Matern models.\n\nFor visualization sake we should limit ourselves to the dimension 1.\n\n"
      ]
    },
    {
      "cell_type": "code",
      "execution_count": null,
      "metadata": {
        "collapsed": false
      },
      "outputs": [],
      "source": [
        "dimension = 1"
      ]
    },
    {
      "cell_type": "markdown",
      "metadata": {},
      "source": [
        "We set the lower bound to zero for stationary kernels\n\n"
      ]
    },
    {
      "cell_type": "code",
      "execution_count": null,
      "metadata": {
        "collapsed": false
      },
      "outputs": [],
      "source": [
        "ot.ResourceMap.SetAsScalar(\"CovarianceModel-DefaultTMin\", 0.0)"
      ]
    },
    {
      "cell_type": "markdown",
      "metadata": {},
      "source": [
        "## The generalized exponential model\n\nThe :class:`~openturns.GeneralizedExponential` class implements a generalized exponential with a\nparameter $p < 0 \\leq 2$ exponent. The case $p=1$ is the standard exponential model\nwhile $p=2$ is the squared exponential.\n\n\n"
      ]
    },
    {
      "cell_type": "markdown",
      "metadata": {},
      "source": [
        "### Various parameters p and a fixed correlation length of 0.1\n\nIn this part we set the correlation length to $\\theta = 0.1$ and study three different models\nwith parameters $p=0.25$, $p=1$ and $p=2$ and trajectories from gaussian processes\nbased on these models.\n\n"
      ]
    },
    {
      "cell_type": "markdown",
      "metadata": {},
      "source": [
        "We define the $p = 0.25$ generalized exponential model :\n\n"
      ]
    },
    {
      "cell_type": "code",
      "execution_count": null,
      "metadata": {
        "collapsed": false
      },
      "outputs": [],
      "source": [
        "covarianceModel = ot.GeneralizedExponential([0.1], 0.25)"
      ]
    },
    {
      "cell_type": "markdown",
      "metadata": {},
      "source": [
        "We define the $p = 1$ generalized exponential model :\n\n"
      ]
    },
    {
      "cell_type": "code",
      "execution_count": null,
      "metadata": {
        "collapsed": false
      },
      "outputs": [],
      "source": [
        "covarianceModel2 = ot.GeneralizedExponential([0.1], 1.0)"
      ]
    },
    {
      "cell_type": "markdown",
      "metadata": {},
      "source": [
        "We define the $p = 2$ generalized exponential model :\n\n"
      ]
    },
    {
      "cell_type": "code",
      "execution_count": null,
      "metadata": {
        "collapsed": false
      },
      "outputs": [],
      "source": [
        "covarianceModel3 = ot.GeneralizedExponential([0.1], 2.0)"
      ]
    },
    {
      "cell_type": "markdown",
      "metadata": {},
      "source": [
        "We draw the covariance models :\n\n"
      ]
    },
    {
      "cell_type": "code",
      "execution_count": null,
      "metadata": {
        "collapsed": false
      },
      "outputs": [],
      "source": [
        "graphModel = covarianceModel.draw()\ngraphModel.add(covarianceModel2.draw())\ngraphModel.add(covarianceModel3.draw())\ngraphModel.setColors([\"green\", \"orange\", \"blue\"])\ngraphModel.setXTitle(r\"$\\tau = \\|s-t\\|$\")\ngraphModel.setYTitle(r\"$C(\\tau)$\")\ngraphModel.setLegends([r\"$p = 0.25$\", r\"$p = 1$\", r\"$p = 2$\"])"
      ]
    },
    {
      "cell_type": "markdown",
      "metadata": {},
      "source": [
        "For each covariance model we build a gaussian process and generate a random trajectory of\non $[-1,1]$.\nWe first build a discretization of this interval with a regular grid with step 0.01.\n\n"
      ]
    },
    {
      "cell_type": "code",
      "execution_count": null,
      "metadata": {
        "collapsed": false
      },
      "outputs": [],
      "source": [
        "xmin = -1.0\nstep = 0.01\nn = 200\ngrid1D = ot.RegularGrid(xmin, step, n + 1)\nnbTrajectories = 1"
      ]
    },
    {
      "cell_type": "markdown",
      "metadata": {},
      "source": [
        "We define the first gaussian process and its trajectory :\n\n"
      ]
    },
    {
      "cell_type": "code",
      "execution_count": null,
      "metadata": {
        "collapsed": false
      },
      "outputs": [],
      "source": [
        "process = ot.GaussianProcess(covarianceModel, grid1D)\nsample = process.getSample(nbTrajectories)"
      ]
    },
    {
      "cell_type": "markdown",
      "metadata": {},
      "source": [
        "then the second one and its trajectory :\n\n"
      ]
    },
    {
      "cell_type": "code",
      "execution_count": null,
      "metadata": {
        "collapsed": false
      },
      "outputs": [],
      "source": [
        "process2 = ot.GaussianProcess(covarianceModel2, grid1D)\nsample2 = process2.getSample(nbTrajectories)"
      ]
    },
    {
      "cell_type": "markdown",
      "metadata": {},
      "source": [
        "and finally the third one and its trajectory :\n\n"
      ]
    },
    {
      "cell_type": "code",
      "execution_count": null,
      "metadata": {
        "collapsed": false
      },
      "outputs": [],
      "source": [
        "process3 = ot.GaussianProcess(covarianceModel3, grid1D)\nsample3 = process3.getSample(nbTrajectories)"
      ]
    },
    {
      "cell_type": "markdown",
      "metadata": {},
      "source": [
        "We draw the trajectories :\n\n"
      ]
    },
    {
      "cell_type": "code",
      "execution_count": null,
      "metadata": {
        "collapsed": false
      },
      "outputs": [],
      "source": [
        "graphTraj = sample.drawMarginal(0)\ngraphTraj.add(sample2.drawMarginal(0))\ngraphTraj.add(sample3.drawMarginal(0))\ngraphTraj.setXTitle(r\"$x$\")\ngraphTraj.setYTitle(r\"$GP_{\\nu}(x)$\")\ngraphTraj.setTitle(\"Random realization from the covariance model\")\ngraphTraj.setColors([\"green\", \"orange\", \"blue\"])\ngraphTraj.setLegends([r\"$p = 0.25$\", r\"$p = 1$\", r\"$p = 2$\"])"
      ]
    },
    {
      "cell_type": "markdown",
      "metadata": {},
      "source": [
        "We present each covariance model and the corresponding tracjectory side by side.\n\n"
      ]
    },
    {
      "cell_type": "code",
      "execution_count": null,
      "metadata": {
        "collapsed": false
      },
      "outputs": [],
      "source": [
        "fig = pl.figure(figsize=(12, 4))\nax_pdf = fig.add_subplot(1, 2, 1)\n_ = otv.View(graphModel, figure=fig, axes=[ax_pdf])\nax_cdf = fig.add_subplot(1, 2, 2)\n_ = otv.View(graphTraj, figure=fig, axes=[ax_cdf])\n_ = fig.suptitle(r\"Generalized Exponential Model : influence of the p parameter\")"
      ]
    },
    {
      "cell_type": "markdown",
      "metadata": {},
      "source": [
        "The blue trajectory corresponding to the parameter $p=2$ is smooth as expected as compared with\nthe $p=0.25$ process which is less regular.\n\n"
      ]
    },
    {
      "cell_type": "markdown",
      "metadata": {},
      "source": [
        "### The exponential model ($p=1$)\n\nIn the case of the exponential model ($p=1$) we show the influence of the correlation length on\nthe trajectories.\n\n\n"
      ]
    },
    {
      "cell_type": "markdown",
      "metadata": {},
      "source": [
        "with correlation length $\\theta = 0.01$  :\n\n"
      ]
    },
    {
      "cell_type": "code",
      "execution_count": null,
      "metadata": {
        "collapsed": false
      },
      "outputs": [],
      "source": [
        "covarianceModel = ot.GeneralizedExponential([0.01], 1.0)"
      ]
    },
    {
      "cell_type": "markdown",
      "metadata": {},
      "source": [
        "with correlation length $\\theta = 0.1$ :\n\n"
      ]
    },
    {
      "cell_type": "code",
      "execution_count": null,
      "metadata": {
        "collapsed": false
      },
      "outputs": [],
      "source": [
        "covarianceModel2 = ot.GeneralizedExponential([0.1], 1.0)"
      ]
    },
    {
      "cell_type": "markdown",
      "metadata": {},
      "source": [
        "with correlation length $\\theta = 1.0$\n\n"
      ]
    },
    {
      "cell_type": "code",
      "execution_count": null,
      "metadata": {
        "collapsed": false
      },
      "outputs": [],
      "source": [
        "covarianceModel3 = ot.GeneralizedExponential([1.0], 1.0)"
      ]
    },
    {
      "cell_type": "markdown",
      "metadata": {},
      "source": [
        "We draw the covariance models :\n\n"
      ]
    },
    {
      "cell_type": "code",
      "execution_count": null,
      "metadata": {
        "collapsed": false
      },
      "outputs": [],
      "source": [
        "graphModel = covarianceModel.draw()\ngraphModel.add(covarianceModel2.draw())\ngraphModel.add(covarianceModel3.draw())\ngraphModel.setColors([\"green\", \"orange\", \"blue\"])\ngraphModel.setXTitle(r\"$\\tau = \\|s-t\\|$\")\ngraphModel.setYTitle(r\"$C(\\tau)$\")\ngraphModel.setLegends([r\"$\\theta = 0.01$\", r\"$\\theta = 0.1$\", r\"$\\theta = 1$\"])"
      ]
    },
    {
      "cell_type": "markdown",
      "metadata": {},
      "source": [
        "For each covariance model we build a gaussian process and generate a random trajectory of\non $[-1,1]$.\nWe first build a discretization of this interval with a regular grid with step 0.01.\n\n"
      ]
    },
    {
      "cell_type": "code",
      "execution_count": null,
      "metadata": {
        "collapsed": false
      },
      "outputs": [],
      "source": [
        "xmin = -1.0\nstep = 0.01\nn = 200\ngrid1D = ot.RegularGrid(xmin, step, n + 1)\nnbTrajectories = 1"
      ]
    },
    {
      "cell_type": "markdown",
      "metadata": {},
      "source": [
        "We define the first gaussian process and its trajectory :\n\n"
      ]
    },
    {
      "cell_type": "code",
      "execution_count": null,
      "metadata": {
        "collapsed": false
      },
      "outputs": [],
      "source": [
        "process = ot.GaussianProcess(covarianceModel, grid1D)\nsample = process.getSample(nbTrajectories)"
      ]
    },
    {
      "cell_type": "markdown",
      "metadata": {},
      "source": [
        "then the second one and its trajectory :\n\n"
      ]
    },
    {
      "cell_type": "code",
      "execution_count": null,
      "metadata": {
        "collapsed": false
      },
      "outputs": [],
      "source": [
        "process2 = ot.GaussianProcess(covarianceModel2, grid1D)\nsample2 = process2.getSample(nbTrajectories)"
      ]
    },
    {
      "cell_type": "markdown",
      "metadata": {},
      "source": [
        "and finally the third one and its trajectory :\n\n"
      ]
    },
    {
      "cell_type": "code",
      "execution_count": null,
      "metadata": {
        "collapsed": false
      },
      "outputs": [],
      "source": [
        "process3 = ot.GaussianProcess(covarianceModel3, grid1D)\nsample3 = process3.getSample(nbTrajectories)"
      ]
    },
    {
      "cell_type": "markdown",
      "metadata": {},
      "source": [
        "We draw the trajectories :\n\n"
      ]
    },
    {
      "cell_type": "code",
      "execution_count": null,
      "metadata": {
        "collapsed": false
      },
      "outputs": [],
      "source": [
        "graphTraj = sample.drawMarginal(0)\ngraphTraj.add(sample2.drawMarginal(0))\ngraphTraj.add(sample3.drawMarginal(0))\ngraphTraj.setXTitle(r\"$x$\")\ngraphTraj.setYTitle(r\"$GP_{\\theta}(x)$\")\ngraphTraj.setTitle(\"Random realization from the covariance model\")\ngraphTraj.setColors([\"green\", \"orange\", \"blue\"])\ngraphTraj.setLegends([r\"$\\theta = 0.01$\", r\"$\\theta = 0.1$\", r\"$\\theta = 1$\"])"
      ]
    },
    {
      "cell_type": "markdown",
      "metadata": {},
      "source": [
        "We present each covariance model and the corresponding tracjectory side by side.\n\n"
      ]
    },
    {
      "cell_type": "code",
      "execution_count": null,
      "metadata": {
        "collapsed": false
      },
      "outputs": [],
      "source": [
        "fig = pl.figure(figsize=(12, 4))\nax_pdf = fig.add_subplot(1, 2, 1)\n_ = otv.View(graphModel, figure=fig, axes=[ax_pdf])\nax_cdf = fig.add_subplot(1, 2, 2)\n_ = otv.View(graphTraj, figure=fig, axes=[ax_cdf])\n_ = fig.suptitle(r\"Exponential Model : influence of correlation length $\\theta$\")"
      ]
    },
    {
      "cell_type": "markdown",
      "metadata": {},
      "source": [
        "We observe a smoother trajectory with a high correlation value.\n\n"
      ]
    },
    {
      "cell_type": "markdown",
      "metadata": {},
      "source": [
        "### The squared exponential ($p=2$)\n\n\nIn the case of the squared exponential model ($p=2$) we show the influence of the correlation length on\nthe trajectories.\n\n\n"
      ]
    },
    {
      "cell_type": "markdown",
      "metadata": {},
      "source": [
        "with correlation length $\\theta = 0.01$  :\n\n"
      ]
    },
    {
      "cell_type": "code",
      "execution_count": null,
      "metadata": {
        "collapsed": false
      },
      "outputs": [],
      "source": [
        "covarianceModel = ot.GeneralizedExponential([0.01], 2.0)"
      ]
    },
    {
      "cell_type": "markdown",
      "metadata": {},
      "source": [
        "with correlation length $\\theta = 0.1$ :\n\n"
      ]
    },
    {
      "cell_type": "code",
      "execution_count": null,
      "metadata": {
        "collapsed": false
      },
      "outputs": [],
      "source": [
        "covarianceModel2 = ot.GeneralizedExponential([0.1], 2.0)"
      ]
    },
    {
      "cell_type": "markdown",
      "metadata": {},
      "source": [
        "with correlation length $\\theta = 1.0$\n\n"
      ]
    },
    {
      "cell_type": "code",
      "execution_count": null,
      "metadata": {
        "collapsed": false
      },
      "outputs": [],
      "source": [
        "covarianceModel3 = ot.GeneralizedExponential([1.0], 2.0)"
      ]
    },
    {
      "cell_type": "markdown",
      "metadata": {},
      "source": [
        "We draw the covariance models :\n\n"
      ]
    },
    {
      "cell_type": "code",
      "execution_count": null,
      "metadata": {
        "collapsed": false
      },
      "outputs": [],
      "source": [
        "graphModel = covarianceModel.draw()\ngraphModel.add(covarianceModel2.draw())\ngraphModel.add(covarianceModel3.draw())\ngraphModel.setColors([\"green\", \"orange\", \"blue\"])\ngraphModel.setXTitle(r\"$\\tau = \\|s-t\\|$\")\ngraphModel.setYTitle(r\"$C(\\tau)$\")\ngraphModel.setLegends([r\"$\\theta = 0.01$\", r\"$\\theta = 0.1$\", r\"$\\theta = 1$\"])"
      ]
    },
    {
      "cell_type": "markdown",
      "metadata": {},
      "source": [
        "For each covariance model we build a gaussian process and generate a random trajectory of\non $[-1,1]$.\nWe first build a discretization of this interval with a regular grid with step 0.01.\n\n"
      ]
    },
    {
      "cell_type": "code",
      "execution_count": null,
      "metadata": {
        "collapsed": false
      },
      "outputs": [],
      "source": [
        "xmin = -1.0\nstep = 0.01\nn = 200\ngrid1D = ot.RegularGrid(xmin, step, n + 1)\nnbTrajectories = 1"
      ]
    },
    {
      "cell_type": "markdown",
      "metadata": {},
      "source": [
        "We define the first gaussian process and its trajectory :\n\n"
      ]
    },
    {
      "cell_type": "code",
      "execution_count": null,
      "metadata": {
        "collapsed": false
      },
      "outputs": [],
      "source": [
        "process = ot.GaussianProcess(covarianceModel, grid1D)\nsample = process.getSample(nbTrajectories)"
      ]
    },
    {
      "cell_type": "markdown",
      "metadata": {},
      "source": [
        "then the second one and its trajectory :\n\n"
      ]
    },
    {
      "cell_type": "code",
      "execution_count": null,
      "metadata": {
        "collapsed": false
      },
      "outputs": [],
      "source": [
        "process2 = ot.GaussianProcess(covarianceModel2, grid1D)\nsample2 = process2.getSample(nbTrajectories)"
      ]
    },
    {
      "cell_type": "markdown",
      "metadata": {},
      "source": [
        "and finally the third one and its trajectory :\n\n"
      ]
    },
    {
      "cell_type": "code",
      "execution_count": null,
      "metadata": {
        "collapsed": false
      },
      "outputs": [],
      "source": [
        "process3 = ot.GaussianProcess(covarianceModel3, grid1D)\nsample3 = process3.getSample(nbTrajectories)"
      ]
    },
    {
      "cell_type": "markdown",
      "metadata": {},
      "source": [
        "We draw the trajectories :\n\n"
      ]
    },
    {
      "cell_type": "code",
      "execution_count": null,
      "metadata": {
        "collapsed": false
      },
      "outputs": [],
      "source": [
        "graphTraj = sample.drawMarginal(0)\ngraphTraj.add(sample2.drawMarginal(0))\ngraphTraj.add(sample3.drawMarginal(0))\ngraphTraj.setXTitle(r\"$x$\")\ngraphTraj.setYTitle(r\"$GP_{\\theta}(x)$\")\ngraphTraj.setTitle(\"Random realization from the covariance model\")\ngraphTraj.setColors([\"green\", \"orange\", \"blue\"])\ngraphTraj.setLegends([r\"$\\theta = 0.01$\", r\"$\\theta = 0.1$\", r\"$\\theta = 1$\"])"
      ]
    },
    {
      "cell_type": "markdown",
      "metadata": {},
      "source": [
        "We present each covariance model and the corresponding tracjectory side by side.\n\n"
      ]
    },
    {
      "cell_type": "code",
      "execution_count": null,
      "metadata": {
        "collapsed": false
      },
      "outputs": [],
      "source": [
        "fig = pl.figure(figsize=(12, 4))\nax_pdf = fig.add_subplot(1, 2, 1)\n_ = otv.View(graphModel, figure=fig, axes=[ax_pdf])\nax_cdf = fig.add_subplot(1, 2, 2)\n_ = otv.View(graphTraj, figure=fig, axes=[ax_cdf])\n_ = fig.suptitle(\n    r\"Squared exponential model : influence of correlation length $\\theta$\"\n)"
      ]
    },
    {
      "cell_type": "markdown",
      "metadata": {},
      "source": [
        "Execpt for very small values of the correlation length, trajectories are usually smooth. It is the\nmain effect of the squared exponential model which leads to smooth process.\n\n"
      ]
    },
    {
      "cell_type": "markdown",
      "metadata": {},
      "source": [
        "## The Matern covariance model\n\nThe :class:`~openturns.MaternModel` class implements the Matern model of parameter $\\nu$.\nThis parameter controls the smoothness of the process : for any $\\nu = n + \\frac{1}{2}$ the\nprocess is $n$ times continuously differentiable.\n\n"
      ]
    },
    {
      "cell_type": "markdown",
      "metadata": {},
      "source": [
        "### Influence of the regularity\n\nIn this paragraph we represent three models with different regularity and generate the\ncorresponding random trajectories. We shall use $\\nu = 0.5$, $\\nu = 1.5$ and\n$\\nu = 2.5$ and observe the regularity.\n\n\n"
      ]
    },
    {
      "cell_type": "markdown",
      "metadata": {},
      "source": [
        "We define the $\\nu = 0.5$ Matern model :\n\n"
      ]
    },
    {
      "cell_type": "code",
      "execution_count": null,
      "metadata": {
        "collapsed": false
      },
      "outputs": [],
      "source": [
        "covarianceModel = ot.MaternModel([1.0], 0.5)"
      ]
    },
    {
      "cell_type": "markdown",
      "metadata": {},
      "source": [
        "We define the $\\nu = 1.5$ Matern model :\n\n"
      ]
    },
    {
      "cell_type": "code",
      "execution_count": null,
      "metadata": {
        "collapsed": false
      },
      "outputs": [],
      "source": [
        "covarianceModel2 = ot.MaternModel([1.0], 1.5)"
      ]
    },
    {
      "cell_type": "markdown",
      "metadata": {},
      "source": [
        "We define the $\\nu = 2.5$ Matern model :\n\n"
      ]
    },
    {
      "cell_type": "code",
      "execution_count": null,
      "metadata": {
        "collapsed": false
      },
      "outputs": [],
      "source": [
        "covarianceModel3 = ot.MaternModel([1.0], 2.5)"
      ]
    },
    {
      "cell_type": "markdown",
      "metadata": {},
      "source": [
        "We draw the covariance models :\n\n"
      ]
    },
    {
      "cell_type": "code",
      "execution_count": null,
      "metadata": {
        "collapsed": false
      },
      "outputs": [],
      "source": [
        "graphModel = covarianceModel.draw()\ngraphModel.add(covarianceModel2.draw())\ngraphModel.add(covarianceModel3.draw())\ngraphModel.setColors([\"green\", \"orange\", \"blue\"])\ngraphModel.setXTitle(r\"$\\tau = \\|s-t\\|$\")\ngraphModel.setYTitle(r\"$C(\\tau)$\")\ngraphModel.setLegends([r\"$\\nu = 1/2$\", r\"$\\nu = 3/2$\", r\"$\\nu = 5/2$\"])"
      ]
    },
    {
      "cell_type": "markdown",
      "metadata": {},
      "source": [
        "For each covariance model we build a gaussian process and generate a random trajectory of\non $[-1,1]$.\nWe first build a discretization of this interval with a regular grid with step 0.001.\n\n"
      ]
    },
    {
      "cell_type": "code",
      "execution_count": null,
      "metadata": {
        "collapsed": false
      },
      "outputs": [],
      "source": [
        "xmin = -5.0\nstep = 0.01\nn = 1000\ngrid1D = ot.RegularGrid(xmin, step, n + 1)\nnbTrajectories = 1"
      ]
    },
    {
      "cell_type": "markdown",
      "metadata": {},
      "source": [
        "We define the first gaussian process and its trajectory :\n\n"
      ]
    },
    {
      "cell_type": "code",
      "execution_count": null,
      "metadata": {
        "collapsed": false
      },
      "outputs": [],
      "source": [
        "process = ot.GaussianProcess(covarianceModel, grid1D)\nsample = process.getSample(nbTrajectories)"
      ]
    },
    {
      "cell_type": "markdown",
      "metadata": {},
      "source": [
        "then the second one and its trajectory :\n\n"
      ]
    },
    {
      "cell_type": "code",
      "execution_count": null,
      "metadata": {
        "collapsed": false
      },
      "outputs": [],
      "source": [
        "process2 = ot.GaussianProcess(covarianceModel2, grid1D)\nsample2 = process2.getSample(nbTrajectories)"
      ]
    },
    {
      "cell_type": "markdown",
      "metadata": {},
      "source": [
        "and finally the third one and its trajectory :\n\n"
      ]
    },
    {
      "cell_type": "code",
      "execution_count": null,
      "metadata": {
        "collapsed": false
      },
      "outputs": [],
      "source": [
        "process3 = ot.GaussianProcess(covarianceModel3, grid1D)\nsample3 = process3.getSample(nbTrajectories)"
      ]
    },
    {
      "cell_type": "markdown",
      "metadata": {},
      "source": [
        "We draw the trajectories :\n\n"
      ]
    },
    {
      "cell_type": "code",
      "execution_count": null,
      "metadata": {
        "collapsed": false
      },
      "outputs": [],
      "source": [
        "graphTraj = sample.drawMarginal(0)\ngraphTraj.add(sample2.drawMarginal(0))\ngraphTraj.add(sample3.drawMarginal(0))\ngraphTraj.setXTitle(r\"$x$\")\ngraphTraj.setYTitle(r\"$GP_{\\nu}(x)$\")\ngraphTraj.setTitle(\"Random realization from the covariance model\")\ngraphTraj.setColors([\"green\", \"orange\", \"blue\"])\ngraphTraj.setLegends([r\"$\\nu = 1/2$\", r\"$\\nu = 3/2$\", r\"$\\nu = 5/2$\"])"
      ]
    },
    {
      "cell_type": "markdown",
      "metadata": {},
      "source": [
        "We present each covariance model and the corresponding tracjectory side by side.\n\n"
      ]
    },
    {
      "cell_type": "code",
      "execution_count": null,
      "metadata": {
        "collapsed": false
      },
      "outputs": [],
      "source": [
        "fig = pl.figure(figsize=(12, 4))\nax_pdf = fig.add_subplot(1, 2, 1)\n_ = otv.View(graphModel, figure=fig, axes=[ax_pdf])\nax_cdf = fig.add_subplot(1, 2, 2)\n_ = otv.View(graphTraj, figure=fig, axes=[ax_cdf])\n_ = fig.suptitle(r\"Matern model : influence of the regularity $\\nu$ parameter\")"
      ]
    },
    {
      "cell_type": "markdown",
      "metadata": {},
      "source": [
        "The red trajectory is the least regular ($nu = 0.5$) as it is only continuous. We see that the\nthe blue trajectory is more smooth as expected.\n\n"
      ]
    },
    {
      "cell_type": "markdown",
      "metadata": {},
      "source": [
        "### Variation of the correlation length\n\nIn this paragraph we fix the regularity by choosing $\\nu = 1.5$ so we expect a continuously\ndifferentiable realization.\nWe then use three different correlation lengths $\\theta = 0.01$, $\\theta = 0.1$ and\n$\\theta = 1.0$ and observe the impact on realizations of gaussian processes based on these\ncovariance models.\n\n"
      ]
    },
    {
      "cell_type": "markdown",
      "metadata": {},
      "source": [
        "We define the Matern model with $\\theta = 0.01$ :\n\n"
      ]
    },
    {
      "cell_type": "code",
      "execution_count": null,
      "metadata": {
        "collapsed": false
      },
      "outputs": [],
      "source": [
        "covarianceModel = ot.MaternModel([0.01], 1.5)"
      ]
    },
    {
      "cell_type": "markdown",
      "metadata": {},
      "source": [
        "We define the Matern model with $\\theta = 0.1$ :\n\n"
      ]
    },
    {
      "cell_type": "code",
      "execution_count": null,
      "metadata": {
        "collapsed": false
      },
      "outputs": [],
      "source": [
        "covarianceModel2 = ot.MaternModel([0.1], 1.5)"
      ]
    },
    {
      "cell_type": "markdown",
      "metadata": {},
      "source": [
        "We define the Matern model with $\\theta = 1.0$ :\n\n"
      ]
    },
    {
      "cell_type": "code",
      "execution_count": null,
      "metadata": {
        "collapsed": false
      },
      "outputs": [],
      "source": [
        "covarianceModel3 = ot.MaternModel([1.0], 1.5)"
      ]
    },
    {
      "cell_type": "markdown",
      "metadata": {},
      "source": [
        "We draw the covariance models :\n\n"
      ]
    },
    {
      "cell_type": "code",
      "execution_count": null,
      "metadata": {
        "collapsed": false
      },
      "outputs": [],
      "source": [
        "graphModel = covarianceModel.draw()\ngraphModel.add(covarianceModel2.draw())\ngraphModel.add(covarianceModel3.draw())\ngraphModel.setColors([\"green\", \"orange\", \"blue\"])\ngraphModel.setXTitle(r\"$\\tau = \\|s-t\\|$\")\ngraphModel.setYTitle(r\"$C(\\tau)$\")\ngraphModel.setTitle(\"Matern covariance model with \\nu = 3/2\")\ngraphModel.setLegends([r\"$\\theta = 0.01$\", r\"$\\theta = 0.1$\", r\"$\\theta = 1.0$\"])"
      ]
    },
    {
      "cell_type": "markdown",
      "metadata": {},
      "source": [
        "For each covariance model we build a gaussian process and generate a random trajectory of\non $[-1,1]$.\nWe build a discretization of this interval with a regular grid with step 0.01.\n\n"
      ]
    },
    {
      "cell_type": "code",
      "execution_count": null,
      "metadata": {
        "collapsed": false
      },
      "outputs": [],
      "source": [
        "xmin = -1.0\nstep = 0.01\nn = 200\ngrid1D = ot.RegularGrid(xmin, step, n + 1)\nnbTrajectories = 1"
      ]
    },
    {
      "cell_type": "markdown",
      "metadata": {},
      "source": [
        "We define the first gaussian process and its trajectory :\n\n"
      ]
    },
    {
      "cell_type": "code",
      "execution_count": null,
      "metadata": {
        "collapsed": false
      },
      "outputs": [],
      "source": [
        "process = ot.GaussianProcess(covarianceModel, grid1D)\nsample = process.getSample(nbTrajectories)"
      ]
    },
    {
      "cell_type": "markdown",
      "metadata": {},
      "source": [
        "then the second process :\n\n"
      ]
    },
    {
      "cell_type": "code",
      "execution_count": null,
      "metadata": {
        "collapsed": false
      },
      "outputs": [],
      "source": [
        "process2 = ot.GaussianProcess(covarianceModel2, grid1D)\nsample2 = process2.getSample(nbTrajectories)"
      ]
    },
    {
      "cell_type": "markdown",
      "metadata": {},
      "source": [
        "and the third one :\n\n"
      ]
    },
    {
      "cell_type": "code",
      "execution_count": null,
      "metadata": {
        "collapsed": false
      },
      "outputs": [],
      "source": [
        "process3 = ot.GaussianProcess(covarianceModel3, grid1D)\nsample3 = process3.getSample(nbTrajectories)"
      ]
    },
    {
      "cell_type": "markdown",
      "metadata": {},
      "source": [
        "We draw the trajectories :\n\n"
      ]
    },
    {
      "cell_type": "code",
      "execution_count": null,
      "metadata": {
        "collapsed": false
      },
      "outputs": [],
      "source": [
        "graphTraj = sample.drawMarginal(0)\ngraphTraj.add(sample2.drawMarginal(0))\ngraphTraj.add(sample3.drawMarginal(0))\ngraphTraj.setXTitle(r\"$x$\")\ngraphTraj.setYTitle(r\"$GP_{\\theta}(x)$\")\ngraphTraj.setColors([\"green\", \"orange\", \"blue\"])\ngraphTraj.setLegends([r\"$\\theta = 0.01$\", r\"$\\theta = 0.1$\", r\"$\\theta = 1.0$\"])"
      ]
    },
    {
      "cell_type": "markdown",
      "metadata": {},
      "source": [
        "We present each covariance model and the corresponding tracjectory side by side.\n\n"
      ]
    },
    {
      "cell_type": "code",
      "execution_count": null,
      "metadata": {
        "collapsed": false
      },
      "outputs": [],
      "source": [
        "fig = pl.figure(figsize=(12, 4))\nax_pdf = fig.add_subplot(1, 2, 1)\n_ = otv.View(graphModel, figure=fig, axes=[ax_pdf])\nax_cdf = fig.add_subplot(1, 2, 2)\n_ = otv.View(graphTraj, figure=fig, axes=[ax_cdf])\n_ = fig.suptitle(\"The Matern model : variation of the correlation length\")"
      ]
    },
    {
      "cell_type": "markdown",
      "metadata": {},
      "source": [
        "From the previous figure we see that the trajectory of the gaussian process is smoother with large\ncorrelation length.\n\n"
      ]
    },
    {
      "cell_type": "markdown",
      "metadata": {},
      "source": [
        "Display figures\n\n"
      ]
    },
    {
      "cell_type": "code",
      "execution_count": null,
      "metadata": {
        "collapsed": false
      },
      "outputs": [],
      "source": [
        "plt.show()"
      ]
    },
    {
      "cell_type": "markdown",
      "metadata": {},
      "source": [
        "Reset default settings\n\n"
      ]
    },
    {
      "cell_type": "code",
      "execution_count": null,
      "metadata": {
        "collapsed": false
      },
      "outputs": [],
      "source": [
        "ot.ResourceMap.Reload()"
      ]
    }
  ],
  "metadata": {
    "kernelspec": {
      "display_name": "Python 3",
      "language": "python",
      "name": "python3"
    },
    "language_info": {
      "codemirror_mode": {
        "name": "ipython",
        "version": 3
      },
      "file_extension": ".py",
      "mimetype": "text/x-python",
      "name": "python",
      "nbconvert_exporter": "python",
      "pygments_lexer": "ipython3",
      "version": "3.12.3"
    }
  },
  "nbformat": 4,
  "nbformat_minor": 0
}