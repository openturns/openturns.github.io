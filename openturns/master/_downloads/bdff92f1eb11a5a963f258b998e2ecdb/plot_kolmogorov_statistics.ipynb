{
  "cells": [
    {
      "cell_type": "code",
      "execution_count": null,
      "metadata": {
        "collapsed": false
      },
      "outputs": [],
      "source": [
        "%matplotlib inline"
      ]
    },
    {
      "cell_type": "markdown",
      "metadata": {},
      "source": [
        "\n# The Kolmogorov-Smirnov statistics\n"
      ]
    },
    {
      "cell_type": "markdown",
      "metadata": {},
      "source": [
        "In this example, we illustrate how the Kolmogorov-Smirnov statistics is computed. \n\n* We generate a sample from a gaussian distribution. \n* We create a Uniform distribution which parameters are estimated from the sample.\n* The Kolmogorov-Smirnov statistics is computed and plot on the empirical cumulated distribution function.\n\n"
      ]
    },
    {
      "cell_type": "code",
      "execution_count": null,
      "metadata": {
        "collapsed": false
      },
      "outputs": [],
      "source": [
        "import openturns as ot\nimport openturns.viewer as viewer\nfrom matplotlib import pylab as plt\not.Log.Show(ot.Log.NONE)"
      ]
    },
    {
      "cell_type": "markdown",
      "metadata": {},
      "source": [
        "The computeKSStatisticsIndex function computes the Kolmogorov-Smirnov distance between the sample and the distribution. Furthermore, it returns the index which achieves the maximum distance in the sorted sample. The following function is for teaching purposes only: use `FittingTest` for real applications.\n\n"
      ]
    },
    {
      "cell_type": "code",
      "execution_count": null,
      "metadata": {
        "collapsed": false
      },
      "outputs": [],
      "source": [
        "def computeKSStatisticsIndex(sample,distribution):\n    sample = ot.Sample(sample.sort())\n    n = sample.getSize()\n    D = 0.\n    index = -1\n    D_previous = 0.\n    for i in range(n):\n        F = distribution.computeCDF(sample[i])\n        D = max(F - float(i)/n,float(i+1)/n - F,D)\n        if (D > D_previous):\n            index = i\n            D_previous = D\n    return D, index"
      ]
    },
    {
      "cell_type": "markdown",
      "metadata": {},
      "source": [
        "The drawKSDistance function plots the empirical distribution function of the sample and the Kolmogorov-Smirnov distance at point x. \n\n"
      ]
    },
    {
      "cell_type": "code",
      "execution_count": null,
      "metadata": {
        "collapsed": false
      },
      "outputs": [],
      "source": [
        "def drawKSDistance(sample,distribution,x,D,distFactory):\n    graph = ot.Graph(\"KS Distance = %.4f\" % (D),\"X\",\"CDF\",True,\"topleft\")\n    # Vertical line at point x\n    ECDF_index = sample.computeEmpiricalCDF([x])\n    CDF_index = distribution.computeCDF(x)\n    curve = ot.Curve([x,x],[ECDF_index,CDF_index])\n    curve.setColor(\"green\")\n    curve.setLegend(\"KS Statistics\")\n    curve.setLineWidth(4.*curve.getLineWidth())\n    graph.add(curve)\n    # Empirical CDF\n    empiricalCDF = ot.UserDefined(sample).drawCDF()\n    empiricalCDF.setColors([\"blue\"])\n    empiricalCDF.setLegends([\"Empirical DF\"])\n    graph.add(empiricalCDF)\n    #\n    distname = distFactory.getClassName()\n    distribution = distFactory.build(sample)\n    cdf = distribution.drawCDF()\n    cdf.setLegends([distname])\n    graph.add(cdf)\n    return graph"
      ]
    },
    {
      "cell_type": "markdown",
      "metadata": {},
      "source": [
        "We generate a sample from a standard gaussian distribution.\n\n"
      ]
    },
    {
      "cell_type": "code",
      "execution_count": null,
      "metadata": {
        "collapsed": false
      },
      "outputs": [],
      "source": [
        "N = ot.Normal()\nn = 10\nsample = N.getSample(n)"
      ]
    },
    {
      "cell_type": "markdown",
      "metadata": {},
      "source": [
        "Compute the index which achieves the maximum Kolmogorov-Smirnov distance.\n\n"
      ]
    },
    {
      "cell_type": "markdown",
      "metadata": {},
      "source": [
        "We then create a Uniform distribution which parameters are estimated from the sample. This way, the K.S. distance is large enough to being graphically significant.\n\n"
      ]
    },
    {
      "cell_type": "code",
      "execution_count": null,
      "metadata": {
        "collapsed": false
      },
      "outputs": [],
      "source": [
        "distFactory = ot.UniformFactory()\ndistribution = distFactory.build(sample)\ndistribution"
      ]
    },
    {
      "cell_type": "markdown",
      "metadata": {},
      "source": [
        "Compute the index which achieves the maximum Kolmogorov-Smirnov distance.\n\n"
      ]
    },
    {
      "cell_type": "code",
      "execution_count": null,
      "metadata": {
        "collapsed": false
      },
      "outputs": [],
      "source": [
        "D, index = computeKSStatisticsIndex(sample,distribution)\nprint(\"D=\",D,\", Index=\",index)"
      ]
    },
    {
      "cell_type": "markdown",
      "metadata": {},
      "source": [
        "Get the value which maximizes the distance.\n\n"
      ]
    },
    {
      "cell_type": "code",
      "execution_count": null,
      "metadata": {
        "collapsed": false
      },
      "outputs": [],
      "source": [
        "x = sample[index,0]\nx"
      ]
    },
    {
      "cell_type": "code",
      "execution_count": null,
      "metadata": {
        "collapsed": false
      },
      "outputs": [],
      "source": [
        "graph = drawKSDistance(sample,distribution,x,D,distFactory)\nview = viewer.View(graph)\nplt.show()"
      ]
    },
    {
      "cell_type": "markdown",
      "metadata": {},
      "source": [
        "We see that the K.S. statistics is acheived where the distance between the empirical distribution function of the sample and the candidate distribution is largest.\n\n"
      ]
    }
  ],
  "metadata": {
    "kernelspec": {
      "display_name": "Python 3",
      "language": "python",
      "name": "python3"
    },
    "language_info": {
      "codemirror_mode": {
        "name": "ipython",
        "version": 3
      },
      "file_extension": ".py",
      "mimetype": "text/x-python",
      "name": "python",
      "nbconvert_exporter": "python",
      "pygments_lexer": "ipython3",
      "version": "3.8.6"
    }
  },
  "nbformat": 4,
  "nbformat_minor": 0
}