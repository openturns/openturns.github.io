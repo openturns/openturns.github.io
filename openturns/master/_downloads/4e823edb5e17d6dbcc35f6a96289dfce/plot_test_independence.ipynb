{
  "cells": [
    {
      "cell_type": "code",
      "execution_count": null,
      "metadata": {
        "collapsed": false
      },
      "outputs": [],
      "source": [
        "%matplotlib inline"
      ]
    },
    {
      "cell_type": "markdown",
      "metadata": {},
      "source": [
        "\n# Test independence\n"
      ]
    },
    {
      "cell_type": "code",
      "execution_count": null,
      "metadata": {
        "collapsed": false
      },
      "outputs": [],
      "source": [
        "import openturns as ot\n\not.Log.Show(ot.Log.NONE)"
      ]
    },
    {
      "cell_type": "markdown",
      "metadata": {},
      "source": [
        "## Sample independence test\n\nIn this paragraph we perform tests to assess whether two 1-d samples are independent or not.\n\nThe following tests are available:\n\n- the ChiSquared test: it tests if both scalar samples (discrete ones only) are independent.\n  If $n_{ij}$ is the number of values of the sample $i=(1,2)$ in\n  the modality $1 \\leq j \\leq m$, $\\displaystyle n_{i.} = \\sum_{j=1}^m n_{ij}$,\n  $\\displaystyle n_{.j} = \\sum_{i=1}^2 n_{ij}$, and the ChiSquared\n  test evaluates the decision variable:\n\n\\begin{align}D^2 = \\sum_{i=1}^2 \\sum_{j=1}^m \\frac{( n_{ij} - \\frac{n_{i.} n_{.j}}{n} )^2}{\\frac{n_{i.} n_{.j}}{n}}\\end{align}\n\nwhich tends towards the $\\chi^2(m-1)$ distribution.\nThe hypothesis of independence is rejected if $D^2$ is too high\n(depending on the p-value threshold).\n\n- the Pearson test: it tests if there exists a linear relation between two\n  scalar samples which form a gaussian vector (which is equivalent to have a\n  linear correlation coefficient not equal to zero).\n  If both samples are $\\underline{x} = (x_i)_{1 \\leq i \\leq n}$ and\n  $\\underline{y} = (y_i)_{1 \\leq i \\leq n}$, and $\\bar{x} = \\displaystyle \\frac{1}{n}\\sum_{i=1}^n x_i$\n  and $\\bar{y} = \\displaystyle \\frac{1}{n}\\sum_{i=1}^n y_i$,\n  the Pearson test evaluates the decision variable:\n\n .. math::\n     D = \\frac{\\sum_{i=1}^n (x_i - \\bar{x})(y_i - \\bar{y})}{\\sqrt{\\sum_{i=1}^n (x_i - \\bar{x})^2\\sum_{i=1}^n (y_i - \\bar{y})^2}}\n\nThe variable $D$ tends towards a $\\chi^2(n-2)$, under the\nhypothesis of normality of both samples.\nThe hypothesis of a linear coefficient equal to 0 is rejected (which is\nequivalent to the independence of the samples) if D is too high\n(depending on the p-value threshold).\n\n- the Spearman test: it tests if there exists a monotonous relation between two scalar samples.\n  If both samples are $\\underline{x} = (x_i)_{1 \\leq i \\leq n}$ and\n  $\\underline{y}= (y_i)_{1 \\leq i \\leq n}$,, the Spearman test evaluates the decision variable:\n\n\\begin{align}D = 1-\\frac{6\\sum_{i=1}^n (r_i - s_i)^2}{n(n^2-1)}\\end{align}\n\nwhere $r_i = rank(x_i)$ and  $s_i = rank(y_i)$. $D$ is\nsuch that $\\sqrt{n-1}D$ tends towards the standard normal distribution.\n\n\n"
      ]
    },
    {
      "cell_type": "markdown",
      "metadata": {},
      "source": [
        "### The continuous case\n\nWe create two different continuous samples :\n\n"
      ]
    },
    {
      "cell_type": "code",
      "execution_count": null,
      "metadata": {
        "collapsed": false
      },
      "outputs": [],
      "source": [
        "sample1 = ot.Normal().getSample(100)\nsample2 = ot.Normal().getSample(100)"
      ]
    },
    {
      "cell_type": "markdown",
      "metadata": {},
      "source": [
        "We first use the Pearson test and store the result :\n\n"
      ]
    },
    {
      "cell_type": "code",
      "execution_count": null,
      "metadata": {
        "collapsed": false
      },
      "outputs": [],
      "source": [
        "resultPearson = ot.HypothesisTest.Pearson(sample1, sample2, 0.10)"
      ]
    },
    {
      "cell_type": "markdown",
      "metadata": {},
      "source": [
        "We can then display the result of the test as a yes/no answer with\nthe `getBinaryQualityMeasure`. We can retrieve the p-value and the threshold with the `getPValue`\nand `getThreshold` methods.\n\n"
      ]
    },
    {
      "cell_type": "code",
      "execution_count": null,
      "metadata": {
        "collapsed": false
      },
      "outputs": [],
      "source": [
        "print(\n    \"Component is normal?\",\n    resultPearson.getBinaryQualityMeasure(),\n    \"p-value=%.6g\" % resultPearson.getPValue(),\n    \"threshold=%.6g\" % resultPearson.getThreshold(),\n)"
      ]
    },
    {
      "cell_type": "markdown",
      "metadata": {},
      "source": [
        "We can also use the Spearman test :\n\n"
      ]
    },
    {
      "cell_type": "code",
      "execution_count": null,
      "metadata": {
        "collapsed": false
      },
      "outputs": [],
      "source": [
        "resultSpearman = ot.HypothesisTest.Spearman(sample1, sample2, 0.10)\nprint(\n    \"Component is normal?\",\n    resultSpearman.getBinaryQualityMeasure(),\n    \"p-value=%.6g\" % resultSpearman.getPValue(),\n    \"threshold=%.6g\" % resultSpearman.getThreshold(),\n)"
      ]
    },
    {
      "cell_type": "markdown",
      "metadata": {},
      "source": [
        "### The discrete case\n\nTesting is also possible for discrete distribution. Let us create discrete two different samples :\n\n"
      ]
    },
    {
      "cell_type": "code",
      "execution_count": null,
      "metadata": {
        "collapsed": false
      },
      "outputs": [],
      "source": [
        "sample1 = ot.Poisson(0.2).getSample(100)\nsample2 = ot.Poisson(0.2).getSample(100)"
      ]
    },
    {
      "cell_type": "markdown",
      "metadata": {},
      "source": [
        "We use the Chi2 test to check independence and store the result :\n\n"
      ]
    },
    {
      "cell_type": "code",
      "execution_count": null,
      "metadata": {
        "collapsed": false
      },
      "outputs": [],
      "source": [
        "resultChi2 = ot.HypothesisTest.ChiSquared(sample1, sample2, 0.10)"
      ]
    },
    {
      "cell_type": "markdown",
      "metadata": {},
      "source": [
        "and display the results :\n\n"
      ]
    },
    {
      "cell_type": "code",
      "execution_count": null,
      "metadata": {
        "collapsed": false
      },
      "outputs": [],
      "source": [
        "print(\n    \"Component is normal?\",\n    resultChi2.getBinaryQualityMeasure(),\n    \"p-value=%.6g\" % resultChi2.getPValue(),\n    \"threshold=%.6g\" % resultChi2.getThreshold(),\n)"
      ]
    },
    {
      "cell_type": "markdown",
      "metadata": {},
      "source": [
        "## Test samples independence using regression\n\nIndependence testing with regression is also an option in OpenTURNS.\nIt consists in detecting a linear relation between two scalar samples.\n\n\n"
      ]
    },
    {
      "cell_type": "markdown",
      "metadata": {},
      "source": [
        "We generate a sample of dimension 3 with component 0 correlated to component 2 :\n\n"
      ]
    },
    {
      "cell_type": "code",
      "execution_count": null,
      "metadata": {
        "collapsed": false
      },
      "outputs": [],
      "source": [
        "marginals = [ot.Normal()] * 3\nS = ot.CorrelationMatrix(3)\nS[0, 2] = 0.9\ncopula = ot.NormalCopula(S)\ndistribution = ot.ComposedDistribution(marginals, copula)\nsample = distribution.getSample(30)"
      ]
    },
    {
      "cell_type": "markdown",
      "metadata": {},
      "source": [
        "Next, we split it in two samples : firstSample of dimension=2, secondSample of dimension=1.\n\n"
      ]
    },
    {
      "cell_type": "code",
      "execution_count": null,
      "metadata": {
        "collapsed": false
      },
      "outputs": [],
      "source": [
        "firstSample = sample[:, :2]\nsecondSample = sample[:, 2]"
      ]
    },
    {
      "cell_type": "markdown",
      "metadata": {},
      "source": [
        "We test independence of each component of firstSample against the secondSample :\n\n"
      ]
    },
    {
      "cell_type": "code",
      "execution_count": null,
      "metadata": {
        "collapsed": false
      },
      "outputs": [],
      "source": [
        "test_results = ot.LinearModelTest.FullRegression(firstSample, secondSample)\nfor i in range(len(test_results)):\n    print(\n        \"Component\",\n        i,\n        \"is independent?\",\n        test_results[i].getBinaryQualityMeasure(),\n        \"p-value=%.6g\" % test_results[i].getPValue(),\n        \"threshold=%.6g\" % test_results[i].getThreshold(),\n    )"
      ]
    }
  ],
  "metadata": {
    "kernelspec": {
      "display_name": "Python 3",
      "language": "python",
      "name": "python3"
    },
    "language_info": {
      "codemirror_mode": {
        "name": "ipython",
        "version": 3
      },
      "file_extension": ".py",
      "mimetype": "text/x-python",
      "name": "python",
      "nbconvert_exporter": "python",
      "pygments_lexer": "ipython3",
      "version": "3.10.8"
    }
  },
  "nbformat": 4,
  "nbformat_minor": 0
}