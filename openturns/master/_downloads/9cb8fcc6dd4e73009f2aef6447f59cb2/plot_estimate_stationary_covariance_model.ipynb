{
  "cells": [
    {
      "cell_type": "markdown",
      "metadata": {},
      "source": [
        "\n# Estimate a stationary covariance function\n"
      ]
    },
    {
      "cell_type": "markdown",
      "metadata": {},
      "source": [
        "The objective here is to estimate a stationary covariance model from data.\n\nThe library builds an estimation of the stationary covariance function on a\n:class:`~openturns.ProcessSample` or :class:`~openturns.TimeSeries` using the previous algorithm implemented in\nthe :class:`~openturns.StationaryCovarianceModelFactory` class.\nThe result consists of a :class:`~openturns.UserDefinedStationaryCovarianceModel` which is easy to manipulate.\n\nSuch an object is composed of a time grid and a collection of $K$\nsquare matrices of dimension `d`.\n$K$ corresponds to the number of time steps of the final time grid on\nwhich the covariance is estimated.\nWhen estimated from a time series , the :class:`~openturns.UserDefinedStationaryCovarianceModel`\nmay have a time grid different from the initial time grid of the time series.\n\n\n"
      ]
    },
    {
      "cell_type": "code",
      "execution_count": null,
      "metadata": {
        "collapsed": false
      },
      "outputs": [],
      "source": [
        "import openturns as ot\nimport openturns.viewer as viewer\nfrom matplotlib import pyplot as plt"
      ]
    },
    {
      "cell_type": "markdown",
      "metadata": {},
      "source": [
        "Create some 1-d Normal process data with an Exponential covariance model\n\n"
      ]
    },
    {
      "cell_type": "code",
      "execution_count": null,
      "metadata": {
        "collapsed": false
      },
      "outputs": [],
      "source": [
        "# Dimension parameter\ndim = 1\n\n# Create the time grid\nt0 = 0.0\nN = 300\nt1 = 20.0\ndt = (t1 - t0) / N\ntgrid = ot.RegularGrid(t0, dt, N)\n\n# Create the covariance model\namplitude = [1.0] * dim\nscale = [1.0] * dim\ncovmodel = ot.ExponentialModel(scale, amplitude)\n\n# Create a stationary Normal process with that covariance model\nprocess = ot.GaussianProcess(covmodel, tgrid)\n\n# Create a time series and a sample of time series\ntseries = process.getRealization()\nsample = process.getSample(1000)"
      ]
    },
    {
      "cell_type": "markdown",
      "metadata": {},
      "source": [
        "Build a factory of stationary covariance function\n\n"
      ]
    },
    {
      "cell_type": "code",
      "execution_count": null,
      "metadata": {
        "collapsed": false
      },
      "outputs": [],
      "source": [
        "covarianceFactory = ot.StationaryCovarianceModelFactory()\n\n# Set the spectral factory algorithm\nsegmentNumber = 5\nspectralFactory = ot.WelchFactory(ot.Hann(), segmentNumber)\ncovarianceFactory.setSpectralModelFactory(spectralFactory)\n\n# Check the current spectral factory\nprint(covarianceFactory.getSpectralModelFactory())"
      ]
    },
    {
      "cell_type": "markdown",
      "metadata": {},
      "source": [
        "Case 1 :  Estimation on a ProcessSample\n\n"
      ]
    },
    {
      "cell_type": "code",
      "execution_count": null,
      "metadata": {
        "collapsed": false
      },
      "outputs": [],
      "source": [
        "# The spectral model factory computes the spectral density function\n# without using the block and overlap arguments of the Welch factories\nestimatedModel_PS = covarianceFactory.build(sample)\n\n# Case 2 :  Estimation on a TimeSeries\n\n# The spectral model factory compute the spectral density function using\n# the block and overlap arguments of spectral model factories\nestimatedModel_TS = covarianceFactory.build(tseries)\n\n# Evaluate the covariance function at each time step\n# Care : if estimated from a time series, the time grid has changed\nfor i in range(N):\n    tau = tgrid.getValue(i)\n    cov = estimatedModel_PS(tau)"
      ]
    },
    {
      "cell_type": "markdown",
      "metadata": {},
      "source": [
        "Drawing:\n\n"
      ]
    },
    {
      "cell_type": "code",
      "execution_count": null,
      "metadata": {
        "collapsed": false
      },
      "outputs": [],
      "source": [
        "sampleValueEstimated = ot.Sample(N, 1)\nsampleValueModel = ot.Sample(N, 1)\nfor i in range(N):\n    t = tgrid.getValue(i)\n    for j in range(i - 1):\n        s = tgrid.getValue(j)\n        estimatedValue = estimatedModel_PS(t, s)\n        modelValue = covmodel(t, s)\n        if j == 0:\n            sampleValueEstimated[i, 0] = estimatedValue[0, 0]\n            sampleValueModel[i, 0] = modelValue[0, 0]\nsampleT = tgrid.getVertices()\ngraph = ot.Graph(\"Covariance estimation\", \"time\", \"Covariance value C(0,t)\", True)\ncurveEstimated = ot.Curve(sampleT, sampleValueEstimated, \"Estimated model\")\ngraph.add(curveEstimated)\ncurveModel = ot.Curve(sampleT, sampleValueModel, \"Exact model\")\ncurveModel.setColor(\"red\")\ngraph.add(curveModel)\ngraph.setLegendPosition(\"upper right\")\nview = viewer.View(graph)\nplt.show()"
      ]
    }
  ],
  "metadata": {
    "kernelspec": {
      "display_name": "Python 3",
      "language": "python",
      "name": "python3"
    },
    "language_info": {
      "codemirror_mode": {
        "name": "ipython",
        "version": 3
      },
      "file_extension": ".py",
      "mimetype": "text/x-python",
      "name": "python",
      "nbconvert_exporter": "python",
      "pygments_lexer": "ipython3",
      "version": "3.13.7"
    }
  },
  "nbformat": 4,
  "nbformat_minor": 0
}