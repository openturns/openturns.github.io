{
  "cells": [
    {
      "cell_type": "markdown",
      "metadata": {},
      "source": [
        "\n# Optimize an LHS design of experiments\n"
      ]
    },
    {
      "cell_type": "markdown",
      "metadata": {},
      "source": [
        "This examples show how to generate optimized LHS experiments according to the different criteria.\n\n"
      ]
    },
    {
      "cell_type": "code",
      "execution_count": null,
      "metadata": {
        "collapsed": false
      },
      "outputs": [],
      "source": [
        "import openturns as ot\nimport openturns.viewer as viewer\nfrom matplotlib import pylab as plt\n\not.Log.Show(ot.Log.NONE)"
      ]
    },
    {
      "cell_type": "markdown",
      "metadata": {},
      "source": [
        "**LHS and space filling**\n\n"
      ]
    },
    {
      "cell_type": "code",
      "execution_count": null,
      "metadata": {
        "collapsed": false
      },
      "outputs": [],
      "source": [
        "N = 100\n# Considering independent Uniform distributions of dimension 3\n# Bounds are (-1,1), (0,2) and (0, 0.5)\ndistribution = ot.JointDistribution(\n    [ot.Uniform(-1.0, 1.0), ot.Uniform(0.0, 2.0), ot.Uniform(0.0, 0.5)]\n)\n# Random LHS\nlhs = ot.LHSExperiment(distribution, N)\nlhs.setAlwaysShuffle(True)  # randomized\ndesign = lhs.generate()\n# C2\nc2 = ot.SpaceFillingC2().evaluate(design)\n# PhiP with default p\nphip = ot.SpaceFillingPhiP().evaluate(design)\n# mindist\nmindist = ot.SpaceFillingMinDist().evaluate(design)\n# For p->infinity\nphip_inf = ot.SpaceFillingPhiP(100).evaluate(design)\nprint(phip, mindist, phip_inf)"
      ]
    },
    {
      "cell_type": "markdown",
      "metadata": {},
      "source": [
        "**Optimized LHS using Monte Carlo**\n\n"
      ]
    },
    {
      "cell_type": "markdown",
      "metadata": {},
      "source": [
        "As with Monte Carlo, user decides of a fixed number of iterations,\nbut this time this number is part of the temperature profile.\n\nTwo profiles are currently provided:\n- Linear profile: $T_i = T_0 (1-\\frac{1}{n_{iter}})$\n- Geometric profile: $T_i = T_O c^i, 0<c<1$\n\nStarting from an LHS design, a new design is built by permuting a random coordinate of two randomly chosen sample points;\nthis new design is also an LHS, but not necessarily a more efficient design.\n\nA comparison of criteria of the two designs is done, and the new LHS is accepted with probability\n\n\\begin{align}min\\left(exp{\\left[-\\frac{\\Phi(LHS_{new}) - \\Phi(LHS)}{T_i}\\right]}, 1\\right)\\end{align}\n\n\n"
      ]
    },
    {
      "cell_type": "markdown",
      "metadata": {},
      "source": [
        "Considering independent Uniform(0,1) distributions of dimension 3\n\n"
      ]
    },
    {
      "cell_type": "code",
      "execution_count": null,
      "metadata": {
        "collapsed": false
      },
      "outputs": [],
      "source": [
        "distribution = ot.JointDistribution([ot.Uniform(0.0, 1.0)] * 3)\n# Random LHS\nlhs = ot.LHSExperiment(distribution, N)\nlhs.setAlwaysShuffle(True)  # randomized\nalgo = ot.SimulatedAnnealingLHS(lhs)\ndesign = algo.generate()"
      ]
    },
    {
      "cell_type": "markdown",
      "metadata": {},
      "source": [
        "One could also fix the criterion, the temperature profile and get more results.\n\n"
      ]
    },
    {
      "cell_type": "code",
      "execution_count": null,
      "metadata": {
        "collapsed": false
      },
      "outputs": [],
      "source": [
        "# Considering independent Uniform distributions of dimension 3\n# Bounds are (-1,1), (0,2) and (0, 0.5)\ndistribution = ot.JointDistribution(\n    [ot.Uniform(-1.0, 1.0), ot.Uniform(0.0, 2.0), ot.Uniform(0.0, 0.5)]\n)\n# Random LHS\nlhs = ot.LHSExperiment(distribution, N)\nlhs.setAlwaysShuffle(True)  # randomized\n# Fixing C2 crit\nspace_filling = ot.SpaceFillingC2()\n# Defining a temperature profile\n# A geometric profile seems accurate with default parameters\n# e.g. T0=10, c=0.95, iMax=2000\ntemperatureProfile = ot.GeometricProfile()\nalgo = ot.SimulatedAnnealingLHS(lhs, space_filling, temperatureProfile)\n# optimal design\ndesign = algo.generate()\nresult = algo.getResult()\n# Criteria for the optimal design\ncrit_c2 = result.getC2()\ncrit_phip = result.getPhiP()\ncrit_mindist = result.getMinDist()\n# History of the criterion used for optimization\nhistory = result.getAlgoHistory()\ncriterion_hist = history[:, 0]\n# Additional results\ntemperature_hist = history[:, 1]\nprobability_hist = history[:, 2]"
      ]
    },
    {
      "cell_type": "markdown",
      "metadata": {},
      "source": [
        "It is also possible to chain several iterations of the whole process with different starting points.\n\n"
      ]
    },
    {
      "cell_type": "code",
      "execution_count": null,
      "metadata": {
        "collapsed": false
      },
      "outputs": [],
      "source": [
        "N = 10\n\n# Considering independent Uniform distributions of dimension 3\n# Bounds are (-1,1), (0,2) and (0, 0.5)\ndistribution = ot.JointDistribution(\n    [ot.Uniform(-1.0, 1.0), ot.Uniform(0.0, 2.0), ot.Uniform(0.0, 0.5)]\n)\n# Random LHS\nlhs = ot.LHSExperiment(distribution, N)\nlhs.setAlwaysShuffle(True)  # randomized\n# Fixing PhiP crit\nspace_filling = ot.SpaceFillingPhiP()\n# Defining a temperature profile\n# T0=10, iMax=3000\ntemperatureProfile = ot.LinearProfile(10.0, 3000)\nalgo = ot.SimulatedAnnealingLHS(lhs, space_filling, temperatureProfile)\nrestart = 50\ndesign = algo.generateWithRestart(restart)\n# Retrieve all optimal designs\nresult = algo.getResult()\ndesigns = [result.getOptimalDesign(i) for i in range(restart)]"
      ]
    },
    {
      "cell_type": "markdown",
      "metadata": {},
      "source": [
        "Finally, we could start the optimization process of LHS using a precomputed LHS design.\n\n"
      ]
    },
    {
      "cell_type": "code",
      "execution_count": null,
      "metadata": {
        "collapsed": false
      },
      "outputs": [],
      "source": [
        "# Considering independent Uniform distributions of dimension 3\n# Bounds are (0,1)^3\ndistribution = ot.JointDistribution([ot.Uniform(0.0, 1.0)] * 3)\n# Random LHS\nlhs = ot.LHSExperiment(distribution, N)\nlhs.setAlwaysShuffle(True)  # randomized\n# Fixing C2 crit for example\nspace_filling = ot.SpaceFillingC2()\n# Defining a temperature profile\n# T0=10, iMax=3000\ntemperatureProfile = ot.LinearProfile(10.0, 3000)\nalgo = ot.SimulatedAnnealingLHS(lhs, space_filling, temperatureProfile)\ndesign = algo.generate()\nresult = algo.getResult()\n# check history ==> draw criterion\ngraph = result.drawHistoryCriterion()\nview = viewer.View(graph)"
      ]
    },
    {
      "cell_type": "markdown",
      "metadata": {},
      "source": [
        "Convergence needs to be performed\nNew algo starting from this design\n\n"
      ]
    },
    {
      "cell_type": "code",
      "execution_count": null,
      "metadata": {
        "collapsed": false
      },
      "outputs": [],
      "source": [
        "algo = ot.SimulatedAnnealingLHS(design, distribution, space_filling, temperatureProfile)\ndesign = algo.generate()\nplt.show()"
      ]
    }
  ],
  "metadata": {
    "kernelspec": {
      "display_name": "Python 3",
      "language": "python",
      "name": "python3"
    },
    "language_info": {
      "codemirror_mode": {
        "name": "ipython",
        "version": 3
      },
      "file_extension": ".py",
      "mimetype": "text/x-python",
      "name": "python",
      "nbconvert_exporter": "python",
      "pygments_lexer": "ipython3",
      "version": "3.11.7"
    }
  },
  "nbformat": 4,
  "nbformat_minor": 0
}