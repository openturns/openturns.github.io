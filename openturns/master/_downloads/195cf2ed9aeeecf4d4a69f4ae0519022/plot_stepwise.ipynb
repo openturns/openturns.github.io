{
  "cells": [
    {
      "cell_type": "markdown",
      "metadata": {},
      "source": [
        "\n# Perform stepwise regression\nIn this example we perform the selection of the most suitable function basis for a linear regression model with the help of the stepwise algorithm.\n\nWe consider te so-called Linthurst data set, which contains measures of aerial biomass (BIO) as well as 5 five physicochemical properties of the soil: salinity (SAL), pH, K, Na, and Zn.\n\nThe data set is taken from the book [rawlings2001]_\nand is provided below:\n"
      ]
    },
    {
      "cell_type": "code",
      "execution_count": null,
      "metadata": {
        "collapsed": false
      },
      "outputs": [],
      "source": [
        "import openturns as ot\nfrom openturns.viewer import View\nimport numpy as np\nimport matplotlib.pyplot as plt\nfrom openturns.usecases import linthurst"
      ]
    },
    {
      "cell_type": "markdown",
      "metadata": {},
      "source": [
        "We define the data.\n\n\n"
      ]
    },
    {
      "cell_type": "code",
      "execution_count": null,
      "metadata": {
        "collapsed": false
      },
      "outputs": [],
      "source": [
        "ds = linthurst.Linthurst()\ndimension = ds.data.getDimension() - 1\n\ninput_sample = ds.data[:, 1: dimension + 1]\nprint(\"Input :\")\nprint(input_sample[:5])\noutput_sample = ds.data[:, 0]\nprint(\"Output :\")\nprint(output_sample[:5])\n\ninput_description = input_sample.getDescription()\noutput_description = output_sample.getDescription()\n\nn = input_sample.getSize()\nprint(\"n = \", n)\ndimension = ds.data.getDimension() - 1\nprint(\"dimension = \", dimension)"
      ]
    },
    {
      "cell_type": "markdown",
      "metadata": {},
      "source": [
        "## Complete linear model\n\nWe consider a linear model with the purpose of predicting the aerial biomass as a function of the soil physicochemical properties,\nand we wish to identify the predictive variables which result in the most simple and precise linear regression model.\n\nWe start by creating a linear model which takes into account all of the physicochemical variables present within the Linthrust data set.\n\nLet us consider the following linear model $\\tilde{Y} = a_0 + \\sum_{i = 1}^{d} a_i X_i + \\epsilon$. If all of the predictive variables\nare considered, the regression can be performed with the help of the :class:`~openturns.LinearModelAlgorithm` class.\n\n"
      ]
    },
    {
      "cell_type": "code",
      "execution_count": null,
      "metadata": {
        "collapsed": false
      },
      "outputs": [],
      "source": [
        "algo_full = ot.LinearModelAlgorithm(input_sample, output_sample)\nalgo_full.run()\nresult_full = ot.LinearModelResult(algo_full.getResult())\nprint(\"R-squared = \", result_full.getRSquared())\nprint(\"Adjusted R-squared = \", result_full.getAdjustedRSquared())"
      ]
    },
    {
      "cell_type": "markdown",
      "metadata": {},
      "source": [
        "## Forward stepwise regression\n\nWe now wish to perform the selection of the most important predictive variables through a stepwise algorithm.\n\nIt is first necessary to define a suitable function basis for the regression. Each variable is associated to a univariate basis\nand an additional basis is used in order to represent the constant term $a_0$.\n\n"
      ]
    },
    {
      "cell_type": "code",
      "execution_count": null,
      "metadata": {
        "collapsed": false
      },
      "outputs": [],
      "source": [
        "functions = []\nfunctions.append(ot.SymbolicFunction(input_description, [\"1.0\"]))\nfor i in range(dimension):\n    functions.append(ot.SymbolicFunction(input_description, [input_description[i]]))\nbasis = ot.Basis(functions)"
      ]
    },
    {
      "cell_type": "markdown",
      "metadata": {},
      "source": [
        "Plese note that this example uses a linear basis with respect to the various predictors for the sake of clarity.\nHowever, this is not a necessity, and more complex and non linear relations between predictors may be considered\n(e.g., polynomial bases).\n\n"
      ]
    },
    {
      "cell_type": "markdown",
      "metadata": {},
      "source": [
        "We now perform a forward stepwise regression. We suppose having no information regarding the given data set, and therefore the set of minimal\nindices only contains the constant term (indexed by 0).\n\nThe first regression is performed by relying on the Akaike Information Criterion (AIC), which translates into a penalty term equal to 2.\nIn practice, the algorithm selects the functional basis subset that minimizes the AIC by iteratively adding the single function which provides\nthe largest improvement until convergence is reached.\n\n"
      ]
    },
    {
      "cell_type": "code",
      "execution_count": null,
      "metadata": {
        "collapsed": false
      },
      "outputs": [],
      "source": [
        "minimalIndices = [0]\ndirection = ot.LinearModelStepwiseAlgorithm.FORWARD\npenalty = 2.0\nalgo_forward = ot.LinearModelStepwiseAlgorithm(\n    input_sample, output_sample, basis, minimalIndices, direction\n)\nalgo_forward.setPenalty(penalty)\nalgo_forward.run()\nresult_forward = algo_forward.getResult()\nprint(\"Selected basis: \", result_forward.getCoefficientsNames())\nprint(\"R-squared = \", result_forward.getRSquared())\nprint(\"Adjusted R-squared = \", result_forward.getAdjustedRSquared())"
      ]
    },
    {
      "cell_type": "markdown",
      "metadata": {},
      "source": [
        "With this first forward stepwise regression, the results show that the selected optimal basis contains a constant term,\nplus two linear terms depending respectively on the pH value (pH) and on the sodium concentration (Na).\n\nAs can be expected, the R-squared value diminishes if compared to the regression on the entire basis, as the stepwise\nregression results in a lower number of predictive variables.  However, it can also be seen that the adjusted R-squared,\nwhich is a metric that also takes into account the ratio  between the amount of training data and the number of explanatory\nvariables, is improved if compared to the complete model.\n\n"
      ]
    },
    {
      "cell_type": "markdown",
      "metadata": {},
      "source": [
        "## Backward stepwise regression\n\nWe now perform a backward stepwise regression, meaning that rather than iteratively adding predictive variables, we will be removing them,\nstarting from the complete model.\nThis regression is performed by relying on the Bayesian Information Criterion (BIC), which translates into a penalty term equal to $log(n)$.\n\n"
      ]
    },
    {
      "cell_type": "code",
      "execution_count": null,
      "metadata": {
        "collapsed": false
      },
      "outputs": [],
      "source": [
        "minimalIndices = [0]\ndirection = ot.LinearModelStepwiseAlgorithm.BACKWARD\npenalty = np.log(n)\nalgo_backward = ot.LinearModelStepwiseAlgorithm(\n    input_sample, output_sample, basis, minimalIndices, direction\n)\nalgo_backward.setPenalty(penalty)\nalgo_backward.run()\nresult_backward = algo_backward.getResult()\nprint(\"Selected basis: \", result_backward.getCoefficientsNames())\nprint(\"R-squared = \", result_backward.getRSquared())\nprint(\"Adjusted R-squared = \", result_backward.getAdjustedRSquared())"
      ]
    },
    {
      "cell_type": "markdown",
      "metadata": {},
      "source": [
        "It is interesting to point out that although both approaches converge towards a model characterized by 2 predictive variables,\nthe selected variables do not coincide.\n\n"
      ]
    },
    {
      "cell_type": "markdown",
      "metadata": {},
      "source": [
        "## Both directions stepwise regression\n\nA third available option consists in performing a stepwise regression in both directions, meaning that at each iteration the predictive variables\ncan be either added or removed. In this case, a set of starting indices must be provided to the algorithm.\n\n"
      ]
    },
    {
      "cell_type": "code",
      "execution_count": null,
      "metadata": {
        "collapsed": false
      },
      "outputs": [],
      "source": [
        "minimalIndices = [0]\nstartIndices = [0, 2, 3]\npenalty = np.log(n)\ndirection = ot.LinearModelStepwiseAlgorithm.BOTH\nalgo_both = ot.LinearModelStepwiseAlgorithm(\n    input_sample, output_sample, basis, minimalIndices, direction, startIndices\n)\nalgo_both.setPenalty(penalty)\nalgo_both.run()\nresult_both = algo_both.getResult()\nprint(\"Selected basis: \", result_both.getCoefficientsNames())\nprint(\"R-squared = \", result_both.getRSquared())\nprint(\"Adjusted R-squared = \", result_both.getAdjustedRSquared())"
      ]
    },
    {
      "cell_type": "markdown",
      "metadata": {},
      "source": [
        "It is interesting to note that the basis varies depending on the selected set of starting indices, as is shown below.\nAn informed initialization might therefore improve the model selection and the resulting regression\n\n"
      ]
    },
    {
      "cell_type": "code",
      "execution_count": null,
      "metadata": {
        "collapsed": false
      },
      "outputs": [],
      "source": [
        "minimalIndices = [0]\nstartIndices = [0, 1]\npenalty = np.log(n)\ndirection = ot.LinearModelStepwiseAlgorithm.BOTH\nalgo_both = ot.LinearModelStepwiseAlgorithm(\n    input_sample, output_sample, basis, minimalIndices, direction, startIndices\n)\nalgo_both.setPenalty(penalty)\nalgo_both.run()\nresult_both = algo_both.getResult()\nprint(\"Selected basis: \", result_both.getCoefficientsNames())\nprint(\"R-squared = \", result_both.getRSquared())\nprint(\"Adjusted R-squared = \", result_both.getAdjustedRSquared())"
      ]
    },
    {
      "cell_type": "markdown",
      "metadata": {},
      "source": [
        "## Graphical analyses\n\nFinally, we can rely on the LinearModelAnalysis class in order to analyse\nthe predictive differences between the obtained models.\n\n"
      ]
    },
    {
      "cell_type": "code",
      "execution_count": null,
      "metadata": {
        "collapsed": false
      },
      "outputs": [],
      "source": [
        "analysis_full = ot.LinearModelAnalysis(result_full)\nanalysis_full.setName(\"Full model\")\nanalysis_forward = ot.LinearModelAnalysis(result_forward)\nanalysis_forward.setName(\"Forward selection\")\nanalysis_backward = ot.LinearModelAnalysis(result_backward)\nanalysis_backward.setName(\"Backward selection\")\nfig = plt.figure(figsize=(12, 8))\nfor k, analysis in enumerate([analysis_full, analysis_forward, analysis_backward]):\n    graph = analysis.drawModelVsFitted()\n    ax = fig.add_subplot(3, 1, k + 1)\n    ax.set_title(analysis.getName(), fontdict={\"fontsize\": 16})\n    graph.setXTitle(\"Exact values\")\n    ax.xaxis.label.set_size(12)\n    ax.yaxis.label.set_size(14)\n    graph.setTitle(\"\")\n    v = View(graph, figure=fig, axes=[ax])\nplt.tight_layout()"
      ]
    },
    {
      "cell_type": "markdown",
      "metadata": {},
      "source": [
        "For illustrative purposes, we show the Bayesian Information Criterion (BIC) and Akaike Information Criterion (AIC) values\nwhich are computed during the iterations of the forward step-wise regression. Please note that in order to do\nso, we set the penalty parameter to a negligible value (meaning that the basis selection only takes into account the model likelihood,\nand not the number of parameters characterizing the linear model).\n\n"
      ]
    },
    {
      "cell_type": "code",
      "execution_count": null,
      "metadata": {
        "collapsed": false
      },
      "outputs": [],
      "source": [
        "minimalIndices = [0]\npenalty = 1e-10\ndirection = ot.LinearModelStepwiseAlgorithm.FORWARD\n\nBIC = []\nAIC = []\nfor iterations in range(1, 6):\n    algo_forward = ot.LinearModelStepwiseAlgorithm(\n        input_sample, output_sample, basis, minimalIndices, direction\n    )\n    algo_forward.setPenalty(penalty)\n    algo_forward.setMaximumIterationNumber(iterations)\n    algo_forward.run()\n    result_forward = algo_forward.getResult()\n\n    RSS = np.sum(\n        np.array(result_forward.getSampleResiduals()) ** 2\n    )  # Residual sum of squares\n    LL = n * np.log(RSS / n)  # Log-likelihood\n    BIC.append(LL + iterations * np.log(n))  # Bayesian Information Criterion\n    AIC.append(LL + iterations * 2)  # Akaike Information Criterion\n    print(\"Selected basis: \", result_forward.getCoefficientsNames())\n\n\nplt.figure()\nplt.plot(np.arange(1, 6), BIC, label=\"BIC\")\nplt.plot(np.arange(1, 6), AIC, label=\"AIC\")\nplt.xticks(np.arange(1, 6))\nplt.xlabel(\"Basis size\", fontsize=14)\nplt.ylabel(\"Information criterion\", fontsize=14)\nplt.legend(fontsize=14)\nplt.tight_layout()"
      ]
    },
    {
      "cell_type": "markdown",
      "metadata": {},
      "source": [
        "The graphic above shows that the optimal linear model in terms of compromise between prediction likelihood and model complexity\nshould take into account the influence of 2 regession variables as well as the constant term. This is coherent with the results previously\nobtained\n\n"
      ]
    }
  ],
  "metadata": {
    "kernelspec": {
      "display_name": "Python 3",
      "language": "python",
      "name": "python3"
    },
    "language_info": {
      "codemirror_mode": {
        "name": "ipython",
        "version": 3
      },
      "file_extension": ".py",
      "mimetype": "text/x-python",
      "name": "python",
      "nbconvert_exporter": "python",
      "pygments_lexer": "ipython3",
      "version": "3.11.7"
    }
  },
  "nbformat": 4,
  "nbformat_minor": 0
}