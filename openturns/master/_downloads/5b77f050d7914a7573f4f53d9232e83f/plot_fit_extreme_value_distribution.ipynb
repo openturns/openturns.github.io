{
  "cells": [
    {
      "cell_type": "markdown",
      "metadata": {},
      "source": [
        "\n# Fit an extreme value distribution\n"
      ]
    },
    {
      "cell_type": "code",
      "execution_count": null,
      "metadata": {
        "collapsed": false
      },
      "outputs": [],
      "source": [
        "import openturns as ot\nimport openturns.viewer as viewer\nfrom matplotlib import pylab as plt\n\not.Log.Show(ot.Log.NONE)"
      ]
    },
    {
      "cell_type": "markdown",
      "metadata": {},
      "source": [
        "Set the random generator seed\n\n"
      ]
    },
    {
      "cell_type": "code",
      "execution_count": null,
      "metadata": {
        "collapsed": false
      },
      "outputs": [],
      "source": [
        "ot.RandomGenerator.SetSeed(0)"
      ]
    },
    {
      "cell_type": "markdown",
      "metadata": {},
      "source": [
        "## The generalized extreme value distribution (GEV)\n\n"
      ]
    },
    {
      "cell_type": "markdown",
      "metadata": {},
      "source": [
        "The :class:`~openturns.GeneralizedExtremeValue` distribution is a family of continuous probability distributions\nthat combine the :class:`~openturns.Gumbel`, :class:`~openturns.Frechet` and :class:`~openturns.WeibullMax` distributions, all extreme value distributions.\n\nIn this example we use the associated :class:`~openturns.GeneralizedExtremeValueFactory` to fit sample with extreme values.\nThis factory returns the best model among the Frechet, Gumbel and Weibull estimates according to the BIC criterion.\n\n\n"
      ]
    },
    {
      "cell_type": "markdown",
      "metadata": {},
      "source": [
        "We draw a sample from a Gumbel of parameters $\\beta = 1.0$ and $\\gamma = 3.0$\nand another one from a Frechet with parameters $\\beta=1.0$, $\\alpha = 1.0$ and $\\gamma = 0.0$.\nWe consider both samples as a single sample from an unknown extreme distribution to be fitted.\n\n\n"
      ]
    },
    {
      "cell_type": "markdown",
      "metadata": {},
      "source": [
        "The distributions used:\n\n"
      ]
    },
    {
      "cell_type": "code",
      "execution_count": null,
      "metadata": {
        "collapsed": false
      },
      "outputs": [],
      "source": [
        "myGumbel = ot.Gumbel(1.0, 3.0)\nmyFrechet = ot.Frechet(1.0, 1.0, 0.0)"
      ]
    },
    {
      "cell_type": "markdown",
      "metadata": {},
      "source": [
        "We build our experiment sample of size 2000.\n\n"
      ]
    },
    {
      "cell_type": "code",
      "execution_count": null,
      "metadata": {
        "collapsed": false
      },
      "outputs": [],
      "source": [
        "sample = ot.Sample()\nsampleFrechet = myFrechet.getSample(1000)\nsampleGumbel = myGumbel.getSample(1000)\nsample.add(sampleFrechet)\nsample.add(sampleGumbel)"
      ]
    },
    {
      "cell_type": "markdown",
      "metadata": {},
      "source": [
        "We fit the sample thanks to the :class:`~openturns.GeneralizedExtremeValueFactory`:\n\n"
      ]
    },
    {
      "cell_type": "code",
      "execution_count": null,
      "metadata": {
        "collapsed": false
      },
      "outputs": [],
      "source": [
        "myDistribution = ot.GeneralizedExtremeValueFactory().buildAsGeneralizedExtremeValue(\n    sample\n)"
      ]
    },
    {
      "cell_type": "markdown",
      "metadata": {},
      "source": [
        "We can display the parameters of the fitted distribution `myDistribution`:\n\n"
      ]
    },
    {
      "cell_type": "code",
      "execution_count": null,
      "metadata": {
        "collapsed": false
      },
      "outputs": [],
      "source": [
        "print(myDistribution)"
      ]
    },
    {
      "cell_type": "markdown",
      "metadata": {},
      "source": [
        "We can also get the actual distribution (Weibull, Frechet or Gumbel) with the `getActualDistribution` method:\n\n"
      ]
    },
    {
      "cell_type": "code",
      "execution_count": null,
      "metadata": {
        "collapsed": false
      },
      "outputs": [],
      "source": [
        "print(myDistribution.getActualDistribution())"
      ]
    },
    {
      "cell_type": "markdown",
      "metadata": {},
      "source": [
        "The given sample is then best described by a Frechet distribution.\n\n"
      ]
    },
    {
      "cell_type": "markdown",
      "metadata": {},
      "source": [
        "We draw the fitted distribution and a histogram of the data.\n\n"
      ]
    },
    {
      "cell_type": "code",
      "execution_count": null,
      "metadata": {
        "collapsed": false
      },
      "outputs": [],
      "source": [
        "graph = myDistribution.drawPDF()\ngraph.add(ot.HistogramFactory().build(sample).drawPDF())\ngraph.setColors([\"black\", \"red\"])\ngraph.setLegends([\"GEV fitting\", \"histogram\"])\ngraph.setLegendPosition(\"upper right\")\n\nview = viewer.View(graph)\naxes = view.getAxes()\n_ = axes[0].set_xlim(-20.0, 20.0)"
      ]
    },
    {
      "cell_type": "markdown",
      "metadata": {},
      "source": [
        "We compare different fitting strategies for this sample:\n\n- use the histogram from the data (red)\n- the GEV fitted distribution (black)\n- the pure Frechet fitted distribution (green)\n- the pure Gumbel fitted distribution (blue)\n- the pure WeibullMax fitted distribution (dashed orange)\n\n\n"
      ]
    },
    {
      "cell_type": "code",
      "execution_count": null,
      "metadata": {
        "collapsed": false
      },
      "outputs": [],
      "source": [
        "graph = myDistribution.drawPDF()\ngraph.add(ot.HistogramFactory().build(sample).drawPDF())\n\ndistFrechet = ot.FrechetFactory().buildAsFrechet(sample)\ngraph.add(distFrechet.drawPDF())\n\ndistGumbel = ot.GumbelFactory().buildAsGumbel(sample)\ngraph.add(distGumbel.drawPDF())\n\n# We change the line style of the WeibullMax.\ndistWeibullMax = ot.WeibullMaxFactory().buildAsWeibullMax(sample)\ncurveWeibullMax = distWeibullMax.drawPDF().getDrawable(0)\ncurveWeibullMax.setLineStyle(\"dashed\")\ngraph.add(curveWeibullMax)\n\ngraph.setColors([\"black\", \"red\", \"green\", \"blue\", \"orange\"])\ngraph.setLegends(\n    [\n        \"GEV fitting\",\n        \"histogram\",\n        \"Frechet fitting\",\n        \"Gumbel fitting\",\n        \"WeibullMax fitting\",\n    ]\n)\ngraph.setLegendPosition(\"upper right\")\nview = viewer.View(graph)\naxes = view.getAxes()  # axes is a matplotlib object\n_ = axes[0].set_xlim(-20.0, 20.0)"
      ]
    },
    {
      "cell_type": "markdown",
      "metadata": {},
      "source": [
        "As returned by the `getActualDistribution` method the GEV distribution is a Frechet.\nThe :class:`~openturns.GeneralizedExtremeValueFactory` class is a convenient class to fit extreme valued samples\nwithout an a priori knowledge of the underlying (at least the closest) extreme distribution.\n\n"
      ]
    },
    {
      "cell_type": "markdown",
      "metadata": {},
      "source": [
        "## The Generalized Pareto Distribution (GPD)\n\nIn this paragraph we fit a :class:`~openturns.GeneralizedPareto` distribution.\nVarious estimators are provided by the GPD factory. Please refer to the :class:`~openturns.GeneralizedParetoFactory` class documentation for more information.\nThe selection is based on the sample size and compared to the `GeneralizedParetoFactory-SmallSize` key of the :class:`~openturns.ResourceMap`:\n\n\n"
      ]
    },
    {
      "cell_type": "code",
      "execution_count": null,
      "metadata": {
        "collapsed": false
      },
      "outputs": [],
      "source": [
        "print(ot.ResourceMap.GetAsUnsignedInteger(\"GeneralizedParetoFactory-SmallSize\"))"
      ]
    },
    {
      "cell_type": "markdown",
      "metadata": {},
      "source": [
        "### The small sample case\n\nIn this case the default estimator is based on a probability weighted method of moments, with a fallback on the exponential regression method.\n\n"
      ]
    },
    {
      "cell_type": "code",
      "execution_count": null,
      "metadata": {
        "collapsed": false
      },
      "outputs": [],
      "source": [
        "myDist = ot.GeneralizedPareto(1.0, 0.0, 0.0)\nN = 17\nsample = myDist.getSample(N)"
      ]
    },
    {
      "cell_type": "markdown",
      "metadata": {},
      "source": [
        "We build our experiment sample of size `N`.\n\n"
      ]
    },
    {
      "cell_type": "code",
      "execution_count": null,
      "metadata": {
        "collapsed": false
      },
      "outputs": [],
      "source": [
        "myFittedDist = ot.GeneralizedParetoFactory().buildAsGeneralizedPareto(sample)\nprint(myFittedDist)"
      ]
    },
    {
      "cell_type": "markdown",
      "metadata": {},
      "source": [
        "We draw the fitted distribution as well as an histogram to visualize the fit:\n\n"
      ]
    },
    {
      "cell_type": "code",
      "execution_count": null,
      "metadata": {
        "collapsed": false
      },
      "outputs": [],
      "source": [
        "graph = myFittedDist.drawPDF()\ngraph.add(ot.HistogramFactory().build(sample).drawPDF())\ngraph.setTitle(\"Generalized Pareto distribution fitting on a sample\")\ngraph.setColors([\"black\", \"red\"])\ngraph.setLegends([\"GPD fitting\", \"histogram\"])\ngraph.setLegendPosition(\"upper right\")\n\nview = viewer.View(graph)\naxes = view.getAxes()\n_ = axes[0].set_xlim(-1.0, 10.0)"
      ]
    },
    {
      "cell_type": "markdown",
      "metadata": {},
      "source": [
        "### Large sample\n\nFor a larger sample the estimator is based on an exponential regression method\nwith a fallback on the probability weighted moments estimator.\n\n"
      ]
    },
    {
      "cell_type": "code",
      "execution_count": null,
      "metadata": {
        "collapsed": false
      },
      "outputs": [],
      "source": [
        "N = 1000\nsample = myDist.getSample(N)"
      ]
    },
    {
      "cell_type": "markdown",
      "metadata": {},
      "source": [
        "We build our experiment sample of size `N`.\n\n"
      ]
    },
    {
      "cell_type": "code",
      "execution_count": null,
      "metadata": {
        "collapsed": false
      },
      "outputs": [],
      "source": [
        "myFittedDist = ot.GeneralizedParetoFactory().buildAsGeneralizedPareto(sample)\nprint(myFittedDist)"
      ]
    },
    {
      "cell_type": "markdown",
      "metadata": {},
      "source": [
        "We draw the fitted distribution as well as a histogram to visualize the fit:\n\n"
      ]
    },
    {
      "cell_type": "code",
      "execution_count": null,
      "metadata": {
        "collapsed": false
      },
      "outputs": [],
      "source": [
        "graph = myFittedDist.drawPDF()\ngraph.add(ot.HistogramFactory().build(sample).drawPDF())\ngraph.setTitle(\"Generalized Pareto distribution fitting on a sample\")\ngraph.setColors([\"black\", \"red\"])\ngraph.setLegends([\"GPD fitting\", \"histogram\"])\ngraph.setLegendPosition(\"upper right\")\n\nview = viewer.View(graph)\naxes = view.getAxes()\n_ = axes[0].set_xlim(-1.0, 10.0)\n\n\nplt.show()"
      ]
    }
  ],
  "metadata": {
    "kernelspec": {
      "display_name": "Python 3",
      "language": "python",
      "name": "python3"
    },
    "language_info": {
      "codemirror_mode": {
        "name": "ipython",
        "version": 3
      },
      "file_extension": ".py",
      "mimetype": "text/x-python",
      "name": "python",
      "nbconvert_exporter": "python",
      "pygments_lexer": "ipython3",
      "version": "3.12.6"
    }
  },
  "nbformat": 4,
  "nbformat_minor": 0
}