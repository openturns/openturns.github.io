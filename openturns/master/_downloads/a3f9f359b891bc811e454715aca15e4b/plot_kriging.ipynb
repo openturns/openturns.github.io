{
  "cells": [
    {
      "cell_type": "code",
      "execution_count": null,
      "metadata": {
        "collapsed": false
      },
      "outputs": [],
      "source": [
        "%matplotlib inline"
      ]
    },
    {
      "cell_type": "markdown",
      "metadata": {},
      "source": [
        "\n# Create a metamodel using Kriging\n"
      ]
    },
    {
      "cell_type": "markdown",
      "metadata": {},
      "source": [
        "In this example we are going to create an approximation of a model response using a kriging model. We consider a bidimensional function with gaussian inputs. Then we create a kriging metamodel with a constant basis and a `SquaredExponential` covariance. \n\nWe consider the function \n\n\\begin{align}g(X) = \\cos(X_1 + X_2)\\end{align}\n\n\nfor any $\\mathbf{X}\\in\\mathbb{R}^2$. \nWe assume that $X_1$ and $X_2$ have a gaussian distribution :\n\n\\begin{align}X_1 \\sim \\mathcal{N}(0,1) \\textrm{ and } X_2 \\sim \\mathcal{N}(0,1).\\end{align}\n\n\n"
      ]
    },
    {
      "cell_type": "code",
      "execution_count": null,
      "metadata": {
        "collapsed": false
      },
      "outputs": [],
      "source": [
        "from __future__ import print_function\nimport openturns as ot\nimport openturns.viewer as viewer\nfrom matplotlib import pylab as plt\not.Log.Show(ot.Log.NONE)"
      ]
    },
    {
      "cell_type": "markdown",
      "metadata": {},
      "source": [
        "We define the model. \n\n"
      ]
    },
    {
      "cell_type": "code",
      "execution_count": null,
      "metadata": {
        "collapsed": false
      },
      "outputs": [],
      "source": [
        "dimension = 2\ninput_names = ['x1', 'x2']\nformulas = ['cos(x1 + x2)']\nmodel = ot.SymbolicFunction(input_names, formulas)"
      ]
    },
    {
      "cell_type": "markdown",
      "metadata": {},
      "source": [
        "We generate a simple Monte-Carlo input sample and evaluate the corresponding output sample.\n\n"
      ]
    },
    {
      "cell_type": "code",
      "execution_count": null,
      "metadata": {
        "collapsed": false
      },
      "outputs": [],
      "source": [
        "distribution = ot.Normal(dimension)\nsamplesize = 15\nx  = distribution.getSample(samplesize)\ny = model(x)"
      ]
    },
    {
      "cell_type": "markdown",
      "metadata": {},
      "source": [
        "Then we create a kriging metamodel, using a constant trend and a squared exponential covariance model. \n\n"
      ]
    },
    {
      "cell_type": "code",
      "execution_count": null,
      "metadata": {
        "collapsed": false
      },
      "outputs": [],
      "source": [
        "basis = ot.ConstantBasisFactory(dimension).build()\ncovarianceModel = ot.SquaredExponential([0.1]*dimension, [1.0])\nalgo = ot.KrigingAlgorithm(x, y, covarianceModel, basis)\nalgo.run()\nresult = algo.getResult()\nmetamodel = result.getMetaModel()"
      ]
    },
    {
      "cell_type": "markdown",
      "metadata": {},
      "source": [
        "It is not so easy to visualize a bidimensional function. In order to simplify the graphics, we consider the value of the function at the input $x_{1,ref}=0.5$. This amounts to create a `ParametricFunction` where the first variable $x_1$ (at input index 0) is set to $0.5$.\n\n"
      ]
    },
    {
      "cell_type": "code",
      "execution_count": null,
      "metadata": {
        "collapsed": false
      },
      "outputs": [],
      "source": [
        "x1ref = 0.5\nmetamodelAtXref = ot.ParametricFunction(metamodel, [0], [x1ref])\nmodelAtXref = ot.ParametricFunction(model, [0], [x1ref])"
      ]
    },
    {
      "cell_type": "markdown",
      "metadata": {},
      "source": [
        "For this given value of $x_1$, we plot the model and the metamodel with $x_2$ from its 1% up to its 99% quantile. We configure the X title to \"X2\" because the default setting would state that this axis is the first value of the parametric function, which default name is \"X0\".\n\n"
      ]
    },
    {
      "cell_type": "code",
      "execution_count": null,
      "metadata": {
        "collapsed": false
      },
      "outputs": [],
      "source": [
        "x2min = ot.Normal().computeQuantile(0.01)[0]\nx2max = ot.Normal().computeQuantile(0.99)[0]\ngraph = metamodelAtXref.draw(x2min, x2max)\ngraph.setLegends([\"Kriging\"])\ncurve = modelAtXref.draw(x2min, x2max)\ncurve.setLegends([\"Model\"])\ncurve.setColors(['red'])\ngraph.add(curve)\ngraph.setLegendPosition(\"topright\")\ngraph.setTitle(\"Sample size = %d\" % (samplesize))\ngraph.setXTitle(\"X2\")\nview = viewer.View(graph)\nplt.show()"
      ]
    },
    {
      "cell_type": "markdown",
      "metadata": {},
      "source": [
        "As we can see, the metamodel is quite accurate in this case. The metamodel is very close to the model in the center of the domain, where the density of the input distribution is highest.\n\n"
      ]
    }
  ],
  "metadata": {
    "kernelspec": {
      "display_name": "Python 3",
      "language": "python",
      "name": "python3"
    },
    "language_info": {
      "codemirror_mode": {
        "name": "ipython",
        "version": 3
      },
      "file_extension": ".py",
      "mimetype": "text/x-python",
      "name": "python",
      "nbconvert_exporter": "python",
      "pygments_lexer": "ipython3",
      "version": "3.9.0"
    }
  },
  "nbformat": 4,
  "nbformat_minor": 0
}