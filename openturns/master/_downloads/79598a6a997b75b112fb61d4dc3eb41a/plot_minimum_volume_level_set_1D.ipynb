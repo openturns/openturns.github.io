{
  "cells": [
    {
      "cell_type": "code",
      "execution_count": null,
      "metadata": {
        "collapsed": false
      },
      "outputs": [],
      "source": [
        "%matplotlib inline"
      ]
    },
    {
      "cell_type": "markdown",
      "metadata": {},
      "source": [
        "\n# Draw minimum volume level set in 1D\n"
      ]
    },
    {
      "cell_type": "markdown",
      "metadata": {},
      "source": [
        "In this example, we compute the minimum volume level set of a univariate distribution.\n\n"
      ]
    },
    {
      "cell_type": "code",
      "execution_count": null,
      "metadata": {
        "collapsed": false
      },
      "outputs": [],
      "source": [
        "import openturns as ot\nimport openturns.viewer as viewer\nfrom matplotlib import pylab as plt\not.Log.Show(ot.Log.NONE)"
      ]
    },
    {
      "cell_type": "markdown",
      "metadata": {},
      "source": [
        "## With a Normal, minimum volume LevelSet\n\n"
      ]
    },
    {
      "cell_type": "code",
      "execution_count": null,
      "metadata": {
        "collapsed": false
      },
      "outputs": [],
      "source": [
        "n = ot.Normal()"
      ]
    },
    {
      "cell_type": "code",
      "execution_count": null,
      "metadata": {
        "collapsed": false
      },
      "outputs": [],
      "source": [
        "graph = n.drawPDF()\nview = viewer.View(graph)"
      ]
    },
    {
      "cell_type": "markdown",
      "metadata": {},
      "source": [
        "We want to compute the minimum volume LevelSet which contains `alpha`=90% of the distribution. The `threshold` is the value of the PDF corresponding the `alpha`-probability: the points contained in the LevelSet have a PDF value lower or equal to this threshold.\n\n"
      ]
    },
    {
      "cell_type": "code",
      "execution_count": null,
      "metadata": {
        "collapsed": false
      },
      "outputs": [],
      "source": [
        "alpha = 0.9\nlevelSet, threshold = n.computeMinimumVolumeLevelSetWithThreshold(alpha)\nthreshold"
      ]
    },
    {
      "cell_type": "markdown",
      "metadata": {},
      "source": [
        "The `LevelSet` has a `contains` method. Obviously, the point 0 is in the LevelSet.\n\n"
      ]
    },
    {
      "cell_type": "code",
      "execution_count": null,
      "metadata": {
        "collapsed": false
      },
      "outputs": [],
      "source": [
        "levelSet.contains([0.])"
      ]
    },
    {
      "cell_type": "code",
      "execution_count": null,
      "metadata": {
        "collapsed": false
      },
      "outputs": [],
      "source": [
        "def computeSampleInLevelSet(distribution, levelSet, sampleSize = 1000):\n    '''\n    Generate a sample from given distribution. \n    Extract the sub-sample which is contained in the levelSet.\n    '''\n    sample = distribution.getSample(sampleSize)\n    dim = distribution.getDimension()\n    # Get the list of points in the LevelSet.\n    inLevelSet = []\n    for x in sample:\n        if levelSet.contains(x):\n            inLevelSet.append(x)\n    # Extract the sub-sample of the points in the LevelSet\n    numberOfPointsInLevelSet = len(inLevelSet)\n    inLevelSetSample = ot.Sample(numberOfPointsInLevelSet,dim)\n    for i in range(numberOfPointsInLevelSet):\n        inLevelSetSample[i] = inLevelSet[i]\n    return inLevelSetSample"
      ]
    },
    {
      "cell_type": "code",
      "execution_count": null,
      "metadata": {
        "collapsed": false
      },
      "outputs": [],
      "source": [
        "def from1Dto2Dsample(oldSample):\n    '''\n    Create a 2D sample from a 1D sample with zero ordinate (for the graph).\n    '''\n    size = oldSample.getSize()\n    newSample = ot.Sample(size,2)\n    for i in range(size):\n        newSample[i,0] = oldSample[i,0]\n    return newSample"
      ]
    },
    {
      "cell_type": "code",
      "execution_count": null,
      "metadata": {
        "collapsed": false
      },
      "outputs": [],
      "source": [
        "def drawLevelSet1D(distribution, levelSet, alpha, threshold, sampleSize = 100):\n    '''\n    Draw a 1D sample included in a given levelSet.\n    The sample is generated from the distribution.\n    '''\n    inLevelSample = computeSampleInLevelSet(distribution,levelSet,sampleSize)\n    cloudSample = from1Dto2Dsample(inLevelSample)\n    graph = distribution.drawPDF()\n    mycloud = ot.Cloud(cloudSample)\n    graph.add(mycloud)\n    graph.setTitle(\"%.2f%% of the distribution, sample size = %d, \" % (100*alpha, sampleSize))\n    return graph"
      ]
    },
    {
      "cell_type": "code",
      "execution_count": null,
      "metadata": {
        "collapsed": false
      },
      "outputs": [],
      "source": [
        "graph = drawLevelSet1D(n, levelSet, alpha, threshold)\nview = viewer.View(graph)"
      ]
    },
    {
      "cell_type": "markdown",
      "metadata": {},
      "source": [
        "## With a Normal, minimum volume Interval\n\n"
      ]
    },
    {
      "cell_type": "code",
      "execution_count": null,
      "metadata": {
        "collapsed": false
      },
      "outputs": [],
      "source": [
        "interval = n.computeMinimumVolumeInterval(alpha)\ninterval"
      ]
    },
    {
      "cell_type": "code",
      "execution_count": null,
      "metadata": {
        "collapsed": false
      },
      "outputs": [],
      "source": [
        "def drawPDFAndInterval1D(distribution, interval, alpha):\n    '''\n    Draw the PDF of the distribution and the lower and upper bounds of an interval.\n    '''\n    xmin = interval.getLowerBound()[0]\n    xmax = interval.getUpperBound()[0]\n    graph = distribution.drawPDF()\n    yvalue = distribution.computePDF(xmin)\n    curve = ot.Curve([[xmin,0.],[xmin,yvalue],[xmax,yvalue],[xmax,0.]])\n    curve.setColor(\"black\")\n    graph.add(curve)\n    graph.setTitle(\"%.2f%% of the distribution, lower bound = %.3f, upper bound = %.3f\" % (100*alpha, xmin,xmax))\n    return graph"
      ]
    },
    {
      "cell_type": "markdown",
      "metadata": {},
      "source": [
        "The `computeMinimumVolumeInterval` returns an `Interval`.\n\n"
      ]
    },
    {
      "cell_type": "code",
      "execution_count": null,
      "metadata": {
        "collapsed": false
      },
      "outputs": [],
      "source": [
        "graph = drawPDFAndInterval1D(n, interval, alpha)\nview = viewer.View(graph)"
      ]
    },
    {
      "cell_type": "markdown",
      "metadata": {},
      "source": [
        "## With a Mixture, minimum volume LevelSet\n\n"
      ]
    },
    {
      "cell_type": "code",
      "execution_count": null,
      "metadata": {
        "collapsed": false
      },
      "outputs": [],
      "source": [
        "m = ot.Mixture([ot.Normal(-5.,1.),ot.Normal(5.,1.)],[0.2,0.8])"
      ]
    },
    {
      "cell_type": "code",
      "execution_count": null,
      "metadata": {
        "collapsed": false
      },
      "outputs": [],
      "source": [
        "graph = m.drawPDF()\nview = viewer.View(graph)"
      ]
    },
    {
      "cell_type": "code",
      "execution_count": null,
      "metadata": {
        "collapsed": false
      },
      "outputs": [],
      "source": [
        "alpha = 0.9\nlevelSet, threshold = m.computeMinimumVolumeLevelSetWithThreshold(alpha)\nthreshold"
      ]
    },
    {
      "cell_type": "markdown",
      "metadata": {},
      "source": [
        "The interesting point is that a `LevelSet` may be non-contiguous. In the current mixture example, this is not an interval.\n\n"
      ]
    },
    {
      "cell_type": "code",
      "execution_count": null,
      "metadata": {
        "collapsed": false
      },
      "outputs": [],
      "source": [
        "graph = drawLevelSet1D(m, levelSet, alpha, threshold, 1000)\nview = viewer.View(graph)"
      ]
    },
    {
      "cell_type": "markdown",
      "metadata": {},
      "source": [
        "## With a Mixture, minimum volume Interval\n\n"
      ]
    },
    {
      "cell_type": "code",
      "execution_count": null,
      "metadata": {
        "collapsed": false
      },
      "outputs": [],
      "source": [
        "interval = m.computeMinimumVolumeInterval(alpha)\ninterval"
      ]
    },
    {
      "cell_type": "markdown",
      "metadata": {},
      "source": [
        "The `computeMinimumVolumeInterval` returns an `Interval`. The bounds of this interval are different from the previous `LevelSet`.\n\n"
      ]
    },
    {
      "cell_type": "code",
      "execution_count": null,
      "metadata": {
        "collapsed": false
      },
      "outputs": [],
      "source": [
        "graph = drawPDFAndInterval1D(m, interval, alpha)\nview = viewer.View(graph)\nplt.show()"
      ]
    }
  ],
  "metadata": {
    "kernelspec": {
      "display_name": "Python 3",
      "language": "python",
      "name": "python3"
    },
    "language_info": {
      "codemirror_mode": {
        "name": "ipython",
        "version": 3
      },
      "file_extension": ".py",
      "mimetype": "text/x-python",
      "name": "python",
      "nbconvert_exporter": "python",
      "pygments_lexer": "ipython3",
      "version": "3.9.0"
    }
  },
  "nbformat": 4,
  "nbformat_minor": 0
}