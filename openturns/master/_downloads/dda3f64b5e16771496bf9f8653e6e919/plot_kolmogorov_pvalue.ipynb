{
  "cells": [
    {
      "cell_type": "markdown",
      "metadata": {},
      "source": [
        "\n# Kolmogorov-Smirnov : understand the p-value\n"
      ]
    },
    {
      "cell_type": "markdown",
      "metadata": {},
      "source": [
        "In this example, we illustrate the calculation of the Kolmogorov-Smirnov (KS) p-value.\n\n* We generate a sample from a Gaussian distribution.\n* We create a uniform distribution with known parameters.\n* The Kolmogorov-Smirnov statistics is computed and plot on the empirical cumulated distribution function.\n* We plot the p-value as the area under the part of the curve exceeding the observed statistics.\n\n"
      ]
    },
    {
      "cell_type": "code",
      "execution_count": null,
      "metadata": {
        "collapsed": false
      },
      "outputs": [],
      "source": [
        "import openturns as ot\nimport openturns.viewer as viewer\nfrom matplotlib import pylab as plt\n\not.Log.Show(ot.Log.NONE)"
      ]
    },
    {
      "cell_type": "markdown",
      "metadata": {},
      "source": [
        "We generate a sample from a standard Gaussian distribution.\n\n"
      ]
    },
    {
      "cell_type": "code",
      "execution_count": null,
      "metadata": {
        "collapsed": false
      },
      "outputs": [],
      "source": [
        "dist = ot.Normal()\nsamplesize = 10\nsample = dist.getSample(samplesize)"
      ]
    },
    {
      "cell_type": "code",
      "execution_count": null,
      "metadata": {
        "collapsed": false
      },
      "outputs": [],
      "source": [
        "testdistribution = ot.Normal()\nresult = ot.FittingTest.Kolmogorov(sample, testdistribution, 0.01)"
      ]
    },
    {
      "cell_type": "code",
      "execution_count": null,
      "metadata": {
        "collapsed": false
      },
      "outputs": [],
      "source": [
        "pvalue = result.getPValue()\npvalue"
      ]
    },
    {
      "cell_type": "code",
      "execution_count": null,
      "metadata": {
        "collapsed": false
      },
      "outputs": [],
      "source": [
        "KSstat = result.getStatistic()\nKSstat"
      ]
    },
    {
      "cell_type": "markdown",
      "metadata": {},
      "source": [
        "Compute exact Kolmogorov PDF.\n\n"
      ]
    },
    {
      "cell_type": "markdown",
      "metadata": {},
      "source": [
        "Create a function which returns the CDF given the KS distance.\n\n"
      ]
    },
    {
      "cell_type": "code",
      "execution_count": null,
      "metadata": {
        "collapsed": false
      },
      "outputs": [],
      "source": [
        "def pKolmogorovPy(x):\n    y = ot.DistFunc.pKolmogorov(samplesize, x[0])\n    return [y]"
      ]
    },
    {
      "cell_type": "code",
      "execution_count": null,
      "metadata": {
        "collapsed": false
      },
      "outputs": [],
      "source": [
        "pKolmogorov = ot.PythonFunction(1, 1, pKolmogorovPy)"
      ]
    },
    {
      "cell_type": "markdown",
      "metadata": {},
      "source": [
        "Create a function which returns the KS PDF given the KS distance: use the `gradient` method.\n\n"
      ]
    },
    {
      "cell_type": "code",
      "execution_count": null,
      "metadata": {
        "collapsed": false
      },
      "outputs": [],
      "source": [
        "def kolmogorovPDF(x):\n    return pKolmogorov.gradient(x)[0, 0]"
      ]
    },
    {
      "cell_type": "code",
      "execution_count": null,
      "metadata": {
        "collapsed": false
      },
      "outputs": [],
      "source": [
        "def dKolmogorov(x):\n    \"\"\"\n    Compute Kolmogorov PDF for given x.\n    x : a Sample, the points where the PDF must be evaluated\n    Reference\n    Numerical Derivatives in Scilab, Michael Baudin, May 2009\n    \"\"\"\n    n = x.getSize()\n    y = ot.Sample(n, 1)\n    for i in range(n):\n        y[i, 0] = kolmogorovPDF(x[i])\n    return y"
      ]
    },
    {
      "cell_type": "code",
      "execution_count": null,
      "metadata": {
        "collapsed": false
      },
      "outputs": [],
      "source": [
        "def linearSample(xmin, xmax, npoints):\n    \"\"\"Returns a sample created from a regular grid\n    from xmin to xmax with npoints points.\"\"\"\n    step = (xmax - xmin) / (npoints - 1)\n    rg = ot.RegularGrid(xmin, step, npoints)\n    vertices = rg.getVertices()\n    return vertices"
      ]
    },
    {
      "cell_type": "code",
      "execution_count": null,
      "metadata": {
        "collapsed": false
      },
      "outputs": [],
      "source": [
        "n = 1000  # Number of points in the plot\ns = linearSample(0.001, 0.999, n)\ny = dKolmogorov(s)"
      ]
    },
    {
      "cell_type": "markdown",
      "metadata": {},
      "source": [
        "Create a regular grid starting from the observed KS statistics.\n\n"
      ]
    },
    {
      "cell_type": "code",
      "execution_count": null,
      "metadata": {
        "collapsed": false
      },
      "outputs": [],
      "source": [
        "nplot = 100\nx = linearSample(KSstat, 0.6, nplot)"
      ]
    },
    {
      "cell_type": "markdown",
      "metadata": {},
      "source": [
        "Compute the bounds to fill: the lower vertical bound is 0 and the upper vertical bound is the KS PDF.\n\n"
      ]
    },
    {
      "cell_type": "code",
      "execution_count": null,
      "metadata": {
        "collapsed": false
      },
      "outputs": [],
      "source": [
        "vLow = [0.0] * nplot\nvUp = [pKolmogorov.gradient(x[i])[0, 0] for i in range(nplot)]"
      ]
    },
    {
      "cell_type": "code",
      "execution_count": null,
      "metadata": {
        "collapsed": false
      },
      "outputs": [],
      "source": [
        "boundsPoly = ot.Polygon.FillBetween(x.asPoint(), vLow, vUp)\nboundsPoly.setLegend(\"pvalue = %.4f\" % (pvalue))\ncurve = ot.Curve(s, y)\ncurve.setLegend(\"Exact distribution\")\ncurveStat = ot.Curve([KSstat, KSstat], [0.0, kolmogorovPDF([KSstat])])\ncurveStat.setColor(\"red\")\ncurveStat.setLegend(\"KS-statistics = %.4f\" % (KSstat))\ngraph = ot.Graph(\n    \"Kolmogorov-Smirnov distribution (known parameters)\",\n    \"KS-Statistics\",\n    \"PDF\",\n    True,\n    \"upper right\",\n)\ngraph.setLegends([\"Empirical distribution\"])\ngraph.add(curve)\ngraph.add(curveStat)\ngraph.add(boundsPoly)\ngraph.setTitle(\"Kolmogorov-Smirnov distribution (known parameters)\")\nview = viewer.View(graph)\nplt.show()"
      ]
    },
    {
      "cell_type": "markdown",
      "metadata": {},
      "source": [
        "We observe that the p-value is the area of the curve which corresponds to\nthe KS distances greater than the observed KS statistics.\n\n"
      ]
    }
  ],
  "metadata": {
    "kernelspec": {
      "display_name": "Python 3",
      "language": "python",
      "name": "python3"
    },
    "language_info": {
      "codemirror_mode": {
        "name": "ipython",
        "version": 3
      },
      "file_extension": ".py",
      "mimetype": "text/x-python",
      "name": "python",
      "nbconvert_exporter": "python",
      "pygments_lexer": "ipython3",
      "version": "3.13.1"
    }
  },
  "nbformat": 4,
  "nbformat_minor": 0
}