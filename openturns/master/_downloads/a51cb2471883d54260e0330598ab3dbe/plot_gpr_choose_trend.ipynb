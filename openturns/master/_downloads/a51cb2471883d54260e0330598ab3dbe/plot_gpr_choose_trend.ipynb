{
  "cells": [
    {
      "cell_type": "markdown",
      "metadata": {},
      "source": [
        "\n# Gaussian Process Regression: choose a polynomial trend\n"
      ]
    },
    {
      "cell_type": "code",
      "execution_count": null,
      "metadata": {
        "collapsed": false
      },
      "outputs": [],
      "source": [
        "import openturns as ot\nimport openturns.experimental as otexp\nimport openturns.viewer as otv"
      ]
    },
    {
      "cell_type": "markdown",
      "metadata": {},
      "source": [
        "## Introduction\n\nIn this example, we build a metamodel using a Gaussian process regression whose trend is estimated on a\ngiven data set. We illustrate the impact of the choice of the trend function basis on the metamodel.\nThis example focuses on three polynomial trends:\n\n- :class:`~openturns.ConstantBasisFactory`;\n- :class:`~openturns.LinearBasisFactory`;\n- :class:`~openturns.QuadraticBasisFactory`.\n\nAt lats, we illustrate that far away from the data set, the Gaussian Process Regression metamodel is entirely\ndetermined by the trend function. Depending on the trend, it might be a bad idea to use the Gaussian process\nregression metamodel far away from the training data set.\n\nRefer to `gaussian_process_regression` to get all the notations and the theoretical aspects.\nIn the :doc:`/auto_meta_modeling/kriging_metamodel/plot_gpr_beam_trend` example,\nwe give another example of this method.\nIn the :doc:`/auto_meta_modeling/kriging_metamodel/plot_gpr_beam_arbitrary_trend` example,\nwe show how to configure an arbitrary trend.\n\nThe model is the function $g: \\Rset \\rightarrow \\Rset$ defined by:\n\n\\begin{align}\\model(x) = x \\sin \\left( \\frac{x}{2} \\right), \\quad \\forall x \\in [0,10].\\end{align}\n\nWe consider the :class:`~openturns.MaternModel` covariance model.\nThe covariance model is fixed but its parameters must be calibrated\ndepending on the data.\nThe Gaussian process regression metamodel is defined by:\n\n\\begin{align}\\metaModel(\\vect{x})  \\Expect{Y(\\omega, x)\\, | \\,  \\cC}\\end{align}\n\nwhere:\n\n\\begin{align}Y(\\omega, x) = \\mu(x) + W(\\omega, x)\\end{align}\n\nwhere $\\mu: \\Rset \\rightarrow \\Rset$ is the trend function and\n$\\vect{W}$ a Gaussian process of dimension 1 with zero mean and covariance function $\\mat{C}$.\nWe consider the :class:`~openturns.MaternModel` covariance model.\n\nThe trend is deterministic and the Gaussian process is probabilistic but they both contribute to the metamodel.\nA special feature of the Gaussian process regression metamodel $\\metaModel$ is the interpolation\nproperty: the metamodel is exact at the training data set.\n\nThe objective is to estimate the trend function $\\mu$ and the parameters of the covariance model,\nlabelled as *active*: by default, the active parameters are the scale and the amplitude $\\vect{\\theta} = (\\theta, \\sigma)$ but refer to\n:class:`openturns.CovarianceModel` to get details on the activation of the estimation of the other parameters.\n\n## Define the model\n\nWe define the model $\\model$ with a :class:`~openturns.SymbolicFunction`.\n\n"
      ]
    },
    {
      "cell_type": "code",
      "execution_count": null,
      "metadata": {
        "collapsed": false
      },
      "outputs": [],
      "source": [
        "model = ot.SymbolicFunction([\"x\"], [\"x * sin(0.5 * x)\"])"
      ]
    },
    {
      "cell_type": "markdown",
      "metadata": {},
      "source": [
        "We use the following sample to train our metamodel.\n\n"
      ]
    },
    {
      "cell_type": "code",
      "execution_count": null,
      "metadata": {
        "collapsed": false
      },
      "outputs": [],
      "source": [
        "xmin = 0.0\nxmax = 10.0\nnTrain = 8\nXtrain = ot.Uniform(xmin, xmax).getSample(nTrain).sort()\nXtrain"
      ]
    },
    {
      "cell_type": "markdown",
      "metadata": {},
      "source": [
        "The values of the model are also needed for training.\n\n"
      ]
    },
    {
      "cell_type": "code",
      "execution_count": null,
      "metadata": {
        "collapsed": false
      },
      "outputs": [],
      "source": [
        "Ytrain = model(Xtrain)\nYtrain"
      ]
    },
    {
      "cell_type": "markdown",
      "metadata": {},
      "source": [
        "We shall test the model on a set of points based on a regular grid.\n\n"
      ]
    },
    {
      "cell_type": "code",
      "execution_count": null,
      "metadata": {
        "collapsed": false
      },
      "outputs": [],
      "source": [
        "nTest = 100\nstep = (xmax - xmin) / (nTest - 1)\nx_test = ot.RegularGrid(xmin, step, nTest).getVertices()"
      ]
    },
    {
      "cell_type": "markdown",
      "metadata": {},
      "source": [
        "We draw the training points and the model at the testing points. We encapsulate it into a function to use it\nagain later.\n\n"
      ]
    },
    {
      "cell_type": "code",
      "execution_count": null,
      "metadata": {
        "collapsed": false
      },
      "outputs": [],
      "source": [
        "def plot_model(color):\n    graph = ot.Graph(\"\", \"x\", \"\", True, \"\")\n    y_test = model(x_test)\n    curveModel = ot.Curve(x_test, y_test)\n    curveModel.setLineStyle(\"solid\")\n    curveModel.setColor(color)\n    curveModel.setLegend(\"Model\")\n    graph.add(curveModel)\n    cloud = ot.Cloud(Xtrain, Ytrain)\n    cloud.setColor(color)\n    cloud.setPointStyle(\"fsquare\")\n    cloud.setLegend(\"Data\")\n    graph.add(cloud)\n    graph.setLegendPosition(\"bottom\")\n    return graph"
      ]
    },
    {
      "cell_type": "code",
      "execution_count": null,
      "metadata": {
        "collapsed": false
      },
      "outputs": [],
      "source": [
        "palette = ot.Drawable.BuildDefaultPalette(5)\ngraph = plot_model(palette[0])\ngraph.setTitle(\"Model and data set\")\nview = otv.View(graph)"
      ]
    },
    {
      "cell_type": "markdown",
      "metadata": {},
      "source": [
        "## Scale the input training sample\n\nWe often have to apply a transform on the input data before performing the Gaussian process regression.\nThis makes the estimation of the hyperparameters of the Gaussian process regression metamodel\neasier for the optimization algorithm.\nTo do so, we write a linear transform of our input data: we make it unit centered at its mean.\nThen we fix the mean and the standard deviation to their values with the :class:`~openturns.ParametricFunction`.\nWe build the inverse transform as well.\n\nWe first compute the mean and standard deviation of the input data.\n\n"
      ]
    },
    {
      "cell_type": "code",
      "execution_count": null,
      "metadata": {
        "collapsed": false
      },
      "outputs": [],
      "source": [
        "mean = Xtrain.computeMean()[0]\nstdDev = Xtrain.computeStandardDeviation()[0]\nprint(\"Xtrain, mean: %.3f\" % mean)\nprint(\"Xtrain, standard deviation: %.3f\" % stdDev)"
      ]
    },
    {
      "cell_type": "code",
      "execution_count": null,
      "metadata": {
        "collapsed": false
      },
      "outputs": [],
      "source": [
        "trans_func = ot.SymbolicFunction([\"mean\", \"sigma\", \"x\"], [\"(x - mean) / sigma\"])\ninv_trans_func = ot.SymbolicFunction([\"mean\", \"sigma\", \"x\"], [\"sigma * x + mean\"])\nmyTransform = ot.ParametricFunction(trans_func, [0, 1], [mean, stdDev])\nmyInverseTransform = ot.ParametricFunction(inv_trans_func, [0, 1], [mean, stdDev])"
      ]
    },
    {
      "cell_type": "markdown",
      "metadata": {},
      "source": [
        "Scale the input training sample.\n\n"
      ]
    },
    {
      "cell_type": "code",
      "execution_count": null,
      "metadata": {
        "collapsed": false
      },
      "outputs": [],
      "source": [
        "scaledXtrain = myTransform(Xtrain)\nscaledXtrain"
      ]
    },
    {
      "cell_type": "markdown",
      "metadata": {},
      "source": [
        "## Constant basis\n\nIn this paragraph we choose a basis constant for the estimation of the trend.\nThe basis is built with the :class:`~openturns.ConstantBasisFactory` class.\n\n"
      ]
    },
    {
      "cell_type": "code",
      "execution_count": null,
      "metadata": {
        "collapsed": false
      },
      "outputs": [],
      "source": [
        "dimension = 1\nbasis = ot.ConstantBasisFactory(dimension).build()"
      ]
    },
    {
      "cell_type": "markdown",
      "metadata": {},
      "source": [
        "We build the Gaussian process regression algorithm on the transformed data, the output data, the covariance\nmodel and the basis.\nFirst, we define the :class:`~openturns.MaternModel` covariance model. The two first parameters\n(scale and amplitude) will be updated\nbut not the third one (which is the $\\nu$ parameter).\n\nFirst, we build the $Y(\\omega, x)$ Gaussian process with the class\n:class:`~openturns.experimental.GaussianProcessFitter`.\n\n"
      ]
    },
    {
      "cell_type": "code",
      "execution_count": null,
      "metadata": {
        "collapsed": false
      },
      "outputs": [],
      "source": [
        "covarianceModel = ot.MaternModel([1.0], [1.0], 2.5)\nalgo_fit = otexp.GaussianProcessFitter(scaledXtrain, Ytrain, covarianceModel, basis)\nalgo_fit.run()\nfit_result = algo_fit.getResult()"
      ]
    },
    {
      "cell_type": "markdown",
      "metadata": {},
      "source": [
        "Then, we condition the process $Y(\\omega, x)$ to the data set with the class\n:class:`~openturns.experimental.GaussianProcessRegression`.\n\n"
      ]
    },
    {
      "cell_type": "code",
      "execution_count": null,
      "metadata": {
        "collapsed": false
      },
      "outputs": [],
      "source": [
        "algo_gpr = otexp.GaussianProcessRegression(fit_result)\nalgo_gpr.run()"
      ]
    },
    {
      "cell_type": "markdown",
      "metadata": {},
      "source": [
        "We can get the metamodel on the transformed data:\n\n"
      ]
    },
    {
      "cell_type": "code",
      "execution_count": null,
      "metadata": {
        "collapsed": false
      },
      "outputs": [],
      "source": [
        "gpr_result = algo_gpr.getResult()\nmetamodel_transformed_data = gpr_result.getMetaModel()"
      ]
    },
    {
      "cell_type": "markdown",
      "metadata": {},
      "source": [
        "The final metamodel on the initial input data is built with the class\n:class:`~openturns.ComposedFunction`.\n\n"
      ]
    },
    {
      "cell_type": "code",
      "execution_count": null,
      "metadata": {
        "collapsed": false
      },
      "outputs": [],
      "source": [
        "metamodel_gpr = ot.ComposedFunction(metamodel_transformed_data, myTransform)"
      ]
    },
    {
      "cell_type": "markdown",
      "metadata": {},
      "source": [
        "Define a function to plot the metamodel:\n\n"
      ]
    },
    {
      "cell_type": "code",
      "execution_count": null,
      "metadata": {
        "collapsed": false
      },
      "outputs": [],
      "source": [
        "def plot_metamodel(x_test, metamodel, color):\n    y_test = metamodel(x_test)\n    curve = ot.Curve(x_test, y_test)\n    curve.setLineStyle(\"dashed\")\n    curve.setColor(color)\n    curve.setLegend(\"Metamodel\")\n    return curve"
      ]
    },
    {
      "cell_type": "markdown",
      "metadata": {},
      "source": [
        "We can draw the metamodel and the model on the same graph.\n\n"
      ]
    },
    {
      "cell_type": "code",
      "execution_count": null,
      "metadata": {
        "collapsed": false
      },
      "outputs": [],
      "source": [
        "graph = plot_model(palette[0])\ngraph.add(plot_metamodel(x_test, metamodel_gpr, palette[1]))\ngraph.setTitle(\"Gaussian Process Regression metamodel: constant trend\")\nview = otv.View(graph)"
      ]
    },
    {
      "cell_type": "markdown",
      "metadata": {},
      "source": [
        "We also observe the estimated values of the hyperparameters of the trained covariance model.\nNote that the scale parameter is related to the transformed data. To get the scale parameter related to\nthe initial variables, you have to multiply it by the *stdDev* factor.\n\n"
      ]
    },
    {
      "cell_type": "code",
      "execution_count": null,
      "metadata": {
        "collapsed": false
      },
      "outputs": [],
      "source": [
        "theta = gpr_result.getCovarianceModel().getScale()[0]\nprint(\"Scale parameter: %.3e\" % theta)\n\nsigma = gpr_result.getCovarianceModel().getAmplitude()[0]\nprint(\"Amplitude parameter: %.3e\" % sigma)"
      ]
    },
    {
      "cell_type": "markdown",
      "metadata": {},
      "source": [
        "We can display the trend function computed on the transformed data:\n$\\mu \\left(\\dfrac{x-m}{\\sigma}\\right)$ where :math:(m, \\sigma)` is the mean and standard\ndeviation of the input data set. We use the method\n:meth:`~openturns.experimental.GaussianProcessFitterResult.getTrendCoefficients`.\n\n"
      ]
    },
    {
      "cell_type": "code",
      "execution_count": null,
      "metadata": {
        "collapsed": false
      },
      "outputs": [],
      "source": [
        "c0 = fit_result.getTrendCoefficients()\nprint(\"The trend is the curve mu((x-m)/sigma) = %.6e\" % c0[0])"
      ]
    },
    {
      "cell_type": "markdown",
      "metadata": {},
      "source": [
        "We can also get the trend function acting on the transformed data using the method\n:meth:`~openturns.experimental.GaussianProcessFitterResult.getMetaModel` of the\nclass :class:`~openturns.experimental.GaussianProcessFitterResult`.\n\n"
      ]
    },
    {
      "cell_type": "code",
      "execution_count": null,
      "metadata": {
        "collapsed": false
      },
      "outputs": [],
      "source": [
        "trend_transformed_data = fit_result.getMetaModel()\ntrend_transformed_data"
      ]
    },
    {
      "cell_type": "markdown",
      "metadata": {},
      "source": [
        "The trend function acting on the initial input data is built with the class\n:class:`~openturns.ComposedFunction`.\n\n"
      ]
    },
    {
      "cell_type": "code",
      "execution_count": null,
      "metadata": {
        "collapsed": false
      },
      "outputs": [],
      "source": [
        "trend = ot.ComposedFunction(trend_transformed_data, myTransform)"
      ]
    },
    {
      "cell_type": "markdown",
      "metadata": {},
      "source": [
        "Define a function to plot the trend.\n\n"
      ]
    },
    {
      "cell_type": "code",
      "execution_count": null,
      "metadata": {
        "collapsed": false
      },
      "outputs": [],
      "source": [
        "def plot_trend(x_test, trend_func, color):\n    y_test = trend_func(x_test)\n    curve = ot.Curve(x_test, y_test)\n    curve.setLineStyle(\"dotdash\")\n    curve.setColor(color)\n    curve.setLegend(\"Trend\")\n    return curve"
      ]
    },
    {
      "cell_type": "markdown",
      "metadata": {},
      "source": [
        "We draw the estimated trend function.\n\n"
      ]
    },
    {
      "cell_type": "code",
      "execution_count": null,
      "metadata": {
        "collapsed": false
      },
      "outputs": [],
      "source": [
        "graph.add(plot_trend(x_test, trend, \"red\"))\ngraph.setTitle(\"Gaussian Process Regression metamodel: constant trend\")\nview = otv.View(graph)"
      ]
    },
    {
      "cell_type": "markdown",
      "metadata": {},
      "source": [
        "Now, we want to plot some confidence bounds of the metamodel. We use the class\n:class:`~openturns.experimental.GaussianProcessConditionalCovariance` which is built from the Gaussian\nProcess Regression result. We create a function to plot confidence bounds.\n\n"
      ]
    },
    {
      "cell_type": "code",
      "execution_count": null,
      "metadata": {
        "collapsed": false
      },
      "outputs": [],
      "source": [
        "def plot_GPRConfidenceBounds(gpr_result, x_test, myTransform, color, alpha=0.05):\n    bilateralCI = ot.Normal().computeBilateralConfidenceInterval(1.0 - alpha)\n    quantileAlpha = bilateralCI.getUpperBound()[0]\n    sqrt = ot.SymbolicFunction([\"x\"], [\"sqrt(x)\"])\n    n_test = x_test.getSize()\n    scaled_x_test = myTransform(x_test)\n    gpr_condCov = otexp.GaussianProcessConditionalCovariance(gpr_result)\n    conditionalVariance = gpr_condCov.getConditionalMarginalVariance(scaled_x_test)\n    conditionalSigma = sqrt(conditionalVariance)\n    metamodel_transf_data = gpr_result.getMetaModel()\n    y_test = metamodel_transf_data(scaled_x_test)\n    dataLower = [\n        y_test[i, 0] - quantileAlpha * conditionalSigma[i, 0] for i in range(n_test)\n    ]\n    dataUpper = [\n        y_test[i, 0] + quantileAlpha * conditionalSigma[i, 0] for i in range(n_test)\n    ]\n    boundsPoly = ot.Polygon.FillBetween(x_test.asPoint(), dataLower, dataUpper)\n    boundsPoly.setColor(ot.Drawable.ConvertFromHSV(color[0], color[1], color[2]))\n    boundsPoly.setLegend(\"%d%% C.I.\" % ((1.0 - alpha) * 100))\n    return boundsPoly"
      ]
    },
    {
      "cell_type": "markdown",
      "metadata": {},
      "source": [
        "We plot the bounds of three different confidence intervals of level $1-\\alpha$:\n\n"
      ]
    },
    {
      "cell_type": "code",
      "execution_count": null,
      "metadata": {
        "collapsed": false
      },
      "outputs": [],
      "source": [
        "alphas = [0.05, 0.1, 0.2]\n# three different green colors defined by HSV values:\nbounds_colors = [[120, 1.0, 1.0], [120, 1.0, 0.75], [120, 1.0, 0.5]]\n\ngraph = ot.Graph(\n    \"Gaussian Process Regression metamodel: constant trend\", \"x\", \"y\", True\n)\ngraph.add(\n    plot_GPRConfidenceBounds(\n        gpr_result, x_test, myTransform, bounds_colors[0], alphas[0]\n    )\n)\ngraph.add(\n    plot_GPRConfidenceBounds(\n        gpr_result, x_test, myTransform, bounds_colors[1], alphas[1]\n    )\n)\ngraph.add(\n    plot_GPRConfidenceBounds(\n        gpr_result, x_test, myTransform, bounds_colors[2], alphas[2]\n    )\n)\ngraph.add(plot_model(palette[0]))\ngraph.add(plot_metamodel(x_test, metamodel_gpr, palette[1]))\ngraph.add(plot_trend(x_test, trend, \"red\"))\ngraph.setLegendCorner([1.0, 1.0])\ngraph.setLegendPosition(\"upper left\")\nview = otv.View(graph)"
      ]
    },
    {
      "cell_type": "markdown",
      "metadata": {},
      "source": [
        "## Linear basis\n\nWith a linear basis, the vector space is defined by the basis $\\{1, z\\}$: that is\nall the function of type $y(z) = az + b$ where $a$ and $b$ are\nreal parameters.\n\n"
      ]
    },
    {
      "cell_type": "code",
      "execution_count": null,
      "metadata": {
        "collapsed": false
      },
      "outputs": [],
      "source": [
        "basis = ot.LinearBasisFactory(dimension).build()"
      ]
    },
    {
      "cell_type": "markdown",
      "metadata": {},
      "source": [
        "We build the $Y(\\omega, x)$ Gaussian process, then we condition it to the data set.\n\n"
      ]
    },
    {
      "cell_type": "code",
      "execution_count": null,
      "metadata": {
        "collapsed": false
      },
      "outputs": [],
      "source": [
        "algo_fit = otexp.GaussianProcessFitter(scaledXtrain, Ytrain, covarianceModel, basis)\nalgo_fit.run()\nfit_result = algo_fit.getResult()\n\nalgo_gpr = otexp.GaussianProcessRegression(fit_result)\nalgo_gpr.run()"
      ]
    },
    {
      "cell_type": "markdown",
      "metadata": {},
      "source": [
        "We  get the metamodel on the transformed data and we build the final metamodel acting on the initial input data.\n\n"
      ]
    },
    {
      "cell_type": "code",
      "execution_count": null,
      "metadata": {
        "collapsed": false
      },
      "outputs": [],
      "source": [
        "gpr_result = algo_gpr.getResult()\nmetamodel_transformed_data = gpr_result.getMetaModel()\nmetamodel_gpr = ot.ComposedFunction(metamodel_transformed_data, myTransform)"
      ]
    },
    {
      "cell_type": "markdown",
      "metadata": {},
      "source": [
        "We get the updated covariance model.\n\n"
      ]
    },
    {
      "cell_type": "code",
      "execution_count": null,
      "metadata": {
        "collapsed": false
      },
      "outputs": [],
      "source": [
        "theta = gpr_result.getCovarianceModel().getScale()[0]\nprint(\"Scale parameter: %.3e\" % theta)\n\nsigma = gpr_result.getCovarianceModel().getAmplitude()[0]\nprint(\"Amplitude parameter: %.3e\" % sigma)"
      ]
    },
    {
      "cell_type": "markdown",
      "metadata": {},
      "source": [
        "We get the trend function acting on the transformed data and we build the trend function acting on the initial input data.\n\n"
      ]
    },
    {
      "cell_type": "code",
      "execution_count": null,
      "metadata": {
        "collapsed": false
      },
      "outputs": [],
      "source": [
        "trend_transformed_data = fit_result.getMetaModel()\ntrend = ot.ComposedFunction(trend_transformed_data, myTransform)"
      ]
    },
    {
      "cell_type": "markdown",
      "metadata": {},
      "source": [
        "We draw the model, the trained data set, the estimated trend function and the Gaussian Process Regression metamodel\n\n"
      ]
    },
    {
      "cell_type": "code",
      "execution_count": null,
      "metadata": {
        "collapsed": false
      },
      "outputs": [],
      "source": [
        "graph = plot_model(palette[0])\ngraph.add(plot_metamodel(x_test, metamodel_gpr, palette[1]))\ngraph.add(plot_trend(x_test, trend, \"red\"))\ngraph.setTitle(\"Gaussian Process Regression metamodel: linear basis\")\nview = otv.View(graph)"
      ]
    },
    {
      "cell_type": "markdown",
      "metadata": {},
      "source": [
        "We plot some confidence bounds of the metamodel.\nsphinx_gallery_thumbnail_number = 6\n\n"
      ]
    },
    {
      "cell_type": "code",
      "execution_count": null,
      "metadata": {
        "collapsed": false
      },
      "outputs": [],
      "source": [
        "graph = ot.Graph(\"Gaussian Process Regression metamodel: linear trend\", \"x\", \"y\", True)\ngraph.add(\n    plot_GPRConfidenceBounds(\n        gpr_result, x_test, myTransform, bounds_colors[0], alphas[0]\n    )\n)\ngraph.add(\n    plot_GPRConfidenceBounds(\n        gpr_result, x_test, myTransform, bounds_colors[1], alphas[1]\n    )\n)\ngraph.add(\n    plot_GPRConfidenceBounds(\n        gpr_result, x_test, myTransform, bounds_colors[2], alphas[2]\n    )\n)\ngraph.add(plot_model(palette[0]))\ngraph.add(plot_metamodel(x_test, metamodel_gpr, palette[1]))\ngraph.add(plot_trend(x_test, trend, \"red\"))\ngraph.setLegendCorner([1.0, 1.0])\ngraph.setLegendPosition(\"upper left\")\nview = otv.View(graph)"
      ]
    },
    {
      "cell_type": "markdown",
      "metadata": {},
      "source": [
        "## Quadratic basis\n\nIn this last section, we turn to the quadratic basis. All subsequent analysis should remain the same.\n\n"
      ]
    },
    {
      "cell_type": "code",
      "execution_count": null,
      "metadata": {
        "collapsed": false
      },
      "outputs": [],
      "source": [
        "basis = ot.QuadraticBasisFactory(dimension).build()"
      ]
    },
    {
      "cell_type": "markdown",
      "metadata": {},
      "source": [
        "We build the $Y(\\omega, x)$ Gaussian process, then we condition it to the data set.\n\n"
      ]
    },
    {
      "cell_type": "code",
      "execution_count": null,
      "metadata": {
        "collapsed": false
      },
      "outputs": [],
      "source": [
        "algo_fit = otexp.GaussianProcessFitter(scaledXtrain, Ytrain, covarianceModel, basis)\nalgo_fit.run()\nfit_result = algo_fit.getResult()\n\nalgo_gpr = otexp.GaussianProcessRegression(fit_result)\nalgo_gpr.run()"
      ]
    },
    {
      "cell_type": "markdown",
      "metadata": {},
      "source": [
        "We  get the metamodel on the transformed data and we build the final metamodel acting on the initial input data.\n\n"
      ]
    },
    {
      "cell_type": "code",
      "execution_count": null,
      "metadata": {
        "collapsed": false
      },
      "outputs": [],
      "source": [
        "gpr_result = algo_gpr.getResult()\nmetamodel_transformed_data = gpr_result.getMetaModel()\nmetamodel_gpr = ot.ComposedFunction(metamodel_transformed_data, myTransform)"
      ]
    },
    {
      "cell_type": "markdown",
      "metadata": {},
      "source": [
        "We get the updated covariance model.\n\n"
      ]
    },
    {
      "cell_type": "code",
      "execution_count": null,
      "metadata": {
        "collapsed": false
      },
      "outputs": [],
      "source": [
        "theta = gpr_result.getCovarianceModel().getScale()[0]\nprint(\"Scale parameter: %.3e\" % theta)\n\nsigma = gpr_result.getCovarianceModel().getAmplitude()[0]\nprint(\"Amplitude parameter: %.3e\" % sigma)"
      ]
    },
    {
      "cell_type": "markdown",
      "metadata": {},
      "source": [
        "We get the trend function acting on the transformed data and we build the trend acting on the initial input data.\n\n"
      ]
    },
    {
      "cell_type": "code",
      "execution_count": null,
      "metadata": {
        "collapsed": false
      },
      "outputs": [],
      "source": [
        "trend_transformed_data = fit_result.getMetaModel()\ntrend = ot.ComposedFunction(trend_transformed_data, myTransform)"
      ]
    },
    {
      "cell_type": "markdown",
      "metadata": {},
      "source": [
        "We draw the model, the trained data set, the estimated trend function and the Gaussian Process Regression\nmetamodel.\n\n"
      ]
    },
    {
      "cell_type": "code",
      "execution_count": null,
      "metadata": {
        "collapsed": false
      },
      "outputs": [],
      "source": [
        "graph = plot_model(palette[0])\ngraph.add(plot_metamodel(x_test, metamodel_gpr, palette[1]))\ngraph.add(plot_trend(x_test, trend, \"red\"))\ngraph.setTitle(\"Gaussian Process Regression metamodel: quadratic basis\")\nview = otv.View(graph)"
      ]
    },
    {
      "cell_type": "markdown",
      "metadata": {},
      "source": [
        "We plot some confidence bounds of the metamodel.\n\n"
      ]
    },
    {
      "cell_type": "code",
      "execution_count": null,
      "metadata": {
        "collapsed": false
      },
      "outputs": [],
      "source": [
        "graph = ot.Graph(\n    \"Gaussian Process Regression metamodel: quadratic trend\", \"x\", \"y\", True\n)\ngraph.add(\n    plot_GPRConfidenceBounds(\n        gpr_result, x_test, myTransform, bounds_colors[0], alphas[0]\n    )\n)\ngraph.add(\n    plot_GPRConfidenceBounds(\n        gpr_result, x_test, myTransform, bounds_colors[1], alphas[1]\n    )\n)\ngraph.add(\n    plot_GPRConfidenceBounds(\n        gpr_result, x_test, myTransform, bounds_colors[2], alphas[2]\n    )\n)\ngraph.add(plot_model(palette[0]))\ngraph.add(plot_metamodel(x_test, metamodel_gpr, palette[1]))\ngraph.add(plot_trend(x_test, trend, \"red\"))\ngraph.setLegendCorner([1.0, 1.0])\ngraph.setLegendPosition(\"upper left\")\nview = otv.View(graph)"
      ]
    },
    {
      "cell_type": "markdown",
      "metadata": {},
      "source": [
        "## And far away from the training data set?\n\nWe illustrate here that far away from the data set, the Gaussian Process Regression metamodel is entirely\ndetermined by the trend function.\nTo do that, we define another input test sample.\n\n"
      ]
    },
    {
      "cell_type": "code",
      "execution_count": null,
      "metadata": {
        "collapsed": false
      },
      "outputs": [],
      "source": [
        "xmin = -10.0\nxmax = 20.0\nnTest = 500\nstep = (xmax - xmin) / (nTest - 1)\nx_test = ot.RegularGrid(xmin, step, nTest).getVertices()\n\ngraph = ot.Graph(\n    \"Gaussian Process Regression metamodel: quadratic trend\", \"x\", \"y\", True\n)\ngraph.add(\n    plot_GPRConfidenceBounds(\n        gpr_result, x_test, myTransform, bounds_colors[0], alphas[0]\n    )\n)\ngraph.add(\n    plot_GPRConfidenceBounds(\n        gpr_result, x_test, myTransform, bounds_colors[1], alphas[1]\n    )\n)\ngraph.add(\n    plot_GPRConfidenceBounds(\n        gpr_result, x_test, myTransform, bounds_colors[2], alphas[2]\n    )\n)\ngraph.add(plot_model(palette[0]))\ngraph.add(plot_metamodel(x_test, metamodel_gpr, palette[1]))\ngraph.add(plot_trend(x_test, trend, \"red\"))\ngraph.setLegendCorner([1.0, 1.0])\ngraph.setLegendPosition(\"upper left\")\nview = otv.View(graph)"
      ]
    },
    {
      "cell_type": "markdown",
      "metadata": {},
      "source": [
        "We observe that far away from the training data set, the Gaussian Process Regression metamodel is equal to the\ntrend function which is not a good approximation of the model. In that case, it is not a good idea to use the\nGaussian Process Regression metamodel far away from the training data set.\n\n"
      ]
    },
    {
      "cell_type": "markdown",
      "metadata": {},
      "source": [
        "Display figures\n\n"
      ]
    },
    {
      "cell_type": "code",
      "execution_count": null,
      "metadata": {
        "collapsed": false
      },
      "outputs": [],
      "source": [
        "otv.View.ShowAll()"
      ]
    }
  ],
  "metadata": {
    "kernelspec": {
      "display_name": "Python 3",
      "language": "python",
      "name": "python3"
    },
    "language_info": {
      "codemirror_mode": {
        "name": "ipython",
        "version": 3
      },
      "file_extension": ".py",
      "mimetype": "text/x-python",
      "name": "python",
      "nbconvert_exporter": "python",
      "pygments_lexer": "ipython3",
      "version": "3.13.5"
    }
  },
  "nbformat": 4,
  "nbformat_minor": 0
}