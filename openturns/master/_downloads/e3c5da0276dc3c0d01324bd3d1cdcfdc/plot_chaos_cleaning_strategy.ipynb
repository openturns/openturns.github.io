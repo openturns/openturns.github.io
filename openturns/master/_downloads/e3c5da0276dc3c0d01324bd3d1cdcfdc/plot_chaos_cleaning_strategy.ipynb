{
  "cells": [
    {
      "cell_type": "code",
      "execution_count": null,
      "metadata": {
        "collapsed": false
      },
      "outputs": [],
      "source": [
        "%matplotlib inline"
      ]
    },
    {
      "cell_type": "markdown",
      "metadata": {},
      "source": [
        "\n# Create a sparse chaos by integration\n"
      ]
    },
    {
      "cell_type": "markdown",
      "metadata": {},
      "source": [
        "The goal of this example is to show how to create a sparse polynomial chaos expansion (PCE) when we estimate its coefficients by integration. We show how to use the `CleaningStrategy` class.\n\n## Polynomial chaos expansion\n\nLet $g : \\mathcal{X} \\rightarrow \\mathbb{R}$ be a function where $\\mathcal{X} \\subseteq \\mathbb{R}^p$ is the domain of $g$. Let $f$ be a probability density function on $\\mathcal{X}$. Let $T$ be the iso-probabilistic transformation from the physical space $\\mathcal{X}$ to the standard space $\\mathcal{\\bar{X}}$:\n\n  .. math::\n\n    \\xi = T(\\boldsymbol{x}) \\in \\mathcal{\\bar{X}}\n\nfor any $\\boldsymbol{x} \\in \\mathcal{X}$.\nLet $h$ be the function defined by the equation :\n\n  .. math::\n\n    h(\\boldsymbol{\\xi}) = \\left(g \\circ T^{-1}\\right)(\\boldsymbol{\\xi})\n\nfor any $\\boldsymbol{\\xi} \\in \\mathcal{\\bar{X}}$.\nThe polynomial chaos decomposition of $h$ is ([blatman2009]_ page 73) :\n\n  .. math::\n\n    h(\\boldsymbol{\\xi}) \\approx \\sum_{\\boldsymbol{\\alpha} \\in \\mathbb{N}^p} a_{\\boldsymbol{\\alpha}} \\psi_{\\boldsymbol{\\alpha}}(\\boldsymbol{\\xi})\n\nwhere $\\boldsymbol{\\alpha} = (\\alpha_1, ..., \\alpha_p) \\in \\mathbb{N}^p$ is a multiindex, $a_{\\boldsymbol{\\alpha}} \\in \\mathbb{R}$ is the coefficient and $\\psi_{\\boldsymbol{\\alpha}} : \\mathcal{\\bar{X}} \\rightarrow \\mathbb{R}$ is a multivariate polynomial.\n\n"
      ]
    },
    {
      "cell_type": "markdown",
      "metadata": {},
      "source": [
        "## Truncated expansion\nIn practice, we cannot consider an infinite series and must truncate the decomposition at a given order. Only a selection of coefficients must be kept. This leads to a subset of all possible multiindices. In the remainder of this text, we call this selection the *multiindex set*.\n\nSeveral multiindex sets can be considered. A simple method is to truncate the polynomial up to a given maximum total degree $d \\in \\mathbb{N}$. Let $\\mathcal{A}^{d}$ be the multi-index set defined by\n\n  .. math::\n\n    \\mathcal{A}^{d} = \\left\\{ \\boldsymbol{\\alpha} \\in \\mathbb{N}^p \\; | \\; \\|\\boldsymbol{\\alpha}\\|_1 \\leq d\\right\\}\n\nwhere\n\n  .. math::\n\n    \\|\\boldsymbol{\\alpha}\\|_d = \\alpha_1 + ... + \\alpha_p\n\nis the 1-norm of the multi-index $\\boldsymbol{\\alpha}$.\nTherefore, the truncated polynomial chaos expansion is:\n\n  .. math::\n\n    h(\\boldsymbol{\\xi}) \\approx \\sum_{\\boldsymbol{\\alpha} \\in \\mathcal{A}^{d}} a_{\\boldsymbol{\\alpha}} \\psi_{\\boldsymbol{\\alpha}}(\\boldsymbol{\\xi}).\n\nIn order to ensure a low error, we may choose a large value of the parameter $P$. This, however, leads to a large number of coefficients $\\boldsymbol{\\alpha} \\in \\mathcal{A}^{d}$ to estimate. More precisely, the number of coefficients to estimate is ([blatman2009]_ page 73) :\n\n  .. math::\n\n    \\textrm{card}\\left(\\mathcal{A}^{d}\\right) = {p + d \\choose d} = \\frac{(p + d)!}{p! d!}\n\nwhere $p!$ is the factorial number of $p$.\n\n"
      ]
    },
    {
      "cell_type": "markdown",
      "metadata": {},
      "source": [
        "## Low-rank polynomial chaos expansion\nFor any $\\boldsymbol{\\alpha} \\in \\mathbb{N}^p$, let $\\|\\boldsymbol{\\alpha}\\|_0$ be the rank of the multiindex, that is, the number of nonzero components:\n\n  .. math::\n\n    \\|\\boldsymbol{\\alpha}\\|_0 = \\sum_{i = 1}^p \\boldsymbol{1}_{\\alpha_i > 0}\n\nwhere $\\boldsymbol{1}$ is the indicator function.\nThe multiindex set of maximum total degree $d \\in \\mathbb{N}$ and maximum rank $j \\in \\mathbb{N}$ is ([blatman2009]_ page 74) is :\n\n  .. math::\n\n    \\mathcal{A}^{d,j} = \\left\\{ \\boldsymbol{\\alpha} \\in \\mathbb{N}^p \\; | \\; \\|\\boldsymbol{\\alpha}\\|_1 \\leq d, \\; \\; \\|\\boldsymbol{\\alpha}\\|_0 \\leq j\\right\\}.\n\nTherefore, the rank-`j` polynomial chaos expansion is:\n\n  .. math::\n\n    h(\\boldsymbol{\\xi}) \\approx \\sum_{\\boldsymbol{\\alpha} \\in \\mathcal{A}^{d,j}} a_{\\boldsymbol{\\alpha}} \\psi_{\\boldsymbol{\\alpha}}(\\boldsymbol{\\xi}).\n\nThe rank is now an hyperparameter of the model: [blatman2009]_ suggests to use $j = 2, 3, 4$. An example of low-rank PCE for the G-Sobol' function is given in [blatman2009]_ page 75.\n\n*Note.* It is currently not possible to create a low-rank PCE in OpenTURNS.\n\n"
      ]
    },
    {
      "cell_type": "markdown",
      "metadata": {},
      "source": [
        "## Model selection\nIf $\\textrm{card}\\left(\\mathcal{A}^{d}\\right)$ is large, many coefficients may be poorly estimated, which may reduce the quality of the metamodel. We may want to select a subset of the coefficients which best predict the output. In other words, we may compute a subset\n\n  .. math::\n\n    \\mathcal{A} \\subseteq \\mathcal{A}^{d}\n\nsuch that ([blatman2009]_ page 86) :\n\n  .. math::\n\n    h(\\boldsymbol{\\xi}) \\approx \\sum_{\\boldsymbol{\\alpha} \\in \\mathcal{A}} a_{\\boldsymbol{\\alpha}} \\psi_{\\boldsymbol{\\alpha}}(\\boldsymbol{\\xi}).\n\n\nAn enumeration rule is a function from the set of integers $k$ to the corresponding set of multiindices $\\boldsymbol{\\alpha}$. More precisely, let $r : \\mathbb{N} \\rightarrow \\mathbb{N}^p$ be the function such that :\n\n  .. math::\n\n    r(k) = \\boldsymbol{\\alpha}\n\nfor any $k \\geq 0$.\nLet $K \\in \\mathbb{N}$ be a parameter representing the number of coefficients considered in the selection. Given an enumeration rule for the multiindices $\\boldsymbol{\\alpha}$, at most $K$ multiindices will be considered. Let $\\mathcal{A}_K$ be the corresponding multiindex set :\n\n  .. math::\n\n    \\mathcal{A}_K = \\left\\{ \\boldsymbol{\\alpha} \\; | \\; r^{-1}(\\boldsymbol{\\alpha}) = k \\leq K \\right\\}.\n\n\nLet $\\epsilon > 0$ be a parameter representing the minimum relative value of a significant coefficient $a_{\\boldsymbol{\\alpha}}$. The `CleaningStrategy` uses the following criteria to select the coefficients :\n\n  .. math::\n\n    \\mathcal{A}_\\epsilon =\n       \\left\\{\n       |a_{\\boldsymbol{\\alpha}}| \\leq \\epsilon \\max_{ a_{\\boldsymbol{\\alpha}} \\in \\mathcal{A}_K } |a_{\\boldsymbol{\\alpha}}|\n       \\right\\}\n\nwhere $\\epsilon$ is the significance factor, default is $\\epsilon = 10^{-4}$.\n\n"
      ]
    },
    {
      "cell_type": "markdown",
      "metadata": {},
      "source": [
        "## Sparsity index\nThe sparsity index of a multiindex set is the ratio of the cardinality of the multiindex set to the cardinality of the multiindex set of the equivalent multiindex with maximum total degree. For a given multiindex set $\\mathcal{A}$, let $d$ be the maximum 1-norm of multiindices in the set :\n\n  .. math::\n\n    d := \\textrm{max}_{\\boldsymbol{\\alpha} \\in \\mathcal{A}} \\|\\boldsymbol{\\alpha}\\|_1.\n\nThe index of sparsity of $\\mathcal{A}$ is ([blatman2009]_  eq. 4.42 page 86) :\n\n  .. math::\n\n    \\textrm{IS}(\\mathcal{A}) = \\frac{\\textrm{card}(\\mathcal{A})}{\\textrm{card}\\left(\\mathcal{A}^d\\right)}.\n\n\n*Note.* The index of sparsity as defined by [blatman2009]_ is close to zero when the model is very sparse. The following complementary indicator is close to 1 when the model is very sparse:\n\n  .. math::\n\n    \\textrm{IS}_{\\textrm{c}}(\\mathcal{A}) = 1 - \\frac{\\textrm{card}(\\mathcal{A})}{\\textrm{card}\\left(\\mathcal{A}^d\\right)}.\n\n\n\n\n"
      ]
    },
    {
      "cell_type": "code",
      "execution_count": null,
      "metadata": {
        "collapsed": false
      },
      "outputs": [],
      "source": [
        "import openturns as ot\nimport openturns.viewer as otv\nfrom openturns.usecases import ishigami_function\nimport itertools"
      ]
    },
    {
      "cell_type": "markdown",
      "metadata": {},
      "source": [
        "The following function takes a polynomial chaos result as input and prints a given maximum number of coefficients of this polynomial. It can take into account a threshold, so that we can avoid to print coefficients which are very close to zero.\n\n"
      ]
    },
    {
      "cell_type": "code",
      "execution_count": null,
      "metadata": {
        "collapsed": false
      },
      "outputs": [],
      "source": [
        "def printCoefficientsTable(\n    polynomialChaosResult, maximum_number_of_printed_coefficients=10, threshold=0.0\n):\n    \"\"\"\n    Print the coefficients of the polynomial chaos.\n\n    Parameters\n    ----------\n    polynomialChaosResult : ot.FunctionalChaosResult\n        The polynomial chaos expansion.\n    maximum_number_of_printed_coefficients : int\n        The maximum number of printed coefficients.\n    threshold : float, stricly positive\n        If a coefficient has an absolute value striclty greater than the \n        threshold, it is printed. \n    \"\"\"\n    basis = polynomialChaosResult.getOrthogonalBasis()\n    coefficients = polynomialChaosResult.getCoefficients()\n    enumerate_function = basis.getEnumerateFunction()\n    indices = polynomialChaosResult.getIndices()\n    nbcoeffs = indices.getSize()\n    print(\"Total number of coefficients : \", nbcoeffs)\n    print(\"# Indice, Multi-indice, Degree : Value\")\n    print_index = 0\n    for k in range(nbcoeffs):\n        multiindex = enumerate_function(indices[k])\n        degree = sum(multiindex)\n        c = coefficients[k][0]\n        if abs(c) > threshold:\n            print(\"#%d, %s (%s) : %s\" % (k, multiindex, degree, c))\n            print_index += 1\n        if print_index > maximum_number_of_printed_coefficients:\n            break\n    return"
      ]
    },
    {
      "cell_type": "markdown",
      "metadata": {},
      "source": [
        "The next function computes the polynomial chaos Q2 score using simple validation on a test sample generated by Monte-Carlo sampling. The actual computation is performed by the `MetaModelValidation` class.\n\n"
      ]
    },
    {
      "cell_type": "code",
      "execution_count": null,
      "metadata": {
        "collapsed": false
      },
      "outputs": [],
      "source": [
        "def compute_polynomial_chaos_Q2(\n    polynomialchaos_result, g_function, input_distribution, n_valid=1000\n):\n    \"\"\"\n    Compute the Q2 score of the polynomial chaos. \n    \n\n    Parameters\n    ----------\n    polynomialChaosResult : ot.FunctionalChaosResult\n        The polynomial chaos expansion.\n    g_function : ot.Function\n        The function.\n    input_distribution : ot.Distribution\n        The input distribution.\n    n_valid : int\n        The number of simulations to compute the Q2 score.\n    \n    Returns\n    -------\n    Q2 : float\n        The Q2 score\n    \"\"\"\n    ot.RandomGenerator.SetSeed(1976)\n    metamodel = polynomialchaos_result.getMetaModel()\n    inputTest = input_distribution.getSample(n_valid)\n    outputTest = g_function(inputTest)\n    val = ot.MetaModelValidation(inputTest, outputTest, metamodel)\n    Q2 = val.computePredictivityFactor()[0]\n    return Q2"
      ]
    },
    {
      "cell_type": "markdown",
      "metadata": {},
      "source": [
        "The following function creates a validation plot using the `draw` method of the `MetaModelValidation` class.\n\n"
      ]
    },
    {
      "cell_type": "code",
      "execution_count": null,
      "metadata": {
        "collapsed": false
      },
      "outputs": [],
      "source": [
        "def draw_polynomial_chaos_validation(\n    polynomialchaos_result, g_function, input_distribution, n_valid=1000\n):\n    \"\"\"\n    Validate the polynomial chaos. \n    \n    Create the validation plot.\n    \n\n    Parameters\n    ----------\n    polynomialChaosResult : ot.FunctionalChaosResult\n        The polynomial chaos expansion.\n    g_function : ot.Function\n        The function.\n    input_distribution : ot.Distribution\n        The input distribution.\n    n_valid : int\n        The number of simulations to compute the Q2 score.\n    \n    Returns\n    -------\n    Q2 : float\n        The Q2 score\n    \"\"\"\n    metamodel = polynomialchaos_result.getMetaModel()\n    inputTest = input_distribution.getSample(n_valid)\n    outputTest = g_function(inputTest)\n    val = ot.MetaModelValidation(inputTest, outputTest, metamodel)\n    Q2 = val.computePredictivityFactor()[0]\n    graph = val.drawValidation()\n    graph.setTitle(\"Q2=%.2f%%\" % (Q2 * 100))\n    view = otv.View(graph, figure_kw={\"figsize\": (5.0, 4.0)})\n    return view"
      ]
    },
    {
      "cell_type": "markdown",
      "metadata": {},
      "source": [
        "We consider the Ishigami model which has three inputs uniform in the $[-\\pi, \\pi]$ interval. This is an interesting example for our purpose because it is highly non linear, so that a high polynomial degree will be required in order to produce a polynomial chaos expansion with Q2 score sufficiently close to 1.\n\n"
      ]
    },
    {
      "cell_type": "code",
      "execution_count": null,
      "metadata": {
        "collapsed": false
      },
      "outputs": [],
      "source": [
        "im = ishigami_function.IshigamiModel()\n\nim.distributionX.setDescription([\"`X_0`\", \"`X_1`\", \"`X_2`\"])\nim.model.setOutputDescription([\"`Y`\"])\nprint(im.distributionX)"
      ]
    },
    {
      "cell_type": "markdown",
      "metadata": {},
      "source": [
        "Then we create the multivariate basis onto which the function is expanded. By default, it is associated with the linear enumeration rule. Since our marginals are uniform, the `OrthogonalProductPolynomialFactory` class produce Legendre polynomials.\nIn order to create the multivariate basis of polynomials, we must specify the number of functions in the basis. In this particular case, we compute that number depending on the total degree. The `getMaximumDegreeStrataIndex` method of the enumeration function computes the number of layers necessary to achieve that total degree. Then the number of functions up to that layer is computed with the `getStrataCumulatedCardinal` method.\n\n"
      ]
    },
    {
      "cell_type": "code",
      "execution_count": null,
      "metadata": {
        "collapsed": false
      },
      "outputs": [],
      "source": [
        "dimension = im.distributionX.getDimension()\nmultivariateBasis = ot.OrthogonalProductPolynomialFactory(\n    [im.distributionX.getMarginal(i) for i in range(dimension)]\n)\n\ntotalDegree = 5  # Polynomial degree\nenumerate_function = multivariateBasis.getEnumerateFunction()\nstrataIndex = enumerate_function.getMaximumDegreeStrataIndex(totalDegree)\nprint(\"strataIndex = \", strataIndex)\nnumber_of_terms_in_basis = enumerate_function.getStrataCumulatedCardinal(strataIndex)\nprint(\"number_of_terms_in_basis = \", number_of_terms_in_basis)\nadaptiveStrategy = ot.FixedStrategy(multivariateBasis, number_of_terms_in_basis)\nprint(adaptiveStrategy)"
      ]
    },
    {
      "cell_type": "markdown",
      "metadata": {},
      "source": [
        "We compute the coefficients using a multivariate tensor product Gaussian quadrature rule. Since the coefficients are computed in the standardized space, we first use the `getMeasure` method of the multivariate basis in order to get that standardized distribution. Then we use the `GaussProductExperiment` class to create the quadrature, using 6 nodes on each of the dimensions.\n\n"
      ]
    },
    {
      "cell_type": "code",
      "execution_count": null,
      "metadata": {
        "collapsed": false
      },
      "outputs": [],
      "source": [
        "standard_distribution = multivariateBasis.getMeasure()\nprint(standard_distribution)\n\nmarginal_number_of_nodes = 6\ndim_input = im.model.getInputDimension()\nmarginalDegrees = [marginal_number_of_nodes] * dim_input\nexperiment = ot.GaussProductExperiment(standard_distribution, marginalDegrees)\nprint(\"Sample size = \", experiment.generate().getSize())"
      ]
    },
    {
      "cell_type": "markdown",
      "metadata": {},
      "source": [
        "We see that 216 nodes are involved in this quadrature rule, which is the result of $6^3 = 216$.\n\nIn the next cell, we compute the coefficients of the polynomial chaos expansion using integration.\n\n"
      ]
    },
    {
      "cell_type": "code",
      "execution_count": null,
      "metadata": {
        "collapsed": false
      },
      "outputs": [],
      "source": [
        "projectionStrategy = ot.IntegrationStrategy(experiment)\nchaosalgo = ot.FunctionalChaosAlgorithm(\n    im.model, im.distributionX, adaptiveStrategy, projectionStrategy\n)\nchaosalgo.run()\nresult = chaosalgo.getResult()"
      ]
    },
    {
      "cell_type": "markdown",
      "metadata": {},
      "source": [
        "We now validate the metamodel by drawing the validation graph. We see that many points are close to the red test line, which indicates that the predictions of the polynomial chaos expansion are close to the output observations from the model.\n\n"
      ]
    },
    {
      "cell_type": "code",
      "execution_count": null,
      "metadata": {
        "collapsed": false
      },
      "outputs": [],
      "source": [
        "view = draw_polynomial_chaos_validation(result, im.model, im.distributionX)"
      ]
    },
    {
      "cell_type": "markdown",
      "metadata": {},
      "source": [
        "In order to have a closer look on the result, we use the `printCoefficientsTable` function in order to print the first 10 coefficients.\n\n"
      ]
    },
    {
      "cell_type": "code",
      "execution_count": null,
      "metadata": {
        "collapsed": false
      },
      "outputs": [],
      "source": [
        "printCoefficientsTable(result)"
      ]
    },
    {
      "cell_type": "markdown",
      "metadata": {},
      "source": [
        "We see that there are 56 coefficients in the metamodel and that many of these coefficients are close to zero.\n\nIf we print only coefficients greater than $10^{-14}$, we see that only a fraction of them are significant and that these significant coefficients have a relatively large polynomial degree.\n\n"
      ]
    },
    {
      "cell_type": "code",
      "execution_count": null,
      "metadata": {
        "collapsed": false
      },
      "outputs": [],
      "source": [
        "printCoefficientsTable(result, threshold=1.0e-14)"
      ]
    },
    {
      "cell_type": "markdown",
      "metadata": {},
      "source": [
        "The previous experiments suggest to keep only the coefficients which are significant in the model: this is the topic of the next section.\n\n"
      ]
    },
    {
      "cell_type": "markdown",
      "metadata": {},
      "source": [
        "## Use a model selection method\n\n"
      ]
    },
    {
      "cell_type": "markdown",
      "metadata": {},
      "source": [
        "The `CleaningStrategy` has the following algorithm. On input, it considers only the first `maximumConsideredTerms` coefficients $a_{\\boldsymbol{\\alpha}}$. On output it selects the `mostSignificant` most significant coefficients. To do this, it uses the `significanceFactor` parameter.\n\nThe following function will help to create a sparse PCE using the `CleaningStrategy`. It takes into account the number of considered coefficients in the expansion, the number of significant coefficients to keep and the relative factor and returns the Q2 score.\n\n"
      ]
    },
    {
      "cell_type": "code",
      "execution_count": null,
      "metadata": {
        "collapsed": false
      },
      "outputs": [],
      "source": [
        "def compute_cleaning_PCE(\n    maximumConsideredTerms, mostSignificant, significanceFactor, verbose=False\n):\n    \"\"\"\n    Compute a PCE using CleaningStrategy.\n    \n    Parameters\n    ----------\n    maximumConsideredTerms : int\n        The maximum number of coefficients considered by the algorithm during \n        intermediate steps.\n        \n    mostSignificant : int\n        The maximum number of coefficients selected by the algorithm in \n        the final PCE.\n\n    significanceFactor : float\n        The relative part of any coefficient with respect to the maximum \n        coefficient.\n\n    verbose : bool\n        If set to True, print intermediate messages.\n    \n    Returns\n    -------\n    Q2 : float\n        The Q2 score\n    \"\"\"\n    adaptiveStrategy = ot.CleaningStrategy(\n        multivariateBasis,\n        maximumConsideredTerms,\n        mostSignificant,\n        significanceFactor,\n        True,\n    )\n    chaosalgo = ot.FunctionalChaosAlgorithm(\n        im.model, im.distributionX, adaptiveStrategy, projectionStrategy\n    )\n    chaosalgo.run()\n    result = chaosalgo.getResult()\n    score_Q2 = compute_polynomial_chaos_Q2(result, im.model, im.distributionX)\n    if verbose:\n        print(\"Q2 = %.2f%%\" % (100.0 * score_Q2))\n        printCoefficientsTable(result)\n    return score_Q2"
      ]
    },
    {
      "cell_type": "markdown",
      "metadata": {},
      "source": [
        "In the next cell, we consider at most 500 coefficients and keep only the 5 most significant coefficients. The factor is set to a relatively low value.\n\n"
      ]
    },
    {
      "cell_type": "code",
      "execution_count": null,
      "metadata": {
        "collapsed": false
      },
      "outputs": [],
      "source": [
        "maximumConsideredTerms = 500\nmostSignificant = 5\nsignificanceFactor = 1.0e-10\nscore_Q2 = compute_cleaning_PCE(\n    maximumConsideredTerms, mostSignificant, significanceFactor, verbose=True\n)"
      ]
    },
    {
      "cell_type": "markdown",
      "metadata": {},
      "source": [
        "We see that when we keep only 5 coefficients among the first 500 ones, these coefficient have a very high polynomial degree. Indeed, it occurs that these poorly estimated coefficients have a high absolute value. Hence, the criteria selects them as significant coefficients, which leads to a poor metamodel\n\nLet us reduce the number of considered coefficients and increase the number of selected coefficients.\n\n"
      ]
    },
    {
      "cell_type": "code",
      "execution_count": null,
      "metadata": {
        "collapsed": false
      },
      "outputs": [],
      "source": [
        "maximumConsideredTerms = 56\nmostSignificant = 10\nsignificanceFactor = 1.0e-10\nscore_Q2 = compute_cleaning_PCE(\n    maximumConsideredTerms, mostSignificant, significanceFactor, verbose=True\n)"
      ]
    },
    {
      "cell_type": "markdown",
      "metadata": {},
      "source": [
        "When we keep only 10 coefficients among the first 56 ones, the polynomial chaos metamodel is much better: the coefficients are associated with a low polynomial degree, so that the quadrature rule estimates them with greater accuracy.\n\nWe would like to know which combination is best. In the following loop, we consider the maximum number of considered coefficients from 1 to 500 and the number of selected coefficients from 1 to 30. In order to produce the combinations, we use the `product` function from the `itertools` module. For each combination, we compute the $Q^2$ score and select the combination with highest $Q^2$ coefficient. As shown in [Muller2016]_ page 268, the computed $Q^2$ may be optimistic, but this is not the point of the current example.\n\n"
      ]
    },
    {
      "cell_type": "code",
      "execution_count": null,
      "metadata": {
        "collapsed": false
      },
      "outputs": [],
      "source": [
        "maximumConsideredTerms_list = list(range(1, 500, 50))  \nmostSignificant_list = list(range(1, 30, 5))  \niterator = itertools.product(maximumConsideredTerms_list, mostSignificant_list)\nbest_score = 0.0\nbest_parameters = []\nfor it in iterator:\n    maximumConsideredTerms, mostSignificant = it\n    score_Q2 = compute_cleaning_PCE(\n        maximumConsideredTerms, mostSignificant, significanceFactor\n    )\n    if score_Q2 > best_score:\n        best_score = score_Q2\n        best_parameters = [maximumConsideredTerms, mostSignificant]\n\nprint(\"Best Q2 = %.2f%%\" % (100.0 * best_score))\n\nmaximumConsideredTerms, mostSignificant = best_parameters\nprint(\"Number of considered coefficients : \", maximumConsideredTerms)\nprint(\"Number of selected coefficients : \", mostSignificant)"
      ]
    },
    {
      "cell_type": "markdown",
      "metadata": {},
      "source": [
        "We see that the best solution could be to select at most 16 significant coefficients among the first 101 ones. Let us see the Q2 score and the coefficients in this situation. \n\n"
      ]
    },
    {
      "cell_type": "code",
      "execution_count": null,
      "metadata": {
        "collapsed": false
      },
      "outputs": [],
      "source": [
        "score_Q2 = compute_cleaning_PCE(\n    maximumConsideredTerms, mostSignificant, significanceFactor, verbose=True\n)"
      ]
    },
    {
      "cell_type": "markdown",
      "metadata": {},
      "source": [
        "These parameters lead to a total number of coefficients equal to 12. Among the 16 most significant coefficients, only 12 satisfy the criteria. Most of the coefficients have a small polynomial degree although some have a total degree equal as large as 7.\n\n"
      ]
    },
    {
      "cell_type": "markdown",
      "metadata": {},
      "source": [
        "## Intermediate steps of the algorithm\n\nIf we set the `verbose` optional input argument of the `compute_cleaning_PCE` function to `True`, then intermediate messages are printed in the Terminal (but not in the Jupyter output). For each step of the adaptivity algorithm, the code prints some of the internal parameters of the algorithm. The datastructure uses several variables that we now describe. \n\n- `Psi_k_p_` : the collection of functions in the current active polynomial multiindex set,\n- `I_p_` : the list of indices of the selected coefficients based according to the enumeration rule,\n- `addedPsi_k_ranks_` : the list of indices to add the multiindex set,\n- `removedPsi_k_ranks_` : the list of indices to remove to the multiindex set,\n- `conservedPsi_k_ranks_` : the index of the first polynomial in the selected multiindex set,\n- `currentVectorIndex_` : the current value of the index in the full multiindex set, according to the enumeration rule.\n\nEach time the selection method is called, it is passed a coefficient $a_{\\boldsymbol{\\alpha}}$ which is a new candidate to be considered by the algorithm. The first time the method is evaluated, the active multiindex set is empty, so that it must be filled with the first coefficients in the multiindex set, according to the enumeration rule. The second time (and up to the end of the algorithm), the candidate coefficient is considered to be added to the multiindex set.\n\nExecuting the function prints messages that we can process to produce the following listing. On each step, we print the list of integers corresponding to the indices of the coefficients in the active multiindex set.\n\n"
      ]
    },
    {
      "cell_type": "markdown",
      "metadata": {},
      "source": [
        ".. code-block::\n\n   Step 1:  [0, 1, 7, 10, 15, 16]\n   Step 2:  [0, 1, 7, 10, 15, 17]\n   Step 3:  [0, 1, 7, 10, 15, 18]\n   Step 4:  [0, 1, 7, 10, 15, 19]\n   Step 5:  [0, 1, 7, 10, 15, 20]\n   Step 6:  [0, 1, 7, 10, 15, 21]\n   Step 7:  [0, 1, 7, 10, 15, 22]\n   Step 8:  [0, 1, 7, 10, 15, 23]\n   Step 9:  [0, 1, 7, 10, 15, 24]\n   Step 10: [0, 1, 7, 10, 15, 25]\n   [...]\n   Step 15: [0, 1, 7, 10, 15, 30]\n   Step 16: [0, 1, 7, 10, 15, 30, 31]\n   [...]\n   Step 20: [0, 1, 7, 10, 15, 30, 35]\n   Step 21: [0, 1, 7, 10, 15, 30, 35, 36]\n   [...]\n   Step 25: [0, 1, 7, 10, 15, 30, 35, 40]\n   Step 26: [0, 1, 7, 10, 15, 30, 35, 40, 41]\n   [...]\n   Step 34: [0, 1, 7, 10, 15, 30, 35, 40, 49]\n   Step 35: [0, 1, 7, 10, 15, 30, 35, 40, 49, 50]\n   [...]\n   Step 69: [0, 1, 7, 10, 15, 30, 35, 40, 49, 84]\n   Step 70: [0, 1, 7, 10, 15, 30, 35, 40, 49, 84, 85]\n   [...]\n   Step 74: [0, 1, 7, 10, 15, 30, 35, 40, 49, 84, 89]\n   Step 75: [0, 1, 7, 10, 15, 30, 35, 40, 49, 84, 89, 90]\n   [...]\n   Step 83: [0, 1, 7, 10, 15, 30, 35, 40, 49, 84, 89, 98]\n   Step 84: [0, 1, 7, 10, 15, 30, 35, 40, 49, 84, 89, 98, 99]\n   Step 85: [0, 1, 7, 10, 15, 30, 35, 40, 49, 84, 89, 98, 100]\n   Step 86: [0, 1, 7, 10, 15, 30, 35, 40, 49, 84, 89, 98]\n   Step 87: [0, 1, 7, 10, 15, 30, 35, 40, 49, 84, 89, 98]\n\n"
      ]
    },
    {
      "cell_type": "markdown",
      "metadata": {},
      "source": [
        "The previous text (and a detailed analysis of the output file) allows to understand what exactly happens in the algorithm. To understand each step, note that the significant threshold is equal to $\\epsilon = 10^{-10}$.\n\n- During the initialization, the initial basis is empty and filled with the indices [0, 1, 2, 3, 4, 5, 6, 7, 8, 9, 10, 11, 12, 13, 14, 15]. The greatest coefficient in absolute value is $a_0 = 3.505$, which leads to the threshold $\\epsilon |a_0| = 3.505 \\times 10^{-10}$. Most of the considered coefficient are, however, too close to zero. This is why only the coefficients [0, 1, 7, 10, 15] are kept in the basis. The corresponding coefficients are [3.505, 1.625,-0.6414, -1.291, 1.372].\n- On step 1, the candidate index 16 is considered. Its coefficient is $a_{16} = -1.197 \\times 10^{-15}$, which is much too low to be selected. Hence, the basis is unchanged and the active multiindex set is [0, 1, 7, 10, 15] on the end of this step.\n- From the step 3 to the step 15, the active multiindex set is unchanged, because no considered coefficient becomes greater than the threshold.\n- On step 16, the candidate index 30 is considered, with corresponding coefficient $a_{30} = -1.612$. Since this coefficient has an absolute value greater than the threshold, it gets selected and the active multiindex set is [0, 1, 7, 10, 15, 30] on the end of this step. From this step to the end, the index 30 will not leave the active set. \n- On the step 20, the index 35 enters the active set. \n- On the step 25, the index 40 enters the active set. \n- On the step 34, the index 49 enters the active set. \n- On the step 69, the index 84 enters the active set. \n- On the step 74, the index 89 enters the active set. \n- On the step 83, the index 98 enters the active set. \n- On the last step, the active multiindex set contains the indices [0, 1, 7, 10, 15, 30, 35, 40, 49, 84, 89, 98] and the corresponding coefficients are [3.508, 1.625, -0.6414, -1.291, 1.372, -1.613, 0.2076, -1.090, 0.4092, -0.2078, 0.1753, -0.3250].\n\nWe see that the algorithm was able so select 12 coefficients in the first 101 coefficients considered by the algorithm. It could have selected more coefficients since we provided 16 slots to fill thanks to the `mostSignificant` parameter. The considered coefficients were, however, too close to zero and were below the threshold.\n\n"
      ]
    },
    {
      "cell_type": "markdown",
      "metadata": {},
      "source": [
        "## Conclusion\n\nWe see that the `~openturns.CleaningStrategy` class performs correctly in this particular case. We have seen how to select the hyperparameters which produce the best Q2 score. \n\n"
      ]
    }
  ],
  "metadata": {
    "kernelspec": {
      "display_name": "Python 3",
      "language": "python",
      "name": "python3"
    },
    "language_info": {
      "codemirror_mode": {
        "name": "ipython",
        "version": 3
      },
      "file_extension": ".py",
      "mimetype": "text/x-python",
      "name": "python",
      "nbconvert_exporter": "python",
      "pygments_lexer": "ipython3",
      "version": "3.10.4"
    }
  },
  "nbformat": 4,
  "nbformat_minor": 0
}