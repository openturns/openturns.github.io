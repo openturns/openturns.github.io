{
  "cells": [
    {
      "cell_type": "markdown",
      "metadata": {},
      "source": [
        "\n# Estimate a GEV on the Venice sea levels data\n"
      ]
    },
    {
      "cell_type": "markdown",
      "metadata": {},
      "source": [
        "In this example we are going to estimate the parameters of a generalized extreme value distribution\non the Venice sea levels data from [coles2001]_ with different methods:\n\n- the maximum likelihood estimation\n- the profile likelihood estimation\n- the estimation of return level from both maximum likelihood and profile likelihood\n- the R maxima estimator (see [coles2001]_ paragraph 3.5.3)\n\n"
      ]
    },
    {
      "cell_type": "markdown",
      "metadata": {},
      "source": [
        "Load the Venice dataset of 10 highest sea levels per year\n\n"
      ]
    },
    {
      "cell_type": "code",
      "execution_count": null,
      "metadata": {
        "collapsed": false
      },
      "outputs": [],
      "source": [
        "import openturns as ot\nimport openturns.viewer as otv\nimport openturns.experimental as otexp\nfrom openturns.usecases import coles\ndata = coles.Coles().venice\nprint(data[:5])"
      ]
    },
    {
      "cell_type": "markdown",
      "metadata": {},
      "source": [
        "Plot the 10 largest sea levels per year\n\n"
      ]
    },
    {
      "cell_type": "code",
      "execution_count": null,
      "metadata": {
        "collapsed": false
      },
      "outputs": [],
      "source": [
        "graph = ot.Graph('Venice sea level', 'year', 'Sea level (cm)', True, '')\nfor r in range(10):\n    cloud = ot.Cloud(data[:, [0, 1 + r]])\n    graph.add(cloud)\ngraph.setIntegerXTick(True)\nview = otv.View(graph)"
      ]
    },
    {
      "cell_type": "markdown",
      "metadata": {},
      "source": [
        "First work on the first column after the year column to retain only one max value per year\n\n"
      ]
    },
    {
      "cell_type": "code",
      "execution_count": null,
      "metadata": {
        "collapsed": false
      },
      "outputs": [],
      "source": [
        "sample = data[:, 1]"
      ]
    },
    {
      "cell_type": "markdown",
      "metadata": {},
      "source": [
        "Estimate the parameters of the GEV by maximizing the log-likehood\nand compute the parameter distribution\n\n"
      ]
    },
    {
      "cell_type": "code",
      "execution_count": null,
      "metadata": {
        "collapsed": false
      },
      "outputs": [],
      "source": [
        "factory = ot.GeneralizedExtremeValueFactory()\nresult1 = factory.buildMethodOfLikelihoodMaximizationEstimator(sample)"
      ]
    },
    {
      "cell_type": "markdown",
      "metadata": {},
      "source": [
        "Print the estimated parameter values\n\n"
      ]
    },
    {
      "cell_type": "code",
      "execution_count": null,
      "metadata": {
        "collapsed": false
      },
      "outputs": [],
      "source": [
        "estimate = result1.getDistribution()\ndesc = estimate.getParameterDescription()\np = estimate.getParameter()\nprint(\", \".join([f\"{param}: {value:.3f}\" for param, value in zip(desc, p)]))"
      ]
    },
    {
      "cell_type": "markdown",
      "metadata": {},
      "source": [
        "Inspect the estimated Gaussian parameter distribution\n\n"
      ]
    },
    {
      "cell_type": "code",
      "execution_count": null,
      "metadata": {
        "collapsed": false
      },
      "outputs": [],
      "source": [
        "parameterEstimate = result1.getParameterDistribution()\nprint(parameterEstimate)"
      ]
    },
    {
      "cell_type": "markdown",
      "metadata": {},
      "source": [
        "Inspect the covariance matrix\n\n"
      ]
    },
    {
      "cell_type": "code",
      "execution_count": null,
      "metadata": {
        "collapsed": false
      },
      "outputs": [],
      "source": [
        "V = parameterEstimate.getCovariance()\nprint(V)"
      ]
    },
    {
      "cell_type": "markdown",
      "metadata": {},
      "source": [
        "Inspect the standard deviation\n\n"
      ]
    },
    {
      "cell_type": "code",
      "execution_count": null,
      "metadata": {
        "collapsed": false
      },
      "outputs": [],
      "source": [
        "stddev = parameterEstimate.getStandardDeviation()\nprint(stddev)"
      ]
    },
    {
      "cell_type": "markdown",
      "metadata": {},
      "source": [
        "Extract parameters confidence intervals\n\n"
      ]
    },
    {
      "cell_type": "code",
      "execution_count": null,
      "metadata": {
        "collapsed": false
      },
      "outputs": [],
      "source": [
        "for i in range(3):\n    ci = parameterEstimate.getMarginal(i).computeBilateralConfidenceInterval(0.95)\n    print(desc[i] + \":\", ci)"
      ]
    },
    {
      "cell_type": "markdown",
      "metadata": {},
      "source": [
        "Validate the inference result thanks to some diagnostic plots\n\n"
      ]
    },
    {
      "cell_type": "code",
      "execution_count": null,
      "metadata": {
        "collapsed": false
      },
      "outputs": [],
      "source": [
        "validation = otexp.GeneralizedExtremeValueValidation(result1, sample)\ngraph = validation.drawDiagnosticPlot()\nview = otv.View(graph)"
      ]
    },
    {
      "cell_type": "markdown",
      "metadata": {},
      "source": [
        "Now estimate the parameters with the profile likelihood\n\n"
      ]
    },
    {
      "cell_type": "code",
      "execution_count": null,
      "metadata": {
        "collapsed": false
      },
      "outputs": [],
      "source": [
        "result2 = factory.buildMethodOfProfileLikelihoodMaximizationEstimator(sample)"
      ]
    },
    {
      "cell_type": "markdown",
      "metadata": {},
      "source": [
        "We can see the confidence interval of $\\xi$ is a bit smaller with this method\n\n"
      ]
    },
    {
      "cell_type": "code",
      "execution_count": null,
      "metadata": {
        "collapsed": false
      },
      "outputs": [],
      "source": [
        "result2.setConfidenceLevel(0.95)\nprint(result2.getParameterConfidenceInterval())"
      ]
    },
    {
      "cell_type": "markdown",
      "metadata": {},
      "source": [
        "We can also plot the profile likelihood and the confidence interval\n\n"
      ]
    },
    {
      "cell_type": "code",
      "execution_count": null,
      "metadata": {
        "collapsed": false
      },
      "outputs": [],
      "source": [
        "view = otv.View(result2.drawProfileLikelihoodFunction())"
      ]
    },
    {
      "cell_type": "markdown",
      "metadata": {},
      "source": [
        "Estimate the 10 and 100 years return levels from the MLE estimator\n\n"
      ]
    },
    {
      "cell_type": "code",
      "execution_count": null,
      "metadata": {
        "collapsed": false
      },
      "outputs": [],
      "source": [
        "zm10 = factory.buildReturnLevelEstimator(result1, 10.0)\nreturn_level10 = zm10.getMean()\nprint(f\"10 years return level={return_level10}\")\nreturn_level_ci10 = zm10.computeBilateralConfidenceInterval(0.95)\nprint(f\"CI={return_level_ci10}\")\n\nzm100 = factory.buildReturnLevelEstimator(result1, 100.0)\nreturn_level100 = zm100.getMean()\nprint(f\"100 years return level={return_level100}\")\nreturn_level_ci100 = zm100.computeBilateralConfidenceInterval(0.95)\nprint(f\"CI={return_level_ci100}\")"
      ]
    },
    {
      "cell_type": "markdown",
      "metadata": {},
      "source": [
        "Now estimate the 10 years return level with profile likelihood\n\n"
      ]
    },
    {
      "cell_type": "code",
      "execution_count": null,
      "metadata": {
        "collapsed": false
      },
      "outputs": [],
      "source": [
        "result_rl10_prof = factory.buildReturnLevelProfileLikelihoodEstimator(sample, 10.0)\nzm = result_rl10_prof.getParameter()\nprint(f\"10 years return level (profile)={zm}\")"
      ]
    },
    {
      "cell_type": "markdown",
      "metadata": {},
      "source": [
        "We can see the confidence interval of $z_m$ is a bit smaller with this method\n\n"
      ]
    },
    {
      "cell_type": "code",
      "execution_count": null,
      "metadata": {
        "collapsed": false
      },
      "outputs": [],
      "source": [
        "result_rl10_prof.setConfidenceLevel(0.95)\nreturn_level_ci10 = result_rl10_prof.getParameterConfidenceInterval()\nprint(f\"CI={return_level_ci10}\")"
      ]
    },
    {
      "cell_type": "markdown",
      "metadata": {},
      "source": [
        "We can also plot the profile likelihood and the confidence interval\n\n"
      ]
    },
    {
      "cell_type": "code",
      "execution_count": null,
      "metadata": {
        "collapsed": false
      },
      "outputs": [],
      "source": [
        "view = otv.View(result_rl10_prof.drawProfileLikelihoodFunction())"
      ]
    },
    {
      "cell_type": "markdown",
      "metadata": {},
      "source": [
        "Now drop the year column to keep only the maxima values\n\n"
      ]
    },
    {
      "cell_type": "code",
      "execution_count": null,
      "metadata": {
        "collapsed": false
      },
      "outputs": [],
      "source": [
        "sample_rmax = data[:, 1:]\nprint(sample_rmax[:5])"
      ]
    },
    {
      "cell_type": "markdown",
      "metadata": {},
      "source": [
        "Estimate the parameters of the GEV from the r largest observations\nfor different values of r\n\n"
      ]
    },
    {
      "cell_type": "code",
      "execution_count": null,
      "metadata": {
        "collapsed": false
      },
      "outputs": [],
      "source": [
        "factory = ot.GeneralizedExtremeValueFactory()\nr_candidate = [1, 5, 10]\nfor r in r_candidate:\n    estimate = factory.buildRMaxima(sample_rmax, r)\n    desc = estimate.getParameterDescription()\n    p = estimate.getParameter()\n    pretty_p = \", \".join([f\"{param}: {value:.3f}\" for param, value in zip(desc, p)])\n    print(f\"r={r:2} {pretty_p}\")"
      ]
    },
    {
      "cell_type": "markdown",
      "metadata": {},
      "source": [
        "It is possible to retrieve the value of r which maximizes the likelihood\n\n"
      ]
    },
    {
      "cell_type": "code",
      "execution_count": null,
      "metadata": {
        "collapsed": false
      },
      "outputs": [],
      "source": [
        "best_r, llh = factory.buildBestRMaxima(sample_rmax, r_candidate)\nprint(best_r)"
      ]
    },
    {
      "cell_type": "markdown",
      "metadata": {},
      "source": [
        "We can also get the associated likelihood value\n\n"
      ]
    },
    {
      "cell_type": "code",
      "execution_count": null,
      "metadata": {
        "collapsed": false
      },
      "outputs": [],
      "source": [
        "for i in range(3):\n    print(f\"r={r_candidate[i]} likelihood={llh[i]}\")"
      ]
    },
    {
      "cell_type": "markdown",
      "metadata": {},
      "source": [
        "We can also get the associated parameter distribution\n\n"
      ]
    },
    {
      "cell_type": "code",
      "execution_count": null,
      "metadata": {
        "collapsed": false
      },
      "outputs": [],
      "source": [
        "result5 = factory.buildRMaximaEstimator(sample_rmax, 1)\nprint(result5.getParameterDistribution())"
      ]
    },
    {
      "cell_type": "code",
      "execution_count": null,
      "metadata": {
        "collapsed": false
      },
      "outputs": [],
      "source": [
        "otv.View.ShowAll()"
      ]
    }
  ],
  "metadata": {
    "kernelspec": {
      "display_name": "Python 3",
      "language": "python",
      "name": "python3"
    },
    "language_info": {
      "codemirror_mode": {
        "name": "ipython",
        "version": 3
      },
      "file_extension": ".py",
      "mimetype": "text/x-python",
      "name": "python",
      "nbconvert_exporter": "python",
      "pygments_lexer": "ipython3",
      "version": "3.11.3"
    }
  },
  "nbformat": 4,
  "nbformat_minor": 0
}