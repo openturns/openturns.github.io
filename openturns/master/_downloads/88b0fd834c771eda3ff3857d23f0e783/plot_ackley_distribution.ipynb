{
  "cells": [
    {
      "cell_type": "markdown",
      "metadata": {},
      "source": [
        "\n# Customize your Metropolis-Hastings algorithm\n\nThis simple example shows how you can build your own variant\nof the Metropolis-Hastings algorithm.\n"
      ]
    },
    {
      "cell_type": "markdown",
      "metadata": {},
      "source": [
        "We want to sample from the distribution with support $[-3, 3]^2$\nwhose PDF $f$ is proportional to the Ackley function to the tenth power:\n\n\\begin{align}\\forall \\vect{x} \\in [-3, 3]^2 \\quad f(\\vect{x}) \\propto a(\\vect{x})^{10},\\end{align}\n\nwhere $a$ is the Ackey function defined in `use-case-ackley` page.\nIn the following we call it the \"Ackley distribution\".\n\n"
      ]
    },
    {
      "cell_type": "code",
      "execution_count": null,
      "metadata": {
        "collapsed": false
      },
      "outputs": [],
      "source": [
        "import openturns as ot\nimport openturns.experimental as otexp\nfrom openturns.viewer import View\nfrom openturns.usecases import ackley_function\nfrom numpy import exp, format_float_scientific\n\not.RandomGenerator.SetSeed(100)"
      ]
    },
    {
      "cell_type": "markdown",
      "metadata": {},
      "source": [
        "## Prepare the Metropolis-Hastings algorithm\nDefine the Ackley distribution support and density (up to a constant factor).\n\n"
      ]
    },
    {
      "cell_type": "code",
      "execution_count": null,
      "metadata": {
        "collapsed": false
      },
      "outputs": [],
      "source": [
        "am = ackley_function.AckleyModel()\nackley = am.model\npower10 = ot.SymbolicFunction(\"x\", \"x^10\")\nackley_pdf = ot.ComposedFunction(power10, ackley)\nlogarithm = ot.SymbolicFunction(\"x\", \"10 * log(x)\")\nackley_logpdf = ot.ComposedFunction(logarithm, ackley)\nlb = -3.0\nub = 3.0\nsupport = ot.Interval([lb] * 2, [ub] * 2)"
      ]
    },
    {
      "cell_type": "markdown",
      "metadata": {},
      "source": [
        "Define the proposal distribution as a :class:`~openturns.Histogram`.\nIts ticks (on the X axis of the PDF of the histogram) will remain the same,\nbut its frequencies (on the Y axis) will be updated\nduring the course of the Metropolis-Hastings algorithm.\n\n"
      ]
    },
    {
      "cell_type": "code",
      "execution_count": null,
      "metadata": {
        "collapsed": false
      },
      "outputs": [],
      "source": [
        "n_bins = 50\nmyticks = ot.RegularGrid(lb, (ub - lb) / n_bins, n_bins + 1).getValues()\nfrequencies = [1.0] * (myticks.getSize() - 1)\nproposal = ot.Histogram(myticks, frequencies)"
      ]
    },
    {
      "cell_type": "markdown",
      "metadata": {},
      "source": [
        "The state of the Markov chain must be converted to an acceptable set\nof parameters for the :class:`~openturns.Histogram` distribution.\nThis is the job of the *link function*,\nwhich we construct with the :class:`~openturns.OpenTURNSPythonFunction` class.\nIt takes a state as input and outputs the parameters (ticks and frequencies)\nof the proposal distribution.\nIn our case, the ticks will not depend on the inputs,\nbut the frequencies will be outputs of the Ackley function.\n\n"
      ]
    },
    {
      "cell_type": "code",
      "execution_count": null,
      "metadata": {
        "collapsed": false
      },
      "outputs": [],
      "source": [
        "parameter_dim = proposal.getParameter().getSize()\nparameter_desc = proposal.getParameterDescription()\n\n\nclass ConditionalAckley(ot.OpenTURNSPythonFunction):\n    \"\"\"\n    When executed, this function returns the parameters of a Histogram\n    which approximates the conditional Ackley distribution obtained\n    when one of the 2 coordinates is fixed.\n    To compute the frequencies of the Histogram,\n    this OpenTURNSPythonFunction computes the values of the Ackley function\n    on a regular grid on the line parallel to\n    either the (1, 0) vector (if the second coordinate is fixed)\n    or the (0, 1) vector (if the first coordinate is fixed)\n    containing the point passed as input.\n    The regular grid covers the part of this line which is contained in\n    the support of the Ackley distribution, implicitly defined as the\n    smallest square that contains the cartesian product of the regular grid\n    with itself. For example, if the regular grid covers the interval [-3, 3],\n    then the support is the square [-3, 3] x [-3, 3].\n\n    Parameters\n    ----------\n    marginal : int\n        The marginal whose value is *not* fixed.\n        If 0, then the line of the regular grid is parallel to the (1, 0) vector.\n        If 1, then the line of the regular grid is parallel to the (0, 1) vector.\n    ticks : RegularGrid\n        Ticks of the Histogram distribution.\n\n    \"\"\"\n\n    def __init__(self, marginal, ticks):\n        super().__init__(2, parameter_dim)\n        self.setInputDescription([\"X0\", \"X1\"])  # input: X0 and X1 coordinates\n        self.setOutputDescription(parameter_desc)  # output: parameters of the Histogram\n        self._marginal = marginal  # parameter which does not vary after initialization\n        offset = (ticks[1] - ticks[0]) / 2\n        self._marginal_inputs = ot.Sample.BuildFromPoint(ticks)[0:-1] + offset\n        # _marginal_inputs contains the varying coordinate of the points in the regular grid\n        self._size = self._marginal_inputs.getSize()\n        self._ticks = ticks\n\n    def _exec(self, X):\n        \"\"\"\n        Execute the function on a point X = (X0, X1).\n\n        Parameters\n        ----------\n        X : list of 2 floats\n            Point through which the line containing the regular grid passes.\n\n        Returns\n        -------\n        parameters : :class:`~openturns.Point`\n            Parameters of the :class:`~openturns.Histogram`.\n\n        \"\"\"\n        inputs = ot.Sample(self._size, X)  # sample of inputs for the Ackley function\n        # All input points are initialized at the point X passed as argument.\n\n        # Replace the varying coordinate with the values of the regular grid.\n        inputs[:, self._marginal] = self._marginal_inputs\n\n        # Compute the Ackley function on these inputs.\n        outputs = exp(ackley_logpdf(inputs).asPoint())\n\n        # The outputs are the unnormalized frequencies of the Histogram\n        # proposal distribution, but the Histogram.setParameter() method\n        # expects a full set of parameters.\n        # The easiest way to provide it is to construct a new Histogram object\n        # with the adequate frequencies and call its getParameter() method.\n        return ot.Histogram(self._ticks, outputs).getParameter()"
      ]
    },
    {
      "cell_type": "markdown",
      "metadata": {},
      "source": [
        "The 2 components of the state of the Markov chain will be updated\none after the other, not simultaneously.\nWe define 2 :class:`~openturns.experimental.UserDefinedMetropolisHastings` algorithms\nencapsulated within a :class:`~openturns.Gibbs` algorithm,\nso we need 2 link functions, each corresponding to one of the marginals\nof the Ackley distribution.\n\nNote that thanks to the :class:`~openturns.OpenTURNSPythonFunction` class,\nwe were able to only code one template to be used by two different functions\ninstead of directly coding two functions with the :class:`~openturns.PythonFunction` class.\n\n"
      ]
    },
    {
      "cell_type": "code",
      "execution_count": null,
      "metadata": {
        "collapsed": false
      },
      "outputs": [],
      "source": [
        "link_function_0 = ot.Function(ConditionalAckley(0, myticks))\nlink_function_1 = ot.Function(ConditionalAckley(1, myticks))"
      ]
    },
    {
      "cell_type": "markdown",
      "metadata": {},
      "source": [
        "Let us illustrate the first of these functions.\nWe can start by evaluating it at $(0.5, 1.5)$.\nLet $(X_0, X_1)$ be a bidimensional random variable\nfollowing the Ackley distribution.\nThe output is the set of parameters for a :class:`~openturns.Histogram`\ndistribution that approximates the distribution of $X_0$\nconditional on $X_1 = 1.5$.\nLet us update the Histogram we created before with this set of parameters.\n\n"
      ]
    },
    {
      "cell_type": "code",
      "execution_count": null,
      "metadata": {
        "collapsed": false
      },
      "outputs": [],
      "source": [
        "par = link_function_0([0.5, 1.5])\nproposal.setParameter(par)\nprint(par)"
      ]
    },
    {
      "cell_type": "markdown",
      "metadata": {},
      "source": [
        "The `link_function_0` function computes histogram frequencies proportional\nto the values of the unnormalized Ackley distribution PDF\nalong the $X_1 = 1.5$ line.\n\n"
      ]
    },
    {
      "cell_type": "code",
      "execution_count": null,
      "metadata": {
        "collapsed": false
      },
      "outputs": [],
      "source": [
        "title = \"Ackley PDF (up to a constant factor) and $X_1 = 1.5$ cross-section\"\ngraph = ot.Graph(title, \"$X_0$\", \"$X_1$\", True)\nline = ot.Curve([[-3, 1.5], [3, 1.5]], \"black\", \"dashed\", 2)\ngraph.add(line)\ngraph.setLegendPosition(\"topright\")\ncontour = ackley_pdf.draw([lb] * 2, [ub] * 2)\nreversed_colors = [color for color in reversed(contour.getColors())]\ncontour.setColors(reversed_colors)\nlegends = contour.getLegends()\nlegends = [format_float_scientific(float(v), precision=1) for v in legends[:-1]]\ncontour.setLegends(legends)\ngraph.add(contour)\nview = View(graph, legend_kw={\"bbox_to_anchor\": (1, 1), \"loc\": \"upper left\"})\nview.getFigure().tight_layout()"
      ]
    },
    {
      "cell_type": "markdown",
      "metadata": {},
      "source": [
        "Let us compare the histogram to the unnormalized PDF\n(we still need to rescale it to make it appear properly on the graph).\n\n"
      ]
    },
    {
      "cell_type": "code",
      "execution_count": null,
      "metadata": {
        "collapsed": false
      },
      "outputs": [],
      "source": [
        "scaling = ot.SymbolicFunction(\"x\", \"1.3e-10 * x\")\nscaled_ackley_pdf = ot.ComposedFunction(scaling, ackley_pdf)\ngraph = proposal.drawPDF()\ngraph.setXTitle(\"\")\ngraph.add(scaled_ackley_pdf.draw(0, 0, [0.0, 1.5], -3.0, 3.0, 100))\ngraph.setLegends([\"Histogram PDF\", \"Rescaled unnormalized PDF\"])\ngraph.setLegendPosition(\"top\")\ngraph.setTitle(\"Conditional distribution of $X_0$ given $X_1 = 1.5$\")\n_ = View(graph)"
      ]
    },
    {
      "cell_type": "markdown",
      "metadata": {},
      "source": [
        "Let us now do the same think with `link_function_1`.\nThis time, the relevant cross-section is along the line $X_1 = 0.5$.\n\n"
      ]
    },
    {
      "cell_type": "code",
      "execution_count": null,
      "metadata": {
        "collapsed": false
      },
      "outputs": [],
      "source": [
        "par = link_function_1([0.5, 1.5])\nproposal.setParameter(par)\nprint(par)\n\ntitle = \"Ackley PDF (up to a constant factor) and $X_0 = 0.5$ cross-section\"\ngraph = ot.Graph(title, \"$X_0$\", \"$X_1$\", True)\nline = ot.Curve([[0.5, -3], [0.5, 3]], \"black\", \"dashed\", 2)\ngraph.add(line)\ngraph.setLegendPosition(\"topright\")\ncontour = ackley_pdf.draw([lb] * 2, [ub] * 2)\nreversed_colors = [color for color in reversed(contour.getColors())]\ncontour.setColors(reversed_colors)\nlegends = contour.getLegends()\nlegends = [format_float_scientific(float(v), precision=1) for v in legends[:-1]]\ncontour.setLegends(legends)\ngraph.add(contour)\nview = View(graph, legend_kw={\"bbox_to_anchor\": (1, 1), \"loc\": \"upper left\"})\nview.getFigure().tight_layout()\n\nscaling = ot.SymbolicFunction(\"x\", \"3.1e-10 * x\")\nscaled_ackley_pdf = ot.ComposedFunction(scaling, ackley_pdf)\ngraph = proposal.drawPDF()\ngraph.setXTitle(\"\")\ngraph.add(scaled_ackley_pdf.draw(1, 0, [0.5, 0.0], -3.0, 3.0, 100))\ngraph.setLegends([\"Histogram PDF\", \"Rescaled unnormalized PDF\"])\ngraph.setLegendPosition(\"top\")\ngraph.setTitle(\"Conditional distribution of $X_1$ given $X_0 = 0.5$\")\n_ = View(graph)"
      ]
    },
    {
      "cell_type": "markdown",
      "metadata": {},
      "source": [
        "We now choose the initial state of the Markov chain.\n\n"
      ]
    },
    {
      "cell_type": "code",
      "execution_count": null,
      "metadata": {
        "collapsed": false
      },
      "outputs": [],
      "source": [
        "initialState = [0.1] * 2"
      ]
    },
    {
      "cell_type": "markdown",
      "metadata": {},
      "source": [
        "## Sample from the Ackley distribution\nWe can finally define the two Metropolis-Hastings algorithms\nand the Gibbs algorithm which encapsulates them.\n\n"
      ]
    },
    {
      "cell_type": "code",
      "execution_count": null,
      "metadata": {
        "collapsed": false
      },
      "outputs": [],
      "source": [
        "gmh_0 = otexp.UserDefinedMetropolisHastings(\n    ackley_logpdf, support, initialState, proposal, link_function_0, [0]\n)\ngmh_1 = otexp.UserDefinedMetropolisHastings(\n    ackley_logpdf, support, initialState, proposal, link_function_1, [1]\n)\ngibbs = ot.Gibbs([gmh_0, gmh_1])\n\nsample = gibbs.getSample(100)"
      ]
    },
    {
      "cell_type": "markdown",
      "metadata": {},
      "source": [
        "Print the acceptance rates of the two Metropolis-Hastings samplers\n\n"
      ]
    },
    {
      "cell_type": "code",
      "execution_count": null,
      "metadata": {
        "collapsed": false
      },
      "outputs": [],
      "source": [
        "mhlist = gibbs.getMetropolisHastingsCollection()\nrate_gmh_0 = mhlist[0].getAcceptanceRate()\nrate_gmh_1 = mhlist[1].getAcceptanceRate()\n\nprint(\"Acceptance rates: {} and {}\".format(rate_gmh_0, rate_gmh_1))"
      ]
    },
    {
      "cell_type": "markdown",
      "metadata": {},
      "source": [
        "Draw the contour plot of the Ackley distribution PDF (up to a multiplicative constant)\nand the MCMC sample: we can see the sample is accurate.\n\n"
      ]
    },
    {
      "cell_type": "code",
      "execution_count": null,
      "metadata": {
        "collapsed": false
      },
      "outputs": [],
      "source": [
        "title = \"Ackley PDF (up to a constant factor) and Metropolis-Hastings sample\"\ngraph = ot.Graph(title, \"$X_0$\", \"$X_1$\", True)\ngraph.add(ackley_pdf.draw([lb] * 2, [ub] * 2))\nreversed_colors = [color for color in reversed(graph.getColors())]\ngraph.setColors(reversed_colors)\ngraph.add(ot.Cloud(sample, \"black\", \"plus\"))\nlegends = graph.getLegends()\nlegends = [format_float_scientific(float(v), precision=1) for v in legends[:-1]]\ngraph.setLegends(legends)\ngraph.setLegendPosition(\"topright\")\nview = View(graph, legend_kw={\"bbox_to_anchor\": (1, 1), \"loc\": \"upper left\"})\nview.getFigure().tight_layout()"
      ]
    }
  ],
  "metadata": {
    "kernelspec": {
      "display_name": "Python 3",
      "language": "python",
      "name": "python3"
    },
    "language_info": {
      "codemirror_mode": {
        "name": "ipython",
        "version": 3
      },
      "file_extension": ".py",
      "mimetype": "text/x-python",
      "name": "python",
      "nbconvert_exporter": "python",
      "pygments_lexer": "ipython3",
      "version": "3.11.5"
    }
  },
  "nbformat": 4,
  "nbformat_minor": 0
}