{
  "cells": [
    {
      "cell_type": "markdown",
      "metadata": {},
      "source": [
        "\n# Create a deconditioned random vector\n"
      ]
    },
    {
      "cell_type": "markdown",
      "metadata": {},
      "source": [
        "In this example we are going to build the random vector $\\inputRV$ defined as the\ndeconditioned distribution of:\n\n\\begin{align}\\inputRV|\\vect{\\Theta}\\end{align}\n\nwith respect to parameter random vector $\\vect{\\Theta}$ following the distribution $\\cL_{\\vect{\\Theta}}$.\n\nThis example creates a :class:`~openturns.DeconditionedRandomVector`. Remember that a :class:`~openturns.DeconditionedRandomVector`\n(and more generally a :class:`~openturns.RandomVector`) can only be sampled.\n\nThere is no restriction on the random vector $\\vect{\\Theta}$. It can be created from any multivariate distribution or\nas the output of a function $f$ applied to an input random vector $\\vect{Y}$: $\\vect{\\Theta} = f(\\vect{Y})$.\n\nNote that in some restricted cases, it is possible to create the\ndistribution of $\\inputRV$ using the class :class:`~openturns.DeconditionedDistribution`.\nThe :class:`~openturns.DeconditionedDistribution` offers a lot of methods attached to the distribution, in particular the\ncomputation of the PDF, CDF, the moments if any, $\\dots$. The advantage of the :class:`~openturns.DeconditionedRandomVector` relies\non the fact that it is fast to build and can be built in all cases. But it only offers the sampling capacity.\n\nWe consider the following cases:\n\n- Case 1: the parameter random vector has continuous marginals,\n- Case 2: the parameter random vector has dependent continuous and discrete marginals,\n- Case 3: the parameter random vector has any dependent marginals.\n\n"
      ]
    },
    {
      "cell_type": "code",
      "execution_count": null,
      "metadata": {
        "collapsed": false
      },
      "outputs": [],
      "source": [
        "import openturns as ot\nimport openturns.viewer as otv"
      ]
    },
    {
      "cell_type": "markdown",
      "metadata": {},
      "source": [
        "## Case 1: the parameter random vector  has continuous marginals\n\nWe consider the case where $X$ is of dimension 1 and follows an exponential distribution\ndefined by:\n\n================================ =========================================================  ====================================\nVariable                         Distribution                                               Parameter\n================================ =========================================================  ====================================\n$X$                        :class:`~openturns.Exponential` ($\\Lambda, \\Gamma$)  ($\\Lambda, \\Gamma$) are random\n$\\Lambda$                  :class:`~openturns.Uniform` ($a, b$)                 $(a,b) = (0, 1)$\n$\\Gamma$                   :class:`~openturns.Uniform` ($a, b$)                 $(a,b) = (1, 2)$\nCopula ($\\Lambda, \\Gamma$) :class:`~openturns.ClaytonCopula` ($\\theta$)         $\\theta = 2$\n================================ =========================================================  ====================================\n\n\n"
      ]
    },
    {
      "cell_type": "markdown",
      "metadata": {},
      "source": [
        "Create the parameter random vector $\\vect{\\Theta} = (\\Lambda, \\Gamma)$:\n\n"
      ]
    },
    {
      "cell_type": "code",
      "execution_count": null,
      "metadata": {
        "collapsed": false
      },
      "outputs": [],
      "source": [
        "lambdaDist = ot.Uniform(0.0, 1.0)\ngammaDist = ot.Uniform(1.0, 2.0)\nthetaDist = ot.JointDistribution([lambdaDist, gammaDist], ot.ClaytonCopula(2))\nthetaRV = ot.RandomVector(thetaDist)"
      ]
    },
    {
      "cell_type": "markdown",
      "metadata": {},
      "source": [
        "Create the $\\inputRV|\\vect{\\Theta}$ distribution: as the parameters have no importance, we\ncreate the default distribution.\n\n"
      ]
    },
    {
      "cell_type": "code",
      "execution_count": null,
      "metadata": {
        "collapsed": false
      },
      "outputs": [],
      "source": [
        "XgivenThetaDist = ot.Exponential()"
      ]
    },
    {
      "cell_type": "markdown",
      "metadata": {},
      "source": [
        "Create the $\\inputRV$ random vector.\n\n"
      ]
    },
    {
      "cell_type": "code",
      "execution_count": null,
      "metadata": {
        "collapsed": false
      },
      "outputs": [],
      "source": [
        "X_RV = ot.DeconditionedRandomVector(XgivenThetaDist, thetaRV)"
      ]
    },
    {
      "cell_type": "markdown",
      "metadata": {},
      "source": [
        "Draw a sample\n\n"
      ]
    },
    {
      "cell_type": "code",
      "execution_count": null,
      "metadata": {
        "collapsed": false
      },
      "outputs": [],
      "source": [
        "X_RV.getSample(5)"
      ]
    },
    {
      "cell_type": "markdown",
      "metadata": {},
      "source": [
        "If we generate a large sample of the random vector, we can fit its distribution with non-parametric techniques\nsuch as a kernel smoothing.\n\n"
      ]
    },
    {
      "cell_type": "code",
      "execution_count": null,
      "metadata": {
        "collapsed": false
      },
      "outputs": [],
      "source": [
        "sample_large = X_RV.getSample(10000)\ndist_KS = ot.KernelSmoothing().build(sample_large)\ng_PDF = dist_KS.drawPDF()\ng_PDF.setTitle(\"Case 1: PDF of X by kernel smoothing\")\ng_PDF.setXTitle(\"x\")\ng_PDF.setLegendPosition(\"\")\nview = otv.View(g_PDF)"
      ]
    },
    {
      "cell_type": "markdown",
      "metadata": {},
      "source": [
        "## Case 2: the parameter random vector has dependent continuous and discrete marginals\n\nWe consider the case where $X$ is of dimension 1 and follows an exponential distribution\ndefined by:\n\n=================================  =========================================================  ====================================\nVariable                           Distribution                                               Parameter\n=================================  =========================================================  ====================================\n$X$                          :class:`~openturns.Exponential` ($\\Lambda, \\Gamma$)  ($\\Lambda, \\Gamma$) are random\n$\\Lambda$                    1 + :class:`~openturns.Poisson` ($\\ell$)             $\\ell = 1$\n$\\Gamma$                     :class:`~openturns.Uniform` ($a, b$)                 $(a,b) = (1, 2)$\nCopula  ($\\Lambda, \\Gamma$)  :class:`~openturns.ClaytonCopula` ($\\theta$)         $\\theta = 2$\n=================================  =========================================================  ====================================\n\n\n"
      ]
    },
    {
      "cell_type": "markdown",
      "metadata": {},
      "source": [
        "Create the parameter random vector $\\vect{\\Theta} = (\\Lambda, \\Gamma)$. We shift the Poisson distribution to\nget positive values for $\\Lambda$.\n\n"
      ]
    },
    {
      "cell_type": "code",
      "execution_count": null,
      "metadata": {
        "collapsed": false
      },
      "outputs": [],
      "source": [
        "lambdaDist = 1 + ot.Poisson(1)\ngammaDist = ot.Uniform(1.0, 2.0)\nthetaDist = ot.JointDistribution([lambdaDist, gammaDist], ot.ClaytonCopula(2))\nthetaRV = ot.RandomVector(thetaDist)"
      ]
    },
    {
      "cell_type": "markdown",
      "metadata": {},
      "source": [
        "Create the $\\inputRV|\\vect{\\Theta}$ random vector.\n\n"
      ]
    },
    {
      "cell_type": "code",
      "execution_count": null,
      "metadata": {
        "collapsed": false
      },
      "outputs": [],
      "source": [
        "XgivenThetaDist = ot.Exponential()\nX_RV = ot.DeconditionedRandomVector(XgivenThetaDist, thetaRV)"
      ]
    },
    {
      "cell_type": "markdown",
      "metadata": {},
      "source": [
        "If we generate a large sample of the random vector, we can fit its distribution with non-parametric techniques\nsuch as a kernel smoothing.\n\n"
      ]
    },
    {
      "cell_type": "code",
      "execution_count": null,
      "metadata": {
        "collapsed": false
      },
      "outputs": [],
      "source": [
        "sample_large = X_RV.getSample(10000)\ndist_KS = ot.KernelSmoothing().build(sample_large)\ng_PDF = dist_KS.drawPDF()\ng_PDF.setTitle(\"Case 2: PDF of X by kernel smoothing\")\ng_PDF.setXTitle(\"x\")\ng_PDF.setLegendPosition(\"\")\nview = otv.View(g_PDF)"
      ]
    },
    {
      "cell_type": "markdown",
      "metadata": {},
      "source": [
        "## Case 3: the parameter random vector has any dependent marginals\n\nWe consider the case where $X$ is of dimension 1 and follows an exponential distribution\ndefined by:\n\n=================================  =========================================================  ====================================\nVariable         Distribution                                               Parameter\n=================================  =========================================================  ====================================\n$X$                          :class:`~openturns.Exponential` ($\\Lambda, \\Gamma$)  ($\\Lambda, \\Gamma$) are random\n$\\Lambda$                    :class:`~openturns.Mixture`                                see below\n$\\Gamma$                     :class:`~openturns.Uniform` ($a, b$)                 $(a,b) = (1, 2)$\nCopula  ($\\Lambda, \\Gamma$)  :class:`~openturns.ClaytonCopula` ($\\theta$)         $\\theta = 2$\n=================================  =========================================================  ====================================\n\nwhere the mixture is built from the :class:`~openturns.Exponential` ($\\ell$) with $\\ell = 1$ and the\n:class:`~openturns.Geometric` ($p$) with $p = 0.1$, with equal weights. In this case, the distribution of $\\Lambda$ is\nnot discrete nor continuous.\n\n"
      ]
    },
    {
      "cell_type": "markdown",
      "metadata": {},
      "source": [
        "Create the parameter random vector $\\vect{\\Theta} = (\\Lambda, \\Gamma)$:\n\n"
      ]
    },
    {
      "cell_type": "code",
      "execution_count": null,
      "metadata": {
        "collapsed": false
      },
      "outputs": [],
      "source": [
        "lambdaDist = ot.Mixture([ot.Exponential(1.0), ot.Geometric(0.1)])\ngammaDist = ot.Uniform(1.0, 2.0)\nthetaDist = ot.JointDistribution([lambdaDist, gammaDist], ot.ClaytonCopula(2))\nthetaRV = ot.RandomVector(thetaDist)"
      ]
    },
    {
      "cell_type": "markdown",
      "metadata": {},
      "source": [
        "Create the $\\inputRV|\\vect{\\Theta}$ random vector.\n\n"
      ]
    },
    {
      "cell_type": "code",
      "execution_count": null,
      "metadata": {
        "collapsed": false
      },
      "outputs": [],
      "source": [
        "XgivenThetaDist = ot.Exponential()\nX_RV = ot.DeconditionedRandomVector(XgivenThetaDist, thetaRV)"
      ]
    },
    {
      "cell_type": "markdown",
      "metadata": {},
      "source": [
        "If we generate a large sample of the random vector, we can fit its distribution with non-parametric techniques\nsuch as a kernel smoothing.\n\n"
      ]
    },
    {
      "cell_type": "code",
      "execution_count": null,
      "metadata": {
        "collapsed": false
      },
      "outputs": [],
      "source": [
        "sample_large = X_RV.getSample(10000)\ndist_KS = ot.KernelSmoothing().build(sample_large)\ng_PDF = dist_KS.drawPDF()\ng_PDF.setTitle(\"Case 3: PDF of X by kernel smoothing\")\ng_PDF.setXTitle(\"x\")\ng_PDF.setLegendPosition(\"\")\nview = otv.View(g_PDF)"
      ]
    },
    {
      "cell_type": "code",
      "execution_count": null,
      "metadata": {
        "collapsed": false
      },
      "outputs": [],
      "source": [
        "view.ShowAll()"
      ]
    }
  ],
  "metadata": {
    "kernelspec": {
      "display_name": "Python 3",
      "language": "python",
      "name": "python3"
    },
    "language_info": {
      "codemirror_mode": {
        "name": "ipython",
        "version": 3
      },
      "file_extension": ".py",
      "mimetype": "text/x-python",
      "name": "python",
      "nbconvert_exporter": "python",
      "pygments_lexer": "ipython3",
      "version": "3.13.5"
    }
  },
  "nbformat": 4,
  "nbformat_minor": 0
}