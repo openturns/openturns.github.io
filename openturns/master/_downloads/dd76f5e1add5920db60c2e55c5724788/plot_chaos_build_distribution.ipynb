{
  "cells": [
    {
      "cell_type": "markdown",
      "metadata": {},
      "source": [
        "\n# Fit a distribution from an input sample\n"
      ]
    },
    {
      "cell_type": "markdown",
      "metadata": {},
      "source": [
        "In this example we show how to use the\n:meth:`~openturns.MetaModelAlgorithm.BuildDistribution` function to fit a distribution to an\ninput sample.\nThis function is used by the :class:`~openturns.FunctionalChaosAlgorithm`\nclass when we want to create a polynomial chaos metamodel and we have a\ndesign of experiments which have been computed beforehand.\nIn this case, we have to identify the distributions which best fit to the\ninput sample in order to define the input probabilistic model.\nThis is, in turn, used by in the polynomial chaos to create the orthogonal basis.\n\n\n"
      ]
    },
    {
      "cell_type": "code",
      "execution_count": null,
      "metadata": {
        "collapsed": false
      },
      "outputs": [],
      "source": [
        "import openturns as ot\n\not.Log.Show(ot.Log.NONE)"
      ]
    },
    {
      "cell_type": "markdown",
      "metadata": {},
      "source": [
        "We first create the function `model`.\n\n"
      ]
    },
    {
      "cell_type": "code",
      "execution_count": null,
      "metadata": {
        "collapsed": false
      },
      "outputs": [],
      "source": [
        "ot.RandomGenerator.SetSeed(0)\ndimension = 2\ninput_names = [\"x1\", \"x2\"]\nformulas = [\"cos(x1 + x2)\", \"(x2 + 1) * exp(x1)\"]\nmodel = ot.SymbolicFunction(input_names, formulas)"
      ]
    },
    {
      "cell_type": "markdown",
      "metadata": {},
      "source": [
        "Then we create a sample `x` and compute the corresponding output sample `y`.\n\n"
      ]
    },
    {
      "cell_type": "code",
      "execution_count": null,
      "metadata": {
        "collapsed": false
      },
      "outputs": [],
      "source": [
        "distribution = ot.Normal(dimension)\nsamplesize = 1000\ninputSample = distribution.getSample(samplesize)\noutputSample = model(inputSample)"
      ]
    },
    {
      "cell_type": "markdown",
      "metadata": {},
      "source": [
        "Create a functional chaos model.\nThe algorithm used by :meth:`~openturns.MetaModelAlgorithm.BuildDistribution`\nfits a distribution on the input sample.\nThis is done with the Lilliefors test.\nPlease read `kolmogorov_smirnov_test` for more details on this topic.\n\n"
      ]
    },
    {
      "cell_type": "markdown",
      "metadata": {},
      "source": [
        "The Lilliefors test is based on sampling the distribution of the\nKolmogorov-Smirnov statistics.\nThe sample size corresponding to this algorithm is configured\nby the `\"FittingTest-LillieforsMaximumSamplingSize\"` :class:`~openturns.ResourceMap`\nkey.\nIn order to get satisfactory results, the default value of this\nkey is relatively large.\n\n"
      ]
    },
    {
      "cell_type": "code",
      "execution_count": null,
      "metadata": {
        "collapsed": false
      },
      "outputs": [],
      "source": [
        "ot.ResourceMap.GetAsUnsignedInteger(\"FittingTest-LillieforsMaximumSamplingSize\")"
      ]
    },
    {
      "cell_type": "markdown",
      "metadata": {},
      "source": [
        "In order to speed this example up, let us reduce this value.\n\n"
      ]
    },
    {
      "cell_type": "code",
      "execution_count": null,
      "metadata": {
        "collapsed": false
      },
      "outputs": [],
      "source": [
        "ot.ResourceMap.SetAsUnsignedInteger(\"FittingTest-LillieforsMaximumSamplingSize\", 100)"
      ]
    },
    {
      "cell_type": "markdown",
      "metadata": {},
      "source": [
        "Then we fit the distribution.\n\n"
      ]
    },
    {
      "cell_type": "code",
      "execution_count": null,
      "metadata": {
        "collapsed": false
      },
      "outputs": [],
      "source": [
        "distribution = ot.FunctionalChaosAlgorithm.BuildDistribution(inputSample)"
      ]
    },
    {
      "cell_type": "markdown",
      "metadata": {},
      "source": [
        "Let us explore the distribution with its fitted parameters.\n\n"
      ]
    },
    {
      "cell_type": "code",
      "execution_count": null,
      "metadata": {
        "collapsed": false
      },
      "outputs": [],
      "source": [
        "distribution"
      ]
    },
    {
      "cell_type": "markdown",
      "metadata": {},
      "source": [
        "We can also analyze its properties in more details.\n\n"
      ]
    },
    {
      "cell_type": "code",
      "execution_count": null,
      "metadata": {
        "collapsed": false
      },
      "outputs": [],
      "source": [
        "for i in range(dimension):\n    marginal = distribution.getMarginal(i)\n    marginalname = marginal.getImplementation().getClassName()\n    print(\"Marginal #\", i, \":\", marginalname)\ndistribution.getCopula()"
      ]
    },
    {
      "cell_type": "markdown",
      "metadata": {},
      "source": [
        "The previous call to :meth:`~openturns.MetaModelAlgorithm.BuildDistribution` is what is done internally by the\nfollowing constructor of :class:`~openturns.FunctionalChaosAlgorithm`.\n\n"
      ]
    },
    {
      "cell_type": "code",
      "execution_count": null,
      "metadata": {
        "collapsed": false
      },
      "outputs": [],
      "source": [
        "algo = ot.FunctionalChaosAlgorithm(inputSample, outputSample)"
      ]
    },
    {
      "cell_type": "markdown",
      "metadata": {},
      "source": [
        "The previous constructor is the main topic of the example\n:doc:`Create a polynomial chaos metamodel from a data set </auto_meta_modeling/polynomial_chaos_metamodel/plot_functional_chaos>`.\n\n"
      ]
    },
    {
      "cell_type": "code",
      "execution_count": null,
      "metadata": {
        "collapsed": false
      },
      "outputs": [],
      "source": [
        "ot.ResourceMap.Reload()  # reset default settings"
      ]
    }
  ],
  "metadata": {
    "kernelspec": {
      "display_name": "Python 3",
      "language": "python",
      "name": "python3"
    },
    "language_info": {
      "codemirror_mode": {
        "name": "ipython",
        "version": 3
      },
      "file_extension": ".py",
      "mimetype": "text/x-python",
      "name": "python",
      "nbconvert_exporter": "python",
      "pygments_lexer": "ipython3",
      "version": "3.13.3"
    }
  },
  "nbformat": 4,
  "nbformat_minor": 0
}