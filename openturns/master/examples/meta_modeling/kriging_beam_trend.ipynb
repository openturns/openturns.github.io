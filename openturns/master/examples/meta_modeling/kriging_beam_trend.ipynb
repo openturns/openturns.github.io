{
 "cells": [
  {
   "cell_type": "markdown",
   "metadata": {},
   "source": [
    "# Configuring the trend in Kriging\n"
   ]
  },
  {
   "cell_type": "markdown",
   "metadata": {},
   "source": [
    "The goal of this example is to show how to configure the trend in a Kriging metamodel. This is why this example focuses on the three available trends:\n",
    "\n",
    "* `ConstantBasisFactory`,\n",
    "* `LinearBasisFactory`,\n",
    "* `QuadraticBasisFactory`.\n",
    "\n",
    "For this purpose, we use the cantilever beam example."
   ]
  },
  {
   "cell_type": "markdown",
   "metadata": {},
   "source": [
    "## Definition of the model"
   ]
  },
  {
   "cell_type": "code",
   "execution_count": 1,
   "metadata": {},
   "outputs": [],
   "source": [
    "import openturns as ot\n",
    "ot.RandomGenerator.SetSeed(0)"
   ]
  },
  {
   "cell_type": "markdown",
   "metadata": {},
   "source": [
    "We define the symbolic function which evaluates the output Y depending on the inputs E, F, L and I."
   ]
  },
  {
   "cell_type": "code",
   "execution_count": 2,
   "metadata": {},
   "outputs": [],
   "source": [
    "model = ot.SymbolicFunction([\"E\", \"F\", \"L\", \"I\"], [\"F*L^3/(3*E*I)\"])"
   ]
  },
  {
   "cell_type": "markdown",
   "metadata": {},
   "source": [
    "Then we define the distribution of the input random vector. "
   ]
  },
  {
   "cell_type": "code",
   "execution_count": 3,
   "metadata": {},
   "outputs": [],
   "source": [
    "# Young's modulus E\n",
    "E = ot.Beta(0.9, 3.5, 2.5e7, 5.0e7) # in N/m^2\n",
    "E.setDescription(\"E\")\n",
    "# Load F\n",
    "F = ot.LogNormal() # in N\n",
    "F.setParameter(ot.LogNormalMuSigma()([30.e3, 9e3, 15.e3]))\n",
    "F.setDescription(\"F\")\n",
    "# Length L\n",
    "L = ot.Uniform(250., 260.) # in cm\n",
    "L.setDescription(\"L\")\n",
    "# Moment of inertia I\n",
    "I = ot.Beta(2.5, 4, 310, 450) # in cm^4\n",
    "I.setDescription(\"I\")"
   ]
  },
  {
   "cell_type": "markdown",
   "metadata": {},
   "source": [
    "Finally, we define the dependency using a `NormalCopula`."
   ]
  },
  {
   "cell_type": "code",
   "execution_count": 4,
   "metadata": {},
   "outputs": [],
   "source": [
    "dimension = 4 # number of inputs\n",
    "R = ot.CorrelationMatrix(dimension)\n",
    "R[2, 3] = -0.2 \n",
    "myCopula = ot.NormalCopula(ot.NormalCopula.GetCorrelationFromSpearmanCorrelation(R))\n",
    "myDistribution = ot.ComposedDistribution([E, F, L, I], myCopula)"
   ]
  },
  {
   "cell_type": "markdown",
   "metadata": {},
   "source": [
    "## Create the design of experiments"
   ]
  },
  {
   "cell_type": "markdown",
   "metadata": {},
   "source": [
    "We consider a simple Monte-Carlo sampling as a design of experiments. This is why we generate an input sample using the `getSample` method of the distribution. Then we evaluate the output using the `model` function."
   ]
  },
  {
   "cell_type": "code",
   "execution_count": 5,
   "metadata": {},
   "outputs": [],
   "source": [
    "sampleSize_train = 20\n",
    "X_train = myDistribution.getSample(sampleSize_train)\n",
    "Y_train = model(X_train)"
   ]
  },
  {
   "cell_type": "markdown",
   "metadata": {},
   "source": [
    "## Create the metamodel"
   ]
  },
  {
   "cell_type": "markdown",
   "metadata": {},
   "source": [
    "In order to create the kriging metamodel, we first select a constant trend with the `ConstantBasisFactory` class. Then we use a squared exponential covariance model. Finally, we use the `KrigingAlgorithm` class to create the kriging metamodel, taking the training sample, the covariance model and the trend basis as input arguments. "
   ]
  },
  {
   "cell_type": "code",
   "execution_count": 6,
   "metadata": {},
   "outputs": [],
   "source": [
    "covarianceModel = ot.SquaredExponential([1.]*dimension, [1.0])"
   ]
  },
  {
   "cell_type": "code",
   "execution_count": 7,
   "metadata": {},
   "outputs": [],
   "source": [
    "basis = ot.ConstantBasisFactory(dimension).build()\n",
    "algo = ot.KrigingAlgorithm(X_train, Y_train, covarianceModel, basis)\n",
    "algo.run()\n",
    "result = algo.getResult()\n",
    "krigingWithConstantTrend = result.getMetaModel()"
   ]
  },
  {
   "cell_type": "markdown",
   "metadata": {},
   "source": [
    "The `getTrendCoefficients` method returns the coefficients of the trend."
   ]
  },
  {
   "cell_type": "code",
   "execution_count": 8,
   "metadata": {},
   "outputs": [
    {
     "data": {
      "text/plain": [
       "[class=Point name=Unnamed dimension=1 values=[21.4541]]"
      ]
     },
     "execution_count": 8,
     "metadata": {},
     "output_type": "execute_result"
    }
   ],
   "source": [
    "result.getTrendCoefficients()"
   ]
  },
  {
   "cell_type": "markdown",
   "metadata": {},
   "source": [
    "The constant trend always has only one coefficient (if there is one single output)."
   ]
  },
  {
   "cell_type": "code",
   "execution_count": 9,
   "metadata": {},
   "outputs": [
    {
     "data": {
      "text/html": [
       "<p>SquaredExponential(scale=[6.26752,5.3855,7.19611,6.89181], amplitude=[9.22303])</p>"
      ],
      "text/plain": [
       "class=SquaredExponential scale=class=Point name=Unnamed dimension=4 values=[6.26752,5.3855,7.19611,6.89181] amplitude=class=Point name=Unnamed dimension=1 values=[9.22303]"
      ]
     },
     "execution_count": 9,
     "metadata": {},
     "output_type": "execute_result"
    }
   ],
   "source": [
    "result.getCovarianceModel()"
   ]
  },
  {
   "cell_type": "markdown",
   "metadata": {},
   "source": [
    "The `SquaredExponential` model has one amplitude coefficient and 4 scale coefficients. This is because this covariance model is anisotropic : each of the 4 input variables is associated with its own scale coefficient. "
   ]
  },
  {
   "cell_type": "markdown",
   "metadata": {},
   "source": [
    "## Setting the trend"
   ]
  },
  {
   "cell_type": "code",
   "execution_count": 10,
   "metadata": {},
   "outputs": [
    {
     "data": {
      "text/plain": [
       "[class=Point name=Unnamed dimension=5 values=[14.8267,-2.01412,3.45966,0.410959,-0.887673]]"
      ]
     },
     "execution_count": 10,
     "metadata": {},
     "output_type": "execute_result"
    }
   ],
   "source": [
    "basis = ot.LinearBasisFactory(dimension).build()\n",
    "algo = ot.KrigingAlgorithm(X_train, Y_train, covarianceModel, basis)\n",
    "algo.run()\n",
    "result = algo.getResult()\n",
    "krigingWithLinearTrend = result.getMetaModel()\n",
    "result.getTrendCoefficients()"
   ]
  },
  {
   "cell_type": "markdown",
   "metadata": {},
   "source": [
    "The number of coefficients in the linear and quadratic trends depends on the number of inputs, which is \n",
    "equal to \n",
    "\n",
    "$$\n",
    "dim = 4 \n",
    "$$\n",
    "\n",
    "in the cantilever beam case.\n",
    "\n",
    "We observe that the number of coefficients in the trend is 5, which corresponds to:\n",
    "\n",
    "* 1 coefficient for the constant part,\n",
    "* dim=4 coefficients for the linear part."
   ]
  },
  {
   "cell_type": "code",
   "execution_count": 11,
   "metadata": {},
   "outputs": [
    {
     "data": {
      "text/plain": [
       "[class=Point name=Unnamed dimension=15 values=[13.3454,-2.15509,3.69566,0.337431,-0.91664,0.547578,-0.558795,-0.0973575,0.0538881,-0.053952,0.11991,-0.224006,0.0960829,-0.0669982,0.168978]]"
      ]
     },
     "execution_count": 11,
     "metadata": {},
     "output_type": "execute_result"
    }
   ],
   "source": [
    "basis = ot.QuadraticBasisFactory(dimension).build()\n",
    "algo = ot.KrigingAlgorithm(X_train, Y_train, covarianceModel, basis)\n",
    "algo.run()\n",
    "result = algo.getResult()\n",
    "krigingWithQuadraticTrend = result.getMetaModel()\n",
    "result.getTrendCoefficients()"
   ]
  },
  {
   "cell_type": "markdown",
   "metadata": {},
   "source": [
    "This time, the trend has 15 coefficients:\n",
    "\n",
    "* 1 coefficient for the constant part,\n",
    "* 4 coefficients for the linear part,\n",
    "* 10 coefficients for the quadratic part.\n",
    "\n",
    "This is because the number of coefficients in the quadratic part has \n",
    "\n",
    "$$\n",
    "\\frac{dim (dim+1)}{2}=\\frac{4\\times 5}{2}=10\n",
    "$$\n",
    "\n",
    "coefficients, associated with the symmetric matrix of the quadratic function. "
   ]
  },
  {
   "cell_type": "markdown",
   "metadata": {},
   "source": [
    "## Validate the metamodel"
   ]
  },
  {
   "cell_type": "markdown",
   "metadata": {},
   "source": [
    "We finally want to validate the kriging metamodel. This is why we generate a validation sample which size is equal to 100 and we evaluate the output of the model on this sample."
   ]
  },
  {
   "cell_type": "code",
   "execution_count": 12,
   "metadata": {},
   "outputs": [],
   "source": [
    "sampleSize_test = 100\n",
    "X_test = myDistribution.getSample(sampleSize_test)\n",
    "Y_test = model(X_test)"
   ]
  },
  {
   "cell_type": "code",
   "execution_count": 13,
   "metadata": {},
   "outputs": [],
   "source": [
    "def drawMetaModelValidation(X_test, Y_test, krigingMetamodel, title):\n",
    "    val = ot.MetaModelValidation(X_test, Y_test, krigingMetamodel)\n",
    "    Q2 = val.computePredictivityFactor()\n",
    "    graph = val.drawValidation()\n",
    "    graph.setLegends([\"\"])\n",
    "    graph.setLegends([\"%s, Q2 = %.2f%%\" % (title, 100*Q2),\"\"])\n",
    "    graph.setLegendPosition(\"topleft\")\n",
    "    return graph"
   ]
  },
  {
   "cell_type": "code",
   "execution_count": 14,
   "metadata": {},
   "outputs": [],
   "source": [
    "import pylab as pl\n",
    "from openturns.viewer import View"
   ]
  },
  {
   "cell_type": "code",
   "execution_count": 15,
   "metadata": {},
   "outputs": [
    {
     "data": {
      "image/png": "[encoded data removed]",
      "text/plain": [
       "<Figure size 864x288 with 3 Axes>"
      ]
     },
     "metadata": {
      "needs_background": "light"
     },
     "output_type": "display_data"
    }
   ],
   "source": [
    "fig = pl.figure(figsize=(12, 4))\n",
    "ax1 = fig.add_subplot(1, 3, 1)\n",
    "graphConstant = drawMetaModelValidation(X_test, Y_test, krigingWithConstantTrend, \"Constant\")\n",
    "_ = View(graphConstant, figure=fig, axes=[ax1])\n",
    "ax2 = fig.add_subplot(1, 3, 2)\n",
    "graphLinear = drawMetaModelValidation(X_test, Y_test, krigingWithLinearTrend, \"Linear\")\n",
    "_ = View(graphLinear, figure=fig, axes=[ax2])\n",
    "ax3 = fig.add_subplot(1, 3, 3)\n",
    "graphQuadratic = drawMetaModelValidation(X_test, Y_test, krigingWithQuadraticTrend, \"Quadratic\")\n",
    "_ = View(graphQuadratic, figure=fig, axes=[ax3])\n",
    "_ = fig.suptitle(\"Different trends\")"
   ]
  },
  {
   "cell_type": "markdown",
   "metadata": {},
   "source": [
    "We observe that the three trends perform very well in this case. More precisely, the quadratic trend has better Q2 than the linear trend, which has a better Q2 than the constant trend. Indeed, the more the trend has coefficients, the more the kriging metamodel has flexibility to adjust to the training sample. This does not mean, however, that the trend coefficients will provide a good fit for the validation sample. \n",
    "\n",
    "The number of parameters in each kriging metamodel is the following:\n",
    "\n",
    "* the constant trend kriging has 6 coefficients to estimate: 5 coefficients for the covariance matrix and 1 coefficient for the trend,\n",
    "* the linear trend kriging has 10 coefficients to estimate: 5 coefficients for the covariance matrix and 5 coefficients for the trend,\n",
    "* the quadratic trend kriging has 20 coefficients to estimate: 5 coefficients for the covariance matrix and 15 coefficients for the trend.\n",
    "\n",
    "In the cantilever beam example, fitting the metamodel with a training sample which size is only equal to 20 is made much easier because the function to approximate is almost linear. "
   ]
  }
 ],
 "metadata": {
  "kernelspec": {
   "display_name": "Python 3",
   "language": "python",
   "name": "python3"
  },
  "language_info": {
   "codemirror_mode": {
    "name": "ipython",
    "version": 3
   },
   "file_extension": ".py",
   "mimetype": "text/x-python",
   "name": "python",
   "nbconvert_exporter": "python",
   "pygments_lexer": "ipython3",
   "version": "3.7.3"
  }
 },
 "nbformat": 4,
 "nbformat_minor": 2
}
