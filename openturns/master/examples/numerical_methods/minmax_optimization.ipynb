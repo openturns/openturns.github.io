{
 "cells": [
  {
   "cell_type": "markdown",
   "metadata": {},
   "source": [
    "# Mix/max search using optimization\n",
    "\n",
    "In this example we are going to evaluate the min and max values of the output variable of interest in a domain using an optimization algorithm."
   ]
  },
  {
   "cell_type": "code",
   "execution_count": 1,
   "metadata": {},
   "outputs": [],
   "source": [
    "from __future__ import print_function\n",
    "import openturns as ot\n",
    "import math as m"
   ]
  },
  {
   "cell_type": "code",
   "execution_count": 2,
   "metadata": {},
   "outputs": [],
   "source": [
    "# Create the marginal distributions of the parameters\n",
    "dist_E = ot.Beta(0.93, 2.27, 2.8e7, 4.8e7)\n",
    "dist_F = ot.LogNormalMuSigma(30000, 9000, 15000).getDistribution()\n",
    "dist_L = ot.Uniform(250, 260)\n",
    "dist_I = ot.Beta(2.5, 1.5, 3.1e2, 4.5e2)\n",
    "marginals = [dist_E, dist_F, dist_L, dist_I]\n",
    "distribution = ot.ComposedDistribution(marginals)"
   ]
  },
  {
   "cell_type": "code",
   "execution_count": 3,
   "metadata": {},
   "outputs": [],
   "source": [
    "# Define bounds\n",
    "lowerBound = [marginal.computeQuantile(0.1)[0] for marginal in marginals]\n",
    "upperBound = [marginal.computeQuantile(0.9)[0] for marginal in marginals]\n",
    "bounds = ot.Interval(lowerBound, upperBound)"
   ]
  },
  {
   "cell_type": "code",
   "execution_count": 4,
   "metadata": {},
   "outputs": [],
   "source": [
    "# Create the model\n",
    "model = ot.SymbolicFunction(['E', 'F', 'L', 'I'], ['F*L^3/(3*E*I)'])"
   ]
  },
  {
   "cell_type": "code",
   "execution_count": 5,
   "metadata": {},
   "outputs": [],
   "source": [
    "# Define the problems\n",
    "minProblem = ot.OptimizationProblem(model)\n",
    "minProblem.setBounds(bounds)\n",
    "\n",
    "maxProblem = ot.OptimizationProblem(model)\n",
    "maxProblem.setBounds(bounds)\n",
    "maxProblem.setMinimization(False)"
   ]
  },
  {
   "cell_type": "code",
   "execution_count": 6,
   "metadata": {},
   "outputs": [],
   "source": [
    "# Create a solver\n",
    "solver = ot.TNC()\n",
    "solver.setStartingPoint(distribution.getMean())"
   ]
  },
  {
   "cell_type": "code",
   "execution_count": 7,
   "metadata": {},
   "outputs": [
    {
     "name": "stdout",
     "output_type": "stream",
     "text": [
      "min: y= [6.37642] with x= [4.04419e+07,21319.7,251,435.785]\n",
      "max: y= [23.4246] with x= [2.87477e+07,41178.7,259,354.141]\n"
     ]
    }
   ],
   "source": [
    "# Solve the problems\n",
    "solver.setProblem(minProblem)\n",
    "solver.run()\n",
    "minResult = solver.getResult()\n",
    "print('min: y=', minResult.getOptimalValue(), 'with x=', minResult.getOptimalPoint())\n",
    "\n",
    "solver.setProblem(maxProblem)\n",
    "solver.run()\n",
    "maxResult = solver.getResult()\n",
    "print('max: y=', maxResult.getOptimalValue(), 'with x=', maxResult.getOptimalPoint())"
   ]
  }
 ],
 "metadata": {
  "kernelspec": {
   "display_name": "Python 3",
   "language": "python",
   "name": "python3"
  },
  "language_info": {
   "codemirror_mode": {
    "name": "ipython",
    "version": 3
   },
   "file_extension": ".py",
   "mimetype": "text/x-python",
   "name": "python",
   "nbconvert_exporter": "python",
   "pygments_lexer": "ipython3",
   "version": "3.5.2"
  }
 },
 "nbformat": 4,
 "nbformat_minor": 1
}
