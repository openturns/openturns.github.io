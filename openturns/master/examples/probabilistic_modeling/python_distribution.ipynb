{
 "cells": [
  {
   "cell_type": "markdown",
   "metadata": {},
   "source": [
    "# Creation of a custom distribution or copula"
   ]
  },
  {
   "cell_type": "markdown",
   "metadata": {},
   "source": [
    "In this example we are going to create a distribution or copula.\n",
    "\n",
    "The way to go is inheriting the PythonDistribution class and overload the methods of the Distribution object.\n",
    "\n",
    "To create a Copula, the user has to overload isCopula() and return True.\n",
    "\n",
    "Then an instance of the new class can be passed on into a Distribution object.\n",
    "\n",
    "At least computeCDF should be overriden."
   ]
  },
  {
   "cell_type": "code",
   "execution_count": 1,
   "metadata": {},
   "outputs": [],
   "source": [
    "from __future__ import print_function\n",
    "import openturns as ot\n",
    "import math as m\n",
    "import warnings\n",
    "warnings.filterwarnings(\"ignore\")"
   ]
  },
  {
   "cell_type": "markdown",
   "metadata": {},
   "source": [
    "Inherit PythonDistribution :"
   ]
  },
  {
   "cell_type": "code",
   "execution_count": 2,
   "metadata": {},
   "outputs": [],
   "source": [
    "class UniformNdPy(ot.PythonDistribution):\n",
    "\n",
    "    def __init__(self, a=[0.0], b=[1.0]):\n",
    "        super(UniformNdPy, self).__init__(len(a))\n",
    "        if len(a) != len(b):\n",
    "            raise ValueError('Invalid bounds')\n",
    "        for i in range(len(a)):\n",
    "            if a[i] > b[i]:\n",
    "                raise ValueError('Invalid bounds')\n",
    "        self.a = a\n",
    "        self.b = b\n",
    "        self.factor = 1.0\n",
    "        for i in range(len(a)):\n",
    "            self.factor *= (b[i] - a[i])\n",
    "\n",
    "    def getRange(self):\n",
    "        return ot.Interval(self.a, self.b, [True] * len(self.a), [True] * len(self.a))\n",
    "\n",
    "    def getRealization(self):\n",
    "        X = []\n",
    "        for i in range(len(self.a)):\n",
    "            X.append(\n",
    "                self.a[i] + (self.b[i] - self.a[i]) * ot.RandomGenerator.Generate())\n",
    "        return X\n",
    "\n",
    "    def getSample(self, size):\n",
    "        X = []\n",
    "        for i in range(size):\n",
    "            X.append(self.getRealization())\n",
    "        return X\n",
    "\n",
    "    def computeCDF(self, X):\n",
    "        prod = 1.0\n",
    "        for i in range(len(self.a)):\n",
    "            if X[i] < self.a[i]:\n",
    "                return 0.0\n",
    "            prod *= (min(self.b[i], X[i]) - self.a[i])\n",
    "        return prod / self.factor\n",
    "\n",
    "    def computePDF(self, X):\n",
    "        for i in range(len(self.a)):\n",
    "            if X[i] < self.a[i]:\n",
    "                return 0.0\n",
    "            if X[i] > self.b[i]:\n",
    "                return 0.0\n",
    "        return 1.0 / self.factor\n",
    "\n",
    "    def getMean(self):\n",
    "        mu = []\n",
    "        for i in range(len(self.a)):\n",
    "            mu.append(0.5 * (self.a[i] + self.b[i]))\n",
    "        return mu\n",
    "\n",
    "    def getStandardDeviation(self):\n",
    "        stdev = []\n",
    "        for i in range(len(self.a)):\n",
    "            stdev.append((self.b[i] - self.a[i]) / m.sqrt(12.))\n",
    "        return stdev\n",
    "\n",
    "    def getSkewness(self):\n",
    "        return [0.] * len(self.a)\n",
    "\n",
    "    def getKurtosis(self):\n",
    "        return [1.8] * len(self.a)\n",
    "\n",
    "    def getStandardMoment(self, n):\n",
    "        if n % 2 == 1:\n",
    "            return [0.] * len(self.a)\n",
    "        return [1. / (n + 1.)] * len(self.a)\n",
    "\n",
    "    def getMoment(self, n):\n",
    "        return [-0.1 * n] * len(self.a)\n",
    "\n",
    "    def getCenteredMoment(self, n):\n",
    "        return [0.] * len(self.a)\n",
    "\n",
    "    def computeCharacteristicFunction(self, x):\n",
    "        if len(self.a) > 1:\n",
    "            raise ValueError('dim>1')\n",
    "        ax = self.a[0] * x\n",
    "        bx = self.b[0] * x\n",
    "        return (m.sin(bx) - m.sin(ax) + 1j * (m.cos(ax) - m.cos(bx))) / (bx - ax)\n",
    "\n",
    "    def isElliptical(self):\n",
    "        return (len(self.a) == 1) and (self.a[0] == -self.b[0])\n",
    "\n",
    "    def isCopula(self):\n",
    "        for i in range(len(self.a)):\n",
    "            if self.a[i] != 0.0:\n",
    "                return False\n",
    "            if self.b[i] != 1.0:\n",
    "                return False\n",
    "        return True\n",
    "\n",
    "    def getMarginal(self, indices):\n",
    "        subA = []\n",
    "        subB = []\n",
    "        for i in indices:\n",
    "            subA.append(self.a[i])\n",
    "            subB.append(self.b[i])\n",
    "        py_dist = UniformNdPy(subA, subB)\n",
    "        return ot.Distribution(py_dist)\n",
    "\n",
    "    def computeQuantile(self, prob, tail=False):\n",
    "        q = 1.0 - prob if tail else prob\n",
    "        quantile = self.a\n",
    "        for i in range(len(self.a)):\n",
    "            quantile[i] += q * (self.b[i] - self.a[i])\n",
    "        return quantile"
   ]
  },
  {
   "cell_type": "markdown",
   "metadata": {},
   "source": [
    "Let us instanciate the distribution:"
   ]
  },
  {
   "cell_type": "code",
   "execution_count": 3,
   "metadata": {},
   "outputs": [],
   "source": [
    "distribution = ot.Distribution(UniformNdPy([5, 6], [7, 9]))"
   ]
  },
  {
   "cell_type": "markdown",
   "metadata": {},
   "source": [
    "And plot the `cdf`:"
   ]
  },
  {
   "cell_type": "code",
   "execution_count": 4,
   "metadata": {},
   "outputs": [
    {
     "data": {
      "image/png": "[encoded data removed]",
      "text/plain": [
       "class=Graph name=cdf as a function of (X0,X1) implementation=class=GraphImplementation name=cdf as a function of (X0,X1) title=[X0,X1] iso-CDF xTitle=X0 yTitle=X1 axes=ON grid=ON legendposition=topright legendFontSize=1 drawables=[class=Drawable name=cdf as a function of (X0,X1) implementation=class=Contour name=cdf as a function of (X0,X1) x=class=Sample name=Unnamed implementation=class=SampleImplementation name=Unnamed size=129 dimension=1 data=[[3.48],[3.51937],[3.55875],[3.59812],[3.6375],[3.67687],[3.71625],[3.75562],[3.795],[3.83437],[3.87375],[3.91312],[3.9525],[3.99187],[4.03125],[4.07062],[4.11],[4.14938],[4.18875],[4.22812],[4.2675],[4.30687],[4.34625],[4.38563],[4.425],[4.46437],[4.50375],[4.54312],[4.5825],[4.62188],[4.66125],[4.70063],[4.74],[4.77937],[4.81875],[4.85813],[4.8975],[4.93688],[4.97625],[5.01562],[5.055],[5.09438],[5.13375],[5.17313],[5.2125],[5.25188],[5.29125],[5.33063],[5.37],[5.40938],[5.44875],[5.48813],[5.5275],[5.56688],[5.60625],[5.64563],[5.685],[5.72438],[5.76375],[5.80313],[5.8425],[5.88188],[5.92125],[5.96063],[6],[6.03938],[6.07875],[6.11813],[6.1575],[6.19688],[6.23625],[6.27563],[6.315],[6.35438],[6.39375],[6.43313],[6.4725],[6.51188],[6.55125],[6.59063],[6.63],[6.66938],[6.70875],[6.74813],[6.7875],[6.82688],[6.86625],[6.90563],[6.945],[6.98438],[7.02375],[7.06313],[7.1025],[7.14188],[7.18125],[7.22063],[7.26],[7.29938],[7.33875],[7.37813],[7.4175],[7.45688],[7.49625],[7.53563],[7.575],[7.61438],[7.65375],[7.69313],[7.7325],[7.77188],[7.81125],[7.85063],[7.89],[7.92938],[7.96875],[8.00813],[8.0475],[8.08688],[8.12625],[8.16563],[8.205],[8.24438],[8.28375],[8.32313],[8.3625],[8.40188],[8.44125],[8.48063],[8.52]] y=class=Sample name=Unnamed implementation=class=SampleImplementation name=Unnamed size=129 dimension=1 data=[[3.72],[3.77906],[3.83812],[3.89719],[3.95625],[4.01531],[4.07437],[4.13344],[4.1925],[4.25156],[4.31062],[4.36969],[4.42875],[4.48781],[4.54688],[4.60594],[4.665],[4.72406],[4.78313],[4.84219],[4.90125],[4.96031],[5.01938],[5.07844],[5.1375],[5.19656],[5.25563],[5.31469],[5.37375],[5.43281],[5.49188],[5.55094],[5.61],[5.66906],[5.72813],[5.78719],[5.84625],[5.90531],[5.96438],[6.02344],[6.0825],[6.14156],[6.20063],[6.25969],[6.31875],[6.37781],[6.43688],[6.49594],[6.555],[6.61406],[6.67313],[6.73219],[6.79125],[6.85031],[6.90938],[6.96844],[7.0275],[7.08656],[7.14563],[7.20469],[7.26375],[7.32281],[7.38188],[7.44094],[7.5],[7.55906],[7.61813],[7.67719],[7.73625],[7.79531],[7.85438],[7.91344],[7.9725],[8.03156],[8.09063],[8.14969],[8.20875],[8.26781],[8.32688],[8.38594],[8.445],[8.50406],[8.56313],[8.62219],[8.68125],[8.74031],[8.79938],[8.85844],[8.9175],[8.97656],[9.03563],[9.09469],[9.15375],[9.21281],[9.27188],[9.33094],[9.39],[9.44906],[9.50813],[9.56719],[9.62625],[9.68531],[9.74438],[9.80344],[9.8625],[9.92156],[9.98063],[10.0397],[10.0988],[10.1578],[10.2169],[10.2759],[10.335],[10.3941],[10.4531],[10.5122],[10.5713],[10.6303],[10.6894],[10.7484],[10.8075],[10.8666],[10.9256],[10.9847],[11.0438],[11.1028],[11.1619],[11.2209],[11.28]] levels=class=Point name=Unnamed dimension=1 values=[0] labels=[0] show labels=false derived from class=DrawableImplementation name=cdf as a function of (X0,X1) legend=0 data=class=Sample name=Unnamed implementation=class=SampleImplementation name=Unnamed size=16641 dimension=1 data=[[0],[0],[0],...,[1],[1],[1]] color=blue fillStyle=solid lineStyle=solid pointStyle=plus lineWidth=1,class=Drawable name=cdf as a function of (X0,X1) implementation=class=Contour name=cdf as a function of (X0,X1) x=class=Sample name=Unnamed implementation=class=SampleImplementation name=Unnamed size=129 dimension=1 data=[[3.48],[3.51937],[3.55875],[3.59812],[3.6375],[3.67687],[3.71625],[3.75562],[3.795],[3.83437],[3.87375],[3.91312],[3.9525],[3.99187],[4.03125],[4.07062],[4.11],[4.14938],[4.18875],[4.22812],[4.2675],[4.30687],[4.34625],[4.38563],[4.425],[4.46437],[4.50375],[4.54312],[4.5825],[4.62188],[4.66125],[4.70063],[4.74],[4.77937],[4.81875],[4.85813],[4.8975],[4.93688],[4.97625],[5.01562],[5.055],[5.09438],[5.13375],[5.17313],[5.2125],[5.25188],[5.29125],[5.33063],[5.37],[5.40938],[5.44875],[5.48813],[5.5275],[5.56688],[5.60625],[5.64563],[5.685],[5.72438],[5.76375],[5.80313],[5.8425],[5.88188],[5.92125],[5.96063],[6],[6.03938],[6.07875],[6.11813],[6.1575],[6.19688],[6.23625],[6.27563],[6.315],[6.35438],[6.39375],[6.43313],[6.4725],[6.51188],[6.55125],[6.59063],[6.63],[6.66938],[6.70875],[6.74813],[6.7875],[6.82688],[6.86625],[6.90563],[6.945],[6.98438],[7.02375],[7.06313],[7.1025],[7.14188],[7.18125],[7.22063],[7.26],[7.29938],[7.33875],[7.37813],[7.4175],[7.45688],[7.49625],[7.53563],[7.575],[7.61438],[7.65375],[7.69313],[7.7325],[7.77188],[7.81125],[7.85063],[7.89],[7.92938],[7.96875],[8.00813],[8.0475],[8.08688],[8.12625],[8.16563],[8.205],[8.24438],[8.28375],[8.32313],[8.3625],[8.40188],[8.44125],[8.48063],[8.52]] y=class=Sample name=Unnamed implementation=class=SampleImplementation name=Unnamed size=129 dimension=1 data=[[3.72],[3.77906],[3.83812],[3.89719],[3.95625],[4.01531],[4.07437],[4.13344],[4.1925],[4.25156],[4.31062],[4.36969],[4.42875],[4.48781],[4.54688],[4.60594],[4.665],[4.72406],[4.78313],[4.84219],[4.90125],[4.96031],[5.01938],[5.07844],[5.1375],[5.19656],[5.25563],[5.31469],[5.37375],[5.43281],[5.49188],[5.55094],[5.61],[5.66906],[5.72813],[5.78719],[5.84625],[5.90531],[5.96438],[6.02344],[6.0825],[6.14156],[6.20063],[6.25969],[6.31875],[6.37781],[6.43688],[6.49594],[6.555],[6.61406],[6.67313],[6.73219],[6.79125],[6.85031],[6.90938],[6.96844],[7.0275],[7.08656],[7.14563],[7.20469],[7.26375],[7.32281],[7.38188],[7.44094],[7.5],[7.55906],[7.61813],[7.67719],[7.73625],[7.79531],[7.85438],[7.91344],[7.9725],[8.03156],[8.09063],[8.14969],[8.20875],[8.26781],[8.32688],[8.38594],[8.445],[8.50406],[8.56313],[8.62219],[8.68125],[8.74031],[8.79938],[8.85844],[8.9175],[8.97656],[9.03563],[9.09469],[9.15375],[9.21281],[9.27188],[9.33094],[9.39],[9.44906],[9.50813],[9.56719],[9.62625],[9.68531],[9.74438],[9.80344],[9.8625],[9.92156],[9.98063],[10.0397],[10.0988],[10.1578],[10.2169],[10.2759],[10.335],[10.3941],[10.4531],[10.5122],[10.5713],[10.6303],[10.6894],[10.7484],[10.8075],[10.8666],[10.9256],[10.9847],[11.0438],[11.1028],[11.1619],[11.2209],[11.28]] levels=class=Point name=Unnamed dimension=1 values=[0.0412756] labels=[0.0412756] show labels=false derived from class=DrawableImplementation name=cdf as a function of (X0,X1) legend=0.0412756 data=class=Sample name=Unnamed implementation=class=SampleImplementation name=Unnamed size=16641 dimension=1 data=[[0],[0],[0],...,[1],[1],[1]] color=blue fillStyle=solid lineStyle=solid pointStyle=plus lineWidth=1,class=Drawable name=cdf as a function of (X0,X1) implementation=class=Contour name=cdf as a function of (X0,X1) x=class=Sample name=Unnamed implementation=class=SampleImplementation name=Unnamed size=129 dimension=1 data=[[3.48],[3.51937],[3.55875],[3.59812],[3.6375],[3.67687],[3.71625],[3.75562],[3.795],[3.83437],[3.87375],[3.91312],[3.9525],[3.99187],[4.03125],[4.07062],[4.11],[4.14938],[4.18875],[4.22812],[4.2675],[4.30687],[4.34625],[4.38563],[4.425],[4.46437],[4.50375],[4.54312],[4.5825],[4.62188],[4.66125],[4.70063],[4.74],[4.77937],[4.81875],[4.85813],[4.8975],[4.93688],[4.97625],[5.01562],[5.055],[5.09438],[5.13375],[5.17313],[5.2125],[5.25188],[5.29125],[5.33063],[5.37],[5.40938],[5.44875],[5.48813],[5.5275],[5.56688],[5.60625],[5.64563],[5.685],[5.72438],[5.76375],[5.80313],[5.8425],[5.88188],[5.92125],[5.96063],[6],[6.03938],[6.07875],[6.11813],[6.1575],[6.19688],[6.23625],[6.27563],[6.315],[6.35438],[6.39375],[6.43313],[6.4725],[6.51188],[6.55125],[6.59063],[6.63],[6.66938],[6.70875],[6.74813],[6.7875],[6.82688],[6.86625],[6.90563],[6.945],[6.98438],[7.02375],[7.06313],[7.1025],[7.14188],[7.18125],[7.22063],[7.26],[7.29938],[7.33875],[7.37813],[7.4175],[7.45688],[7.49625],[7.53563],[7.575],[7.61438],[7.65375],[7.69313],[7.7325],[7.77188],[7.81125],[7.85063],[7.89],[7.92938],[7.96875],[8.00813],[8.0475],[8.08688],[8.12625],[8.16563],[8.205],[8.24438],[8.28375],[8.32313],[8.3625],[8.40188],[8.44125],[8.48063],[8.52]] y=class=Sample name=Unnamed implementation=class=SampleImplementation name=Unnamed size=129 dimension=1 data=[[3.72],[3.77906],[3.83812],[3.89719],[3.95625],[4.01531],[4.07437],[4.13344],[4.1925],[4.25156],[4.31062],[4.36969],[4.42875],[4.48781],[4.54688],[4.60594],[4.665],[4.72406],[4.78313],[4.84219],[4.90125],[4.96031],[5.01938],[5.07844],[5.1375],[5.19656],[5.25563],[5.31469],[5.37375],[5.43281],[5.49188],[5.55094],[5.61],[5.66906],[5.72813],[5.78719],[5.84625],[5.90531],[5.96438],[6.02344],[6.0825],[6.14156],[6.20063],[6.25969],[6.31875],[6.37781],[6.43688],[6.49594],[6.555],[6.61406],[6.67313],[6.73219],[6.79125],[6.85031],[6.90938],[6.96844],[7.0275],[7.08656],[7.14563],[7.20469],[7.26375],[7.32281],[7.38188],[7.44094],[7.5],[7.55906],[7.61813],[7.67719],[7.73625],[7.79531],[7.85438],[7.91344],[7.9725],[8.03156],[8.09063],[8.14969],[8.20875],[8.26781],[8.32688],[8.38594],[8.445],[8.50406],[8.56313],[8.62219],[8.68125],[8.74031],[8.79938],[8.85844],[8.9175],[8.97656],[9.03563],[9.09469],[9.15375],[9.21281],[9.27188],[9.33094],[9.39],[9.44906],[9.50813],[9.56719],[9.62625],[9.68531],[9.74438],[9.80344],[9.8625],[9.92156],[9.98063],[10.0397],[10.0988],[10.1578],[10.2169],[10.2759],[10.335],[10.3941],[10.4531],[10.5122],[10.5713],[10.6303],[10.6894],[10.7484],[10.8075],[10.8666],[10.9256],[10.9847],[11.0438],[11.1028],[11.1619],[11.2209],[11.28]] levels=class=Point name=Unnamed dimension=1 values=[0.213787] labels=[0.213787] show labels=false derived from class=DrawableImplementation name=cdf as a function of (X0,X1) legend=0.213787 data=class=Sample name=Unnamed implementation=class=SampleImplementation name=Unnamed size=16641 dimension=1 data=[[0],[0],[0],...,[1],[1],[1]] color=blue fillStyle=solid lineStyle=solid pointStyle=plus lineWidth=1,class=Drawable name=cdf as a function of (X0,X1) implementation=class=Contour name=cdf as a function of (X0,X1) x=class=Sample name=Unnamed implementation=class=SampleImplementation name=Unnamed size=129 dimension=1 data=[[3.48],[3.51937],[3.55875],[3.59812],[3.6375],[3.67687],[3.71625],[3.75562],[3.795],[3.83437],[3.87375],[3.91312],[3.9525],[3.99187],[4.03125],[4.07062],[4.11],[4.14938],[4.18875],[4.22812],[4.2675],[4.30687],[4.34625],[4.38563],[4.425],[4.46437],[4.50375],[4.54312],[4.5825],[4.62188],[4.66125],[4.70063],[4.74],[4.77937],[4.81875],[4.85813],[4.8975],[4.93688],[4.97625],[5.01562],[5.055],[5.09438],[5.13375],[5.17313],[5.2125],[5.25188],[5.29125],[5.33063],[5.37],[5.40938],[5.44875],[5.48813],[5.5275],[5.56688],[5.60625],[5.64563],[5.685],[5.72438],[5.76375],[5.80313],[5.8425],[5.88188],[5.92125],[5.96063],[6],[6.03938],[6.07875],[6.11813],[6.1575],[6.19688],[6.23625],[6.27563],[6.315],[6.35438],[6.39375],[6.43313],[6.4725],[6.51188],[6.55125],[6.59063],[6.63],[6.66938],[6.70875],[6.74813],[6.7875],[6.82688],[6.86625],[6.90563],[6.945],[6.98438],[7.02375],[7.06313],[7.1025],[7.14188],[7.18125],[7.22063],[7.26],[7.29938],[7.33875],[7.37813],[7.4175],[7.45688],[7.49625],[7.53563],[7.575],[7.61438],[7.65375],[7.69313],[7.7325],[7.77188],[7.81125],[7.85063],[7.89],[7.92938],[7.96875],[8.00813],[8.0475],[8.08688],[8.12625],[8.16563],[8.205],[8.24438],[8.28375],[8.32313],[8.3625],[8.40188],[8.44125],[8.48063],[8.52]] y=class=Sample name=Unnamed implementation=class=SampleImplementation name=Unnamed size=129 dimension=1 data=[[3.72],[3.77906],[3.83812],[3.89719],[3.95625],[4.01531],[4.07437],[4.13344],[4.1925],[4.25156],[4.31062],[4.36969],[4.42875],[4.48781],[4.54688],[4.60594],[4.665],[4.72406],[4.78313],[4.84219],[4.90125],[4.96031],[5.01938],[5.07844],[5.1375],[5.19656],[5.25563],[5.31469],[5.37375],[5.43281],[5.49188],[5.55094],[5.61],[5.66906],[5.72813],[5.78719],[5.84625],[5.90531],[5.96438],[6.02344],[6.0825],[6.14156],[6.20063],[6.25969],[6.31875],[6.37781],[6.43688],[6.49594],[6.555],[6.61406],[6.67313],[6.73219],[6.79125],[6.85031],[6.90938],[6.96844],[7.0275],[7.08656],[7.14563],[7.20469],[7.26375],[7.32281],[7.38188],[7.44094],[7.5],[7.55906],[7.61813],[7.67719],[7.73625],[7.79531],[7.85438],[7.91344],[7.9725],[8.03156],[8.09063],[8.14969],[8.20875],[8.26781],[8.32688],[8.38594],[8.445],[8.50406],[8.56313],[8.62219],[8.68125],[8.74031],[8.79938],[8.85844],[8.9175],[8.97656],[9.03563],[9.09469],[9.15375],[9.21281],[9.27188],[9.33094],[9.39],[9.44906],[9.50813],[9.56719],[9.62625],[9.68531],[9.74438],[9.80344],[9.8625],[9.92156],[9.98063],[10.0397],[10.0988],[10.1578],[10.2169],[10.2759],[10.335],[10.3941],[10.4531],[10.5122],[10.5713],[10.6303],[10.6894],[10.7484],[10.8075],[10.8666],[10.9256],[10.9847],[11.0438],[11.1028],[11.1619],[11.2209],[11.28]] levels=class=Point name=Unnamed dimension=1 values=[0.460625] labels=[0.460625] show labels=false derived from class=DrawableImplementation name=cdf as a function of (X0,X1) legend=0.460625 data=class=Sample name=Unnamed implementation=class=SampleImplementation name=Unnamed size=16641 dimension=1 data=[[0],[0],[0],...,[1],[1],[1]] color=blue fillStyle=solid lineStyle=solid pointStyle=plus lineWidth=1,class=Drawable name=cdf as a function of (X0,X1) implementation=class=Contour name=cdf as a function of (X0,X1) x=class=Sample name=Unnamed implementation=class=SampleImplementation name=Unnamed size=129 dimension=1 data=[[3.48],[3.51937],[3.55875],[3.59812],[3.6375],[3.67687],[3.71625],[3.75562],[3.795],[3.83437],[3.87375],[3.91312],[3.9525],[3.99187],[4.03125],[4.07062],[4.11],[4.14938],[4.18875],[4.22812],[4.2675],[4.30687],[4.34625],[4.38563],[4.425],[4.46437],[4.50375],[4.54312],[4.5825],[4.62188],[4.66125],[4.70063],[4.74],[4.77937],[4.81875],[4.85813],[4.8975],[4.93688],[4.97625],[5.01562],[5.055],[5.09438],[5.13375],[5.17313],[5.2125],[5.25188],[5.29125],[5.33063],[5.37],[5.40938],[5.44875],[5.48813],[5.5275],[5.56688],[5.60625],[5.64563],[5.685],[5.72438],[5.76375],[5.80313],[5.8425],[5.88188],[5.92125],[5.96063],[6],[6.03938],[6.07875],[6.11813],[6.1575],[6.19688],[6.23625],[6.27563],[6.315],[6.35438],[6.39375],[6.43313],[6.4725],[6.51188],[6.55125],[6.59063],[6.63],[6.66938],[6.70875],[6.74813],[6.7875],[6.82688],[6.86625],[6.90563],[6.945],[6.98438],[7.02375],[7.06313],[7.1025],[7.14188],[7.18125],[7.22063],[7.26],[7.29938],[7.33875],[7.37813],[7.4175],[7.45688],[7.49625],[7.53563],[7.575],[7.61438],[7.65375],[7.69313],[7.7325],[7.77188],[7.81125],[7.85063],[7.89],[7.92938],[7.96875],[8.00813],[8.0475],[8.08688],[8.12625],[8.16563],[8.205],[8.24438],[8.28375],[8.32313],[8.3625],[8.40188],[8.44125],[8.48063],[8.52]] y=class=Sample name=Unnamed implementation=class=SampleImplementation name=Unnamed size=129 dimension=1 data=[[3.72],[3.77906],[3.83812],[3.89719],[3.95625],[4.01531],[4.07437],[4.13344],[4.1925],[4.25156],[4.31062],[4.36969],[4.42875],[4.48781],[4.54688],[4.60594],[4.665],[4.72406],[4.78313],[4.84219],[4.90125],[4.96031],[5.01938],[5.07844],[5.1375],[5.19656],[5.25563],[5.31469],[5.37375],[5.43281],[5.49188],[5.55094],[5.61],[5.66906],[5.72813],[5.78719],[5.84625],[5.90531],[5.96438],[6.02344],[6.0825],[6.14156],[6.20063],[6.25969],[6.31875],[6.37781],[6.43688],[6.49594],[6.555],[6.61406],[6.67313],[6.73219],[6.79125],[6.85031],[6.90938],[6.96844],[7.0275],[7.08656],[7.14563],[7.20469],[7.26375],[7.32281],[7.38188],[7.44094],[7.5],[7.55906],[7.61813],[7.67719],[7.73625],[7.79531],[7.85438],[7.91344],[7.9725],[8.03156],[8.09063],[8.14969],[8.20875],[8.26781],[8.32688],[8.38594],[8.445],[8.50406],[8.56313],[8.62219],[8.68125],[8.74031],[8.79938],[8.85844],[8.9175],[8.97656],[9.03563],[9.09469],[9.15375],[9.21281],[9.27188],[9.33094],[9.39],[9.44906],[9.50813],[9.56719],[9.62625],[9.68531],[9.74438],[9.80344],[9.8625],[9.92156],[9.98063],[10.0397],[10.0988],[10.1578],[10.2169],[10.2759],[10.335],[10.3941],[10.4531],[10.5122],[10.5713],[10.6303],[10.6894],[10.7484],[10.8075],[10.8666],[10.9256],[10.9847],[11.0438],[11.1028],[11.1619],[11.2209],[11.28]] levels=class=Point name=Unnamed dimension=1 values=[0.775625] labels=[0.775625] show labels=false derived from class=DrawableImplementation name=cdf as a function of (X0,X1) legend=0.775625 data=class=Sample name=Unnamed implementation=class=SampleImplementation name=Unnamed size=16641 dimension=1 data=[[0],[0],[0],...,[1],[1],[1]] color=blue fillStyle=solid lineStyle=solid pointStyle=plus lineWidth=1,class=Drawable name=cdf as a function of (X0,X1) implementation=class=Contour name=cdf as a function of (X0,X1) x=class=Sample name=Unnamed implementation=class=SampleImplementation name=Unnamed size=129 dimension=1 data=[[3.48],[3.51937],[3.55875],[3.59812],[3.6375],[3.67687],[3.71625],[3.75562],[3.795],[3.83437],[3.87375],[3.91312],[3.9525],[3.99187],[4.03125],[4.07062],[4.11],[4.14938],[4.18875],[4.22812],[4.2675],[4.30687],[4.34625],[4.38563],[4.425],[4.46437],[4.50375],[4.54312],[4.5825],[4.62188],[4.66125],[4.70063],[4.74],[4.77937],[4.81875],[4.85813],[4.8975],[4.93688],[4.97625],[5.01562],[5.055],[5.09438],[5.13375],[5.17313],[5.2125],[5.25188],[5.29125],[5.33063],[5.37],[5.40938],[5.44875],[5.48813],[5.5275],[5.56688],[5.60625],[5.64563],[5.685],[5.72438],[5.76375],[5.80313],[5.8425],[5.88188],[5.92125],[5.96063],[6],[6.03938],[6.07875],[6.11813],[6.1575],[6.19688],[6.23625],[6.27563],[6.315],[6.35438],[6.39375],[6.43313],[6.4725],[6.51188],[6.55125],[6.59063],[6.63],[6.66938],[6.70875],[6.74813],[6.7875],[6.82688],[6.86625],[6.90563],[6.945],[6.98438],[7.02375],[7.06313],[7.1025],[7.14188],[7.18125],[7.22063],[7.26],[7.29938],[7.33875],[7.37813],[7.4175],[7.45688],[7.49625],[7.53563],[7.575],[7.61438],[7.65375],[7.69313],[7.7325],[7.77188],[7.81125],[7.85063],[7.89],[7.92938],[7.96875],[8.00813],[8.0475],[8.08688],[8.12625],[8.16563],[8.205],[8.24438],[8.28375],[8.32313],[8.3625],[8.40188],[8.44125],[8.48063],[8.52]] y=class=Sample name=Unnamed implementation=class=SampleImplementation name=Unnamed size=129 dimension=1 data=[[3.72],[3.77906],[3.83812],[3.89719],[3.95625],[4.01531],[4.07437],[4.13344],[4.1925],[4.25156],[4.31062],[4.36969],[4.42875],[4.48781],[4.54688],[4.60594],[4.665],[4.72406],[4.78313],[4.84219],[4.90125],[4.96031],[5.01938],[5.07844],[5.1375],[5.19656],[5.25563],[5.31469],[5.37375],[5.43281],[5.49188],[5.55094],[5.61],[5.66906],[5.72813],[5.78719],[5.84625],[5.90531],[5.96438],[6.02344],[6.0825],[6.14156],[6.20063],[6.25969],[6.31875],[6.37781],[6.43688],[6.49594],[6.555],[6.61406],[6.67313],[6.73219],[6.79125],[6.85031],[6.90938],[6.96844],[7.0275],[7.08656],[7.14563],[7.20469],[7.26375],[7.32281],[7.38188],[7.44094],[7.5],[7.55906],[7.61813],[7.67719],[7.73625],[7.79531],[7.85438],[7.91344],[7.9725],[8.03156],[8.09063],[8.14969],[8.20875],[8.26781],[8.32688],[8.38594],[8.445],[8.50406],[8.56313],[8.62219],[8.68125],[8.74031],[8.79938],[8.85844],[8.9175],[8.97656],[9.03563],[9.09469],[9.15375],[9.21281],[9.27188],[9.33094],[9.39],[9.44906],[9.50813],[9.56719],[9.62625],[9.68531],[9.74438],[9.80344],[9.8625],[9.92156],[9.98063],[10.0397],[10.0988],[10.1578],[10.2169],[10.2759],[10.335],[10.3941],[10.4531],[10.5122],[10.5713],[10.6303],[10.6894],[10.7484],[10.8075],[10.8666],[10.9256],[10.9847],[11.0438],[11.1028],[11.1619],[11.2209],[11.28]] levels=class=Point name=Unnamed dimension=1 values=[1] labels=[1] show labels=false derived from class=DrawableImplementation name=cdf as a function of (X0,X1) legend=1 data=class=Sample name=Unnamed implementation=class=SampleImplementation name=Unnamed size=16641 dimension=1 data=[[0],[0],[0],...,[1],[1],[1]] color=blue fillStyle=solid lineStyle=solid pointStyle=plus lineWidth=1]"
      ]
     },
     "execution_count": 4,
     "metadata": {},
     "output_type": "execute_result"
    }
   ],
   "source": [
    "graph = distribution.drawCDF()\n",
    "graph.setColors([\"blue\"])\n",
    "graph"
   ]
  },
  {
   "cell_type": "markdown",
   "metadata": {},
   "source": [
    "We can easily generate sample:"
   ]
  },
  {
   "cell_type": "code",
   "execution_count": 5,
   "metadata": {},
   "outputs": [
    {
     "data": {
      "text/html": [
       "<TABLE><TR><TD></TD><TH>v0</TH><TH>v1</TH></TR>\n",
       "<TR><TH>0</TH><TD>6.259753</TD><TD>8.648416</TD></TR>\n",
       "<TR><TH>1</TH><TD>5.270553</TD><TD>6.097508</TD></TR>\n",
       "<TR><TH>2</TH><TD>5.694114</TD><TD>8.908269</TD></TR>\n",
       "<TR><TH>3</TH><TD>6.841359</TD><TD>7.50912</TD></TR>\n",
       "<TR><TH>4</TH><TD>5.126412</TD><TD>6.878271</TD></TR>\n",
       "</TABLE>"
      ],
      "text/plain": [
       "class=Sample name=Unnamed implementation=class=SampleImplementation name=Unnamed size=5 dimension=2 data=[[6.25975,8.64842],[5.27055,6.09751],[5.69411,8.90827],[6.84136,7.50912],[5.12641,6.87827]]"
      ]
     },
     "execution_count": 5,
     "metadata": {},
     "output_type": "execute_result"
    }
   ],
   "source": [
    "distribution.getSample(5)"
   ]
  },
  {
   "cell_type": "markdown",
   "metadata": {},
   "source": [
    "or compute the `mean`:"
   ]
  },
  {
   "cell_type": "code",
   "execution_count": 6,
   "metadata": {},
   "outputs": [
    {
     "data": {
      "text/html": [
       "<p>[6,7.5]</p>"
      ],
      "text/plain": [
       "class=Point name=Unnamed dimension=2 values=[6,7.5]"
      ]
     },
     "execution_count": 6,
     "metadata": {},
     "output_type": "execute_result"
    }
   ],
   "source": [
    "distribution.getMean()"
   ]
  },
  {
   "cell_type": "markdown",
   "metadata": {},
   "source": [
    "Also we can compute the probability contained in an interval :"
   ]
  },
  {
   "cell_type": "code",
   "execution_count": 7,
   "metadata": {},
   "outputs": [
    {
     "data": {
      "text/plain": [
       "0.75"
      ]
     },
     "execution_count": 7,
     "metadata": {},
     "output_type": "execute_result"
    }
   ],
   "source": [
    "distribution.computeProbability(ot.Interval([5.5, 6], [8.5, 9]))"
   ]
  },
  {
   "cell_type": "markdown",
   "metadata": {},
   "source": [
    "And do more (see `Distribution` for all methods)"
   ]
  }
 ],
 "metadata": {
  "kernelspec": {
   "display_name": "Python 3",
   "language": "python",
   "name": "python3"
  },
  "language_info": {
   "codemirror_mode": {
    "name": "ipython",
    "version": 3
   },
   "file_extension": ".py",
   "mimetype": "text/x-python",
   "name": "python",
   "nbconvert_exporter": "python",
   "pygments_lexer": "ipython3",
   "version": "3.7.3"
  }
 },
 "nbformat": 4,
 "nbformat_minor": 1
}
