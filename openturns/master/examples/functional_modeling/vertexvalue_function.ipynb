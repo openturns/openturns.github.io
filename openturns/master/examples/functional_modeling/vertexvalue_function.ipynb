{
 "cells": [
  {
   "cell_type": "markdown",
   "metadata": {},
   "source": [
    "# Vertex value function"
   ]
  },
  {
   "cell_type": "markdown",
   "metadata": {},
   "source": [
    "\n",
    "A vertex value function\n",
    "$f_{vertexvalue}: \\mathcal{D} \\times \\mathbb{R}^d \\rightarrow \\mathcal{D} \\times \\mathbb{R}^q$ is a\n",
    "particular field function that lets invariant the mesh of a field\n",
    "and defined by a function $h : \\mathbb{R}^n \\times \\mathbb{R}^d  \\rightarrow \\mathbb{R}^q$ such that:\n",
    "\n",
    "$$\\begin{aligned} f_{vertexvalue}(\\underline{t}, \\underline{x})=(\\underline{t}, h(\\underline{t},\\underline{x}))\\end{aligned}$$\n",
    "\n",
    "Let’s note that the input dimension of $f_{vertexvalue}$ still design the\n",
    "dimension of $\\underline{x}$ : $d$. Its output dimension is equal to $q$.\n",
    "\n",
    "The creation of the *VertexValueFunction* object requires the\n",
    "function $h$ and the integer $n$: the dimension of the\n",
    "vertices of the mesh $\\mathcal{M}$.\n",
    "\n",
    "This example illustrates the creation of a field from the function\n",
    "$h:\\mathbb{R}\\times\\mathbb{R}^2$ such as:\n",
    "\n",
    "$$\\begin{aligned} h(\\underline{t}, \\underline{x})=(t+x_1^2+x_2^2)\\end{aligned}$$\n"
   ]
  },
  {
   "cell_type": "code",
   "execution_count": 30,
   "metadata": {},
   "outputs": [],
   "source": [
    "from __future__ import print_function\n",
    "import openturns as ot\n",
    "import math as m"
   ]
  },
  {
   "cell_type": "code",
   "execution_count": 31,
   "metadata": {},
   "outputs": [],
   "source": [
    "# Create a mesh\n",
    "N = 100\n",
    "mesh = ot.RegularGrid(0.0, 1.0, N)"
   ]
  },
  {
   "cell_type": "code",
   "execution_count": 32,
   "metadata": {},
   "outputs": [],
   "source": [
    "# Create the function that acts the values of the mesh\n",
    "h = ot.SymbolicFunction(['t', 'x1', 'x2'],  ['t+x1^2+x2^2'])"
   ]
  },
  {
   "cell_type": "code",
   "execution_count": 33,
   "metadata": {},
   "outputs": [],
   "source": [
    "# Create the field function\n",
    "f = ot.VertexValueFunction(h, mesh)"
   ]
  },
  {
   "cell_type": "code",
   "execution_count": 35,
   "metadata": {},
   "outputs": [
    {
     "data": {
      "text/html": [
       "<TABLE><TR><TD></TD><TH>t</TH><TH>X0</TH><TH>X1</TH><TH>y0</TH></TR>\n",
       "<TR><TD>0</TD><TD>0.0</TD><TD>-0.2123086987944725</TD><TD>-0.7893040071601587</TD><TD>0.6680757993028859</TD></TR>\n",
       "<TR><TD>1</TD><TD>1.0</TD><TD>1.5290373341626469</TD><TD>-1.304449412588666</TD><TD>5.039543439266129</TD></TR>\n",
       "<TR><TD>2</TD><TD>2.0</TD><TD>0.3736086588719189</TD><TD>-0.6418723437038079</TD><TD>2.551583535595893</TD></TR>\n",
       "<TR><TD>3</TD><TD>3.0</TD><TD>0.7298081558085032</TD><TD>-0.9832478695352569</TD><TD>4.4993963172302305</TD></TR>\n",
       "<TR><TD>4</TD><TD>4.0</TD><TD>0.9660822714813948</TD><TD>0.1490416675117666</TD><TD>4.955528373925339</TD></TR>\n",
       "<TR><TD>5</TD><TD>5.0</TD><TD>0.04030023504666454</TD><TD>1.3174179103602734</TD><TD>6.737214059482846</TD></TR>\n",
       "<TR><TD>6</TD><TD>6.0</TD><TD>-0.2949152511221915</TD><TD>0.6153272637397903</TD><TD>6.465602646845962</TD></TR>\n",
       "<TR><TD>7</TD><TD>7.0</TD><TD>0.5106266891413226</TD><TD>-0.5369799682760767</TD><TD>7.549087101993205</TD></TR>\n",
       "<TR><TD>8</TD><TD>8.0</TD><TD>0.9674464251994424</TD><TD>-0.25673537559122184</TD><TD>9.001865638711145</TD></TR>\n",
       "<TR><TD>9</TD><TD>9.0</TD><TD>-1.0063128915366755</TD><TD>-1.2324330184244943</TD><TD>11.531556780575814</TD></TR>\n",
       "</TABLE>"
      ],
      "text/plain": [
       "class=Sample name=Unnamed implementation=class=SampleImplementation name=Unnamed size=10 dimension=4 description=[t,X0,X1,y0] data=[[0,-0.212309,-0.789304,0.668076],[1,1.52904,-1.30445,5.03954],[2,0.373609,-0.641872,2.55158],[3,0.729808,-0.983248,4.4994],[4,0.966082,0.149042,4.95553],[5,0.0403002,1.31742,6.73721],[6,-0.294915,0.615327,6.4656],[7,0.510627,-0.53698,7.54909],[8,0.967446,-0.256735,9.00187],[9,-1.00631,-1.23243,11.5316]]"
      ]
     },
     "execution_count": 35,
     "metadata": {},
     "output_type": "execute_result"
    }
   ],
   "source": [
    "# Evaluate f\n",
    "inF = ot.Normal(2).getSample(N)\n",
    "outF = f(inF)\n",
    "\n",
    "# print input/output at first 10 mesh nodes\n",
    "txy = mesh.getVertices()\n",
    "txy.stack(inF)\n",
    "txy.stack(outF)\n",
    "txy[:10]"
   ]
  }
 ],
 "metadata": {
  "kernelspec": {
   "display_name": "Python 3",
   "language": "python",
   "name": "python3"
  },
  "language_info": {
   "codemirror_mode": {
    "name": "ipython",
    "version": 3
   },
   "file_extension": ".py",
   "mimetype": "text/x-python",
   "name": "python",
   "nbconvert_exporter": "python",
   "pygments_lexer": "ipython3",
   "version": "3.6.5"
  }
 },
 "nbformat": 4,
 "nbformat_minor": 1
}
