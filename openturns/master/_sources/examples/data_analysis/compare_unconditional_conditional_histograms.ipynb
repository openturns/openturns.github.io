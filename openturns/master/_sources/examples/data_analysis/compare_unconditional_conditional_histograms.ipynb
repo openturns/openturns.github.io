{
 "cells": [
  {
   "cell_type": "markdown",
   "metadata": {},
   "source": [
    "# Compare unconditional and conditional histograms"
   ]
  },
  {
   "cell_type": "markdown",
   "metadata": {},
   "source": [
    "In this example, we compare unconditional and conditional histograms for a simulation. We consider the flooding model. Let $g$ be a function which takes four inputs $Q$, $K_s$, $Z_v$ and $Z_m$ and returns one output $H$. \n",
    "\n",
    "We first consider the (unconditional) distribution of the input $Q$. \n",
    "\n",
    "Let $t$ be a given threshold on the output $H$: we consider the event $H>t$. Then we consider the conditional distribution of the input $Q$ given that $H>t$ : $Q|H>t$. \n",
    "\n",
    "If these two distributions are significantly different, we conclude that the input $Q$ has an impact on the event $H>t$. \n",
    "\n",
    "In order to approximate the distribution of the output $H$, we perform a Monte-Carlo simulation with size 500. The threshold $t$ is chosen as the 90% quantile of the empirical distribution of $H$. In this example, the distribution is aproximated by its empirical histogram (but this could be done with another distribution approximation as well, such as kernel smoothing for example)."
   ]
  },
  {
   "cell_type": "code",
   "execution_count": 1,
   "metadata": {},
   "outputs": [],
   "source": [
    "import openturns as ot"
   ]
  },
  {
   "cell_type": "markdown",
   "metadata": {},
   "source": [
    "Create the marginal distributions of the parameters."
   ]
  },
  {
   "cell_type": "code",
   "execution_count": 2,
   "metadata": {},
   "outputs": [],
   "source": [
    "dist_Q = ot.TruncatedDistribution(ot.Gumbel(558., 1013.), 0, ot.TruncatedDistribution.LOWER)\n",
    "dist_Ks = ot.TruncatedDistribution(ot.Normal(30.0, 7.5), 0, ot.TruncatedDistribution.LOWER)\n",
    "dist_Zv = ot.Uniform(49.0, 51.0)\n",
    "dist_Zm = ot.Uniform(54.0, 56.0)\n",
    "marginals = [dist_Q, dist_Ks, dist_Zv, dist_Zm]"
   ]
  },
  {
   "cell_type": "markdown",
   "metadata": {},
   "source": [
    "Create the joint probability distribution."
   ]
  },
  {
   "cell_type": "code",
   "execution_count": 3,
   "metadata": {},
   "outputs": [],
   "source": [
    "distribution = ot.ComposedDistribution(marginals)\n",
    "distribution.setDescription(['Q', 'Ks', 'Zv', 'Zm'])"
   ]
  },
  {
   "cell_type": "markdown",
   "metadata": {},
   "source": [
    "Create the model."
   ]
  },
  {
   "cell_type": "code",
   "execution_count": 4,
   "metadata": {},
   "outputs": [],
   "source": [
    "model = ot.SymbolicFunction(['Q', 'Ks', 'Zv', 'Zm'],\n",
    "                            ['(Q/(Ks*300.*sqrt((Zm-Zv)/5000)))^(3.0/5.0)'])"
   ]
  },
  {
   "cell_type": "markdown",
   "metadata": {},
   "source": [
    "Create a sample."
   ]
  },
  {
   "cell_type": "code",
   "execution_count": 5,
   "metadata": {},
   "outputs": [],
   "source": [
    "size = 500\n",
    "inputSample = distribution.getSample(size)\n",
    "outputSample = model(inputSample)"
   ]
  },
  {
   "cell_type": "markdown",
   "metadata": {},
   "source": [
    "Merge the input and output samples into a single sample."
   ]
  },
  {
   "cell_type": "code",
   "execution_count": 6,
   "metadata": {},
   "outputs": [
    {
     "data": {
      "text/html": [
       "<TABLE><TR><TD></TD><TH>v0</TH><TH>v1</TH><TH>v2</TH><TH>v3</TH><TH>v4</TH></TR>\n",
       "<TR><TD>0</TD><TD>1443.602798325532</TD><TD>30.156613494725274</TD><TD>49.11713595070338</TD><TD>55.59185930777356</TD><TD>2.4439424253360924</TD></TR>\n",
       "<TR><TD>1</TD><TD>2174.8898945480146</TD><TD>34.67890291392808</TD><TD>50.764851072298455</TD><TD>55.87647205461956</TD><TD>3.085132426791521</TD></TR>\n",
       "<TR><TD>2</TD><TD>626.1023680891167</TD><TD>35.75352992912951</TD><TD>50.03020209989136</TD><TD>54.661879004882564</TD><TD>1.478061905093236</TD></TR>\n",
       "<TR><TD>3</TD><TD>325.8123641551359</TD><TD>36.665987740324184</TD><TD>49.026338291130784</TD><TD>55.366752716918725</TD><TD>0.8953760185932061</TD></TR>\n",
       "<TR><TD>4</TD><TD>981.3994326290226</TD><TD>41.10229410031924</TD><TD>49.39776320365176</TD><TD>54.84770660838047</TD><TD>1.6954636957219766</TD></TR>\n",
       "</TABLE>"
      ],
      "text/plain": [
       "class=Sample name=Unnamed implementation=class=SampleImplementation name=Unnamed size=5 dimension=5 description=[v0,v1,v2,v3,v4] data=[[1443.6,30.1566,49.1171,55.5919,2.44394],[2174.89,34.6789,50.7649,55.8765,3.08513],[626.102,35.7535,50.0302,54.6619,1.47806],[325.812,36.666,49.0263,55.3668,0.895376],[981.399,41.1023,49.3978,54.8477,1.69546]]"
      ]
     },
     "execution_count": 6,
     "metadata": {},
     "output_type": "execute_result"
    }
   ],
   "source": [
    "sample = ot.Sample(size,5)\n",
    "sample[:,0:4] = inputSample\n",
    "sample[:,4] = outputSample\n",
    "sample[0:5,:]"
   ]
  },
  {
   "cell_type": "markdown",
   "metadata": {},
   "source": [
    "Extract the first column of `inputSample` into the sample of the flowrates $Q$."
   ]
  },
  {
   "cell_type": "code",
   "execution_count": 7,
   "metadata": {},
   "outputs": [],
   "source": [
    "sampleQ = inputSample[:,0]"
   ]
  },
  {
   "cell_type": "code",
   "execution_count": 8,
   "metadata": {},
   "outputs": [],
   "source": [
    "import numpy as np\n",
    "\n",
    "def computeConditionnedSample(sample, alpha = 0.9, criteriaComponent = None, selectedComponent = 0):\n",
    "    '''\n",
    "    Return values from the selectedComponent-th component of the sample. \n",
    "    Selects the values according to the alpha-level quantile of \n",
    "    the criteriaComponent-th component of the sample.\n",
    "    '''\n",
    "    dim = sample.getDimension()\n",
    "    if criteriaComponent is None:\n",
    "        criteriaComponent = dim - 1\n",
    "    sortedSample = sample.sortAccordingToAComponent(criteriaComponent)   \n",
    "    quantiles = sortedSample.computeQuantilePerComponent(alpha)\n",
    "    quantileValue = quantiles[criteriaComponent]\n",
    "    sortedSampleCriteria = sortedSample[:,criteriaComponent]\n",
    "    indices = np.where(np.array(sortedSampleCriteria.asPoint())>quantileValue)[0]\n",
    "    conditionnedSortedSample = sortedSample[int(indices[0]):,selectedComponent]\n",
    "    return conditionnedSortedSample"
   ]
  },
  {
   "cell_type": "markdown",
   "metadata": {},
   "source": [
    "Create an histogram for the unconditional flowrates."
   ]
  },
  {
   "cell_type": "code",
   "execution_count": 9,
   "metadata": {},
   "outputs": [],
   "source": [
    "numberOfBins = 10\n",
    "histogram = ot.HistogramFactory().buildAsHistogram(sampleQ,numberOfBins)"
   ]
  },
  {
   "cell_type": "markdown",
   "metadata": {},
   "source": [
    "Extract the sub-sample of the input flowrates Q which leads to large values of the output H."
   ]
  },
  {
   "cell_type": "code",
   "execution_count": 10,
   "metadata": {},
   "outputs": [],
   "source": [
    "alpha = 0.9\n",
    "criteriaComponent = 4\n",
    "selectedComponent = 0\n",
    "conditionnedSampleQ = computeConditionnedSample(sample,alpha,criteriaComponent,selectedComponent)"
   ]
  },
  {
   "cell_type": "markdown",
   "metadata": {},
   "source": [
    "We could as well use:\n",
    "```\n",
    "conditionnedHistogram = ot.HistogramFactory().buildAsHistogram(conditionnedSampleQ)\n",
    "```\n",
    "but this creates an histogram with new classes, corresponding \n",
    "to `conditionnedSampleQ`.\n",
    "We want to use exactly the same classes as the full sample, \n",
    "so that the two histograms match."
   ]
  },
  {
   "cell_type": "code",
   "execution_count": 11,
   "metadata": {},
   "outputs": [],
   "source": [
    "first = histogram.getFirst()\n",
    "width = histogram.getWidth()\n",
    "conditionnedHistogram = ot.HistogramFactory().buildAsHistogram(conditionnedSampleQ,first,width)"
   ]
  },
  {
   "cell_type": "markdown",
   "metadata": {},
   "source": [
    "Then creates a graphics with the unconditional and the conditional histograms."
   ]
  },
  {
   "cell_type": "code",
   "execution_count": 12,
   "metadata": {},
   "outputs": [
    {
     "data": {
      "image/png": "[encoded data removed]",
      "text/plain": [
       "class=Graph name=Q PDF implementation=class=GraphImplementation name=Q PDF title=Q PDF xTitle=Q yTitle=PDF axes=ON grid=ON legendposition=topright legendFontSize=1 drawables=[class=Drawable name=Unnamed implementation=class=Curve name=Unnamed derived from class=DrawableImplementation name=Unnamed legend=Q data=class=Sample name=Unnamed implementation=class=SampleImplementation name=Unnamed size=44 dimension=2 data=[[-141.582,0],[65.5199,0],[65.5199,0],[65.5199,0.000183485],[479.723,0.000183485],[479.723,0],[479.723,0],[479.723,0.000502169],[893.926,0.000502169],[893.926,0],[893.926,0],[893.926,0.000675997],[1308.13,0.000675997],[1308.13,0],[1308.13,0],[1308.13,0.000478026],[1722.33,0.000478026],[1722.33,0],[1722.33,0],[1722.33,0.000255913],[2136.54,0.000255913],[2136.54,0],[2136.54,0],[2136.54,0.000159342],[2550.74,0.000159342],[2550.74,0],[2550.74,0],[2550.74,7.72567e-05],[2964.94,7.72567e-05],[2964.94,0],[2964.94,0],[2964.94,3.86284e-05],[3379.15,3.86284e-05],[3379.15,0],[3379.15,0],[3379.15,2.89713e-05],[3793.35,2.89713e-05],[3793.35,0],[3793.35,0],[3793.35,1.44856e-05],[4207.55,1.44856e-05],[4207.55,0],[4207.55,0],[4414.65,0]] color=red fillStyle=solid lineStyle=solid pointStyle=none lineWidth=2,class=Drawable name=Unnamed implementation=class=Curve name=Unnamed derived from class=DrawableImplementation name=Unnamed legend=Q|H>H_0.9 data=class=Sample name=Unnamed implementation=class=SampleImplementation name=Unnamed size=44 dimension=2 data=[[-141.582,0],[65.5199,0],[65.5199,0],[65.5199,0],[479.723,0],[479.723,0],[479.723,0],[479.723,0],[893.926,0],[893.926,0],[893.926,0],[893.926,9.65709e-05],[1308.13,9.65709e-05],[1308.13,0],[1308.13,0],[1308.13,0.000144856],[1722.33,0.000144856],[1722.33,0],[1722.33,0],[1722.33,0.00053114],[2136.54,0.00053114],[2136.54,0],[2136.54,0],[2136.54,0.000627711],[2550.74,0.000627711],[2550.74,0],[2550.74,0],[2550.74,0.000289713],[2964.94,0.000289713],[2964.94,0],[2964.94,0],[2964.94,0.000289713],[3379.15,0.000289713],[3379.15,0],[3379.15,0],[3379.15,0.000289713],[3793.35,0.000289713],[3793.35,0],[3793.35,0],[3793.35,0.000144856],[4207.55,0.000144856],[4207.55,0],[4207.55,0],[4414.65,0]] color=blue fillStyle=solid lineStyle=solid pointStyle=none lineWidth=2]"
      ]
     },
     "execution_count": 12,
     "metadata": {},
     "output_type": "execute_result"
    }
   ],
   "source": [
    "graph = histogram.drawPDF()\n",
    "graph.setLegends([\"Q\"])\n",
    "#\n",
    "graphConditionnalQ = conditionnedHistogram.drawPDF()\n",
    "graphConditionnalQ.setColors([\"blue\"])\n",
    "graphConditionnalQ.setLegends([\"Q|H>H_%s\" % (alpha)])\n",
    "graph.add(graphConditionnalQ)\n",
    "graph"
   ]
  },
  {
   "cell_type": "markdown",
   "metadata": {},
   "source": [
    "We see that the two histograms are very different. The high values of the input $Q$ seem to often lead to a high value of the output $H$. \n",
    "\n",
    "We could explore this situation further by comparing the unconditional distribution of $Q$ (which is known in this case) with the conditonal distribution of $Q|H>t$, estimated by kernel smoothing. This would have the advantage of accuracy, since the kernel smoothing is a more accurate approximation of a distribution than the histogram. "
   ]
  }
 ],
 "metadata": {
  "kernelspec": {
   "display_name": "Python 3",
   "language": "python",
   "name": "python3"
  },
  "language_info": {
   "codemirror_mode": {
    "name": "ipython",
    "version": 3
   },
   "file_extension": ".py",
   "mimetype": "text/x-python",
   "name": "python",
   "nbconvert_exporter": "python",
   "pygments_lexer": "ipython3",
   "version": "3.7.3"
  }
 },
 "nbformat": 4,
 "nbformat_minor": 2
}
