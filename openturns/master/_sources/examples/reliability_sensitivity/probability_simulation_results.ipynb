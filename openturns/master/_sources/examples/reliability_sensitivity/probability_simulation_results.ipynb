{
 "cells": [
  {
   "cell_type": "markdown",
   "metadata": {},
   "source": [
    "# Exploitation of simulation algorithm results"
   ]
  },
  {
   "cell_type": "markdown",
   "metadata": {},
   "source": [
    "In this example we are going to retrieve all the results proposed by probability simulation algorithms:\n",
    "\n",
    "- the probability estimate\n",
    "- the estimator variance\n",
    "- the confidence interval\n",
    "- the convergence graph of the estimator\n",
    "- the stored input and output numerical samples\n",
    "- importance factors"
   ]
  },
  {
   "cell_type": "code",
   "execution_count": 1,
   "metadata": {},
   "outputs": [],
   "source": [
    "from __future__ import print_function\n",
    "import openturns as ot"
   ]
  },
  {
   "cell_type": "markdown",
   "metadata": {},
   "source": [
    "Create the joint distribution of the parameters."
   ]
  },
  {
   "cell_type": "code",
   "execution_count": 2,
   "metadata": {},
   "outputs": [],
   "source": [
    "distribution_R = ot.LogNormalMuSigma(300.0, 30.0, 0.0).getDistribution()\n",
    "distribution_F = ot.Normal(75e3, 5e3)\n",
    "marginals = [distribution_R, distribution_F]\n",
    "distribution = ot.ComposedDistribution(marginals)"
   ]
  },
  {
   "cell_type": "markdown",
   "metadata": {},
   "source": [
    "Create the model."
   ]
  },
  {
   "cell_type": "code",
   "execution_count": 3,
   "metadata": {},
   "outputs": [],
   "source": [
    "model = ot.SymbolicFunction(['R', 'F'], ['R-F/(pi_*100.0)'])"
   ]
  },
  {
   "cell_type": "code",
   "execution_count": 4,
   "metadata": {},
   "outputs": [],
   "source": [
    "modelCallNumberBefore = model.getEvaluationCallsNumber()\n",
    "modelGradientCallNumberBefore = model.getGradientCallsNumber()\n",
    "modelHessianCallNumberBefore = model.getHessianCallsNumber()"
   ]
  },
  {
   "cell_type": "markdown",
   "metadata": {},
   "source": [
    "To have access to the input and output samples after the simulation, activate the History mechanism."
   ]
  },
  {
   "cell_type": "code",
   "execution_count": 5,
   "metadata": {},
   "outputs": [],
   "source": [
    "model = ot.MemoizeFunction(model)"
   ]
  },
  {
   "cell_type": "markdown",
   "metadata": {},
   "source": [
    "Remove all the values stored in the history mechanism. \n",
    "Care : it is done regardless the status of the History mechanism."
   ]
  },
  {
   "cell_type": "code",
   "execution_count": 6,
   "metadata": {},
   "outputs": [],
   "source": [
    "model.clearHistory()"
   ]
  },
  {
   "cell_type": "markdown",
   "metadata": {},
   "source": [
    "Create the event whose probability we want to estimate."
   ]
  },
  {
   "cell_type": "code",
   "execution_count": 7,
   "metadata": {},
   "outputs": [],
   "source": [
    "vect = ot.RandomVector(distribution)\n",
    "G = ot.CompositeRandomVector(model, vect)\n",
    "event = ot.ThresholdEvent(G, ot.Less(), 0.0)"
   ]
  },
  {
   "cell_type": "markdown",
   "metadata": {},
   "source": [
    "Create a Monte Carlo algorithm."
   ]
  },
  {
   "cell_type": "code",
   "execution_count": 8,
   "metadata": {},
   "outputs": [],
   "source": [
    "experiment = ot.MonteCarloExperiment()\n",
    "algo = ot.ProbabilitySimulationAlgorithm(event, experiment)\n",
    "algo.setMaximumCoefficientOfVariation(0.1)\n",
    "algo.setMaximumStandardDeviation(0.001)\n",
    "algo.setMaximumOuterSampling(int(1e4))"
   ]
  },
  {
   "cell_type": "markdown",
   "metadata": {},
   "source": [
    "Define the HistoryStrategy to store the values of $P_n$ and $\\sigma_n$ used ot draw the convergence graph. \n",
    "Compact strategy : N points"
   ]
  },
  {
   "cell_type": "code",
   "execution_count": 9,
   "metadata": {},
   "outputs": [],
   "source": [
    "N = 1000\n",
    "algo.setConvergenceStrategy(ot.Compact(N))\n",
    "algo.run()"
   ]
  },
  {
   "cell_type": "markdown",
   "metadata": {},
   "source": [
    "Retrieve result structure."
   ]
  },
  {
   "cell_type": "code",
   "execution_count": 10,
   "metadata": {},
   "outputs": [],
   "source": [
    "result = algo.getResult()"
   ]
  },
  {
   "cell_type": "markdown",
   "metadata": {},
   "source": [
    "Display the simulation event probability."
   ]
  },
  {
   "cell_type": "code",
   "execution_count": 11,
   "metadata": {},
   "outputs": [
    {
     "data": {
      "text/plain": [
       "0.030580075662042867"
      ]
     },
     "execution_count": 11,
     "metadata": {},
     "output_type": "execute_result"
    }
   ],
   "source": [
    "result.getProbabilityEstimate()"
   ]
  },
  {
   "cell_type": "code",
   "execution_count": 12,
   "metadata": {},
   "outputs": [
    {
     "data": {
      "text/plain": [
       "0.003057093060511293"
      ]
     },
     "execution_count": 12,
     "metadata": {},
     "output_type": "execute_result"
    }
   ],
   "source": [
    "#  Criteria 3 : Display the Standard Deviation of the estimator\n",
    "result.getStandardDeviation()"
   ]
  },
  {
   "cell_type": "markdown",
   "metadata": {},
   "source": [
    "Display the variance of the simulation probability estimator. "
   ]
  },
  {
   "cell_type": "code",
   "execution_count": 13,
   "metadata": {},
   "outputs": [
    {
     "data": {
      "text/plain": [
       "9.345817980626304e-06"
      ]
     },
     "execution_count": 13,
     "metadata": {},
     "output_type": "execute_result"
    }
   ],
   "source": [
    "result.getVarianceEstimate()"
   ]
  },
  {
   "cell_type": "code",
   "execution_count": 14,
   "metadata": {},
   "outputs": [
    {
     "data": {
      "text/plain": [
       "3172"
      ]
     },
     "execution_count": 14,
     "metadata": {},
     "output_type": "execute_result"
    }
   ],
   "source": [
    "#  Criteria 2 : Display the number of iterations of the simulation\n",
    "result.getOuterSampling()"
   ]
  },
  {
   "cell_type": "code",
   "execution_count": 15,
   "metadata": {},
   "outputs": [
    {
     "data": {
      "text/plain": [
       "3172"
      ]
     },
     "execution_count": 15,
     "metadata": {},
     "output_type": "execute_result"
    }
   ],
   "source": [
    "# Display the total number of evaluations of the model\n",
    "result.getOuterSampling() * result.getBlockSize()"
   ]
  },
  {
   "cell_type": "markdown",
   "metadata": {},
   "source": [
    "Save the number of calls to the model, its gradient and hessian done so far. "
   ]
  },
  {
   "cell_type": "code",
   "execution_count": 16,
   "metadata": {},
   "outputs": [],
   "source": [
    "modelCallNumberAfter = model.getEvaluationCallsNumber()\n",
    "modelGradientCallNumberAfter = model.getGradientCallsNumber()\n",
    "modelHessianCallNumberAfter = model.getHessianCallsNumber()"
   ]
  },
  {
   "cell_type": "markdown",
   "metadata": {},
   "source": [
    "Display the number of iterations executed and the number of evaluations of the model. "
   ]
  },
  {
   "cell_type": "code",
   "execution_count": 17,
   "metadata": {},
   "outputs": [
    {
     "data": {
      "text/plain": [
       "3172"
      ]
     },
     "execution_count": 17,
     "metadata": {},
     "output_type": "execute_result"
    }
   ],
   "source": [
    "modelCallNumberAfter - modelCallNumberBefore"
   ]
  },
  {
   "cell_type": "markdown",
   "metadata": {},
   "source": [
    "Get the mean point in event  domain care : only for Monte Carlo and LHS sampling methods. "
   ]
  },
  {
   "cell_type": "code",
   "execution_count": 18,
   "metadata": {},
   "outputs": [
    {
     "data": {
      "text/html": [
       "<p>[245.843,80222]</p>"
      ],
      "text/plain": [
       "class=Point name=Unnamed dimension=2 values=[245.843,80222]"
      ]
     },
     "execution_count": 18,
     "metadata": {},
     "output_type": "execute_result"
    }
   ],
   "source": [
    "result.getMeanPointInEventDomain()"
   ]
  },
  {
   "cell_type": "markdown",
   "metadata": {},
   "source": [
    "Get the associated importance factors care : only for Monte Carlo and LHS sampling methods. "
   ]
  },
  {
   "cell_type": "code",
   "execution_count": 19,
   "metadata": {},
   "outputs": [
    {
     "data": {
      "text/html": [
       "<p>[X0 : 0.776373, X1 : 0.223627]</p>"
      ],
      "text/plain": [
       "class=PointWithDescription name=Unnamed dimension=2 description=[X0,X1] values=[0.776373,0.223627]"
      ]
     },
     "execution_count": 19,
     "metadata": {},
     "output_type": "execute_result"
    }
   ],
   "source": [
    "result.getImportanceFactors()"
   ]
  },
  {
   "cell_type": "code",
   "execution_count": 20,
   "metadata": {},
   "outputs": [
    {
     "data": {
      "image/png": "[encoded data removed]",
      "text/plain": [
       "class=Graph name=Unnamed implementation=class=GraphImplementation name=Unnamed title=Importance Factors from Simulation - v0 xTitle= yTitle= axes=OFF grid=OFF legendposition= legendFontSize=1 drawables=[class=Drawable name=Unnamed implementation=class=Pie name=Unnamed labels=[X0 : 77.6%,X1 : 22.4%] radius=1 center=class=Point name=Unnamed dimension=2 values=[0,0] color palette=[#ff0000,#00ff00] derived from class=DrawableImplementation name=Unnamed legend= data=class=Sample name=Unnamed implementation=class=SampleImplementation name=Unnamed size=2 dimension=1 data=[[0.776373],[0.223627]] color=blue fillStyle=solid lineStyle=solid pointStyle=plus lineWidth=1]"
      ]
     },
     "execution_count": 20,
     "metadata": {},
     "output_type": "execute_result"
    }
   ],
   "source": [
    "result.drawImportanceFactors()"
   ]
  },
  {
   "cell_type": "markdown",
   "metadata": {},
   "source": [
    "Display the confidence interval length centered around the MonteCarlo probability. The confidence interval is \n",
    "\n",
    "$$\n",
    "IC = [\\tilde{p} - 0.5 \\ell, \\tilde{p} + 0.5 \\ell]\n",
    "$$\n",
    "\n",
    "with level 0.95, where $\\tilde{p}$ is the estimated probability and $\\ell$ is the confidence interval length. "
   ]
  },
  {
   "cell_type": "code",
   "execution_count": 21,
   "metadata": {},
   "outputs": [
    {
     "name": "stdout",
     "output_type": "stream",
     "text": [
      "0.95 Confidence Interval length =  0.011983584591978923\n",
      "IC at 0.95 = [ 0.024588283366053405 ;  0.03657186795803233 ]\n"
     ]
    }
   ],
   "source": [
    "probability = result.getProbabilityEstimate()\n",
    "length95 = result.getConfidenceLength(0.95)\n",
    "print(\"0.95 Confidence Interval length = \", length95)\n",
    "print(\"IC at 0.95 = [\", probability - 0.5*length95, \"; \", probability + 0.5*length95, \"]\")"
   ]
  },
  {
   "cell_type": "markdown",
   "metadata": {},
   "source": [
    "Draw the convergence graph and the confidence interval of level alpha. By default, alpha = 0.95. "
   ]
  },
  {
   "cell_type": "code",
   "execution_count": 22,
   "metadata": {},
   "outputs": [
    {
     "data": {
      "image/png": "[encoded data removed]",
      "text/plain": [
       "class=Graph name=ProbabilitySimulationAlgorithm convergence graph at level 0.9 implementation=class=GraphImplementation name=ProbabilitySimulationAlgorithm convergence graph at level 0.9 title=ProbabilitySimulationAlgorithm convergence graph at level 0.9 xTitle=outer iteration yTitle=estimate axes=ON grid=ON legendposition=topright legendFontSize=1 drawables=[class=Drawable name=probability estimate implementation=class=Curve name=probability estimate derived from class=DrawableImplementation name=probability estimate legend=probability estimate data=class=Sample name=Unnamed implementation=class=SampleImplementation name=Unnamed size=1586 dimension=2 data=[[1,0],[2,0.25],[3,0.166667],...,[1584,0.030303],[1585,0.0302839],[1586,0.0305801]] color=red fillStyle=solid lineStyle=solid pointStyle=none lineWidth=2,class=Drawable name=bounds implementation=class=Curve name=bounds derived from class=DrawableImplementation name=bounds legend=bounds data=class=Sample name=Unnamed implementation=class=SampleImplementation name=Unnamed size=1585 dimension=2 data=[[2,-0.106121],[3,-0.0835898],[4,-0.0673275],...,[1584,0.0252935],[1585,0.0252775],[1586,0.0255516]] color=green fillStyle=solid lineStyle=solid pointStyle=none lineWidth=1,class=Drawable name=Unnamed implementation=class=Curve name=Unnamed derived from class=DrawableImplementation name=Unnamed legend= data=class=Sample name=Unnamed implementation=class=SampleImplementation name=Unnamed size=1585 dimension=2 data=[[2,0.606121],[3,0.416923],[4,0.317327],...,[1584,0.0353125],[1585,0.0352903],[1586,0.0356085]] color=green fillStyle=solid lineStyle=solid pointStyle=none lineWidth=1]"
      ]
     },
     "execution_count": 22,
     "metadata": {},
     "output_type": "execute_result"
    }
   ],
   "source": [
    "alpha = 0.90\n",
    "algo.drawProbabilityConvergence(alpha)"
   ]
  },
  {
   "cell_type": "markdown",
   "metadata": {},
   "source": [
    "Get the numerical samples of the input and output random vectors stored according to the History Strategy specified and used to evaluate the probability estimator and its variance. "
   ]
  },
  {
   "cell_type": "code",
   "execution_count": 23,
   "metadata": {},
   "outputs": [
    {
     "data": {
      "text/html": [
       "<TABLE><TR><TD></TD><TH>v0</TH><TH>v1</TH></TR>\n",
       "<TR><TD>0</TD><TD>317.18215872560563</TD><TD>68669.13448891672</TD></TR>\n",
       "<TR><TD>1</TD><TD>285.74211953628173</TD><TD>81027.39100414288</TD></TR>\n",
       "<TR><TD>2</TD><TD>240.13738518981802</TD><TD>76750.21043265145</TD></TR>\n",
       "<TR><TD COLSPAN=\"3\">...</TD></TR>\n",
       "<TR><TD>3169</TD><TD>266.95634238937606</TD><TD>74830.12233857176</TD></TR>\n",
       "<TR><TD>3170</TD><TD>282.28504401568824</TD><TD>78480.19105287212</TD></TR>\n",
       "<TR><TD>3171</TD><TD>247.17242375744675</TD><TD>81708.23104995265</TD></TR>\n",
       "</TABLE>"
      ],
      "text/plain": [
       "class=Sample name=Unnamed implementation=class=SampleImplementation name=Unnamed size=3172 dimension=2 data=[[317.182,68669.1],[285.742,81027.4],[240.137,76750.2],...,[266.956,74830.1],[282.285,78480.2],[247.172,81708.2]]"
      ]
     },
     "execution_count": 23,
     "metadata": {},
     "output_type": "execute_result"
    }
   ],
   "source": [
    "inputSampleStored = model.getInputHistory()\n",
    "outputSampleStored = model.getOutputHistory()\n",
    "inputSampleStored"
   ]
  },
  {
   "cell_type": "markdown",
   "metadata": {},
   "source": [
    "Get the values of the estimator and its variance stored according to the History Strategy specified and used to draw the convergence graph."
   ]
  },
  {
   "cell_type": "code",
   "execution_count": 24,
   "metadata": {},
   "outputs": [
    {
     "name": "stdout",
     "output_type": "stream",
     "text": [
      "[0,-1] [0.25,0.046875]\n"
     ]
    }
   ],
   "source": [
    "estimator_probability_sample = algo.getConvergenceStrategy().getSample()[0]\n",
    "estimator_variance_sample = algo.getConvergenceStrategy().getSample()[1]\n",
    "print(estimator_probability_sample, estimator_variance_sample)"
   ]
  }
 ],
 "metadata": {
  "kernelspec": {
   "display_name": "Python 3",
   "language": "python",
   "name": "python3"
  },
  "language_info": {
   "codemirror_mode": {
    "name": "ipython",
    "version": 3
   },
   "file_extension": ".py",
   "mimetype": "text/x-python",
   "name": "python",
   "nbconvert_exporter": "python",
   "pygments_lexer": "ipython3",
   "version": "3.7.4"
  }
 },
 "nbformat": 4,
 "nbformat_minor": 1
}
