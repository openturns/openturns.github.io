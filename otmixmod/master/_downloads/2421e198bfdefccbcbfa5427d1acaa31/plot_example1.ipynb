{
  "cells": [
    {
      "cell_type": "markdown",
      "metadata": {},
      "source": [
        "\n# Example 1: Axial stressed beam\n"
      ]
    },
    {
      "cell_type": "markdown",
      "metadata": {},
      "source": [
        "In this test case, we create a sample from a mixture and we try to estimate the mixture parameters from the sample.\nIt is not a really an example of a study but it shows how to use this module.\nThe optimal number of clusters is not supposed to be known, and will be estimated as well.\nWe are in dimension 2, and the reference mixture is defined from 3 normal distributions:\n\n\\begin{align}f(x) = \\alpha_1 f_1(x) + \\alpha_2 f_2(x) + \\alpha_3 f_3(x)\\end{align}\n\nwith:\n\n- $f_1=N(\\mu_1,\\sigma_1,R_1)$ with $\\mu_1=(-2.2,-2.2)$, $\\sigma_1=(1.2,1.2)$, $R_1=-0.2$ and $\\alpha_1 = 0.5$,\n- $f_2=N(\\mu_2,\\sigma_2,R_2)$ with $\\mu_2=(2,2)$, $\\sigma_2=(0.8, 0.8)$, $R_2=0.1$ and $\\alpha_2 = 0.25$,\n- $f_3=N(\\mu_3,\\sigma_3,R_3)$ with $\\mu_3=(-5,5)$, $\\sigma_3=(1.4,1.4)$, $R_3=0$ and $\\alpha_3 = 0.25$.\n\n\n"
      ]
    },
    {
      "cell_type": "code",
      "execution_count": null,
      "metadata": {
        "collapsed": false
      },
      "outputs": [],
      "source": [
        "import openturns as ot\nimport openturns.viewer as otv\nimport otmixmod"
      ]
    },
    {
      "cell_type": "markdown",
      "metadata": {},
      "source": [
        "Create a multidimensional sample from a mixture of Normal\n\n"
      ]
    },
    {
      "cell_type": "code",
      "execution_count": null,
      "metadata": {
        "collapsed": false
      },
      "outputs": [],
      "source": [
        "dim = 2\nsize = 20000\ncoll = []\nR = ot.CorrelationMatrix(dim)"
      ]
    },
    {
      "cell_type": "markdown",
      "metadata": {},
      "source": [
        "First atom\n\n"
      ]
    },
    {
      "cell_type": "code",
      "execution_count": null,
      "metadata": {
        "collapsed": false
      },
      "outputs": [],
      "source": [
        "for i in range(dim - 1):\n    R[i, i + 1] = -0.2\nmean = ot.Point(dim, -2.2)\nsigma = ot.Point(dim, 1.2)\nd = ot.Normal(mean, sigma, R)\ncoll.append(d)"
      ]
    },
    {
      "cell_type": "markdown",
      "metadata": {},
      "source": [
        "Second atom\n\n"
      ]
    },
    {
      "cell_type": "code",
      "execution_count": null,
      "metadata": {
        "collapsed": false
      },
      "outputs": [],
      "source": [
        "R = ot.CorrelationMatrix(dim)\nfor i in range(dim - 1):\n    R[i, i + 1] = 0.1\nmean = ot.Point(dim, 2.0)\nsigma = ot.Point(dim, 0.8)\nd = ot.Normal(mean, sigma, R)\ncoll.append(d)"
      ]
    },
    {
      "cell_type": "markdown",
      "metadata": {},
      "source": [
        "Third atom\n\n"
      ]
    },
    {
      "cell_type": "code",
      "execution_count": null,
      "metadata": {
        "collapsed": false
      },
      "outputs": [],
      "source": [
        "mean = [-5.0, 5.0]\nsigma = [1.4] * 2\nR = ot.CorrelationMatrix(dim)\nd = ot.Normal(mean, sigma, R)\ncoll.append(d)\n\nweights = [0.5, 0.25, 0.25]"
      ]
    },
    {
      "cell_type": "markdown",
      "metadata": {},
      "source": [
        "Reference mixture\n\n"
      ]
    },
    {
      "cell_type": "code",
      "execution_count": null,
      "metadata": {
        "collapsed": false
      },
      "outputs": [],
      "source": [
        "mixture = ot.Mixture(coll, weights)"
      ]
    },
    {
      "cell_type": "markdown",
      "metadata": {},
      "source": [
        "Creation of the numerical Sample from which we will estimate\nthe parameters of the mixture.\n\n"
      ]
    },
    {
      "cell_type": "code",
      "execution_count": null,
      "metadata": {
        "collapsed": false
      },
      "outputs": [],
      "source": [
        "sample = mixture.getSample(size)"
      ]
    },
    {
      "cell_type": "markdown",
      "metadata": {},
      "source": [
        "Creation of the mixture factory\n\n"
      ]
    },
    {
      "cell_type": "code",
      "execution_count": null,
      "metadata": {
        "collapsed": false
      },
      "outputs": [],
      "source": [
        "myAtomsNumber = 3\nmyCovModel = 'Gaussian_pk_L_Dk_A_Dk'\n\nbestLL = -1e100\nbestMixture = ot.Mixture()\nbestNbClusters = 0\nstop = False\nnbClusters = 1\nwhile not stop:\n    factory = otmixmod.MixtureFactory(nbClusters, myCovModel)\n    # Estimation of the parameters of the mixture\n    estimatedDistribution, labels, logLikelihood = factory.build(sample)\n    stop = logLikelihood[1] <= bestLL\n    if not stop:\n        bestLL = logLikelihood[1]\n        bestNbClusters = nbClusters\n        bestMixture = estimatedDistribution\n    nbClusters += 1\nprint(\"best number of atoms=\", bestNbClusters)\nmyAtomsNumber = bestNbClusters\nestimatedDistribution = bestMixture\n# Some printings to show the result\nprint(\"Covariance Model used=\", myCovModel)\n\nprint(\"\")\nprint(\"Estimated distribution:\", estimatedDistribution)"
      ]
    },
    {
      "cell_type": "markdown",
      "metadata": {},
      "source": [
        "Some drawings\n\n"
      ]
    },
    {
      "cell_type": "code",
      "execution_count": null,
      "metadata": {
        "collapsed": false
      },
      "outputs": [],
      "source": [
        "if sample.getDimension() == 2:\n    g = estimatedDistribution.drawPDF()\n    c = ot.Cloud(sample)\n    c.setColor(\"red\")\n    c.setPointStyle(\"bullet\")\n    ctmp = g.getDrawable(0)\n    g.setDrawable(c, 0)\n    g.add(ctmp)\n    view = otv.View(g)\n\notv.View.ShowAll()"
      ]
    }
  ],
  "metadata": {
    "kernelspec": {
      "display_name": "Python 3",
      "language": "python",
      "name": "python3"
    },
    "language_info": {
      "codemirror_mode": {
        "name": "ipython",
        "version": 3
      },
      "file_extension": ".py",
      "mimetype": "text/x-python",
      "name": "python",
      "nbconvert_exporter": "python",
      "pygments_lexer": "ipython3",
      "version": "3.12.7"
    }
  },
  "nbformat": 4,
  "nbformat_minor": 0
}