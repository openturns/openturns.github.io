{
  "cells": [
    {
      "cell_type": "markdown",
      "metadata": {},
      "source": [
        "\n# Example 2\n"
      ]
    },
    {
      "cell_type": "markdown",
      "metadata": {},
      "source": [
        "Problem statement:\n\n\\begin{align}\\begin{aligned}\n    & \\underset{x}{\\text{minimize}}\n    & & \\mathbb{E}_{\\cD}(\\sqrt{x_0} \\sqrt{x_1} \\Theta) \\\\\n    & \\text{subject to}\n    & & 2x_1 + 4x_0 - 120 \\leq 0 \\\\\n    & & & \\Theta \\thicksim \\cN(1, 3)\n    \\end{aligned}\\end{align}\n\nSolution: $\\hat{x} = [15, 30]$\n\n"
      ]
    },
    {
      "cell_type": "code",
      "execution_count": null,
      "metadata": {
        "collapsed": false
      },
      "outputs": [],
      "source": [
        "import openturns as ot\nimport openturns.testing\nimport otrobopt\n\n# ot.Log.Show(ot.Log.Info)\n\ncalJ = ot.SymbolicFunction(\n    ['x0', 'x1', 'theta'], ['sqrt(x0) * sqrt(x1) * theta'])\ng = ot.SymbolicFunction(['x0', 'x1'], ['-(2*x1 + 4*x0 -120)'])\nJ = ot.ParametricFunction(calJ, [2], [1.0])\n\ndim = J.getInputDimension()\n\nsolver = ot.Cobyla()\nsolver.setMaximumIterationNumber(1000)\n\nthetaDist = ot.Normal(1.0, 3.0)\nrobustnessMeasure = otrobopt.MeanMeasure(J, thetaDist)\nproblem = otrobopt.RobustOptimizationProblem(robustnessMeasure, g)\nproblem.setMinimization(False)\nbounds = ot.Interval([5.0] * dim, [50.0] * dim)\nproblem.setBounds(bounds)\n\nalgo = otrobopt.SequentialMonteCarloRobustAlgorithm(problem, solver)\nalgo.setMaximumIterationNumber(10)\nalgo.setMaximumAbsoluteError(1e-3)\nalgo.setInitialSamplingSize(10)\nalgo.setInitialSearch(100)\nalgo.run()\nresult = algo.getResult()\n# openturns.testing.assert_almost_equal(\n# result.getOptimalPoint(), [46.2957, 46.634], 1e-3)\nprint('x*=', result.getOptimalPoint(),\n      'J(x*)=', result.getOptimalValue(),\n      'iteration=', result.getIterationNumber())"
      ]
    }
  ],
  "metadata": {
    "kernelspec": {
      "display_name": "Python 3",
      "language": "python",
      "name": "python3"
    },
    "language_info": {
      "codemirror_mode": {
        "name": "ipython",
        "version": 3
      },
      "file_extension": ".py",
      "mimetype": "text/x-python",
      "name": "python",
      "nbconvert_exporter": "python",
      "pygments_lexer": "ipython3",
      "version": "3.11.5"
    }
  },
  "nbformat": 4,
  "nbformat_minor": 0
}