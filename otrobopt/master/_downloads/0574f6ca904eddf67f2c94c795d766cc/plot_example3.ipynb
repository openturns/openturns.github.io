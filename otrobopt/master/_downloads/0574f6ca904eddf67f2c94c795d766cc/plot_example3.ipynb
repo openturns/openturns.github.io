{
  "cells": [
    {
      "cell_type": "markdown",
      "metadata": {},
      "source": [
        "\n# Example 3\n"
      ]
    },
    {
      "cell_type": "markdown",
      "metadata": {},
      "source": [
        "Problem statement:\n\n\\begin{align}\\begin{aligned}\n    & \\underset{x}{\\text{minimize}}\n    & & \\mathbb{E}_{\\cD}(x^3 - x + \\Theta) \\\\\n    & \\text{subject to}\n    & & \\mathbb{P}_{\\cD}(x + \\Theta - 2 \\leq 0) \\geq 0.9 \\\\\n    & & & \\Theta \\thicksim \\cE(2)\n    \\end{aligned}\\end{align}\n\nSolution: $\\hat{x} = -1$\n\n"
      ]
    },
    {
      "cell_type": "code",
      "execution_count": null,
      "metadata": {
        "collapsed": false
      },
      "outputs": [],
      "source": [
        "import openturns as ot\nimport otrobopt\n\n# ot.Log.Show(ot.Log.Info)\n\ncalJ = ot.SymbolicFunction(['x', 'theta'], ['x^3 - 3*x + theta'])\ncalG = ot.SymbolicFunction(['x', 'theta'], ['-(x + theta - 2)'])\nJ = ot.ParametricFunction(calJ, [1], [0.5])\ng = ot.ParametricFunction(calG, [1], [0.5])\n\ndim = J.getInputDimension()\n\nsolver = ot.Cobyla()\nsolver.setMaximumIterationNumber(1000)\nsolver.setStartingPoint([0.0] * dim)\n\nthetaDist = ot.Exponential(2.0)\nrobustnessMeasure = otrobopt.MeanMeasure(J, thetaDist)\nreliabilityMeasure = otrobopt.JointChanceMeasure(\n    g, thetaDist, ot.Greater(), 0.9)\nproblem = otrobopt.RobustOptimizationProblem(\n    robustnessMeasure, reliabilityMeasure)\nproblem.setMinimization(False)\n\nalgo = otrobopt.SequentialMonteCarloRobustAlgorithm(problem, solver)\nalgo.setMaximumIterationNumber(10)\nalgo.setMaximumAbsoluteError(1e-3)\nalgo.setInitialSamplingSize(10)\nalgo.run()\nresult = algo.getResult()\nprint('x*=', result.getOptimalPoint(), 'J(x*)=',\n      result.getOptimalValue(), 'iteration=', result.getIterationNumber())"
      ]
    }
  ],
  "metadata": {
    "kernelspec": {
      "display_name": "Python 3",
      "language": "python",
      "name": "python3"
    },
    "language_info": {
      "codemirror_mode": {
        "name": "ipython",
        "version": 3
      },
      "file_extension": ".py",
      "mimetype": "text/x-python",
      "name": "python",
      "nbconvert_exporter": "python",
      "pygments_lexer": "ipython3",
      "version": "3.11.7"
    }
  },
  "nbformat": 4,
  "nbformat_minor": 0
}