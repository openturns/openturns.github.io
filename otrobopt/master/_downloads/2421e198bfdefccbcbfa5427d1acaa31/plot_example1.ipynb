{
  "cells": [
    {
      "cell_type": "markdown",
      "metadata": {},
      "source": [
        "\n# Example 1\n"
      ]
    },
    {
      "cell_type": "markdown",
      "metadata": {},
      "source": [
        "Problem statement:\n\n\\begin{align}\\begin{aligned}\n    & \\underset{x}{\\text{minimize}}\n    & & \\mathbb{E}_{\\cD}((x_0-2)^2 + 2x_1^2 -4x_1 + \\Theta) \\\\\n    & \\text{subject to}\n    & & \\mathbb{P}_{\\cD}(-x_0 + 4x_1 + \\Theta -3 \\leq 0) \\geq 0.9 \\\\\n    & & & \\Theta \\thicksim \\cU(1, 3)\n    \\end{aligned}\\end{align}\n\nSolution: $\\hat{x} = [2.2, 0.6]$\n\n"
      ]
    },
    {
      "cell_type": "code",
      "execution_count": null,
      "metadata": {
        "collapsed": false
      },
      "outputs": [],
      "source": [
        "import openturns as ot\nimport otrobopt\n\n# ot.Log.Show(ot.Log.Info)\ncalJ = ot.SymbolicFunction(\n    ['x0', 'x1', 'theta'], ['(x0-2)^2 + 2*x1^2 - 4*x1 + theta'])\ncalG = ot.SymbolicFunction(\n    ['x0', 'x1', 'theta'], ['-(-x0 + 4*x1 + theta - 3)'])\nJ = ot.ParametricFunction(calJ, [2], [2.0])\ng = ot.ParametricFunction(calG, [2], [2.0])\n\ndim = J.getInputDimension()\n\nsolver = ot.Cobyla()\nsolver.setIgnoreFailure(True)\nsolver.setMaximumIterationNumber(1000)\n\nthetaDist = ot.Uniform(1.0, 3.0)\nrobustnessMeasure = otrobopt.MeanMeasure(J, thetaDist)\nreliabilityMeasure = otrobopt.JointChanceMeasure(\n    g, thetaDist, ot.Greater(), 0.9)\nproblem = otrobopt.RobustOptimizationProblem(\n    robustnessMeasure, reliabilityMeasure)\nbounds = ot.Interval([-10.0] * dim, [10.0] * dim)\nproblem.setBounds(bounds)\n\nalgo = otrobopt.SequentialMonteCarloRobustAlgorithm(problem, solver)\nalgo.setMaximumIterationNumber(10)\nalgo.setMaximumAbsoluteError(1e-3)\nalgo.setInitialSamplingSize(10)\nalgo.setInitialSearch(100)\nalgo.run()\nresult = algo.getResult()\nprint('x*=', result.getOptimalPoint(),\n      'J(x*)=', result.getOptimalValue(),\n      'iteration=', result.getIterationNumber())"
      ]
    }
  ],
  "metadata": {
    "kernelspec": {
      "display_name": "Python 3",
      "language": "python",
      "name": "python3"
    },
    "language_info": {
      "codemirror_mode": {
        "name": "ipython",
        "version": 3
      },
      "file_extension": ".py",
      "mimetype": "text/x-python",
      "name": "python",
      "nbconvert_exporter": "python",
      "pygments_lexer": "ipython3",
      "version": "3.11.6"
    }
  },
  "nbformat": 4,
  "nbformat_minor": 0
}