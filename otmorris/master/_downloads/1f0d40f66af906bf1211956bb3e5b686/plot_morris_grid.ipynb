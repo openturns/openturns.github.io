{
  "cells": [
    {
      "cell_type": "markdown",
      "metadata": {},
      "source": [
        "\n# Example 1: Morris use-case and p-level input grid\n"
      ]
    },
    {
      "cell_type": "markdown",
      "metadata": {},
      "source": [
        "To define the trajectories, we suppose that the box $[0,1]^{20}$ is splitted into a p-level grid (p=5).\nWe set the number of trajectories input variables are randomly to 10.\n\n"
      ]
    },
    {
      "cell_type": "code",
      "execution_count": null,
      "metadata": {
        "collapsed": false
      },
      "outputs": [],
      "source": [
        "import openturns as ot\nimport openturns.viewer as otv\nimport otmorris\n\n# use the reference 20-d function from the Morris paper\nf = ot.Function(otmorris.MorrisFunction())\ndim = f.getInputDimension()\n\n# Number of trajectories\nr = 10\n\n# Define experiments in [0,1]^20\n# p-levels\np = 5\nmorris_experiment = otmorris.MorrisExperimentGrid([p] * dim, r)\nbounds = ot.Interval(dim)  # [0,1]^d\nX = morris_experiment.generate()\nY = f(X)\n\n# Evaluate Elementary effects (ee)\nmorris = otmorris.Morris(X, Y, bounds)\n\n# Compute mu/sigma\nmean = morris.getMeanAbsoluteElementaryEffects()\nsigma = morris.getStandardDeviationElementaryEffects()\ngraph = morris.drawElementaryEffects(0)\nview = otv.View(graph)\n\notv.View.ShowAll()"
      ]
    }
  ],
  "metadata": {
    "kernelspec": {
      "display_name": "Python 3",
      "language": "python",
      "name": "python3"
    },
    "language_info": {
      "codemirror_mode": {
        "name": "ipython",
        "version": 3
      },
      "file_extension": ".py",
      "mimetype": "text/x-python",
      "name": "python",
      "nbconvert_exporter": "python",
      "pygments_lexer": "ipython3",
      "version": "3.12.7"
    }
  },
  "nbformat": 4,
  "nbformat_minor": 0
}