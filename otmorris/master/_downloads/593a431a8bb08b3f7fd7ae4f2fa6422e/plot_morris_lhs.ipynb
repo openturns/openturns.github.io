{
  "cells": [
    {
      "cell_type": "markdown",
      "metadata": {},
      "source": [
        "\n# Example 2: Morris use-case and LHS initial design\n"
      ]
    },
    {
      "cell_type": "markdown",
      "metadata": {},
      "source": [
        "To define the trajectories, we first get an LHS design in the box $[0,1]^{20}$ of $size=50$\nWe set the number of trajectories input variables are randomly to 10.\n\n"
      ]
    },
    {
      "cell_type": "code",
      "execution_count": null,
      "metadata": {
        "collapsed": false
      },
      "outputs": [],
      "source": [
        "import openturns as ot\nimport otmorris\nimport openturns.viewer as otv\n\n# use the reference 20-d function from the Morris paper\nf = ot.Function(otmorris.MorrisFunction())\ndim = f.getInputDimension()\n\n# Number of trajectories\nr = 10\n\n# Define an LHS experiment of size 50 in [0, 1]^20\nsize = 50\ndist = ot.ComposedDistribution([ot.Uniform(0, 1)] * dim)\nlhs_experiment = ot.LHSExperiment(dist, size, True, False)\nlhsDesign = lhs_experiment.generate()\nmorris_experiment = otmorris.MorrisExperimentLHS(lhsDesign, r)\nbounds = ot.Interval(dim)  # [0, 1]^20\nX = morris_experiment.generate()\nY = f(X)\n\n# Evaluate Elementary effects (ee)\nmorris = otmorris.Morris(X, Y, bounds)\n\n# Compute mu/sigma\nmean = morris.getMeanAbsoluteElementaryEffects()\nsigma = morris.getStandardDeviationElementaryEffects()\ngraph = morris.drawElementaryEffects(0)\ngraph.setTitle(\"Elementary Effects using LHS\")\nview = otv.View(graph)\n\notv.View.ShowAll()"
      ]
    }
  ],
  "metadata": {
    "kernelspec": {
      "display_name": "Python 3",
      "language": "python",
      "name": "python3"
    },
    "language_info": {
      "codemirror_mode": {
        "name": "ipython",
        "version": 3
      },
      "file_extension": ".py",
      "mimetype": "text/x-python",
      "name": "python",
      "nbconvert_exporter": "python",
      "pygments_lexer": "ipython3",
      "version": "3.11.5"
    }
  },
  "nbformat": 4,
  "nbformat_minor": 0
}