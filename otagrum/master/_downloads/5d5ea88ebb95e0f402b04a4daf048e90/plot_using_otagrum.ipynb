{
  "cells": [
    {
      "cell_type": "code",
      "execution_count": null,
      "metadata": {
        "collapsed": false
      },
      "outputs": [],
      "source": [
        "%matplotlib inline"
      ]
    },
    {
      "cell_type": "markdown",
      "metadata": {},
      "source": [
        "\n# Using otagrum\n"
      ]
    },
    {
      "cell_type": "code",
      "execution_count": null,
      "metadata": {
        "collapsed": false
      },
      "outputs": [],
      "source": [
        "import openturns as ot\nimport pyAgrum as gum\nimport pyAgrum.lib.notebook as gnb\nfrom matplotlib import pylab as plt\nimport otagrum"
      ]
    },
    {
      "cell_type": "markdown",
      "metadata": {},
      "source": [
        "Creating the CBN structure\nWe begin by creating the CBN that will be used throughout this example.\n\nTo do so, we need a NamedDAG structure...\n\n"
      ]
    },
    {
      "cell_type": "code",
      "execution_count": null,
      "metadata": {
        "collapsed": false
      },
      "outputs": [],
      "source": [
        "dag = gum.DAG()"
      ]
    },
    {
      "cell_type": "code",
      "execution_count": null,
      "metadata": {
        "collapsed": false
      },
      "outputs": [],
      "source": [
        "mapping = {}\nmapping['A'] = dag.addNode() # Add node A\nmapping['B'] = dag.addNode() # Add node B\nmapping['C'] = dag.addNode() # Add node C\nmapping['D'] = dag.addNode() # Add node D"
      ]
    },
    {
      "cell_type": "code",
      "execution_count": null,
      "metadata": {
        "collapsed": false
      },
      "outputs": [],
      "source": [
        "dag.addArc(mapping['A'], mapping['C']) # Arc A -> C\ndag.addArc(mapping['B'], mapping['C']) # Arc B -> C\ndag.addArc(mapping['C'], mapping['D']) # Arc C -> D"
      ]
    },
    {
      "cell_type": "code",
      "execution_count": null,
      "metadata": {
        "collapsed": false
      },
      "outputs": [],
      "source": [
        "dag"
      ]
    },
    {
      "cell_type": "code",
      "execution_count": null,
      "metadata": {
        "collapsed": false
      },
      "outputs": [],
      "source": [
        "structure = otagrum.NamedDAG(dag, list(mapping.keys()))"
      ]
    },
    {
      "cell_type": "code",
      "execution_count": null,
      "metadata": {
        "collapsed": false
      },
      "outputs": [],
      "source": [
        "gnb.showDot(structure.toDot())"
      ]
    },
    {
      "cell_type": "markdown",
      "metadata": {},
      "source": [
        "Parameters of the CBN ... and a collection of marginals and local conditional copulas.\n\n"
      ]
    },
    {
      "cell_type": "code",
      "execution_count": null,
      "metadata": {
        "collapsed": false
      },
      "outputs": [],
      "source": [
        "m_list = [ot.Uniform(0.0, 1.0) for i in range(structure.getSize())] # Local marginals\nlcc_list = [] # Local Conditional Copulas\nfor i in range( structure.getSize() ):\n    dim_lcc = structure.getParents(i).getSize() + 1\n    R = ot.CorrelationMatrix(dim_lcc)\n    for j in range(dim_lcc):\n        for k in range(j):\n            R[j, k] = 0.6\n    lcc_list.append( ot.Normal([0.0]*dim_lcc, [1.0]*dim_lcc, R).getCopula() )\n\n\n# **Creation of the CBN**\n\n# Now that we have a NamedDAG structure and a collection of local conditional copulas, we can construct a CBN."
      ]
    },
    {
      "cell_type": "code",
      "execution_count": null,
      "metadata": {
        "collapsed": false
      },
      "outputs": [],
      "source": [
        "cbn = otagrum.ContinuousBayesianNetwork(structure, m_list, lcc_list)"
      ]
    },
    {
      "cell_type": "markdown",
      "metadata": {},
      "source": [
        "Having a CBN, we can now sample from it.\n\n"
      ]
    },
    {
      "cell_type": "code",
      "execution_count": null,
      "metadata": {
        "collapsed": false
      },
      "outputs": [],
      "source": [
        "ot.RandomGenerator.SetSeed(10) # Set random seed\nsample = cbn.getSample(1000)\ntrain = sample[:-100]\ntest = sample[-100:]"
      ]
    },
    {
      "cell_type": "markdown",
      "metadata": {},
      "source": [
        "Learning the structure with continuous PC:\nNow that we have data, we can use it to learn the structure with the continuous PC algorithm.\n\n"
      ]
    },
    {
      "cell_type": "code",
      "execution_count": null,
      "metadata": {
        "collapsed": false
      },
      "outputs": [],
      "source": [
        "learner = otagrum.ContinuousPC(sample, maxConditioningSetSize=5, alpha=0.1)\n\n\n# We first learn the skeleton, that is the undirected structure."
      ]
    },
    {
      "cell_type": "code",
      "execution_count": null,
      "metadata": {
        "collapsed": false
      },
      "outputs": [],
      "source": [
        "skeleton = learner.learnSkeleton()"
      ]
    },
    {
      "cell_type": "code",
      "execution_count": null,
      "metadata": {
        "collapsed": false
      },
      "outputs": [],
      "source": [
        "skeleton"
      ]
    },
    {
      "cell_type": "markdown",
      "metadata": {},
      "source": [
        "Then we look for the v-structures, leading to a Partially Directed Acyclic Graph (PDAG) \n\n"
      ]
    },
    {
      "cell_type": "code",
      "execution_count": null,
      "metadata": {
        "collapsed": false
      },
      "outputs": [],
      "source": [
        "pdag = learner.learnPDAG()"
      ]
    },
    {
      "cell_type": "code",
      "execution_count": null,
      "metadata": {
        "collapsed": false
      },
      "outputs": [],
      "source": [
        "pdag"
      ]
    },
    {
      "cell_type": "markdown",
      "metadata": {},
      "source": [
        "Finally, the remaining edges are oriented by propagating constraints\n\n"
      ]
    },
    {
      "cell_type": "code",
      "execution_count": null,
      "metadata": {
        "collapsed": false
      },
      "outputs": [],
      "source": [
        "ndag = learner.learnDAG()"
      ]
    },
    {
      "cell_type": "code",
      "execution_count": null,
      "metadata": {
        "collapsed": false
      },
      "outputs": [],
      "source": [
        "gnb.showDot(ndag.toDot())"
      ]
    },
    {
      "cell_type": "markdown",
      "metadata": {},
      "source": [
        "The true structure has been recovered.\nLearning with continuous MIIC\nOtagrum provides another learning algorithm to learn the structure: the continuous MIIC algorithm.\n\n"
      ]
    },
    {
      "cell_type": "code",
      "execution_count": null,
      "metadata": {
        "collapsed": false
      },
      "outputs": [],
      "source": [
        "learner = otagrum.ContinuousMIIC(sample)"
      ]
    },
    {
      "cell_type": "markdown",
      "metadata": {},
      "source": [
        "This algorithm relies on the computing of mutual information which is done through the copula function. Hence, a copula model for the data is needed. The continuous MIIC algorithm can make use of Gaussian copulas (parametric) or Bernstein copulas (non-parametric) to compute mutual information. Moreover, due to finite sampling size, the mutual information estimators need to be corrected. Two kind of correction are provided: NoCorr (no correction) or Naive (a fixed correction is substracted from the raw mutual information estimators). Those behaviours can be changed as follows: \n\n"
      ]
    },
    {
      "cell_type": "markdown",
      "metadata": {},
      "source": [
        "learner.setCMode(otagrum.CorrectedMutualInformation.CModeTypes_Bernstein) # By default\n\n"
      ]
    },
    {
      "cell_type": "code",
      "execution_count": null,
      "metadata": {
        "collapsed": false
      },
      "outputs": [],
      "source": [
        "learner.setCMode(otagrum.CorrectedMutualInformation.CModeTypes_Gaussian) # To use Gaussian copulas\nlearner.setKMode(otagrum.CorrectedMutualInformation.KModeTypes_Naive) # By default\n#learner.setKMode(otagrum.CorrectedMutualInformation.KModeTypes_NoCorr) # To use the raw estimators\nlearner.setAlpha(0.01) # Set the correction value for the Naive behaviour, it is set to 0.01 by default"
      ]
    },
    {
      "cell_type": "markdown",
      "metadata": {},
      "source": [
        "As with PC algorithm we can learn the skeleton, PDAG and DAG using\n\n"
      ]
    },
    {
      "cell_type": "code",
      "execution_count": null,
      "metadata": {
        "collapsed": false
      },
      "outputs": [],
      "source": [
        "skeleton = learner.learnSkeleton()"
      ]
    },
    {
      "cell_type": "code",
      "execution_count": null,
      "metadata": {
        "collapsed": false
      },
      "outputs": [],
      "source": [
        "skeleton"
      ]
    },
    {
      "cell_type": "code",
      "execution_count": null,
      "metadata": {
        "collapsed": false
      },
      "outputs": [],
      "source": [
        "pdag = learner.learnPDAG()"
      ]
    },
    {
      "cell_type": "code",
      "execution_count": null,
      "metadata": {
        "collapsed": false
      },
      "outputs": [],
      "source": [
        "pdag"
      ]
    },
    {
      "cell_type": "code",
      "execution_count": null,
      "metadata": {
        "collapsed": false
      },
      "outputs": [],
      "source": [
        "dag = learner.learnDAG()"
      ]
    },
    {
      "cell_type": "code",
      "execution_count": null,
      "metadata": {
        "collapsed": false
      },
      "outputs": [],
      "source": [
        "gnb.showDot(dag.toDot())"
      ]
    },
    {
      "cell_type": "markdown",
      "metadata": {},
      "source": [
        "Learning parameters\nBernstein copulas are used to learn the local conditional copulas associated to each node\n\n"
      ]
    },
    {
      "cell_type": "code",
      "execution_count": null,
      "metadata": {
        "collapsed": false
      },
      "outputs": [],
      "source": [
        "m_list = []\nlcc_list = []\nfor i in range(train.getDimension()):\n    m_list.append(ot.UniformFactory().build(train.getMarginal(i)))\n    indices = [i] + [int(n) for n in ndag.getParents(i)]\n    dim_lcc = len(indices)\n    if dim_lcc == 1:\n        bernsteinCopula = ot.IndependentCopula(1)\n    elif dim_lcc > 1:\n        K = otagrum.ContinuousTTest.GetK(len(train), dim_lcc)\n        bernsteinCopula = ot.EmpiricalBernsteinCopula(train.getMarginal(indices), K, False)\n    lcc_list.append(bernsteinCopula)"
      ]
    },
    {
      "cell_type": "markdown",
      "metadata": {},
      "source": [
        "We can now create the learned CBN\n\n"
      ]
    },
    {
      "cell_type": "code",
      "execution_count": null,
      "metadata": {
        "collapsed": false
      },
      "outputs": [],
      "source": [
        "lcbn = otagrum.ContinuousBayesianNetwork(ndag, m_list, lcc_list) # Learned CBN"
      ]
    },
    {
      "cell_type": "markdown",
      "metadata": {},
      "source": [
        "And compare the mean loglikelihood between the true and the learned models\n\n"
      ]
    },
    {
      "cell_type": "code",
      "execution_count": null,
      "metadata": {
        "collapsed": false
      },
      "outputs": [],
      "source": [
        "def compute_mean_LL(cbn, test):\n    ll = 0\n    for t in test:\n        ll += cbn.computeLogPDF(t)\n    ll /= len(test)\n    return ll"
      ]
    },
    {
      "cell_type": "code",
      "execution_count": null,
      "metadata": {
        "collapsed": false
      },
      "outputs": [],
      "source": [
        "true_LL = compute_mean_LL(cbn, test)\nprint(true_LL)"
      ]
    },
    {
      "cell_type": "code",
      "execution_count": null,
      "metadata": {
        "collapsed": false
      },
      "outputs": [],
      "source": [
        "exp_LL = compute_mean_LL(lcbn, test)\nprint(exp_LL)"
      ]
    }
  ],
  "metadata": {
    "kernelspec": {
      "display_name": "Python 3",
      "language": "python",
      "name": "python3"
    },
    "language_info": {
      "codemirror_mode": {
        "name": "ipython",
        "version": 3
      },
      "file_extension": ".py",
      "mimetype": "text/x-python",
      "name": "python",
      "nbconvert_exporter": "python",
      "pygments_lexer": "ipython3",
      "version": "3.8.6"
    }
  },
  "nbformat": 4,
  "nbformat_minor": 0
}