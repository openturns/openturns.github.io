{
  "cells": [
    {
      "cell_type": "code",
      "execution_count": null,
      "metadata": {
        "collapsed": false
      },
      "outputs": [],
      "source": [
        "%matplotlib inline"
      ]
    },
    {
      "cell_type": "markdown",
      "metadata": {},
      "source": [
        "\n# Plant growth\n"
      ]
    },
    {
      "cell_type": "markdown",
      "metadata": {},
      "source": [
        "The study presented in that section focuses on the growth of particular plant\n(not specified).\nThe objective is to predict which height will be reached by the plant ...\nfor example in order to evaluate the risk that the plant might require a\ngreater jag on the balcony ...\n\nThe problem is that we have no data on the height usually reached by this\nkind of plant, which prohibits any use of statistics tools ...\nSo ... what ? Yet we have the following information:\n\n   - we know the influence of the quality of the light and the influence of\n     the air moisture rate on the plant growth,\n   - we can quantify the quality of the light we have at home and also the\n     air moisture rate where the plant lives.\n\n.... so we can model the plant growth thanks to a Bayes net and then have\naccess to the variability of its final height!\n\nLet us imagine (for the example purpose):\n\n - Some meteorological data (tropical place?):\n\n   - the balcony is in plain light 3 times out of 4,\n   - in the darkness, the air is moist 8 times out of 10,\n   - in plain light, the air is dry 6 times out of 10.\n\n - Some remembrance of biology trainings:\n\n   - in plain light, if the air is moist, the plant is very happy: it grows\n     90cm on average with a variation of $\\pm$ 10 cm. If the air is too dry,\n     it will not grow more than 30 cm but we reasonably can expect about a\n     15 cm growth.\n   - in the darkness, if the air is too dry, the plant suffers: it will not\n     grow more than 20 cm and might die as well! If the air is moist, it\n     will  usually grow about 30 cm, at least 15cm but not more than 50 cm.\n\n\n\n"
      ]
    },
    {
      "cell_type": "code",
      "execution_count": null,
      "metadata": {
        "collapsed": false
      },
      "outputs": [],
      "source": [
        "import openturns as ot\nimport otagrum\nimport pyAgrum as gum\nfrom openturns.viewer import View\nfrom matplotlib import pylab as plt"
      ]
    },
    {
      "cell_type": "code",
      "execution_count": null,
      "metadata": {
        "collapsed": false
      },
      "outputs": [],
      "source": [
        "def showPotential(pot):\n    try:\n        # fails outside notebook\n        import pyAgrum.lib.notebook as gnb\n\n        gnb.showPotential(pot)\n    except ImportError:\n        pass\n\n\n# We have to build the Bayes Net now. There are 3 variables that will be named:\n# $Light$, $Moisture$ and $Height$."
      ]
    },
    {
      "cell_type": "markdown",
      "metadata": {},
      "source": [
        "Create variables\n\n"
      ]
    },
    {
      "cell_type": "code",
      "execution_count": null,
      "metadata": {
        "collapsed": false
      },
      "outputs": [],
      "source": [
        "light = gum.LabelizedVariable(\"Light\", \"quality of light\", 0)\nmoisture = gum.LabelizedVariable(\"Moisture\", \"quantity of moisture\", 0)\nheight = gum.DiscretizedVariable(\"Height\", \"plant growth\")"
      ]
    },
    {
      "cell_type": "markdown",
      "metadata": {},
      "source": [
        "Both variables **Light** and **Moisture** are categorical variables with\nthe following attributes:\n\n - **Light** has 2 attributes: **Dim** which refers to the darkness and\n   **Bright** which refers to plain light situations,\n - **Moisture** has 2 attributes: **Dry** which refers to dry air situations\n   and **Wet** which refers to wet air situations.\n\n**Height** is a continuous variable which has to be discretized for the Bayes Net use.\n\n"
      ]
    },
    {
      "cell_type": "markdown",
      "metadata": {},
      "source": [
        "Create labels and ticks\n\n"
      ]
    },
    {
      "cell_type": "markdown",
      "metadata": {},
      "source": [
        "light has 2 attributes : Dim and Bright\n\n"
      ]
    },
    {
      "cell_type": "code",
      "execution_count": null,
      "metadata": {
        "collapsed": false
      },
      "outputs": [],
      "source": [
        "light.addLabel(\"Dim\")\nlight.addLabel(\"Bright\")"
      ]
    },
    {
      "cell_type": "markdown",
      "metadata": {},
      "source": [
        "moisture has 2 attributes : Dry and Wet\n\n"
      ]
    },
    {
      "cell_type": "code",
      "execution_count": null,
      "metadata": {
        "collapsed": false
      },
      "outputs": [],
      "source": [
        "moisture.addLabel(\"Dry\")\nmoisture.addLabel(\"Wet\")"
      ]
    },
    {
      "cell_type": "markdown",
      "metadata": {},
      "source": [
        "height is a discretized variable\n\n"
      ]
    },
    {
      "cell_type": "code",
      "execution_count": null,
      "metadata": {
        "collapsed": false
      },
      "outputs": [],
      "source": [
        "[height.addTick(i) for i in range(0, 150, 10)]\nheight.domainSize()"
      ]
    },
    {
      "cell_type": "markdown",
      "metadata": {},
      "source": [
        "Furthermore, there are several influence links:\n**Light** on **Moisture**, **(Light,Moisture)** on **Height**.\n\n"
      ]
    },
    {
      "cell_type": "markdown",
      "metadata": {},
      "source": [
        "Create the net\n\n"
      ]
    },
    {
      "cell_type": "code",
      "execution_count": null,
      "metadata": {
        "collapsed": false
      },
      "outputs": [],
      "source": [
        "bn = gum.BayesNet(\"Plant Growth\")"
      ]
    },
    {
      "cell_type": "markdown",
      "metadata": {},
      "source": [
        "Add variables\n\n"
      ]
    },
    {
      "cell_type": "code",
      "execution_count": null,
      "metadata": {
        "collapsed": false
      },
      "outputs": [],
      "source": [
        "indexLight = bn.add(light)\nindexMoisture = bn.add(moisture)\nindexHeight = bn.add(height)"
      ]
    },
    {
      "cell_type": "markdown",
      "metadata": {},
      "source": [
        "Add arcs\n\n"
      ]
    },
    {
      "cell_type": "code",
      "execution_count": null,
      "metadata": {
        "collapsed": false
      },
      "outputs": [],
      "source": [
        "bn.addArc(indexLight, indexMoisture)\nbn.addArc(indexLight, indexHeight)\nbn.addArc(indexMoisture, indexHeight)\nbn"
      ]
    },
    {
      "cell_type": "markdown",
      "metadata": {},
      "source": [
        "The next step is the quantification of the Bayes net.\n\nThe variable $Light$ is quantified as follows:\n\n - **Light=Dim** with a probability of 0.25,\n - **Light=Bright** with a probability of 0.75.\n\n"
      ]
    },
    {
      "cell_type": "markdown",
      "metadata": {},
      "source": [
        "Create conditional probability tables\nlight conditional probability table\n\n"
      ]
    },
    {
      "cell_type": "code",
      "execution_count": null,
      "metadata": {
        "collapsed": false
      },
      "outputs": [],
      "source": [
        "bn.cpt(indexLight)[:] = [0.25, 0.75]\nshowPotential(bn.cpt(indexLight))"
      ]
    },
    {
      "cell_type": "markdown",
      "metadata": {},
      "source": [
        "The influence of $Light$ on $Moisture$ is modelized by:\n - when $Light=Dim$ then $Moisture=Dry$ with a probability of 0.2\n   and $Moisture=Wet$ with a probability of 0.8,\n - when $Light=Bright$ then $Moisture=Dry$ with a probability of 0.6\n   and $Moisture=Wet$ with a probability of 0.4.\n\n"
      ]
    },
    {
      "cell_type": "markdown",
      "metadata": {},
      "source": [
        "moisture conditional probability table\nWe show the antecedents of moisture with the order in which they were declared\n\n"
      ]
    },
    {
      "cell_type": "code",
      "execution_count": null,
      "metadata": {
        "collapsed": false
      },
      "outputs": [],
      "source": [
        "bn.cpt(indexMoisture)[{\"Light\": \"Dim\"}] = [0.2, 0.8]\nbn.cpt(indexMoisture)[{\"Light\": \"Bright\"}] = [0.6, 0.4]\nshowPotential(bn.cpt(indexMoisture))"
      ]
    },
    {
      "cell_type": "markdown",
      "metadata": {},
      "source": [
        "The influence of **(Light, Moisture)** on **Height** is modelized by:\n\n - when **Light=Dim** and **Moisture=Dry** then **Height** follows\n   a **Uniform(min=0, max=20)** distribution,\n - when **Light=Dim** and **Moisture=Wet** then **Height** follows\n   a **Triangular(min=15, mod=30, max=50)** distribution,\n - when **Light=Bright** and $Moisture=Dry$ then $Height$ follows\n   a **Triangular(min=0, mod=15, max=30)** distribution,\n - when **Light=Bright** and $Moisture=Wet$ then $Height$ follows\n   a **Normal(\\mu=90, \\sigma=10)** distribution.\n\n"
      ]
    },
    {
      "cell_type": "markdown",
      "metadata": {},
      "source": [
        "height has a conditional probability table\nWe give here its conditional distributions\n\n"
      ]
    },
    {
      "cell_type": "markdown",
      "metadata": {},
      "source": [
        "distribution when Dim and Dry\n\n"
      ]
    },
    {
      "cell_type": "code",
      "execution_count": null,
      "metadata": {
        "collapsed": false
      },
      "outputs": [],
      "source": [
        "heightWhenDimAndDry = ot.Uniform(0.0, 20.0)\n# distribution when Dim and Wet\nheightWhenDimAndWet = ot.Triangular(15.0, 30.0, 50.0)\n# distribution when Bright and Dry\nheightWhenBrightAndDry = ot.Triangular(0.0, 15.0, 30.0)\n# distribution when Bright and Wet\nheightWhenBrightAndWet = ot.Normal(90.0, 10.0)"
      ]
    },
    {
      "cell_type": "markdown",
      "metadata": {},
      "source": [
        "We have to enter some OT distributions whithin aGrUM conditional probability tables\nWe show the antecedents of height with the order in which they were declared\nThe new class Utils from otagrum is able to marry OT distributions and Agrum\nconditional probability tables\n\n"
      ]
    },
    {
      "cell_type": "code",
      "execution_count": null,
      "metadata": {
        "collapsed": false
      },
      "outputs": [],
      "source": [
        "bn.cpt(indexHeight)[{\"Light\": \"Dim\", \"Moisture\": \"Dry\"}] = otagrum.Utils.Discretize(\n    heightWhenDimAndDry, height\n)[:]\nbn.cpt(indexHeight)[{\"Light\": \"Bright\", \"Moisture\": \"Dry\"}] = otagrum.Utils.Discretize(\n    heightWhenBrightAndDry, height\n)[:]\nbn.cpt(indexHeight)[{\"Light\": \"Dim\", \"Moisture\": \"Wet\"}] = otagrum.Utils.Discretize(\n    heightWhenDimAndWet, height\n)[:]\nbn.cpt(indexHeight)[{\"Light\": \"Bright\", \"Moisture\": \"Wet\"}] = otagrum.Utils.Discretize(\n    heightWhenBrightAndWet, height\n)[:]\nshowPotential(bn.cpt(indexHeight))"
      ]
    },
    {
      "cell_type": "markdown",
      "metadata": {},
      "source": [
        "We can study the plant growth variability in different situations like:\n\n - I put my plant on my balcony; in that situation, I set none evidence\n   inside the Bayes net.\n - I put my plant in a  place where it is dark all time (in my cellar?);\n   in that situation, I set one evidence inside the Bayes net: $Light=Dim$.\n - I put my plant in a  place where it is moist all time (in my bathroom?);\n   in that situation, I set one evidence inside the Bayes net: $Moisture=Wet$.\n\n"
      ]
    },
    {
      "cell_type": "markdown",
      "metadata": {},
      "source": [
        "Variability of the plant growth on my balcony\n\n"
      ]
    },
    {
      "cell_type": "code",
      "execution_count": null,
      "metadata": {
        "collapsed": false
      },
      "outputs": [],
      "source": [
        "ie = gum.LazyPropagation(bn)\nh_dist = otagrum.Utils.FromMarginal(ie.posterior(\"Height\"))\nprint(\"Probability (height > 40cm) = \", 1.0 - h_dist.computeCDF(40.0))\nView(h_dist.drawPDF())"
      ]
    },
    {
      "cell_type": "markdown",
      "metadata": {},
      "source": [
        "Variability of the plant growth in my cellar\n\n"
      ]
    },
    {
      "cell_type": "code",
      "execution_count": null,
      "metadata": {
        "collapsed": false
      },
      "outputs": [],
      "source": [
        "ie = gum.LazyPropagation(bn)\nie.setEvidence({\"Light\": \"Dim\"})"
      ]
    },
    {
      "cell_type": "code",
      "execution_count": null,
      "metadata": {
        "collapsed": false
      },
      "outputs": [],
      "source": [
        "h_dist_dim = otagrum.Utils.FromMarginal(ie.posterior(\"Height\"))\nh_dist_dim.setDescription([\"Height|Light=Dim\"])\nprint(\"Probability (height > 40cm)|Light=Dim = \", 1.0 - h_dist_dim.computeCDF(40.0))\nView(h_dist_dim.drawPDF())"
      ]
    },
    {
      "cell_type": "markdown",
      "metadata": {},
      "source": [
        "Variability of the plant growth when the atmosphere is very wet\n\n"
      ]
    },
    {
      "cell_type": "code",
      "execution_count": null,
      "metadata": {
        "collapsed": false
      },
      "outputs": [],
      "source": [
        "ie = gum.LazyPropagation(bn)\nie.setEvidence({\"Moisture\": \"Wet\"})"
      ]
    },
    {
      "cell_type": "code",
      "execution_count": null,
      "metadata": {
        "collapsed": false
      },
      "outputs": [],
      "source": [
        "h_dist_wet = otagrum.Utils.FromMarginal(ie.posterior(\"Height\"))\nh_dist_wet.setDescription([\"Height|Moisture=Wet\"])\nprint(\"Probability (height > 40cm)|Moisture=Wet = \", 1.0 - h_dist_wet.computeCDF(40.0))\nView(h_dist_wet.drawPDF())"
      ]
    },
    {
      "cell_type": "markdown",
      "metadata": {},
      "source": [
        "Get the distribution of the variable \"Light\"\n\n"
      ]
    },
    {
      "cell_type": "code",
      "execution_count": null,
      "metadata": {
        "collapsed": false
      },
      "outputs": [],
      "source": [
        "l_dist_wet = otagrum.Utils.FromPotential(ie.posterior(\"Light\"))\nprint(l_dist_wet)\nView(l_dist_wet.drawPDF())"
      ]
    },
    {
      "cell_type": "markdown",
      "metadata": {},
      "source": [
        "Get the joint distribution [H, M]\n\n"
      ]
    },
    {
      "cell_type": "code",
      "execution_count": null,
      "metadata": {
        "collapsed": false
      },
      "outputs": [],
      "source": [
        "ie = gum.LazyPropagation(bn)\nie.addJointTarget({\"Height\", \"Moisture\"})\nie.makeInference()\nh_m_dist = otagrum.Utils.FromPotential(ie.jointPosterior({\"Height\", \"Moisture\"}))\nprint(h_m_dist.getDescription())\nprint(h_m_dist.getMarginal(0))\nplt.show()"
      ]
    }
  ],
  "metadata": {
    "kernelspec": {
      "display_name": "Python 3",
      "language": "python",
      "name": "python3"
    },
    "language_info": {
      "codemirror_mode": {
        "name": "ipython",
        "version": 3
      },
      "file_extension": ".py",
      "mimetype": "text/x-python",
      "name": "python",
      "nbconvert_exporter": "python",
      "pygments_lexer": "ipython3",
      "version": "3.10.10"
    }
  },
  "nbformat": 4,
  "nbformat_minor": 0
}