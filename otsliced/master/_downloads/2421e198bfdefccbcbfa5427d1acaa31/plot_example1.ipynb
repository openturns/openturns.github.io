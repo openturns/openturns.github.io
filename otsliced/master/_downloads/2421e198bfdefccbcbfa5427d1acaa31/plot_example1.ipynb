{
  "cells": [
    {
      "cell_type": "markdown",
      "metadata": {},
      "source": [
        "\n# Example on 2-d data\n"
      ]
    },
    {
      "cell_type": "code",
      "execution_count": null,
      "metadata": {
        "collapsed": false
      },
      "outputs": [],
      "source": [
        "import openturns as ot\nimport otsliced\nimport matplotlib.pyplot as plt"
      ]
    },
    {
      "cell_type": "markdown",
      "metadata": {},
      "source": [
        "Create 2-d data X and 1-d feature Y\n\n"
      ]
    },
    {
      "cell_type": "code",
      "execution_count": null,
      "metadata": {
        "collapsed": false
      },
      "outputs": [],
      "source": [
        "N = 100\nX = ot.Normal([0.0] * 2, [0.1] * 2).getSample(N)\nX += [[-i / (N - 1), 2 * i / (N - 1)] for i in range(N)]\nX = X - X.computeMean()\nf = ot.SymbolicFunction([\"x1\", \"x2\"], [\"4*(x1+2*x2)+2\"])\nY = f(X) + ot.Normal(0.0, 0.2).getSample(N)"
      ]
    },
    {
      "cell_type": "markdown",
      "metadata": {},
      "source": [
        "Plot data\n\n"
      ]
    },
    {
      "cell_type": "code",
      "execution_count": null,
      "metadata": {
        "collapsed": false
      },
      "outputs": [],
      "source": [
        "plt.scatter(X.getMarginal(0), X.getMarginal(1), c=Y)\nplt.xlabel('x1')\nplt.ylabel('x2')\nplt.axis('square')\nplt.title(\"2D colored Dataset\")"
      ]
    },
    {
      "cell_type": "markdown",
      "metadata": {},
      "source": [
        "Run the SIR algorithm\n\n"
      ]
    },
    {
      "cell_type": "code",
      "execution_count": null,
      "metadata": {
        "collapsed": false
      },
      "outputs": [],
      "source": [
        "algo = otsliced.SlicedInverseRegression(X, Y)\nalgo.run()\ntransformation = algo.getResult().getTransformation()"
      ]
    },
    {
      "cell_type": "markdown",
      "metadata": {},
      "source": [
        "Show SIR direction\n\n"
      ]
    },
    {
      "cell_type": "code",
      "execution_count": null,
      "metadata": {
        "collapsed": false
      },
      "outputs": [],
      "source": [
        "plt.scatter(X.getMarginal(0), X.getMarginal(1), c=Y)\nplt.xlabel('x1')\nplt.ylabel('x2')\nplt.axis('square')\nplt.title(\"First direction of SIR\")\ndir_sir = algo.getResult().getDirections()\nplt.plot([-dir_sir[0, 0] * 30, dir_sir[0, 0] * 30], [-dir_sir[1, 0] * 30, dir_sir[1, 0] * 30], c='red')"
      ]
    },
    {
      "cell_type": "code",
      "execution_count": null,
      "metadata": {
        "collapsed": false
      },
      "outputs": [],
      "source": [
        "plt.show()"
      ]
    }
  ],
  "metadata": {
    "kernelspec": {
      "display_name": "Python 3",
      "language": "python",
      "name": "python3"
    },
    "language_info": {
      "codemirror_mode": {
        "name": "ipython",
        "version": 3
      },
      "file_extension": ".py",
      "mimetype": "text/x-python",
      "name": "python",
      "nbconvert_exporter": "python",
      "pygments_lexer": "ipython3",
      "version": "3.11.8"
    }
  },
  "nbformat": 4,
  "nbformat_minor": 0
}