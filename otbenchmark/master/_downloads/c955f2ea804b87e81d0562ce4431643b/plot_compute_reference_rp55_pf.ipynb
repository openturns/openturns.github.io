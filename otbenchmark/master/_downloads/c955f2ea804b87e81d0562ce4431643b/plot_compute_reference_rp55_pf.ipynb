{
  "cells": [
    {
      "cell_type": "markdown",
      "metadata": {},
      "source": [
        "\n# Compute reference probability for RP55\n"
      ]
    },
    {
      "cell_type": "markdown",
      "metadata": {},
      "source": [
        "The goal of this example is to present how we computed the reference probability for problem 55 of the BBRC.\nThis calculation is based on the geometry of the failure domain.\nIn order to compute its surface, we use the `shapely` module,\nwhich allows to compute the surface of bidimensional polygons.\n\n"
      ]
    },
    {
      "cell_type": "code",
      "execution_count": null,
      "metadata": {
        "collapsed": false
      },
      "outputs": [],
      "source": [
        "import openturns as ot\nimport openturns.viewer as otv\nimport numpy as np\nimport otbenchmark as otb\nfrom shapely.geometry import Polygon"
      ]
    },
    {
      "cell_type": "code",
      "execution_count": null,
      "metadata": {
        "collapsed": false
      },
      "outputs": [],
      "source": [
        "problem = otb.ReliabilityProblem55()"
      ]
    },
    {
      "cell_type": "code",
      "execution_count": null,
      "metadata": {
        "collapsed": false
      },
      "outputs": [],
      "source": [
        "event = problem.getEvent()\ng = event.getFunction()"
      ]
    },
    {
      "cell_type": "code",
      "execution_count": null,
      "metadata": {
        "collapsed": false
      },
      "outputs": [],
      "source": [
        "problem.getProbability()"
      ]
    },
    {
      "cell_type": "markdown",
      "metadata": {},
      "source": [
        "## Compute the bounds of the domain\n\n"
      ]
    },
    {
      "cell_type": "code",
      "execution_count": null,
      "metadata": {
        "collapsed": false
      },
      "outputs": [],
      "source": [
        "inputVector = event.getAntecedent()\ndistribution = inputVector.getDistribution()\nX1 = distribution.getMarginal(0)\nX2 = distribution.getMarginal(1)\nalphaMin = 0.00001\nalphaMax = 1 - alphaMin\nlowerBound = ot.Point(\n    [X1.computeQuantile(alphaMin)[0], X2.computeQuantile(alphaMin)[0]]\n)\nupperBound = ot.Point(\n    [X1.computeQuantile(alphaMax)[0], X2.computeQuantile(alphaMax)[0]]\n)"
      ]
    },
    {
      "cell_type": "markdown",
      "metadata": {},
      "source": [
        "## Print the iso-values of the distribution\n\n"
      ]
    },
    {
      "cell_type": "code",
      "execution_count": null,
      "metadata": {
        "collapsed": false
      },
      "outputs": [],
      "source": [
        "sampleSize = 5000\nsampleInput = inputVector.getSample(sampleSize)\nsampleOutput = g(sampleInput)\ndrawEvent = otb.DrawEvent(event)"
      ]
    },
    {
      "cell_type": "code",
      "execution_count": null,
      "metadata": {
        "collapsed": false
      },
      "outputs": [],
      "source": [
        "cloud = drawEvent.drawSampleCrossCut(sampleSize)\n_ = otv.View(cloud)"
      ]
    },
    {
      "cell_type": "markdown",
      "metadata": {},
      "source": [
        "## Draw the limit state surface\n\n"
      ]
    },
    {
      "cell_type": "code",
      "execution_count": null,
      "metadata": {
        "collapsed": false
      },
      "outputs": [],
      "source": [
        "bounds = ot.Interval(lowerBound, upperBound)\nbounds"
      ]
    },
    {
      "cell_type": "code",
      "execution_count": null,
      "metadata": {
        "collapsed": false
      },
      "outputs": [],
      "source": [
        "domain = drawEvent.fillEventCrossCut(bounds)\n_ = otv.View(domain)"
      ]
    },
    {
      "cell_type": "markdown",
      "metadata": {},
      "source": [
        "## From integration\n\n"
      ]
    },
    {
      "cell_type": "code",
      "execution_count": null,
      "metadata": {
        "collapsed": false
      },
      "outputs": [],
      "source": [
        "interval = ot.Interval([-1.0, -1.0], [1.0, 1.0])\ninterval"
      ]
    },
    {
      "cell_type": "code",
      "execution_count": null,
      "metadata": {
        "collapsed": false
      },
      "outputs": [],
      "source": [
        "threshold = event.getThreshold()\nthreshold"
      ]
    },
    {
      "cell_type": "code",
      "execution_count": null,
      "metadata": {
        "collapsed": false
      },
      "outputs": [],
      "source": [
        "mean = distribution.getMean()\nmean"
      ]
    },
    {
      "cell_type": "code",
      "execution_count": null,
      "metadata": {
        "collapsed": false
      },
      "outputs": [],
      "source": [
        "def ComputeIntegrandPoint(x):\n    \"\"\"Evaluate the integrand on one single point.\"\"\"\n    y = g(x)\n    if y[0] < threshold:\n        indicator = 1.0\n    else:\n        indicator = 0.0\n    pdf = distribution.computePDF(x)\n    z = [indicator * pdf]\n    return z\n\n\nintegrand = ot.PythonFunction(2, 1, ComputeIntegrandPoint)"
      ]
    },
    {
      "cell_type": "code",
      "execution_count": null,
      "metadata": {
        "collapsed": false
      },
      "outputs": [],
      "source": [
        "integrand(mean)"
      ]
    },
    {
      "cell_type": "code",
      "execution_count": null,
      "metadata": {
        "collapsed": false
      },
      "outputs": [],
      "source": [
        "dimension = distribution.getDimension()\ntotalNumberOfPoints = 10 ** 4\nnumberOfPointsInX = int(totalNumberOfPoints ** (1.0 / dimension))\nnumberOfPointsInX"
      ]
    },
    {
      "cell_type": "code",
      "execution_count": null,
      "metadata": {
        "collapsed": false
      },
      "outputs": [],
      "source": [
        "algoGL = ot.GaussLegendre([numberOfPointsInX] * dimension)\nvalue = algoGL.integrate(integrand, interval)\nvalue"
      ]
    },
    {
      "cell_type": "code",
      "execution_count": null,
      "metadata": {
        "collapsed": false
      },
      "outputs": [],
      "source": [
        "def ComputeIntegrandSample(sample):\n    \"\"\"Evaluate the integrand on a sample.\"\"\"\n    indicatorBoolean = np.array(g(sample)) < threshold\n    indicator = np.array(indicatorBoolean, float)\n    pdf = np.array(distribution.computePDF(sample))\n    z = indicator * pdf\n    return z"
      ]
    },
    {
      "cell_type": "code",
      "execution_count": null,
      "metadata": {
        "collapsed": false
      },
      "outputs": [],
      "source": [
        "integrandSample = ot.PythonFunction(2, 1, func_sample=ComputeIntegrandSample)"
      ]
    },
    {
      "cell_type": "code",
      "execution_count": null,
      "metadata": {
        "collapsed": false
      },
      "outputs": [],
      "source": [
        "sample = distribution.getSample(5)\nintegrandSample(sample)"
      ]
    },
    {
      "cell_type": "code",
      "execution_count": null,
      "metadata": {
        "collapsed": false
      },
      "outputs": [],
      "source": [
        "integrandSample(mean)"
      ]
    },
    {
      "cell_type": "code",
      "execution_count": null,
      "metadata": {
        "collapsed": false
      },
      "outputs": [],
      "source": [
        "dimension = distribution.getDimension()\ntotalNumberOfPoints = 10 ** 6\nnumberOfPointsInX = int(totalNumberOfPoints ** (1.0 / dimension))\nnumberOfPointsInX"
      ]
    },
    {
      "cell_type": "code",
      "execution_count": null,
      "metadata": {
        "collapsed": false
      },
      "outputs": [],
      "source": [
        "discretization = [numberOfPointsInX] * dimension\nalgoGL = ot.GaussLegendre(discretization)\nvalue = algoGL.integrate(integrandSample, interval)\nvalue"
      ]
    },
    {
      "cell_type": "markdown",
      "metadata": {},
      "source": [
        "## Exact computation\n\nWe solve the exact equation:\n\nhttps://www.wolframalpha.com/input/?i=solve+min%280.2+%2B+0.6+*+%28x+-+y%29%5E4+-+%28x+-+y%29+%2F+sqrt%282%29%2C+0.2+%2B+0.6+*+%28x+-+y%29%5E4+%2B+%28x+-+y%29+%2F+sqrt%282%29%2C+%28x+-+y%29+%2B+5+%2F+sqrt%282%29+-+2.2%2C+%28y+-+x%29+%2B+5+%2F+sqrt%282%29+-+2.2%29+%3D+0\n\n```\nsolve (x - y) + 5 / sqrt(2) - 22/10 = 0\nsolve 2/10 + 6/10 * d^4 - d / sqrt(2)\n```\n\n"
      ]
    },
    {
      "cell_type": "code",
      "execution_count": null,
      "metadata": {
        "collapsed": false
      },
      "outputs": [],
      "source": [
        "domain = drawEvent.fillEventCrossCut(bounds)\n_ = otv.View(domain)"
      ]
    },
    {
      "cell_type": "markdown",
      "metadata": {},
      "source": [
        "We first compute the exact equations defining the slanted lines at the limit state.\n\n"
      ]
    },
    {
      "cell_type": "code",
      "execution_count": null,
      "metadata": {
        "collapsed": false
      },
      "outputs": [],
      "source": [
        "palette = [\n    \"dodgerblue3\",\n    \"darkorange1\",\n    \"forestgreen\",\n    \"firebrick3\",\n    \"mediumpurple3\",\n    \"lightsalmon4\",\n    \"orchid\",\n    \"gray50\",\n    \"goldenrod3\",\n    \"turquoise3\",\n]"
      ]
    },
    {
      "cell_type": "markdown",
      "metadata": {},
      "source": [
        "The goal is to define the failure domain.\n\n"
      ]
    },
    {
      "cell_type": "code",
      "execution_count": null,
      "metadata": {
        "collapsed": false
      },
      "outputs": [],
      "source": [
        "root1 = 5.0 / np.sqrt(2.0) - 2.2\nroot1"
      ]
    },
    {
      "cell_type": "code",
      "execution_count": null,
      "metadata": {
        "collapsed": false
      },
      "outputs": [],
      "source": [
        "root2 = 0.2887406174573670970\nroot2"
      ]
    },
    {
      "cell_type": "code",
      "execution_count": null,
      "metadata": {
        "collapsed": false
      },
      "outputs": [],
      "source": [
        "root3 = 0.9370483776955247344172976\nroot3"
      ]
    },
    {
      "cell_type": "code",
      "execution_count": null,
      "metadata": {
        "collapsed": false
      },
      "outputs": [],
      "source": [
        "root2 = 0.2887406174573670970\nf1full = ot.SymbolicFunction([\"x\", \"root2\"], [\"x-root2\"])\nf1 = ot.ParametricFunction(f1full, [1], [root2])\ngraph1 = f1.draw(root2 - 1.0, 1.0, 100)\ngraph1.setColors([palette[0]])\ngraph1.setLegends([\"f1\"])"
      ]
    },
    {
      "cell_type": "code",
      "execution_count": null,
      "metadata": {
        "collapsed": false
      },
      "outputs": [],
      "source": [
        "f2full = ot.SymbolicFunction([\"x\", \"root3\"], [\"x-root3\"])\nf2 = ot.ParametricFunction(f2full, [1], [root3])\ngraph2 = f2.draw(root3 - 1.0, 1.0, 100)\ngraph2.setColors([palette[1]])\ngraph2.setLegends([\"f2\"])"
      ]
    },
    {
      "cell_type": "code",
      "execution_count": null,
      "metadata": {
        "collapsed": false
      },
      "outputs": [],
      "source": [
        "f3full = ot.SymbolicFunction([\"x\", \"root1\"], [\"x-root1\"])\nf3 = ot.ParametricFunction(f3full, [1], [root1])\ngraph3 = f3.draw(root1 - 1.0, 1.0, 100)\ngraph3.setColors([palette[2]])\ngraph3.setLegends([\"f3\"])"
      ]
    },
    {
      "cell_type": "code",
      "execution_count": null,
      "metadata": {
        "collapsed": false
      },
      "outputs": [],
      "source": [
        "f4full = ot.SymbolicFunction([\"x\", \"root2\"], [\"x+root2\"])\nf4 = ot.ParametricFunction(f4full, [1], [root2])\ngraph4 = f4.draw(-1.0, 1.0 - root2, 100)\ngraph4.setColors([palette[3]])\ngraph4.setLegends([\"f4\"])"
      ]
    },
    {
      "cell_type": "code",
      "execution_count": null,
      "metadata": {
        "collapsed": false
      },
      "outputs": [],
      "source": [
        "f5full = ot.SymbolicFunction([\"x\", \"root3\"], [\"x+root3\"])\nf5 = ot.ParametricFunction(f5full, [1], [root3])\ngraph5 = f5.draw(-1.0, 1.0 - root3, 100)\ngraph5.setColors([palette[4]])\ngraph5.setLegends([\"f5\"])"
      ]
    },
    {
      "cell_type": "code",
      "execution_count": null,
      "metadata": {
        "collapsed": false
      },
      "outputs": [],
      "source": [
        "f6full = ot.SymbolicFunction([\"x\", \"root1\"], [\"x+root1\"])\nf6 = ot.ParametricFunction(f6full, [1], [root1])\ngraph6 = f6.draw(-1.0, 1.0 - root1, 100)\ngraph6.setColors([palette[5]])\ngraph6.setLegends([\"f6\"])"
      ]
    },
    {
      "cell_type": "code",
      "execution_count": null,
      "metadata": {
        "collapsed": false
      },
      "outputs": [],
      "source": [
        "domain.add(graph1)\ndomain.add(graph2)\ndomain.add(graph3)\ndomain.add(graph4)\ndomain.add(graph5)\ndomain.add(graph6)\n_ = otv.View(domain)"
      ]
    },
    {
      "cell_type": "markdown",
      "metadata": {},
      "source": [
        "Then we set the corners of the polygons in the failure domain.\n\n"
      ]
    },
    {
      "cell_type": "code",
      "execution_count": null,
      "metadata": {
        "collapsed": false
      },
      "outputs": [],
      "source": [
        "data = [\n    [-1.0, 1.0],\n    [1.0, f1([1.0])[0]],\n    [1.0, f2([1.0])[0]],\n    [1.0, f3([1.0])[0]],\n    [-1.0, f4([-1.0])[0]],\n    [-1.0, f5([-1.0])[0]],\n    [-1.0, f6([-1.0])[0]],\n    [root1 - 1.0, -1.0],\n    [root2 - 1.0, -1.0],\n    [root3 - 1.0, -1.0],\n    [1.0 - root1, 1.0],\n    [1.0 - root2, 1.0],\n    [1.0 - root3, 1.0],\n    [1.0, -1.0],\n]\nsample = ot.Sample(data)\nsample"
      ]
    },
    {
      "cell_type": "code",
      "execution_count": null,
      "metadata": {
        "collapsed": false
      },
      "outputs": [],
      "source": [
        "cloud = ot.Cloud(sample)\ndomain.add(cloud)\nextendedBounds = ot.Interval([-1.5, -1.5], [2.0, 2.0])\ndomain.setBoundingBox(extendedBounds)\ndomain"
      ]
    },
    {
      "cell_type": "markdown",
      "metadata": {},
      "source": [
        "In order to identify these points, we add the legends as text in the plot.\n\n"
      ]
    },
    {
      "cell_type": "code",
      "execution_count": null,
      "metadata": {
        "collapsed": false
      },
      "outputs": [],
      "source": [
        "texts = [\"p\" + str(i) for i in range(sample.getSize())]\ntexts"
      ]
    },
    {
      "cell_type": "code",
      "execution_count": null,
      "metadata": {
        "collapsed": false
      },
      "outputs": [],
      "source": [
        "text = ot.Text(sample, texts)"
      ]
    },
    {
      "cell_type": "code",
      "execution_count": null,
      "metadata": {
        "collapsed": false
      },
      "outputs": [],
      "source": [
        "domain.add(text)\ndomain"
      ]
    },
    {
      "cell_type": "markdown",
      "metadata": {},
      "source": [
        "The probability is the ratio between the failure domain and the domain itself.\nThe area of the domain is $2^2$.\nThe area of each polygon is computed based on the shapely module.\n\n"
      ]
    },
    {
      "cell_type": "code",
      "execution_count": null,
      "metadata": {
        "collapsed": false
      },
      "outputs": [],
      "source": [
        "corners = np.array([sample[i] for i in [0, 6, 10]])\ncorners"
      ]
    },
    {
      "cell_type": "code",
      "execution_count": null,
      "metadata": {
        "collapsed": false
      },
      "outputs": [],
      "source": [
        "polygon = Polygon(corners)\narea1 = polygon.area\narea1"
      ]
    },
    {
      "cell_type": "code",
      "execution_count": null,
      "metadata": {
        "collapsed": false
      },
      "outputs": [],
      "source": [
        "corners = np.array([sample[i] for i in [4, 11, 12, 5]])\ncorners\npolygon = Polygon(corners)\narea2 = polygon.area\narea2"
      ]
    },
    {
      "cell_type": "code",
      "execution_count": null,
      "metadata": {
        "collapsed": false
      },
      "outputs": [],
      "source": [
        "corners = np.array([sample[i] for i in [8, 9, 2, 1]])\ncorners\npolygon = Polygon(corners)\narea3 = polygon.area\narea3"
      ]
    },
    {
      "cell_type": "code",
      "execution_count": null,
      "metadata": {
        "collapsed": false
      },
      "outputs": [],
      "source": [
        "corners = np.array([sample[i] for i in [7, 13, 3]])\ncorners\npolygon = Polygon(corners)\narea4 = polygon.area\narea4"
      ]
    },
    {
      "cell_type": "code",
      "execution_count": null,
      "metadata": {
        "collapsed": false
      },
      "outputs": [],
      "source": [
        "pf = (area1 + area2 + area3 + area4) / 2.0 ** 2\npf"
      ]
    },
    {
      "cell_type": "code",
      "execution_count": null,
      "metadata": {
        "collapsed": false
      },
      "outputs": [],
      "source": [
        "print(\"pf=%.17e\" % (pf))"
      ]
    },
    {
      "cell_type": "code",
      "execution_count": null,
      "metadata": {
        "collapsed": false
      },
      "outputs": [],
      "source": [
        "otv.View.ShowAll()"
      ]
    }
  ],
  "metadata": {
    "kernelspec": {
      "display_name": "Python 3",
      "language": "python",
      "name": "python3"
    },
    "language_info": {
      "codemirror_mode": {
        "name": "ipython",
        "version": 3
      },
      "file_extension": ".py",
      "mimetype": "text/x-python",
      "name": "python",
      "nbconvert_exporter": "python",
      "pygments_lexer": "ipython3",
      "version": "3.9.20"
    }
  },
  "nbformat": 4,
  "nbformat_minor": 0
}