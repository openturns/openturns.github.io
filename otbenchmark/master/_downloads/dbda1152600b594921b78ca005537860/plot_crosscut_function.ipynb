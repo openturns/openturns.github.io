{
  "cells": [
    {
      "cell_type": "markdown",
      "metadata": {},
      "source": [
        "\n# Draw cross-cuts of multidimensional functions\n"
      ]
    },
    {
      "cell_type": "markdown",
      "metadata": {},
      "source": [
        "This example shows how to represent multidimensional functions.\nWhen 2D plots are to draw, contours are used.\nWe use 2D cross-sections to represent multidimensional objects when required,\nwhich leads to cross-cuts representations.\n\n\n"
      ]
    },
    {
      "cell_type": "code",
      "execution_count": null,
      "metadata": {
        "collapsed": false
      },
      "outputs": [],
      "source": [
        "import otbenchmark as otb\nimport openturns.viewer as otv"
      ]
    },
    {
      "cell_type": "code",
      "execution_count": null,
      "metadata": {
        "collapsed": false
      },
      "outputs": [],
      "source": [
        "problem = otb.ReliabilityProblem33()"
      ]
    },
    {
      "cell_type": "code",
      "execution_count": null,
      "metadata": {
        "collapsed": false
      },
      "outputs": [],
      "source": [
        "event = problem.getEvent()\ng = event.getFunction()"
      ]
    },
    {
      "cell_type": "markdown",
      "metadata": {},
      "source": [
        "## Compute the bounds of the domain\n\n"
      ]
    },
    {
      "cell_type": "code",
      "execution_count": null,
      "metadata": {
        "collapsed": false
      },
      "outputs": [],
      "source": [
        "inputVector = event.getAntecedent()\ndistribution = inputVector.getDistribution()"
      ]
    },
    {
      "cell_type": "code",
      "execution_count": null,
      "metadata": {
        "collapsed": false
      },
      "outputs": [],
      "source": [
        "inputDimension = distribution.getDimension()\ninputDimension"
      ]
    },
    {
      "cell_type": "code",
      "execution_count": null,
      "metadata": {
        "collapsed": false
      },
      "outputs": [],
      "source": [
        "alpha = 1 - 1.0e-5\nbounds, marginalProb = distribution.computeMinimumVolumeIntervalWithMarginalProbability(\n    alpha\n)"
      ]
    },
    {
      "cell_type": "code",
      "execution_count": null,
      "metadata": {
        "collapsed": false
      },
      "outputs": [],
      "source": [
        "referencePoint = distribution.getMean()\nreferencePoint"
      ]
    },
    {
      "cell_type": "code",
      "execution_count": null,
      "metadata": {
        "collapsed": false
      },
      "outputs": [],
      "source": [
        "crossCut = otb.CrossCutFunction(g, referencePoint)\n_ = crossCut.draw(bounds)"
      ]
    },
    {
      "cell_type": "markdown",
      "metadata": {},
      "source": [
        "Let us explain this figure in detail, by describing each sub-plot from top to bottom,\nand from left to right:\n\n* Fig. A,\n* Fig. B, C,\n* Fig. D, E, F.\n\nLet $\\bar{x}\\in\\mathbb{R}^3$ be the reference point.\n\n* Fig. A : represents $y=f(x_1, \\bar{x}_2, \\bar{x}_3)$,\n  which is a function depending on $x_1$ only.\n* Fig. B : represents the contours of the bi-dimensional function\n  $y=f(x_1, x_2, \\bar{x}_3)$\n  which depends on $x_1$ and $x_2$.\n* Fig. C : represents $y=f(\\bar{x}_1, x_2, \\bar{x}_3)$,\n  which is a function depending on $x_2$ only.\n* Fig. D : represents the contours of the bi-dimensional function\n  $y=f(x_1, \\bar{x}_2, x_3)$\n  which depends on $x_1$ and $x_3$.\n* Fig. E : represents the contours of the bi-dimensional function\n  $y=f(\\bar{x}_1, x_2, x_3)$\n  which depends on $x_2$ and $x_3$.\n* Fig. F : represents $y=f(\\bar{x}_1, \\bar{x}_2, x_3)$,\n  which is a function depending on $x_3$ only.\n\n\n"
      ]
    },
    {
      "cell_type": "code",
      "execution_count": null,
      "metadata": {
        "collapsed": false
      },
      "outputs": [],
      "source": [
        "otv.View.ShowAll()"
      ]
    }
  ],
  "metadata": {
    "kernelspec": {
      "display_name": "Python 3",
      "language": "python",
      "name": "python3"
    },
    "language_info": {
      "codemirror_mode": {
        "name": "ipython",
        "version": 3
      },
      "file_extension": ".py",
      "mimetype": "text/x-python",
      "name": "python",
      "nbconvert_exporter": "python",
      "pygments_lexer": "ipython3",
      "version": "3.9.20"
    }
  },
  "nbformat": 4,
  "nbformat_minor": 0
}