{
  "cells": [
    {
      "cell_type": "markdown",
      "metadata": {},
      "source": [
        "\n# Analysis of the LogNormal distribution in the BBRC\n"
      ]
    },
    {
      "cell_type": "markdown",
      "metadata": {},
      "source": [
        "The goal of this document is to clarify the parametrization of the LogNormal distribution in the BBRC.\n\n## From the RPREPO\n\nhttps://rprepo.readthedocs.io/en/latest/distributions.html#sec-lognormal\n\n* Type : univariate, continuous\n* Support : $x\\in(0,\\infty)$\n* Parameter : $\\theta_1=\\mu \\in (-\\infty,\\infty)$, shape\n* Parameter : $\\theta_2=\\sigma \\in (0,\\infty)$, scale\n* Mean : $e^{\\mu+\\frac{\\sigma^2}{2}}$\n* Variance : $\\left(e^{\\sigma^2} - 1\\right) e^{2\\mu + \\sigma^2}$\n\n\\begin{align}f(x) = \\frac{1}{x} \\frac{1}{\\sigma \\sqrt{2\\pi}} \\exp\\left(-\\frac{\\left(\\ln(x) - \\mu\\right)^2}{2 \\sigma^2}\\right)\\end{align}\n\nFrom this description we see that:\n\n* $\\theta_1$ is the mean of the underlying gaussian and $\\theta_2$\n  is the standard deviation of the underlying gaussian\n* Mean is the Mean of the LogNormal random variable and Std\n  is the standard deviation of the LogNormal random variable.\n\n## From OpenTURNS\n\n* http://openturns.github.io/openturns/master/user_manual/_generated/openturns.LogNormal.html\n* http://openturns.github.io/openturns/master/user_manual/_generated/openturns.LogNormalMuSigma.html\n\nOne of the two following parametrizations must be chosen:\n\n* `LogNormal` with $\\mu_\\ell=\\theta_1, \\sigma_\\ell=\\theta_2$ where $\\theta_1$ is the mean\n   of the underlying gaussian and $\\theta_2$ is the standard deviation of the underlying gaussian\n* `LogNormalMuSigma` with Mean, Std where Mean is the Mean of the LogNormal random variable\n   and Std is the standard deviation of the LogNormal random variable.\n\n## Problem\n\nThe problem is to select the parametrization that best corresponds to the problem and the data.\nThe goal of this document is to make this selection clearer.\n\n"
      ]
    },
    {
      "cell_type": "code",
      "execution_count": null,
      "metadata": {
        "collapsed": false
      },
      "outputs": [],
      "source": [
        "import openturns as ot\not.__version__"
      ]
    },
    {
      "cell_type": "markdown",
      "metadata": {},
      "source": [
        "## RP60\n\nhttps://rprepo.readthedocs.io/en/latest/reliability_problems.html#rp60\n\n"
      ]
    },
    {
      "cell_type": "markdown",
      "metadata": {},
      "source": [
        "## RP60 with LogNormalMuSigma\n\n"
      ]
    },
    {
      "cell_type": "code",
      "execution_count": null,
      "metadata": {
        "collapsed": false
      },
      "outputs": [],
      "source": [
        "Mean = 2200.0\nStd = 220.0\nparameters = ot.LogNormalMuSigma(Mean, Std)"
      ]
    },
    {
      "cell_type": "code",
      "execution_count": null,
      "metadata": {
        "collapsed": false
      },
      "outputs": [],
      "source": [
        "X = ot.ParametrizedDistribution(parameters)"
      ]
    },
    {
      "cell_type": "code",
      "execution_count": null,
      "metadata": {
        "collapsed": false
      },
      "outputs": [],
      "source": [
        "X.getMean()"
      ]
    },
    {
      "cell_type": "code",
      "execution_count": null,
      "metadata": {
        "collapsed": false
      },
      "outputs": [],
      "source": [
        "X.getStandardDeviation()"
      ]
    },
    {
      "cell_type": "markdown",
      "metadata": {},
      "source": [
        "## RP60 with LogNormal\n\n"
      ]
    },
    {
      "cell_type": "code",
      "execution_count": null,
      "metadata": {
        "collapsed": false
      },
      "outputs": [],
      "source": [
        "theta1 = 7.691\ntheta2 = 0.09975\nX = ot.LogNormal(7.691, 0.09975, 0.0)\nX"
      ]
    },
    {
      "cell_type": "code",
      "execution_count": null,
      "metadata": {
        "collapsed": false
      },
      "outputs": [],
      "source": [
        "X.getMean()"
      ]
    },
    {
      "cell_type": "code",
      "execution_count": null,
      "metadata": {
        "collapsed": false
      },
      "outputs": [],
      "source": [
        "X.getStandardDeviation()"
      ]
    },
    {
      "cell_type": "markdown",
      "metadata": {},
      "source": [
        "## RP8\n\nhttps://rprepo.readthedocs.io/en/latest/reliability_problems.html#rp8\n\n"
      ]
    },
    {
      "cell_type": "markdown",
      "metadata": {},
      "source": [
        "## RP8 with LogNormalMuSigma\n\n"
      ]
    },
    {
      "cell_type": "code",
      "execution_count": null,
      "metadata": {
        "collapsed": false
      },
      "outputs": [],
      "source": [
        "Mean = 120.0\nStd = 12.0\nparameters = ot.LogNormalMuSigma(Mean, Std)\nparameters"
      ]
    },
    {
      "cell_type": "code",
      "execution_count": null,
      "metadata": {
        "collapsed": false
      },
      "outputs": [],
      "source": [
        "X = ot.ParametrizedDistribution(parameters)\nX"
      ]
    },
    {
      "cell_type": "code",
      "execution_count": null,
      "metadata": {
        "collapsed": false
      },
      "outputs": [],
      "source": [
        "X.getMean()"
      ]
    },
    {
      "cell_type": "code",
      "execution_count": null,
      "metadata": {
        "collapsed": false
      },
      "outputs": [],
      "source": [
        "X.getStandardDeviation()"
      ]
    },
    {
      "cell_type": "markdown",
      "metadata": {},
      "source": [
        "## RP8 with LogNormal\n\n"
      ]
    },
    {
      "cell_type": "code",
      "execution_count": null,
      "metadata": {
        "collapsed": false
      },
      "outputs": [],
      "source": [
        "theta1 = 4.783\ntheta2 = 0.09975\nX = ot.LogNormal(4.783, 0.09975, 0.0)\nX"
      ]
    },
    {
      "cell_type": "code",
      "execution_count": null,
      "metadata": {
        "collapsed": false
      },
      "outputs": [],
      "source": [
        "X.getMean()"
      ]
    },
    {
      "cell_type": "code",
      "execution_count": null,
      "metadata": {
        "collapsed": false
      },
      "outputs": [],
      "source": [
        "X.getStandardDeviation()"
      ]
    },
    {
      "cell_type": "markdown",
      "metadata": {},
      "source": [
        "## Conclusion\n\nWe see that in the RP60 and RP8 problems, the Mean and Std parameters are exact\nwhile $\\theta_1$ and $\\theta_2$ are given with 4 significant digits.\nThis leads to an approximation if the $\\theta_1$ and $\\theta_2$ parameters are used.\n\nThis is why we choose the Mean and Std parameters as the parametrization for the BBRC.\nThis corresponds to the following code and comments:\n\n"
      ]
    },
    {
      "cell_type": "code",
      "execution_count": null,
      "metadata": {
        "collapsed": false
      },
      "outputs": [],
      "source": [
        "Mean = 120.0\nStd = 12.0\nparameters = ot.LogNormalMuSigma(Mean, Std)\nX = ot.ParametrizedDistribution(parameters)"
      ]
    },
    {
      "cell_type": "markdown",
      "metadata": {},
      "source": [
        "* Mean is the Mean of the LogNormal random variable\n* Std is the standard deviation of the LogNormal random variable.\n\n"
      ]
    }
  ],
  "metadata": {
    "kernelspec": {
      "display_name": "Python 3",
      "language": "python",
      "name": "python3"
    },
    "language_info": {
      "codemirror_mode": {
        "name": "ipython",
        "version": 3
      },
      "file_extension": ".py",
      "mimetype": "text/x-python",
      "name": "python",
      "nbconvert_exporter": "python",
      "pygments_lexer": "ipython3",
      "version": "3.9.20"
    }
  },
  "nbformat": 4,
  "nbformat_minor": 0
}