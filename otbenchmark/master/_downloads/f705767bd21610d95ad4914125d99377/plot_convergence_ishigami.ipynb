{
  "cells": [
    {
      "cell_type": "markdown",
      "metadata": {},
      "source": [
        "\n# Convergence of estimators on Ishigami\n"
      ]
    },
    {
      "cell_type": "markdown",
      "metadata": {},
      "source": [
        "In this example, we present the convergence of the sensitivity indices of the Ishigami test function.\n\nWe compare different estimators.\n* Sampling methods with different estimators: Saltelli, Mauntz-Kucherenko, Martinez, Jansen,\n* Sampling methods with different design of experiments: Monte-Carlo, LHS, Quasi-Monte-Carlo,\n* Polynomial chaos.\n\n\n"
      ]
    },
    {
      "cell_type": "code",
      "execution_count": null,
      "metadata": {
        "collapsed": false
      },
      "outputs": [],
      "source": [
        "import openturns as ot\nimport otbenchmark as otb\nimport openturns.viewer as otv\nimport numpy as np"
      ]
    },
    {
      "cell_type": "markdown",
      "metadata": {},
      "source": [
        "## When we estimate Sobol' indices, we may encounter the following warning messages:\nWRN - The estimated first order Sobol index (2) is greater than its total order index...\nWRN - The estimated total order Sobol index (2) is lesser than first order index ...\n```\nLots of these messages are printed in the current Notebook. This is why we disable them with:\n\n"
      ]
    },
    {
      "cell_type": "code",
      "execution_count": null,
      "metadata": {
        "collapsed": false
      },
      "outputs": [],
      "source": [
        "ot.Log.Show(ot.Log.NONE)"
      ]
    },
    {
      "cell_type": "code",
      "execution_count": null,
      "metadata": {
        "collapsed": false
      },
      "outputs": [],
      "source": [
        "problem = otb.IshigamiSensitivity()\nprint(problem)"
      ]
    },
    {
      "cell_type": "code",
      "execution_count": null,
      "metadata": {
        "collapsed": false
      },
      "outputs": [],
      "source": [
        "distribution = problem.getInputDistribution()\nmodel = problem.getFunction()"
      ]
    },
    {
      "cell_type": "markdown",
      "metadata": {},
      "source": [
        "Exact first and total order\n\n"
      ]
    },
    {
      "cell_type": "code",
      "execution_count": null,
      "metadata": {
        "collapsed": false
      },
      "outputs": [],
      "source": [
        "exact_first_order = problem.getFirstOrderIndices()\nprint(exact_first_order)\nexact_total_order = problem.getTotalOrderIndices()\nprint(exact_total_order)"
      ]
    },
    {
      "cell_type": "markdown",
      "metadata": {},
      "source": [
        "### Perform sensitivity analysis\n\n"
      ]
    },
    {
      "cell_type": "markdown",
      "metadata": {},
      "source": [
        "Create X/Y data\n\n"
      ]
    },
    {
      "cell_type": "code",
      "execution_count": null,
      "metadata": {
        "collapsed": false
      },
      "outputs": [],
      "source": [
        "ot.RandomGenerator.SetSeed(0)\nsize = 10000\ninputDesign = ot.SobolIndicesExperiment(distribution, size).generate()\noutputDesign = model(inputDesign)"
      ]
    },
    {
      "cell_type": "markdown",
      "metadata": {},
      "source": [
        "Compute first order indices using the Saltelli estimator\n\n"
      ]
    },
    {
      "cell_type": "code",
      "execution_count": null,
      "metadata": {
        "collapsed": false
      },
      "outputs": [],
      "source": [
        "sensitivityAnalysis = ot.SaltelliSensitivityAlgorithm(inputDesign, outputDesign, size)\ncomputed_first_order = sensitivityAnalysis.getFirstOrderIndices()\ncomputed_total_order = sensitivityAnalysis.getTotalOrderIndices()"
      ]
    },
    {
      "cell_type": "markdown",
      "metadata": {},
      "source": [
        "Compare with exact results\n\n"
      ]
    },
    {
      "cell_type": "code",
      "execution_count": null,
      "metadata": {
        "collapsed": false
      },
      "outputs": [],
      "source": [
        "print(\"Sample size : \", size)\n# First order\n# Compute absolute error (the LRE cannot be computed,\n# because S can be zero)\nprint(\"Computed first order = \", computed_first_order)\nprint(\"Exact first order    = \", exact_first_order)\n# Total order\nprint(\"Computed total order = \", computed_total_order)\nprint(\"Exact total order    = \", exact_total_order)"
      ]
    },
    {
      "cell_type": "code",
      "execution_count": null,
      "metadata": {
        "collapsed": false
      },
      "outputs": [],
      "source": [
        "dimension = distribution.getDimension()"
      ]
    },
    {
      "cell_type": "markdown",
      "metadata": {},
      "source": [
        "Compute componentwise absolute error.\n\n"
      ]
    },
    {
      "cell_type": "code",
      "execution_count": null,
      "metadata": {
        "collapsed": false
      },
      "outputs": [],
      "source": [
        "first_order_AE = ot.Point(np.abs(exact_first_order - computed_first_order))\ntotal_order_AE = ot.Point(np.abs(exact_total_order - computed_total_order))"
      ]
    },
    {
      "cell_type": "code",
      "execution_count": null,
      "metadata": {
        "collapsed": false
      },
      "outputs": [],
      "source": [
        "print(\"Absolute error\")\nfor i in range(dimension):\n    print(\n        \"AE(S%d) = %.4f, AE(T%d) = %.4f\" % (i, first_order_AE[i], i, total_order_AE[i])\n    )"
      ]
    },
    {
      "cell_type": "code",
      "execution_count": null,
      "metadata": {
        "collapsed": false
      },
      "outputs": [],
      "source": [
        "metaSAAlgorithm = otb.SensitivityBenchmarkMetaAlgorithm(problem)\nfor estimator in [\"Saltelli\", \"Martinez\", \"Jansen\", \"MauntzKucherenko\", \"Janon\"]:\n    print(\"Estimator:\", estimator)\n    benchmark = otb.SensitivityConvergence(\n        problem,\n        metaSAAlgorithm,\n        numberOfRepetitions=4,\n        maximum_elapsed_time=2.0,\n        sample_size_initial=20,\n        estimator=estimator,\n    )\n    grid = benchmark.plotConvergenceGrid(verbose=False)\n    view = otv.View(grid)\n    figure = view.getFigure()\n    _ = figure.suptitle(\"%s, %s\" % (problem.getName(), estimator))\n    figure.set_figwidth(10.0)\n    figure.set_figheight(5.0)\n    figure.subplots_adjust(wspace=0.4, hspace=0.4)"
      ]
    },
    {
      "cell_type": "code",
      "execution_count": null,
      "metadata": {
        "collapsed": false
      },
      "outputs": [],
      "source": [
        "benchmark = otb.SensitivityConvergence(\n    problem,\n    metaSAAlgorithm,\n    numberOfRepetitions=4,\n    maximum_elapsed_time=2.0,\n    sample_size_initial=20,\n    estimator=\"Saltelli\",\n    sampling_method=\"MonteCarlo\",\n)\ngraph = benchmark.plotConvergenceCurve()\n_ = otv.View(graph)"
      ]
    },
    {
      "cell_type": "code",
      "execution_count": null,
      "metadata": {
        "collapsed": false
      },
      "outputs": [],
      "source": [
        "grid = ot.GridLayout(1, 3)\nmaximum_absolute_error = 1.0\nminimum_absolute_error = 1.0e-5\nsampling_method_list = [\"MonteCarlo\", \"LHS\", \"QMC\"]\nfor sampling_method_index in range(3):\n    sampling_method = sampling_method_list[sampling_method_index]\n    benchmark = otb.SensitivityConvergence(\n        problem,\n        metaSAAlgorithm,\n        numberOfRepetitions=4,\n        maximum_elapsed_time=2.0,\n        sample_size_initial=20,\n        estimator=\"Saltelli\",\n        sampling_method=sampling_method,\n    )\n    graph = benchmark.plotConvergenceCurve()\n    # Change bounding box\n    box = graph.getBoundingBox()\n    bound = box.getLowerBound()\n    bound[1] = minimum_absolute_error\n    box.setLowerBound(bound)\n    bound = box.getUpperBound()\n    bound[1] = maximum_absolute_error\n    box.setUpperBound(bound)\n    graph.setBoundingBox(box)\n    grid.setGraph(0, sampling_method_index, graph)\n_ = otv.View(grid)"
      ]
    },
    {
      "cell_type": "markdown",
      "metadata": {},
      "source": [
        "Use polynomial chaos.\n\n"
      ]
    },
    {
      "cell_type": "code",
      "execution_count": null,
      "metadata": {
        "collapsed": false
      },
      "outputs": [],
      "source": [
        "benchmark = otb.SensitivityConvergence(\n    problem,\n    metaSAAlgorithm,\n    numberOfExperiments=12,\n    numberOfRepetitions=1,\n    maximum_elapsed_time=5.0,\n    sample_size_initial=20,\n    use_sampling=False,\n    total_degree=20,\n    hyperbolic_quasinorm=1.0,\n)\ngraph = benchmark.plotConvergenceCurve(verbose=True)\ngraph.setLegendPosition(\"bottomleft\")\n_ = otv.View(graph)"
      ]
    },
    {
      "cell_type": "code",
      "execution_count": null,
      "metadata": {
        "collapsed": false
      },
      "outputs": [],
      "source": [
        "otv.View.ShowAll()"
      ]
    }
  ],
  "metadata": {
    "kernelspec": {
      "display_name": "Python 3",
      "language": "python",
      "name": "python3"
    },
    "language_info": {
      "codemirror_mode": {
        "name": "ipython",
        "version": 3
      },
      "file_extension": ".py",
      "mimetype": "text/x-python",
      "name": "python",
      "nbconvert_exporter": "python",
      "pygments_lexer": "ipython3",
      "version": "3.9.20"
    }
  },
  "nbformat": 4,
  "nbformat_minor": 0
}