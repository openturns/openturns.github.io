{
  "cells": [
    {
      "cell_type": "markdown",
      "metadata": {},
      "source": [
        "\n# Compute reference probabilities with Monte-Carlo\n"
      ]
    },
    {
      "cell_type": "markdown",
      "metadata": {},
      "source": [
        "In this example, we perform a reliability benchmark based on a large Monte-Carlo sample.\nIn order to limit the elapsed time, we consider a limited elapsed time for each problem.\nIn order to get the best possible accuracy within this time limit, we set the coefficient of variation to zero.\n\n"
      ]
    },
    {
      "cell_type": "code",
      "execution_count": null,
      "metadata": {
        "collapsed": false
      },
      "outputs": [],
      "source": [
        "import otbenchmark as otb\nimport pandas as pd\nimport numpy as np\nfrom tqdm import tqdm\nimport time"
      ]
    },
    {
      "cell_type": "code",
      "execution_count": null,
      "metadata": {
        "collapsed": false
      },
      "outputs": [],
      "source": [
        "problemslist = otb.ReliabilityBenchmarkProblemList()\nnumberOfProblems = len(problemslist)\nnumberOfProblems"
      ]
    },
    {
      "cell_type": "code",
      "execution_count": null,
      "metadata": {
        "collapsed": false
      },
      "outputs": [],
      "source": [
        "coefficientOfVariation = 0.0\nmaximumOuterSampling = 10 ** 4  # 10 ** 6 for real\nblockSize = 10 ** 0  # 10 ** 4 for real simulations\nblockSize"
      ]
    },
    {
      "cell_type": "code",
      "execution_count": null,
      "metadata": {
        "collapsed": false
      },
      "outputs": [],
      "source": [
        "confidenceLevel = 0.95\nmaximumDurationSeconds = 5 * 60.0"
      ]
    },
    {
      "cell_type": "code",
      "execution_count": null,
      "metadata": {
        "collapsed": false
      },
      "outputs": [],
      "source": [
        "totalDurationMinutes = numberOfProblems * maximumDurationSeconds / 60.0\ntotalDurationMinutes"
      ]
    },
    {
      "cell_type": "code",
      "execution_count": null,
      "metadata": {
        "collapsed": false
      },
      "outputs": [],
      "source": [
        "model_names = [problemslist[i].getName() for i in range(numberOfProblems)]\nmetrics = [\"PF\", \"N. function calls\", \"PMin\", \"PMax\", \"C.O.V.\", \"Digits\", \"Time (s)\"]\nresultArray = np.zeros((numberOfProblems, len(metrics)))\nfor i in tqdm(range(numberOfProblems)):\n    startTime = time.time()\n    problem = problemslist[i]\n    name = problem.getName()\n    event = problem.getEvent()\n    g = event.getFunction()\n    factory = otb.ProbabilitySimulationAlgorithmFactory()\n    algo = factory.buildMonteCarlo(problem)\n    algo.setMaximumOuterSampling(maximumOuterSampling)\n    algo.setBlockSize(blockSize)\n    algo.setMaximumCoefficientOfVariation(coefficientOfVariation)\n    algo.setMaximumTimeDuration(maximumDurationSeconds)\n    initialNumberOfCall = g.getEvaluationCallsNumber()\n    algo.run()\n    result = algo.getResult()\n    numberOfFunctionEvaluations = g.getEvaluationCallsNumber() - initialNumberOfCall\n    computedProbability = result.getProbabilityEstimate()\n    confidenceLength = result.getConfidenceLength(confidenceLevel)\n    pmin = computedProbability - 0.5 * confidenceLength\n    pmax = computedProbability + 0.5 * confidenceLength\n    cov = result.getCoefficientOfVariation()\n    if cov > 0.0:\n        expectedDigits = -np.log10(cov) - 1.0\n    else:\n        expectedDigits = 0.0\n    stopTime = time.time()\n    elapsedTime = stopTime - startTime\n    resultArray[i][0] = computedProbability\n    resultArray[i][1] = numberOfFunctionEvaluations\n    resultArray[i][2] = pmin\n    resultArray[i][3] = pmax\n    resultArray[i][4] = cov\n    resultArray[i][5] = expectedDigits\n    resultArray[i][6] = elapsedTime"
      ]
    },
    {
      "cell_type": "code",
      "execution_count": null,
      "metadata": {
        "collapsed": false
      },
      "outputs": [],
      "source": [
        "df = pd.DataFrame(resultArray, index=model_names, columns=metrics)\n# df.to_csv(\"reliability_compute_reference_proba.csv\")\ndf"
      ]
    },
    {
      "cell_type": "markdown",
      "metadata": {},
      "source": [
        "The problems with higher failture probabilities are obviously solved with more accuracy with the Monte-Carlo method.\nFor example, the RP55 problem which has the highest probability equal to 0.560 has more than 3 significant digits.\nOn the opposite side, the problems with probabilities close to zero are much more difficult to solve.\nThe RP28 with a probability close to $10^{-7}$ has no significant digit.\n\nThese previous results are consistent with the distribution of the Monte-Carlo estimator.\nThe properties of the binomial distribution imply that its variance is:\n\n\\begin{align}\\sigma_{p_f}^2 = \\frac{p_f (1-p_f)}{n}\\end{align}\n\nwhere $n$ is the sample size and $p_f$ is the failure probability.\nThe coefficient of variation is:\n\n\\begin{align}CV = \\frac{\\sigma_{p_f}}{p_f}.\\end{align}\n\nSince we do not know the exact value of $p_f$, we use is approximation $\\tilde{p_f}$ instead\n(this turns rigorous equations into approximate ones, but does not change the outcome).\nThis implies:\n\n\\begin{align}CV = \\sqrt{\\frac{1 - p_f}{p_f n}}.\\end{align}\n\nWhen $p_f\\rightarrow 0$, we have $p_f \\rightarrow 0$ which implies:\n\n\\begin{align}CV \\rightarrow \\sqrt{\\frac{1}{p_f n}}.\\end{align}\n\nInverting the previous equation, we get the sample size given the coefficient of variation:\n\n\\begin{align}n \\approx \\frac{1}{p_f CV^2}.\\end{align}\n\nThis leads to the rule of thumb that, in order to estimate the probability $p_f = 10^{-m}$,\nwhere $m$ is an integer, we need a sample size equal to:\n\n\\begin{align}n \\approx \\frac{1}{10^{-m} 10^{-2}} = 10^{m+2}.\\end{align}\n\nFor example, estimating the probability of the RP28 problem with just one single digit leads to\na sample size equal to $n=10^9$, since the exact $p_f \\approx 10^{-7}$.\n\n"
      ]
    }
  ],
  "metadata": {
    "kernelspec": {
      "display_name": "Python 3",
      "language": "python",
      "name": "python3"
    },
    "language_info": {
      "codemirror_mode": {
        "name": "ipython",
        "version": 3
      },
      "file_extension": ".py",
      "mimetype": "text/x-python",
      "name": "python",
      "nbconvert_exporter": "python",
      "pygments_lexer": "ipython3",
      "version": "3.9.20"
    }
  },
  "nbformat": 4,
  "nbformat_minor": 0
}