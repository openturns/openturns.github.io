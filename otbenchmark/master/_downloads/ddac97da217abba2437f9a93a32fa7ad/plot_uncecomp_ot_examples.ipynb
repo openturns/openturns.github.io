{
  "cells": [
    {
      "cell_type": "markdown",
      "metadata": {},
      "source": [
        "\n# Introduction to OpenTURNS objects\n"
      ]
    },
    {
      "cell_type": "markdown",
      "metadata": {},
      "source": [
        "In the otbenchmark package, we use several objects that must be known in order to distinguish which objects\ncome from the OpenTURNS library or from otbenchmark.\nFor reliability problems, there are three objects that cannot be ignored:\n\n* the :class:`openturns.Distribution`,\n* the :class:`openturns.Function`,\n* the :class:`openturns.ThresholdEvent`.\n\n\n"
      ]
    },
    {
      "cell_type": "code",
      "execution_count": null,
      "metadata": {
        "collapsed": false
      },
      "outputs": [],
      "source": [
        "import openturns as ot\nimport matplotlib.pyplot as plt\nimport openturns.viewer as otv"
      ]
    },
    {
      "cell_type": "markdown",
      "metadata": {},
      "source": [
        "Avoid mixture warnings\n\n"
      ]
    },
    {
      "cell_type": "code",
      "execution_count": null,
      "metadata": {
        "collapsed": false
      },
      "outputs": [],
      "source": [
        "ot.Log.Show(ot.Log.NONE)"
      ]
    },
    {
      "cell_type": "markdown",
      "metadata": {},
      "source": [
        "## Distribution\n\n"
      ]
    },
    {
      "cell_type": "markdown",
      "metadata": {},
      "source": [
        "Define two marginals\n\n"
      ]
    },
    {
      "cell_type": "code",
      "execution_count": null,
      "metadata": {
        "collapsed": false
      },
      "outputs": [],
      "source": [
        "X0 = ot.Normal(0.0, 1.0)\nX1 = ot.Uniform(0.0, 1.0)"
      ]
    },
    {
      "cell_type": "markdown",
      "metadata": {},
      "source": [
        "Define an independent joint distribution\n\n"
      ]
    },
    {
      "cell_type": "code",
      "execution_count": null,
      "metadata": {
        "collapsed": false
      },
      "outputs": [],
      "source": [
        "X_ind = ot.ComposedDistribution([X0, X1])"
      ]
    },
    {
      "cell_type": "markdown",
      "metadata": {},
      "source": [
        "Define a dependent joint distribution using a copula (e.g., Frank copula)\n\n"
      ]
    },
    {
      "cell_type": "code",
      "execution_count": null,
      "metadata": {
        "collapsed": false
      },
      "outputs": [],
      "source": [
        "copula = ot.FrankCopula(5)\nX_dep = ot.ComposedDistribution([X0, X1], copula)"
      ]
    },
    {
      "cell_type": "markdown",
      "metadata": {},
      "source": [
        "Generate a sample of each joint distribution\n\n"
      ]
    },
    {
      "cell_type": "code",
      "execution_count": null,
      "metadata": {
        "collapsed": false
      },
      "outputs": [],
      "source": [
        "X_ind_sample = X_ind.getSample(1000)\nX_dep_sample = X_dep.getSample(1000)"
      ]
    },
    {
      "cell_type": "code",
      "execution_count": null,
      "metadata": {
        "collapsed": false
      },
      "outputs": [],
      "source": [
        "method_list = [method for method in dir(X0) if method.startswith(\"__\") is False]\nprint(len(method_list))"
      ]
    },
    {
      "cell_type": "code",
      "execution_count": null,
      "metadata": {
        "collapsed": false
      },
      "outputs": [],
      "source": [
        "plt.figure(figsize=(8, 8))\nplt.scatter(\n    X_dep_sample[:, 0],\n    X_dep_sample[:, 1],\n    label=\"X dependent (Frank copula) - Monte Carlo (size 1000)\",\n    marker=\"x\",\n)\nplt.scatter(\n    X_ind_sample[:, 0],\n    X_ind_sample[:, 1],\n    label=\"X independent - Monte Carlo (size 1000)\",\n    marker=\".\",\n)\n\nplt.xlabel(r\"$X_0 \\sim Normal(0, 1)$\", fontsize=14)\nplt.ylabel(r\"$X_1 \\sim Uniform(0, 1)$\", fontsize=14)\n_ = plt.legend(loc=\"best\", fontsize=14)"
      ]
    },
    {
      "cell_type": "code",
      "execution_count": null,
      "metadata": {
        "collapsed": false
      },
      "outputs": [],
      "source": [
        "graph = ot.Graph(\n    \"Two samples with the same marginals ($n=1000$)\",\n    r\"$X_0 \\sim \\mathcal{N}(0, 1)$\",\n    r\"$X_1 \\sim \\mathcal{U}(0, 1)$\",\n    True,\n)\ncloud = ot.Cloud(X_dep_sample[:, 0], X_dep_sample[:, 1])\ncloud.setLegend(\"Frank copula\")\ngraph.add(cloud)\ncloud = ot.Cloud(X_ind_sample[:, 0], X_ind_sample[:, 1])\ncloud.setLegend(\"Independent\")\ngraph.add(cloud)\ngraph.setLegendPosition(\"topright\")\ngraph.setColors(ot.Drawable.BuildDefaultPalette(2))\nview = otv.View(graph, figure_kw={\"figsize\": (4.5, 3.5)})\n# view.save(\"two_samples.pdf\")"
      ]
    },
    {
      "cell_type": "markdown",
      "metadata": {},
      "source": [
        "## Function\n\n"
      ]
    },
    {
      "cell_type": "markdown",
      "metadata": {},
      "source": [
        "Define a symbolic function\n\n"
      ]
    },
    {
      "cell_type": "code",
      "execution_count": null,
      "metadata": {
        "collapsed": false
      },
      "outputs": [],
      "source": [
        "myfunction = ot.SymbolicFunction([\"x0\", \"x1\"], [\"sin(x0) * (1 + x1 ^ 2)\"])\nmyfunction.setInputDescription([\"$x_0$\", \"$x_1$\"])\nmyfunction.setOutputDescription([\"$y$\"])"
      ]
    },
    {
      "cell_type": "markdown",
      "metadata": {},
      "source": [
        "Define input random vectors\n\n"
      ]
    },
    {
      "cell_type": "code",
      "execution_count": null,
      "metadata": {
        "collapsed": false
      },
      "outputs": [],
      "source": [
        "inputVect_ind = ot.RandomVector(X_ind)\ninputVect_dep = ot.RandomVector(X_dep)"
      ]
    },
    {
      "cell_type": "markdown",
      "metadata": {},
      "source": [
        "Compose input random vectors by the symbolic function\n\n"
      ]
    },
    {
      "cell_type": "code",
      "execution_count": null,
      "metadata": {
        "collapsed": false
      },
      "outputs": [],
      "source": [
        "outputVect_ind = ot.CompositeRandomVector(myfunction, inputVect_ind)\noutputVect_dep = ot.CompositeRandomVector(myfunction, inputVect_dep)"
      ]
    },
    {
      "cell_type": "markdown",
      "metadata": {},
      "source": [
        "Sample the output random variable\n\n"
      ]
    },
    {
      "cell_type": "code",
      "execution_count": null,
      "metadata": {
        "collapsed": false
      },
      "outputs": [],
      "source": [
        "outputSample_ind = outputVect_ind.getSample(10000)\noutputSample_dep = outputVect_dep.getSample(10000)"
      ]
    },
    {
      "cell_type": "code",
      "execution_count": null,
      "metadata": {
        "collapsed": false
      },
      "outputs": [],
      "source": [
        "plt.figure(figsize=(9, 6))\nplt.hist(\n    outputSample_ind,\n    bins=40,\n    histtype=\"stepfilled\",\n    alpha=0.3,\n    ec=\"k\",\n    label=\"X independent\",\n)\nplt.hist(\n    outputSample_dep,\n    bins=40,\n    histtype=\"stepfilled\",\n    alpha=0.3,\n    ec=\"k\",\n    label=\"X dependent (Frank copula)\",\n)\nplt.xlabel(\"$g(X)$ histogram\", fontsize=14)\n_ = plt.legend(loc=\"best\", fontsize=14)"
      ]
    },
    {
      "cell_type": "code",
      "execution_count": null,
      "metadata": {
        "collapsed": false
      },
      "outputs": [],
      "source": [
        "graph = ot.HistogramFactory().build(outputSample_ind).drawPDF()\ngraph.setLegends([\"Independent\"])\ngraph.setTitle(r\"Distribution of the output $y=g(\\mathbf{X})$\")\ncurve = ot.HistogramFactory().build(outputSample_dep).drawPDF()\ncurve.setLegends([\"Frank\"])\ngraph.add(curve)\ngraph.setColors(ot.Drawable.BuildDefaultPalette(2))\nview = otv.View(graph, figure_kw={\"figsize\": (4.5, 3.5)})\n# view.save(\"histo_output.pdf\")"
      ]
    },
    {
      "cell_type": "code",
      "execution_count": null,
      "metadata": {
        "collapsed": false
      },
      "outputs": [],
      "source": [
        "graph = ot.KernelSmoothing().build(outputSample_ind).drawPDF()\ngraph.setLegends([\"Independent\"])\ngraph.setTitle(r\"Distribution of the output $y=g(\\mathbf{X})$\")\ncurve = ot.KernelSmoothing().build(outputSample_dep).drawPDF()\ncurve.setLegends([\"Frank\"])\ngraph.add(curve)\ngraph.setColors(ot.Drawable.BuildDefaultPalette(2))\nview = otv.View(graph, figure_kw={\"figsize\": (4.5, 3.5)})\n# view.save(\"kernel_output.pdf\")"
      ]
    },
    {
      "cell_type": "markdown",
      "metadata": {},
      "source": [
        "## ThresholdEvent\n\n"
      ]
    },
    {
      "cell_type": "code",
      "execution_count": null,
      "metadata": {
        "collapsed": false
      },
      "outputs": [],
      "source": [
        "threshold = 1.0  # Change this to 2.0 to turn it into a difficult problem\nevent = ot.ThresholdEvent(outputVect_ind, ot.Greater(), threshold)\nevent"
      ]
    },
    {
      "cell_type": "code",
      "execution_count": null,
      "metadata": {
        "collapsed": false
      },
      "outputs": [],
      "source": [
        "maximumCoV = 0.05  # Coefficient of variation\nmaximumNumberOfBlocks = 100000\nexperiment = ot.MonteCarloExperiment()\nalgoMC = ot.ProbabilitySimulationAlgorithm(event, experiment)\nalgoMC.setMaximumOuterSampling(maximumNumberOfBlocks)\nalgoMC.setBlockSize(1)\nalgoMC.setMaximumCoefficientOfVariation(maximumCoV)"
      ]
    },
    {
      "cell_type": "code",
      "execution_count": null,
      "metadata": {
        "collapsed": false
      },
      "outputs": [],
      "source": [
        "algoMC.run()"
      ]
    },
    {
      "cell_type": "code",
      "execution_count": null,
      "metadata": {
        "collapsed": false
      },
      "outputs": [],
      "source": [
        "result = algoMC.getResult()\nprobability = result.getProbabilityEstimate()\nprint(\"Pf = \", probability)"
      ]
    },
    {
      "cell_type": "code",
      "execution_count": null,
      "metadata": {
        "collapsed": false
      },
      "outputs": [],
      "source": [
        "otv.View.ShowAll()"
      ]
    }
  ],
  "metadata": {
    "kernelspec": {
      "display_name": "Python 3",
      "language": "python",
      "name": "python3"
    },
    "language_info": {
      "codemirror_mode": {
        "name": "ipython",
        "version": 3
      },
      "file_extension": ".py",
      "mimetype": "text/x-python",
      "name": "python",
      "nbconvert_exporter": "python",
      "pygments_lexer": "ipython3",
      "version": "3.9.20"
    }
  },
  "nbformat": 4,
  "nbformat_minor": 0
}