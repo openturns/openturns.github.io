{
  "cells": [
    {
      "cell_type": "markdown",
      "metadata": {},
      "source": [
        "\n# Print the sensitivity analysis problems\n"
      ]
    },
    {
      "cell_type": "markdown",
      "metadata": {},
      "source": [
        "In this example, we show how to print all the sensitivity analysis problems.\n\n"
      ]
    },
    {
      "cell_type": "code",
      "execution_count": null,
      "metadata": {
        "collapsed": false
      },
      "outputs": [],
      "source": [
        "import otbenchmark as otb\nimport pandas as pd"
      ]
    },
    {
      "cell_type": "markdown",
      "metadata": {},
      "source": [
        "We import the list of problems.\n\n"
      ]
    },
    {
      "cell_type": "code",
      "execution_count": null,
      "metadata": {
        "collapsed": false
      },
      "outputs": [],
      "source": [
        "benchmarkProblemList = otb.SensitivityBenchmarkProblemList()\nnumberOfProblems = len(benchmarkProblemList)\nprint(numberOfProblems)"
      ]
    },
    {
      "cell_type": "markdown",
      "metadata": {},
      "source": [
        "For each problem in the benchmark, print the problem name and the exact Sobol' indices.\n\n"
      ]
    },
    {
      "cell_type": "code",
      "execution_count": null,
      "metadata": {
        "collapsed": false
      },
      "outputs": [],
      "source": [
        "for i in range(numberOfProblems):\n    problem = benchmarkProblemList[i]\n    name = problem.getName()\n    first_order_indices = problem.getFirstOrderIndices()\n    total_order_indices = problem.getTotalOrderIndices()\n    dimension = problem.getInputDistribution().getDimension()\n    print(\n        \"#\",\n        i,\n        \":\",\n        name,\n        \" : S = \",\n        first_order_indices,\n        \"T=\",\n        total_order_indices,\n        \", dimension=\",\n        dimension,\n    )"
      ]
    },
    {
      "cell_type": "code",
      "execution_count": null,
      "metadata": {
        "collapsed": false
      },
      "outputs": [],
      "source": [
        "problem_names = [\n    benchmarkProblem.getName() for benchmarkProblem in benchmarkProblemList\n]\ncolumns = [\"$d$\"]\ndf_problems_list = pd.DataFrame(index=problem_names, columns=columns)\nfor problem in benchmarkProblemList:\n    name = problem.getName()\n    d = problem.getInputDistribution().getDimension()\n    df_problems_list.loc[name] = [int(d)]\nprint(df_problems_list)"
      ]
    },
    {
      "cell_type": "code",
      "execution_count": null,
      "metadata": {
        "collapsed": false
      },
      "outputs": [],
      "source": [
        "latex_code = df_problems_list.to_latex()\ntext_file = open(\"sensitivity_problems_list.tex\", \"w\")\ntext_file.write(latex_code)\ntext_file.close()"
      ]
    }
  ],
  "metadata": {
    "kernelspec": {
      "display_name": "Python 3",
      "language": "python",
      "name": "python3"
    },
    "language_info": {
      "codemirror_mode": {
        "name": "ipython",
        "version": 3
      },
      "file_extension": ".py",
      "mimetype": "text/x-python",
      "name": "python",
      "nbconvert_exporter": "python",
      "pygments_lexer": "ipython3",
      "version": "3.9.20"
    }
  },
  "nbformat": 4,
  "nbformat_minor": 0
}