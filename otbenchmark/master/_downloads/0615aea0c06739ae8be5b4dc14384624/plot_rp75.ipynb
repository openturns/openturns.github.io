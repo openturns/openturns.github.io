{
  "cells": [
    {
      "cell_type": "markdown",
      "metadata": {},
      "source": [
        "\n# RP75 analysis and 2D graphics\n"
      ]
    },
    {
      "cell_type": "markdown",
      "metadata": {},
      "source": [
        "The objective of this example is to present problem 75 of the BBRC.\nWe also present graphic elements for the visualization of the limit state surface in 2 dimensions.\n\nThis problem has two dimension and a reference probability approximately equal to $10^{-2}$.\nHence, the problem should be relatively easy to solve.\nThe failure domain is made of two separate sub-domains, leading to two different design points.\nHence, the FORM approximation cannot be accurate, because it systematically ignores one of them,\nno matter what point is found by the optimization algorithm.\n\n"
      ]
    },
    {
      "cell_type": "code",
      "execution_count": null,
      "metadata": {
        "collapsed": false
      },
      "outputs": [],
      "source": [
        "import openturns as ot\nimport openturns.viewer as otv\nimport otbenchmark as otb"
      ]
    },
    {
      "cell_type": "code",
      "execution_count": null,
      "metadata": {
        "collapsed": false
      },
      "outputs": [],
      "source": [
        "problem = otb.ReliabilityProblem75()\nprint(problem)"
      ]
    },
    {
      "cell_type": "code",
      "execution_count": null,
      "metadata": {
        "collapsed": false
      },
      "outputs": [],
      "source": [
        "event = problem.getEvent()\ng = event.getFunction()"
      ]
    },
    {
      "cell_type": "code",
      "execution_count": null,
      "metadata": {
        "collapsed": false
      },
      "outputs": [],
      "source": [
        "problem.getProbability()"
      ]
    },
    {
      "cell_type": "markdown",
      "metadata": {},
      "source": [
        "Create the Monte-Carlo algorithm\n\n"
      ]
    },
    {
      "cell_type": "code",
      "execution_count": null,
      "metadata": {
        "collapsed": false
      },
      "outputs": [],
      "source": [
        "algoProb = ot.ProbabilitySimulationAlgorithm(event)\nalgoProb.setMaximumOuterSampling(1000)\nalgoProb.setMaximumCoefficientOfVariation(0.01)\nalgoProb.run()"
      ]
    },
    {
      "cell_type": "markdown",
      "metadata": {},
      "source": [
        "Get the results\n\n"
      ]
    },
    {
      "cell_type": "code",
      "execution_count": null,
      "metadata": {
        "collapsed": false
      },
      "outputs": [],
      "source": [
        "resultAlgo = algoProb.getResult()\nneval = g.getEvaluationCallsNumber()\nprint(\"Number of function calls = %d\" % (neval))\npf = resultAlgo.getProbabilityEstimate()\nprint(\"Failure Probability = %.4f\" % (pf))\nlevel = 0.95\nc95 = resultAlgo.getConfidenceLength(level)\npmin = pf - 0.5 * c95\npmax = pf + 0.5 * c95\nprint(\"%.1f %% confidence interval :[%.4f,%.4f] \" % (level * 100, pmin, pmax))"
      ]
    },
    {
      "cell_type": "markdown",
      "metadata": {},
      "source": [
        "## Compute the bounds of the domain\n\n"
      ]
    },
    {
      "cell_type": "code",
      "execution_count": null,
      "metadata": {
        "collapsed": false
      },
      "outputs": [],
      "source": [
        "inputVector = event.getAntecedent()\ndistribution = inputVector.getDistribution()\nX1 = distribution.getMarginal(0)\nX2 = distribution.getMarginal(1)\nalphaMin = 0.00001\nalphaMax = 1 - alphaMin\nlowerBound = ot.Point(\n    [X1.computeQuantile(alphaMin)[0], X2.computeQuantile(alphaMin)[0]]\n)\nupperBound = ot.Point(\n    [X1.computeQuantile(alphaMax)[0], X2.computeQuantile(alphaMax)[0]]\n)"
      ]
    },
    {
      "cell_type": "code",
      "execution_count": null,
      "metadata": {
        "collapsed": false
      },
      "outputs": [],
      "source": [
        "nbPoints = [100, 100]\nfigure = g.draw(lowerBound, upperBound, nbPoints)\nfigure.setTitle(\" Iso-values of limit state function\")\nfigure"
      ]
    },
    {
      "cell_type": "markdown",
      "metadata": {},
      "source": [
        "## Print the iso-values of the distribution\n\n"
      ]
    },
    {
      "cell_type": "code",
      "execution_count": null,
      "metadata": {
        "collapsed": false
      },
      "outputs": [],
      "source": [
        "_ = otv.View(distribution.drawPDF())"
      ]
    },
    {
      "cell_type": "code",
      "execution_count": null,
      "metadata": {
        "collapsed": false
      },
      "outputs": [],
      "source": [
        "sampleSize = 5000\ndrawEvent = otb.DrawEvent(event)"
      ]
    },
    {
      "cell_type": "code",
      "execution_count": null,
      "metadata": {
        "collapsed": false
      },
      "outputs": [],
      "source": [
        "cloud = drawEvent.drawSampleCrossCut(sampleSize)\n_ = otv.View(cloud)"
      ]
    },
    {
      "cell_type": "markdown",
      "metadata": {},
      "source": [
        "## Draw the limit state surface\n\n"
      ]
    },
    {
      "cell_type": "code",
      "execution_count": null,
      "metadata": {
        "collapsed": false
      },
      "outputs": [],
      "source": [
        "bounds = ot.Interval(lowerBound, upperBound)\nbounds"
      ]
    },
    {
      "cell_type": "code",
      "execution_count": null,
      "metadata": {
        "collapsed": false
      },
      "outputs": [],
      "source": [
        "graph = drawEvent.drawLimitStateCrossCut(bounds)\ngraph.add(cloud)\ngraph"
      ]
    },
    {
      "cell_type": "code",
      "execution_count": null,
      "metadata": {
        "collapsed": false
      },
      "outputs": [],
      "source": [
        "domain = drawEvent.fillEventCrossCut(bounds)\n_ = otv.View(domain)"
      ]
    },
    {
      "cell_type": "code",
      "execution_count": null,
      "metadata": {
        "collapsed": false
      },
      "outputs": [],
      "source": [
        "domain.add(cloud)\n_ = otv.View(domain)"
      ]
    },
    {
      "cell_type": "markdown",
      "metadata": {},
      "source": [
        "## Test with FORM method\n\n"
      ]
    },
    {
      "cell_type": "markdown",
      "metadata": {},
      "source": [
        "We create a NearestPoint algorithm\n\n"
      ]
    },
    {
      "cell_type": "code",
      "execution_count": null,
      "metadata": {
        "collapsed": false
      },
      "outputs": [],
      "source": [
        "nearestPointAlgorithm = ot.Cobyla()\n# Resolution options:\neps = 1e-3\nnearestPointAlgorithm.setMaximumCallsNumber(1000)\nnearestPointAlgorithm.setMaximumAbsoluteError(eps)\nnearestPointAlgorithm.setMaximumRelativeError(eps)\nnearestPointAlgorithm.setMaximumResidualError(eps)\nnearestPointAlgorithm.setMaximumConstraintError(eps)"
      ]
    },
    {
      "cell_type": "code",
      "execution_count": null,
      "metadata": {
        "collapsed": false
      },
      "outputs": [],
      "source": [
        "initialNumberOfCall = g.getEvaluationCallsNumber()\nmean = distribution.getMean()\nalgoFORM = ot.FORM(nearestPointAlgorithm, event, mean)\nalgoFORM.run()\nresultFORM = algoFORM.getResult()\nnumberOfFunctionEvaluationsFORM = g.getEvaluationCallsNumber() - initialNumberOfCall\nprobabilityFORM = resultFORM.getEventProbability()\nprint(\"Number of calls to the limit state =\", numberOfFunctionEvaluationsFORM)\nprint(\"Pf =\", probabilityFORM)"
      ]
    },
    {
      "cell_type": "markdown",
      "metadata": {},
      "source": [
        "We create a NearestPoint algorithm\n\n"
      ]
    },
    {
      "cell_type": "code",
      "execution_count": null,
      "metadata": {
        "collapsed": false
      },
      "outputs": [],
      "source": [
        "nearestPointAlgorithm = ot.AbdoRackwitz()\n# Resolution options:\neps = 1e-3\nnearestPointAlgorithm.setMaximumCallsNumber(100)\nnearestPointAlgorithm.setMaximumAbsoluteError(eps)\nnearestPointAlgorithm.setMaximumRelativeError(eps)\nnearestPointAlgorithm.setMaximumResidualError(eps)\nnearestPointAlgorithm.setMaximumConstraintError(eps)"
      ]
    },
    {
      "cell_type": "markdown",
      "metadata": {},
      "source": [
        "### If the mean point is used as a starting point with the `AbdoRackwitz` class, then the algorithm fails with:\nRuntimeError: InternalException : Error in Abdo Rackwitz algorithm: the gradient of the level function is zero ...\n```\nIn order to fix this, we just use a different starting point.\n\n"
      ]
    },
    {
      "cell_type": "code",
      "execution_count": null,
      "metadata": {
        "collapsed": false
      },
      "outputs": [],
      "source": [
        "startingPoint = mean + [1.0e-3] * 2"
      ]
    },
    {
      "cell_type": "code",
      "execution_count": null,
      "metadata": {
        "collapsed": false
      },
      "outputs": [],
      "source": [
        "initialNumberOfCall = g.getEvaluationCallsNumber()\nmean = distribution.getMean()\nalgoFORM = ot.FORM(nearestPointAlgorithm, event, startingPoint)\nalgoFORM.run()\nresultFORM = algoFORM.getResult()\nnumberOfFunctionEvaluationsFORM = g.getEvaluationCallsNumber() - initialNumberOfCall\nprobabilityFORM = resultFORM.getEventProbability()\nprint(\"Number of calls to the limit state =\", numberOfFunctionEvaluationsFORM)\nprint(\"Pf =\", probabilityFORM)"
      ]
    },
    {
      "cell_type": "code",
      "execution_count": null,
      "metadata": {
        "collapsed": false
      },
      "outputs": [],
      "source": [
        "mean"
      ]
    },
    {
      "cell_type": "code",
      "execution_count": null,
      "metadata": {
        "collapsed": false
      },
      "outputs": [],
      "source": [
        "g.gradient(mean)"
      ]
    },
    {
      "cell_type": "code",
      "execution_count": null,
      "metadata": {
        "collapsed": false
      },
      "outputs": [],
      "source": [
        "otv.View.ShowAll()"
      ]
    }
  ],
  "metadata": {
    "kernelspec": {
      "display_name": "Python 3",
      "language": "python",
      "name": "python3"
    },
    "language_info": {
      "codemirror_mode": {
        "name": "ipython",
        "version": 3
      },
      "file_extension": ".py",
      "mimetype": "text/x-python",
      "name": "python",
      "nbconvert_exporter": "python",
      "pygments_lexer": "ipython3",
      "version": "3.9.20"
    }
  },
  "nbformat": 4,
  "nbformat_minor": 0
}