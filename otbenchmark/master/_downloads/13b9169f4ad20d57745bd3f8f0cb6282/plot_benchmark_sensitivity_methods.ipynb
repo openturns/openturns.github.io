{
  "cells": [
    {
      "cell_type": "markdown",
      "metadata": {},
      "source": [
        "\n# Benchmark sensitivity analysis methods\n"
      ]
    },
    {
      "cell_type": "code",
      "execution_count": null,
      "metadata": {
        "collapsed": false
      },
      "outputs": [],
      "source": [
        "import openturns as ot\nimport otbenchmark as otb"
      ]
    },
    {
      "cell_type": "markdown",
      "metadata": {},
      "source": [
        "## When we estimate Sobol' indices, we may encounter the following warning messages:\nWRN - The estimated first order Sobol index (2) is greater than its total order index ...\nWRN - The estimated total order Sobol index (2) is lesser than first order index ...\n```\nLots of these messages are printed in the current Notebook. This is why we disable them with:\n\n"
      ]
    },
    {
      "cell_type": "code",
      "execution_count": null,
      "metadata": {
        "collapsed": false
      },
      "outputs": [],
      "source": [
        "ot.Log.Show(ot.Log.NONE)"
      ]
    },
    {
      "cell_type": "markdown",
      "metadata": {},
      "source": [
        "Use Borgonovo problem\n\n"
      ]
    },
    {
      "cell_type": "code",
      "execution_count": null,
      "metadata": {
        "collapsed": false
      },
      "outputs": [],
      "source": [
        "problem = otb.BorgonovoSensitivity()\ndistribution = problem.getInputDistribution()\nmodel = problem.getFunction()"
      ]
    },
    {
      "cell_type": "markdown",
      "metadata": {},
      "source": [
        "Exact first and total order\n\n"
      ]
    },
    {
      "cell_type": "code",
      "execution_count": null,
      "metadata": {
        "collapsed": false
      },
      "outputs": [],
      "source": [
        "exact_first_order = problem.getFirstOrderIndices()\nexact_total_order = problem.getTotalOrderIndices()"
      ]
    },
    {
      "cell_type": "markdown",
      "metadata": {},
      "source": [
        "### Saltelli estimator with Monte-Carlo sample\n\n"
      ]
    },
    {
      "cell_type": "code",
      "execution_count": null,
      "metadata": {
        "collapsed": false
      },
      "outputs": [],
      "source": [
        "sample_size = 10000"
      ]
    },
    {
      "cell_type": "code",
      "execution_count": null,
      "metadata": {
        "collapsed": false
      },
      "outputs": [],
      "source": [
        "inputDesign = ot.SobolIndicesExperiment(distribution, sample_size).generate()\noutputDesign = model(inputDesign)"
      ]
    },
    {
      "cell_type": "markdown",
      "metadata": {},
      "source": [
        "Compute first order indices using the Saltelli estimator\n\n"
      ]
    },
    {
      "cell_type": "code",
      "execution_count": null,
      "metadata": {
        "collapsed": false
      },
      "outputs": [],
      "source": [
        "sensitivityAnalysis = ot.SaltelliSensitivityAlgorithm(\n    inputDesign, outputDesign, sample_size\n)\ncomputed_first_order = sensitivityAnalysis.getFirstOrderIndices()\ncomputed_total_order = sensitivityAnalysis.getTotalOrderIndices()"
      ]
    },
    {
      "cell_type": "markdown",
      "metadata": {},
      "source": [
        "Compare with exact results\n\n"
      ]
    },
    {
      "cell_type": "code",
      "execution_count": null,
      "metadata": {
        "collapsed": false
      },
      "outputs": [],
      "source": [
        "print(\"Sample size : \", sample_size)\n# First order\nprint(\"Computed first order = \", computed_first_order)\nprint(\"Exact first order = \", exact_first_order)\n# Total order\nprint(\"Computed total order = \", computed_total_order)\nprint(\"Exact total order = \", exact_total_order)"
      ]
    },
    {
      "cell_type": "markdown",
      "metadata": {},
      "source": [
        "### Saltelli estimator with Quasi Monte-Carlo sample\n\n"
      ]
    },
    {
      "cell_type": "code",
      "execution_count": null,
      "metadata": {
        "collapsed": false
      },
      "outputs": [],
      "source": [
        "sample_size = 500"
      ]
    },
    {
      "cell_type": "code",
      "execution_count": null,
      "metadata": {
        "collapsed": false
      },
      "outputs": [],
      "source": [
        "dimension = distribution.getDimension()\nsequence = ot.SobolSequence(dimension)\nrestart = True\nexperiment = ot.LowDiscrepancyExperiment(sequence, distribution, sample_size, restart)"
      ]
    },
    {
      "cell_type": "code",
      "execution_count": null,
      "metadata": {
        "collapsed": false
      },
      "outputs": [],
      "source": [
        "inputDesign = ot.SobolIndicesExperiment(experiment).generate()\noutputDesign = model(inputDesign)"
      ]
    },
    {
      "cell_type": "markdown",
      "metadata": {},
      "source": [
        "Compute first order indices using the Saltelli estimator\n\n"
      ]
    },
    {
      "cell_type": "code",
      "execution_count": null,
      "metadata": {
        "collapsed": false
      },
      "outputs": [],
      "source": [
        "sensitivityAnalysis = ot.SaltelliSensitivityAlgorithm(\n    inputDesign, outputDesign, sample_size\n)\nfirst_order = sensitivityAnalysis.getFirstOrderIndices()\ntotal_order = sensitivityAnalysis.getTotalOrderIndices()"
      ]
    },
    {
      "cell_type": "markdown",
      "metadata": {},
      "source": [
        "Compare with exact results\n\n"
      ]
    },
    {
      "cell_type": "code",
      "execution_count": null,
      "metadata": {
        "collapsed": false
      },
      "outputs": [],
      "source": [
        "print(\"Sample size : \", sample_size)\n# First order\nprint(\"Computed first order = \", computed_first_order)\nprint(\"Exact first order = \", exact_first_order)\n# Total order\nprint(\"Computed total order = \", computed_total_order)\nprint(\"Exact total order = \", exact_total_order)"
      ]
    },
    {
      "cell_type": "markdown",
      "metadata": {},
      "source": [
        "### Loop over the estimators\n\n"
      ]
    },
    {
      "cell_type": "code",
      "execution_count": null,
      "metadata": {
        "collapsed": false
      },
      "outputs": [],
      "source": [
        "print(\"Available estimators:\")\nestimators_list = otb.SensitivityBenchmarkMetaAlgorithm.GetEstimators()\nfor sobolAlgorithm in estimators_list:\n    name = sobolAlgorithm.getClassName()\n    print(\" - \", name)"
      ]
    },
    {
      "cell_type": "code",
      "execution_count": null,
      "metadata": {
        "collapsed": false
      },
      "outputs": [],
      "source": [
        "metaSAAlgorithm = otb.SensitivityBenchmarkMetaAlgorithm(problem)"
      ]
    },
    {
      "cell_type": "code",
      "execution_count": null,
      "metadata": {
        "collapsed": false
      },
      "outputs": [],
      "source": [
        "print(\"Monte-Carlo sampling\")\nfor sobolAlgorithm in estimators_list:\n    (\n        computed_first_order,\n        computed_total_order,\n    ) = metaSAAlgorithm.runSamplingEstimator(sample_size)\n    name = sobolAlgorithm.getClassName()\n    print(name)\n    print(\"    S = \", computed_first_order)\n    print(\"    T = \", computed_total_order)"
      ]
    },
    {
      "cell_type": "code",
      "execution_count": null,
      "metadata": {
        "collapsed": false
      },
      "outputs": [],
      "source": [
        "print(\"Quasi Monte-Carlo sampling\")\nfor estimator in [\"Saltelli\", \"Martinez\", \"Jansen\", \"MauntzKucherenko\"]:\n    (\n        computed_first_order,\n        computed_total_order,\n    ) = metaSAAlgorithm.runSamplingEstimator(\n        sample_size, estimator=estimator, sampling_method=\"QMC\"\n    )\n    name = sobolAlgorithm.getClassName()\n    print(name)\n    print(\"    S = \", computed_first_order)\n    print(\"    T = \", computed_total_order)"
      ]
    },
    {
      "cell_type": "code",
      "execution_count": null,
      "metadata": {
        "collapsed": false
      },
      "outputs": [],
      "source": [
        "print(\"Polynomial chaos\")\nsample_size = 500\n(\n    computed_first_order,\n    computed_total_order,\n) = metaSAAlgorithm.runPolynomialChaosEstimator(\n    sample_size_train=sample_size,\n    sample_size_test=2,\n    total_degree=5,\n    hyperbolic_quasinorm=0.5,\n)\nprint(\"    S = \", computed_first_order)\nprint(\"    T = \", computed_total_order)"
      ]
    },
    {
      "cell_type": "markdown",
      "metadata": {},
      "source": [
        "### Define the metric\n\n"
      ]
    },
    {
      "cell_type": "markdown",
      "metadata": {},
      "source": [
        "We consider the following accuracy metrics:\n* the vector or log relative errors for a given index (first order or total order),\n* the mean log relative error, as the mean of the LRE vector (first order or total order),\n* the average mean log relative error, as the mean of the first and total order mean log relative error.\n\nLarger LRE values are prefered.\n\nThe first order (resp. total order) mean LRE represents the mean number of digits for all components\nof the first order indices (resp. total order indices).\nThe average mean LRE represents the mean LRE for both first and total order indices.\n\n"
      ]
    },
    {
      "cell_type": "code",
      "execution_count": null,
      "metadata": {
        "collapsed": false
      },
      "outputs": [],
      "source": [
        "S_LRE = ot.Point(dimension)\nT_LRE = ot.Point(dimension)\nfor i in range(dimension):\n    S_LRE[i] = otb.ComputeLogRelativeError(\n        computed_first_order[i], exact_first_order[i]\n    )\n    T_LRE[i] = otb.ComputeLogRelativeError(\n        computed_total_order[i], exact_total_order[i]\n    )"
      ]
    },
    {
      "cell_type": "code",
      "execution_count": null,
      "metadata": {
        "collapsed": false
      },
      "outputs": [],
      "source": [
        "print(\"LRE S = \", S_LRE)\nprint(\"LRE T = \", T_LRE)"
      ]
    },
    {
      "cell_type": "code",
      "execution_count": null,
      "metadata": {
        "collapsed": false
      },
      "outputs": [],
      "source": [
        "mean_LRE_S = sum(S_LRE) / dimension\nmean_LRE_T = sum(T_LRE) / dimension\nmean_LRE = (mean_LRE_S + mean_LRE_T) / 2.0\nprint(\"Mean LRE S = %.2f\" % (mean_LRE_S))\nprint(\"Mean LRE T = %.2f\" % (mean_LRE_T))\nprint(\"Mean LRE = %.2f\" % (mean_LRE))"
      ]
    },
    {
      "cell_type": "markdown",
      "metadata": {},
      "source": [
        "The digit per point ratio measure the number of digits relatively to the sample size. A greater value is prefered.\n\n"
      ]
    },
    {
      "cell_type": "code",
      "execution_count": null,
      "metadata": {
        "collapsed": false
      },
      "outputs": [],
      "source": [
        "digit_per_point_ratio = mean_LRE / sample_size\nprint(\"Digit / point = %.3e\" % (digit_per_point_ratio))"
      ]
    }
  ],
  "metadata": {
    "kernelspec": {
      "display_name": "Python 3",
      "language": "python",
      "name": "python3"
    },
    "language_info": {
      "codemirror_mode": {
        "name": "ipython",
        "version": 3
      },
      "file_extension": ".py",
      "mimetype": "text/x-python",
      "name": "python",
      "nbconvert_exporter": "python",
      "pygments_lexer": "ipython3",
      "version": "3.9.20"
    }
  },
  "nbformat": 4,
  "nbformat_minor": 0
}