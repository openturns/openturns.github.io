{
  "cells": [
    {
      "cell_type": "markdown",
      "metadata": {},
      "source": [
        "\n# RP111 analysis and 2D graphics\n"
      ]
    },
    {
      "cell_type": "markdown",
      "metadata": {},
      "source": [
        "The objective of this example is to present problem 111 of the BBRC.\nWe also present graphic elements for the visualization of the limit state surface in 2 dimensions.\n\n"
      ]
    },
    {
      "cell_type": "code",
      "execution_count": null,
      "metadata": {
        "collapsed": false
      },
      "outputs": [],
      "source": [
        "import openturns as ot\nimport openturns.viewer as otv\nimport otbenchmark as otb"
      ]
    },
    {
      "cell_type": "code",
      "execution_count": null,
      "metadata": {
        "collapsed": false
      },
      "outputs": [],
      "source": [
        "problem = otb.ReliabilityProblem111()\nprint(problem)"
      ]
    },
    {
      "cell_type": "code",
      "execution_count": null,
      "metadata": {
        "collapsed": false
      },
      "outputs": [],
      "source": [
        "event = problem.getEvent()\ng = event.getFunction()"
      ]
    },
    {
      "cell_type": "code",
      "execution_count": null,
      "metadata": {
        "collapsed": false
      },
      "outputs": [],
      "source": [
        "problem.getProbability()"
      ]
    },
    {
      "cell_type": "markdown",
      "metadata": {},
      "source": [
        "Create the Monte-Carlo algorithm\n\n"
      ]
    },
    {
      "cell_type": "code",
      "execution_count": null,
      "metadata": {
        "collapsed": false
      },
      "outputs": [],
      "source": [
        "algoProb = ot.ProbabilitySimulationAlgorithm(event)\nalgoProb.setMaximumOuterSampling(1000)\nalgoProb.setMaximumCoefficientOfVariation(0.01)\nalgoProb.run()"
      ]
    },
    {
      "cell_type": "markdown",
      "metadata": {},
      "source": [
        "Get the results\n\n"
      ]
    },
    {
      "cell_type": "code",
      "execution_count": null,
      "metadata": {
        "collapsed": false
      },
      "outputs": [],
      "source": [
        "resultAlgo = algoProb.getResult()\nneval = g.getEvaluationCallsNumber()\nprint(\"Number of function calls = %d\" % (neval))\npf = resultAlgo.getProbabilityEstimate()\nprint(\"Failure Probability = %.4f\" % (pf))\nlevel = 0.95\nc95 = resultAlgo.getConfidenceLength(level)\npmin = pf - 0.5 * c95\npmax = pf + 0.5 * c95\nprint(\"%.1f %% confidence interval :[%.4f,%.4f] \" % (level * 100, pmin, pmax))"
      ]
    },
    {
      "cell_type": "markdown",
      "metadata": {},
      "source": [
        "Compute the bounds of the domain\n\n"
      ]
    },
    {
      "cell_type": "code",
      "execution_count": null,
      "metadata": {
        "collapsed": false
      },
      "outputs": [],
      "source": [
        "inputVector = event.getAntecedent()\ndistribution = inputVector.getDistribution()\nX1 = distribution.getMarginal(0)\nX2 = distribution.getMarginal(1)\nalphaMin = 0.00001\nalphaMax = 1 - alphaMin\nlowerBound = ot.Point(\n    [X1.computeQuantile(alphaMin)[0], X2.computeQuantile(alphaMin)[0]]\n)\nupperBound = ot.Point(\n    [X1.computeQuantile(alphaMax)[0], X2.computeQuantile(alphaMax)[0]]\n)"
      ]
    },
    {
      "cell_type": "code",
      "execution_count": null,
      "metadata": {
        "collapsed": false
      },
      "outputs": [],
      "source": [
        "nbPoints = [100, 100]\nfigure = g.draw(lowerBound, upperBound, nbPoints)\nfigure.setTitle(\" Iso-values of limit state function\")\nfigure"
      ]
    },
    {
      "cell_type": "code",
      "execution_count": null,
      "metadata": {
        "collapsed": false
      },
      "outputs": [],
      "source": [
        "_ = otv.View(distribution.drawPDF())"
      ]
    },
    {
      "cell_type": "code",
      "execution_count": null,
      "metadata": {
        "collapsed": false
      },
      "outputs": [],
      "source": [
        "sampleSize = 100000\ndrawEvent = otb.DrawEvent(event)"
      ]
    },
    {
      "cell_type": "code",
      "execution_count": null,
      "metadata": {
        "collapsed": false
      },
      "outputs": [],
      "source": [
        "cloud = drawEvent.drawSampleCrossCut(sampleSize)\n_ = otv.View(cloud)"
      ]
    },
    {
      "cell_type": "markdown",
      "metadata": {},
      "source": [
        "## Draw the limit state surface\n\n"
      ]
    },
    {
      "cell_type": "code",
      "execution_count": null,
      "metadata": {
        "collapsed": false
      },
      "outputs": [],
      "source": [
        "bounds = ot.Interval(lowerBound, upperBound)"
      ]
    },
    {
      "cell_type": "code",
      "execution_count": null,
      "metadata": {
        "collapsed": false
      },
      "outputs": [],
      "source": [
        "graph = drawEvent.drawLimitStateCrossCut(bounds)\ngraph.add(cloud)\ngraph"
      ]
    },
    {
      "cell_type": "code",
      "execution_count": null,
      "metadata": {
        "collapsed": false
      },
      "outputs": [],
      "source": [
        "domain = drawEvent.fillEventCrossCut(bounds)\n_ = otv.View(domain)"
      ]
    },
    {
      "cell_type": "code",
      "execution_count": null,
      "metadata": {
        "collapsed": false
      },
      "outputs": [],
      "source": [
        "domain.add(cloud)\n_ = otv.View(domain)"
      ]
    },
    {
      "cell_type": "code",
      "execution_count": null,
      "metadata": {
        "collapsed": false
      },
      "outputs": [],
      "source": [
        "otv.View.ShowAll()"
      ]
    }
  ],
  "metadata": {
    "kernelspec": {
      "display_name": "Python 3",
      "language": "python",
      "name": "python3"
    },
    "language_info": {
      "codemirror_mode": {
        "name": "ipython",
        "version": 3
      },
      "file_extension": ".py",
      "mimetype": "text/x-python",
      "name": "python",
      "nbconvert_exporter": "python",
      "pygments_lexer": "ipython3",
      "version": "3.9.20"
    }
  },
  "nbformat": 4,
  "nbformat_minor": 0
}