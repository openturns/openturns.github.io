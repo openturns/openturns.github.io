{
  "cells": [
    {
      "cell_type": "markdown",
      "metadata": {},
      "source": [
        "\n# Benchmark the Oakley-O'Hagan test function\n"
      ]
    },
    {
      "cell_type": "code",
      "execution_count": null,
      "metadata": {
        "collapsed": false
      },
      "outputs": [],
      "source": [
        "import openturns as ot\nimport otbenchmark as otb\nimport openturns.viewer as otv"
      ]
    },
    {
      "cell_type": "code",
      "execution_count": null,
      "metadata": {
        "collapsed": false
      },
      "outputs": [],
      "source": [
        "problem = otb.OakleyOHaganSensitivity()\nprint(problem)"
      ]
    },
    {
      "cell_type": "code",
      "execution_count": null,
      "metadata": {
        "collapsed": false
      },
      "outputs": [],
      "source": [
        "distribution = problem.getInputDistribution()\nmodel = problem.getFunction()"
      ]
    },
    {
      "cell_type": "markdown",
      "metadata": {},
      "source": [
        "Exact first and total order\n\n"
      ]
    },
    {
      "cell_type": "code",
      "execution_count": null,
      "metadata": {
        "collapsed": false
      },
      "outputs": [],
      "source": [
        "exact_first_order = problem.getFirstOrderIndices()\nprint(exact_first_order)"
      ]
    },
    {
      "cell_type": "code",
      "execution_count": null,
      "metadata": {
        "collapsed": false
      },
      "outputs": [],
      "source": [
        "exact_total_order = problem.getTotalOrderIndices()\nprint(exact_total_order)\n\n\n# ## Plot the function"
      ]
    },
    {
      "cell_type": "markdown",
      "metadata": {},
      "source": [
        "Create X/Y data\n\n"
      ]
    },
    {
      "cell_type": "code",
      "execution_count": null,
      "metadata": {
        "collapsed": false
      },
      "outputs": [],
      "source": [
        "ot.RandomGenerator.SetSeed(0)\nsize = 200\ninputDesign = ot.MonteCarloExperiment(distribution, size).generate()\noutputDesign = model(inputDesign)"
      ]
    },
    {
      "cell_type": "code",
      "execution_count": null,
      "metadata": {
        "collapsed": false
      },
      "outputs": [],
      "source": [
        "dimension = distribution.getDimension()\nnbcolumns = 5\nnbrows = int(dimension / nbcolumns)\ngrid = ot.GridLayout(nbrows, nbcolumns)\ninputDescription = distribution.getDescription()\noutputDescription = model.getOutputDescription()[0]\nindex = 0\nfor i in range(nbrows):\n    for j in range(nbcolumns):\n        graph = ot.Graph(\n            \"n=%d\" % (size), inputDescription[index], outputDescription, True, \"\"\n        )\n        sample = ot.Sample(size, 2)\n        sample[:, 0] = inputDesign[:, index]\n        sample[:, 1] = outputDesign[:, 0]\n        cloud = ot.Cloud(sample)\n        graph.add(cloud)\n        grid.setGraph(i, j, graph)\n        index += 1\n_ = otv.View(grid, figure_kw={\"figsize\": (10.0, 10.0)})"
      ]
    },
    {
      "cell_type": "code",
      "execution_count": null,
      "metadata": {
        "collapsed": false
      },
      "outputs": [],
      "source": [
        "output_distribution = ot.KernelSmoothing().build(outputDesign)\n_ = otv.View(output_distribution.drawPDF())"
      ]
    },
    {
      "cell_type": "markdown",
      "metadata": {},
      "source": [
        "## Perform sensitivity analysis\n\n"
      ]
    },
    {
      "cell_type": "markdown",
      "metadata": {},
      "source": [
        "Create X/Y data\n\n"
      ]
    },
    {
      "cell_type": "code",
      "execution_count": null,
      "metadata": {
        "collapsed": false
      },
      "outputs": [],
      "source": [
        "ot.RandomGenerator.SetSeed(0)\nsize = 1000\ninputDesign = ot.SobolIndicesExperiment(distribution, size).generate()\noutputDesign = model(inputDesign)"
      ]
    },
    {
      "cell_type": "markdown",
      "metadata": {},
      "source": [
        "Compute first order indices using the Saltelli estimator\n\n"
      ]
    },
    {
      "cell_type": "code",
      "execution_count": null,
      "metadata": {
        "collapsed": false
      },
      "outputs": [],
      "source": [
        "sensitivityAnalysis = ot.SaltelliSensitivityAlgorithm(inputDesign, outputDesign, size)\ncomputed_first_order = sensitivityAnalysis.getFirstOrderIndices()\ncomputed_total_order = sensitivityAnalysis.getTotalOrderIndices()"
      ]
    },
    {
      "cell_type": "markdown",
      "metadata": {},
      "source": [
        "Compare with exact results\n\n"
      ]
    },
    {
      "cell_type": "code",
      "execution_count": null,
      "metadata": {
        "collapsed": false
      },
      "outputs": [],
      "source": [
        "print(\"Sample size : \", size)\n# First order\n# Compute absolute error (the LRE cannot be computed,\n# because S can be zero)\nprint(\"Computed first order = \", computed_first_order)\nprint(\"Exact first order = \", exact_first_order)\n# Total order\nprint(\"Computed total order = \", computed_total_order)\nprint(\"Exact total order = \", exact_total_order)"
      ]
    },
    {
      "cell_type": "code",
      "execution_count": null,
      "metadata": {
        "collapsed": false
      },
      "outputs": [],
      "source": [
        "_ = otv.View(sensitivityAnalysis.draw())"
      ]
    },
    {
      "cell_type": "code",
      "execution_count": null,
      "metadata": {
        "collapsed": false
      },
      "outputs": [],
      "source": [
        "otv.View.ShowAll()"
      ]
    }
  ],
  "metadata": {
    "kernelspec": {
      "display_name": "Python 3",
      "language": "python",
      "name": "python3"
    },
    "language_info": {
      "codemirror_mode": {
        "name": "ipython",
        "version": 3
      },
      "file_extension": ".py",
      "mimetype": "text/x-python",
      "name": "python",
      "nbconvert_exporter": "python",
      "pygments_lexer": "ipython3",
      "version": "3.9.20"
    }
  },
  "nbformat": 4,
  "nbformat_minor": 0
}