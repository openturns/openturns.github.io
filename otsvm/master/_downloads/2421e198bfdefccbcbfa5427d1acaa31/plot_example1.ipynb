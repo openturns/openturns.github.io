{
  "cells": [
    {
      "cell_type": "markdown",
      "metadata": {},
      "source": [
        "\n# Regression\n"
      ]
    },
    {
      "cell_type": "markdown",
      "metadata": {},
      "source": [
        "The objective of this example is to create a SVM Regression algorithm in order to create a metamodel.\n\notsvm enables to:\n\n- set lists of tradeoff factors and kernel parameter with the methods setTradeoffFactor, setKernelParameter.\n- select the kernel type in this list : Linear Kernel, Polynomial Kernel, Sigmoid Kernel, RBF kernel.\n- compute the algorithm on an input and output samples.\n- compute the algorithm on an experiment plane and a function.\n- compute the algorithm on an input and output samples and an isoprobabilistic distribution.\n\nWe recommend for users to use the RBF Kernel (the Gaussian kernel).\nMoreover, it is important to understand that the selection of\nparameters (kernel parameter and tradeoff factor) is primary.\nIf you don't know  what to take as parameters, you must take a wide range values,\nfor example $tradeoff \\in \\{10^-5,10^-3,10^-1...10^3 \\}$\n$kernel\\ parameter \\in \\{10^-15, 10^-13...,10^3 \\}$.\nUsually, the algorithm always converges, but this can take a long while,\nespecially if you have a lot of parameters to test.\n\n"
      ]
    },
    {
      "cell_type": "code",
      "execution_count": null,
      "metadata": {
        "collapsed": false
      },
      "outputs": [],
      "source": [
        "import openturns as ot\nimport otsvm\n\n# create a function, here we create the Sobol function\ndimension = 3\nmeanTh = 1.0\na = ot.Point(dimension)\ninputVariables = ot.Description(dimension)\nformula = \"1.0\"\ncovTh = 1.0\nfor i in range(dimension):\n    a[i] = 0.5 * i\n    covTh = covTh * (1.0 + 1.0 / (3.0 * (1.0 + a[i]) ** 2))\n    inputVariables[i] = \"xi\" + str(i)\n    formula += (\n        \" * ((abs(4.0 * xi\"\n        + str(i)\n        + \" -2.0) + \"\n        + str(a[i])\n        + \") / (1.0 + \"\n        + str(a[i])\n        + \"))\"\n    )\ncovTh = covTh - 1.0\nmodel = ot.SymbolicFunction(inputVariables, ot.Description(1, formula))\n\n# create the input distribution\not.RandomGenerator.SetSeed(0)\nmarginals = ot.DistributionCollection(dimension)\nfor i in range(dimension):\n    marginals[i] = ot.Uniform(0.0, 1.0)\ndistribution = ot.ComposedDistribution(marginals)\n\n# create lists of kernel parameters and tradeoff factors\ntradeoff = [0.01, 0.1, 1, 10, 100, 1000]\nkernel = [0.001, 0.01, 0.1, 1, 10, 100]\n\n# first example : create the problem with an input and output samples:\n# first, we create samples\ndataIn = distribution.getSample(250)\ndataOut = model(dataIn)\n# second, we create our svm regression object, we must select the third parameter\n# in an enumerate in the list { NormalRBF, Linear, Sigmoid, Polynomial }\nalgo = otsvm.SVMRegression(dataIn, dataOut, otsvm.LibSVM.NormalRbf)\n# third, we set kernel parameter and tradeoff factor\nalgo.setTradeoffFactor(tradeoff)\nalgo.setKernelParameter(kernel)\n# Perform the algorithm\nalgo.run()\n# Stream out the results\nresult = algo.getResult()\n# get the residual error\nresidual = result.getResiduals()\n# get the relative error\nrelativeError = result.getRelativeErrors()\nprint(f\"residual={residual} error={relativeError}\")\n\n# second example : create the problem with an experiment plane:\n# first, we create the plane\nmyExperiment = ot.MonteCarloExperiment(distribution, 250)\ndataIn = myExperiment.generate()\ndataOut = model(dataIn)\n# second, we create our svm regression object, the first parameter is the\n# function\nalgo2 = otsvm.SVMRegression(dataIn, dataOut, otsvm.LibSVM.Linear)\n# third, we set kernel parameter and tradeoff factor\nalgo2.setTradeoffFactor(tradeoff)\nalgo2.setKernelParameter(kernel)\n# Perform the algorithm\nalgo2.run()\n# Stream out the results\nresult = algo2.getResult()\n# get the residual error\nresidual = result.getResiduals()\n# get the relative error\nrelativeError = result.getRelativeErrors()\nprint(f\"residual={residual} error={relativeError}\")\n\n# third example is here to present you the SVMResourceMap class.\n# Users can fix others parameters like the degree and the constant of the\n# Polynomial Kernel,the cacheSize, the number of folds or the epsilon\n# first, we create samples\ndataIn = distribution.getSample(250)\ndataOut = model(dataIn)\n# second, we create our svm regression object\n# here, we select the Polynomial Kernel but by default his degree is 3. We want a\n# degree of 2\not.ResourceMap.Set(\"LibSVM-DegreePolynomialKernel\", \"2\")\n# now the degree of the Polynomial kernel is 2\nalgo = otsvm.SVMRegression(dataIn, dataOut, otsvm.LibSVM.Polynomial)\n# third, we set kernel parameter and tradeoff factor\nalgo.setTradeoffFactor(tradeoff)\nalgo.setKernelParameter(kernel)\n# Perform the algorithm\n# algo.run()\n# Stream out the results\n# result = algo.getResult()\n# print(result)\n# get the residual error\n# residual = result.getResiduals()\n# get the relative error\n# relativeError = result.getRelativeErrors()"
      ]
    }
  ],
  "metadata": {
    "kernelspec": {
      "display_name": "Python 3",
      "language": "python",
      "name": "python3"
    },
    "language_info": {
      "codemirror_mode": {
        "name": "ipython",
        "version": 3
      },
      "file_extension": ".py",
      "mimetype": "text/x-python",
      "name": "python",
      "nbconvert_exporter": "python",
      "pygments_lexer": "ipython3",
      "version": "3.13.2"
    }
  },
  "nbformat": 4,
  "nbformat_minor": 0
}