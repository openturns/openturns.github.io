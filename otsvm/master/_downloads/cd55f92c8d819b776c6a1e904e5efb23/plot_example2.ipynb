{
  "cells": [
    {
      "cell_type": "markdown",
      "metadata": {},
      "source": [
        "\n# Classification\n"
      ]
    },
    {
      "cell_type": "markdown",
      "metadata": {},
      "source": [
        "The objective of this Use Case is to create a SVM Classification algorithm in order to build a metamodel that separates data in 2 classes.\n\notsvm enables to:\n\n- set lists of tradeoff factors and kernel parameter with the methods setTradeoffFactor, setKernelParameter.\n- select the kernel type in this list : Linear Kernel, Polynomial Kernel, Sigmoid Kernel, RBF kernel.\n- run the algorithm on an input and output samples.\n\n\n"
      ]
    },
    {
      "cell_type": "code",
      "execution_count": null,
      "metadata": {
        "collapsed": false
      },
      "outputs": [],
      "source": [
        "import openturns as ot\nimport otsvm\nimport os\n\n# this example uses a csv file with the datas for the classification\n# we retrieve the sample from the file sample.csv\ntry:\n    path = os.path.abspath(os.path.dirname(__file__))\nexcept NameError:\n    # in notebook\n    path = os.getcwd()\ndataInOut = ot.Sample.ImportFromCSVFile(os.path.join(path, \"sample.csv\"), \",\")\n\n# we create dataIn and dataOut\nsize = dataInOut.getSize()\ndataIn = dataInOut.getMarginal([1, 2])\ndataOut = ot.Indices(size)\nfor i in range(size):\n    dataOut[i] = int(dataInOut[i, 0])\n\n# list of C parameter\ncp = [0.000001, 0.00001, 0.0001, 0.001, 0.01, 0.1, 1, 10, 100]\n# list of gamma parameter in kernel function\ngamma = [0.000001, 0.00001, 0.0001, 0.001, 0.01, 0.1, 1, 10, 100]\n\n# create the Classification Problem\nalgo = otsvm.SVMClassification(dataIn, dataOut)\nalgo.setKernelType(otsvm.LibSVM.NormalRbf)\nalgo.setTradeoffFactor(cp)\nalgo.setKernelParameter(gamma)\n\n# compute the classification\nalgo.run()\nprint(\"#######################\")\nprint(\"Results with Samples I/O\")\nprint(\"Accuracy(p.c.)=\", algo.getAccuracy())"
      ]
    }
  ],
  "metadata": {
    "kernelspec": {
      "display_name": "Python 3",
      "language": "python",
      "name": "python3"
    },
    "language_info": {
      "codemirror_mode": {
        "name": "ipython",
        "version": 3
      },
      "file_extension": ".py",
      "mimetype": "text/x-python",
      "name": "python",
      "nbconvert_exporter": "python",
      "pygments_lexer": "ipython3",
      "version": "3.11.6"
    }
  },
  "nbformat": 4,
  "nbformat_minor": 0
}