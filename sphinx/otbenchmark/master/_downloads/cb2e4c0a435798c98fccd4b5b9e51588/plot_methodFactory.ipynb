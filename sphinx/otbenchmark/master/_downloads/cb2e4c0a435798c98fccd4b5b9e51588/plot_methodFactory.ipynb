{
  "cells": [
    {
      "cell_type": "markdown",
      "metadata": {},
      "source": [
        "\n# Demonstration of the Factory classes for reliability problems\n"
      ]
    },
    {
      "cell_type": "markdown",
      "metadata": {},
      "source": [
        "In this example, we show how to use various classes which provide an easy way to create an algorithm\nto estimate a problem from a `ReliabilityBenchmarkProblem`.\nThis methods do not set the parameters of the algorithm and do not run it,\nso that we can set specific settings for a given problem.\n\n"
      ]
    },
    {
      "cell_type": "code",
      "execution_count": null,
      "metadata": {
        "collapsed": false
      },
      "outputs": [],
      "source": [
        "import openturns as ot\nimport numpy as np\nimport otbenchmark as otb"
      ]
    },
    {
      "cell_type": "markdown",
      "metadata": {},
      "source": [
        "We consider the RP8 problem.\n\n"
      ]
    },
    {
      "cell_type": "code",
      "execution_count": null,
      "metadata": {
        "collapsed": false
      },
      "outputs": [],
      "source": [
        "problem = otb.ReliabilityProblem8()"
      ]
    },
    {
      "cell_type": "markdown",
      "metadata": {},
      "source": [
        "## Create a Monte-Carlo algorithm\n\n"
      ]
    },
    {
      "cell_type": "markdown",
      "metadata": {},
      "source": [
        "The `buildMonteCarlo` method creates a `ProbabilitySimulationAlgorithm` based on MonteCarlo sampling.\nBefore running the algorithm, we set the number of outer iterations based on the `setMaximumOuterSampling` method.\nThis shows the main utility of the `Factory` classes.\n\n"
      ]
    },
    {
      "cell_type": "code",
      "execution_count": null,
      "metadata": {
        "collapsed": false
      },
      "outputs": [],
      "source": [
        "factory = otb.ProbabilitySimulationAlgorithmFactory()\nalgo = factory.buildMonteCarlo(problem)\nalgo.setMaximumOuterSampling(100000)\nalgo.run()\nresult = algo.getResult()\nresult.getProbabilityEstimate()"
      ]
    },
    {
      "cell_type": "markdown",
      "metadata": {},
      "source": [
        "## Create a FORM algorithm\n\n"
      ]
    },
    {
      "cell_type": "markdown",
      "metadata": {},
      "source": [
        "We use the `FORM` class applied to the `problem`.\n\n"
      ]
    },
    {
      "cell_type": "code",
      "execution_count": null,
      "metadata": {
        "collapsed": false
      },
      "outputs": [],
      "source": [
        "nearestPointAlgorithm = ot.AbdoRackwitz()\nalgo = otb.FORM(problem, nearestPointAlgorithm)"
      ]
    },
    {
      "cell_type": "markdown",
      "metadata": {},
      "source": [
        "The `FORM` object of the otbenchmark module implements a `FORM` object from the OpenTURNS library.\nHence, it has a `run` method. If specific setting is required, we can do it now, prior to the call to the `run` method.\n\n"
      ]
    },
    {
      "cell_type": "code",
      "execution_count": null,
      "metadata": {
        "collapsed": false
      },
      "outputs": [],
      "source": [
        "algo.run()"
      ]
    },
    {
      "cell_type": "code",
      "execution_count": null,
      "metadata": {
        "collapsed": false
      },
      "outputs": [],
      "source": [
        "result = algo.getResult()\nresult.getEventProbability()"
      ]
    },
    {
      "cell_type": "markdown",
      "metadata": {},
      "source": [
        "We can compare the previous estimate with the exact probability.\n\n"
      ]
    },
    {
      "cell_type": "code",
      "execution_count": null,
      "metadata": {
        "collapsed": false
      },
      "outputs": [],
      "source": [
        "problem.getProbability()"
      ]
    },
    {
      "cell_type": "markdown",
      "metadata": {},
      "source": [
        "## Create a SORM algorithm\n\n"
      ]
    },
    {
      "cell_type": "markdown",
      "metadata": {},
      "source": [
        "The `SORM` class creates a `SORM` object.\n\n"
      ]
    },
    {
      "cell_type": "code",
      "execution_count": null,
      "metadata": {
        "collapsed": false
      },
      "outputs": [],
      "source": [
        "nearestPointAlgorithm = ot.AbdoRackwitz()\nalgo = otb.SORM(problem, nearestPointAlgorithm)"
      ]
    },
    {
      "cell_type": "code",
      "execution_count": null,
      "metadata": {
        "collapsed": false
      },
      "outputs": [],
      "source": [
        "algo.run()"
      ]
    },
    {
      "cell_type": "code",
      "execution_count": null,
      "metadata": {
        "collapsed": false
      },
      "outputs": [],
      "source": [
        "result = algo.getResult()\nresult.getEventProbabilityBreitung()"
      ]
    },
    {
      "cell_type": "markdown",
      "metadata": {},
      "source": [
        "## Create a FORM-IS algorithm\n\n"
      ]
    },
    {
      "cell_type": "markdown",
      "metadata": {},
      "source": [
        "The `buildFORMIS` method of the `ProbabilitySimulationAlgorithmFactory` class creates\na `ProbabilitySimulationAlgorithm` object, based on the Importance Sampling method\nusing the FORM design point with gaussian importance distribution.\n\n"
      ]
    },
    {
      "cell_type": "code",
      "execution_count": null,
      "metadata": {
        "collapsed": false
      },
      "outputs": [],
      "source": [
        "factory = otb.ProbabilitySimulationAlgorithmFactory()\nnearestPointAlgorithm = ot.AbdoRackwitz()\nalgo = factory.buildFORMIS(problem, nearestPointAlgorithm)\nalgo.run()\nresult = algo.getResult()\nresult.getProbabilityEstimate()"
      ]
    },
    {
      "cell_type": "markdown",
      "metadata": {},
      "source": [
        "## Create a SubsetSampling algorithm\n\n"
      ]
    },
    {
      "cell_type": "code",
      "execution_count": null,
      "metadata": {
        "collapsed": false
      },
      "outputs": [],
      "source": [
        "algo = otb.SubsetSampling(problem)\nalgo.run()\nresult = algo.getResult()\nresult.getProbabilityEstimate()"
      ]
    },
    {
      "cell_type": "markdown",
      "metadata": {},
      "source": [
        "## Create a LHS algorithm\n\n"
      ]
    },
    {
      "cell_type": "code",
      "execution_count": null,
      "metadata": {
        "collapsed": false
      },
      "outputs": [],
      "source": [
        "algo = otb.LHS(problem)\nalgo.run()\nresult = algo.getResult()\nresult.getProbabilityEstimate()"
      ]
    }
  ],
  "metadata": {
    "kernelspec": {
      "display_name": "Python 3",
      "language": "python",
      "name": "python3"
    },
    "language_info": {
      "codemirror_mode": {
        "name": "ipython",
        "version": 3
      },
      "file_extension": ".py",
      "mimetype": "text/x-python",
      "name": "python",
      "nbconvert_exporter": "python",
      "pygments_lexer": "ipython3",
      "version": "3.9.20"
    }
  },
  "nbformat": 4,
  "nbformat_minor": 0
}